{
 "cells": [
  {
   "cell_type": "code",
   "execution_count": 16,
   "metadata": {},
   "outputs": [],
   "source": [
    "## Import packages\n",
    "import pandas as pd\n",
    "import numpy as np\n",
    "import plotly\n",
    "from sqlalchemy import create_engine\n",
    "import seaborn as sns\n",
    "import statsmodels.api as sm\n",
    "from sklearn.model_selection import train_test_split\n",
    "from sklearn.metrics import r2_score\n",
    "import lxml"
   ]
  },
  {
   "cell_type": "code",
   "execution_count": 17,
   "metadata": {
    "tags": []
   },
   "outputs": [],
   "source": [
    "engine = create_engine('sqlite:///%s' % '../data/coviddb')\n",
    "df = pd.read_sql_table('CovidData', engine)"
   ]
  },
  {
   "cell_type": "code",
   "execution_count": 18,
   "metadata": {},
   "outputs": [
    {
     "output_type": "execute_result",
     "data": {
      "text/plain": "(497, 34)"
     },
     "metadata": {},
     "execution_count": 18
    }
   ],
   "source": [
    "df.shape"
   ]
  },
  {
   "cell_type": "code",
   "execution_count": 19,
   "metadata": {},
   "outputs": [
    {
     "output_type": "execute_result",
     "data": {
      "text/plain": "   CityName  county_fips state_id  density  ACCESS2  ARTHRITIS  BINGE  BPHIGH  \\\n0   Abilene        48441       TX    441.0    22.60      24.30  17.60   31.10   \n1     Akron        39153       OH   1233.0    12.40      28.95  15.45   36.40   \n2   Alameda         6001       CA   2927.0     7.50      17.90  17.85   24.80   \n3  Berkeley         6001       CA   4509.0     7.40      16.55  19.20   22.70   \n4   Fremont         6001       CA   1171.0     7.65      15.15  16.75   22.85   \n\n   BPMED  CANCER  ...  MAMMOUSE  MHLTH  OBESITY  PAPTEST  PHLTH  SLEEP  \\\n0  68.00    5.90  ...     73.45  13.20    35.10    77.80  13.30  33.55   \n1  71.70    6.05  ...     73.10  15.55    36.10    79.55  15.15  43.15   \n2  63.00    5.85  ...     77.90   9.75    18.30    80.60   9.05  33.70   \n3  61.00    5.45  ...     79.85  10.50    19.55    82.25   8.60  32.35   \n4  61.85    5.00  ...     77.80   8.45    15.50    79.15   7.75  34.30   \n\n   STROKE  TEETHLOST       case1m     death1m  \n0    3.25      15.65  2648.300808   40.370439  \n1    4.15      21.55  1709.592780  207.080750  \n2    2.20       7.50  2110.346137   62.869091  \n3    2.10       6.75  2110.346137   62.869091  \n4    1.75       6.75  2110.346137   62.869091  \n\n[5 rows x 34 columns]",
      "text/html": "<div>\n<style scoped>\n    .dataframe tbody tr th:only-of-type {\n        vertical-align: middle;\n    }\n\n    .dataframe tbody tr th {\n        vertical-align: top;\n    }\n\n    .dataframe thead th {\n        text-align: right;\n    }\n</style>\n<table border=\"1\" class=\"dataframe\">\n  <thead>\n    <tr style=\"text-align: right;\">\n      <th></th>\n      <th>CityName</th>\n      <th>county_fips</th>\n      <th>state_id</th>\n      <th>density</th>\n      <th>ACCESS2</th>\n      <th>ARTHRITIS</th>\n      <th>BINGE</th>\n      <th>BPHIGH</th>\n      <th>BPMED</th>\n      <th>CANCER</th>\n      <th>...</th>\n      <th>MAMMOUSE</th>\n      <th>MHLTH</th>\n      <th>OBESITY</th>\n      <th>PAPTEST</th>\n      <th>PHLTH</th>\n      <th>SLEEP</th>\n      <th>STROKE</th>\n      <th>TEETHLOST</th>\n      <th>case1m</th>\n      <th>death1m</th>\n    </tr>\n  </thead>\n  <tbody>\n    <tr>\n      <th>0</th>\n      <td>Abilene</td>\n      <td>48441</td>\n      <td>TX</td>\n      <td>441.0</td>\n      <td>22.60</td>\n      <td>24.30</td>\n      <td>17.60</td>\n      <td>31.10</td>\n      <td>68.00</td>\n      <td>5.90</td>\n      <td>...</td>\n      <td>73.45</td>\n      <td>13.20</td>\n      <td>35.10</td>\n      <td>77.80</td>\n      <td>13.30</td>\n      <td>33.55</td>\n      <td>3.25</td>\n      <td>15.65</td>\n      <td>2648.300808</td>\n      <td>40.370439</td>\n    </tr>\n    <tr>\n      <th>1</th>\n      <td>Akron</td>\n      <td>39153</td>\n      <td>OH</td>\n      <td>1233.0</td>\n      <td>12.40</td>\n      <td>28.95</td>\n      <td>15.45</td>\n      <td>36.40</td>\n      <td>71.70</td>\n      <td>6.05</td>\n      <td>...</td>\n      <td>73.10</td>\n      <td>15.55</td>\n      <td>36.10</td>\n      <td>79.55</td>\n      <td>15.15</td>\n      <td>43.15</td>\n      <td>4.15</td>\n      <td>21.55</td>\n      <td>1709.592780</td>\n      <td>207.080750</td>\n    </tr>\n    <tr>\n      <th>2</th>\n      <td>Alameda</td>\n      <td>6001</td>\n      <td>CA</td>\n      <td>2927.0</td>\n      <td>7.50</td>\n      <td>17.90</td>\n      <td>17.85</td>\n      <td>24.80</td>\n      <td>63.00</td>\n      <td>5.85</td>\n      <td>...</td>\n      <td>77.90</td>\n      <td>9.75</td>\n      <td>18.30</td>\n      <td>80.60</td>\n      <td>9.05</td>\n      <td>33.70</td>\n      <td>2.20</td>\n      <td>7.50</td>\n      <td>2110.346137</td>\n      <td>62.869091</td>\n    </tr>\n    <tr>\n      <th>3</th>\n      <td>Berkeley</td>\n      <td>6001</td>\n      <td>CA</td>\n      <td>4509.0</td>\n      <td>7.40</td>\n      <td>16.55</td>\n      <td>19.20</td>\n      <td>22.70</td>\n      <td>61.00</td>\n      <td>5.45</td>\n      <td>...</td>\n      <td>79.85</td>\n      <td>10.50</td>\n      <td>19.55</td>\n      <td>82.25</td>\n      <td>8.60</td>\n      <td>32.35</td>\n      <td>2.10</td>\n      <td>6.75</td>\n      <td>2110.346137</td>\n      <td>62.869091</td>\n    </tr>\n    <tr>\n      <th>4</th>\n      <td>Fremont</td>\n      <td>6001</td>\n      <td>CA</td>\n      <td>1171.0</td>\n      <td>7.65</td>\n      <td>15.15</td>\n      <td>16.75</td>\n      <td>22.85</td>\n      <td>61.85</td>\n      <td>5.00</td>\n      <td>...</td>\n      <td>77.80</td>\n      <td>8.45</td>\n      <td>15.50</td>\n      <td>79.15</td>\n      <td>7.75</td>\n      <td>34.30</td>\n      <td>1.75</td>\n      <td>6.75</td>\n      <td>2110.346137</td>\n      <td>62.869091</td>\n    </tr>\n  </tbody>\n</table>\n<p>5 rows × 34 columns</p>\n</div>"
     },
     "metadata": {},
     "execution_count": 19
    }
   ],
   "source": [
    "df.head()"
   ]
  },
  {
   "cell_type": "code",
   "execution_count": 119,
   "metadata": {},
   "outputs": [],
   "source": [
    "cm = df.corr()[['death1m']][1:-2]"
   ]
  },
  {
   "cell_type": "code",
   "execution_count": 120,
   "metadata": {},
   "outputs": [
    {
     "output_type": "display_data",
     "data": {
      "application/vnd.plotly.v1+json": {
       "config": {
        "plotlyServerURL": "https://plot.ly"
       },
       "data": [
        {
         "alignmentgroup": "True",
         "hovertemplate": "x=%{x}<br>y=%{y}<extra></extra>",
         "legendgroup": "",
         "marker": {
          "color": "#636efa"
         },
         "name": "",
         "offsetgroup": "",
         "orientation": "v",
         "showlegend": false,
         "textposition": "auto",
         "type": "bar",
         "x": [
          "density",
          "ACCESS2",
          "ARTHRITIS",
          "BINGE",
          "BPHIGH",
          "BPMED",
          "CANCER",
          "CASTHMA",
          "CHD",
          "CHECKUP",
          "CHOLSCREEN",
          "COLON_SCREEN",
          "COPD",
          "COREM",
          "COREW",
          "CSMOKING",
          "DENTAL",
          "DIABETES",
          "HIGHCHOL",
          "KIDNEY",
          "LPA",
          "MAMMOUSE",
          "MHLTH",
          "OBESITY",
          "PAPTEST",
          "PHLTH",
          "SLEEP",
          "STROKE",
          "TEETHLOST"
         ],
         "xaxis": "x",
         "y": [
          0.3987707087353731,
          -0.013141918200196334,
          0.19251209605880593,
          -0.07335811287044161,
          0.1619214559235594,
          0.19352681249728756,
          -0.006053534876167577,
          0.2928014636221349,
          0.15868805772452582,
          0.3507699215003464,
          0.09402330952747863,
          -0.14908737535611116,
          0.17424143393985383,
          -0.22429131437658692,
          -0.2769341048159397,
          0.17612587573436297,
          -0.021335470939769424,
          0.13105950851809367,
          0.1181020759082574,
          0.13228585433413073,
          0.2646092431083515,
          0.118475964797685,
          0.16183764968636075,
          0.09291392948438071,
          0.04395426140581865,
          0.17563740833576497,
          0.285682320403468,
          0.1401004533327914,
          0.19687784440237807
         ],
         "yaxis": "y"
        }
       ],
       "layout": {
        "barmode": "relative",
        "legend": {
         "tracegroupgap": 0
        },
        "margin": {
         "t": 60
        },
        "template": {
         "data": {
          "bar": [
           {
            "error_x": {
             "color": "#2a3f5f"
            },
            "error_y": {
             "color": "#2a3f5f"
            },
            "marker": {
             "line": {
              "color": "#E5ECF6",
              "width": 0.5
             }
            },
            "type": "bar"
           }
          ],
          "barpolar": [
           {
            "marker": {
             "line": {
              "color": "#E5ECF6",
              "width": 0.5
             }
            },
            "type": "barpolar"
           }
          ],
          "carpet": [
           {
            "aaxis": {
             "endlinecolor": "#2a3f5f",
             "gridcolor": "white",
             "linecolor": "white",
             "minorgridcolor": "white",
             "startlinecolor": "#2a3f5f"
            },
            "baxis": {
             "endlinecolor": "#2a3f5f",
             "gridcolor": "white",
             "linecolor": "white",
             "minorgridcolor": "white",
             "startlinecolor": "#2a3f5f"
            },
            "type": "carpet"
           }
          ],
          "choropleth": [
           {
            "colorbar": {
             "outlinewidth": 0,
             "ticks": ""
            },
            "type": "choropleth"
           }
          ],
          "contour": [
           {
            "colorbar": {
             "outlinewidth": 0,
             "ticks": ""
            },
            "colorscale": [
             [
              0,
              "#0d0887"
             ],
             [
              0.1111111111111111,
              "#46039f"
             ],
             [
              0.2222222222222222,
              "#7201a8"
             ],
             [
              0.3333333333333333,
              "#9c179e"
             ],
             [
              0.4444444444444444,
              "#bd3786"
             ],
             [
              0.5555555555555556,
              "#d8576b"
             ],
             [
              0.6666666666666666,
              "#ed7953"
             ],
             [
              0.7777777777777778,
              "#fb9f3a"
             ],
             [
              0.8888888888888888,
              "#fdca26"
             ],
             [
              1,
              "#f0f921"
             ]
            ],
            "type": "contour"
           }
          ],
          "contourcarpet": [
           {
            "colorbar": {
             "outlinewidth": 0,
             "ticks": ""
            },
            "type": "contourcarpet"
           }
          ],
          "heatmap": [
           {
            "colorbar": {
             "outlinewidth": 0,
             "ticks": ""
            },
            "colorscale": [
             [
              0,
              "#0d0887"
             ],
             [
              0.1111111111111111,
              "#46039f"
             ],
             [
              0.2222222222222222,
              "#7201a8"
             ],
             [
              0.3333333333333333,
              "#9c179e"
             ],
             [
              0.4444444444444444,
              "#bd3786"
             ],
             [
              0.5555555555555556,
              "#d8576b"
             ],
             [
              0.6666666666666666,
              "#ed7953"
             ],
             [
              0.7777777777777778,
              "#fb9f3a"
             ],
             [
              0.8888888888888888,
              "#fdca26"
             ],
             [
              1,
              "#f0f921"
             ]
            ],
            "type": "heatmap"
           }
          ],
          "heatmapgl": [
           {
            "colorbar": {
             "outlinewidth": 0,
             "ticks": ""
            },
            "colorscale": [
             [
              0,
              "#0d0887"
             ],
             [
              0.1111111111111111,
              "#46039f"
             ],
             [
              0.2222222222222222,
              "#7201a8"
             ],
             [
              0.3333333333333333,
              "#9c179e"
             ],
             [
              0.4444444444444444,
              "#bd3786"
             ],
             [
              0.5555555555555556,
              "#d8576b"
             ],
             [
              0.6666666666666666,
              "#ed7953"
             ],
             [
              0.7777777777777778,
              "#fb9f3a"
             ],
             [
              0.8888888888888888,
              "#fdca26"
             ],
             [
              1,
              "#f0f921"
             ]
            ],
            "type": "heatmapgl"
           }
          ],
          "histogram": [
           {
            "marker": {
             "colorbar": {
              "outlinewidth": 0,
              "ticks": ""
             }
            },
            "type": "histogram"
           }
          ],
          "histogram2d": [
           {
            "colorbar": {
             "outlinewidth": 0,
             "ticks": ""
            },
            "colorscale": [
             [
              0,
              "#0d0887"
             ],
             [
              0.1111111111111111,
              "#46039f"
             ],
             [
              0.2222222222222222,
              "#7201a8"
             ],
             [
              0.3333333333333333,
              "#9c179e"
             ],
             [
              0.4444444444444444,
              "#bd3786"
             ],
             [
              0.5555555555555556,
              "#d8576b"
             ],
             [
              0.6666666666666666,
              "#ed7953"
             ],
             [
              0.7777777777777778,
              "#fb9f3a"
             ],
             [
              0.8888888888888888,
              "#fdca26"
             ],
             [
              1,
              "#f0f921"
             ]
            ],
            "type": "histogram2d"
           }
          ],
          "histogram2dcontour": [
           {
            "colorbar": {
             "outlinewidth": 0,
             "ticks": ""
            },
            "colorscale": [
             [
              0,
              "#0d0887"
             ],
             [
              0.1111111111111111,
              "#46039f"
             ],
             [
              0.2222222222222222,
              "#7201a8"
             ],
             [
              0.3333333333333333,
              "#9c179e"
             ],
             [
              0.4444444444444444,
              "#bd3786"
             ],
             [
              0.5555555555555556,
              "#d8576b"
             ],
             [
              0.6666666666666666,
              "#ed7953"
             ],
             [
              0.7777777777777778,
              "#fb9f3a"
             ],
             [
              0.8888888888888888,
              "#fdca26"
             ],
             [
              1,
              "#f0f921"
             ]
            ],
            "type": "histogram2dcontour"
           }
          ],
          "mesh3d": [
           {
            "colorbar": {
             "outlinewidth": 0,
             "ticks": ""
            },
            "type": "mesh3d"
           }
          ],
          "parcoords": [
           {
            "line": {
             "colorbar": {
              "outlinewidth": 0,
              "ticks": ""
             }
            },
            "type": "parcoords"
           }
          ],
          "pie": [
           {
            "automargin": true,
            "type": "pie"
           }
          ],
          "scatter": [
           {
            "marker": {
             "colorbar": {
              "outlinewidth": 0,
              "ticks": ""
             }
            },
            "type": "scatter"
           }
          ],
          "scatter3d": [
           {
            "line": {
             "colorbar": {
              "outlinewidth": 0,
              "ticks": ""
             }
            },
            "marker": {
             "colorbar": {
              "outlinewidth": 0,
              "ticks": ""
             }
            },
            "type": "scatter3d"
           }
          ],
          "scattercarpet": [
           {
            "marker": {
             "colorbar": {
              "outlinewidth": 0,
              "ticks": ""
             }
            },
            "type": "scattercarpet"
           }
          ],
          "scattergeo": [
           {
            "marker": {
             "colorbar": {
              "outlinewidth": 0,
              "ticks": ""
             }
            },
            "type": "scattergeo"
           }
          ],
          "scattergl": [
           {
            "marker": {
             "colorbar": {
              "outlinewidth": 0,
              "ticks": ""
             }
            },
            "type": "scattergl"
           }
          ],
          "scattermapbox": [
           {
            "marker": {
             "colorbar": {
              "outlinewidth": 0,
              "ticks": ""
             }
            },
            "type": "scattermapbox"
           }
          ],
          "scatterpolar": [
           {
            "marker": {
             "colorbar": {
              "outlinewidth": 0,
              "ticks": ""
             }
            },
            "type": "scatterpolar"
           }
          ],
          "scatterpolargl": [
           {
            "marker": {
             "colorbar": {
              "outlinewidth": 0,
              "ticks": ""
             }
            },
            "type": "scatterpolargl"
           }
          ],
          "scatterternary": [
           {
            "marker": {
             "colorbar": {
              "outlinewidth": 0,
              "ticks": ""
             }
            },
            "type": "scatterternary"
           }
          ],
          "surface": [
           {
            "colorbar": {
             "outlinewidth": 0,
             "ticks": ""
            },
            "colorscale": [
             [
              0,
              "#0d0887"
             ],
             [
              0.1111111111111111,
              "#46039f"
             ],
             [
              0.2222222222222222,
              "#7201a8"
             ],
             [
              0.3333333333333333,
              "#9c179e"
             ],
             [
              0.4444444444444444,
              "#bd3786"
             ],
             [
              0.5555555555555556,
              "#d8576b"
             ],
             [
              0.6666666666666666,
              "#ed7953"
             ],
             [
              0.7777777777777778,
              "#fb9f3a"
             ],
             [
              0.8888888888888888,
              "#fdca26"
             ],
             [
              1,
              "#f0f921"
             ]
            ],
            "type": "surface"
           }
          ],
          "table": [
           {
            "cells": {
             "fill": {
              "color": "#EBF0F8"
             },
             "line": {
              "color": "white"
             }
            },
            "header": {
             "fill": {
              "color": "#C8D4E3"
             },
             "line": {
              "color": "white"
             }
            },
            "type": "table"
           }
          ]
         },
         "layout": {
          "annotationdefaults": {
           "arrowcolor": "#2a3f5f",
           "arrowhead": 0,
           "arrowwidth": 1
          },
          "coloraxis": {
           "colorbar": {
            "outlinewidth": 0,
            "ticks": ""
           }
          },
          "colorscale": {
           "diverging": [
            [
             0,
             "#8e0152"
            ],
            [
             0.1,
             "#c51b7d"
            ],
            [
             0.2,
             "#de77ae"
            ],
            [
             0.3,
             "#f1b6da"
            ],
            [
             0.4,
             "#fde0ef"
            ],
            [
             0.5,
             "#f7f7f7"
            ],
            [
             0.6,
             "#e6f5d0"
            ],
            [
             0.7,
             "#b8e186"
            ],
            [
             0.8,
             "#7fbc41"
            ],
            [
             0.9,
             "#4d9221"
            ],
            [
             1,
             "#276419"
            ]
           ],
           "sequential": [
            [
             0,
             "#0d0887"
            ],
            [
             0.1111111111111111,
             "#46039f"
            ],
            [
             0.2222222222222222,
             "#7201a8"
            ],
            [
             0.3333333333333333,
             "#9c179e"
            ],
            [
             0.4444444444444444,
             "#bd3786"
            ],
            [
             0.5555555555555556,
             "#d8576b"
            ],
            [
             0.6666666666666666,
             "#ed7953"
            ],
            [
             0.7777777777777778,
             "#fb9f3a"
            ],
            [
             0.8888888888888888,
             "#fdca26"
            ],
            [
             1,
             "#f0f921"
            ]
           ],
           "sequentialminus": [
            [
             0,
             "#0d0887"
            ],
            [
             0.1111111111111111,
             "#46039f"
            ],
            [
             0.2222222222222222,
             "#7201a8"
            ],
            [
             0.3333333333333333,
             "#9c179e"
            ],
            [
             0.4444444444444444,
             "#bd3786"
            ],
            [
             0.5555555555555556,
             "#d8576b"
            ],
            [
             0.6666666666666666,
             "#ed7953"
            ],
            [
             0.7777777777777778,
             "#fb9f3a"
            ],
            [
             0.8888888888888888,
             "#fdca26"
            ],
            [
             1,
             "#f0f921"
            ]
           ]
          },
          "colorway": [
           "#636efa",
           "#EF553B",
           "#00cc96",
           "#ab63fa",
           "#FFA15A",
           "#19d3f3",
           "#FF6692",
           "#B6E880",
           "#FF97FF",
           "#FECB52"
          ],
          "font": {
           "color": "#2a3f5f"
          },
          "geo": {
           "bgcolor": "white",
           "lakecolor": "white",
           "landcolor": "#E5ECF6",
           "showlakes": true,
           "showland": true,
           "subunitcolor": "white"
          },
          "hoverlabel": {
           "align": "left"
          },
          "hovermode": "closest",
          "mapbox": {
           "style": "light"
          },
          "paper_bgcolor": "white",
          "plot_bgcolor": "#E5ECF6",
          "polar": {
           "angularaxis": {
            "gridcolor": "white",
            "linecolor": "white",
            "ticks": ""
           },
           "bgcolor": "#E5ECF6",
           "radialaxis": {
            "gridcolor": "white",
            "linecolor": "white",
            "ticks": ""
           }
          },
          "scene": {
           "xaxis": {
            "backgroundcolor": "#E5ECF6",
            "gridcolor": "white",
            "gridwidth": 2,
            "linecolor": "white",
            "showbackground": true,
            "ticks": "",
            "zerolinecolor": "white"
           },
           "yaxis": {
            "backgroundcolor": "#E5ECF6",
            "gridcolor": "white",
            "gridwidth": 2,
            "linecolor": "white",
            "showbackground": true,
            "ticks": "",
            "zerolinecolor": "white"
           },
           "zaxis": {
            "backgroundcolor": "#E5ECF6",
            "gridcolor": "white",
            "gridwidth": 2,
            "linecolor": "white",
            "showbackground": true,
            "ticks": "",
            "zerolinecolor": "white"
           }
          },
          "shapedefaults": {
           "line": {
            "color": "#2a3f5f"
           }
          },
          "ternary": {
           "aaxis": {
            "gridcolor": "white",
            "linecolor": "white",
            "ticks": ""
           },
           "baxis": {
            "gridcolor": "white",
            "linecolor": "white",
            "ticks": ""
           },
           "bgcolor": "#E5ECF6",
           "caxis": {
            "gridcolor": "white",
            "linecolor": "white",
            "ticks": ""
           }
          },
          "title": {
           "x": 0.05
          },
          "xaxis": {
           "automargin": true,
           "gridcolor": "white",
           "linecolor": "white",
           "ticks": "",
           "title": {
            "standoff": 15
           },
           "zerolinecolor": "white",
           "zerolinewidth": 2
          },
          "yaxis": {
           "automargin": true,
           "gridcolor": "white",
           "linecolor": "white",
           "ticks": "",
           "title": {
            "standoff": 15
           },
           "zerolinecolor": "white",
           "zerolinewidth": 2
          }
         }
        },
        "title": {
         "text": "Measure Correlations with death1m"
        },
        "xaxis": {
         "anchor": "y",
         "domain": [
          0,
          1
         ],
         "tickangle": -45,
         "title": {
          "text": "Measure"
         }
        },
        "yaxis": {
         "anchor": "x",
         "domain": [
          0,
          1
         ],
         "title": {
          "text": "Corr"
         }
        }
       }
      }
     },
     "metadata": {}
    }
   ],
   "source": [
    "import plotly.express as px\n",
    "fig = px.bar(x=cm.index, y=cm)\n",
    "fig.update_layout(xaxis_tickangle=-45,\\\n",
    "    title='Measure Correlations with death1m',\\\n",
    "        xaxis_title='Measure',\\\n",
    "            yaxis_title = 'Corr')\n",
    "fig.show()"
   ]
  },
  {
   "cell_type": "code",
   "execution_count": 125,
   "metadata": {},
   "outputs": [
    {
     "output_type": "execute_result",
     "data": {
      "text/plain": "       MeasureId  \\\n17  CANCER         \n10  ACCESS2        \n11  COLON_SCREEN   \n21  DENTAL         \n26  COREW          \n27  COREM          \n13  BINGE          \n\n                                                                                                                                                                                           Measure  \\\n17  Cancer (excluding skin cancer) among adults aged >=18 Years                                                                                                                                      \n10  Current lack of health insurance among adults aged 18–64 Years                                                                                                                                   \n11  Fecal occult blood test, sigmoidoscopy, or colonoscopy among adults aged 50–75 Years                                                                                                             \n21  Visits to dentist or dental clinic among adults aged >=18 Years                                                                                                                                  \n26  Older adult women aged >=65 Years who are up to date on a core set of clinical preventive services: Flu shot past Year, PPV shot ever, Colorectal cancer screening, and Mammogram past 2 Years   \n27  Older adult men aged >=65 Years who are up to date on a core set of clinical preventive services: Flu shot past Year, PPV shot ever, Colorectal cancer screening                                 \n13  Binge drinking among adults aged >=18 Years                                                                                                                                                      \n\n               Category  \n17  Health Outcomes      \n10  Prevention           \n11  Prevention           \n21  Prevention           \n26  Prevention           \n27  Prevention           \n13  Unhealthy Behaviors  ",
      "text/html": "<div>\n<style scoped>\n    .dataframe tbody tr th:only-of-type {\n        vertical-align: middle;\n    }\n\n    .dataframe tbody tr th {\n        vertical-align: top;\n    }\n\n    .dataframe thead th {\n        text-align: right;\n    }\n</style>\n<table border=\"1\" class=\"dataframe\">\n  <thead>\n    <tr style=\"text-align: right;\">\n      <th></th>\n      <th>MeasureId</th>\n      <th>Measure</th>\n      <th>Category</th>\n    </tr>\n  </thead>\n  <tbody>\n    <tr>\n      <th>17</th>\n      <td>CANCER</td>\n      <td>Cancer (excluding skin cancer) among adults aged &gt;=18 Years</td>\n      <td>Health Outcomes</td>\n    </tr>\n    <tr>\n      <th>10</th>\n      <td>ACCESS2</td>\n      <td>Current lack of health insurance among adults aged 18–64 Years</td>\n      <td>Prevention</td>\n    </tr>\n    <tr>\n      <th>11</th>\n      <td>COLON_SCREEN</td>\n      <td>Fecal occult blood test, sigmoidoscopy, or colonoscopy among adults aged 50–75 Years</td>\n      <td>Prevention</td>\n    </tr>\n    <tr>\n      <th>21</th>\n      <td>DENTAL</td>\n      <td>Visits to dentist or dental clinic among adults aged &gt;=18 Years</td>\n      <td>Prevention</td>\n    </tr>\n    <tr>\n      <th>26</th>\n      <td>COREW</td>\n      <td>Older adult women aged &gt;=65 Years who are up to date on a core set of clinical preventive services: Flu shot past Year, PPV shot ever, Colorectal cancer screening, and Mammogram past 2 Years</td>\n      <td>Prevention</td>\n    </tr>\n    <tr>\n      <th>27</th>\n      <td>COREM</td>\n      <td>Older adult men aged &gt;=65 Years who are up to date on a core set of clinical preventive services: Flu shot past Year, PPV shot ever, Colorectal cancer screening</td>\n      <td>Prevention</td>\n    </tr>\n    <tr>\n      <th>13</th>\n      <td>BINGE</td>\n      <td>Binge drinking among adults aged &gt;=18 Years</td>\n      <td>Unhealthy Behaviors</td>\n    </tr>\n  </tbody>\n</table>\n</div>"
     },
     "metadata": {},
     "execution_count": 125
    }
   ],
   "source": [
    "lookup.loc[lookup['MeasureId'].isin(cm.loc[cm['death1m'] < 0].index.tolist())][['MeasureId','Measure', 'Category']].sort_values(by = 'Category')"
   ]
  },
  {
   "cell_type": "code",
   "execution_count": 22,
   "metadata": {},
   "outputs": [
    {
     "output_type": "display_data",
     "data": {
      "text/plain": "<Figure size 864x1080 with 36 Axes>",
      "image/svg+xml": "<?xml version=\"1.0\" encoding=\"utf-8\" standalone=\"no\"?>\n<!DOCTYPE svg PUBLIC \"-//W3C//DTD SVG 1.1//EN\"\n  \"http://www.w3.org/Graphics/SVG/1.1/DTD/svg11.dtd\">\n<!-- Created with matplotlib (https://matplotlib.org/) -->\n<svg height=\"861.59625pt\" version=\"1.1\" viewBox=\"0 0 710.0875 861.59625\" width=\"710.0875pt\" xmlns=\"http://www.w3.org/2000/svg\" xmlns:xlink=\"http://www.w3.org/1999/xlink\">\n <defs>\n  <style type=\"text/css\">\n*{stroke-linecap:butt;stroke-linejoin:round;}\n  </style>\n </defs>\n <g id=\"figure_1\">\n  <g id=\"patch_1\">\n   <path d=\"M 0 861.59625 \nL 710.0875 861.59625 \nL 710.0875 0 \nL 0 0 \nz\n\" style=\"fill:none;\"/>\n  </g>\n  <g id=\"axes_1\">\n   <g id=\"patch_2\">\n    <path d=\"M 33.2875 131.038125 \nL 122.5675 131.038125 \nL 122.5675 22.318125 \nL 33.2875 22.318125 \nz\n\" style=\"fill:#ffffff;\"/>\n   </g>\n   <g id=\"patch_3\">\n    <path clip-path=\"url(#p4a1428c5d0)\" d=\"M 37.345682 131.038125 \nL 45.462045 131.038125 \nL 45.462045 100.412773 \nL 37.345682 100.412773 \nz\n\" style=\"fill:#1f77b4;\"/>\n   </g>\n   <g id=\"patch_4\">\n    <path clip-path=\"url(#p4a1428c5d0)\" d=\"M 45.462045 131.038125 \nL 53.578409 131.038125 \nL 53.578409 44.995469 \nL 45.462045 44.995469 \nz\n\" style=\"fill:#1f77b4;\"/>\n   </g>\n   <g id=\"patch_5\">\n    <path clip-path=\"url(#p4a1428c5d0)\" d=\"M 53.578409 131.038125 \nL 61.694773 131.038125 \nL 61.694773 27.495268 \nL 53.578409 27.495268 \nz\n\" style=\"fill:#1f77b4;\"/>\n   </g>\n   <g id=\"patch_6\">\n    <path clip-path=\"url(#p4a1428c5d0)\" d=\"M 61.694773 131.038125 \nL 69.811136 131.038125 \nL 69.811136 63.224845 \nL 61.694773 63.224845 \nz\n\" style=\"fill:#1f77b4;\"/>\n   </g>\n   <g id=\"patch_7\">\n    <path clip-path=\"url(#p4a1428c5d0)\" d=\"M 69.811136 131.038125 \nL 77.9275 131.038125 \nL 77.9275 90.933497 \nL 69.811136 90.933497 \nz\n\" style=\"fill:#1f77b4;\"/>\n   </g>\n   <g id=\"patch_8\">\n    <path clip-path=\"url(#p4a1428c5d0)\" d=\"M 77.9275 131.038125 \nL 86.043864 131.038125 \nL 86.043864 111.350399 \nL 77.9275 111.350399 \nz\n\" style=\"fill:#1f77b4;\"/>\n   </g>\n   <g id=\"patch_9\">\n    <path clip-path=\"url(#p4a1428c5d0)\" d=\"M 86.043864 131.038125 \nL 94.160227 131.038125 \nL 94.160227 123.746374 \nL 86.043864 123.746374 \nz\n\" style=\"fill:#1f77b4;\"/>\n   </g>\n   <g id=\"patch_10\">\n    <path clip-path=\"url(#p4a1428c5d0)\" d=\"M 94.160227 131.038125 \nL 102.276591 131.038125 \nL 102.276591 128.8506 \nL 94.160227 128.8506 \nz\n\" style=\"fill:#1f77b4;\"/>\n   </g>\n   <g id=\"patch_11\">\n    <path clip-path=\"url(#p4a1428c5d0)\" d=\"M 102.276591 131.038125 \nL 110.392955 131.038125 \nL 110.392955 128.8506 \nL 102.276591 128.8506 \nz\n\" style=\"fill:#1f77b4;\"/>\n   </g>\n   <g id=\"patch_12\">\n    <path clip-path=\"url(#p4a1428c5d0)\" d=\"M 110.392955 131.038125 \nL 118.509318 131.038125 \nL 118.509318 128.121425 \nL 110.392955 128.121425 \nz\n\" style=\"fill:#1f77b4;\"/>\n   </g>\n   <g id=\"matplotlib.axis_1\">\n    <g id=\"xtick_1\">\n     <g id=\"line2d_1\">\n      <path clip-path=\"url(#p4a1428c5d0)\" d=\"M 69.811136 131.038125 \nL 69.811136 22.318125 \n\" style=\"fill:none;stroke:#b0b0b0;stroke-linecap:square;stroke-width:0.8;\"/>\n     </g>\n     <g id=\"line2d_2\">\n      <defs>\n       <path d=\"M 0 0 \nL 0 3.5 \n\" id=\"m1efa2ccf88\" style=\"stroke:#000000;stroke-width:0.8;\"/>\n      </defs>\n      <g>\n       <use style=\"stroke:#000000;stroke-width:0.8;\" x=\"69.811136\" xlink:href=\"#m1efa2ccf88\" y=\"131.038125\"/>\n      </g>\n     </g>\n     <g id=\"text_1\">\n      <!-- 20 -->\n      <defs>\n       <path d=\"M 19.1875 8.296875 \nL 53.609375 8.296875 \nL 53.609375 0 \nL 7.328125 0 \nL 7.328125 8.296875 \nQ 12.9375 14.109375 22.625 23.890625 \nQ 32.328125 33.6875 34.8125 36.53125 \nQ 39.546875 41.84375 41.421875 45.53125 \nQ 43.3125 49.21875 43.3125 52.78125 \nQ 43.3125 58.59375 39.234375 62.25 \nQ 35.15625 65.921875 28.609375 65.921875 \nQ 23.96875 65.921875 18.8125 64.3125 \nQ 13.671875 62.703125 7.8125 59.421875 \nL 7.8125 69.390625 \nQ 13.765625 71.78125 18.9375 73 \nQ 24.125 74.21875 28.421875 74.21875 \nQ 39.75 74.21875 46.484375 68.546875 \nQ 53.21875 62.890625 53.21875 53.421875 \nQ 53.21875 48.921875 51.53125 44.890625 \nQ 49.859375 40.875 45.40625 35.40625 \nQ 44.1875 33.984375 37.640625 27.21875 \nQ 31.109375 20.453125 19.1875 8.296875 \nz\n\" id=\"DejaVuSans-50\"/>\n       <path d=\"M 31.78125 66.40625 \nQ 24.171875 66.40625 20.328125 58.90625 \nQ 16.5 51.421875 16.5 36.375 \nQ 16.5 21.390625 20.328125 13.890625 \nQ 24.171875 6.390625 31.78125 6.390625 \nQ 39.453125 6.390625 43.28125 13.890625 \nQ 47.125 21.390625 47.125 36.375 \nQ 47.125 51.421875 43.28125 58.90625 \nQ 39.453125 66.40625 31.78125 66.40625 \nz\nM 31.78125 74.21875 \nQ 44.046875 74.21875 50.515625 64.515625 \nQ 56.984375 54.828125 56.984375 36.375 \nQ 56.984375 17.96875 50.515625 8.265625 \nQ 44.046875 -1.421875 31.78125 -1.421875 \nQ 19.53125 -1.421875 13.0625 8.265625 \nQ 6.59375 17.96875 6.59375 36.375 \nQ 6.59375 54.828125 13.0625 64.515625 \nQ 19.53125 74.21875 31.78125 74.21875 \nz\n\" id=\"DejaVuSans-48\"/>\n      </defs>\n      <g transform=\"translate(63.448636 145.636562)scale(0.1 -0.1)\">\n       <use xlink:href=\"#DejaVuSans-50\"/>\n       <use x=\"63.623047\" xlink:href=\"#DejaVuSans-48\"/>\n      </g>\n     </g>\n    </g>\n    <g id=\"xtick_2\">\n     <g id=\"line2d_3\">\n      <path clip-path=\"url(#p4a1428c5d0)\" d=\"M 111.168403 131.038125 \nL 111.168403 22.318125 \n\" style=\"fill:none;stroke:#b0b0b0;stroke-linecap:square;stroke-width:0.8;\"/>\n     </g>\n     <g id=\"line2d_4\">\n      <g>\n       <use style=\"stroke:#000000;stroke-width:0.8;\" x=\"111.168403\" xlink:href=\"#m1efa2ccf88\" y=\"131.038125\"/>\n      </g>\n     </g>\n     <g id=\"text_2\">\n      <!-- 40 -->\n      <defs>\n       <path d=\"M 37.796875 64.3125 \nL 12.890625 25.390625 \nL 37.796875 25.390625 \nz\nM 35.203125 72.90625 \nL 47.609375 72.90625 \nL 47.609375 25.390625 \nL 58.015625 25.390625 \nL 58.015625 17.1875 \nL 47.609375 17.1875 \nL 47.609375 0 \nL 37.796875 0 \nL 37.796875 17.1875 \nL 4.890625 17.1875 \nL 4.890625 26.703125 \nz\n\" id=\"DejaVuSans-52\"/>\n      </defs>\n      <g transform=\"translate(104.805903 145.636562)scale(0.1 -0.1)\">\n       <use xlink:href=\"#DejaVuSans-52\"/>\n       <use x=\"63.623047\" xlink:href=\"#DejaVuSans-48\"/>\n      </g>\n     </g>\n    </g>\n   </g>\n   <g id=\"matplotlib.axis_2\">\n    <g id=\"ytick_1\">\n     <g id=\"line2d_5\">\n      <path clip-path=\"url(#p4a1428c5d0)\" d=\"M 33.2875 131.038125 \nL 122.5675 131.038125 \n\" style=\"fill:none;stroke:#b0b0b0;stroke-linecap:square;stroke-width:0.8;\"/>\n     </g>\n     <g id=\"line2d_6\">\n      <defs>\n       <path d=\"M 0 0 \nL -3.5 0 \n\" id=\"m88d07c3e7f\" style=\"stroke:#000000;stroke-width:0.8;\"/>\n      </defs>\n      <g>\n       <use style=\"stroke:#000000;stroke-width:0.8;\" x=\"33.2875\" xlink:href=\"#m88d07c3e7f\" y=\"131.038125\"/>\n      </g>\n     </g>\n     <g id=\"text_3\">\n      <!-- 0 -->\n      <g transform=\"translate(19.925 134.837344)scale(0.1 -0.1)\">\n       <use xlink:href=\"#DejaVuSans-48\"/>\n      </g>\n     </g>\n    </g>\n    <g id=\"ytick_2\">\n     <g id=\"line2d_7\">\n      <path clip-path=\"url(#p4a1428c5d0)\" d=\"M 33.2875 94.579372 \nL 122.5675 94.579372 \n\" style=\"fill:none;stroke:#b0b0b0;stroke-linecap:square;stroke-width:0.8;\"/>\n     </g>\n     <g id=\"line2d_8\">\n      <g>\n       <use style=\"stroke:#000000;stroke-width:0.8;\" x=\"33.2875\" xlink:href=\"#m88d07c3e7f\" y=\"94.579372\"/>\n      </g>\n     </g>\n     <g id=\"text_4\">\n      <!-- 50 -->\n      <defs>\n       <path d=\"M 10.796875 72.90625 \nL 49.515625 72.90625 \nL 49.515625 64.59375 \nL 19.828125 64.59375 \nL 19.828125 46.734375 \nQ 21.96875 47.46875 24.109375 47.828125 \nQ 26.265625 48.1875 28.421875 48.1875 \nQ 40.625 48.1875 47.75 41.5 \nQ 54.890625 34.8125 54.890625 23.390625 \nQ 54.890625 11.625 47.5625 5.09375 \nQ 40.234375 -1.421875 26.90625 -1.421875 \nQ 22.3125 -1.421875 17.546875 -0.640625 \nQ 12.796875 0.140625 7.71875 1.703125 \nL 7.71875 11.625 \nQ 12.109375 9.234375 16.796875 8.0625 \nQ 21.484375 6.890625 26.703125 6.890625 \nQ 35.15625 6.890625 40.078125 11.328125 \nQ 45.015625 15.765625 45.015625 23.390625 \nQ 45.015625 31 40.078125 35.4375 \nQ 35.15625 39.890625 26.703125 39.890625 \nQ 22.75 39.890625 18.8125 39.015625 \nQ 14.890625 38.140625 10.796875 36.28125 \nz\n\" id=\"DejaVuSans-53\"/>\n      </defs>\n      <g transform=\"translate(13.5625 98.378591)scale(0.1 -0.1)\">\n       <use xlink:href=\"#DejaVuSans-53\"/>\n       <use x=\"63.623047\" xlink:href=\"#DejaVuSans-48\"/>\n      </g>\n     </g>\n    </g>\n    <g id=\"ytick_3\">\n     <g id=\"line2d_9\">\n      <path clip-path=\"url(#p4a1428c5d0)\" d=\"M 33.2875 58.12062 \nL 122.5675 58.12062 \n\" style=\"fill:none;stroke:#b0b0b0;stroke-linecap:square;stroke-width:0.8;\"/>\n     </g>\n     <g id=\"line2d_10\">\n      <g>\n       <use style=\"stroke:#000000;stroke-width:0.8;\" x=\"33.2875\" xlink:href=\"#m88d07c3e7f\" y=\"58.12062\"/>\n      </g>\n     </g>\n     <g id=\"text_5\">\n      <!-- 100 -->\n      <defs>\n       <path d=\"M 12.40625 8.296875 \nL 28.515625 8.296875 \nL 28.515625 63.921875 \nL 10.984375 60.40625 \nL 10.984375 69.390625 \nL 28.421875 72.90625 \nL 38.28125 72.90625 \nL 38.28125 8.296875 \nL 54.390625 8.296875 \nL 54.390625 0 \nL 12.40625 0 \nz\n\" id=\"DejaVuSans-49\"/>\n      </defs>\n      <g transform=\"translate(7.2 61.919839)scale(0.1 -0.1)\">\n       <use xlink:href=\"#DejaVuSans-49\"/>\n       <use x=\"63.623047\" xlink:href=\"#DejaVuSans-48\"/>\n       <use x=\"127.246094\" xlink:href=\"#DejaVuSans-48\"/>\n      </g>\n     </g>\n    </g>\n   </g>\n   <g id=\"patch_13\">\n    <path d=\"M 33.2875 131.038125 \nL 33.2875 22.318125 \n\" style=\"fill:none;stroke:#000000;stroke-linecap:square;stroke-linejoin:miter;stroke-width:0.8;\"/>\n   </g>\n   <g id=\"patch_14\">\n    <path d=\"M 122.5675 131.038125 \nL 122.5675 22.318125 \n\" style=\"fill:none;stroke:#000000;stroke-linecap:square;stroke-linejoin:miter;stroke-width:0.8;\"/>\n   </g>\n   <g id=\"patch_15\">\n    <path d=\"M 33.2875 131.038125 \nL 122.5675 131.038125 \n\" style=\"fill:none;stroke:#000000;stroke-linecap:square;stroke-linejoin:miter;stroke-width:0.8;\"/>\n   </g>\n   <g id=\"patch_16\">\n    <path d=\"M 33.2875 22.318125 \nL 122.5675 22.318125 \n\" style=\"fill:none;stroke:#000000;stroke-linecap:square;stroke-linejoin:miter;stroke-width:0.8;\"/>\n   </g>\n   <g id=\"text_6\">\n    <!-- ACCESS2 -->\n    <defs>\n     <path d=\"M 34.1875 63.1875 \nL 20.796875 26.90625 \nL 47.609375 26.90625 \nz\nM 28.609375 72.90625 \nL 39.796875 72.90625 \nL 67.578125 0 \nL 57.328125 0 \nL 50.6875 18.703125 \nL 17.828125 18.703125 \nL 11.1875 0 \nL 0.78125 0 \nz\n\" id=\"DejaVuSans-65\"/>\n     <path d=\"M 64.40625 67.28125 \nL 64.40625 56.890625 \nQ 59.421875 61.53125 53.78125 63.8125 \nQ 48.140625 66.109375 41.796875 66.109375 \nQ 29.296875 66.109375 22.65625 58.46875 \nQ 16.015625 50.828125 16.015625 36.375 \nQ 16.015625 21.96875 22.65625 14.328125 \nQ 29.296875 6.6875 41.796875 6.6875 \nQ 48.140625 6.6875 53.78125 8.984375 \nQ 59.421875 11.28125 64.40625 15.921875 \nL 64.40625 5.609375 \nQ 59.234375 2.09375 53.4375 0.328125 \nQ 47.65625 -1.421875 41.21875 -1.421875 \nQ 24.65625 -1.421875 15.125 8.703125 \nQ 5.609375 18.84375 5.609375 36.375 \nQ 5.609375 53.953125 15.125 64.078125 \nQ 24.65625 74.21875 41.21875 74.21875 \nQ 47.75 74.21875 53.53125 72.484375 \nQ 59.328125 70.75 64.40625 67.28125 \nz\n\" id=\"DejaVuSans-67\"/>\n     <path d=\"M 9.8125 72.90625 \nL 55.90625 72.90625 \nL 55.90625 64.59375 \nL 19.671875 64.59375 \nL 19.671875 43.015625 \nL 54.390625 43.015625 \nL 54.390625 34.71875 \nL 19.671875 34.71875 \nL 19.671875 8.296875 \nL 56.78125 8.296875 \nL 56.78125 0 \nL 9.8125 0 \nz\n\" id=\"DejaVuSans-69\"/>\n     <path d=\"M 53.515625 70.515625 \nL 53.515625 60.890625 \nQ 47.90625 63.578125 42.921875 64.890625 \nQ 37.9375 66.21875 33.296875 66.21875 \nQ 25.25 66.21875 20.875 63.09375 \nQ 16.5 59.96875 16.5 54.203125 \nQ 16.5 49.359375 19.40625 46.890625 \nQ 22.3125 44.4375 30.421875 42.921875 \nL 36.375 41.703125 \nQ 47.40625 39.59375 52.65625 34.296875 \nQ 57.90625 29 57.90625 20.125 \nQ 57.90625 9.515625 50.796875 4.046875 \nQ 43.703125 -1.421875 29.984375 -1.421875 \nQ 24.8125 -1.421875 18.96875 -0.25 \nQ 13.140625 0.921875 6.890625 3.21875 \nL 6.890625 13.375 \nQ 12.890625 10.015625 18.65625 8.296875 \nQ 24.421875 6.59375 29.984375 6.59375 \nQ 38.421875 6.59375 43.015625 9.90625 \nQ 47.609375 13.234375 47.609375 19.390625 \nQ 47.609375 24.75 44.3125 27.78125 \nQ 41.015625 30.8125 33.5 32.328125 \nL 27.484375 33.5 \nQ 16.453125 35.6875 11.515625 40.375 \nQ 6.59375 45.0625 6.59375 53.421875 \nQ 6.59375 63.09375 13.40625 68.65625 \nQ 20.21875 74.21875 32.171875 74.21875 \nQ 37.3125 74.21875 42.625 73.28125 \nQ 47.953125 72.359375 53.515625 70.515625 \nz\n\" id=\"DejaVuSans-83\"/>\n    </defs>\n    <g transform=\"translate(50.321875 16.318125)scale(0.12 -0.12)\">\n     <use xlink:href=\"#DejaVuSans-65\"/>\n     <use x=\"66.658203\" xlink:href=\"#DejaVuSans-67\"/>\n     <use x=\"136.482422\" xlink:href=\"#DejaVuSans-67\"/>\n     <use x=\"206.306641\" xlink:href=\"#DejaVuSans-69\"/>\n     <use x=\"269.490234\" xlink:href=\"#DejaVuSans-83\"/>\n     <use x=\"332.966797\" xlink:href=\"#DejaVuSans-83\"/>\n     <use x=\"396.443359\" xlink:href=\"#DejaVuSans-50\"/>\n    </g>\n   </g>\n  </g>\n  <g id=\"axes_2\">\n   <g id=\"patch_17\">\n    <path d=\"M 149.3515 131.038125 \nL 238.6315 131.038125 \nL 238.6315 22.318125 \nL 149.3515 22.318125 \nz\n\" style=\"fill:#ffffff;\"/>\n   </g>\n   <g id=\"patch_18\">\n    <path clip-path=\"url(#pcd9eeeef96)\" d=\"M 153.409682 131.038125 \nL 161.526045 131.038125 \nL 161.526045 121.431056 \nL 153.409682 121.431056 \nz\n\" style=\"fill:#1f77b4;\"/>\n   </g>\n   <g id=\"patch_19\">\n    <path clip-path=\"url(#pcd9eeeef96)\" d=\"M 161.526045 131.038125 \nL 169.642409 131.038125 \nL 169.642409 86.205135 \nL 161.526045 86.205135 \nz\n\" style=\"fill:#1f77b4;\"/>\n   </g>\n   <g id=\"patch_20\">\n    <path clip-path=\"url(#pcd9eeeef96)\" d=\"M 169.642409 131.038125 \nL 177.758773 131.038125 \nL 177.758773 27.495268 \nL 169.642409 27.495268 \nz\n\" style=\"fill:#1f77b4;\"/>\n   </g>\n   <g id=\"patch_21\">\n    <path clip-path=\"url(#pcd9eeeef96)\" d=\"M 177.758773 131.038125 \nL 185.875136 131.038125 \nL 185.875136 27.495268 \nL 177.758773 27.495268 \nz\n\" style=\"fill:#1f77b4;\"/>\n   </g>\n   <g id=\"patch_22\">\n    <path clip-path=\"url(#pcd9eeeef96)\" d=\"M 185.875136 131.038125 \nL 193.9915 131.038125 \nL 193.9915 45.641954 \nL 185.875136 45.641954 \nz\n\" style=\"fill:#1f77b4;\"/>\n   </g>\n   <g id=\"patch_23\">\n    <path clip-path=\"url(#pcd9eeeef96)\" d=\"M 193.9915 131.038125 \nL 202.107864 131.038125 \nL 202.107864 44.574502 \nL 193.9915 44.574502 \nz\n\" style=\"fill:#1f77b4;\"/>\n   </g>\n   <g id=\"patch_24\">\n    <path clip-path=\"url(#pcd9eeeef96)\" d=\"M 202.107864 131.038125 \nL 210.224227 131.038125 \nL 210.224227 77.665518 \nL 202.107864 77.665518 \nz\n\" style=\"fill:#1f77b4;\"/>\n   </g>\n   <g id=\"patch_25\">\n    <path clip-path=\"url(#pcd9eeeef96)\" d=\"M 210.224227 131.038125 \nL 218.340591 131.038125 \nL 218.340591 102.216917 \nL 210.224227 102.216917 \nz\n\" style=\"fill:#1f77b4;\"/>\n   </g>\n   <g id=\"patch_26\">\n    <path clip-path=\"url(#pcd9eeeef96)\" d=\"M 218.340591 131.038125 \nL 226.456955 131.038125 \nL 226.456955 120.363604 \nL 218.340591 120.363604 \nz\n\" style=\"fill:#1f77b4;\"/>\n   </g>\n   <g id=\"patch_27\">\n    <path clip-path=\"url(#pcd9eeeef96)\" d=\"M 226.456955 131.038125 \nL 234.573318 131.038125 \nL 234.573318 126.768316 \nL 226.456955 126.768316 \nz\n\" style=\"fill:#1f77b4;\"/>\n   </g>\n   <g id=\"matplotlib.axis_3\">\n    <g id=\"xtick_3\">\n     <g id=\"line2d_11\">\n      <path clip-path=\"url(#pcd9eeeef96)\" d=\"M 178.2793 131.038125 \nL 178.2793 22.318125 \n\" style=\"fill:none;stroke:#b0b0b0;stroke-linecap:square;stroke-width:0.8;\"/>\n     </g>\n     <g id=\"line2d_12\">\n      <g>\n       <use style=\"stroke:#000000;stroke-width:0.8;\" x=\"178.2793\" xlink:href=\"#m1efa2ccf88\" y=\"131.038125\"/>\n      </g>\n     </g>\n     <g id=\"text_7\">\n      <!-- 20 -->\n      <g transform=\"translate(171.9168 145.636562)scale(0.1 -0.1)\">\n       <use xlink:href=\"#DejaVuSans-50\"/>\n       <use x=\"63.623047\" xlink:href=\"#DejaVuSans-48\"/>\n      </g>\n     </g>\n    </g>\n    <g id=\"xtick_4\">\n     <g id=\"line2d_13\">\n      <path clip-path=\"url(#pcd9eeeef96)\" d=\"M 216.836847 131.038125 \nL 216.836847 22.318125 \n\" style=\"fill:none;stroke:#b0b0b0;stroke-linecap:square;stroke-width:0.8;\"/>\n     </g>\n     <g id=\"line2d_14\">\n      <g>\n       <use style=\"stroke:#000000;stroke-width:0.8;\" x=\"216.836847\" xlink:href=\"#m1efa2ccf88\" y=\"131.038125\"/>\n      </g>\n     </g>\n     <g id=\"text_8\">\n      <!-- 30 -->\n      <defs>\n       <path d=\"M 40.578125 39.3125 \nQ 47.65625 37.796875 51.625 33 \nQ 55.609375 28.21875 55.609375 21.1875 \nQ 55.609375 10.40625 48.1875 4.484375 \nQ 40.765625 -1.421875 27.09375 -1.421875 \nQ 22.515625 -1.421875 17.65625 -0.515625 \nQ 12.796875 0.390625 7.625 2.203125 \nL 7.625 11.71875 \nQ 11.71875 9.328125 16.59375 8.109375 \nQ 21.484375 6.890625 26.8125 6.890625 \nQ 36.078125 6.890625 40.9375 10.546875 \nQ 45.796875 14.203125 45.796875 21.1875 \nQ 45.796875 27.640625 41.28125 31.265625 \nQ 36.765625 34.90625 28.71875 34.90625 \nL 20.21875 34.90625 \nL 20.21875 43.015625 \nL 29.109375 43.015625 \nQ 36.375 43.015625 40.234375 45.921875 \nQ 44.09375 48.828125 44.09375 54.296875 \nQ 44.09375 59.90625 40.109375 62.90625 \nQ 36.140625 65.921875 28.71875 65.921875 \nQ 24.65625 65.921875 20.015625 65.03125 \nQ 15.375 64.15625 9.8125 62.3125 \nL 9.8125 71.09375 \nQ 15.4375 72.65625 20.34375 73.4375 \nQ 25.25 74.21875 29.59375 74.21875 \nQ 40.828125 74.21875 47.359375 69.109375 \nQ 53.90625 64.015625 53.90625 55.328125 \nQ 53.90625 49.265625 50.4375 45.09375 \nQ 46.96875 40.921875 40.578125 39.3125 \nz\n\" id=\"DejaVuSans-51\"/>\n      </defs>\n      <g transform=\"translate(210.474347 145.636562)scale(0.1 -0.1)\">\n       <use xlink:href=\"#DejaVuSans-51\"/>\n       <use x=\"63.623047\" xlink:href=\"#DejaVuSans-48\"/>\n      </g>\n     </g>\n    </g>\n   </g>\n   <g id=\"matplotlib.axis_4\">\n    <g id=\"ytick_4\">\n     <g id=\"line2d_15\">\n      <path clip-path=\"url(#pcd9eeeef96)\" d=\"M 149.3515 131.038125 \nL 238.6315 131.038125 \n\" style=\"fill:none;stroke:#b0b0b0;stroke-linecap:square;stroke-width:0.8;\"/>\n     </g>\n     <g id=\"line2d_16\">\n      <g>\n       <use style=\"stroke:#000000;stroke-width:0.8;\" x=\"149.3515\" xlink:href=\"#m88d07c3e7f\" y=\"131.038125\"/>\n      </g>\n     </g>\n     <g id=\"text_9\">\n      <!-- 0 -->\n      <g transform=\"translate(135.989 134.837344)scale(0.1 -0.1)\">\n       <use xlink:href=\"#DejaVuSans-48\"/>\n      </g>\n     </g>\n    </g>\n    <g id=\"ytick_5\">\n     <g id=\"line2d_17\">\n      <path clip-path=\"url(#pcd9eeeef96)\" d=\"M 149.3515 104.351822 \nL 238.6315 104.351822 \n\" style=\"fill:none;stroke:#b0b0b0;stroke-linecap:square;stroke-width:0.8;\"/>\n     </g>\n     <g id=\"line2d_18\">\n      <g>\n       <use style=\"stroke:#000000;stroke-width:0.8;\" x=\"149.3515\" xlink:href=\"#m88d07c3e7f\" y=\"104.351822\"/>\n      </g>\n     </g>\n     <g id=\"text_10\">\n      <!-- 25 -->\n      <g transform=\"translate(129.6265 108.15104)scale(0.1 -0.1)\">\n       <use xlink:href=\"#DejaVuSans-50\"/>\n       <use x=\"63.623047\" xlink:href=\"#DejaVuSans-53\"/>\n      </g>\n     </g>\n    </g>\n    <g id=\"ytick_6\">\n     <g id=\"line2d_19\">\n      <path clip-path=\"url(#pcd9eeeef96)\" d=\"M 149.3515 77.665518 \nL 238.6315 77.665518 \n\" style=\"fill:none;stroke:#b0b0b0;stroke-linecap:square;stroke-width:0.8;\"/>\n     </g>\n     <g id=\"line2d_20\">\n      <g>\n       <use style=\"stroke:#000000;stroke-width:0.8;\" x=\"149.3515\" xlink:href=\"#m88d07c3e7f\" y=\"77.665518\"/>\n      </g>\n     </g>\n     <g id=\"text_11\">\n      <!-- 50 -->\n      <g transform=\"translate(129.6265 81.464737)scale(0.1 -0.1)\">\n       <use xlink:href=\"#DejaVuSans-53\"/>\n       <use x=\"63.623047\" xlink:href=\"#DejaVuSans-48\"/>\n      </g>\n     </g>\n    </g>\n    <g id=\"ytick_7\">\n     <g id=\"line2d_21\">\n      <path clip-path=\"url(#pcd9eeeef96)\" d=\"M 149.3515 50.979215 \nL 238.6315 50.979215 \n\" style=\"fill:none;stroke:#b0b0b0;stroke-linecap:square;stroke-width:0.8;\"/>\n     </g>\n     <g id=\"line2d_22\">\n      <g>\n       <use style=\"stroke:#000000;stroke-width:0.8;\" x=\"149.3515\" xlink:href=\"#m88d07c3e7f\" y=\"50.979215\"/>\n      </g>\n     </g>\n     <g id=\"text_12\">\n      <!-- 75 -->\n      <defs>\n       <path d=\"M 8.203125 72.90625 \nL 55.078125 72.90625 \nL 55.078125 68.703125 \nL 28.609375 0 \nL 18.3125 0 \nL 43.21875 64.59375 \nL 8.203125 64.59375 \nz\n\" id=\"DejaVuSans-55\"/>\n      </defs>\n      <g transform=\"translate(129.6265 54.778434)scale(0.1 -0.1)\">\n       <use xlink:href=\"#DejaVuSans-55\"/>\n       <use x=\"63.623047\" xlink:href=\"#DejaVuSans-53\"/>\n      </g>\n     </g>\n    </g>\n    <g id=\"ytick_8\">\n     <g id=\"line2d_23\">\n      <path clip-path=\"url(#pcd9eeeef96)\" d=\"M 149.3515 24.292911 \nL 238.6315 24.292911 \n\" style=\"fill:none;stroke:#b0b0b0;stroke-linecap:square;stroke-width:0.8;\"/>\n     </g>\n     <g id=\"line2d_24\">\n      <g>\n       <use style=\"stroke:#000000;stroke-width:0.8;\" x=\"149.3515\" xlink:href=\"#m88d07c3e7f\" y=\"24.292911\"/>\n      </g>\n     </g>\n     <g id=\"text_13\">\n      <!-- 100 -->\n      <g transform=\"translate(123.264 28.09213)scale(0.1 -0.1)\">\n       <use xlink:href=\"#DejaVuSans-49\"/>\n       <use x=\"63.623047\" xlink:href=\"#DejaVuSans-48\"/>\n       <use x=\"127.246094\" xlink:href=\"#DejaVuSans-48\"/>\n      </g>\n     </g>\n    </g>\n   </g>\n   <g id=\"patch_28\">\n    <path d=\"M 149.3515 131.038125 \nL 149.3515 22.318125 \n\" style=\"fill:none;stroke:#000000;stroke-linecap:square;stroke-linejoin:miter;stroke-width:0.8;\"/>\n   </g>\n   <g id=\"patch_29\">\n    <path d=\"M 238.6315 131.038125 \nL 238.6315 22.318125 \n\" style=\"fill:none;stroke:#000000;stroke-linecap:square;stroke-linejoin:miter;stroke-width:0.8;\"/>\n   </g>\n   <g id=\"patch_30\">\n    <path d=\"M 149.3515 131.038125 \nL 238.6315 131.038125 \n\" style=\"fill:none;stroke:#000000;stroke-linecap:square;stroke-linejoin:miter;stroke-width:0.8;\"/>\n   </g>\n   <g id=\"patch_31\">\n    <path d=\"M 149.3515 22.318125 \nL 238.6315 22.318125 \n\" style=\"fill:none;stroke:#000000;stroke-linecap:square;stroke-linejoin:miter;stroke-width:0.8;\"/>\n   </g>\n   <g id=\"text_14\">\n    <!-- ARTHRITIS -->\n    <defs>\n     <path d=\"M 44.390625 34.1875 \nQ 47.5625 33.109375 50.5625 29.59375 \nQ 53.5625 26.078125 56.59375 19.921875 \nL 66.609375 0 \nL 56 0 \nL 46.6875 18.703125 \nQ 43.0625 26.03125 39.671875 28.421875 \nQ 36.28125 30.8125 30.421875 30.8125 \nL 19.671875 30.8125 \nL 19.671875 0 \nL 9.8125 0 \nL 9.8125 72.90625 \nL 32.078125 72.90625 \nQ 44.578125 72.90625 50.734375 67.671875 \nQ 56.890625 62.453125 56.890625 51.90625 \nQ 56.890625 45.015625 53.6875 40.46875 \nQ 50.484375 35.9375 44.390625 34.1875 \nz\nM 19.671875 64.796875 \nL 19.671875 38.921875 \nL 32.078125 38.921875 \nQ 39.203125 38.921875 42.84375 42.21875 \nQ 46.484375 45.515625 46.484375 51.90625 \nQ 46.484375 58.296875 42.84375 61.546875 \nQ 39.203125 64.796875 32.078125 64.796875 \nz\n\" id=\"DejaVuSans-82\"/>\n     <path d=\"M -0.296875 72.90625 \nL 61.375 72.90625 \nL 61.375 64.59375 \nL 35.5 64.59375 \nL 35.5 0 \nL 25.59375 0 \nL 25.59375 64.59375 \nL -0.296875 64.59375 \nz\n\" id=\"DejaVuSans-84\"/>\n     <path d=\"M 9.8125 72.90625 \nL 19.671875 72.90625 \nL 19.671875 43.015625 \nL 55.515625 43.015625 \nL 55.515625 72.90625 \nL 65.375 72.90625 \nL 65.375 0 \nL 55.515625 0 \nL 55.515625 34.71875 \nL 19.671875 34.71875 \nL 19.671875 0 \nL 9.8125 0 \nz\n\" id=\"DejaVuSans-72\"/>\n     <path d=\"M 9.8125 72.90625 \nL 19.671875 72.90625 \nL 19.671875 0 \nL 9.8125 0 \nz\n\" id=\"DejaVuSans-73\"/>\n    </defs>\n    <g transform=\"translate(162.793375 16.318125)scale(0.12 -0.12)\">\n     <use xlink:href=\"#DejaVuSans-65\"/>\n     <use x=\"68.408203\" xlink:href=\"#DejaVuSans-82\"/>\n     <use x=\"130.640625\" xlink:href=\"#DejaVuSans-84\"/>\n     <use x=\"191.724609\" xlink:href=\"#DejaVuSans-72\"/>\n     <use x=\"266.919922\" xlink:href=\"#DejaVuSans-82\"/>\n     <use x=\"336.402344\" xlink:href=\"#DejaVuSans-73\"/>\n     <use x=\"365.894531\" xlink:href=\"#DejaVuSans-84\"/>\n     <use x=\"426.978516\" xlink:href=\"#DejaVuSans-73\"/>\n     <use x=\"456.470703\" xlink:href=\"#DejaVuSans-83\"/>\n    </g>\n   </g>\n  </g>\n  <g id=\"axes_3\">\n   <g id=\"patch_32\">\n    <path d=\"M 265.4155 131.038125 \nL 354.6955 131.038125 \nL 354.6955 22.318125 \nL 265.4155 22.318125 \nz\n\" style=\"fill:#ffffff;\"/>\n   </g>\n   <g id=\"patch_33\">\n    <path clip-path=\"url(#pd16659ea13)\" d=\"M 269.473682 131.038125 \nL 277.590045 131.038125 \nL 277.590045 128.754091 \nL 269.473682 128.754091 \nz\n\" style=\"fill:#1f77b4;\"/>\n   </g>\n   <g id=\"patch_34\">\n    <path clip-path=\"url(#pd16659ea13)\" d=\"M 277.590045 131.038125 \nL 285.706409 131.038125 \nL 285.706409 127.231402 \nL 277.590045 127.231402 \nz\n\" style=\"fill:#1f77b4;\"/>\n   </g>\n   <g id=\"patch_35\">\n    <path clip-path=\"url(#pd16659ea13)\" d=\"M 285.706409 131.038125 \nL 293.822773 131.038125 \nL 293.822773 116.572579 \nL 285.706409 116.572579 \nz\n\" style=\"fill:#1f77b4;\"/>\n   </g>\n   <g id=\"patch_36\">\n    <path clip-path=\"url(#pd16659ea13)\" d=\"M 293.822773 131.038125 \nL 301.939136 131.038125 \nL 301.939136 70.130562 \nL 293.822773 70.130562 \nz\n\" style=\"fill:#1f77b4;\"/>\n   </g>\n   <g id=\"patch_37\">\n    <path clip-path=\"url(#pd16659ea13)\" d=\"M 301.939136 131.038125 \nL 310.0555 131.038125 \nL 310.0555 27.495268 \nL 301.939136 27.495268 \nz\n\" style=\"fill:#1f77b4;\"/>\n   </g>\n   <g id=\"patch_38\">\n    <path clip-path=\"url(#pd16659ea13)\" d=\"M 310.0555 131.038125 \nL 318.171864 131.038125 \nL 318.171864 32.82468 \nL 310.0555 32.82468 \nz\n\" style=\"fill:#1f77b4;\"/>\n   </g>\n   <g id=\"patch_39\">\n    <path clip-path=\"url(#pd16659ea13)\" d=\"M 318.171864 131.038125 \nL 326.288227 131.038125 \nL 326.288227 68.607873 \nL 318.171864 68.607873 \nz\n\" style=\"fill:#1f77b4;\"/>\n   </g>\n   <g id=\"patch_40\">\n    <path clip-path=\"url(#pd16659ea13)\" d=\"M 326.288227 131.038125 \nL 334.404591 131.038125 \nL 334.404591 112.004512 \nL 326.288227 112.004512 \nz\n\" style=\"fill:#1f77b4;\"/>\n   </g>\n   <g id=\"patch_41\">\n    <path clip-path=\"url(#pd16659ea13)\" d=\"M 334.404591 131.038125 \nL 342.520955 131.038125 \nL 342.520955 119.617957 \nL 334.404591 119.617957 \nz\n\" style=\"fill:#1f77b4;\"/>\n   </g>\n   <g id=\"patch_42\">\n    <path clip-path=\"url(#pd16659ea13)\" d=\"M 342.520955 131.038125 \nL 350.637318 131.038125 \nL 350.637318 128.754091 \nL 342.520955 128.754091 \nz\n\" style=\"fill:#1f77b4;\"/>\n   </g>\n   <g id=\"matplotlib.axis_5\">\n    <g id=\"xtick_5\">\n     <g id=\"line2d_25\">\n      <path clip-path=\"url(#pd16659ea13)\" d=\"M 277.522968 131.038125 \nL 277.522968 22.318125 \n\" style=\"fill:none;stroke:#b0b0b0;stroke-linecap:square;stroke-width:0.8;\"/>\n     </g>\n     <g id=\"line2d_26\">\n      <g>\n       <use style=\"stroke:#000000;stroke-width:0.8;\" x=\"277.522968\" xlink:href=\"#m1efa2ccf88\" y=\"131.038125\"/>\n      </g>\n     </g>\n     <g id=\"text_15\">\n      <!-- 10 -->\n      <g transform=\"translate(271.160468 145.636562)scale(0.1 -0.1)\">\n       <use xlink:href=\"#DejaVuSans-49\"/>\n       <use x=\"63.623047\" xlink:href=\"#DejaVuSans-48\"/>\n      </g>\n     </g>\n    </g>\n    <g id=\"xtick_6\">\n     <g id=\"line2d_27\">\n      <path clip-path=\"url(#pd16659ea13)\" d=\"M 322.241225 131.038125 \nL 322.241225 22.318125 \n\" style=\"fill:none;stroke:#b0b0b0;stroke-linecap:square;stroke-width:0.8;\"/>\n     </g>\n     <g id=\"line2d_28\">\n      <g>\n       <use style=\"stroke:#000000;stroke-width:0.8;\" x=\"322.241225\" xlink:href=\"#m1efa2ccf88\" y=\"131.038125\"/>\n      </g>\n     </g>\n     <g id=\"text_16\">\n      <!-- 20 -->\n      <g transform=\"translate(315.878725 145.636562)scale(0.1 -0.1)\">\n       <use xlink:href=\"#DejaVuSans-50\"/>\n       <use x=\"63.623047\" xlink:href=\"#DejaVuSans-48\"/>\n      </g>\n     </g>\n    </g>\n   </g>\n   <g id=\"matplotlib.axis_6\">\n    <g id=\"ytick_9\">\n     <g id=\"line2d_29\">\n      <path clip-path=\"url(#pd16659ea13)\" d=\"M 265.4155 131.038125 \nL 354.6955 131.038125 \n\" style=\"fill:none;stroke:#b0b0b0;stroke-linecap:square;stroke-width:0.8;\"/>\n     </g>\n     <g id=\"line2d_30\">\n      <g>\n       <use style=\"stroke:#000000;stroke-width:0.8;\" x=\"265.4155\" xlink:href=\"#m88d07c3e7f\" y=\"131.038125\"/>\n      </g>\n     </g>\n     <g id=\"text_17\">\n      <!-- 0 -->\n      <g transform=\"translate(252.053 134.837344)scale(0.1 -0.1)\">\n       <use xlink:href=\"#DejaVuSans-48\"/>\n      </g>\n     </g>\n    </g>\n    <g id=\"ytick_10\">\n     <g id=\"line2d_31\">\n      <path clip-path=\"url(#pd16659ea13)\" d=\"M 265.4155 92.970898 \nL 354.6955 92.970898 \n\" style=\"fill:none;stroke:#b0b0b0;stroke-linecap:square;stroke-width:0.8;\"/>\n     </g>\n     <g id=\"line2d_32\">\n      <g>\n       <use style=\"stroke:#000000;stroke-width:0.8;\" x=\"265.4155\" xlink:href=\"#m88d07c3e7f\" y=\"92.970898\"/>\n      </g>\n     </g>\n     <g id=\"text_18\">\n      <!-- 50 -->\n      <g transform=\"translate(245.6905 96.770117)scale(0.1 -0.1)\">\n       <use xlink:href=\"#DejaVuSans-53\"/>\n       <use x=\"63.623047\" xlink:href=\"#DejaVuSans-48\"/>\n      </g>\n     </g>\n    </g>\n    <g id=\"ytick_11\">\n     <g id=\"line2d_33\">\n      <path clip-path=\"url(#pd16659ea13)\" d=\"M 265.4155 54.903671 \nL 354.6955 54.903671 \n\" style=\"fill:none;stroke:#b0b0b0;stroke-linecap:square;stroke-width:0.8;\"/>\n     </g>\n     <g id=\"line2d_34\">\n      <g>\n       <use style=\"stroke:#000000;stroke-width:0.8;\" x=\"265.4155\" xlink:href=\"#m88d07c3e7f\" y=\"54.903671\"/>\n      </g>\n     </g>\n     <g id=\"text_19\">\n      <!-- 100 -->\n      <g transform=\"translate(239.328 58.70289)scale(0.1 -0.1)\">\n       <use xlink:href=\"#DejaVuSans-49\"/>\n       <use x=\"63.623047\" xlink:href=\"#DejaVuSans-48\"/>\n       <use x=\"127.246094\" xlink:href=\"#DejaVuSans-48\"/>\n      </g>\n     </g>\n    </g>\n   </g>\n   <g id=\"patch_43\">\n    <path d=\"M 265.4155 131.038125 \nL 265.4155 22.318125 \n\" style=\"fill:none;stroke:#000000;stroke-linecap:square;stroke-linejoin:miter;stroke-width:0.8;\"/>\n   </g>\n   <g id=\"patch_44\">\n    <path d=\"M 354.6955 131.038125 \nL 354.6955 22.318125 \n\" style=\"fill:none;stroke:#000000;stroke-linecap:square;stroke-linejoin:miter;stroke-width:0.8;\"/>\n   </g>\n   <g id=\"patch_45\">\n    <path d=\"M 265.4155 131.038125 \nL 354.6955 131.038125 \n\" style=\"fill:none;stroke:#000000;stroke-linecap:square;stroke-linejoin:miter;stroke-width:0.8;\"/>\n   </g>\n   <g id=\"patch_46\">\n    <path d=\"M 265.4155 22.318125 \nL 354.6955 22.318125 \n\" style=\"fill:none;stroke:#000000;stroke-linecap:square;stroke-linejoin:miter;stroke-width:0.8;\"/>\n   </g>\n   <g id=\"text_20\">\n    <!-- BINGE -->\n    <defs>\n     <path d=\"M 19.671875 34.8125 \nL 19.671875 8.109375 \nL 35.5 8.109375 \nQ 43.453125 8.109375 47.28125 11.40625 \nQ 51.125 14.703125 51.125 21.484375 \nQ 51.125 28.328125 47.28125 31.5625 \nQ 43.453125 34.8125 35.5 34.8125 \nz\nM 19.671875 64.796875 \nL 19.671875 42.828125 \nL 34.28125 42.828125 \nQ 41.5 42.828125 45.03125 45.53125 \nQ 48.578125 48.25 48.578125 53.8125 \nQ 48.578125 59.328125 45.03125 62.0625 \nQ 41.5 64.796875 34.28125 64.796875 \nz\nM 9.8125 72.90625 \nL 35.015625 72.90625 \nQ 46.296875 72.90625 52.390625 68.21875 \nQ 58.5 63.53125 58.5 54.890625 \nQ 58.5 48.1875 55.375 44.234375 \nQ 52.25 40.28125 46.1875 39.3125 \nQ 53.46875 37.75 57.5 32.78125 \nQ 61.53125 27.828125 61.53125 20.40625 \nQ 61.53125 10.640625 54.890625 5.3125 \nQ 48.25 0 35.984375 0 \nL 9.8125 0 \nz\n\" id=\"DejaVuSans-66\"/>\n     <path d=\"M 9.8125 72.90625 \nL 23.09375 72.90625 \nL 55.421875 11.921875 \nL 55.421875 72.90625 \nL 64.984375 72.90625 \nL 64.984375 0 \nL 51.703125 0 \nL 19.390625 60.984375 \nL 19.390625 0 \nL 9.8125 0 \nz\n\" id=\"DejaVuSans-78\"/>\n     <path d=\"M 59.515625 10.40625 \nL 59.515625 29.984375 \nL 43.40625 29.984375 \nL 43.40625 38.09375 \nL 69.28125 38.09375 \nL 69.28125 6.78125 \nQ 63.578125 2.734375 56.6875 0.65625 \nQ 49.8125 -1.421875 42 -1.421875 \nQ 24.90625 -1.421875 15.25 8.5625 \nQ 5.609375 18.5625 5.609375 36.375 \nQ 5.609375 54.25 15.25 64.234375 \nQ 24.90625 74.21875 42 74.21875 \nQ 49.125 74.21875 55.546875 72.453125 \nQ 61.96875 70.703125 67.390625 67.28125 \nL 67.390625 56.78125 \nQ 61.921875 61.421875 55.765625 63.765625 \nQ 49.609375 66.109375 42.828125 66.109375 \nQ 29.4375 66.109375 22.71875 58.640625 \nQ 16.015625 51.171875 16.015625 36.375 \nQ 16.015625 21.625 22.71875 14.15625 \nQ 29.4375 6.6875 42.828125 6.6875 \nQ 48.046875 6.6875 52.140625 7.59375 \nQ 56.25 8.5 59.515625 10.40625 \nz\n\" id=\"DejaVuSans-71\"/>\n    </defs>\n    <g transform=\"translate(291.239875 16.318125)scale(0.12 -0.12)\">\n     <use xlink:href=\"#DejaVuSans-66\"/>\n     <use x=\"68.603516\" xlink:href=\"#DejaVuSans-73\"/>\n     <use x=\"98.095703\" xlink:href=\"#DejaVuSans-78\"/>\n     <use x=\"172.900391\" xlink:href=\"#DejaVuSans-71\"/>\n     <use x=\"250.390625\" xlink:href=\"#DejaVuSans-69\"/>\n    </g>\n   </g>\n  </g>\n  <g id=\"axes_4\">\n   <g id=\"patch_47\">\n    <path d=\"M 381.4795 131.038125 \nL 470.7595 131.038125 \nL 470.7595 22.318125 \nL 381.4795 22.318125 \nz\n\" style=\"fill:#ffffff;\"/>\n   </g>\n   <g id=\"patch_48\">\n    <path clip-path=\"url(#pd732b91e43)\" d=\"M 385.537682 131.038125 \nL 393.654045 131.038125 \nL 393.654045 117.116396 \nL 385.537682 117.116396 \nz\n\" style=\"fill:#1f77b4;\"/>\n   </g>\n   <g id=\"patch_49\">\n    <path clip-path=\"url(#pd732b91e43)\" d=\"M 393.654045 131.038125 \nL 401.770409 131.038125 \nL 401.770409 72.740886 \nL 393.654045 72.740886 \nz\n\" style=\"fill:#1f77b4;\"/>\n   </g>\n   <g id=\"patch_50\">\n    <path clip-path=\"url(#pd732b91e43)\" d=\"M 401.770409 131.038125 \nL 409.886773 131.038125 \nL 409.886773 27.495268 \nL 401.770409 27.495268 \nz\n\" style=\"fill:#1f77b4;\"/>\n   </g>\n   <g id=\"patch_51\">\n    <path clip-path=\"url(#pd732b91e43)\" d=\"M 409.886773 131.038125 \nL 418.003136 131.038125 \nL 418.003136 37.066456 \nL 409.886773 37.066456 \nz\n\" style=\"fill:#1f77b4;\"/>\n   </g>\n   <g id=\"patch_52\">\n    <path clip-path=\"url(#pd732b91e43)\" d=\"M 418.003136 131.038125 \nL 426.1195 131.038125 \nL 426.1195 47.507753 \nL 418.003136 47.507753 \nz\n\" style=\"fill:#1f77b4;\"/>\n   </g>\n   <g id=\"patch_53\">\n    <path clip-path=\"url(#pd732b91e43)\" d=\"M 426.1195 131.038125 \nL 434.235864 131.038125 \nL 434.235864 92.753371 \nL 426.1195 92.753371 \nz\n\" style=\"fill:#1f77b4;\"/>\n   </g>\n   <g id=\"patch_54\">\n    <path clip-path=\"url(#pd732b91e43)\" d=\"M 434.235864 131.038125 \nL 442.352227 131.038125 \nL 442.352227 110.155532 \nL 434.235864 110.155532 \nz\n\" style=\"fill:#1f77b4;\"/>\n   </g>\n   <g id=\"patch_55\">\n    <path clip-path=\"url(#pd732b91e43)\" d=\"M 442.352227 131.038125 \nL 450.468591 131.038125 \nL 450.468591 118.856612 \nL 442.352227 118.856612 \nz\n\" style=\"fill:#1f77b4;\"/>\n   </g>\n   <g id=\"patch_56\">\n    <path clip-path=\"url(#pd732b91e43)\" d=\"M 450.468591 131.038125 \nL 458.584955 131.038125 \nL 458.584955 126.687585 \nL 450.468591 126.687585 \nz\n\" style=\"fill:#1f77b4;\"/>\n   </g>\n   <g id=\"patch_57\">\n    <path clip-path=\"url(#pd732b91e43)\" d=\"M 458.584955 131.038125 \nL 466.701318 131.038125 \nL 466.701318 127.557693 \nL 458.584955 127.557693 \nz\n\" style=\"fill:#1f77b4;\"/>\n   </g>\n   <g id=\"matplotlib.axis_7\">\n    <g id=\"xtick_7\">\n     <g id=\"line2d_35\">\n      <path clip-path=\"url(#pd732b91e43)\" d=\"M 385.388484 131.038125 \nL 385.388484 22.318125 \n\" style=\"fill:none;stroke:#b0b0b0;stroke-linecap:square;stroke-width:0.8;\"/>\n     </g>\n     <g id=\"line2d_36\">\n      <g>\n       <use style=\"stroke:#000000;stroke-width:0.8;\" x=\"385.388484\" xlink:href=\"#m1efa2ccf88\" y=\"131.038125\"/>\n      </g>\n     </g>\n     <g id=\"text_21\">\n      <!-- 20 -->\n      <g transform=\"translate(379.025984 145.636562)scale(0.1 -0.1)\">\n       <use xlink:href=\"#DejaVuSans-50\"/>\n       <use x=\"63.623047\" xlink:href=\"#DejaVuSans-48\"/>\n      </g>\n     </g>\n    </g>\n    <g id=\"xtick_8\">\n     <g id=\"line2d_37\">\n      <path clip-path=\"url(#pd732b91e43)\" d=\"M 445.067628 131.038125 \nL 445.067628 22.318125 \n\" style=\"fill:none;stroke:#b0b0b0;stroke-linecap:square;stroke-width:0.8;\"/>\n     </g>\n     <g id=\"line2d_38\">\n      <g>\n       <use style=\"stroke:#000000;stroke-width:0.8;\" x=\"445.067628\" xlink:href=\"#m1efa2ccf88\" y=\"131.038125\"/>\n      </g>\n     </g>\n     <g id=\"text_22\">\n      <!-- 40 -->\n      <g transform=\"translate(438.705128 145.636562)scale(0.1 -0.1)\">\n       <use xlink:href=\"#DejaVuSans-52\"/>\n       <use x=\"63.623047\" xlink:href=\"#DejaVuSans-48\"/>\n      </g>\n     </g>\n    </g>\n   </g>\n   <g id=\"matplotlib.axis_8\">\n    <g id=\"ytick_12\">\n     <g id=\"line2d_39\">\n      <path clip-path=\"url(#pd732b91e43)\" d=\"M 381.4795 131.038125 \nL 470.7595 131.038125 \n\" style=\"fill:none;stroke:#b0b0b0;stroke-linecap:square;stroke-width:0.8;\"/>\n     </g>\n     <g id=\"line2d_40\">\n      <g>\n       <use style=\"stroke:#000000;stroke-width:0.8;\" x=\"381.4795\" xlink:href=\"#m88d07c3e7f\" y=\"131.038125\"/>\n      </g>\n     </g>\n     <g id=\"text_23\">\n      <!-- 0 -->\n      <g transform=\"translate(368.117 134.837344)scale(0.1 -0.1)\">\n       <use xlink:href=\"#DejaVuSans-48\"/>\n      </g>\n     </g>\n    </g>\n    <g id=\"ytick_13\">\n     <g id=\"line2d_41\">\n      <path clip-path=\"url(#pd732b91e43)\" d=\"M 381.4795 109.285424 \nL 470.7595 109.285424 \n\" style=\"fill:none;stroke:#b0b0b0;stroke-linecap:square;stroke-width:0.8;\"/>\n     </g>\n     <g id=\"line2d_42\">\n      <g>\n       <use style=\"stroke:#000000;stroke-width:0.8;\" x=\"381.4795\" xlink:href=\"#m88d07c3e7f\" y=\"109.285424\"/>\n      </g>\n     </g>\n     <g id=\"text_24\">\n      <!-- 25 -->\n      <g transform=\"translate(361.7545 113.084643)scale(0.1 -0.1)\">\n       <use xlink:href=\"#DejaVuSans-50\"/>\n       <use x=\"63.623047\" xlink:href=\"#DejaVuSans-53\"/>\n      </g>\n     </g>\n    </g>\n    <g id=\"ytick_14\">\n     <g id=\"line2d_43\">\n      <path clip-path=\"url(#pd732b91e43)\" d=\"M 381.4795 87.532723 \nL 470.7595 87.532723 \n\" style=\"fill:none;stroke:#b0b0b0;stroke-linecap:square;stroke-width:0.8;\"/>\n     </g>\n     <g id=\"line2d_44\">\n      <g>\n       <use style=\"stroke:#000000;stroke-width:0.8;\" x=\"381.4795\" xlink:href=\"#m88d07c3e7f\" y=\"87.532723\"/>\n      </g>\n     </g>\n     <g id=\"text_25\">\n      <!-- 50 -->\n      <g transform=\"translate(361.7545 91.331942)scale(0.1 -0.1)\">\n       <use xlink:href=\"#DejaVuSans-53\"/>\n       <use x=\"63.623047\" xlink:href=\"#DejaVuSans-48\"/>\n      </g>\n     </g>\n    </g>\n    <g id=\"ytick_15\">\n     <g id=\"line2d_45\">\n      <path clip-path=\"url(#pd732b91e43)\" d=\"M 381.4795 65.780022 \nL 470.7595 65.780022 \n\" style=\"fill:none;stroke:#b0b0b0;stroke-linecap:square;stroke-width:0.8;\"/>\n     </g>\n     <g id=\"line2d_46\">\n      <g>\n       <use style=\"stroke:#000000;stroke-width:0.8;\" x=\"381.4795\" xlink:href=\"#m88d07c3e7f\" y=\"65.780022\"/>\n      </g>\n     </g>\n     <g id=\"text_26\">\n      <!-- 75 -->\n      <g transform=\"translate(361.7545 69.579241)scale(0.1 -0.1)\">\n       <use xlink:href=\"#DejaVuSans-55\"/>\n       <use x=\"63.623047\" xlink:href=\"#DejaVuSans-53\"/>\n      </g>\n     </g>\n    </g>\n    <g id=\"ytick_16\">\n     <g id=\"line2d_47\">\n      <path clip-path=\"url(#pd732b91e43)\" d=\"M 381.4795 44.027321 \nL 470.7595 44.027321 \n\" style=\"fill:none;stroke:#b0b0b0;stroke-linecap:square;stroke-width:0.8;\"/>\n     </g>\n     <g id=\"line2d_48\">\n      <g>\n       <use style=\"stroke:#000000;stroke-width:0.8;\" x=\"381.4795\" xlink:href=\"#m88d07c3e7f\" y=\"44.027321\"/>\n      </g>\n     </g>\n     <g id=\"text_27\">\n      <!-- 100 -->\n      <g transform=\"translate(355.392 47.826539)scale(0.1 -0.1)\">\n       <use xlink:href=\"#DejaVuSans-49\"/>\n       <use x=\"63.623047\" xlink:href=\"#DejaVuSans-48\"/>\n       <use x=\"127.246094\" xlink:href=\"#DejaVuSans-48\"/>\n      </g>\n     </g>\n    </g>\n   </g>\n   <g id=\"patch_58\">\n    <path d=\"M 381.4795 131.038125 \nL 381.4795 22.318125 \n\" style=\"fill:none;stroke:#000000;stroke-linecap:square;stroke-linejoin:miter;stroke-width:0.8;\"/>\n   </g>\n   <g id=\"patch_59\">\n    <path d=\"M 470.7595 131.038125 \nL 470.7595 22.318125 \n\" style=\"fill:none;stroke:#000000;stroke-linecap:square;stroke-linejoin:miter;stroke-width:0.8;\"/>\n   </g>\n   <g id=\"patch_60\">\n    <path d=\"M 381.4795 131.038125 \nL 470.7595 131.038125 \n\" style=\"fill:none;stroke:#000000;stroke-linecap:square;stroke-linejoin:miter;stroke-width:0.8;\"/>\n   </g>\n   <g id=\"patch_61\">\n    <path d=\"M 381.4795 22.318125 \nL 470.7595 22.318125 \n\" style=\"fill:none;stroke:#000000;stroke-linecap:square;stroke-linejoin:miter;stroke-width:0.8;\"/>\n   </g>\n   <g id=\"text_28\">\n    <!-- BPHIGH -->\n    <defs>\n     <path d=\"M 19.671875 64.796875 \nL 19.671875 37.40625 \nL 32.078125 37.40625 \nQ 38.96875 37.40625 42.71875 40.96875 \nQ 46.484375 44.53125 46.484375 51.125 \nQ 46.484375 57.671875 42.71875 61.234375 \nQ 38.96875 64.796875 32.078125 64.796875 \nz\nM 9.8125 72.90625 \nL 32.078125 72.90625 \nQ 44.34375 72.90625 50.609375 67.359375 \nQ 56.890625 61.8125 56.890625 51.125 \nQ 56.890625 40.328125 50.609375 34.8125 \nQ 44.34375 29.296875 32.078125 29.296875 \nL 19.671875 29.296875 \nL 19.671875 0 \nL 9.8125 0 \nz\n\" id=\"DejaVuSans-80\"/>\n    </defs>\n    <g transform=\"translate(402.941688 16.318125)scale(0.12 -0.12)\">\n     <use xlink:href=\"#DejaVuSans-66\"/>\n     <use x=\"68.603516\" xlink:href=\"#DejaVuSans-80\"/>\n     <use x=\"128.90625\" xlink:href=\"#DejaVuSans-72\"/>\n     <use x=\"204.101562\" xlink:href=\"#DejaVuSans-73\"/>\n     <use x=\"233.59375\" xlink:href=\"#DejaVuSans-71\"/>\n     <use x=\"311.083984\" xlink:href=\"#DejaVuSans-72\"/>\n    </g>\n   </g>\n  </g>\n  <g id=\"axes_5\">\n   <g id=\"patch_62\">\n    <path d=\"M 497.5435 131.038125 \nL 586.8235 131.038125 \nL 586.8235 22.318125 \nL 497.5435 22.318125 \nz\n\" style=\"fill:#ffffff;\"/>\n   </g>\n   <g id=\"patch_63\">\n    <path clip-path=\"url(#p26e612ca3b)\" d=\"M 501.601682 131.038125 \nL 509.718045 131.038125 \nL 509.718045 128.022314 \nL 501.601682 128.022314 \nz\n\" style=\"fill:#1f77b4;\"/>\n   </g>\n   <g id=\"patch_64\">\n    <path clip-path=\"url(#p26e612ca3b)\" d=\"M 509.718045 131.038125 \nL 517.834409 131.038125 \nL 517.834409 107.916904 \nL 509.718045 107.916904 \nz\n\" style=\"fill:#1f77b4;\"/>\n   </g>\n   <g id=\"patch_65\">\n    <path clip-path=\"url(#p26e612ca3b)\" d=\"M 517.834409 131.038125 \nL 525.950773 131.038125 \nL 525.950773 49.611218 \nL 517.834409 49.611218 \nz\n\" style=\"fill:#1f77b4;\"/>\n   </g>\n   <g id=\"patch_66\">\n    <path clip-path=\"url(#p26e612ca3b)\" d=\"M 525.950773 131.038125 \nL 534.067136 131.038125 \nL 534.067136 65.695545 \nL 525.950773 65.695545 \nz\n\" style=\"fill:#1f77b4;\"/>\n   </g>\n   <g id=\"patch_67\">\n    <path clip-path=\"url(#p26e612ca3b)\" d=\"M 534.067136 131.038125 \nL 542.1835 131.038125 \nL 542.1835 79.769332 \nL 534.067136 79.769332 \nz\n\" style=\"fill:#1f77b4;\"/>\n   </g>\n   <g id=\"patch_68\">\n    <path clip-path=\"url(#p26e612ca3b)\" d=\"M 542.1835 131.038125 \nL 550.299864 131.038125 \nL 550.299864 27.495268 \nL 542.1835 27.495268 \nz\n\" style=\"fill:#1f77b4;\"/>\n   </g>\n   <g id=\"patch_69\">\n    <path clip-path=\"url(#p26e612ca3b)\" d=\"M 550.299864 131.038125 \nL 558.416227 131.038125 \nL 558.416227 45.590136 \nL 550.299864 45.590136 \nz\n\" style=\"fill:#1f77b4;\"/>\n   </g>\n   <g id=\"patch_70\">\n    <path clip-path=\"url(#p26e612ca3b)\" d=\"M 558.416227 131.038125 \nL 566.532591 131.038125 \nL 566.532591 78.764061 \nL 558.416227 78.764061 \nz\n\" style=\"fill:#1f77b4;\"/>\n   </g>\n   <g id=\"patch_71\">\n    <path clip-path=\"url(#p26e612ca3b)\" d=\"M 566.532591 131.038125 \nL 574.648955 131.038125 \nL 574.648955 105.906364 \nL 566.532591 105.906364 \nz\n\" style=\"fill:#1f77b4;\"/>\n   </g>\n   <g id=\"patch_72\">\n    <path clip-path=\"url(#p26e612ca3b)\" d=\"M 574.648955 131.038125 \nL 582.765318 131.038125 \nL 582.765318 121.990691 \nL 574.648955 121.990691 \nz\n\" style=\"fill:#1f77b4;\"/>\n   </g>\n   <g id=\"matplotlib.axis_9\">\n    <g id=\"xtick_9\">\n     <g id=\"line2d_49\">\n      <path clip-path=\"url(#p26e612ca3b)\" d=\"M 522.902546 131.038125 \nL 522.902546 22.318125 \n\" style=\"fill:none;stroke:#b0b0b0;stroke-linecap:square;stroke-width:0.8;\"/>\n     </g>\n     <g id=\"line2d_50\">\n      <g>\n       <use style=\"stroke:#000000;stroke-width:0.8;\" x=\"522.902546\" xlink:href=\"#m1efa2ccf88\" y=\"131.038125\"/>\n      </g>\n     </g>\n     <g id=\"text_29\">\n      <!-- 60 -->\n      <defs>\n       <path d=\"M 33.015625 40.375 \nQ 26.375 40.375 22.484375 35.828125 \nQ 18.609375 31.296875 18.609375 23.390625 \nQ 18.609375 15.53125 22.484375 10.953125 \nQ 26.375 6.390625 33.015625 6.390625 \nQ 39.65625 6.390625 43.53125 10.953125 \nQ 47.40625 15.53125 47.40625 23.390625 \nQ 47.40625 31.296875 43.53125 35.828125 \nQ 39.65625 40.375 33.015625 40.375 \nz\nM 52.59375 71.296875 \nL 52.59375 62.3125 \nQ 48.875 64.0625 45.09375 64.984375 \nQ 41.3125 65.921875 37.59375 65.921875 \nQ 27.828125 65.921875 22.671875 59.328125 \nQ 17.53125 52.734375 16.796875 39.40625 \nQ 19.671875 43.65625 24.015625 45.921875 \nQ 28.375 48.1875 33.59375 48.1875 \nQ 44.578125 48.1875 50.953125 41.515625 \nQ 57.328125 34.859375 57.328125 23.390625 \nQ 57.328125 12.15625 50.6875 5.359375 \nQ 44.046875 -1.421875 33.015625 -1.421875 \nQ 20.359375 -1.421875 13.671875 8.265625 \nQ 6.984375 17.96875 6.984375 36.375 \nQ 6.984375 53.65625 15.1875 63.9375 \nQ 23.390625 74.21875 37.203125 74.21875 \nQ 40.921875 74.21875 44.703125 73.484375 \nQ 48.484375 72.75 52.59375 71.296875 \nz\n\" id=\"DejaVuSans-54\"/>\n      </defs>\n      <g transform=\"translate(516.540046 145.636562)scale(0.1 -0.1)\">\n       <use xlink:href=\"#DejaVuSans-54\"/>\n       <use x=\"63.623047\" xlink:href=\"#DejaVuSans-48\"/>\n      </g>\n     </g>\n    </g>\n    <g id=\"xtick_10\">\n     <g id=\"line2d_51\">\n      <path clip-path=\"url(#p26e612ca3b)\" d=\"M 559.628173 131.038125 \nL 559.628173 22.318125 \n\" style=\"fill:none;stroke:#b0b0b0;stroke-linecap:square;stroke-width:0.8;\"/>\n     </g>\n     <g id=\"line2d_52\">\n      <g>\n       <use style=\"stroke:#000000;stroke-width:0.8;\" x=\"559.628173\" xlink:href=\"#m1efa2ccf88\" y=\"131.038125\"/>\n      </g>\n     </g>\n     <g id=\"text_30\">\n      <!-- 70 -->\n      <g transform=\"translate(553.265673 145.636562)scale(0.1 -0.1)\">\n       <use xlink:href=\"#DejaVuSans-55\"/>\n       <use x=\"63.623047\" xlink:href=\"#DejaVuSans-48\"/>\n      </g>\n     </g>\n    </g>\n   </g>\n   <g id=\"matplotlib.axis_10\">\n    <g id=\"ytick_17\">\n     <g id=\"line2d_53\">\n      <path clip-path=\"url(#p26e612ca3b)\" d=\"M 497.5435 131.038125 \nL 586.8235 131.038125 \n\" style=\"fill:none;stroke:#b0b0b0;stroke-linecap:square;stroke-width:0.8;\"/>\n     </g>\n     <g id=\"line2d_54\">\n      <g>\n       <use style=\"stroke:#000000;stroke-width:0.8;\" x=\"497.5435\" xlink:href=\"#m88d07c3e7f\" y=\"131.038125\"/>\n      </g>\n     </g>\n     <g id=\"text_31\">\n      <!-- 0 -->\n      <g transform=\"translate(484.181 134.837344)scale(0.1 -0.1)\">\n       <use xlink:href=\"#DejaVuSans-48\"/>\n      </g>\n     </g>\n    </g>\n    <g id=\"ytick_18\">\n     <g id=\"line2d_55\">\n      <path clip-path=\"url(#p26e612ca3b)\" d=\"M 497.5435 105.906364 \nL 586.8235 105.906364 \n\" style=\"fill:none;stroke:#b0b0b0;stroke-linecap:square;stroke-width:0.8;\"/>\n     </g>\n     <g id=\"line2d_56\">\n      <g>\n       <use style=\"stroke:#000000;stroke-width:0.8;\" x=\"497.5435\" xlink:href=\"#m88d07c3e7f\" y=\"105.906364\"/>\n      </g>\n     </g>\n     <g id=\"text_32\">\n      <!-- 25 -->\n      <g transform=\"translate(477.8185 109.705582)scale(0.1 -0.1)\">\n       <use xlink:href=\"#DejaVuSans-50\"/>\n       <use x=\"63.623047\" xlink:href=\"#DejaVuSans-53\"/>\n      </g>\n     </g>\n    </g>\n    <g id=\"ytick_19\">\n     <g id=\"line2d_57\">\n      <path clip-path=\"url(#p26e612ca3b)\" d=\"M 497.5435 80.774602 \nL 586.8235 80.774602 \n\" style=\"fill:none;stroke:#b0b0b0;stroke-linecap:square;stroke-width:0.8;\"/>\n     </g>\n     <g id=\"line2d_58\">\n      <g>\n       <use style=\"stroke:#000000;stroke-width:0.8;\" x=\"497.5435\" xlink:href=\"#m88d07c3e7f\" y=\"80.774602\"/>\n      </g>\n     </g>\n     <g id=\"text_33\">\n      <!-- 50 -->\n      <g transform=\"translate(477.8185 84.573821)scale(0.1 -0.1)\">\n       <use xlink:href=\"#DejaVuSans-53\"/>\n       <use x=\"63.623047\" xlink:href=\"#DejaVuSans-48\"/>\n      </g>\n     </g>\n    </g>\n    <g id=\"ytick_20\">\n     <g id=\"line2d_59\">\n      <path clip-path=\"url(#p26e612ca3b)\" d=\"M 497.5435 55.642841 \nL 586.8235 55.642841 \n\" style=\"fill:none;stroke:#b0b0b0;stroke-linecap:square;stroke-width:0.8;\"/>\n     </g>\n     <g id=\"line2d_60\">\n      <g>\n       <use style=\"stroke:#000000;stroke-width:0.8;\" x=\"497.5435\" xlink:href=\"#m88d07c3e7f\" y=\"55.642841\"/>\n      </g>\n     </g>\n     <g id=\"text_34\">\n      <!-- 75 -->\n      <g transform=\"translate(477.8185 59.442059)scale(0.1 -0.1)\">\n       <use xlink:href=\"#DejaVuSans-55\"/>\n       <use x=\"63.623047\" xlink:href=\"#DejaVuSans-53\"/>\n      </g>\n     </g>\n    </g>\n    <g id=\"ytick_21\">\n     <g id=\"line2d_61\">\n      <path clip-path=\"url(#p26e612ca3b)\" d=\"M 497.5435 30.511079 \nL 586.8235 30.511079 \n\" style=\"fill:none;stroke:#b0b0b0;stroke-linecap:square;stroke-width:0.8;\"/>\n     </g>\n     <g id=\"line2d_62\">\n      <g>\n       <use style=\"stroke:#000000;stroke-width:0.8;\" x=\"497.5435\" xlink:href=\"#m88d07c3e7f\" y=\"30.511079\"/>\n      </g>\n     </g>\n     <g id=\"text_35\">\n      <!-- 100 -->\n      <g transform=\"translate(471.456 34.310298)scale(0.1 -0.1)\">\n       <use xlink:href=\"#DejaVuSans-49\"/>\n       <use x=\"63.623047\" xlink:href=\"#DejaVuSans-48\"/>\n       <use x=\"127.246094\" xlink:href=\"#DejaVuSans-48\"/>\n      </g>\n     </g>\n    </g>\n   </g>\n   <g id=\"patch_73\">\n    <path d=\"M 497.5435 131.038125 \nL 497.5435 22.318125 \n\" style=\"fill:none;stroke:#000000;stroke-linecap:square;stroke-linejoin:miter;stroke-width:0.8;\"/>\n   </g>\n   <g id=\"patch_74\">\n    <path d=\"M 586.8235 131.038125 \nL 586.8235 22.318125 \n\" style=\"fill:none;stroke:#000000;stroke-linecap:square;stroke-linejoin:miter;stroke-width:0.8;\"/>\n   </g>\n   <g id=\"patch_75\">\n    <path d=\"M 497.5435 131.038125 \nL 586.8235 131.038125 \n\" style=\"fill:none;stroke:#000000;stroke-linecap:square;stroke-linejoin:miter;stroke-width:0.8;\"/>\n   </g>\n   <g id=\"patch_76\">\n    <path d=\"M 497.5435 22.318125 \nL 586.8235 22.318125 \n\" style=\"fill:none;stroke:#000000;stroke-linecap:square;stroke-linejoin:miter;stroke-width:0.8;\"/>\n   </g>\n   <g id=\"text_36\">\n    <!-- BPMED -->\n    <defs>\n     <path d=\"M 9.8125 72.90625 \nL 24.515625 72.90625 \nL 43.109375 23.296875 \nL 61.8125 72.90625 \nL 76.515625 72.90625 \nL 76.515625 0 \nL 66.890625 0 \nL 66.890625 64.015625 \nL 48.09375 14.015625 \nL 38.1875 14.015625 \nL 19.390625 64.015625 \nL 19.390625 0 \nL 9.8125 0 \nz\n\" id=\"DejaVuSans-77\"/>\n     <path d=\"M 19.671875 64.796875 \nL 19.671875 8.109375 \nL 31.59375 8.109375 \nQ 46.6875 8.109375 53.6875 14.9375 \nQ 60.6875 21.78125 60.6875 36.53125 \nQ 60.6875 51.171875 53.6875 57.984375 \nQ 46.6875 64.796875 31.59375 64.796875 \nz\nM 9.8125 72.90625 \nL 30.078125 72.90625 \nQ 51.265625 72.90625 61.171875 64.09375 \nQ 71.09375 55.28125 71.09375 36.53125 \nQ 71.09375 17.671875 61.125 8.828125 \nQ 51.171875 0 30.078125 0 \nL 9.8125 0 \nz\n\" id=\"DejaVuSans-68\"/>\n    </defs>\n    <g transform=\"translate(520.861 16.318125)scale(0.12 -0.12)\">\n     <use xlink:href=\"#DejaVuSans-66\"/>\n     <use x=\"68.603516\" xlink:href=\"#DejaVuSans-80\"/>\n     <use x=\"128.90625\" xlink:href=\"#DejaVuSans-77\"/>\n     <use x=\"215.185547\" xlink:href=\"#DejaVuSans-69\"/>\n     <use x=\"278.369141\" xlink:href=\"#DejaVuSans-68\"/>\n    </g>\n   </g>\n  </g>\n  <g id=\"axes_6\">\n   <g id=\"patch_77\">\n    <path d=\"M 613.6075 131.038125 \nL 702.8875 131.038125 \nL 702.8875 22.318125 \nL 613.6075 22.318125 \nz\n\" style=\"fill:#ffffff;\"/>\n   </g>\n   <g id=\"patch_78\">\n    <path clip-path=\"url(#pf873b5ac10)\" d=\"M 617.665682 131.038125 \nL 625.782045 131.038125 \nL 625.782045 123.272411 \nL 617.665682 123.272411 \nz\n\" style=\"fill:#1f77b4;\"/>\n   </g>\n   <g id=\"patch_79\">\n    <path clip-path=\"url(#pf873b5ac10)\" d=\"M 625.782045 131.038125 \nL 633.898409 131.038125 \nL 633.898409 107.740982 \nL 625.782045 107.740982 \nz\n\" style=\"fill:#1f77b4;\"/>\n   </g>\n   <g id=\"patch_80\">\n    <path clip-path=\"url(#pf873b5ac10)\" d=\"M 633.898409 131.038125 \nL 642.014773 131.038125 \nL 642.014773 80.992411 \nL 633.898409 80.992411 \nz\n\" style=\"fill:#1f77b4;\"/>\n   </g>\n   <g id=\"patch_81\">\n    <path clip-path=\"url(#pf873b5ac10)\" d=\"M 642.014773 131.038125 \nL 650.131136 131.038125 \nL 650.131136 61.146696 \nL 642.014773 61.146696 \nz\n\" style=\"fill:#1f77b4;\"/>\n   </g>\n   <g id=\"patch_82\">\n    <path clip-path=\"url(#pf873b5ac10)\" d=\"M 650.131136 131.038125 \nL 658.2475 131.038125 \nL 658.2475 27.495268 \nL 650.131136 27.495268 \nz\n\" style=\"fill:#1f77b4;\"/>\n   </g>\n   <g id=\"patch_83\">\n    <path clip-path=\"url(#pf873b5ac10)\" d=\"M 658.2475 131.038125 \nL 666.363864 131.038125 \nL 666.363864 45.615268 \nL 658.2475 45.615268 \nz\n\" style=\"fill:#1f77b4;\"/>\n   </g>\n   <g id=\"patch_84\">\n    <path clip-path=\"url(#pf873b5ac10)\" d=\"M 666.363864 131.038125 \nL 674.480227 131.038125 \nL 674.480227 79.266696 \nL 666.363864 79.266696 \nz\n\" style=\"fill:#1f77b4;\"/>\n   </g>\n   <g id=\"patch_85\">\n    <path clip-path=\"url(#pf873b5ac10)\" d=\"M 674.480227 131.038125 \nL 682.596591 131.038125 \nL 682.596591 106.878125 \nL 674.480227 106.878125 \nz\n\" style=\"fill:#1f77b4;\"/>\n   </g>\n   <g id=\"patch_86\">\n    <path clip-path=\"url(#pf873b5ac10)\" d=\"M 682.596591 131.038125 \nL 690.712955 131.038125 \nL 690.712955 121.546696 \nL 682.596591 121.546696 \nz\n\" style=\"fill:#1f77b4;\"/>\n   </g>\n   <g id=\"patch_87\">\n    <path clip-path=\"url(#pf873b5ac10)\" d=\"M 690.712955 131.038125 \nL 698.829318 131.038125 \nL 698.829318 127.586696 \nL 690.712955 127.586696 \nz\n\" style=\"fill:#1f77b4;\"/>\n   </g>\n   <g id=\"matplotlib.axis_11\">\n    <g id=\"xtick_11\">\n     <g id=\"line2d_63\">\n      <path clip-path=\"url(#pf873b5ac10)\" d=\"M 638.227136 131.038125 \nL 638.227136 22.318125 \n\" style=\"fill:none;stroke:#b0b0b0;stroke-linecap:square;stroke-width:0.8;\"/>\n     </g>\n     <g id=\"line2d_64\">\n      <g>\n       <use style=\"stroke:#000000;stroke-width:0.8;\" x=\"638.227136\" xlink:href=\"#m1efa2ccf88\" y=\"131.038125\"/>\n      </g>\n     </g>\n     <g id=\"text_37\">\n      <!-- 5.0 -->\n      <defs>\n       <path d=\"M 10.6875 12.40625 \nL 21 12.40625 \nL 21 0 \nL 10.6875 0 \nz\n\" id=\"DejaVuSans-46\"/>\n      </defs>\n      <g transform=\"translate(630.275574 145.636562)scale(0.1 -0.1)\">\n       <use xlink:href=\"#DejaVuSans-53\"/>\n       <use x=\"63.623047\" xlink:href=\"#DejaVuSans-46\"/>\n       <use x=\"95.410156\" xlink:href=\"#DejaVuSans-48\"/>\n      </g>\n     </g>\n    </g>\n    <g id=\"xtick_12\">\n     <g id=\"line2d_65\">\n      <path clip-path=\"url(#pf873b5ac10)\" d=\"M 692.336227 131.038125 \nL 692.336227 22.318125 \n\" style=\"fill:none;stroke:#b0b0b0;stroke-linecap:square;stroke-width:0.8;\"/>\n     </g>\n     <g id=\"line2d_66\">\n      <g>\n       <use style=\"stroke:#000000;stroke-width:0.8;\" x=\"692.336227\" xlink:href=\"#m1efa2ccf88\" y=\"131.038125\"/>\n      </g>\n     </g>\n     <g id=\"text_38\">\n      <!-- 7.5 -->\n      <g transform=\"translate(684.384665 145.636562)scale(0.1 -0.1)\">\n       <use xlink:href=\"#DejaVuSans-55\"/>\n       <use x=\"63.623047\" xlink:href=\"#DejaVuSans-46\"/>\n       <use x=\"95.410156\" xlink:href=\"#DejaVuSans-53\"/>\n      </g>\n     </g>\n    </g>\n   </g>\n   <g id=\"matplotlib.axis_12\">\n    <g id=\"ytick_22\">\n     <g id=\"line2d_67\">\n      <path clip-path=\"url(#pf873b5ac10)\" d=\"M 613.6075 131.038125 \nL 702.8875 131.038125 \n\" style=\"fill:none;stroke:#b0b0b0;stroke-linecap:square;stroke-width:0.8;\"/>\n     </g>\n     <g id=\"line2d_68\">\n      <g>\n       <use style=\"stroke:#000000;stroke-width:0.8;\" x=\"613.6075\" xlink:href=\"#m88d07c3e7f\" y=\"131.038125\"/>\n      </g>\n     </g>\n     <g id=\"text_39\">\n      <!-- 0 -->\n      <g transform=\"translate(600.245 134.837344)scale(0.1 -0.1)\">\n       <use xlink:href=\"#DejaVuSans-48\"/>\n      </g>\n     </g>\n    </g>\n    <g id=\"ytick_23\">\n     <g id=\"line2d_69\">\n      <path clip-path=\"url(#pf873b5ac10)\" d=\"M 613.6075 87.895268 \nL 702.8875 87.895268 \n\" style=\"fill:none;stroke:#b0b0b0;stroke-linecap:square;stroke-width:0.8;\"/>\n     </g>\n     <g id=\"line2d_70\">\n      <g>\n       <use style=\"stroke:#000000;stroke-width:0.8;\" x=\"613.6075\" xlink:href=\"#m88d07c3e7f\" y=\"87.895268\"/>\n      </g>\n     </g>\n     <g id=\"text_40\">\n      <!-- 50 -->\n      <g transform=\"translate(593.8825 91.694487)scale(0.1 -0.1)\">\n       <use xlink:href=\"#DejaVuSans-53\"/>\n       <use x=\"63.623047\" xlink:href=\"#DejaVuSans-48\"/>\n      </g>\n     </g>\n    </g>\n    <g id=\"ytick_24\">\n     <g id=\"line2d_71\">\n      <path clip-path=\"url(#pf873b5ac10)\" d=\"M 613.6075 44.752411 \nL 702.8875 44.752411 \n\" style=\"fill:none;stroke:#b0b0b0;stroke-linecap:square;stroke-width:0.8;\"/>\n     </g>\n     <g id=\"line2d_72\">\n      <g>\n       <use style=\"stroke:#000000;stroke-width:0.8;\" x=\"613.6075\" xlink:href=\"#m88d07c3e7f\" y=\"44.752411\"/>\n      </g>\n     </g>\n     <g id=\"text_41\">\n      <!-- 100 -->\n      <g transform=\"translate(587.52 48.551629)scale(0.1 -0.1)\">\n       <use xlink:href=\"#DejaVuSans-49\"/>\n       <use x=\"63.623047\" xlink:href=\"#DejaVuSans-48\"/>\n       <use x=\"127.246094\" xlink:href=\"#DejaVuSans-48\"/>\n      </g>\n     </g>\n    </g>\n   </g>\n   <g id=\"patch_88\">\n    <path d=\"M 613.6075 131.038125 \nL 613.6075 22.318125 \n\" style=\"fill:none;stroke:#000000;stroke-linecap:square;stroke-linejoin:miter;stroke-width:0.8;\"/>\n   </g>\n   <g id=\"patch_89\">\n    <path d=\"M 702.8875 131.038125 \nL 702.8875 22.318125 \n\" style=\"fill:none;stroke:#000000;stroke-linecap:square;stroke-linejoin:miter;stroke-width:0.8;\"/>\n   </g>\n   <g id=\"patch_90\">\n    <path d=\"M 613.6075 131.038125 \nL 702.8875 131.038125 \n\" style=\"fill:none;stroke:#000000;stroke-linecap:square;stroke-linejoin:miter;stroke-width:0.8;\"/>\n   </g>\n   <g id=\"patch_91\">\n    <path d=\"M 613.6075 22.318125 \nL 702.8875 22.318125 \n\" style=\"fill:none;stroke:#000000;stroke-linecap:square;stroke-linejoin:miter;stroke-width:0.8;\"/>\n   </g>\n   <g id=\"text_42\">\n    <!-- CANCER -->\n    <g transform=\"translate(633.314688 16.318125)scale(0.12 -0.12)\">\n     <use xlink:href=\"#DejaVuSans-67\"/>\n     <use x=\"69.824219\" xlink:href=\"#DejaVuSans-65\"/>\n     <use x=\"138.232422\" xlink:href=\"#DejaVuSans-78\"/>\n     <use x=\"213.037109\" xlink:href=\"#DejaVuSans-67\"/>\n     <use x=\"282.861328\" xlink:href=\"#DejaVuSans-69\"/>\n     <use x=\"346.044922\" xlink:href=\"#DejaVuSans-82\"/>\n    </g>\n   </g>\n  </g>\n  <g id=\"axes_7\">\n   <g id=\"patch_92\">\n    <path d=\"M 33.2875 272.374125 \nL 122.5675 272.374125 \nL 122.5675 163.654125 \nL 33.2875 163.654125 \nz\n\" style=\"fill:#ffffff;\"/>\n   </g>\n   <g id=\"patch_93\">\n    <path clip-path=\"url(#pf26bd42fc5)\" d=\"M 37.345682 272.374125 \nL 45.462045 272.374125 \nL 45.462045 263.114195 \nL 37.345682 263.114195 \nz\n\" style=\"fill:#1f77b4;\"/>\n   </g>\n   <g id=\"patch_94\">\n    <path clip-path=\"url(#pf26bd42fc5)\" d=\"M 45.462045 272.374125 \nL 53.578409 272.374125 \nL 53.578409 233.65078 \nL 45.462045 233.65078 \nz\n\" style=\"fill:#1f77b4;\"/>\n   </g>\n   <g id=\"patch_95\">\n    <path clip-path=\"url(#pf26bd42fc5)\" d=\"M 53.578409 272.374125 \nL 61.694773 272.374125 \nL 61.694773 174.723951 \nL 53.578409 174.723951 \nz\n\" style=\"fill:#1f77b4;\"/>\n   </g>\n   <g id=\"patch_96\">\n    <path clip-path=\"url(#pf26bd42fc5)\" d=\"M 61.694773 272.374125 \nL 69.811136 272.374125 \nL 69.811136 168.831268 \nL 61.694773 168.831268 \nz\n\" style=\"fill:#1f77b4;\"/>\n   </g>\n   <g id=\"patch_97\">\n    <path clip-path=\"url(#pf26bd42fc5)\" d=\"M 69.811136 272.374125 \nL 77.9275 272.374125 \nL 77.9275 189.034752 \nL 69.811136 189.034752 \nz\n\" style=\"fill:#1f77b4;\"/>\n   </g>\n   <g id=\"patch_98\">\n    <path clip-path=\"url(#pf26bd42fc5)\" d=\"M 77.9275 272.374125 \nL 86.043864 272.374125 \nL 86.043864 233.65078 \nL 77.9275 233.65078 \nz\n\" style=\"fill:#1f77b4;\"/>\n   </g>\n   <g id=\"patch_99\">\n    <path clip-path=\"url(#pf26bd42fc5)\" d=\"M 86.043864 272.374125 \nL 94.160227 272.374125 \nL 94.160227 242.91071 \nL 86.043864 242.91071 \nz\n\" style=\"fill:#1f77b4;\"/>\n   </g>\n   <g id=\"patch_100\">\n    <path clip-path=\"url(#pf26bd42fc5)\" d=\"M 94.160227 272.374125 \nL 102.276591 272.374125 \nL 102.276591 264.797818 \nL 94.160227 264.797818 \nz\n\" style=\"fill:#1f77b4;\"/>\n   </g>\n   <g id=\"patch_101\">\n    <path clip-path=\"url(#pf26bd42fc5)\" d=\"M 102.276591 272.374125 \nL 110.392955 272.374125 \nL 110.392955 263.956007 \nL 102.276591 263.956007 \nz\n\" style=\"fill:#1f77b4;\"/>\n   </g>\n   <g id=\"patch_102\">\n    <path clip-path=\"url(#pf26bd42fc5)\" d=\"M 110.392955 272.374125 \nL 118.509318 272.374125 \nL 118.509318 270.690501 \nL 110.392955 270.690501 \nz\n\" style=\"fill:#1f77b4;\"/>\n   </g>\n   <g id=\"matplotlib.axis_13\">\n    <g id=\"xtick_13\">\n     <g id=\"line2d_73\">\n      <path clip-path=\"url(#pf26bd42fc5)\" d=\"M 48.708591 272.374125 \nL 48.708591 163.654125 \n\" style=\"fill:none;stroke:#b0b0b0;stroke-linecap:square;stroke-width:0.8;\"/>\n     </g>\n     <g id=\"line2d_74\">\n      <g>\n       <use style=\"stroke:#000000;stroke-width:0.8;\" x=\"48.708591\" xlink:href=\"#m1efa2ccf88\" y=\"272.374125\"/>\n      </g>\n     </g>\n     <g id=\"text_43\">\n      <!-- 7.5 -->\n      <g transform=\"translate(40.757028 286.972562)scale(0.1 -0.1)\">\n       <use xlink:href=\"#DejaVuSans-55\"/>\n       <use x=\"63.623047\" xlink:href=\"#DejaVuSans-46\"/>\n       <use x=\"95.410156\" xlink:href=\"#DejaVuSans-53\"/>\n      </g>\n     </g>\n    </g>\n    <g id=\"xtick_14\">\n     <g id=\"line2d_75\">\n      <path clip-path=\"url(#pf26bd42fc5)\" d=\"M 75.763136 272.374125 \nL 75.763136 163.654125 \n\" style=\"fill:none;stroke:#b0b0b0;stroke-linecap:square;stroke-width:0.8;\"/>\n     </g>\n     <g id=\"line2d_76\">\n      <g>\n       <use style=\"stroke:#000000;stroke-width:0.8;\" x=\"75.763136\" xlink:href=\"#m1efa2ccf88\" y=\"272.374125\"/>\n      </g>\n     </g>\n     <g id=\"text_44\">\n      <!-- 10.0 -->\n      <g transform=\"translate(64.630324 286.972562)scale(0.1 -0.1)\">\n       <use xlink:href=\"#DejaVuSans-49\"/>\n       <use x=\"63.623047\" xlink:href=\"#DejaVuSans-48\"/>\n       <use x=\"127.246094\" xlink:href=\"#DejaVuSans-46\"/>\n       <use x=\"159.033203\" xlink:href=\"#DejaVuSans-48\"/>\n      </g>\n     </g>\n    </g>\n    <g id=\"xtick_15\">\n     <g id=\"line2d_77\">\n      <path clip-path=\"url(#pf26bd42fc5)\" d=\"M 102.817682 272.374125 \nL 102.817682 163.654125 \n\" style=\"fill:none;stroke:#b0b0b0;stroke-linecap:square;stroke-width:0.8;\"/>\n     </g>\n     <g id=\"line2d_78\">\n      <g>\n       <use style=\"stroke:#000000;stroke-width:0.8;\" x=\"102.817682\" xlink:href=\"#m1efa2ccf88\" y=\"272.374125\"/>\n      </g>\n     </g>\n     <g id=\"text_45\">\n      <!-- 12.5 -->\n      <g transform=\"translate(91.684869 286.972562)scale(0.1 -0.1)\">\n       <use xlink:href=\"#DejaVuSans-49\"/>\n       <use x=\"63.623047\" xlink:href=\"#DejaVuSans-50\"/>\n       <use x=\"127.246094\" xlink:href=\"#DejaVuSans-46\"/>\n       <use x=\"159.033203\" xlink:href=\"#DejaVuSans-53\"/>\n      </g>\n     </g>\n    </g>\n   </g>\n   <g id=\"matplotlib.axis_14\">\n    <g id=\"ytick_25\">\n     <g id=\"line2d_79\">\n      <path clip-path=\"url(#pf26bd42fc5)\" d=\"M 33.2875 272.374125 \nL 122.5675 272.374125 \n\" style=\"fill:none;stroke:#b0b0b0;stroke-linecap:square;stroke-width:0.8;\"/>\n     </g>\n     <g id=\"line2d_80\">\n      <g>\n       <use style=\"stroke:#000000;stroke-width:0.8;\" x=\"33.2875\" xlink:href=\"#m88d07c3e7f\" y=\"272.374125\"/>\n      </g>\n     </g>\n     <g id=\"text_46\">\n      <!-- 0 -->\n      <g transform=\"translate(19.925 276.173344)scale(0.1 -0.1)\">\n       <use xlink:href=\"#DejaVuSans-48\"/>\n      </g>\n     </g>\n    </g>\n    <g id=\"ytick_26\">\n     <g id=\"line2d_81\">\n      <path clip-path=\"url(#pf26bd42fc5)\" d=\"M 33.2875 230.283533 \nL 122.5675 230.283533 \n\" style=\"fill:none;stroke:#b0b0b0;stroke-linecap:square;stroke-width:0.8;\"/>\n     </g>\n     <g id=\"line2d_82\">\n      <g>\n       <use style=\"stroke:#000000;stroke-width:0.8;\" x=\"33.2875\" xlink:href=\"#m88d07c3e7f\" y=\"230.283533\"/>\n      </g>\n     </g>\n     <g id=\"text_47\">\n      <!-- 50 -->\n      <g transform=\"translate(13.5625 234.082751)scale(0.1 -0.1)\">\n       <use xlink:href=\"#DejaVuSans-53\"/>\n       <use x=\"63.623047\" xlink:href=\"#DejaVuSans-48\"/>\n      </g>\n     </g>\n    </g>\n    <g id=\"ytick_27\">\n     <g id=\"line2d_83\">\n      <path clip-path=\"url(#pf26bd42fc5)\" d=\"M 33.2875 188.19294 \nL 122.5675 188.19294 \n\" style=\"fill:none;stroke:#b0b0b0;stroke-linecap:square;stroke-width:0.8;\"/>\n     </g>\n     <g id=\"line2d_84\">\n      <g>\n       <use style=\"stroke:#000000;stroke-width:0.8;\" x=\"33.2875\" xlink:href=\"#m88d07c3e7f\" y=\"188.19294\"/>\n      </g>\n     </g>\n     <g id=\"text_48\">\n      <!-- 100 -->\n      <g transform=\"translate(7.2 191.992159)scale(0.1 -0.1)\">\n       <use xlink:href=\"#DejaVuSans-49\"/>\n       <use x=\"63.623047\" xlink:href=\"#DejaVuSans-48\"/>\n       <use x=\"127.246094\" xlink:href=\"#DejaVuSans-48\"/>\n      </g>\n     </g>\n    </g>\n   </g>\n   <g id=\"patch_103\">\n    <path d=\"M 33.2875 272.374125 \nL 33.2875 163.654125 \n\" style=\"fill:none;stroke:#000000;stroke-linecap:square;stroke-linejoin:miter;stroke-width:0.8;\"/>\n   </g>\n   <g id=\"patch_104\">\n    <path d=\"M 122.5675 272.374125 \nL 122.5675 163.654125 \n\" style=\"fill:none;stroke:#000000;stroke-linecap:square;stroke-linejoin:miter;stroke-width:0.8;\"/>\n   </g>\n   <g id=\"patch_105\">\n    <path d=\"M 33.2875 272.374125 \nL 122.5675 272.374125 \n\" style=\"fill:none;stroke:#000000;stroke-linecap:square;stroke-linejoin:miter;stroke-width:0.8;\"/>\n   </g>\n   <g id=\"patch_106\">\n    <path d=\"M 33.2875 163.654125 \nL 122.5675 163.654125 \n\" style=\"fill:none;stroke:#000000;stroke-linecap:square;stroke-linejoin:miter;stroke-width:0.8;\"/>\n   </g>\n   <g id=\"text_49\">\n    <!-- CASTHMA -->\n    <g transform=\"translate(48.36625 157.654125)scale(0.12 -0.12)\">\n     <use xlink:href=\"#DejaVuSans-67\"/>\n     <use x=\"69.824219\" xlink:href=\"#DejaVuSans-65\"/>\n     <use x=\"138.232422\" xlink:href=\"#DejaVuSans-83\"/>\n     <use x=\"201.708984\" xlink:href=\"#DejaVuSans-84\"/>\n     <use x=\"262.792969\" xlink:href=\"#DejaVuSans-72\"/>\n     <use x=\"337.988281\" xlink:href=\"#DejaVuSans-77\"/>\n     <use x=\"424.267578\" xlink:href=\"#DejaVuSans-65\"/>\n    </g>\n   </g>\n  </g>\n  <g id=\"axes_8\">\n   <g id=\"patch_107\">\n    <path d=\"M 149.3515 272.374125 \nL 238.6315 272.374125 \nL 238.6315 163.654125 \nL 149.3515 163.654125 \nz\n\" style=\"fill:#ffffff;\"/>\n   </g>\n   <g id=\"patch_108\">\n    <path clip-path=\"url(#pf8aa854dee)\" d=\"M 153.409682 272.374125 \nL 161.526045 272.374125 \nL 161.526045 253.736411 \nL 153.409682 253.736411 \nz\n\" style=\"fill:#1f77b4;\"/>\n   </g>\n   <g id=\"patch_109\">\n    <path clip-path=\"url(#pf8aa854dee)\" d=\"M 161.526045 272.374125 \nL 169.642409 272.374125 \nL 169.642409 210.248411 \nL 161.526045 210.248411 \nz\n\" style=\"fill:#1f77b4;\"/>\n   </g>\n   <g id=\"patch_110\">\n    <path clip-path=\"url(#pf8aa854dee)\" d=\"M 169.642409 272.374125 \nL 177.758773 272.374125 \nL 177.758773 180.220982 \nL 169.642409 180.220982 \nz\n\" style=\"fill:#1f77b4;\"/>\n   </g>\n   <g id=\"patch_111\">\n    <path clip-path=\"url(#pf8aa854dee)\" d=\"M 177.758773 272.374125 \nL 185.875136 272.374125 \nL 185.875136 184.362696 \nL 177.758773 184.362696 \nz\n\" style=\"fill:#1f77b4;\"/>\n   </g>\n   <g id=\"patch_112\">\n    <path clip-path=\"url(#pf8aa854dee)\" d=\"M 185.875136 272.374125 \nL 193.9915 272.374125 \nL 193.9915 168.831268 \nL 185.875136 168.831268 \nz\n\" style=\"fill:#1f77b4;\"/>\n   </g>\n   <g id=\"patch_113\">\n    <path clip-path=\"url(#pf8aa854dee)\" d=\"M 193.9915 272.374125 \nL 202.107864 272.374125 \nL 202.107864 188.504411 \nL 193.9915 188.504411 \nz\n\" style=\"fill:#1f77b4;\"/>\n   </g>\n   <g id=\"patch_114\">\n    <path clip-path=\"url(#pf8aa854dee)\" d=\"M 202.107864 272.374125 \nL 210.224227 272.374125 \nL 210.224227 229.921554 \nL 202.107864 229.921554 \nz\n\" style=\"fill:#1f77b4;\"/>\n   </g>\n   <g id=\"patch_115\">\n    <path clip-path=\"url(#pf8aa854dee)\" d=\"M 210.224227 272.374125 \nL 218.340591 272.374125 \nL 218.340591 258.913554 \nL 210.224227 258.913554 \nz\n\" style=\"fill:#1f77b4;\"/>\n   </g>\n   <g id=\"patch_116\">\n    <path clip-path=\"url(#pf8aa854dee)\" d=\"M 218.340591 272.374125 \nL 226.456955 272.374125 \nL 226.456955 264.090696 \nL 218.340591 264.090696 \nz\n\" style=\"fill:#1f77b4;\"/>\n   </g>\n   <g id=\"patch_117\">\n    <path clip-path=\"url(#pf8aa854dee)\" d=\"M 226.456955 272.374125 \nL 234.573318 272.374125 \nL 234.573318 270.303268 \nL 226.456955 270.303268 \nz\n\" style=\"fill:#1f77b4;\"/>\n   </g>\n   <g id=\"matplotlib.axis_15\">\n    <g id=\"xtick_16\">\n     <g id=\"line2d_85\">\n      <path clip-path=\"url(#pf8aa854dee)\" d=\"M 174.582804 272.374125 \nL 174.582804 163.654125 \n\" style=\"fill:none;stroke:#b0b0b0;stroke-linecap:square;stroke-width:0.8;\"/>\n     </g>\n     <g id=\"line2d_86\">\n      <g>\n       <use style=\"stroke:#000000;stroke-width:0.8;\" x=\"174.582804\" xlink:href=\"#m1efa2ccf88\" y=\"272.374125\"/>\n      </g>\n     </g>\n     <g id=\"text_50\">\n      <!-- 5.0 -->\n      <g transform=\"translate(166.631242 286.972562)scale(0.1 -0.1)\">\n       <use xlink:href=\"#DejaVuSans-53\"/>\n       <use x=\"63.623047\" xlink:href=\"#DejaVuSans-46\"/>\n       <use x=\"95.410156\" xlink:href=\"#DejaVuSans-48\"/>\n      </g>\n     </g>\n    </g>\n    <g id=\"xtick_17\">\n     <g id=\"line2d_87\">\n      <path clip-path=\"url(#pf8aa854dee)\" d=\"M 209.871342 272.374125 \nL 209.871342 163.654125 \n\" style=\"fill:none;stroke:#b0b0b0;stroke-linecap:square;stroke-width:0.8;\"/>\n     </g>\n     <g id=\"line2d_88\">\n      <g>\n       <use style=\"stroke:#000000;stroke-width:0.8;\" x=\"209.871342\" xlink:href=\"#m1efa2ccf88\" y=\"272.374125\"/>\n      </g>\n     </g>\n     <g id=\"text_51\">\n      <!-- 7.5 -->\n      <g transform=\"translate(201.919779 286.972562)scale(0.1 -0.1)\">\n       <use xlink:href=\"#DejaVuSans-55\"/>\n       <use x=\"63.623047\" xlink:href=\"#DejaVuSans-46\"/>\n       <use x=\"95.410156\" xlink:href=\"#DejaVuSans-53\"/>\n      </g>\n     </g>\n    </g>\n   </g>\n   <g id=\"matplotlib.axis_16\">\n    <g id=\"ytick_28\">\n     <g id=\"line2d_89\">\n      <path clip-path=\"url(#pf8aa854dee)\" d=\"M 149.3515 272.374125 \nL 238.6315 272.374125 \n\" style=\"fill:none;stroke:#b0b0b0;stroke-linecap:square;stroke-width:0.8;\"/>\n     </g>\n     <g id=\"line2d_90\">\n      <g>\n       <use style=\"stroke:#000000;stroke-width:0.8;\" x=\"149.3515\" xlink:href=\"#m88d07c3e7f\" y=\"272.374125\"/>\n      </g>\n     </g>\n     <g id=\"text_52\">\n      <!-- 0 -->\n      <g transform=\"translate(135.989 276.173344)scale(0.1 -0.1)\">\n       <use xlink:href=\"#DejaVuSans-48\"/>\n      </g>\n     </g>\n    </g>\n    <g id=\"ytick_29\">\n     <g id=\"line2d_91\">\n      <path clip-path=\"url(#pf8aa854dee)\" d=\"M 149.3515 246.488411 \nL 238.6315 246.488411 \n\" style=\"fill:none;stroke:#b0b0b0;stroke-linecap:square;stroke-width:0.8;\"/>\n     </g>\n     <g id=\"line2d_92\">\n      <g>\n       <use style=\"stroke:#000000;stroke-width:0.8;\" x=\"149.3515\" xlink:href=\"#m88d07c3e7f\" y=\"246.488411\"/>\n      </g>\n     </g>\n     <g id=\"text_53\">\n      <!-- 25 -->\n      <g transform=\"translate(129.6265 250.287629)scale(0.1 -0.1)\">\n       <use xlink:href=\"#DejaVuSans-50\"/>\n       <use x=\"63.623047\" xlink:href=\"#DejaVuSans-53\"/>\n      </g>\n     </g>\n    </g>\n    <g id=\"ytick_30\">\n     <g id=\"line2d_93\">\n      <path clip-path=\"url(#pf8aa854dee)\" d=\"M 149.3515 220.602696 \nL 238.6315 220.602696 \n\" style=\"fill:none;stroke:#b0b0b0;stroke-linecap:square;stroke-width:0.8;\"/>\n     </g>\n     <g id=\"line2d_94\">\n      <g>\n       <use style=\"stroke:#000000;stroke-width:0.8;\" x=\"149.3515\" xlink:href=\"#m88d07c3e7f\" y=\"220.602696\"/>\n      </g>\n     </g>\n     <g id=\"text_54\">\n      <!-- 50 -->\n      <g transform=\"translate(129.6265 224.401915)scale(0.1 -0.1)\">\n       <use xlink:href=\"#DejaVuSans-53\"/>\n       <use x=\"63.623047\" xlink:href=\"#DejaVuSans-48\"/>\n      </g>\n     </g>\n    </g>\n    <g id=\"ytick_31\">\n     <g id=\"line2d_95\">\n      <path clip-path=\"url(#pf8aa854dee)\" d=\"M 149.3515 194.716982 \nL 238.6315 194.716982 \n\" style=\"fill:none;stroke:#b0b0b0;stroke-linecap:square;stroke-width:0.8;\"/>\n     </g>\n     <g id=\"line2d_96\">\n      <g>\n       <use style=\"stroke:#000000;stroke-width:0.8;\" x=\"149.3515\" xlink:href=\"#m88d07c3e7f\" y=\"194.716982\"/>\n      </g>\n     </g>\n     <g id=\"text_55\">\n      <!-- 75 -->\n      <g transform=\"translate(129.6265 198.516201)scale(0.1 -0.1)\">\n       <use xlink:href=\"#DejaVuSans-55\"/>\n       <use x=\"63.623047\" xlink:href=\"#DejaVuSans-53\"/>\n      </g>\n     </g>\n    </g>\n    <g id=\"ytick_32\">\n     <g id=\"line2d_97\">\n      <path clip-path=\"url(#pf8aa854dee)\" d=\"M 149.3515 168.831268 \nL 238.6315 168.831268 \n\" style=\"fill:none;stroke:#b0b0b0;stroke-linecap:square;stroke-width:0.8;\"/>\n     </g>\n     <g id=\"line2d_98\">\n      <g>\n       <use style=\"stroke:#000000;stroke-width:0.8;\" x=\"149.3515\" xlink:href=\"#m88d07c3e7f\" y=\"168.831268\"/>\n      </g>\n     </g>\n     <g id=\"text_56\">\n      <!-- 100 -->\n      <g transform=\"translate(123.264 172.630487)scale(0.1 -0.1)\">\n       <use xlink:href=\"#DejaVuSans-49\"/>\n       <use x=\"63.623047\" xlink:href=\"#DejaVuSans-48\"/>\n       <use x=\"127.246094\" xlink:href=\"#DejaVuSans-48\"/>\n      </g>\n     </g>\n    </g>\n   </g>\n   <g id=\"patch_118\">\n    <path d=\"M 149.3515 272.374125 \nL 149.3515 163.654125 \n\" style=\"fill:none;stroke:#000000;stroke-linecap:square;stroke-linejoin:miter;stroke-width:0.8;\"/>\n   </g>\n   <g id=\"patch_119\">\n    <path d=\"M 238.6315 272.374125 \nL 238.6315 163.654125 \n\" style=\"fill:none;stroke:#000000;stroke-linecap:square;stroke-linejoin:miter;stroke-width:0.8;\"/>\n   </g>\n   <g id=\"patch_120\">\n    <path d=\"M 149.3515 272.374125 \nL 238.6315 272.374125 \n\" style=\"fill:none;stroke:#000000;stroke-linecap:square;stroke-linejoin:miter;stroke-width:0.8;\"/>\n   </g>\n   <g id=\"patch_121\">\n    <path d=\"M 149.3515 163.654125 \nL 238.6315 163.654125 \n\" style=\"fill:none;stroke:#000000;stroke-linecap:square;stroke-linejoin:miter;stroke-width:0.8;\"/>\n   </g>\n   <g id=\"text_57\">\n    <!-- CHD -->\n    <g transform=\"translate(180.669625 157.654125)scale(0.12 -0.12)\">\n     <use xlink:href=\"#DejaVuSans-67\"/>\n     <use x=\"69.824219\" xlink:href=\"#DejaVuSans-72\"/>\n     <use x=\"145.019531\" xlink:href=\"#DejaVuSans-68\"/>\n    </g>\n   </g>\n  </g>\n  <g id=\"axes_9\">\n   <g id=\"patch_122\">\n    <path d=\"M 265.4155 272.374125 \nL 354.6955 272.374125 \nL 354.6955 163.654125 \nL 265.4155 163.654125 \nz\n\" style=\"fill:#ffffff;\"/>\n   </g>\n   <g id=\"patch_123\">\n    <path clip-path=\"url(#p548994bbd6)\" d=\"M 269.473682 272.374125 \nL 277.590045 272.374125 \nL 277.590045 265.693941 \nL 269.473682 265.693941 \nz\n\" style=\"fill:#1f77b4;\"/>\n   </g>\n   <g id=\"patch_124\">\n    <path clip-path=\"url(#p548994bbd6)\" d=\"M 277.590045 272.374125 \nL 285.706409 272.374125 \nL 285.706409 261.240484 \nL 277.590045 261.240484 \nz\n\" style=\"fill:#1f77b4;\"/>\n   </g>\n   <g id=\"patch_125\">\n    <path clip-path=\"url(#p548994bbd6)\" d=\"M 285.706409 272.374125 \nL 293.822773 272.374125 \nL 293.822773 227.839563 \nL 285.706409 227.839563 \nz\n\" style=\"fill:#1f77b4;\"/>\n   </g>\n   <g id=\"patch_126\">\n    <path clip-path=\"url(#p548994bbd6)\" d=\"M 293.822773 272.374125 \nL 301.939136 272.374125 \nL 301.939136 168.831268 \nL 293.822773 168.831268 \nz\n\" style=\"fill:#1f77b4;\"/>\n   </g>\n   <g id=\"patch_127\">\n    <path clip-path=\"url(#p548994bbd6)\" d=\"M 301.939136 272.374125 \nL 310.0555 272.374125 \nL 310.0555 169.944632 \nL 301.939136 169.944632 \nz\n\" style=\"fill:#1f77b4;\"/>\n   </g>\n   <g id=\"patch_128\">\n    <path clip-path=\"url(#p548994bbd6)\" d=\"M 310.0555 272.374125 \nL 318.171864 272.374125 \nL 318.171864 174.398088 \nL 310.0555 174.398088 \nz\n\" style=\"fill:#1f77b4;\"/>\n   </g>\n   <g id=\"patch_129\">\n    <path clip-path=\"url(#p548994bbd6)\" d=\"M 318.171864 272.374125 \nL 326.288227 272.374125 \nL 326.288227 217.819286 \nL 318.171864 217.819286 \nz\n\" style=\"fill:#1f77b4;\"/>\n   </g>\n   <g id=\"patch_130\">\n    <path clip-path=\"url(#p548994bbd6)\" d=\"M 326.288227 272.374125 \nL 334.404591 272.374125 \nL 334.404591 205.572282 \nL 326.288227 205.572282 \nz\n\" style=\"fill:#1f77b4;\"/>\n   </g>\n   <g id=\"patch_131\">\n    <path clip-path=\"url(#p548994bbd6)\" d=\"M 334.404591 272.374125 \nL 342.520955 272.374125 \nL 342.520955 218.93265 \nL 334.404591 218.93265 \nz\n\" style=\"fill:#1f77b4;\"/>\n   </g>\n   <g id=\"patch_132\">\n    <path clip-path=\"url(#p548994bbd6)\" d=\"M 342.520955 272.374125 \nL 350.637318 272.374125 \nL 350.637318 260.12712 \nL 342.520955 260.12712 \nz\n\" style=\"fill:#1f77b4;\"/>\n   </g>\n   <g id=\"matplotlib.axis_17\">\n    <g id=\"xtick_18\">\n     <g id=\"line2d_99\">\n      <path clip-path=\"url(#p548994bbd6)\" d=\"M 285.948237 272.374125 \nL 285.948237 163.654125 \n\" style=\"fill:none;stroke:#b0b0b0;stroke-linecap:square;stroke-width:0.8;\"/>\n     </g>\n     <g id=\"line2d_100\">\n      <g>\n       <use style=\"stroke:#000000;stroke-width:0.8;\" x=\"285.948237\" xlink:href=\"#m1efa2ccf88\" y=\"272.374125\"/>\n      </g>\n     </g>\n     <g id=\"text_58\">\n      <!-- 60 -->\n      <g transform=\"translate(279.585737 286.972562)scale(0.1 -0.1)\">\n       <use xlink:href=\"#DejaVuSans-54\"/>\n       <use x=\"63.623047\" xlink:href=\"#DejaVuSans-48\"/>\n      </g>\n     </g>\n    </g>\n    <g id=\"xtick_19\">\n     <g id=\"line2d_101\">\n      <path clip-path=\"url(#p548994bbd6)\" d=\"M 346.405322 272.374125 \nL 346.405322 163.654125 \n\" style=\"fill:none;stroke:#b0b0b0;stroke-linecap:square;stroke-width:0.8;\"/>\n     </g>\n     <g id=\"line2d_102\">\n      <g>\n       <use style=\"stroke:#000000;stroke-width:0.8;\" x=\"346.405322\" xlink:href=\"#m1efa2ccf88\" y=\"272.374125\"/>\n      </g>\n     </g>\n     <g id=\"text_59\">\n      <!-- 80 -->\n      <defs>\n       <path d=\"M 31.78125 34.625 \nQ 24.75 34.625 20.71875 30.859375 \nQ 16.703125 27.09375 16.703125 20.515625 \nQ 16.703125 13.921875 20.71875 10.15625 \nQ 24.75 6.390625 31.78125 6.390625 \nQ 38.8125 6.390625 42.859375 10.171875 \nQ 46.921875 13.96875 46.921875 20.515625 \nQ 46.921875 27.09375 42.890625 30.859375 \nQ 38.875 34.625 31.78125 34.625 \nz\nM 21.921875 38.8125 \nQ 15.578125 40.375 12.03125 44.71875 \nQ 8.5 49.078125 8.5 55.328125 \nQ 8.5 64.0625 14.71875 69.140625 \nQ 20.953125 74.21875 31.78125 74.21875 \nQ 42.671875 74.21875 48.875 69.140625 \nQ 55.078125 64.0625 55.078125 55.328125 \nQ 55.078125 49.078125 51.53125 44.71875 \nQ 48 40.375 41.703125 38.8125 \nQ 48.828125 37.15625 52.796875 32.3125 \nQ 56.78125 27.484375 56.78125 20.515625 \nQ 56.78125 9.90625 50.3125 4.234375 \nQ 43.84375 -1.421875 31.78125 -1.421875 \nQ 19.734375 -1.421875 13.25 4.234375 \nQ 6.78125 9.90625 6.78125 20.515625 \nQ 6.78125 27.484375 10.78125 32.3125 \nQ 14.796875 37.15625 21.921875 38.8125 \nz\nM 18.3125 54.390625 \nQ 18.3125 48.734375 21.84375 45.5625 \nQ 25.390625 42.390625 31.78125 42.390625 \nQ 38.140625 42.390625 41.71875 45.5625 \nQ 45.3125 48.734375 45.3125 54.390625 \nQ 45.3125 60.0625 41.71875 63.234375 \nQ 38.140625 66.40625 31.78125 66.40625 \nQ 25.390625 66.40625 21.84375 63.234375 \nQ 18.3125 60.0625 18.3125 54.390625 \nz\n\" id=\"DejaVuSans-56\"/>\n      </defs>\n      <g transform=\"translate(340.042822 286.972562)scale(0.1 -0.1)\">\n       <use xlink:href=\"#DejaVuSans-56\"/>\n       <use x=\"63.623047\" xlink:href=\"#DejaVuSans-48\"/>\n      </g>\n     </g>\n    </g>\n   </g>\n   <g id=\"matplotlib.axis_18\">\n    <g id=\"ytick_33\">\n     <g id=\"line2d_103\">\n      <path clip-path=\"url(#p548994bbd6)\" d=\"M 265.4155 272.374125 \nL 354.6955 272.374125 \n\" style=\"fill:none;stroke:#b0b0b0;stroke-linecap:square;stroke-width:0.8;\"/>\n     </g>\n     <g id=\"line2d_104\">\n      <g>\n       <use style=\"stroke:#000000;stroke-width:0.8;\" x=\"265.4155\" xlink:href=\"#m88d07c3e7f\" y=\"272.374125\"/>\n      </g>\n     </g>\n     <g id=\"text_60\">\n      <!-- 0 -->\n      <g transform=\"translate(252.053 276.173344)scale(0.1 -0.1)\">\n       <use xlink:href=\"#DejaVuSans-48\"/>\n      </g>\n     </g>\n    </g>\n    <g id=\"ytick_34\">\n     <g id=\"line2d_105\">\n      <path clip-path=\"url(#p548994bbd6)\" d=\"M 265.4155 250.106844 \nL 354.6955 250.106844 \n\" style=\"fill:none;stroke:#b0b0b0;stroke-linecap:square;stroke-width:0.8;\"/>\n     </g>\n     <g id=\"line2d_106\">\n      <g>\n       <use style=\"stroke:#000000;stroke-width:0.8;\" x=\"265.4155\" xlink:href=\"#m88d07c3e7f\" y=\"250.106844\"/>\n      </g>\n     </g>\n     <g id=\"text_61\">\n      <!-- 20 -->\n      <g transform=\"translate(245.6905 253.906063)scale(0.1 -0.1)\">\n       <use xlink:href=\"#DejaVuSans-50\"/>\n       <use x=\"63.623047\" xlink:href=\"#DejaVuSans-48\"/>\n      </g>\n     </g>\n    </g>\n    <g id=\"ytick_35\">\n     <g id=\"line2d_107\">\n      <path clip-path=\"url(#p548994bbd6)\" d=\"M 265.4155 227.839563 \nL 354.6955 227.839563 \n\" style=\"fill:none;stroke:#b0b0b0;stroke-linecap:square;stroke-width:0.8;\"/>\n     </g>\n     <g id=\"line2d_108\">\n      <g>\n       <use style=\"stroke:#000000;stroke-width:0.8;\" x=\"265.4155\" xlink:href=\"#m88d07c3e7f\" y=\"227.839563\"/>\n      </g>\n     </g>\n     <g id=\"text_62\">\n      <!-- 40 -->\n      <g transform=\"translate(245.6905 231.638782)scale(0.1 -0.1)\">\n       <use xlink:href=\"#DejaVuSans-52\"/>\n       <use x=\"63.623047\" xlink:href=\"#DejaVuSans-48\"/>\n      </g>\n     </g>\n    </g>\n    <g id=\"ytick_36\">\n     <g id=\"line2d_109\">\n      <path clip-path=\"url(#p548994bbd6)\" d=\"M 265.4155 205.572282 \nL 354.6955 205.572282 \n\" style=\"fill:none;stroke:#b0b0b0;stroke-linecap:square;stroke-width:0.8;\"/>\n     </g>\n     <g id=\"line2d_110\">\n      <g>\n       <use style=\"stroke:#000000;stroke-width:0.8;\" x=\"265.4155\" xlink:href=\"#m88d07c3e7f\" y=\"205.572282\"/>\n      </g>\n     </g>\n     <g id=\"text_63\">\n      <!-- 60 -->\n      <g transform=\"translate(245.6905 209.3715)scale(0.1 -0.1)\">\n       <use xlink:href=\"#DejaVuSans-54\"/>\n       <use x=\"63.623047\" xlink:href=\"#DejaVuSans-48\"/>\n      </g>\n     </g>\n    </g>\n    <g id=\"ytick_37\">\n     <g id=\"line2d_111\">\n      <path clip-path=\"url(#p548994bbd6)\" d=\"M 265.4155 183.305001 \nL 354.6955 183.305001 \n\" style=\"fill:none;stroke:#b0b0b0;stroke-linecap:square;stroke-width:0.8;\"/>\n     </g>\n     <g id=\"line2d_112\">\n      <g>\n       <use style=\"stroke:#000000;stroke-width:0.8;\" x=\"265.4155\" xlink:href=\"#m88d07c3e7f\" y=\"183.305001\"/>\n      </g>\n     </g>\n     <g id=\"text_64\">\n      <!-- 80 -->\n      <g transform=\"translate(245.6905 187.104219)scale(0.1 -0.1)\">\n       <use xlink:href=\"#DejaVuSans-56\"/>\n       <use x=\"63.623047\" xlink:href=\"#DejaVuSans-48\"/>\n      </g>\n     </g>\n    </g>\n   </g>\n   <g id=\"patch_133\">\n    <path d=\"M 265.4155 272.374125 \nL 265.4155 163.654125 \n\" style=\"fill:none;stroke:#000000;stroke-linecap:square;stroke-linejoin:miter;stroke-width:0.8;\"/>\n   </g>\n   <g id=\"patch_134\">\n    <path d=\"M 354.6955 272.374125 \nL 354.6955 163.654125 \n\" style=\"fill:none;stroke:#000000;stroke-linecap:square;stroke-linejoin:miter;stroke-width:0.8;\"/>\n   </g>\n   <g id=\"patch_135\">\n    <path d=\"M 265.4155 272.374125 \nL 354.6955 272.374125 \n\" style=\"fill:none;stroke:#000000;stroke-linecap:square;stroke-linejoin:miter;stroke-width:0.8;\"/>\n   </g>\n   <g id=\"patch_136\">\n    <path d=\"M 265.4155 163.654125 \nL 354.6955 163.654125 \n\" style=\"fill:none;stroke:#000000;stroke-linecap:square;stroke-linejoin:miter;stroke-width:0.8;\"/>\n   </g>\n   <g id=\"text_65\">\n    <!-- CHECKUP -->\n    <defs>\n     <path d=\"M 9.8125 72.90625 \nL 19.671875 72.90625 \nL 19.671875 42.09375 \nL 52.390625 72.90625 \nL 65.09375 72.90625 \nL 28.90625 38.921875 \nL 67.671875 0 \nL 54.6875 0 \nL 19.671875 35.109375 \nL 19.671875 0 \nL 9.8125 0 \nz\n\" id=\"DejaVuSans-75\"/>\n     <path d=\"M 8.6875 72.90625 \nL 18.609375 72.90625 \nL 18.609375 28.609375 \nQ 18.609375 16.890625 22.84375 11.734375 \nQ 27.09375 6.59375 36.625 6.59375 \nQ 46.09375 6.59375 50.34375 11.734375 \nQ 54.59375 16.890625 54.59375 28.609375 \nL 54.59375 72.90625 \nL 64.5 72.90625 \nL 64.5 27.390625 \nQ 64.5 13.140625 57.4375 5.859375 \nQ 50.390625 -1.421875 36.625 -1.421875 \nQ 22.796875 -1.421875 15.734375 5.859375 \nQ 8.6875 13.140625 8.6875 27.390625 \nz\n\" id=\"DejaVuSans-85\"/>\n    </defs>\n    <g transform=\"translate(281.586438 157.654125)scale(0.12 -0.12)\">\n     <use xlink:href=\"#DejaVuSans-67\"/>\n     <use x=\"69.824219\" xlink:href=\"#DejaVuSans-72\"/>\n     <use x=\"145.019531\" xlink:href=\"#DejaVuSans-69\"/>\n     <use x=\"208.203125\" xlink:href=\"#DejaVuSans-67\"/>\n     <use x=\"278.027344\" xlink:href=\"#DejaVuSans-75\"/>\n     <use x=\"340.978516\" xlink:href=\"#DejaVuSans-85\"/>\n     <use x=\"414.171875\" xlink:href=\"#DejaVuSans-80\"/>\n    </g>\n   </g>\n  </g>\n  <g id=\"axes_10\">\n   <g id=\"patch_137\">\n    <path d=\"M 381.4795 272.374125 \nL 470.7595 272.374125 \nL 470.7595 163.654125 \nL 381.4795 163.654125 \nz\n\" style=\"fill:#ffffff;\"/>\n   </g>\n   <g id=\"patch_138\">\n    <path clip-path=\"url(#pd3188bb50b)\" d=\"M 385.537682 272.374125 \nL 393.654045 272.374125 \nL 393.654045 271.539102 \nL 385.537682 271.539102 \nz\n\" style=\"fill:#1f77b4;\"/>\n   </g>\n   <g id=\"patch_139\">\n    <path clip-path=\"url(#pd3188bb50b)\" d=\"M 393.654045 272.374125 \nL 401.770409 272.374125 \nL 401.770409 272.374125 \nL 393.654045 272.374125 \nz\n\" style=\"fill:#1f77b4;\"/>\n   </g>\n   <g id=\"patch_140\">\n    <path clip-path=\"url(#pd3188bb50b)\" d=\"M 401.770409 272.374125 \nL 409.886773 272.374125 \nL 409.886773 269.034033 \nL 401.770409 269.034033 \nz\n\" style=\"fill:#1f77b4;\"/>\n   </g>\n   <g id=\"patch_141\">\n    <path clip-path=\"url(#pd3188bb50b)\" d=\"M 409.886773 272.374125 \nL 418.003136 272.374125 \nL 418.003136 259.013756 \nL 409.886773 259.013756 \nz\n\" style=\"fill:#1f77b4;\"/>\n   </g>\n   <g id=\"patch_142\">\n    <path clip-path=\"url(#pd3188bb50b)\" d=\"M 418.003136 272.374125 \nL 426.1195 272.374125 \nL 426.1195 231.457996 \nL 418.003136 231.457996 \nz\n\" style=\"fill:#1f77b4;\"/>\n   </g>\n   <g id=\"patch_143\">\n    <path clip-path=\"url(#pd3188bb50b)\" d=\"M 426.1195 272.374125 \nL 434.235864 272.374125 \nL 434.235864 168.831268 \nL 426.1195 168.831268 \nz\n\" style=\"fill:#1f77b4;\"/>\n   </g>\n   <g id=\"patch_144\">\n    <path clip-path=\"url(#pd3188bb50b)\" d=\"M 434.235864 272.374125 \nL 442.352227 272.374125 \nL 442.352227 173.841406 \nL 434.235864 173.841406 \nz\n\" style=\"fill:#1f77b4;\"/>\n   </g>\n   <g id=\"patch_145\">\n    <path clip-path=\"url(#pd3188bb50b)\" d=\"M 442.352227 272.374125 \nL 450.468591 272.374125 \nL 450.468591 185.531729 \nL 442.352227 185.531729 \nz\n\" style=\"fill:#1f77b4;\"/>\n   </g>\n   <g id=\"patch_146\">\n    <path clip-path=\"url(#pd3188bb50b)\" d=\"M 450.468591 272.374125 \nL 458.584955 272.374125 \nL 458.584955 223.107766 \nL 450.468591 223.107766 \nz\n\" style=\"fill:#1f77b4;\"/>\n   </g>\n   <g id=\"patch_147\">\n    <path clip-path=\"url(#pd3188bb50b)\" d=\"M 458.584955 272.374125 \nL 466.701318 272.374125 \nL 466.701318 254.003618 \nL 458.584955 254.003618 \nz\n\" style=\"fill:#1f77b4;\"/>\n   </g>\n   <g id=\"matplotlib.axis_19\">\n    <g id=\"xtick_20\">\n     <g id=\"line2d_113\">\n      <path clip-path=\"url(#pd3188bb50b)\" d=\"M 398.675681 272.374125 \nL 398.675681 163.654125 \n\" style=\"fill:none;stroke:#b0b0b0;stroke-linecap:square;stroke-width:0.8;\"/>\n     </g>\n     <g id=\"line2d_114\">\n      <g>\n       <use style=\"stroke:#000000;stroke-width:0.8;\" x=\"398.675681\" xlink:href=\"#m1efa2ccf88\" y=\"272.374125\"/>\n      </g>\n     </g>\n     <g id=\"text_66\">\n      <!-- 60 -->\n      <g transform=\"translate(392.313181 286.972562)scale(0.1 -0.1)\">\n       <use xlink:href=\"#DejaVuSans-54\"/>\n       <use x=\"63.623047\" xlink:href=\"#DejaVuSans-48\"/>\n      </g>\n     </g>\n    </g>\n    <g id=\"xtick_21\">\n     <g id=\"line2d_115\">\n      <path clip-path=\"url(#pd3188bb50b)\" d=\"M 457.066786 272.374125 \nL 457.066786 163.654125 \n\" style=\"fill:none;stroke:#b0b0b0;stroke-linecap:square;stroke-width:0.8;\"/>\n     </g>\n     <g id=\"line2d_116\">\n      <g>\n       <use style=\"stroke:#000000;stroke-width:0.8;\" x=\"457.066786\" xlink:href=\"#m1efa2ccf88\" y=\"272.374125\"/>\n      </g>\n     </g>\n     <g id=\"text_67\">\n      <!-- 80 -->\n      <g transform=\"translate(450.704286 286.972562)scale(0.1 -0.1)\">\n       <use xlink:href=\"#DejaVuSans-56\"/>\n       <use x=\"63.623047\" xlink:href=\"#DejaVuSans-48\"/>\n      </g>\n     </g>\n    </g>\n   </g>\n   <g id=\"matplotlib.axis_20\">\n    <g id=\"ytick_38\">\n     <g id=\"line2d_117\">\n      <path clip-path=\"url(#pd3188bb50b)\" d=\"M 381.4795 272.374125 \nL 470.7595 272.374125 \n\" style=\"fill:none;stroke:#b0b0b0;stroke-linecap:square;stroke-width:0.8;\"/>\n     </g>\n     <g id=\"line2d_118\">\n      <g>\n       <use style=\"stroke:#000000;stroke-width:0.8;\" x=\"381.4795\" xlink:href=\"#m88d07c3e7f\" y=\"272.374125\"/>\n      </g>\n     </g>\n     <g id=\"text_68\">\n      <!-- 0 -->\n      <g transform=\"translate(368.117 276.173344)scale(0.1 -0.1)\">\n       <use xlink:href=\"#DejaVuSans-48\"/>\n      </g>\n     </g>\n    </g>\n    <g id=\"ytick_39\">\n     <g id=\"line2d_119\">\n      <path clip-path=\"url(#pd3188bb50b)\" d=\"M 381.4795 230.622973 \nL 470.7595 230.622973 \n\" style=\"fill:none;stroke:#b0b0b0;stroke-linecap:square;stroke-width:0.8;\"/>\n     </g>\n     <g id=\"line2d_120\">\n      <g>\n       <use style=\"stroke:#000000;stroke-width:0.8;\" x=\"381.4795\" xlink:href=\"#m88d07c3e7f\" y=\"230.622973\"/>\n      </g>\n     </g>\n     <g id=\"text_69\">\n      <!-- 50 -->\n      <g transform=\"translate(361.7545 234.422192)scale(0.1 -0.1)\">\n       <use xlink:href=\"#DejaVuSans-53\"/>\n       <use x=\"63.623047\" xlink:href=\"#DejaVuSans-48\"/>\n      </g>\n     </g>\n    </g>\n    <g id=\"ytick_40\">\n     <g id=\"line2d_121\">\n      <path clip-path=\"url(#pd3188bb50b)\" d=\"M 381.4795 188.871821 \nL 470.7595 188.871821 \n\" style=\"fill:none;stroke:#b0b0b0;stroke-linecap:square;stroke-width:0.8;\"/>\n     </g>\n     <g id=\"line2d_122\">\n      <g>\n       <use style=\"stroke:#000000;stroke-width:0.8;\" x=\"381.4795\" xlink:href=\"#m88d07c3e7f\" y=\"188.871821\"/>\n      </g>\n     </g>\n     <g id=\"text_70\">\n      <!-- 100 -->\n      <g transform=\"translate(355.392 192.67104)scale(0.1 -0.1)\">\n       <use xlink:href=\"#DejaVuSans-49\"/>\n       <use x=\"63.623047\" xlink:href=\"#DejaVuSans-48\"/>\n       <use x=\"127.246094\" xlink:href=\"#DejaVuSans-48\"/>\n      </g>\n     </g>\n    </g>\n   </g>\n   <g id=\"patch_148\">\n    <path d=\"M 381.4795 272.374125 \nL 381.4795 163.654125 \n\" style=\"fill:none;stroke:#000000;stroke-linecap:square;stroke-linejoin:miter;stroke-width:0.8;\"/>\n   </g>\n   <g id=\"patch_149\">\n    <path d=\"M 470.7595 272.374125 \nL 470.7595 163.654125 \n\" style=\"fill:none;stroke:#000000;stroke-linecap:square;stroke-linejoin:miter;stroke-width:0.8;\"/>\n   </g>\n   <g id=\"patch_150\">\n    <path d=\"M 381.4795 272.374125 \nL 470.7595 272.374125 \n\" style=\"fill:none;stroke:#000000;stroke-linecap:square;stroke-linejoin:miter;stroke-width:0.8;\"/>\n   </g>\n   <g id=\"patch_151\">\n    <path d=\"M 381.4795 163.654125 \nL 470.7595 163.654125 \n\" style=\"fill:none;stroke:#000000;stroke-linecap:square;stroke-linejoin:miter;stroke-width:0.8;\"/>\n   </g>\n   <g id=\"text_71\">\n    <!-- CHOLSCREEN -->\n    <defs>\n     <path d=\"M 39.40625 66.21875 \nQ 28.65625 66.21875 22.328125 58.203125 \nQ 16.015625 50.203125 16.015625 36.375 \nQ 16.015625 22.609375 22.328125 14.59375 \nQ 28.65625 6.59375 39.40625 6.59375 \nQ 50.140625 6.59375 56.421875 14.59375 \nQ 62.703125 22.609375 62.703125 36.375 \nQ 62.703125 50.203125 56.421875 58.203125 \nQ 50.140625 66.21875 39.40625 66.21875 \nz\nM 39.40625 74.21875 \nQ 54.734375 74.21875 63.90625 63.9375 \nQ 73.09375 53.65625 73.09375 36.375 \nQ 73.09375 19.140625 63.90625 8.859375 \nQ 54.734375 -1.421875 39.40625 -1.421875 \nQ 24.03125 -1.421875 14.8125 8.828125 \nQ 5.609375 19.09375 5.609375 36.375 \nQ 5.609375 53.65625 14.8125 63.9375 \nQ 24.03125 74.21875 39.40625 74.21875 \nz\n\" id=\"DejaVuSans-79\"/>\n     <path d=\"M 9.8125 72.90625 \nL 19.671875 72.90625 \nL 19.671875 8.296875 \nL 55.171875 8.296875 \nL 55.171875 0 \nL 9.8125 0 \nz\n\" id=\"DejaVuSans-76\"/>\n    </defs>\n    <g transform=\"translate(385.112313 157.654125)scale(0.12 -0.12)\">\n     <use xlink:href=\"#DejaVuSans-67\"/>\n     <use x=\"69.824219\" xlink:href=\"#DejaVuSans-72\"/>\n     <use x=\"145.019531\" xlink:href=\"#DejaVuSans-79\"/>\n     <use x=\"223.730469\" xlink:href=\"#DejaVuSans-76\"/>\n     <use x=\"279.443359\" xlink:href=\"#DejaVuSans-83\"/>\n     <use x=\"342.919922\" xlink:href=\"#DejaVuSans-67\"/>\n     <use x=\"412.744141\" xlink:href=\"#DejaVuSans-82\"/>\n     <use x=\"482.226562\" xlink:href=\"#DejaVuSans-69\"/>\n     <use x=\"545.410156\" xlink:href=\"#DejaVuSans-69\"/>\n     <use x=\"608.59375\" xlink:href=\"#DejaVuSans-78\"/>\n    </g>\n   </g>\n  </g>\n  <g id=\"axes_11\">\n   <g id=\"patch_152\">\n    <path d=\"M 497.5435 272.374125 \nL 586.8235 272.374125 \nL 586.8235 163.654125 \nL 497.5435 163.654125 \nz\n\" style=\"fill:#ffffff;\"/>\n   </g>\n   <g id=\"patch_153\">\n    <path clip-path=\"url(#p9d93179878)\" d=\"M 501.601682 272.374125 \nL 509.718045 272.374125 \nL 509.718045 267.703019 \nL 501.601682 267.703019 \nz\n\" style=\"fill:#1f77b4;\"/>\n   </g>\n   <g id=\"patch_154\">\n    <path clip-path=\"url(#p9d93179878)\" d=\"M 509.718045 272.374125 \nL 517.834409 272.374125 \nL 517.834409 269.260054 \nL 509.718045 269.260054 \nz\n\" style=\"fill:#1f77b4;\"/>\n   </g>\n   <g id=\"patch_155\">\n    <path clip-path=\"url(#p9d93179878)\" d=\"M 517.834409 272.374125 \nL 525.950773 272.374125 \nL 525.950773 262.253395 \nL 517.834409 262.253395 \nz\n\" style=\"fill:#1f77b4;\"/>\n   </g>\n   <g id=\"patch_156\">\n    <path clip-path=\"url(#p9d93179878)\" d=\"M 525.950773 272.374125 \nL 534.067136 272.374125 \nL 534.067136 253.6897 \nL 525.950773 253.6897 \nz\n\" style=\"fill:#1f77b4;\"/>\n   </g>\n   <g id=\"patch_157\">\n    <path clip-path=\"url(#p9d93179878)\" d=\"M 534.067136 272.374125 \nL 542.1835 272.374125 \nL 542.1835 217.099367 \nL 534.067136 217.099367 \nz\n\" style=\"fill:#1f77b4;\"/>\n   </g>\n   <g id=\"patch_158\">\n    <path clip-path=\"url(#p9d93179878)\" d=\"M 542.1835 272.374125 \nL 550.299864 272.374125 \nL 550.299864 200.750494 \nL 542.1835 200.750494 \nz\n\" style=\"fill:#1f77b4;\"/>\n   </g>\n   <g id=\"patch_159\">\n    <path clip-path=\"url(#p9d93179878)\" d=\"M 550.299864 272.374125 \nL 558.416227 272.374125 \nL 558.416227 168.831268 \nL 550.299864 168.831268 \nz\n\" style=\"fill:#1f77b4;\"/>\n   </g>\n   <g id=\"patch_160\">\n    <path clip-path=\"url(#p9d93179878)\" d=\"M 558.416227 272.374125 \nL 566.532591 272.374125 \nL 566.532591 201.529012 \nL 558.416227 201.529012 \nz\n\" style=\"fill:#1f77b4;\"/>\n   </g>\n   <g id=\"patch_161\">\n    <path clip-path=\"url(#p9d93179878)\" d=\"M 566.532591 272.374125 \nL 574.648955 272.374125 \nL 574.648955 231.891203 \nL 566.532591 231.891203 \nz\n\" style=\"fill:#1f77b4;\"/>\n   </g>\n   <g id=\"patch_162\">\n    <path clip-path=\"url(#p9d93179878)\" d=\"M 574.648955 272.374125 \nL 582.765318 272.374125 \nL 582.765318 263.81043 \nL 574.648955 263.81043 \nz\n\" style=\"fill:#1f77b4;\"/>\n   </g>\n   <g id=\"matplotlib.axis_21\">\n    <g id=\"xtick_22\">\n     <g id=\"line2d_123\">\n      <path clip-path=\"url(#p9d93179878)\" d=\"M 518.800362 272.374125 \nL 518.800362 163.654125 \n\" style=\"fill:none;stroke:#b0b0b0;stroke-linecap:square;stroke-width:0.8;\"/>\n     </g>\n     <g id=\"line2d_124\">\n      <g>\n       <use style=\"stroke:#000000;stroke-width:0.8;\" x=\"518.800362\" xlink:href=\"#m1efa2ccf88\" y=\"272.374125\"/>\n      </g>\n     </g>\n     <g id=\"text_72\">\n      <!-- 50 -->\n      <g transform=\"translate(512.437862 286.972562)scale(0.1 -0.1)\">\n       <use xlink:href=\"#DejaVuSans-53\"/>\n       <use x=\"63.623047\" xlink:href=\"#DejaVuSans-48\"/>\n      </g>\n     </g>\n    </g>\n    <g id=\"xtick_23\">\n     <g id=\"line2d_125\">\n      <path clip-path=\"url(#p9d93179878)\" d=\"M 542.360199 272.374125 \nL 542.360199 163.654125 \n\" style=\"fill:none;stroke:#b0b0b0;stroke-linecap:square;stroke-width:0.8;\"/>\n     </g>\n     <g id=\"line2d_126\">\n      <g>\n       <use style=\"stroke:#000000;stroke-width:0.8;\" x=\"542.360199\" xlink:href=\"#m1efa2ccf88\" y=\"272.374125\"/>\n      </g>\n     </g>\n     <g id=\"text_73\">\n      <!-- 60 -->\n      <g transform=\"translate(535.997699 286.972562)scale(0.1 -0.1)\">\n       <use xlink:href=\"#DejaVuSans-54\"/>\n       <use x=\"63.623047\" xlink:href=\"#DejaVuSans-48\"/>\n      </g>\n     </g>\n    </g>\n    <g id=\"xtick_24\">\n     <g id=\"line2d_127\">\n      <path clip-path=\"url(#p9d93179878)\" d=\"M 565.920035 272.374125 \nL 565.920035 163.654125 \n\" style=\"fill:none;stroke:#b0b0b0;stroke-linecap:square;stroke-width:0.8;\"/>\n     </g>\n     <g id=\"line2d_128\">\n      <g>\n       <use style=\"stroke:#000000;stroke-width:0.8;\" x=\"565.920035\" xlink:href=\"#m1efa2ccf88\" y=\"272.374125\"/>\n      </g>\n     </g>\n     <g id=\"text_74\">\n      <!-- 70 -->\n      <g transform=\"translate(559.557535 286.972562)scale(0.1 -0.1)\">\n       <use xlink:href=\"#DejaVuSans-55\"/>\n       <use x=\"63.623047\" xlink:href=\"#DejaVuSans-48\"/>\n      </g>\n     </g>\n    </g>\n   </g>\n   <g id=\"matplotlib.axis_22\">\n    <g id=\"ytick_41\">\n     <g id=\"line2d_129\">\n      <path clip-path=\"url(#p9d93179878)\" d=\"M 497.5435 272.374125 \nL 586.8235 272.374125 \n\" style=\"fill:none;stroke:#b0b0b0;stroke-linecap:square;stroke-width:0.8;\"/>\n     </g>\n     <g id=\"line2d_130\">\n      <g>\n       <use style=\"stroke:#000000;stroke-width:0.8;\" x=\"497.5435\" xlink:href=\"#m88d07c3e7f\" y=\"272.374125\"/>\n      </g>\n     </g>\n     <g id=\"text_75\">\n      <!-- 0 -->\n      <g transform=\"translate(484.181 276.173344)scale(0.1 -0.1)\">\n       <use xlink:href=\"#DejaVuSans-48\"/>\n      </g>\n     </g>\n    </g>\n    <g id=\"ytick_42\">\n     <g id=\"line2d_131\">\n      <path clip-path=\"url(#p9d93179878)\" d=\"M 497.5435 233.448239 \nL 586.8235 233.448239 \n\" style=\"fill:none;stroke:#b0b0b0;stroke-linecap:square;stroke-width:0.8;\"/>\n     </g>\n     <g id=\"line2d_132\">\n      <g>\n       <use style=\"stroke:#000000;stroke-width:0.8;\" x=\"497.5435\" xlink:href=\"#m88d07c3e7f\" y=\"233.448239\"/>\n      </g>\n     </g>\n     <g id=\"text_76\">\n      <!-- 50 -->\n      <g transform=\"translate(477.8185 237.247458)scale(0.1 -0.1)\">\n       <use xlink:href=\"#DejaVuSans-53\"/>\n       <use x=\"63.623047\" xlink:href=\"#DejaVuSans-48\"/>\n      </g>\n     </g>\n    </g>\n    <g id=\"ytick_43\">\n     <g id=\"line2d_133\">\n      <path clip-path=\"url(#p9d93179878)\" d=\"M 497.5435 194.522353 \nL 586.8235 194.522353 \n\" style=\"fill:none;stroke:#b0b0b0;stroke-linecap:square;stroke-width:0.8;\"/>\n     </g>\n     <g id=\"line2d_134\">\n      <g>\n       <use style=\"stroke:#000000;stroke-width:0.8;\" x=\"497.5435\" xlink:href=\"#m88d07c3e7f\" y=\"194.522353\"/>\n      </g>\n     </g>\n     <g id=\"text_77\">\n      <!-- 100 -->\n      <g transform=\"translate(471.456 198.321571)scale(0.1 -0.1)\">\n       <use xlink:href=\"#DejaVuSans-49\"/>\n       <use x=\"63.623047\" xlink:href=\"#DejaVuSans-48\"/>\n       <use x=\"127.246094\" xlink:href=\"#DejaVuSans-48\"/>\n      </g>\n     </g>\n    </g>\n   </g>\n   <g id=\"patch_163\">\n    <path d=\"M 497.5435 272.374125 \nL 497.5435 163.654125 \n\" style=\"fill:none;stroke:#000000;stroke-linecap:square;stroke-linejoin:miter;stroke-width:0.8;\"/>\n   </g>\n   <g id=\"patch_164\">\n    <path d=\"M 586.8235 272.374125 \nL 586.8235 163.654125 \n\" style=\"fill:none;stroke:#000000;stroke-linecap:square;stroke-linejoin:miter;stroke-width:0.8;\"/>\n   </g>\n   <g id=\"patch_165\">\n    <path d=\"M 497.5435 272.374125 \nL 586.8235 272.374125 \n\" style=\"fill:none;stroke:#000000;stroke-linecap:square;stroke-linejoin:miter;stroke-width:0.8;\"/>\n   </g>\n   <g id=\"patch_166\">\n    <path d=\"M 497.5435 163.654125 \nL 586.8235 163.654125 \n\" style=\"fill:none;stroke:#000000;stroke-linecap:square;stroke-linejoin:miter;stroke-width:0.8;\"/>\n   </g>\n   <g id=\"text_78\">\n    <!-- COLON_SCREEN -->\n    <defs>\n     <path d=\"M 50.984375 -16.609375 \nL 50.984375 -23.578125 \nL -0.984375 -23.578125 \nL -0.984375 -16.609375 \nz\n\" id=\"DejaVuSans-95\"/>\n    </defs>\n    <g transform=\"translate(493.694125 157.654125)scale(0.12 -0.12)\">\n     <use xlink:href=\"#DejaVuSans-67\"/>\n     <use x=\"69.824219\" xlink:href=\"#DejaVuSans-79\"/>\n     <use x=\"148.535156\" xlink:href=\"#DejaVuSans-76\"/>\n     <use x=\"200.623047\" xlink:href=\"#DejaVuSans-79\"/>\n     <use x=\"279.333984\" xlink:href=\"#DejaVuSans-78\"/>\n     <use x=\"354.138672\" xlink:href=\"#DejaVuSans-95\"/>\n     <use x=\"404.138672\" xlink:href=\"#DejaVuSans-83\"/>\n     <use x=\"467.615234\" xlink:href=\"#DejaVuSans-67\"/>\n     <use x=\"537.439453\" xlink:href=\"#DejaVuSans-82\"/>\n     <use x=\"606.921875\" xlink:href=\"#DejaVuSans-69\"/>\n     <use x=\"670.105469\" xlink:href=\"#DejaVuSans-69\"/>\n     <use x=\"733.289062\" xlink:href=\"#DejaVuSans-78\"/>\n    </g>\n   </g>\n  </g>\n  <g id=\"axes_12\">\n   <g id=\"patch_167\">\n    <path d=\"M 613.6075 272.374125 \nL 702.8875 272.374125 \nL 702.8875 163.654125 \nL 613.6075 163.654125 \nz\n\" style=\"fill:#ffffff;\"/>\n   </g>\n   <g id=\"patch_168\">\n    <path clip-path=\"url(#p135474adde)\" d=\"M 617.665682 272.374125 \nL 625.782045 272.374125 \nL 625.782045 246.237093 \nL 617.665682 246.237093 \nz\n\" style=\"fill:#1f77b4;\"/>\n   </g>\n   <g id=\"patch_169\">\n    <path clip-path=\"url(#p135474adde)\" d=\"M 625.782045 272.374125 \nL 633.898409 272.374125 \nL 633.898409 191.952488 \nL 625.782045 191.952488 \nz\n\" style=\"fill:#1f77b4;\"/>\n   </g>\n   <g id=\"patch_170\">\n    <path clip-path=\"url(#p135474adde)\" d=\"M 633.898409 272.374125 \nL 642.014773 272.374125 \nL 642.014773 168.831268 \nL 633.898409 168.831268 \nz\n\" style=\"fill:#1f77b4;\"/>\n   </g>\n   <g id=\"patch_171\">\n    <path clip-path=\"url(#p135474adde)\" d=\"M 642.014773 272.374125 \nL 650.131136 272.374125 \nL 650.131136 174.862891 \nL 642.014773 174.862891 \nz\n\" style=\"fill:#1f77b4;\"/>\n   </g>\n   <g id=\"patch_172\">\n    <path clip-path=\"url(#p135474adde)\" d=\"M 650.131136 272.374125 \nL 658.2475 272.374125 \nL 658.2475 186.926136 \nL 650.131136 186.926136 \nz\n\" style=\"fill:#1f77b4;\"/>\n   </g>\n   <g id=\"patch_173\">\n    <path clip-path=\"url(#p135474adde)\" d=\"M 658.2475 272.374125 \nL 666.363864 272.374125 \nL 666.363864 217.08425 \nL 658.2475 217.08425 \nz\n\" style=\"fill:#1f77b4;\"/>\n   </g>\n   <g id=\"patch_174\">\n    <path clip-path=\"url(#p135474adde)\" d=\"M 666.363864 272.374125 \nL 674.480227 272.374125 \nL 674.480227 239.2002 \nL 666.363864 239.2002 \nz\n\" style=\"fill:#1f77b4;\"/>\n   </g>\n   <g id=\"patch_175\">\n    <path clip-path=\"url(#p135474adde)\" d=\"M 674.480227 272.374125 \nL 682.596591 272.374125 \nL 682.596591 263.326691 \nL 674.480227 263.326691 \nz\n\" style=\"fill:#1f77b4;\"/>\n   </g>\n   <g id=\"patch_176\">\n    <path clip-path=\"url(#p135474adde)\" d=\"M 682.596591 272.374125 \nL 690.712955 272.374125 \nL 690.712955 266.342502 \nL 682.596591 266.342502 \nz\n\" style=\"fill:#1f77b4;\"/>\n   </g>\n   <g id=\"patch_177\">\n    <path clip-path=\"url(#p135474adde)\" d=\"M 690.712955 272.374125 \nL 698.829318 272.374125 \nL 698.829318 269.358314 \nL 690.712955 269.358314 \nz\n\" style=\"fill:#1f77b4;\"/>\n   </g>\n   <g id=\"matplotlib.axis_23\">\n    <g id=\"xtick_25\">\n     <g id=\"line2d_135\">\n      <path clip-path=\"url(#p135474adde)\" d=\"M 635.597183 272.374125 \nL 635.597183 163.654125 \n\" style=\"fill:none;stroke:#b0b0b0;stroke-linecap:square;stroke-width:0.8;\"/>\n     </g>\n     <g id=\"line2d_136\">\n      <g>\n       <use style=\"stroke:#000000;stroke-width:0.8;\" x=\"635.597183\" xlink:href=\"#m1efa2ccf88\" y=\"272.374125\"/>\n      </g>\n     </g>\n     <g id=\"text_79\">\n      <!-- 5 -->\n      <g transform=\"translate(632.415933 286.972562)scale(0.1 -0.1)\">\n       <use xlink:href=\"#DejaVuSans-53\"/>\n      </g>\n     </g>\n    </g>\n    <g id=\"xtick_26\">\n     <g id=\"line2d_137\">\n      <path clip-path=\"url(#p135474adde)\" d=\"M 682.785344 272.374125 \nL 682.785344 163.654125 \n\" style=\"fill:none;stroke:#b0b0b0;stroke-linecap:square;stroke-width:0.8;\"/>\n     </g>\n     <g id=\"line2d_138\">\n      <g>\n       <use style=\"stroke:#000000;stroke-width:0.8;\" x=\"682.785344\" xlink:href=\"#m1efa2ccf88\" y=\"272.374125\"/>\n      </g>\n     </g>\n     <g id=\"text_80\">\n      <!-- 10 -->\n      <g transform=\"translate(676.422844 286.972562)scale(0.1 -0.1)\">\n       <use xlink:href=\"#DejaVuSans-49\"/>\n       <use x=\"63.623047\" xlink:href=\"#DejaVuSans-48\"/>\n      </g>\n     </g>\n    </g>\n   </g>\n   <g id=\"matplotlib.axis_24\">\n    <g id=\"ytick_44\">\n     <g id=\"line2d_139\">\n      <path clip-path=\"url(#p135474adde)\" d=\"M 613.6075 272.374125 \nL 702.8875 272.374125 \n\" style=\"fill:none;stroke:#b0b0b0;stroke-linecap:square;stroke-width:0.8;\"/>\n     </g>\n     <g id=\"line2d_140\">\n      <g>\n       <use style=\"stroke:#000000;stroke-width:0.8;\" x=\"613.6075\" xlink:href=\"#m88d07c3e7f\" y=\"272.374125\"/>\n      </g>\n     </g>\n     <g id=\"text_81\">\n      <!-- 0 -->\n      <g transform=\"translate(600.245 276.173344)scale(0.1 -0.1)\">\n       <use xlink:href=\"#DejaVuSans-48\"/>\n      </g>\n     </g>\n    </g>\n    <g id=\"ytick_45\">\n     <g id=\"line2d_141\">\n      <path clip-path=\"url(#p135474adde)\" d=\"M 613.6075 247.242364 \nL 702.8875 247.242364 \n\" style=\"fill:none;stroke:#b0b0b0;stroke-linecap:square;stroke-width:0.8;\"/>\n     </g>\n     <g id=\"line2d_142\">\n      <g>\n       <use style=\"stroke:#000000;stroke-width:0.8;\" x=\"613.6075\" xlink:href=\"#m88d07c3e7f\" y=\"247.242364\"/>\n      </g>\n     </g>\n     <g id=\"text_82\">\n      <!-- 25 -->\n      <g transform=\"translate(593.8825 251.041582)scale(0.1 -0.1)\">\n       <use xlink:href=\"#DejaVuSans-50\"/>\n       <use x=\"63.623047\" xlink:href=\"#DejaVuSans-53\"/>\n      </g>\n     </g>\n    </g>\n    <g id=\"ytick_46\">\n     <g id=\"line2d_143\">\n      <path clip-path=\"url(#p135474adde)\" d=\"M 613.6075 222.110602 \nL 702.8875 222.110602 \n\" style=\"fill:none;stroke:#b0b0b0;stroke-linecap:square;stroke-width:0.8;\"/>\n     </g>\n     <g id=\"line2d_144\">\n      <g>\n       <use style=\"stroke:#000000;stroke-width:0.8;\" x=\"613.6075\" xlink:href=\"#m88d07c3e7f\" y=\"222.110602\"/>\n      </g>\n     </g>\n     <g id=\"text_83\">\n      <!-- 50 -->\n      <g transform=\"translate(593.8825 225.909821)scale(0.1 -0.1)\">\n       <use xlink:href=\"#DejaVuSans-53\"/>\n       <use x=\"63.623047\" xlink:href=\"#DejaVuSans-48\"/>\n      </g>\n     </g>\n    </g>\n    <g id=\"ytick_47\">\n     <g id=\"line2d_145\">\n      <path clip-path=\"url(#p135474adde)\" d=\"M 613.6075 196.978841 \nL 702.8875 196.978841 \n\" style=\"fill:none;stroke:#b0b0b0;stroke-linecap:square;stroke-width:0.8;\"/>\n     </g>\n     <g id=\"line2d_146\">\n      <g>\n       <use style=\"stroke:#000000;stroke-width:0.8;\" x=\"613.6075\" xlink:href=\"#m88d07c3e7f\" y=\"196.978841\"/>\n      </g>\n     </g>\n     <g id=\"text_84\">\n      <!-- 75 -->\n      <g transform=\"translate(593.8825 200.778059)scale(0.1 -0.1)\">\n       <use xlink:href=\"#DejaVuSans-55\"/>\n       <use x=\"63.623047\" xlink:href=\"#DejaVuSans-53\"/>\n      </g>\n     </g>\n    </g>\n    <g id=\"ytick_48\">\n     <g id=\"line2d_147\">\n      <path clip-path=\"url(#p135474adde)\" d=\"M 613.6075 171.847079 \nL 702.8875 171.847079 \n\" style=\"fill:none;stroke:#b0b0b0;stroke-linecap:square;stroke-width:0.8;\"/>\n     </g>\n     <g id=\"line2d_148\">\n      <g>\n       <use style=\"stroke:#000000;stroke-width:0.8;\" x=\"613.6075\" xlink:href=\"#m88d07c3e7f\" y=\"171.847079\"/>\n      </g>\n     </g>\n     <g id=\"text_85\">\n      <!-- 100 -->\n      <g transform=\"translate(587.52 175.646298)scale(0.1 -0.1)\">\n       <use xlink:href=\"#DejaVuSans-49\"/>\n       <use x=\"63.623047\" xlink:href=\"#DejaVuSans-48\"/>\n       <use x=\"127.246094\" xlink:href=\"#DejaVuSans-48\"/>\n      </g>\n     </g>\n    </g>\n   </g>\n   <g id=\"patch_178\">\n    <path d=\"M 613.6075 272.374125 \nL 613.6075 163.654125 \n\" style=\"fill:none;stroke:#000000;stroke-linecap:square;stroke-linejoin:miter;stroke-width:0.8;\"/>\n   </g>\n   <g id=\"patch_179\">\n    <path d=\"M 702.8875 272.374125 \nL 702.8875 163.654125 \n\" style=\"fill:none;stroke:#000000;stroke-linecap:square;stroke-linejoin:miter;stroke-width:0.8;\"/>\n   </g>\n   <g id=\"patch_180\">\n    <path d=\"M 613.6075 272.374125 \nL 702.8875 272.374125 \n\" style=\"fill:none;stroke:#000000;stroke-linecap:square;stroke-linejoin:miter;stroke-width:0.8;\"/>\n   </g>\n   <g id=\"patch_181\">\n    <path d=\"M 613.6075 163.654125 \nL 702.8875 163.654125 \n\" style=\"fill:none;stroke:#000000;stroke-linecap:square;stroke-linejoin:miter;stroke-width:0.8;\"/>\n   </g>\n   <g id=\"text_86\">\n    <!-- COPD -->\n    <g transform=\"translate(641.096875 157.654125)scale(0.12 -0.12)\">\n     <use xlink:href=\"#DejaVuSans-67\"/>\n     <use x=\"69.824219\" xlink:href=\"#DejaVuSans-79\"/>\n     <use x=\"148.535156\" xlink:href=\"#DejaVuSans-80\"/>\n     <use x=\"208.837891\" xlink:href=\"#DejaVuSans-68\"/>\n    </g>\n   </g>\n  </g>\n  <g id=\"axes_13\">\n   <g id=\"patch_182\">\n    <path d=\"M 33.2875 413.710125 \nL 122.5675 413.710125 \nL 122.5675 304.990125 \nL 33.2875 304.990125 \nz\n\" style=\"fill:#ffffff;\"/>\n   </g>\n   <g id=\"patch_183\">\n    <path clip-path=\"url(#p090cbf4b47)\" d=\"M 37.345682 413.710125 \nL 45.462045 413.710125 \nL 45.462045 398.792934 \nL 37.345682 398.792934 \nz\n\" style=\"fill:#1f77b4;\"/>\n   </g>\n   <g id=\"patch_184\">\n    <path clip-path=\"url(#p090cbf4b47)\" d=\"M 45.462045 413.710125 \nL 53.578409 413.710125 \nL 53.578409 390.895597 \nL 45.462045 390.895597 \nz\n\" style=\"fill:#1f77b4;\"/>\n   </g>\n   <g id=\"patch_185\">\n    <path clip-path=\"url(#p090cbf4b47)\" d=\"M 53.578409 413.710125 \nL 61.694773 413.710125 \nL 61.694773 359.306251 \nL 53.578409 359.306251 \nz\n\" style=\"fill:#1f77b4;\"/>\n   </g>\n   <g id=\"patch_186\">\n    <path clip-path=\"url(#p090cbf4b47)\" d=\"M 61.694773 413.710125 \nL 69.811136 413.710125 \nL 69.811136 325.084459 \nL 61.694773 325.084459 \nz\n\" style=\"fill:#1f77b4;\"/>\n   </g>\n   <g id=\"patch_187\">\n    <path clip-path=\"url(#p090cbf4b47)\" d=\"M 69.811136 413.710125 \nL 77.9275 413.710125 \nL 77.9275 310.167268 \nL 69.811136 310.167268 \nz\n\" style=\"fill:#1f77b4;\"/>\n   </g>\n   <g id=\"patch_188\">\n    <path clip-path=\"url(#p090cbf4b47)\" d=\"M 77.9275 413.710125 \nL 86.043864 413.710125 \nL 86.043864 330.34935 \nL 77.9275 330.34935 \nz\n\" style=\"fill:#1f77b4;\"/>\n   </g>\n   <g id=\"patch_189\">\n    <path clip-path=\"url(#p090cbf4b47)\" d=\"M 86.043864 413.710125 \nL 94.160227 413.710125 \nL 94.160227 376.855888 \nL 86.043864 376.855888 \nz\n\" style=\"fill:#1f77b4;\"/>\n   </g>\n   <g id=\"patch_190\">\n    <path clip-path=\"url(#p090cbf4b47)\" d=\"M 94.160227 413.710125 \nL 102.276591 413.710125 \nL 102.276591 388.263152 \nL 94.160227 388.263152 \nz\n\" style=\"fill:#1f77b4;\"/>\n   </g>\n   <g id=\"patch_191\">\n    <path clip-path=\"url(#p090cbf4b47)\" d=\"M 102.276591 413.710125 \nL 110.392955 413.710125 \nL 110.392955 409.322716 \nL 102.276591 409.322716 \nz\n\" style=\"fill:#1f77b4;\"/>\n   </g>\n   <g id=\"patch_192\">\n    <path clip-path=\"url(#p090cbf4b47)\" d=\"M 110.392955 413.710125 \nL 118.509318 413.710125 \nL 118.509318 411.955161 \nL 110.392955 411.955161 \nz\n\" style=\"fill:#1f77b4;\"/>\n   </g>\n   <g id=\"matplotlib.axis_25\">\n    <g id=\"xtick_27\">\n     <g id=\"line2d_149\">\n      <path clip-path=\"url(#p090cbf4b47)\" d=\"M 39.141337 413.710125 \nL 39.141337 304.990125 \n\" style=\"fill:none;stroke:#b0b0b0;stroke-linecap:square;stroke-width:0.8;\"/>\n     </g>\n     <g id=\"line2d_150\">\n      <g>\n       <use style=\"stroke:#000000;stroke-width:0.8;\" x=\"39.141337\" xlink:href=\"#m1efa2ccf88\" y=\"413.710125\"/>\n      </g>\n     </g>\n     <g id=\"text_87\">\n      <!-- 20 -->\n      <g transform=\"translate(32.778837 428.308562)scale(0.1 -0.1)\">\n       <use xlink:href=\"#DejaVuSans-50\"/>\n       <use x=\"63.623047\" xlink:href=\"#DejaVuSans-48\"/>\n      </g>\n     </g>\n    </g>\n    <g id=\"xtick_28\">\n     <g id=\"line2d_151\">\n      <path clip-path=\"url(#p090cbf4b47)\" d=\"M 87.025489 413.710125 \nL 87.025489 304.990125 \n\" style=\"fill:none;stroke:#b0b0b0;stroke-linecap:square;stroke-width:0.8;\"/>\n     </g>\n     <g id=\"line2d_152\">\n      <g>\n       <use style=\"stroke:#000000;stroke-width:0.8;\" x=\"87.025489\" xlink:href=\"#m1efa2ccf88\" y=\"413.710125\"/>\n      </g>\n     </g>\n     <g id=\"text_88\">\n      <!-- 40 -->\n      <g transform=\"translate(80.662989 428.308562)scale(0.1 -0.1)\">\n       <use xlink:href=\"#DejaVuSans-52\"/>\n       <use x=\"63.623047\" xlink:href=\"#DejaVuSans-48\"/>\n      </g>\n     </g>\n    </g>\n   </g>\n   <g id=\"matplotlib.axis_26\">\n    <g id=\"ytick_49\">\n     <g id=\"line2d_153\">\n      <path clip-path=\"url(#p090cbf4b47)\" d=\"M 33.2875 413.710125 \nL 122.5675 413.710125 \n\" style=\"fill:none;stroke:#b0b0b0;stroke-linecap:square;stroke-width:0.8;\"/>\n     </g>\n     <g id=\"line2d_154\">\n      <g>\n       <use style=\"stroke:#000000;stroke-width:0.8;\" x=\"33.2875\" xlink:href=\"#m88d07c3e7f\" y=\"413.710125\"/>\n      </g>\n     </g>\n     <g id=\"text_89\">\n      <!-- 0 -->\n      <g transform=\"translate(19.925 417.509344)scale(0.1 -0.1)\">\n       <use xlink:href=\"#DejaVuSans-48\"/>\n      </g>\n     </g>\n    </g>\n    <g id=\"ytick_50\">\n     <g id=\"line2d_155\">\n      <path clip-path=\"url(#p090cbf4b47)\" d=\"M 33.2875 391.773079 \nL 122.5675 391.773079 \n\" style=\"fill:none;stroke:#b0b0b0;stroke-linecap:square;stroke-width:0.8;\"/>\n     </g>\n     <g id=\"line2d_156\">\n      <g>\n       <use style=\"stroke:#000000;stroke-width:0.8;\" x=\"33.2875\" xlink:href=\"#m88d07c3e7f\" y=\"391.773079\"/>\n      </g>\n     </g>\n     <g id=\"text_90\">\n      <!-- 25 -->\n      <g transform=\"translate(13.5625 395.572298)scale(0.1 -0.1)\">\n       <use xlink:href=\"#DejaVuSans-50\"/>\n       <use x=\"63.623047\" xlink:href=\"#DejaVuSans-53\"/>\n      </g>\n     </g>\n    </g>\n    <g id=\"ytick_51\">\n     <g id=\"line2d_157\">\n      <path clip-path=\"url(#p090cbf4b47)\" d=\"M 33.2875 369.836033 \nL 122.5675 369.836033 \n\" style=\"fill:none;stroke:#b0b0b0;stroke-linecap:square;stroke-width:0.8;\"/>\n     </g>\n     <g id=\"line2d_158\">\n      <g>\n       <use style=\"stroke:#000000;stroke-width:0.8;\" x=\"33.2875\" xlink:href=\"#m88d07c3e7f\" y=\"369.836033\"/>\n      </g>\n     </g>\n     <g id=\"text_91\">\n      <!-- 50 -->\n      <g transform=\"translate(13.5625 373.635252)scale(0.1 -0.1)\">\n       <use xlink:href=\"#DejaVuSans-53\"/>\n       <use x=\"63.623047\" xlink:href=\"#DejaVuSans-48\"/>\n      </g>\n     </g>\n    </g>\n    <g id=\"ytick_52\">\n     <g id=\"line2d_159\">\n      <path clip-path=\"url(#p090cbf4b47)\" d=\"M 33.2875 347.898987 \nL 122.5675 347.898987 \n\" style=\"fill:none;stroke:#b0b0b0;stroke-linecap:square;stroke-width:0.8;\"/>\n     </g>\n     <g id=\"line2d_160\">\n      <g>\n       <use style=\"stroke:#000000;stroke-width:0.8;\" x=\"33.2875\" xlink:href=\"#m88d07c3e7f\" y=\"347.898987\"/>\n      </g>\n     </g>\n     <g id=\"text_92\">\n      <!-- 75 -->\n      <g transform=\"translate(13.5625 351.698206)scale(0.1 -0.1)\">\n       <use xlink:href=\"#DejaVuSans-55\"/>\n       <use x=\"63.623047\" xlink:href=\"#DejaVuSans-53\"/>\n      </g>\n     </g>\n    </g>\n    <g id=\"ytick_53\">\n     <g id=\"line2d_161\">\n      <path clip-path=\"url(#p090cbf4b47)\" d=\"M 33.2875 325.961941 \nL 122.5675 325.961941 \n\" style=\"fill:none;stroke:#b0b0b0;stroke-linecap:square;stroke-width:0.8;\"/>\n     </g>\n     <g id=\"line2d_162\">\n      <g>\n       <use style=\"stroke:#000000;stroke-width:0.8;\" x=\"33.2875\" xlink:href=\"#m88d07c3e7f\" y=\"325.961941\"/>\n      </g>\n     </g>\n     <g id=\"text_93\">\n      <!-- 100 -->\n      <g transform=\"translate(7.2 329.76116)scale(0.1 -0.1)\">\n       <use xlink:href=\"#DejaVuSans-49\"/>\n       <use x=\"63.623047\" xlink:href=\"#DejaVuSans-48\"/>\n       <use x=\"127.246094\" xlink:href=\"#DejaVuSans-48\"/>\n      </g>\n     </g>\n    </g>\n   </g>\n   <g id=\"patch_193\">\n    <path d=\"M 33.2875 413.710125 \nL 33.2875 304.990125 \n\" style=\"fill:none;stroke:#000000;stroke-linecap:square;stroke-linejoin:miter;stroke-width:0.8;\"/>\n   </g>\n   <g id=\"patch_194\">\n    <path d=\"M 122.5675 413.710125 \nL 122.5675 304.990125 \n\" style=\"fill:none;stroke:#000000;stroke-linecap:square;stroke-linejoin:miter;stroke-width:0.8;\"/>\n   </g>\n   <g id=\"patch_195\">\n    <path d=\"M 33.2875 413.710125 \nL 122.5675 413.710125 \n\" style=\"fill:none;stroke:#000000;stroke-linecap:square;stroke-linejoin:miter;stroke-width:0.8;\"/>\n   </g>\n   <g id=\"patch_196\">\n    <path d=\"M 33.2875 304.990125 \nL 122.5675 304.990125 \n\" style=\"fill:none;stroke:#000000;stroke-linecap:square;stroke-linejoin:miter;stroke-width:0.8;\"/>\n   </g>\n   <g id=\"text_94\">\n    <!-- COREM -->\n    <g transform=\"translate(55.8775 298.990125)scale(0.12 -0.12)\">\n     <use xlink:href=\"#DejaVuSans-67\"/>\n     <use x=\"69.824219\" xlink:href=\"#DejaVuSans-79\"/>\n     <use x=\"148.535156\" xlink:href=\"#DejaVuSans-82\"/>\n     <use x=\"218.017578\" xlink:href=\"#DejaVuSans-69\"/>\n     <use x=\"281.201172\" xlink:href=\"#DejaVuSans-77\"/>\n    </g>\n   </g>\n  </g>\n  <g id=\"axes_14\">\n   <g id=\"patch_197\">\n    <path d=\"M 149.3515 413.710125 \nL 238.6315 413.710125 \nL 238.6315 304.990125 \nL 149.3515 304.990125 \nz\n\" style=\"fill:#ffffff;\"/>\n   </g>\n   <g id=\"patch_198\">\n    <path clip-path=\"url(#pa22b73c7bd)\" d=\"M 153.409682 413.710125 \nL 161.526045 413.710125 \nL 161.526045 403.355839 \nL 153.409682 403.355839 \nz\n\" style=\"fill:#1f77b4;\"/>\n   </g>\n   <g id=\"patch_199\">\n    <path clip-path=\"url(#pa22b73c7bd)\" d=\"M 161.526045 413.710125 \nL 169.642409 413.710125 \nL 169.642409 405.944411 \nL 161.526045 405.944411 \nz\n\" style=\"fill:#1f77b4;\"/>\n   </g>\n   <g id=\"patch_200\">\n    <path clip-path=\"url(#pa22b73c7bd)\" d=\"M 169.642409 413.710125 \nL 177.758773 413.710125 \nL 177.758773 386.098696 \nL 169.642409 386.098696 \nz\n\" style=\"fill:#1f77b4;\"/>\n   </g>\n   <g id=\"patch_201\">\n    <path clip-path=\"url(#pa22b73c7bd)\" d=\"M 177.758773 413.710125 \nL 185.875136 413.710125 \nL 185.875136 336.052982 \nL 177.758773 336.052982 \nz\n\" style=\"fill:#1f77b4;\"/>\n   </g>\n   <g id=\"patch_202\">\n    <path clip-path=\"url(#pa22b73c7bd)\" d=\"M 185.875136 413.710125 \nL 193.9915 413.710125 \nL 193.9915 313.618696 \nL 185.875136 313.618696 \nz\n\" style=\"fill:#1f77b4;\"/>\n   </g>\n   <g id=\"patch_203\">\n    <path clip-path=\"url(#pa22b73c7bd)\" d=\"M 193.9915 413.710125 \nL 202.107864 413.710125 \nL 202.107864 310.167268 \nL 193.9915 310.167268 \nz\n\" style=\"fill:#1f77b4;\"/>\n   </g>\n   <g id=\"patch_204\">\n    <path clip-path=\"url(#pa22b73c7bd)\" d=\"M 202.107864 413.710125 \nL 210.224227 413.710125 \nL 210.224227 354.172982 \nL 202.107864 354.172982 \nz\n\" style=\"fill:#1f77b4;\"/>\n   </g>\n   <g id=\"patch_205\">\n    <path clip-path=\"url(#pa22b73c7bd)\" d=\"M 210.224227 413.710125 \nL 218.340591 413.710125 \nL 218.340591 388.687268 \nL 210.224227 388.687268 \nz\n\" style=\"fill:#1f77b4;\"/>\n   </g>\n   <g id=\"patch_206\">\n    <path clip-path=\"url(#pa22b73c7bd)\" d=\"M 218.340591 413.710125 \nL 226.456955 413.710125 \nL 226.456955 399.041554 \nL 218.340591 399.041554 \nz\n\" style=\"fill:#1f77b4;\"/>\n   </g>\n   <g id=\"patch_207\">\n    <path clip-path=\"url(#pa22b73c7bd)\" d=\"M 226.456955 413.710125 \nL 234.573318 413.710125 \nL 234.573318 411.121554 \nL 226.456955 411.121554 \nz\n\" style=\"fill:#1f77b4;\"/>\n   </g>\n   <g id=\"matplotlib.axis_27\">\n    <g id=\"xtick_29\">\n     <g id=\"line2d_163\">\n      <path clip-path=\"url(#pa22b73c7bd)\" d=\"M 160.571179 413.710125 \nL 160.571179 304.990125 \n\" style=\"fill:none;stroke:#b0b0b0;stroke-linecap:square;stroke-width:0.8;\"/>\n     </g>\n     <g id=\"line2d_164\">\n      <g>\n       <use style=\"stroke:#000000;stroke-width:0.8;\" x=\"160.571179\" xlink:href=\"#m1efa2ccf88\" y=\"413.710125\"/>\n      </g>\n     </g>\n     <g id=\"text_95\">\n      <!-- 20 -->\n      <g transform=\"translate(154.208679 428.308562)scale(0.1 -0.1)\">\n       <use xlink:href=\"#DejaVuSans-50\"/>\n       <use x=\"63.623047\" xlink:href=\"#DejaVuSans-48\"/>\n      </g>\n     </g>\n    </g>\n    <g id=\"xtick_30\">\n     <g id=\"line2d_165\">\n      <path clip-path=\"url(#pa22b73c7bd)\" d=\"M 216.739786 413.710125 \nL 216.739786 304.990125 \n\" style=\"fill:none;stroke:#b0b0b0;stroke-linecap:square;stroke-width:0.8;\"/>\n     </g>\n     <g id=\"line2d_166\">\n      <g>\n       <use style=\"stroke:#000000;stroke-width:0.8;\" x=\"216.739786\" xlink:href=\"#m1efa2ccf88\" y=\"413.710125\"/>\n      </g>\n     </g>\n     <g id=\"text_96\">\n      <!-- 40 -->\n      <g transform=\"translate(210.377286 428.308562)scale(0.1 -0.1)\">\n       <use xlink:href=\"#DejaVuSans-52\"/>\n       <use x=\"63.623047\" xlink:href=\"#DejaVuSans-48\"/>\n      </g>\n     </g>\n    </g>\n   </g>\n   <g id=\"matplotlib.axis_28\">\n    <g id=\"ytick_54\">\n     <g id=\"line2d_167\">\n      <path clip-path=\"url(#pa22b73c7bd)\" d=\"M 149.3515 413.710125 \nL 238.6315 413.710125 \n\" style=\"fill:none;stroke:#b0b0b0;stroke-linecap:square;stroke-width:0.8;\"/>\n     </g>\n     <g id=\"line2d_168\">\n      <g>\n       <use style=\"stroke:#000000;stroke-width:0.8;\" x=\"149.3515\" xlink:href=\"#m88d07c3e7f\" y=\"413.710125\"/>\n      </g>\n     </g>\n     <g id=\"text_97\">\n      <!-- 0 -->\n      <g transform=\"translate(135.989 417.509344)scale(0.1 -0.1)\">\n       <use xlink:href=\"#DejaVuSans-48\"/>\n      </g>\n     </g>\n    </g>\n    <g id=\"ytick_55\">\n     <g id=\"line2d_169\">\n      <path clip-path=\"url(#pa22b73c7bd)\" d=\"M 149.3515 370.567268 \nL 238.6315 370.567268 \n\" style=\"fill:none;stroke:#b0b0b0;stroke-linecap:square;stroke-width:0.8;\"/>\n     </g>\n     <g id=\"line2d_170\">\n      <g>\n       <use style=\"stroke:#000000;stroke-width:0.8;\" x=\"149.3515\" xlink:href=\"#m88d07c3e7f\" y=\"370.567268\"/>\n      </g>\n     </g>\n     <g id=\"text_98\">\n      <!-- 50 -->\n      <g transform=\"translate(129.6265 374.366487)scale(0.1 -0.1)\">\n       <use xlink:href=\"#DejaVuSans-53\"/>\n       <use x=\"63.623047\" xlink:href=\"#DejaVuSans-48\"/>\n      </g>\n     </g>\n    </g>\n    <g id=\"ytick_56\">\n     <g id=\"line2d_171\">\n      <path clip-path=\"url(#pa22b73c7bd)\" d=\"M 149.3515 327.424411 \nL 238.6315 327.424411 \n\" style=\"fill:none;stroke:#b0b0b0;stroke-linecap:square;stroke-width:0.8;\"/>\n     </g>\n     <g id=\"line2d_172\">\n      <g>\n       <use style=\"stroke:#000000;stroke-width:0.8;\" x=\"149.3515\" xlink:href=\"#m88d07c3e7f\" y=\"327.424411\"/>\n      </g>\n     </g>\n     <g id=\"text_99\">\n      <!-- 100 -->\n      <g transform=\"translate(123.264 331.223629)scale(0.1 -0.1)\">\n       <use xlink:href=\"#DejaVuSans-49\"/>\n       <use x=\"63.623047\" xlink:href=\"#DejaVuSans-48\"/>\n       <use x=\"127.246094\" xlink:href=\"#DejaVuSans-48\"/>\n      </g>\n     </g>\n    </g>\n   </g>\n   <g id=\"patch_208\">\n    <path d=\"M 149.3515 413.710125 \nL 149.3515 304.990125 \n\" style=\"fill:none;stroke:#000000;stroke-linecap:square;stroke-linejoin:miter;stroke-width:0.8;\"/>\n   </g>\n   <g id=\"patch_209\">\n    <path d=\"M 238.6315 413.710125 \nL 238.6315 304.990125 \n\" style=\"fill:none;stroke:#000000;stroke-linecap:square;stroke-linejoin:miter;stroke-width:0.8;\"/>\n   </g>\n   <g id=\"patch_210\">\n    <path d=\"M 149.3515 413.710125 \nL 238.6315 413.710125 \n\" style=\"fill:none;stroke:#000000;stroke-linecap:square;stroke-linejoin:miter;stroke-width:0.8;\"/>\n   </g>\n   <g id=\"patch_211\">\n    <path d=\"M 149.3515 304.990125 \nL 238.6315 304.990125 \n\" style=\"fill:none;stroke:#000000;stroke-linecap:square;stroke-linejoin:miter;stroke-width:0.8;\"/>\n   </g>\n   <g id=\"text_100\">\n    <!-- COREW -->\n    <defs>\n     <path d=\"M 3.328125 72.90625 \nL 13.28125 72.90625 \nL 28.609375 11.28125 \nL 43.890625 72.90625 \nL 54.984375 72.90625 \nL 70.3125 11.28125 \nL 85.59375 72.90625 \nL 95.609375 72.90625 \nL 77.296875 0 \nL 64.890625 0 \nL 49.515625 63.28125 \nL 33.984375 0 \nL 21.578125 0 \nz\n\" id=\"DejaVuSans-87\"/>\n    </defs>\n    <g transform=\"translate(171.185875 298.990125)scale(0.12 -0.12)\">\n     <use xlink:href=\"#DejaVuSans-67\"/>\n     <use x=\"69.824219\" xlink:href=\"#DejaVuSans-79\"/>\n     <use x=\"148.535156\" xlink:href=\"#DejaVuSans-82\"/>\n     <use x=\"218.017578\" xlink:href=\"#DejaVuSans-69\"/>\n     <use x=\"281.201172\" xlink:href=\"#DejaVuSans-87\"/>\n    </g>\n   </g>\n  </g>\n  <g id=\"axes_15\">\n   <g id=\"patch_212\">\n    <path d=\"M 265.4155 413.710125 \nL 354.6955 413.710125 \nL 354.6955 304.990125 \nL 265.4155 304.990125 \nz\n\" style=\"fill:#ffffff;\"/>\n   </g>\n   <g id=\"patch_213\">\n    <path clip-path=\"url(#p7588bd4e9e)\" d=\"M 269.473682 413.710125 \nL 277.590045 413.710125 \nL 277.590045 392.420939 \nL 269.473682 392.420939 \nz\n\" style=\"fill:#1f77b4;\"/>\n   </g>\n   <g id=\"patch_214\">\n    <path clip-path=\"url(#p7588bd4e9e)\" d=\"M 277.590045 413.710125 \nL 285.706409 413.710125 \nL 285.706409 367.260993 \nL 277.590045 367.260993 \nz\n\" style=\"fill:#1f77b4;\"/>\n   </g>\n   <g id=\"patch_215\">\n    <path clip-path=\"url(#p7588bd4e9e)\" d=\"M 285.706409 413.710125 \nL 293.822773 413.710125 \nL 293.822773 337.262595 \nL 285.706409 337.262595 \nz\n\" style=\"fill:#1f77b4;\"/>\n   </g>\n   <g id=\"patch_216\">\n    <path clip-path=\"url(#p7588bd4e9e)\" d=\"M 293.822773 413.710125 \nL 301.939136 413.710125 \nL 301.939136 310.167268 \nL 293.822773 310.167268 \nz\n\" style=\"fill:#1f77b4;\"/>\n   </g>\n   <g id=\"patch_217\">\n    <path clip-path=\"url(#p7588bd4e9e)\" d=\"M 301.939136 413.710125 \nL 310.0555 413.710125 \nL 310.0555 336.294905 \nL 301.939136 336.294905 \nz\n\" style=\"fill:#1f77b4;\"/>\n   </g>\n   <g id=\"patch_218\">\n    <path clip-path=\"url(#p7588bd4e9e)\" d=\"M 310.0555 413.710125 \nL 318.171864 413.710125 \nL 318.171864 341.133356 \nL 310.0555 341.133356 \nz\n\" style=\"fill:#1f77b4;\"/>\n   </g>\n   <g id=\"patch_219\">\n    <path clip-path=\"url(#p7588bd4e9e)\" d=\"M 318.171864 413.710125 \nL 326.288227 413.710125 \nL 326.288227 366.293303 \nL 318.171864 366.293303 \nz\n\" style=\"fill:#1f77b4;\"/>\n   </g>\n   <g id=\"patch_220\">\n    <path clip-path=\"url(#p7588bd4e9e)\" d=\"M 326.288227 413.710125 \nL 334.404591 413.710125 \nL 334.404591 391.453249 \nL 326.288227 391.453249 \nz\n\" style=\"fill:#1f77b4;\"/>\n   </g>\n   <g id=\"patch_221\">\n    <path clip-path=\"url(#p7588bd4e9e)\" d=\"M 334.404591 413.710125 \nL 342.520955 413.710125 \nL 342.520955 405.968603 \nL 334.404591 405.968603 \nz\n\" style=\"fill:#1f77b4;\"/>\n   </g>\n   <g id=\"patch_222\">\n    <path clip-path=\"url(#p7588bd4e9e)\" d=\"M 342.520955 413.710125 \nL 350.637318 413.710125 \nL 350.637318 407.903983 \nL 342.520955 407.903983 \nz\n\" style=\"fill:#1f77b4;\"/>\n   </g>\n   <g id=\"matplotlib.axis_29\">\n    <g id=\"xtick_31\">\n     <g id=\"line2d_173\">\n      <path clip-path=\"url(#p7588bd4e9e)\" d=\"M 274.909584 413.710125 \nL 274.909584 304.990125 \n\" style=\"fill:none;stroke:#b0b0b0;stroke-linecap:square;stroke-width:0.8;\"/>\n     </g>\n     <g id=\"line2d_174\">\n      <g>\n       <use style=\"stroke:#000000;stroke-width:0.8;\" x=\"274.909584\" xlink:href=\"#m1efa2ccf88\" y=\"413.710125\"/>\n      </g>\n     </g>\n     <g id=\"text_101\">\n      <!-- 10 -->\n      <g transform=\"translate(268.547084 428.308562)scale(0.1 -0.1)\">\n       <use xlink:href=\"#DejaVuSans-49\"/>\n       <use x=\"63.623047\" xlink:href=\"#DejaVuSans-48\"/>\n      </g>\n     </g>\n    </g>\n    <g id=\"xtick_32\">\n     <g id=\"line2d_175\">\n      <path clip-path=\"url(#p7588bd4e9e)\" d=\"M 312.398561 413.710125 \nL 312.398561 304.990125 \n\" style=\"fill:none;stroke:#b0b0b0;stroke-linecap:square;stroke-width:0.8;\"/>\n     </g>\n     <g id=\"line2d_176\">\n      <g>\n       <use style=\"stroke:#000000;stroke-width:0.8;\" x=\"312.398561\" xlink:href=\"#m1efa2ccf88\" y=\"413.710125\"/>\n      </g>\n     </g>\n     <g id=\"text_102\">\n      <!-- 20 -->\n      <g transform=\"translate(306.036061 428.308562)scale(0.1 -0.1)\">\n       <use xlink:href=\"#DejaVuSans-50\"/>\n       <use x=\"63.623047\" xlink:href=\"#DejaVuSans-48\"/>\n      </g>\n     </g>\n    </g>\n    <g id=\"xtick_33\">\n     <g id=\"line2d_177\">\n      <path clip-path=\"url(#p7588bd4e9e)\" d=\"M 349.887539 413.710125 \nL 349.887539 304.990125 \n\" style=\"fill:none;stroke:#b0b0b0;stroke-linecap:square;stroke-width:0.8;\"/>\n     </g>\n     <g id=\"line2d_178\">\n      <g>\n       <use style=\"stroke:#000000;stroke-width:0.8;\" x=\"349.887539\" xlink:href=\"#m1efa2ccf88\" y=\"413.710125\"/>\n      </g>\n     </g>\n     <g id=\"text_103\">\n      <!-- 30 -->\n      <g transform=\"translate(343.525039 428.308562)scale(0.1 -0.1)\">\n       <use xlink:href=\"#DejaVuSans-51\"/>\n       <use x=\"63.623047\" xlink:href=\"#DejaVuSans-48\"/>\n      </g>\n     </g>\n    </g>\n   </g>\n   <g id=\"matplotlib.axis_30\">\n    <g id=\"ytick_57\">\n     <g id=\"line2d_179\">\n      <path clip-path=\"url(#p7588bd4e9e)\" d=\"M 265.4155 413.710125 \nL 354.6955 413.710125 \n\" style=\"fill:none;stroke:#b0b0b0;stroke-linecap:square;stroke-width:0.8;\"/>\n     </g>\n     <g id=\"line2d_180\">\n      <g>\n       <use style=\"stroke:#000000;stroke-width:0.8;\" x=\"265.4155\" xlink:href=\"#m88d07c3e7f\" y=\"413.710125\"/>\n      </g>\n     </g>\n     <g id=\"text_104\">\n      <!-- 0 -->\n      <g transform=\"translate(252.053 417.509344)scale(0.1 -0.1)\">\n       <use xlink:href=\"#DejaVuSans-48\"/>\n      </g>\n     </g>\n    </g>\n    <g id=\"ytick_58\">\n     <g id=\"line2d_181\">\n      <path clip-path=\"url(#p7588bd4e9e)\" d=\"M 265.4155 389.517869 \nL 354.6955 389.517869 \n\" style=\"fill:none;stroke:#b0b0b0;stroke-linecap:square;stroke-width:0.8;\"/>\n     </g>\n     <g id=\"line2d_182\">\n      <g>\n       <use style=\"stroke:#000000;stroke-width:0.8;\" x=\"265.4155\" xlink:href=\"#m88d07c3e7f\" y=\"389.517869\"/>\n      </g>\n     </g>\n     <g id=\"text_105\">\n      <!-- 25 -->\n      <g transform=\"translate(245.6905 393.317087)scale(0.1 -0.1)\">\n       <use xlink:href=\"#DejaVuSans-50\"/>\n       <use x=\"63.623047\" xlink:href=\"#DejaVuSans-53\"/>\n      </g>\n     </g>\n    </g>\n    <g id=\"ytick_59\">\n     <g id=\"line2d_183\">\n      <path clip-path=\"url(#p7588bd4e9e)\" d=\"M 265.4155 365.325612 \nL 354.6955 365.325612 \n\" style=\"fill:none;stroke:#b0b0b0;stroke-linecap:square;stroke-width:0.8;\"/>\n     </g>\n     <g id=\"line2d_184\">\n      <g>\n       <use style=\"stroke:#000000;stroke-width:0.8;\" x=\"265.4155\" xlink:href=\"#m88d07c3e7f\" y=\"365.325612\"/>\n      </g>\n     </g>\n     <g id=\"text_106\">\n      <!-- 50 -->\n      <g transform=\"translate(245.6905 369.124831)scale(0.1 -0.1)\">\n       <use xlink:href=\"#DejaVuSans-53\"/>\n       <use x=\"63.623047\" xlink:href=\"#DejaVuSans-48\"/>\n      </g>\n     </g>\n    </g>\n    <g id=\"ytick_60\">\n     <g id=\"line2d_185\">\n      <path clip-path=\"url(#p7588bd4e9e)\" d=\"M 265.4155 341.133356 \nL 354.6955 341.133356 \n\" style=\"fill:none;stroke:#b0b0b0;stroke-linecap:square;stroke-width:0.8;\"/>\n     </g>\n     <g id=\"line2d_186\">\n      <g>\n       <use style=\"stroke:#000000;stroke-width:0.8;\" x=\"265.4155\" xlink:href=\"#m88d07c3e7f\" y=\"341.133356\"/>\n      </g>\n     </g>\n     <g id=\"text_107\">\n      <!-- 75 -->\n      <g transform=\"translate(245.6905 344.932575)scale(0.1 -0.1)\">\n       <use xlink:href=\"#DejaVuSans-55\"/>\n       <use x=\"63.623047\" xlink:href=\"#DejaVuSans-53\"/>\n      </g>\n     </g>\n    </g>\n    <g id=\"ytick_61\">\n     <g id=\"line2d_187\">\n      <path clip-path=\"url(#p7588bd4e9e)\" d=\"M 265.4155 316.9411 \nL 354.6955 316.9411 \n\" style=\"fill:none;stroke:#b0b0b0;stroke-linecap:square;stroke-width:0.8;\"/>\n     </g>\n     <g id=\"line2d_188\">\n      <g>\n       <use style=\"stroke:#000000;stroke-width:0.8;\" x=\"265.4155\" xlink:href=\"#m88d07c3e7f\" y=\"316.9411\"/>\n      </g>\n     </g>\n     <g id=\"text_108\">\n      <!-- 100 -->\n      <g transform=\"translate(239.328 320.740318)scale(0.1 -0.1)\">\n       <use xlink:href=\"#DejaVuSans-49\"/>\n       <use x=\"63.623047\" xlink:href=\"#DejaVuSans-48\"/>\n       <use x=\"127.246094\" xlink:href=\"#DejaVuSans-48\"/>\n      </g>\n     </g>\n    </g>\n   </g>\n   <g id=\"patch_223\">\n    <path d=\"M 265.4155 413.710125 \nL 265.4155 304.990125 \n\" style=\"fill:none;stroke:#000000;stroke-linecap:square;stroke-linejoin:miter;stroke-width:0.8;\"/>\n   </g>\n   <g id=\"patch_224\">\n    <path d=\"M 354.6955 413.710125 \nL 354.6955 304.990125 \n\" style=\"fill:none;stroke:#000000;stroke-linecap:square;stroke-linejoin:miter;stroke-width:0.8;\"/>\n   </g>\n   <g id=\"patch_225\">\n    <path d=\"M 265.4155 413.710125 \nL 354.6955 413.710125 \n\" style=\"fill:none;stroke:#000000;stroke-linecap:square;stroke-linejoin:miter;stroke-width:0.8;\"/>\n   </g>\n   <g id=\"patch_226\">\n    <path d=\"M 265.4155 304.990125 \nL 354.6955 304.990125 \n\" style=\"fill:none;stroke:#000000;stroke-linecap:square;stroke-linejoin:miter;stroke-width:0.8;\"/>\n   </g>\n   <g id=\"text_109\">\n    <!-- CSMOKING -->\n    <g transform=\"translate(277.31425 298.990125)scale(0.12 -0.12)\">\n     <use xlink:href=\"#DejaVuSans-67\"/>\n     <use x=\"69.824219\" xlink:href=\"#DejaVuSans-83\"/>\n     <use x=\"133.300781\" xlink:href=\"#DejaVuSans-77\"/>\n     <use x=\"219.580078\" xlink:href=\"#DejaVuSans-79\"/>\n     <use x=\"298.291016\" xlink:href=\"#DejaVuSans-75\"/>\n     <use x=\"363.867188\" xlink:href=\"#DejaVuSans-73\"/>\n     <use x=\"393.359375\" xlink:href=\"#DejaVuSans-78\"/>\n     <use x=\"468.164062\" xlink:href=\"#DejaVuSans-71\"/>\n    </g>\n   </g>\n  </g>\n  <g id=\"axes_16\">\n   <g id=\"patch_227\">\n    <path d=\"M 381.4795 413.710125 \nL 470.7595 413.710125 \nL 470.7595 304.990125 \nL 381.4795 304.990125 \nz\n\" style=\"fill:#ffffff;\"/>\n   </g>\n   <g id=\"patch_228\">\n    <path clip-path=\"url(#p0348701d71)\" d=\"M 385.537682 413.710125 \nL 393.654045 413.710125 \nL 393.654045 409.304046 \nL 385.537682 409.304046 \nz\n\" style=\"fill:#1f77b4;\"/>\n   </g>\n   <g id=\"patch_229\">\n    <path clip-path=\"url(#p0348701d71)\" d=\"M 393.654045 413.710125 \nL 401.770409 413.710125 \nL 401.770409 401.593408 \nL 393.654045 401.593408 \nz\n\" style=\"fill:#1f77b4;\"/>\n   </g>\n   <g id=\"patch_230\">\n    <path clip-path=\"url(#p0348701d71)\" d=\"M 401.770409 413.710125 \nL 409.886773 413.710125 \nL 409.886773 370.750854 \nL 401.770409 370.750854 \nz\n\" style=\"fill:#1f77b4;\"/>\n   </g>\n   <g id=\"patch_231\">\n    <path clip-path=\"url(#p0348701d71)\" d=\"M 409.886773 413.710125 \nL 418.003136 413.710125 \nL 418.003136 332.197663 \nL 409.886773 332.197663 \nz\n\" style=\"fill:#1f77b4;\"/>\n   </g>\n   <g id=\"patch_232\">\n    <path clip-path=\"url(#p0348701d71)\" d=\"M 418.003136 413.710125 \nL 426.1195 413.710125 \nL 426.1195 314.573347 \nL 418.003136 314.573347 \nz\n\" style=\"fill:#1f77b4;\"/>\n   </g>\n   <g id=\"patch_233\">\n    <path clip-path=\"url(#p0348701d71)\" d=\"M 426.1195 413.710125 \nL 434.235864 413.710125 \nL 434.235864 325.588544 \nL 426.1195 325.588544 \nz\n\" style=\"fill:#1f77b4;\"/>\n   </g>\n   <g id=\"patch_234\">\n    <path clip-path=\"url(#p0348701d71)\" d=\"M 434.235864 413.710125 \nL 442.352227 413.710125 \nL 442.352227 310.167268 \nL 434.235864 310.167268 \nz\n\" style=\"fill:#1f77b4;\"/>\n   </g>\n   <g id=\"patch_235\">\n    <path clip-path=\"url(#p0348701d71)\" d=\"M 442.352227 413.710125 \nL 450.468591 413.710125 \nL 450.468591 347.61894 \nL 442.352227 347.61894 \nz\n\" style=\"fill:#1f77b4;\"/>\n   </g>\n   <g id=\"patch_236\">\n    <path clip-path=\"url(#p0348701d71)\" d=\"M 450.468591 413.710125 \nL 458.584955 413.710125 \nL 458.584955 377.359973 \nL 450.468591 377.359973 \nz\n\" style=\"fill:#1f77b4;\"/>\n   </g>\n   <g id=\"patch_237\">\n    <path clip-path=\"url(#p0348701d71)\" d=\"M 458.584955 413.710125 \nL 466.701318 413.710125 \nL 466.701318 400.491888 \nL 458.584955 400.491888 \nz\n\" style=\"fill:#1f77b4;\"/>\n   </g>\n   <g id=\"matplotlib.axis_31\">\n    <g id=\"xtick_34\">\n     <g id=\"line2d_189\">\n      <path clip-path=\"url(#p0348701d71)\" d=\"M 401.852496 413.710125 \nL 401.852496 304.990125 \n\" style=\"fill:none;stroke:#b0b0b0;stroke-linecap:square;stroke-width:0.8;\"/>\n     </g>\n     <g id=\"line2d_190\">\n      <g>\n       <use style=\"stroke:#000000;stroke-width:0.8;\" x=\"401.852496\" xlink:href=\"#m1efa2ccf88\" y=\"413.710125\"/>\n      </g>\n     </g>\n     <g id=\"text_110\">\n      <!-- 50 -->\n      <g transform=\"translate(395.489996 428.308562)scale(0.1 -0.1)\">\n       <use xlink:href=\"#DejaVuSans-53\"/>\n       <use x=\"63.623047\" xlink:href=\"#DejaVuSans-48\"/>\n      </g>\n     </g>\n    </g>\n    <g id=\"xtick_35\">\n     <g id=\"line2d_191\">\n      <path clip-path=\"url(#p0348701d71)\" d=\"M 453.156944 413.710125 \nL 453.156944 304.990125 \n\" style=\"fill:none;stroke:#b0b0b0;stroke-linecap:square;stroke-width:0.8;\"/>\n     </g>\n     <g id=\"line2d_192\">\n      <g>\n       <use style=\"stroke:#000000;stroke-width:0.8;\" x=\"453.156944\" xlink:href=\"#m1efa2ccf88\" y=\"413.710125\"/>\n      </g>\n     </g>\n     <g id=\"text_111\">\n      <!-- 75 -->\n      <g transform=\"translate(446.794444 428.308562)scale(0.1 -0.1)\">\n       <use xlink:href=\"#DejaVuSans-55\"/>\n       <use x=\"63.623047\" xlink:href=\"#DejaVuSans-53\"/>\n      </g>\n     </g>\n    </g>\n   </g>\n   <g id=\"matplotlib.axis_32\">\n    <g id=\"ytick_62\">\n     <g id=\"line2d_193\">\n      <path clip-path=\"url(#p0348701d71)\" d=\"M 381.4795 413.710125 \nL 470.7595 413.710125 \n\" style=\"fill:none;stroke:#b0b0b0;stroke-linecap:square;stroke-width:0.8;\"/>\n     </g>\n     <g id=\"line2d_194\">\n      <g>\n       <use style=\"stroke:#000000;stroke-width:0.8;\" x=\"381.4795\" xlink:href=\"#m88d07c3e7f\" y=\"413.710125\"/>\n      </g>\n     </g>\n     <g id=\"text_112\">\n      <!-- 0 -->\n      <g transform=\"translate(368.117 417.509344)scale(0.1 -0.1)\">\n       <use xlink:href=\"#DejaVuSans-48\"/>\n      </g>\n     </g>\n    </g>\n    <g id=\"ytick_63\">\n     <g id=\"line2d_195\">\n      <path clip-path=\"url(#p0348701d71)\" d=\"M 381.4795 391.67973 \nL 470.7595 391.67973 \n\" style=\"fill:none;stroke:#b0b0b0;stroke-linecap:square;stroke-width:0.8;\"/>\n     </g>\n     <g id=\"line2d_196\">\n      <g>\n       <use style=\"stroke:#000000;stroke-width:0.8;\" x=\"381.4795\" xlink:href=\"#m88d07c3e7f\" y=\"391.67973\"/>\n      </g>\n     </g>\n     <g id=\"text_113\">\n      <!-- 20 -->\n      <g transform=\"translate(361.7545 395.478949)scale(0.1 -0.1)\">\n       <use xlink:href=\"#DejaVuSans-50\"/>\n       <use x=\"63.623047\" xlink:href=\"#DejaVuSans-48\"/>\n      </g>\n     </g>\n    </g>\n    <g id=\"ytick_64\">\n     <g id=\"line2d_197\">\n      <path clip-path=\"url(#p0348701d71)\" d=\"M 381.4795 369.649335 \nL 470.7595 369.649335 \n\" style=\"fill:none;stroke:#b0b0b0;stroke-linecap:square;stroke-width:0.8;\"/>\n     </g>\n     <g id=\"line2d_198\">\n      <g>\n       <use style=\"stroke:#000000;stroke-width:0.8;\" x=\"381.4795\" xlink:href=\"#m88d07c3e7f\" y=\"369.649335\"/>\n      </g>\n     </g>\n     <g id=\"text_114\">\n      <!-- 40 -->\n      <g transform=\"translate(361.7545 373.448553)scale(0.1 -0.1)\">\n       <use xlink:href=\"#DejaVuSans-52\"/>\n       <use x=\"63.623047\" xlink:href=\"#DejaVuSans-48\"/>\n      </g>\n     </g>\n    </g>\n    <g id=\"ytick_65\">\n     <g id=\"line2d_199\">\n      <path clip-path=\"url(#p0348701d71)\" d=\"M 381.4795 347.61894 \nL 470.7595 347.61894 \n\" style=\"fill:none;stroke:#b0b0b0;stroke-linecap:square;stroke-width:0.8;\"/>\n     </g>\n     <g id=\"line2d_200\">\n      <g>\n       <use style=\"stroke:#000000;stroke-width:0.8;\" x=\"381.4795\" xlink:href=\"#m88d07c3e7f\" y=\"347.61894\"/>\n      </g>\n     </g>\n     <g id=\"text_115\">\n      <!-- 60 -->\n      <g transform=\"translate(361.7545 351.418158)scale(0.1 -0.1)\">\n       <use xlink:href=\"#DejaVuSans-54\"/>\n       <use x=\"63.623047\" xlink:href=\"#DejaVuSans-48\"/>\n      </g>\n     </g>\n    </g>\n    <g id=\"ytick_66\">\n     <g id=\"line2d_201\">\n      <path clip-path=\"url(#p0348701d71)\" d=\"M 381.4795 325.588544 \nL 470.7595 325.588544 \n\" style=\"fill:none;stroke:#b0b0b0;stroke-linecap:square;stroke-width:0.8;\"/>\n     </g>\n     <g id=\"line2d_202\">\n      <g>\n       <use style=\"stroke:#000000;stroke-width:0.8;\" x=\"381.4795\" xlink:href=\"#m88d07c3e7f\" y=\"325.588544\"/>\n      </g>\n     </g>\n     <g id=\"text_116\">\n      <!-- 80 -->\n      <g transform=\"translate(361.7545 329.387763)scale(0.1 -0.1)\">\n       <use xlink:href=\"#DejaVuSans-56\"/>\n       <use x=\"63.623047\" xlink:href=\"#DejaVuSans-48\"/>\n      </g>\n     </g>\n    </g>\n   </g>\n   <g id=\"patch_238\">\n    <path d=\"M 381.4795 413.710125 \nL 381.4795 304.990125 \n\" style=\"fill:none;stroke:#000000;stroke-linecap:square;stroke-linejoin:miter;stroke-width:0.8;\"/>\n   </g>\n   <g id=\"patch_239\">\n    <path d=\"M 470.7595 413.710125 \nL 470.7595 304.990125 \n\" style=\"fill:none;stroke:#000000;stroke-linecap:square;stroke-linejoin:miter;stroke-width:0.8;\"/>\n   </g>\n   <g id=\"patch_240\">\n    <path d=\"M 381.4795 413.710125 \nL 470.7595 413.710125 \n\" style=\"fill:none;stroke:#000000;stroke-linecap:square;stroke-linejoin:miter;stroke-width:0.8;\"/>\n   </g>\n   <g id=\"patch_241\">\n    <path d=\"M 381.4795 304.990125 \nL 470.7595 304.990125 \n\" style=\"fill:none;stroke:#000000;stroke-linecap:square;stroke-linejoin:miter;stroke-width:0.8;\"/>\n   </g>\n   <g id=\"text_117\">\n    <!-- DENTAL -->\n    <g transform=\"translate(402.572313 298.990125)scale(0.12 -0.12)\">\n     <use xlink:href=\"#DejaVuSans-68\"/>\n     <use x=\"77.001953\" xlink:href=\"#DejaVuSans-69\"/>\n     <use x=\"140.185547\" xlink:href=\"#DejaVuSans-78\"/>\n     <use x=\"214.990234\" xlink:href=\"#DejaVuSans-84\"/>\n     <use x=\"268.324219\" xlink:href=\"#DejaVuSans-65\"/>\n     <use x=\"336.732422\" xlink:href=\"#DejaVuSans-76\"/>\n    </g>\n   </g>\n  </g>\n  <g id=\"axes_17\">\n   <g id=\"patch_242\">\n    <path d=\"M 497.5435 413.710125 \nL 586.8235 413.710125 \nL 586.8235 304.990125 \nL 497.5435 304.990125 \nz\n\" style=\"fill:#ffffff;\"/>\n   </g>\n   <g id=\"patch_243\">\n    <path clip-path=\"url(#p8d9d4af6d4)\" d=\"M 501.601682 413.710125 \nL 509.718045 413.710125 \nL 509.718045 407.619369 \nL 501.601682 407.619369 \nz\n\" style=\"fill:#1f77b4;\"/>\n   </g>\n   <g id=\"patch_244\">\n    <path clip-path=\"url(#p8d9d4af6d4)\" d=\"M 509.718045 413.710125 \nL 517.834409 413.710125 \nL 517.834409 335.400401 \nL 509.718045 335.400401 \nz\n\" style=\"fill:#1f77b4;\"/>\n   </g>\n   <g id=\"patch_245\">\n    <path clip-path=\"url(#p8d9d4af6d4)\" d=\"M 517.834409 413.710125 \nL 525.950773 413.710125 \nL 525.950773 317.128132 \nL 517.834409 317.128132 \nz\n\" style=\"fill:#1f77b4;\"/>\n   </g>\n   <g id=\"patch_246\">\n    <path clip-path=\"url(#p8d9d4af6d4)\" d=\"M 525.950773 413.710125 \nL 534.067136 413.710125 \nL 534.067136 310.167268 \nL 525.950773 310.167268 \nz\n\" style=\"fill:#1f77b4;\"/>\n   </g>\n   <g id=\"patch_247\">\n    <path clip-path=\"url(#p8d9d4af6d4)\" d=\"M 534.067136 413.710125 \nL 542.1835 413.710125 \nL 542.1835 323.218889 \nL 534.067136 323.218889 \nz\n\" style=\"fill:#1f77b4;\"/>\n   </g>\n   <g id=\"patch_248\">\n    <path clip-path=\"url(#p8d9d4af6d4)\" d=\"M 542.1835 413.710125 \nL 550.299864 413.710125 \nL 550.299864 381.516127 \nL 542.1835 381.516127 \nz\n\" style=\"fill:#1f77b4;\"/>\n   </g>\n   <g id=\"patch_249\">\n    <path clip-path=\"url(#p8d9d4af6d4)\" d=\"M 550.299864 413.710125 \nL 558.416227 413.710125 \nL 558.416227 397.178072 \nL 550.299864 397.178072 \nz\n\" style=\"fill:#1f77b4;\"/>\n   </g>\n   <g id=\"patch_250\">\n    <path clip-path=\"url(#p8d9d4af6d4)\" d=\"M 558.416227 413.710125 \nL 566.532591 413.710125 \nL 566.532591 408.489477 \nL 558.416227 408.489477 \nz\n\" style=\"fill:#1f77b4;\"/>\n   </g>\n   <g id=\"patch_251\">\n    <path clip-path=\"url(#p8d9d4af6d4)\" d=\"M 566.532591 413.710125 \nL 574.648955 413.710125 \nL 574.648955 411.099801 \nL 566.532591 411.099801 \nz\n\" style=\"fill:#1f77b4;\"/>\n   </g>\n   <g id=\"patch_252\">\n    <path clip-path=\"url(#p8d9d4af6d4)\" d=\"M 574.648955 413.710125 \nL 582.765318 413.710125 \nL 582.765318 412.840017 \nL 574.648955 412.840017 \nz\n\" style=\"fill:#1f77b4;\"/>\n   </g>\n   <g id=\"matplotlib.axis_33\">\n    <g id=\"xtick_36\">\n     <g id=\"line2d_203\">\n      <path clip-path=\"url(#p8d9d4af6d4)\" d=\"M 528.390987 413.710125 \nL 528.390987 304.990125 \n\" style=\"fill:none;stroke:#b0b0b0;stroke-linecap:square;stroke-width:0.8;\"/>\n     </g>\n     <g id=\"line2d_204\">\n      <g>\n       <use style=\"stroke:#000000;stroke-width:0.8;\" x=\"528.390987\" xlink:href=\"#m1efa2ccf88\" y=\"413.710125\"/>\n      </g>\n     </g>\n     <g id=\"text_118\">\n      <!-- 10 -->\n      <g transform=\"translate(522.028487 428.308562)scale(0.1 -0.1)\">\n       <use xlink:href=\"#DejaVuSans-49\"/>\n       <use x=\"63.623047\" xlink:href=\"#DejaVuSans-48\"/>\n      </g>\n     </g>\n    </g>\n    <g id=\"xtick_37\">\n     <g id=\"line2d_205\">\n      <path clip-path=\"url(#p8d9d4af6d4)\" d=\"M 581.439115 413.710125 \nL 581.439115 304.990125 \n\" style=\"fill:none;stroke:#b0b0b0;stroke-linecap:square;stroke-width:0.8;\"/>\n     </g>\n     <g id=\"line2d_206\">\n      <g>\n       <use style=\"stroke:#000000;stroke-width:0.8;\" x=\"581.439115\" xlink:href=\"#m1efa2ccf88\" y=\"413.710125\"/>\n      </g>\n     </g>\n     <g id=\"text_119\">\n      <!-- 20 -->\n      <g transform=\"translate(575.076615 428.308562)scale(0.1 -0.1)\">\n       <use xlink:href=\"#DejaVuSans-50\"/>\n       <use x=\"63.623047\" xlink:href=\"#DejaVuSans-48\"/>\n      </g>\n     </g>\n    </g>\n   </g>\n   <g id=\"matplotlib.axis_34\">\n    <g id=\"ytick_67\">\n     <g id=\"line2d_207\">\n      <path clip-path=\"url(#p8d9d4af6d4)\" d=\"M 497.5435 413.710125 \nL 586.8235 413.710125 \n\" style=\"fill:none;stroke:#b0b0b0;stroke-linecap:square;stroke-width:0.8;\"/>\n     </g>\n     <g id=\"line2d_208\">\n      <g>\n       <use style=\"stroke:#000000;stroke-width:0.8;\" x=\"497.5435\" xlink:href=\"#m88d07c3e7f\" y=\"413.710125\"/>\n      </g>\n     </g>\n     <g id=\"text_120\">\n      <!-- 0 -->\n      <g transform=\"translate(484.181 417.509344)scale(0.1 -0.1)\">\n       <use xlink:href=\"#DejaVuSans-48\"/>\n      </g>\n     </g>\n    </g>\n    <g id=\"ytick_68\">\n     <g id=\"line2d_209\">\n      <path clip-path=\"url(#p8d9d4af6d4)\" d=\"M 497.5435 391.957424 \nL 586.8235 391.957424 \n\" style=\"fill:none;stroke:#b0b0b0;stroke-linecap:square;stroke-width:0.8;\"/>\n     </g>\n     <g id=\"line2d_210\">\n      <g>\n       <use style=\"stroke:#000000;stroke-width:0.8;\" x=\"497.5435\" xlink:href=\"#m88d07c3e7f\" y=\"391.957424\"/>\n      </g>\n     </g>\n     <g id=\"text_121\">\n      <!-- 25 -->\n      <g transform=\"translate(477.8185 395.756643)scale(0.1 -0.1)\">\n       <use xlink:href=\"#DejaVuSans-50\"/>\n       <use x=\"63.623047\" xlink:href=\"#DejaVuSans-53\"/>\n      </g>\n     </g>\n    </g>\n    <g id=\"ytick_69\">\n     <g id=\"line2d_211\">\n      <path clip-path=\"url(#p8d9d4af6d4)\" d=\"M 497.5435 370.204723 \nL 586.8235 370.204723 \n\" style=\"fill:none;stroke:#b0b0b0;stroke-linecap:square;stroke-width:0.8;\"/>\n     </g>\n     <g id=\"line2d_212\">\n      <g>\n       <use style=\"stroke:#000000;stroke-width:0.8;\" x=\"497.5435\" xlink:href=\"#m88d07c3e7f\" y=\"370.204723\"/>\n      </g>\n     </g>\n     <g id=\"text_122\">\n      <!-- 50 -->\n      <g transform=\"translate(477.8185 374.003942)scale(0.1 -0.1)\">\n       <use xlink:href=\"#DejaVuSans-53\"/>\n       <use x=\"63.623047\" xlink:href=\"#DejaVuSans-48\"/>\n      </g>\n     </g>\n    </g>\n    <g id=\"ytick_70\">\n     <g id=\"line2d_213\">\n      <path clip-path=\"url(#p8d9d4af6d4)\" d=\"M 497.5435 348.452022 \nL 586.8235 348.452022 \n\" style=\"fill:none;stroke:#b0b0b0;stroke-linecap:square;stroke-width:0.8;\"/>\n     </g>\n     <g id=\"line2d_214\">\n      <g>\n       <use style=\"stroke:#000000;stroke-width:0.8;\" x=\"497.5435\" xlink:href=\"#m88d07c3e7f\" y=\"348.452022\"/>\n      </g>\n     </g>\n     <g id=\"text_123\">\n      <!-- 75 -->\n      <g transform=\"translate(477.8185 352.251241)scale(0.1 -0.1)\">\n       <use xlink:href=\"#DejaVuSans-55\"/>\n       <use x=\"63.623047\" xlink:href=\"#DejaVuSans-53\"/>\n      </g>\n     </g>\n    </g>\n    <g id=\"ytick_71\">\n     <g id=\"line2d_215\">\n      <path clip-path=\"url(#p8d9d4af6d4)\" d=\"M 497.5435 326.699321 \nL 586.8235 326.699321 \n\" style=\"fill:none;stroke:#b0b0b0;stroke-linecap:square;stroke-width:0.8;\"/>\n     </g>\n     <g id=\"line2d_216\">\n      <g>\n       <use style=\"stroke:#000000;stroke-width:0.8;\" x=\"497.5435\" xlink:href=\"#m88d07c3e7f\" y=\"326.699321\"/>\n      </g>\n     </g>\n     <g id=\"text_124\">\n      <!-- 100 -->\n      <g transform=\"translate(471.456 330.498539)scale(0.1 -0.1)\">\n       <use xlink:href=\"#DejaVuSans-49\"/>\n       <use x=\"63.623047\" xlink:href=\"#DejaVuSans-48\"/>\n       <use x=\"127.246094\" xlink:href=\"#DejaVuSans-48\"/>\n      </g>\n     </g>\n    </g>\n   </g>\n   <g id=\"patch_253\">\n    <path d=\"M 497.5435 413.710125 \nL 497.5435 304.990125 \n\" style=\"fill:none;stroke:#000000;stroke-linecap:square;stroke-linejoin:miter;stroke-width:0.8;\"/>\n   </g>\n   <g id=\"patch_254\">\n    <path d=\"M 586.8235 413.710125 \nL 586.8235 304.990125 \n\" style=\"fill:none;stroke:#000000;stroke-linecap:square;stroke-linejoin:miter;stroke-width:0.8;\"/>\n   </g>\n   <g id=\"patch_255\">\n    <path d=\"M 497.5435 413.710125 \nL 586.8235 413.710125 \n\" style=\"fill:none;stroke:#000000;stroke-linecap:square;stroke-linejoin:miter;stroke-width:0.8;\"/>\n   </g>\n   <g id=\"patch_256\">\n    <path d=\"M 497.5435 304.990125 \nL 586.8235 304.990125 \n\" style=\"fill:none;stroke:#000000;stroke-linecap:square;stroke-linejoin:miter;stroke-width:0.8;\"/>\n   </g>\n   <g id=\"text_125\">\n    <!-- DIABETES -->\n    <g transform=\"translate(512.516313 298.990125)scale(0.12 -0.12)\">\n     <use xlink:href=\"#DejaVuSans-68\"/>\n     <use x=\"77.001953\" xlink:href=\"#DejaVuSans-73\"/>\n     <use x=\"106.494141\" xlink:href=\"#DejaVuSans-65\"/>\n     <use x=\"174.902344\" xlink:href=\"#DejaVuSans-66\"/>\n     <use x=\"243.505859\" xlink:href=\"#DejaVuSans-69\"/>\n     <use x=\"306.689453\" xlink:href=\"#DejaVuSans-84\"/>\n     <use x=\"367.773438\" xlink:href=\"#DejaVuSans-69\"/>\n     <use x=\"430.957031\" xlink:href=\"#DejaVuSans-83\"/>\n    </g>\n   </g>\n  </g>\n  <g id=\"axes_18\">\n   <g id=\"patch_257\">\n    <path d=\"M 613.6075 413.710125 \nL 702.8875 413.710125 \nL 702.8875 304.990125 \nL 613.6075 304.990125 \nz\n\" style=\"fill:#ffffff;\"/>\n   </g>\n   <g id=\"patch_258\">\n    <path clip-path=\"url(#p3be1fe3e1f)\" d=\"M 617.665682 413.710125 \nL 625.782045 413.710125 \nL 625.782045 409.839364 \nL 617.665682 409.839364 \nz\n\" style=\"fill:#1f77b4;\"/>\n   </g>\n   <g id=\"patch_259\">\n    <path clip-path=\"url(#p3be1fe3e1f)\" d=\"M 625.782045 413.710125 \nL 633.898409 413.710125 \nL 633.898409 404.033222 \nL 625.782045 404.033222 \nz\n\" style=\"fill:#1f77b4;\"/>\n   </g>\n   <g id=\"patch_260\">\n    <path clip-path=\"url(#p3be1fe3e1f)\" d=\"M 633.898409 413.710125 \nL 642.014773 413.710125 \nL 642.014773 381.776347 \nL 633.898409 381.776347 \nz\n\" style=\"fill:#1f77b4;\"/>\n   </g>\n   <g id=\"patch_261\">\n    <path clip-path=\"url(#p3be1fe3e1f)\" d=\"M 642.014773 413.710125 \nL 650.131136 413.710125 \nL 650.131136 359.519471 \nL 642.014773 359.519471 \nz\n\" style=\"fill:#1f77b4;\"/>\n   </g>\n   <g id=\"patch_262\">\n    <path clip-path=\"url(#p3be1fe3e1f)\" d=\"M 650.131136 413.710125 \nL 658.2475 413.710125 \nL 658.2475 310.167268 \nL 650.131136 310.167268 \nz\n\" style=\"fill:#1f77b4;\"/>\n   </g>\n   <g id=\"patch_263\">\n    <path clip-path=\"url(#p3be1fe3e1f)\" d=\"M 658.2475 413.710125 \nL 666.363864 413.710125 \nL 666.363864 315.005719 \nL 658.2475 315.005719 \nz\n\" style=\"fill:#1f77b4;\"/>\n   </g>\n   <g id=\"patch_264\">\n    <path clip-path=\"url(#p3be1fe3e1f)\" d=\"M 666.363864 413.710125 \nL 674.480227 413.710125 \nL 674.480227 322.747241 \nL 666.363864 322.747241 \nz\n\" style=\"fill:#1f77b4;\"/>\n   </g>\n   <g id=\"patch_265\">\n    <path clip-path=\"url(#p3be1fe3e1f)\" d=\"M 674.480227 413.710125 \nL 682.596591 413.710125 \nL 682.596591 352.745639 \nL 674.480227 352.745639 \nz\n\" style=\"fill:#1f77b4;\"/>\n   </g>\n   <g id=\"patch_266\">\n    <path clip-path=\"url(#p3be1fe3e1f)\" d=\"M 682.596591 413.710125 \nL 690.712955 413.710125 \nL 690.712955 389.517869 \nL 682.596591 389.517869 \nz\n\" style=\"fill:#1f77b4;\"/>\n   </g>\n   <g id=\"patch_267\">\n    <path clip-path=\"url(#p3be1fe3e1f)\" d=\"M 690.712955 413.710125 \nL 698.829318 413.710125 \nL 698.829318 410.807054 \nL 690.712955 410.807054 \nz\n\" style=\"fill:#1f77b4;\"/>\n   </g>\n   <g id=\"matplotlib.axis_35\">\n    <g id=\"xtick_38\">\n     <g id=\"line2d_217\">\n      <path clip-path=\"url(#p3be1fe3e1f)\" d=\"M 614.714277 413.710125 \nL 614.714277 304.990125 \n\" style=\"fill:none;stroke:#b0b0b0;stroke-linecap:square;stroke-width:0.8;\"/>\n     </g>\n     <g id=\"line2d_218\">\n      <g>\n       <use style=\"stroke:#000000;stroke-width:0.8;\" x=\"614.714277\" xlink:href=\"#m1efa2ccf88\" y=\"413.710125\"/>\n      </g>\n     </g>\n     <g id=\"text_126\">\n      <!-- 25 -->\n      <g transform=\"translate(608.351777 428.308562)scale(0.1 -0.1)\">\n       <use xlink:href=\"#DejaVuSans-50\"/>\n       <use x=\"63.623047\" xlink:href=\"#DejaVuSans-53\"/>\n      </g>\n     </g>\n    </g>\n    <g id=\"xtick_39\">\n     <g id=\"line2d_219\">\n      <path clip-path=\"url(#p3be1fe3e1f)\" d=\"M 644.228326 413.710125 \nL 644.228326 304.990125 \n\" style=\"fill:none;stroke:#b0b0b0;stroke-linecap:square;stroke-width:0.8;\"/>\n     </g>\n     <g id=\"line2d_220\">\n      <g>\n       <use style=\"stroke:#000000;stroke-width:0.8;\" x=\"644.228326\" xlink:href=\"#m1efa2ccf88\" y=\"413.710125\"/>\n      </g>\n     </g>\n     <g id=\"text_127\">\n      <!-- 30 -->\n      <g transform=\"translate(637.865826 428.308562)scale(0.1 -0.1)\">\n       <use xlink:href=\"#DejaVuSans-51\"/>\n       <use x=\"63.623047\" xlink:href=\"#DejaVuSans-48\"/>\n      </g>\n     </g>\n    </g>\n    <g id=\"xtick_40\">\n     <g id=\"line2d_221\">\n      <path clip-path=\"url(#p3be1fe3e1f)\" d=\"M 673.742376 413.710125 \nL 673.742376 304.990125 \n\" style=\"fill:none;stroke:#b0b0b0;stroke-linecap:square;stroke-width:0.8;\"/>\n     </g>\n     <g id=\"line2d_222\">\n      <g>\n       <use style=\"stroke:#000000;stroke-width:0.8;\" x=\"673.742376\" xlink:href=\"#m1efa2ccf88\" y=\"413.710125\"/>\n      </g>\n     </g>\n     <g id=\"text_128\">\n      <!-- 35 -->\n      <g transform=\"translate(667.379876 428.308562)scale(0.1 -0.1)\">\n       <use xlink:href=\"#DejaVuSans-51\"/>\n       <use x=\"63.623047\" xlink:href=\"#DejaVuSans-53\"/>\n      </g>\n     </g>\n    </g>\n   </g>\n   <g id=\"matplotlib.axis_36\">\n    <g id=\"ytick_72\">\n     <g id=\"line2d_223\">\n      <path clip-path=\"url(#p3be1fe3e1f)\" d=\"M 613.6075 413.710125 \nL 702.8875 413.710125 \n\" style=\"fill:none;stroke:#b0b0b0;stroke-linecap:square;stroke-width:0.8;\"/>\n     </g>\n     <g id=\"line2d_224\">\n      <g>\n       <use style=\"stroke:#000000;stroke-width:0.8;\" x=\"613.6075\" xlink:href=\"#m88d07c3e7f\" y=\"413.710125\"/>\n      </g>\n     </g>\n     <g id=\"text_129\">\n      <!-- 0 -->\n      <g transform=\"translate(600.245 417.509344)scale(0.1 -0.1)\">\n       <use xlink:href=\"#DejaVuSans-48\"/>\n      </g>\n     </g>\n    </g>\n    <g id=\"ytick_73\">\n     <g id=\"line2d_225\">\n      <path clip-path=\"url(#p3be1fe3e1f)\" d=\"M 613.6075 389.517869 \nL 702.8875 389.517869 \n\" style=\"fill:none;stroke:#b0b0b0;stroke-linecap:square;stroke-width:0.8;\"/>\n     </g>\n     <g id=\"line2d_226\">\n      <g>\n       <use style=\"stroke:#000000;stroke-width:0.8;\" x=\"613.6075\" xlink:href=\"#m88d07c3e7f\" y=\"389.517869\"/>\n      </g>\n     </g>\n     <g id=\"text_130\">\n      <!-- 25 -->\n      <g transform=\"translate(593.8825 393.317087)scale(0.1 -0.1)\">\n       <use xlink:href=\"#DejaVuSans-50\"/>\n       <use x=\"63.623047\" xlink:href=\"#DejaVuSans-53\"/>\n      </g>\n     </g>\n    </g>\n    <g id=\"ytick_74\">\n     <g id=\"line2d_227\">\n      <path clip-path=\"url(#p3be1fe3e1f)\" d=\"M 613.6075 365.325612 \nL 702.8875 365.325612 \n\" style=\"fill:none;stroke:#b0b0b0;stroke-linecap:square;stroke-width:0.8;\"/>\n     </g>\n     <g id=\"line2d_228\">\n      <g>\n       <use style=\"stroke:#000000;stroke-width:0.8;\" x=\"613.6075\" xlink:href=\"#m88d07c3e7f\" y=\"365.325612\"/>\n      </g>\n     </g>\n     <g id=\"text_131\">\n      <!-- 50 -->\n      <g transform=\"translate(593.8825 369.124831)scale(0.1 -0.1)\">\n       <use xlink:href=\"#DejaVuSans-53\"/>\n       <use x=\"63.623047\" xlink:href=\"#DejaVuSans-48\"/>\n      </g>\n     </g>\n    </g>\n    <g id=\"ytick_75\">\n     <g id=\"line2d_229\">\n      <path clip-path=\"url(#p3be1fe3e1f)\" d=\"M 613.6075 341.133356 \nL 702.8875 341.133356 \n\" style=\"fill:none;stroke:#b0b0b0;stroke-linecap:square;stroke-width:0.8;\"/>\n     </g>\n     <g id=\"line2d_230\">\n      <g>\n       <use style=\"stroke:#000000;stroke-width:0.8;\" x=\"613.6075\" xlink:href=\"#m88d07c3e7f\" y=\"341.133356\"/>\n      </g>\n     </g>\n     <g id=\"text_132\">\n      <!-- 75 -->\n      <g transform=\"translate(593.8825 344.932575)scale(0.1 -0.1)\">\n       <use xlink:href=\"#DejaVuSans-55\"/>\n       <use x=\"63.623047\" xlink:href=\"#DejaVuSans-53\"/>\n      </g>\n     </g>\n    </g>\n    <g id=\"ytick_76\">\n     <g id=\"line2d_231\">\n      <path clip-path=\"url(#p3be1fe3e1f)\" d=\"M 613.6075 316.9411 \nL 702.8875 316.9411 \n\" style=\"fill:none;stroke:#b0b0b0;stroke-linecap:square;stroke-width:0.8;\"/>\n     </g>\n     <g id=\"line2d_232\">\n      <g>\n       <use style=\"stroke:#000000;stroke-width:0.8;\" x=\"613.6075\" xlink:href=\"#m88d07c3e7f\" y=\"316.9411\"/>\n      </g>\n     </g>\n     <g id=\"text_133\">\n      <!-- 100 -->\n      <g transform=\"translate(587.52 320.740318)scale(0.1 -0.1)\">\n       <use xlink:href=\"#DejaVuSans-49\"/>\n       <use x=\"63.623047\" xlink:href=\"#DejaVuSans-48\"/>\n       <use x=\"127.246094\" xlink:href=\"#DejaVuSans-48\"/>\n      </g>\n     </g>\n    </g>\n   </g>\n   <g id=\"patch_268\">\n    <path d=\"M 613.6075 413.710125 \nL 613.6075 304.990125 \n\" style=\"fill:none;stroke:#000000;stroke-linecap:square;stroke-linejoin:miter;stroke-width:0.8;\"/>\n   </g>\n   <g id=\"patch_269\">\n    <path d=\"M 702.8875 413.710125 \nL 702.8875 304.990125 \n\" style=\"fill:none;stroke:#000000;stroke-linecap:square;stroke-linejoin:miter;stroke-width:0.8;\"/>\n   </g>\n   <g id=\"patch_270\">\n    <path d=\"M 613.6075 413.710125 \nL 702.8875 413.710125 \n\" style=\"fill:none;stroke:#000000;stroke-linecap:square;stroke-linejoin:miter;stroke-width:0.8;\"/>\n   </g>\n   <g id=\"patch_271\">\n    <path d=\"M 613.6075 304.990125 \nL 702.8875 304.990125 \n\" style=\"fill:none;stroke:#000000;stroke-linecap:square;stroke-linejoin:miter;stroke-width:0.8;\"/>\n   </g>\n   <g id=\"text_134\">\n    <!-- HIGHCHOL -->\n    <g transform=\"translate(626.035938 298.990125)scale(0.12 -0.12)\">\n     <use xlink:href=\"#DejaVuSans-72\"/>\n     <use x=\"75.195312\" xlink:href=\"#DejaVuSans-73\"/>\n     <use x=\"104.6875\" xlink:href=\"#DejaVuSans-71\"/>\n     <use x=\"182.177734\" xlink:href=\"#DejaVuSans-72\"/>\n     <use x=\"257.373047\" xlink:href=\"#DejaVuSans-67\"/>\n     <use x=\"327.197266\" xlink:href=\"#DejaVuSans-72\"/>\n     <use x=\"402.392578\" xlink:href=\"#DejaVuSans-79\"/>\n     <use x=\"481.103516\" xlink:href=\"#DejaVuSans-76\"/>\n    </g>\n   </g>\n  </g>\n  <g id=\"axes_19\">\n   <g id=\"patch_272\">\n    <path d=\"M 33.2875 555.046125 \nL 122.5675 555.046125 \nL 122.5675 446.326125 \nL 33.2875 446.326125 \nz\n\" style=\"fill:#ffffff;\"/>\n   </g>\n   <g id=\"patch_273\">\n    <path clip-path=\"url(#pd697c012cf)\" d=\"M 37.345682 555.046125 \nL 45.462045 555.046125 \nL 45.462045 536.99737 \nL 37.345682 536.99737 \nz\n\" style=\"fill:#1f77b4;\"/>\n   </g>\n   <g id=\"patch_274\">\n    <path clip-path=\"url(#pd697c012cf)\" d=\"M 45.462045 555.046125 \nL 53.578409 555.046125 \nL 53.578409 489.500647 \nL 45.462045 489.500647 \nz\n\" style=\"fill:#1f77b4;\"/>\n   </g>\n   <g id=\"patch_275\">\n    <path clip-path=\"url(#pd697c012cf)\" d=\"M 53.578409 555.046125 \nL 61.694773 555.046125 \nL 61.694773 456.25294 \nL 53.578409 456.25294 \nz\n\" style=\"fill:#1f77b4;\"/>\n   </g>\n   <g id=\"patch_276\">\n    <path clip-path=\"url(#pd697c012cf)\" d=\"M 61.694773 555.046125 \nL 69.811136 555.046125 \nL 69.811136 463.852416 \nL 61.694773 463.852416 \nz\n\" style=\"fill:#1f77b4;\"/>\n   </g>\n   <g id=\"patch_277\">\n    <path clip-path=\"url(#pd697c012cf)\" d=\"M 69.811136 555.046125 \nL 77.9275 555.046125 \nL 77.9275 451.503268 \nL 69.811136 451.503268 \nz\n\" style=\"fill:#1f77b4;\"/>\n   </g>\n   <g id=\"patch_278\">\n    <path clip-path=\"url(#pd697c012cf)\" d=\"M 77.9275 555.046125 \nL 86.043864 555.046125 \nL 86.043864 491.400516 \nL 77.9275 491.400516 \nz\n\" style=\"fill:#1f77b4;\"/>\n   </g>\n   <g id=\"patch_279\">\n    <path clip-path=\"url(#pd697c012cf)\" d=\"M 86.043864 555.046125 \nL 94.160227 555.046125 \nL 94.160227 539.847173 \nL 86.043864 539.847173 \nz\n\" style=\"fill:#1f77b4;\"/>\n   </g>\n   <g id=\"patch_280\">\n    <path clip-path=\"url(#pd697c012cf)\" d=\"M 94.160227 555.046125 \nL 102.276591 555.046125 \nL 102.276591 546.496715 \nL 94.160227 546.496715 \nz\n\" style=\"fill:#1f77b4;\"/>\n   </g>\n   <g id=\"patch_281\">\n    <path clip-path=\"url(#pd697c012cf)\" d=\"M 102.276591 555.046125 \nL 110.392955 555.046125 \nL 110.392955 550.296453 \nL 102.276591 550.296453 \nz\n\" style=\"fill:#1f77b4;\"/>\n   </g>\n   <g id=\"patch_282\">\n    <path clip-path=\"url(#pd697c012cf)\" d=\"M 110.392955 555.046125 \nL 118.509318 555.046125 \nL 118.509318 552.196322 \nL 110.392955 552.196322 \nz\n\" style=\"fill:#1f77b4;\"/>\n   </g>\n   <g id=\"matplotlib.axis_37\">\n    <g id=\"xtick_41\">\n     <g id=\"line2d_233\">\n      <path clip-path=\"url(#pd697c012cf)\" d=\"M 41.617452 555.046125 \nL 41.617452 446.326125 \n\" style=\"fill:none;stroke:#b0b0b0;stroke-linecap:square;stroke-width:0.8;\"/>\n     </g>\n     <g id=\"line2d_234\">\n      <g>\n       <use style=\"stroke:#000000;stroke-width:0.8;\" x=\"41.617452\" xlink:href=\"#m1efa2ccf88\" y=\"555.046125\"/>\n      </g>\n     </g>\n     <g id=\"text_135\">\n      <!-- 2 -->\n      <g transform=\"translate(38.436202 569.644562)scale(0.1 -0.1)\">\n       <use xlink:href=\"#DejaVuSans-50\"/>\n      </g>\n     </g>\n    </g>\n    <g id=\"xtick_42\">\n     <g id=\"line2d_235\">\n      <path clip-path=\"url(#pd697c012cf)\" d=\"M 98.57439 555.046125 \nL 98.57439 446.326125 \n\" style=\"fill:none;stroke:#b0b0b0;stroke-linecap:square;stroke-width:0.8;\"/>\n     </g>\n     <g id=\"line2d_236\">\n      <g>\n       <use style=\"stroke:#000000;stroke-width:0.8;\" x=\"98.57439\" xlink:href=\"#m1efa2ccf88\" y=\"555.046125\"/>\n      </g>\n     </g>\n     <g id=\"text_136\">\n      <!-- 4 -->\n      <g transform=\"translate(95.39314 569.644562)scale(0.1 -0.1)\">\n       <use xlink:href=\"#DejaVuSans-52\"/>\n      </g>\n     </g>\n    </g>\n   </g>\n   <g id=\"matplotlib.axis_38\">\n    <g id=\"ytick_77\">\n     <g id=\"line2d_237\">\n      <path clip-path=\"url(#pd697c012cf)\" d=\"M 33.2875 555.046125 \nL 122.5675 555.046125 \n\" style=\"fill:none;stroke:#b0b0b0;stroke-linecap:square;stroke-width:0.8;\"/>\n     </g>\n     <g id=\"line2d_238\">\n      <g>\n       <use style=\"stroke:#000000;stroke-width:0.8;\" x=\"33.2875\" xlink:href=\"#m88d07c3e7f\" y=\"555.046125\"/>\n      </g>\n     </g>\n     <g id=\"text_137\">\n      <!-- 0 -->\n      <g transform=\"translate(19.925 558.845344)scale(0.1 -0.1)\">\n       <use xlink:href=\"#DejaVuSans-48\"/>\n      </g>\n     </g>\n    </g>\n    <g id=\"ytick_78\">\n     <g id=\"line2d_239\">\n      <path clip-path=\"url(#pd697c012cf)\" d=\"M 33.2875 531.297763 \nL 122.5675 531.297763 \n\" style=\"fill:none;stroke:#b0b0b0;stroke-linecap:square;stroke-width:0.8;\"/>\n     </g>\n     <g id=\"line2d_240\">\n      <g>\n       <use style=\"stroke:#000000;stroke-width:0.8;\" x=\"33.2875\" xlink:href=\"#m88d07c3e7f\" y=\"531.297763\"/>\n      </g>\n     </g>\n     <g id=\"text_138\">\n      <!-- 25 -->\n      <g transform=\"translate(13.5625 535.096982)scale(0.1 -0.1)\">\n       <use xlink:href=\"#DejaVuSans-50\"/>\n       <use x=\"63.623047\" xlink:href=\"#DejaVuSans-53\"/>\n      </g>\n     </g>\n    </g>\n    <g id=\"ytick_79\">\n     <g id=\"line2d_241\">\n      <path clip-path=\"url(#pd697c012cf)\" d=\"M 33.2875 507.549402 \nL 122.5675 507.549402 \n\" style=\"fill:none;stroke:#b0b0b0;stroke-linecap:square;stroke-width:0.8;\"/>\n     </g>\n     <g id=\"line2d_242\">\n      <g>\n       <use style=\"stroke:#000000;stroke-width:0.8;\" x=\"33.2875\" xlink:href=\"#m88d07c3e7f\" y=\"507.549402\"/>\n      </g>\n     </g>\n     <g id=\"text_139\">\n      <!-- 50 -->\n      <g transform=\"translate(13.5625 511.34862)scale(0.1 -0.1)\">\n       <use xlink:href=\"#DejaVuSans-53\"/>\n       <use x=\"63.623047\" xlink:href=\"#DejaVuSans-48\"/>\n      </g>\n     </g>\n    </g>\n    <g id=\"ytick_80\">\n     <g id=\"line2d_243\">\n      <path clip-path=\"url(#pd697c012cf)\" d=\"M 33.2875 483.80104 \nL 122.5675 483.80104 \n\" style=\"fill:none;stroke:#b0b0b0;stroke-linecap:square;stroke-width:0.8;\"/>\n     </g>\n     <g id=\"line2d_244\">\n      <g>\n       <use style=\"stroke:#000000;stroke-width:0.8;\" x=\"33.2875\" xlink:href=\"#m88d07c3e7f\" y=\"483.80104\"/>\n      </g>\n     </g>\n     <g id=\"text_140\">\n      <!-- 75 -->\n      <g transform=\"translate(13.5625 487.600259)scale(0.1 -0.1)\">\n       <use xlink:href=\"#DejaVuSans-55\"/>\n       <use x=\"63.623047\" xlink:href=\"#DejaVuSans-53\"/>\n      </g>\n     </g>\n    </g>\n    <g id=\"ytick_81\">\n     <g id=\"line2d_245\">\n      <path clip-path=\"url(#pd697c012cf)\" d=\"M 33.2875 460.052678 \nL 122.5675 460.052678 \n\" style=\"fill:none;stroke:#b0b0b0;stroke-linecap:square;stroke-width:0.8;\"/>\n     </g>\n     <g id=\"line2d_246\">\n      <g>\n       <use style=\"stroke:#000000;stroke-width:0.8;\" x=\"33.2875\" xlink:href=\"#m88d07c3e7f\" y=\"460.052678\"/>\n      </g>\n     </g>\n     <g id=\"text_141\">\n      <!-- 100 -->\n      <g transform=\"translate(7.2 463.851897)scale(0.1 -0.1)\">\n       <use xlink:href=\"#DejaVuSans-49\"/>\n       <use x=\"63.623047\" xlink:href=\"#DejaVuSans-48\"/>\n       <use x=\"127.246094\" xlink:href=\"#DejaVuSans-48\"/>\n      </g>\n     </g>\n    </g>\n   </g>\n   <g id=\"patch_283\">\n    <path d=\"M 33.2875 555.046125 \nL 33.2875 446.326125 \n\" style=\"fill:none;stroke:#000000;stroke-linecap:square;stroke-linejoin:miter;stroke-width:0.8;\"/>\n   </g>\n   <g id=\"patch_284\">\n    <path d=\"M 122.5675 555.046125 \nL 122.5675 446.326125 \n\" style=\"fill:none;stroke:#000000;stroke-linecap:square;stroke-linejoin:miter;stroke-width:0.8;\"/>\n   </g>\n   <g id=\"patch_285\">\n    <path d=\"M 33.2875 555.046125 \nL 122.5675 555.046125 \n\" style=\"fill:none;stroke:#000000;stroke-linecap:square;stroke-linejoin:miter;stroke-width:0.8;\"/>\n   </g>\n   <g id=\"patch_286\">\n    <path d=\"M 33.2875 446.326125 \nL 122.5675 446.326125 \n\" style=\"fill:none;stroke:#000000;stroke-linecap:square;stroke-linejoin:miter;stroke-width:0.8;\"/>\n   </g>\n   <g id=\"text_142\">\n    <!-- KIDNEY -->\n    <defs>\n     <path d=\"M -0.203125 72.90625 \nL 10.40625 72.90625 \nL 30.609375 42.921875 \nL 50.6875 72.90625 \nL 61.28125 72.90625 \nL 35.5 34.71875 \nL 35.5 0 \nL 25.59375 0 \nL 25.59375 34.71875 \nz\n\" id=\"DejaVuSans-89\"/>\n    </defs>\n    <g transform=\"translate(55.658125 440.326125)scale(0.12 -0.12)\">\n     <use xlink:href=\"#DejaVuSans-75\"/>\n     <use x=\"65.576172\" xlink:href=\"#DejaVuSans-73\"/>\n     <use x=\"95.068359\" xlink:href=\"#DejaVuSans-68\"/>\n     <use x=\"172.070312\" xlink:href=\"#DejaVuSans-78\"/>\n     <use x=\"246.875\" xlink:href=\"#DejaVuSans-69\"/>\n     <use x=\"310.058594\" xlink:href=\"#DejaVuSans-89\"/>\n    </g>\n   </g>\n  </g>\n  <g id=\"axes_20\">\n   <g id=\"patch_287\">\n    <path d=\"M 149.3515 555.046125 \nL 238.6315 555.046125 \nL 238.6315 446.326125 \nL 149.3515 446.326125 \nz\n\" style=\"fill:#ffffff;\"/>\n   </g>\n   <g id=\"patch_288\">\n    <path clip-path=\"url(#p61d9385850)\" d=\"M 153.409682 555.046125 \nL 161.526045 555.046125 \nL 161.526045 536.486556 \nL 153.409682 536.486556 \nz\n\" style=\"fill:#1f77b4;\"/>\n   </g>\n   <g id=\"patch_289\">\n    <path clip-path=\"url(#p61d9385850)\" d=\"M 161.526045 555.046125 \nL 169.642409 555.046125 \nL 169.642409 482.761489 \nL 161.526045 482.761489 \nz\n\" style=\"fill:#1f77b4;\"/>\n   </g>\n   <g id=\"patch_290\">\n    <path clip-path=\"url(#p61d9385850)\" d=\"M 169.642409 555.046125 \nL 177.758773 555.046125 \nL 177.758773 458.341004 \nL 169.642409 458.341004 \nz\n\" style=\"fill:#1f77b4;\"/>\n   </g>\n   <g id=\"patch_291\">\n    <path clip-path=\"url(#p61d9385850)\" d=\"M 177.758773 555.046125 \nL 185.875136 555.046125 \nL 185.875136 467.132378 \nL 177.758773 467.132378 \nz\n\" style=\"fill:#1f77b4;\"/>\n   </g>\n   <g id=\"patch_292\">\n    <path clip-path=\"url(#p61d9385850)\" d=\"M 185.875136 555.046125 \nL 193.9915 555.046125 \nL 193.9915 451.503268 \nL 185.875136 451.503268 \nz\n\" style=\"fill:#1f77b4;\"/>\n   </g>\n   <g id=\"patch_293\">\n    <path clip-path=\"url(#p61d9385850)\" d=\"M 193.9915 555.046125 \nL 202.107864 555.046125 \nL 202.107864 487.645586 \nL 193.9915 487.645586 \nz\n\" style=\"fill:#1f77b4;\"/>\n   </g>\n   <g id=\"patch_294\">\n    <path clip-path=\"url(#p61d9385850)\" d=\"M 202.107864 555.046125 \nL 210.224227 555.046125 \nL 210.224227 532.579279 \nL 202.107864 532.579279 \nz\n\" style=\"fill:#1f77b4;\"/>\n   </g>\n   <g id=\"patch_295\">\n    <path clip-path=\"url(#p61d9385850)\" d=\"M 210.224227 555.046125 \nL 218.340591 555.046125 \nL 218.340591 549.185209 \nL 210.224227 549.185209 \nz\n\" style=\"fill:#1f77b4;\"/>\n   </g>\n   <g id=\"patch_296\">\n    <path clip-path=\"url(#p61d9385850)\" d=\"M 218.340591 555.046125 \nL 226.456955 555.046125 \nL 226.456955 547.23157 \nL 218.340591 547.23157 \nz\n\" style=\"fill:#1f77b4;\"/>\n   </g>\n   <g id=\"patch_297\">\n    <path clip-path=\"url(#p61d9385850)\" d=\"M 226.456955 555.046125 \nL 234.573318 555.046125 \nL 234.573318 552.115667 \nL 226.456955 552.115667 \nz\n\" style=\"fill:#1f77b4;\"/>\n   </g>\n   <g id=\"matplotlib.axis_39\">\n    <g id=\"xtick_43\">\n     <g id=\"line2d_247\">\n      <path clip-path=\"url(#p61d9385850)\" d=\"M 174.164851 555.046125 \nL 174.164851 446.326125 \n\" style=\"fill:none;stroke:#b0b0b0;stroke-linecap:square;stroke-width:0.8;\"/>\n     </g>\n     <g id=\"line2d_248\">\n      <g>\n       <use style=\"stroke:#000000;stroke-width:0.8;\" x=\"174.164851\" xlink:href=\"#m1efa2ccf88\" y=\"555.046125\"/>\n      </g>\n     </g>\n     <g id=\"text_143\">\n      <!-- 20 -->\n      <g transform=\"translate(167.802351 569.644562)scale(0.1 -0.1)\">\n       <use xlink:href=\"#DejaVuSans-50\"/>\n       <use x=\"63.623047\" xlink:href=\"#DejaVuSans-48\"/>\n      </g>\n     </g>\n    </g>\n    <g id=\"xtick_44\">\n     <g id=\"line2d_249\">\n      <path clip-path=\"url(#p61d9385850)\" d=\"M 217.859945 555.046125 \nL 217.859945 446.326125 \n\" style=\"fill:none;stroke:#b0b0b0;stroke-linecap:square;stroke-width:0.8;\"/>\n     </g>\n     <g id=\"line2d_250\">\n      <g>\n       <use style=\"stroke:#000000;stroke-width:0.8;\" x=\"217.859945\" xlink:href=\"#m1efa2ccf88\" y=\"555.046125\"/>\n      </g>\n     </g>\n     <g id=\"text_144\">\n      <!-- 40 -->\n      <g transform=\"translate(211.497445 569.644562)scale(0.1 -0.1)\">\n       <use xlink:href=\"#DejaVuSans-52\"/>\n       <use x=\"63.623047\" xlink:href=\"#DejaVuSans-48\"/>\n      </g>\n     </g>\n    </g>\n   </g>\n   <g id=\"matplotlib.axis_40\">\n    <g id=\"ytick_82\">\n     <g id=\"line2d_251\">\n      <path clip-path=\"url(#p61d9385850)\" d=\"M 149.3515 555.046125 \nL 238.6315 555.046125 \n\" style=\"fill:none;stroke:#b0b0b0;stroke-linecap:square;stroke-width:0.8;\"/>\n     </g>\n     <g id=\"line2d_252\">\n      <g>\n       <use style=\"stroke:#000000;stroke-width:0.8;\" x=\"149.3515\" xlink:href=\"#m88d07c3e7f\" y=\"555.046125\"/>\n      </g>\n     </g>\n     <g id=\"text_145\">\n      <!-- 0 -->\n      <g transform=\"translate(135.989 558.845344)scale(0.1 -0.1)\">\n       <use xlink:href=\"#DejaVuSans-48\"/>\n      </g>\n     </g>\n    </g>\n    <g id=\"ytick_83\">\n     <g id=\"line2d_253\">\n      <path clip-path=\"url(#p61d9385850)\" d=\"M 149.3515 530.62564 \nL 238.6315 530.62564 \n\" style=\"fill:none;stroke:#b0b0b0;stroke-linecap:square;stroke-width:0.8;\"/>\n     </g>\n     <g id=\"line2d_254\">\n      <g>\n       <use style=\"stroke:#000000;stroke-width:0.8;\" x=\"149.3515\" xlink:href=\"#m88d07c3e7f\" y=\"530.62564\"/>\n      </g>\n     </g>\n     <g id=\"text_146\">\n      <!-- 25 -->\n      <g transform=\"translate(129.6265 534.424859)scale(0.1 -0.1)\">\n       <use xlink:href=\"#DejaVuSans-50\"/>\n       <use x=\"63.623047\" xlink:href=\"#DejaVuSans-53\"/>\n      </g>\n     </g>\n    </g>\n    <g id=\"ytick_84\">\n     <g id=\"line2d_255\">\n      <path clip-path=\"url(#p61d9385850)\" d=\"M 149.3515 506.205155 \nL 238.6315 506.205155 \n\" style=\"fill:none;stroke:#b0b0b0;stroke-linecap:square;stroke-width:0.8;\"/>\n     </g>\n     <g id=\"line2d_256\">\n      <g>\n       <use style=\"stroke:#000000;stroke-width:0.8;\" x=\"149.3515\" xlink:href=\"#m88d07c3e7f\" y=\"506.205155\"/>\n      </g>\n     </g>\n     <g id=\"text_147\">\n      <!-- 50 -->\n      <g transform=\"translate(129.6265 510.004373)scale(0.1 -0.1)\">\n       <use xlink:href=\"#DejaVuSans-53\"/>\n       <use x=\"63.623047\" xlink:href=\"#DejaVuSans-48\"/>\n      </g>\n     </g>\n    </g>\n    <g id=\"ytick_85\">\n     <g id=\"line2d_257\">\n      <path clip-path=\"url(#p61d9385850)\" d=\"M 149.3515 481.784669 \nL 238.6315 481.784669 \n\" style=\"fill:none;stroke:#b0b0b0;stroke-linecap:square;stroke-width:0.8;\"/>\n     </g>\n     <g id=\"line2d_258\">\n      <g>\n       <use style=\"stroke:#000000;stroke-width:0.8;\" x=\"149.3515\" xlink:href=\"#m88d07c3e7f\" y=\"481.784669\"/>\n      </g>\n     </g>\n     <g id=\"text_148\">\n      <!-- 75 -->\n      <g transform=\"translate(129.6265 485.583888)scale(0.1 -0.1)\">\n       <use xlink:href=\"#DejaVuSans-55\"/>\n       <use x=\"63.623047\" xlink:href=\"#DejaVuSans-53\"/>\n      </g>\n     </g>\n    </g>\n    <g id=\"ytick_86\">\n     <g id=\"line2d_259\">\n      <path clip-path=\"url(#p61d9385850)\" d=\"M 149.3515 457.364184 \nL 238.6315 457.364184 \n\" style=\"fill:none;stroke:#b0b0b0;stroke-linecap:square;stroke-width:0.8;\"/>\n     </g>\n     <g id=\"line2d_260\">\n      <g>\n       <use style=\"stroke:#000000;stroke-width:0.8;\" x=\"149.3515\" xlink:href=\"#m88d07c3e7f\" y=\"457.364184\"/>\n      </g>\n     </g>\n     <g id=\"text_149\">\n      <!-- 100 -->\n      <g transform=\"translate(123.264 461.163403)scale(0.1 -0.1)\">\n       <use xlink:href=\"#DejaVuSans-49\"/>\n       <use x=\"63.623047\" xlink:href=\"#DejaVuSans-48\"/>\n       <use x=\"127.246094\" xlink:href=\"#DejaVuSans-48\"/>\n      </g>\n     </g>\n    </g>\n   </g>\n   <g id=\"patch_298\">\n    <path d=\"M 149.3515 555.046125 \nL 149.3515 446.326125 \n\" style=\"fill:none;stroke:#000000;stroke-linecap:square;stroke-linejoin:miter;stroke-width:0.8;\"/>\n   </g>\n   <g id=\"patch_299\">\n    <path d=\"M 238.6315 555.046125 \nL 238.6315 446.326125 \n\" style=\"fill:none;stroke:#000000;stroke-linecap:square;stroke-linejoin:miter;stroke-width:0.8;\"/>\n   </g>\n   <g id=\"patch_300\">\n    <path d=\"M 149.3515 555.046125 \nL 238.6315 555.046125 \n\" style=\"fill:none;stroke:#000000;stroke-linecap:square;stroke-linejoin:miter;stroke-width:0.8;\"/>\n   </g>\n   <g id=\"patch_301\">\n    <path d=\"M 149.3515 446.326125 \nL 238.6315 446.326125 \n\" style=\"fill:none;stroke:#000000;stroke-linecap:square;stroke-linejoin:miter;stroke-width:0.8;\"/>\n   </g>\n   <g id=\"text_150\">\n    <!-- LPA -->\n    <g transform=\"translate(183.308688 440.326125)scale(0.12 -0.12)\">\n     <use xlink:href=\"#DejaVuSans-76\"/>\n     <use x=\"55.712891\" xlink:href=\"#DejaVuSans-80\"/>\n     <use x=\"109.640625\" xlink:href=\"#DejaVuSans-65\"/>\n    </g>\n   </g>\n  </g>\n  <g id=\"axes_21\">\n   <g id=\"patch_302\">\n    <path d=\"M 265.4155 555.046125 \nL 354.6955 555.046125 \nL 354.6955 446.326125 \nL 265.4155 446.326125 \nz\n\" style=\"fill:#ffffff;\"/>\n   </g>\n   <g id=\"patch_303\">\n    <path clip-path=\"url(#pbca2fe380b)\" d=\"M 269.473682 555.046125 \nL 277.590045 555.046125 \nL 277.590045 554.28478 \nL 269.473682 554.28478 \nz\n\" style=\"fill:#1f77b4;\"/>\n   </g>\n   <g id=\"patch_304\">\n    <path clip-path=\"url(#pbca2fe380b)\" d=\"M 277.590045 555.046125 \nL 285.706409 555.046125 \nL 285.706409 554.28478 \nL 277.590045 554.28478 \nz\n\" style=\"fill:#1f77b4;\"/>\n   </g>\n   <g id=\"patch_305\">\n    <path clip-path=\"url(#pbca2fe380b)\" d=\"M 285.706409 555.046125 \nL 293.822773 555.046125 \nL 293.822773 543.625957 \nL 285.706409 543.625957 \nz\n\" style=\"fill:#1f77b4;\"/>\n   </g>\n   <g id=\"patch_306\">\n    <path clip-path=\"url(#pbca2fe380b)\" d=\"M 293.822773 555.046125 \nL 301.939136 555.046125 \nL 301.939136 532.967133 \nL 293.822773 532.967133 \nz\n\" style=\"fill:#1f77b4;\"/>\n   </g>\n   <g id=\"patch_307\">\n    <path clip-path=\"url(#pbca2fe380b)\" d=\"M 301.939136 555.046125 \nL 310.0555 555.046125 \nL 310.0555 514.694864 \nL 301.939136 514.694864 \nz\n\" style=\"fill:#1f77b4;\"/>\n   </g>\n   <g id=\"patch_308\">\n    <path clip-path=\"url(#pbca2fe380b)\" d=\"M 310.0555 555.046125 \nL 318.171864 555.046125 \nL 318.171864 492.615873 \nL 310.0555 492.615873 \nz\n\" style=\"fill:#1f77b4;\"/>\n   </g>\n   <g id=\"patch_309\">\n    <path clip-path=\"url(#pbca2fe380b)\" d=\"M 318.171864 555.046125 \nL 326.288227 555.046125 \nL 326.288227 451.503268 \nL 318.171864 451.503268 \nz\n\" style=\"fill:#1f77b4;\"/>\n   </g>\n   <g id=\"patch_310\">\n    <path clip-path=\"url(#pbca2fe380b)\" d=\"M 326.288227 555.046125 \nL 334.404591 555.046125 \nL 334.404591 469.775537 \nL 326.288227 469.775537 \nz\n\" style=\"fill:#1f77b4;\"/>\n   </g>\n   <g id=\"patch_311\">\n    <path clip-path=\"url(#pbca2fe380b)\" d=\"M 334.404591 555.046125 \nL 342.520955 555.046125 \nL 342.520955 510.888142 \nL 334.404591 510.888142 \nz\n\" style=\"fill:#1f77b4;\"/>\n   </g>\n   <g id=\"patch_312\">\n    <path clip-path=\"url(#pbca2fe380b)\" d=\"M 342.520955 555.046125 \nL 350.637318 555.046125 \nL 350.637318 547.43268 \nL 342.520955 547.43268 \nz\n\" style=\"fill:#1f77b4;\"/>\n   </g>\n   <g id=\"matplotlib.axis_41\">\n    <g id=\"xtick_45\">\n     <g id=\"line2d_261\">\n      <path clip-path=\"url(#pbca2fe380b)\" d=\"M 294.477638 555.046125 \nL 294.477638 446.326125 \n\" style=\"fill:none;stroke:#b0b0b0;stroke-linecap:square;stroke-width:0.8;\"/>\n     </g>\n     <g id=\"line2d_262\">\n      <g>\n       <use style=\"stroke:#000000;stroke-width:0.8;\" x=\"294.477638\" xlink:href=\"#m1efa2ccf88\" y=\"555.046125\"/>\n      </g>\n     </g>\n     <g id=\"text_151\">\n      <!-- 70 -->\n      <g transform=\"translate(288.115138 569.644562)scale(0.1 -0.1)\">\n       <use xlink:href=\"#DejaVuSans-55\"/>\n       <use x=\"63.623047\" xlink:href=\"#DejaVuSans-48\"/>\n      </g>\n     </g>\n    </g>\n    <g id=\"xtick_46\">\n     <g id=\"line2d_263\">\n      <path clip-path=\"url(#pbca2fe380b)\" d=\"M 334.166458 555.046125 \nL 334.166458 446.326125 \n\" style=\"fill:none;stroke:#b0b0b0;stroke-linecap:square;stroke-width:0.8;\"/>\n     </g>\n     <g id=\"line2d_264\">\n      <g>\n       <use style=\"stroke:#000000;stroke-width:0.8;\" x=\"334.166458\" xlink:href=\"#m1efa2ccf88\" y=\"555.046125\"/>\n      </g>\n     </g>\n     <g id=\"text_152\">\n      <!-- 80 -->\n      <g transform=\"translate(327.803958 569.644562)scale(0.1 -0.1)\">\n       <use xlink:href=\"#DejaVuSans-56\"/>\n       <use x=\"63.623047\" xlink:href=\"#DejaVuSans-48\"/>\n      </g>\n     </g>\n    </g>\n   </g>\n   <g id=\"matplotlib.axis_42\">\n    <g id=\"ytick_87\">\n     <g id=\"line2d_265\">\n      <path clip-path=\"url(#pbca2fe380b)\" d=\"M 265.4155 555.046125 \nL 354.6955 555.046125 \n\" style=\"fill:none;stroke:#b0b0b0;stroke-linecap:square;stroke-width:0.8;\"/>\n     </g>\n     <g id=\"line2d_266\">\n      <g>\n       <use style=\"stroke:#000000;stroke-width:0.8;\" x=\"265.4155\" xlink:href=\"#m88d07c3e7f\" y=\"555.046125\"/>\n      </g>\n     </g>\n     <g id=\"text_153\">\n      <!-- 0 -->\n      <g transform=\"translate(252.053 558.845344)scale(0.1 -0.1)\">\n       <use xlink:href=\"#DejaVuSans-48\"/>\n      </g>\n     </g>\n    </g>\n    <g id=\"ytick_88\">\n     <g id=\"line2d_267\">\n      <path clip-path=\"url(#pbca2fe380b)\" d=\"M 265.4155 516.978898 \nL 354.6955 516.978898 \n\" style=\"fill:none;stroke:#b0b0b0;stroke-linecap:square;stroke-width:0.8;\"/>\n     </g>\n     <g id=\"line2d_268\">\n      <g>\n       <use style=\"stroke:#000000;stroke-width:0.8;\" x=\"265.4155\" xlink:href=\"#m88d07c3e7f\" y=\"516.978898\"/>\n      </g>\n     </g>\n     <g id=\"text_154\">\n      <!-- 50 -->\n      <g transform=\"translate(245.6905 520.778117)scale(0.1 -0.1)\">\n       <use xlink:href=\"#DejaVuSans-53\"/>\n       <use x=\"63.623047\" xlink:href=\"#DejaVuSans-48\"/>\n      </g>\n     </g>\n    </g>\n    <g id=\"ytick_89\">\n     <g id=\"line2d_269\">\n      <path clip-path=\"url(#pbca2fe380b)\" d=\"M 265.4155 478.911671 \nL 354.6955 478.911671 \n\" style=\"fill:none;stroke:#b0b0b0;stroke-linecap:square;stroke-width:0.8;\"/>\n     </g>\n     <g id=\"line2d_270\">\n      <g>\n       <use style=\"stroke:#000000;stroke-width:0.8;\" x=\"265.4155\" xlink:href=\"#m88d07c3e7f\" y=\"478.911671\"/>\n      </g>\n     </g>\n     <g id=\"text_155\">\n      <!-- 100 -->\n      <g transform=\"translate(239.328 482.71089)scale(0.1 -0.1)\">\n       <use xlink:href=\"#DejaVuSans-49\"/>\n       <use x=\"63.623047\" xlink:href=\"#DejaVuSans-48\"/>\n       <use x=\"127.246094\" xlink:href=\"#DejaVuSans-48\"/>\n      </g>\n     </g>\n    </g>\n   </g>\n   <g id=\"patch_313\">\n    <path d=\"M 265.4155 555.046125 \nL 265.4155 446.326125 \n\" style=\"fill:none;stroke:#000000;stroke-linecap:square;stroke-linejoin:miter;stroke-width:0.8;\"/>\n   </g>\n   <g id=\"patch_314\">\n    <path d=\"M 354.6955 555.046125 \nL 354.6955 446.326125 \n\" style=\"fill:none;stroke:#000000;stroke-linecap:square;stroke-linejoin:miter;stroke-width:0.8;\"/>\n   </g>\n   <g id=\"patch_315\">\n    <path d=\"M 265.4155 555.046125 \nL 354.6955 555.046125 \n\" style=\"fill:none;stroke:#000000;stroke-linecap:square;stroke-linejoin:miter;stroke-width:0.8;\"/>\n   </g>\n   <g id=\"patch_316\">\n    <path d=\"M 265.4155 446.326125 \nL 354.6955 446.326125 \n\" style=\"fill:none;stroke:#000000;stroke-linecap:square;stroke-linejoin:miter;stroke-width:0.8;\"/>\n   </g>\n   <g id=\"text_156\">\n    <!-- MAMMOUSE -->\n    <g transform=\"translate(273.705813 440.326125)scale(0.12 -0.12)\">\n     <use xlink:href=\"#DejaVuSans-77\"/>\n     <use x=\"86.279297\" xlink:href=\"#DejaVuSans-65\"/>\n     <use x=\"154.6875\" xlink:href=\"#DejaVuSans-77\"/>\n     <use x=\"240.966797\" xlink:href=\"#DejaVuSans-77\"/>\n     <use x=\"327.246094\" xlink:href=\"#DejaVuSans-79\"/>\n     <use x=\"405.957031\" xlink:href=\"#DejaVuSans-85\"/>\n     <use x=\"479.150391\" xlink:href=\"#DejaVuSans-83\"/>\n     <use x=\"542.626953\" xlink:href=\"#DejaVuSans-69\"/>\n    </g>\n   </g>\n  </g>\n  <g id=\"axes_22\">\n   <g id=\"patch_317\">\n    <path d=\"M 381.4795 555.046125 \nL 470.7595 555.046125 \nL 470.7595 446.326125 \nL 381.4795 446.326125 \nz\n\" style=\"fill:#ffffff;\"/>\n   </g>\n   <g id=\"patch_318\">\n    <path clip-path=\"url(#pf4c142eff3)\" d=\"M 385.537682 555.046125 \nL 393.654045 555.046125 \nL 393.654045 537.788982 \nL 385.537682 537.788982 \nz\n\" style=\"fill:#1f77b4;\"/>\n   </g>\n   <g id=\"patch_319\">\n    <path clip-path=\"url(#pf4c142eff3)\" d=\"M 393.654045 555.046125 \nL 401.770409 555.046125 \nL 401.770409 516.471335 \nL 393.654045 516.471335 \nz\n\" style=\"fill:#1f77b4;\"/>\n   </g>\n   <g id=\"patch_320\">\n    <path clip-path=\"url(#pf4c142eff3)\" d=\"M 401.770409 555.046125 \nL 409.886773 555.046125 \nL 409.886773 505.304949 \nL 401.770409 505.304949 \nz\n\" style=\"fill:#1f77b4;\"/>\n   </g>\n   <g id=\"patch_321\">\n    <path clip-path=\"url(#pf4c142eff3)\" d=\"M 409.886773 555.046125 \nL 418.003136 555.046125 \nL 418.003136 463.68478 \nL 409.886773 463.68478 \nz\n\" style=\"fill:#1f77b4;\"/>\n   </g>\n   <g id=\"patch_322\">\n    <path clip-path=\"url(#pf4c142eff3)\" d=\"M 418.003136 555.046125 \nL 426.1195 555.046125 \nL 426.1195 469.775537 \nL 418.003136 469.775537 \nz\n\" style=\"fill:#1f77b4;\"/>\n   </g>\n   <g id=\"patch_323\">\n    <path clip-path=\"url(#pf4c142eff3)\" d=\"M 426.1195 555.046125 \nL 434.235864 555.046125 \nL 434.235864 451.503268 \nL 426.1195 451.503268 \nz\n\" style=\"fill:#1f77b4;\"/>\n   </g>\n   <g id=\"patch_324\">\n    <path clip-path=\"url(#pf4c142eff3)\" d=\"M 434.235864 555.046125 \nL 442.352227 555.046125 \nL 442.352227 488.047806 \nL 434.235864 488.047806 \nz\n\" style=\"fill:#1f77b4;\"/>\n   </g>\n   <g id=\"patch_325\">\n    <path clip-path=\"url(#pf4c142eff3)\" d=\"M 442.352227 555.046125 \nL 450.468591 555.046125 \nL 450.468591 522.562091 \nL 442.352227 522.562091 \nz\n\" style=\"fill:#1f77b4;\"/>\n   </g>\n   <g id=\"patch_326\">\n    <path clip-path=\"url(#pf4c142eff3)\" d=\"M 450.468591 555.046125 \nL 458.584955 555.046125 \nL 458.584955 541.849486 \nL 450.468591 541.849486 \nz\n\" style=\"fill:#1f77b4;\"/>\n   </g>\n   <g id=\"patch_327\">\n    <path clip-path=\"url(#pf4c142eff3)\" d=\"M 458.584955 555.046125 \nL 466.701318 555.046125 \nL 466.701318 548.955369 \nL 458.584955 548.955369 \nz\n\" style=\"fill:#1f77b4;\"/>\n   </g>\n   <g id=\"matplotlib.axis_43\">\n    <g id=\"xtick_47\">\n     <g id=\"line2d_271\">\n      <path clip-path=\"url(#pf4c142eff3)\" d=\"M 401.770409 555.046125 \nL 401.770409 446.326125 \n\" style=\"fill:none;stroke:#b0b0b0;stroke-linecap:square;stroke-width:0.8;\"/>\n     </g>\n     <g id=\"line2d_272\">\n      <g>\n       <use style=\"stroke:#000000;stroke-width:0.8;\" x=\"401.770409\" xlink:href=\"#m1efa2ccf88\" y=\"555.046125\"/>\n      </g>\n     </g>\n     <g id=\"text_157\">\n      <!-- 10 -->\n      <g transform=\"translate(395.407909 569.644562)scale(0.1 -0.1)\">\n       <use xlink:href=\"#DejaVuSans-49\"/>\n       <use x=\"63.623047\" xlink:href=\"#DejaVuSans-48\"/>\n      </g>\n     </g>\n    </g>\n    <g id=\"xtick_48\">\n     <g id=\"line2d_273\">\n      <path clip-path=\"url(#pf4c142eff3)\" d=\"M 440.41976 555.046125 \nL 440.41976 446.326125 \n\" style=\"fill:none;stroke:#b0b0b0;stroke-linecap:square;stroke-width:0.8;\"/>\n     </g>\n     <g id=\"line2d_274\">\n      <g>\n       <use style=\"stroke:#000000;stroke-width:0.8;\" x=\"440.41976\" xlink:href=\"#m1efa2ccf88\" y=\"555.046125\"/>\n      </g>\n     </g>\n     <g id=\"text_158\">\n      <!-- 15 -->\n      <g transform=\"translate(434.05726 569.644562)scale(0.1 -0.1)\">\n       <use xlink:href=\"#DejaVuSans-49\"/>\n       <use x=\"63.623047\" xlink:href=\"#DejaVuSans-53\"/>\n      </g>\n     </g>\n    </g>\n   </g>\n   <g id=\"matplotlib.axis_44\">\n    <g id=\"ytick_90\">\n     <g id=\"line2d_275\">\n      <path clip-path=\"url(#pf4c142eff3)\" d=\"M 381.4795 555.046125 \nL 470.7595 555.046125 \n\" style=\"fill:none;stroke:#b0b0b0;stroke-linecap:square;stroke-width:0.8;\"/>\n     </g>\n     <g id=\"line2d_276\">\n      <g>\n       <use style=\"stroke:#000000;stroke-width:0.8;\" x=\"381.4795\" xlink:href=\"#m88d07c3e7f\" y=\"555.046125\"/>\n      </g>\n     </g>\n     <g id=\"text_159\">\n      <!-- 0 -->\n      <g transform=\"translate(368.117 558.845344)scale(0.1 -0.1)\">\n       <use xlink:href=\"#DejaVuSans-48\"/>\n      </g>\n     </g>\n    </g>\n    <g id=\"ytick_91\">\n     <g id=\"line2d_277\">\n      <path clip-path=\"url(#pf4c142eff3)\" d=\"M 381.4795 529.667974 \nL 470.7595 529.667974 \n\" style=\"fill:none;stroke:#b0b0b0;stroke-linecap:square;stroke-width:0.8;\"/>\n     </g>\n     <g id=\"line2d_278\">\n      <g>\n       <use style=\"stroke:#000000;stroke-width:0.8;\" x=\"381.4795\" xlink:href=\"#m88d07c3e7f\" y=\"529.667974\"/>\n      </g>\n     </g>\n     <g id=\"text_160\">\n      <!-- 25 -->\n      <g transform=\"translate(361.7545 533.467192)scale(0.1 -0.1)\">\n       <use xlink:href=\"#DejaVuSans-50\"/>\n       <use x=\"63.623047\" xlink:href=\"#DejaVuSans-53\"/>\n      </g>\n     </g>\n    </g>\n    <g id=\"ytick_92\">\n     <g id=\"line2d_279\">\n      <path clip-path=\"url(#pf4c142eff3)\" d=\"M 381.4795 504.289822 \nL 470.7595 504.289822 \n\" style=\"fill:none;stroke:#b0b0b0;stroke-linecap:square;stroke-width:0.8;\"/>\n     </g>\n     <g id=\"line2d_280\">\n      <g>\n       <use style=\"stroke:#000000;stroke-width:0.8;\" x=\"381.4795\" xlink:href=\"#m88d07c3e7f\" y=\"504.289822\"/>\n      </g>\n     </g>\n     <g id=\"text_161\">\n      <!-- 50 -->\n      <g transform=\"translate(361.7545 508.089041)scale(0.1 -0.1)\">\n       <use xlink:href=\"#DejaVuSans-53\"/>\n       <use x=\"63.623047\" xlink:href=\"#DejaVuSans-48\"/>\n      </g>\n     </g>\n    </g>\n    <g id=\"ytick_93\">\n     <g id=\"line2d_281\">\n      <path clip-path=\"url(#pf4c142eff3)\" d=\"M 381.4795 478.911671 \nL 470.7595 478.911671 \n\" style=\"fill:none;stroke:#b0b0b0;stroke-linecap:square;stroke-width:0.8;\"/>\n     </g>\n     <g id=\"line2d_282\">\n      <g>\n       <use style=\"stroke:#000000;stroke-width:0.8;\" x=\"381.4795\" xlink:href=\"#m88d07c3e7f\" y=\"478.911671\"/>\n      </g>\n     </g>\n     <g id=\"text_162\">\n      <!-- 75 -->\n      <g transform=\"translate(361.7545 482.71089)scale(0.1 -0.1)\">\n       <use xlink:href=\"#DejaVuSans-55\"/>\n       <use x=\"63.623047\" xlink:href=\"#DejaVuSans-53\"/>\n      </g>\n     </g>\n    </g>\n    <g id=\"ytick_94\">\n     <g id=\"line2d_283\">\n      <path clip-path=\"url(#pf4c142eff3)\" d=\"M 381.4795 453.53352 \nL 470.7595 453.53352 \n\" style=\"fill:none;stroke:#b0b0b0;stroke-linecap:square;stroke-width:0.8;\"/>\n     </g>\n     <g id=\"line2d_284\">\n      <g>\n       <use style=\"stroke:#000000;stroke-width:0.8;\" x=\"381.4795\" xlink:href=\"#m88d07c3e7f\" y=\"453.53352\"/>\n      </g>\n     </g>\n     <g id=\"text_163\">\n      <!-- 100 -->\n      <g transform=\"translate(355.392 457.332739)scale(0.1 -0.1)\">\n       <use xlink:href=\"#DejaVuSans-49\"/>\n       <use x=\"63.623047\" xlink:href=\"#DejaVuSans-48\"/>\n       <use x=\"127.246094\" xlink:href=\"#DejaVuSans-48\"/>\n      </g>\n     </g>\n    </g>\n   </g>\n   <g id=\"patch_328\">\n    <path d=\"M 381.4795 555.046125 \nL 381.4795 446.326125 \n\" style=\"fill:none;stroke:#000000;stroke-linecap:square;stroke-linejoin:miter;stroke-width:0.8;\"/>\n   </g>\n   <g id=\"patch_329\">\n    <path d=\"M 470.7595 555.046125 \nL 470.7595 446.326125 \n\" style=\"fill:none;stroke:#000000;stroke-linecap:square;stroke-linejoin:miter;stroke-width:0.8;\"/>\n   </g>\n   <g id=\"patch_330\">\n    <path d=\"M 381.4795 555.046125 \nL 470.7595 555.046125 \n\" style=\"fill:none;stroke:#000000;stroke-linecap:square;stroke-linejoin:miter;stroke-width:0.8;\"/>\n   </g>\n   <g id=\"patch_331\">\n    <path d=\"M 381.4795 446.326125 \nL 470.7595 446.326125 \n\" style=\"fill:none;stroke:#000000;stroke-linecap:square;stroke-linejoin:miter;stroke-width:0.8;\"/>\n   </g>\n   <g id=\"text_164\">\n    <!-- MHLTH -->\n    <g transform=\"translate(405.735437 440.326125)scale(0.12 -0.12)\">\n     <use xlink:href=\"#DejaVuSans-77\"/>\n     <use x=\"86.279297\" xlink:href=\"#DejaVuSans-72\"/>\n     <use x=\"161.474609\" xlink:href=\"#DejaVuSans-76\"/>\n     <use x=\"203.4375\" xlink:href=\"#DejaVuSans-84\"/>\n     <use x=\"264.521484\" xlink:href=\"#DejaVuSans-72\"/>\n    </g>\n   </g>\n  </g>\n  <g id=\"axes_23\">\n   <g id=\"patch_332\">\n    <path d=\"M 497.5435 555.046125 \nL 586.8235 555.046125 \nL 586.8235 446.326125 \nL 497.5435 446.326125 \nz\n\" style=\"fill:#ffffff;\"/>\n   </g>\n   <g id=\"patch_333\">\n    <path clip-path=\"url(#p706144d32f)\" d=\"M 501.601682 555.046125 \nL 509.718045 555.046125 \nL 509.718045 536.028049 \nL 501.601682 536.028049 \nz\n\" style=\"fill:#1f77b4;\"/>\n   </g>\n   <g id=\"patch_334\">\n    <path clip-path=\"url(#p706144d32f)\" d=\"M 509.718045 555.046125 \nL 517.834409 555.046125 \nL 517.834409 518.066533 \nL 509.718045 518.066533 \nz\n\" style=\"fill:#1f77b4;\"/>\n   </g>\n   <g id=\"patch_335\">\n    <path clip-path=\"url(#p706144d32f)\" d=\"M 517.834409 555.046125 \nL 525.950773 555.046125 \nL 525.950773 470.521344 \nL 517.834409 470.521344 \nz\n\" style=\"fill:#1f77b4;\"/>\n   </g>\n   <g id=\"patch_336\">\n    <path clip-path=\"url(#p706144d32f)\" d=\"M 525.950773 555.046125 \nL 534.067136 555.046125 \nL 534.067136 451.503268 \nL 525.950773 451.503268 \nz\n\" style=\"fill:#1f77b4;\"/>\n   </g>\n   <g id=\"patch_337\">\n    <path clip-path=\"url(#p706144d32f)\" d=\"M 534.067136 555.046125 \nL 542.1835 555.046125 \nL 542.1835 454.672947 \nL 534.067136 454.672947 \nz\n\" style=\"fill:#1f77b4;\"/>\n   </g>\n   <g id=\"patch_338\">\n    <path clip-path=\"url(#p706144d32f)\" d=\"M 542.1835 555.046125 \nL 550.299864 555.046125 \nL 550.299864 455.729507 \nL 542.1835 455.729507 \nz\n\" style=\"fill:#1f77b4;\"/>\n   </g>\n   <g id=\"patch_339\">\n    <path clip-path=\"url(#p706144d32f)\" d=\"M 550.299864 555.046125 \nL 558.416227 555.046125 \nL 558.416227 504.331256 \nL 550.299864 504.331256 \nz\n\" style=\"fill:#1f77b4;\"/>\n   </g>\n   <g id=\"patch_340\">\n    <path clip-path=\"url(#p706144d32f)\" d=\"M 558.416227 555.046125 \nL 566.532591 555.046125 \nL 566.532591 534.971489 \nL 558.416227 534.971489 \nz\n\" style=\"fill:#1f77b4;\"/>\n   </g>\n   <g id=\"patch_341\">\n    <path clip-path=\"url(#p706144d32f)\" d=\"M 566.532591 555.046125 \nL 574.648955 555.046125 \nL 574.648955 546.593647 \nL 566.532591 546.593647 \nz\n\" style=\"fill:#1f77b4;\"/>\n   </g>\n   <g id=\"patch_342\">\n    <path clip-path=\"url(#p706144d32f)\" d=\"M 574.648955 555.046125 \nL 582.765318 555.046125 \nL 582.765318 552.933005 \nL 574.648955 552.933005 \nz\n\" style=\"fill:#1f77b4;\"/>\n   </g>\n   <g id=\"matplotlib.axis_45\">\n    <g id=\"xtick_49\">\n     <g id=\"line2d_285\">\n      <path clip-path=\"url(#p706144d32f)\" d=\"M 512.488012 555.046125 \nL 512.488012 446.326125 \n\" style=\"fill:none;stroke:#b0b0b0;stroke-linecap:square;stroke-width:0.8;\"/>\n     </g>\n     <g id=\"line2d_286\">\n      <g>\n       <use style=\"stroke:#000000;stroke-width:0.8;\" x=\"512.488012\" xlink:href=\"#m1efa2ccf88\" y=\"555.046125\"/>\n      </g>\n     </g>\n     <g id=\"text_165\">\n      <!-- 20 -->\n      <g transform=\"translate(506.125512 569.644562)scale(0.1 -0.1)\">\n       <use xlink:href=\"#DejaVuSans-50\"/>\n       <use x=\"63.623047\" xlink:href=\"#DejaVuSans-48\"/>\n      </g>\n     </g>\n    </g>\n    <g id=\"xtick_50\">\n     <g id=\"line2d_287\">\n      <path clip-path=\"url(#p706144d32f)\" d=\"M 560.871699 555.046125 \nL 560.871699 446.326125 \n\" style=\"fill:none;stroke:#b0b0b0;stroke-linecap:square;stroke-width:0.8;\"/>\n     </g>\n     <g id=\"line2d_288\">\n      <g>\n       <use style=\"stroke:#000000;stroke-width:0.8;\" x=\"560.871699\" xlink:href=\"#m1efa2ccf88\" y=\"555.046125\"/>\n      </g>\n     </g>\n     <g id=\"text_166\">\n      <!-- 40 -->\n      <g transform=\"translate(554.509199 569.644562)scale(0.1 -0.1)\">\n       <use xlink:href=\"#DejaVuSans-52\"/>\n       <use x=\"63.623047\" xlink:href=\"#DejaVuSans-48\"/>\n      </g>\n     </g>\n    </g>\n   </g>\n   <g id=\"matplotlib.axis_46\">\n    <g id=\"ytick_95\">\n     <g id=\"line2d_289\">\n      <path clip-path=\"url(#p706144d32f)\" d=\"M 497.5435 555.046125 \nL 586.8235 555.046125 \n\" style=\"fill:none;stroke:#b0b0b0;stroke-linecap:square;stroke-width:0.8;\"/>\n     </g>\n     <g id=\"line2d_290\">\n      <g>\n       <use style=\"stroke:#000000;stroke-width:0.8;\" x=\"497.5435\" xlink:href=\"#m88d07c3e7f\" y=\"555.046125\"/>\n      </g>\n     </g>\n     <g id=\"text_167\">\n      <!-- 0 -->\n      <g transform=\"translate(484.181 558.845344)scale(0.1 -0.1)\">\n       <use xlink:href=\"#DejaVuSans-48\"/>\n      </g>\n     </g>\n    </g>\n    <g id=\"ytick_96\">\n     <g id=\"line2d_291\">\n      <path clip-path=\"url(#p706144d32f)\" d=\"M 497.5435 528.632131 \nL 586.8235 528.632131 \n\" style=\"fill:none;stroke:#b0b0b0;stroke-linecap:square;stroke-width:0.8;\"/>\n     </g>\n     <g id=\"line2d_292\">\n      <g>\n       <use style=\"stroke:#000000;stroke-width:0.8;\" x=\"497.5435\" xlink:href=\"#m88d07c3e7f\" y=\"528.632131\"/>\n      </g>\n     </g>\n     <g id=\"text_168\">\n      <!-- 25 -->\n      <g transform=\"translate(477.8185 532.43135)scale(0.1 -0.1)\">\n       <use xlink:href=\"#DejaVuSans-50\"/>\n       <use x=\"63.623047\" xlink:href=\"#DejaVuSans-53\"/>\n      </g>\n     </g>\n    </g>\n    <g id=\"ytick_97\">\n     <g id=\"line2d_293\">\n      <path clip-path=\"url(#p706144d32f)\" d=\"M 497.5435 502.218137 \nL 586.8235 502.218137 \n\" style=\"fill:none;stroke:#b0b0b0;stroke-linecap:square;stroke-width:0.8;\"/>\n     </g>\n     <g id=\"line2d_294\">\n      <g>\n       <use style=\"stroke:#000000;stroke-width:0.8;\" x=\"497.5435\" xlink:href=\"#m88d07c3e7f\" y=\"502.218137\"/>\n      </g>\n     </g>\n     <g id=\"text_169\">\n      <!-- 50 -->\n      <g transform=\"translate(477.8185 506.017355)scale(0.1 -0.1)\">\n       <use xlink:href=\"#DejaVuSans-53\"/>\n       <use x=\"63.623047\" xlink:href=\"#DejaVuSans-48\"/>\n      </g>\n     </g>\n    </g>\n    <g id=\"ytick_98\">\n     <g id=\"line2d_295\">\n      <path clip-path=\"url(#p706144d32f)\" d=\"M 497.5435 475.804142 \nL 586.8235 475.804142 \n\" style=\"fill:none;stroke:#b0b0b0;stroke-linecap:square;stroke-width:0.8;\"/>\n     </g>\n     <g id=\"line2d_296\">\n      <g>\n       <use style=\"stroke:#000000;stroke-width:0.8;\" x=\"497.5435\" xlink:href=\"#m88d07c3e7f\" y=\"475.804142\"/>\n      </g>\n     </g>\n     <g id=\"text_170\">\n      <!-- 75 -->\n      <g transform=\"translate(477.8185 479.603361)scale(0.1 -0.1)\">\n       <use xlink:href=\"#DejaVuSans-55\"/>\n       <use x=\"63.623047\" xlink:href=\"#DejaVuSans-53\"/>\n      </g>\n     </g>\n    </g>\n    <g id=\"ytick_99\">\n     <g id=\"line2d_297\">\n      <path clip-path=\"url(#p706144d32f)\" d=\"M 497.5435 449.390148 \nL 586.8235 449.390148 \n\" style=\"fill:none;stroke:#b0b0b0;stroke-linecap:square;stroke-width:0.8;\"/>\n     </g>\n     <g id=\"line2d_298\">\n      <g>\n       <use style=\"stroke:#000000;stroke-width:0.8;\" x=\"497.5435\" xlink:href=\"#m88d07c3e7f\" y=\"449.390148\"/>\n      </g>\n     </g>\n     <g id=\"text_171\">\n      <!-- 100 -->\n      <g transform=\"translate(471.456 453.189367)scale(0.1 -0.1)\">\n       <use xlink:href=\"#DejaVuSans-49\"/>\n       <use x=\"63.623047\" xlink:href=\"#DejaVuSans-48\"/>\n       <use x=\"127.246094\" xlink:href=\"#DejaVuSans-48\"/>\n      </g>\n     </g>\n    </g>\n   </g>\n   <g id=\"patch_343\">\n    <path d=\"M 497.5435 555.046125 \nL 497.5435 446.326125 \n\" style=\"fill:none;stroke:#000000;stroke-linecap:square;stroke-linejoin:miter;stroke-width:0.8;\"/>\n   </g>\n   <g id=\"patch_344\">\n    <path d=\"M 586.8235 555.046125 \nL 586.8235 446.326125 \n\" style=\"fill:none;stroke:#000000;stroke-linecap:square;stroke-linejoin:miter;stroke-width:0.8;\"/>\n   </g>\n   <g id=\"patch_345\">\n    <path d=\"M 497.5435 555.046125 \nL 586.8235 555.046125 \n\" style=\"fill:none;stroke:#000000;stroke-linecap:square;stroke-linejoin:miter;stroke-width:0.8;\"/>\n   </g>\n   <g id=\"patch_346\">\n    <path d=\"M 497.5435 446.326125 \nL 586.8235 446.326125 \n\" style=\"fill:none;stroke:#000000;stroke-linecap:square;stroke-linejoin:miter;stroke-width:0.8;\"/>\n   </g>\n   <g id=\"text_172\">\n    <!-- OBESITY -->\n    <g transform=\"translate(516.644125 440.326125)scale(0.12 -0.12)\">\n     <use xlink:href=\"#DejaVuSans-79\"/>\n     <use x=\"78.710938\" xlink:href=\"#DejaVuSans-66\"/>\n     <use x=\"147.314453\" xlink:href=\"#DejaVuSans-69\"/>\n     <use x=\"210.498047\" xlink:href=\"#DejaVuSans-83\"/>\n     <use x=\"273.974609\" xlink:href=\"#DejaVuSans-73\"/>\n     <use x=\"303.466797\" xlink:href=\"#DejaVuSans-84\"/>\n     <use x=\"364.550781\" xlink:href=\"#DejaVuSans-89\"/>\n    </g>\n   </g>\n  </g>\n  <g id=\"axes_24\">\n   <g id=\"patch_347\">\n    <path d=\"M 613.6075 555.046125 \nL 702.8875 555.046125 \nL 702.8875 446.326125 \nL 613.6075 446.326125 \nz\n\" style=\"fill:#ffffff;\"/>\n   </g>\n   <g id=\"patch_348\">\n    <path clip-path=\"url(#p2dcff0616c)\" d=\"M 617.665682 555.046125 \nL 625.782045 555.046125 \nL 625.782045 553.128665 \nL 617.665682 553.128665 \nz\n\" style=\"fill:#1f77b4;\"/>\n   </g>\n   <g id=\"patch_349\">\n    <path clip-path=\"url(#p2dcff0616c)\" d=\"M 625.782045 555.046125 \nL 633.898409 555.046125 \nL 633.898409 548.335014 \nL 625.782045 548.335014 \nz\n\" style=\"fill:#1f77b4;\"/>\n   </g>\n   <g id=\"patch_350\">\n    <path clip-path=\"url(#p2dcff0616c)\" d=\"M 633.898409 555.046125 \nL 642.014773 555.046125 \nL 642.014773 543.541363 \nL 633.898409 543.541363 \nz\n\" style=\"fill:#1f77b4;\"/>\n   </g>\n   <g id=\"patch_351\">\n    <path clip-path=\"url(#p2dcff0616c)\" d=\"M 642.014773 555.046125 \nL 650.131136 555.046125 \nL 650.131136 519.573109 \nL 642.014773 519.573109 \nz\n\" style=\"fill:#1f77b4;\"/>\n   </g>\n   <g id=\"patch_352\">\n    <path clip-path=\"url(#p2dcff0616c)\" d=\"M 650.131136 555.046125 \nL 658.2475 555.046125 \nL 658.2475 494.646125 \nL 650.131136 494.646125 \nz\n\" style=\"fill:#1f77b4;\"/>\n   </g>\n   <g id=\"patch_353\">\n    <path clip-path=\"url(#p2dcff0616c)\" d=\"M 658.2475 555.046125 \nL 666.363864 555.046125 \nL 666.363864 475.471522 \nL 658.2475 475.471522 \nz\n\" style=\"fill:#1f77b4;\"/>\n   </g>\n   <g id=\"patch_354\">\n    <path clip-path=\"url(#p2dcff0616c)\" d=\"M 666.363864 555.046125 \nL 674.480227 555.046125 \nL 674.480227 451.503268 \nL 666.363864 451.503268 \nz\n\" style=\"fill:#1f77b4;\"/>\n   </g>\n   <g id=\"patch_355\">\n    <path clip-path=\"url(#p2dcff0616c)\" d=\"M 674.480227 555.046125 \nL 682.596591 555.046125 \nL 682.596591 467.801681 \nL 674.480227 467.801681 \nz\n\" style=\"fill:#1f77b4;\"/>\n   </g>\n   <g id=\"patch_356\">\n    <path clip-path=\"url(#p2dcff0616c)\" d=\"M 682.596591 555.046125 \nL 690.712955 555.046125 \nL 690.712955 519.573109 \nL 682.596591 519.573109 \nz\n\" style=\"fill:#1f77b4;\"/>\n   </g>\n   <g id=\"patch_357\">\n    <path clip-path=\"url(#p2dcff0616c)\" d=\"M 690.712955 555.046125 \nL 698.829318 555.046125 \nL 698.829318 545.458823 \nL 690.712955 545.458823 \nz\n\" style=\"fill:#1f77b4;\"/>\n   </g>\n   <g id=\"matplotlib.axis_47\">\n    <g id=\"xtick_51\">\n     <g id=\"line2d_299\">\n      <path clip-path=\"url(#p2dcff0616c)\" d=\"M 637.248019 555.046125 \nL 637.248019 446.326125 \n\" style=\"fill:none;stroke:#b0b0b0;stroke-linecap:square;stroke-width:0.8;\"/>\n     </g>\n     <g id=\"line2d_300\">\n      <g>\n       <use style=\"stroke:#000000;stroke-width:0.8;\" x=\"637.248019\" xlink:href=\"#m1efa2ccf88\" y=\"555.046125\"/>\n      </g>\n     </g>\n     <g id=\"text_173\">\n      <!-- 75 -->\n      <g transform=\"translate(630.885519 569.644562)scale(0.1 -0.1)\">\n       <use xlink:href=\"#DejaVuSans-55\"/>\n       <use x=\"63.623047\" xlink:href=\"#DejaVuSans-53\"/>\n      </g>\n     </g>\n    </g>\n    <g id=\"xtick_52\">\n     <g id=\"line2d_301\">\n      <path clip-path=\"url(#p2dcff0616c)\" d=\"M 663.014253 555.046125 \nL 663.014253 446.326125 \n\" style=\"fill:none;stroke:#b0b0b0;stroke-linecap:square;stroke-width:0.8;\"/>\n     </g>\n     <g id=\"line2d_302\">\n      <g>\n       <use style=\"stroke:#000000;stroke-width:0.8;\" x=\"663.014253\" xlink:href=\"#m1efa2ccf88\" y=\"555.046125\"/>\n      </g>\n     </g>\n     <g id=\"text_174\">\n      <!-- 80 -->\n      <g transform=\"translate(656.651753 569.644562)scale(0.1 -0.1)\">\n       <use xlink:href=\"#DejaVuSans-56\"/>\n       <use x=\"63.623047\" xlink:href=\"#DejaVuSans-48\"/>\n      </g>\n     </g>\n    </g>\n    <g id=\"xtick_53\">\n     <g id=\"line2d_303\">\n      <path clip-path=\"url(#p2dcff0616c)\" d=\"M 688.780487 555.046125 \nL 688.780487 446.326125 \n\" style=\"fill:none;stroke:#b0b0b0;stroke-linecap:square;stroke-width:0.8;\"/>\n     </g>\n     <g id=\"line2d_304\">\n      <g>\n       <use style=\"stroke:#000000;stroke-width:0.8;\" x=\"688.780487\" xlink:href=\"#m1efa2ccf88\" y=\"555.046125\"/>\n      </g>\n     </g>\n     <g id=\"text_175\">\n      <!-- 85 -->\n      <g transform=\"translate(682.417987 569.644562)scale(0.1 -0.1)\">\n       <use xlink:href=\"#DejaVuSans-56\"/>\n       <use x=\"63.623047\" xlink:href=\"#DejaVuSans-53\"/>\n      </g>\n     </g>\n    </g>\n   </g>\n   <g id=\"matplotlib.axis_48\">\n    <g id=\"ytick_100\">\n     <g id=\"line2d_305\">\n      <path clip-path=\"url(#p2dcff0616c)\" d=\"M 613.6075 555.046125 \nL 702.8875 555.046125 \n\" style=\"fill:none;stroke:#b0b0b0;stroke-linecap:square;stroke-width:0.8;\"/>\n     </g>\n     <g id=\"line2d_306\">\n      <g>\n       <use style=\"stroke:#000000;stroke-width:0.8;\" x=\"613.6075\" xlink:href=\"#m88d07c3e7f\" y=\"555.046125\"/>\n      </g>\n     </g>\n     <g id=\"text_176\">\n      <!-- 0 -->\n      <g transform=\"translate(600.245 558.845344)scale(0.1 -0.1)\">\n       <use xlink:href=\"#DejaVuSans-48\"/>\n      </g>\n     </g>\n    </g>\n    <g id=\"ytick_101\">\n     <g id=\"line2d_307\">\n      <path clip-path=\"url(#p2dcff0616c)\" d=\"M 613.6075 531.077871 \nL 702.8875 531.077871 \n\" style=\"fill:none;stroke:#b0b0b0;stroke-linecap:square;stroke-width:0.8;\"/>\n     </g>\n     <g id=\"line2d_308\">\n      <g>\n       <use style=\"stroke:#000000;stroke-width:0.8;\" x=\"613.6075\" xlink:href=\"#m88d07c3e7f\" y=\"531.077871\"/>\n      </g>\n     </g>\n     <g id=\"text_177\">\n      <!-- 25 -->\n      <g transform=\"translate(593.8825 534.87709)scale(0.1 -0.1)\">\n       <use xlink:href=\"#DejaVuSans-50\"/>\n       <use x=\"63.623047\" xlink:href=\"#DejaVuSans-53\"/>\n      </g>\n     </g>\n    </g>\n    <g id=\"ytick_102\">\n     <g id=\"line2d_309\">\n      <path clip-path=\"url(#p2dcff0616c)\" d=\"M 613.6075 507.109617 \nL 702.8875 507.109617 \n\" style=\"fill:none;stroke:#b0b0b0;stroke-linecap:square;stroke-width:0.8;\"/>\n     </g>\n     <g id=\"line2d_310\">\n      <g>\n       <use style=\"stroke:#000000;stroke-width:0.8;\" x=\"613.6075\" xlink:href=\"#m88d07c3e7f\" y=\"507.109617\"/>\n      </g>\n     </g>\n     <g id=\"text_178\">\n      <!-- 50 -->\n      <g transform=\"translate(593.8825 510.908836)scale(0.1 -0.1)\">\n       <use xlink:href=\"#DejaVuSans-53\"/>\n       <use x=\"63.623047\" xlink:href=\"#DejaVuSans-48\"/>\n      </g>\n     </g>\n    </g>\n    <g id=\"ytick_103\">\n     <g id=\"line2d_311\">\n      <path clip-path=\"url(#p2dcff0616c)\" d=\"M 613.6075 483.141363 \nL 702.8875 483.141363 \n\" style=\"fill:none;stroke:#b0b0b0;stroke-linecap:square;stroke-width:0.8;\"/>\n     </g>\n     <g id=\"line2d_312\">\n      <g>\n       <use style=\"stroke:#000000;stroke-width:0.8;\" x=\"613.6075\" xlink:href=\"#m88d07c3e7f\" y=\"483.141363\"/>\n      </g>\n     </g>\n     <g id=\"text_179\">\n      <!-- 75 -->\n      <g transform=\"translate(593.8825 486.940582)scale(0.1 -0.1)\">\n       <use xlink:href=\"#DejaVuSans-55\"/>\n       <use x=\"63.623047\" xlink:href=\"#DejaVuSans-53\"/>\n      </g>\n     </g>\n    </g>\n    <g id=\"ytick_104\">\n     <g id=\"line2d_313\">\n      <path clip-path=\"url(#p2dcff0616c)\" d=\"M 613.6075 459.173109 \nL 702.8875 459.173109 \n\" style=\"fill:none;stroke:#b0b0b0;stroke-linecap:square;stroke-width:0.8;\"/>\n     </g>\n     <g id=\"line2d_314\">\n      <g>\n       <use style=\"stroke:#000000;stroke-width:0.8;\" x=\"613.6075\" xlink:href=\"#m88d07c3e7f\" y=\"459.173109\"/>\n      </g>\n     </g>\n     <g id=\"text_180\">\n      <!-- 100 -->\n      <g transform=\"translate(587.52 462.972328)scale(0.1 -0.1)\">\n       <use xlink:href=\"#DejaVuSans-49\"/>\n       <use x=\"63.623047\" xlink:href=\"#DejaVuSans-48\"/>\n       <use x=\"127.246094\" xlink:href=\"#DejaVuSans-48\"/>\n      </g>\n     </g>\n    </g>\n   </g>\n   <g id=\"patch_358\">\n    <path d=\"M 613.6075 555.046125 \nL 613.6075 446.326125 \n\" style=\"fill:none;stroke:#000000;stroke-linecap:square;stroke-linejoin:miter;stroke-width:0.8;\"/>\n   </g>\n   <g id=\"patch_359\">\n    <path d=\"M 702.8875 555.046125 \nL 702.8875 446.326125 \n\" style=\"fill:none;stroke:#000000;stroke-linecap:square;stroke-linejoin:miter;stroke-width:0.8;\"/>\n   </g>\n   <g id=\"patch_360\">\n    <path d=\"M 613.6075 555.046125 \nL 702.8875 555.046125 \n\" style=\"fill:none;stroke:#000000;stroke-linecap:square;stroke-linejoin:miter;stroke-width:0.8;\"/>\n   </g>\n   <g id=\"patch_361\">\n    <path d=\"M 613.6075 446.326125 \nL 702.8875 446.326125 \n\" style=\"fill:none;stroke:#000000;stroke-linecap:square;stroke-linejoin:miter;stroke-width:0.8;\"/>\n   </g>\n   <g id=\"text_181\">\n    <!-- PAPTEST -->\n    <g transform=\"translate(632.360313 440.326125)scale(0.12 -0.12)\">\n     <use xlink:href=\"#DejaVuSans-80\"/>\n     <use x=\"53.927734\" xlink:href=\"#DejaVuSans-65\"/>\n     <use x=\"122.335938\" xlink:href=\"#DejaVuSans-80\"/>\n     <use x=\"182.638672\" xlink:href=\"#DejaVuSans-84\"/>\n     <use x=\"243.722656\" xlink:href=\"#DejaVuSans-69\"/>\n     <use x=\"306.90625\" xlink:href=\"#DejaVuSans-83\"/>\n     <use x=\"370.382812\" xlink:href=\"#DejaVuSans-84\"/>\n    </g>\n   </g>\n  </g>\n  <g id=\"axes_25\">\n   <g id=\"patch_362\">\n    <path d=\"M 33.2875 696.382125 \nL 122.5675 696.382125 \nL 122.5675 587.662125 \nL 33.2875 587.662125 \nz\n\" style=\"fill:#ffffff;\"/>\n   </g>\n   <g id=\"patch_363\">\n    <path clip-path=\"url(#pcb77db7250)\" d=\"M 37.345682 696.382125 \nL 45.462045 696.382125 \nL 45.462045 673.828235 \nL 37.345682 673.828235 \nz\n\" style=\"fill:#1f77b4;\"/>\n   </g>\n   <g id=\"patch_364\">\n    <path clip-path=\"url(#pcb77db7250)\" d=\"M 45.462045 696.382125 \nL 53.578409 696.382125 \nL 53.578409 648.198815 \nL 45.462045 648.198815 \nz\n\" style=\"fill:#1f77b4;\"/>\n   </g>\n   <g id=\"patch_365\">\n    <path clip-path=\"url(#pcb77db7250)\" d=\"M 53.578409 696.382125 \nL 61.694773 696.382125 \nL 61.694773 619.493865 \nL 53.578409 619.493865 \nz\n\" style=\"fill:#1f77b4;\"/>\n   </g>\n   <g id=\"patch_366\">\n    <path clip-path=\"url(#pcb77db7250)\" d=\"M 61.694773 696.382125 \nL 69.811136 696.382125 \nL 69.811136 610.267274 \nL 61.694773 610.267274 \nz\n\" style=\"fill:#1f77b4;\"/>\n   </g>\n   <g id=\"patch_367\">\n    <path clip-path=\"url(#pcb77db7250)\" d=\"M 69.811136 696.382125 \nL 77.9275 696.382125 \nL 77.9275 592.839268 \nL 69.811136 592.839268 \nz\n\" style=\"fill:#1f77b4;\"/>\n   </g>\n   <g id=\"patch_368\">\n    <path clip-path=\"url(#pcb77db7250)\" d=\"M 77.9275 696.382125 \nL 86.043864 696.382125 \nL 86.043864 614.367981 \nL 77.9275 614.367981 \nz\n\" style=\"fill:#1f77b4;\"/>\n   </g>\n   <g id=\"patch_369\">\n    <path clip-path=\"url(#pcb77db7250)\" d=\"M 86.043864 696.382125 \nL 94.160227 696.382125 \nL 94.160227 638.972224 \nL 86.043864 638.972224 \nz\n\" style=\"fill:#1f77b4;\"/>\n   </g>\n   <g id=\"patch_370\">\n    <path clip-path=\"url(#pcb77db7250)\" d=\"M 94.160227 696.382125 \nL 102.276591 696.382125 \nL 102.276591 672.803059 \nL 94.160227 672.803059 \nz\n\" style=\"fill:#1f77b4;\"/>\n   </g>\n   <g id=\"patch_371\">\n    <path clip-path=\"url(#pcb77db7250)\" d=\"M 102.276591 696.382125 \nL 110.392955 696.382125 \nL 110.392955 692.281418 \nL 102.276591 692.281418 \nz\n\" style=\"fill:#1f77b4;\"/>\n   </g>\n   <g id=\"patch_372\">\n    <path clip-path=\"url(#pcb77db7250)\" d=\"M 110.392955 696.382125 \nL 118.509318 696.382125 \nL 118.509318 691.256241 \nL 110.392955 691.256241 \nz\n\" style=\"fill:#1f77b4;\"/>\n   </g>\n   <g id=\"matplotlib.axis_49\">\n    <g id=\"xtick_54\">\n     <g id=\"line2d_315\">\n      <path clip-path=\"url(#pcb77db7250)\" d=\"M 56.461442 696.382125 \nL 56.461442 587.662125 \n\" style=\"fill:none;stroke:#b0b0b0;stroke-linecap:square;stroke-width:0.8;\"/>\n     </g>\n     <g id=\"line2d_316\">\n      <g>\n       <use style=\"stroke:#000000;stroke-width:0.8;\" x=\"56.461442\" xlink:href=\"#m1efa2ccf88\" y=\"696.382125\"/>\n      </g>\n     </g>\n     <g id=\"text_182\">\n      <!-- 10 -->\n      <g transform=\"translate(50.098942 710.980562)scale(0.1 -0.1)\">\n       <use xlink:href=\"#DejaVuSans-49\"/>\n       <use x=\"63.623047\" xlink:href=\"#DejaVuSans-48\"/>\n      </g>\n     </g>\n    </g>\n    <g id=\"xtick_55\">\n     <g id=\"line2d_317\">\n      <path clip-path=\"url(#pcb77db7250)\" d=\"M 119.136064 696.382125 \nL 119.136064 587.662125 \n\" style=\"fill:none;stroke:#b0b0b0;stroke-linecap:square;stroke-width:0.8;\"/>\n     </g>\n     <g id=\"line2d_318\">\n      <g>\n       <use style=\"stroke:#000000;stroke-width:0.8;\" x=\"119.136064\" xlink:href=\"#m1efa2ccf88\" y=\"696.382125\"/>\n      </g>\n     </g>\n     <g id=\"text_183\">\n      <!-- 20 -->\n      <g transform=\"translate(112.773564 710.980562)scale(0.1 -0.1)\">\n       <use xlink:href=\"#DejaVuSans-50\"/>\n       <use x=\"63.623047\" xlink:href=\"#DejaVuSans-48\"/>\n      </g>\n     </g>\n    </g>\n   </g>\n   <g id=\"matplotlib.axis_50\">\n    <g id=\"ytick_105\">\n     <g id=\"line2d_319\">\n      <path clip-path=\"url(#pcb77db7250)\" d=\"M 33.2875 696.382125 \nL 122.5675 696.382125 \n\" style=\"fill:none;stroke:#b0b0b0;stroke-linecap:square;stroke-width:0.8;\"/>\n     </g>\n     <g id=\"line2d_320\">\n      <g>\n       <use style=\"stroke:#000000;stroke-width:0.8;\" x=\"33.2875\" xlink:href=\"#m88d07c3e7f\" y=\"696.382125\"/>\n      </g>\n     </g>\n     <g id=\"text_184\">\n      <!-- 0 -->\n      <g transform=\"translate(19.925 700.181344)scale(0.1 -0.1)\">\n       <use xlink:href=\"#DejaVuSans-48\"/>\n      </g>\n     </g>\n    </g>\n    <g id=\"ytick_106\">\n     <g id=\"line2d_321\">\n      <path clip-path=\"url(#pcb77db7250)\" d=\"M 33.2875 670.752705 \nL 122.5675 670.752705 \n\" style=\"fill:none;stroke:#b0b0b0;stroke-linecap:square;stroke-width:0.8;\"/>\n     </g>\n     <g id=\"line2d_322\">\n      <g>\n       <use style=\"stroke:#000000;stroke-width:0.8;\" x=\"33.2875\" xlink:href=\"#m88d07c3e7f\" y=\"670.752705\"/>\n      </g>\n     </g>\n     <g id=\"text_185\">\n      <!-- 25 -->\n      <g transform=\"translate(13.5625 674.551924)scale(0.1 -0.1)\">\n       <use xlink:href=\"#DejaVuSans-50\"/>\n       <use x=\"63.623047\" xlink:href=\"#DejaVuSans-53\"/>\n      </g>\n     </g>\n    </g>\n    <g id=\"ytick_107\">\n     <g id=\"line2d_323\">\n      <path clip-path=\"url(#pcb77db7250)\" d=\"M 33.2875 645.123285 \nL 122.5675 645.123285 \n\" style=\"fill:none;stroke:#b0b0b0;stroke-linecap:square;stroke-width:0.8;\"/>\n     </g>\n     <g id=\"line2d_324\">\n      <g>\n       <use style=\"stroke:#000000;stroke-width:0.8;\" x=\"33.2875\" xlink:href=\"#m88d07c3e7f\" y=\"645.123285\"/>\n      </g>\n     </g>\n     <g id=\"text_186\">\n      <!-- 50 -->\n      <g transform=\"translate(13.5625 648.922504)scale(0.1 -0.1)\">\n       <use xlink:href=\"#DejaVuSans-53\"/>\n       <use x=\"63.623047\" xlink:href=\"#DejaVuSans-48\"/>\n      </g>\n     </g>\n    </g>\n    <g id=\"ytick_108\">\n     <g id=\"line2d_325\">\n      <path clip-path=\"url(#pcb77db7250)\" d=\"M 33.2875 619.493865 \nL 122.5675 619.493865 \n\" style=\"fill:none;stroke:#b0b0b0;stroke-linecap:square;stroke-width:0.8;\"/>\n     </g>\n     <g id=\"line2d_326\">\n      <g>\n       <use style=\"stroke:#000000;stroke-width:0.8;\" x=\"33.2875\" xlink:href=\"#m88d07c3e7f\" y=\"619.493865\"/>\n      </g>\n     </g>\n     <g id=\"text_187\">\n      <!-- 75 -->\n      <g transform=\"translate(13.5625 623.293083)scale(0.1 -0.1)\">\n       <use xlink:href=\"#DejaVuSans-55\"/>\n       <use x=\"63.623047\" xlink:href=\"#DejaVuSans-53\"/>\n      </g>\n     </g>\n    </g>\n    <g id=\"ytick_109\">\n     <g id=\"line2d_327\">\n      <path clip-path=\"url(#pcb77db7250)\" d=\"M 33.2875 593.864445 \nL 122.5675 593.864445 \n\" style=\"fill:none;stroke:#b0b0b0;stroke-linecap:square;stroke-width:0.8;\"/>\n     </g>\n     <g id=\"line2d_328\">\n      <g>\n       <use style=\"stroke:#000000;stroke-width:0.8;\" x=\"33.2875\" xlink:href=\"#m88d07c3e7f\" y=\"593.864445\"/>\n      </g>\n     </g>\n     <g id=\"text_188\">\n      <!-- 100 -->\n      <g transform=\"translate(7.2 597.663663)scale(0.1 -0.1)\">\n       <use xlink:href=\"#DejaVuSans-49\"/>\n       <use x=\"63.623047\" xlink:href=\"#DejaVuSans-48\"/>\n       <use x=\"127.246094\" xlink:href=\"#DejaVuSans-48\"/>\n      </g>\n     </g>\n    </g>\n   </g>\n   <g id=\"patch_373\">\n    <path d=\"M 33.2875 696.382125 \nL 33.2875 587.662125 \n\" style=\"fill:none;stroke:#000000;stroke-linecap:square;stroke-linejoin:miter;stroke-width:0.8;\"/>\n   </g>\n   <g id=\"patch_374\">\n    <path d=\"M 122.5675 696.382125 \nL 122.5675 587.662125 \n\" style=\"fill:none;stroke:#000000;stroke-linecap:square;stroke-linejoin:miter;stroke-width:0.8;\"/>\n   </g>\n   <g id=\"patch_375\">\n    <path d=\"M 33.2875 696.382125 \nL 122.5675 696.382125 \n\" style=\"fill:none;stroke:#000000;stroke-linecap:square;stroke-linejoin:miter;stroke-width:0.8;\"/>\n   </g>\n   <g id=\"patch_376\">\n    <path d=\"M 33.2875 587.662125 \nL 122.5675 587.662125 \n\" style=\"fill:none;stroke:#000000;stroke-linecap:square;stroke-linejoin:miter;stroke-width:0.8;\"/>\n   </g>\n   <g id=\"text_189\">\n    <!-- PHLTH -->\n    <g transform=\"translate(59.1025 581.662125)scale(0.12 -0.12)\">\n     <use xlink:href=\"#DejaVuSans-80\"/>\n     <use x=\"60.302734\" xlink:href=\"#DejaVuSans-72\"/>\n     <use x=\"135.498047\" xlink:href=\"#DejaVuSans-76\"/>\n     <use x=\"177.460938\" xlink:href=\"#DejaVuSans-84\"/>\n     <use x=\"238.544922\" xlink:href=\"#DejaVuSans-72\"/>\n    </g>\n   </g>\n  </g>\n  <g id=\"axes_26\">\n   <g id=\"patch_377\">\n    <path d=\"M 149.3515 696.382125 \nL 238.6315 696.382125 \nL 238.6315 587.662125 \nL 149.3515 587.662125 \nz\n\" style=\"fill:#ffffff;\"/>\n   </g>\n   <g id=\"patch_378\">\n    <path clip-path=\"url(#p4f8b4e2ac8)\" d=\"M 153.409682 696.382125 \nL 161.526045 696.382125 \nL 161.526045 687.986758 \nL 153.409682 687.986758 \nz\n\" style=\"fill:#1f77b4;\"/>\n   </g>\n   <g id=\"patch_379\">\n    <path clip-path=\"url(#p4f8b4e2ac8)\" d=\"M 161.526045 696.382125 \nL 169.642409 696.382125 \nL 169.642409 672.128843 \nL 161.526045 672.128843 \nz\n\" style=\"fill:#1f77b4;\"/>\n   </g>\n   <g id=\"patch_380\">\n    <path clip-path=\"url(#p4f8b4e2ac8)\" d=\"M 169.642409 696.382125 \nL 177.758773 696.382125 \nL 177.758773 624.555098 \nL 169.642409 624.555098 \nz\n\" style=\"fill:#1f77b4;\"/>\n   </g>\n   <g id=\"patch_381\">\n    <path clip-path=\"url(#p4f8b4e2ac8)\" d=\"M 177.758773 696.382125 \nL 185.875136 696.382125 \nL 185.875136 592.839268 \nL 177.758773 592.839268 \nz\n\" style=\"fill:#1f77b4;\"/>\n   </g>\n   <g id=\"patch_382\">\n    <path clip-path=\"url(#p4f8b4e2ac8)\" d=\"M 185.875136 696.382125 \nL 193.9915 696.382125 \nL 193.9915 600.301816 \nL 185.875136 600.301816 \nz\n\" style=\"fill:#1f77b4;\"/>\n   </g>\n   <g id=\"patch_383\">\n    <path clip-path=\"url(#p4f8b4e2ac8)\" d=\"M 193.9915 696.382125 \nL 202.107864 696.382125 \nL 202.107864 609.630001 \nL 193.9915 609.630001 \nz\n\" style=\"fill:#1f77b4;\"/>\n   </g>\n   <g id=\"patch_384\">\n    <path clip-path=\"url(#p4f8b4e2ac8)\" d=\"M 202.107864 696.382125 \nL 210.224227 696.382125 \nL 210.224227 651.606835 \nL 202.107864 651.606835 \nz\n\" style=\"fill:#1f77b4;\"/>\n   </g>\n   <g id=\"patch_385\">\n    <path clip-path=\"url(#p4f8b4e2ac8)\" d=\"M 210.224227 696.382125 \nL 218.340591 696.382125 \nL 218.340591 679.591391 \nL 210.224227 679.591391 \nz\n\" style=\"fill:#1f77b4;\"/>\n   </g>\n   <g id=\"patch_386\">\n    <path clip-path=\"url(#p4f8b4e2ac8)\" d=\"M 218.340591 696.382125 \nL 226.456955 696.382125 \nL 226.456955 689.852395 \nL 218.340591 689.852395 \nz\n\" style=\"fill:#1f77b4;\"/>\n   </g>\n   <g id=\"patch_387\">\n    <path clip-path=\"url(#p4f8b4e2ac8)\" d=\"M 226.456955 696.382125 \nL 234.573318 696.382125 \nL 234.573318 691.718032 \nL 226.456955 691.718032 \nz\n\" style=\"fill:#1f77b4;\"/>\n   </g>\n   <g id=\"matplotlib.axis_51\">\n    <g id=\"xtick_56\">\n     <g id=\"line2d_329\">\n      <path clip-path=\"url(#p4f8b4e2ac8)\" d=\"M 171.32275 696.382125 \nL 171.32275 587.662125 \n\" style=\"fill:none;stroke:#b0b0b0;stroke-linecap:square;stroke-width:0.8;\"/>\n     </g>\n     <g id=\"line2d_330\">\n      <g>\n       <use style=\"stroke:#000000;stroke-width:0.8;\" x=\"171.32275\" xlink:href=\"#m1efa2ccf88\" y=\"696.382125\"/>\n      </g>\n     </g>\n     <g id=\"text_190\">\n      <!-- 30 -->\n      <g transform=\"translate(164.96025 710.980562)scale(0.1 -0.1)\">\n       <use xlink:href=\"#DejaVuSans-51\"/>\n       <use x=\"63.623047\" xlink:href=\"#DejaVuSans-48\"/>\n      </g>\n     </g>\n    </g>\n    <g id=\"xtick_57\">\n     <g id=\"line2d_331\">\n      <path clip-path=\"url(#p4f8b4e2ac8)\" d=\"M 203.027295 696.382125 \nL 203.027295 587.662125 \n\" style=\"fill:none;stroke:#b0b0b0;stroke-linecap:square;stroke-width:0.8;\"/>\n     </g>\n     <g id=\"line2d_332\">\n      <g>\n       <use style=\"stroke:#000000;stroke-width:0.8;\" x=\"203.027295\" xlink:href=\"#m1efa2ccf88\" y=\"696.382125\"/>\n      </g>\n     </g>\n     <g id=\"text_191\">\n      <!-- 40 -->\n      <g transform=\"translate(196.664795 710.980562)scale(0.1 -0.1)\">\n       <use xlink:href=\"#DejaVuSans-52\"/>\n       <use x=\"63.623047\" xlink:href=\"#DejaVuSans-48\"/>\n      </g>\n     </g>\n    </g>\n    <g id=\"xtick_58\">\n     <g id=\"line2d_333\">\n      <path clip-path=\"url(#p4f8b4e2ac8)\" d=\"M 234.731841 696.382125 \nL 234.731841 587.662125 \n\" style=\"fill:none;stroke:#b0b0b0;stroke-linecap:square;stroke-width:0.8;\"/>\n     </g>\n     <g id=\"line2d_334\">\n      <g>\n       <use style=\"stroke:#000000;stroke-width:0.8;\" x=\"234.731841\" xlink:href=\"#m1efa2ccf88\" y=\"696.382125\"/>\n      </g>\n     </g>\n     <g id=\"text_192\">\n      <!-- 50 -->\n      <g transform=\"translate(228.369341 710.980562)scale(0.1 -0.1)\">\n       <use xlink:href=\"#DejaVuSans-53\"/>\n       <use x=\"63.623047\" xlink:href=\"#DejaVuSans-48\"/>\n      </g>\n     </g>\n    </g>\n   </g>\n   <g id=\"matplotlib.axis_52\">\n    <g id=\"ytick_110\">\n     <g id=\"line2d_335\">\n      <path clip-path=\"url(#p4f8b4e2ac8)\" d=\"M 149.3515 696.382125 \nL 238.6315 696.382125 \n\" style=\"fill:none;stroke:#b0b0b0;stroke-linecap:square;stroke-width:0.8;\"/>\n     </g>\n     <g id=\"line2d_336\">\n      <g>\n       <use style=\"stroke:#000000;stroke-width:0.8;\" x=\"149.3515\" xlink:href=\"#m88d07c3e7f\" y=\"696.382125\"/>\n      </g>\n     </g>\n     <g id=\"text_193\">\n      <!-- 0 -->\n      <g transform=\"translate(135.989 700.181344)scale(0.1 -0.1)\">\n       <use xlink:href=\"#DejaVuSans-48\"/>\n      </g>\n     </g>\n    </g>\n    <g id=\"ytick_111\">\n     <g id=\"line2d_337\">\n      <path clip-path=\"url(#p4f8b4e2ac8)\" d=\"M 149.3515 673.061662 \nL 238.6315 673.061662 \n\" style=\"fill:none;stroke:#b0b0b0;stroke-linecap:square;stroke-width:0.8;\"/>\n     </g>\n     <g id=\"line2d_338\">\n      <g>\n       <use style=\"stroke:#000000;stroke-width:0.8;\" x=\"149.3515\" xlink:href=\"#m88d07c3e7f\" y=\"673.061662\"/>\n      </g>\n     </g>\n     <g id=\"text_194\">\n      <!-- 25 -->\n      <g transform=\"translate(129.6265 676.86088)scale(0.1 -0.1)\">\n       <use xlink:href=\"#DejaVuSans-50\"/>\n       <use x=\"63.623047\" xlink:href=\"#DejaVuSans-53\"/>\n      </g>\n     </g>\n    </g>\n    <g id=\"ytick_112\">\n     <g id=\"line2d_339\">\n      <path clip-path=\"url(#p4f8b4e2ac8)\" d=\"M 149.3515 649.741198 \nL 238.6315 649.741198 \n\" style=\"fill:none;stroke:#b0b0b0;stroke-linecap:square;stroke-width:0.8;\"/>\n     </g>\n     <g id=\"line2d_340\">\n      <g>\n       <use style=\"stroke:#000000;stroke-width:0.8;\" x=\"149.3515\" xlink:href=\"#m88d07c3e7f\" y=\"649.741198\"/>\n      </g>\n     </g>\n     <g id=\"text_195\">\n      <!-- 50 -->\n      <g transform=\"translate(129.6265 653.540417)scale(0.1 -0.1)\">\n       <use xlink:href=\"#DejaVuSans-53\"/>\n       <use x=\"63.623047\" xlink:href=\"#DejaVuSans-48\"/>\n      </g>\n     </g>\n    </g>\n    <g id=\"ytick_113\">\n     <g id=\"line2d_341\">\n      <path clip-path=\"url(#p4f8b4e2ac8)\" d=\"M 149.3515 626.420735 \nL 238.6315 626.420735 \n\" style=\"fill:none;stroke:#b0b0b0;stroke-linecap:square;stroke-width:0.8;\"/>\n     </g>\n     <g id=\"line2d_342\">\n      <g>\n       <use style=\"stroke:#000000;stroke-width:0.8;\" x=\"149.3515\" xlink:href=\"#m88d07c3e7f\" y=\"626.420735\"/>\n      </g>\n     </g>\n     <g id=\"text_196\">\n      <!-- 75 -->\n      <g transform=\"translate(129.6265 630.219954)scale(0.1 -0.1)\">\n       <use xlink:href=\"#DejaVuSans-55\"/>\n       <use x=\"63.623047\" xlink:href=\"#DejaVuSans-53\"/>\n      </g>\n     </g>\n    </g>\n    <g id=\"ytick_114\">\n     <g id=\"line2d_343\">\n      <path clip-path=\"url(#p4f8b4e2ac8)\" d=\"M 149.3515 603.100272 \nL 238.6315 603.100272 \n\" style=\"fill:none;stroke:#b0b0b0;stroke-linecap:square;stroke-width:0.8;\"/>\n     </g>\n     <g id=\"line2d_344\">\n      <g>\n       <use style=\"stroke:#000000;stroke-width:0.8;\" x=\"149.3515\" xlink:href=\"#m88d07c3e7f\" y=\"603.100272\"/>\n      </g>\n     </g>\n     <g id=\"text_197\">\n      <!-- 100 -->\n      <g transform=\"translate(123.264 606.89949)scale(0.1 -0.1)\">\n       <use xlink:href=\"#DejaVuSans-49\"/>\n       <use x=\"63.623047\" xlink:href=\"#DejaVuSans-48\"/>\n       <use x=\"127.246094\" xlink:href=\"#DejaVuSans-48\"/>\n      </g>\n     </g>\n    </g>\n   </g>\n   <g id=\"patch_388\">\n    <path d=\"M 149.3515 696.382125 \nL 149.3515 587.662125 \n\" style=\"fill:none;stroke:#000000;stroke-linecap:square;stroke-linejoin:miter;stroke-width:0.8;\"/>\n   </g>\n   <g id=\"patch_389\">\n    <path d=\"M 238.6315 696.382125 \nL 238.6315 587.662125 \n\" style=\"fill:none;stroke:#000000;stroke-linecap:square;stroke-linejoin:miter;stroke-width:0.8;\"/>\n   </g>\n   <g id=\"patch_390\">\n    <path d=\"M 149.3515 696.382125 \nL 238.6315 696.382125 \n\" style=\"fill:none;stroke:#000000;stroke-linecap:square;stroke-linejoin:miter;stroke-width:0.8;\"/>\n   </g>\n   <g id=\"patch_391\">\n    <path d=\"M 149.3515 587.662125 \nL 238.6315 587.662125 \n\" style=\"fill:none;stroke:#000000;stroke-linecap:square;stroke-linejoin:miter;stroke-width:0.8;\"/>\n   </g>\n   <g id=\"text_198\">\n    <!-- SLEEP -->\n    <g transform=\"translate(175.639 581.662125)scale(0.12 -0.12)\">\n     <use xlink:href=\"#DejaVuSans-83\"/>\n     <use x=\"63.476562\" xlink:href=\"#DejaVuSans-76\"/>\n     <use x=\"119.189453\" xlink:href=\"#DejaVuSans-69\"/>\n     <use x=\"182.373047\" xlink:href=\"#DejaVuSans-69\"/>\n     <use x=\"245.556641\" xlink:href=\"#DejaVuSans-80\"/>\n    </g>\n   </g>\n  </g>\n  <g id=\"axes_27\">\n   <g id=\"patch_392\">\n    <path d=\"M 265.4155 696.382125 \nL 354.6955 696.382125 \nL 354.6955 587.662125 \nL 265.4155 587.662125 \nz\n\" style=\"fill:#ffffff;\"/>\n   </g>\n   <g id=\"patch_393\">\n    <path clip-path=\"url(#pb369909211)\" d=\"M 269.473682 696.382125 \nL 277.590045 696.382125 \nL 277.590045 666.669827 \nL 269.473682 666.669827 \nz\n\" style=\"fill:#1f77b4;\"/>\n   </g>\n   <g id=\"patch_394\">\n    <path clip-path=\"url(#pb369909211)\" d=\"M 277.590045 696.382125 \nL 285.706409 696.382125 \nL 285.706409 603.64374 \nL 277.590045 603.64374 \nz\n\" style=\"fill:#1f77b4;\"/>\n   </g>\n   <g id=\"patch_395\">\n    <path clip-path=\"url(#pb369909211)\" d=\"M 285.706409 696.382125 \nL 293.822773 696.382125 \nL 293.822773 592.839268 \nL 285.706409 592.839268 \nz\n\" style=\"fill:#1f77b4;\"/>\n   </g>\n   <g id=\"patch_396\">\n    <path clip-path=\"url(#pb369909211)\" d=\"M 293.822773 696.382125 \nL 301.939136 696.382125 \nL 301.939136 594.640013 \nL 293.822773 594.640013 \nz\n\" style=\"fill:#1f77b4;\"/>\n   </g>\n   <g id=\"patch_397\">\n    <path clip-path=\"url(#pb369909211)\" d=\"M 301.939136 696.382125 \nL 310.0555 696.382125 \nL 310.0555 626.153057 \nL 301.939136 626.153057 \nz\n\" style=\"fill:#1f77b4;\"/>\n   </g>\n   <g id=\"patch_398\">\n    <path clip-path=\"url(#pb369909211)\" d=\"M 310.0555 696.382125 \nL 318.171864 696.382125 \nL 318.171864 664.869082 \nL 310.0555 664.869082 \nz\n\" style=\"fill:#1f77b4;\"/>\n   </g>\n   <g id=\"patch_399\">\n    <path clip-path=\"url(#pb369909211)\" d=\"M 318.171864 696.382125 \nL 326.288227 696.382125 \nL 326.288227 689.179144 \nL 318.171864 689.179144 \nz\n\" style=\"fill:#1f77b4;\"/>\n   </g>\n   <g id=\"patch_400\">\n    <path clip-path=\"url(#pb369909211)\" d=\"M 326.288227 696.382125 \nL 334.404591 696.382125 \nL 334.404591 690.979889 \nL 326.288227 690.979889 \nz\n\" style=\"fill:#1f77b4;\"/>\n   </g>\n   <g id=\"patch_401\">\n    <path clip-path=\"url(#pb369909211)\" d=\"M 334.404591 696.382125 \nL 342.520955 696.382125 \nL 342.520955 692.780634 \nL 334.404591 692.780634 \nz\n\" style=\"fill:#1f77b4;\"/>\n   </g>\n   <g id=\"patch_402\">\n    <path clip-path=\"url(#pb369909211)\" d=\"M 342.520955 696.382125 \nL 350.637318 696.382125 \nL 350.637318 694.58138 \nL 342.520955 694.58138 \nz\n\" style=\"fill:#1f77b4;\"/>\n   </g>\n   <g id=\"matplotlib.axis_53\">\n    <g id=\"xtick_59\">\n     <g id=\"line2d_345\">\n      <path clip-path=\"url(#pb369909211)\" d=\"M 284.852055 696.382125 \nL 284.852055 587.662125 \n\" style=\"fill:none;stroke:#b0b0b0;stroke-linecap:square;stroke-width:0.8;\"/>\n     </g>\n     <g id=\"line2d_346\">\n      <g>\n       <use style=\"stroke:#000000;stroke-width:0.8;\" x=\"284.852055\" xlink:href=\"#m1efa2ccf88\" y=\"696.382125\"/>\n      </g>\n     </g>\n     <g id=\"text_199\">\n      <!-- 2.5 -->\n      <g transform=\"translate(276.900493 710.980562)scale(0.1 -0.1)\">\n       <use xlink:href=\"#DejaVuSans-50\"/>\n       <use x=\"63.623047\" xlink:href=\"#DejaVuSans-46\"/>\n       <use x=\"95.410156\" xlink:href=\"#DejaVuSans-53\"/>\n      </g>\n     </g>\n    </g>\n    <g id=\"xtick_60\">\n     <g id=\"line2d_347\">\n      <path clip-path=\"url(#pb369909211)\" d=\"M 327.569758 696.382125 \nL 327.569758 587.662125 \n\" style=\"fill:none;stroke:#b0b0b0;stroke-linecap:square;stroke-width:0.8;\"/>\n     </g>\n     <g id=\"line2d_348\">\n      <g>\n       <use style=\"stroke:#000000;stroke-width:0.8;\" x=\"327.569758\" xlink:href=\"#m1efa2ccf88\" y=\"696.382125\"/>\n      </g>\n     </g>\n     <g id=\"text_200\">\n      <!-- 5.0 -->\n      <g transform=\"translate(319.618196 710.980562)scale(0.1 -0.1)\">\n       <use xlink:href=\"#DejaVuSans-53\"/>\n       <use x=\"63.623047\" xlink:href=\"#DejaVuSans-46\"/>\n       <use x=\"95.410156\" xlink:href=\"#DejaVuSans-48\"/>\n      </g>\n     </g>\n    </g>\n   </g>\n   <g id=\"matplotlib.axis_54\">\n    <g id=\"ytick_115\">\n     <g id=\"line2d_349\">\n      <path clip-path=\"url(#pb369909211)\" d=\"M 265.4155 696.382125 \nL 354.6955 696.382125 \n\" style=\"fill:none;stroke:#b0b0b0;stroke-linecap:square;stroke-width:0.8;\"/>\n     </g>\n     <g id=\"line2d_350\">\n      <g>\n       <use style=\"stroke:#000000;stroke-width:0.8;\" x=\"265.4155\" xlink:href=\"#m88d07c3e7f\" y=\"696.382125\"/>\n      </g>\n     </g>\n     <g id=\"text_201\">\n      <!-- 0 -->\n      <g transform=\"translate(252.053 700.181344)scale(0.1 -0.1)\">\n       <use xlink:href=\"#DejaVuSans-48\"/>\n      </g>\n     </g>\n    </g>\n    <g id=\"ytick_116\">\n     <g id=\"line2d_351\">\n      <path clip-path=\"url(#pb369909211)\" d=\"M 265.4155 673.872808 \nL 354.6955 673.872808 \n\" style=\"fill:none;stroke:#b0b0b0;stroke-linecap:square;stroke-width:0.8;\"/>\n     </g>\n     <g id=\"line2d_352\">\n      <g>\n       <use style=\"stroke:#000000;stroke-width:0.8;\" x=\"265.4155\" xlink:href=\"#m88d07c3e7f\" y=\"673.872808\"/>\n      </g>\n     </g>\n     <g id=\"text_202\">\n      <!-- 25 -->\n      <g transform=\"translate(245.6905 677.672027)scale(0.1 -0.1)\">\n       <use xlink:href=\"#DejaVuSans-50\"/>\n       <use x=\"63.623047\" xlink:href=\"#DejaVuSans-53\"/>\n      </g>\n     </g>\n    </g>\n    <g id=\"ytick_117\">\n     <g id=\"line2d_353\">\n      <path clip-path=\"url(#pb369909211)\" d=\"M 265.4155 651.363491 \nL 354.6955 651.363491 \n\" style=\"fill:none;stroke:#b0b0b0;stroke-linecap:square;stroke-width:0.8;\"/>\n     </g>\n     <g id=\"line2d_354\">\n      <g>\n       <use style=\"stroke:#000000;stroke-width:0.8;\" x=\"265.4155\" xlink:href=\"#m88d07c3e7f\" y=\"651.363491\"/>\n      </g>\n     </g>\n     <g id=\"text_203\">\n      <!-- 50 -->\n      <g transform=\"translate(245.6905 655.16271)scale(0.1 -0.1)\">\n       <use xlink:href=\"#DejaVuSans-53\"/>\n       <use x=\"63.623047\" xlink:href=\"#DejaVuSans-48\"/>\n      </g>\n     </g>\n    </g>\n    <g id=\"ytick_118\">\n     <g id=\"line2d_355\">\n      <path clip-path=\"url(#pb369909211)\" d=\"M 265.4155 628.854175 \nL 354.6955 628.854175 \n\" style=\"fill:none;stroke:#b0b0b0;stroke-linecap:square;stroke-width:0.8;\"/>\n     </g>\n     <g id=\"line2d_356\">\n      <g>\n       <use style=\"stroke:#000000;stroke-width:0.8;\" x=\"265.4155\" xlink:href=\"#m88d07c3e7f\" y=\"628.854175\"/>\n      </g>\n     </g>\n     <g id=\"text_204\">\n      <!-- 75 -->\n      <g transform=\"translate(245.6905 632.653393)scale(0.1 -0.1)\">\n       <use xlink:href=\"#DejaVuSans-55\"/>\n       <use x=\"63.623047\" xlink:href=\"#DejaVuSans-53\"/>\n      </g>\n     </g>\n    </g>\n    <g id=\"ytick_119\">\n     <g id=\"line2d_357\">\n      <path clip-path=\"url(#pb369909211)\" d=\"M 265.4155 606.344858 \nL 354.6955 606.344858 \n\" style=\"fill:none;stroke:#b0b0b0;stroke-linecap:square;stroke-width:0.8;\"/>\n     </g>\n     <g id=\"line2d_358\">\n      <g>\n       <use style=\"stroke:#000000;stroke-width:0.8;\" x=\"265.4155\" xlink:href=\"#m88d07c3e7f\" y=\"606.344858\"/>\n      </g>\n     </g>\n     <g id=\"text_205\">\n      <!-- 100 -->\n      <g transform=\"translate(239.328 610.144077)scale(0.1 -0.1)\">\n       <use xlink:href=\"#DejaVuSans-49\"/>\n       <use x=\"63.623047\" xlink:href=\"#DejaVuSans-48\"/>\n       <use x=\"127.246094\" xlink:href=\"#DejaVuSans-48\"/>\n      </g>\n     </g>\n    </g>\n   </g>\n   <g id=\"patch_403\">\n    <path d=\"M 265.4155 696.382125 \nL 265.4155 587.662125 \n\" style=\"fill:none;stroke:#000000;stroke-linecap:square;stroke-linejoin:miter;stroke-width:0.8;\"/>\n   </g>\n   <g id=\"patch_404\">\n    <path d=\"M 354.6955 696.382125 \nL 354.6955 587.662125 \n\" style=\"fill:none;stroke:#000000;stroke-linecap:square;stroke-linejoin:miter;stroke-width:0.8;\"/>\n   </g>\n   <g id=\"patch_405\">\n    <path d=\"M 265.4155 696.382125 \nL 354.6955 696.382125 \n\" style=\"fill:none;stroke:#000000;stroke-linecap:square;stroke-linejoin:miter;stroke-width:0.8;\"/>\n   </g>\n   <g id=\"patch_406\">\n    <path d=\"M 265.4155 587.662125 \nL 354.6955 587.662125 \n\" style=\"fill:none;stroke:#000000;stroke-linecap:square;stroke-linejoin:miter;stroke-width:0.8;\"/>\n   </g>\n   <g id=\"text_206\">\n    <!-- STROKE -->\n    <g transform=\"translate(285.963625 581.662125)scale(0.12 -0.12)\">\n     <use xlink:href=\"#DejaVuSans-83\"/>\n     <use x=\"63.476562\" xlink:href=\"#DejaVuSans-84\"/>\n     <use x=\"124.560547\" xlink:href=\"#DejaVuSans-82\"/>\n     <use x=\"194.042969\" xlink:href=\"#DejaVuSans-79\"/>\n     <use x=\"272.753906\" xlink:href=\"#DejaVuSans-75\"/>\n     <use x=\"338.330078\" xlink:href=\"#DejaVuSans-69\"/>\n    </g>\n   </g>\n  </g>\n  <g id=\"axes_28\">\n   <g id=\"patch_407\">\n    <path d=\"M 381.4795 696.382125 \nL 470.7595 696.382125 \nL 470.7595 587.662125 \nL 381.4795 587.662125 \nz\n\" style=\"fill:#ffffff;\"/>\n   </g>\n   <g id=\"patch_408\">\n    <path clip-path=\"url(#pb53280e6bc)\" d=\"M 385.537682 696.382125 \nL 393.654045 696.382125 \nL 393.654045 658.234757 \nL 385.537682 658.234757 \nz\n\" style=\"fill:#1f77b4;\"/>\n   </g>\n   <g id=\"patch_409\">\n    <path clip-path=\"url(#pb53280e6bc)\" d=\"M 393.654045 696.382125 \nL 401.770409 696.382125 \nL 401.770409 614.637764 \nL 393.654045 614.637764 \nz\n\" style=\"fill:#1f77b4;\"/>\n   </g>\n   <g id=\"patch_410\">\n    <path clip-path=\"url(#pb53280e6bc)\" d=\"M 401.770409 696.382125 \nL 409.886773 696.382125 \nL 409.886773 595.019117 \nL 401.770409 595.019117 \nz\n\" style=\"fill:#1f77b4;\"/>\n   </g>\n   <g id=\"patch_411\">\n    <path clip-path=\"url(#pb53280e6bc)\" d=\"M 409.886773 696.382125 \nL 418.003136 696.382125 \nL 418.003136 592.839268 \nL 409.886773 592.839268 \nz\n\" style=\"fill:#1f77b4;\"/>\n   </g>\n   <g id=\"patch_412\">\n    <path clip-path=\"url(#pb53280e6bc)\" d=\"M 418.003136 696.382125 \nL 426.1195 696.382125 \nL 426.1195 592.839268 \nL 418.003136 592.839268 \nz\n\" style=\"fill:#1f77b4;\"/>\n   </g>\n   <g id=\"patch_413\">\n    <path clip-path=\"url(#pb53280e6bc)\" d=\"M 426.1195 696.382125 \nL 434.235864 696.382125 \nL 434.235864 633.166486 \nL 426.1195 633.166486 \nz\n\" style=\"fill:#1f77b4;\"/>\n   </g>\n   <g id=\"patch_414\">\n    <path clip-path=\"url(#pb53280e6bc)\" d=\"M 434.235864 696.382125 \nL 442.352227 696.382125 \nL 442.352227 666.954155 \nL 434.235864 666.954155 \nz\n\" style=\"fill:#1f77b4;\"/>\n   </g>\n   <g id=\"patch_415\">\n    <path clip-path=\"url(#pb53280e6bc)\" d=\"M 442.352227 696.382125 \nL 450.468591 696.382125 \nL 450.468591 685.482877 \nL 442.352227 685.482877 \nz\n\" style=\"fill:#1f77b4;\"/>\n   </g>\n   <g id=\"patch_416\">\n    <path clip-path=\"url(#pb53280e6bc)\" d=\"M 450.468591 696.382125 \nL 458.584955 696.382125 \nL 458.584955 692.022426 \nL 450.468591 692.022426 \nz\n\" style=\"fill:#1f77b4;\"/>\n   </g>\n   <g id=\"patch_417\">\n    <path clip-path=\"url(#pb53280e6bc)\" d=\"M 458.584955 696.382125 \nL 466.701318 696.382125 \nL 466.701318 690.932501 \nL 458.584955 690.932501 \nz\n\" style=\"fill:#1f77b4;\"/>\n   </g>\n   <g id=\"matplotlib.axis_55\">\n    <g id=\"xtick_61\">\n     <g id=\"line2d_359\">\n      <path clip-path=\"url(#pb53280e6bc)\" d=\"M 400.708455 696.382125 \nL 400.708455 587.662125 \n\" style=\"fill:none;stroke:#b0b0b0;stroke-linecap:square;stroke-width:0.8;\"/>\n     </g>\n     <g id=\"line2d_360\">\n      <g>\n       <use style=\"stroke:#000000;stroke-width:0.8;\" x=\"400.708455\" xlink:href=\"#m1efa2ccf88\" y=\"696.382125\"/>\n      </g>\n     </g>\n     <g id=\"text_207\">\n      <!-- 10 -->\n      <g transform=\"translate(394.345955 710.980562)scale(0.1 -0.1)\">\n       <use xlink:href=\"#DejaVuSans-49\"/>\n       <use x=\"63.623047\" xlink:href=\"#DejaVuSans-48\"/>\n      </g>\n     </g>\n    </g>\n    <g id=\"xtick_62\">\n     <g id=\"line2d_361\">\n      <path clip-path=\"url(#pb53280e6bc)\" d=\"M 431.050001 696.382125 \nL 431.050001 587.662125 \n\" style=\"fill:none;stroke:#b0b0b0;stroke-linecap:square;stroke-width:0.8;\"/>\n     </g>\n     <g id=\"line2d_362\">\n      <g>\n       <use style=\"stroke:#000000;stroke-width:0.8;\" x=\"431.050001\" xlink:href=\"#m1efa2ccf88\" y=\"696.382125\"/>\n      </g>\n     </g>\n     <g id=\"text_208\">\n      <!-- 20 -->\n      <g transform=\"translate(424.687501 710.980562)scale(0.1 -0.1)\">\n       <use xlink:href=\"#DejaVuSans-50\"/>\n       <use x=\"63.623047\" xlink:href=\"#DejaVuSans-48\"/>\n      </g>\n     </g>\n    </g>\n    <g id=\"xtick_63\">\n     <g id=\"line2d_363\">\n      <path clip-path=\"url(#pb53280e6bc)\" d=\"M 461.391548 696.382125 \nL 461.391548 587.662125 \n\" style=\"fill:none;stroke:#b0b0b0;stroke-linecap:square;stroke-width:0.8;\"/>\n     </g>\n     <g id=\"line2d_364\">\n      <g>\n       <use style=\"stroke:#000000;stroke-width:0.8;\" x=\"461.391548\" xlink:href=\"#m1efa2ccf88\" y=\"696.382125\"/>\n      </g>\n     </g>\n     <g id=\"text_209\">\n      <!-- 30 -->\n      <g transform=\"translate(455.029048 710.980562)scale(0.1 -0.1)\">\n       <use xlink:href=\"#DejaVuSans-51\"/>\n       <use x=\"63.623047\" xlink:href=\"#DejaVuSans-48\"/>\n      </g>\n     </g>\n    </g>\n   </g>\n   <g id=\"matplotlib.axis_56\">\n    <g id=\"ytick_120\">\n     <g id=\"line2d_365\">\n      <path clip-path=\"url(#pb53280e6bc)\" d=\"M 381.4795 696.382125 \nL 470.7595 696.382125 \n\" style=\"fill:none;stroke:#b0b0b0;stroke-linecap:square;stroke-width:0.8;\"/>\n     </g>\n     <g id=\"line2d_366\">\n      <g>\n       <use style=\"stroke:#000000;stroke-width:0.8;\" x=\"381.4795\" xlink:href=\"#m88d07c3e7f\" y=\"696.382125\"/>\n      </g>\n     </g>\n     <g id=\"text_210\">\n      <!-- 0 -->\n      <g transform=\"translate(368.117 700.181344)scale(0.1 -0.1)\">\n       <use xlink:href=\"#DejaVuSans-48\"/>\n      </g>\n     </g>\n    </g>\n    <g id=\"ytick_121\">\n     <g id=\"line2d_367\">\n      <path clip-path=\"url(#pb53280e6bc)\" d=\"M 381.4795 674.583629 \nL 470.7595 674.583629 \n\" style=\"fill:none;stroke:#b0b0b0;stroke-linecap:square;stroke-width:0.8;\"/>\n     </g>\n     <g id=\"line2d_368\">\n      <g>\n       <use style=\"stroke:#000000;stroke-width:0.8;\" x=\"381.4795\" xlink:href=\"#m88d07c3e7f\" y=\"674.583629\"/>\n      </g>\n     </g>\n     <g id=\"text_211\">\n      <!-- 20 -->\n      <g transform=\"translate(361.7545 678.382848)scale(0.1 -0.1)\">\n       <use xlink:href=\"#DejaVuSans-50\"/>\n       <use x=\"63.623047\" xlink:href=\"#DejaVuSans-48\"/>\n      </g>\n     </g>\n    </g>\n    <g id=\"ytick_122\">\n     <g id=\"line2d_369\">\n      <path clip-path=\"url(#pb53280e6bc)\" d=\"M 381.4795 652.785133 \nL 470.7595 652.785133 \n\" style=\"fill:none;stroke:#b0b0b0;stroke-linecap:square;stroke-width:0.8;\"/>\n     </g>\n     <g id=\"line2d_370\">\n      <g>\n       <use style=\"stroke:#000000;stroke-width:0.8;\" x=\"381.4795\" xlink:href=\"#m88d07c3e7f\" y=\"652.785133\"/>\n      </g>\n     </g>\n     <g id=\"text_212\">\n      <!-- 40 -->\n      <g transform=\"translate(361.7545 656.584351)scale(0.1 -0.1)\">\n       <use xlink:href=\"#DejaVuSans-52\"/>\n       <use x=\"63.623047\" xlink:href=\"#DejaVuSans-48\"/>\n      </g>\n     </g>\n    </g>\n    <g id=\"ytick_123\">\n     <g id=\"line2d_371\">\n      <path clip-path=\"url(#pb53280e6bc)\" d=\"M 381.4795 630.986636 \nL 470.7595 630.986636 \n\" style=\"fill:none;stroke:#b0b0b0;stroke-linecap:square;stroke-width:0.8;\"/>\n     </g>\n     <g id=\"line2d_372\">\n      <g>\n       <use style=\"stroke:#000000;stroke-width:0.8;\" x=\"381.4795\" xlink:href=\"#m88d07c3e7f\" y=\"630.986636\"/>\n      </g>\n     </g>\n     <g id=\"text_213\">\n      <!-- 60 -->\n      <g transform=\"translate(361.7545 634.785855)scale(0.1 -0.1)\">\n       <use xlink:href=\"#DejaVuSans-54\"/>\n       <use x=\"63.623047\" xlink:href=\"#DejaVuSans-48\"/>\n      </g>\n     </g>\n    </g>\n    <g id=\"ytick_124\">\n     <g id=\"line2d_373\">\n      <path clip-path=\"url(#pb53280e6bc)\" d=\"M 381.4795 609.18814 \nL 470.7595 609.18814 \n\" style=\"fill:none;stroke:#b0b0b0;stroke-linecap:square;stroke-width:0.8;\"/>\n     </g>\n     <g id=\"line2d_374\">\n      <g>\n       <use style=\"stroke:#000000;stroke-width:0.8;\" x=\"381.4795\" xlink:href=\"#m88d07c3e7f\" y=\"609.18814\"/>\n      </g>\n     </g>\n     <g id=\"text_214\">\n      <!-- 80 -->\n      <g transform=\"translate(361.7545 612.987359)scale(0.1 -0.1)\">\n       <use xlink:href=\"#DejaVuSans-56\"/>\n       <use x=\"63.623047\" xlink:href=\"#DejaVuSans-48\"/>\n      </g>\n     </g>\n    </g>\n   </g>\n   <g id=\"patch_418\">\n    <path d=\"M 381.4795 696.382125 \nL 381.4795 587.662125 \n\" style=\"fill:none;stroke:#000000;stroke-linecap:square;stroke-linejoin:miter;stroke-width:0.8;\"/>\n   </g>\n   <g id=\"patch_419\">\n    <path d=\"M 470.7595 696.382125 \nL 470.7595 587.662125 \n\" style=\"fill:none;stroke:#000000;stroke-linecap:square;stroke-linejoin:miter;stroke-width:0.8;\"/>\n   </g>\n   <g id=\"patch_420\">\n    <path d=\"M 381.4795 696.382125 \nL 470.7595 696.382125 \n\" style=\"fill:none;stroke:#000000;stroke-linecap:square;stroke-linejoin:miter;stroke-width:0.8;\"/>\n   </g>\n   <g id=\"patch_421\">\n    <path d=\"M 381.4795 587.662125 \nL 470.7595 587.662125 \n\" style=\"fill:none;stroke:#000000;stroke-linecap:square;stroke-linejoin:miter;stroke-width:0.8;\"/>\n   </g>\n   <g id=\"text_215\">\n    <!-- TEETHLOST -->\n    <g transform=\"translate(391.372938 581.662125)scale(0.12 -0.12)\">\n     <use xlink:href=\"#DejaVuSans-84\"/>\n     <use x=\"61.083984\" xlink:href=\"#DejaVuSans-69\"/>\n     <use x=\"124.267578\" xlink:href=\"#DejaVuSans-69\"/>\n     <use x=\"187.451172\" xlink:href=\"#DejaVuSans-84\"/>\n     <use x=\"248.535156\" xlink:href=\"#DejaVuSans-72\"/>\n     <use x=\"323.730469\" xlink:href=\"#DejaVuSans-76\"/>\n     <use x=\"375.818359\" xlink:href=\"#DejaVuSans-79\"/>\n     <use x=\"454.529297\" xlink:href=\"#DejaVuSans-83\"/>\n     <use x=\"518.005859\" xlink:href=\"#DejaVuSans-84\"/>\n    </g>\n   </g>\n  </g>\n  <g id=\"axes_29\">\n   <g id=\"patch_422\">\n    <path d=\"M 497.5435 696.382125 \nL 586.8235 696.382125 \nL 586.8235 587.662125 \nL 497.5435 587.662125 \nz\n\" style=\"fill:#ffffff;\"/>\n   </g>\n   <g id=\"patch_423\">\n    <path clip-path=\"url(#p2fe98eda87)\" d=\"M 501.601682 696.382125 \nL 509.718045 696.382125 \nL 509.718045 592.839268 \nL 501.601682 592.839268 \nz\n\" style=\"fill:#1f77b4;\"/>\n   </g>\n   <g id=\"patch_424\">\n    <path clip-path=\"url(#p2fe98eda87)\" d=\"M 509.718045 696.382125 \nL 517.834409 696.382125 \nL 517.834409 684.679492 \nL 509.718045 684.679492 \nz\n\" style=\"fill:#1f77b4;\"/>\n   </g>\n   <g id=\"patch_425\">\n    <path clip-path=\"url(#p2fe98eda87)\" d=\"M 517.834409 696.382125 \nL 525.950773 696.382125 \nL 525.950773 692.820454 \nL 517.834409 692.820454 \nz\n\" style=\"fill:#1f77b4;\"/>\n   </g>\n   <g id=\"patch_426\">\n    <path clip-path=\"url(#p2fe98eda87)\" d=\"M 525.950773 696.382125 \nL 534.067136 696.382125 \nL 534.067136 693.583669 \nL 525.950773 693.583669 \nz\n\" style=\"fill:#1f77b4;\"/>\n   </g>\n   <g id=\"patch_427\">\n    <path clip-path=\"url(#p2fe98eda87)\" d=\"M 534.067136 696.382125 \nL 542.1835 696.382125 \nL 542.1835 695.1101 \nL 534.067136 695.1101 \nz\n\" style=\"fill:#1f77b4;\"/>\n   </g>\n   <g id=\"patch_428\">\n    <path clip-path=\"url(#p2fe98eda87)\" d=\"M 542.1835 696.382125 \nL 550.299864 696.382125 \nL 550.299864 695.364505 \nL 542.1835 695.364505 \nz\n\" style=\"fill:#1f77b4;\"/>\n   </g>\n   <g id=\"patch_429\">\n    <path clip-path=\"url(#p2fe98eda87)\" d=\"M 550.299864 696.382125 \nL 558.416227 696.382125 \nL 558.416227 696.12772 \nL 550.299864 696.12772 \nz\n\" style=\"fill:#1f77b4;\"/>\n   </g>\n   <g id=\"patch_430\">\n    <path clip-path=\"url(#p2fe98eda87)\" d=\"M 558.416227 696.382125 \nL 566.532591 696.382125 \nL 566.532591 695.364505 \nL 558.416227 695.364505 \nz\n\" style=\"fill:#1f77b4;\"/>\n   </g>\n   <g id=\"patch_431\">\n    <path clip-path=\"url(#p2fe98eda87)\" d=\"M 566.532591 696.382125 \nL 574.648955 696.382125 \nL 574.648955 695.364505 \nL 566.532591 695.364505 \nz\n\" style=\"fill:#1f77b4;\"/>\n   </g>\n   <g id=\"patch_432\">\n    <path clip-path=\"url(#p2fe98eda87)\" d=\"M 574.648955 696.382125 \nL 582.765318 696.382125 \nL 582.765318 696.12772 \nL 574.648955 696.12772 \nz\n\" style=\"fill:#1f77b4;\"/>\n   </g>\n   <g id=\"matplotlib.axis_57\">\n    <g id=\"xtick_64\">\n     <g id=\"line2d_375\">\n      <path clip-path=\"url(#p2fe98eda87)\" d=\"M 501.283973 696.382125 \nL 501.283973 587.662125 \n\" style=\"fill:none;stroke:#b0b0b0;stroke-linecap:square;stroke-width:0.8;\"/>\n     </g>\n     <g id=\"line2d_376\">\n      <g>\n       <use style=\"stroke:#000000;stroke-width:0.8;\" x=\"501.283973\" xlink:href=\"#m1efa2ccf88\" y=\"696.382125\"/>\n      </g>\n     </g>\n     <g id=\"text_216\">\n      <!-- 0 -->\n      <g transform=\"translate(498.102723 710.980562)scale(0.1 -0.1)\">\n       <use xlink:href=\"#DejaVuSans-48\"/>\n      </g>\n     </g>\n    </g>\n    <g id=\"xtick_65\">\n     <g id=\"line2d_377\">\n      <path clip-path=\"url(#p2fe98eda87)\" d=\"M 579.570156 696.382125 \nL 579.570156 587.662125 \n\" style=\"fill:none;stroke:#b0b0b0;stroke-linecap:square;stroke-width:0.8;\"/>\n     </g>\n     <g id=\"line2d_378\">\n      <g>\n       <use style=\"stroke:#000000;stroke-width:0.8;\" x=\"579.570156\" xlink:href=\"#m1efa2ccf88\" y=\"696.382125\"/>\n      </g>\n     </g>\n     <g id=\"text_217\">\n      <!-- 50000 -->\n      <g transform=\"translate(563.663906 710.980562)scale(0.1 -0.1)\">\n       <use xlink:href=\"#DejaVuSans-53\"/>\n       <use x=\"63.623047\" xlink:href=\"#DejaVuSans-48\"/>\n       <use x=\"127.246094\" xlink:href=\"#DejaVuSans-48\"/>\n       <use x=\"190.869141\" xlink:href=\"#DejaVuSans-48\"/>\n       <use x=\"254.492188\" xlink:href=\"#DejaVuSans-48\"/>\n      </g>\n     </g>\n    </g>\n   </g>\n   <g id=\"matplotlib.axis_58\">\n    <g id=\"ytick_125\">\n     <g id=\"line2d_379\">\n      <path clip-path=\"url(#p2fe98eda87)\" d=\"M 497.5435 696.382125 \nL 586.8235 696.382125 \n\" style=\"fill:none;stroke:#b0b0b0;stroke-linecap:square;stroke-width:0.8;\"/>\n     </g>\n     <g id=\"line2d_380\">\n      <g>\n       <use style=\"stroke:#000000;stroke-width:0.8;\" x=\"497.5435\" xlink:href=\"#m88d07c3e7f\" y=\"696.382125\"/>\n      </g>\n     </g>\n     <g id=\"text_218\">\n      <!-- 0 -->\n      <g transform=\"translate(484.181 700.181344)scale(0.1 -0.1)\">\n       <use xlink:href=\"#DejaVuSans-48\"/>\n      </g>\n     </g>\n    </g>\n    <g id=\"ytick_126\">\n     <g id=\"line2d_381\">\n      <path clip-path=\"url(#p2fe98eda87)\" d=\"M 497.5435 670.94162 \nL 586.8235 670.94162 \n\" style=\"fill:none;stroke:#b0b0b0;stroke-linecap:square;stroke-width:0.8;\"/>\n     </g>\n     <g id=\"line2d_382\">\n      <g>\n       <use style=\"stroke:#000000;stroke-width:0.8;\" x=\"497.5435\" xlink:href=\"#m88d07c3e7f\" y=\"670.94162\"/>\n      </g>\n     </g>\n     <g id=\"text_219\">\n      <!-- 100 -->\n      <g transform=\"translate(471.456 674.740838)scale(0.1 -0.1)\">\n       <use xlink:href=\"#DejaVuSans-49\"/>\n       <use x=\"63.623047\" xlink:href=\"#DejaVuSans-48\"/>\n       <use x=\"127.246094\" xlink:href=\"#DejaVuSans-48\"/>\n      </g>\n     </g>\n    </g>\n    <g id=\"ytick_127\">\n     <g id=\"line2d_383\">\n      <path clip-path=\"url(#p2fe98eda87)\" d=\"M 497.5435 645.501114 \nL 586.8235 645.501114 \n\" style=\"fill:none;stroke:#b0b0b0;stroke-linecap:square;stroke-width:0.8;\"/>\n     </g>\n     <g id=\"line2d_384\">\n      <g>\n       <use style=\"stroke:#000000;stroke-width:0.8;\" x=\"497.5435\" xlink:href=\"#m88d07c3e7f\" y=\"645.501114\"/>\n      </g>\n     </g>\n     <g id=\"text_220\">\n      <!-- 200 -->\n      <g transform=\"translate(471.456 649.300333)scale(0.1 -0.1)\">\n       <use xlink:href=\"#DejaVuSans-50\"/>\n       <use x=\"63.623047\" xlink:href=\"#DejaVuSans-48\"/>\n       <use x=\"127.246094\" xlink:href=\"#DejaVuSans-48\"/>\n      </g>\n     </g>\n    </g>\n    <g id=\"ytick_128\">\n     <g id=\"line2d_385\">\n      <path clip-path=\"url(#p2fe98eda87)\" d=\"M 497.5435 620.060609 \nL 586.8235 620.060609 \n\" style=\"fill:none;stroke:#b0b0b0;stroke-linecap:square;stroke-width:0.8;\"/>\n     </g>\n     <g id=\"line2d_386\">\n      <g>\n       <use style=\"stroke:#000000;stroke-width:0.8;\" x=\"497.5435\" xlink:href=\"#m88d07c3e7f\" y=\"620.060609\"/>\n      </g>\n     </g>\n     <g id=\"text_221\">\n      <!-- 300 -->\n      <g transform=\"translate(471.456 623.859827)scale(0.1 -0.1)\">\n       <use xlink:href=\"#DejaVuSans-51\"/>\n       <use x=\"63.623047\" xlink:href=\"#DejaVuSans-48\"/>\n       <use x=\"127.246094\" xlink:href=\"#DejaVuSans-48\"/>\n      </g>\n     </g>\n    </g>\n    <g id=\"ytick_129\">\n     <g id=\"line2d_387\">\n      <path clip-path=\"url(#p2fe98eda87)\" d=\"M 497.5435 594.620103 \nL 586.8235 594.620103 \n\" style=\"fill:none;stroke:#b0b0b0;stroke-linecap:square;stroke-width:0.8;\"/>\n     </g>\n     <g id=\"line2d_388\">\n      <g>\n       <use style=\"stroke:#000000;stroke-width:0.8;\" x=\"497.5435\" xlink:href=\"#m88d07c3e7f\" y=\"594.620103\"/>\n      </g>\n     </g>\n     <g id=\"text_222\">\n      <!-- 400 -->\n      <g transform=\"translate(471.456 598.419322)scale(0.1 -0.1)\">\n       <use xlink:href=\"#DejaVuSans-52\"/>\n       <use x=\"63.623047\" xlink:href=\"#DejaVuSans-48\"/>\n       <use x=\"127.246094\" xlink:href=\"#DejaVuSans-48\"/>\n      </g>\n     </g>\n    </g>\n   </g>\n   <g id=\"patch_433\">\n    <path d=\"M 497.5435 696.382125 \nL 497.5435 587.662125 \n\" style=\"fill:none;stroke:#000000;stroke-linecap:square;stroke-linejoin:miter;stroke-width:0.8;\"/>\n   </g>\n   <g id=\"patch_434\">\n    <path d=\"M 586.8235 696.382125 \nL 586.8235 587.662125 \n\" style=\"fill:none;stroke:#000000;stroke-linecap:square;stroke-linejoin:miter;stroke-width:0.8;\"/>\n   </g>\n   <g id=\"patch_435\">\n    <path d=\"M 497.5435 696.382125 \nL 586.8235 696.382125 \n\" style=\"fill:none;stroke:#000000;stroke-linecap:square;stroke-linejoin:miter;stroke-width:0.8;\"/>\n   </g>\n   <g id=\"patch_436\">\n    <path d=\"M 497.5435 587.662125 \nL 586.8235 587.662125 \n\" style=\"fill:none;stroke:#000000;stroke-linecap:square;stroke-linejoin:miter;stroke-width:0.8;\"/>\n   </g>\n   <g id=\"text_223\">\n    <!-- case1m -->\n    <defs>\n     <path d=\"M 48.78125 52.59375 \nL 48.78125 44.1875 \nQ 44.96875 46.296875 41.140625 47.34375 \nQ 37.3125 48.390625 33.40625 48.390625 \nQ 24.65625 48.390625 19.8125 42.84375 \nQ 14.984375 37.3125 14.984375 27.296875 \nQ 14.984375 17.28125 19.8125 11.734375 \nQ 24.65625 6.203125 33.40625 6.203125 \nQ 37.3125 6.203125 41.140625 7.25 \nQ 44.96875 8.296875 48.78125 10.40625 \nL 48.78125 2.09375 \nQ 45.015625 0.34375 40.984375 -0.53125 \nQ 36.96875 -1.421875 32.421875 -1.421875 \nQ 20.0625 -1.421875 12.78125 6.34375 \nQ 5.515625 14.109375 5.515625 27.296875 \nQ 5.515625 40.671875 12.859375 48.328125 \nQ 20.21875 56 33.015625 56 \nQ 37.15625 56 41.109375 55.140625 \nQ 45.0625 54.296875 48.78125 52.59375 \nz\n\" id=\"DejaVuSans-99\"/>\n     <path d=\"M 34.28125 27.484375 \nQ 23.390625 27.484375 19.1875 25 \nQ 14.984375 22.515625 14.984375 16.5 \nQ 14.984375 11.71875 18.140625 8.90625 \nQ 21.296875 6.109375 26.703125 6.109375 \nQ 34.1875 6.109375 38.703125 11.40625 \nQ 43.21875 16.703125 43.21875 25.484375 \nL 43.21875 27.484375 \nz\nM 52.203125 31.203125 \nL 52.203125 0 \nL 43.21875 0 \nL 43.21875 8.296875 \nQ 40.140625 3.328125 35.546875 0.953125 \nQ 30.953125 -1.421875 24.3125 -1.421875 \nQ 15.921875 -1.421875 10.953125 3.296875 \nQ 6 8.015625 6 15.921875 \nQ 6 25.140625 12.171875 29.828125 \nQ 18.359375 34.515625 30.609375 34.515625 \nL 43.21875 34.515625 \nL 43.21875 35.40625 \nQ 43.21875 41.609375 39.140625 45 \nQ 35.0625 48.390625 27.6875 48.390625 \nQ 23 48.390625 18.546875 47.265625 \nQ 14.109375 46.140625 10.015625 43.890625 \nL 10.015625 52.203125 \nQ 14.9375 54.109375 19.578125 55.046875 \nQ 24.21875 56 28.609375 56 \nQ 40.484375 56 46.34375 49.84375 \nQ 52.203125 43.703125 52.203125 31.203125 \nz\n\" id=\"DejaVuSans-97\"/>\n     <path d=\"M 44.28125 53.078125 \nL 44.28125 44.578125 \nQ 40.484375 46.53125 36.375 47.5 \nQ 32.28125 48.484375 27.875 48.484375 \nQ 21.1875 48.484375 17.84375 46.4375 \nQ 14.5 44.390625 14.5 40.28125 \nQ 14.5 37.15625 16.890625 35.375 \nQ 19.28125 33.59375 26.515625 31.984375 \nL 29.59375 31.296875 \nQ 39.15625 29.25 43.1875 25.515625 \nQ 47.21875 21.78125 47.21875 15.09375 \nQ 47.21875 7.46875 41.1875 3.015625 \nQ 35.15625 -1.421875 24.609375 -1.421875 \nQ 20.21875 -1.421875 15.453125 -0.5625 \nQ 10.6875 0.296875 5.421875 2 \nL 5.421875 11.28125 \nQ 10.40625 8.6875 15.234375 7.390625 \nQ 20.0625 6.109375 24.8125 6.109375 \nQ 31.15625 6.109375 34.5625 8.28125 \nQ 37.984375 10.453125 37.984375 14.40625 \nQ 37.984375 18.0625 35.515625 20.015625 \nQ 33.0625 21.96875 24.703125 23.78125 \nL 21.578125 24.515625 \nQ 13.234375 26.265625 9.515625 29.90625 \nQ 5.8125 33.546875 5.8125 39.890625 \nQ 5.8125 47.609375 11.28125 51.796875 \nQ 16.75 56 26.8125 56 \nQ 31.78125 56 36.171875 55.265625 \nQ 40.578125 54.546875 44.28125 53.078125 \nz\n\" id=\"DejaVuSans-115\"/>\n     <path d=\"M 56.203125 29.59375 \nL 56.203125 25.203125 \nL 14.890625 25.203125 \nQ 15.484375 15.921875 20.484375 11.0625 \nQ 25.484375 6.203125 34.421875 6.203125 \nQ 39.59375 6.203125 44.453125 7.46875 \nQ 49.3125 8.734375 54.109375 11.28125 \nL 54.109375 2.78125 \nQ 49.265625 0.734375 44.1875 -0.34375 \nQ 39.109375 -1.421875 33.890625 -1.421875 \nQ 20.796875 -1.421875 13.15625 6.1875 \nQ 5.515625 13.8125 5.515625 26.8125 \nQ 5.515625 40.234375 12.765625 48.109375 \nQ 20.015625 56 32.328125 56 \nQ 43.359375 56 49.78125 48.890625 \nQ 56.203125 41.796875 56.203125 29.59375 \nz\nM 47.21875 32.234375 \nQ 47.125 39.59375 43.09375 43.984375 \nQ 39.0625 48.390625 32.421875 48.390625 \nQ 24.90625 48.390625 20.390625 44.140625 \nQ 15.875 39.890625 15.1875 32.171875 \nz\n\" id=\"DejaVuSans-101\"/>\n     <path d=\"M 52 44.1875 \nQ 55.375 50.25 60.0625 53.125 \nQ 64.75 56 71.09375 56 \nQ 79.640625 56 84.28125 50.015625 \nQ 88.921875 44.046875 88.921875 33.015625 \nL 88.921875 0 \nL 79.890625 0 \nL 79.890625 32.71875 \nQ 79.890625 40.578125 77.09375 44.375 \nQ 74.3125 48.1875 68.609375 48.1875 \nQ 61.625 48.1875 57.5625 43.546875 \nQ 53.515625 38.921875 53.515625 30.90625 \nL 53.515625 0 \nL 44.484375 0 \nL 44.484375 32.71875 \nQ 44.484375 40.625 41.703125 44.40625 \nQ 38.921875 48.1875 33.109375 48.1875 \nQ 26.21875 48.1875 22.15625 43.53125 \nQ 18.109375 38.875 18.109375 30.90625 \nL 18.109375 0 \nL 9.078125 0 \nL 9.078125 54.6875 \nL 18.109375 54.6875 \nL 18.109375 46.1875 \nQ 21.1875 51.21875 25.484375 53.609375 \nQ 29.78125 56 35.6875 56 \nQ 41.65625 56 45.828125 52.96875 \nQ 50 49.953125 52 44.1875 \nz\n\" id=\"DejaVuSans-109\"/>\n    </defs>\n    <g transform=\"translate(518.728188 581.662125)scale(0.12 -0.12)\">\n     <use xlink:href=\"#DejaVuSans-99\"/>\n     <use x=\"54.980469\" xlink:href=\"#DejaVuSans-97\"/>\n     <use x=\"116.259766\" xlink:href=\"#DejaVuSans-115\"/>\n     <use x=\"168.359375\" xlink:href=\"#DejaVuSans-101\"/>\n     <use x=\"229.882812\" xlink:href=\"#DejaVuSans-49\"/>\n     <use x=\"293.505859\" xlink:href=\"#DejaVuSans-109\"/>\n    </g>\n   </g>\n  </g>\n  <g id=\"axes_30\">\n   <g id=\"patch_437\">\n    <path d=\"M 613.6075 696.382125 \nL 702.8875 696.382125 \nL 702.8875 587.662125 \nL 613.6075 587.662125 \nz\n\" style=\"fill:#ffffff;\"/>\n   </g>\n   <g id=\"patch_438\">\n    <path clip-path=\"url(#p69c7e885df)\" d=\"M 617.665682 696.382125 \nL 625.782045 696.382125 \nL 625.782045 592.839268 \nL 617.665682 592.839268 \nz\n\" style=\"fill:#1f77b4;\"/>\n   </g>\n   <g id=\"patch_439\">\n    <path clip-path=\"url(#p69c7e885df)\" d=\"M 625.782045 696.382125 \nL 633.898409 696.382125 \nL 633.898409 691.869936 \nL 625.782045 691.869936 \nz\n\" style=\"fill:#1f77b4;\"/>\n   </g>\n   <g id=\"patch_440\">\n    <path clip-path=\"url(#p69c7e885df)\" d=\"M 633.898409 696.382125 \nL 642.014773 696.382125 \nL 642.014773 691.632453 \nL 633.898409 691.632453 \nz\n\" style=\"fill:#1f77b4;\"/>\n   </g>\n   <g id=\"patch_441\">\n    <path clip-path=\"url(#p69c7e885df)\" d=\"M 642.014773 696.382125 \nL 650.131136 696.382125 \nL 650.131136 696.144641 \nL 642.014773 696.144641 \nz\n\" style=\"fill:#1f77b4;\"/>\n   </g>\n   <g id=\"patch_442\">\n    <path clip-path=\"url(#p69c7e885df)\" d=\"M 650.131136 696.382125 \nL 658.2475 696.382125 \nL 658.2475 693.057354 \nL 650.131136 693.057354 \nz\n\" style=\"fill:#1f77b4;\"/>\n   </g>\n   <g id=\"patch_443\">\n    <path clip-path=\"url(#p69c7e885df)\" d=\"M 658.2475 696.382125 \nL 666.363864 696.382125 \nL 666.363864 695.669674 \nL 658.2475 695.669674 \nz\n\" style=\"fill:#1f77b4;\"/>\n   </g>\n   <g id=\"patch_444\">\n    <path clip-path=\"url(#p69c7e885df)\" d=\"M 666.363864 696.382125 \nL 674.480227 696.382125 \nL 674.480227 696.382125 \nL 666.363864 696.382125 \nz\n\" style=\"fill:#1f77b4;\"/>\n   </g>\n   <g id=\"patch_445\">\n    <path clip-path=\"url(#p69c7e885df)\" d=\"M 674.480227 696.382125 \nL 682.596591 696.382125 \nL 682.596591 696.144641 \nL 674.480227 696.144641 \nz\n\" style=\"fill:#1f77b4;\"/>\n   </g>\n   <g id=\"patch_446\">\n    <path clip-path=\"url(#p69c7e885df)\" d=\"M 682.596591 696.382125 \nL 690.712955 696.382125 \nL 690.712955 695.907158 \nL 682.596591 695.907158 \nz\n\" style=\"fill:#1f77b4;\"/>\n   </g>\n   <g id=\"patch_447\">\n    <path clip-path=\"url(#p69c7e885df)\" d=\"M 690.712955 696.382125 \nL 698.829318 696.382125 \nL 698.829318 696.144641 \nL 690.712955 696.144641 \nz\n\" style=\"fill:#1f77b4;\"/>\n   </g>\n   <g id=\"matplotlib.axis_59\">\n    <g id=\"xtick_66\">\n     <g id=\"line2d_389\">\n      <path clip-path=\"url(#p69c7e885df)\" d=\"M 617.665682 696.382125 \nL 617.665682 587.662125 \n\" style=\"fill:none;stroke:#b0b0b0;stroke-linecap:square;stroke-width:0.8;\"/>\n     </g>\n     <g id=\"line2d_390\">\n      <g>\n       <use style=\"stroke:#000000;stroke-width:0.8;\" x=\"617.665682\" xlink:href=\"#m1efa2ccf88\" y=\"696.382125\"/>\n      </g>\n     </g>\n     <g id=\"text_224\">\n      <!-- 0 -->\n      <g transform=\"translate(614.484432 710.980562)scale(0.1 -0.1)\">\n       <use xlink:href=\"#DejaVuSans-48\"/>\n      </g>\n     </g>\n    </g>\n    <g id=\"xtick_67\">\n     <g id=\"line2d_391\">\n      <path clip-path=\"url(#p69c7e885df)\" d=\"M 668.715759 696.382125 \nL 668.715759 587.662125 \n\" style=\"fill:none;stroke:#b0b0b0;stroke-linecap:square;stroke-width:0.8;\"/>\n     </g>\n     <g id=\"line2d_392\">\n      <g>\n       <use style=\"stroke:#000000;stroke-width:0.8;\" x=\"668.715759\" xlink:href=\"#m1efa2ccf88\" y=\"696.382125\"/>\n      </g>\n     </g>\n     <g id=\"text_225\">\n      <!-- 2500 -->\n      <g transform=\"translate(655.990759 710.980562)scale(0.1 -0.1)\">\n       <use xlink:href=\"#DejaVuSans-50\"/>\n       <use x=\"63.623047\" xlink:href=\"#DejaVuSans-53\"/>\n       <use x=\"127.246094\" xlink:href=\"#DejaVuSans-48\"/>\n       <use x=\"190.869141\" xlink:href=\"#DejaVuSans-48\"/>\n      </g>\n     </g>\n    </g>\n   </g>\n   <g id=\"matplotlib.axis_60\">\n    <g id=\"ytick_130\">\n     <g id=\"line2d_393\">\n      <path clip-path=\"url(#p69c7e885df)\" d=\"M 613.6075 696.382125 \nL 702.8875 696.382125 \n\" style=\"fill:none;stroke:#b0b0b0;stroke-linecap:square;stroke-width:0.8;\"/>\n     </g>\n     <g id=\"line2d_394\">\n      <g>\n       <use style=\"stroke:#000000;stroke-width:0.8;\" x=\"613.6075\" xlink:href=\"#m88d07c3e7f\" y=\"696.382125\"/>\n      </g>\n     </g>\n     <g id=\"text_226\">\n      <!-- 0 -->\n      <g transform=\"translate(600.245 700.181344)scale(0.1 -0.1)\">\n       <use xlink:href=\"#DejaVuSans-48\"/>\n      </g>\n     </g>\n    </g>\n    <g id=\"ytick_131\">\n     <g id=\"line2d_395\">\n      <path clip-path=\"url(#p69c7e885df)\" d=\"M 613.6075 672.633763 \nL 702.8875 672.633763 \n\" style=\"fill:none;stroke:#b0b0b0;stroke-linecap:square;stroke-width:0.8;\"/>\n     </g>\n     <g id=\"line2d_396\">\n      <g>\n       <use style=\"stroke:#000000;stroke-width:0.8;\" x=\"613.6075\" xlink:href=\"#m88d07c3e7f\" y=\"672.633763\"/>\n      </g>\n     </g>\n     <g id=\"text_227\">\n      <!-- 100 -->\n      <g transform=\"translate(587.52 676.432982)scale(0.1 -0.1)\">\n       <use xlink:href=\"#DejaVuSans-49\"/>\n       <use x=\"63.623047\" xlink:href=\"#DejaVuSans-48\"/>\n       <use x=\"127.246094\" xlink:href=\"#DejaVuSans-48\"/>\n      </g>\n     </g>\n    </g>\n    <g id=\"ytick_132\">\n     <g id=\"line2d_397\">\n      <path clip-path=\"url(#p69c7e885df)\" d=\"M 613.6075 648.885402 \nL 702.8875 648.885402 \n\" style=\"fill:none;stroke:#b0b0b0;stroke-linecap:square;stroke-width:0.8;\"/>\n     </g>\n     <g id=\"line2d_398\">\n      <g>\n       <use style=\"stroke:#000000;stroke-width:0.8;\" x=\"613.6075\" xlink:href=\"#m88d07c3e7f\" y=\"648.885402\"/>\n      </g>\n     </g>\n     <g id=\"text_228\">\n      <!-- 200 -->\n      <g transform=\"translate(587.52 652.68462)scale(0.1 -0.1)\">\n       <use xlink:href=\"#DejaVuSans-50\"/>\n       <use x=\"63.623047\" xlink:href=\"#DejaVuSans-48\"/>\n       <use x=\"127.246094\" xlink:href=\"#DejaVuSans-48\"/>\n      </g>\n     </g>\n    </g>\n    <g id=\"ytick_133\">\n     <g id=\"line2d_399\">\n      <path clip-path=\"url(#p69c7e885df)\" d=\"M 613.6075 625.13704 \nL 702.8875 625.13704 \n\" style=\"fill:none;stroke:#b0b0b0;stroke-linecap:square;stroke-width:0.8;\"/>\n     </g>\n     <g id=\"line2d_400\">\n      <g>\n       <use style=\"stroke:#000000;stroke-width:0.8;\" x=\"613.6075\" xlink:href=\"#m88d07c3e7f\" y=\"625.13704\"/>\n      </g>\n     </g>\n     <g id=\"text_229\">\n      <!-- 300 -->\n      <g transform=\"translate(587.52 628.936259)scale(0.1 -0.1)\">\n       <use xlink:href=\"#DejaVuSans-51\"/>\n       <use x=\"63.623047\" xlink:href=\"#DejaVuSans-48\"/>\n       <use x=\"127.246094\" xlink:href=\"#DejaVuSans-48\"/>\n      </g>\n     </g>\n    </g>\n    <g id=\"ytick_134\">\n     <g id=\"line2d_401\">\n      <path clip-path=\"url(#p69c7e885df)\" d=\"M 613.6075 601.388678 \nL 702.8875 601.388678 \n\" style=\"fill:none;stroke:#b0b0b0;stroke-linecap:square;stroke-width:0.8;\"/>\n     </g>\n     <g id=\"line2d_402\">\n      <g>\n       <use style=\"stroke:#000000;stroke-width:0.8;\" x=\"613.6075\" xlink:href=\"#m88d07c3e7f\" y=\"601.388678\"/>\n      </g>\n     </g>\n     <g id=\"text_230\">\n      <!-- 400 -->\n      <g transform=\"translate(587.52 605.187897)scale(0.1 -0.1)\">\n       <use xlink:href=\"#DejaVuSans-52\"/>\n       <use x=\"63.623047\" xlink:href=\"#DejaVuSans-48\"/>\n       <use x=\"127.246094\" xlink:href=\"#DejaVuSans-48\"/>\n      </g>\n     </g>\n    </g>\n   </g>\n   <g id=\"patch_448\">\n    <path d=\"M 613.6075 696.382125 \nL 613.6075 587.662125 \n\" style=\"fill:none;stroke:#000000;stroke-linecap:square;stroke-linejoin:miter;stroke-width:0.8;\"/>\n   </g>\n   <g id=\"patch_449\">\n    <path d=\"M 702.8875 696.382125 \nL 702.8875 587.662125 \n\" style=\"fill:none;stroke:#000000;stroke-linecap:square;stroke-linejoin:miter;stroke-width:0.8;\"/>\n   </g>\n   <g id=\"patch_450\">\n    <path d=\"M 613.6075 696.382125 \nL 702.8875 696.382125 \n\" style=\"fill:none;stroke:#000000;stroke-linecap:square;stroke-linejoin:miter;stroke-width:0.8;\"/>\n   </g>\n   <g id=\"patch_451\">\n    <path d=\"M 613.6075 587.662125 \nL 702.8875 587.662125 \n\" style=\"fill:none;stroke:#000000;stroke-linecap:square;stroke-linejoin:miter;stroke-width:0.8;\"/>\n   </g>\n   <g id=\"text_231\">\n    <!-- death1m -->\n    <defs>\n     <path d=\"M 45.40625 46.390625 \nL 45.40625 75.984375 \nL 54.390625 75.984375 \nL 54.390625 0 \nL 45.40625 0 \nL 45.40625 8.203125 \nQ 42.578125 3.328125 38.25 0.953125 \nQ 33.9375 -1.421875 27.875 -1.421875 \nQ 17.96875 -1.421875 11.734375 6.484375 \nQ 5.515625 14.40625 5.515625 27.296875 \nQ 5.515625 40.1875 11.734375 48.09375 \nQ 17.96875 56 27.875 56 \nQ 33.9375 56 38.25 53.625 \nQ 42.578125 51.265625 45.40625 46.390625 \nz\nM 14.796875 27.296875 \nQ 14.796875 17.390625 18.875 11.75 \nQ 22.953125 6.109375 30.078125 6.109375 \nQ 37.203125 6.109375 41.296875 11.75 \nQ 45.40625 17.390625 45.40625 27.296875 \nQ 45.40625 37.203125 41.296875 42.84375 \nQ 37.203125 48.484375 30.078125 48.484375 \nQ 22.953125 48.484375 18.875 42.84375 \nQ 14.796875 37.203125 14.796875 27.296875 \nz\n\" id=\"DejaVuSans-100\"/>\n     <path d=\"M 18.3125 70.21875 \nL 18.3125 54.6875 \nL 36.8125 54.6875 \nL 36.8125 47.703125 \nL 18.3125 47.703125 \nL 18.3125 18.015625 \nQ 18.3125 11.328125 20.140625 9.421875 \nQ 21.96875 7.515625 27.59375 7.515625 \nL 36.8125 7.515625 \nL 36.8125 0 \nL 27.59375 0 \nQ 17.1875 0 13.234375 3.875 \nQ 9.28125 7.765625 9.28125 18.015625 \nL 9.28125 47.703125 \nL 2.6875 47.703125 \nL 2.6875 54.6875 \nL 9.28125 54.6875 \nL 9.28125 70.21875 \nz\n\" id=\"DejaVuSans-116\"/>\n     <path d=\"M 54.890625 33.015625 \nL 54.890625 0 \nL 45.90625 0 \nL 45.90625 32.71875 \nQ 45.90625 40.484375 42.875 44.328125 \nQ 39.84375 48.1875 33.796875 48.1875 \nQ 26.515625 48.1875 22.3125 43.546875 \nQ 18.109375 38.921875 18.109375 30.90625 \nL 18.109375 0 \nL 9.078125 0 \nL 9.078125 75.984375 \nL 18.109375 75.984375 \nL 18.109375 46.1875 \nQ 21.34375 51.125 25.703125 53.5625 \nQ 30.078125 56 35.796875 56 \nQ 45.21875 56 50.046875 50.171875 \nQ 54.890625 44.34375 54.890625 33.015625 \nz\n\" id=\"DejaVuSans-104\"/>\n    </defs>\n    <g transform=\"translate(631.253125 581.662125)scale(0.12 -0.12)\">\n     <use xlink:href=\"#DejaVuSans-100\"/>\n     <use x=\"63.476562\" xlink:href=\"#DejaVuSans-101\"/>\n     <use x=\"125\" xlink:href=\"#DejaVuSans-97\"/>\n     <use x=\"186.279297\" xlink:href=\"#DejaVuSans-116\"/>\n     <use x=\"225.488281\" xlink:href=\"#DejaVuSans-104\"/>\n     <use x=\"288.867188\" xlink:href=\"#DejaVuSans-49\"/>\n     <use x=\"352.490234\" xlink:href=\"#DejaVuSans-109\"/>\n    </g>\n   </g>\n  </g>\n  <g id=\"axes_31\">\n   <g id=\"patch_452\">\n    <path d=\"M 33.2875 837.718125 \nL 122.5675 837.718125 \nL 122.5675 728.998125 \nL 33.2875 728.998125 \nz\n\" style=\"fill:#ffffff;\"/>\n   </g>\n   <g id=\"patch_453\">\n    <path clip-path=\"url(#p6ea1c358c9)\" d=\"M 37.345682 837.718125 \nL 45.462045 837.718125 \nL 45.462045 734.175268 \nL 37.345682 734.175268 \nz\n\" style=\"fill:#1f77b4;\"/>\n   </g>\n   <g id=\"patch_454\">\n    <path clip-path=\"url(#p6ea1c358c9)\" d=\"M 45.462045 837.718125 \nL 53.578409 837.718125 \nL 53.578409 820.027386 \nL 45.462045 820.027386 \nz\n\" style=\"fill:#1f77b4;\"/>\n   </g>\n   <g id=\"patch_455\">\n    <path clip-path=\"url(#p6ea1c358c9)\" d=\"M 53.578409 837.718125 \nL 61.694773 837.718125 \nL 61.694773 831.474335 \nL 53.578409 831.474335 \nz\n\" style=\"fill:#1f77b4;\"/>\n   </g>\n   <g id=\"patch_456\">\n    <path clip-path=\"url(#p6ea1c358c9)\" d=\"M 61.694773 837.718125 \nL 69.811136 837.718125 \nL 69.811136 836.417335 \nL 61.694773 836.417335 \nz\n\" style=\"fill:#1f77b4;\"/>\n   </g>\n   <g id=\"patch_457\">\n    <path clip-path=\"url(#p6ea1c358c9)\" d=\"M 69.811136 837.718125 \nL 77.9275 837.718125 \nL 77.9275 837.457967 \nL 69.811136 837.457967 \nz\n\" style=\"fill:#1f77b4;\"/>\n   </g>\n   <g id=\"patch_458\">\n    <path clip-path=\"url(#p6ea1c358c9)\" d=\"M 77.9275 837.718125 \nL 86.043864 837.718125 \nL 86.043864 837.718125 \nL 77.9275 837.718125 \nz\n\" style=\"fill:#1f77b4;\"/>\n   </g>\n   <g id=\"patch_459\">\n    <path clip-path=\"url(#p6ea1c358c9)\" d=\"M 86.043864 837.718125 \nL 94.160227 837.718125 \nL 94.160227 837.718125 \nL 86.043864 837.718125 \nz\n\" style=\"fill:#1f77b4;\"/>\n   </g>\n   <g id=\"patch_460\">\n    <path clip-path=\"url(#p6ea1c358c9)\" d=\"M 94.160227 837.718125 \nL 102.276591 837.718125 \nL 102.276591 837.718125 \nL 94.160227 837.718125 \nz\n\" style=\"fill:#1f77b4;\"/>\n   </g>\n   <g id=\"patch_461\">\n    <path clip-path=\"url(#p6ea1c358c9)\" d=\"M 102.276591 837.718125 \nL 110.392955 837.718125 \nL 110.392955 837.718125 \nL 102.276591 837.718125 \nz\n\" style=\"fill:#1f77b4;\"/>\n   </g>\n   <g id=\"patch_462\">\n    <path clip-path=\"url(#p6ea1c358c9)\" d=\"M 110.392955 837.718125 \nL 118.509318 837.718125 \nL 118.509318 837.457967 \nL 110.392955 837.457967 \nz\n\" style=\"fill:#1f77b4;\"/>\n   </g>\n   <g id=\"matplotlib.axis_61\">\n    <g id=\"xtick_68\">\n     <g id=\"line2d_403\">\n      <path clip-path=\"url(#p6ea1c358c9)\" d=\"M 37.091202 837.718125 \nL 37.091202 728.998125 \n\" style=\"fill:none;stroke:#b0b0b0;stroke-linecap:square;stroke-width:0.8;\"/>\n     </g>\n     <g id=\"line2d_404\">\n      <g>\n       <use style=\"stroke:#000000;stroke-width:0.8;\" x=\"37.091202\" xlink:href=\"#m1efa2ccf88\" y=\"837.718125\"/>\n      </g>\n     </g>\n     <g id=\"text_232\">\n      <!-- 0 -->\n      <g transform=\"translate(33.909952 852.316562)scale(0.1 -0.1)\">\n       <use xlink:href=\"#DejaVuSans-48\"/>\n      </g>\n     </g>\n    </g>\n    <g id=\"xtick_69\">\n     <g id=\"line2d_405\">\n      <path clip-path=\"url(#p6ea1c358c9)\" d=\"M 114.206296 837.718125 \nL 114.206296 728.998125 \n\" style=\"fill:none;stroke:#b0b0b0;stroke-linecap:square;stroke-width:0.8;\"/>\n     </g>\n     <g id=\"line2d_406\">\n      <g>\n       <use style=\"stroke:#000000;stroke-width:0.8;\" x=\"114.206296\" xlink:href=\"#m1efa2ccf88\" y=\"837.718125\"/>\n      </g>\n     </g>\n     <g id=\"text_233\">\n      <!-- 20000 -->\n      <g transform=\"translate(98.300046 852.316562)scale(0.1 -0.1)\">\n       <use xlink:href=\"#DejaVuSans-50\"/>\n       <use x=\"63.623047\" xlink:href=\"#DejaVuSans-48\"/>\n       <use x=\"127.246094\" xlink:href=\"#DejaVuSans-48\"/>\n       <use x=\"190.869141\" xlink:href=\"#DejaVuSans-48\"/>\n       <use x=\"254.492188\" xlink:href=\"#DejaVuSans-48\"/>\n      </g>\n     </g>\n    </g>\n   </g>\n   <g id=\"matplotlib.axis_62\">\n    <g id=\"ytick_135\">\n     <g id=\"line2d_407\">\n      <path clip-path=\"url(#p6ea1c358c9)\" d=\"M 33.2875 837.718125 \nL 122.5675 837.718125 \n\" style=\"fill:none;stroke:#b0b0b0;stroke-linecap:square;stroke-width:0.8;\"/>\n     </g>\n     <g id=\"line2d_408\">\n      <g>\n       <use style=\"stroke:#000000;stroke-width:0.8;\" x=\"33.2875\" xlink:href=\"#m88d07c3e7f\" y=\"837.718125\"/>\n      </g>\n     </g>\n     <g id=\"text_234\">\n      <!-- 0 -->\n      <g transform=\"translate(19.925 841.517344)scale(0.1 -0.1)\">\n       <use xlink:href=\"#DejaVuSans-48\"/>\n      </g>\n     </g>\n    </g>\n    <g id=\"ytick_136\">\n     <g id=\"line2d_409\">\n      <path clip-path=\"url(#p6ea1c358c9)\" d=\"M 33.2875 811.702332 \nL 122.5675 811.702332 \n\" style=\"fill:none;stroke:#b0b0b0;stroke-linecap:square;stroke-width:0.8;\"/>\n     </g>\n     <g id=\"line2d_410\">\n      <g>\n       <use style=\"stroke:#000000;stroke-width:0.8;\" x=\"33.2875\" xlink:href=\"#m88d07c3e7f\" y=\"811.702332\"/>\n      </g>\n     </g>\n     <g id=\"text_235\">\n      <!-- 100 -->\n      <g transform=\"translate(7.2 815.50155)scale(0.1 -0.1)\">\n       <use xlink:href=\"#DejaVuSans-49\"/>\n       <use x=\"63.623047\" xlink:href=\"#DejaVuSans-48\"/>\n       <use x=\"127.246094\" xlink:href=\"#DejaVuSans-48\"/>\n      </g>\n     </g>\n    </g>\n    <g id=\"ytick_137\">\n     <g id=\"line2d_411\">\n      <path clip-path=\"url(#p6ea1c358c9)\" d=\"M 33.2875 785.686538 \nL 122.5675 785.686538 \n\" style=\"fill:none;stroke:#b0b0b0;stroke-linecap:square;stroke-width:0.8;\"/>\n     </g>\n     <g id=\"line2d_412\">\n      <g>\n       <use style=\"stroke:#000000;stroke-width:0.8;\" x=\"33.2875\" xlink:href=\"#m88d07c3e7f\" y=\"785.686538\"/>\n      </g>\n     </g>\n     <g id=\"text_236\">\n      <!-- 200 -->\n      <g transform=\"translate(7.2 789.485757)scale(0.1 -0.1)\">\n       <use xlink:href=\"#DejaVuSans-50\"/>\n       <use x=\"63.623047\" xlink:href=\"#DejaVuSans-48\"/>\n       <use x=\"127.246094\" xlink:href=\"#DejaVuSans-48\"/>\n      </g>\n     </g>\n    </g>\n    <g id=\"ytick_138\">\n     <g id=\"line2d_413\">\n      <path clip-path=\"url(#p6ea1c358c9)\" d=\"M 33.2875 759.670745 \nL 122.5675 759.670745 \n\" style=\"fill:none;stroke:#b0b0b0;stroke-linecap:square;stroke-width:0.8;\"/>\n     </g>\n     <g id=\"line2d_414\">\n      <g>\n       <use style=\"stroke:#000000;stroke-width:0.8;\" x=\"33.2875\" xlink:href=\"#m88d07c3e7f\" y=\"759.670745\"/>\n      </g>\n     </g>\n     <g id=\"text_237\">\n      <!-- 300 -->\n      <g transform=\"translate(7.2 763.469964)scale(0.1 -0.1)\">\n       <use xlink:href=\"#DejaVuSans-51\"/>\n       <use x=\"63.623047\" xlink:href=\"#DejaVuSans-48\"/>\n       <use x=\"127.246094\" xlink:href=\"#DejaVuSans-48\"/>\n      </g>\n     </g>\n    </g>\n    <g id=\"ytick_139\">\n     <g id=\"line2d_415\">\n      <path clip-path=\"url(#p6ea1c358c9)\" d=\"M 33.2875 733.654952 \nL 122.5675 733.654952 \n\" style=\"fill:none;stroke:#b0b0b0;stroke-linecap:square;stroke-width:0.8;\"/>\n     </g>\n     <g id=\"line2d_416\">\n      <g>\n       <use style=\"stroke:#000000;stroke-width:0.8;\" x=\"33.2875\" xlink:href=\"#m88d07c3e7f\" y=\"733.654952\"/>\n      </g>\n     </g>\n     <g id=\"text_238\">\n      <!-- 400 -->\n      <g transform=\"translate(7.2 737.454171)scale(0.1 -0.1)\">\n       <use xlink:href=\"#DejaVuSans-52\"/>\n       <use x=\"63.623047\" xlink:href=\"#DejaVuSans-48\"/>\n       <use x=\"127.246094\" xlink:href=\"#DejaVuSans-48\"/>\n      </g>\n     </g>\n    </g>\n   </g>\n   <g id=\"patch_463\">\n    <path d=\"M 33.2875 837.718125 \nL 33.2875 728.998125 \n\" style=\"fill:none;stroke:#000000;stroke-linecap:square;stroke-linejoin:miter;stroke-width:0.8;\"/>\n   </g>\n   <g id=\"patch_464\">\n    <path d=\"M 122.5675 837.718125 \nL 122.5675 728.998125 \n\" style=\"fill:none;stroke:#000000;stroke-linecap:square;stroke-linejoin:miter;stroke-width:0.8;\"/>\n   </g>\n   <g id=\"patch_465\">\n    <path d=\"M 33.2875 837.718125 \nL 122.5675 837.718125 \n\" style=\"fill:none;stroke:#000000;stroke-linecap:square;stroke-linejoin:miter;stroke-width:0.8;\"/>\n   </g>\n   <g id=\"patch_466\">\n    <path d=\"M 33.2875 728.998125 \nL 122.5675 728.998125 \n\" style=\"fill:none;stroke:#000000;stroke-linecap:square;stroke-linejoin:miter;stroke-width:0.8;\"/>\n   </g>\n   <g id=\"text_239\">\n    <!-- density -->\n    <defs>\n     <path d=\"M 54.890625 33.015625 \nL 54.890625 0 \nL 45.90625 0 \nL 45.90625 32.71875 \nQ 45.90625 40.484375 42.875 44.328125 \nQ 39.84375 48.1875 33.796875 48.1875 \nQ 26.515625 48.1875 22.3125 43.546875 \nQ 18.109375 38.921875 18.109375 30.90625 \nL 18.109375 0 \nL 9.078125 0 \nL 9.078125 54.6875 \nL 18.109375 54.6875 \nL 18.109375 46.1875 \nQ 21.34375 51.125 25.703125 53.5625 \nQ 30.078125 56 35.796875 56 \nQ 45.21875 56 50.046875 50.171875 \nQ 54.890625 44.34375 54.890625 33.015625 \nz\n\" id=\"DejaVuSans-110\"/>\n     <path d=\"M 9.421875 54.6875 \nL 18.40625 54.6875 \nL 18.40625 0 \nL 9.421875 0 \nz\nM 9.421875 75.984375 \nL 18.40625 75.984375 \nL 18.40625 64.59375 \nL 9.421875 64.59375 \nz\n\" id=\"DejaVuSans-105\"/>\n     <path d=\"M 32.171875 -5.078125 \nQ 28.375 -14.84375 24.75 -17.8125 \nQ 21.140625 -20.796875 15.09375 -20.796875 \nL 7.90625 -20.796875 \nL 7.90625 -13.28125 \nL 13.1875 -13.28125 \nQ 16.890625 -13.28125 18.9375 -11.515625 \nQ 21 -9.765625 23.484375 -3.21875 \nL 25.09375 0.875 \nL 2.984375 54.6875 \nL 12.5 54.6875 \nL 29.59375 11.921875 \nL 46.6875 54.6875 \nL 56.203125 54.6875 \nz\n\" id=\"DejaVuSans-121\"/>\n    </defs>\n    <g transform=\"translate(55.928125 722.998125)scale(0.12 -0.12)\">\n     <use xlink:href=\"#DejaVuSans-100\"/>\n     <use x=\"63.476562\" xlink:href=\"#DejaVuSans-101\"/>\n     <use x=\"125\" xlink:href=\"#DejaVuSans-110\"/>\n     <use x=\"188.378906\" xlink:href=\"#DejaVuSans-115\"/>\n     <use x=\"240.478516\" xlink:href=\"#DejaVuSans-105\"/>\n     <use x=\"268.261719\" xlink:href=\"#DejaVuSans-116\"/>\n     <use x=\"307.470703\" xlink:href=\"#DejaVuSans-121\"/>\n    </g>\n   </g>\n  </g>\n </g>\n <defs>\n  <clipPath id=\"p4a1428c5d0\">\n   <rect height=\"108.72\" width=\"89.28\" x=\"33.2875\" y=\"22.318125\"/>\n  </clipPath>\n  <clipPath id=\"pcd9eeeef96\">\n   <rect height=\"108.72\" width=\"89.28\" x=\"149.3515\" y=\"22.318125\"/>\n  </clipPath>\n  <clipPath id=\"pd16659ea13\">\n   <rect height=\"108.72\" width=\"89.28\" x=\"265.4155\" y=\"22.318125\"/>\n  </clipPath>\n  <clipPath id=\"pd732b91e43\">\n   <rect height=\"108.72\" width=\"89.28\" x=\"381.4795\" y=\"22.318125\"/>\n  </clipPath>\n  <clipPath id=\"p26e612ca3b\">\n   <rect height=\"108.72\" width=\"89.28\" x=\"497.5435\" y=\"22.318125\"/>\n  </clipPath>\n  <clipPath id=\"pf873b5ac10\">\n   <rect height=\"108.72\" width=\"89.28\" x=\"613.6075\" y=\"22.318125\"/>\n  </clipPath>\n  <clipPath id=\"pf26bd42fc5\">\n   <rect height=\"108.72\" width=\"89.28\" x=\"33.2875\" y=\"163.654125\"/>\n  </clipPath>\n  <clipPath id=\"pf8aa854dee\">\n   <rect height=\"108.72\" width=\"89.28\" x=\"149.3515\" y=\"163.654125\"/>\n  </clipPath>\n  <clipPath id=\"p548994bbd6\">\n   <rect height=\"108.72\" width=\"89.28\" x=\"265.4155\" y=\"163.654125\"/>\n  </clipPath>\n  <clipPath id=\"pd3188bb50b\">\n   <rect height=\"108.72\" width=\"89.28\" x=\"381.4795\" y=\"163.654125\"/>\n  </clipPath>\n  <clipPath id=\"p9d93179878\">\n   <rect height=\"108.72\" width=\"89.28\" x=\"497.5435\" y=\"163.654125\"/>\n  </clipPath>\n  <clipPath id=\"p135474adde\">\n   <rect height=\"108.72\" width=\"89.28\" x=\"613.6075\" y=\"163.654125\"/>\n  </clipPath>\n  <clipPath id=\"p090cbf4b47\">\n   <rect height=\"108.72\" width=\"89.28\" x=\"33.2875\" y=\"304.990125\"/>\n  </clipPath>\n  <clipPath id=\"pa22b73c7bd\">\n   <rect height=\"108.72\" width=\"89.28\" x=\"149.3515\" y=\"304.990125\"/>\n  </clipPath>\n  <clipPath id=\"p7588bd4e9e\">\n   <rect height=\"108.72\" width=\"89.28\" x=\"265.4155\" y=\"304.990125\"/>\n  </clipPath>\n  <clipPath id=\"p0348701d71\">\n   <rect height=\"108.72\" width=\"89.28\" x=\"381.4795\" y=\"304.990125\"/>\n  </clipPath>\n  <clipPath id=\"p8d9d4af6d4\">\n   <rect height=\"108.72\" width=\"89.28\" x=\"497.5435\" y=\"304.990125\"/>\n  </clipPath>\n  <clipPath id=\"p3be1fe3e1f\">\n   <rect height=\"108.72\" width=\"89.28\" x=\"613.6075\" y=\"304.990125\"/>\n  </clipPath>\n  <clipPath id=\"pd697c012cf\">\n   <rect height=\"108.72\" width=\"89.28\" x=\"33.2875\" y=\"446.326125\"/>\n  </clipPath>\n  <clipPath id=\"p61d9385850\">\n   <rect height=\"108.72\" width=\"89.28\" x=\"149.3515\" y=\"446.326125\"/>\n  </clipPath>\n  <clipPath id=\"pbca2fe380b\">\n   <rect height=\"108.72\" width=\"89.28\" x=\"265.4155\" y=\"446.326125\"/>\n  </clipPath>\n  <clipPath id=\"pf4c142eff3\">\n   <rect height=\"108.72\" width=\"89.28\" x=\"381.4795\" y=\"446.326125\"/>\n  </clipPath>\n  <clipPath id=\"p706144d32f\">\n   <rect height=\"108.72\" width=\"89.28\" x=\"497.5435\" y=\"446.326125\"/>\n  </clipPath>\n  <clipPath id=\"p2dcff0616c\">\n   <rect height=\"108.72\" width=\"89.28\" x=\"613.6075\" y=\"446.326125\"/>\n  </clipPath>\n  <clipPath id=\"pcb77db7250\">\n   <rect height=\"108.72\" width=\"89.28\" x=\"33.2875\" y=\"587.662125\"/>\n  </clipPath>\n  <clipPath id=\"p4f8b4e2ac8\">\n   <rect height=\"108.72\" width=\"89.28\" x=\"149.3515\" y=\"587.662125\"/>\n  </clipPath>\n  <clipPath id=\"pb369909211\">\n   <rect height=\"108.72\" width=\"89.28\" x=\"265.4155\" y=\"587.662125\"/>\n  </clipPath>\n  <clipPath id=\"pb53280e6bc\">\n   <rect height=\"108.72\" width=\"89.28\" x=\"381.4795\" y=\"587.662125\"/>\n  </clipPath>\n  <clipPath id=\"p2fe98eda87\">\n   <rect height=\"108.72\" width=\"89.28\" x=\"497.5435\" y=\"587.662125\"/>\n  </clipPath>\n  <clipPath id=\"p69c7e885df\">\n   <rect height=\"108.72\" width=\"89.28\" x=\"613.6075\" y=\"587.662125\"/>\n  </clipPath>\n  <clipPath id=\"p6ea1c358c9\">\n   <rect height=\"108.72\" width=\"89.28\" x=\"33.2875\" y=\"728.998125\"/>\n  </clipPath>\n </defs>\n</svg>\n",
      "image/png": "[encoded data removed]"
     },
     "metadata": {
      "needs_background": "light"
     }
    }
   ],
   "source": [
    "df.iloc[:,3:].hist(figsize = (12,15));"
   ]
  },
  {
   "cell_type": "code",
   "execution_count": 23,
   "metadata": {},
   "outputs": [],
   "source": [
    "## Set X, y and split into train and test data set\n",
    "X = df.drop(columns = ['county_fips','CityName','state_id','case1m', 'death1m','PAPTEST'])\n",
    "y = df['death1m']\n",
    "\n",
    "X_train, X_test, y_train, y_test = train_test_split(X, y, test_size = .30, random_state = 42)"
   ]
  },
  {
   "cell_type": "code",
   "execution_count": 24,
   "metadata": {
    "tags": []
   },
   "outputs": [
    {
     "output_type": "stream",
     "name": "stdout",
     "text": "OLS Regression Results                            \n==============================================================================\nDep. Variable:                death1m   R-squared:                       0.543\nModel:                            OLS   Adj. R-squared:                  0.503\nMethod:                 Least Squares   F-statistic:                     13.51\nDate:                Wed, 15 Jul 2020   Prob (F-statistic):           3.40e-39\nTime:                        00:26:02   Log-Likelihood:                -2520.5\nNo. Observations:                 347   AIC:                             5099.\nDf Residuals:                     318   BIC:                             5211.\nDf Model:                          28                                         \nCovariance Type:            nonrobust                                         \n==============================================================================\n"
    }
   ],
   "source": [
    "##Train the model using OLS\n",
    "X2 = sm.add_constant(X_train)\n",
    "est = sm.OLS(y_train, X2)\n",
    "est = est.fit()\n",
    "print(est.summary().tables[0])"
   ]
  },
  {
   "cell_type": "code",
   "execution_count": 25,
   "metadata": {
    "tags": []
   },
   "outputs": [
    {
     "output_type": "execute_result",
     "data": {
      "text/plain": "                coef   std err      t  P>|t|    [0.025   0.975]\nconst     -3245.4204  1387.144 -2.340  0.020 -5974.559 -516.281\ndensity       0.0683     0.016  4.172  0.000     0.036    0.100\nACCESS2     -20.1784     8.852 -2.280  0.023   -37.594   -2.763\nARTHRITIS    51.2526    21.464  2.388  0.018     9.023   93.482\nCANCER     -285.3984   121.172 -2.355  0.019  -523.799  -46.997\nCASTHMA      88.5298    36.961  2.395  0.017    15.810  161.249\nCHECKUP      33.3058    11.344  2.936  0.004    10.988   55.624\nCOPD       -193.5914    76.614 -2.527  0.012  -344.326  -42.857\nCOREM       -19.5018     6.196 -3.147  0.002   -31.693   -7.311\nDENTAL       23.6100     9.048  2.609  0.010     5.808   41.412\nDIABETES   -208.7196    46.876 -4.453  0.000  -300.946 -116.493\nHIGHCHOL     54.6294    19.196  2.846  0.005    16.862   92.397\nLPA          40.0529    13.339  3.003  0.003    13.809   66.297",
      "text/html": "<div>\n<style scoped>\n    .dataframe tbody tr th:only-of-type {\n        vertical-align: middle;\n    }\n\n    .dataframe tbody tr th {\n        vertical-align: top;\n    }\n\n    .dataframe thead th {\n        text-align: right;\n    }\n</style>\n<table border=\"1\" class=\"dataframe\">\n  <thead>\n    <tr style=\"text-align: right;\">\n      <th></th>\n      <th>coef</th>\n      <th>std err</th>\n      <th>t</th>\n      <th>P&gt;|t|</th>\n      <th>[0.025</th>\n      <th>0.975]</th>\n    </tr>\n  </thead>\n  <tbody>\n    <tr>\n      <th>const</th>\n      <td>-3245.4204</td>\n      <td>1387.144</td>\n      <td>-2.340</td>\n      <td>0.020</td>\n      <td>-5974.559</td>\n      <td>-516.281</td>\n    </tr>\n    <tr>\n      <th>density</th>\n      <td>0.0683</td>\n      <td>0.016</td>\n      <td>4.172</td>\n      <td>0.000</td>\n      <td>0.036</td>\n      <td>0.100</td>\n    </tr>\n    <tr>\n      <th>ACCESS2</th>\n      <td>-20.1784</td>\n      <td>8.852</td>\n      <td>-2.280</td>\n      <td>0.023</td>\n      <td>-37.594</td>\n      <td>-2.763</td>\n    </tr>\n    <tr>\n      <th>ARTHRITIS</th>\n      <td>51.2526</td>\n      <td>21.464</td>\n      <td>2.388</td>\n      <td>0.018</td>\n      <td>9.023</td>\n      <td>93.482</td>\n    </tr>\n    <tr>\n      <th>CANCER</th>\n      <td>-285.3984</td>\n      <td>121.172</td>\n      <td>-2.355</td>\n      <td>0.019</td>\n      <td>-523.799</td>\n      <td>-46.997</td>\n    </tr>\n    <tr>\n      <th>CASTHMA</th>\n      <td>88.5298</td>\n      <td>36.961</td>\n      <td>2.395</td>\n      <td>0.017</td>\n      <td>15.810</td>\n      <td>161.249</td>\n    </tr>\n    <tr>\n      <th>CHECKUP</th>\n      <td>33.3058</td>\n      <td>11.344</td>\n      <td>2.936</td>\n      <td>0.004</td>\n      <td>10.988</td>\n      <td>55.624</td>\n    </tr>\n    <tr>\n      <th>COPD</th>\n      <td>-193.5914</td>\n      <td>76.614</td>\n      <td>-2.527</td>\n      <td>0.012</td>\n      <td>-344.326</td>\n      <td>-42.857</td>\n    </tr>\n    <tr>\n      <th>COREM</th>\n      <td>-19.5018</td>\n      <td>6.196</td>\n      <td>-3.147</td>\n      <td>0.002</td>\n      <td>-31.693</td>\n      <td>-7.311</td>\n    </tr>\n    <tr>\n      <th>DENTAL</th>\n      <td>23.6100</td>\n      <td>9.048</td>\n      <td>2.609</td>\n      <td>0.010</td>\n      <td>5.808</td>\n      <td>41.412</td>\n    </tr>\n    <tr>\n      <th>DIABETES</th>\n      <td>-208.7196</td>\n      <td>46.876</td>\n      <td>-4.453</td>\n      <td>0.000</td>\n      <td>-300.946</td>\n      <td>-116.493</td>\n    </tr>\n    <tr>\n      <th>HIGHCHOL</th>\n      <td>54.6294</td>\n      <td>19.196</td>\n      <td>2.846</td>\n      <td>0.005</td>\n      <td>16.862</td>\n      <td>92.397</td>\n    </tr>\n    <tr>\n      <th>LPA</th>\n      <td>40.0529</td>\n      <td>13.339</td>\n      <td>3.003</td>\n      <td>0.003</td>\n      <td>13.809</td>\n      <td>66.297</td>\n    </tr>\n  </tbody>\n</table>\n</div>"
     },
     "metadata": {},
     "execution_count": 25
    }
   ],
   "source": [
    "## Get significant variables\n",
    "p = est.pvalues\n",
    "significant_vars = p.loc[p < 0.10].index.tolist()\n",
    "\n",
    "ols_coef = pd.read_html(est.summary().tables[1].as_html(),header=0,index_col=0)[0]\n",
    "ols_coef.loc[ols_coef['P>|t|'] < 0.1]"
   ]
  },
  {
   "cell_type": "code",
   "execution_count": 26,
   "metadata": {
    "tags": []
   },
   "outputs": [
    {
     "output_type": "stream",
     "name": "stdout",
     "text": "r2-score on test data:  0.2011\n"
    }
   ],
   "source": [
    "## Predict on test data\n",
    "r2 = r2_score(y_test, est.predict(sm.add_constant(X_test)))\n",
    "print('r2-score on test data: ', round(r2,4))"
   ]
  },
  {
   "cell_type": "code",
   "execution_count": 27,
   "metadata": {
    "tags": []
   },
   "outputs": [],
   "source": [
    "## Load measures lookup\n",
    "lookup = pd.read_sql_table('MeasureLookup', engine)"
   ]
  },
  {
   "cell_type": "code",
   "execution_count": 28,
   "metadata": {},
   "outputs": [
    {
     "output_type": "execute_result",
     "data": {
      "text/plain": "                     MeasureId\nCategory                      \nHealth Outcomes             13\nPrevention                  10\nUnhealthy Behaviors          5",
      "text/html": "<div>\n<style scoped>\n    .dataframe tbody tr th:only-of-type {\n        vertical-align: middle;\n    }\n\n    .dataframe tbody tr th {\n        vertical-align: top;\n    }\n\n    .dataframe thead th {\n        text-align: right;\n    }\n</style>\n<table border=\"1\" class=\"dataframe\">\n  <thead>\n    <tr style=\"text-align: right;\">\n      <th></th>\n      <th>MeasureId</th>\n    </tr>\n    <tr>\n      <th>Category</th>\n      <th></th>\n    </tr>\n  </thead>\n  <tbody>\n    <tr>\n      <th>Health Outcomes</th>\n      <td>13</td>\n    </tr>\n    <tr>\n      <th>Prevention</th>\n      <td>10</td>\n    </tr>\n    <tr>\n      <th>Unhealthy Behaviors</th>\n      <td>5</td>\n    </tr>\n  </tbody>\n</table>\n</div>"
     },
     "metadata": {},
     "execution_count": 28
    }
   ],
   "source": [
    "## Get measures summary\n",
    "categories = lookup.groupby('Category').agg({'MeasureId': 'count'})\n",
    "categories"
   ]
  },
  {
   "cell_type": "code",
   "execution_count": 30,
   "metadata": {},
   "outputs": [
    {
     "output_type": "execute_result",
     "data": {
      "text/plain": "    MeasureId  \\\n2   HIGHCHOL    \n7   ARTHRITIS   \n8   CASTHMA     \n9   DIABETES    \n17  CANCER      \n18  COPD        \n10  ACCESS2     \n21  DENTAL      \n23  CHECKUP     \n27  COREM       \n15  LPA         \n\n                                                                                                                                                             Measure  \\\n2   High cholesterol among adults aged >=18 Years who have been screened in the past 5 Years                                                                           \n7   Arthritis among adults aged >=18 Years                                                                                                                             \n8   Current asthma among adults aged >=18 Years                                                                                                                        \n9   Diagnosed diabetes among adults aged >=18 Years                                                                                                                    \n17  Cancer (excluding skin cancer) among adults aged >=18 Years                                                                                                        \n18  Chronic obstructive pulmonary disease among adults aged >=18 Years                                                                                                 \n10  Current lack of health insurance among adults aged 18–64 Years                                                                                                     \n21  Visits to dentist or dental clinic among adults aged >=18 Years                                                                                                    \n23  Visits to doctor for routine checkup within the past Year among adults aged >=18 Years                                                                             \n27  Older adult men aged >=65 Years who are up to date on a core set of clinical preventive services: Flu shot past Year, PPV shot ever, Colorectal cancer screening   \n15  No leisure-time physical activity among adults aged >=18 Years                                                                                                     \n\n               Category  \n2   Health Outcomes      \n7   Health Outcomes      \n8   Health Outcomes      \n9   Health Outcomes      \n17  Health Outcomes      \n18  Health Outcomes      \n10  Prevention           \n21  Prevention           \n23  Prevention           \n27  Prevention           \n15  Unhealthy Behaviors  ",
      "text/html": "<div>\n<style scoped>\n    .dataframe tbody tr th:only-of-type {\n        vertical-align: middle;\n    }\n\n    .dataframe tbody tr th {\n        vertical-align: top;\n    }\n\n    .dataframe thead th {\n        text-align: right;\n    }\n</style>\n<table border=\"1\" class=\"dataframe\">\n  <thead>\n    <tr style=\"text-align: right;\">\n      <th></th>\n      <th>MeasureId</th>\n      <th>Measure</th>\n      <th>Category</th>\n    </tr>\n  </thead>\n  <tbody>\n    <tr>\n      <th>2</th>\n      <td>HIGHCHOL</td>\n      <td>High cholesterol among adults aged &gt;=18 Years who have been screened in the past 5 Years</td>\n      <td>Health Outcomes</td>\n    </tr>\n    <tr>\n      <th>7</th>\n      <td>ARTHRITIS</td>\n      <td>Arthritis among adults aged &gt;=18 Years</td>\n      <td>Health Outcomes</td>\n    </tr>\n    <tr>\n      <th>8</th>\n      <td>CASTHMA</td>\n      <td>Current asthma among adults aged &gt;=18 Years</td>\n      <td>Health Outcomes</td>\n    </tr>\n    <tr>\n      <th>9</th>\n      <td>DIABETES</td>\n      <td>Diagnosed diabetes among adults aged &gt;=18 Years</td>\n      <td>Health Outcomes</td>\n    </tr>\n    <tr>\n      <th>17</th>\n      <td>CANCER</td>\n      <td>Cancer (excluding skin cancer) among adults aged &gt;=18 Years</td>\n      <td>Health Outcomes</td>\n    </tr>\n    <tr>\n      <th>18</th>\n      <td>COPD</td>\n      <td>Chronic obstructive pulmonary disease among adults aged &gt;=18 Years</td>\n      <td>Health Outcomes</td>\n    </tr>\n    <tr>\n      <th>10</th>\n      <td>ACCESS2</td>\n      <td>Current lack of health insurance among adults aged 18–64 Years</td>\n      <td>Prevention</td>\n    </tr>\n    <tr>\n      <th>21</th>\n      <td>DENTAL</td>\n      <td>Visits to dentist or dental clinic among adults aged &gt;=18 Years</td>\n      <td>Prevention</td>\n    </tr>\n    <tr>\n      <th>23</th>\n      <td>CHECKUP</td>\n      <td>Visits to doctor for routine checkup within the past Year among adults aged &gt;=18 Years</td>\n      <td>Prevention</td>\n    </tr>\n    <tr>\n      <th>27</th>\n      <td>COREM</td>\n      <td>Older adult men aged &gt;=65 Years who are up to date on a core set of clinical preventive services: Flu shot past Year, PPV shot ever, Colorectal cancer screening</td>\n      <td>Prevention</td>\n    </tr>\n    <tr>\n      <th>15</th>\n      <td>LPA</td>\n      <td>No leisure-time physical activity among adults aged &gt;=18 Years</td>\n      <td>Unhealthy Behaviors</td>\n    </tr>\n  </tbody>\n</table>\n</div>"
     },
     "metadata": {},
     "execution_count": 30
    }
   ],
   "source": [
    "pd.set_option('display.max_colwidth', -1)\n",
    "lookup.loc[lookup['MeasureId'].isin(significant_vars)][['MeasureId','Measure', 'Category']].sort_values(by = 'Category')"
   ]
  },
  {
   "cell_type": "code",
   "execution_count": 36,
   "metadata": {},
   "outputs": [],
   "source": [
    "significant_vars.remove('const')"
   ]
  },
  {
   "cell_type": "code",
   "execution_count": 43,
   "metadata": {},
   "outputs": [
    {
     "output_type": "display_data",
     "data": {
      "text/plain": "<Figure size 720x720 with 12 Axes>",
      "image/svg+xml": "<?xml version=\"1.0\" encoding=\"utf-8\" standalone=\"no\"?>\n<!DOCTYPE svg PUBLIC \"-//W3C//DTD SVG 1.1//EN\"\n  \"http://www.w3.org/Graphics/SVG/1.1/DTD/svg11.dtd\">\n<!-- Created with matplotlib (https://matplotlib.org/) -->\n<svg height=\"589.79625pt\" version=\"1.1\" viewBox=\"0 0 602.719979 589.79625\" width=\"602.719979pt\" xmlns=\"http://www.w3.org/2000/svg\" xmlns:xlink=\"http://www.w3.org/1999/xlink\">\n <defs>\n  <style type=\"text/css\">\n*{stroke-linecap:butt;stroke-linejoin:round;}\n  </style>\n </defs>\n <g id=\"figure_1\">\n  <g id=\"patch_1\">\n   <path d=\"M 0 589.79625 \nL 602.719979 589.79625 \nL 602.719979 0 \nL 0 0 \nz\n\" style=\"fill:none;\"/>\n  </g>\n  <g id=\"axes_1\">\n   <g id=\"patch_2\">\n    <path d=\"M 33.2875 133.256901 \nL 188.2875 133.256901 \nL 188.2875 22.318125 \nL 33.2875 22.318125 \nz\n\" style=\"fill:#ffffff;\"/>\n   </g>\n   <g id=\"patch_3\">\n    <path clip-path=\"url(#p60c0b08a9c)\" d=\"M 40.332955 133.256901 \nL 54.423864 133.256901 \nL 54.423864 102.006541 \nL 40.332955 102.006541 \nz\n\" style=\"fill:#1f77b4;\"/>\n   </g>\n   <g id=\"patch_4\">\n    <path clip-path=\"url(#p60c0b08a9c)\" d=\"M 54.423864 133.256901 \nL 68.514773 133.256901 \nL 68.514773 45.458272 \nL 54.423864 45.458272 \nz\n\" style=\"fill:#1f77b4;\"/>\n   </g>\n   <g id=\"patch_5\">\n    <path clip-path=\"url(#p60c0b08a9c)\" d=\"M 68.514773 133.256901 \nL 82.605682 133.256901 \nL 82.605682 27.600924 \nL 68.514773 27.600924 \nz\n\" style=\"fill:#1f77b4;\"/>\n   </g>\n   <g id=\"patch_6\">\n    <path clip-path=\"url(#p60c0b08a9c)\" d=\"M 82.605682 133.256901 \nL 96.696591 133.256901 \nL 96.696591 64.059676 \nL 82.605682 64.059676 \nz\n\" style=\"fill:#1f77b4;\"/>\n   </g>\n   <g id=\"patch_7\">\n    <path clip-path=\"url(#p60c0b08a9c)\" d=\"M 96.696591 133.256901 \nL 110.7875 133.256901 \nL 110.7875 92.333811 \nL 96.696591 92.333811 \nz\n\" style=\"fill:#1f77b4;\"/>\n   </g>\n   <g id=\"patch_8\">\n    <path clip-path=\"url(#p60c0b08a9c)\" d=\"M 110.7875 133.256901 \nL 124.878409 133.256901 \nL 124.878409 113.167384 \nL 110.7875 113.167384 \nz\n\" style=\"fill:#1f77b4;\"/>\n   </g>\n   <g id=\"patch_9\">\n    <path clip-path=\"url(#p60c0b08a9c)\" d=\"M 124.878409 133.256901 \nL 138.969318 133.256901 \nL 138.969318 125.816339 \nL 124.878409 125.816339 \nz\n\" style=\"fill:#1f77b4;\"/>\n   </g>\n   <g id=\"patch_10\">\n    <path clip-path=\"url(#p60c0b08a9c)\" d=\"M 138.969318 133.256901 \nL 153.060227 133.256901 \nL 153.060227 131.024732 \nL 138.969318 131.024732 \nz\n\" style=\"fill:#1f77b4;\"/>\n   </g>\n   <g id=\"patch_11\">\n    <path clip-path=\"url(#p60c0b08a9c)\" d=\"M 153.060227 133.256901 \nL 167.151136 133.256901 \nL 167.151136 131.024732 \nL 153.060227 131.024732 \nz\n\" style=\"fill:#1f77b4;\"/>\n   </g>\n   <g id=\"patch_12\">\n    <path clip-path=\"url(#p60c0b08a9c)\" d=\"M 167.151136 133.256901 \nL 181.242045 133.256901 \nL 181.242045 130.280676 \nL 167.151136 130.280676 \nz\n\" style=\"fill:#1f77b4;\"/>\n   </g>\n   <g id=\"matplotlib.axis_1\">\n    <g id=\"xtick_1\">\n     <g id=\"line2d_1\">\n      <path clip-path=\"url(#p60c0b08a9c)\" d=\"M 60.796186 133.256901 \nL 60.796186 22.318125 \n\" style=\"fill:none;stroke:#b0b0b0;stroke-linecap:square;stroke-width:0.8;\"/>\n     </g>\n     <g id=\"line2d_2\">\n      <defs>\n       <path d=\"M 0 0 \nL 0 3.5 \n\" id=\"m7988bf331b\" style=\"stroke:#000000;stroke-width:0.8;\"/>\n      </defs>\n      <g>\n       <use style=\"stroke:#000000;stroke-width:0.8;\" x=\"60.796186\" xlink:href=\"#m7988bf331b\" y=\"133.256901\"/>\n      </g>\n     </g>\n     <g id=\"text_1\">\n      <!-- 10 -->\n      <defs>\n       <path d=\"M 12.40625 8.296875 \nL 28.515625 8.296875 \nL 28.515625 63.921875 \nL 10.984375 60.40625 \nL 10.984375 69.390625 \nL 28.421875 72.90625 \nL 38.28125 72.90625 \nL 38.28125 8.296875 \nL 54.390625 8.296875 \nL 54.390625 0 \nL 12.40625 0 \nz\n\" id=\"DejaVuSans-49\"/>\n       <path d=\"M 31.78125 66.40625 \nQ 24.171875 66.40625 20.328125 58.90625 \nQ 16.5 51.421875 16.5 36.375 \nQ 16.5 21.390625 20.328125 13.890625 \nQ 24.171875 6.390625 31.78125 6.390625 \nQ 39.453125 6.390625 43.28125 13.890625 \nQ 47.125 21.390625 47.125 36.375 \nQ 47.125 51.421875 43.28125 58.90625 \nQ 39.453125 66.40625 31.78125 66.40625 \nz\nM 31.78125 74.21875 \nQ 44.046875 74.21875 50.515625 64.515625 \nQ 56.984375 54.828125 56.984375 36.375 \nQ 56.984375 17.96875 50.515625 8.265625 \nQ 44.046875 -1.421875 31.78125 -1.421875 \nQ 19.53125 -1.421875 13.0625 8.265625 \nQ 6.59375 17.96875 6.59375 36.375 \nQ 6.59375 54.828125 13.0625 64.515625 \nQ 19.53125 74.21875 31.78125 74.21875 \nz\n\" id=\"DejaVuSans-48\"/>\n      </defs>\n      <g transform=\"translate(54.433686 147.855338)scale(0.1 -0.1)\">\n       <use xlink:href=\"#DejaVuSans-49\"/>\n       <use x=\"63.623047\" xlink:href=\"#DejaVuSans-48\"/>\n      </g>\n     </g>\n    </g>\n    <g id=\"xtick_2\">\n     <g id=\"line2d_3\">\n      <path clip-path=\"url(#p60c0b08a9c)\" d=\"M 96.696591 133.256901 \nL 96.696591 22.318125 \n\" style=\"fill:none;stroke:#b0b0b0;stroke-linecap:square;stroke-width:0.8;\"/>\n     </g>\n     <g id=\"line2d_4\">\n      <g>\n       <use style=\"stroke:#000000;stroke-width:0.8;\" x=\"96.696591\" xlink:href=\"#m7988bf331b\" y=\"133.256901\"/>\n      </g>\n     </g>\n     <g id=\"text_2\">\n      <!-- 20 -->\n      <defs>\n       <path d=\"M 19.1875 8.296875 \nL 53.609375 8.296875 \nL 53.609375 0 \nL 7.328125 0 \nL 7.328125 8.296875 \nQ 12.9375 14.109375 22.625 23.890625 \nQ 32.328125 33.6875 34.8125 36.53125 \nQ 39.546875 41.84375 41.421875 45.53125 \nQ 43.3125 49.21875 43.3125 52.78125 \nQ 43.3125 58.59375 39.234375 62.25 \nQ 35.15625 65.921875 28.609375 65.921875 \nQ 23.96875 65.921875 18.8125 64.3125 \nQ 13.671875 62.703125 7.8125 59.421875 \nL 7.8125 69.390625 \nQ 13.765625 71.78125 18.9375 73 \nQ 24.125 74.21875 28.421875 74.21875 \nQ 39.75 74.21875 46.484375 68.546875 \nQ 53.21875 62.890625 53.21875 53.421875 \nQ 53.21875 48.921875 51.53125 44.890625 \nQ 49.859375 40.875 45.40625 35.40625 \nQ 44.1875 33.984375 37.640625 27.21875 \nQ 31.109375 20.453125 19.1875 8.296875 \nz\n\" id=\"DejaVuSans-50\"/>\n      </defs>\n      <g transform=\"translate(90.334091 147.855338)scale(0.1 -0.1)\">\n       <use xlink:href=\"#DejaVuSans-50\"/>\n       <use x=\"63.623047\" xlink:href=\"#DejaVuSans-48\"/>\n      </g>\n     </g>\n    </g>\n    <g id=\"xtick_3\">\n     <g id=\"line2d_5\">\n      <path clip-path=\"url(#p60c0b08a9c)\" d=\"M 132.596996 133.256901 \nL 132.596996 22.318125 \n\" style=\"fill:none;stroke:#b0b0b0;stroke-linecap:square;stroke-width:0.8;\"/>\n     </g>\n     <g id=\"line2d_6\">\n      <g>\n       <use style=\"stroke:#000000;stroke-width:0.8;\" x=\"132.596996\" xlink:href=\"#m7988bf331b\" y=\"133.256901\"/>\n      </g>\n     </g>\n     <g id=\"text_3\">\n      <!-- 30 -->\n      <defs>\n       <path d=\"M 40.578125 39.3125 \nQ 47.65625 37.796875 51.625 33 \nQ 55.609375 28.21875 55.609375 21.1875 \nQ 55.609375 10.40625 48.1875 4.484375 \nQ 40.765625 -1.421875 27.09375 -1.421875 \nQ 22.515625 -1.421875 17.65625 -0.515625 \nQ 12.796875 0.390625 7.625 2.203125 \nL 7.625 11.71875 \nQ 11.71875 9.328125 16.59375 8.109375 \nQ 21.484375 6.890625 26.8125 6.890625 \nQ 36.078125 6.890625 40.9375 10.546875 \nQ 45.796875 14.203125 45.796875 21.1875 \nQ 45.796875 27.640625 41.28125 31.265625 \nQ 36.765625 34.90625 28.71875 34.90625 \nL 20.21875 34.90625 \nL 20.21875 43.015625 \nL 29.109375 43.015625 \nQ 36.375 43.015625 40.234375 45.921875 \nQ 44.09375 48.828125 44.09375 54.296875 \nQ 44.09375 59.90625 40.109375 62.90625 \nQ 36.140625 65.921875 28.71875 65.921875 \nQ 24.65625 65.921875 20.015625 65.03125 \nQ 15.375 64.15625 9.8125 62.3125 \nL 9.8125 71.09375 \nQ 15.4375 72.65625 20.34375 73.4375 \nQ 25.25 74.21875 29.59375 74.21875 \nQ 40.828125 74.21875 47.359375 69.109375 \nQ 53.90625 64.015625 53.90625 55.328125 \nQ 53.90625 49.265625 50.4375 45.09375 \nQ 46.96875 40.921875 40.578125 39.3125 \nz\n\" id=\"DejaVuSans-51\"/>\n      </defs>\n      <g transform=\"translate(126.234496 147.855338)scale(0.1 -0.1)\">\n       <use xlink:href=\"#DejaVuSans-51\"/>\n       <use x=\"63.623047\" xlink:href=\"#DejaVuSans-48\"/>\n      </g>\n     </g>\n    </g>\n    <g id=\"xtick_4\">\n     <g id=\"line2d_7\">\n      <path clip-path=\"url(#p60c0b08a9c)\" d=\"M 168.497402 133.256901 \nL 168.497402 22.318125 \n\" style=\"fill:none;stroke:#b0b0b0;stroke-linecap:square;stroke-width:0.8;\"/>\n     </g>\n     <g id=\"line2d_8\">\n      <g>\n       <use style=\"stroke:#000000;stroke-width:0.8;\" x=\"168.497402\" xlink:href=\"#m7988bf331b\" y=\"133.256901\"/>\n      </g>\n     </g>\n     <g id=\"text_4\">\n      <!-- 40 -->\n      <defs>\n       <path d=\"M 37.796875 64.3125 \nL 12.890625 25.390625 \nL 37.796875 25.390625 \nz\nM 35.203125 72.90625 \nL 47.609375 72.90625 \nL 47.609375 25.390625 \nL 58.015625 25.390625 \nL 58.015625 17.1875 \nL 47.609375 17.1875 \nL 47.609375 0 \nL 37.796875 0 \nL 37.796875 17.1875 \nL 4.890625 17.1875 \nL 4.890625 26.703125 \nz\n\" id=\"DejaVuSans-52\"/>\n      </defs>\n      <g transform=\"translate(162.134902 147.855338)scale(0.1 -0.1)\">\n       <use xlink:href=\"#DejaVuSans-52\"/>\n       <use x=\"63.623047\" xlink:href=\"#DejaVuSans-48\"/>\n      </g>\n     </g>\n    </g>\n   </g>\n   <g id=\"matplotlib.axis_2\">\n    <g id=\"ytick_1\">\n     <g id=\"line2d_9\">\n      <path clip-path=\"url(#p60c0b08a9c)\" d=\"M 33.2875 133.256901 \nL 188.2875 133.256901 \n\" style=\"fill:none;stroke:#b0b0b0;stroke-linecap:square;stroke-width:0.8;\"/>\n     </g>\n     <g id=\"line2d_10\">\n      <defs>\n       <path d=\"M 0 0 \nL -3.5 0 \n\" id=\"mcfc6db74b8\" style=\"stroke:#000000;stroke-width:0.8;\"/>\n      </defs>\n      <g>\n       <use style=\"stroke:#000000;stroke-width:0.8;\" x=\"33.2875\" xlink:href=\"#mcfc6db74b8\" y=\"133.256901\"/>\n      </g>\n     </g>\n     <g id=\"text_5\">\n      <!-- 0 -->\n      <g transform=\"translate(19.925 137.056119)scale(0.1 -0.1)\">\n       <use xlink:href=\"#DejaVuSans-48\"/>\n      </g>\n     </g>\n    </g>\n    <g id=\"ytick_2\">\n     <g id=\"line2d_11\">\n      <path clip-path=\"url(#p60c0b08a9c)\" d=\"M 33.2875 96.054092 \nL 188.2875 96.054092 \n\" style=\"fill:none;stroke:#b0b0b0;stroke-linecap:square;stroke-width:0.8;\"/>\n     </g>\n     <g id=\"line2d_12\">\n      <g>\n       <use style=\"stroke:#000000;stroke-width:0.8;\" x=\"33.2875\" xlink:href=\"#mcfc6db74b8\" y=\"96.054092\"/>\n      </g>\n     </g>\n     <g id=\"text_6\">\n      <!-- 50 -->\n      <defs>\n       <path d=\"M 10.796875 72.90625 \nL 49.515625 72.90625 \nL 49.515625 64.59375 \nL 19.828125 64.59375 \nL 19.828125 46.734375 \nQ 21.96875 47.46875 24.109375 47.828125 \nQ 26.265625 48.1875 28.421875 48.1875 \nQ 40.625 48.1875 47.75 41.5 \nQ 54.890625 34.8125 54.890625 23.390625 \nQ 54.890625 11.625 47.5625 5.09375 \nQ 40.234375 -1.421875 26.90625 -1.421875 \nQ 22.3125 -1.421875 17.546875 -0.640625 \nQ 12.796875 0.140625 7.71875 1.703125 \nL 7.71875 11.625 \nQ 12.109375 9.234375 16.796875 8.0625 \nQ 21.484375 6.890625 26.703125 6.890625 \nQ 35.15625 6.890625 40.078125 11.328125 \nQ 45.015625 15.765625 45.015625 23.390625 \nQ 45.015625 31 40.078125 35.4375 \nQ 35.15625 39.890625 26.703125 39.890625 \nQ 22.75 39.890625 18.8125 39.015625 \nQ 14.890625 38.140625 10.796875 36.28125 \nz\n\" id=\"DejaVuSans-53\"/>\n      </defs>\n      <g transform=\"translate(13.5625 99.853311)scale(0.1 -0.1)\">\n       <use xlink:href=\"#DejaVuSans-53\"/>\n       <use x=\"63.623047\" xlink:href=\"#DejaVuSans-48\"/>\n      </g>\n     </g>\n    </g>\n    <g id=\"ytick_3\">\n     <g id=\"line2d_13\">\n      <path clip-path=\"url(#p60c0b08a9c)\" d=\"M 33.2875 58.851283 \nL 188.2875 58.851283 \n\" style=\"fill:none;stroke:#b0b0b0;stroke-linecap:square;stroke-width:0.8;\"/>\n     </g>\n     <g id=\"line2d_14\">\n      <g>\n       <use style=\"stroke:#000000;stroke-width:0.8;\" x=\"33.2875\" xlink:href=\"#mcfc6db74b8\" y=\"58.851283\"/>\n      </g>\n     </g>\n     <g id=\"text_7\">\n      <!-- 100 -->\n      <g transform=\"translate(7.2 62.650502)scale(0.1 -0.1)\">\n       <use xlink:href=\"#DejaVuSans-49\"/>\n       <use x=\"63.623047\" xlink:href=\"#DejaVuSans-48\"/>\n       <use x=\"127.246094\" xlink:href=\"#DejaVuSans-48\"/>\n      </g>\n     </g>\n    </g>\n   </g>\n   <g id=\"patch_13\">\n    <path d=\"M 33.2875 133.256901 \nL 33.2875 22.318125 \n\" style=\"fill:none;stroke:#000000;stroke-linecap:square;stroke-linejoin:miter;stroke-width:0.8;\"/>\n   </g>\n   <g id=\"patch_14\">\n    <path d=\"M 188.2875 133.256901 \nL 188.2875 22.318125 \n\" style=\"fill:none;stroke:#000000;stroke-linecap:square;stroke-linejoin:miter;stroke-width:0.8;\"/>\n   </g>\n   <g id=\"patch_15\">\n    <path d=\"M 33.2875 133.256901 \nL 188.2875 133.256901 \n\" style=\"fill:none;stroke:#000000;stroke-linecap:square;stroke-linejoin:miter;stroke-width:0.8;\"/>\n   </g>\n   <g id=\"patch_16\">\n    <path d=\"M 33.2875 22.318125 \nL 188.2875 22.318125 \n\" style=\"fill:none;stroke:#000000;stroke-linecap:square;stroke-linejoin:miter;stroke-width:0.8;\"/>\n   </g>\n   <g id=\"text_8\">\n    <!-- ACCESS2 -->\n    <defs>\n     <path d=\"M 34.1875 63.1875 \nL 20.796875 26.90625 \nL 47.609375 26.90625 \nz\nM 28.609375 72.90625 \nL 39.796875 72.90625 \nL 67.578125 0 \nL 57.328125 0 \nL 50.6875 18.703125 \nL 17.828125 18.703125 \nL 11.1875 0 \nL 0.78125 0 \nz\n\" id=\"DejaVuSans-65\"/>\n     <path d=\"M 64.40625 67.28125 \nL 64.40625 56.890625 \nQ 59.421875 61.53125 53.78125 63.8125 \nQ 48.140625 66.109375 41.796875 66.109375 \nQ 29.296875 66.109375 22.65625 58.46875 \nQ 16.015625 50.828125 16.015625 36.375 \nQ 16.015625 21.96875 22.65625 14.328125 \nQ 29.296875 6.6875 41.796875 6.6875 \nQ 48.140625 6.6875 53.78125 8.984375 \nQ 59.421875 11.28125 64.40625 15.921875 \nL 64.40625 5.609375 \nQ 59.234375 2.09375 53.4375 0.328125 \nQ 47.65625 -1.421875 41.21875 -1.421875 \nQ 24.65625 -1.421875 15.125 8.703125 \nQ 5.609375 18.84375 5.609375 36.375 \nQ 5.609375 53.953125 15.125 64.078125 \nQ 24.65625 74.21875 41.21875 74.21875 \nQ 47.75 74.21875 53.53125 72.484375 \nQ 59.328125 70.75 64.40625 67.28125 \nz\n\" id=\"DejaVuSans-67\"/>\n     <path d=\"M 9.8125 72.90625 \nL 55.90625 72.90625 \nL 55.90625 64.59375 \nL 19.671875 64.59375 \nL 19.671875 43.015625 \nL 54.390625 43.015625 \nL 54.390625 34.71875 \nL 19.671875 34.71875 \nL 19.671875 8.296875 \nL 56.78125 8.296875 \nL 56.78125 0 \nL 9.8125 0 \nz\n\" id=\"DejaVuSans-69\"/>\n     <path d=\"M 53.515625 70.515625 \nL 53.515625 60.890625 \nQ 47.90625 63.578125 42.921875 64.890625 \nQ 37.9375 66.21875 33.296875 66.21875 \nQ 25.25 66.21875 20.875 63.09375 \nQ 16.5 59.96875 16.5 54.203125 \nQ 16.5 49.359375 19.40625 46.890625 \nQ 22.3125 44.4375 30.421875 42.921875 \nL 36.375 41.703125 \nQ 47.40625 39.59375 52.65625 34.296875 \nQ 57.90625 29 57.90625 20.125 \nQ 57.90625 9.515625 50.796875 4.046875 \nQ 43.703125 -1.421875 29.984375 -1.421875 \nQ 24.8125 -1.421875 18.96875 -0.25 \nQ 13.140625 0.921875 6.890625 3.21875 \nL 6.890625 13.375 \nQ 12.890625 10.015625 18.65625 8.296875 \nQ 24.421875 6.59375 29.984375 6.59375 \nQ 38.421875 6.59375 43.015625 9.90625 \nQ 47.609375 13.234375 47.609375 19.390625 \nQ 47.609375 24.75 44.3125 27.78125 \nQ 41.015625 30.8125 33.5 32.328125 \nL 27.484375 33.5 \nQ 16.453125 35.6875 11.515625 40.375 \nQ 6.59375 45.0625 6.59375 53.421875 \nQ 6.59375 63.09375 13.40625 68.65625 \nQ 20.21875 74.21875 32.171875 74.21875 \nQ 37.3125 74.21875 42.625 73.28125 \nQ 47.953125 72.359375 53.515625 70.515625 \nz\n\" id=\"DejaVuSans-83\"/>\n    </defs>\n    <g transform=\"translate(83.181875 16.318125)scale(0.12 -0.12)\">\n     <use xlink:href=\"#DejaVuSans-65\"/>\n     <use x=\"66.658203\" xlink:href=\"#DejaVuSans-67\"/>\n     <use x=\"136.482422\" xlink:href=\"#DejaVuSans-67\"/>\n     <use x=\"206.306641\" xlink:href=\"#DejaVuSans-69\"/>\n     <use x=\"269.490234\" xlink:href=\"#DejaVuSans-83\"/>\n     <use x=\"332.966797\" xlink:href=\"#DejaVuSans-83\"/>\n     <use x=\"396.443359\" xlink:href=\"#DejaVuSans-50\"/>\n    </g>\n   </g>\n  </g>\n  <g id=\"axes_2\">\n   <g id=\"patch_17\">\n    <path d=\"M 234.7875 133.256901 \nL 389.7875 133.256901 \nL 389.7875 22.318125 \nL 234.7875 22.318125 \nz\n\" style=\"fill:#ffffff;\"/>\n   </g>\n   <g id=\"patch_18\">\n    <path clip-path=\"url(#p7ab34f79c0)\" d=\"M 241.832955 133.256901 \nL 255.923864 133.256901 \nL 255.923864 123.453769 \nL 241.832955 123.453769 \nz\n\" style=\"fill:#1f77b4;\"/>\n   </g>\n   <g id=\"patch_19\">\n    <path clip-path=\"url(#p7ab34f79c0)\" d=\"M 255.923864 133.256901 \nL 270.014773 133.256901 \nL 270.014773 87.508952 \nL 255.923864 87.508952 \nz\n\" style=\"fill:#1f77b4;\"/>\n   </g>\n   <g id=\"patch_20\">\n    <path clip-path=\"url(#p7ab34f79c0)\" d=\"M 270.014773 133.256901 \nL 284.105682 133.256901 \nL 284.105682 27.600924 \nL 270.014773 27.600924 \nz\n\" style=\"fill:#1f77b4;\"/>\n   </g>\n   <g id=\"patch_21\">\n    <path clip-path=\"url(#p7ab34f79c0)\" d=\"M 284.105682 133.256901 \nL 298.196591 133.256901 \nL 298.196591 27.600924 \nL 284.105682 27.600924 \nz\n\" style=\"fill:#1f77b4;\"/>\n   </g>\n   <g id=\"patch_22\">\n    <path clip-path=\"url(#p7ab34f79c0)\" d=\"M 298.196591 133.256901 \nL 312.2875 133.256901 \nL 312.2875 46.117951 \nL 298.196591 46.117951 \nz\n\" style=\"fill:#1f77b4;\"/>\n   </g>\n   <g id=\"patch_23\">\n    <path clip-path=\"url(#p7ab34f79c0)\" d=\"M 312.2875 133.256901 \nL 326.378409 133.256901 \nL 326.378409 45.028714 \nL 312.2875 45.028714 \nz\n\" style=\"fill:#1f77b4;\"/>\n   </g>\n   <g id=\"patch_24\">\n    <path clip-path=\"url(#p7ab34f79c0)\" d=\"M 326.378409 133.256901 \nL 340.469318 133.256901 \nL 340.469318 78.795057 \nL 326.378409 78.795057 \nz\n\" style=\"fill:#1f77b4;\"/>\n   </g>\n   <g id=\"patch_25\">\n    <path clip-path=\"url(#p7ab34f79c0)\" d=\"M 340.469318 133.256901 \nL 354.560227 133.256901 \nL 354.560227 103.847505 \nL 340.469318 103.847505 \nz\n\" style=\"fill:#1f77b4;\"/>\n   </g>\n   <g id=\"patch_26\">\n    <path clip-path=\"url(#p7ab34f79c0)\" d=\"M 354.560227 133.256901 \nL 368.651136 133.256901 \nL 368.651136 122.364532 \nL 354.560227 122.364532 \nz\n\" style=\"fill:#1f77b4;\"/>\n   </g>\n   <g id=\"patch_27\">\n    <path clip-path=\"url(#p7ab34f79c0)\" d=\"M 368.651136 133.256901 \nL 382.742045 133.256901 \nL 382.742045 128.899953 \nL 368.651136 128.899953 \nz\n\" style=\"fill:#1f77b4;\"/>\n   </g>\n   <g id=\"matplotlib.axis_3\">\n    <g id=\"xtick_5\">\n     <g id=\"line2d_15\">\n      <path clip-path=\"url(#p7ab34f79c0)\" d=\"M 251.539281 133.256901 \nL 251.539281 22.318125 \n\" style=\"fill:none;stroke:#b0b0b0;stroke-linecap:square;stroke-width:0.8;\"/>\n     </g>\n     <g id=\"line2d_16\">\n      <g>\n       <use style=\"stroke:#000000;stroke-width:0.8;\" x=\"251.539281\" xlink:href=\"#m7988bf331b\" y=\"133.256901\"/>\n      </g>\n     </g>\n     <g id=\"text_9\">\n      <!-- 15 -->\n      <g transform=\"translate(245.176781 147.855338)scale(0.1 -0.1)\">\n       <use xlink:href=\"#DejaVuSans-49\"/>\n       <use x=\"63.623047\" xlink:href=\"#DejaVuSans-53\"/>\n      </g>\n     </g>\n    </g>\n    <g id=\"xtick_6\">\n     <g id=\"line2d_17\">\n      <path clip-path=\"url(#p7ab34f79c0)\" d=\"M 285.009374 133.256901 \nL 285.009374 22.318125 \n\" style=\"fill:none;stroke:#b0b0b0;stroke-linecap:square;stroke-width:0.8;\"/>\n     </g>\n     <g id=\"line2d_18\">\n      <g>\n       <use style=\"stroke:#000000;stroke-width:0.8;\" x=\"285.009374\" xlink:href=\"#m7988bf331b\" y=\"133.256901\"/>\n      </g>\n     </g>\n     <g id=\"text_10\">\n      <!-- 20 -->\n      <g transform=\"translate(278.646874 147.855338)scale(0.1 -0.1)\">\n       <use xlink:href=\"#DejaVuSans-50\"/>\n       <use x=\"63.623047\" xlink:href=\"#DejaVuSans-48\"/>\n      </g>\n     </g>\n    </g>\n    <g id=\"xtick_7\">\n     <g id=\"line2d_19\">\n      <path clip-path=\"url(#p7ab34f79c0)\" d=\"M 318.479467 133.256901 \nL 318.479467 22.318125 \n\" style=\"fill:none;stroke:#b0b0b0;stroke-linecap:square;stroke-width:0.8;\"/>\n     </g>\n     <g id=\"line2d_20\">\n      <g>\n       <use style=\"stroke:#000000;stroke-width:0.8;\" x=\"318.479467\" xlink:href=\"#m7988bf331b\" y=\"133.256901\"/>\n      </g>\n     </g>\n     <g id=\"text_11\">\n      <!-- 25 -->\n      <g transform=\"translate(312.116967 147.855338)scale(0.1 -0.1)\">\n       <use xlink:href=\"#DejaVuSans-50\"/>\n       <use x=\"63.623047\" xlink:href=\"#DejaVuSans-53\"/>\n      </g>\n     </g>\n    </g>\n    <g id=\"xtick_8\">\n     <g id=\"line2d_21\">\n      <path clip-path=\"url(#p7ab34f79c0)\" d=\"M 351.94956 133.256901 \nL 351.94956 22.318125 \n\" style=\"fill:none;stroke:#b0b0b0;stroke-linecap:square;stroke-width:0.8;\"/>\n     </g>\n     <g id=\"line2d_22\">\n      <g>\n       <use style=\"stroke:#000000;stroke-width:0.8;\" x=\"351.94956\" xlink:href=\"#m7988bf331b\" y=\"133.256901\"/>\n      </g>\n     </g>\n     <g id=\"text_12\">\n      <!-- 30 -->\n      <g transform=\"translate(345.58706 147.855338)scale(0.1 -0.1)\">\n       <use xlink:href=\"#DejaVuSans-51\"/>\n       <use x=\"63.623047\" xlink:href=\"#DejaVuSans-48\"/>\n      </g>\n     </g>\n    </g>\n    <g id=\"xtick_9\">\n     <g id=\"line2d_23\">\n      <path clip-path=\"url(#p7ab34f79c0)\" d=\"M 385.419653 133.256901 \nL 385.419653 22.318125 \n\" style=\"fill:none;stroke:#b0b0b0;stroke-linecap:square;stroke-width:0.8;\"/>\n     </g>\n     <g id=\"line2d_24\">\n      <g>\n       <use style=\"stroke:#000000;stroke-width:0.8;\" x=\"385.419653\" xlink:href=\"#m7988bf331b\" y=\"133.256901\"/>\n      </g>\n     </g>\n     <g id=\"text_13\">\n      <!-- 35 -->\n      <g transform=\"translate(379.057153 147.855338)scale(0.1 -0.1)\">\n       <use xlink:href=\"#DejaVuSans-51\"/>\n       <use x=\"63.623047\" xlink:href=\"#DejaVuSans-53\"/>\n      </g>\n     </g>\n    </g>\n   </g>\n   <g id=\"matplotlib.axis_4\">\n    <g id=\"ytick_4\">\n     <g id=\"line2d_25\">\n      <path clip-path=\"url(#p7ab34f79c0)\" d=\"M 234.7875 133.256901 \nL 389.7875 133.256901 \n\" style=\"fill:none;stroke:#b0b0b0;stroke-linecap:square;stroke-width:0.8;\"/>\n     </g>\n     <g id=\"line2d_26\">\n      <g>\n       <use style=\"stroke:#000000;stroke-width:0.8;\" x=\"234.7875\" xlink:href=\"#mcfc6db74b8\" y=\"133.256901\"/>\n      </g>\n     </g>\n     <g id=\"text_14\">\n      <!-- 0 -->\n      <g transform=\"translate(221.425 137.056119)scale(0.1 -0.1)\">\n       <use xlink:href=\"#DejaVuSans-48\"/>\n      </g>\n     </g>\n    </g>\n    <g id=\"ytick_5\">\n     <g id=\"line2d_27\">\n      <path clip-path=\"url(#p7ab34f79c0)\" d=\"M 234.7875 106.025979 \nL 389.7875 106.025979 \n\" style=\"fill:none;stroke:#b0b0b0;stroke-linecap:square;stroke-width:0.8;\"/>\n     </g>\n     <g id=\"line2d_28\">\n      <g>\n       <use style=\"stroke:#000000;stroke-width:0.8;\" x=\"234.7875\" xlink:href=\"#mcfc6db74b8\" y=\"106.025979\"/>\n      </g>\n     </g>\n     <g id=\"text_15\">\n      <!-- 25 -->\n      <g transform=\"translate(215.0625 109.825197)scale(0.1 -0.1)\">\n       <use xlink:href=\"#DejaVuSans-50\"/>\n       <use x=\"63.623047\" xlink:href=\"#DejaVuSans-53\"/>\n      </g>\n     </g>\n    </g>\n    <g id=\"ytick_6\">\n     <g id=\"line2d_29\">\n      <path clip-path=\"url(#p7ab34f79c0)\" d=\"M 234.7875 78.795057 \nL 389.7875 78.795057 \n\" style=\"fill:none;stroke:#b0b0b0;stroke-linecap:square;stroke-width:0.8;\"/>\n     </g>\n     <g id=\"line2d_30\">\n      <g>\n       <use style=\"stroke:#000000;stroke-width:0.8;\" x=\"234.7875\" xlink:href=\"#mcfc6db74b8\" y=\"78.795057\"/>\n      </g>\n     </g>\n     <g id=\"text_16\">\n      <!-- 50 -->\n      <g transform=\"translate(215.0625 82.594276)scale(0.1 -0.1)\">\n       <use xlink:href=\"#DejaVuSans-53\"/>\n       <use x=\"63.623047\" xlink:href=\"#DejaVuSans-48\"/>\n      </g>\n     </g>\n    </g>\n    <g id=\"ytick_7\">\n     <g id=\"line2d_31\">\n      <path clip-path=\"url(#p7ab34f79c0)\" d=\"M 234.7875 51.564135 \nL 389.7875 51.564135 \n\" style=\"fill:none;stroke:#b0b0b0;stroke-linecap:square;stroke-width:0.8;\"/>\n     </g>\n     <g id=\"line2d_32\">\n      <g>\n       <use style=\"stroke:#000000;stroke-width:0.8;\" x=\"234.7875\" xlink:href=\"#mcfc6db74b8\" y=\"51.564135\"/>\n      </g>\n     </g>\n     <g id=\"text_17\">\n      <!-- 75 -->\n      <defs>\n       <path d=\"M 8.203125 72.90625 \nL 55.078125 72.90625 \nL 55.078125 68.703125 \nL 28.609375 0 \nL 18.3125 0 \nL 43.21875 64.59375 \nL 8.203125 64.59375 \nz\n\" id=\"DejaVuSans-55\"/>\n      </defs>\n      <g transform=\"translate(215.0625 55.363354)scale(0.1 -0.1)\">\n       <use xlink:href=\"#DejaVuSans-55\"/>\n       <use x=\"63.623047\" xlink:href=\"#DejaVuSans-53\"/>\n      </g>\n     </g>\n    </g>\n    <g id=\"ytick_8\">\n     <g id=\"line2d_33\">\n      <path clip-path=\"url(#p7ab34f79c0)\" d=\"M 234.7875 24.333213 \nL 389.7875 24.333213 \n\" style=\"fill:none;stroke:#b0b0b0;stroke-linecap:square;stroke-width:0.8;\"/>\n     </g>\n     <g id=\"line2d_34\">\n      <g>\n       <use style=\"stroke:#000000;stroke-width:0.8;\" x=\"234.7875\" xlink:href=\"#mcfc6db74b8\" y=\"24.333213\"/>\n      </g>\n     </g>\n     <g id=\"text_18\">\n      <!-- 100 -->\n      <g transform=\"translate(208.7 28.132432)scale(0.1 -0.1)\">\n       <use xlink:href=\"#DejaVuSans-49\"/>\n       <use x=\"63.623047\" xlink:href=\"#DejaVuSans-48\"/>\n       <use x=\"127.246094\" xlink:href=\"#DejaVuSans-48\"/>\n      </g>\n     </g>\n    </g>\n   </g>\n   <g id=\"patch_28\">\n    <path d=\"M 234.7875 133.256901 \nL 234.7875 22.318125 \n\" style=\"fill:none;stroke:#000000;stroke-linecap:square;stroke-linejoin:miter;stroke-width:0.8;\"/>\n   </g>\n   <g id=\"patch_29\">\n    <path d=\"M 389.7875 133.256901 \nL 389.7875 22.318125 \n\" style=\"fill:none;stroke:#000000;stroke-linecap:square;stroke-linejoin:miter;stroke-width:0.8;\"/>\n   </g>\n   <g id=\"patch_30\">\n    <path d=\"M 234.7875 133.256901 \nL 389.7875 133.256901 \n\" style=\"fill:none;stroke:#000000;stroke-linecap:square;stroke-linejoin:miter;stroke-width:0.8;\"/>\n   </g>\n   <g id=\"patch_31\">\n    <path d=\"M 234.7875 22.318125 \nL 389.7875 22.318125 \n\" style=\"fill:none;stroke:#000000;stroke-linecap:square;stroke-linejoin:miter;stroke-width:0.8;\"/>\n   </g>\n   <g id=\"text_19\">\n    <!-- ARTHRITIS -->\n    <defs>\n     <path d=\"M 44.390625 34.1875 \nQ 47.5625 33.109375 50.5625 29.59375 \nQ 53.5625 26.078125 56.59375 19.921875 \nL 66.609375 0 \nL 56 0 \nL 46.6875 18.703125 \nQ 43.0625 26.03125 39.671875 28.421875 \nQ 36.28125 30.8125 30.421875 30.8125 \nL 19.671875 30.8125 \nL 19.671875 0 \nL 9.8125 0 \nL 9.8125 72.90625 \nL 32.078125 72.90625 \nQ 44.578125 72.90625 50.734375 67.671875 \nQ 56.890625 62.453125 56.890625 51.90625 \nQ 56.890625 45.015625 53.6875 40.46875 \nQ 50.484375 35.9375 44.390625 34.1875 \nz\nM 19.671875 64.796875 \nL 19.671875 38.921875 \nL 32.078125 38.921875 \nQ 39.203125 38.921875 42.84375 42.21875 \nQ 46.484375 45.515625 46.484375 51.90625 \nQ 46.484375 58.296875 42.84375 61.546875 \nQ 39.203125 64.796875 32.078125 64.796875 \nz\n\" id=\"DejaVuSans-82\"/>\n     <path d=\"M -0.296875 72.90625 \nL 61.375 72.90625 \nL 61.375 64.59375 \nL 35.5 64.59375 \nL 35.5 0 \nL 25.59375 0 \nL 25.59375 64.59375 \nL -0.296875 64.59375 \nz\n\" id=\"DejaVuSans-84\"/>\n     <path d=\"M 9.8125 72.90625 \nL 19.671875 72.90625 \nL 19.671875 43.015625 \nL 55.515625 43.015625 \nL 55.515625 72.90625 \nL 65.375 72.90625 \nL 65.375 0 \nL 55.515625 0 \nL 55.515625 34.71875 \nL 19.671875 34.71875 \nL 19.671875 0 \nL 9.8125 0 \nz\n\" id=\"DejaVuSans-72\"/>\n     <path d=\"M 9.8125 72.90625 \nL 19.671875 72.90625 \nL 19.671875 0 \nL 9.8125 0 \nz\n\" id=\"DejaVuSans-73\"/>\n    </defs>\n    <g transform=\"translate(281.089375 16.318125)scale(0.12 -0.12)\">\n     <use xlink:href=\"#DejaVuSans-65\"/>\n     <use x=\"68.408203\" xlink:href=\"#DejaVuSans-82\"/>\n     <use x=\"130.640625\" xlink:href=\"#DejaVuSans-84\"/>\n     <use x=\"191.724609\" xlink:href=\"#DejaVuSans-72\"/>\n     <use x=\"266.919922\" xlink:href=\"#DejaVuSans-82\"/>\n     <use x=\"336.402344\" xlink:href=\"#DejaVuSans-73\"/>\n     <use x=\"365.894531\" xlink:href=\"#DejaVuSans-84\"/>\n     <use x=\"426.978516\" xlink:href=\"#DejaVuSans-73\"/>\n     <use x=\"456.470703\" xlink:href=\"#DejaVuSans-83\"/>\n    </g>\n   </g>\n  </g>\n  <g id=\"axes_3\">\n   <g id=\"patch_32\">\n    <path d=\"M 436.2875 133.256901 \nL 591.2875 133.256901 \nL 591.2875 22.318125 \nL 436.2875 22.318125 \nz\n\" style=\"fill:#ffffff;\"/>\n   </g>\n   <g id=\"patch_33\">\n    <path clip-path=\"url(#p74f5323712)\" d=\"M 443.332955 133.256901 \nL 457.423864 133.256901 \nL 457.423864 125.332702 \nL 443.332955 125.332702 \nz\n\" style=\"fill:#1f77b4;\"/>\n   </g>\n   <g id=\"patch_34\">\n    <path clip-path=\"url(#p74f5323712)\" d=\"M 457.423864 133.256901 \nL 471.514773 133.256901 \nL 471.514773 109.484306 \nL 457.423864 109.484306 \nz\n\" style=\"fill:#1f77b4;\"/>\n   </g>\n   <g id=\"patch_35\">\n    <path clip-path=\"url(#p74f5323712)\" d=\"M 471.514773 133.256901 \nL 485.605682 133.256901 \nL 485.605682 82.189845 \nL 471.514773 82.189845 \nz\n\" style=\"fill:#1f77b4;\"/>\n   </g>\n   <g id=\"patch_36\">\n    <path clip-path=\"url(#p74f5323712)\" d=\"M 485.605682 133.256901 \nL 499.696591 133.256901 \nL 499.696591 61.939116 \nL 485.605682 61.939116 \nz\n\" style=\"fill:#1f77b4;\"/>\n   </g>\n   <g id=\"patch_37\">\n    <path clip-path=\"url(#p74f5323712)\" d=\"M 499.696591 133.256901 \nL 513.7875 133.256901 \nL 513.7875 27.600924 \nL 499.696591 27.600924 \nz\n\" style=\"fill:#1f77b4;\"/>\n   </g>\n   <g id=\"patch_38\">\n    <path clip-path=\"url(#p74f5323712)\" d=\"M 513.7875 133.256901 \nL 527.878409 133.256901 \nL 527.878409 46.09072 \nL 513.7875 46.09072 \nz\n\" style=\"fill:#1f77b4;\"/>\n   </g>\n   <g id=\"patch_39\">\n    <path clip-path=\"url(#p74f5323712)\" d=\"M 527.878409 133.256901 \nL 541.969318 133.256901 \nL 541.969318 80.428912 \nL 527.878409 80.428912 \nz\n\" style=\"fill:#1f77b4;\"/>\n   </g>\n   <g id=\"patch_40\">\n    <path clip-path=\"url(#p74f5323712)\" d=\"M 541.969318 133.256901 \nL 556.060227 133.256901 \nL 556.060227 108.603839 \nL 541.969318 108.603839 \nz\n\" style=\"fill:#1f77b4;\"/>\n   </g>\n   <g id=\"patch_41\">\n    <path clip-path=\"url(#p74f5323712)\" d=\"M 556.060227 133.256901 \nL 570.151136 133.256901 \nL 570.151136 123.571769 \nL 556.060227 123.571769 \nz\n\" style=\"fill:#1f77b4;\"/>\n   </g>\n   <g id=\"patch_42\">\n    <path clip-path=\"url(#p74f5323712)\" d=\"M 570.151136 133.256901 \nL 584.242045 133.256901 \nL 584.242045 129.735035 \nL 570.151136 129.735035 \nz\n\" style=\"fill:#1f77b4;\"/>\n   </g>\n   <g id=\"matplotlib.axis_5\">\n    <g id=\"xtick_10\">\n     <g id=\"line2d_35\">\n      <path clip-path=\"url(#p74f5323712)\" d=\"M 441.454167 133.256901 \nL 441.454167 22.318125 \n\" style=\"fill:none;stroke:#b0b0b0;stroke-linecap:square;stroke-width:0.8;\"/>\n     </g>\n     <g id=\"line2d_36\">\n      <g>\n       <use style=\"stroke:#000000;stroke-width:0.8;\" x=\"441.454167\" xlink:href=\"#m7988bf331b\" y=\"133.256901\"/>\n      </g>\n     </g>\n     <g id=\"text_20\">\n      <!-- 4 -->\n      <g transform=\"translate(438.272917 147.855338)scale(0.1 -0.1)\">\n       <use xlink:href=\"#DejaVuSans-52\"/>\n      </g>\n     </g>\n    </g>\n    <g id=\"xtick_11\">\n     <g id=\"line2d_37\">\n      <path clip-path=\"url(#p74f5323712)\" d=\"M 479.029924 133.256901 \nL 479.029924 22.318125 \n\" style=\"fill:none;stroke:#b0b0b0;stroke-linecap:square;stroke-width:0.8;\"/>\n     </g>\n     <g id=\"line2d_38\">\n      <g>\n       <use style=\"stroke:#000000;stroke-width:0.8;\" x=\"479.029924\" xlink:href=\"#m7988bf331b\" y=\"133.256901\"/>\n      </g>\n     </g>\n     <g id=\"text_21\">\n      <!-- 5 -->\n      <g transform=\"translate(475.848674 147.855338)scale(0.1 -0.1)\">\n       <use xlink:href=\"#DejaVuSans-53\"/>\n      </g>\n     </g>\n    </g>\n    <g id=\"xtick_12\">\n     <g id=\"line2d_39\">\n      <path clip-path=\"url(#p74f5323712)\" d=\"M 516.605682 133.256901 \nL 516.605682 22.318125 \n\" style=\"fill:none;stroke:#b0b0b0;stroke-linecap:square;stroke-width:0.8;\"/>\n     </g>\n     <g id=\"line2d_40\">\n      <g>\n       <use style=\"stroke:#000000;stroke-width:0.8;\" x=\"516.605682\" xlink:href=\"#m7988bf331b\" y=\"133.256901\"/>\n      </g>\n     </g>\n     <g id=\"text_22\">\n      <!-- 6 -->\n      <defs>\n       <path d=\"M 33.015625 40.375 \nQ 26.375 40.375 22.484375 35.828125 \nQ 18.609375 31.296875 18.609375 23.390625 \nQ 18.609375 15.53125 22.484375 10.953125 \nQ 26.375 6.390625 33.015625 6.390625 \nQ 39.65625 6.390625 43.53125 10.953125 \nQ 47.40625 15.53125 47.40625 23.390625 \nQ 47.40625 31.296875 43.53125 35.828125 \nQ 39.65625 40.375 33.015625 40.375 \nz\nM 52.59375 71.296875 \nL 52.59375 62.3125 \nQ 48.875 64.0625 45.09375 64.984375 \nQ 41.3125 65.921875 37.59375 65.921875 \nQ 27.828125 65.921875 22.671875 59.328125 \nQ 17.53125 52.734375 16.796875 39.40625 \nQ 19.671875 43.65625 24.015625 45.921875 \nQ 28.375 48.1875 33.59375 48.1875 \nQ 44.578125 48.1875 50.953125 41.515625 \nQ 57.328125 34.859375 57.328125 23.390625 \nQ 57.328125 12.15625 50.6875 5.359375 \nQ 44.046875 -1.421875 33.015625 -1.421875 \nQ 20.359375 -1.421875 13.671875 8.265625 \nQ 6.984375 17.96875 6.984375 36.375 \nQ 6.984375 53.65625 15.1875 63.9375 \nQ 23.390625 74.21875 37.203125 74.21875 \nQ 40.921875 74.21875 44.703125 73.484375 \nQ 48.484375 72.75 52.59375 71.296875 \nz\n\" id=\"DejaVuSans-54\"/>\n      </defs>\n      <g transform=\"translate(513.424432 147.855338)scale(0.1 -0.1)\">\n       <use xlink:href=\"#DejaVuSans-54\"/>\n      </g>\n     </g>\n    </g>\n    <g id=\"xtick_13\">\n     <g id=\"line2d_41\">\n      <path clip-path=\"url(#p74f5323712)\" d=\"M 554.181439 133.256901 \nL 554.181439 22.318125 \n\" style=\"fill:none;stroke:#b0b0b0;stroke-linecap:square;stroke-width:0.8;\"/>\n     </g>\n     <g id=\"line2d_42\">\n      <g>\n       <use style=\"stroke:#000000;stroke-width:0.8;\" x=\"554.181439\" xlink:href=\"#m7988bf331b\" y=\"133.256901\"/>\n      </g>\n     </g>\n     <g id=\"text_23\">\n      <!-- 7 -->\n      <g transform=\"translate(551.000189 147.855338)scale(0.1 -0.1)\">\n       <use xlink:href=\"#DejaVuSans-55\"/>\n      </g>\n     </g>\n    </g>\n   </g>\n   <g id=\"matplotlib.axis_6\">\n    <g id=\"ytick_9\">\n     <g id=\"line2d_43\">\n      <path clip-path=\"url(#p74f5323712)\" d=\"M 436.2875 133.256901 \nL 591.2875 133.256901 \n\" style=\"fill:none;stroke:#b0b0b0;stroke-linecap:square;stroke-width:0.8;\"/>\n     </g>\n     <g id=\"line2d_44\">\n      <g>\n       <use style=\"stroke:#000000;stroke-width:0.8;\" x=\"436.2875\" xlink:href=\"#mcfc6db74b8\" y=\"133.256901\"/>\n      </g>\n     </g>\n     <g id=\"text_24\">\n      <!-- 0 -->\n      <g transform=\"translate(422.925 137.056119)scale(0.1 -0.1)\">\n       <use xlink:href=\"#DejaVuSans-48\"/>\n      </g>\n     </g>\n    </g>\n    <g id=\"ytick_10\">\n     <g id=\"line2d_45\">\n      <path clip-path=\"url(#p74f5323712)\" d=\"M 436.2875 89.233577 \nL 591.2875 89.233577 \n\" style=\"fill:none;stroke:#b0b0b0;stroke-linecap:square;stroke-width:0.8;\"/>\n     </g>\n     <g id=\"line2d_46\">\n      <g>\n       <use style=\"stroke:#000000;stroke-width:0.8;\" x=\"436.2875\" xlink:href=\"#mcfc6db74b8\" y=\"89.233577\"/>\n      </g>\n     </g>\n     <g id=\"text_25\">\n      <!-- 50 -->\n      <g transform=\"translate(416.5625 93.032796)scale(0.1 -0.1)\">\n       <use xlink:href=\"#DejaVuSans-53\"/>\n       <use x=\"63.623047\" xlink:href=\"#DejaVuSans-48\"/>\n      </g>\n     </g>\n    </g>\n    <g id=\"ytick_11\">\n     <g id=\"line2d_47\">\n      <path clip-path=\"url(#p74f5323712)\" d=\"M 436.2875 45.210253 \nL 591.2875 45.210253 \n\" style=\"fill:none;stroke:#b0b0b0;stroke-linecap:square;stroke-width:0.8;\"/>\n     </g>\n     <g id=\"line2d_48\">\n      <g>\n       <use style=\"stroke:#000000;stroke-width:0.8;\" x=\"436.2875\" xlink:href=\"#mcfc6db74b8\" y=\"45.210253\"/>\n      </g>\n     </g>\n     <g id=\"text_26\">\n      <!-- 100 -->\n      <g transform=\"translate(410.2 49.009472)scale(0.1 -0.1)\">\n       <use xlink:href=\"#DejaVuSans-49\"/>\n       <use x=\"63.623047\" xlink:href=\"#DejaVuSans-48\"/>\n       <use x=\"127.246094\" xlink:href=\"#DejaVuSans-48\"/>\n      </g>\n     </g>\n    </g>\n   </g>\n   <g id=\"patch_43\">\n    <path d=\"M 436.2875 133.256901 \nL 436.2875 22.318125 \n\" style=\"fill:none;stroke:#000000;stroke-linecap:square;stroke-linejoin:miter;stroke-width:0.8;\"/>\n   </g>\n   <g id=\"patch_44\">\n    <path d=\"M 591.2875 133.256901 \nL 591.2875 22.318125 \n\" style=\"fill:none;stroke:#000000;stroke-linecap:square;stroke-linejoin:miter;stroke-width:0.8;\"/>\n   </g>\n   <g id=\"patch_45\">\n    <path d=\"M 436.2875 133.256901 \nL 591.2875 133.256901 \n\" style=\"fill:none;stroke:#000000;stroke-linecap:square;stroke-linejoin:miter;stroke-width:0.8;\"/>\n   </g>\n   <g id=\"patch_46\">\n    <path d=\"M 436.2875 22.318125 \nL 591.2875 22.318125 \n\" style=\"fill:none;stroke:#000000;stroke-linecap:square;stroke-linejoin:miter;stroke-width:0.8;\"/>\n   </g>\n   <g id=\"text_27\">\n    <!-- CANCER -->\n    <defs>\n     <path d=\"M 9.8125 72.90625 \nL 23.09375 72.90625 \nL 55.421875 11.921875 \nL 55.421875 72.90625 \nL 64.984375 72.90625 \nL 64.984375 0 \nL 51.703125 0 \nL 19.390625 60.984375 \nL 19.390625 0 \nL 9.8125 0 \nz\n\" id=\"DejaVuSans-78\"/>\n    </defs>\n    <g transform=\"translate(488.854688 16.318125)scale(0.12 -0.12)\">\n     <use xlink:href=\"#DejaVuSans-67\"/>\n     <use x=\"69.824219\" xlink:href=\"#DejaVuSans-65\"/>\n     <use x=\"138.232422\" xlink:href=\"#DejaVuSans-78\"/>\n     <use x=\"213.037109\" xlink:href=\"#DejaVuSans-67\"/>\n     <use x=\"282.861328\" xlink:href=\"#DejaVuSans-69\"/>\n     <use x=\"346.044922\" xlink:href=\"#DejaVuSans-82\"/>\n    </g>\n   </g>\n  </g>\n  <g id=\"axes_4\">\n   <g id=\"patch_47\">\n    <path d=\"M 33.2875 277.477309 \nL 188.2875 277.477309 \nL 188.2875 166.538533 \nL 33.2875 166.538533 \nz\n\" style=\"fill:#ffffff;\"/>\n   </g>\n   <g id=\"patch_48\">\n    <path clip-path=\"url(#p0d89f338d3)\" d=\"M 40.332955 277.477309 \nL 54.423864 277.477309 \nL 54.423864 268.0284 \nL 40.332955 268.0284 \nz\n\" style=\"fill:#1f77b4;\"/>\n   </g>\n   <g id=\"patch_49\">\n    <path clip-path=\"url(#p0d89f338d3)\" d=\"M 54.423864 277.477309 \nL 68.514773 277.477309 \nL 68.514773 237.963691 \nL 54.423864 237.963691 \nz\n\" style=\"fill:#1f77b4;\"/>\n   </g>\n   <g id=\"patch_50\">\n    <path clip-path=\"url(#p0d89f338d3)\" d=\"M 68.514773 277.477309 \nL 82.605682 277.477309 \nL 82.605682 177.834274 \nL 68.514773 177.834274 \nz\n\" style=\"fill:#1f77b4;\"/>\n   </g>\n   <g id=\"patch_51\">\n    <path clip-path=\"url(#p0d89f338d3)\" d=\"M 82.605682 277.477309 \nL 96.696591 277.477309 \nL 96.696591 171.821332 \nL 82.605682 171.821332 \nz\n\" style=\"fill:#1f77b4;\"/>\n   </g>\n   <g id=\"patch_52\">\n    <path clip-path=\"url(#p0d89f338d3)\" d=\"M 96.696591 277.477309 \nL 110.7875 277.477309 \nL 110.7875 192.437132 \nL 96.696591 192.437132 \nz\n\" style=\"fill:#1f77b4;\"/>\n   </g>\n   <g id=\"patch_53\">\n    <path clip-path=\"url(#p0d89f338d3)\" d=\"M 110.7875 277.477309 \nL 124.878409 277.477309 \nL 124.878409 237.963691 \nL 110.7875 237.963691 \nz\n\" style=\"fill:#1f77b4;\"/>\n   </g>\n   <g id=\"patch_54\">\n    <path clip-path=\"url(#p0d89f338d3)\" d=\"M 124.878409 277.477309 \nL 138.969318 277.477309 \nL 138.969318 247.4126 \nL 124.878409 247.4126 \nz\n\" style=\"fill:#1f77b4;\"/>\n   </g>\n   <g id=\"patch_55\">\n    <path clip-path=\"url(#p0d89f338d3)\" d=\"M 138.969318 277.477309 \nL 153.060227 277.477309 \nL 153.060227 269.746384 \nL 138.969318 269.746384 \nz\n\" style=\"fill:#1f77b4;\"/>\n   </g>\n   <g id=\"patch_56\">\n    <path clip-path=\"url(#p0d89f338d3)\" d=\"M 153.060227 277.477309 \nL 167.151136 277.477309 \nL 167.151136 268.887392 \nL 153.060227 268.887392 \nz\n\" style=\"fill:#1f77b4;\"/>\n   </g>\n   <g id=\"patch_57\">\n    <path clip-path=\"url(#p0d89f338d3)\" d=\"M 167.151136 277.477309 \nL 181.242045 277.477309 \nL 181.242045 275.759325 \nL 167.151136 275.759325 \nz\n\" style=\"fill:#1f77b4;\"/>\n   </g>\n   <g id=\"matplotlib.axis_7\">\n    <g id=\"xtick_14\">\n     <g id=\"line2d_49\">\n      <path clip-path=\"url(#p0d89f338d3)\" d=\"M 69.454167 277.477309 \nL 69.454167 166.538533 \n\" style=\"fill:none;stroke:#b0b0b0;stroke-linecap:square;stroke-width:0.8;\"/>\n     </g>\n     <g id=\"line2d_50\">\n      <g>\n       <use style=\"stroke:#000000;stroke-width:0.8;\" x=\"69.454167\" xlink:href=\"#m7988bf331b\" y=\"277.477309\"/>\n      </g>\n     </g>\n     <g id=\"text_28\">\n      <!-- 8 -->\n      <defs>\n       <path d=\"M 31.78125 34.625 \nQ 24.75 34.625 20.71875 30.859375 \nQ 16.703125 27.09375 16.703125 20.515625 \nQ 16.703125 13.921875 20.71875 10.15625 \nQ 24.75 6.390625 31.78125 6.390625 \nQ 38.8125 6.390625 42.859375 10.171875 \nQ 46.921875 13.96875 46.921875 20.515625 \nQ 46.921875 27.09375 42.890625 30.859375 \nQ 38.875 34.625 31.78125 34.625 \nz\nM 21.921875 38.8125 \nQ 15.578125 40.375 12.03125 44.71875 \nQ 8.5 49.078125 8.5 55.328125 \nQ 8.5 64.0625 14.71875 69.140625 \nQ 20.953125 74.21875 31.78125 74.21875 \nQ 42.671875 74.21875 48.875 69.140625 \nQ 55.078125 64.0625 55.078125 55.328125 \nQ 55.078125 49.078125 51.53125 44.71875 \nQ 48 40.375 41.703125 38.8125 \nQ 48.828125 37.15625 52.796875 32.3125 \nQ 56.78125 27.484375 56.78125 20.515625 \nQ 56.78125 9.90625 50.3125 4.234375 \nQ 43.84375 -1.421875 31.78125 -1.421875 \nQ 19.734375 -1.421875 13.25 4.234375 \nQ 6.78125 9.90625 6.78125 20.515625 \nQ 6.78125 27.484375 10.78125 32.3125 \nQ 14.796875 37.15625 21.921875 38.8125 \nz\nM 18.3125 54.390625 \nQ 18.3125 48.734375 21.84375 45.5625 \nQ 25.390625 42.390625 31.78125 42.390625 \nQ 38.140625 42.390625 41.71875 45.5625 \nQ 45.3125 48.734375 45.3125 54.390625 \nQ 45.3125 60.0625 41.71875 63.234375 \nQ 38.140625 66.40625 31.78125 66.40625 \nQ 25.390625 66.40625 21.84375 63.234375 \nQ 18.3125 60.0625 18.3125 54.390625 \nz\n\" id=\"DejaVuSans-56\"/>\n      </defs>\n      <g transform=\"translate(66.272917 292.075746)scale(0.1 -0.1)\">\n       <use xlink:href=\"#DejaVuSans-56\"/>\n      </g>\n     </g>\n    </g>\n    <g id=\"xtick_15\">\n     <g id=\"line2d_51\">\n      <path clip-path=\"url(#p0d89f338d3)\" d=\"M 107.029924 277.477309 \nL 107.029924 166.538533 \n\" style=\"fill:none;stroke:#b0b0b0;stroke-linecap:square;stroke-width:0.8;\"/>\n     </g>\n     <g id=\"line2d_52\">\n      <g>\n       <use style=\"stroke:#000000;stroke-width:0.8;\" x=\"107.029924\" xlink:href=\"#m7988bf331b\" y=\"277.477309\"/>\n      </g>\n     </g>\n     <g id=\"text_29\">\n      <!-- 10 -->\n      <g transform=\"translate(100.667424 292.075746)scale(0.1 -0.1)\">\n       <use xlink:href=\"#DejaVuSans-49\"/>\n       <use x=\"63.623047\" xlink:href=\"#DejaVuSans-48\"/>\n      </g>\n     </g>\n    </g>\n    <g id=\"xtick_16\">\n     <g id=\"line2d_53\">\n      <path clip-path=\"url(#p0d89f338d3)\" d=\"M 144.605682 277.477309 \nL 144.605682 166.538533 \n\" style=\"fill:none;stroke:#b0b0b0;stroke-linecap:square;stroke-width:0.8;\"/>\n     </g>\n     <g id=\"line2d_54\">\n      <g>\n       <use style=\"stroke:#000000;stroke-width:0.8;\" x=\"144.605682\" xlink:href=\"#m7988bf331b\" y=\"277.477309\"/>\n      </g>\n     </g>\n     <g id=\"text_30\">\n      <!-- 12 -->\n      <g transform=\"translate(138.243182 292.075746)scale(0.1 -0.1)\">\n       <use xlink:href=\"#DejaVuSans-49\"/>\n       <use x=\"63.623047\" xlink:href=\"#DejaVuSans-50\"/>\n      </g>\n     </g>\n    </g>\n    <g id=\"xtick_17\">\n     <g id=\"line2d_55\">\n      <path clip-path=\"url(#p0d89f338d3)\" d=\"M 182.181439 277.477309 \nL 182.181439 166.538533 \n\" style=\"fill:none;stroke:#b0b0b0;stroke-linecap:square;stroke-width:0.8;\"/>\n     </g>\n     <g id=\"line2d_56\">\n      <g>\n       <use style=\"stroke:#000000;stroke-width:0.8;\" x=\"182.181439\" xlink:href=\"#m7988bf331b\" y=\"277.477309\"/>\n      </g>\n     </g>\n     <g id=\"text_31\">\n      <!-- 14 -->\n      <g transform=\"translate(175.818939 292.075746)scale(0.1 -0.1)\">\n       <use xlink:href=\"#DejaVuSans-49\"/>\n       <use x=\"63.623047\" xlink:href=\"#DejaVuSans-52\"/>\n      </g>\n     </g>\n    </g>\n   </g>\n   <g id=\"matplotlib.axis_8\">\n    <g id=\"ytick_12\">\n     <g id=\"line2d_57\">\n      <path clip-path=\"url(#p0d89f338d3)\" d=\"M 33.2875 277.477309 \nL 188.2875 277.477309 \n\" style=\"fill:none;stroke:#b0b0b0;stroke-linecap:square;stroke-width:0.8;\"/>\n     </g>\n     <g id=\"line2d_58\">\n      <g>\n       <use style=\"stroke:#000000;stroke-width:0.8;\" x=\"33.2875\" xlink:href=\"#mcfc6db74b8\" y=\"277.477309\"/>\n      </g>\n     </g>\n     <g id=\"text_32\">\n      <!-- 0 -->\n      <g transform=\"translate(19.925 281.276527)scale(0.1 -0.1)\">\n       <use xlink:href=\"#DejaVuSans-48\"/>\n      </g>\n     </g>\n    </g>\n    <g id=\"ytick_13\">\n     <g id=\"line2d_59\">\n      <path clip-path=\"url(#p0d89f338d3)\" d=\"M 33.2875 234.527725 \nL 188.2875 234.527725 \n\" style=\"fill:none;stroke:#b0b0b0;stroke-linecap:square;stroke-width:0.8;\"/>\n     </g>\n     <g id=\"line2d_60\">\n      <g>\n       <use style=\"stroke:#000000;stroke-width:0.8;\" x=\"33.2875\" xlink:href=\"#mcfc6db74b8\" y=\"234.527725\"/>\n      </g>\n     </g>\n     <g id=\"text_33\">\n      <!-- 50 -->\n      <g transform=\"translate(13.5625 238.326943)scale(0.1 -0.1)\">\n       <use xlink:href=\"#DejaVuSans-53\"/>\n       <use x=\"63.623047\" xlink:href=\"#DejaVuSans-48\"/>\n      </g>\n     </g>\n    </g>\n    <g id=\"ytick_14\">\n     <g id=\"line2d_61\">\n      <path clip-path=\"url(#p0d89f338d3)\" d=\"M 33.2875 191.578141 \nL 188.2875 191.578141 \n\" style=\"fill:none;stroke:#b0b0b0;stroke-linecap:square;stroke-width:0.8;\"/>\n     </g>\n     <g id=\"line2d_62\">\n      <g>\n       <use style=\"stroke:#000000;stroke-width:0.8;\" x=\"33.2875\" xlink:href=\"#mcfc6db74b8\" y=\"191.578141\"/>\n      </g>\n     </g>\n     <g id=\"text_34\">\n      <!-- 100 -->\n      <g transform=\"translate(7.2 195.377359)scale(0.1 -0.1)\">\n       <use xlink:href=\"#DejaVuSans-49\"/>\n       <use x=\"63.623047\" xlink:href=\"#DejaVuSans-48\"/>\n       <use x=\"127.246094\" xlink:href=\"#DejaVuSans-48\"/>\n      </g>\n     </g>\n    </g>\n   </g>\n   <g id=\"patch_58\">\n    <path d=\"M 33.2875 277.477309 \nL 33.2875 166.538533 \n\" style=\"fill:none;stroke:#000000;stroke-linecap:square;stroke-linejoin:miter;stroke-width:0.8;\"/>\n   </g>\n   <g id=\"patch_59\">\n    <path d=\"M 188.2875 277.477309 \nL 188.2875 166.538533 \n\" style=\"fill:none;stroke:#000000;stroke-linecap:square;stroke-linejoin:miter;stroke-width:0.8;\"/>\n   </g>\n   <g id=\"patch_60\">\n    <path d=\"M 33.2875 277.477309 \nL 188.2875 277.477309 \n\" style=\"fill:none;stroke:#000000;stroke-linecap:square;stroke-linejoin:miter;stroke-width:0.8;\"/>\n   </g>\n   <g id=\"patch_61\">\n    <path d=\"M 33.2875 166.538533 \nL 188.2875 166.538533 \n\" style=\"fill:none;stroke:#000000;stroke-linecap:square;stroke-linejoin:miter;stroke-width:0.8;\"/>\n   </g>\n   <g id=\"text_35\">\n    <!-- CASTHMA -->\n    <defs>\n     <path d=\"M 9.8125 72.90625 \nL 24.515625 72.90625 \nL 43.109375 23.296875 \nL 61.8125 72.90625 \nL 76.515625 72.90625 \nL 76.515625 0 \nL 66.890625 0 \nL 66.890625 64.015625 \nL 48.09375 14.015625 \nL 38.1875 14.015625 \nL 19.390625 64.015625 \nL 19.390625 0 \nL 9.8125 0 \nz\n\" id=\"DejaVuSans-77\"/>\n    </defs>\n    <g transform=\"translate(81.22625 160.538533)scale(0.12 -0.12)\">\n     <use xlink:href=\"#DejaVuSans-67\"/>\n     <use x=\"69.824219\" xlink:href=\"#DejaVuSans-65\"/>\n     <use x=\"138.232422\" xlink:href=\"#DejaVuSans-83\"/>\n     <use x=\"201.708984\" xlink:href=\"#DejaVuSans-84\"/>\n     <use x=\"262.792969\" xlink:href=\"#DejaVuSans-72\"/>\n     <use x=\"337.988281\" xlink:href=\"#DejaVuSans-77\"/>\n     <use x=\"424.267578\" xlink:href=\"#DejaVuSans-65\"/>\n    </g>\n   </g>\n  </g>\n  <g id=\"axes_5\">\n   <g id=\"patch_62\">\n    <path d=\"M 234.7875 277.477309 \nL 389.7875 277.477309 \nL 389.7875 166.538533 \nL 234.7875 166.538533 \nz\n\" style=\"fill:#ffffff;\"/>\n   </g>\n   <g id=\"patch_63\">\n    <path clip-path=\"url(#pab38352341)\" d=\"M 241.832955 277.477309 \nL 255.923864 277.477309 \nL 255.923864 270.660794 \nL 241.832955 270.660794 \nz\n\" style=\"fill:#1f77b4;\"/>\n   </g>\n   <g id=\"patch_64\">\n    <path clip-path=\"url(#pab38352341)\" d=\"M 255.923864 277.477309 \nL 270.014773 277.477309 \nL 270.014773 266.116451 \nL 255.923864 266.116451 \nz\n\" style=\"fill:#1f77b4;\"/>\n   </g>\n   <g id=\"patch_65\">\n    <path clip-path=\"url(#pab38352341)\" d=\"M 270.014773 277.477309 \nL 284.105682 277.477309 \nL 284.105682 232.033878 \nL 270.014773 232.033878 \nz\n\" style=\"fill:#1f77b4;\"/>\n   </g>\n   <g id=\"patch_66\">\n    <path clip-path=\"url(#pab38352341)\" d=\"M 284.105682 277.477309 \nL 298.196591 277.477309 \nL 298.196591 171.821332 \nL 284.105682 171.821332 \nz\n\" style=\"fill:#1f77b4;\"/>\n   </g>\n   <g id=\"patch_67\">\n    <path clip-path=\"url(#pab38352341)\" d=\"M 298.196591 277.477309 \nL 312.2875 277.477309 \nL 312.2875 172.957418 \nL 298.196591 172.957418 \nz\n\" style=\"fill:#1f77b4;\"/>\n   </g>\n   <g id=\"patch_68\">\n    <path clip-path=\"url(#pab38352341)\" d=\"M 312.2875 277.477309 \nL 326.378409 277.477309 \nL 326.378409 177.501761 \nL 312.2875 177.501761 \nz\n\" style=\"fill:#1f77b4;\"/>\n   </g>\n   <g id=\"patch_69\">\n    <path clip-path=\"url(#pab38352341)\" d=\"M 326.378409 277.477309 \nL 340.469318 277.477309 \nL 340.469318 221.809106 \nL 326.378409 221.809106 \nz\n\" style=\"fill:#1f77b4;\"/>\n   </g>\n   <g id=\"patch_70\">\n    <path clip-path=\"url(#pab38352341)\" d=\"M 340.469318 277.477309 \nL 354.560227 277.477309 \nL 354.560227 209.312162 \nL 340.469318 209.312162 \nz\n\" style=\"fill:#1f77b4;\"/>\n   </g>\n   <g id=\"patch_71\">\n    <path clip-path=\"url(#pab38352341)\" d=\"M 354.560227 277.477309 \nL 368.651136 277.477309 \nL 368.651136 222.945192 \nL 354.560227 222.945192 \nz\n\" style=\"fill:#1f77b4;\"/>\n   </g>\n   <g id=\"patch_72\">\n    <path clip-path=\"url(#pab38352341)\" d=\"M 368.651136 277.477309 \nL 382.742045 277.477309 \nL 382.742045 264.980365 \nL 368.651136 264.980365 \nz\n\" style=\"fill:#1f77b4;\"/>\n   </g>\n   <g id=\"matplotlib.axis_9\">\n    <g id=\"xtick_18\">\n     <g id=\"line2d_63\">\n      <path clip-path=\"url(#pab38352341)\" d=\"M 270.434614 277.477309 \nL 270.434614 166.538533 \n\" style=\"fill:none;stroke:#b0b0b0;stroke-linecap:square;stroke-width:0.8;\"/>\n     </g>\n     <g id=\"line2d_64\">\n      <g>\n       <use style=\"stroke:#000000;stroke-width:0.8;\" x=\"270.434614\" xlink:href=\"#m7988bf331b\" y=\"277.477309\"/>\n      </g>\n     </g>\n     <g id=\"text_36\">\n      <!-- 60 -->\n      <g transform=\"translate(264.072114 292.075746)scale(0.1 -0.1)\">\n       <use xlink:href=\"#DejaVuSans-54\"/>\n       <use x=\"63.623047\" xlink:href=\"#DejaVuSans-48\"/>\n      </g>\n     </g>\n    </g>\n    <g id=\"xtick_19\">\n     <g id=\"line2d_65\">\n      <path clip-path=\"url(#pab38352341)\" d=\"M 322.914722 277.477309 \nL 322.914722 166.538533 \n\" style=\"fill:none;stroke:#b0b0b0;stroke-linecap:square;stroke-width:0.8;\"/>\n     </g>\n     <g id=\"line2d_66\">\n      <g>\n       <use style=\"stroke:#000000;stroke-width:0.8;\" x=\"322.914722\" xlink:href=\"#m7988bf331b\" y=\"277.477309\"/>\n      </g>\n     </g>\n     <g id=\"text_37\">\n      <!-- 70 -->\n      <g transform=\"translate(316.552222 292.075746)scale(0.1 -0.1)\">\n       <use xlink:href=\"#DejaVuSans-55\"/>\n       <use x=\"63.623047\" xlink:href=\"#DejaVuSans-48\"/>\n      </g>\n     </g>\n    </g>\n    <g id=\"xtick_20\">\n     <g id=\"line2d_67\">\n      <path clip-path=\"url(#pab38352341)\" d=\"M 375.39483 277.477309 \nL 375.39483 166.538533 \n\" style=\"fill:none;stroke:#b0b0b0;stroke-linecap:square;stroke-width:0.8;\"/>\n     </g>\n     <g id=\"line2d_68\">\n      <g>\n       <use style=\"stroke:#000000;stroke-width:0.8;\" x=\"375.39483\" xlink:href=\"#m7988bf331b\" y=\"277.477309\"/>\n      </g>\n     </g>\n     <g id=\"text_38\">\n      <!-- 80 -->\n      <g transform=\"translate(369.03233 292.075746)scale(0.1 -0.1)\">\n       <use xlink:href=\"#DejaVuSans-56\"/>\n       <use x=\"63.623047\" xlink:href=\"#DejaVuSans-48\"/>\n      </g>\n     </g>\n    </g>\n   </g>\n   <g id=\"matplotlib.axis_10\">\n    <g id=\"ytick_15\">\n     <g id=\"line2d_69\">\n      <path clip-path=\"url(#pab38352341)\" d=\"M 234.7875 277.477309 \nL 389.7875 277.477309 \n\" style=\"fill:none;stroke:#b0b0b0;stroke-linecap:square;stroke-width:0.8;\"/>\n     </g>\n     <g id=\"line2d_70\">\n      <g>\n       <use style=\"stroke:#000000;stroke-width:0.8;\" x=\"234.7875\" xlink:href=\"#mcfc6db74b8\" y=\"277.477309\"/>\n      </g>\n     </g>\n     <g id=\"text_39\">\n      <!-- 0 -->\n      <g transform=\"translate(221.425 281.276527)scale(0.1 -0.1)\">\n       <use xlink:href=\"#DejaVuSans-48\"/>\n      </g>\n     </g>\n    </g>\n    <g id=\"ytick_16\">\n     <g id=\"line2d_71\">\n      <path clip-path=\"url(#pab38352341)\" d=\"M 234.7875 254.755593 \nL 389.7875 254.755593 \n\" style=\"fill:none;stroke:#b0b0b0;stroke-linecap:square;stroke-width:0.8;\"/>\n     </g>\n     <g id=\"line2d_72\">\n      <g>\n       <use style=\"stroke:#000000;stroke-width:0.8;\" x=\"234.7875\" xlink:href=\"#mcfc6db74b8\" y=\"254.755593\"/>\n      </g>\n     </g>\n     <g id=\"text_40\">\n      <!-- 20 -->\n      <g transform=\"translate(215.0625 258.554812)scale(0.1 -0.1)\">\n       <use xlink:href=\"#DejaVuSans-50\"/>\n       <use x=\"63.623047\" xlink:href=\"#DejaVuSans-48\"/>\n      </g>\n     </g>\n    </g>\n    <g id=\"ytick_17\">\n     <g id=\"line2d_73\">\n      <path clip-path=\"url(#pab38352341)\" d=\"M 234.7875 232.033878 \nL 389.7875 232.033878 \n\" style=\"fill:none;stroke:#b0b0b0;stroke-linecap:square;stroke-width:0.8;\"/>\n     </g>\n     <g id=\"line2d_74\">\n      <g>\n       <use style=\"stroke:#000000;stroke-width:0.8;\" x=\"234.7875\" xlink:href=\"#mcfc6db74b8\" y=\"232.033878\"/>\n      </g>\n     </g>\n     <g id=\"text_41\">\n      <!-- 40 -->\n      <g transform=\"translate(215.0625 235.833097)scale(0.1 -0.1)\">\n       <use xlink:href=\"#DejaVuSans-52\"/>\n       <use x=\"63.623047\" xlink:href=\"#DejaVuSans-48\"/>\n      </g>\n     </g>\n    </g>\n    <g id=\"ytick_18\">\n     <g id=\"line2d_75\">\n      <path clip-path=\"url(#pab38352341)\" d=\"M 234.7875 209.312162 \nL 389.7875 209.312162 \n\" style=\"fill:none;stroke:#b0b0b0;stroke-linecap:square;stroke-width:0.8;\"/>\n     </g>\n     <g id=\"line2d_76\">\n      <g>\n       <use style=\"stroke:#000000;stroke-width:0.8;\" x=\"234.7875\" xlink:href=\"#mcfc6db74b8\" y=\"209.312162\"/>\n      </g>\n     </g>\n     <g id=\"text_42\">\n      <!-- 60 -->\n      <g transform=\"translate(215.0625 213.111381)scale(0.1 -0.1)\">\n       <use xlink:href=\"#DejaVuSans-54\"/>\n       <use x=\"63.623047\" xlink:href=\"#DejaVuSans-48\"/>\n      </g>\n     </g>\n    </g>\n    <g id=\"ytick_19\">\n     <g id=\"line2d_77\">\n      <path clip-path=\"url(#pab38352341)\" d=\"M 234.7875 186.590447 \nL 389.7875 186.590447 \n\" style=\"fill:none;stroke:#b0b0b0;stroke-linecap:square;stroke-width:0.8;\"/>\n     </g>\n     <g id=\"line2d_78\">\n      <g>\n       <use style=\"stroke:#000000;stroke-width:0.8;\" x=\"234.7875\" xlink:href=\"#mcfc6db74b8\" y=\"186.590447\"/>\n      </g>\n     </g>\n     <g id=\"text_43\">\n      <!-- 80 -->\n      <g transform=\"translate(215.0625 190.389666)scale(0.1 -0.1)\">\n       <use xlink:href=\"#DejaVuSans-56\"/>\n       <use x=\"63.623047\" xlink:href=\"#DejaVuSans-48\"/>\n      </g>\n     </g>\n    </g>\n   </g>\n   <g id=\"patch_73\">\n    <path d=\"M 234.7875 277.477309 \nL 234.7875 166.538533 \n\" style=\"fill:none;stroke:#000000;stroke-linecap:square;stroke-linejoin:miter;stroke-width:0.8;\"/>\n   </g>\n   <g id=\"patch_74\">\n    <path d=\"M 389.7875 277.477309 \nL 389.7875 166.538533 \n\" style=\"fill:none;stroke:#000000;stroke-linecap:square;stroke-linejoin:miter;stroke-width:0.8;\"/>\n   </g>\n   <g id=\"patch_75\">\n    <path d=\"M 234.7875 277.477309 \nL 389.7875 277.477309 \n\" style=\"fill:none;stroke:#000000;stroke-linecap:square;stroke-linejoin:miter;stroke-width:0.8;\"/>\n   </g>\n   <g id=\"patch_76\">\n    <path d=\"M 234.7875 166.538533 \nL 389.7875 166.538533 \n\" style=\"fill:none;stroke:#000000;stroke-linecap:square;stroke-linejoin:miter;stroke-width:0.8;\"/>\n   </g>\n   <g id=\"text_44\">\n    <!-- CHECKUP -->\n    <defs>\n     <path d=\"M 9.8125 72.90625 \nL 19.671875 72.90625 \nL 19.671875 42.09375 \nL 52.390625 72.90625 \nL 65.09375 72.90625 \nL 28.90625 38.921875 \nL 67.671875 0 \nL 54.6875 0 \nL 19.671875 35.109375 \nL 19.671875 0 \nL 9.8125 0 \nz\n\" id=\"DejaVuSans-75\"/>\n     <path d=\"M 8.6875 72.90625 \nL 18.609375 72.90625 \nL 18.609375 28.609375 \nQ 18.609375 16.890625 22.84375 11.734375 \nQ 27.09375 6.59375 36.625 6.59375 \nQ 46.09375 6.59375 50.34375 11.734375 \nQ 54.59375 16.890625 54.59375 28.609375 \nL 54.59375 72.90625 \nL 64.5 72.90625 \nL 64.5 27.390625 \nQ 64.5 13.140625 57.4375 5.859375 \nQ 50.390625 -1.421875 36.625 -1.421875 \nQ 22.796875 -1.421875 15.734375 5.859375 \nQ 8.6875 13.140625 8.6875 27.390625 \nz\n\" id=\"DejaVuSans-85\"/>\n     <path d=\"M 19.671875 64.796875 \nL 19.671875 37.40625 \nL 32.078125 37.40625 \nQ 38.96875 37.40625 42.71875 40.96875 \nQ 46.484375 44.53125 46.484375 51.125 \nQ 46.484375 57.671875 42.71875 61.234375 \nQ 38.96875 64.796875 32.078125 64.796875 \nz\nM 9.8125 72.90625 \nL 32.078125 72.90625 \nQ 44.34375 72.90625 50.609375 67.359375 \nQ 56.890625 61.8125 56.890625 51.125 \nQ 56.890625 40.328125 50.609375 34.8125 \nQ 44.34375 29.296875 32.078125 29.296875 \nL 19.671875 29.296875 \nL 19.671875 0 \nL 9.8125 0 \nz\n\" id=\"DejaVuSans-80\"/>\n    </defs>\n    <g transform=\"translate(283.818438 160.538533)scale(0.12 -0.12)\">\n     <use xlink:href=\"#DejaVuSans-67\"/>\n     <use x=\"69.824219\" xlink:href=\"#DejaVuSans-72\"/>\n     <use x=\"145.019531\" xlink:href=\"#DejaVuSans-69\"/>\n     <use x=\"208.203125\" xlink:href=\"#DejaVuSans-67\"/>\n     <use x=\"278.027344\" xlink:href=\"#DejaVuSans-75\"/>\n     <use x=\"340.978516\" xlink:href=\"#DejaVuSans-85\"/>\n     <use x=\"414.171875\" xlink:href=\"#DejaVuSans-80\"/>\n    </g>\n   </g>\n  </g>\n  <g id=\"axes_6\">\n   <g id=\"patch_77\">\n    <path d=\"M 436.2875 277.477309 \nL 591.2875 277.477309 \nL 591.2875 166.538533 \nL 436.2875 166.538533 \nz\n\" style=\"fill:#ffffff;\"/>\n   </g>\n   <g id=\"patch_78\">\n    <path clip-path=\"url(#p7aa26b1706)\" d=\"M 443.332955 277.477309 \nL 457.423864 277.477309 \nL 457.423864 250.806868 \nL 443.332955 250.806868 \nz\n\" style=\"fill:#1f77b4;\"/>\n   </g>\n   <g id=\"patch_79\">\n    <path clip-path=\"url(#p7aa26b1706)\" d=\"M 457.423864 277.477309 \nL 471.514773 277.477309 \nL 471.514773 195.414414 \nL 457.423864 195.414414 \nz\n\" style=\"fill:#1f77b4;\"/>\n   </g>\n   <g id=\"patch_80\">\n    <path clip-path=\"url(#p7aa26b1706)\" d=\"M 471.514773 277.477309 \nL 485.605682 277.477309 \nL 485.605682 171.821332 \nL 471.514773 171.821332 \nz\n\" style=\"fill:#1f77b4;\"/>\n   </g>\n   <g id=\"patch_81\">\n    <path clip-path=\"url(#p7aa26b1706)\" d=\"M 485.605682 277.477309 \nL 499.696591 277.477309 \nL 499.696591 177.976049 \nL 485.605682 177.976049 \nz\n\" style=\"fill:#1f77b4;\"/>\n   </g>\n   <g id=\"patch_82\">\n    <path clip-path=\"url(#p7aa26b1706)\" d=\"M 499.696591 277.477309 \nL 513.7875 277.477309 \nL 513.7875 190.285483 \nL 499.696591 190.285483 \nz\n\" style=\"fill:#1f77b4;\"/>\n   </g>\n   <g id=\"patch_83\">\n    <path clip-path=\"url(#p7aa26b1706)\" d=\"M 513.7875 277.477309 \nL 527.878409 277.477309 \nL 527.878409 221.059069 \nL 513.7875 221.059069 \nz\n\" style=\"fill:#1f77b4;\"/>\n   </g>\n   <g id=\"patch_84\">\n    <path clip-path=\"url(#p7aa26b1706)\" d=\"M 527.878409 277.477309 \nL 541.969318 277.477309 \nL 541.969318 243.626365 \nL 527.878409 243.626365 \nz\n\" style=\"fill:#1f77b4;\"/>\n   </g>\n   <g id=\"patch_85\">\n    <path clip-path=\"url(#p7aa26b1706)\" d=\"M 541.969318 277.477309 \nL 556.060227 277.477309 \nL 556.060227 268.245233 \nL 541.969318 268.245233 \nz\n\" style=\"fill:#1f77b4;\"/>\n   </g>\n   <g id=\"patch_86\">\n    <path clip-path=\"url(#p7aa26b1706)\" d=\"M 556.060227 277.477309 \nL 570.151136 277.477309 \nL 570.151136 271.322592 \nL 556.060227 271.322592 \nz\n\" style=\"fill:#1f77b4;\"/>\n   </g>\n   <g id=\"patch_87\">\n    <path clip-path=\"url(#p7aa26b1706)\" d=\"M 570.151136 277.477309 \nL 584.242045 277.477309 \nL 584.242045 274.39995 \nL 570.151136 274.39995 \nz\n\" style=\"fill:#1f77b4;\"/>\n   </g>\n   <g id=\"matplotlib.axis_11\">\n    <g id=\"xtick_21\">\n     <g id=\"line2d_79\">\n      <path clip-path=\"url(#p7aa26b1706)\" d=\"M 458.079255 277.477309 \nL 458.079255 166.538533 \n\" style=\"fill:none;stroke:#b0b0b0;stroke-linecap:square;stroke-width:0.8;\"/>\n     </g>\n     <g id=\"line2d_80\">\n      <g>\n       <use style=\"stroke:#000000;stroke-width:0.8;\" x=\"458.079255\" xlink:href=\"#m7988bf331b\" y=\"277.477309\"/>\n      </g>\n     </g>\n     <g id=\"text_45\">\n      <!-- 4 -->\n      <g transform=\"translate(454.898005 292.075746)scale(0.1 -0.1)\">\n       <use xlink:href=\"#DejaVuSans-52\"/>\n      </g>\n     </g>\n    </g>\n    <g id=\"xtick_22\">\n     <g id=\"line2d_81\">\n      <path clip-path=\"url(#p7aa26b1706)\" d=\"M 490.848811 277.477309 \nL 490.848811 166.538533 \n\" style=\"fill:none;stroke:#b0b0b0;stroke-linecap:square;stroke-width:0.8;\"/>\n     </g>\n     <g id=\"line2d_82\">\n      <g>\n       <use style=\"stroke:#000000;stroke-width:0.8;\" x=\"490.848811\" xlink:href=\"#m7988bf331b\" y=\"277.477309\"/>\n      </g>\n     </g>\n     <g id=\"text_46\">\n      <!-- 6 -->\n      <g transform=\"translate(487.667561 292.075746)scale(0.1 -0.1)\">\n       <use xlink:href=\"#DejaVuSans-54\"/>\n      </g>\n     </g>\n    </g>\n    <g id=\"xtick_23\">\n     <g id=\"line2d_83\">\n      <path clip-path=\"url(#p7aa26b1706)\" d=\"M 523.618367 277.477309 \nL 523.618367 166.538533 \n\" style=\"fill:none;stroke:#b0b0b0;stroke-linecap:square;stroke-width:0.8;\"/>\n     </g>\n     <g id=\"line2d_84\">\n      <g>\n       <use style=\"stroke:#000000;stroke-width:0.8;\" x=\"523.618367\" xlink:href=\"#m7988bf331b\" y=\"277.477309\"/>\n      </g>\n     </g>\n     <g id=\"text_47\">\n      <!-- 8 -->\n      <g transform=\"translate(520.437117 292.075746)scale(0.1 -0.1)\">\n       <use xlink:href=\"#DejaVuSans-56\"/>\n      </g>\n     </g>\n    </g>\n    <g id=\"xtick_24\">\n     <g id=\"line2d_85\">\n      <path clip-path=\"url(#p7aa26b1706)\" d=\"M 556.387923 277.477309 \nL 556.387923 166.538533 \n\" style=\"fill:none;stroke:#b0b0b0;stroke-linecap:square;stroke-width:0.8;\"/>\n     </g>\n     <g id=\"line2d_86\">\n      <g>\n       <use style=\"stroke:#000000;stroke-width:0.8;\" x=\"556.387923\" xlink:href=\"#m7988bf331b\" y=\"277.477309\"/>\n      </g>\n     </g>\n     <g id=\"text_48\">\n      <!-- 10 -->\n      <g transform=\"translate(550.025423 292.075746)scale(0.1 -0.1)\">\n       <use xlink:href=\"#DejaVuSans-49\"/>\n       <use x=\"63.623047\" xlink:href=\"#DejaVuSans-48\"/>\n      </g>\n     </g>\n    </g>\n    <g id=\"xtick_25\">\n     <g id=\"line2d_87\">\n      <path clip-path=\"url(#p7aa26b1706)\" d=\"M 589.157479 277.477309 \nL 589.157479 166.538533 \n\" style=\"fill:none;stroke:#b0b0b0;stroke-linecap:square;stroke-width:0.8;\"/>\n     </g>\n     <g id=\"line2d_88\">\n      <g>\n       <use style=\"stroke:#000000;stroke-width:0.8;\" x=\"589.157479\" xlink:href=\"#m7988bf331b\" y=\"277.477309\"/>\n      </g>\n     </g>\n     <g id=\"text_49\">\n      <!-- 12 -->\n      <g transform=\"translate(582.794979 292.075746)scale(0.1 -0.1)\">\n       <use xlink:href=\"#DejaVuSans-49\"/>\n       <use x=\"63.623047\" xlink:href=\"#DejaVuSans-50\"/>\n      </g>\n     </g>\n    </g>\n   </g>\n   <g id=\"matplotlib.axis_12\">\n    <g id=\"ytick_20\">\n     <g id=\"line2d_89\">\n      <path clip-path=\"url(#p7aa26b1706)\" d=\"M 436.2875 277.477309 \nL 591.2875 277.477309 \n\" style=\"fill:none;stroke:#b0b0b0;stroke-linecap:square;stroke-width:0.8;\"/>\n     </g>\n     <g id=\"line2d_90\">\n      <g>\n       <use style=\"stroke:#000000;stroke-width:0.8;\" x=\"436.2875\" xlink:href=\"#mcfc6db74b8\" y=\"277.477309\"/>\n      </g>\n     </g>\n     <g id=\"text_50\">\n      <!-- 0 -->\n      <g transform=\"translate(422.925 281.276527)scale(0.1 -0.1)\">\n       <use xlink:href=\"#DejaVuSans-48\"/>\n      </g>\n     </g>\n    </g>\n    <g id=\"ytick_21\">\n     <g id=\"line2d_91\">\n      <path clip-path=\"url(#p7aa26b1706)\" d=\"M 436.2875 251.832654 \nL 591.2875 251.832654 \n\" style=\"fill:none;stroke:#b0b0b0;stroke-linecap:square;stroke-width:0.8;\"/>\n     </g>\n     <g id=\"line2d_92\">\n      <g>\n       <use style=\"stroke:#000000;stroke-width:0.8;\" x=\"436.2875\" xlink:href=\"#mcfc6db74b8\" y=\"251.832654\"/>\n      </g>\n     </g>\n     <g id=\"text_51\">\n      <!-- 25 -->\n      <g transform=\"translate(416.5625 255.631873)scale(0.1 -0.1)\">\n       <use xlink:href=\"#DejaVuSans-50\"/>\n       <use x=\"63.623047\" xlink:href=\"#DejaVuSans-53\"/>\n      </g>\n     </g>\n    </g>\n    <g id=\"ytick_22\">\n     <g id=\"line2d_93\">\n      <path clip-path=\"url(#p7aa26b1706)\" d=\"M 436.2875 226.188 \nL 591.2875 226.188 \n\" style=\"fill:none;stroke:#b0b0b0;stroke-linecap:square;stroke-width:0.8;\"/>\n     </g>\n     <g id=\"line2d_94\">\n      <g>\n       <use style=\"stroke:#000000;stroke-width:0.8;\" x=\"436.2875\" xlink:href=\"#mcfc6db74b8\" y=\"226.188\"/>\n      </g>\n     </g>\n     <g id=\"text_52\">\n      <!-- 50 -->\n      <g transform=\"translate(416.5625 229.987218)scale(0.1 -0.1)\">\n       <use xlink:href=\"#DejaVuSans-53\"/>\n       <use x=\"63.623047\" xlink:href=\"#DejaVuSans-48\"/>\n      </g>\n     </g>\n    </g>\n    <g id=\"ytick_23\">\n     <g id=\"line2d_95\">\n      <path clip-path=\"url(#p7aa26b1706)\" d=\"M 436.2875 200.543345 \nL 591.2875 200.543345 \n\" style=\"fill:none;stroke:#b0b0b0;stroke-linecap:square;stroke-width:0.8;\"/>\n     </g>\n     <g id=\"line2d_96\">\n      <g>\n       <use style=\"stroke:#000000;stroke-width:0.8;\" x=\"436.2875\" xlink:href=\"#mcfc6db74b8\" y=\"200.543345\"/>\n      </g>\n     </g>\n     <g id=\"text_53\">\n      <!-- 75 -->\n      <g transform=\"translate(416.5625 204.342564)scale(0.1 -0.1)\">\n       <use xlink:href=\"#DejaVuSans-55\"/>\n       <use x=\"63.623047\" xlink:href=\"#DejaVuSans-53\"/>\n      </g>\n     </g>\n    </g>\n    <g id=\"ytick_24\">\n     <g id=\"line2d_97\">\n      <path clip-path=\"url(#p7aa26b1706)\" d=\"M 436.2875 174.898691 \nL 591.2875 174.898691 \n\" style=\"fill:none;stroke:#b0b0b0;stroke-linecap:square;stroke-width:0.8;\"/>\n     </g>\n     <g id=\"line2d_98\">\n      <g>\n       <use style=\"stroke:#000000;stroke-width:0.8;\" x=\"436.2875\" xlink:href=\"#mcfc6db74b8\" y=\"174.898691\"/>\n      </g>\n     </g>\n     <g id=\"text_54\">\n      <!-- 100 -->\n      <g transform=\"translate(410.2 178.697909)scale(0.1 -0.1)\">\n       <use xlink:href=\"#DejaVuSans-49\"/>\n       <use x=\"63.623047\" xlink:href=\"#DejaVuSans-48\"/>\n       <use x=\"127.246094\" xlink:href=\"#DejaVuSans-48\"/>\n      </g>\n     </g>\n    </g>\n   </g>\n   <g id=\"patch_88\">\n    <path d=\"M 436.2875 277.477309 \nL 436.2875 166.538533 \n\" style=\"fill:none;stroke:#000000;stroke-linecap:square;stroke-linejoin:miter;stroke-width:0.8;\"/>\n   </g>\n   <g id=\"patch_89\">\n    <path d=\"M 591.2875 277.477309 \nL 591.2875 166.538533 \n\" style=\"fill:none;stroke:#000000;stroke-linecap:square;stroke-linejoin:miter;stroke-width:0.8;\"/>\n   </g>\n   <g id=\"patch_90\">\n    <path d=\"M 436.2875 277.477309 \nL 591.2875 277.477309 \n\" style=\"fill:none;stroke:#000000;stroke-linecap:square;stroke-linejoin:miter;stroke-width:0.8;\"/>\n   </g>\n   <g id=\"patch_91\">\n    <path d=\"M 436.2875 166.538533 \nL 591.2875 166.538533 \n\" style=\"fill:none;stroke:#000000;stroke-linecap:square;stroke-linejoin:miter;stroke-width:0.8;\"/>\n   </g>\n   <g id=\"text_55\">\n    <!-- COPD -->\n    <defs>\n     <path d=\"M 39.40625 66.21875 \nQ 28.65625 66.21875 22.328125 58.203125 \nQ 16.015625 50.203125 16.015625 36.375 \nQ 16.015625 22.609375 22.328125 14.59375 \nQ 28.65625 6.59375 39.40625 6.59375 \nQ 50.140625 6.59375 56.421875 14.59375 \nQ 62.703125 22.609375 62.703125 36.375 \nQ 62.703125 50.203125 56.421875 58.203125 \nQ 50.140625 66.21875 39.40625 66.21875 \nz\nM 39.40625 74.21875 \nQ 54.734375 74.21875 63.90625 63.9375 \nQ 73.09375 53.65625 73.09375 36.375 \nQ 73.09375 19.140625 63.90625 8.859375 \nQ 54.734375 -1.421875 39.40625 -1.421875 \nQ 24.03125 -1.421875 14.8125 8.828125 \nQ 5.609375 19.09375 5.609375 36.375 \nQ 5.609375 53.65625 14.8125 63.9375 \nQ 24.03125 74.21875 39.40625 74.21875 \nz\n\" id=\"DejaVuSans-79\"/>\n     <path d=\"M 19.671875 64.796875 \nL 19.671875 8.109375 \nL 31.59375 8.109375 \nQ 46.6875 8.109375 53.6875 14.9375 \nQ 60.6875 21.78125 60.6875 36.53125 \nQ 60.6875 51.171875 53.6875 57.984375 \nQ 46.6875 64.796875 31.59375 64.796875 \nz\nM 9.8125 72.90625 \nL 30.078125 72.90625 \nQ 51.265625 72.90625 61.171875 64.09375 \nQ 71.09375 55.28125 71.09375 36.53125 \nQ 71.09375 17.671875 61.125 8.828125 \nQ 51.171875 0 30.078125 0 \nL 9.8125 0 \nz\n\" id=\"DejaVuSans-68\"/>\n    </defs>\n    <g transform=\"translate(496.636875 160.538533)scale(0.12 -0.12)\">\n     <use xlink:href=\"#DejaVuSans-67\"/>\n     <use x=\"69.824219\" xlink:href=\"#DejaVuSans-79\"/>\n     <use x=\"148.535156\" xlink:href=\"#DejaVuSans-80\"/>\n     <use x=\"208.837891\" xlink:href=\"#DejaVuSans-68\"/>\n    </g>\n   </g>\n  </g>\n  <g id=\"axes_7\">\n   <g id=\"patch_92\">\n    <path d=\"M 33.2875 421.697717 \nL 188.2875 421.697717 \nL 188.2875 310.758941 \nL 33.2875 310.758941 \nz\n\" style=\"fill:#ffffff;\"/>\n   </g>\n   <g id=\"patch_93\">\n    <path clip-path=\"url(#pc5faf2a194)\" d=\"M 40.332955 421.697717 \nL 54.423864 421.697717 \nL 54.423864 406.476093 \nL 40.332955 406.476093 \nz\n\" style=\"fill:#1f77b4;\"/>\n   </g>\n   <g id=\"patch_94\">\n    <path clip-path=\"url(#pc5faf2a194)\" d=\"M 54.423864 421.697717 \nL 68.514773 421.697717 \nL 68.514773 398.417586 \nL 54.423864 398.417586 \nz\n\" style=\"fill:#1f77b4;\"/>\n   </g>\n   <g id=\"patch_95\">\n    <path clip-path=\"url(#pc5faf2a194)\" d=\"M 68.514773 421.697717 \nL 82.605682 421.697717 \nL 82.605682 366.18356 \nL 68.514773 366.18356 \nz\n\" style=\"fill:#1f77b4;\"/>\n   </g>\n   <g id=\"patch_96\">\n    <path clip-path=\"url(#pc5faf2a194)\" d=\"M 82.605682 421.697717 \nL 96.696591 421.697717 \nL 96.696591 331.263364 \nL 82.605682 331.263364 \nz\n\" style=\"fill:#1f77b4;\"/>\n   </g>\n   <g id=\"patch_97\">\n    <path clip-path=\"url(#pc5faf2a194)\" d=\"M 96.696591 421.697717 \nL 110.7875 421.697717 \nL 110.7875 316.04174 \nL 96.696591 316.04174 \nz\n\" style=\"fill:#1f77b4;\"/>\n   </g>\n   <g id=\"patch_98\">\n    <path clip-path=\"url(#pc5faf2a194)\" d=\"M 110.7875 421.697717 \nL 124.878409 421.697717 \nL 124.878409 336.635702 \nL 110.7875 336.635702 \nz\n\" style=\"fill:#1f77b4;\"/>\n   </g>\n   <g id=\"patch_99\">\n    <path clip-path=\"url(#pc5faf2a194)\" d=\"M 124.878409 421.697717 \nL 138.969318 421.697717 \nL 138.969318 384.091352 \nL 124.878409 384.091352 \nz\n\" style=\"fill:#1f77b4;\"/>\n   </g>\n   <g id=\"patch_100\">\n    <path clip-path=\"url(#pc5faf2a194)\" d=\"M 138.969318 421.697717 \nL 153.060227 421.697717 \nL 153.060227 395.731417 \nL 138.969318 395.731417 \nz\n\" style=\"fill:#1f77b4;\"/>\n   </g>\n   <g id=\"patch_101\">\n    <path clip-path=\"url(#pc5faf2a194)\" d=\"M 153.060227 421.697717 \nL 167.151136 421.697717 \nL 167.151136 417.220769 \nL 153.060227 417.220769 \nz\n\" style=\"fill:#1f77b4;\"/>\n   </g>\n   <g id=\"patch_102\">\n    <path clip-path=\"url(#pc5faf2a194)\" d=\"M 167.151136 421.697717 \nL 181.242045 421.697717 \nL 181.242045 419.906938 \nL 167.151136 419.906938 \nz\n\" style=\"fill:#1f77b4;\"/>\n   </g>\n   <g id=\"matplotlib.axis_13\">\n    <g id=\"xtick_26\">\n     <g id=\"line2d_99\">\n      <path clip-path=\"url(#pc5faf2a194)\" d=\"M 43.450412 421.697717 \nL 43.450412 310.758941 \n\" style=\"fill:none;stroke:#b0b0b0;stroke-linecap:square;stroke-width:0.8;\"/>\n     </g>\n     <g id=\"line2d_100\">\n      <g>\n       <use style=\"stroke:#000000;stroke-width:0.8;\" x=\"43.450412\" xlink:href=\"#m7988bf331b\" y=\"421.697717\"/>\n      </g>\n     </g>\n     <g id=\"text_56\">\n      <!-- 20 -->\n      <g transform=\"translate(37.087912 436.296154)scale(0.1 -0.1)\">\n       <use xlink:href=\"#DejaVuSans-50\"/>\n       <use x=\"63.623047\" xlink:href=\"#DejaVuSans-48\"/>\n      </g>\n     </g>\n    </g>\n    <g id=\"xtick_27\">\n     <g id=\"line2d_101\">\n      <path clip-path=\"url(#pc5faf2a194)\" d=\"M 85.016516 421.697717 \nL 85.016516 310.758941 \n\" style=\"fill:none;stroke:#b0b0b0;stroke-linecap:square;stroke-width:0.8;\"/>\n     </g>\n     <g id=\"line2d_102\">\n      <g>\n       <use style=\"stroke:#000000;stroke-width:0.8;\" x=\"85.016516\" xlink:href=\"#m7988bf331b\" y=\"421.697717\"/>\n      </g>\n     </g>\n     <g id=\"text_57\">\n      <!-- 30 -->\n      <g transform=\"translate(78.654016 436.296154)scale(0.1 -0.1)\">\n       <use xlink:href=\"#DejaVuSans-51\"/>\n       <use x=\"63.623047\" xlink:href=\"#DejaVuSans-48\"/>\n      </g>\n     </g>\n    </g>\n    <g id=\"xtick_28\">\n     <g id=\"line2d_103\">\n      <path clip-path=\"url(#pc5faf2a194)\" d=\"M 126.582619 421.697717 \nL 126.582619 310.758941 \n\" style=\"fill:none;stroke:#b0b0b0;stroke-linecap:square;stroke-width:0.8;\"/>\n     </g>\n     <g id=\"line2d_104\">\n      <g>\n       <use style=\"stroke:#000000;stroke-width:0.8;\" x=\"126.582619\" xlink:href=\"#m7988bf331b\" y=\"421.697717\"/>\n      </g>\n     </g>\n     <g id=\"text_58\">\n      <!-- 40 -->\n      <g transform=\"translate(120.220119 436.296154)scale(0.1 -0.1)\">\n       <use xlink:href=\"#DejaVuSans-52\"/>\n       <use x=\"63.623047\" xlink:href=\"#DejaVuSans-48\"/>\n      </g>\n     </g>\n    </g>\n    <g id=\"xtick_29\">\n     <g id=\"line2d_105\">\n      <path clip-path=\"url(#pc5faf2a194)\" d=\"M 168.148723 421.697717 \nL 168.148723 310.758941 \n\" style=\"fill:none;stroke:#b0b0b0;stroke-linecap:square;stroke-width:0.8;\"/>\n     </g>\n     <g id=\"line2d_106\">\n      <g>\n       <use style=\"stroke:#000000;stroke-width:0.8;\" x=\"168.148723\" xlink:href=\"#m7988bf331b\" y=\"421.697717\"/>\n      </g>\n     </g>\n     <g id=\"text_59\">\n      <!-- 50 -->\n      <g transform=\"translate(161.786223 436.296154)scale(0.1 -0.1)\">\n       <use xlink:href=\"#DejaVuSans-53\"/>\n       <use x=\"63.623047\" xlink:href=\"#DejaVuSans-48\"/>\n      </g>\n     </g>\n    </g>\n   </g>\n   <g id=\"matplotlib.axis_14\">\n    <g id=\"ytick_25\">\n     <g id=\"line2d_107\">\n      <path clip-path=\"url(#pc5faf2a194)\" d=\"M 33.2875 421.697717 \nL 188.2875 421.697717 \n\" style=\"fill:none;stroke:#b0b0b0;stroke-linecap:square;stroke-width:0.8;\"/>\n     </g>\n     <g id=\"line2d_108\">\n      <g>\n       <use style=\"stroke:#000000;stroke-width:0.8;\" x=\"33.2875\" xlink:href=\"#mcfc6db74b8\" y=\"421.697717\"/>\n      </g>\n     </g>\n     <g id=\"text_60\">\n      <!-- 0 -->\n      <g transform=\"translate(19.925 425.496936)scale(0.1 -0.1)\">\n       <use xlink:href=\"#DejaVuSans-48\"/>\n      </g>\n     </g>\n    </g>\n    <g id=\"ytick_26\">\n     <g id=\"line2d_109\">\n      <path clip-path=\"url(#pc5faf2a194)\" d=\"M 33.2875 399.312976 \nL 188.2875 399.312976 \n\" style=\"fill:none;stroke:#b0b0b0;stroke-linecap:square;stroke-width:0.8;\"/>\n     </g>\n     <g id=\"line2d_110\">\n      <g>\n       <use style=\"stroke:#000000;stroke-width:0.8;\" x=\"33.2875\" xlink:href=\"#mcfc6db74b8\" y=\"399.312976\"/>\n      </g>\n     </g>\n     <g id=\"text_61\">\n      <!-- 25 -->\n      <g transform=\"translate(13.5625 403.112195)scale(0.1 -0.1)\">\n       <use xlink:href=\"#DejaVuSans-50\"/>\n       <use x=\"63.623047\" xlink:href=\"#DejaVuSans-53\"/>\n      </g>\n     </g>\n    </g>\n    <g id=\"ytick_27\">\n     <g id=\"line2d_111\">\n      <path clip-path=\"url(#pc5faf2a194)\" d=\"M 33.2875 376.928235 \nL 188.2875 376.928235 \n\" style=\"fill:none;stroke:#b0b0b0;stroke-linecap:square;stroke-width:0.8;\"/>\n     </g>\n     <g id=\"line2d_112\">\n      <g>\n       <use style=\"stroke:#000000;stroke-width:0.8;\" x=\"33.2875\" xlink:href=\"#mcfc6db74b8\" y=\"376.928235\"/>\n      </g>\n     </g>\n     <g id=\"text_62\">\n      <!-- 50 -->\n      <g transform=\"translate(13.5625 380.727454)scale(0.1 -0.1)\">\n       <use xlink:href=\"#DejaVuSans-53\"/>\n       <use x=\"63.623047\" xlink:href=\"#DejaVuSans-48\"/>\n      </g>\n     </g>\n    </g>\n    <g id=\"ytick_28\">\n     <g id=\"line2d_113\">\n      <path clip-path=\"url(#pc5faf2a194)\" d=\"M 33.2875 354.543494 \nL 188.2875 354.543494 \n\" style=\"fill:none;stroke:#b0b0b0;stroke-linecap:square;stroke-width:0.8;\"/>\n     </g>\n     <g id=\"line2d_114\">\n      <g>\n       <use style=\"stroke:#000000;stroke-width:0.8;\" x=\"33.2875\" xlink:href=\"#mcfc6db74b8\" y=\"354.543494\"/>\n      </g>\n     </g>\n     <g id=\"text_63\">\n      <!-- 75 -->\n      <g transform=\"translate(13.5625 358.342713)scale(0.1 -0.1)\">\n       <use xlink:href=\"#DejaVuSans-55\"/>\n       <use x=\"63.623047\" xlink:href=\"#DejaVuSans-53\"/>\n      </g>\n     </g>\n    </g>\n    <g id=\"ytick_29\">\n     <g id=\"line2d_115\">\n      <path clip-path=\"url(#pc5faf2a194)\" d=\"M 33.2875 332.158754 \nL 188.2875 332.158754 \n\" style=\"fill:none;stroke:#b0b0b0;stroke-linecap:square;stroke-width:0.8;\"/>\n     </g>\n     <g id=\"line2d_116\">\n      <g>\n       <use style=\"stroke:#000000;stroke-width:0.8;\" x=\"33.2875\" xlink:href=\"#mcfc6db74b8\" y=\"332.158754\"/>\n      </g>\n     </g>\n     <g id=\"text_64\">\n      <!-- 100 -->\n      <g transform=\"translate(7.2 335.957972)scale(0.1 -0.1)\">\n       <use xlink:href=\"#DejaVuSans-49\"/>\n       <use x=\"63.623047\" xlink:href=\"#DejaVuSans-48\"/>\n       <use x=\"127.246094\" xlink:href=\"#DejaVuSans-48\"/>\n      </g>\n     </g>\n    </g>\n   </g>\n   <g id=\"patch_103\">\n    <path d=\"M 33.2875 421.697717 \nL 33.2875 310.758941 \n\" style=\"fill:none;stroke:#000000;stroke-linecap:square;stroke-linejoin:miter;stroke-width:0.8;\"/>\n   </g>\n   <g id=\"patch_104\">\n    <path d=\"M 188.2875 421.697717 \nL 188.2875 310.758941 \n\" style=\"fill:none;stroke:#000000;stroke-linecap:square;stroke-linejoin:miter;stroke-width:0.8;\"/>\n   </g>\n   <g id=\"patch_105\">\n    <path d=\"M 33.2875 421.697717 \nL 188.2875 421.697717 \n\" style=\"fill:none;stroke:#000000;stroke-linecap:square;stroke-linejoin:miter;stroke-width:0.8;\"/>\n   </g>\n   <g id=\"patch_106\">\n    <path d=\"M 33.2875 310.758941 \nL 188.2875 310.758941 \n\" style=\"fill:none;stroke:#000000;stroke-linecap:square;stroke-linejoin:miter;stroke-width:0.8;\"/>\n   </g>\n   <g id=\"text_65\">\n    <!-- COREM -->\n    <g transform=\"translate(88.7375 304.758941)scale(0.12 -0.12)\">\n     <use xlink:href=\"#DejaVuSans-67\"/>\n     <use x=\"69.824219\" xlink:href=\"#DejaVuSans-79\"/>\n     <use x=\"148.535156\" xlink:href=\"#DejaVuSans-82\"/>\n     <use x=\"218.017578\" xlink:href=\"#DejaVuSans-69\"/>\n     <use x=\"281.201172\" xlink:href=\"#DejaVuSans-77\"/>\n    </g>\n   </g>\n  </g>\n  <g id=\"axes_8\">\n   <g id=\"patch_107\">\n    <path d=\"M 234.7875 421.697717 \nL 389.7875 421.697717 \nL 389.7875 310.758941 \nL 234.7875 310.758941 \nz\n\" style=\"fill:#ffffff;\"/>\n   </g>\n   <g id=\"patch_108\">\n    <path clip-path=\"url(#p0c9a0ce040)\" d=\"M 241.832955 421.697717 \nL 255.923864 421.697717 \nL 255.923864 417.201718 \nL 241.832955 417.201718 \nz\n\" style=\"fill:#1f77b4;\"/>\n   </g>\n   <g id=\"patch_109\">\n    <path clip-path=\"url(#p0c9a0ce040)\" d=\"M 255.923864 421.697717 \nL 270.014773 421.697717 \nL 270.014773 409.33372 \nL 255.923864 409.33372 \nz\n\" style=\"fill:#1f77b4;\"/>\n   </g>\n   <g id=\"patch_110\">\n    <path clip-path=\"url(#p0c9a0ce040)\" d=\"M 270.014773 421.697717 \nL 284.105682 421.697717 \nL 284.105682 377.861727 \nL 270.014773 377.861727 \nz\n\" style=\"fill:#1f77b4;\"/>\n   </g>\n   <g id=\"patch_111\">\n    <path clip-path=\"url(#p0c9a0ce040)\" d=\"M 284.105682 421.697717 \nL 298.196591 421.697717 \nL 298.196591 338.521735 \nL 284.105682 338.521735 \nz\n\" style=\"fill:#1f77b4;\"/>\n   </g>\n   <g id=\"patch_112\">\n    <path clip-path=\"url(#p0c9a0ce040)\" d=\"M 298.196591 421.697717 \nL 312.2875 421.697717 \nL 312.2875 320.537739 \nL 298.196591 320.537739 \nz\n\" style=\"fill:#1f77b4;\"/>\n   </g>\n   <g id=\"patch_113\">\n    <path clip-path=\"url(#p0c9a0ce040)\" d=\"M 312.2875 421.697717 \nL 326.378409 421.697717 \nL 326.378409 331.777737 \nL 312.2875 331.777737 \nz\n\" style=\"fill:#1f77b4;\"/>\n   </g>\n   <g id=\"patch_114\">\n    <path clip-path=\"url(#p0c9a0ce040)\" d=\"M 326.378409 421.697717 \nL 340.469318 421.697717 \nL 340.469318 316.04174 \nL 326.378409 316.04174 \nz\n\" style=\"fill:#1f77b4;\"/>\n   </g>\n   <g id=\"patch_115\">\n    <path clip-path=\"url(#p0c9a0ce040)\" d=\"M 340.469318 421.697717 \nL 354.560227 421.697717 \nL 354.560227 354.257732 \nL 340.469318 354.257732 \nz\n\" style=\"fill:#1f77b4;\"/>\n   </g>\n   <g id=\"patch_116\">\n    <path clip-path=\"url(#p0c9a0ce040)\" d=\"M 354.560227 421.697717 \nL 368.651136 421.697717 \nL 368.651136 384.605725 \nL 354.560227 384.605725 \nz\n\" style=\"fill:#1f77b4;\"/>\n   </g>\n   <g id=\"patch_117\">\n    <path clip-path=\"url(#p0c9a0ce040)\" d=\"M 368.651136 421.697717 \nL 382.742045 421.697717 \nL 382.742045 408.20972 \nL 368.651136 408.20972 \nz\n\" style=\"fill:#1f77b4;\"/>\n   </g>\n   <g id=\"matplotlib.axis_15\">\n    <g id=\"xtick_30\">\n     <g id=\"line2d_117\">\n      <path clip-path=\"url(#p0c9a0ce040)\" d=\"M 270.157285 421.697717 \nL 270.157285 310.758941 \n\" style=\"fill:none;stroke:#b0b0b0;stroke-linecap:square;stroke-width:0.8;\"/>\n     </g>\n     <g id=\"line2d_118\">\n      <g>\n       <use style=\"stroke:#000000;stroke-width:0.8;\" x=\"270.157285\" xlink:href=\"#m7988bf331b\" y=\"421.697717\"/>\n      </g>\n     </g>\n     <g id=\"text_66\">\n      <!-- 50 -->\n      <g transform=\"translate(263.794785 436.296154)scale(0.1 -0.1)\">\n       <use xlink:href=\"#DejaVuSans-53\"/>\n       <use x=\"63.623047\" xlink:href=\"#DejaVuSans-48\"/>\n      </g>\n     </g>\n    </g>\n    <g id=\"xtick_31\">\n     <g id=\"line2d_119\">\n      <path clip-path=\"url(#p0c9a0ce040)\" d=\"M 305.785374 421.697717 \nL 305.785374 310.758941 \n\" style=\"fill:none;stroke:#b0b0b0;stroke-linecap:square;stroke-width:0.8;\"/>\n     </g>\n     <g id=\"line2d_120\">\n      <g>\n       <use style=\"stroke:#000000;stroke-width:0.8;\" x=\"305.785374\" xlink:href=\"#m7988bf331b\" y=\"421.697717\"/>\n      </g>\n     </g>\n     <g id=\"text_67\">\n      <!-- 60 -->\n      <g transform=\"translate(299.422874 436.296154)scale(0.1 -0.1)\">\n       <use xlink:href=\"#DejaVuSans-54\"/>\n       <use x=\"63.623047\" xlink:href=\"#DejaVuSans-48\"/>\n      </g>\n     </g>\n    </g>\n    <g id=\"xtick_32\">\n     <g id=\"line2d_121\">\n      <path clip-path=\"url(#p0c9a0ce040)\" d=\"M 341.413463 421.697717 \nL 341.413463 310.758941 \n\" style=\"fill:none;stroke:#b0b0b0;stroke-linecap:square;stroke-width:0.8;\"/>\n     </g>\n     <g id=\"line2d_122\">\n      <g>\n       <use style=\"stroke:#000000;stroke-width:0.8;\" x=\"341.413463\" xlink:href=\"#m7988bf331b\" y=\"421.697717\"/>\n      </g>\n     </g>\n     <g id=\"text_68\">\n      <!-- 70 -->\n      <g transform=\"translate(335.050963 436.296154)scale(0.1 -0.1)\">\n       <use xlink:href=\"#DejaVuSans-55\"/>\n       <use x=\"63.623047\" xlink:href=\"#DejaVuSans-48\"/>\n      </g>\n     </g>\n    </g>\n    <g id=\"xtick_33\">\n     <g id=\"line2d_123\">\n      <path clip-path=\"url(#p0c9a0ce040)\" d=\"M 377.041551 421.697717 \nL 377.041551 310.758941 \n\" style=\"fill:none;stroke:#b0b0b0;stroke-linecap:square;stroke-width:0.8;\"/>\n     </g>\n     <g id=\"line2d_124\">\n      <g>\n       <use style=\"stroke:#000000;stroke-width:0.8;\" x=\"377.041551\" xlink:href=\"#m7988bf331b\" y=\"421.697717\"/>\n      </g>\n     </g>\n     <g id=\"text_69\">\n      <!-- 80 -->\n      <g transform=\"translate(370.679051 436.296154)scale(0.1 -0.1)\">\n       <use xlink:href=\"#DejaVuSans-56\"/>\n       <use x=\"63.623047\" xlink:href=\"#DejaVuSans-48\"/>\n      </g>\n     </g>\n    </g>\n   </g>\n   <g id=\"matplotlib.axis_16\">\n    <g id=\"ytick_30\">\n     <g id=\"line2d_125\">\n      <path clip-path=\"url(#p0c9a0ce040)\" d=\"M 234.7875 421.697717 \nL 389.7875 421.697717 \n\" style=\"fill:none;stroke:#b0b0b0;stroke-linecap:square;stroke-width:0.8;\"/>\n     </g>\n     <g id=\"line2d_126\">\n      <g>\n       <use style=\"stroke:#000000;stroke-width:0.8;\" x=\"234.7875\" xlink:href=\"#mcfc6db74b8\" y=\"421.697717\"/>\n      </g>\n     </g>\n     <g id=\"text_70\">\n      <!-- 0 -->\n      <g transform=\"translate(221.425 425.496936)scale(0.1 -0.1)\">\n       <use xlink:href=\"#DejaVuSans-48\"/>\n      </g>\n     </g>\n    </g>\n    <g id=\"ytick_31\">\n     <g id=\"line2d_127\">\n      <path clip-path=\"url(#p0c9a0ce040)\" d=\"M 234.7875 399.217722 \nL 389.7875 399.217722 \n\" style=\"fill:none;stroke:#b0b0b0;stroke-linecap:square;stroke-width:0.8;\"/>\n     </g>\n     <g id=\"line2d_128\">\n      <g>\n       <use style=\"stroke:#000000;stroke-width:0.8;\" x=\"234.7875\" xlink:href=\"#mcfc6db74b8\" y=\"399.217722\"/>\n      </g>\n     </g>\n     <g id=\"text_71\">\n      <!-- 20 -->\n      <g transform=\"translate(215.0625 403.016941)scale(0.1 -0.1)\">\n       <use xlink:href=\"#DejaVuSans-50\"/>\n       <use x=\"63.623047\" xlink:href=\"#DejaVuSans-48\"/>\n      </g>\n     </g>\n    </g>\n    <g id=\"ytick_32\">\n     <g id=\"line2d_129\">\n      <path clip-path=\"url(#p0c9a0ce040)\" d=\"M 234.7875 376.737727 \nL 389.7875 376.737727 \n\" style=\"fill:none;stroke:#b0b0b0;stroke-linecap:square;stroke-width:0.8;\"/>\n     </g>\n     <g id=\"line2d_130\">\n      <g>\n       <use style=\"stroke:#000000;stroke-width:0.8;\" x=\"234.7875\" xlink:href=\"#mcfc6db74b8\" y=\"376.737727\"/>\n      </g>\n     </g>\n     <g id=\"text_72\">\n      <!-- 40 -->\n      <g transform=\"translate(215.0625 380.536946)scale(0.1 -0.1)\">\n       <use xlink:href=\"#DejaVuSans-52\"/>\n       <use x=\"63.623047\" xlink:href=\"#DejaVuSans-48\"/>\n      </g>\n     </g>\n    </g>\n    <g id=\"ytick_33\">\n     <g id=\"line2d_131\">\n      <path clip-path=\"url(#p0c9a0ce040)\" d=\"M 234.7875 354.257732 \nL 389.7875 354.257732 \n\" style=\"fill:none;stroke:#b0b0b0;stroke-linecap:square;stroke-width:0.8;\"/>\n     </g>\n     <g id=\"line2d_132\">\n      <g>\n       <use style=\"stroke:#000000;stroke-width:0.8;\" x=\"234.7875\" xlink:href=\"#mcfc6db74b8\" y=\"354.257732\"/>\n      </g>\n     </g>\n     <g id=\"text_73\">\n      <!-- 60 -->\n      <g transform=\"translate(215.0625 358.05695)scale(0.1 -0.1)\">\n       <use xlink:href=\"#DejaVuSans-54\"/>\n       <use x=\"63.623047\" xlink:href=\"#DejaVuSans-48\"/>\n      </g>\n     </g>\n    </g>\n    <g id=\"ytick_34\">\n     <g id=\"line2d_133\">\n      <path clip-path=\"url(#p0c9a0ce040)\" d=\"M 234.7875 331.777737 \nL 389.7875 331.777737 \n\" style=\"fill:none;stroke:#b0b0b0;stroke-linecap:square;stroke-width:0.8;\"/>\n     </g>\n     <g id=\"line2d_134\">\n      <g>\n       <use style=\"stroke:#000000;stroke-width:0.8;\" x=\"234.7875\" xlink:href=\"#mcfc6db74b8\" y=\"331.777737\"/>\n      </g>\n     </g>\n     <g id=\"text_74\">\n      <!-- 80 -->\n      <g transform=\"translate(215.0625 335.576955)scale(0.1 -0.1)\">\n       <use xlink:href=\"#DejaVuSans-56\"/>\n       <use x=\"63.623047\" xlink:href=\"#DejaVuSans-48\"/>\n      </g>\n     </g>\n    </g>\n   </g>\n   <g id=\"patch_118\">\n    <path d=\"M 234.7875 421.697717 \nL 234.7875 310.758941 \n\" style=\"fill:none;stroke:#000000;stroke-linecap:square;stroke-linejoin:miter;stroke-width:0.8;\"/>\n   </g>\n   <g id=\"patch_119\">\n    <path d=\"M 389.7875 421.697717 \nL 389.7875 310.758941 \n\" style=\"fill:none;stroke:#000000;stroke-linecap:square;stroke-linejoin:miter;stroke-width:0.8;\"/>\n   </g>\n   <g id=\"patch_120\">\n    <path d=\"M 234.7875 421.697717 \nL 389.7875 421.697717 \n\" style=\"fill:none;stroke:#000000;stroke-linecap:square;stroke-linejoin:miter;stroke-width:0.8;\"/>\n   </g>\n   <g id=\"patch_121\">\n    <path d=\"M 234.7875 310.758941 \nL 389.7875 310.758941 \n\" style=\"fill:none;stroke:#000000;stroke-linecap:square;stroke-linejoin:miter;stroke-width:0.8;\"/>\n   </g>\n   <g id=\"text_75\">\n    <!-- DENTAL -->\n    <defs>\n     <path d=\"M 9.8125 72.90625 \nL 19.671875 72.90625 \nL 19.671875 8.296875 \nL 55.171875 8.296875 \nL 55.171875 0 \nL 9.8125 0 \nz\n\" id=\"DejaVuSans-76\"/>\n    </defs>\n    <g transform=\"translate(288.740313 304.758941)scale(0.12 -0.12)\">\n     <use xlink:href=\"#DejaVuSans-68\"/>\n     <use x=\"77.001953\" xlink:href=\"#DejaVuSans-69\"/>\n     <use x=\"140.185547\" xlink:href=\"#DejaVuSans-78\"/>\n     <use x=\"214.990234\" xlink:href=\"#DejaVuSans-84\"/>\n     <use x=\"268.324219\" xlink:href=\"#DejaVuSans-65\"/>\n     <use x=\"336.732422\" xlink:href=\"#DejaVuSans-76\"/>\n    </g>\n   </g>\n  </g>\n  <g id=\"axes_9\">\n   <g id=\"patch_122\">\n    <path d=\"M 436.2875 421.697717 \nL 591.2875 421.697717 \nL 591.2875 310.758941 \nL 436.2875 310.758941 \nz\n\" style=\"fill:#ffffff;\"/>\n   </g>\n   <g id=\"patch_123\">\n    <path clip-path=\"url(#pec3e0dedf0)\" d=\"M 443.332955 421.697717 \nL 457.423864 421.697717 \nL 457.423864 415.482659 \nL 443.332955 415.482659 \nz\n\" style=\"fill:#1f77b4;\"/>\n   </g>\n   <g id=\"patch_124\">\n    <path clip-path=\"url(#pec3e0dedf0)\" d=\"M 457.423864 421.697717 \nL 471.514773 421.697717 \nL 471.514773 341.789835 \nL 457.423864 341.789835 \nz\n\" style=\"fill:#1f77b4;\"/>\n   </g>\n   <g id=\"patch_125\">\n    <path clip-path=\"url(#pec3e0dedf0)\" d=\"M 471.514773 421.697717 \nL 485.605682 421.697717 \nL 485.605682 323.144663 \nL 471.514773 323.144663 \nz\n\" style=\"fill:#1f77b4;\"/>\n   </g>\n   <g id=\"patch_126\">\n    <path clip-path=\"url(#pec3e0dedf0)\" d=\"M 485.605682 421.697717 \nL 499.696591 421.697717 \nL 499.696591 316.04174 \nL 485.605682 316.04174 \nz\n\" style=\"fill:#1f77b4;\"/>\n   </g>\n   <g id=\"patch_127\">\n    <path clip-path=\"url(#pec3e0dedf0)\" d=\"M 499.696591 421.697717 \nL 513.7875 421.697717 \nL 513.7875 329.35972 \nL 499.696591 329.35972 \nz\n\" style=\"fill:#1f77b4;\"/>\n   </g>\n   <g id=\"patch_128\">\n    <path clip-path=\"url(#pec3e0dedf0)\" d=\"M 513.7875 421.697717 \nL 527.878409 421.697717 \nL 527.878409 388.846699 \nL 513.7875 388.846699 \nz\n\" style=\"fill:#1f77b4;\"/>\n   </g>\n   <g id=\"patch_129\">\n    <path clip-path=\"url(#pec3e0dedf0)\" d=\"M 527.878409 421.697717 \nL 541.969318 421.697717 \nL 541.969318 404.828275 \nL 527.878409 404.828275 \nz\n\" style=\"fill:#1f77b4;\"/>\n   </g>\n   <g id=\"patch_130\">\n    <path clip-path=\"url(#pec3e0dedf0)\" d=\"M 541.969318 421.697717 \nL 556.060227 421.697717 \nL 556.060227 416.370525 \nL 541.969318 416.370525 \nz\n\" style=\"fill:#1f77b4;\"/>\n   </g>\n   <g id=\"patch_131\">\n    <path clip-path=\"url(#pec3e0dedf0)\" d=\"M 556.060227 421.697717 \nL 570.151136 421.697717 \nL 570.151136 419.034121 \nL 556.060227 419.034121 \nz\n\" style=\"fill:#1f77b4;\"/>\n   </g>\n   <g id=\"patch_132\">\n    <path clip-path=\"url(#pec3e0dedf0)\" d=\"M 570.151136 421.697717 \nL 584.242045 421.697717 \nL 584.242045 420.809851 \nL 570.151136 420.809851 \nz\n\" style=\"fill:#1f77b4;\"/>\n   </g>\n   <g id=\"matplotlib.axis_17\">\n    <g id=\"xtick_34\">\n     <g id=\"line2d_135\">\n      <path clip-path=\"url(#pec3e0dedf0)\" d=\"M 443.793442 421.697717 \nL 443.793442 310.758941 \n\" style=\"fill:none;stroke:#b0b0b0;stroke-linecap:square;stroke-width:0.8;\"/>\n     </g>\n     <g id=\"line2d_136\">\n      <g>\n       <use style=\"stroke:#000000;stroke-width:0.8;\" x=\"443.793442\" xlink:href=\"#m7988bf331b\" y=\"421.697717\"/>\n      </g>\n     </g>\n     <g id=\"text_76\">\n      <!-- 5 -->\n      <g transform=\"translate(440.612192 436.296154)scale(0.1 -0.1)\">\n       <use xlink:href=\"#DejaVuSans-53\"/>\n      </g>\n     </g>\n    </g>\n    <g id=\"xtick_35\">\n     <g id=\"line2d_137\">\n      <path clip-path=\"url(#pec3e0dedf0)\" d=\"M 489.842164 421.697717 \nL 489.842164 310.758941 \n\" style=\"fill:none;stroke:#b0b0b0;stroke-linecap:square;stroke-width:0.8;\"/>\n     </g>\n     <g id=\"line2d_138\">\n      <g>\n       <use style=\"stroke:#000000;stroke-width:0.8;\" x=\"489.842164\" xlink:href=\"#m7988bf331b\" y=\"421.697717\"/>\n      </g>\n     </g>\n     <g id=\"text_77\">\n      <!-- 10 -->\n      <g transform=\"translate(483.479664 436.296154)scale(0.1 -0.1)\">\n       <use xlink:href=\"#DejaVuSans-49\"/>\n       <use x=\"63.623047\" xlink:href=\"#DejaVuSans-48\"/>\n      </g>\n     </g>\n    </g>\n    <g id=\"xtick_36\">\n     <g id=\"line2d_139\">\n      <path clip-path=\"url(#pec3e0dedf0)\" d=\"M 535.890887 421.697717 \nL 535.890887 310.758941 \n\" style=\"fill:none;stroke:#b0b0b0;stroke-linecap:square;stroke-width:0.8;\"/>\n     </g>\n     <g id=\"line2d_140\">\n      <g>\n       <use style=\"stroke:#000000;stroke-width:0.8;\" x=\"535.890887\" xlink:href=\"#m7988bf331b\" y=\"421.697717\"/>\n      </g>\n     </g>\n     <g id=\"text_78\">\n      <!-- 15 -->\n      <g transform=\"translate(529.528387 436.296154)scale(0.1 -0.1)\">\n       <use xlink:href=\"#DejaVuSans-49\"/>\n       <use x=\"63.623047\" xlink:href=\"#DejaVuSans-53\"/>\n      </g>\n     </g>\n    </g>\n    <g id=\"xtick_37\">\n     <g id=\"line2d_141\">\n      <path clip-path=\"url(#pec3e0dedf0)\" d=\"M 581.939609 421.697717 \nL 581.939609 310.758941 \n\" style=\"fill:none;stroke:#b0b0b0;stroke-linecap:square;stroke-width:0.8;\"/>\n     </g>\n     <g id=\"line2d_142\">\n      <g>\n       <use style=\"stroke:#000000;stroke-width:0.8;\" x=\"581.939609\" xlink:href=\"#m7988bf331b\" y=\"421.697717\"/>\n      </g>\n     </g>\n     <g id=\"text_79\">\n      <!-- 20 -->\n      <g transform=\"translate(575.577109 436.296154)scale(0.1 -0.1)\">\n       <use xlink:href=\"#DejaVuSans-50\"/>\n       <use x=\"63.623047\" xlink:href=\"#DejaVuSans-48\"/>\n      </g>\n     </g>\n    </g>\n   </g>\n   <g id=\"matplotlib.axis_18\">\n    <g id=\"ytick_35\">\n     <g id=\"line2d_143\">\n      <path clip-path=\"url(#pec3e0dedf0)\" d=\"M 436.2875 421.697717 \nL 591.2875 421.697717 \n\" style=\"fill:none;stroke:#b0b0b0;stroke-linecap:square;stroke-width:0.8;\"/>\n     </g>\n     <g id=\"line2d_144\">\n      <g>\n       <use style=\"stroke:#000000;stroke-width:0.8;\" x=\"436.2875\" xlink:href=\"#mcfc6db74b8\" y=\"421.697717\"/>\n      </g>\n     </g>\n     <g id=\"text_80\">\n      <!-- 0 -->\n      <g transform=\"translate(422.925 425.496936)scale(0.1 -0.1)\">\n       <use xlink:href=\"#DejaVuSans-48\"/>\n      </g>\n     </g>\n    </g>\n    <g id=\"ytick_36\">\n     <g id=\"line2d_145\">\n      <path clip-path=\"url(#pec3e0dedf0)\" d=\"M 436.2875 399.501083 \nL 591.2875 399.501083 \n\" style=\"fill:none;stroke:#b0b0b0;stroke-linecap:square;stroke-width:0.8;\"/>\n     </g>\n     <g id=\"line2d_146\">\n      <g>\n       <use style=\"stroke:#000000;stroke-width:0.8;\" x=\"436.2875\" xlink:href=\"#mcfc6db74b8\" y=\"399.501083\"/>\n      </g>\n     </g>\n     <g id=\"text_81\">\n      <!-- 25 -->\n      <g transform=\"translate(416.5625 403.300302)scale(0.1 -0.1)\">\n       <use xlink:href=\"#DejaVuSans-50\"/>\n       <use x=\"63.623047\" xlink:href=\"#DejaVuSans-53\"/>\n      </g>\n     </g>\n    </g>\n    <g id=\"ytick_37\">\n     <g id=\"line2d_147\">\n      <path clip-path=\"url(#pec3e0dedf0)\" d=\"M 436.2875 377.304449 \nL 591.2875 377.304449 \n\" style=\"fill:none;stroke:#b0b0b0;stroke-linecap:square;stroke-width:0.8;\"/>\n     </g>\n     <g id=\"line2d_148\">\n      <g>\n       <use style=\"stroke:#000000;stroke-width:0.8;\" x=\"436.2875\" xlink:href=\"#mcfc6db74b8\" y=\"377.304449\"/>\n      </g>\n     </g>\n     <g id=\"text_82\">\n      <!-- 50 -->\n      <g transform=\"translate(416.5625 381.103668)scale(0.1 -0.1)\">\n       <use xlink:href=\"#DejaVuSans-53\"/>\n       <use x=\"63.623047\" xlink:href=\"#DejaVuSans-48\"/>\n      </g>\n     </g>\n    </g>\n    <g id=\"ytick_38\">\n     <g id=\"line2d_149\">\n      <path clip-path=\"url(#pec3e0dedf0)\" d=\"M 436.2875 355.107816 \nL 591.2875 355.107816 \n\" style=\"fill:none;stroke:#b0b0b0;stroke-linecap:square;stroke-width:0.8;\"/>\n     </g>\n     <g id=\"line2d_150\">\n      <g>\n       <use style=\"stroke:#000000;stroke-width:0.8;\" x=\"436.2875\" xlink:href=\"#mcfc6db74b8\" y=\"355.107816\"/>\n      </g>\n     </g>\n     <g id=\"text_83\">\n      <!-- 75 -->\n      <g transform=\"translate(416.5625 358.907034)scale(0.1 -0.1)\">\n       <use xlink:href=\"#DejaVuSans-55\"/>\n       <use x=\"63.623047\" xlink:href=\"#DejaVuSans-53\"/>\n      </g>\n     </g>\n    </g>\n    <g id=\"ytick_39\">\n     <g id=\"line2d_151\">\n      <path clip-path=\"url(#pec3e0dedf0)\" d=\"M 436.2875 332.911182 \nL 591.2875 332.911182 \n\" style=\"fill:none;stroke:#b0b0b0;stroke-linecap:square;stroke-width:0.8;\"/>\n     </g>\n     <g id=\"line2d_152\">\n      <g>\n       <use style=\"stroke:#000000;stroke-width:0.8;\" x=\"436.2875\" xlink:href=\"#mcfc6db74b8\" y=\"332.911182\"/>\n      </g>\n     </g>\n     <g id=\"text_84\">\n      <!-- 100 -->\n      <g transform=\"translate(410.2 336.710401)scale(0.1 -0.1)\">\n       <use xlink:href=\"#DejaVuSans-49\"/>\n       <use x=\"63.623047\" xlink:href=\"#DejaVuSans-48\"/>\n       <use x=\"127.246094\" xlink:href=\"#DejaVuSans-48\"/>\n      </g>\n     </g>\n    </g>\n   </g>\n   <g id=\"patch_133\">\n    <path d=\"M 436.2875 421.697717 \nL 436.2875 310.758941 \n\" style=\"fill:none;stroke:#000000;stroke-linecap:square;stroke-linejoin:miter;stroke-width:0.8;\"/>\n   </g>\n   <g id=\"patch_134\">\n    <path d=\"M 591.2875 421.697717 \nL 591.2875 310.758941 \n\" style=\"fill:none;stroke:#000000;stroke-linecap:square;stroke-linejoin:miter;stroke-width:0.8;\"/>\n   </g>\n   <g id=\"patch_135\">\n    <path d=\"M 436.2875 421.697717 \nL 591.2875 421.697717 \n\" style=\"fill:none;stroke:#000000;stroke-linecap:square;stroke-linejoin:miter;stroke-width:0.8;\"/>\n   </g>\n   <g id=\"patch_136\">\n    <path d=\"M 436.2875 310.758941 \nL 591.2875 310.758941 \n\" style=\"fill:none;stroke:#000000;stroke-linecap:square;stroke-linejoin:miter;stroke-width:0.8;\"/>\n   </g>\n   <g id=\"text_85\">\n    <!-- DIABETES -->\n    <defs>\n     <path d=\"M 19.671875 34.8125 \nL 19.671875 8.109375 \nL 35.5 8.109375 \nQ 43.453125 8.109375 47.28125 11.40625 \nQ 51.125 14.703125 51.125 21.484375 \nQ 51.125 28.328125 47.28125 31.5625 \nQ 43.453125 34.8125 35.5 34.8125 \nz\nM 19.671875 64.796875 \nL 19.671875 42.828125 \nL 34.28125 42.828125 \nQ 41.5 42.828125 45.03125 45.53125 \nQ 48.578125 48.25 48.578125 53.8125 \nQ 48.578125 59.328125 45.03125 62.0625 \nQ 41.5 64.796875 34.28125 64.796875 \nz\nM 9.8125 72.90625 \nL 35.015625 72.90625 \nQ 46.296875 72.90625 52.390625 68.21875 \nQ 58.5 63.53125 58.5 54.890625 \nQ 58.5 48.1875 55.375 44.234375 \nQ 52.25 40.28125 46.1875 39.3125 \nQ 53.46875 37.75 57.5 32.78125 \nQ 61.53125 27.828125 61.53125 20.40625 \nQ 61.53125 10.640625 54.890625 5.3125 \nQ 48.25 0 35.984375 0 \nL 9.8125 0 \nz\n\" id=\"DejaVuSans-66\"/>\n    </defs>\n    <g transform=\"translate(484.120313 304.758941)scale(0.12 -0.12)\">\n     <use xlink:href=\"#DejaVuSans-68\"/>\n     <use x=\"77.001953\" xlink:href=\"#DejaVuSans-73\"/>\n     <use x=\"106.494141\" xlink:href=\"#DejaVuSans-65\"/>\n     <use x=\"174.902344\" xlink:href=\"#DejaVuSans-66\"/>\n     <use x=\"243.505859\" xlink:href=\"#DejaVuSans-69\"/>\n     <use x=\"306.689453\" xlink:href=\"#DejaVuSans-84\"/>\n     <use x=\"367.773438\" xlink:href=\"#DejaVuSans-69\"/>\n     <use x=\"430.957031\" xlink:href=\"#DejaVuSans-83\"/>\n    </g>\n   </g>\n  </g>\n  <g id=\"axes_10\">\n   <g id=\"patch_137\">\n    <path d=\"M 33.2875 565.918125 \nL 188.2875 565.918125 \nL 188.2875 454.979349 \nL 33.2875 454.979349 \nz\n\" style=\"fill:#ffffff;\"/>\n   </g>\n   <g id=\"patch_138\">\n    <path clip-path=\"url(#pc607d4391f)\" d=\"M 40.332955 565.918125 \nL 54.423864 565.918125 \nL 54.423864 561.968369 \nL 40.332955 561.968369 \nz\n\" style=\"fill:#1f77b4;\"/>\n   </g>\n   <g id=\"patch_139\">\n    <path clip-path=\"url(#pc607d4391f)\" d=\"M 54.423864 565.918125 \nL 68.514773 565.918125 \nL 68.514773 556.043735 \nL 54.423864 556.043735 \nz\n\" style=\"fill:#1f77b4;\"/>\n   </g>\n   <g id=\"patch_140\">\n    <path clip-path=\"url(#pc607d4391f)\" d=\"M 68.514773 565.918125 \nL 82.605682 565.918125 \nL 82.605682 533.332637 \nL 68.514773 533.332637 \nz\n\" style=\"fill:#1f77b4;\"/>\n   </g>\n   <g id=\"patch_141\">\n    <path clip-path=\"url(#pc607d4391f)\" d=\"M 82.605682 565.918125 \nL 96.696591 565.918125 \nL 96.696591 510.621539 \nL 82.605682 510.621539 \nz\n\" style=\"fill:#1f77b4;\"/>\n   </g>\n   <g id=\"patch_142\">\n    <path clip-path=\"url(#pc607d4391f)\" d=\"M 96.696591 565.918125 \nL 110.7875 565.918125 \nL 110.7875 460.262148 \nL 96.696591 460.262148 \nz\n\" style=\"fill:#1f77b4;\"/>\n   </g>\n   <g id=\"patch_143\">\n    <path clip-path=\"url(#pc607d4391f)\" d=\"M 110.7875 565.918125 \nL 124.878409 565.918125 \nL 124.878409 465.199343 \nL 110.7875 465.199343 \nz\n\" style=\"fill:#1f77b4;\"/>\n   </g>\n   <g id=\"patch_144\">\n    <path clip-path=\"url(#pc607d4391f)\" d=\"M 124.878409 565.918125 \nL 138.969318 565.918125 \nL 138.969318 473.098856 \nL 124.878409 473.098856 \nz\n\" style=\"fill:#1f77b4;\"/>\n   </g>\n   <g id=\"patch_145\">\n    <path clip-path=\"url(#pc607d4391f)\" d=\"M 138.969318 565.918125 \nL 153.060227 565.918125 \nL 153.060227 503.709466 \nL 138.969318 503.709466 \nz\n\" style=\"fill:#1f77b4;\"/>\n   </g>\n   <g id=\"patch_146\">\n    <path clip-path=\"url(#pc607d4391f)\" d=\"M 153.060227 565.918125 \nL 167.151136 565.918125 \nL 167.151136 541.232149 \nL 153.060227 541.232149 \nz\n\" style=\"fill:#1f77b4;\"/>\n   </g>\n   <g id=\"patch_147\">\n    <path clip-path=\"url(#pc607d4391f)\" d=\"M 167.151136 565.918125 \nL 181.242045 565.918125 \nL 181.242045 562.955808 \nL 167.151136 562.955808 \nz\n\" style=\"fill:#1f77b4;\"/>\n   </g>\n   <g id=\"matplotlib.axis_19\">\n    <g id=\"xtick_38\">\n     <g id=\"line2d_153\">\n      <path clip-path=\"url(#pc607d4391f)\" d=\"M 35.208988 565.918125 \nL 35.208988 454.979349 \n\" style=\"fill:none;stroke:#b0b0b0;stroke-linecap:square;stroke-width:0.8;\"/>\n     </g>\n     <g id=\"line2d_154\">\n      <g>\n       <use style=\"stroke:#000000;stroke-width:0.8;\" x=\"35.208988\" xlink:href=\"#m7988bf331b\" y=\"565.918125\"/>\n      </g>\n     </g>\n     <g id=\"text_86\">\n      <!-- 25 -->\n      <g transform=\"translate(28.846488 580.516562)scale(0.1 -0.1)\">\n       <use xlink:href=\"#DejaVuSans-50\"/>\n       <use x=\"63.623047\" xlink:href=\"#DejaVuSans-53\"/>\n      </g>\n     </g>\n    </g>\n    <g id=\"xtick_39\">\n     <g id=\"line2d_155\">\n      <path clip-path=\"url(#pc607d4391f)\" d=\"M 86.448657 565.918125 \nL 86.448657 454.979349 \n\" style=\"fill:none;stroke:#b0b0b0;stroke-linecap:square;stroke-width:0.8;\"/>\n     </g>\n     <g id=\"line2d_156\">\n      <g>\n       <use style=\"stroke:#000000;stroke-width:0.8;\" x=\"86.448657\" xlink:href=\"#m7988bf331b\" y=\"565.918125\"/>\n      </g>\n     </g>\n     <g id=\"text_87\">\n      <!-- 30 -->\n      <g transform=\"translate(80.086157 580.516562)scale(0.1 -0.1)\">\n       <use xlink:href=\"#DejaVuSans-51\"/>\n       <use x=\"63.623047\" xlink:href=\"#DejaVuSans-48\"/>\n      </g>\n     </g>\n    </g>\n    <g id=\"xtick_40\">\n     <g id=\"line2d_157\">\n      <path clip-path=\"url(#pc607d4391f)\" d=\"M 137.688326 565.918125 \nL 137.688326 454.979349 \n\" style=\"fill:none;stroke:#b0b0b0;stroke-linecap:square;stroke-width:0.8;\"/>\n     </g>\n     <g id=\"line2d_158\">\n      <g>\n       <use style=\"stroke:#000000;stroke-width:0.8;\" x=\"137.688326\" xlink:href=\"#m7988bf331b\" y=\"565.918125\"/>\n      </g>\n     </g>\n     <g id=\"text_88\">\n      <!-- 35 -->\n      <g transform=\"translate(131.325826 580.516562)scale(0.1 -0.1)\">\n       <use xlink:href=\"#DejaVuSans-51\"/>\n       <use x=\"63.623047\" xlink:href=\"#DejaVuSans-53\"/>\n      </g>\n     </g>\n    </g>\n   </g>\n   <g id=\"matplotlib.axis_20\">\n    <g id=\"ytick_40\">\n     <g id=\"line2d_159\">\n      <path clip-path=\"url(#pc607d4391f)\" d=\"M 33.2875 565.918125 \nL 188.2875 565.918125 \n\" style=\"fill:none;stroke:#b0b0b0;stroke-linecap:square;stroke-width:0.8;\"/>\n     </g>\n     <g id=\"line2d_160\">\n      <g>\n       <use style=\"stroke:#000000;stroke-width:0.8;\" x=\"33.2875\" xlink:href=\"#mcfc6db74b8\" y=\"565.918125\"/>\n      </g>\n     </g>\n     <g id=\"text_89\">\n      <!-- 0 -->\n      <g transform=\"translate(19.925 569.717344)scale(0.1 -0.1)\">\n       <use xlink:href=\"#DejaVuSans-48\"/>\n      </g>\n     </g>\n    </g>\n    <g id=\"ytick_41\">\n     <g id=\"line2d_161\">\n      <path clip-path=\"url(#pc607d4391f)\" d=\"M 33.2875 541.232149 \nL 188.2875 541.232149 \n\" style=\"fill:none;stroke:#b0b0b0;stroke-linecap:square;stroke-width:0.8;\"/>\n     </g>\n     <g id=\"line2d_162\">\n      <g>\n       <use style=\"stroke:#000000;stroke-width:0.8;\" x=\"33.2875\" xlink:href=\"#mcfc6db74b8\" y=\"541.232149\"/>\n      </g>\n     </g>\n     <g id=\"text_90\">\n      <!-- 25 -->\n      <g transform=\"translate(13.5625 545.031368)scale(0.1 -0.1)\">\n       <use xlink:href=\"#DejaVuSans-50\"/>\n       <use x=\"63.623047\" xlink:href=\"#DejaVuSans-53\"/>\n      </g>\n     </g>\n    </g>\n    <g id=\"ytick_42\">\n     <g id=\"line2d_163\">\n      <path clip-path=\"url(#pc607d4391f)\" d=\"M 33.2875 516.546173 \nL 188.2875 516.546173 \n\" style=\"fill:none;stroke:#b0b0b0;stroke-linecap:square;stroke-width:0.8;\"/>\n     </g>\n     <g id=\"line2d_164\">\n      <g>\n       <use style=\"stroke:#000000;stroke-width:0.8;\" x=\"33.2875\" xlink:href=\"#mcfc6db74b8\" y=\"516.546173\"/>\n      </g>\n     </g>\n     <g id=\"text_91\">\n      <!-- 50 -->\n      <g transform=\"translate(13.5625 520.345392)scale(0.1 -0.1)\">\n       <use xlink:href=\"#DejaVuSans-53\"/>\n       <use x=\"63.623047\" xlink:href=\"#DejaVuSans-48\"/>\n      </g>\n     </g>\n    </g>\n    <g id=\"ytick_43\">\n     <g id=\"line2d_165\">\n      <path clip-path=\"url(#pc607d4391f)\" d=\"M 33.2875 491.860197 \nL 188.2875 491.860197 \n\" style=\"fill:none;stroke:#b0b0b0;stroke-linecap:square;stroke-width:0.8;\"/>\n     </g>\n     <g id=\"line2d_166\">\n      <g>\n       <use style=\"stroke:#000000;stroke-width:0.8;\" x=\"33.2875\" xlink:href=\"#mcfc6db74b8\" y=\"491.860197\"/>\n      </g>\n     </g>\n     <g id=\"text_92\">\n      <!-- 75 -->\n      <g transform=\"translate(13.5625 495.659416)scale(0.1 -0.1)\">\n       <use xlink:href=\"#DejaVuSans-55\"/>\n       <use x=\"63.623047\" xlink:href=\"#DejaVuSans-53\"/>\n      </g>\n     </g>\n    </g>\n    <g id=\"ytick_44\">\n     <g id=\"line2d_167\">\n      <path clip-path=\"url(#pc607d4391f)\" d=\"M 33.2875 467.174222 \nL 188.2875 467.174222 \n\" style=\"fill:none;stroke:#b0b0b0;stroke-linecap:square;stroke-width:0.8;\"/>\n     </g>\n     <g id=\"line2d_168\">\n      <g>\n       <use style=\"stroke:#000000;stroke-width:0.8;\" x=\"33.2875\" xlink:href=\"#mcfc6db74b8\" y=\"467.174222\"/>\n      </g>\n     </g>\n     <g id=\"text_93\">\n      <!-- 100 -->\n      <g transform=\"translate(7.2 470.97344)scale(0.1 -0.1)\">\n       <use xlink:href=\"#DejaVuSans-49\"/>\n       <use x=\"63.623047\" xlink:href=\"#DejaVuSans-48\"/>\n       <use x=\"127.246094\" xlink:href=\"#DejaVuSans-48\"/>\n      </g>\n     </g>\n    </g>\n   </g>\n   <g id=\"patch_148\">\n    <path d=\"M 33.2875 565.918125 \nL 33.2875 454.979349 \n\" style=\"fill:none;stroke:#000000;stroke-linecap:square;stroke-linejoin:miter;stroke-width:0.8;\"/>\n   </g>\n   <g id=\"patch_149\">\n    <path d=\"M 188.2875 565.918125 \nL 188.2875 454.979349 \n\" style=\"fill:none;stroke:#000000;stroke-linecap:square;stroke-linejoin:miter;stroke-width:0.8;\"/>\n   </g>\n   <g id=\"patch_150\">\n    <path d=\"M 33.2875 565.918125 \nL 188.2875 565.918125 \n\" style=\"fill:none;stroke:#000000;stroke-linecap:square;stroke-linejoin:miter;stroke-width:0.8;\"/>\n   </g>\n   <g id=\"patch_151\">\n    <path d=\"M 33.2875 454.979349 \nL 188.2875 454.979349 \n\" style=\"fill:none;stroke:#000000;stroke-linecap:square;stroke-linejoin:miter;stroke-width:0.8;\"/>\n   </g>\n   <g id=\"text_94\">\n    <!-- HIGHCHOL -->\n    <defs>\n     <path d=\"M 59.515625 10.40625 \nL 59.515625 29.984375 \nL 43.40625 29.984375 \nL 43.40625 38.09375 \nL 69.28125 38.09375 \nL 69.28125 6.78125 \nQ 63.578125 2.734375 56.6875 0.65625 \nQ 49.8125 -1.421875 42 -1.421875 \nQ 24.90625 -1.421875 15.25 8.5625 \nQ 5.609375 18.5625 5.609375 36.375 \nQ 5.609375 54.25 15.25 64.234375 \nQ 24.90625 74.21875 42 74.21875 \nQ 49.125 74.21875 55.546875 72.453125 \nQ 61.96875 70.703125 67.390625 67.28125 \nL 67.390625 56.78125 \nQ 61.921875 61.421875 55.765625 63.765625 \nQ 49.609375 66.109375 42.828125 66.109375 \nQ 29.4375 66.109375 22.71875 58.640625 \nQ 16.015625 51.171875 16.015625 36.375 \nQ 16.015625 21.625 22.71875 14.15625 \nQ 29.4375 6.6875 42.828125 6.6875 \nQ 48.046875 6.6875 52.140625 7.59375 \nQ 56.25 8.5 59.515625 10.40625 \nz\n\" id=\"DejaVuSans-71\"/>\n    </defs>\n    <g transform=\"translate(78.575938 448.979349)scale(0.12 -0.12)\">\n     <use xlink:href=\"#DejaVuSans-72\"/>\n     <use x=\"75.195312\" xlink:href=\"#DejaVuSans-73\"/>\n     <use x=\"104.6875\" xlink:href=\"#DejaVuSans-71\"/>\n     <use x=\"182.177734\" xlink:href=\"#DejaVuSans-72\"/>\n     <use x=\"257.373047\" xlink:href=\"#DejaVuSans-67\"/>\n     <use x=\"327.197266\" xlink:href=\"#DejaVuSans-72\"/>\n     <use x=\"402.392578\" xlink:href=\"#DejaVuSans-79\"/>\n     <use x=\"481.103516\" xlink:href=\"#DejaVuSans-76\"/>\n    </g>\n   </g>\n  </g>\n  <g id=\"axes_11\">\n   <g id=\"patch_152\">\n    <path d=\"M 234.7875 565.918125 \nL 389.7875 565.918125 \nL 389.7875 454.979349 \nL 234.7875 454.979349 \nz\n\" style=\"fill:#ffffff;\"/>\n   </g>\n   <g id=\"patch_153\">\n    <path clip-path=\"url(#p16f391066a)\" d=\"M 241.832955 565.918125 \nL 255.923864 565.918125 \nL 255.923864 546.97979 \nL 241.832955 546.97979 \nz\n\" style=\"fill:#1f77b4;\"/>\n   </g>\n   <g id=\"patch_154\">\n    <path clip-path=\"url(#p16f391066a)\" d=\"M 255.923864 565.918125 \nL 270.014773 565.918125 \nL 270.014773 492.158292 \nL 255.923864 492.158292 \nz\n\" style=\"fill:#1f77b4;\"/>\n   </g>\n   <g id=\"patch_155\">\n    <path clip-path=\"url(#p16f391066a)\" d=\"M 270.014773 565.918125 \nL 284.105682 565.918125 \nL 284.105682 467.23943 \nL 270.014773 467.23943 \nz\n\" style=\"fill:#1f77b4;\"/>\n   </g>\n   <g id=\"patch_156\">\n    <path clip-path=\"url(#p16f391066a)\" d=\"M 284.105682 565.918125 \nL 298.196591 565.918125 \nL 298.196591 476.21022 \nL 284.105682 476.21022 \nz\n\" style=\"fill:#1f77b4;\"/>\n   </g>\n   <g id=\"patch_157\">\n    <path clip-path=\"url(#p16f391066a)\" d=\"M 298.196591 565.918125 \nL 312.2875 565.918125 \nL 312.2875 460.262148 \nL 298.196591 460.262148 \nz\n\" style=\"fill:#1f77b4;\"/>\n   </g>\n   <g id=\"patch_158\">\n    <path clip-path=\"url(#p16f391066a)\" d=\"M 312.2875 565.918125 \nL 326.378409 565.918125 \nL 326.378409 497.142065 \nL 312.2875 497.142065 \nz\n\" style=\"fill:#1f77b4;\"/>\n   </g>\n   <g id=\"patch_159\">\n    <path clip-path=\"url(#p16f391066a)\" d=\"M 326.378409 565.918125 \nL 340.469318 565.918125 \nL 340.469318 542.992772 \nL 326.378409 542.992772 \nz\n\" style=\"fill:#1f77b4;\"/>\n   </g>\n   <g id=\"patch_160\">\n    <path clip-path=\"url(#p16f391066a)\" d=\"M 340.469318 565.918125 \nL 354.560227 565.918125 \nL 354.560227 559.937598 \nL 340.469318 559.937598 \nz\n\" style=\"fill:#1f77b4;\"/>\n   </g>\n   <g id=\"patch_161\">\n    <path clip-path=\"url(#p16f391066a)\" d=\"M 354.560227 565.918125 \nL 368.651136 565.918125 \nL 368.651136 557.944089 \nL 354.560227 557.944089 \nz\n\" style=\"fill:#1f77b4;\"/>\n   </g>\n   <g id=\"patch_162\">\n    <path clip-path=\"url(#p16f391066a)\" d=\"M 368.651136 565.918125 \nL 382.742045 565.918125 \nL 382.742045 562.927862 \nL 368.651136 562.927862 \nz\n\" style=\"fill:#1f77b4;\"/>\n   </g>\n   <g id=\"matplotlib.axis_21\">\n    <g id=\"xtick_41\">\n     <g id=\"line2d_169\">\n      <path clip-path=\"url(#p16f391066a)\" d=\"M 239.936466 565.918125 \nL 239.936466 454.979349 \n\" style=\"fill:none;stroke:#b0b0b0;stroke-linecap:square;stroke-width:0.8;\"/>\n     </g>\n     <g id=\"line2d_170\">\n      <g>\n       <use style=\"stroke:#000000;stroke-width:0.8;\" x=\"239.936466\" xlink:href=\"#m7988bf331b\" y=\"565.918125\"/>\n      </g>\n     </g>\n     <g id=\"text_95\">\n      <!-- 10 -->\n      <g transform=\"translate(233.573966 580.516562)scale(0.1 -0.1)\">\n       <use xlink:href=\"#DejaVuSans-49\"/>\n       <use x=\"63.623047\" xlink:href=\"#DejaVuSans-48\"/>\n      </g>\n     </g>\n    </g>\n    <g id=\"xtick_42\">\n     <g id=\"line2d_171\">\n      <path clip-path=\"url(#p16f391066a)\" d=\"M 277.866235 565.918125 \nL 277.866235 454.979349 \n\" style=\"fill:none;stroke:#b0b0b0;stroke-linecap:square;stroke-width:0.8;\"/>\n     </g>\n     <g id=\"line2d_172\">\n      <g>\n       <use style=\"stroke:#000000;stroke-width:0.8;\" x=\"277.866235\" xlink:href=\"#m7988bf331b\" y=\"565.918125\"/>\n      </g>\n     </g>\n     <g id=\"text_96\">\n      <!-- 20 -->\n      <g transform=\"translate(271.503735 580.516562)scale(0.1 -0.1)\">\n       <use xlink:href=\"#DejaVuSans-50\"/>\n       <use x=\"63.623047\" xlink:href=\"#DejaVuSans-48\"/>\n      </g>\n     </g>\n    </g>\n    <g id=\"xtick_43\">\n     <g id=\"line2d_173\">\n      <path clip-path=\"url(#p16f391066a)\" d=\"M 315.796004 565.918125 \nL 315.796004 454.979349 \n\" style=\"fill:none;stroke:#b0b0b0;stroke-linecap:square;stroke-width:0.8;\"/>\n     </g>\n     <g id=\"line2d_174\">\n      <g>\n       <use style=\"stroke:#000000;stroke-width:0.8;\" x=\"315.796004\" xlink:href=\"#m7988bf331b\" y=\"565.918125\"/>\n      </g>\n     </g>\n     <g id=\"text_97\">\n      <!-- 30 -->\n      <g transform=\"translate(309.433504 580.516562)scale(0.1 -0.1)\">\n       <use xlink:href=\"#DejaVuSans-51\"/>\n       <use x=\"63.623047\" xlink:href=\"#DejaVuSans-48\"/>\n      </g>\n     </g>\n    </g>\n    <g id=\"xtick_44\">\n     <g id=\"line2d_175\">\n      <path clip-path=\"url(#p16f391066a)\" d=\"M 353.725772 565.918125 \nL 353.725772 454.979349 \n\" style=\"fill:none;stroke:#b0b0b0;stroke-linecap:square;stroke-width:0.8;\"/>\n     </g>\n     <g id=\"line2d_176\">\n      <g>\n       <use style=\"stroke:#000000;stroke-width:0.8;\" x=\"353.725772\" xlink:href=\"#m7988bf331b\" y=\"565.918125\"/>\n      </g>\n     </g>\n     <g id=\"text_98\">\n      <!-- 40 -->\n      <g transform=\"translate(347.363272 580.516562)scale(0.1 -0.1)\">\n       <use xlink:href=\"#DejaVuSans-52\"/>\n       <use x=\"63.623047\" xlink:href=\"#DejaVuSans-48\"/>\n      </g>\n     </g>\n    </g>\n   </g>\n   <g id=\"matplotlib.axis_22\">\n    <g id=\"ytick_45\">\n     <g id=\"line2d_177\">\n      <path clip-path=\"url(#p16f391066a)\" d=\"M 234.7875 565.918125 \nL 389.7875 565.918125 \n\" style=\"fill:none;stroke:#b0b0b0;stroke-linecap:square;stroke-width:0.8;\"/>\n     </g>\n     <g id=\"line2d_178\">\n      <g>\n       <use style=\"stroke:#000000;stroke-width:0.8;\" x=\"234.7875\" xlink:href=\"#mcfc6db74b8\" y=\"565.918125\"/>\n      </g>\n     </g>\n     <g id=\"text_99\">\n      <!-- 0 -->\n      <g transform=\"translate(221.425 569.717344)scale(0.1 -0.1)\">\n       <use xlink:href=\"#DejaVuSans-48\"/>\n      </g>\n     </g>\n    </g>\n    <g id=\"ytick_46\">\n     <g id=\"line2d_179\">\n      <path clip-path=\"url(#p16f391066a)\" d=\"M 234.7875 540.999263 \nL 389.7875 540.999263 \n\" style=\"fill:none;stroke:#b0b0b0;stroke-linecap:square;stroke-width:0.8;\"/>\n     </g>\n     <g id=\"line2d_180\">\n      <g>\n       <use style=\"stroke:#000000;stroke-width:0.8;\" x=\"234.7875\" xlink:href=\"#mcfc6db74b8\" y=\"540.999263\"/>\n      </g>\n     </g>\n     <g id=\"text_100\">\n      <!-- 25 -->\n      <g transform=\"translate(215.0625 544.798481)scale(0.1 -0.1)\">\n       <use xlink:href=\"#DejaVuSans-50\"/>\n       <use x=\"63.623047\" xlink:href=\"#DejaVuSans-53\"/>\n      </g>\n     </g>\n    </g>\n    <g id=\"ytick_47\">\n     <g id=\"line2d_181\">\n      <path clip-path=\"url(#p16f391066a)\" d=\"M 234.7875 516.0804 \nL 389.7875 516.0804 \n\" style=\"fill:none;stroke:#b0b0b0;stroke-linecap:square;stroke-width:0.8;\"/>\n     </g>\n     <g id=\"line2d_182\">\n      <g>\n       <use style=\"stroke:#000000;stroke-width:0.8;\" x=\"234.7875\" xlink:href=\"#mcfc6db74b8\" y=\"516.0804\"/>\n      </g>\n     </g>\n     <g id=\"text_101\">\n      <!-- 50 -->\n      <g transform=\"translate(215.0625 519.879619)scale(0.1 -0.1)\">\n       <use xlink:href=\"#DejaVuSans-53\"/>\n       <use x=\"63.623047\" xlink:href=\"#DejaVuSans-48\"/>\n      </g>\n     </g>\n    </g>\n    <g id=\"ytick_48\">\n     <g id=\"line2d_183\">\n      <path clip-path=\"url(#p16f391066a)\" d=\"M 234.7875 491.161538 \nL 389.7875 491.161538 \n\" style=\"fill:none;stroke:#b0b0b0;stroke-linecap:square;stroke-width:0.8;\"/>\n     </g>\n     <g id=\"line2d_184\">\n      <g>\n       <use style=\"stroke:#000000;stroke-width:0.8;\" x=\"234.7875\" xlink:href=\"#mcfc6db74b8\" y=\"491.161538\"/>\n      </g>\n     </g>\n     <g id=\"text_102\">\n      <!-- 75 -->\n      <g transform=\"translate(215.0625 494.960756)scale(0.1 -0.1)\">\n       <use xlink:href=\"#DejaVuSans-55\"/>\n       <use x=\"63.623047\" xlink:href=\"#DejaVuSans-53\"/>\n      </g>\n     </g>\n    </g>\n    <g id=\"ytick_49\">\n     <g id=\"line2d_185\">\n      <path clip-path=\"url(#p16f391066a)\" d=\"M 234.7875 466.242675 \nL 389.7875 466.242675 \n\" style=\"fill:none;stroke:#b0b0b0;stroke-linecap:square;stroke-width:0.8;\"/>\n     </g>\n     <g id=\"line2d_186\">\n      <g>\n       <use style=\"stroke:#000000;stroke-width:0.8;\" x=\"234.7875\" xlink:href=\"#mcfc6db74b8\" y=\"466.242675\"/>\n      </g>\n     </g>\n     <g id=\"text_103\">\n      <!-- 100 -->\n      <g transform=\"translate(208.7 470.041894)scale(0.1 -0.1)\">\n       <use xlink:href=\"#DejaVuSans-49\"/>\n       <use x=\"63.623047\" xlink:href=\"#DejaVuSans-48\"/>\n       <use x=\"127.246094\" xlink:href=\"#DejaVuSans-48\"/>\n      </g>\n     </g>\n    </g>\n   </g>\n   <g id=\"patch_163\">\n    <path d=\"M 234.7875 565.918125 \nL 234.7875 454.979349 \n\" style=\"fill:none;stroke:#000000;stroke-linecap:square;stroke-linejoin:miter;stroke-width:0.8;\"/>\n   </g>\n   <g id=\"patch_164\">\n    <path d=\"M 389.7875 565.918125 \nL 389.7875 454.979349 \n\" style=\"fill:none;stroke:#000000;stroke-linecap:square;stroke-linejoin:miter;stroke-width:0.8;\"/>\n   </g>\n   <g id=\"patch_165\">\n    <path d=\"M 234.7875 565.918125 \nL 389.7875 565.918125 \n\" style=\"fill:none;stroke:#000000;stroke-linecap:square;stroke-linejoin:miter;stroke-width:0.8;\"/>\n   </g>\n   <g id=\"patch_166\">\n    <path d=\"M 234.7875 454.979349 \nL 389.7875 454.979349 \n\" style=\"fill:none;stroke:#000000;stroke-linecap:square;stroke-linejoin:miter;stroke-width:0.8;\"/>\n   </g>\n   <g id=\"text_104\">\n    <!-- LPA -->\n    <g transform=\"translate(301.604688 448.979349)scale(0.12 -0.12)\">\n     <use xlink:href=\"#DejaVuSans-76\"/>\n     <use x=\"55.712891\" xlink:href=\"#DejaVuSans-80\"/>\n     <use x=\"109.640625\" xlink:href=\"#DejaVuSans-65\"/>\n    </g>\n   </g>\n  </g>\n  <g id=\"axes_12\">\n   <g id=\"patch_167\">\n    <path d=\"M 436.2875 565.918125 \nL 591.2875 565.918125 \nL 591.2875 454.979349 \nL 436.2875 454.979349 \nz\n\" style=\"fill:#ffffff;\"/>\n   </g>\n   <g id=\"patch_168\">\n    <path clip-path=\"url(#p9e9275b63e)\" d=\"M 443.332955 565.918125 \nL 457.423864 565.918125 \nL 457.423864 460.262148 \nL 443.332955 460.262148 \nz\n\" style=\"fill:#1f77b4;\"/>\n   </g>\n   <g id=\"patch_169\">\n    <path clip-path=\"url(#p9e9275b63e)\" d=\"M 457.423864 565.918125 \nL 471.514773 565.918125 \nL 471.514773 547.86635 \nL 457.423864 547.86635 \nz\n\" style=\"fill:#1f77b4;\"/>\n   </g>\n   <g id=\"patch_170\">\n    <path clip-path=\"url(#p9e9275b63e)\" d=\"M 471.514773 565.918125 \nL 485.605682 565.918125 \nL 485.605682 559.54691 \nL 471.514773 559.54691 \nz\n\" style=\"fill:#1f77b4;\"/>\n   </g>\n   <g id=\"patch_171\">\n    <path clip-path=\"url(#p9e9275b63e)\" d=\"M 485.605682 565.918125 \nL 499.696591 565.918125 \nL 499.696591 564.590789 \nL 485.605682 564.590789 \nz\n\" style=\"fill:#1f77b4;\"/>\n   </g>\n   <g id=\"patch_172\">\n    <path clip-path=\"url(#p9e9275b63e)\" d=\"M 499.696591 565.918125 \nL 513.7875 565.918125 \nL 513.7875 565.652658 \nL 499.696591 565.652658 \nz\n\" style=\"fill:#1f77b4;\"/>\n   </g>\n   <g id=\"patch_173\">\n    <path clip-path=\"url(#p9e9275b63e)\" d=\"M 513.7875 565.918125 \nL 527.878409 565.918125 \nL 527.878409 565.918125 \nL 513.7875 565.918125 \nz\n\" style=\"fill:#1f77b4;\"/>\n   </g>\n   <g id=\"patch_174\">\n    <path clip-path=\"url(#p9e9275b63e)\" d=\"M 527.878409 565.918125 \nL 541.969318 565.918125 \nL 541.969318 565.918125 \nL 527.878409 565.918125 \nz\n\" style=\"fill:#1f77b4;\"/>\n   </g>\n   <g id=\"patch_175\">\n    <path clip-path=\"url(#p9e9275b63e)\" d=\"M 541.969318 565.918125 \nL 556.060227 565.918125 \nL 556.060227 565.918125 \nL 541.969318 565.918125 \nz\n\" style=\"fill:#1f77b4;\"/>\n   </g>\n   <g id=\"patch_176\">\n    <path clip-path=\"url(#p9e9275b63e)\" d=\"M 556.060227 565.918125 \nL 570.151136 565.918125 \nL 570.151136 565.918125 \nL 556.060227 565.918125 \nz\n\" style=\"fill:#1f77b4;\"/>\n   </g>\n   <g id=\"patch_177\">\n    <path clip-path=\"url(#p9e9275b63e)\" d=\"M 570.151136 565.918125 \nL 584.242045 565.918125 \nL 584.242045 565.652658 \nL 570.151136 565.652658 \nz\n\" style=\"fill:#1f77b4;\"/>\n   </g>\n   <g id=\"matplotlib.axis_23\">\n    <g id=\"xtick_45\">\n     <g id=\"line2d_187\">\n      <path clip-path=\"url(#p9e9275b63e)\" d=\"M 442.891149 565.918125 \nL 442.891149 454.979349 \n\" style=\"fill:none;stroke:#b0b0b0;stroke-linecap:square;stroke-width:0.8;\"/>\n     </g>\n     <g id=\"line2d_188\">\n      <g>\n       <use style=\"stroke:#000000;stroke-width:0.8;\" x=\"442.891149\" xlink:href=\"#m7988bf331b\" y=\"565.918125\"/>\n      </g>\n     </g>\n     <g id=\"text_105\">\n      <!-- 0 -->\n      <g transform=\"translate(439.709899 580.516562)scale(0.1 -0.1)\">\n       <use xlink:href=\"#DejaVuSans-48\"/>\n      </g>\n     </g>\n    </g>\n    <g id=\"xtick_46\">\n     <g id=\"line2d_189\">\n      <path clip-path=\"url(#p9e9275b63e)\" d=\"M 476.361242 565.918125 \nL 476.361242 454.979349 \n\" style=\"fill:none;stroke:#b0b0b0;stroke-linecap:square;stroke-width:0.8;\"/>\n     </g>\n     <g id=\"line2d_190\">\n      <g>\n       <use style=\"stroke:#000000;stroke-width:0.8;\" x=\"476.361242\" xlink:href=\"#m7988bf331b\" y=\"565.918125\"/>\n      </g>\n     </g>\n     <g id=\"text_106\">\n      <!-- 5000 -->\n      <g transform=\"translate(463.636242 580.516562)scale(0.1 -0.1)\">\n       <use xlink:href=\"#DejaVuSans-53\"/>\n       <use x=\"63.623047\" xlink:href=\"#DejaVuSans-48\"/>\n       <use x=\"127.246094\" xlink:href=\"#DejaVuSans-48\"/>\n       <use x=\"190.869141\" xlink:href=\"#DejaVuSans-48\"/>\n      </g>\n     </g>\n    </g>\n    <g id=\"xtick_47\">\n     <g id=\"line2d_191\">\n      <path clip-path=\"url(#p9e9275b63e)\" d=\"M 509.831335 565.918125 \nL 509.831335 454.979349 \n\" style=\"fill:none;stroke:#b0b0b0;stroke-linecap:square;stroke-width:0.8;\"/>\n     </g>\n     <g id=\"line2d_192\">\n      <g>\n       <use style=\"stroke:#000000;stroke-width:0.8;\" x=\"509.831335\" xlink:href=\"#m7988bf331b\" y=\"565.918125\"/>\n      </g>\n     </g>\n     <g id=\"text_107\">\n      <!-- 10000 -->\n      <g transform=\"translate(493.925085 580.516562)scale(0.1 -0.1)\">\n       <use xlink:href=\"#DejaVuSans-49\"/>\n       <use x=\"63.623047\" xlink:href=\"#DejaVuSans-48\"/>\n       <use x=\"127.246094\" xlink:href=\"#DejaVuSans-48\"/>\n       <use x=\"190.869141\" xlink:href=\"#DejaVuSans-48\"/>\n       <use x=\"254.492188\" xlink:href=\"#DejaVuSans-48\"/>\n      </g>\n     </g>\n    </g>\n    <g id=\"xtick_48\">\n     <g id=\"line2d_193\">\n      <path clip-path=\"url(#p9e9275b63e)\" d=\"M 543.301428 565.918125 \nL 543.301428 454.979349 \n\" style=\"fill:none;stroke:#b0b0b0;stroke-linecap:square;stroke-width:0.8;\"/>\n     </g>\n     <g id=\"line2d_194\">\n      <g>\n       <use style=\"stroke:#000000;stroke-width:0.8;\" x=\"543.301428\" xlink:href=\"#m7988bf331b\" y=\"565.918125\"/>\n      </g>\n     </g>\n     <g id=\"text_108\">\n      <!-- 15000 -->\n      <g transform=\"translate(527.395178 580.516562)scale(0.1 -0.1)\">\n       <use xlink:href=\"#DejaVuSans-49\"/>\n       <use x=\"63.623047\" xlink:href=\"#DejaVuSans-53\"/>\n       <use x=\"127.246094\" xlink:href=\"#DejaVuSans-48\"/>\n       <use x=\"190.869141\" xlink:href=\"#DejaVuSans-48\"/>\n       <use x=\"254.492188\" xlink:href=\"#DejaVuSans-48\"/>\n      </g>\n     </g>\n    </g>\n    <g id=\"xtick_49\">\n     <g id=\"line2d_195\">\n      <path clip-path=\"url(#p9e9275b63e)\" d=\"M 576.771521 565.918125 \nL 576.771521 454.979349 \n\" style=\"fill:none;stroke:#b0b0b0;stroke-linecap:square;stroke-width:0.8;\"/>\n     </g>\n     <g id=\"line2d_196\">\n      <g>\n       <use style=\"stroke:#000000;stroke-width:0.8;\" x=\"576.771521\" xlink:href=\"#m7988bf331b\" y=\"565.918125\"/>\n      </g>\n     </g>\n     <g id=\"text_109\">\n      <!-- 20000 -->\n      <g transform=\"translate(560.865271 580.516562)scale(0.1 -0.1)\">\n       <use xlink:href=\"#DejaVuSans-50\"/>\n       <use x=\"63.623047\" xlink:href=\"#DejaVuSans-48\"/>\n       <use x=\"127.246094\" xlink:href=\"#DejaVuSans-48\"/>\n       <use x=\"190.869141\" xlink:href=\"#DejaVuSans-48\"/>\n       <use x=\"254.492188\" xlink:href=\"#DejaVuSans-48\"/>\n      </g>\n     </g>\n    </g>\n   </g>\n   <g id=\"matplotlib.axis_24\">\n    <g id=\"ytick_50\">\n     <g id=\"line2d_197\">\n      <path clip-path=\"url(#p9e9275b63e)\" d=\"M 436.2875 565.918125 \nL 591.2875 565.918125 \n\" style=\"fill:none;stroke:#b0b0b0;stroke-linecap:square;stroke-width:0.8;\"/>\n     </g>\n     <g id=\"line2d_198\">\n      <g>\n       <use style=\"stroke:#000000;stroke-width:0.8;\" x=\"436.2875\" xlink:href=\"#mcfc6db74b8\" y=\"565.918125\"/>\n      </g>\n     </g>\n     <g id=\"text_110\">\n      <!-- 0 -->\n      <g transform=\"translate(422.925 569.717344)scale(0.1 -0.1)\">\n       <use xlink:href=\"#DejaVuSans-48\"/>\n      </g>\n     </g>\n    </g>\n    <g id=\"ytick_51\">\n     <g id=\"line2d_199\">\n      <path clip-path=\"url(#p9e9275b63e)\" d=\"M 436.2875 539.371397 \nL 591.2875 539.371397 \n\" style=\"fill:none;stroke:#b0b0b0;stroke-linecap:square;stroke-width:0.8;\"/>\n     </g>\n     <g id=\"line2d_200\">\n      <g>\n       <use style=\"stroke:#000000;stroke-width:0.8;\" x=\"436.2875\" xlink:href=\"#mcfc6db74b8\" y=\"539.371397\"/>\n      </g>\n     </g>\n     <g id=\"text_111\">\n      <!-- 100 -->\n      <g transform=\"translate(410.2 543.170616)scale(0.1 -0.1)\">\n       <use xlink:href=\"#DejaVuSans-49\"/>\n       <use x=\"63.623047\" xlink:href=\"#DejaVuSans-48\"/>\n       <use x=\"127.246094\" xlink:href=\"#DejaVuSans-48\"/>\n      </g>\n     </g>\n    </g>\n    <g id=\"ytick_52\">\n     <g id=\"line2d_201\">\n      <path clip-path=\"url(#p9e9275b63e)\" d=\"M 436.2875 512.824669 \nL 591.2875 512.824669 \n\" style=\"fill:none;stroke:#b0b0b0;stroke-linecap:square;stroke-width:0.8;\"/>\n     </g>\n     <g id=\"line2d_202\">\n      <g>\n       <use style=\"stroke:#000000;stroke-width:0.8;\" x=\"436.2875\" xlink:href=\"#mcfc6db74b8\" y=\"512.824669\"/>\n      </g>\n     </g>\n     <g id=\"text_112\">\n      <!-- 200 -->\n      <g transform=\"translate(410.2 516.623888)scale(0.1 -0.1)\">\n       <use xlink:href=\"#DejaVuSans-50\"/>\n       <use x=\"63.623047\" xlink:href=\"#DejaVuSans-48\"/>\n       <use x=\"127.246094\" xlink:href=\"#DejaVuSans-48\"/>\n      </g>\n     </g>\n    </g>\n    <g id=\"ytick_53\">\n     <g id=\"line2d_203\">\n      <path clip-path=\"url(#p9e9275b63e)\" d=\"M 436.2875 486.277942 \nL 591.2875 486.277942 \n\" style=\"fill:none;stroke:#b0b0b0;stroke-linecap:square;stroke-width:0.8;\"/>\n     </g>\n     <g id=\"line2d_204\">\n      <g>\n       <use style=\"stroke:#000000;stroke-width:0.8;\" x=\"436.2875\" xlink:href=\"#mcfc6db74b8\" y=\"486.277942\"/>\n      </g>\n     </g>\n     <g id=\"text_113\">\n      <!-- 300 -->\n      <g transform=\"translate(410.2 490.07716)scale(0.1 -0.1)\">\n       <use xlink:href=\"#DejaVuSans-51\"/>\n       <use x=\"63.623047\" xlink:href=\"#DejaVuSans-48\"/>\n       <use x=\"127.246094\" xlink:href=\"#DejaVuSans-48\"/>\n      </g>\n     </g>\n    </g>\n    <g id=\"ytick_54\">\n     <g id=\"line2d_205\">\n      <path clip-path=\"url(#p9e9275b63e)\" d=\"M 436.2875 459.731214 \nL 591.2875 459.731214 \n\" style=\"fill:none;stroke:#b0b0b0;stroke-linecap:square;stroke-width:0.8;\"/>\n     </g>\n     <g id=\"line2d_206\">\n      <g>\n       <use style=\"stroke:#000000;stroke-width:0.8;\" x=\"436.2875\" xlink:href=\"#mcfc6db74b8\" y=\"459.731214\"/>\n      </g>\n     </g>\n     <g id=\"text_114\">\n      <!-- 400 -->\n      <g transform=\"translate(410.2 463.530433)scale(0.1 -0.1)\">\n       <use xlink:href=\"#DejaVuSans-52\"/>\n       <use x=\"63.623047\" xlink:href=\"#DejaVuSans-48\"/>\n       <use x=\"127.246094\" xlink:href=\"#DejaVuSans-48\"/>\n      </g>\n     </g>\n    </g>\n   </g>\n   <g id=\"patch_178\">\n    <path d=\"M 436.2875 565.918125 \nL 436.2875 454.979349 \n\" style=\"fill:none;stroke:#000000;stroke-linecap:square;stroke-linejoin:miter;stroke-width:0.8;\"/>\n   </g>\n   <g id=\"patch_179\">\n    <path d=\"M 591.2875 565.918125 \nL 591.2875 454.979349 \n\" style=\"fill:none;stroke:#000000;stroke-linecap:square;stroke-linejoin:miter;stroke-width:0.8;\"/>\n   </g>\n   <g id=\"patch_180\">\n    <path d=\"M 436.2875 565.918125 \nL 591.2875 565.918125 \n\" style=\"fill:none;stroke:#000000;stroke-linecap:square;stroke-linejoin:miter;stroke-width:0.8;\"/>\n   </g>\n   <g id=\"patch_181\">\n    <path d=\"M 436.2875 454.979349 \nL 591.2875 454.979349 \n\" style=\"fill:none;stroke:#000000;stroke-linecap:square;stroke-linejoin:miter;stroke-width:0.8;\"/>\n   </g>\n   <g id=\"text_115\">\n    <!-- density -->\n    <defs>\n     <path d=\"M 45.40625 46.390625 \nL 45.40625 75.984375 \nL 54.390625 75.984375 \nL 54.390625 0 \nL 45.40625 0 \nL 45.40625 8.203125 \nQ 42.578125 3.328125 38.25 0.953125 \nQ 33.9375 -1.421875 27.875 -1.421875 \nQ 17.96875 -1.421875 11.734375 6.484375 \nQ 5.515625 14.40625 5.515625 27.296875 \nQ 5.515625 40.1875 11.734375 48.09375 \nQ 17.96875 56 27.875 56 \nQ 33.9375 56 38.25 53.625 \nQ 42.578125 51.265625 45.40625 46.390625 \nz\nM 14.796875 27.296875 \nQ 14.796875 17.390625 18.875 11.75 \nQ 22.953125 6.109375 30.078125 6.109375 \nQ 37.203125 6.109375 41.296875 11.75 \nQ 45.40625 17.390625 45.40625 27.296875 \nQ 45.40625 37.203125 41.296875 42.84375 \nQ 37.203125 48.484375 30.078125 48.484375 \nQ 22.953125 48.484375 18.875 42.84375 \nQ 14.796875 37.203125 14.796875 27.296875 \nz\n\" id=\"DejaVuSans-100\"/>\n     <path d=\"M 56.203125 29.59375 \nL 56.203125 25.203125 \nL 14.890625 25.203125 \nQ 15.484375 15.921875 20.484375 11.0625 \nQ 25.484375 6.203125 34.421875 6.203125 \nQ 39.59375 6.203125 44.453125 7.46875 \nQ 49.3125 8.734375 54.109375 11.28125 \nL 54.109375 2.78125 \nQ 49.265625 0.734375 44.1875 -0.34375 \nQ 39.109375 -1.421875 33.890625 -1.421875 \nQ 20.796875 -1.421875 13.15625 6.1875 \nQ 5.515625 13.8125 5.515625 26.8125 \nQ 5.515625 40.234375 12.765625 48.109375 \nQ 20.015625 56 32.328125 56 \nQ 43.359375 56 49.78125 48.890625 \nQ 56.203125 41.796875 56.203125 29.59375 \nz\nM 47.21875 32.234375 \nQ 47.125 39.59375 43.09375 43.984375 \nQ 39.0625 48.390625 32.421875 48.390625 \nQ 24.90625 48.390625 20.390625 44.140625 \nQ 15.875 39.890625 15.1875 32.171875 \nz\n\" id=\"DejaVuSans-101\"/>\n     <path d=\"M 54.890625 33.015625 \nL 54.890625 0 \nL 45.90625 0 \nL 45.90625 32.71875 \nQ 45.90625 40.484375 42.875 44.328125 \nQ 39.84375 48.1875 33.796875 48.1875 \nQ 26.515625 48.1875 22.3125 43.546875 \nQ 18.109375 38.921875 18.109375 30.90625 \nL 18.109375 0 \nL 9.078125 0 \nL 9.078125 54.6875 \nL 18.109375 54.6875 \nL 18.109375 46.1875 \nQ 21.34375 51.125 25.703125 53.5625 \nQ 30.078125 56 35.796875 56 \nQ 45.21875 56 50.046875 50.171875 \nQ 54.890625 44.34375 54.890625 33.015625 \nz\n\" id=\"DejaVuSans-110\"/>\n     <path d=\"M 44.28125 53.078125 \nL 44.28125 44.578125 \nQ 40.484375 46.53125 36.375 47.5 \nQ 32.28125 48.484375 27.875 48.484375 \nQ 21.1875 48.484375 17.84375 46.4375 \nQ 14.5 44.390625 14.5 40.28125 \nQ 14.5 37.15625 16.890625 35.375 \nQ 19.28125 33.59375 26.515625 31.984375 \nL 29.59375 31.296875 \nQ 39.15625 29.25 43.1875 25.515625 \nQ 47.21875 21.78125 47.21875 15.09375 \nQ 47.21875 7.46875 41.1875 3.015625 \nQ 35.15625 -1.421875 24.609375 -1.421875 \nQ 20.21875 -1.421875 15.453125 -0.5625 \nQ 10.6875 0.296875 5.421875 2 \nL 5.421875 11.28125 \nQ 10.40625 8.6875 15.234375 7.390625 \nQ 20.0625 6.109375 24.8125 6.109375 \nQ 31.15625 6.109375 34.5625 8.28125 \nQ 37.984375 10.453125 37.984375 14.40625 \nQ 37.984375 18.0625 35.515625 20.015625 \nQ 33.0625 21.96875 24.703125 23.78125 \nL 21.578125 24.515625 \nQ 13.234375 26.265625 9.515625 29.90625 \nQ 5.8125 33.546875 5.8125 39.890625 \nQ 5.8125 47.609375 11.28125 51.796875 \nQ 16.75 56 26.8125 56 \nQ 31.78125 56 36.171875 55.265625 \nQ 40.578125 54.546875 44.28125 53.078125 \nz\n\" id=\"DejaVuSans-115\"/>\n     <path d=\"M 9.421875 54.6875 \nL 18.40625 54.6875 \nL 18.40625 0 \nL 9.421875 0 \nz\nM 9.421875 75.984375 \nL 18.40625 75.984375 \nL 18.40625 64.59375 \nL 9.421875 64.59375 \nz\n\" id=\"DejaVuSans-105\"/>\n     <path d=\"M 18.3125 70.21875 \nL 18.3125 54.6875 \nL 36.8125 54.6875 \nL 36.8125 47.703125 \nL 18.3125 47.703125 \nL 18.3125 18.015625 \nQ 18.3125 11.328125 20.140625 9.421875 \nQ 21.96875 7.515625 27.59375 7.515625 \nL 36.8125 7.515625 \nL 36.8125 0 \nL 27.59375 0 \nQ 17.1875 0 13.234375 3.875 \nQ 9.28125 7.765625 9.28125 18.015625 \nL 9.28125 47.703125 \nL 2.6875 47.703125 \nL 2.6875 54.6875 \nL 9.28125 54.6875 \nL 9.28125 70.21875 \nz\n\" id=\"DejaVuSans-116\"/>\n     <path d=\"M 32.171875 -5.078125 \nQ 28.375 -14.84375 24.75 -17.8125 \nQ 21.140625 -20.796875 15.09375 -20.796875 \nL 7.90625 -20.796875 \nL 7.90625 -13.28125 \nL 13.1875 -13.28125 \nQ 16.890625 -13.28125 18.9375 -11.515625 \nQ 21 -9.765625 23.484375 -3.21875 \nL 25.09375 0.875 \nL 2.984375 54.6875 \nL 12.5 54.6875 \nL 29.59375 11.921875 \nL 46.6875 54.6875 \nL 56.203125 54.6875 \nz\n\" id=\"DejaVuSans-121\"/>\n    </defs>\n    <g transform=\"translate(491.788125 448.979349)scale(0.12 -0.12)\">\n     <use xlink:href=\"#DejaVuSans-100\"/>\n     <use x=\"63.476562\" xlink:href=\"#DejaVuSans-101\"/>\n     <use x=\"125\" xlink:href=\"#DejaVuSans-110\"/>\n     <use x=\"188.378906\" xlink:href=\"#DejaVuSans-115\"/>\n     <use x=\"240.478516\" xlink:href=\"#DejaVuSans-105\"/>\n     <use x=\"268.261719\" xlink:href=\"#DejaVuSans-116\"/>\n     <use x=\"307.470703\" xlink:href=\"#DejaVuSans-121\"/>\n    </g>\n   </g>\n  </g>\n </g>\n <defs>\n  <clipPath id=\"p60c0b08a9c\">\n   <rect height=\"110.938776\" width=\"155\" x=\"33.2875\" y=\"22.318125\"/>\n  </clipPath>\n  <clipPath id=\"p7ab34f79c0\">\n   <rect height=\"110.938776\" width=\"155\" x=\"234.7875\" y=\"22.318125\"/>\n  </clipPath>\n  <clipPath id=\"p74f5323712\">\n   <rect height=\"110.938776\" width=\"155\" x=\"436.2875\" y=\"22.318125\"/>\n  </clipPath>\n  <clipPath id=\"p0d89f338d3\">\n   <rect height=\"110.938776\" width=\"155\" x=\"33.2875\" y=\"166.538533\"/>\n  </clipPath>\n  <clipPath id=\"pab38352341\">\n   <rect height=\"110.938776\" width=\"155\" x=\"234.7875\" y=\"166.538533\"/>\n  </clipPath>\n  <clipPath id=\"p7aa26b1706\">\n   <rect height=\"110.938776\" width=\"155\" x=\"436.2875\" y=\"166.538533\"/>\n  </clipPath>\n  <clipPath id=\"pc5faf2a194\">\n   <rect height=\"110.938776\" width=\"155\" x=\"33.2875\" y=\"310.758941\"/>\n  </clipPath>\n  <clipPath id=\"p0c9a0ce040\">\n   <rect height=\"110.938776\" width=\"155\" x=\"234.7875\" y=\"310.758941\"/>\n  </clipPath>\n  <clipPath id=\"pec3e0dedf0\">\n   <rect height=\"110.938776\" width=\"155\" x=\"436.2875\" y=\"310.758941\"/>\n  </clipPath>\n  <clipPath id=\"pc607d4391f\">\n   <rect height=\"110.938776\" width=\"155\" x=\"33.2875\" y=\"454.979349\"/>\n  </clipPath>\n  <clipPath id=\"p16f391066a\">\n   <rect height=\"110.938776\" width=\"155\" x=\"234.7875\" y=\"454.979349\"/>\n  </clipPath>\n  <clipPath id=\"p9e9275b63e\">\n   <rect height=\"110.938776\" width=\"155\" x=\"436.2875\" y=\"454.979349\"/>\n  </clipPath>\n </defs>\n</svg>\n",
      "image/png": "[encoded data removed]"
     },
     "metadata": {
      "needs_background": "light"
     }
    }
   ],
   "source": [
    "df[significant_vars].hist(figsize = (10,10));"
   ]
  },
  {
   "cell_type": "code",
   "execution_count": 48,
   "metadata": {},
   "outputs": [
    {
     "output_type": "display_data",
     "data": {
      "application/vnd.plotly.v1+json": {
       "config": {
        "plotlyServerURL": "https://plot.ly"
       },
       "data": [
        {
         "customdata": [
          [
           "TX",
           "Abilene"
          ],
          [
           "OH",
           "Akron"
          ],
          [
           "CA",
           "Alameda"
          ],
          [
           "CA",
           "Berkeley"
          ],
          [
           "CA",
           "Fremont"
          ],
          [
           "CA",
           "Hayward"
          ],
          [
           "CA",
           "Livermore"
          ],
          [
           "CA",
           "Oakland"
          ],
          [
           "CA",
           "Pleasanton"
          ],
          [
           "CA",
           "San Leandro"
          ],
          [
           "CA",
           "Union City"
          ],
          [
           "GA",
           "Albany"
          ],
          [
           "NY",
           "Albany"
          ],
          [
           "NM",
           "Albuquerque"
          ],
          [
           "VA",
           "Alexandria"
          ],
          [
           "CA",
           "Alhambra"
          ],
          [
           "CA",
           "Baldwin Park"
          ],
          [
           "CA",
           "Bellflower"
          ],
          [
           "CA",
           "Burbank"
          ],
          [
           "CA",
           "Carson"
          ],
          [
           "CA",
           "Compton"
          ],
          [
           "CA",
           "Downey"
          ],
          [
           "CA",
           "El Monte"
          ],
          [
           "CA",
           "Glendale"
          ],
          [
           "CA",
           "Hawthorne"
          ],
          [
           "CA",
           "Inglewood"
          ],
          [
           "CA",
           "Lakewood"
          ],
          [
           "CA",
           "Lancaster"
          ],
          [
           "CA",
           "Long Beach"
          ],
          [
           "CA",
           "Los Angeles"
          ],
          [
           "CA",
           "Lynwood"
          ],
          [
           "CA",
           "Norwalk"
          ],
          [
           "CA",
           "Palmdale"
          ],
          [
           "CA",
           "Pasadena"
          ],
          [
           "CA",
           "Pomona"
          ],
          [
           "CA",
           "Redondo Beach"
          ],
          [
           "CA",
           "Santa Clarita"
          ],
          [
           "CA",
           "Santa Monica"
          ],
          [
           "CA",
           "South Gate"
          ],
          [
           "CA",
           "Torrance"
          ],
          [
           "CA",
           "West Covina"
          ],
          [
           "CA",
           "Whittier"
          ],
          [
           "TX",
           "Allen"
          ],
          [
           "TX",
           "Frisco"
          ],
          [
           "TX",
           "McKinney"
          ],
          [
           "TX",
           "Plano"
          ],
          [
           "PA",
           "Allentown"
          ],
          [
           "TX",
           "Amarillo"
          ],
          [
           "CA",
           "Anaheim"
          ],
          [
           "CA",
           "Buena Park"
          ],
          [
           "CA",
           "Costa Mesa"
          ],
          [
           "CA",
           "Fullerton"
          ],
          [
           "CA",
           "Garden Grove"
          ],
          [
           "CA",
           "Huntington Beach"
          ],
          [
           "CA",
           "Irvine"
          ],
          [
           "CA",
           "Lake Forest"
          ],
          [
           "CA",
           "Mission Viejo"
          ],
          [
           "CA",
           "Newport Beach"
          ],
          [
           "CA",
           "Orange"
          ],
          [
           "CA",
           "Santa Ana"
          ],
          [
           "CA",
           "Tustin"
          ],
          [
           "CA",
           "Westminster"
          ],
          [
           "AK",
           "Anchorage"
          ],
          [
           "MI",
           "Ann Arbor"
          ],
          [
           "CA",
           "Antioch"
          ],
          [
           "CA",
           "Concord"
          ],
          [
           "CA",
           "Richmond"
          ],
          [
           "CA",
           "San Ramon"
          ],
          [
           "CA",
           "Apple Valley"
          ],
          [
           "CA",
           "Chino"
          ],
          [
           "CA",
           "Chino Hills"
          ],
          [
           "CA",
           "Fontana"
          ],
          [
           "CA",
           "Hesperia"
          ],
          [
           "CA",
           "Ontario"
          ],
          [
           "CA",
           "Rancho Cucamonga"
          ],
          [
           "CA",
           "Redlands"
          ],
          [
           "CA",
           "Rialto"
          ],
          [
           "CA",
           "San Bernardino"
          ],
          [
           "CA",
           "Upland"
          ],
          [
           "CA",
           "Victorville"
          ],
          [
           "WI",
           "Appleton"
          ],
          [
           "TX",
           "Arlington"
          ],
          [
           "TX",
           "Fort Worth"
          ],
          [
           "IL",
           "Arlington Heights"
          ],
          [
           "IL",
           "Chicago"
          ],
          [
           "IL",
           "Cicero"
          ],
          [
           "IL",
           "Evanston"
          ],
          [
           "IL",
           "Palatine"
          ],
          [
           "IL",
           "Schaumburg"
          ],
          [
           "CO",
           "Arvada"
          ],
          [
           "CO",
           "Lakewood"
          ],
          [
           "NC",
           "Asheville"
          ],
          [
           "GA",
           "Athens"
          ],
          [
           "GA",
           "Atlanta"
          ],
          [
           "GA",
           "Johns Creek"
          ],
          [
           "GA",
           "Roswell"
          ],
          [
           "GA",
           "Sandy Springs"
          ],
          [
           "WA",
           "Auburn"
          ],
          [
           "WA",
           "Bellevue"
          ],
          [
           "WA",
           "Federal Way"
          ],
          [
           "WA",
           "Kent"
          ],
          [
           "WA",
           "Renton"
          ],
          [
           "WA",
           "Seattle"
          ],
          [
           "GA",
           "Augusta"
          ],
          [
           "CO",
           "Aurora"
          ],
          [
           "CO",
           "Thornton"
          ],
          [
           "CO",
           "Westminster"
          ],
          [
           "IL",
           "Aurora"
          ],
          [
           "IL",
           "Elgin"
          ],
          [
           "TX",
           "Austin"
          ],
          [
           "AZ",
           "Avondale"
          ],
          [
           "AZ",
           "Chandler"
          ],
          [
           "AZ",
           "Gilbert"
          ],
          [
           "AZ",
           "Glendale"
          ],
          [
           "AZ",
           "Mesa"
          ],
          [
           "AZ",
           "Peoria"
          ],
          [
           "AZ",
           "Phoenix"
          ],
          [
           "AZ",
           "Scottsdale"
          ],
          [
           "AZ",
           "Surprise"
          ],
          [
           "AZ",
           "Tempe"
          ],
          [
           "CA",
           "Bakersfield"
          ],
          [
           "MD",
           "Baltimore"
          ],
          [
           "LA",
           "Baton Rouge"
          ],
          [
           "TX",
           "Baytown"
          ],
          [
           "TX",
           "Houston"
          ],
          [
           "TX",
           "Pasadena"
          ],
          [
           "TX",
           "Beaumont"
          ],
          [
           "OR",
           "Beaverton"
          ],
          [
           "OR",
           "Hillsboro"
          ],
          [
           "WA",
           "Bellingham"
          ],
          [
           "OR",
           "Bend"
          ],
          [
           "PA",
           "Bethlehem"
          ],
          [
           "MT",
           "Billings"
          ],
          [
           "AL",
           "Birmingham"
          ],
          [
           "AL",
           "Hoover"
          ],
          [
           "IL",
           "Bloomington"
          ],
          [
           "IN",
           "Bloomington"
          ],
          [
           "MN",
           "Bloomington"
          ],
          [
           "MN",
           "Brooklyn Park"
          ],
          [
           "MN",
           "Minneapolis"
          ],
          [
           "MN",
           "Plymouth"
          ],
          [
           "FL",
           "Boca Raton"
          ],
          [
           "FL",
           "Boynton Beach"
          ],
          [
           "FL",
           "West Palm Beach"
          ],
          [
           "IL",
           "Bolingbrook"
          ],
          [
           "IL",
           "Joliet"
          ],
          [
           "MA",
           "Boston"
          ],
          [
           "CO",
           "Boulder"
          ],
          [
           "CO",
           "Longmont"
          ],
          [
           "CT",
           "Bridgeport"
          ],
          [
           "CT",
           "Danbury"
          ],
          [
           "CT",
           "Norwalk"
          ],
          [
           "CT",
           "Stamford"
          ],
          [
           "MA",
           "Brockton"
          ],
          [
           "OK",
           "Broken Arrow"
          ],
          [
           "OK",
           "Tulsa"
          ],
          [
           "TX",
           "Brownsville"
          ],
          [
           "TX",
           "Bryan"
          ],
          [
           "TX",
           "College Station"
          ],
          [
           "NY",
           "Buffalo"
          ],
          [
           "VT",
           "Burlington"
          ],
          [
           "MA",
           "Cambridge"
          ],
          [
           "MA",
           "Lowell"
          ],
          [
           "MA",
           "Newton"
          ],
          [
           "MA",
           "Somerville"
          ],
          [
           "NJ",
           "Camden"
          ],
          [
           "OH",
           "Canton"
          ],
          [
           "FL",
           "Cape Coral"
          ],
          [
           "CA",
           "Carlsbad"
          ],
          [
           "CA",
           "Chula Vista"
          ],
          [
           "CA",
           "El Cajon"
          ],
          [
           "CA",
           "Escondido"
          ],
          [
           "CA",
           "Oceanside"
          ],
          [
           "CA",
           "San Diego"
          ],
          [
           "CA",
           "San Marcos"
          ],
          [
           "CA",
           "Vista"
          ],
          [
           "IN",
           "Carmel"
          ],
          [
           "IN",
           "Fishers"
          ],
          [
           "TX",
           "Carrollton"
          ],
          [
           "TX",
           "Dallas"
          ],
          [
           "TX",
           "Garland"
          ],
          [
           "TX",
           "Grand Prairie"
          ],
          [
           "TX",
           "Irving"
          ],
          [
           "TX",
           "Mesquite"
          ],
          [
           "TX",
           "Richardson"
          ],
          [
           "NC",
           "Cary"
          ],
          [
           "NC",
           "Raleigh"
          ],
          [
           "IA",
           "Cedar Rapids"
          ],
          [
           "CO",
           "Centennial"
          ],
          [
           "IL",
           "Champaign"
          ],
          [
           "SC",
           "Charleston"
          ],
          [
           "SC",
           "Mount Pleasant"
          ],
          [
           "SC",
           "North Charleston"
          ],
          [
           "WV",
           "Charleston"
          ],
          [
           "NC",
           "Charlotte"
          ],
          [
           "TN",
           "Chattanooga"
          ],
          [
           "VA",
           "Chesapeake"
          ],
          [
           "WY",
           "Cheyenne"
          ],
          [
           "CA",
           "Chico"
          ],
          [
           "OH",
           "Cincinnati"
          ],
          [
           "CA",
           "Citrus Heights"
          ],
          [
           "CA",
           "Elk Grove"
          ],
          [
           "CA",
           "Folsom"
          ],
          [
           "CA",
           "Sacramento"
          ],
          [
           "TN",
           "Clarksville"
          ],
          [
           "FL",
           "Clearwater"
          ],
          [
           "FL",
           "Largo"
          ],
          [
           "FL",
           "St. Petersburg"
          ],
          [
           "OH",
           "Cleveland"
          ],
          [
           "OH",
           "Parma"
          ],
          [
           "NJ",
           "Clifton"
          ],
          [
           "NJ",
           "Passaic"
          ],
          [
           "NJ",
           "Paterson"
          ],
          [
           "CA",
           "Clovis"
          ],
          [
           "CA",
           "Fresno"
          ],
          [
           "CO",
           "Colorado Springs"
          ],
          [
           "MO",
           "Columbia"
          ],
          [
           "SC",
           "Columbia"
          ],
          [
           "GA",
           "Columbus"
          ],
          [
           "OH",
           "Columbus"
          ],
          [
           "NC",
           "Concord"
          ],
          [
           "FL",
           "Coral Springs"
          ],
          [
           "FL",
           "Davie"
          ],
          [
           "FL",
           "Deerfield Beach"
          ],
          [
           "FL",
           "Fort Lauderdale"
          ],
          [
           "FL",
           "Hollywood"
          ],
          [
           "FL",
           "Lauderhill"
          ],
          [
           "FL",
           "Miramar"
          ],
          [
           "FL",
           "Pembroke Pines"
          ],
          [
           "FL",
           "Plantation"
          ],
          [
           "FL",
           "Pompano Beach"
          ],
          [
           "FL",
           "Sunrise"
          ],
          [
           "CA",
           "Corona"
          ],
          [
           "CA",
           "Hemet"
          ],
          [
           "CA",
           "Indio"
          ],
          [
           "CA",
           "Menifee"
          ],
          [
           "CA",
           "Moreno Valley"
          ],
          [
           "CA",
           "Murrieta"
          ],
          [
           "CA",
           "Perris"
          ],
          [
           "CA",
           "Riverside"
          ],
          [
           "CA",
           "Temecula"
          ],
          [
           "TX",
           "Corpus Christi"
          ],
          [
           "RI",
           "Cranston"
          ],
          [
           "RI",
           "Pawtucket"
          ],
          [
           "RI",
           "Providence"
          ],
          [
           "CA",
           "Daly City"
          ],
          [
           "CA",
           "Redwood City"
          ],
          [
           "CA",
           "San Mateo"
          ],
          [
           "IA",
           "Davenport"
          ],
          [
           "OH",
           "Dayton"
          ],
          [
           "MI",
           "Dearborn"
          ],
          [
           "MI",
           "Detroit"
          ],
          [
           "MI",
           "Livonia"
          ],
          [
           "MI",
           "Westland"
          ],
          [
           "IL",
           "Decatur"
          ],
          [
           "FL",
           "Deltona"
          ],
          [
           "TX",
           "Denton"
          ],
          [
           "TX",
           "Lewisville"
          ],
          [
           "CO",
           "Denver"
          ],
          [
           "IA",
           "Des Moines"
          ],
          [
           "MN",
           "Duluth"
          ],
          [
           "NC",
           "Durham"
          ],
          [
           "TX",
           "Edinburg"
          ],
          [
           "TX",
           "McAllen"
          ],
          [
           "TX",
           "Mission"
          ],
          [
           "TX",
           "Pharr"
          ],
          [
           "OK",
           "Edmond"
          ],
          [
           "OK",
           "Oklahoma City"
          ],
          [
           "TX",
           "El Paso"
          ],
          [
           "NJ",
           "Elizabeth"
          ],
          [
           "PA",
           "Erie"
          ],
          [
           "OR",
           "Eugene"
          ],
          [
           "IN",
           "Evansville"
          ],
          [
           "WA",
           "Everett"
          ],
          [
           "CA",
           "Fairfield"
          ],
          [
           "CA",
           "Vacaville"
          ],
          [
           "CA",
           "Vallejo"
          ],
          [
           "MA",
           "Fall River"
          ],
          [
           "MA",
           "New Bedford"
          ],
          [
           "ND",
           "Fargo"
          ],
          [
           "MI",
           "Farmington Hills"
          ],
          [
           "MI",
           "Rochester Hills"
          ],
          [
           "MI",
           "Southfield"
          ],
          [
           "MI",
           "Troy"
          ],
          [
           "AR",
           "Fayetteville"
          ],
          [
           "AR",
           "Springdale"
          ],
          [
           "NC",
           "Fayetteville"
          ],
          [
           "MI",
           "Flint"
          ],
          [
           "CO",
           "Fort Collins"
          ],
          [
           "CO",
           "Loveland"
          ],
          [
           "AR",
           "Fort Smith"
          ],
          [
           "IN",
           "Fort Wayne"
          ],
          [
           "FL",
           "Gainesville"
          ],
          [
           "IN",
           "Gary"
          ],
          [
           "IN",
           "Hammond"
          ],
          [
           "NC",
           "Gastonia"
          ],
          [
           "MI",
           "Grand Rapids"
          ],
          [
           "MI",
           "Wyoming"
          ],
          [
           "CO",
           "Greeley"
          ],
          [
           "WI",
           "Green Bay"
          ],
          [
           "NC",
           "Greensboro"
          ],
          [
           "NC",
           "High Point"
          ],
          [
           "NC",
           "Greenville"
          ],
          [
           "OR",
           "Gresham"
          ],
          [
           "OR",
           "Portland"
          ],
          [
           "MS",
           "Gulfport"
          ],
          [
           "VA",
           "Hampton"
          ],
          [
           "CT",
           "Hartford"
          ],
          [
           "CT",
           "New Britain"
          ],
          [
           "NV",
           "Henderson"
          ],
          [
           "NV",
           "Las Vegas"
          ],
          [
           "NV",
           "North Las Vegas"
          ],
          [
           "FL",
           "Hialeah"
          ],
          [
           "FL",
           "Miami"
          ],
          [
           "FL",
           "Miami Beach"
          ],
          [
           "FL",
           "Miami Gardens"
          ],
          [
           "HI",
           "Honolulu"
          ],
          [
           "AL",
           "Huntsville"
          ],
          [
           "MO",
           "Independence"
          ],
          [
           "MO",
           "Kansas City"
          ],
          [
           "MO",
           "Lee's Summit"
          ],
          [
           "IN",
           "Indianapolis"
          ],
          [
           "IA",
           "Iowa City"
          ],
          [
           "MS",
           "Jackson"
          ],
          [
           "FL",
           "Jacksonville"
          ],
          [
           "NC",
           "Jacksonville"
          ],
          [
           "NJ",
           "Jersey City"
          ],
          [
           "NJ",
           "Union City"
          ],
          [
           "AR",
           "Jonesboro"
          ],
          [
           "MI",
           "Kalamazoo"
          ],
          [
           "KS",
           "Kansas City"
          ],
          [
           "LA",
           "Kenner"
          ],
          [
           "WA",
           "Kennewick"
          ],
          [
           "WI",
           "Kenosha"
          ],
          [
           "TX",
           "Killeen"
          ],
          [
           "TN",
           "Knoxville"
          ],
          [
           "IN",
           "Lafayette"
          ],
          [
           "LA",
           "Lafayette"
          ],
          [
           "LA",
           "Lake Charles"
          ],
          [
           "FL",
           "Lakeland"
          ],
          [
           "MI",
           "Lansing"
          ],
          [
           "TX",
           "Laredo"
          ],
          [
           "NM",
           "Las Cruces"
          ],
          [
           "KS",
           "Lawrence"
          ],
          [
           "MA",
           "Lawrence"
          ],
          [
           "MA",
           "Lynn"
          ],
          [
           "OK",
           "Lawton"
          ],
          [
           "UT",
           "Layton"
          ],
          [
           "TX",
           "League City"
          ],
          [
           "KY",
           "Lexington"
          ],
          [
           "NE",
           "Lincoln"
          ],
          [
           "AR",
           "Little Rock"
          ],
          [
           "TX",
           "Longview"
          ],
          [
           "KY",
           "Louisville"
          ],
          [
           "TX",
           "Lubbock"
          ],
          [
           "VA",
           "Lynchburg"
          ],
          [
           "GA",
           "Macon"
          ],
          [
           "WI",
           "Madison"
          ],
          [
           "NH",
           "Manchester"
          ],
          [
           "NH",
           "Nashua"
          ],
          [
           "CA",
           "Manteca"
          ],
          [
           "CA",
           "Stockton"
          ],
          [
           "CA",
           "Tracy"
          ],
          [
           "OR",
           "Medford"
          ],
          [
           "FL",
           "Melbourne"
          ],
          [
           "FL",
           "Palm Bay"
          ],
          [
           "TN",
           "Memphis"
          ],
          [
           "CA",
           "Merced"
          ],
          [
           "ID",
           "Meridian"
          ],
          [
           "TX",
           "Midland"
          ],
          [
           "CA",
           "Milpitas"
          ],
          [
           "CA",
           "Mountain View"
          ],
          [
           "CA",
           "San Jose"
          ],
          [
           "CA",
           "Santa Clara"
          ],
          [
           "CA",
           "Sunnyvale"
          ],
          [
           "WI",
           "Milwaukee"
          ],
          [
           "MT",
           "Missoula"
          ],
          [
           "TX",
           "Missouri City"
          ],
          [
           "TX",
           "Sugar Land"
          ],
          [
           "AL",
           "Mobile"
          ],
          [
           "CA",
           "Modesto"
          ],
          [
           "CA",
           "Turlock"
          ],
          [
           "AL",
           "Montgomery"
          ],
          [
           "NY",
           "Mount Vernon"
          ],
          [
           "NY",
           "New Rochelle"
          ],
          [
           "NY",
           "Yonkers"
          ],
          [
           "IN",
           "Muncie"
          ],
          [
           "TN",
           "Murfreesboro"
          ],
          [
           "ID",
           "Nampa"
          ],
          [
           "CA",
           "Napa"
          ],
          [
           "IL",
           "Naperville"
          ],
          [
           "TN",
           "Nashville"
          ],
          [
           "CT",
           "New Haven"
          ],
          [
           "CT",
           "Waterbury"
          ],
          [
           "LA",
           "New Orleans"
          ],
          [
           "NJ",
           "Newark"
          ],
          [
           "VA",
           "Newport News"
          ],
          [
           "VA",
           "Norfolk"
          ],
          [
           "OK",
           "Norman"
          ],
          [
           "MO",
           "O'Fallon"
          ],
          [
           "TX",
           "Odessa"
          ],
          [
           "UT",
           "Ogden"
          ],
          [
           "KS",
           "Olathe"
          ],
          [
           "KS",
           "Overland Park"
          ],
          [
           "NE",
           "Omaha"
          ],
          [
           "UT",
           "Orem"
          ],
          [
           "UT",
           "Provo"
          ],
          [
           "FL",
           "Orlando"
          ],
          [
           "CA",
           "Oxnard"
          ],
          [
           "CA",
           "Simi Valley"
          ],
          [
           "CA",
           "Thousand Oaks"
          ],
          [
           "FL",
           "Palm Coast"
          ],
          [
           "TX",
           "Pearland"
          ],
          [
           "IL",
           "Peoria"
          ],
          [
           "PA",
           "Philadelphia"
          ],
          [
           "PA",
           "Pittsburgh"
          ],
          [
           "FL",
           "Port St. Lucie"
          ],
          [
           "ME",
           "Portland"
          ],
          [
           "VA",
           "Portsmouth"
          ],
          [
           "CO",
           "Pueblo"
          ],
          [
           "MA",
           "Quincy"
          ],
          [
           "WI",
           "Racine"
          ],
          [
           "SD",
           "Rapid City"
          ],
          [
           "PA",
           "Reading"
          ],
          [
           "CA",
           "Redding"
          ],
          [
           "NV",
           "Reno"
          ],
          [
           "NV",
           "Sparks"
          ],
          [
           "VA",
           "Richmond"
          ],
          [
           "NM",
           "Rio Rancho"
          ],
          [
           "VA",
           "Roanoke"
          ],
          [
           "MN",
           "Rochester"
          ],
          [
           "NY",
           "Rochester"
          ],
          [
           "SC",
           "Rock Hill"
          ],
          [
           "IL",
           "Rockford"
          ],
          [
           "CA",
           "Roseville"
          ],
          [
           "TX",
           "Round Rock"
          ],
          [
           "OR",
           "Salem"
          ],
          [
           "CA",
           "Salinas"
          ],
          [
           "UT",
           "Salt Lake City"
          ],
          [
           "UT",
           "Sandy"
          ],
          [
           "UT",
           "West Jordan"
          ],
          [
           "UT",
           "West Valley City"
          ],
          [
           "TX",
           "San Angelo"
          ],
          [
           "TX",
           "San Antonio"
          ],
          [
           "CA",
           "San Francisco"
          ],
          [
           "CA",
           "Santa Barbara"
          ],
          [
           "CA",
           "Santa Maria"
          ],
          [
           "NM",
           "Santa Fe"
          ],
          [
           "CA",
           "Santa Rosa"
          ],
          [
           "GA",
           "Savannah"
          ],
          [
           "NY",
           "Schenectady"
          ],
          [
           "PA",
           "Scranton"
          ],
          [
           "LA",
           "Shreveport"
          ],
          [
           "IA",
           "Sioux City"
          ],
          [
           "SD",
           "Sioux Falls"
          ],
          [
           "IN",
           "South Bend"
          ],
          [
           "WA",
           "Spokane"
          ],
          [
           "WA",
           "Spokane Valley"
          ],
          [
           "IL",
           "Springfield"
          ],
          [
           "MA",
           "Springfield"
          ],
          [
           "MO",
           "Springfield"
          ],
          [
           "UT",
           "St. George"
          ],
          [
           "MO",
           "St. Joseph"
          ],
          [
           "MO",
           "St. Louis"
          ],
          [
           "MN",
           "St. Paul"
          ],
          [
           "MI",
           "Sterling Heights"
          ],
          [
           "MI",
           "Warren"
          ],
          [
           "VA",
           "Suffolk"
          ],
          [
           "NY",
           "Syracuse"
          ],
          [
           "WA",
           "Tacoma"
          ],
          [
           "FL",
           "Tallahassee"
          ],
          [
           "FL",
           "Tampa"
          ],
          [
           "OH",
           "Toledo"
          ],
          [
           "KS",
           "Topeka"
          ],
          [
           "NJ",
           "Trenton"
          ],
          [
           "AZ",
           "Tucson"
          ],
          [
           "AL",
           "Tuscaloosa"
          ],
          [
           "TX",
           "Tyler"
          ],
          [
           "WA",
           "Vancouver"
          ],
          [
           "VA",
           "Virginia Beach"
          ],
          [
           "CA",
           "Visalia"
          ],
          [
           "TX",
           "Waco"
          ],
          [
           "GA",
           "Warner Robins"
          ],
          [
           "RI",
           "Warwick"
          ],
          [
           "DC",
           "Washington"
          ],
          [
           "IA",
           "Waterloo"
          ],
          [
           "IL",
           "Waukegan"
          ],
          [
           "WI",
           "Waukesha"
          ],
          [
           "KS",
           "Wichita"
          ],
          [
           "TX",
           "Wichita Falls"
          ],
          [
           "DE",
           "Wilmington"
          ],
          [
           "NC",
           "Wilmington"
          ],
          [
           "NC",
           "Winston-Salem"
          ],
          [
           "MA",
           "Worcester"
          ],
          [
           "WA",
           "Yakima"
          ],
          [
           "OH",
           "Youngstown"
          ],
          [
           "AZ",
           "Yuma"
          ]
         ],
         "hovertemplate": "<b>%{hovertext}</b><br><br>CHECKUP=%{x}<br>death1m=%{y}<br>state_id=%{customdata[0]}<br>CityName=%{customdata[1]}<extra></extra>",
         "hovertext": [
          "TX",
          "OH",
          "CA",
          "CA",
          "CA",
          "CA",
          "CA",
          "CA",
          "CA",
          "CA",
          "CA",
          "GA",
          "NY",
          "NM",
          "VA",
          "CA",
          "CA",
          "CA",
          "CA",
          "CA",
          "CA",
          "CA",
          "CA",
          "CA",
          "CA",
          "CA",
          "CA",
          "CA",
          "CA",
          "CA",
          "CA",
          "CA",
          "CA",
          "CA",
          "CA",
          "CA",
          "CA",
          "CA",
          "CA",
          "CA",
          "CA",
          "CA",
          "TX",
          "TX",
          "TX",
          "TX",
          "PA",
          "TX",
          "CA",
          "CA",
          "CA",
          "CA",
          "CA",
          "CA",
          "CA",
          "CA",
          "CA",
          "CA",
          "CA",
          "CA",
          "CA",
          "CA",
          "AK",
          "MI",
          "CA",
          "CA",
          "CA",
          "CA",
          "CA",
          "CA",
          "CA",
          "CA",
          "CA",
          "CA",
          "CA",
          "CA",
          "CA",
          "CA",
          "CA",
          "CA",
          "WI",
          "TX",
          "TX",
          "IL",
          "IL",
          "IL",
          "IL",
          "IL",
          "IL",
          "CO",
          "CO",
          "NC",
          "GA",
          "GA",
          "GA",
          "GA",
          "GA",
          "WA",
          "WA",
          "WA",
          "WA",
          "WA",
          "WA",
          "GA",
          "CO",
          "CO",
          "CO",
          "IL",
          "IL",
          "TX",
          "AZ",
          "AZ",
          "AZ",
          "AZ",
          "AZ",
          "AZ",
          "AZ",
          "AZ",
          "AZ",
          "AZ",
          "CA",
          "MD",
          "LA",
          "TX",
          "TX",
          "TX",
          "TX",
          "OR",
          "OR",
          "WA",
          "OR",
          "PA",
          "MT",
          "AL",
          "AL",
          "IL",
          "IN",
          "MN",
          "MN",
          "MN",
          "MN",
          "FL",
          "FL",
          "FL",
          "IL",
          "IL",
          "MA",
          "CO",
          "CO",
          "CT",
          "CT",
          "CT",
          "CT",
          "MA",
          "OK",
          "OK",
          "TX",
          "TX",
          "TX",
          "NY",
          "VT",
          "MA",
          "MA",
          "MA",
          "MA",
          "NJ",
          "OH",
          "FL",
          "CA",
          "CA",
          "CA",
          "CA",
          "CA",
          "CA",
          "CA",
          "CA",
          "IN",
          "IN",
          "TX",
          "TX",
          "TX",
          "TX",
          "TX",
          "TX",
          "TX",
          "NC",
          "NC",
          "IA",
          "CO",
          "IL",
          "SC",
          "SC",
          "SC",
          "WV",
          "NC",
          "TN",
          "VA",
          "WY",
          "CA",
          "OH",
          "CA",
          "CA",
          "CA",
          "CA",
          "TN",
          "FL",
          "FL",
          "FL",
          "OH",
          "OH",
          "NJ",
          "NJ",
          "NJ",
          "CA",
          "CA",
          "CO",
          "MO",
          "SC",
          "GA",
          "OH",
          "NC",
          "FL",
          "FL",
          "FL",
          "FL",
          "FL",
          "FL",
          "FL",
          "FL",
          "FL",
          "FL",
          "FL",
          "CA",
          "CA",
          "CA",
          "CA",
          "CA",
          "CA",
          "CA",
          "CA",
          "CA",
          "TX",
          "RI",
          "RI",
          "RI",
          "CA",
          "CA",
          "CA",
          "IA",
          "OH",
          "MI",
          "MI",
          "MI",
          "MI",
          "IL",
          "FL",
          "TX",
          "TX",
          "CO",
          "IA",
          "MN",
          "NC",
          "TX",
          "TX",
          "TX",
          "TX",
          "OK",
          "OK",
          "TX",
          "NJ",
          "PA",
          "OR",
          "IN",
          "WA",
          "CA",
          "CA",
          "CA",
          "MA",
          "MA",
          "ND",
          "MI",
          "MI",
          "MI",
          "MI",
          "AR",
          "AR",
          "NC",
          "MI",
          "CO",
          "CO",
          "AR",
          "IN",
          "FL",
          "IN",
          "IN",
          "NC",
          "MI",
          "MI",
          "CO",
          "WI",
          "NC",
          "NC",
          "NC",
          "OR",
          "OR",
          "MS",
          "VA",
          "CT",
          "CT",
          "NV",
          "NV",
          "NV",
          "FL",
          "FL",
          "FL",
          "FL",
          "HI",
          "AL",
          "MO",
          "MO",
          "MO",
          "IN",
          "IA",
          "MS",
          "FL",
          "NC",
          "NJ",
          "NJ",
          "AR",
          "MI",
          "KS",
          "LA",
          "WA",
          "WI",
          "TX",
          "TN",
          "IN",
          "LA",
          "LA",
          "FL",
          "MI",
          "TX",
          "NM",
          "KS",
          "MA",
          "MA",
          "OK",
          "UT",
          "TX",
          "KY",
          "NE",
          "AR",
          "TX",
          "KY",
          "TX",
          "VA",
          "GA",
          "WI",
          "NH",
          "NH",
          "CA",
          "CA",
          "CA",
          "OR",
          "FL",
          "FL",
          "TN",
          "CA",
          "ID",
          "TX",
          "CA",
          "CA",
          "CA",
          "CA",
          "CA",
          "WI",
          "MT",
          "TX",
          "TX",
          "AL",
          "CA",
          "CA",
          "AL",
          "NY",
          "NY",
          "NY",
          "IN",
          "TN",
          "ID",
          "CA",
          "IL",
          "TN",
          "CT",
          "CT",
          "LA",
          "NJ",
          "VA",
          "VA",
          "OK",
          "MO",
          "TX",
          "UT",
          "KS",
          "KS",
          "NE",
          "UT",
          "UT",
          "FL",
          "CA",
          "CA",
          "CA",
          "FL",
          "TX",
          "IL",
          "PA",
          "PA",
          "FL",
          "ME",
          "VA",
          "CO",
          "MA",
          "WI",
          "SD",
          "PA",
          "CA",
          "NV",
          "NV",
          "VA",
          "NM",
          "VA",
          "MN",
          "NY",
          "SC",
          "IL",
          "CA",
          "TX",
          "OR",
          "CA",
          "UT",
          "UT",
          "UT",
          "UT",
          "TX",
          "TX",
          "CA",
          "CA",
          "CA",
          "NM",
          "CA",
          "GA",
          "NY",
          "PA",
          "LA",
          "IA",
          "SD",
          "IN",
          "WA",
          "WA",
          "IL",
          "MA",
          "MO",
          "UT",
          "MO",
          "MO",
          "MN",
          "MI",
          "MI",
          "VA",
          "NY",
          "WA",
          "FL",
          "FL",
          "OH",
          "KS",
          "NJ",
          "AZ",
          "AL",
          "TX",
          "WA",
          "VA",
          "CA",
          "TX",
          "GA",
          "RI",
          "DC",
          "IA",
          "IL",
          "WI",
          "KS",
          "TX",
          "DE",
          "NC",
          "NC",
          "MA",
          "WA",
          "OH",
          "AZ"
         ],
         "legendgroup": "",
         "marker": {
          "color": "#636efa",
          "symbol": "circle"
         },
         "mode": "markers",
         "name": "",
         "orientation": "v",
         "showlegend": false,
         "type": "scatter",
         "x": [
          66.85000000000001,
          74.1,
          67.19999999999999,
          65.75,
          66.55000000000001,
          65.44999999999999,
          65.39999999999999,
          67.4,
          66.9,
          66.95,
          66.45,
          78.25,
          75.1,
          60.25,
          72.1,
          67.05,
          63.9,
          66.2,
          66.45,
          69.1,
          67,
          65.39999999999999,
          63.55,
          66.64999999999999,
          67.15,
          69.5,
          67.25,
          66.15,
          66.2,
          65.60000000000001,
          63.3,
          65.1,
          65.45,
          67.25,
          64.35000000000001,
          67,
          66.25,
          67.35,
          62.64999999999999,
          68.20000000000002,
          66.8,
          65.9,
          70.25,
          69.69999999999999,
          69.80000000000001,
          70.75,
          68.75,
          67.15,
          64.5,
          65.65,
          64.3,
          65.80000000000001,
          65.05,
          66.5,
          66.4,
          66.14999999999999,
          67.45,
          67.95,
          65.14999999999999,
          62.2,
          65.25,
          66,
          57.85000000000001,
          67.8,
          64.14999999999999,
          63.25,
          65.2,
          64.80000000000001,
          66.35,
          64.55000000000001,
          66.55,
          64.10000000000001,
          63.949999999999996,
          63.650000000000006,
          66.05000000000001,
          66.3,
          64.8,
          64.19999999999999,
          66.25,
          64.89999999999999,
          69.5,
          69,
          68.55000000000001,
          70.05000000000001,
          70.15,
          64.75,
          70.25,
          68.44999999999999,
          69.2,
          62.64999999999999,
          62.25,
          73.5,
          73.2,
          75.69999999999999,
          73.8,
          73.30000000000001,
          73.9,
          60.5,
          62.5,
          61.30000000000001,
          60.55,
          61.55,
          61.35,
          76.55000000000001,
          59.35,
          59.75,
          61.1,
          66.35,
          66.85000000000001,
          65.45,
          64.7,
          66.15,
          65.85000000000001,
          65.35,
          66.14999999999999,
          67.1,
          65.05,
          68.5,
          67.7,
          64.8,
          62.400000000000006,
          76.75,
          73.05,
          68,
          68.5,
          65.79999999999998,
          72.44999999999999,
          62.85,
          61.75,
          56.8,
          60.5,
          70.75,
          65.55,
          76.9,
          72.85000000000001,
          67.3,
          62.3,
          69.9,
          69.65,
          67.85000000000001,
          69.6,
          77.5,
          78.64999999999999,
          77.85000000000001,
          68.7,
          67.29999999999998,
          75.60000000000001,
          56,
          57.3,
          70.19999999999999,
          68.25,
          69.94999999999999,
          70,
          77.75,
          69.45,
          70.05,
          65,
          69.15,
          67.35,
          76.1,
          63.9,
          74,
          73.1,
          76.15,
          73.05,
          77.25,
          75.10000000000001,
          74.7,
          66.35000000000001,
          64.7,
          63.85,
          63.300000000000004,
          64.80000000000001,
          64.7,
          64.1,
          63.15,
          68.75,
          67.25,
          68.95,
          69.69999999999999,
          69.2,
          69.3,
          68.4,
          69.9,
          70.60000000000001,
          73.3,
          73.75,
          69.85000000000001,
          60.45,
          64.9,
          64.39999999999999,
          63.699999999999996,
          65.25,
          79.9,
          74.8,
          72.35000000000001,
          76.35,
          63.8,
          63.650000000000006,
          75.7,
          64.15,
          65.65,
          65,
          64.95,
          71.60000000000001,
          75.4,
          75.55000000000001,
          76.2,
          75.4,
          72.3,
          76.55000000000001,
          74,
          76.6,
          63.2,
          61.95,
          62.14999999999999,
          68.9,
          65.7,
          76.8,
          73.3,
          74.05000000000001,
          75.6,
          74.7,
          76.69999999999999,
          76.6,
          75.60000000000001,
          80.60000000000001,
          77.80000000000001,
          76.85,
          76.55,
          76.5,
          77.25,
          65,
          66.64999999999999,
          64.3,
          66.8,
          65.25,
          65.9,
          63.45,
          64.5,
          65.6,
          69.7,
          81.4,
          81.05000000000001,
          80.25,
          65.15,
          63.65,
          64.69999999999999,
          70.6,
          75.5,
          68.85000000000001,
          77.05,
          71.5,
          71.10000000000001,
          69.64999999999999,
          74,
          67.55,
          67.8,
          60.400000000000006,
          68.8,
          68.3,
          74.45,
          63.45,
          64.7,
          64.55000000000001,
          63.3,
          68.05,
          67.9,
          67.80000000000001,
          75.85000000000001,
          70.1,
          62.3,
          69.14999999999999,
          58.75,
          64.15,
          63.39999999999999,
          65.64999999999999,
          77.64999999999999,
          77.8,
          62.050000000000004,
          72.35,
          70.75,
          77.60000000000001,
          70.95,
          66.55,
          66.10000000000001,
          77.7,
          75.14999999999999,
          58.20000000000001,
          60.25,
          70.3,
          65.10000000000001,
          74.35000000000001,
          73.89999999999999,
          65.3,
          73.35,
          72.2,
          70.8,
          57.25,
          69.5,
          74.39999999999999,
          73.6,
          73.55,
          60.25,
          61.05,
          72.5,
          78.15,
          74.95,
          73.4,
          69.35,
          68.55,
          68.2,
          74.1,
          75,
          74.60000000000001,
          80.45,
          71.30000000000001,
          69.35,
          69.95,
          71.3,
          71.10000000000001,
          67.4,
          68.75,
          79.39999999999999,
          75.3,
          71.7,
          77.30000000000001,
          74.45,
          70.05000000000001,
          70.25,
          65.95,
          72.15,
          59.85,
          69.8,
          71.19999999999999,
          68.75,
          64.6,
          70.65,
          75.30000000000001,
          76.35000000000001,
          71.69999999999999,
          65.25,
          61.1,
          63.60000000000001,
          74.94999999999999,
          76.7,
          68.85000000000001,
          62,
          68.85,
          75.3,
          63.7,
          73.60000000000001,
          69.6,
          75.60000000000001,
          67.39999999999999,
          73.94999999999999,
          79.35,
          67.8,
          71.65,
          72.45,
          62.45,
          63.050000000000004,
          62.900000000000006,
          62.34999999999999,
          76.30000000000001,
          76.4,
          72.6,
          62.949999999999996,
          58.34999999999999,
          67.14999999999999,
          65,
          64.5,
          64.19999999999999,
          64.45,
          65.05000000000001,
          72.45,
          60.550000000000004,
          73.1,
          70.19999999999999,
          74.35,
          64.45,
          64.04999999999998,
          76.60000000000001,
          75.94999999999999,
          71.89999999999999,
          71.15,
          67.2,
          68.7,
          57.05,
          63.3,
          68.5,
          69.25,
          72.85000000000001,
          72.05000000000001,
          72.4,
          79.55,
          75.19999999999999,
          75.64999999999999,
          68,
          70.35000000000001,
          67.75,
          62,
          70.05,
          71.6,
          65.39999999999999,
          56.449999999999996,
          54.550000000000004,
          72.55,
          61.95,
          64.60000000000001,
          65.85000000000001,
          78.4,
          69.44999999999999,
          69.39999999999999,
          74,
          72.25,
          76.10000000000001,
          70,
          77.35,
          61.5,
          77.05000000000001,
          70.75,
          68.5,
          67.55000000000001,
          64.15,
          63.6,
          63.85,
          74.10000000000001,
          57.099999999999994,
          74.89999999999999,
          64.95,
          69.55,
          68.25,
          67.89999999999999,
          64.5,
          68.5,
          60.7,
          61.699999999999996,
          62.15,
          63.75,
          61.599999999999994,
          61.05,
          66.9,
          69.14999999999999,
          64.75,
          64.7,
          61.65,
          62.65000000000001,
          63.35,
          77.25,
          73.3,
          72.3,
          75.4,
          68.55,
          69.14999999999999,
          67.7,
          62.5,
          63.05,
          68.95,
          78.65,
          68.64999999999999,
          61.45,
          69.5,
          74.15,
          67.8,
          71.25,
          71.45,
          77.35,
          73.4,
          63.55,
          76.5,
          73.9,
          74.64999999999999,
          67.8,
          77.45,
          66.05,
          73.15,
          69,
          61.699999999999996,
          73.9,
          64.55,
          68.5,
          76.15,
          81.14999999999999,
          79.3,
          70.1,
          67,
          67.64999999999999,
          64.9,
          70.5,
          77.3,
          73.35,
          73.94999999999999,
          77.7,
          58.400000000000006,
          76.94999999999999,
          64.8
         ],
         "xaxis": "x",
         "y": [
          40.370439149637065,
          207.08074972644164,
          62.869091438861915,
          62.869091438861915,
          62.869091438861915,
          62.869091438861915,
          62.869091438861915,
          62.869091438861915,
          62.869091438861915,
          62.869091438861915,
          62.869091438861915,
          1606.1399821060916,
          218.0645928673054,
          84.95810727696103,
          281.1884900178086,
          124.43418720726778,
          124.43418720726778,
          124.43418720726778,
          124.43418720726778,
          124.43418720726778,
          124.43418720726778,
          124.43418720726778,
          124.43418720726778,
          124.43418720726778,
          124.43418720726778,
          124.43418720726778,
          124.43418720726778,
          124.43418720726778,
          124.43418720726778,
          124.43418720726778,
          124.43418720726778,
          124.43418720726778,
          124.43418720726778,
          124.43418720726778,
          124.43418720726778,
          124.43418720726778,
          124.43418720726778,
          124.43418720726778,
          124.43418720726778,
          124.43418720726778,
          124.43418720726778,
          124.43418720726778,
          36.02298060316879,
          36.02298060316879,
          36.02298060316879,
          36.02298060316879,
          292.5473561032692,
          145.45242978283952,
          40.21765686459317,
          40.21765686459317,
          40.21765686459317,
          40.21765686459317,
          40.21765686459317,
          40.21765686459317,
          40.21765686459317,
          40.21765686459317,
          40.21765686459317,
          40.21765686459317,
          40.21765686459317,
          40.21765686459317,
          40.21765686459317,
          40.21765686459317,
          15.784011585464505,
          283.957692908873,
          20.738248916835804,
          20.738248916835804,
          20.738248916835804,
          20.738248916835804,
          90.46727678862455,
          90.46727678862455,
          90.46727678862455,
          90.46727678862455,
          90.46727678862455,
          90.46727678862455,
          90.46727678862455,
          90.46727678862455,
          90.46727678862455,
          90.46727678862455,
          90.46727678862455,
          90.46727678862455,
          29.643902619779894,
          83.82319098123428,
          83.82319098123428,
          329.75378894585606,
          329.75378894585606,
          329.75378894585606,
          329.75378894585606,
          329.75378894585606,
          329.75378894585606,
          371.29760914738347,
          371.29760914738347,
          69.9553451713323,
          91.94166654879272,
          42.12358816064993,
          42.12358816064993,
          42.12358816064993,
          42.12358816064993,
          112.09996411230571,
          112.09996411230571,
          112.09996411230571,
          112.09996411230571,
          112.09996411230571,
          112.09996411230571,
          63.444852465340084,
          146.46466450661055,
          146.46466450661055,
          146.46466450661055,
          316.5356066991738,
          316.5356066991738,
          52.032658605894014,
          64.55033017568424,
          64.55033017568424,
          64.55033017568424,
          64.55033017568424,
          64.55033017568424,
          64.55033017568424,
          64.55033017568424,
          64.55033017568424,
          64.55033017568424,
          64.55033017568424,
          39.938368790897414,
          120.24856899595669,
          328.2547696516791,
          38.14433491699955,
          38.14433491699955,
          38.14433491699955,
          77.3025816301458,
          32.80548662115066,
          32.80548662115066,
          184.95468610190503,
          0,
          1189.3030684019166,
          21.528834285386225,
          91.21350801889523,
          91.21350801889523,
          60.9333108348801,
          95.23431609856752,
          163.8954761921866,
          163.8954761921866,
          163.8954761921866,
          163.8954761921866,
          362.91542778252216,
          362.91542778252216,
          362.91542778252216,
          499.53180083899855,
          499.53180083899855,
          188.61641021711517,
          164.9055915488383,
          164.9055915488383,
          909.3945112957671,
          909.3945112957671,
          909.3945112957671,
          909.3945112957671,
          3566.6914177281064,
          59.24502094969768,
          59.24502094969768,
          74.93568020782162,
          64.51087177954938,
          64.51087177954938,
          480.054551653597,
          265.72911982339235,
          1903.201993171542,
          1903.201993171542,
          1903.201993171542,
          1903.201993171542,
          1035.7137385282447,
          226.81327350722353,
          72.67124980015407,
          62.89985254823028,
          62.89985254823028,
          62.89985254823028,
          62.89985254823028,
          62.89985254823028,
          62.89985254823028,
          62.89985254823028,
          62.89985254823028,
          334.68333547440517,
          334.68333547440517,
          31.471494384743277,
          31.471494384743277,
          31.471494384743277,
          31.471494384743277,
          31.471494384743277,
          31.471494384743277,
          31.471494384743277,
          27.072072103340346,
          27.072072103340346,
          305.5655476778952,
          1185.4975421199167,
          27.196083763937995,
          14.08368053517986,
          14.08368053517986,
          14.08368053517986,
          82.41645032348457,
          56.335958262403096,
          29.302140228322276,
          62.39678531762044,
          20.35146988491244,
          4.012309766363202,
          72.24873469020604,
          20.363016408729273,
          20.363016408729273,
          20.363016408729273,
          20.363016408729273,
          16.406980623355885,
          96.708869018906,
          96.708869018906,
          96.708869018906,
          93.54642250921005,
          93.54642250921005,
          2208.4553649537866,
          2208.4553649537866,
          2208.4553649537866,
          33.26440210009259,
          33.26440210009259,
          113.41494961955019,
          6.625851421907716,
          103.33247222939809,
          69.45516283377064,
          141.76465080123185,
          65.57602290789067,
          162.34118740687356,
          162.34118740687356,
          162.34118740687356,
          162.34118740687356,
          162.34118740687356,
          162.34118740687356,
          162.34118740687356,
          162.34118740687356,
          162.34118740687356,
          162.34118740687356,
          162.34118740687356,
          70.52199189366104,
          70.52199189366104,
          70.52199189366104,
          70.52199189366104,
          70.52199189366104,
          70.52199189366104,
          70.52199189366104,
          70.52199189366104,
          70.52199189366104,
          8.190075266791702,
          343.7310881544162,
          343.7310881544162,
          343.7310881544162,
          109.67159884218125,
          109.67159884218125,
          109.67159884218125,
          29.018478967406445,
          15.998080230372356,
          571.152908639632,
          571.152908639632,
          571.152908639632,
          571.152908639632,
          174.76728356451673,
          69.52779648116163,
          36.872476539886804,
          36.872476539886804,
          118.03681457026347,
          175.909870659953,
          74.6181151464114,
          114.85012059262662,
          8.088907387157903,
          8.088907387157903,
          8.088907387157903,
          8.088907387157903,
          50.78479153675612,
          50.78479153675612,
          83.3195335355915,
          2796.1468367612597,
          16.40285409661281,
          7.90578413519945,
          8.42690711441633,
          187.03139473607723,
          42.72093520010874,
          42.72093520010874,
          42.72093520010874,
          1132.9604335356287,
          1132.9604335356287,
          197.97903006113594,
          1107.2343028330465,
          1107.2343028330465,
          1107.2343028330465,
          1107.2343028330465,
          15.41935128586376,
          15.41935128586376,
          47.148487226920125,
          576.9032656845575,
          67.98624735339251,
          67.98624735339251,
          0,
          213.16059020568613,
          32.057740570444594,
          449.9149793017055,
          449.9149793017055,
          28.90889568018502,
          100.69137640586092,
          100.69137640586092,
          439.84165700347876,
          111.44376908851045,
          116.30341234211812,
          116.30341234211812,
          12.783146699391523,
          26.884378490127737,
          26.884378490127737,
          22.91183199735532,
          22.27684173789068,
          1115.5740001868187,
          1115.5740001868187,
          97.47363000249601,
          97.47363000249601,
          97.47363000249601,
          83.32937657281231,
          83.32937657281231,
          83.32937657281231,
          83.32937657281231,
          7.5889336789287745,
          10.24905196269345,
          9.636804070586038,
          9.636804070586038,
          9.636804070586038,
          374.68370953793647,
          52.78406624986804,
          68.00657048096339,
          42.423531584319264,
          12.57735070684711,
          1929.3486244821609,
          1929.3486244821609,
          0,
          192.2227355655901,
          447.88766493160637,
          1073.2039301632176,
          208.9675133489695,
          177.42660452792694,
          8.949226563094285,
          8.191927019760566,
          14.008479799772129,
          82.59107254037433,
          225.77939970326136,
          68.42474238684709,
          56.588415045553674,
          68.67610541420727,
          14.855897791423194,
          0,
          1967.359713838587,
          1967.359713838587,
          29.505778214900417,
          5.812753763031467,
          95.03896597605019,
          41.147183475291115,
          30.51592253024467,
          56.15425905280978,
          44.39413109586913,
          138.605269410764,
          176.0935408889202,
          7.999744008191738,
          183.41051859324133,
          44.92376901127432,
          346.5392200125153,
          346.5392200125153,
          44.445178142623305,
          44.445178142623305,
          44.445178142623305,
          0,
          15.149502280582766,
          15.149502280582766,
          88.60620051822653,
          23.898615245950893,
          39.72001003832981,
          83.1906382801722,
          52.75370713033658,
          52.75370713033658,
          52.75370713033658,
          52.75370713033658,
          52.75370713033658,
          172.37105319289992,
          9.078282025909417,
          112.83324272482024,
          112.83324272482024,
          284.43604527836163,
          41.667145599374706,
          41.667145599374706,
          165.89375259208987,
          1909.2392680019893,
          1909.2392680019893,
          1909.2392680019893,
          373.28754339467696,
          89.34814699712533,
          24.811843519973532,
          23.3486656237596,
          446.31030260793193,
          56.93793223120777,
          943.5050874608853,
          943.5050874608853,
          492.6524817733157,
          3974.706844507179,
          55.74508885767164,
          24.519519580879678,
          194.86914800048453,
          199.8201618543311,
          28.43494085532302,
          9.634839579920994,
          109.00521494790243,
          109.00521494790243,
          45.20252515580002,
          17.229444512573945,
          17.229444512573945,
          16.431875702719434,
          31.227211024307632,
          31.227211024307632,
          31.227211024307632,
          9.752553340371426,
          38.61886080797093,
          29.960950894001485,
          234.1303936015711,
          72.25882405813486,
          57.17618268933893,
          188.62799541256715,
          116.31349659518673,
          100.30816898582869,
          3246.57777503262,
          160.28273875115704,
          26.05591599572683,
          736.0555780009937,
          24.890172115540178,
          101.03703752780588,
          101.03703752780588,
          23.586975083663,
          202.19720967850643,
          41.63255110395648,
          75.51216123356666,
          281.6894194893227,
          42.995265146425744,
          170.54036934171418,
          26.07864159253571,
          63.182369591589165,
          61.53409225380446,
          19.831000216157904,
          36.523333968378694,
          36.523333968378694,
          36.523333968378694,
          36.523333968378694,
          9.648318780452506,
          33.98501487410818,
          11.931978840994171,
          21.198304842222782,
          21.198304842222782,
          20.7691508878812,
          6.831896073196934,
          64.92140614571998,
          383.7916135342256,
          352.4617702650059,
          627.7943491865246,
          304.542762879621,
          240.73182474723157,
          102.46951531919254,
          57.75116946118159,
          57.75116946118159,
          149.44656562150487,
          717.71049158989,
          24.88870084092698,
          0,
          24.286286748187635,
          62.55163517191836,
          240.11990987999633,
          1701.2455028125596,
          1701.2455028125596,
          365.70364706273483,
          263.70833857753325,
          97.5368849929008,
          27.365129007036746,
          21.879190135024313,
          444.0902864203279,
          45.73041268430989,
          1199.2042333171755,
          141.7218360408588,
          81.15977315843402,
          22.906358805204327,
          63.20936712253262,
          15.536519941123343,
          169.6427209930008,
          15.259836872343834,
          96.9649956365752,
          833.0883073605802,
          88.47850993114557,
          268.92162428661067,
          332.68619033295965,
          91.18568749449086,
          37.04219811931468,
          16.725204883759826,
          627.7143169957301,
          15.036734742977094,
          22.564658001837994,
          1084.100600082386,
          393.5507390468615,
          374.19485040614853,
          65.39994244805065
         ],
         "yaxis": "y"
        }
       ],
       "layout": {
        "legend": {
         "tracegroupgap": 0
        },
        "margin": {
         "t": 60
        },
        "template": {
         "data": {
          "bar": [
           {
            "error_x": {
             "color": "#2a3f5f"
            },
            "error_y": {
             "color": "#2a3f5f"
            },
            "marker": {
             "line": {
              "color": "#E5ECF6",
              "width": 0.5
             }
            },
            "type": "bar"
           }
          ],
          "barpolar": [
           {
            "marker": {
             "line": {
              "color": "#E5ECF6",
              "width": 0.5
             }
            },
            "type": "barpolar"
           }
          ],
          "carpet": [
           {
            "aaxis": {
             "endlinecolor": "#2a3f5f",
             "gridcolor": "white",
             "linecolor": "white",
             "minorgridcolor": "white",
             "startlinecolor": "#2a3f5f"
            },
            "baxis": {
             "endlinecolor": "#2a3f5f",
             "gridcolor": "white",
             "linecolor": "white",
             "minorgridcolor": "white",
             "startlinecolor": "#2a3f5f"
            },
            "type": "carpet"
           }
          ],
          "choropleth": [
           {
            "colorbar": {
             "outlinewidth": 0,
             "ticks": ""
            },
            "type": "choropleth"
           }
          ],
          "contour": [
           {
            "colorbar": {
             "outlinewidth": 0,
             "ticks": ""
            },
            "colorscale": [
             [
              0,
              "#0d0887"
             ],
             [
              0.1111111111111111,
              "#46039f"
             ],
             [
              0.2222222222222222,
              "#7201a8"
             ],
             [
              0.3333333333333333,
              "#9c179e"
             ],
             [
              0.4444444444444444,
              "#bd3786"
             ],
             [
              0.5555555555555556,
              "#d8576b"
             ],
             [
              0.6666666666666666,
              "#ed7953"
             ],
             [
              0.7777777777777778,
              "#fb9f3a"
             ],
             [
              0.8888888888888888,
              "#fdca26"
             ],
             [
              1,
              "#f0f921"
             ]
            ],
            "type": "contour"
           }
          ],
          "contourcarpet": [
           {
            "colorbar": {
             "outlinewidth": 0,
             "ticks": ""
            },
            "type": "contourcarpet"
           }
          ],
          "heatmap": [
           {
            "colorbar": {
             "outlinewidth": 0,
             "ticks": ""
            },
            "colorscale": [
             [
              0,
              "#0d0887"
             ],
             [
              0.1111111111111111,
              "#46039f"
             ],
             [
              0.2222222222222222,
              "#7201a8"
             ],
             [
              0.3333333333333333,
              "#9c179e"
             ],
             [
              0.4444444444444444,
              "#bd3786"
             ],
             [
              0.5555555555555556,
              "#d8576b"
             ],
             [
              0.6666666666666666,
              "#ed7953"
             ],
             [
              0.7777777777777778,
              "#fb9f3a"
             ],
             [
              0.8888888888888888,
              "#fdca26"
             ],
             [
              1,
              "#f0f921"
             ]
            ],
            "type": "heatmap"
           }
          ],
          "heatmapgl": [
           {
            "colorbar": {
             "outlinewidth": 0,
             "ticks": ""
            },
            "colorscale": [
             [
              0,
              "#0d0887"
             ],
             [
              0.1111111111111111,
              "#46039f"
             ],
             [
              0.2222222222222222,
              "#7201a8"
             ],
             [
              0.3333333333333333,
              "#9c179e"
             ],
             [
              0.4444444444444444,
              "#bd3786"
             ],
             [
              0.5555555555555556,
              "#d8576b"
             ],
             [
              0.6666666666666666,
              "#ed7953"
             ],
             [
              0.7777777777777778,
              "#fb9f3a"
             ],
             [
              0.8888888888888888,
              "#fdca26"
             ],
             [
              1,
              "#f0f921"
             ]
            ],
            "type": "heatmapgl"
           }
          ],
          "histogram": [
           {
            "marker": {
             "colorbar": {
              "outlinewidth": 0,
              "ticks": ""
             }
            },
            "type": "histogram"
           }
          ],
          "histogram2d": [
           {
            "colorbar": {
             "outlinewidth": 0,
             "ticks": ""
            },
            "colorscale": [
             [
              0,
              "#0d0887"
             ],
             [
              0.1111111111111111,
              "#46039f"
             ],
             [
              0.2222222222222222,
              "#7201a8"
             ],
             [
              0.3333333333333333,
              "#9c179e"
             ],
             [
              0.4444444444444444,
              "#bd3786"
             ],
             [
              0.5555555555555556,
              "#d8576b"
             ],
             [
              0.6666666666666666,
              "#ed7953"
             ],
             [
              0.7777777777777778,
              "#fb9f3a"
             ],
             [
              0.8888888888888888,
              "#fdca26"
             ],
             [
              1,
              "#f0f921"
             ]
            ],
            "type": "histogram2d"
           }
          ],
          "histogram2dcontour": [
           {
            "colorbar": {
             "outlinewidth": 0,
             "ticks": ""
            },
            "colorscale": [
             [
              0,
              "#0d0887"
             ],
             [
              0.1111111111111111,
              "#46039f"
             ],
             [
              0.2222222222222222,
              "#7201a8"
             ],
             [
              0.3333333333333333,
              "#9c179e"
             ],
             [
              0.4444444444444444,
              "#bd3786"
             ],
             [
              0.5555555555555556,
              "#d8576b"
             ],
             [
              0.6666666666666666,
              "#ed7953"
             ],
             [
              0.7777777777777778,
              "#fb9f3a"
             ],
             [
              0.8888888888888888,
              "#fdca26"
             ],
             [
              1,
              "#f0f921"
             ]
            ],
            "type": "histogram2dcontour"
           }
          ],
          "mesh3d": [
           {
            "colorbar": {
             "outlinewidth": 0,
             "ticks": ""
            },
            "type": "mesh3d"
           }
          ],
          "parcoords": [
           {
            "line": {
             "colorbar": {
              "outlinewidth": 0,
              "ticks": ""
             }
            },
            "type": "parcoords"
           }
          ],
          "pie": [
           {
            "automargin": true,
            "type": "pie"
           }
          ],
          "scatter": [
           {
            "marker": {
             "colorbar": {
              "outlinewidth": 0,
              "ticks": ""
             }
            },
            "type": "scatter"
           }
          ],
          "scatter3d": [
           {
            "line": {
             "colorbar": {
              "outlinewidth": 0,
              "ticks": ""
             }
            },
            "marker": {
             "colorbar": {
              "outlinewidth": 0,
              "ticks": ""
             }
            },
            "type": "scatter3d"
           }
          ],
          "scattercarpet": [
           {
            "marker": {
             "colorbar": {
              "outlinewidth": 0,
              "ticks": ""
             }
            },
            "type": "scattercarpet"
           }
          ],
          "scattergeo": [
           {
            "marker": {
             "colorbar": {
              "outlinewidth": 0,
              "ticks": ""
             }
            },
            "type": "scattergeo"
           }
          ],
          "scattergl": [
           {
            "marker": {
             "colorbar": {
              "outlinewidth": 0,
              "ticks": ""
             }
            },
            "type": "scattergl"
           }
          ],
          "scattermapbox": [
           {
            "marker": {
             "colorbar": {
              "outlinewidth": 0,
              "ticks": ""
             }
            },
            "type": "scattermapbox"
           }
          ],
          "scatterpolar": [
           {
            "marker": {
             "colorbar": {
              "outlinewidth": 0,
              "ticks": ""
             }
            },
            "type": "scatterpolar"
           }
          ],
          "scatterpolargl": [
           {
            "marker": {
             "colorbar": {
              "outlinewidth": 0,
              "ticks": ""
             }
            },
            "type": "scatterpolargl"
           }
          ],
          "scatterternary": [
           {
            "marker": {
             "colorbar": {
              "outlinewidth": 0,
              "ticks": ""
             }
            },
            "type": "scatterternary"
           }
          ],
          "surface": [
           {
            "colorbar": {
             "outlinewidth": 0,
             "ticks": ""
            },
            "colorscale": [
             [
              0,
              "#0d0887"
             ],
             [
              0.1111111111111111,
              "#46039f"
             ],
             [
              0.2222222222222222,
              "#7201a8"
             ],
             [
              0.3333333333333333,
              "#9c179e"
             ],
             [
              0.4444444444444444,
              "#bd3786"
             ],
             [
              0.5555555555555556,
              "#d8576b"
             ],
             [
              0.6666666666666666,
              "#ed7953"
             ],
             [
              0.7777777777777778,
              "#fb9f3a"
             ],
             [
              0.8888888888888888,
              "#fdca26"
             ],
             [
              1,
              "#f0f921"
             ]
            ],
            "type": "surface"
           }
          ],
          "table": [
           {
            "cells": {
             "fill": {
              "color": "#EBF0F8"
             },
             "line": {
              "color": "white"
             }
            },
            "header": {
             "fill": {
              "color": "#C8D4E3"
             },
             "line": {
              "color": "white"
             }
            },
            "type": "table"
           }
          ]
         },
         "layout": {
          "annotationdefaults": {
           "arrowcolor": "#2a3f5f",
           "arrowhead": 0,
           "arrowwidth": 1
          },
          "coloraxis": {
           "colorbar": {
            "outlinewidth": 0,
            "ticks": ""
           }
          },
          "colorscale": {
           "diverging": [
            [
             0,
             "#8e0152"
            ],
            [
             0.1,
             "#c51b7d"
            ],
            [
             0.2,
             "#de77ae"
            ],
            [
             0.3,
             "#f1b6da"
            ],
            [
             0.4,
             "#fde0ef"
            ],
            [
             0.5,
             "#f7f7f7"
            ],
            [
             0.6,
             "#e6f5d0"
            ],
            [
             0.7,
             "#b8e186"
            ],
            [
             0.8,
             "#7fbc41"
            ],
            [
             0.9,
             "#4d9221"
            ],
            [
             1,
             "#276419"
            ]
           ],
           "sequential": [
            [
             0,
             "#0d0887"
            ],
            [
             0.1111111111111111,
             "#46039f"
            ],
            [
             0.2222222222222222,
             "#7201a8"
            ],
            [
             0.3333333333333333,
             "#9c179e"
            ],
            [
             0.4444444444444444,
             "#bd3786"
            ],
            [
             0.5555555555555556,
             "#d8576b"
            ],
            [
             0.6666666666666666,
             "#ed7953"
            ],
            [
             0.7777777777777778,
             "#fb9f3a"
            ],
            [
             0.8888888888888888,
             "#fdca26"
            ],
            [
             1,
             "#f0f921"
            ]
           ],
           "sequentialminus": [
            [
             0,
             "#0d0887"
            ],
            [
             0.1111111111111111,
             "#46039f"
            ],
            [
             0.2222222222222222,
             "#7201a8"
            ],
            [
             0.3333333333333333,
             "#9c179e"
            ],
            [
             0.4444444444444444,
             "#bd3786"
            ],
            [
             0.5555555555555556,
             "#d8576b"
            ],
            [
             0.6666666666666666,
             "#ed7953"
            ],
            [
             0.7777777777777778,
             "#fb9f3a"
            ],
            [
             0.8888888888888888,
             "#fdca26"
            ],
            [
             1,
             "#f0f921"
            ]
           ]
          },
          "colorway": [
           "#636efa",
           "#EF553B",
           "#00cc96",
           "#ab63fa",
           "#FFA15A",
           "#19d3f3",
           "#FF6692",
           "#B6E880",
           "#FF97FF",
           "#FECB52"
          ],
          "font": {
           "color": "#2a3f5f"
          },
          "geo": {
           "bgcolor": "white",
           "lakecolor": "white",
           "landcolor": "#E5ECF6",
           "showlakes": true,
           "showland": true,
           "subunitcolor": "white"
          },
          "hoverlabel": {
           "align": "left"
          },
          "hovermode": "closest",
          "mapbox": {
           "style": "light"
          },
          "paper_bgcolor": "white",
          "plot_bgcolor": "#E5ECF6",
          "polar": {
           "angularaxis": {
            "gridcolor": "white",
            "linecolor": "white",
            "ticks": ""
           },
           "bgcolor": "#E5ECF6",
           "radialaxis": {
            "gridcolor": "white",
            "linecolor": "white",
            "ticks": ""
           }
          },
          "scene": {
           "xaxis": {
            "backgroundcolor": "#E5ECF6",
            "gridcolor": "white",
            "gridwidth": 2,
            "linecolor": "white",
            "showbackground": true,
            "ticks": "",
            "zerolinecolor": "white"
           },
           "yaxis": {
            "backgroundcolor": "#E5ECF6",
            "gridcolor": "white",
            "gridwidth": 2,
            "linecolor": "white",
            "showbackground": true,
            "ticks": "",
            "zerolinecolor": "white"
           },
           "zaxis": {
            "backgroundcolor": "#E5ECF6",
            "gridcolor": "white",
            "gridwidth": 2,
            "linecolor": "white",
            "showbackground": true,
            "ticks": "",
            "zerolinecolor": "white"
           }
          },
          "shapedefaults": {
           "line": {
            "color": "#2a3f5f"
           }
          },
          "ternary": {
           "aaxis": {
            "gridcolor": "white",
            "linecolor": "white",
            "ticks": ""
           },
           "baxis": {
            "gridcolor": "white",
            "linecolor": "white",
            "ticks": ""
           },
           "bgcolor": "#E5ECF6",
           "caxis": {
            "gridcolor": "white",
            "linecolor": "white",
            "ticks": ""
           }
          },
          "title": {
           "x": 0.05
          },
          "xaxis": {
           "automargin": true,
           "gridcolor": "white",
           "linecolor": "white",
           "ticks": "",
           "title": {
            "standoff": 15
           },
           "zerolinecolor": "white",
           "zerolinewidth": 2
          },
          "yaxis": {
           "automargin": true,
           "gridcolor": "white",
           "linecolor": "white",
           "ticks": "",
           "title": {
            "standoff": 15
           },
           "zerolinecolor": "white",
           "zerolinewidth": 2
          }
         }
        },
        "xaxis": {
         "anchor": "y",
         "domain": [
          0,
          1
         ],
         "title": {
          "text": "CHECKUP"
         }
        },
        "yaxis": {
         "anchor": "x",
         "domain": [
          0,
          1
         ],
         "title": {
          "text": "death1m"
         }
        }
       }
      }
     },
     "metadata": {}
    }
   ],
   "source": [
    "fig = px.scatter(df, x = 'CHECKUP', y = 'death1m', hover_name=\"state_id\", hover_data=[\"state_id\", \"CityName\"])\n",
    "fig.show()"
   ]
  },
  {
   "cell_type": "code",
   "execution_count": 80,
   "metadata": {},
   "outputs": [],
   "source": [
    "df100 = pd.read_sql_table('Covid100', engine)"
   ]
  },
  {
   "cell_type": "code",
   "execution_count": 85,
   "metadata": {},
   "outputs": [
    {
     "output_type": "execute_result",
     "data": {
      "text/plain": "Index(['CityName', 'county_fips', 'state_id', 'density', 'ACCESS2',\n       'ARTHRITIS', 'BINGE', 'BPHIGH', 'BPMED', 'CANCER', 'CASTHMA', 'CHD',\n       'CHECKUP', 'CHOLSCREEN', 'COLON_SCREEN', 'COPD', 'COREM', 'COREW',\n       'CSMOKING', 'DENTAL', 'DIABETES', 'HIGHCHOL', 'KIDNEY', 'LPA',\n       'MAMMOUSE', 'MHLTH', 'OBESITY', 'PAPTEST', 'PHLTH', 'SLEEP', 'STROKE',\n       'TEETHLOST', 'first_date', 'case1m', 'death1m', 'county_fips_number',\n       'case14', 'death14'],\n      dtype='object')"
     },
     "metadata": {},
     "execution_count": 85
    }
   ],
   "source": [
    "df100.columns"
   ]
  },
  {
   "cell_type": "code",
   "execution_count": 81,
   "metadata": {},
   "outputs": [
    {
     "output_type": "execute_result",
     "data": {
      "text/plain": "<matplotlib.axes._subplots.AxesSubplot at 0x135346ed0>"
     },
     "metadata": {},
     "execution_count": 81
    },
    {
     "output_type": "display_data",
     "data": {
      "text/plain": "<Figure size 432x288 with 1 Axes>",
      "image/svg+xml": "<?xml version=\"1.0\" encoding=\"utf-8\" standalone=\"no\"?>\n<!DOCTYPE svg PUBLIC \"-//W3C//DTD SVG 1.1//EN\"\n  \"http://www.w3.org/Graphics/SVG/1.1/DTD/svg11.dtd\">\n<!-- Created with matplotlib (https://matplotlib.org/) -->\n<svg height=\"248.518125pt\" version=\"1.1\" viewBox=\"0 0 402.554938 248.518125\" width=\"402.554938pt\" xmlns=\"http://www.w3.org/2000/svg\" xmlns:xlink=\"http://www.w3.org/1999/xlink\">\n <defs>\n  <style type=\"text/css\">\n*{stroke-linecap:butt;stroke-linejoin:round;}\n  </style>\n </defs>\n <g id=\"figure_1\">\n  <g id=\"patch_1\">\n   <path d=\"M 0 248.518125 \nL 402.554938 248.518125 \nL 402.554938 0 \nL 0 0 \nz\n\" style=\"fill:none;\"/>\n  </g>\n  <g id=\"axes_1\">\n   <g id=\"patch_2\">\n    <path d=\"M 33.2875 224.64 \nL 368.0875 224.64 \nL 368.0875 7.2 \nL 33.2875 7.2 \nz\n\" style=\"fill:#ffffff;\"/>\n   </g>\n   <g id=\"patch_3\">\n    <path clip-path=\"url(#p68971e5198)\" d=\"M 48.505682 224.64 \nL 78.942045 224.64 \nL 78.942045 157.162632 \nL 48.505682 157.162632 \nz\n\" style=\"fill:#1f77b4;\"/>\n   </g>\n   <g id=\"patch_4\">\n    <path clip-path=\"url(#p68971e5198)\" d=\"M 78.942045 224.64 \nL 109.378409 224.64 \nL 109.378409 216.49618 \nL 78.942045 216.49618 \nz\n\" style=\"fill:#1f77b4;\"/>\n   </g>\n   <g id=\"patch_5\">\n    <path clip-path=\"url(#p68971e5198)\" d=\"M 109.378409 224.64 \nL 139.814773 224.64 \nL 139.814773 214.169374 \nL 109.378409 214.169374 \nz\n\" style=\"fill:#1f77b4;\"/>\n   </g>\n   <g id=\"patch_6\">\n    <path clip-path=\"url(#p68971e5198)\" d=\"M 139.814773 224.64 \nL 170.251136 224.64 \nL 170.251136 222.313194 \nL 139.814773 222.313194 \nz\n\" style=\"fill:#1f77b4;\"/>\n   </g>\n   <g id=\"patch_7\">\n    <path clip-path=\"url(#p68971e5198)\" d=\"M 170.251136 224.64 \nL 200.6875 224.64 \nL 200.6875 219.986388 \nL 170.251136 219.986388 \nz\n\" style=\"fill:#1f77b4;\"/>\n   </g>\n   <g id=\"patch_8\">\n    <path clip-path=\"url(#p68971e5198)\" d=\"M 200.6875 224.64 \nL 231.123864 224.64 \nL 231.123864 190.901316 \nL 200.6875 190.901316 \nz\n\" style=\"fill:#1f77b4;\"/>\n   </g>\n   <g id=\"patch_9\">\n    <path clip-path=\"url(#p68971e5198)\" d=\"M 231.123864 224.64 \nL 261.560227 224.64 \nL 261.560227 118.770337 \nL 231.123864 118.770337 \nz\n\" style=\"fill:#1f77b4;\"/>\n   </g>\n   <g id=\"patch_10\">\n    <path clip-path=\"url(#p68971e5198)\" d=\"M 261.560227 224.64 \nL 291.996591 224.64 \nL 291.996591 17.554286 \nL 261.560227 17.554286 \nz\n\" style=\"fill:#1f77b4;\"/>\n   </g>\n   <g id=\"patch_11\">\n    <path clip-path=\"url(#p68971e5198)\" d=\"M 291.996591 224.64 \nL 322.432955 224.64 \nL 322.432955 114.116726 \nL 291.996591 114.116726 \nz\n\" style=\"fill:#1f77b4;\"/>\n   </g>\n   <g id=\"patch_12\">\n    <path clip-path=\"url(#p68971e5198)\" d=\"M 322.432955 224.64 \nL 352.869318 224.64 \nL 352.869318 196.718331 \nL 322.432955 196.718331 \nz\n\" style=\"fill:#1f77b4;\"/>\n   </g>\n   <g id=\"matplotlib.axis_1\">\n    <g id=\"xtick_1\">\n     <g id=\"line2d_1\">\n      <path clip-path=\"url(#p68971e5198)\" d=\"M 97.740976 224.64 \nL 97.740976 7.2 \n\" style=\"fill:none;stroke:#b0b0b0;stroke-linecap:square;stroke-width:0.8;\"/>\n     </g>\n     <g id=\"line2d_2\">\n      <defs>\n       <path d=\"M 0 0 \nL 0 3.5 \n\" id=\"m9e20151c41\" style=\"stroke:#000000;stroke-width:0.8;\"/>\n      </defs>\n      <g>\n       <use style=\"stroke:#000000;stroke-width:0.8;\" x=\"97.740976\" xlink:href=\"#m9e20151c41\" y=\"224.64\"/>\n      </g>\n     </g>\n     <g id=\"text_1\">\n      <!-- 2020-02-01 -->\n      <defs>\n       <path d=\"M 19.1875 8.296875 \nL 53.609375 8.296875 \nL 53.609375 0 \nL 7.328125 0 \nL 7.328125 8.296875 \nQ 12.9375 14.109375 22.625 23.890625 \nQ 32.328125 33.6875 34.8125 36.53125 \nQ 39.546875 41.84375 41.421875 45.53125 \nQ 43.3125 49.21875 43.3125 52.78125 \nQ 43.3125 58.59375 39.234375 62.25 \nQ 35.15625 65.921875 28.609375 65.921875 \nQ 23.96875 65.921875 18.8125 64.3125 \nQ 13.671875 62.703125 7.8125 59.421875 \nL 7.8125 69.390625 \nQ 13.765625 71.78125 18.9375 73 \nQ 24.125 74.21875 28.421875 74.21875 \nQ 39.75 74.21875 46.484375 68.546875 \nQ 53.21875 62.890625 53.21875 53.421875 \nQ 53.21875 48.921875 51.53125 44.890625 \nQ 49.859375 40.875 45.40625 35.40625 \nQ 44.1875 33.984375 37.640625 27.21875 \nQ 31.109375 20.453125 19.1875 8.296875 \nz\n\" id=\"DejaVuSans-50\"/>\n       <path d=\"M 31.78125 66.40625 \nQ 24.171875 66.40625 20.328125 58.90625 \nQ 16.5 51.421875 16.5 36.375 \nQ 16.5 21.390625 20.328125 13.890625 \nQ 24.171875 6.390625 31.78125 6.390625 \nQ 39.453125 6.390625 43.28125 13.890625 \nQ 47.125 21.390625 47.125 36.375 \nQ 47.125 51.421875 43.28125 58.90625 \nQ 39.453125 66.40625 31.78125 66.40625 \nz\nM 31.78125 74.21875 \nQ 44.046875 74.21875 50.515625 64.515625 \nQ 56.984375 54.828125 56.984375 36.375 \nQ 56.984375 17.96875 50.515625 8.265625 \nQ 44.046875 -1.421875 31.78125 -1.421875 \nQ 19.53125 -1.421875 13.0625 8.265625 \nQ 6.59375 17.96875 6.59375 36.375 \nQ 6.59375 54.828125 13.0625 64.515625 \nQ 19.53125 74.21875 31.78125 74.21875 \nz\n\" id=\"DejaVuSans-48\"/>\n       <path d=\"M 4.890625 31.390625 \nL 31.203125 31.390625 \nL 31.203125 23.390625 \nL 4.890625 23.390625 \nz\n\" id=\"DejaVuSans-45\"/>\n       <path d=\"M 12.40625 8.296875 \nL 28.515625 8.296875 \nL 28.515625 63.921875 \nL 10.984375 60.40625 \nL 10.984375 69.390625 \nL 28.421875 72.90625 \nL 38.28125 72.90625 \nL 38.28125 8.296875 \nL 54.390625 8.296875 \nL 54.390625 0 \nL 12.40625 0 \nz\n\" id=\"DejaVuSans-49\"/>\n      </defs>\n      <g transform=\"translate(68.683163 239.238437)scale(0.1 -0.1)\">\n       <use xlink:href=\"#DejaVuSans-50\"/>\n       <use x=\"63.623047\" xlink:href=\"#DejaVuSans-48\"/>\n       <use x=\"127.246094\" xlink:href=\"#DejaVuSans-50\"/>\n       <use x=\"190.869141\" xlink:href=\"#DejaVuSans-48\"/>\n       <use x=\"254.492188\" xlink:href=\"#DejaVuSans-45\"/>\n       <use x=\"290.576172\" xlink:href=\"#DejaVuSans-48\"/>\n       <use x=\"354.199219\" xlink:href=\"#DejaVuSans-50\"/>\n       <use x=\"417.822266\" xlink:href=\"#DejaVuSans-45\"/>\n       <use x=\"453.90625\" xlink:href=\"#DejaVuSans-48\"/>\n       <use x=\"517.529297\" xlink:href=\"#DejaVuSans-49\"/>\n      </g>\n     </g>\n    </g>\n    <g id=\"xtick_2\">\n     <g id=\"line2d_3\">\n      <path clip-path=\"url(#p68971e5198)\" d=\"M 160.404078 224.64 \nL 160.404078 7.2 \n\" style=\"fill:none;stroke:#b0b0b0;stroke-linecap:square;stroke-width:0.8;\"/>\n     </g>\n     <g id=\"line2d_4\">\n      <g>\n       <use style=\"stroke:#000000;stroke-width:0.8;\" x=\"160.404078\" xlink:href=\"#m9e20151c41\" y=\"224.64\"/>\n      </g>\n     </g>\n     <g id=\"text_2\">\n      <!-- 2020-02-15 -->\n      <defs>\n       <path d=\"M 10.796875 72.90625 \nL 49.515625 72.90625 \nL 49.515625 64.59375 \nL 19.828125 64.59375 \nL 19.828125 46.734375 \nQ 21.96875 47.46875 24.109375 47.828125 \nQ 26.265625 48.1875 28.421875 48.1875 \nQ 40.625 48.1875 47.75 41.5 \nQ 54.890625 34.8125 54.890625 23.390625 \nQ 54.890625 11.625 47.5625 5.09375 \nQ 40.234375 -1.421875 26.90625 -1.421875 \nQ 22.3125 -1.421875 17.546875 -0.640625 \nQ 12.796875 0.140625 7.71875 1.703125 \nL 7.71875 11.625 \nQ 12.109375 9.234375 16.796875 8.0625 \nQ 21.484375 6.890625 26.703125 6.890625 \nQ 35.15625 6.890625 40.078125 11.328125 \nQ 45.015625 15.765625 45.015625 23.390625 \nQ 45.015625 31 40.078125 35.4375 \nQ 35.15625 39.890625 26.703125 39.890625 \nQ 22.75 39.890625 18.8125 39.015625 \nQ 14.890625 38.140625 10.796875 36.28125 \nz\n\" id=\"DejaVuSans-53\"/>\n      </defs>\n      <g transform=\"translate(131.346265 239.238437)scale(0.1 -0.1)\">\n       <use xlink:href=\"#DejaVuSans-50\"/>\n       <use x=\"63.623047\" xlink:href=\"#DejaVuSans-48\"/>\n       <use x=\"127.246094\" xlink:href=\"#DejaVuSans-50\"/>\n       <use x=\"190.869141\" xlink:href=\"#DejaVuSans-48\"/>\n       <use x=\"254.492188\" xlink:href=\"#DejaVuSans-45\"/>\n       <use x=\"290.576172\" xlink:href=\"#DejaVuSans-48\"/>\n       <use x=\"354.199219\" xlink:href=\"#DejaVuSans-50\"/>\n       <use x=\"417.822266\" xlink:href=\"#DejaVuSans-45\"/>\n       <use x=\"453.90625\" xlink:href=\"#DejaVuSans-49\"/>\n       <use x=\"517.529297\" xlink:href=\"#DejaVuSans-53\"/>\n      </g>\n     </g>\n    </g>\n    <g id=\"xtick_3\">\n     <g id=\"line2d_5\">\n      <path clip-path=\"url(#p68971e5198)\" d=\"M 227.543115 224.64 \nL 227.543115 7.2 \n\" style=\"fill:none;stroke:#b0b0b0;stroke-linecap:square;stroke-width:0.8;\"/>\n     </g>\n     <g id=\"line2d_6\">\n      <g>\n       <use style=\"stroke:#000000;stroke-width:0.8;\" x=\"227.543115\" xlink:href=\"#m9e20151c41\" y=\"224.64\"/>\n      </g>\n     </g>\n     <g id=\"text_3\">\n      <!-- 2020-03-01 -->\n      <defs>\n       <path d=\"M 40.578125 39.3125 \nQ 47.65625 37.796875 51.625 33 \nQ 55.609375 28.21875 55.609375 21.1875 \nQ 55.609375 10.40625 48.1875 4.484375 \nQ 40.765625 -1.421875 27.09375 -1.421875 \nQ 22.515625 -1.421875 17.65625 -0.515625 \nQ 12.796875 0.390625 7.625 2.203125 \nL 7.625 11.71875 \nQ 11.71875 9.328125 16.59375 8.109375 \nQ 21.484375 6.890625 26.8125 6.890625 \nQ 36.078125 6.890625 40.9375 10.546875 \nQ 45.796875 14.203125 45.796875 21.1875 \nQ 45.796875 27.640625 41.28125 31.265625 \nQ 36.765625 34.90625 28.71875 34.90625 \nL 20.21875 34.90625 \nL 20.21875 43.015625 \nL 29.109375 43.015625 \nQ 36.375 43.015625 40.234375 45.921875 \nQ 44.09375 48.828125 44.09375 54.296875 \nQ 44.09375 59.90625 40.109375 62.90625 \nQ 36.140625 65.921875 28.71875 65.921875 \nQ 24.65625 65.921875 20.015625 65.03125 \nQ 15.375 64.15625 9.8125 62.3125 \nL 9.8125 71.09375 \nQ 15.4375 72.65625 20.34375 73.4375 \nQ 25.25 74.21875 29.59375 74.21875 \nQ 40.828125 74.21875 47.359375 69.109375 \nQ 53.90625 64.015625 53.90625 55.328125 \nQ 53.90625 49.265625 50.4375 45.09375 \nQ 46.96875 40.921875 40.578125 39.3125 \nz\n\" id=\"DejaVuSans-51\"/>\n      </defs>\n      <g transform=\"translate(198.485302 239.238437)scale(0.1 -0.1)\">\n       <use xlink:href=\"#DejaVuSans-50\"/>\n       <use x=\"63.623047\" xlink:href=\"#DejaVuSans-48\"/>\n       <use x=\"127.246094\" xlink:href=\"#DejaVuSans-50\"/>\n       <use x=\"190.869141\" xlink:href=\"#DejaVuSans-48\"/>\n       <use x=\"254.492188\" xlink:href=\"#DejaVuSans-45\"/>\n       <use x=\"290.576172\" xlink:href=\"#DejaVuSans-48\"/>\n       <use x=\"354.199219\" xlink:href=\"#DejaVuSans-51\"/>\n       <use x=\"417.822266\" xlink:href=\"#DejaVuSans-45\"/>\n       <use x=\"453.90625\" xlink:href=\"#DejaVuSans-48\"/>\n       <use x=\"517.529297\" xlink:href=\"#DejaVuSans-49\"/>\n      </g>\n     </g>\n    </g>\n    <g id=\"xtick_4\">\n     <g id=\"line2d_7\">\n      <path clip-path=\"url(#p68971e5198)\" d=\"M 290.206217 224.64 \nL 290.206217 7.2 \n\" style=\"fill:none;stroke:#b0b0b0;stroke-linecap:square;stroke-width:0.8;\"/>\n     </g>\n     <g id=\"line2d_8\">\n      <g>\n       <use style=\"stroke:#000000;stroke-width:0.8;\" x=\"290.206217\" xlink:href=\"#m9e20151c41\" y=\"224.64\"/>\n      </g>\n     </g>\n     <g id=\"text_4\">\n      <!-- 2020-03-15 -->\n      <g transform=\"translate(261.148404 239.238437)scale(0.1 -0.1)\">\n       <use xlink:href=\"#DejaVuSans-50\"/>\n       <use x=\"63.623047\" xlink:href=\"#DejaVuSans-48\"/>\n       <use x=\"127.246094\" xlink:href=\"#DejaVuSans-50\"/>\n       <use x=\"190.869141\" xlink:href=\"#DejaVuSans-48\"/>\n       <use x=\"254.492188\" xlink:href=\"#DejaVuSans-45\"/>\n       <use x=\"290.576172\" xlink:href=\"#DejaVuSans-48\"/>\n       <use x=\"354.199219\" xlink:href=\"#DejaVuSans-51\"/>\n       <use x=\"417.822266\" xlink:href=\"#DejaVuSans-45\"/>\n       <use x=\"453.90625\" xlink:href=\"#DejaVuSans-49\"/>\n       <use x=\"517.529297\" xlink:href=\"#DejaVuSans-53\"/>\n      </g>\n     </g>\n    </g>\n    <g id=\"xtick_5\">\n     <g id=\"line2d_9\">\n      <path clip-path=\"url(#p68971e5198)\" d=\"M 366.297126 224.64 \nL 366.297126 7.2 \n\" style=\"fill:none;stroke:#b0b0b0;stroke-linecap:square;stroke-width:0.8;\"/>\n     </g>\n     <g id=\"line2d_10\">\n      <g>\n       <use style=\"stroke:#000000;stroke-width:0.8;\" x=\"366.297126\" xlink:href=\"#m9e20151c41\" y=\"224.64\"/>\n      </g>\n     </g>\n     <g id=\"text_5\">\n      <!-- 2020-04-01 -->\n      <defs>\n       <path d=\"M 37.796875 64.3125 \nL 12.890625 25.390625 \nL 37.796875 25.390625 \nz\nM 35.203125 72.90625 \nL 47.609375 72.90625 \nL 47.609375 25.390625 \nL 58.015625 25.390625 \nL 58.015625 17.1875 \nL 47.609375 17.1875 \nL 47.609375 0 \nL 37.796875 0 \nL 37.796875 17.1875 \nL 4.890625 17.1875 \nL 4.890625 26.703125 \nz\n\" id=\"DejaVuSans-52\"/>\n      </defs>\n      <g transform=\"translate(337.239313 239.238437)scale(0.1 -0.1)\">\n       <use xlink:href=\"#DejaVuSans-50\"/>\n       <use x=\"63.623047\" xlink:href=\"#DejaVuSans-48\"/>\n       <use x=\"127.246094\" xlink:href=\"#DejaVuSans-50\"/>\n       <use x=\"190.869141\" xlink:href=\"#DejaVuSans-48\"/>\n       <use x=\"254.492188\" xlink:href=\"#DejaVuSans-45\"/>\n       <use x=\"290.576172\" xlink:href=\"#DejaVuSans-48\"/>\n       <use x=\"354.199219\" xlink:href=\"#DejaVuSans-52\"/>\n       <use x=\"417.822266\" xlink:href=\"#DejaVuSans-45\"/>\n       <use x=\"453.90625\" xlink:href=\"#DejaVuSans-48\"/>\n       <use x=\"517.529297\" xlink:href=\"#DejaVuSans-49\"/>\n      </g>\n     </g>\n    </g>\n   </g>\n   <g id=\"matplotlib.axis_2\">\n    <g id=\"ytick_1\">\n     <g id=\"line2d_11\">\n      <path clip-path=\"url(#p68971e5198)\" d=\"M 33.2875 224.64 \nL 368.0875 224.64 \n\" style=\"fill:none;stroke:#b0b0b0;stroke-linecap:square;stroke-width:0.8;\"/>\n     </g>\n     <g id=\"line2d_12\">\n      <defs>\n       <path d=\"M 0 0 \nL -3.5 0 \n\" id=\"maa77f4af7c\" style=\"stroke:#000000;stroke-width:0.8;\"/>\n      </defs>\n      <g>\n       <use style=\"stroke:#000000;stroke-width:0.8;\" x=\"33.2875\" xlink:href=\"#maa77f4af7c\" y=\"224.64\"/>\n      </g>\n     </g>\n     <g id=\"text_6\">\n      <!-- 0 -->\n      <g transform=\"translate(19.925 228.439219)scale(0.1 -0.1)\">\n       <use xlink:href=\"#DejaVuSans-48\"/>\n      </g>\n     </g>\n    </g>\n    <g id=\"ytick_2\">\n     <g id=\"line2d_13\">\n      <path clip-path=\"url(#p68971e5198)\" d=\"M 33.2875 195.554928 \nL 368.0875 195.554928 \n\" style=\"fill:none;stroke:#b0b0b0;stroke-linecap:square;stroke-width:0.8;\"/>\n     </g>\n     <g id=\"line2d_14\">\n      <g>\n       <use style=\"stroke:#000000;stroke-width:0.8;\" x=\"33.2875\" xlink:href=\"#maa77f4af7c\" y=\"195.554928\"/>\n      </g>\n     </g>\n     <g id=\"text_7\">\n      <!-- 25 -->\n      <g transform=\"translate(13.5625 199.354147)scale(0.1 -0.1)\">\n       <use xlink:href=\"#DejaVuSans-50\"/>\n       <use x=\"63.623047\" xlink:href=\"#DejaVuSans-53\"/>\n      </g>\n     </g>\n    </g>\n    <g id=\"ytick_3\">\n     <g id=\"line2d_15\">\n      <path clip-path=\"url(#p68971e5198)\" d=\"M 33.2875 166.469856 \nL 368.0875 166.469856 \n\" style=\"fill:none;stroke:#b0b0b0;stroke-linecap:square;stroke-width:0.8;\"/>\n     </g>\n     <g id=\"line2d_16\">\n      <g>\n       <use style=\"stroke:#000000;stroke-width:0.8;\" x=\"33.2875\" xlink:href=\"#maa77f4af7c\" y=\"166.469856\"/>\n      </g>\n     </g>\n     <g id=\"text_8\">\n      <!-- 50 -->\n      <g transform=\"translate(13.5625 170.269074)scale(0.1 -0.1)\">\n       <use xlink:href=\"#DejaVuSans-53\"/>\n       <use x=\"63.623047\" xlink:href=\"#DejaVuSans-48\"/>\n      </g>\n     </g>\n    </g>\n    <g id=\"ytick_4\">\n     <g id=\"line2d_17\">\n      <path clip-path=\"url(#p68971e5198)\" d=\"M 33.2875 137.384783 \nL 368.0875 137.384783 \n\" style=\"fill:none;stroke:#b0b0b0;stroke-linecap:square;stroke-width:0.8;\"/>\n     </g>\n     <g id=\"line2d_18\">\n      <g>\n       <use style=\"stroke:#000000;stroke-width:0.8;\" x=\"33.2875\" xlink:href=\"#maa77f4af7c\" y=\"137.384783\"/>\n      </g>\n     </g>\n     <g id=\"text_9\">\n      <!-- 75 -->\n      <defs>\n       <path d=\"M 8.203125 72.90625 \nL 55.078125 72.90625 \nL 55.078125 68.703125 \nL 28.609375 0 \nL 18.3125 0 \nL 43.21875 64.59375 \nL 8.203125 64.59375 \nz\n\" id=\"DejaVuSans-55\"/>\n      </defs>\n      <g transform=\"translate(13.5625 141.184002)scale(0.1 -0.1)\">\n       <use xlink:href=\"#DejaVuSans-55\"/>\n       <use x=\"63.623047\" xlink:href=\"#DejaVuSans-53\"/>\n      </g>\n     </g>\n    </g>\n    <g id=\"ytick_5\">\n     <g id=\"line2d_19\">\n      <path clip-path=\"url(#p68971e5198)\" d=\"M 33.2875 108.299711 \nL 368.0875 108.299711 \n\" style=\"fill:none;stroke:#b0b0b0;stroke-linecap:square;stroke-width:0.8;\"/>\n     </g>\n     <g id=\"line2d_20\">\n      <g>\n       <use style=\"stroke:#000000;stroke-width:0.8;\" x=\"33.2875\" xlink:href=\"#maa77f4af7c\" y=\"108.299711\"/>\n      </g>\n     </g>\n     <g id=\"text_10\">\n      <!-- 100 -->\n      <g transform=\"translate(7.2 112.09893)scale(0.1 -0.1)\">\n       <use xlink:href=\"#DejaVuSans-49\"/>\n       <use x=\"63.623047\" xlink:href=\"#DejaVuSans-48\"/>\n       <use x=\"127.246094\" xlink:href=\"#DejaVuSans-48\"/>\n      </g>\n     </g>\n    </g>\n    <g id=\"ytick_6\">\n     <g id=\"line2d_21\">\n      <path clip-path=\"url(#p68971e5198)\" d=\"M 33.2875 79.214639 \nL 368.0875 79.214639 \n\" style=\"fill:none;stroke:#b0b0b0;stroke-linecap:square;stroke-width:0.8;\"/>\n     </g>\n     <g id=\"line2d_22\">\n      <g>\n       <use style=\"stroke:#000000;stroke-width:0.8;\" x=\"33.2875\" xlink:href=\"#maa77f4af7c\" y=\"79.214639\"/>\n      </g>\n     </g>\n     <g id=\"text_11\">\n      <!-- 125 -->\n      <g transform=\"translate(7.2 83.013858)scale(0.1 -0.1)\">\n       <use xlink:href=\"#DejaVuSans-49\"/>\n       <use x=\"63.623047\" xlink:href=\"#DejaVuSans-50\"/>\n       <use x=\"127.246094\" xlink:href=\"#DejaVuSans-53\"/>\n      </g>\n     </g>\n    </g>\n    <g id=\"ytick_7\">\n     <g id=\"line2d_23\">\n      <path clip-path=\"url(#p68971e5198)\" d=\"M 33.2875 50.129567 \nL 368.0875 50.129567 \n\" style=\"fill:none;stroke:#b0b0b0;stroke-linecap:square;stroke-width:0.8;\"/>\n     </g>\n     <g id=\"line2d_24\">\n      <g>\n       <use style=\"stroke:#000000;stroke-width:0.8;\" x=\"33.2875\" xlink:href=\"#maa77f4af7c\" y=\"50.129567\"/>\n      </g>\n     </g>\n     <g id=\"text_12\">\n      <!-- 150 -->\n      <g transform=\"translate(7.2 53.928785)scale(0.1 -0.1)\">\n       <use xlink:href=\"#DejaVuSans-49\"/>\n       <use x=\"63.623047\" xlink:href=\"#DejaVuSans-53\"/>\n       <use x=\"127.246094\" xlink:href=\"#DejaVuSans-48\"/>\n      </g>\n     </g>\n    </g>\n    <g id=\"ytick_8\">\n     <g id=\"line2d_25\">\n      <path clip-path=\"url(#p68971e5198)\" d=\"M 33.2875 21.044494 \nL 368.0875 21.044494 \n\" style=\"fill:none;stroke:#b0b0b0;stroke-linecap:square;stroke-width:0.8;\"/>\n     </g>\n     <g id=\"line2d_26\">\n      <g>\n       <use style=\"stroke:#000000;stroke-width:0.8;\" x=\"33.2875\" xlink:href=\"#maa77f4af7c\" y=\"21.044494\"/>\n      </g>\n     </g>\n     <g id=\"text_13\">\n      <!-- 175 -->\n      <g transform=\"translate(7.2 24.843713)scale(0.1 -0.1)\">\n       <use xlink:href=\"#DejaVuSans-49\"/>\n       <use x=\"63.623047\" xlink:href=\"#DejaVuSans-55\"/>\n       <use x=\"127.246094\" xlink:href=\"#DejaVuSans-53\"/>\n      </g>\n     </g>\n    </g>\n   </g>\n   <g id=\"patch_13\">\n    <path d=\"M 33.2875 224.64 \nL 33.2875 7.2 \n\" style=\"fill:none;stroke:#000000;stroke-linecap:square;stroke-linejoin:miter;stroke-width:0.8;\"/>\n   </g>\n   <g id=\"patch_14\">\n    <path d=\"M 368.0875 224.64 \nL 368.0875 7.2 \n\" style=\"fill:none;stroke:#000000;stroke-linecap:square;stroke-linejoin:miter;stroke-width:0.8;\"/>\n   </g>\n   <g id=\"patch_15\">\n    <path d=\"M 33.2875 224.64 \nL 368.0875 224.64 \n\" style=\"fill:none;stroke:#000000;stroke-linecap:square;stroke-linejoin:miter;stroke-width:0.8;\"/>\n   </g>\n   <g id=\"patch_16\">\n    <path d=\"M 33.2875 7.2 \nL 368.0875 7.2 \n\" style=\"fill:none;stroke:#000000;stroke-linecap:square;stroke-linejoin:miter;stroke-width:0.8;\"/>\n   </g>\n  </g>\n </g>\n <defs>\n  <clipPath id=\"p68971e5198\">\n   <rect height=\"217.44\" width=\"334.8\" x=\"33.2875\" y=\"7.2\"/>\n  </clipPath>\n </defs>\n</svg>\n",
      "image/png": "[encoded data removed]"
     },
     "metadata": {
      "needs_background": "light"
     }
    }
   ],
   "source": [
    "df100['first_date'].hist()"
   ]
  },
  {
   "cell_type": "code",
   "execution_count": 135,
   "metadata": {},
   "outputs": [
    {
     "output_type": "display_data",
     "data": {
      "application/vnd.plotly.v1+json": {
       "config": {
        "plotlyServerURL": "https://plot.ly"
       },
       "data": [
        {
         "alignmentgroup": "True",
         "hovertemplate": "x=%{x}<br>y=%{y}<extra></extra>",
         "legendgroup": "",
         "marker": {
          "color": "#636efa"
         },
         "name": "",
         "offsetgroup": "",
         "orientation": "v",
         "showlegend": false,
         "textposition": "auto",
         "type": "bar",
         "x": [
          "ACCESS2",
          "ARTHRITIS",
          "BINGE",
          "BPHIGH",
          "BPMED",
          "CANCER",
          "CASTHMA",
          "CHD",
          "CHECKUP",
          "CHOLSCREEN",
          "COLON_SCREEN",
          "COPD",
          "COREM",
          "COREW",
          "CSMOKING",
          "DENTAL",
          "DIABETES",
          "HIGHCHOL",
          "KIDNEY",
          "LPA",
          "MAMMOUSE",
          "MHLTH",
          "OBESITY",
          "PAPTEST",
          "PHLTH",
          "SLEEP",
          "STROKE",
          "TEETHLOST"
         ],
         "xaxis": "x",
         "y": [
          0.009289760596700654,
          0.17961782418145517,
          -0.05744307129244397,
          0.14683149176573976,
          0.2077063981479479,
          0.015597230018354771,
          0.2595444233781911,
          0.17036068303115118,
          0.3585162878706551,
          0.09142438344317302,
          -0.16692604274126133,
          0.18203464208676862,
          -0.21802422093247917,
          -0.2536658638408646,
          0.1792863734973449,
          -0.058765257613229455,
          0.125925304264085,
          0.11483598696972828,
          0.13333224549951972,
          0.24761247384315135,
          0.1364674295432414,
          0.18147132456888887,
          0.09325254744910869,
          0.06888757920347668,
          0.18548468313109018,
          0.23225173433655963,
          0.13104125319999363,
          0.2127282199450665
         ],
         "yaxis": "y"
        }
       ],
       "layout": {
        "barmode": "relative",
        "legend": {
         "tracegroupgap": 0
        },
        "margin": {
         "t": 60
        },
        "template": {
         "data": {
          "bar": [
           {
            "error_x": {
             "color": "#2a3f5f"
            },
            "error_y": {
             "color": "#2a3f5f"
            },
            "marker": {
             "line": {
              "color": "#E5ECF6",
              "width": 0.5
             }
            },
            "type": "bar"
           }
          ],
          "barpolar": [
           {
            "marker": {
             "line": {
              "color": "#E5ECF6",
              "width": 0.5
             }
            },
            "type": "barpolar"
           }
          ],
          "carpet": [
           {
            "aaxis": {
             "endlinecolor": "#2a3f5f",
             "gridcolor": "white",
             "linecolor": "white",
             "minorgridcolor": "white",
             "startlinecolor": "#2a3f5f"
            },
            "baxis": {
             "endlinecolor": "#2a3f5f",
             "gridcolor": "white",
             "linecolor": "white",
             "minorgridcolor": "white",
             "startlinecolor": "#2a3f5f"
            },
            "type": "carpet"
           }
          ],
          "choropleth": [
           {
            "colorbar": {
             "outlinewidth": 0,
             "ticks": ""
            },
            "type": "choropleth"
           }
          ],
          "contour": [
           {
            "colorbar": {
             "outlinewidth": 0,
             "ticks": ""
            },
            "colorscale": [
             [
              0,
              "#0d0887"
             ],
             [
              0.1111111111111111,
              "#46039f"
             ],
             [
              0.2222222222222222,
              "#7201a8"
             ],
             [
              0.3333333333333333,
              "#9c179e"
             ],
             [
              0.4444444444444444,
              "#bd3786"
             ],
             [
              0.5555555555555556,
              "#d8576b"
             ],
             [
              0.6666666666666666,
              "#ed7953"
             ],
             [
              0.7777777777777778,
              "#fb9f3a"
             ],
             [
              0.8888888888888888,
              "#fdca26"
             ],
             [
              1,
              "#f0f921"
             ]
            ],
            "type": "contour"
           }
          ],
          "contourcarpet": [
           {
            "colorbar": {
             "outlinewidth": 0,
             "ticks": ""
            },
            "type": "contourcarpet"
           }
          ],
          "heatmap": [
           {
            "colorbar": {
             "outlinewidth": 0,
             "ticks": ""
            },
            "colorscale": [
             [
              0,
              "#0d0887"
             ],
             [
              0.1111111111111111,
              "#46039f"
             ],
             [
              0.2222222222222222,
              "#7201a8"
             ],
             [
              0.3333333333333333,
              "#9c179e"
             ],
             [
              0.4444444444444444,
              "#bd3786"
             ],
             [
              0.5555555555555556,
              "#d8576b"
             ],
             [
              0.6666666666666666,
              "#ed7953"
             ],
             [
              0.7777777777777778,
              "#fb9f3a"
             ],
             [
              0.8888888888888888,
              "#fdca26"
             ],
             [
              1,
              "#f0f921"
             ]
            ],
            "type": "heatmap"
           }
          ],
          "heatmapgl": [
           {
            "colorbar": {
             "outlinewidth": 0,
             "ticks": ""
            },
            "colorscale": [
             [
              0,
              "#0d0887"
             ],
             [
              0.1111111111111111,
              "#46039f"
             ],
             [
              0.2222222222222222,
              "#7201a8"
             ],
             [
              0.3333333333333333,
              "#9c179e"
             ],
             [
              0.4444444444444444,
              "#bd3786"
             ],
             [
              0.5555555555555556,
              "#d8576b"
             ],
             [
              0.6666666666666666,
              "#ed7953"
             ],
             [
              0.7777777777777778,
              "#fb9f3a"
             ],
             [
              0.8888888888888888,
              "#fdca26"
             ],
             [
              1,
              "#f0f921"
             ]
            ],
            "type": "heatmapgl"
           }
          ],
          "histogram": [
           {
            "marker": {
             "colorbar": {
              "outlinewidth": 0,
              "ticks": ""
             }
            },
            "type": "histogram"
           }
          ],
          "histogram2d": [
           {
            "colorbar": {
             "outlinewidth": 0,
             "ticks": ""
            },
            "colorscale": [
             [
              0,
              "#0d0887"
             ],
             [
              0.1111111111111111,
              "#46039f"
             ],
             [
              0.2222222222222222,
              "#7201a8"
             ],
             [
              0.3333333333333333,
              "#9c179e"
             ],
             [
              0.4444444444444444,
              "#bd3786"
             ],
             [
              0.5555555555555556,
              "#d8576b"
             ],
             [
              0.6666666666666666,
              "#ed7953"
             ],
             [
              0.7777777777777778,
              "#fb9f3a"
             ],
             [
              0.8888888888888888,
              "#fdca26"
             ],
             [
              1,
              "#f0f921"
             ]
            ],
            "type": "histogram2d"
           }
          ],
          "histogram2dcontour": [
           {
            "colorbar": {
             "outlinewidth": 0,
             "ticks": ""
            },
            "colorscale": [
             [
              0,
              "#0d0887"
             ],
             [
              0.1111111111111111,
              "#46039f"
             ],
             [
              0.2222222222222222,
              "#7201a8"
             ],
             [
              0.3333333333333333,
              "#9c179e"
             ],
             [
              0.4444444444444444,
              "#bd3786"
             ],
             [
              0.5555555555555556,
              "#d8576b"
             ],
             [
              0.6666666666666666,
              "#ed7953"
             ],
             [
              0.7777777777777778,
              "#fb9f3a"
             ],
             [
              0.8888888888888888,
              "#fdca26"
             ],
             [
              1,
              "#f0f921"
             ]
            ],
            "type": "histogram2dcontour"
           }
          ],
          "mesh3d": [
           {
            "colorbar": {
             "outlinewidth": 0,
             "ticks": ""
            },
            "type": "mesh3d"
           }
          ],
          "parcoords": [
           {
            "line": {
             "colorbar": {
              "outlinewidth": 0,
              "ticks": ""
             }
            },
            "type": "parcoords"
           }
          ],
          "pie": [
           {
            "automargin": true,
            "type": "pie"
           }
          ],
          "scatter": [
           {
            "marker": {
             "colorbar": {
              "outlinewidth": 0,
              "ticks": ""
             }
            },
            "type": "scatter"
           }
          ],
          "scatter3d": [
           {
            "line": {
             "colorbar": {
              "outlinewidth": 0,
              "ticks": ""
             }
            },
            "marker": {
             "colorbar": {
              "outlinewidth": 0,
              "ticks": ""
             }
            },
            "type": "scatter3d"
           }
          ],
          "scattercarpet": [
           {
            "marker": {
             "colorbar": {
              "outlinewidth": 0,
              "ticks": ""
             }
            },
            "type": "scattercarpet"
           }
          ],
          "scattergeo": [
           {
            "marker": {
             "colorbar": {
              "outlinewidth": 0,
              "ticks": ""
             }
            },
            "type": "scattergeo"
           }
          ],
          "scattergl": [
           {
            "marker": {
             "colorbar": {
              "outlinewidth": 0,
              "ticks": ""
             }
            },
            "type": "scattergl"
           }
          ],
          "scattermapbox": [
           {
            "marker": {
             "colorbar": {
              "outlinewidth": 0,
              "ticks": ""
             }
            },
            "type": "scattermapbox"
           }
          ],
          "scatterpolar": [
           {
            "marker": {
             "colorbar": {
              "outlinewidth": 0,
              "ticks": ""
             }
            },
            "type": "scatterpolar"
           }
          ],
          "scatterpolargl": [
           {
            "marker": {
             "colorbar": {
              "outlinewidth": 0,
              "ticks": ""
             }
            },
            "type": "scatterpolargl"
           }
          ],
          "scatterternary": [
           {
            "marker": {
             "colorbar": {
              "outlinewidth": 0,
              "ticks": ""
             }
            },
            "type": "scatterternary"
           }
          ],
          "surface": [
           {
            "colorbar": {
             "outlinewidth": 0,
             "ticks": ""
            },
            "colorscale": [
             [
              0,
              "#0d0887"
             ],
             [
              0.1111111111111111,
              "#46039f"
             ],
             [
              0.2222222222222222,
              "#7201a8"
             ],
             [
              0.3333333333333333,
              "#9c179e"
             ],
             [
              0.4444444444444444,
              "#bd3786"
             ],
             [
              0.5555555555555556,
              "#d8576b"
             ],
             [
              0.6666666666666666,
              "#ed7953"
             ],
             [
              0.7777777777777778,
              "#fb9f3a"
             ],
             [
              0.8888888888888888,
              "#fdca26"
             ],
             [
              1,
              "#f0f921"
             ]
            ],
            "type": "surface"
           }
          ],
          "table": [
           {
            "cells": {
             "fill": {
              "color": "#EBF0F8"
             },
             "line": {
              "color": "white"
             }
            },
            "header": {
             "fill": {
              "color": "#C8D4E3"
             },
             "line": {
              "color": "white"
             }
            },
            "type": "table"
           }
          ]
         },
         "layout": {
          "annotationdefaults": {
           "arrowcolor": "#2a3f5f",
           "arrowhead": 0,
           "arrowwidth": 1
          },
          "coloraxis": {
           "colorbar": {
            "outlinewidth": 0,
            "ticks": ""
           }
          },
          "colorscale": {
           "diverging": [
            [
             0,
             "#8e0152"
            ],
            [
             0.1,
             "#c51b7d"
            ],
            [
             0.2,
             "#de77ae"
            ],
            [
             0.3,
             "#f1b6da"
            ],
            [
             0.4,
             "#fde0ef"
            ],
            [
             0.5,
             "#f7f7f7"
            ],
            [
             0.6,
             "#e6f5d0"
            ],
            [
             0.7,
             "#b8e186"
            ],
            [
             0.8,
             "#7fbc41"
            ],
            [
             0.9,
             "#4d9221"
            ],
            [
             1,
             "#276419"
            ]
           ],
           "sequential": [
            [
             0,
             "#0d0887"
            ],
            [
             0.1111111111111111,
             "#46039f"
            ],
            [
             0.2222222222222222,
             "#7201a8"
            ],
            [
             0.3333333333333333,
             "#9c179e"
            ],
            [
             0.4444444444444444,
             "#bd3786"
            ],
            [
             0.5555555555555556,
             "#d8576b"
            ],
            [
             0.6666666666666666,
             "#ed7953"
            ],
            [
             0.7777777777777778,
             "#fb9f3a"
            ],
            [
             0.8888888888888888,
             "#fdca26"
            ],
            [
             1,
             "#f0f921"
            ]
           ],
           "sequentialminus": [
            [
             0,
             "#0d0887"
            ],
            [
             0.1111111111111111,
             "#46039f"
            ],
            [
             0.2222222222222222,
             "#7201a8"
            ],
            [
             0.3333333333333333,
             "#9c179e"
            ],
            [
             0.4444444444444444,
             "#bd3786"
            ],
            [
             0.5555555555555556,
             "#d8576b"
            ],
            [
             0.6666666666666666,
             "#ed7953"
            ],
            [
             0.7777777777777778,
             "#fb9f3a"
            ],
            [
             0.8888888888888888,
             "#fdca26"
            ],
            [
             1,
             "#f0f921"
            ]
           ]
          },
          "colorway": [
           "#636efa",
           "#EF553B",
           "#00cc96",
           "#ab63fa",
           "#FFA15A",
           "#19d3f3",
           "#FF6692",
           "#B6E880",
           "#FF97FF",
           "#FECB52"
          ],
          "font": {
           "color": "#2a3f5f"
          },
          "geo": {
           "bgcolor": "white",
           "lakecolor": "white",
           "landcolor": "#E5ECF6",
           "showlakes": true,
           "showland": true,
           "subunitcolor": "white"
          },
          "hoverlabel": {
           "align": "left"
          },
          "hovermode": "closest",
          "mapbox": {
           "style": "light"
          },
          "paper_bgcolor": "white",
          "plot_bgcolor": "#E5ECF6",
          "polar": {
           "angularaxis": {
            "gridcolor": "white",
            "linecolor": "white",
            "ticks": ""
           },
           "bgcolor": "#E5ECF6",
           "radialaxis": {
            "gridcolor": "white",
            "linecolor": "white",
            "ticks": ""
           }
          },
          "scene": {
           "xaxis": {
            "backgroundcolor": "#E5ECF6",
            "gridcolor": "white",
            "gridwidth": 2,
            "linecolor": "white",
            "showbackground": true,
            "ticks": "",
            "zerolinecolor": "white"
           },
           "yaxis": {
            "backgroundcolor": "#E5ECF6",
            "gridcolor": "white",
            "gridwidth": 2,
            "linecolor": "white",
            "showbackground": true,
            "ticks": "",
            "zerolinecolor": "white"
           },
           "zaxis": {
            "backgroundcolor": "#E5ECF6",
            "gridcolor": "white",
            "gridwidth": 2,
            "linecolor": "white",
            "showbackground": true,
            "ticks": "",
            "zerolinecolor": "white"
           }
          },
          "shapedefaults": {
           "line": {
            "color": "#2a3f5f"
           }
          },
          "ternary": {
           "aaxis": {
            "gridcolor": "white",
            "linecolor": "white",
            "ticks": ""
           },
           "baxis": {
            "gridcolor": "white",
            "linecolor": "white",
            "ticks": ""
           },
           "bgcolor": "#E5ECF6",
           "caxis": {
            "gridcolor": "white",
            "linecolor": "white",
            "ticks": ""
           }
          },
          "title": {
           "x": 0.05
          },
          "xaxis": {
           "automargin": true,
           "gridcolor": "white",
           "linecolor": "white",
           "ticks": "",
           "title": {
            "standoff": 15
           },
           "zerolinecolor": "white",
           "zerolinewidth": 2
          },
          "yaxis": {
           "automargin": true,
           "gridcolor": "white",
           "linecolor": "white",
           "ticks": "",
           "title": {
            "standoff": 15
           },
           "zerolinecolor": "white",
           "zerolinewidth": 2
          }
         }
        },
        "title": {
         "text": "Measure Correlations with death1m"
        },
        "xaxis": {
         "anchor": "y",
         "domain": [
          0,
          1
         ],
         "tickangle": -45,
         "title": {
          "text": "Measure"
         }
        },
        "yaxis": {
         "anchor": "x",
         "domain": [
          0,
          1
         ],
         "title": {
          "text": "Corr"
         }
        }
       }
      }
     },
     "metadata": {}
    }
   ],
   "source": [
    "cm = df100.corr()[['death14']][2:-5]\n",
    "fig = px.bar(x=cm.index, y=cm)\n",
    "fig.update_layout(xaxis_tickangle=-45,\\\n",
    "    title='Measure Correlations with death1m',\\\n",
    "        xaxis_title='Measure',\\\n",
    "            yaxis_title = 'Corr')\n",
    "fig.show()"
   ]
  },
  {
   "cell_type": "code",
   "execution_count": 71,
   "metadata": {},
   "outputs": [
    {
     "output_type": "display_data",
     "data": {
      "application/vnd.plotly.v1+json": {
       "config": {
        "plotlyServerURL": "https://plot.ly"
       },
       "data": [
        {
         "hovertemplate": "state_id=%{x}<br>CHECKUP=%{y}<extra></extra>",
         "legendgroup": "",
         "marker": {
          "color": "#636efa",
          "symbol": "circle"
         },
         "mode": "markers",
         "name": "",
         "orientation": "v",
         "showlegend": false,
         "type": "scatter",
         "x": [
          "TX",
          "OH",
          "CA",
          "CA",
          "CA",
          "CA",
          "CA",
          "CA",
          "CA",
          "CA",
          "CA",
          "GA",
          "NY",
          "NM",
          "VA",
          "CA",
          "CA",
          "CA",
          "CA",
          "CA",
          "CA",
          "CA",
          "CA",
          "CA",
          "CA",
          "CA",
          "CA",
          "CA",
          "CA",
          "CA",
          "CA",
          "CA",
          "CA",
          "CA",
          "CA",
          "CA",
          "CA",
          "CA",
          "CA",
          "CA",
          "CA",
          "CA",
          "TX",
          "TX",
          "TX",
          "TX",
          "PA",
          "TX",
          "CA",
          "CA",
          "CA",
          "CA",
          "CA",
          "CA",
          "CA",
          "CA",
          "CA",
          "CA",
          "CA",
          "CA",
          "CA",
          "CA",
          "AK",
          "MI",
          "CA",
          "CA",
          "CA",
          "CA",
          "CA",
          "CA",
          "CA",
          "CA",
          "CA",
          "CA",
          "CA",
          "CA",
          "CA",
          "CA",
          "CA",
          "CA",
          "WI",
          "TX",
          "TX",
          "IL",
          "IL",
          "IL",
          "IL",
          "IL",
          "IL",
          "CO",
          "CO",
          "NC",
          "GA",
          "GA",
          "GA",
          "GA",
          "GA",
          "WA",
          "WA",
          "WA",
          "WA",
          "WA",
          "WA",
          "GA",
          "CO",
          "CO",
          "CO",
          "IL",
          "IL",
          "TX",
          "AZ",
          "AZ",
          "AZ",
          "AZ",
          "AZ",
          "AZ",
          "AZ",
          "AZ",
          "AZ",
          "AZ",
          "CA",
          "MD",
          "LA",
          "TX",
          "TX",
          "TX",
          "TX",
          "OR",
          "OR",
          "WA",
          "OR",
          "PA",
          "MT",
          "AL",
          "AL",
          "IL",
          "IN",
          "MN",
          "MN",
          "MN",
          "MN",
          "FL",
          "FL",
          "FL",
          "IL",
          "IL",
          "MA",
          "CO",
          "CO",
          "CT",
          "CT",
          "CT",
          "CT",
          "MA",
          "OK",
          "OK",
          "TX",
          "TX",
          "TX",
          "NY",
          "VT",
          "MA",
          "MA",
          "MA",
          "MA",
          "NJ",
          "OH",
          "FL",
          "CA",
          "CA",
          "CA",
          "CA",
          "CA",
          "CA",
          "CA",
          "CA",
          "IN",
          "IN",
          "TX",
          "TX",
          "TX",
          "TX",
          "TX",
          "TX",
          "TX",
          "NC",
          "NC",
          "IA",
          "CO",
          "IL",
          "SC",
          "SC",
          "SC",
          "WV",
          "NC",
          "TN",
          "VA",
          "WY",
          "CA",
          "OH",
          "CA",
          "CA",
          "CA",
          "CA",
          "TN",
          "FL",
          "FL",
          "FL",
          "OH",
          "OH",
          "NJ",
          "NJ",
          "NJ",
          "CA",
          "CA",
          "CO",
          "MO",
          "SC",
          "GA",
          "OH",
          "NC",
          "FL",
          "FL",
          "FL",
          "FL",
          "FL",
          "FL",
          "FL",
          "FL",
          "FL",
          "FL",
          "FL",
          "CA",
          "CA",
          "CA",
          "CA",
          "CA",
          "CA",
          "CA",
          "CA",
          "CA",
          "TX",
          "RI",
          "RI",
          "RI",
          "CA",
          "CA",
          "CA",
          "IA",
          "OH",
          "MI",
          "MI",
          "MI",
          "MI",
          "IL",
          "FL",
          "TX",
          "TX",
          "CO",
          "IA",
          "MN",
          "NC",
          "TX",
          "TX",
          "TX",
          "TX",
          "OK",
          "OK",
          "TX",
          "NJ",
          "PA",
          "OR",
          "IN",
          "WA",
          "CA",
          "CA",
          "CA",
          "MA",
          "MA",
          "ND",
          "MI",
          "MI",
          "MI",
          "MI",
          "AR",
          "AR",
          "NC",
          "MI",
          "CO",
          "CO",
          "AR",
          "IN",
          "FL",
          "IN",
          "IN",
          "NC",
          "MI",
          "MI",
          "CO",
          "WI",
          "NC",
          "NC",
          "NC",
          "OR",
          "OR",
          "MS",
          "VA",
          "CT",
          "CT",
          "NV",
          "NV",
          "NV",
          "FL",
          "FL",
          "FL",
          "FL",
          "HI",
          "AL",
          "MO",
          "MO",
          "MO",
          "IN",
          "IA",
          "MS",
          "FL",
          "NC",
          "NJ",
          "NJ",
          "AR",
          "MI",
          "KS",
          "LA",
          "WA",
          "WI",
          "TX",
          "TN",
          "IN",
          "LA",
          "LA",
          "FL",
          "MI",
          "TX",
          "NM",
          "KS",
          "MA",
          "MA",
          "OK",
          "UT",
          "TX",
          "KY",
          "NE",
          "AR",
          "TX",
          "KY",
          "TX",
          "VA",
          "GA",
          "WI",
          "NH",
          "NH",
          "CA",
          "CA",
          "CA",
          "OR",
          "FL",
          "FL",
          "TN",
          "CA",
          "ID",
          "TX",
          "CA",
          "CA",
          "CA",
          "CA",
          "CA",
          "WI",
          "MT",
          "TX",
          "TX",
          "AL",
          "CA",
          "CA",
          "AL",
          "NY",
          "NY",
          "NY",
          "IN",
          "TN",
          "ID",
          "CA",
          "IL",
          "TN",
          "CT",
          "CT",
          "LA",
          "NJ",
          "VA",
          "VA",
          "OK",
          "MO",
          "TX",
          "UT",
          "KS",
          "KS",
          "NE",
          "UT",
          "UT",
          "FL",
          "CA",
          "CA",
          "CA",
          "FL",
          "TX",
          "IL",
          "PA",
          "PA",
          "FL",
          "ME",
          "VA",
          "CO",
          "MA",
          "WI",
          "SD",
          "PA",
          "CA",
          "NV",
          "NV",
          "VA",
          "NM",
          "VA",
          "MN",
          "NY",
          "SC",
          "IL",
          "CA",
          "TX",
          "OR",
          "CA",
          "UT",
          "UT",
          "UT",
          "UT",
          "TX",
          "TX",
          "CA",
          "CA",
          "CA",
          "NM",
          "CA",
          "GA",
          "NY",
          "PA",
          "LA",
          "IA",
          "SD",
          "IN",
          "WA",
          "WA",
          "IL",
          "MA",
          "MO",
          "UT",
          "MO",
          "MO",
          "MN",
          "MI",
          "MI",
          "VA",
          "NY",
          "WA",
          "FL",
          "FL",
          "OH",
          "KS",
          "NJ",
          "AZ",
          "AL",
          "TX",
          "WA",
          "VA",
          "CA",
          "TX",
          "GA",
          "RI",
          "DC",
          "IA",
          "IL",
          "WI",
          "KS",
          "TX",
          "DE",
          "NC",
          "NC",
          "MA",
          "WA",
          "OH",
          "AZ"
         ],
         "xaxis": "x",
         "y": [
          66.85000000000001,
          74.1,
          67.19999999999999,
          65.75,
          66.55000000000001,
          65.44999999999999,
          65.39999999999999,
          67.4,
          66.9,
          66.95,
          66.45,
          78.25,
          75.1,
          60.25,
          72.1,
          67.05,
          63.9,
          66.2,
          66.45,
          69.1,
          67,
          65.39999999999999,
          63.55,
          66.64999999999999,
          67.15,
          69.5,
          67.25,
          66.15,
          66.2,
          65.60000000000001,
          63.3,
          65.1,
          65.45,
          67.25,
          64.35000000000001,
          67,
          66.25,
          67.35,
          62.64999999999999,
          68.20000000000002,
          66.8,
          65.9,
          70.25,
          69.69999999999999,
          69.80000000000001,
          70.75,
          68.75,
          67.15,
          64.5,
          65.65,
          64.3,
          65.80000000000001,
          65.05,
          66.5,
          66.4,
          66.14999999999999,
          67.45,
          67.95,
          65.14999999999999,
          62.2,
          65.25,
          66,
          57.85000000000001,
          67.8,
          64.14999999999999,
          63.25,
          65.2,
          64.80000000000001,
          66.35,
          64.55000000000001,
          66.55,
          64.10000000000001,
          63.949999999999996,
          63.650000000000006,
          66.05000000000001,
          66.3,
          64.8,
          64.19999999999999,
          66.25,
          64.89999999999999,
          69.5,
          69,
          68.55000000000001,
          70.05000000000001,
          70.15,
          64.75,
          70.25,
          68.44999999999999,
          69.2,
          62.64999999999999,
          62.25,
          73.5,
          73.2,
          75.69999999999999,
          73.8,
          73.30000000000001,
          73.9,
          60.5,
          62.5,
          61.30000000000001,
          60.55,
          61.55,
          61.35,
          76.55000000000001,
          59.35,
          59.75,
          61.1,
          66.35,
          66.85000000000001,
          65.45,
          64.7,
          66.15,
          65.85000000000001,
          65.35,
          66.14999999999999,
          67.1,
          65.05,
          68.5,
          67.7,
          64.8,
          62.400000000000006,
          76.75,
          73.05,
          68,
          68.5,
          65.79999999999998,
          72.44999999999999,
          62.85,
          61.75,
          56.8,
          60.5,
          70.75,
          65.55,
          76.9,
          72.85000000000001,
          67.3,
          62.3,
          69.9,
          69.65,
          67.85000000000001,
          69.6,
          77.5,
          78.64999999999999,
          77.85000000000001,
          68.7,
          67.29999999999998,
          75.60000000000001,
          56,
          57.3,
          70.19999999999999,
          68.25,
          69.94999999999999,
          70,
          77.75,
          69.45,
          70.05,
          65,
          69.15,
          67.35,
          76.1,
          63.9,
          74,
          73.1,
          76.15,
          73.05,
          77.25,
          75.10000000000001,
          74.7,
          66.35000000000001,
          64.7,
          63.85,
          63.300000000000004,
          64.80000000000001,
          64.7,
          64.1,
          63.15,
          68.75,
          67.25,
          68.95,
          69.69999999999999,
          69.2,
          69.3,
          68.4,
          69.9,
          70.60000000000001,
          73.3,
          73.75,
          69.85000000000001,
          60.45,
          64.9,
          64.39999999999999,
          63.699999999999996,
          65.25,
          79.9,
          74.8,
          72.35000000000001,
          76.35,
          63.8,
          63.650000000000006,
          75.7,
          64.15,
          65.65,
          65,
          64.95,
          71.60000000000001,
          75.4,
          75.55000000000001,
          76.2,
          75.4,
          72.3,
          76.55000000000001,
          74,
          76.6,
          63.2,
          61.95,
          62.14999999999999,
          68.9,
          65.7,
          76.8,
          73.3,
          74.05000000000001,
          75.6,
          74.7,
          76.69999999999999,
          76.6,
          75.60000000000001,
          80.60000000000001,
          77.80000000000001,
          76.85,
          76.55,
          76.5,
          77.25,
          65,
          66.64999999999999,
          64.3,
          66.8,
          65.25,
          65.9,
          63.45,
          64.5,
          65.6,
          69.7,
          81.4,
          81.05000000000001,
          80.25,
          65.15,
          63.65,
          64.69999999999999,
          70.6,
          75.5,
          68.85000000000001,
          77.05,
          71.5,
          71.10000000000001,
          69.64999999999999,
          74,
          67.55,
          67.8,
          60.400000000000006,
          68.8,
          68.3,
          74.45,
          63.45,
          64.7,
          64.55000000000001,
          63.3,
          68.05,
          67.9,
          67.80000000000001,
          75.85000000000001,
          70.1,
          62.3,
          69.14999999999999,
          58.75,
          64.15,
          63.39999999999999,
          65.64999999999999,
          77.64999999999999,
          77.8,
          62.050000000000004,
          72.35,
          70.75,
          77.60000000000001,
          70.95,
          66.55,
          66.10000000000001,
          77.7,
          75.14999999999999,
          58.20000000000001,
          60.25,
          70.3,
          65.10000000000001,
          74.35000000000001,
          73.89999999999999,
          65.3,
          73.35,
          72.2,
          70.8,
          57.25,
          69.5,
          74.39999999999999,
          73.6,
          73.55,
          60.25,
          61.05,
          72.5,
          78.15,
          74.95,
          73.4,
          69.35,
          68.55,
          68.2,
          74.1,
          75,
          74.60000000000001,
          80.45,
          71.30000000000001,
          69.35,
          69.95,
          71.3,
          71.10000000000001,
          67.4,
          68.75,
          79.39999999999999,
          75.3,
          71.7,
          77.30000000000001,
          74.45,
          70.05000000000001,
          70.25,
          65.95,
          72.15,
          59.85,
          69.8,
          71.19999999999999,
          68.75,
          64.6,
          70.65,
          75.30000000000001,
          76.35000000000001,
          71.69999999999999,
          65.25,
          61.1,
          63.60000000000001,
          74.94999999999999,
          76.7,
          68.85000000000001,
          62,
          68.85,
          75.3,
          63.7,
          73.60000000000001,
          69.6,
          75.60000000000001,
          67.39999999999999,
          73.94999999999999,
          79.35,
          67.8,
          71.65,
          72.45,
          62.45,
          63.050000000000004,
          62.900000000000006,
          62.34999999999999,
          76.30000000000001,
          76.4,
          72.6,
          62.949999999999996,
          58.34999999999999,
          67.14999999999999,
          65,
          64.5,
          64.19999999999999,
          64.45,
          65.05000000000001,
          72.45,
          60.550000000000004,
          73.1,
          70.19999999999999,
          74.35,
          64.45,
          64.04999999999998,
          76.60000000000001,
          75.94999999999999,
          71.89999999999999,
          71.15,
          67.2,
          68.7,
          57.05,
          63.3,
          68.5,
          69.25,
          72.85000000000001,
          72.05000000000001,
          72.4,
          79.55,
          75.19999999999999,
          75.64999999999999,
          68,
          70.35000000000001,
          67.75,
          62,
          70.05,
          71.6,
          65.39999999999999,
          56.449999999999996,
          54.550000000000004,
          72.55,
          61.95,
          64.60000000000001,
          65.85000000000001,
          78.4,
          69.44999999999999,
          69.39999999999999,
          74,
          72.25,
          76.10000000000001,
          70,
          77.35,
          61.5,
          77.05000000000001,
          70.75,
          68.5,
          67.55000000000001,
          64.15,
          63.6,
          63.85,
          74.10000000000001,
          57.099999999999994,
          74.89999999999999,
          64.95,
          69.55,
          68.25,
          67.89999999999999,
          64.5,
          68.5,
          60.7,
          61.699999999999996,
          62.15,
          63.75,
          61.599999999999994,
          61.05,
          66.9,
          69.14999999999999,
          64.75,
          64.7,
          61.65,
          62.65000000000001,
          63.35,
          77.25,
          73.3,
          72.3,
          75.4,
          68.55,
          69.14999999999999,
          67.7,
          62.5,
          63.05,
          68.95,
          78.65,
          68.64999999999999,
          61.45,
          69.5,
          74.15,
          67.8,
          71.25,
          71.45,
          77.35,
          73.4,
          63.55,
          76.5,
          73.9,
          74.64999999999999,
          67.8,
          77.45,
          66.05,
          73.15,
          69,
          61.699999999999996,
          73.9,
          64.55,
          68.5,
          76.15,
          81.14999999999999,
          79.3,
          70.1,
          67,
          67.64999999999999,
          64.9,
          70.5,
          77.3,
          73.35,
          73.94999999999999,
          77.7,
          58.400000000000006,
          76.94999999999999,
          64.8
         ],
         "yaxis": "y"
        }
       ],
       "layout": {
        "legend": {
         "tracegroupgap": 0
        },
        "margin": {
         "t": 60
        },
        "template": {
         "data": {
          "bar": [
           {
            "error_x": {
             "color": "#2a3f5f"
            },
            "error_y": {
             "color": "#2a3f5f"
            },
            "marker": {
             "line": {
              "color": "#E5ECF6",
              "width": 0.5
             }
            },
            "type": "bar"
           }
          ],
          "barpolar": [
           {
            "marker": {
             "line": {
              "color": "#E5ECF6",
              "width": 0.5
             }
            },
            "type": "barpolar"
           }
          ],
          "carpet": [
           {
            "aaxis": {
             "endlinecolor": "#2a3f5f",
             "gridcolor": "white",
             "linecolor": "white",
             "minorgridcolor": "white",
             "startlinecolor": "#2a3f5f"
            },
            "baxis": {
             "endlinecolor": "#2a3f5f",
             "gridcolor": "white",
             "linecolor": "white",
             "minorgridcolor": "white",
             "startlinecolor": "#2a3f5f"
            },
            "type": "carpet"
           }
          ],
          "choropleth": [
           {
            "colorbar": {
             "outlinewidth": 0,
             "ticks": ""
            },
            "type": "choropleth"
           }
          ],
          "contour": [
           {
            "colorbar": {
             "outlinewidth": 0,
             "ticks": ""
            },
            "colorscale": [
             [
              0,
              "#0d0887"
             ],
             [
              0.1111111111111111,
              "#46039f"
             ],
             [
              0.2222222222222222,
              "#7201a8"
             ],
             [
              0.3333333333333333,
              "#9c179e"
             ],
             [
              0.4444444444444444,
              "#bd3786"
             ],
             [
              0.5555555555555556,
              "#d8576b"
             ],
             [
              0.6666666666666666,
              "#ed7953"
             ],
             [
              0.7777777777777778,
              "#fb9f3a"
             ],
             [
              0.8888888888888888,
              "#fdca26"
             ],
             [
              1,
              "#f0f921"
             ]
            ],
            "type": "contour"
           }
          ],
          "contourcarpet": [
           {
            "colorbar": {
             "outlinewidth": 0,
             "ticks": ""
            },
            "type": "contourcarpet"
           }
          ],
          "heatmap": [
           {
            "colorbar": {
             "outlinewidth": 0,
             "ticks": ""
            },
            "colorscale": [
             [
              0,
              "#0d0887"
             ],
             [
              0.1111111111111111,
              "#46039f"
             ],
             [
              0.2222222222222222,
              "#7201a8"
             ],
             [
              0.3333333333333333,
              "#9c179e"
             ],
             [
              0.4444444444444444,
              "#bd3786"
             ],
             [
              0.5555555555555556,
              "#d8576b"
             ],
             [
              0.6666666666666666,
              "#ed7953"
             ],
             [
              0.7777777777777778,
              "#fb9f3a"
             ],
             [
              0.8888888888888888,
              "#fdca26"
             ],
             [
              1,
              "#f0f921"
             ]
            ],
            "type": "heatmap"
           }
          ],
          "heatmapgl": [
           {
            "colorbar": {
             "outlinewidth": 0,
             "ticks": ""
            },
            "colorscale": [
             [
              0,
              "#0d0887"
             ],
             [
              0.1111111111111111,
              "#46039f"
             ],
             [
              0.2222222222222222,
              "#7201a8"
             ],
             [
              0.3333333333333333,
              "#9c179e"
             ],
             [
              0.4444444444444444,
              "#bd3786"
             ],
             [
              0.5555555555555556,
              "#d8576b"
             ],
             [
              0.6666666666666666,
              "#ed7953"
             ],
             [
              0.7777777777777778,
              "#fb9f3a"
             ],
             [
              0.8888888888888888,
              "#fdca26"
             ],
             [
              1,
              "#f0f921"
             ]
            ],
            "type": "heatmapgl"
           }
          ],
          "histogram": [
           {
            "marker": {
             "colorbar": {
              "outlinewidth": 0,
              "ticks": ""
             }
            },
            "type": "histogram"
           }
          ],
          "histogram2d": [
           {
            "colorbar": {
             "outlinewidth": 0,
             "ticks": ""
            },
            "colorscale": [
             [
              0,
              "#0d0887"
             ],
             [
              0.1111111111111111,
              "#46039f"
             ],
             [
              0.2222222222222222,
              "#7201a8"
             ],
             [
              0.3333333333333333,
              "#9c179e"
             ],
             [
              0.4444444444444444,
              "#bd3786"
             ],
             [
              0.5555555555555556,
              "#d8576b"
             ],
             [
              0.6666666666666666,
              "#ed7953"
             ],
             [
              0.7777777777777778,
              "#fb9f3a"
             ],
             [
              0.8888888888888888,
              "#fdca26"
             ],
             [
              1,
              "#f0f921"
             ]
            ],
            "type": "histogram2d"
           }
          ],
          "histogram2dcontour": [
           {
            "colorbar": {
             "outlinewidth": 0,
             "ticks": ""
            },
            "colorscale": [
             [
              0,
              "#0d0887"
             ],
             [
              0.1111111111111111,
              "#46039f"
             ],
             [
              0.2222222222222222,
              "#7201a8"
             ],
             [
              0.3333333333333333,
              "#9c179e"
             ],
             [
              0.4444444444444444,
              "#bd3786"
             ],
             [
              0.5555555555555556,
              "#d8576b"
             ],
             [
              0.6666666666666666,
              "#ed7953"
             ],
             [
              0.7777777777777778,
              "#fb9f3a"
             ],
             [
              0.8888888888888888,
              "#fdca26"
             ],
             [
              1,
              "#f0f921"
             ]
            ],
            "type": "histogram2dcontour"
           }
          ],
          "mesh3d": [
           {
            "colorbar": {
             "outlinewidth": 0,
             "ticks": ""
            },
            "type": "mesh3d"
           }
          ],
          "parcoords": [
           {
            "line": {
             "colorbar": {
              "outlinewidth": 0,
              "ticks": ""
             }
            },
            "type": "parcoords"
           }
          ],
          "pie": [
           {
            "automargin": true,
            "type": "pie"
           }
          ],
          "scatter": [
           {
            "marker": {
             "colorbar": {
              "outlinewidth": 0,
              "ticks": ""
             }
            },
            "type": "scatter"
           }
          ],
          "scatter3d": [
           {
            "line": {
             "colorbar": {
              "outlinewidth": 0,
              "ticks": ""
             }
            },
            "marker": {
             "colorbar": {
              "outlinewidth": 0,
              "ticks": ""
             }
            },
            "type": "scatter3d"
           }
          ],
          "scattercarpet": [
           {
            "marker": {
             "colorbar": {
              "outlinewidth": 0,
              "ticks": ""
             }
            },
            "type": "scattercarpet"
           }
          ],
          "scattergeo": [
           {
            "marker": {
             "colorbar": {
              "outlinewidth": 0,
              "ticks": ""
             }
            },
            "type": "scattergeo"
           }
          ],
          "scattergl": [
           {
            "marker": {
             "colorbar": {
              "outlinewidth": 0,
              "ticks": ""
             }
            },
            "type": "scattergl"
           }
          ],
          "scattermapbox": [
           {
            "marker": {
             "colorbar": {
              "outlinewidth": 0,
              "ticks": ""
             }
            },
            "type": "scattermapbox"
           }
          ],
          "scatterpolar": [
           {
            "marker": {
             "colorbar": {
              "outlinewidth": 0,
              "ticks": ""
             }
            },
            "type": "scatterpolar"
           }
          ],
          "scatterpolargl": [
           {
            "marker": {
             "colorbar": {
              "outlinewidth": 0,
              "ticks": ""
             }
            },
            "type": "scatterpolargl"
           }
          ],
          "scatterternary": [
           {
            "marker": {
             "colorbar": {
              "outlinewidth": 0,
              "ticks": ""
             }
            },
            "type": "scatterternary"
           }
          ],
          "surface": [
           {
            "colorbar": {
             "outlinewidth": 0,
             "ticks": ""
            },
            "colorscale": [
             [
              0,
              "#0d0887"
             ],
             [
              0.1111111111111111,
              "#46039f"
             ],
             [
              0.2222222222222222,
              "#7201a8"
             ],
             [
              0.3333333333333333,
              "#9c179e"
             ],
             [
              0.4444444444444444,
              "#bd3786"
             ],
             [
              0.5555555555555556,
              "#d8576b"
             ],
             [
              0.6666666666666666,
              "#ed7953"
             ],
             [
              0.7777777777777778,
              "#fb9f3a"
             ],
             [
              0.8888888888888888,
              "#fdca26"
             ],
             [
              1,
              "#f0f921"
             ]
            ],
            "type": "surface"
           }
          ],
          "table": [
           {
            "cells": {
             "fill": {
              "color": "#EBF0F8"
             },
             "line": {
              "color": "white"
             }
            },
            "header": {
             "fill": {
              "color": "#C8D4E3"
             },
             "line": {
              "color": "white"
             }
            },
            "type": "table"
           }
          ]
         },
         "layout": {
          "annotationdefaults": {
           "arrowcolor": "#2a3f5f",
           "arrowhead": 0,
           "arrowwidth": 1
          },
          "coloraxis": {
           "colorbar": {
            "outlinewidth": 0,
            "ticks": ""
           }
          },
          "colorscale": {
           "diverging": [
            [
             0,
             "#8e0152"
            ],
            [
             0.1,
             "#c51b7d"
            ],
            [
             0.2,
             "#de77ae"
            ],
            [
             0.3,
             "#f1b6da"
            ],
            [
             0.4,
             "#fde0ef"
            ],
            [
             0.5,
             "#f7f7f7"
            ],
            [
             0.6,
             "#e6f5d0"
            ],
            [
             0.7,
             "#b8e186"
            ],
            [
             0.8,
             "#7fbc41"
            ],
            [
             0.9,
             "#4d9221"
            ],
            [
             1,
             "#276419"
            ]
           ],
           "sequential": [
            [
             0,
             "#0d0887"
            ],
            [
             0.1111111111111111,
             "#46039f"
            ],
            [
             0.2222222222222222,
             "#7201a8"
            ],
            [
             0.3333333333333333,
             "#9c179e"
            ],
            [
             0.4444444444444444,
             "#bd3786"
            ],
            [
             0.5555555555555556,
             "#d8576b"
            ],
            [
             0.6666666666666666,
             "#ed7953"
            ],
            [
             0.7777777777777778,
             "#fb9f3a"
            ],
            [
             0.8888888888888888,
             "#fdca26"
            ],
            [
             1,
             "#f0f921"
            ]
           ],
           "sequentialminus": [
            [
             0,
             "#0d0887"
            ],
            [
             0.1111111111111111,
             "#46039f"
            ],
            [
             0.2222222222222222,
             "#7201a8"
            ],
            [
             0.3333333333333333,
             "#9c179e"
            ],
            [
             0.4444444444444444,
             "#bd3786"
            ],
            [
             0.5555555555555556,
             "#d8576b"
            ],
            [
             0.6666666666666666,
             "#ed7953"
            ],
            [
             0.7777777777777778,
             "#fb9f3a"
            ],
            [
             0.8888888888888888,
             "#fdca26"
            ],
            [
             1,
             "#f0f921"
            ]
           ]
          },
          "colorway": [
           "#636efa",
           "#EF553B",
           "#00cc96",
           "#ab63fa",
           "#FFA15A",
           "#19d3f3",
           "#FF6692",
           "#B6E880",
           "#FF97FF",
           "#FECB52"
          ],
          "font": {
           "color": "#2a3f5f"
          },
          "geo": {
           "bgcolor": "white",
           "lakecolor": "white",
           "landcolor": "#E5ECF6",
           "showlakes": true,
           "showland": true,
           "subunitcolor": "white"
          },
          "hoverlabel": {
           "align": "left"
          },
          "hovermode": "closest",
          "mapbox": {
           "style": "light"
          },
          "paper_bgcolor": "white",
          "plot_bgcolor": "#E5ECF6",
          "polar": {
           "angularaxis": {
            "gridcolor": "white",
            "linecolor": "white",
            "ticks": ""
           },
           "bgcolor": "#E5ECF6",
           "radialaxis": {
            "gridcolor": "white",
            "linecolor": "white",
            "ticks": ""
           }
          },
          "scene": {
           "xaxis": {
            "backgroundcolor": "#E5ECF6",
            "gridcolor": "white",
            "gridwidth": 2,
            "linecolor": "white",
            "showbackground": true,
            "ticks": "",
            "zerolinecolor": "white"
           },
           "yaxis": {
            "backgroundcolor": "#E5ECF6",
            "gridcolor": "white",
            "gridwidth": 2,
            "linecolor": "white",
            "showbackground": true,
            "ticks": "",
            "zerolinecolor": "white"
           },
           "zaxis": {
            "backgroundcolor": "#E5ECF6",
            "gridcolor": "white",
            "gridwidth": 2,
            "linecolor": "white",
            "showbackground": true,
            "ticks": "",
            "zerolinecolor": "white"
           }
          },
          "shapedefaults": {
           "line": {
            "color": "#2a3f5f"
           }
          },
          "ternary": {
           "aaxis": {
            "gridcolor": "white",
            "linecolor": "white",
            "ticks": ""
           },
           "baxis": {
            "gridcolor": "white",
            "linecolor": "white",
            "ticks": ""
           },
           "bgcolor": "#E5ECF6",
           "caxis": {
            "gridcolor": "white",
            "linecolor": "white",
            "ticks": ""
           }
          },
          "title": {
           "x": 0.05
          },
          "xaxis": {
           "automargin": true,
           "gridcolor": "white",
           "linecolor": "white",
           "ticks": "",
           "title": {
            "standoff": 15
           },
           "zerolinecolor": "white",
           "zerolinewidth": 2
          },
          "yaxis": {
           "automargin": true,
           "gridcolor": "white",
           "linecolor": "white",
           "ticks": "",
           "title": {
            "standoff": 15
           },
           "zerolinecolor": "white",
           "zerolinewidth": 2
          }
         }
        },
        "xaxis": {
         "anchor": "y",
         "domain": [
          0,
          1
         ],
         "title": {
          "text": "state_id"
         }
        },
        "yaxis": {
         "anchor": "x",
         "domain": [
          0,
          1
         ],
         "title": {
          "text": "CHECKUP"
         }
        }
       }
      }
     },
     "metadata": {}
    }
   ],
   "source": [
    "fig = px.scatter(df100, x = 'state_id', y = 'CHECKUP')\n",
    "fig.show()"
   ]
  },
  {
   "cell_type": "code",
   "execution_count": 93,
   "metadata": {},
   "outputs": [
    {
     "output_type": "display_data",
     "data": {
      "application/vnd.plotly.v1+json": {
       "config": {
        "plotlyServerURL": "https://plot.ly"
       },
       "data": [
        {
         "customdata": [
          [
           "TX",
           "Abilene"
          ],
          [
           "OH",
           "Akron"
          ],
          [
           "CA",
           "Alameda"
          ],
          [
           "CA",
           "Berkeley"
          ],
          [
           "CA",
           "Fremont"
          ],
          [
           "CA",
           "Hayward"
          ],
          [
           "CA",
           "Livermore"
          ],
          [
           "CA",
           "Oakland"
          ],
          [
           "CA",
           "Pleasanton"
          ],
          [
           "CA",
           "San Leandro"
          ],
          [
           "CA",
           "Union City"
          ],
          [
           "GA",
           "Albany"
          ],
          [
           "NY",
           "Albany"
          ],
          [
           "NM",
           "Albuquerque"
          ],
          [
           "VA",
           "Alexandria"
          ],
          [
           "CA",
           "Alhambra"
          ],
          [
           "CA",
           "Baldwin Park"
          ],
          [
           "CA",
           "Bellflower"
          ],
          [
           "CA",
           "Burbank"
          ],
          [
           "CA",
           "Carson"
          ],
          [
           "CA",
           "Compton"
          ],
          [
           "CA",
           "Downey"
          ],
          [
           "CA",
           "El Monte"
          ],
          [
           "CA",
           "Glendale"
          ],
          [
           "CA",
           "Hawthorne"
          ],
          [
           "CA",
           "Inglewood"
          ],
          [
           "CA",
           "Lakewood"
          ],
          [
           "CA",
           "Lancaster"
          ],
          [
           "CA",
           "Long Beach"
          ],
          [
           "CA",
           "Los Angeles"
          ],
          [
           "CA",
           "Lynwood"
          ],
          [
           "CA",
           "Norwalk"
          ],
          [
           "CA",
           "Palmdale"
          ],
          [
           "CA",
           "Pasadena"
          ],
          [
           "CA",
           "Pomona"
          ],
          [
           "CA",
           "Redondo Beach"
          ],
          [
           "CA",
           "Santa Clarita"
          ],
          [
           "CA",
           "Santa Monica"
          ],
          [
           "CA",
           "South Gate"
          ],
          [
           "CA",
           "Torrance"
          ],
          [
           "CA",
           "West Covina"
          ],
          [
           "CA",
           "Whittier"
          ],
          [
           "TX",
           "Allen"
          ],
          [
           "TX",
           "Frisco"
          ],
          [
           "TX",
           "McKinney"
          ],
          [
           "TX",
           "Plano"
          ],
          [
           "PA",
           "Allentown"
          ],
          [
           "TX",
           "Amarillo"
          ],
          [
           "CA",
           "Anaheim"
          ],
          [
           "CA",
           "Buena Park"
          ],
          [
           "CA",
           "Costa Mesa"
          ],
          [
           "CA",
           "Fullerton"
          ],
          [
           "CA",
           "Garden Grove"
          ],
          [
           "CA",
           "Huntington Beach"
          ],
          [
           "CA",
           "Irvine"
          ],
          [
           "CA",
           "Lake Forest"
          ],
          [
           "CA",
           "Mission Viejo"
          ],
          [
           "CA",
           "Newport Beach"
          ],
          [
           "CA",
           "Orange"
          ],
          [
           "CA",
           "Santa Ana"
          ],
          [
           "CA",
           "Tustin"
          ],
          [
           "CA",
           "Westminster"
          ],
          [
           "AK",
           "Anchorage"
          ],
          [
           "MI",
           "Ann Arbor"
          ],
          [
           "CA",
           "Antioch"
          ],
          [
           "CA",
           "Concord"
          ],
          [
           "CA",
           "Richmond"
          ],
          [
           "CA",
           "San Ramon"
          ],
          [
           "CA",
           "Apple Valley"
          ],
          [
           "CA",
           "Chino"
          ],
          [
           "CA",
           "Chino Hills"
          ],
          [
           "CA",
           "Fontana"
          ],
          [
           "CA",
           "Hesperia"
          ],
          [
           "CA",
           "Ontario"
          ],
          [
           "CA",
           "Rancho Cucamonga"
          ],
          [
           "CA",
           "Redlands"
          ],
          [
           "CA",
           "Rialto"
          ],
          [
           "CA",
           "San Bernardino"
          ],
          [
           "CA",
           "Upland"
          ],
          [
           "CA",
           "Victorville"
          ],
          [
           "WI",
           "Appleton"
          ],
          [
           "TX",
           "Arlington"
          ],
          [
           "TX",
           "Fort Worth"
          ],
          [
           "IL",
           "Arlington Heights"
          ],
          [
           "IL",
           "Chicago"
          ],
          [
           "IL",
           "Cicero"
          ],
          [
           "IL",
           "Evanston"
          ],
          [
           "IL",
           "Palatine"
          ],
          [
           "IL",
           "Schaumburg"
          ],
          [
           "CO",
           "Arvada"
          ],
          [
           "CO",
           "Lakewood"
          ],
          [
           "NC",
           "Asheville"
          ],
          [
           "GA",
           "Athens"
          ],
          [
           "GA",
           "Atlanta"
          ],
          [
           "GA",
           "Johns Creek"
          ],
          [
           "GA",
           "Roswell"
          ],
          [
           "GA",
           "Sandy Springs"
          ],
          [
           "WA",
           "Auburn"
          ],
          [
           "WA",
           "Bellevue"
          ],
          [
           "WA",
           "Federal Way"
          ],
          [
           "WA",
           "Kent"
          ],
          [
           "WA",
           "Renton"
          ],
          [
           "WA",
           "Seattle"
          ],
          [
           "GA",
           "Augusta"
          ],
          [
           "CO",
           "Aurora"
          ],
          [
           "CO",
           "Thornton"
          ],
          [
           "CO",
           "Westminster"
          ],
          [
           "IL",
           "Aurora"
          ],
          [
           "IL",
           "Elgin"
          ],
          [
           "TX",
           "Austin"
          ],
          [
           "AZ",
           "Avondale"
          ],
          [
           "AZ",
           "Chandler"
          ],
          [
           "AZ",
           "Gilbert"
          ],
          [
           "AZ",
           "Glendale"
          ],
          [
           "AZ",
           "Mesa"
          ],
          [
           "AZ",
           "Peoria"
          ],
          [
           "AZ",
           "Phoenix"
          ],
          [
           "AZ",
           "Scottsdale"
          ],
          [
           "AZ",
           "Surprise"
          ],
          [
           "AZ",
           "Tempe"
          ],
          [
           "CA",
           "Bakersfield"
          ],
          [
           "MD",
           "Baltimore"
          ],
          [
           "LA",
           "Baton Rouge"
          ],
          [
           "TX",
           "Baytown"
          ],
          [
           "TX",
           "Houston"
          ],
          [
           "TX",
           "Pasadena"
          ],
          [
           "TX",
           "Beaumont"
          ],
          [
           "OR",
           "Beaverton"
          ],
          [
           "OR",
           "Hillsboro"
          ],
          [
           "WA",
           "Bellingham"
          ],
          [
           "OR",
           "Bend"
          ],
          [
           "PA",
           "Bethlehem"
          ],
          [
           "MT",
           "Billings"
          ],
          [
           "AL",
           "Birmingham"
          ],
          [
           "AL",
           "Hoover"
          ],
          [
           "IL",
           "Bloomington"
          ],
          [
           "IN",
           "Bloomington"
          ],
          [
           "MN",
           "Bloomington"
          ],
          [
           "MN",
           "Brooklyn Park"
          ],
          [
           "MN",
           "Minneapolis"
          ],
          [
           "MN",
           "Plymouth"
          ],
          [
           "FL",
           "Boca Raton"
          ],
          [
           "FL",
           "Boynton Beach"
          ],
          [
           "FL",
           "West Palm Beach"
          ],
          [
           "IL",
           "Bolingbrook"
          ],
          [
           "IL",
           "Joliet"
          ],
          [
           "MA",
           "Boston"
          ],
          [
           "CO",
           "Boulder"
          ],
          [
           "CO",
           "Longmont"
          ],
          [
           "CT",
           "Bridgeport"
          ],
          [
           "CT",
           "Danbury"
          ],
          [
           "CT",
           "Norwalk"
          ],
          [
           "CT",
           "Stamford"
          ],
          [
           "MA",
           "Brockton"
          ],
          [
           "OK",
           "Broken Arrow"
          ],
          [
           "OK",
           "Tulsa"
          ],
          [
           "TX",
           "Brownsville"
          ],
          [
           "TX",
           "Bryan"
          ],
          [
           "TX",
           "College Station"
          ],
          [
           "NY",
           "Buffalo"
          ],
          [
           "VT",
           "Burlington"
          ],
          [
           "MA",
           "Cambridge"
          ],
          [
           "MA",
           "Lowell"
          ],
          [
           "MA",
           "Newton"
          ],
          [
           "MA",
           "Somerville"
          ],
          [
           "NJ",
           "Camden"
          ],
          [
           "OH",
           "Canton"
          ],
          [
           "FL",
           "Cape Coral"
          ],
          [
           "CA",
           "Carlsbad"
          ],
          [
           "CA",
           "Chula Vista"
          ],
          [
           "CA",
           "El Cajon"
          ],
          [
           "CA",
           "Escondido"
          ],
          [
           "CA",
           "Oceanside"
          ],
          [
           "CA",
           "San Diego"
          ],
          [
           "CA",
           "San Marcos"
          ],
          [
           "CA",
           "Vista"
          ],
          [
           "IN",
           "Carmel"
          ],
          [
           "IN",
           "Fishers"
          ],
          [
           "TX",
           "Carrollton"
          ],
          [
           "TX",
           "Dallas"
          ],
          [
           "TX",
           "Garland"
          ],
          [
           "TX",
           "Grand Prairie"
          ],
          [
           "TX",
           "Irving"
          ],
          [
           "TX",
           "Mesquite"
          ],
          [
           "TX",
           "Richardson"
          ],
          [
           "NC",
           "Cary"
          ],
          [
           "NC",
           "Raleigh"
          ],
          [
           "IA",
           "Cedar Rapids"
          ],
          [
           "CO",
           "Centennial"
          ],
          [
           "IL",
           "Champaign"
          ],
          [
           "SC",
           "Charleston"
          ],
          [
           "SC",
           "Mount Pleasant"
          ],
          [
           "SC",
           "North Charleston"
          ],
          [
           "WV",
           "Charleston"
          ],
          [
           "NC",
           "Charlotte"
          ],
          [
           "TN",
           "Chattanooga"
          ],
          [
           "VA",
           "Chesapeake"
          ],
          [
           "WY",
           "Cheyenne"
          ],
          [
           "CA",
           "Chico"
          ],
          [
           "OH",
           "Cincinnati"
          ],
          [
           "CA",
           "Citrus Heights"
          ],
          [
           "CA",
           "Elk Grove"
          ],
          [
           "CA",
           "Folsom"
          ],
          [
           "CA",
           "Sacramento"
          ],
          [
           "TN",
           "Clarksville"
          ],
          [
           "FL",
           "Clearwater"
          ],
          [
           "FL",
           "Largo"
          ],
          [
           "FL",
           "St. Petersburg"
          ],
          [
           "OH",
           "Cleveland"
          ],
          [
           "OH",
           "Parma"
          ],
          [
           "NJ",
           "Clifton"
          ],
          [
           "NJ",
           "Passaic"
          ],
          [
           "NJ",
           "Paterson"
          ],
          [
           "CA",
           "Clovis"
          ],
          [
           "CA",
           "Fresno"
          ],
          [
           "CO",
           "Colorado Springs"
          ],
          [
           "MO",
           "Columbia"
          ],
          [
           "SC",
           "Columbia"
          ],
          [
           "GA",
           "Columbus"
          ],
          [
           "OH",
           "Columbus"
          ],
          [
           "NC",
           "Concord"
          ],
          [
           "FL",
           "Coral Springs"
          ],
          [
           "FL",
           "Davie"
          ],
          [
           "FL",
           "Deerfield Beach"
          ],
          [
           "FL",
           "Fort Lauderdale"
          ],
          [
           "FL",
           "Hollywood"
          ],
          [
           "FL",
           "Lauderhill"
          ],
          [
           "FL",
           "Miramar"
          ],
          [
           "FL",
           "Pembroke Pines"
          ],
          [
           "FL",
           "Plantation"
          ],
          [
           "FL",
           "Pompano Beach"
          ],
          [
           "FL",
           "Sunrise"
          ],
          [
           "CA",
           "Corona"
          ],
          [
           "CA",
           "Hemet"
          ],
          [
           "CA",
           "Indio"
          ],
          [
           "CA",
           "Menifee"
          ],
          [
           "CA",
           "Moreno Valley"
          ],
          [
           "CA",
           "Murrieta"
          ],
          [
           "CA",
           "Perris"
          ],
          [
           "CA",
           "Riverside"
          ],
          [
           "CA",
           "Temecula"
          ],
          [
           "TX",
           "Corpus Christi"
          ],
          [
           "RI",
           "Cranston"
          ],
          [
           "RI",
           "Pawtucket"
          ],
          [
           "RI",
           "Providence"
          ],
          [
           "CA",
           "Daly City"
          ],
          [
           "CA",
           "Redwood City"
          ],
          [
           "CA",
           "San Mateo"
          ],
          [
           "IA",
           "Davenport"
          ],
          [
           "OH",
           "Dayton"
          ],
          [
           "MI",
           "Dearborn"
          ],
          [
           "MI",
           "Detroit"
          ],
          [
           "MI",
           "Livonia"
          ],
          [
           "MI",
           "Westland"
          ],
          [
           "IL",
           "Decatur"
          ],
          [
           "FL",
           "Deltona"
          ],
          [
           "TX",
           "Denton"
          ],
          [
           "TX",
           "Lewisville"
          ],
          [
           "CO",
           "Denver"
          ],
          [
           "IA",
           "Des Moines"
          ],
          [
           "MN",
           "Duluth"
          ],
          [
           "NC",
           "Durham"
          ],
          [
           "TX",
           "Edinburg"
          ],
          [
           "TX",
           "McAllen"
          ],
          [
           "TX",
           "Mission"
          ],
          [
           "TX",
           "Pharr"
          ],
          [
           "OK",
           "Edmond"
          ],
          [
           "OK",
           "Oklahoma City"
          ],
          [
           "TX",
           "El Paso"
          ],
          [
           "NJ",
           "Elizabeth"
          ],
          [
           "PA",
           "Erie"
          ],
          [
           "OR",
           "Eugene"
          ],
          [
           "IN",
           "Evansville"
          ],
          [
           "WA",
           "Everett"
          ],
          [
           "CA",
           "Fairfield"
          ],
          [
           "CA",
           "Vacaville"
          ],
          [
           "CA",
           "Vallejo"
          ],
          [
           "MA",
           "Fall River"
          ],
          [
           "MA",
           "New Bedford"
          ],
          [
           "ND",
           "Fargo"
          ],
          [
           "MI",
           "Farmington Hills"
          ],
          [
           "MI",
           "Rochester Hills"
          ],
          [
           "MI",
           "Southfield"
          ],
          [
           "MI",
           "Troy"
          ],
          [
           "AR",
           "Fayetteville"
          ],
          [
           "AR",
           "Springdale"
          ],
          [
           "NC",
           "Fayetteville"
          ],
          [
           "MI",
           "Flint"
          ],
          [
           "CO",
           "Fort Collins"
          ],
          [
           "CO",
           "Loveland"
          ],
          [
           "AR",
           "Fort Smith"
          ],
          [
           "IN",
           "Fort Wayne"
          ],
          [
           "FL",
           "Gainesville"
          ],
          [
           "IN",
           "Gary"
          ],
          [
           "IN",
           "Hammond"
          ],
          [
           "NC",
           "Gastonia"
          ],
          [
           "MI",
           "Grand Rapids"
          ],
          [
           "MI",
           "Wyoming"
          ],
          [
           "CO",
           "Greeley"
          ],
          [
           "WI",
           "Green Bay"
          ],
          [
           "NC",
           "Greensboro"
          ],
          [
           "NC",
           "High Point"
          ],
          [
           "NC",
           "Greenville"
          ],
          [
           "OR",
           "Gresham"
          ],
          [
           "OR",
           "Portland"
          ],
          [
           "MS",
           "Gulfport"
          ],
          [
           "VA",
           "Hampton"
          ],
          [
           "CT",
           "Hartford"
          ],
          [
           "CT",
           "New Britain"
          ],
          [
           "NV",
           "Henderson"
          ],
          [
           "NV",
           "Las Vegas"
          ],
          [
           "NV",
           "North Las Vegas"
          ],
          [
           "FL",
           "Hialeah"
          ],
          [
           "FL",
           "Miami"
          ],
          [
           "FL",
           "Miami Beach"
          ],
          [
           "FL",
           "Miami Gardens"
          ],
          [
           "HI",
           "Honolulu"
          ],
          [
           "AL",
           "Huntsville"
          ],
          [
           "MO",
           "Independence"
          ],
          [
           "MO",
           "Kansas City"
          ],
          [
           "MO",
           "Lee's Summit"
          ],
          [
           "IN",
           "Indianapolis"
          ],
          [
           "IA",
           "Iowa City"
          ],
          [
           "MS",
           "Jackson"
          ],
          [
           "FL",
           "Jacksonville"
          ],
          [
           "NC",
           "Jacksonville"
          ],
          [
           "NJ",
           "Jersey City"
          ],
          [
           "NJ",
           "Union City"
          ],
          [
           "AR",
           "Jonesboro"
          ],
          [
           "MI",
           "Kalamazoo"
          ],
          [
           "KS",
           "Kansas City"
          ],
          [
           "LA",
           "Kenner"
          ],
          [
           "WA",
           "Kennewick"
          ],
          [
           "WI",
           "Kenosha"
          ],
          [
           "TX",
           "Killeen"
          ],
          [
           "TN",
           "Knoxville"
          ],
          [
           "IN",
           "Lafayette"
          ],
          [
           "LA",
           "Lafayette"
          ],
          [
           "LA",
           "Lake Charles"
          ],
          [
           "FL",
           "Lakeland"
          ],
          [
           "MI",
           "Lansing"
          ],
          [
           "TX",
           "Laredo"
          ],
          [
           "NM",
           "Las Cruces"
          ],
          [
           "KS",
           "Lawrence"
          ],
          [
           "MA",
           "Lawrence"
          ],
          [
           "MA",
           "Lynn"
          ],
          [
           "OK",
           "Lawton"
          ],
          [
           "UT",
           "Layton"
          ],
          [
           "TX",
           "League City"
          ],
          [
           "KY",
           "Lexington"
          ],
          [
           "NE",
           "Lincoln"
          ],
          [
           "AR",
           "Little Rock"
          ],
          [
           "TX",
           "Longview"
          ],
          [
           "KY",
           "Louisville"
          ],
          [
           "TX",
           "Lubbock"
          ],
          [
           "VA",
           "Lynchburg"
          ],
          [
           "GA",
           "Macon"
          ],
          [
           "WI",
           "Madison"
          ],
          [
           "NH",
           "Manchester"
          ],
          [
           "NH",
           "Nashua"
          ],
          [
           "CA",
           "Manteca"
          ],
          [
           "CA",
           "Stockton"
          ],
          [
           "CA",
           "Tracy"
          ],
          [
           "OR",
           "Medford"
          ],
          [
           "FL",
           "Melbourne"
          ],
          [
           "FL",
           "Palm Bay"
          ],
          [
           "TN",
           "Memphis"
          ],
          [
           "CA",
           "Merced"
          ],
          [
           "ID",
           "Meridian"
          ],
          [
           "TX",
           "Midland"
          ],
          [
           "CA",
           "Milpitas"
          ],
          [
           "CA",
           "Mountain View"
          ],
          [
           "CA",
           "San Jose"
          ],
          [
           "CA",
           "Santa Clara"
          ],
          [
           "CA",
           "Sunnyvale"
          ],
          [
           "WI",
           "Milwaukee"
          ],
          [
           "MT",
           "Missoula"
          ],
          [
           "TX",
           "Missouri City"
          ],
          [
           "TX",
           "Sugar Land"
          ],
          [
           "AL",
           "Mobile"
          ],
          [
           "CA",
           "Modesto"
          ],
          [
           "CA",
           "Turlock"
          ],
          [
           "AL",
           "Montgomery"
          ],
          [
           "NY",
           "Mount Vernon"
          ],
          [
           "NY",
           "New Rochelle"
          ],
          [
           "NY",
           "Yonkers"
          ],
          [
           "IN",
           "Muncie"
          ],
          [
           "TN",
           "Murfreesboro"
          ],
          [
           "ID",
           "Nampa"
          ],
          [
           "CA",
           "Napa"
          ],
          [
           "IL",
           "Naperville"
          ],
          [
           "TN",
           "Nashville"
          ],
          [
           "CT",
           "New Haven"
          ],
          [
           "CT",
           "Waterbury"
          ],
          [
           "LA",
           "New Orleans"
          ],
          [
           "NJ",
           "Newark"
          ],
          [
           "VA",
           "Newport News"
          ],
          [
           "VA",
           "Norfolk"
          ],
          [
           "OK",
           "Norman"
          ],
          [
           "MO",
           "O'Fallon"
          ],
          [
           "TX",
           "Odessa"
          ],
          [
           "UT",
           "Ogden"
          ],
          [
           "KS",
           "Olathe"
          ],
          [
           "KS",
           "Overland Park"
          ],
          [
           "NE",
           "Omaha"
          ],
          [
           "UT",
           "Orem"
          ],
          [
           "UT",
           "Provo"
          ],
          [
           "FL",
           "Orlando"
          ],
          [
           "CA",
           "Oxnard"
          ],
          [
           "CA",
           "Simi Valley"
          ],
          [
           "CA",
           "Thousand Oaks"
          ],
          [
           "FL",
           "Palm Coast"
          ],
          [
           "TX",
           "Pearland"
          ],
          [
           "IL",
           "Peoria"
          ],
          [
           "PA",
           "Philadelphia"
          ],
          [
           "PA",
           "Pittsburgh"
          ],
          [
           "FL",
           "Port St. Lucie"
          ],
          [
           "ME",
           "Portland"
          ],
          [
           "VA",
           "Portsmouth"
          ],
          [
           "CO",
           "Pueblo"
          ],
          [
           "MA",
           "Quincy"
          ],
          [
           "WI",
           "Racine"
          ],
          [
           "SD",
           "Rapid City"
          ],
          [
           "PA",
           "Reading"
          ],
          [
           "CA",
           "Redding"
          ],
          [
           "NV",
           "Reno"
          ],
          [
           "NV",
           "Sparks"
          ],
          [
           "VA",
           "Richmond"
          ],
          [
           "NM",
           "Rio Rancho"
          ],
          [
           "VA",
           "Roanoke"
          ],
          [
           "MN",
           "Rochester"
          ],
          [
           "NY",
           "Rochester"
          ],
          [
           "SC",
           "Rock Hill"
          ],
          [
           "IL",
           "Rockford"
          ],
          [
           "CA",
           "Roseville"
          ],
          [
           "TX",
           "Round Rock"
          ],
          [
           "OR",
           "Salem"
          ],
          [
           "CA",
           "Salinas"
          ],
          [
           "UT",
           "Salt Lake City"
          ],
          [
           "UT",
           "Sandy"
          ],
          [
           "UT",
           "West Jordan"
          ],
          [
           "UT",
           "West Valley City"
          ],
          [
           "TX",
           "San Angelo"
          ],
          [
           "TX",
           "San Antonio"
          ],
          [
           "CA",
           "San Francisco"
          ],
          [
           "CA",
           "Santa Barbara"
          ],
          [
           "CA",
           "Santa Maria"
          ],
          [
           "NM",
           "Santa Fe"
          ],
          [
           "CA",
           "Santa Rosa"
          ],
          [
           "GA",
           "Savannah"
          ],
          [
           "NY",
           "Schenectady"
          ],
          [
           "PA",
           "Scranton"
          ],
          [
           "LA",
           "Shreveport"
          ],
          [
           "IA",
           "Sioux City"
          ],
          [
           "SD",
           "Sioux Falls"
          ],
          [
           "IN",
           "South Bend"
          ],
          [
           "WA",
           "Spokane"
          ],
          [
           "WA",
           "Spokane Valley"
          ],
          [
           "IL",
           "Springfield"
          ],
          [
           "MA",
           "Springfield"
          ],
          [
           "MO",
           "Springfield"
          ],
          [
           "UT",
           "St. George"
          ],
          [
           "MO",
           "St. Joseph"
          ],
          [
           "MO",
           "St. Louis"
          ],
          [
           "MN",
           "St. Paul"
          ],
          [
           "MI",
           "Sterling Heights"
          ],
          [
           "MI",
           "Warren"
          ],
          [
           "VA",
           "Suffolk"
          ],
          [
           "NY",
           "Syracuse"
          ],
          [
           "WA",
           "Tacoma"
          ],
          [
           "FL",
           "Tallahassee"
          ],
          [
           "FL",
           "Tampa"
          ],
          [
           "OH",
           "Toledo"
          ],
          [
           "KS",
           "Topeka"
          ],
          [
           "NJ",
           "Trenton"
          ],
          [
           "AZ",
           "Tucson"
          ],
          [
           "AL",
           "Tuscaloosa"
          ],
          [
           "TX",
           "Tyler"
          ],
          [
           "WA",
           "Vancouver"
          ],
          [
           "VA",
           "Virginia Beach"
          ],
          [
           "CA",
           "Visalia"
          ],
          [
           "TX",
           "Waco"
          ],
          [
           "GA",
           "Warner Robins"
          ],
          [
           "RI",
           "Warwick"
          ],
          [
           "DC",
           "Washington"
          ],
          [
           "IA",
           "Waterloo"
          ],
          [
           "IL",
           "Waukegan"
          ],
          [
           "WI",
           "Waukesha"
          ],
          [
           "KS",
           "Wichita"
          ],
          [
           "TX",
           "Wichita Falls"
          ],
          [
           "DE",
           "Wilmington"
          ],
          [
           "NC",
           "Wilmington"
          ],
          [
           "NC",
           "Winston-Salem"
          ],
          [
           "MA",
           "Worcester"
          ],
          [
           "WA",
           "Yakima"
          ],
          [
           "OH",
           "Youngstown"
          ],
          [
           "AZ",
           "Yuma"
          ]
         ],
         "hovertemplate": "<b>%{hovertext}</b><br><br>first_date=%{x}<br>case14=%{y}<br>state_id=%{customdata[0]}<br>CityName=%{customdata[1]}<extra></extra>",
         "hovertext": [
          "TX",
          "OH",
          "CA",
          "CA",
          "CA",
          "CA",
          "CA",
          "CA",
          "CA",
          "CA",
          "CA",
          "GA",
          "NY",
          "NM",
          "VA",
          "CA",
          "CA",
          "CA",
          "CA",
          "CA",
          "CA",
          "CA",
          "CA",
          "CA",
          "CA",
          "CA",
          "CA",
          "CA",
          "CA",
          "CA",
          "CA",
          "CA",
          "CA",
          "CA",
          "CA",
          "CA",
          "CA",
          "CA",
          "CA",
          "CA",
          "CA",
          "CA",
          "TX",
          "TX",
          "TX",
          "TX",
          "PA",
          "TX",
          "CA",
          "CA",
          "CA",
          "CA",
          "CA",
          "CA",
          "CA",
          "CA",
          "CA",
          "CA",
          "CA",
          "CA",
          "CA",
          "CA",
          "AK",
          "MI",
          "CA",
          "CA",
          "CA",
          "CA",
          "CA",
          "CA",
          "CA",
          "CA",
          "CA",
          "CA",
          "CA",
          "CA",
          "CA",
          "CA",
          "CA",
          "CA",
          "WI",
          "TX",
          "TX",
          "IL",
          "IL",
          "IL",
          "IL",
          "IL",
          "IL",
          "CO",
          "CO",
          "NC",
          "GA",
          "GA",
          "GA",
          "GA",
          "GA",
          "WA",
          "WA",
          "WA",
          "WA",
          "WA",
          "WA",
          "GA",
          "CO",
          "CO",
          "CO",
          "IL",
          "IL",
          "TX",
          "AZ",
          "AZ",
          "AZ",
          "AZ",
          "AZ",
          "AZ",
          "AZ",
          "AZ",
          "AZ",
          "AZ",
          "CA",
          "MD",
          "LA",
          "TX",
          "TX",
          "TX",
          "TX",
          "OR",
          "OR",
          "WA",
          "OR",
          "PA",
          "MT",
          "AL",
          "AL",
          "IL",
          "IN",
          "MN",
          "MN",
          "MN",
          "MN",
          "FL",
          "FL",
          "FL",
          "IL",
          "IL",
          "MA",
          "CO",
          "CO",
          "CT",
          "CT",
          "CT",
          "CT",
          "MA",
          "OK",
          "OK",
          "TX",
          "TX",
          "TX",
          "NY",
          "VT",
          "MA",
          "MA",
          "MA",
          "MA",
          "NJ",
          "OH",
          "FL",
          "CA",
          "CA",
          "CA",
          "CA",
          "CA",
          "CA",
          "CA",
          "CA",
          "IN",
          "IN",
          "TX",
          "TX",
          "TX",
          "TX",
          "TX",
          "TX",
          "TX",
          "NC",
          "NC",
          "IA",
          "CO",
          "IL",
          "SC",
          "SC",
          "SC",
          "WV",
          "NC",
          "TN",
          "VA",
          "WY",
          "CA",
          "OH",
          "CA",
          "CA",
          "CA",
          "CA",
          "TN",
          "FL",
          "FL",
          "FL",
          "OH",
          "OH",
          "NJ",
          "NJ",
          "NJ",
          "CA",
          "CA",
          "CO",
          "MO",
          "SC",
          "GA",
          "OH",
          "NC",
          "FL",
          "FL",
          "FL",
          "FL",
          "FL",
          "FL",
          "FL",
          "FL",
          "FL",
          "FL",
          "FL",
          "CA",
          "CA",
          "CA",
          "CA",
          "CA",
          "CA",
          "CA",
          "CA",
          "CA",
          "TX",
          "RI",
          "RI",
          "RI",
          "CA",
          "CA",
          "CA",
          "IA",
          "OH",
          "MI",
          "MI",
          "MI",
          "MI",
          "IL",
          "FL",
          "TX",
          "TX",
          "CO",
          "IA",
          "MN",
          "NC",
          "TX",
          "TX",
          "TX",
          "TX",
          "OK",
          "OK",
          "TX",
          "NJ",
          "PA",
          "OR",
          "IN",
          "WA",
          "CA",
          "CA",
          "CA",
          "MA",
          "MA",
          "ND",
          "MI",
          "MI",
          "MI",
          "MI",
          "AR",
          "AR",
          "NC",
          "MI",
          "CO",
          "CO",
          "AR",
          "IN",
          "FL",
          "IN",
          "IN",
          "NC",
          "MI",
          "MI",
          "CO",
          "WI",
          "NC",
          "NC",
          "NC",
          "OR",
          "OR",
          "MS",
          "VA",
          "CT",
          "CT",
          "NV",
          "NV",
          "NV",
          "FL",
          "FL",
          "FL",
          "FL",
          "HI",
          "AL",
          "MO",
          "MO",
          "MO",
          "IN",
          "IA",
          "MS",
          "FL",
          "NC",
          "NJ",
          "NJ",
          "AR",
          "MI",
          "KS",
          "LA",
          "WA",
          "WI",
          "TX",
          "TN",
          "IN",
          "LA",
          "LA",
          "FL",
          "MI",
          "TX",
          "NM",
          "KS",
          "MA",
          "MA",
          "OK",
          "UT",
          "TX",
          "KY",
          "NE",
          "AR",
          "TX",
          "KY",
          "TX",
          "VA",
          "GA",
          "WI",
          "NH",
          "NH",
          "CA",
          "CA",
          "CA",
          "OR",
          "FL",
          "FL",
          "TN",
          "CA",
          "ID",
          "TX",
          "CA",
          "CA",
          "CA",
          "CA",
          "CA",
          "WI",
          "MT",
          "TX",
          "TX",
          "AL",
          "CA",
          "CA",
          "AL",
          "NY",
          "NY",
          "NY",
          "IN",
          "TN",
          "ID",
          "CA",
          "IL",
          "TN",
          "CT",
          "CT",
          "LA",
          "NJ",
          "VA",
          "VA",
          "OK",
          "MO",
          "TX",
          "UT",
          "KS",
          "KS",
          "NE",
          "UT",
          "UT",
          "FL",
          "CA",
          "CA",
          "CA",
          "FL",
          "TX",
          "IL",
          "PA",
          "PA",
          "FL",
          "ME",
          "VA",
          "CO",
          "MA",
          "WI",
          "SD",
          "PA",
          "CA",
          "NV",
          "NV",
          "VA",
          "NM",
          "VA",
          "MN",
          "NY",
          "SC",
          "IL",
          "CA",
          "TX",
          "OR",
          "CA",
          "UT",
          "UT",
          "UT",
          "UT",
          "TX",
          "TX",
          "CA",
          "CA",
          "CA",
          "NM",
          "CA",
          "GA",
          "NY",
          "PA",
          "LA",
          "IA",
          "SD",
          "IN",
          "WA",
          "WA",
          "IL",
          "MA",
          "MO",
          "UT",
          "MO",
          "MO",
          "MN",
          "MI",
          "MI",
          "VA",
          "NY",
          "WA",
          "FL",
          "FL",
          "OH",
          "KS",
          "NJ",
          "AZ",
          "AL",
          "TX",
          "WA",
          "VA",
          "CA",
          "TX",
          "GA",
          "RI",
          "DC",
          "IA",
          "IL",
          "WI",
          "KS",
          "TX",
          "DE",
          "NC",
          "NC",
          "MA",
          "WA",
          "OH",
          "AZ"
         ],
         "legendgroup": "",
         "marker": {
          "color": "#636efa",
          "symbol": "circle"
         },
         "mode": "markers",
         "name": "",
         "orientation": "v",
         "showlegend": false,
         "type": "scatter",
         "x": [
          "2020-03-27T00:00:00",
          "2020-03-14T00:00:00",
          "2020-03-01T00:00:00",
          "2020-03-01T00:00:00",
          "2020-03-01T00:00:00",
          "2020-03-01T00:00:00",
          "2020-03-01T00:00:00",
          "2020-03-01T00:00:00",
          "2020-03-01T00:00:00",
          "2020-03-01T00:00:00",
          "2020-03-01T00:00:00",
          "2020-03-15T00:00:00",
          "2020-03-12T00:00:00",
          "2020-03-11T00:00:00",
          "2020-03-12T00:00:00",
          "2020-01-26T00:00:00",
          "2020-01-26T00:00:00",
          "2020-01-26T00:00:00",
          "2020-01-26T00:00:00",
          "2020-01-26T00:00:00",
          "2020-01-26T00:00:00",
          "2020-01-26T00:00:00",
          "2020-01-26T00:00:00",
          "2020-01-26T00:00:00",
          "2020-01-26T00:00:00",
          "2020-01-26T00:00:00",
          "2020-01-26T00:00:00",
          "2020-01-26T00:00:00",
          "2020-01-26T00:00:00",
          "2020-01-26T00:00:00",
          "2020-01-26T00:00:00",
          "2020-01-26T00:00:00",
          "2020-01-26T00:00:00",
          "2020-01-26T00:00:00",
          "2020-01-26T00:00:00",
          "2020-01-26T00:00:00",
          "2020-01-26T00:00:00",
          "2020-01-26T00:00:00",
          "2020-01-26T00:00:00",
          "2020-01-26T00:00:00",
          "2020-01-26T00:00:00",
          "2020-01-26T00:00:00",
          "2020-03-09T00:00:00",
          "2020-03-09T00:00:00",
          "2020-03-09T00:00:00",
          "2020-03-09T00:00:00",
          "2020-03-15T00:00:00",
          "2020-03-21T00:00:00",
          "2020-01-25T00:00:00",
          "2020-01-25T00:00:00",
          "2020-01-25T00:00:00",
          "2020-01-25T00:00:00",
          "2020-01-25T00:00:00",
          "2020-01-25T00:00:00",
          "2020-01-25T00:00:00",
          "2020-01-25T00:00:00",
          "2020-01-25T00:00:00",
          "2020-01-25T00:00:00",
          "2020-01-25T00:00:00",
          "2020-01-25T00:00:00",
          "2020-01-25T00:00:00",
          "2020-01-25T00:00:00",
          "2020-03-12T00:00:00",
          "2020-03-12T00:00:00",
          "2020-03-03T00:00:00",
          "2020-03-03T00:00:00",
          "2020-03-03T00:00:00",
          "2020-03-03T00:00:00",
          "2020-03-15T00:00:00",
          "2020-03-15T00:00:00",
          "2020-03-15T00:00:00",
          "2020-03-15T00:00:00",
          "2020-03-15T00:00:00",
          "2020-03-15T00:00:00",
          "2020-03-15T00:00:00",
          "2020-03-15T00:00:00",
          "2020-03-15T00:00:00",
          "2020-03-15T00:00:00",
          "2020-03-15T00:00:00",
          "2020-03-15T00:00:00",
          "2020-03-16T00:00:00",
          "2020-03-10T00:00:00",
          "2020-03-10T00:00:00",
          "2020-01-24T00:00:00",
          "2020-01-24T00:00:00",
          "2020-01-24T00:00:00",
          "2020-01-24T00:00:00",
          "2020-01-24T00:00:00",
          "2020-01-24T00:00:00",
          "2020-03-05T00:00:00",
          "2020-03-05T00:00:00",
          "2020-03-21T00:00:00",
          "2020-03-15T00:00:00",
          "2020-03-02T00:00:00",
          "2020-03-02T00:00:00",
          "2020-03-02T00:00:00",
          "2020-03-02T00:00:00",
          "2020-02-28T00:00:00",
          "2020-02-28T00:00:00",
          "2020-02-28T00:00:00",
          "2020-02-28T00:00:00",
          "2020-02-28T00:00:00",
          "2020-02-28T00:00:00",
          "2020-03-17T00:00:00",
          "2020-03-12T00:00:00",
          "2020-03-12T00:00:00",
          "2020-03-12T00:00:00",
          "2020-03-10T00:00:00",
          "2020-03-10T00:00:00",
          "2020-03-13T00:00:00",
          "2020-01-26T00:00:00",
          "2020-01-26T00:00:00",
          "2020-01-26T00:00:00",
          "2020-01-26T00:00:00",
          "2020-01-26T00:00:00",
          "2020-01-26T00:00:00",
          "2020-01-26T00:00:00",
          "2020-01-26T00:00:00",
          "2020-01-26T00:00:00",
          "2020-01-26T00:00:00",
          "2020-03-17T00:00:00",
          "2020-03-15T00:00:00",
          "2020-03-17T00:00:00",
          "2020-03-05T00:00:00",
          "2020-03-05T00:00:00",
          "2020-03-05T00:00:00",
          "2020-03-24T00:00:00",
          "2020-02-28T00:00:00",
          "2020-02-28T00:00:00",
          "2020-03-10T00:00:00",
          "2020-03-11T00:00:00",
          "2020-03-12T00:00:00",
          "2020-03-13T00:00:00",
          "2020-03-13T00:00:00",
          "2020-03-13T00:00:00",
          "2020-03-20T00:00:00",
          "2020-03-22T00:00:00",
          "2020-03-12T00:00:00",
          "2020-03-12T00:00:00",
          "2020-03-12T00:00:00",
          "2020-03-12T00:00:00",
          "2020-03-12T00:00:00",
          "2020-03-12T00:00:00",
          "2020-03-12T00:00:00",
          "2020-03-16T00:00:00",
          "2020-03-16T00:00:00",
          "2020-02-01T00:00:00",
          "2020-03-14T00:00:00",
          "2020-03-14T00:00:00",
          "2020-03-08T00:00:00",
          "2020-03-08T00:00:00",
          "2020-03-08T00:00:00",
          "2020-03-08T00:00:00",
          "2020-03-15T00:00:00",
          "2020-03-06T00:00:00",
          "2020-03-06T00:00:00",
          "2020-03-19T00:00:00",
          "2020-03-17T00:00:00",
          "2020-03-17T00:00:00",
          "2020-03-15T00:00:00",
          "2020-03-11T00:00:00",
          "2020-03-05T00:00:00",
          "2020-03-05T00:00:00",
          "2020-03-05T00:00:00",
          "2020-03-05T00:00:00",
          "2020-03-06T00:00:00",
          "2020-03-11T00:00:00",
          "2020-03-06T00:00:00",
          "2020-02-10T00:00:00",
          "2020-02-10T00:00:00",
          "2020-02-10T00:00:00",
          "2020-02-10T00:00:00",
          "2020-02-10T00:00:00",
          "2020-02-10T00:00:00",
          "2020-02-10T00:00:00",
          "2020-02-10T00:00:00",
          "2020-03-15T00:00:00",
          "2020-03-15T00:00:00",
          "2020-03-10T00:00:00",
          "2020-03-10T00:00:00",
          "2020-03-10T00:00:00",
          "2020-03-10T00:00:00",
          "2020-03-10T00:00:00",
          "2020-03-10T00:00:00",
          "2020-03-10T00:00:00",
          "2020-03-03T00:00:00",
          "2020-03-03T00:00:00",
          "2020-03-21T00:00:00",
          "2020-03-09T00:00:00",
          "2020-03-22T00:00:00",
          "2020-03-06T00:00:00",
          "2020-03-06T00:00:00",
          "2020-03-06T00:00:00",
          "2020-03-20T00:00:00",
          "2020-03-12T00:00:00",
          "2020-03-13T00:00:00",
          "2020-03-24T00:00:00",
          "2020-03-17T00:00:00",
          "2020-03-21T00:00:00",
          "2020-03-19T00:00:00",
          "2020-02-21T00:00:00",
          "2020-02-21T00:00:00",
          "2020-02-21T00:00:00",
          "2020-02-21T00:00:00",
          "2020-03-19T00:00:00",
          "2020-03-10T00:00:00",
          "2020-03-10T00:00:00",
          "2020-03-10T00:00:00",
          "2020-03-09T00:00:00",
          "2020-03-09T00:00:00",
          "2020-03-08T00:00:00",
          "2020-03-08T00:00:00",
          "2020-03-08T00:00:00",
          "2020-03-07T00:00:00",
          "2020-03-07T00:00:00",
          "2020-03-06T00:00:00",
          "2020-03-17T00:00:00",
          "2020-03-17T00:00:00",
          "2020-03-20T00:00:00",
          "2020-03-14T00:00:00",
          "2020-03-12T00:00:00",
          "2020-03-06T00:00:00",
          "2020-03-06T00:00:00",
          "2020-03-06T00:00:00",
          "2020-03-06T00:00:00",
          "2020-03-06T00:00:00",
          "2020-03-06T00:00:00",
          "2020-03-06T00:00:00",
          "2020-03-06T00:00:00",
          "2020-03-06T00:00:00",
          "2020-03-06T00:00:00",
          "2020-03-06T00:00:00",
          "2020-03-07T00:00:00",
          "2020-03-07T00:00:00",
          "2020-03-07T00:00:00",
          "2020-03-07T00:00:00",
          "2020-03-07T00:00:00",
          "2020-03-07T00:00:00",
          "2020-03-07T00:00:00",
          "2020-03-07T00:00:00",
          "2020-03-07T00:00:00",
          "2020-03-24T00:00:00",
          "2020-03-25T00:00:00",
          "2020-03-25T00:00:00",
          "2020-03-25T00:00:00",
          "2020-03-02T00:00:00",
          "2020-03-02T00:00:00",
          "2020-03-02T00:00:00",
          "2020-03-22T00:00:00",
          "2020-03-19T00:00:00",
          "2020-03-10T00:00:00",
          "2020-03-10T00:00:00",
          "2020-03-10T00:00:00",
          "2020-03-10T00:00:00",
          "2020-03-28T00:00:00",
          "2020-03-07T00:00:00",
          "2020-03-15T00:00:00",
          "2020-03-15T00:00:00",
          "2020-03-06T00:00:00",
          "2020-03-15T00:00:00",
          "2020-03-21T00:00:00",
          "2020-03-16T00:00:00",
          "2020-03-24T00:00:00",
          "2020-03-24T00:00:00",
          "2020-03-24T00:00:00",
          "2020-03-24T00:00:00",
          "2020-03-13T00:00:00",
          "2020-03-13T00:00:00",
          "2020-03-13T00:00:00",
          "2020-03-09T00:00:00",
          "2020-03-20T00:00:00",
          "2020-03-17T00:00:00",
          "2020-03-20T00:00:00",
          "2020-01-21T00:00:00",
          "2020-02-24T00:00:00",
          "2020-02-24T00:00:00",
          "2020-02-24T00:00:00",
          "2020-03-14T00:00:00",
          "2020-03-14T00:00:00",
          "2020-03-17T00:00:00",
          "2020-03-10T00:00:00",
          "2020-03-10T00:00:00",
          "2020-03-10T00:00:00",
          "2020-03-10T00:00:00",
          "2020-03-18T00:00:00",
          "2020-03-18T00:00:00",
          "2020-03-22T00:00:00",
          "2020-03-19T00:00:00",
          "2020-03-09T00:00:00",
          "2020-03-09T00:00:00",
          "2020-03-19T00:00:00",
          "2020-03-20T00:00:00",
          "2020-03-10T00:00:00",
          "2020-03-17T00:00:00",
          "2020-03-17T00:00:00",
          "2020-03-18T00:00:00",
          "2020-03-12T00:00:00",
          "2020-03-12T00:00:00",
          "2020-03-13T00:00:00",
          "2020-03-18T00:00:00",
          "2020-03-18T00:00:00",
          "2020-03-18T00:00:00",
          "2020-03-20T00:00:00",
          "2020-03-10T00:00:00",
          "2020-03-10T00:00:00",
          "2020-03-17T00:00:00",
          "2020-03-26T00:00:00",
          "2020-03-14T00:00:00",
          "2020-03-14T00:00:00",
          "2020-03-05T00:00:00",
          "2020-03-05T00:00:00",
          "2020-03-05T00:00:00",
          "2020-03-11T00:00:00",
          "2020-03-11T00:00:00",
          "2020-03-11T00:00:00",
          "2020-03-11T00:00:00",
          "2020-03-06T00:00:00",
          "2020-03-17T00:00:00",
          "2020-03-17T00:00:00",
          "2020-03-17T00:00:00",
          "2020-03-17T00:00:00",
          "2020-03-06T00:00:00",
          "2020-03-08T00:00:00",
          "2020-03-15T00:00:00",
          "2020-03-12T00:00:00",
          "2020-03-12T00:00:00",
          "2020-03-09T00:00:00",
          "2020-03-09T00:00:00",
          "2020-03-19T00:00:00",
          "2020-03-23T00:00:00",
          "2020-03-12T00:00:00",
          "2020-03-09T00:00:00",
          "2020-03-18T00:00:00",
          "2020-03-17T00:00:00",
          "2020-03-13T00:00:00",
          "2020-03-12T00:00:00",
          "2020-03-19T00:00:00",
          "2020-03-19T00:00:00",
          "2020-03-19T00:00:00",
          "2020-03-17T00:00:00",
          "2020-03-12T00:00:00",
          "2020-03-18T00:00:00",
          "2020-03-20T00:00:00",
          "2020-03-17T00:00:00",
          "2020-03-10T00:00:00",
          "2020-03-10T00:00:00",
          "2020-03-26T00:00:00",
          "2020-03-06T00:00:00",
          "2020-03-13T00:00:00",
          "2020-03-06T00:00:00",
          "2020-03-20T00:00:00",
          "2020-03-12T00:00:00",
          "2020-03-11T00:00:00",
          "2020-03-08T00:00:00",
          "2020-03-17T00:00:00",
          "2020-03-26T00:00:00",
          "2020-03-19T00:00:00",
          "2020-02-05T00:00:00",
          "2020-03-15T00:00:00",
          "2020-03-15T00:00:00",
          "2020-03-10T00:00:00",
          "2020-03-10T00:00:00",
          "2020-03-10T00:00:00",
          "2020-03-07T00:00:00",
          "2020-03-17T00:00:00",
          "2020-03-17T00:00:00",
          "2020-03-08T00:00:00",
          "2020-03-24T00:00:00",
          "2020-03-13T00:00:00",
          "2020-03-21T00:00:00",
          "2020-01-31T00:00:00",
          "2020-01-31T00:00:00",
          "2020-01-31T00:00:00",
          "2020-01-31T00:00:00",
          "2020-01-31T00:00:00",
          "2020-03-13T00:00:00",
          "2020-03-14T00:00:00",
          "2020-03-04T00:00:00",
          "2020-03-04T00:00:00",
          "2020-03-19T00:00:00",
          "2020-03-11T00:00:00",
          "2020-03-11T00:00:00",
          "2020-03-13T00:00:00",
          "2020-03-04T00:00:00",
          "2020-03-04T00:00:00",
          "2020-03-04T00:00:00",
          "2020-03-21T00:00:00",
          "2020-03-13T00:00:00",
          "2020-03-20T00:00:00",
          "2020-02-26T00:00:00",
          "2020-03-14T00:00:00",
          "2020-03-08T00:00:00",
          "2020-03-14T00:00:00",
          "2020-03-14T00:00:00",
          "2020-03-10T00:00:00",
          "2020-03-12T00:00:00",
          "2020-03-20T00:00:00",
          "2020-03-20T00:00:00",
          "2020-03-15T00:00:00",
          "2020-03-18T00:00:00",
          "2020-03-29T00:00:00",
          "2020-03-10T00:00:00",
          "2020-03-07T00:00:00",
          "2020-03-07T00:00:00",
          "2020-02-17T00:00:00",
          "2020-03-15T00:00:00",
          "2020-03-15T00:00:00",
          "2020-03-13T00:00:00",
          "2020-03-10T00:00:00",
          "2020-03-10T00:00:00",
          "2020-03-10T00:00:00",
          "2020-03-22T00:00:00",
          "2020-03-14T00:00:00",
          "2020-03-16T00:00:00",
          "2020-03-10T00:00:00",
          "2020-03-14T00:00:00",
          "2020-03-21T00:00:00",
          "2020-03-13T00:00:00",
          "2020-03-20T00:00:00",
          "2020-03-13T00:00:00",
          "2020-03-02T00:00:00",
          "2020-03-13T00:00:00",
          "2020-03-23T00:00:00",
          "2020-03-18T00:00:00",
          "2020-03-09T00:00:00",
          "2020-03-05T00:00:00",
          "2020-03-05T00:00:00",
          "2020-03-18T00:00:00",
          "2020-03-14T00:00:00",
          "2020-03-27T00:00:00",
          "2020-03-11T00:00:00",
          "2020-03-11T00:00:00",
          "2020-03-17T00:00:00",
          "2020-03-15T00:00:00",
          "2020-03-02T00:00:00",
          "2020-03-18T00:00:00",
          "2020-03-08T00:00:00",
          "2020-03-17T00:00:00",
          "2020-02-25T00:00:00",
          "2020-02-25T00:00:00",
          "2020-02-25T00:00:00",
          "2020-02-25T00:00:00",
          "2020-03-25T00:00:00",
          "2020-02-12T00:00:00",
          "2020-02-02T00:00:00",
          "2020-03-15T00:00:00",
          "2020-03-15T00:00:00",
          "2020-03-11T00:00:00",
          "2020-02-26T00:00:00",
          "2020-03-20T00:00:00",
          "2020-03-13T00:00:00",
          "2020-03-18T00:00:00",
          "2020-03-11T00:00:00",
          "2020-03-22T00:00:00",
          "2020-03-10T00:00:00",
          "2020-03-11T00:00:00",
          "2020-02-24T00:00:00",
          "2020-02-24T00:00:00",
          "2020-03-14T00:00:00",
          "2020-03-15T00:00:00",
          "2020-03-12T00:00:00",
          "2020-03-06T00:00:00",
          "2020-03-27T00:00:00",
          "2020-03-18T00:00:00",
          "2020-03-06T00:00:00",
          "2020-03-13T00:00:00",
          "2020-03-13T00:00:00",
          "2020-03-21T00:00:00",
          "2020-03-16T00:00:00",
          "2020-03-06T00:00:00",
          "2020-03-18T00:00:00",
          "2020-03-01T00:00:00",
          "2020-03-15T00:00:00",
          "2020-03-25T00:00:00",
          "2020-03-14T00:00:00",
          "2020-03-09T00:00:00",
          "2020-03-13T00:00:00",
          "2020-03-13T00:00:00",
          "2020-03-06T00:00:00",
          "2020-03-09T00:00:00",
          "2020-03-12T00:00:00",
          "2020-03-18T00:00:00",
          "2020-03-18T00:00:00",
          "2020-03-25T00:00:00",
          "2020-03-07T00:00:00",
          "2020-03-17T00:00:00",
          "2020-03-11T00:00:00",
          "2020-03-11T00:00:00",
          "2020-03-19T00:00:00",
          "2020-03-18T00:00:00",
          "2020-03-11T00:00:00",
          "2020-03-18T00:00:00",
          "2020-03-12T00:00:00",
          "2020-03-08T00:00:00",
          "2020-03-12T00:00:00",
          "2020-03-17T00:00:00",
          "2020-03-20T00:00:00"
         ],
         "xaxis": "x",
         "y": [
          1711.7066199446122,
          245.90839030014945,
          603.9059841098372,
          603.9059841098372,
          603.9059841098372,
          603.9059841098372,
          603.9059841098372,
          603.9059841098372,
          603.9059841098372,
          603.9059841098372,
          603.9059841098372,
          506.63475945628306,
          152.4927222848287,
          260.85728713207754,
          918.5490673915083,
          661.5785750218622,
          661.5785750218622,
          661.5785750218622,
          661.5785750218622,
          661.5785750218622,
          661.5785750218622,
          661.5785750218622,
          661.5785750218622,
          661.5785750218622,
          661.5785750218622,
          661.5785750218622,
          661.5785750218622,
          661.5785750218622,
          661.5785750218622,
          661.5785750218622,
          661.5785750218622,
          661.5785750218622,
          661.5785750218622,
          661.5785750218622,
          661.5785750218622,
          661.5785750218622,
          661.5785750218622,
          661.5785750218622,
          661.5785750218622,
          661.5785750218622,
          661.5785750218622,
          661.5785750218622,
          639.1505987019375,
          639.1505987019375,
          639.1505987019375,
          639.1505987019375,
          280.99943415182406,
          407.2668033919508,
          323.6563814341069,
          323.6563814341069,
          323.6563814341069,
          323.6563814341069,
          323.6563814341069,
          323.6563814341069,
          323.6563814341069,
          323.6563814341069,
          323.6563814341069,
          323.6563814341069,
          323.6563814341069,
          323.6563814341069,
          323.6563814341069,
          323.6563814341069,
          382.7622809475142,
          247.48606262699923,
          242.85580968399825,
          242.85580968399825,
          242.85580968399825,
          242.85580968399825,
          1593.3770857918034,
          1593.3770857918034,
          1593.3770857918034,
          1593.3770857918034,
          1593.3770857918034,
          1593.3770857918034,
          1593.3770857918034,
          1593.3770857918034,
          1593.3770857918034,
          1593.3770857918034,
          1593.3770857918034,
          1593.3770857918034,
          448.3640271241709,
          1135.9312426305446,
          1135.9312426305446,
          1897.751986027382,
          1897.751986027382,
          1897.751986027382,
          1897.751986027382,
          1897.751986027382,
          1897.751986027382,
          568.8887344831255,
          568.8887344831255,
          343.9471137590506,
          565.7948710694941,
          118.85493754872175,
          118.85493754872175,
          118.85493754872175,
          118.85493754872175,
          126.82412752460505,
          126.82412752460505,
          126.82412752460505,
          126.82412752460505,
          126.82412752460505,
          126.82412752460505,
          365.44235020035876,
          381.04628164321457,
          381.04628164321457,
          381.04628164321457,
          1152.3318715790138,
          1152.3318715790138,
          1406.0007642646415,
          326.62765222846224,
          326.62765222846224,
          326.62765222846224,
          326.62765222846224,
          326.62765222846224,
          326.62765222846224,
          326.62765222846224,
          326.62765222846224,
          326.62765222846224,
          326.62765222846224,
          1225.477316057536,
          365.81365434019017,
          873.5147845124184,
          705.7513541238893,
          705.7513541238893,
          705.7513541238893,
          1675.8095374820891,
          208.411326769663,
          208.411326769663,
          314.9228439032438,
          51.46746612797381,
          906.1356711633634,
          129.17300571231738,
          804.257565897374,
          804.257565897374,
          74.99484410446757,
          428.5544224435539,
          385.7929228549847,
          385.7929228549847,
          385.7929228549847,
          385.7929228549847,
          3695.922101334172,
          3695.922101334172,
          3695.922101334172,
          814.6486357768608,
          814.6486357768608,
          731.0990989777247,
          592.1609878344648,
          592.1609878344648,
          411.6281056563912,
          411.6281056563912,
          411.6281056563912,
          411.6281056563912,
          1269.2852020384817,
          603.4215096728469,
          603.4215096728469,
          2293.864433028318,
          2658.52697912564,
          2658.52697912564,
          434.59484032276396,
          606.4074785713315,
          2343.8220909845877,
          2343.8220909845877,
          2343.8220909845877,
          2343.8220909845877,
          1556.6348496223327,
          283.5165918840298,
          642.275426805171,
          367.1174086228441,
          367.1174086228441,
          367.1174086228441,
          367.1174086228441,
          367.1174086228441,
          367.1174086228441,
          367.1174086228441,
          367.1174086228441,
          584.8506771421426,
          584.8506771421426,
          605.3796190602366,
          605.3796190602366,
          605.3796190602366,
          605.3796190602366,
          605.3796190602366,
          605.3796190602366,
          605.3796190602366,
          776.7602226573806,
          776.7602226573806,
          680.7536252064501,
          1409.4677618038113,
          454.5631143401065,
          557.4790211842028,
          557.4790211842028,
          557.4790211842028,
          251.82804265509185,
          1930.7312652321407,
          1328.3636903506094,
          1089.8638502144372,
          376.50219287087975,
          345.05863990723543,
          732.535184176857,
          62.49339518541058,
          62.49339518541058,
          62.49339518541058,
          62.49339518541058,
          623.4652636875235,
          1736.0989739538547,
          1736.0989739538547,
          1736.0989739538547,
          258.9023394756978,
          258.9023394756978,
          1022.2129245749529,
          1022.2129245749529,
          1022.2129245749529,
          761.3852036243411,
          761.3852036243411,
          254.8650553248317,
          781.8504677851101,
          1487.3613426958814,
          1983.330760919895,
          695.222217397923,
          824.3842879849115,
          933.2033225140344,
          933.2033225140344,
          933.2033225140344,
          933.2033225140344,
          933.2033225140344,
          933.2033225140344,
          933.2033225140344,
          933.2033225140344,
          933.2033225140344,
          933.2033225140344,
          933.2033225140344,
          677.1341256533792,
          677.1341256533792,
          677.1341256533792,
          677.1341256533792,
          677.1341256533792,
          677.1341256533792,
          677.1341256533792,
          677.1341256533792,
          677.1341256533792,
          6915.153550261127,
          518.2509263486463,
          518.2509263486463,
          518.2509263486463,
          663.2520501408103,
          663.2520501408103,
          663.2520501408103,
          667.4250162503481,
          618.9257289125306,
          313.0335008406264,
          313.0335008406264,
          313.0335008406264,
          313.0335008406264,
          156.3707273998309,
          375.0841652273193,
          856.1328146604969,
          856.1328146604969,
          199.1198543662499,
          944.3582530165895,
          186.54528786602862,
          2675.763447849492,
          2062.6713837252655,
          2062.6713837252655,
          2062.6713837252655,
          2062.6713837252655,
          607.7524233087208,
          607.7524233087208,
          1158.1415161447212,
          1051.8094246289984,
          533.0927581399164,
          71.15205721679501,
          311.79556323340444,
          524.4461406450814,
          240.79072567334003,
          240.79072567334003,
          240.79072567334003,
          948.0950947302808,
          948.0950947302808,
          740.4415724286491,
          3333.980708228135,
          3333.980708228135,
          3333.980708228135,
          3333.980708228135,
          3381.2434605429817,
          3381.2434605429817,
          765.4695573311737,
          251.82285406865503,
          126.26017365630014,
          126.26017365630014,
          1596.3434184943887,
          1143.3158929214069,
          975.4712487863856,
          1193.1568813834456,
          1193.1568813834456,
          1899.7274304121584,
          464.9905135147055,
          464.9905135147055,
          459.8344595945455,
          891.5501527080833,
          1259.6554198284794,
          1259.6554198284794,
          1144.0916295955417,
          202.31633982401218,
          202.31633982401218,
          821.5528330480264,
          757.4126190882828,
          507.07909099400786,
          507.07909099400786,
          556.9519263437419,
          556.9519263437419,
          556.9519263437419,
          631.498979155786,
          631.498979155786,
          631.498979155786,
          631.498979155786,
          49.67302044389743,
          1006.9693553346315,
          148.10246255848017,
          148.10246255848017,
          148.10246255848017,
          496.1537508558795,
          222.86605749944238,
          1054.101842454932,
          774.4374099019851,
          534.5374050410022,
          481.52101880054033,
          481.52101880054033,
          962.0340147740935,
          404.6794432959791,
          2136.5452124440126,
          1829.919783360343,
          1537.6266280752538,
          727.4490785644994,
          841.227296930863,
          314.56999755880577,
          565.0086852574759,
          2293.4905528519334,
          1829.2739118815257,
          1495.7408598949378,
          78.35319006307418,
          1590.3940201184841,
          1173.615925522433,
          257.17329806385237,
          1564.9452269170579,
          1564.9452269170579,
          776.9854929923777,
          566.743491895568,
          2242.4058728943733,
          1142.625633429238,
          762.8980632561161,
          673.8511086337173,
          -44.39413109586894,
          686.1391286980061,
          3539.480171867296,
          431.9861764423538,
          1251.1217518324675,
          134.77130703382295,
          880.0600335569634,
          880.0600335569634,
          1146.6855960796815,
          1146.6855960796815,
          1146.6855960796815,
          59.90678504247393,
          749.3176897242091,
          749.3176897242091,
          1428.8747651137428,
          2287.4388878267278,
          592.189240571463,
          2974.0653185161564,
          92.77376081541956,
          92.77376081541956,
          92.77376081541956,
          92.77376081541956,
          92.77376081541956,
          830.1482160460737,
          81.70453823318473,
          1348.8701289376231,
          1348.8701289376231,
          1701.7953217501981,
          941.1027712962218,
          941.1027712962218,
          4426.346944161671,
          1050.6539875880335,
          1050.6539875880335,
          1050.6539875880335,
          195.97596028220505,
          2257.0118871882523,
          1389.4632371185178,
          256.8353218613556,
          667.0787678016968,
          1572.5714616238338,
          325.8147064613113,
          325.8147064613113,
          259.44420637766325,
          1070.5719095283275,
          719.1116462639643,
          796.8843863785896,
          958.5455388131941,
          439.60435607952877,
          4322.111010009098,
          353.73625314852796,
          396.22530512808953,
          396.22530512808953,
          2136.4140836793904,
          1031.7396772823695,
          1031.7396772823695,
          1067.2503268916273,
          493.206244707447,
          493.206244707447,
          493.206244707447,
          248.69011017947145,
          2484.480045312797,
          349.5444270966839,
          255.7697178586859,
          93.40774817271085,
          1457.9926585781423,
          879.0064586225635,
          888.2121558177896,
          206.18901402642564,
          3451.177801283193,
          685.2087081611971,
          859.8452278589857,
          448.1347840826238,
          112.00577451993081,
          674.1323651445409,
          674.1323651445409,
          377.3916013386083,
          606.5916290355199,
          767.8892759174194,
          1185.5409313669961,
          440.45981956512287,
          2096.0191758882556,
          803.9760268966529,
          347.71522123380953,
          2400.930044480389,
          520.6730883014225,
          1193.8262130127057,
          761.5608690974095,
          761.5608690974095,
          761.5608690974095,
          761.5608690974095,
          1939.3120748709537,
          252.39537713171,
          141.24133093176823,
          1130.5762582518823,
          1130.5762582518823,
          263.07591124649525,
          268.15192087297953,
          1243.894141751995,
          532.3561090958592,
          131.9155163564933,
          438.4595454636037,
          1311.2257846205903,
          628.85048097236,
          712.0317602949017,
          367.50744202570104,
          367.50744202570104,
          115.70056693277797,
          286.60651910411616,
          174.22090588648882,
          1238.1238538288594,
          959.3083265534115,
          69.28796511350947,
          1720.2340418746608,
          324.0467624404864,
          324.0467624404864,
          642.7518645345035,
          601.3349235745272,
          245.6941786530033,
          903.049257232213,
          257.68823936806416,
          257.85887598599675,
          1790.0190107858452,
          921.4937792858291,
          1346.7404743774575,
          3393.493015187023,
          670.0109950522265,
          199.7416001072031,
          115.51064825791707,
          1664.0235441223558,
          1796.8457917184865,
          804.2390814563005,
          1298.6376555914921,
          178.09135973320326,
          842.6210894313808,
          639.1676464958564,
          574.4698312152918,
          587.3834273205616,
          1680.8830908178625,
          2134.9585781540827,
          1220.98286112974,
          1591.8340554023898,
          801.5942819607917,
          7539.603632266189,
          250.16397302433552,
          10961.030354293289
         ],
         "yaxis": "y"
        }
       ],
       "layout": {
        "legend": {
         "tracegroupgap": 0
        },
        "margin": {
         "t": 60
        },
        "template": {
         "data": {
          "bar": [
           {
            "error_x": {
             "color": "#2a3f5f"
            },
            "error_y": {
             "color": "#2a3f5f"
            },
            "marker": {
             "line": {
              "color": "#E5ECF6",
              "width": 0.5
             }
            },
            "type": "bar"
           }
          ],
          "barpolar": [
           {
            "marker": {
             "line": {
              "color": "#E5ECF6",
              "width": 0.5
             }
            },
            "type": "barpolar"
           }
          ],
          "carpet": [
           {
            "aaxis": {
             "endlinecolor": "#2a3f5f",
             "gridcolor": "white",
             "linecolor": "white",
             "minorgridcolor": "white",
             "startlinecolor": "#2a3f5f"
            },
            "baxis": {
             "endlinecolor": "#2a3f5f",
             "gridcolor": "white",
             "linecolor": "white",
             "minorgridcolor": "white",
             "startlinecolor": "#2a3f5f"
            },
            "type": "carpet"
           }
          ],
          "choropleth": [
           {
            "colorbar": {
             "outlinewidth": 0,
             "ticks": ""
            },
            "type": "choropleth"
           }
          ],
          "contour": [
           {
            "colorbar": {
             "outlinewidth": 0,
             "ticks": ""
            },
            "colorscale": [
             [
              0,
              "#0d0887"
             ],
             [
              0.1111111111111111,
              "#46039f"
             ],
             [
              0.2222222222222222,
              "#7201a8"
             ],
             [
              0.3333333333333333,
              "#9c179e"
             ],
             [
              0.4444444444444444,
              "#bd3786"
             ],
             [
              0.5555555555555556,
              "#d8576b"
             ],
             [
              0.6666666666666666,
              "#ed7953"
             ],
             [
              0.7777777777777778,
              "#fb9f3a"
             ],
             [
              0.8888888888888888,
              "#fdca26"
             ],
             [
              1,
              "#f0f921"
             ]
            ],
            "type": "contour"
           }
          ],
          "contourcarpet": [
           {
            "colorbar": {
             "outlinewidth": 0,
             "ticks": ""
            },
            "type": "contourcarpet"
           }
          ],
          "heatmap": [
           {
            "colorbar": {
             "outlinewidth": 0,
             "ticks": ""
            },
            "colorscale": [
             [
              0,
              "#0d0887"
             ],
             [
              0.1111111111111111,
              "#46039f"
             ],
             [
              0.2222222222222222,
              "#7201a8"
             ],
             [
              0.3333333333333333,
              "#9c179e"
             ],
             [
              0.4444444444444444,
              "#bd3786"
             ],
             [
              0.5555555555555556,
              "#d8576b"
             ],
             [
              0.6666666666666666,
              "#ed7953"
             ],
             [
              0.7777777777777778,
              "#fb9f3a"
             ],
             [
              0.8888888888888888,
              "#fdca26"
             ],
             [
              1,
              "#f0f921"
             ]
            ],
            "type": "heatmap"
           }
          ],
          "heatmapgl": [
           {
            "colorbar": {
             "outlinewidth": 0,
             "ticks": ""
            },
            "colorscale": [
             [
              0,
              "#0d0887"
             ],
             [
              0.1111111111111111,
              "#46039f"
             ],
             [
              0.2222222222222222,
              "#7201a8"
             ],
             [
              0.3333333333333333,
              "#9c179e"
             ],
             [
              0.4444444444444444,
              "#bd3786"
             ],
             [
              0.5555555555555556,
              "#d8576b"
             ],
             [
              0.6666666666666666,
              "#ed7953"
             ],
             [
              0.7777777777777778,
              "#fb9f3a"
             ],
             [
              0.8888888888888888,
              "#fdca26"
             ],
             [
              1,
              "#f0f921"
             ]
            ],
            "type": "heatmapgl"
           }
          ],
          "histogram": [
           {
            "marker": {
             "colorbar": {
              "outlinewidth": 0,
              "ticks": ""
             }
            },
            "type": "histogram"
           }
          ],
          "histogram2d": [
           {
            "colorbar": {
             "outlinewidth": 0,
             "ticks": ""
            },
            "colorscale": [
             [
              0,
              "#0d0887"
             ],
             [
              0.1111111111111111,
              "#46039f"
             ],
             [
              0.2222222222222222,
              "#7201a8"
             ],
             [
              0.3333333333333333,
              "#9c179e"
             ],
             [
              0.4444444444444444,
              "#bd3786"
             ],
             [
              0.5555555555555556,
              "#d8576b"
             ],
             [
              0.6666666666666666,
              "#ed7953"
             ],
             [
              0.7777777777777778,
              "#fb9f3a"
             ],
             [
              0.8888888888888888,
              "#fdca26"
             ],
             [
              1,
              "#f0f921"
             ]
            ],
            "type": "histogram2d"
           }
          ],
          "histogram2dcontour": [
           {
            "colorbar": {
             "outlinewidth": 0,
             "ticks": ""
            },
            "colorscale": [
             [
              0,
              "#0d0887"
             ],
             [
              0.1111111111111111,
              "#46039f"
             ],
             [
              0.2222222222222222,
              "#7201a8"
             ],
             [
              0.3333333333333333,
              "#9c179e"
             ],
             [
              0.4444444444444444,
              "#bd3786"
             ],
             [
              0.5555555555555556,
              "#d8576b"
             ],
             [
              0.6666666666666666,
              "#ed7953"
             ],
             [
              0.7777777777777778,
              "#fb9f3a"
             ],
             [
              0.8888888888888888,
              "#fdca26"
             ],
             [
              1,
              "#f0f921"
             ]
            ],
            "type": "histogram2dcontour"
           }
          ],
          "mesh3d": [
           {
            "colorbar": {
             "outlinewidth": 0,
             "ticks": ""
            },
            "type": "mesh3d"
           }
          ],
          "parcoords": [
           {
            "line": {
             "colorbar": {
              "outlinewidth": 0,
              "ticks": ""
             }
            },
            "type": "parcoords"
           }
          ],
          "pie": [
           {
            "automargin": true,
            "type": "pie"
           }
          ],
          "scatter": [
           {
            "marker": {
             "colorbar": {
              "outlinewidth": 0,
              "ticks": ""
             }
            },
            "type": "scatter"
           }
          ],
          "scatter3d": [
           {
            "line": {
             "colorbar": {
              "outlinewidth": 0,
              "ticks": ""
             }
            },
            "marker": {
             "colorbar": {
              "outlinewidth": 0,
              "ticks": ""
             }
            },
            "type": "scatter3d"
           }
          ],
          "scattercarpet": [
           {
            "marker": {
             "colorbar": {
              "outlinewidth": 0,
              "ticks": ""
             }
            },
            "type": "scattercarpet"
           }
          ],
          "scattergeo": [
           {
            "marker": {
             "colorbar": {
              "outlinewidth": 0,
              "ticks": ""
             }
            },
            "type": "scattergeo"
           }
          ],
          "scattergl": [
           {
            "marker": {
             "colorbar": {
              "outlinewidth": 0,
              "ticks": ""
             }
            },
            "type": "scattergl"
           }
          ],
          "scattermapbox": [
           {
            "marker": {
             "colorbar": {
              "outlinewidth": 0,
              "ticks": ""
             }
            },
            "type": "scattermapbox"
           }
          ],
          "scatterpolar": [
           {
            "marker": {
             "colorbar": {
              "outlinewidth": 0,
              "ticks": ""
             }
            },
            "type": "scatterpolar"
           }
          ],
          "scatterpolargl": [
           {
            "marker": {
             "colorbar": {
              "outlinewidth": 0,
              "ticks": ""
             }
            },
            "type": "scatterpolargl"
           }
          ],
          "scatterternary": [
           {
            "marker": {
             "colorbar": {
              "outlinewidth": 0,
              "ticks": ""
             }
            },
            "type": "scatterternary"
           }
          ],
          "surface": [
           {
            "colorbar": {
             "outlinewidth": 0,
             "ticks": ""
            },
            "colorscale": [
             [
              0,
              "#0d0887"
             ],
             [
              0.1111111111111111,
              "#46039f"
             ],
             [
              0.2222222222222222,
              "#7201a8"
             ],
             [
              0.3333333333333333,
              "#9c179e"
             ],
             [
              0.4444444444444444,
              "#bd3786"
             ],
             [
              0.5555555555555556,
              "#d8576b"
             ],
             [
              0.6666666666666666,
              "#ed7953"
             ],
             [
              0.7777777777777778,
              "#fb9f3a"
             ],
             [
              0.8888888888888888,
              "#fdca26"
             ],
             [
              1,
              "#f0f921"
             ]
            ],
            "type": "surface"
           }
          ],
          "table": [
           {
            "cells": {
             "fill": {
              "color": "#EBF0F8"
             },
             "line": {
              "color": "white"
             }
            },
            "header": {
             "fill": {
              "color": "#C8D4E3"
             },
             "line": {
              "color": "white"
             }
            },
            "type": "table"
           }
          ]
         },
         "layout": {
          "annotationdefaults": {
           "arrowcolor": "#2a3f5f",
           "arrowhead": 0,
           "arrowwidth": 1
          },
          "coloraxis": {
           "colorbar": {
            "outlinewidth": 0,
            "ticks": ""
           }
          },
          "colorscale": {
           "diverging": [
            [
             0,
             "#8e0152"
            ],
            [
             0.1,
             "#c51b7d"
            ],
            [
             0.2,
             "#de77ae"
            ],
            [
             0.3,
             "#f1b6da"
            ],
            [
             0.4,
             "#fde0ef"
            ],
            [
             0.5,
             "#f7f7f7"
            ],
            [
             0.6,
             "#e6f5d0"
            ],
            [
             0.7,
             "#b8e186"
            ],
            [
             0.8,
             "#7fbc41"
            ],
            [
             0.9,
             "#4d9221"
            ],
            [
             1,
             "#276419"
            ]
           ],
           "sequential": [
            [
             0,
             "#0d0887"
            ],
            [
             0.1111111111111111,
             "#46039f"
            ],
            [
             0.2222222222222222,
             "#7201a8"
            ],
            [
             0.3333333333333333,
             "#9c179e"
            ],
            [
             0.4444444444444444,
             "#bd3786"
            ],
            [
             0.5555555555555556,
             "#d8576b"
            ],
            [
             0.6666666666666666,
             "#ed7953"
            ],
            [
             0.7777777777777778,
             "#fb9f3a"
            ],
            [
             0.8888888888888888,
             "#fdca26"
            ],
            [
             1,
             "#f0f921"
            ]
           ],
           "sequentialminus": [
            [
             0,
             "#0d0887"
            ],
            [
             0.1111111111111111,
             "#46039f"
            ],
            [
             0.2222222222222222,
             "#7201a8"
            ],
            [
             0.3333333333333333,
             "#9c179e"
            ],
            [
             0.4444444444444444,
             "#bd3786"
            ],
            [
             0.5555555555555556,
             "#d8576b"
            ],
            [
             0.6666666666666666,
             "#ed7953"
            ],
            [
             0.7777777777777778,
             "#fb9f3a"
            ],
            [
             0.8888888888888888,
             "#fdca26"
            ],
            [
             1,
             "#f0f921"
            ]
           ]
          },
          "colorway": [
           "#636efa",
           "#EF553B",
           "#00cc96",
           "#ab63fa",
           "#FFA15A",
           "#19d3f3",
           "#FF6692",
           "#B6E880",
           "#FF97FF",
           "#FECB52"
          ],
          "font": {
           "color": "#2a3f5f"
          },
          "geo": {
           "bgcolor": "white",
           "lakecolor": "white",
           "landcolor": "#E5ECF6",
           "showlakes": true,
           "showland": true,
           "subunitcolor": "white"
          },
          "hoverlabel": {
           "align": "left"
          },
          "hovermode": "closest",
          "mapbox": {
           "style": "light"
          },
          "paper_bgcolor": "white",
          "plot_bgcolor": "#E5ECF6",
          "polar": {
           "angularaxis": {
            "gridcolor": "white",
            "linecolor": "white",
            "ticks": ""
           },
           "bgcolor": "#E5ECF6",
           "radialaxis": {
            "gridcolor": "white",
            "linecolor": "white",
            "ticks": ""
           }
          },
          "scene": {
           "xaxis": {
            "backgroundcolor": "#E5ECF6",
            "gridcolor": "white",
            "gridwidth": 2,
            "linecolor": "white",
            "showbackground": true,
            "ticks": "",
            "zerolinecolor": "white"
           },
           "yaxis": {
            "backgroundcolor": "#E5ECF6",
            "gridcolor": "white",
            "gridwidth": 2,
            "linecolor": "white",
            "showbackground": true,
            "ticks": "",
            "zerolinecolor": "white"
           },
           "zaxis": {
            "backgroundcolor": "#E5ECF6",
            "gridcolor": "white",
            "gridwidth": 2,
            "linecolor": "white",
            "showbackground": true,
            "ticks": "",
            "zerolinecolor": "white"
           }
          },
          "shapedefaults": {
           "line": {
            "color": "#2a3f5f"
           }
          },
          "ternary": {
           "aaxis": {
            "gridcolor": "white",
            "linecolor": "white",
            "ticks": ""
           },
           "baxis": {
            "gridcolor": "white",
            "linecolor": "white",
            "ticks": ""
           },
           "bgcolor": "#E5ECF6",
           "caxis": {
            "gridcolor": "white",
            "linecolor": "white",
            "ticks": ""
           }
          },
          "title": {
           "x": 0.05
          },
          "xaxis": {
           "automargin": true,
           "gridcolor": "white",
           "linecolor": "white",
           "ticks": "",
           "title": {
            "standoff": 15
           },
           "zerolinecolor": "white",
           "zerolinewidth": 2
          },
          "yaxis": {
           "automargin": true,
           "gridcolor": "white",
           "linecolor": "white",
           "ticks": "",
           "title": {
            "standoff": 15
           },
           "zerolinecolor": "white",
           "zerolinewidth": 2
          }
         }
        },
        "xaxis": {
         "anchor": "y",
         "domain": [
          0,
          1
         ],
         "title": {
          "text": "first_date"
         }
        },
        "yaxis": {
         "anchor": "x",
         "domain": [
          0,
          1
         ],
         "title": {
          "text": "case14"
         }
        }
       }
      }
     },
     "metadata": {}
    }
   ],
   "source": [
    "fig = px.scatter(df100, x = 'first_date', y = 'case14',hover_name=\"state_id\", hover_data=[\"state_id\", \"CityName\"])\n",
    "fig.show()"
   ]
  },
  {
   "cell_type": "code",
   "execution_count": 131,
   "metadata": {},
   "outputs": [
    {
     "output_type": "execute_result",
     "data": {
      "text/plain": "<class 'statsmodels.iolib.summary.Summary'>\n\"\"\"\n                            OLS Regression Results                            \n==============================================================================\nDep. Variable:                death1m   R-squared:                       0.548\nModel:                            OLS   Adj. R-squared:                  0.508\nMethod:                 Least Squares   F-statistic:                     13.78\nDate:                Thu, 16 Jul 2020   Prob (F-statistic):           7.04e-40\nTime:                        01:11:53   Log-Likelihood:                -2542.1\nNo. Observations:                 347   AIC:                             5142.\nDf Residuals:                     318   BIC:                             5254.\nDf Model:                          28                                         \nCovariance Type:            nonrobust                                         \n================================================================================\n                   coef    std err          t      P>|t|      [0.025      0.975]\n--------------------------------------------------------------------------------\nconst        -3669.9698   1476.558     -2.485      0.013   -6575.027    -764.913\ndensity          0.0700      0.017      4.016      0.000       0.036       0.104\nACCESS2        -18.3712      9.423     -1.950      0.052     -36.910       0.167\nARTHRITIS       54.2767     22.847      2.376      0.018       9.325      99.228\nBINGE          -12.5649     13.052     -0.963      0.336     -38.243      13.114\nBPHIGH          -9.3097     17.197     -0.541      0.589     -43.144      24.525\nBPMED            2.0126     14.572      0.138      0.890     -26.657      30.682\nCANCER        -301.1822    128.983     -2.335      0.020    -554.950     -47.414\nCASTHMA        101.4600     39.344      2.579      0.010      24.053     178.867\nCHD            156.4860    129.306      1.210      0.227     -97.918     410.890\nCHECKUP         34.2346     12.075      2.835      0.005      10.478      57.991\nCHOLSCREEN      16.2200     14.540      1.116      0.265     -12.387      44.827\nCOLON_SCREEN    -5.4603     11.038     -0.495      0.621     -27.176      16.256\nCOPD          -214.9018     81.553     -2.635      0.009    -375.353     -54.451\nCOREM          -20.6168      6.596     -3.126      0.002     -33.593      -7.640\nCOREW           -9.7838      9.706     -1.008      0.314     -28.881       9.313\nCSMOKING       -11.2729     22.098     -0.510      0.610     -54.749      32.204\nDENTAL          28.2716      9.632      2.935      0.004       9.322      47.221\nDIABETES      -220.0813     49.898     -4.411      0.000    -318.253    -121.910\nHIGHCHOL        52.4393     20.434      2.566      0.011      12.237      92.642\nKIDNEY         224.6004    324.608      0.692      0.489    -414.050     863.250\nLPA             42.8368     14.199      3.017      0.003      14.901      70.773\nMAMMOUSE       -11.3209     13.584     -0.833      0.405     -38.047      15.406\nMHLTH          -56.4121     49.029     -1.151      0.251    -152.873      40.049\nOBESITY        -13.7422      9.963     -1.379      0.169     -33.344       5.860\nPHLTH           77.6734     58.009      1.339      0.182     -36.457     191.804\nSLEEP            3.9289     12.319      0.319      0.750     -20.307      28.165\nSTROKE          24.2206    186.244      0.130      0.897    -342.205     390.646\nTEETHLOST       24.4461     16.324      1.498      0.135      -7.670      56.562\n==============================================================================\nOmnibus:                      196.784   Durbin-Watson:                   1.995\nProb(Omnibus):                  0.000   Jarque-Bera (JB):             2164.951\nSkew:                           2.139   Prob(JB):                         0.00\nKurtosis:                      14.464   Cond. No.                     1.69e+05\n==============================================================================\n\nWarnings:\n[1] Standard Errors assume that the covariance matrix of the errors is correctly specified.\n[2] The condition number is large, 1.69e+05. This might indicate that there are\nstrong multicollinearity or other numerical problems.\n\"\"\"",
      "text/html": "<table class=\"simpletable\">\n<caption>OLS Regression Results</caption>\n<tr>\n  <th>Dep. Variable:</th>         <td>death1m</td>     <th>  R-squared:         </th> <td>   0.548</td>\n</tr>\n<tr>\n  <th>Model:</th>                   <td>OLS</td>       <th>  Adj. R-squared:    </th> <td>   0.508</td>\n</tr>\n<tr>\n  <th>Method:</th>             <td>Least Squares</td>  <th>  F-statistic:       </th> <td>   13.78</td>\n</tr>\n<tr>\n  <th>Date:</th>             <td>Thu, 16 Jul 2020</td> <th>  Prob (F-statistic):</th> <td>7.04e-40</td>\n</tr>\n<tr>\n  <th>Time:</th>                 <td>01:11:53</td>     <th>  Log-Likelihood:    </th> <td> -2542.1</td>\n</tr>\n<tr>\n  <th>No. Observations:</th>      <td>   347</td>      <th>  AIC:               </th> <td>   5142.</td>\n</tr>\n<tr>\n  <th>Df Residuals:</th>          <td>   318</td>      <th>  BIC:               </th> <td>   5254.</td>\n</tr>\n<tr>\n  <th>Df Model:</th>              <td>    28</td>      <th>                     </th>     <td> </td>   \n</tr>\n<tr>\n  <th>Covariance Type:</th>      <td>nonrobust</td>    <th>                     </th>     <td> </td>   \n</tr>\n</table>\n<table class=\"simpletable\">\n<tr>\n        <td></td>          <th>coef</th>     <th>std err</th>      <th>t</th>      <th>P>|t|</th>  <th>[0.025</th>    <th>0.975]</th>  \n</tr>\n<tr>\n  <th>const</th>        <td>-3669.9698</td> <td> 1476.558</td> <td>   -2.485</td> <td> 0.013</td> <td>-6575.027</td> <td> -764.913</td>\n</tr>\n<tr>\n  <th>density</th>      <td>    0.0700</td> <td>    0.017</td> <td>    4.016</td> <td> 0.000</td> <td>    0.036</td> <td>    0.104</td>\n</tr>\n<tr>\n  <th>ACCESS2</th>      <td>  -18.3712</td> <td>    9.423</td> <td>   -1.950</td> <td> 0.052</td> <td>  -36.910</td> <td>    0.167</td>\n</tr>\n<tr>\n  <th>ARTHRITIS</th>    <td>   54.2767</td> <td>   22.847</td> <td>    2.376</td> <td> 0.018</td> <td>    9.325</td> <td>   99.228</td>\n</tr>\n<tr>\n  <th>BINGE</th>        <td>  -12.5649</td> <td>   13.052</td> <td>   -0.963</td> <td> 0.336</td> <td>  -38.243</td> <td>   13.114</td>\n</tr>\n<tr>\n  <th>BPHIGH</th>       <td>   -9.3097</td> <td>   17.197</td> <td>   -0.541</td> <td> 0.589</td> <td>  -43.144</td> <td>   24.525</td>\n</tr>\n<tr>\n  <th>BPMED</th>        <td>    2.0126</td> <td>   14.572</td> <td>    0.138</td> <td> 0.890</td> <td>  -26.657</td> <td>   30.682</td>\n</tr>\n<tr>\n  <th>CANCER</th>       <td> -301.1822</td> <td>  128.983</td> <td>   -2.335</td> <td> 0.020</td> <td> -554.950</td> <td>  -47.414</td>\n</tr>\n<tr>\n  <th>CASTHMA</th>      <td>  101.4600</td> <td>   39.344</td> <td>    2.579</td> <td> 0.010</td> <td>   24.053</td> <td>  178.867</td>\n</tr>\n<tr>\n  <th>CHD</th>          <td>  156.4860</td> <td>  129.306</td> <td>    1.210</td> <td> 0.227</td> <td>  -97.918</td> <td>  410.890</td>\n</tr>\n<tr>\n  <th>CHECKUP</th>      <td>   34.2346</td> <td>   12.075</td> <td>    2.835</td> <td> 0.005</td> <td>   10.478</td> <td>   57.991</td>\n</tr>\n<tr>\n  <th>CHOLSCREEN</th>   <td>   16.2200</td> <td>   14.540</td> <td>    1.116</td> <td> 0.265</td> <td>  -12.387</td> <td>   44.827</td>\n</tr>\n<tr>\n  <th>COLON_SCREEN</th> <td>   -5.4603</td> <td>   11.038</td> <td>   -0.495</td> <td> 0.621</td> <td>  -27.176</td> <td>   16.256</td>\n</tr>\n<tr>\n  <th>COPD</th>         <td> -214.9018</td> <td>   81.553</td> <td>   -2.635</td> <td> 0.009</td> <td> -375.353</td> <td>  -54.451</td>\n</tr>\n<tr>\n  <th>COREM</th>        <td>  -20.6168</td> <td>    6.596</td> <td>   -3.126</td> <td> 0.002</td> <td>  -33.593</td> <td>   -7.640</td>\n</tr>\n<tr>\n  <th>COREW</th>        <td>   -9.7838</td> <td>    9.706</td> <td>   -1.008</td> <td> 0.314</td> <td>  -28.881</td> <td>    9.313</td>\n</tr>\n<tr>\n  <th>CSMOKING</th>     <td>  -11.2729</td> <td>   22.098</td> <td>   -0.510</td> <td> 0.610</td> <td>  -54.749</td> <td>   32.204</td>\n</tr>\n<tr>\n  <th>DENTAL</th>       <td>   28.2716</td> <td>    9.632</td> <td>    2.935</td> <td> 0.004</td> <td>    9.322</td> <td>   47.221</td>\n</tr>\n<tr>\n  <th>DIABETES</th>     <td> -220.0813</td> <td>   49.898</td> <td>   -4.411</td> <td> 0.000</td> <td> -318.253</td> <td> -121.910</td>\n</tr>\n<tr>\n  <th>HIGHCHOL</th>     <td>   52.4393</td> <td>   20.434</td> <td>    2.566</td> <td> 0.011</td> <td>   12.237</td> <td>   92.642</td>\n</tr>\n<tr>\n  <th>KIDNEY</th>       <td>  224.6004</td> <td>  324.608</td> <td>    0.692</td> <td> 0.489</td> <td> -414.050</td> <td>  863.250</td>\n</tr>\n<tr>\n  <th>LPA</th>          <td>   42.8368</td> <td>   14.199</td> <td>    3.017</td> <td> 0.003</td> <td>   14.901</td> <td>   70.773</td>\n</tr>\n<tr>\n  <th>MAMMOUSE</th>     <td>  -11.3209</td> <td>   13.584</td> <td>   -0.833</td> <td> 0.405</td> <td>  -38.047</td> <td>   15.406</td>\n</tr>\n<tr>\n  <th>MHLTH</th>        <td>  -56.4121</td> <td>   49.029</td> <td>   -1.151</td> <td> 0.251</td> <td> -152.873</td> <td>   40.049</td>\n</tr>\n<tr>\n  <th>OBESITY</th>      <td>  -13.7422</td> <td>    9.963</td> <td>   -1.379</td> <td> 0.169</td> <td>  -33.344</td> <td>    5.860</td>\n</tr>\n<tr>\n  <th>PHLTH</th>        <td>   77.6734</td> <td>   58.009</td> <td>    1.339</td> <td> 0.182</td> <td>  -36.457</td> <td>  191.804</td>\n</tr>\n<tr>\n  <th>SLEEP</th>        <td>    3.9289</td> <td>   12.319</td> <td>    0.319</td> <td> 0.750</td> <td>  -20.307</td> <td>   28.165</td>\n</tr>\n<tr>\n  <th>STROKE</th>       <td>   24.2206</td> <td>  186.244</td> <td>    0.130</td> <td> 0.897</td> <td> -342.205</td> <td>  390.646</td>\n</tr>\n<tr>\n  <th>TEETHLOST</th>    <td>   24.4461</td> <td>   16.324</td> <td>    1.498</td> <td> 0.135</td> <td>   -7.670</td> <td>   56.562</td>\n</tr>\n</table>\n<table class=\"simpletable\">\n<tr>\n  <th>Omnibus:</th>       <td>196.784</td> <th>  Durbin-Watson:     </th> <td>   1.995</td>\n</tr>\n<tr>\n  <th>Prob(Omnibus):</th> <td> 0.000</td>  <th>  Jarque-Bera (JB):  </th> <td>2164.951</td>\n</tr>\n<tr>\n  <th>Skew:</th>          <td> 2.139</td>  <th>  Prob(JB):          </th> <td>    0.00</td>\n</tr>\n<tr>\n  <th>Kurtosis:</th>      <td>14.464</td>  <th>  Cond. No.          </th> <td>1.69e+05</td>\n</tr>\n</table><br/><br/>Warnings:<br/>[1] Standard Errors assume that the covariance matrix of the errors is correctly specified.<br/>[2] The condition number is large, 1.69e+05. This might indicate that there are<br/>strong multicollinearity or other numerical problems."
     },
     "metadata": {},
     "execution_count": 131
    }
   ],
   "source": [
    "test = df100.copy()\n",
    "X = test.drop(columns = ['county_fips','CityName','state_id','case1m', 'death1m','PAPTEST','first_date','county_fips_number','case14','death14'])\n",
    "# y = test['death14']\n",
    "y = test['death1m']\n",
    "\n",
    "X_train, X_test, y_train, y_test = train_test_split(X, y, test_size = .30, random_state = 42)\n",
    "X2 = sm.add_constant(X_train)\n",
    "est = sm.OLS(y_train, X2)\n",
    "est = est.fit()\n",
    "est.summary()"
   ]
  },
  {
   "cell_type": "code",
   "execution_count": 76,
   "metadata": {},
   "outputs": [],
   "source": [
    "# df100.loc[df100['death1m'] <= 2000]"
   ]
  },
  {
   "cell_type": "code",
   "execution_count": 132,
   "metadata": {
    "tags": []
   },
   "outputs": [
    {
     "output_type": "stream",
     "name": "stdout",
     "text": "r2-score on test data:  0.2356\n"
    }
   ],
   "source": [
    "r2 = r2_score(y_test, est.predict(sm.add_constant(X_test)))\n",
    "print('r2-score on test data: ', round(r2,4))"
   ]
  },
  {
   "cell_type": "code",
   "execution_count": 133,
   "metadata": {},
   "outputs": [
    {
     "output_type": "execute_result",
     "data": {
      "text/plain": "                coef   std err      t  P>|t|    [0.025   0.975]\nconst     -3669.9698  1476.558 -2.485  0.013 -6575.027 -764.913\ndensity    0.0700     0.017     4.016  0.000  0.036     0.104  \nACCESS2   -18.3712    9.423    -1.950  0.052 -36.910    0.167  \nARTHRITIS  54.2767    22.847    2.376  0.018  9.325     99.228 \nCANCER    -301.1822   128.983  -2.335  0.020 -554.950  -47.414 \nCASTHMA    101.4600   39.344    2.579  0.010  24.053    178.867\nCHECKUP    34.2346    12.075    2.835  0.005  10.478    57.991 \nCOPD      -214.9018   81.553   -2.635  0.009 -375.353  -54.451 \nCOREM     -20.6168    6.596    -3.126  0.002 -33.593   -7.640  \nDENTAL     28.2716    9.632     2.935  0.004  9.322     47.221 \nDIABETES  -220.0813   49.898   -4.411  0.000 -318.253  -121.910\nHIGHCHOL   52.4393    20.434    2.566  0.011  12.237    92.642 \nLPA        42.8368    14.199    3.017  0.003  14.901    70.773 ",
      "text/html": "<div>\n<style scoped>\n    .dataframe tbody tr th:only-of-type {\n        vertical-align: middle;\n    }\n\n    .dataframe tbody tr th {\n        vertical-align: top;\n    }\n\n    .dataframe thead th {\n        text-align: right;\n    }\n</style>\n<table border=\"1\" class=\"dataframe\">\n  <thead>\n    <tr style=\"text-align: right;\">\n      <th></th>\n      <th>coef</th>\n      <th>std err</th>\n      <th>t</th>\n      <th>P&gt;|t|</th>\n      <th>[0.025</th>\n      <th>0.975]</th>\n    </tr>\n  </thead>\n  <tbody>\n    <tr>\n      <th>const</th>\n      <td>-3669.9698</td>\n      <td>1476.558</td>\n      <td>-2.485</td>\n      <td>0.013</td>\n      <td>-6575.027</td>\n      <td>-764.913</td>\n    </tr>\n    <tr>\n      <th>density</th>\n      <td>0.0700</td>\n      <td>0.017</td>\n      <td>4.016</td>\n      <td>0.000</td>\n      <td>0.036</td>\n      <td>0.104</td>\n    </tr>\n    <tr>\n      <th>ACCESS2</th>\n      <td>-18.3712</td>\n      <td>9.423</td>\n      <td>-1.950</td>\n      <td>0.052</td>\n      <td>-36.910</td>\n      <td>0.167</td>\n    </tr>\n    <tr>\n      <th>ARTHRITIS</th>\n      <td>54.2767</td>\n      <td>22.847</td>\n      <td>2.376</td>\n      <td>0.018</td>\n      <td>9.325</td>\n      <td>99.228</td>\n    </tr>\n    <tr>\n      <th>CANCER</th>\n      <td>-301.1822</td>\n      <td>128.983</td>\n      <td>-2.335</td>\n      <td>0.020</td>\n      <td>-554.950</td>\n      <td>-47.414</td>\n    </tr>\n    <tr>\n      <th>CASTHMA</th>\n      <td>101.4600</td>\n      <td>39.344</td>\n      <td>2.579</td>\n      <td>0.010</td>\n      <td>24.053</td>\n      <td>178.867</td>\n    </tr>\n    <tr>\n      <th>CHECKUP</th>\n      <td>34.2346</td>\n      <td>12.075</td>\n      <td>2.835</td>\n      <td>0.005</td>\n      <td>10.478</td>\n      <td>57.991</td>\n    </tr>\n    <tr>\n      <th>COPD</th>\n      <td>-214.9018</td>\n      <td>81.553</td>\n      <td>-2.635</td>\n      <td>0.009</td>\n      <td>-375.353</td>\n      <td>-54.451</td>\n    </tr>\n    <tr>\n      <th>COREM</th>\n      <td>-20.6168</td>\n      <td>6.596</td>\n      <td>-3.126</td>\n      <td>0.002</td>\n      <td>-33.593</td>\n      <td>-7.640</td>\n    </tr>\n    <tr>\n      <th>DENTAL</th>\n      <td>28.2716</td>\n      <td>9.632</td>\n      <td>2.935</td>\n      <td>0.004</td>\n      <td>9.322</td>\n      <td>47.221</td>\n    </tr>\n    <tr>\n      <th>DIABETES</th>\n      <td>-220.0813</td>\n      <td>49.898</td>\n      <td>-4.411</td>\n      <td>0.000</td>\n      <td>-318.253</td>\n      <td>-121.910</td>\n    </tr>\n    <tr>\n      <th>HIGHCHOL</th>\n      <td>52.4393</td>\n      <td>20.434</td>\n      <td>2.566</td>\n      <td>0.011</td>\n      <td>12.237</td>\n      <td>92.642</td>\n    </tr>\n    <tr>\n      <th>LPA</th>\n      <td>42.8368</td>\n      <td>14.199</td>\n      <td>3.017</td>\n      <td>0.003</td>\n      <td>14.901</td>\n      <td>70.773</td>\n    </tr>\n  </tbody>\n</table>\n</div>"
     },
     "metadata": {},
     "execution_count": 133
    }
   ],
   "source": [
    "ols_coef = pd.read_html(est.summary().tables[1].as_html(),header=0,index_col=0)[0]\n",
    "ols_coef.loc[ols_coef['P>|t|'] < 0.1]"
   ]
  },
  {
   "cell_type": "code",
   "execution_count": 129,
   "metadata": {},
   "outputs": [
    {
     "output_type": "execute_result",
     "data": {
      "text/plain": "       MeasureId  \\\n4   TEETHLOST      \n8   CASTHMA        \n9   DIABETES       \n18  COPD           \n25  PHLTH          \n10  ACCESS2        \n11  COLON_SCREEN   \n23  CHECKUP        \n27  COREM          \n12  CSMOKING       \n\n                                                                                                                                                             Measure  \\\n4   All teeth lost among adults aged >=65 Years                                                                                                                        \n8   Current asthma among adults aged >=18 Years                                                                                                                        \n9   Diagnosed diabetes among adults aged >=18 Years                                                                                                                    \n18  Chronic obstructive pulmonary disease among adults aged >=18 Years                                                                                                 \n25  Physical health not good for >=14 days among adults aged >=18 Years                                                                                                \n10  Current lack of health insurance among adults aged 18–64 Years                                                                                                     \n11  Fecal occult blood test, sigmoidoscopy, or colonoscopy among adults aged 50–75 Years                                                                               \n23  Visits to doctor for routine checkup within the past Year among adults aged >=18 Years                                                                             \n27  Older adult men aged >=65 Years who are up to date on a core set of clinical preventive services: Flu shot past Year, PPV shot ever, Colorectal cancer screening   \n12  Current smoking among adults aged >=18 Years                                                                                                                       \n\n               Category  \n4   Health Outcomes      \n8   Health Outcomes      \n9   Health Outcomes      \n18  Health Outcomes      \n25  Health Outcomes      \n10  Prevention           \n11  Prevention           \n23  Prevention           \n27  Prevention           \n12  Unhealthy Behaviors  ",
      "text/html": "<div>\n<style scoped>\n    .dataframe tbody tr th:only-of-type {\n        vertical-align: middle;\n    }\n\n    .dataframe tbody tr th {\n        vertical-align: top;\n    }\n\n    .dataframe thead th {\n        text-align: right;\n    }\n</style>\n<table border=\"1\" class=\"dataframe\">\n  <thead>\n    <tr style=\"text-align: right;\">\n      <th></th>\n      <th>MeasureId</th>\n      <th>Measure</th>\n      <th>Category</th>\n    </tr>\n  </thead>\n  <tbody>\n    <tr>\n      <th>4</th>\n      <td>TEETHLOST</td>\n      <td>All teeth lost among adults aged &gt;=65 Years</td>\n      <td>Health Outcomes</td>\n    </tr>\n    <tr>\n      <th>8</th>\n      <td>CASTHMA</td>\n      <td>Current asthma among adults aged &gt;=18 Years</td>\n      <td>Health Outcomes</td>\n    </tr>\n    <tr>\n      <th>9</th>\n      <td>DIABETES</td>\n      <td>Diagnosed diabetes among adults aged &gt;=18 Years</td>\n      <td>Health Outcomes</td>\n    </tr>\n    <tr>\n      <th>18</th>\n      <td>COPD</td>\n      <td>Chronic obstructive pulmonary disease among adults aged &gt;=18 Years</td>\n      <td>Health Outcomes</td>\n    </tr>\n    <tr>\n      <th>25</th>\n      <td>PHLTH</td>\n      <td>Physical health not good for &gt;=14 days among adults aged &gt;=18 Years</td>\n      <td>Health Outcomes</td>\n    </tr>\n    <tr>\n      <th>10</th>\n      <td>ACCESS2</td>\n      <td>Current lack of health insurance among adults aged 18–64 Years</td>\n      <td>Prevention</td>\n    </tr>\n    <tr>\n      <th>11</th>\n      <td>COLON_SCREEN</td>\n      <td>Fecal occult blood test, sigmoidoscopy, or colonoscopy among adults aged 50–75 Years</td>\n      <td>Prevention</td>\n    </tr>\n    <tr>\n      <th>23</th>\n      <td>CHECKUP</td>\n      <td>Visits to doctor for routine checkup within the past Year among adults aged &gt;=18 Years</td>\n      <td>Prevention</td>\n    </tr>\n    <tr>\n      <th>27</th>\n      <td>COREM</td>\n      <td>Older adult men aged &gt;=65 Years who are up to date on a core set of clinical preventive services: Flu shot past Year, PPV shot ever, Colorectal cancer screening</td>\n      <td>Prevention</td>\n    </tr>\n    <tr>\n      <th>12</th>\n      <td>CSMOKING</td>\n      <td>Current smoking among adults aged &gt;=18 Years</td>\n      <td>Unhealthy Behaviors</td>\n    </tr>\n  </tbody>\n</table>\n</div>"
     },
     "metadata": {},
     "execution_count": 129
    }
   ],
   "source": [
    "p = est.pvalues\n",
    "significant_vars = p.loc[p < 0.10].index.tolist()\n",
    "lookup.loc[lookup['MeasureId'].isin(significant_vars)][['MeasureId','Measure', 'Category']].sort_values(by = 'Category')"
   ]
  },
  {
   "cell_type": "code",
   "execution_count": null,
   "metadata": {},
   "outputs": [],
   "source": []
  }
 ],
 "metadata": {
  "language_info": {
   "codemirror_mode": {
    "name": "ipython",
    "version": 3
   },
   "file_extension": ".py",
   "mimetype": "text/x-python",
   "name": "python",
   "nbconvert_exporter": "python",
   "pygments_lexer": "ipython3",
   "version": "3.7.4-final"
  },
  "orig_nbformat": 2,
  "kernelspec": {
   "name": "python37464bit57b6f9ccbb32478090b08801bfad4612",
   "display_name": "Python 3.7.4 64-bit"
  }
 },
 "nbformat": 4,
 "nbformat_minor": 2
}