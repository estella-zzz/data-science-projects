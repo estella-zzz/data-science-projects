{
 "cells": [
  {
   "cell_type": "code",
   "execution_count": 1,
   "metadata": {},
   "outputs": [],
   "source": [
    "## Import packages\n",
    "import pandas as pd\n",
    "import numpy as np\n",
    "import plotly\n",
    "from sqlalchemy import create_engine\n",
    "import seaborn as sns\n",
    "import statsmodels.api as sm\n",
    "from sklearn.model_selection import train_test_split\n",
    "from sklearn.metrics import r2_score\n",
    "import lxml\n",
    "import plotly.express as px"
   ]
  },
  {
   "cell_type": "code",
   "execution_count": 2,
   "metadata": {
    "tags": []
   },
   "outputs": [],
   "source": [
    "## Read covid and measure lookup data\n",
    "engine = create_engine('sqlite:///%s' % '../data/coviddb')\n",
    "df = pd.read_sql_table('Covid100', engine)\n",
    "lookup = pd.read_sql_table('MeasureLookup', engine)"
   ]
  },
  {
   "cell_type": "code",
   "execution_count": 3,
   "metadata": {},
   "outputs": [
    {
     "output_type": "execute_result",
     "data": {
      "text/plain": "                     MeasureId\nCategory                      \nHealth Outcomes             13\nPrevention                  10\nUnhealthy Behaviors          5",
      "text/html": "<div>\n<style scoped>\n    .dataframe tbody tr th:only-of-type {\n        vertical-align: middle;\n    }\n\n    .dataframe tbody tr th {\n        vertical-align: top;\n    }\n\n    .dataframe thead th {\n        text-align: right;\n    }\n</style>\n<table border=\"1\" class=\"dataframe\">\n  <thead>\n    <tr style=\"text-align: right;\">\n      <th></th>\n      <th>MeasureId</th>\n    </tr>\n    <tr>\n      <th>Category</th>\n      <th></th>\n    </tr>\n  </thead>\n  <tbody>\n    <tr>\n      <th>Health Outcomes</th>\n      <td>13</td>\n    </tr>\n    <tr>\n      <th>Prevention</th>\n      <td>10</td>\n    </tr>\n    <tr>\n      <th>Unhealthy Behaviors</th>\n      <td>5</td>\n    </tr>\n  </tbody>\n</table>\n</div>"
     },
     "metadata": {},
     "execution_count": 3
    }
   ],
   "source": [
    "## Get measures summary\n",
    "categories = lookup.groupby('Category').agg({'MeasureId': 'count'})\n",
    "categories"
   ]
  },
  {
   "cell_type": "code",
   "execution_count": 4,
   "metadata": {},
   "outputs": [
    {
     "output_type": "execute_result",
     "data": {
      "text/plain": "       MeasureId                                            Measure  \\\n0         BPHIGH   High blood pressure among adults aged >=18 Years   \n1     CHOLSCREEN  Cholesterol screening among adults aged >=18 Y...   \n2       HIGHCHOL  High cholesterol among adults aged >=18 Years ...   \n3          BPMED  Taking medicine for high blood pressure contro...   \n4      TEETHLOST        All teeth lost among adults aged >=65 Years   \n5         STROKE                Stroke among adults aged >=18 Years   \n6        OBESITY               Obesity among adults aged >=18 Years   \n7      ARTHRITIS             Arthritis among adults aged >=18 Years   \n8        CASTHMA        Current asthma among adults aged >=18 Years   \n9       DIABETES    Diagnosed diabetes among adults aged >=18 Years   \n10       ACCESS2  Current lack of health insurance among adults ...   \n11  COLON_SCREEN  Fecal occult blood test, sigmoidoscopy, or col...   \n12      CSMOKING       Current smoking among adults aged >=18 Years   \n13         BINGE        Binge drinking among adults aged >=18 Years   \n14       PAPTEST  Papanicolaou smear use among adult women aged ...   \n15           LPA  No leisure-time physical activity among adults...   \n16      MAMMOUSE       Mammography use among women aged 50–74 Years   \n17        CANCER  Cancer (excluding skin cancer) among adults ag...   \n18          COPD  Chronic obstructive pulmonary disease among ad...   \n19         MHLTH  Mental health not good for >=14 days among adu...   \n20           CHD  Coronary heart disease among adults aged >=18 ...   \n21        DENTAL  Visits to dentist or dental clinic among adult...   \n22         SLEEP  Sleeping less than 7 hours among adults aged >...   \n23       CHECKUP  Visits to doctor for routine checkup within th...   \n24        KIDNEY  Chronic kidney disease among adults aged >=18 ...   \n25         PHLTH  Physical health not good for >=14 days among a...   \n26         COREW  Older adult women aged >=65 Years who are up t...   \n27         COREM  Older adult men aged >=65 Years who are up to ...   \n\n                         Short_Question_Text             Category  \n0                        High Blood Pressure      Health Outcomes  \n1                      Cholesterol Screening           Prevention  \n2                           High Cholesterol      Health Outcomes  \n3                       Taking BP Medication           Prevention  \n4                                 Teeth Loss      Health Outcomes  \n5                                     Stroke      Health Outcomes  \n6                                    Obesity  Unhealthy Behaviors  \n7                                  Arthritis      Health Outcomes  \n8                             Current Asthma      Health Outcomes  \n9                                   Diabetes      Health Outcomes  \n10                          Health Insurance           Prevention  \n11               Colorectal Cancer Screening           Prevention  \n12                           Current Smoking  Unhealthy Behaviors  \n13                            Binge Drinking  Unhealthy Behaviors  \n14                            Pap Smear Test           Prevention  \n15                       Physical Inactivity  Unhealthy Behaviors  \n16                               Mammography           Prevention  \n17                      Cancer (except skin)      Health Outcomes  \n18                                      COPD      Health Outcomes  \n19                             Mental Health      Health Outcomes  \n20                    Coronary Heart Disease      Health Outcomes  \n21                              Dental Visit           Prevention  \n22                            Sleep <7 hours  Unhealthy Behaviors  \n23                            Annual Checkup           Prevention  \n24                    Chronic Kidney Disease      Health Outcomes  \n25                           Physical Health      Health Outcomes  \n26  Core preventive services for older women           Prevention  \n27    Core preventive services for older men           Prevention  ",
      "text/html": "<div>\n<style scoped>\n    .dataframe tbody tr th:only-of-type {\n        vertical-align: middle;\n    }\n\n    .dataframe tbody tr th {\n        vertical-align: top;\n    }\n\n    .dataframe thead th {\n        text-align: right;\n    }\n</style>\n<table border=\"1\" class=\"dataframe\">\n  <thead>\n    <tr style=\"text-align: right;\">\n      <th></th>\n      <th>MeasureId</th>\n      <th>Measure</th>\n      <th>Short_Question_Text</th>\n      <th>Category</th>\n    </tr>\n  </thead>\n  <tbody>\n    <tr>\n      <th>0</th>\n      <td>BPHIGH</td>\n      <td>High blood pressure among adults aged &gt;=18 Years</td>\n      <td>High Blood Pressure</td>\n      <td>Health Outcomes</td>\n    </tr>\n    <tr>\n      <th>1</th>\n      <td>CHOLSCREEN</td>\n      <td>Cholesterol screening among adults aged &gt;=18 Y...</td>\n      <td>Cholesterol Screening</td>\n      <td>Prevention</td>\n    </tr>\n    <tr>\n      <th>2</th>\n      <td>HIGHCHOL</td>\n      <td>High cholesterol among adults aged &gt;=18 Years ...</td>\n      <td>High Cholesterol</td>\n      <td>Health Outcomes</td>\n    </tr>\n    <tr>\n      <th>3</th>\n      <td>BPMED</td>\n      <td>Taking medicine for high blood pressure contro...</td>\n      <td>Taking BP Medication</td>\n      <td>Prevention</td>\n    </tr>\n    <tr>\n      <th>4</th>\n      <td>TEETHLOST</td>\n      <td>All teeth lost among adults aged &gt;=65 Years</td>\n      <td>Teeth Loss</td>\n      <td>Health Outcomes</td>\n    </tr>\n    <tr>\n      <th>5</th>\n      <td>STROKE</td>\n      <td>Stroke among adults aged &gt;=18 Years</td>\n      <td>Stroke</td>\n      <td>Health Outcomes</td>\n    </tr>\n    <tr>\n      <th>6</th>\n      <td>OBESITY</td>\n      <td>Obesity among adults aged &gt;=18 Years</td>\n      <td>Obesity</td>\n      <td>Unhealthy Behaviors</td>\n    </tr>\n    <tr>\n      <th>7</th>\n      <td>ARTHRITIS</td>\n      <td>Arthritis among adults aged &gt;=18 Years</td>\n      <td>Arthritis</td>\n      <td>Health Outcomes</td>\n    </tr>\n    <tr>\n      <th>8</th>\n      <td>CASTHMA</td>\n      <td>Current asthma among adults aged &gt;=18 Years</td>\n      <td>Current Asthma</td>\n      <td>Health Outcomes</td>\n    </tr>\n    <tr>\n      <th>9</th>\n      <td>DIABETES</td>\n      <td>Diagnosed diabetes among adults aged &gt;=18 Years</td>\n      <td>Diabetes</td>\n      <td>Health Outcomes</td>\n    </tr>\n    <tr>\n      <th>10</th>\n      <td>ACCESS2</td>\n      <td>Current lack of health insurance among adults ...</td>\n      <td>Health Insurance</td>\n      <td>Prevention</td>\n    </tr>\n    <tr>\n      <th>11</th>\n      <td>COLON_SCREEN</td>\n      <td>Fecal occult blood test, sigmoidoscopy, or col...</td>\n      <td>Colorectal Cancer Screening</td>\n      <td>Prevention</td>\n    </tr>\n    <tr>\n      <th>12</th>\n      <td>CSMOKING</td>\n      <td>Current smoking among adults aged &gt;=18 Years</td>\n      <td>Current Smoking</td>\n      <td>Unhealthy Behaviors</td>\n    </tr>\n    <tr>\n      <th>13</th>\n      <td>BINGE</td>\n      <td>Binge drinking among adults aged &gt;=18 Years</td>\n      <td>Binge Drinking</td>\n      <td>Unhealthy Behaviors</td>\n    </tr>\n    <tr>\n      <th>14</th>\n      <td>PAPTEST</td>\n      <td>Papanicolaou smear use among adult women aged ...</td>\n      <td>Pap Smear Test</td>\n      <td>Prevention</td>\n    </tr>\n    <tr>\n      <th>15</th>\n      <td>LPA</td>\n      <td>No leisure-time physical activity among adults...</td>\n      <td>Physical Inactivity</td>\n      <td>Unhealthy Behaviors</td>\n    </tr>\n    <tr>\n      <th>16</th>\n      <td>MAMMOUSE</td>\n      <td>Mammography use among women aged 50–74 Years</td>\n      <td>Mammography</td>\n      <td>Prevention</td>\n    </tr>\n    <tr>\n      <th>17</th>\n      <td>CANCER</td>\n      <td>Cancer (excluding skin cancer) among adults ag...</td>\n      <td>Cancer (except skin)</td>\n      <td>Health Outcomes</td>\n    </tr>\n    <tr>\n      <th>18</th>\n      <td>COPD</td>\n      <td>Chronic obstructive pulmonary disease among ad...</td>\n      <td>COPD</td>\n      <td>Health Outcomes</td>\n    </tr>\n    <tr>\n      <th>19</th>\n      <td>MHLTH</td>\n      <td>Mental health not good for &gt;=14 days among adu...</td>\n      <td>Mental Health</td>\n      <td>Health Outcomes</td>\n    </tr>\n    <tr>\n      <th>20</th>\n      <td>CHD</td>\n      <td>Coronary heart disease among adults aged &gt;=18 ...</td>\n      <td>Coronary Heart Disease</td>\n      <td>Health Outcomes</td>\n    </tr>\n    <tr>\n      <th>21</th>\n      <td>DENTAL</td>\n      <td>Visits to dentist or dental clinic among adult...</td>\n      <td>Dental Visit</td>\n      <td>Prevention</td>\n    </tr>\n    <tr>\n      <th>22</th>\n      <td>SLEEP</td>\n      <td>Sleeping less than 7 hours among adults aged &gt;...</td>\n      <td>Sleep &lt;7 hours</td>\n      <td>Unhealthy Behaviors</td>\n    </tr>\n    <tr>\n      <th>23</th>\n      <td>CHECKUP</td>\n      <td>Visits to doctor for routine checkup within th...</td>\n      <td>Annual Checkup</td>\n      <td>Prevention</td>\n    </tr>\n    <tr>\n      <th>24</th>\n      <td>KIDNEY</td>\n      <td>Chronic kidney disease among adults aged &gt;=18 ...</td>\n      <td>Chronic Kidney Disease</td>\n      <td>Health Outcomes</td>\n    </tr>\n    <tr>\n      <th>25</th>\n      <td>PHLTH</td>\n      <td>Physical health not good for &gt;=14 days among a...</td>\n      <td>Physical Health</td>\n      <td>Health Outcomes</td>\n    </tr>\n    <tr>\n      <th>26</th>\n      <td>COREW</td>\n      <td>Older adult women aged &gt;=65 Years who are up t...</td>\n      <td>Core preventive services for older women</td>\n      <td>Prevention</td>\n    </tr>\n    <tr>\n      <th>27</th>\n      <td>COREM</td>\n      <td>Older adult men aged &gt;=65 Years who are up to ...</td>\n      <td>Core preventive services for older men</td>\n      <td>Prevention</td>\n    </tr>\n  </tbody>\n</table>\n</div>"
     },
     "metadata": {},
     "execution_count": 4
    }
   ],
   "source": [
    "## Measure overview\n",
    "lookup"
   ]
  },
  {
   "cell_type": "code",
   "execution_count": 5,
   "metadata": {},
   "outputs": [
    {
     "output_type": "execute_result",
     "data": {
      "text/plain": "(497, 38)"
     },
     "metadata": {},
     "execution_count": 5
    }
   ],
   "source": [
    "df.shape"
   ]
  },
  {
   "cell_type": "code",
   "execution_count": 6,
   "metadata": {},
   "outputs": [
    {
     "output_type": "execute_result",
     "data": {
      "text/plain": "<matplotlib.axes._subplots.AxesSubplot at 0x1288c7cd0>"
     },
     "metadata": {},
     "execution_count": 6
    },
    {
     "output_type": "display_data",
     "data": {
      "text/plain": "<Figure size 432x288 with 1 Axes>",
      "image/svg+xml": "<?xml version=\"1.0\" encoding=\"utf-8\" standalone=\"no\"?>\n<!DOCTYPE svg PUBLIC \"-//W3C//DTD SVG 1.1//EN\"\n  \"http://www.w3.org/Graphics/SVG/1.1/DTD/svg11.dtd\">\n<!-- Created with matplotlib (https://matplotlib.org/) -->\n<svg height=\"248.518125pt\" version=\"1.1\" viewBox=\"0 0 402.554938 248.518125\" width=\"402.554938pt\" xmlns=\"http://www.w3.org/2000/svg\" xmlns:xlink=\"http://www.w3.org/1999/xlink\">\n <defs>\n  <style type=\"text/css\">\n*{stroke-linecap:butt;stroke-linejoin:round;}\n  </style>\n </defs>\n <g id=\"figure_1\">\n  <g id=\"patch_1\">\n   <path d=\"M 0 248.518125 \nL 402.554938 248.518125 \nL 402.554938 0 \nL 0 0 \nz\n\" style=\"fill:none;\"/>\n  </g>\n  <g id=\"axes_1\">\n   <g id=\"patch_2\">\n    <path d=\"M 33.2875 224.64 \nL 368.0875 224.64 \nL 368.0875 7.2 \nL 33.2875 7.2 \nz\n\" style=\"fill:#ffffff;\"/>\n   </g>\n   <g id=\"patch_3\">\n    <path clip-path=\"url(#pf89bf61790)\" d=\"M 48.505682 224.64 \nL 78.942045 224.64 \nL 78.942045 157.162632 \nL 48.505682 157.162632 \nz\n\" style=\"fill:#1f77b4;\"/>\n   </g>\n   <g id=\"patch_4\">\n    <path clip-path=\"url(#pf89bf61790)\" d=\"M 78.942045 224.64 \nL 109.378409 224.64 \nL 109.378409 216.49618 \nL 78.942045 216.49618 \nz\n\" style=\"fill:#1f77b4;\"/>\n   </g>\n   <g id=\"patch_5\">\n    <path clip-path=\"url(#pf89bf61790)\" d=\"M 109.378409 224.64 \nL 139.814773 224.64 \nL 139.814773 214.169374 \nL 109.378409 214.169374 \nz\n\" style=\"fill:#1f77b4;\"/>\n   </g>\n   <g id=\"patch_6\">\n    <path clip-path=\"url(#pf89bf61790)\" d=\"M 139.814773 224.64 \nL 170.251136 224.64 \nL 170.251136 222.313194 \nL 139.814773 222.313194 \nz\n\" style=\"fill:#1f77b4;\"/>\n   </g>\n   <g id=\"patch_7\">\n    <path clip-path=\"url(#pf89bf61790)\" d=\"M 170.251136 224.64 \nL 200.6875 224.64 \nL 200.6875 219.986388 \nL 170.251136 219.986388 \nz\n\" style=\"fill:#1f77b4;\"/>\n   </g>\n   <g id=\"patch_8\">\n    <path clip-path=\"url(#pf89bf61790)\" d=\"M 200.6875 224.64 \nL 231.123864 224.64 \nL 231.123864 190.901316 \nL 200.6875 190.901316 \nz\n\" style=\"fill:#1f77b4;\"/>\n   </g>\n   <g id=\"patch_9\">\n    <path clip-path=\"url(#pf89bf61790)\" d=\"M 231.123864 224.64 \nL 261.560227 224.64 \nL 261.560227 118.770337 \nL 231.123864 118.770337 \nz\n\" style=\"fill:#1f77b4;\"/>\n   </g>\n   <g id=\"patch_10\">\n    <path clip-path=\"url(#pf89bf61790)\" d=\"M 261.560227 224.64 \nL 291.996591 224.64 \nL 291.996591 17.554286 \nL 261.560227 17.554286 \nz\n\" style=\"fill:#1f77b4;\"/>\n   </g>\n   <g id=\"patch_11\">\n    <path clip-path=\"url(#pf89bf61790)\" d=\"M 291.996591 224.64 \nL 322.432955 224.64 \nL 322.432955 114.116726 \nL 291.996591 114.116726 \nz\n\" style=\"fill:#1f77b4;\"/>\n   </g>\n   <g id=\"patch_12\">\n    <path clip-path=\"url(#pf89bf61790)\" d=\"M 322.432955 224.64 \nL 352.869318 224.64 \nL 352.869318 196.718331 \nL 322.432955 196.718331 \nz\n\" style=\"fill:#1f77b4;\"/>\n   </g>\n   <g id=\"matplotlib.axis_1\">\n    <g id=\"xtick_1\">\n     <g id=\"line2d_1\">\n      <path clip-path=\"url(#pf89bf61790)\" d=\"M 97.740976 224.64 \nL 97.740976 7.2 \n\" style=\"fill:none;stroke:#b0b0b0;stroke-linecap:square;stroke-width:0.8;\"/>\n     </g>\n     <g id=\"line2d_2\">\n      <defs>\n       <path d=\"M 0 0 \nL 0 3.5 \n\" id=\"m0cd49cf2fb\" style=\"stroke:#000000;stroke-width:0.8;\"/>\n      </defs>\n      <g>\n       <use style=\"stroke:#000000;stroke-width:0.8;\" x=\"97.740976\" xlink:href=\"#m0cd49cf2fb\" y=\"224.64\"/>\n      </g>\n     </g>\n     <g id=\"text_1\">\n      <!-- 2020-02-01 -->\n      <defs>\n       <path d=\"M 19.1875 8.296875 \nL 53.609375 8.296875 \nL 53.609375 0 \nL 7.328125 0 \nL 7.328125 8.296875 \nQ 12.9375 14.109375 22.625 23.890625 \nQ 32.328125 33.6875 34.8125 36.53125 \nQ 39.546875 41.84375 41.421875 45.53125 \nQ 43.3125 49.21875 43.3125 52.78125 \nQ 43.3125 58.59375 39.234375 62.25 \nQ 35.15625 65.921875 28.609375 65.921875 \nQ 23.96875 65.921875 18.8125 64.3125 \nQ 13.671875 62.703125 7.8125 59.421875 \nL 7.8125 69.390625 \nQ 13.765625 71.78125 18.9375 73 \nQ 24.125 74.21875 28.421875 74.21875 \nQ 39.75 74.21875 46.484375 68.546875 \nQ 53.21875 62.890625 53.21875 53.421875 \nQ 53.21875 48.921875 51.53125 44.890625 \nQ 49.859375 40.875 45.40625 35.40625 \nQ 44.1875 33.984375 37.640625 27.21875 \nQ 31.109375 20.453125 19.1875 8.296875 \nz\n\" id=\"DejaVuSans-50\"/>\n       <path d=\"M 31.78125 66.40625 \nQ 24.171875 66.40625 20.328125 58.90625 \nQ 16.5 51.421875 16.5 36.375 \nQ 16.5 21.390625 20.328125 13.890625 \nQ 24.171875 6.390625 31.78125 6.390625 \nQ 39.453125 6.390625 43.28125 13.890625 \nQ 47.125 21.390625 47.125 36.375 \nQ 47.125 51.421875 43.28125 58.90625 \nQ 39.453125 66.40625 31.78125 66.40625 \nz\nM 31.78125 74.21875 \nQ 44.046875 74.21875 50.515625 64.515625 \nQ 56.984375 54.828125 56.984375 36.375 \nQ 56.984375 17.96875 50.515625 8.265625 \nQ 44.046875 -1.421875 31.78125 -1.421875 \nQ 19.53125 -1.421875 13.0625 8.265625 \nQ 6.59375 17.96875 6.59375 36.375 \nQ 6.59375 54.828125 13.0625 64.515625 \nQ 19.53125 74.21875 31.78125 74.21875 \nz\n\" id=\"DejaVuSans-48\"/>\n       <path d=\"M 4.890625 31.390625 \nL 31.203125 31.390625 \nL 31.203125 23.390625 \nL 4.890625 23.390625 \nz\n\" id=\"DejaVuSans-45\"/>\n       <path d=\"M 12.40625 8.296875 \nL 28.515625 8.296875 \nL 28.515625 63.921875 \nL 10.984375 60.40625 \nL 10.984375 69.390625 \nL 28.421875 72.90625 \nL 38.28125 72.90625 \nL 38.28125 8.296875 \nL 54.390625 8.296875 \nL 54.390625 0 \nL 12.40625 0 \nz\n\" id=\"DejaVuSans-49\"/>\n      </defs>\n      <g transform=\"translate(68.683163 239.238437)scale(0.1 -0.1)\">\n       <use xlink:href=\"#DejaVuSans-50\"/>\n       <use x=\"63.623047\" xlink:href=\"#DejaVuSans-48\"/>\n       <use x=\"127.246094\" xlink:href=\"#DejaVuSans-50\"/>\n       <use x=\"190.869141\" xlink:href=\"#DejaVuSans-48\"/>\n       <use x=\"254.492188\" xlink:href=\"#DejaVuSans-45\"/>\n       <use x=\"290.576172\" xlink:href=\"#DejaVuSans-48\"/>\n       <use x=\"354.199219\" xlink:href=\"#DejaVuSans-50\"/>\n       <use x=\"417.822266\" xlink:href=\"#DejaVuSans-45\"/>\n       <use x=\"453.90625\" xlink:href=\"#DejaVuSans-48\"/>\n       <use x=\"517.529297\" xlink:href=\"#DejaVuSans-49\"/>\n      </g>\n     </g>\n    </g>\n    <g id=\"xtick_2\">\n     <g id=\"line2d_3\">\n      <path clip-path=\"url(#pf89bf61790)\" d=\"M 160.404078 224.64 \nL 160.404078 7.2 \n\" style=\"fill:none;stroke:#b0b0b0;stroke-linecap:square;stroke-width:0.8;\"/>\n     </g>\n     <g id=\"line2d_4\">\n      <g>\n       <use style=\"stroke:#000000;stroke-width:0.8;\" x=\"160.404078\" xlink:href=\"#m0cd49cf2fb\" y=\"224.64\"/>\n      </g>\n     </g>\n     <g id=\"text_2\">\n      <!-- 2020-02-15 -->\n      <defs>\n       <path d=\"M 10.796875 72.90625 \nL 49.515625 72.90625 \nL 49.515625 64.59375 \nL 19.828125 64.59375 \nL 19.828125 46.734375 \nQ 21.96875 47.46875 24.109375 47.828125 \nQ 26.265625 48.1875 28.421875 48.1875 \nQ 40.625 48.1875 47.75 41.5 \nQ 54.890625 34.8125 54.890625 23.390625 \nQ 54.890625 11.625 47.5625 5.09375 \nQ 40.234375 -1.421875 26.90625 -1.421875 \nQ 22.3125 -1.421875 17.546875 -0.640625 \nQ 12.796875 0.140625 7.71875 1.703125 \nL 7.71875 11.625 \nQ 12.109375 9.234375 16.796875 8.0625 \nQ 21.484375 6.890625 26.703125 6.890625 \nQ 35.15625 6.890625 40.078125 11.328125 \nQ 45.015625 15.765625 45.015625 23.390625 \nQ 45.015625 31 40.078125 35.4375 \nQ 35.15625 39.890625 26.703125 39.890625 \nQ 22.75 39.890625 18.8125 39.015625 \nQ 14.890625 38.140625 10.796875 36.28125 \nz\n\" id=\"DejaVuSans-53\"/>\n      </defs>\n      <g transform=\"translate(131.346265 239.238437)scale(0.1 -0.1)\">\n       <use xlink:href=\"#DejaVuSans-50\"/>\n       <use x=\"63.623047\" xlink:href=\"#DejaVuSans-48\"/>\n       <use x=\"127.246094\" xlink:href=\"#DejaVuSans-50\"/>\n       <use x=\"190.869141\" xlink:href=\"#DejaVuSans-48\"/>\n       <use x=\"254.492188\" xlink:href=\"#DejaVuSans-45\"/>\n       <use x=\"290.576172\" xlink:href=\"#DejaVuSans-48\"/>\n       <use x=\"354.199219\" xlink:href=\"#DejaVuSans-50\"/>\n       <use x=\"417.822266\" xlink:href=\"#DejaVuSans-45\"/>\n       <use x=\"453.90625\" xlink:href=\"#DejaVuSans-49\"/>\n       <use x=\"517.529297\" xlink:href=\"#DejaVuSans-53\"/>\n      </g>\n     </g>\n    </g>\n    <g id=\"xtick_3\">\n     <g id=\"line2d_5\">\n      <path clip-path=\"url(#pf89bf61790)\" d=\"M 227.543115 224.64 \nL 227.543115 7.2 \n\" style=\"fill:none;stroke:#b0b0b0;stroke-linecap:square;stroke-width:0.8;\"/>\n     </g>\n     <g id=\"line2d_6\">\n      <g>\n       <use style=\"stroke:#000000;stroke-width:0.8;\" x=\"227.543115\" xlink:href=\"#m0cd49cf2fb\" y=\"224.64\"/>\n      </g>\n     </g>\n     <g id=\"text_3\">\n      <!-- 2020-03-01 -->\n      <defs>\n       <path d=\"M 40.578125 39.3125 \nQ 47.65625 37.796875 51.625 33 \nQ 55.609375 28.21875 55.609375 21.1875 \nQ 55.609375 10.40625 48.1875 4.484375 \nQ 40.765625 -1.421875 27.09375 -1.421875 \nQ 22.515625 -1.421875 17.65625 -0.515625 \nQ 12.796875 0.390625 7.625 2.203125 \nL 7.625 11.71875 \nQ 11.71875 9.328125 16.59375 8.109375 \nQ 21.484375 6.890625 26.8125 6.890625 \nQ 36.078125 6.890625 40.9375 10.546875 \nQ 45.796875 14.203125 45.796875 21.1875 \nQ 45.796875 27.640625 41.28125 31.265625 \nQ 36.765625 34.90625 28.71875 34.90625 \nL 20.21875 34.90625 \nL 20.21875 43.015625 \nL 29.109375 43.015625 \nQ 36.375 43.015625 40.234375 45.921875 \nQ 44.09375 48.828125 44.09375 54.296875 \nQ 44.09375 59.90625 40.109375 62.90625 \nQ 36.140625 65.921875 28.71875 65.921875 \nQ 24.65625 65.921875 20.015625 65.03125 \nQ 15.375 64.15625 9.8125 62.3125 \nL 9.8125 71.09375 \nQ 15.4375 72.65625 20.34375 73.4375 \nQ 25.25 74.21875 29.59375 74.21875 \nQ 40.828125 74.21875 47.359375 69.109375 \nQ 53.90625 64.015625 53.90625 55.328125 \nQ 53.90625 49.265625 50.4375 45.09375 \nQ 46.96875 40.921875 40.578125 39.3125 \nz\n\" id=\"DejaVuSans-51\"/>\n      </defs>\n      <g transform=\"translate(198.485302 239.238437)scale(0.1 -0.1)\">\n       <use xlink:href=\"#DejaVuSans-50\"/>\n       <use x=\"63.623047\" xlink:href=\"#DejaVuSans-48\"/>\n       <use x=\"127.246094\" xlink:href=\"#DejaVuSans-50\"/>\n       <use x=\"190.869141\" xlink:href=\"#DejaVuSans-48\"/>\n       <use x=\"254.492188\" xlink:href=\"#DejaVuSans-45\"/>\n       <use x=\"290.576172\" xlink:href=\"#DejaVuSans-48\"/>\n       <use x=\"354.199219\" xlink:href=\"#DejaVuSans-51\"/>\n       <use x=\"417.822266\" xlink:href=\"#DejaVuSans-45\"/>\n       <use x=\"453.90625\" xlink:href=\"#DejaVuSans-48\"/>\n       <use x=\"517.529297\" xlink:href=\"#DejaVuSans-49\"/>\n      </g>\n     </g>\n    </g>\n    <g id=\"xtick_4\">\n     <g id=\"line2d_7\">\n      <path clip-path=\"url(#pf89bf61790)\" d=\"M 290.206217 224.64 \nL 290.206217 7.2 \n\" style=\"fill:none;stroke:#b0b0b0;stroke-linecap:square;stroke-width:0.8;\"/>\n     </g>\n     <g id=\"line2d_8\">\n      <g>\n       <use style=\"stroke:#000000;stroke-width:0.8;\" x=\"290.206217\" xlink:href=\"#m0cd49cf2fb\" y=\"224.64\"/>\n      </g>\n     </g>\n     <g id=\"text_4\">\n      <!-- 2020-03-15 -->\n      <g transform=\"translate(261.148404 239.238437)scale(0.1 -0.1)\">\n       <use xlink:href=\"#DejaVuSans-50\"/>\n       <use x=\"63.623047\" xlink:href=\"#DejaVuSans-48\"/>\n       <use x=\"127.246094\" xlink:href=\"#DejaVuSans-50\"/>\n       <use x=\"190.869141\" xlink:href=\"#DejaVuSans-48\"/>\n       <use x=\"254.492188\" xlink:href=\"#DejaVuSans-45\"/>\n       <use x=\"290.576172\" xlink:href=\"#DejaVuSans-48\"/>\n       <use x=\"354.199219\" xlink:href=\"#DejaVuSans-51\"/>\n       <use x=\"417.822266\" xlink:href=\"#DejaVuSans-45\"/>\n       <use x=\"453.90625\" xlink:href=\"#DejaVuSans-49\"/>\n       <use x=\"517.529297\" xlink:href=\"#DejaVuSans-53\"/>\n      </g>\n     </g>\n    </g>\n    <g id=\"xtick_5\">\n     <g id=\"line2d_9\">\n      <path clip-path=\"url(#pf89bf61790)\" d=\"M 366.297126 224.64 \nL 366.297126 7.2 \n\" style=\"fill:none;stroke:#b0b0b0;stroke-linecap:square;stroke-width:0.8;\"/>\n     </g>\n     <g id=\"line2d_10\">\n      <g>\n       <use style=\"stroke:#000000;stroke-width:0.8;\" x=\"366.297126\" xlink:href=\"#m0cd49cf2fb\" y=\"224.64\"/>\n      </g>\n     </g>\n     <g id=\"text_5\">\n      <!-- 2020-04-01 -->\n      <defs>\n       <path d=\"M 37.796875 64.3125 \nL 12.890625 25.390625 \nL 37.796875 25.390625 \nz\nM 35.203125 72.90625 \nL 47.609375 72.90625 \nL 47.609375 25.390625 \nL 58.015625 25.390625 \nL 58.015625 17.1875 \nL 47.609375 17.1875 \nL 47.609375 0 \nL 37.796875 0 \nL 37.796875 17.1875 \nL 4.890625 17.1875 \nL 4.890625 26.703125 \nz\n\" id=\"DejaVuSans-52\"/>\n      </defs>\n      <g transform=\"translate(337.239313 239.238437)scale(0.1 -0.1)\">\n       <use xlink:href=\"#DejaVuSans-50\"/>\n       <use x=\"63.623047\" xlink:href=\"#DejaVuSans-48\"/>\n       <use x=\"127.246094\" xlink:href=\"#DejaVuSans-50\"/>\n       <use x=\"190.869141\" xlink:href=\"#DejaVuSans-48\"/>\n       <use x=\"254.492188\" xlink:href=\"#DejaVuSans-45\"/>\n       <use x=\"290.576172\" xlink:href=\"#DejaVuSans-48\"/>\n       <use x=\"354.199219\" xlink:href=\"#DejaVuSans-52\"/>\n       <use x=\"417.822266\" xlink:href=\"#DejaVuSans-45\"/>\n       <use x=\"453.90625\" xlink:href=\"#DejaVuSans-48\"/>\n       <use x=\"517.529297\" xlink:href=\"#DejaVuSans-49\"/>\n      </g>\n     </g>\n    </g>\n   </g>\n   <g id=\"matplotlib.axis_2\">\n    <g id=\"ytick_1\">\n     <g id=\"line2d_11\">\n      <path clip-path=\"url(#pf89bf61790)\" d=\"M 33.2875 224.64 \nL 368.0875 224.64 \n\" style=\"fill:none;stroke:#b0b0b0;stroke-linecap:square;stroke-width:0.8;\"/>\n     </g>\n     <g id=\"line2d_12\">\n      <defs>\n       <path d=\"M 0 0 \nL -3.5 0 \n\" id=\"ma5e292e5d3\" style=\"stroke:#000000;stroke-width:0.8;\"/>\n      </defs>\n      <g>\n       <use style=\"stroke:#000000;stroke-width:0.8;\" x=\"33.2875\" xlink:href=\"#ma5e292e5d3\" y=\"224.64\"/>\n      </g>\n     </g>\n     <g id=\"text_6\">\n      <!-- 0 -->\n      <g transform=\"translate(19.925 228.439219)scale(0.1 -0.1)\">\n       <use xlink:href=\"#DejaVuSans-48\"/>\n      </g>\n     </g>\n    </g>\n    <g id=\"ytick_2\">\n     <g id=\"line2d_13\">\n      <path clip-path=\"url(#pf89bf61790)\" d=\"M 33.2875 195.554928 \nL 368.0875 195.554928 \n\" style=\"fill:none;stroke:#b0b0b0;stroke-linecap:square;stroke-width:0.8;\"/>\n     </g>\n     <g id=\"line2d_14\">\n      <g>\n       <use style=\"stroke:#000000;stroke-width:0.8;\" x=\"33.2875\" xlink:href=\"#ma5e292e5d3\" y=\"195.554928\"/>\n      </g>\n     </g>\n     <g id=\"text_7\">\n      <!-- 25 -->\n      <g transform=\"translate(13.5625 199.354147)scale(0.1 -0.1)\">\n       <use xlink:href=\"#DejaVuSans-50\"/>\n       <use x=\"63.623047\" xlink:href=\"#DejaVuSans-53\"/>\n      </g>\n     </g>\n    </g>\n    <g id=\"ytick_3\">\n     <g id=\"line2d_15\">\n      <path clip-path=\"url(#pf89bf61790)\" d=\"M 33.2875 166.469856 \nL 368.0875 166.469856 \n\" style=\"fill:none;stroke:#b0b0b0;stroke-linecap:square;stroke-width:0.8;\"/>\n     </g>\n     <g id=\"line2d_16\">\n      <g>\n       <use style=\"stroke:#000000;stroke-width:0.8;\" x=\"33.2875\" xlink:href=\"#ma5e292e5d3\" y=\"166.469856\"/>\n      </g>\n     </g>\n     <g id=\"text_8\">\n      <!-- 50 -->\n      <g transform=\"translate(13.5625 170.269074)scale(0.1 -0.1)\">\n       <use xlink:href=\"#DejaVuSans-53\"/>\n       <use x=\"63.623047\" xlink:href=\"#DejaVuSans-48\"/>\n      </g>\n     </g>\n    </g>\n    <g id=\"ytick_4\">\n     <g id=\"line2d_17\">\n      <path clip-path=\"url(#pf89bf61790)\" d=\"M 33.2875 137.384783 \nL 368.0875 137.384783 \n\" style=\"fill:none;stroke:#b0b0b0;stroke-linecap:square;stroke-width:0.8;\"/>\n     </g>\n     <g id=\"line2d_18\">\n      <g>\n       <use style=\"stroke:#000000;stroke-width:0.8;\" x=\"33.2875\" xlink:href=\"#ma5e292e5d3\" y=\"137.384783\"/>\n      </g>\n     </g>\n     <g id=\"text_9\">\n      <!-- 75 -->\n      <defs>\n       <path d=\"M 8.203125 72.90625 \nL 55.078125 72.90625 \nL 55.078125 68.703125 \nL 28.609375 0 \nL 18.3125 0 \nL 43.21875 64.59375 \nL 8.203125 64.59375 \nz\n\" id=\"DejaVuSans-55\"/>\n      </defs>\n      <g transform=\"translate(13.5625 141.184002)scale(0.1 -0.1)\">\n       <use xlink:href=\"#DejaVuSans-55\"/>\n       <use x=\"63.623047\" xlink:href=\"#DejaVuSans-53\"/>\n      </g>\n     </g>\n    </g>\n    <g id=\"ytick_5\">\n     <g id=\"line2d_19\">\n      <path clip-path=\"url(#pf89bf61790)\" d=\"M 33.2875 108.299711 \nL 368.0875 108.299711 \n\" style=\"fill:none;stroke:#b0b0b0;stroke-linecap:square;stroke-width:0.8;\"/>\n     </g>\n     <g id=\"line2d_20\">\n      <g>\n       <use style=\"stroke:#000000;stroke-width:0.8;\" x=\"33.2875\" xlink:href=\"#ma5e292e5d3\" y=\"108.299711\"/>\n      </g>\n     </g>\n     <g id=\"text_10\">\n      <!-- 100 -->\n      <g transform=\"translate(7.2 112.09893)scale(0.1 -0.1)\">\n       <use xlink:href=\"#DejaVuSans-49\"/>\n       <use x=\"63.623047\" xlink:href=\"#DejaVuSans-48\"/>\n       <use x=\"127.246094\" xlink:href=\"#DejaVuSans-48\"/>\n      </g>\n     </g>\n    </g>\n    <g id=\"ytick_6\">\n     <g id=\"line2d_21\">\n      <path clip-path=\"url(#pf89bf61790)\" d=\"M 33.2875 79.214639 \nL 368.0875 79.214639 \n\" style=\"fill:none;stroke:#b0b0b0;stroke-linecap:square;stroke-width:0.8;\"/>\n     </g>\n     <g id=\"line2d_22\">\n      <g>\n       <use style=\"stroke:#000000;stroke-width:0.8;\" x=\"33.2875\" xlink:href=\"#ma5e292e5d3\" y=\"79.214639\"/>\n      </g>\n     </g>\n     <g id=\"text_11\">\n      <!-- 125 -->\n      <g transform=\"translate(7.2 83.013858)scale(0.1 -0.1)\">\n       <use xlink:href=\"#DejaVuSans-49\"/>\n       <use x=\"63.623047\" xlink:href=\"#DejaVuSans-50\"/>\n       <use x=\"127.246094\" xlink:href=\"#DejaVuSans-53\"/>\n      </g>\n     </g>\n    </g>\n    <g id=\"ytick_7\">\n     <g id=\"line2d_23\">\n      <path clip-path=\"url(#pf89bf61790)\" d=\"M 33.2875 50.129567 \nL 368.0875 50.129567 \n\" style=\"fill:none;stroke:#b0b0b0;stroke-linecap:square;stroke-width:0.8;\"/>\n     </g>\n     <g id=\"line2d_24\">\n      <g>\n       <use style=\"stroke:#000000;stroke-width:0.8;\" x=\"33.2875\" xlink:href=\"#ma5e292e5d3\" y=\"50.129567\"/>\n      </g>\n     </g>\n     <g id=\"text_12\">\n      <!-- 150 -->\n      <g transform=\"translate(7.2 53.928785)scale(0.1 -0.1)\">\n       <use xlink:href=\"#DejaVuSans-49\"/>\n       <use x=\"63.623047\" xlink:href=\"#DejaVuSans-53\"/>\n       <use x=\"127.246094\" xlink:href=\"#DejaVuSans-48\"/>\n      </g>\n     </g>\n    </g>\n    <g id=\"ytick_8\">\n     <g id=\"line2d_25\">\n      <path clip-path=\"url(#pf89bf61790)\" d=\"M 33.2875 21.044494 \nL 368.0875 21.044494 \n\" style=\"fill:none;stroke:#b0b0b0;stroke-linecap:square;stroke-width:0.8;\"/>\n     </g>\n     <g id=\"line2d_26\">\n      <g>\n       <use style=\"stroke:#000000;stroke-width:0.8;\" x=\"33.2875\" xlink:href=\"#ma5e292e5d3\" y=\"21.044494\"/>\n      </g>\n     </g>\n     <g id=\"text_13\">\n      <!-- 175 -->\n      <g transform=\"translate(7.2 24.843713)scale(0.1 -0.1)\">\n       <use xlink:href=\"#DejaVuSans-49\"/>\n       <use x=\"63.623047\" xlink:href=\"#DejaVuSans-55\"/>\n       <use x=\"127.246094\" xlink:href=\"#DejaVuSans-53\"/>\n      </g>\n     </g>\n    </g>\n   </g>\n   <g id=\"patch_13\">\n    <path d=\"M 33.2875 224.64 \nL 33.2875 7.2 \n\" style=\"fill:none;stroke:#000000;stroke-linecap:square;stroke-linejoin:miter;stroke-width:0.8;\"/>\n   </g>\n   <g id=\"patch_14\">\n    <path d=\"M 368.0875 224.64 \nL 368.0875 7.2 \n\" style=\"fill:none;stroke:#000000;stroke-linecap:square;stroke-linejoin:miter;stroke-width:0.8;\"/>\n   </g>\n   <g id=\"patch_15\">\n    <path d=\"M 33.2875 224.64 \nL 368.0875 224.64 \n\" style=\"fill:none;stroke:#000000;stroke-linecap:square;stroke-linejoin:miter;stroke-width:0.8;\"/>\n   </g>\n   <g id=\"patch_16\">\n    <path d=\"M 33.2875 7.2 \nL 368.0875 7.2 \n\" style=\"fill:none;stroke:#000000;stroke-linecap:square;stroke-linejoin:miter;stroke-width:0.8;\"/>\n   </g>\n  </g>\n </g>\n <defs>\n  <clipPath id=\"pf89bf61790\">\n   <rect height=\"217.44\" width=\"334.8\" x=\"33.2875\" y=\"7.2\"/>\n  </clipPath>\n </defs>\n</svg>\n",
      "image/png": "[encoded data removed]"
     },
     "metadata": {
      "needs_background": "light"
     }
    }
   ],
   "source": [
    "## First covid case dates\n",
    "df['first_date'].hist()"
   ]
  },
  {
   "cell_type": "code",
   "execution_count": 7,
   "metadata": {},
   "outputs": [
    {
     "output_type": "execute_result",
     "data": {
      "text/plain": "   CityName  county_fips state_id  density  ACCESS2  ARTHRITIS  BINGE  BPHIGH  \\\n0   Abilene        48441       TX    441.0    22.60      24.30  17.60   31.10   \n1     Akron        39153       OH   1233.0    12.40      28.95  15.45   36.40   \n2   Alameda         6001       CA   2927.0     7.50      17.90  17.85   24.80   \n3  Berkeley         6001       CA   4509.0     7.40      16.55  19.20   22.70   \n4   Fremont         6001       CA   1171.0     7.65      15.15  16.75   22.85   \n\n   BPMED  CANCER  ...  PHLTH  SLEEP  STROKE  TEETHLOST  first_date  \\\n0  68.00    5.90  ...  13.30  33.55    3.25      15.65  2020-03-27   \n1  71.70    6.05  ...  15.15  43.15    4.15      21.55  2020-03-14   \n2  63.00    5.85  ...   9.05  33.70    2.20       7.50  2020-03-01   \n3  61.00    5.45  ...   8.60  32.35    2.10       6.75  2020-03-01   \n4  61.85    5.00  ...   7.75  34.30    1.75       6.75  2020-03-01   \n\n        case1m     death1m  county_fips_number       case14    death14  \n0  4747.563644   48.444527             48441.0  1711.706620   8.074088  \n1  2094.339401  237.672224             39153.0   245.908390  21.178713  \n2  2421.669041   66.496154              6001.0   603.905984  10.276678  \n3  2421.669041   66.496154              6001.0   603.905984  10.276678  \n4  2421.669041   66.496154              6001.0   603.905984  10.276678  \n\n[5 rows x 38 columns]",
      "text/html": "<div>\n<style scoped>\n    .dataframe tbody tr th:only-of-type {\n        vertical-align: middle;\n    }\n\n    .dataframe tbody tr th {\n        vertical-align: top;\n    }\n\n    .dataframe thead th {\n        text-align: right;\n    }\n</style>\n<table border=\"1\" class=\"dataframe\">\n  <thead>\n    <tr style=\"text-align: right;\">\n      <th></th>\n      <th>CityName</th>\n      <th>county_fips</th>\n      <th>state_id</th>\n      <th>density</th>\n      <th>ACCESS2</th>\n      <th>ARTHRITIS</th>\n      <th>BINGE</th>\n      <th>BPHIGH</th>\n      <th>BPMED</th>\n      <th>CANCER</th>\n      <th>...</th>\n      <th>PHLTH</th>\n      <th>SLEEP</th>\n      <th>STROKE</th>\n      <th>TEETHLOST</th>\n      <th>first_date</th>\n      <th>case1m</th>\n      <th>death1m</th>\n      <th>county_fips_number</th>\n      <th>case14</th>\n      <th>death14</th>\n    </tr>\n  </thead>\n  <tbody>\n    <tr>\n      <th>0</th>\n      <td>Abilene</td>\n      <td>48441</td>\n      <td>TX</td>\n      <td>441.0</td>\n      <td>22.60</td>\n      <td>24.30</td>\n      <td>17.60</td>\n      <td>31.10</td>\n      <td>68.00</td>\n      <td>5.90</td>\n      <td>...</td>\n      <td>13.30</td>\n      <td>33.55</td>\n      <td>3.25</td>\n      <td>15.65</td>\n      <td>2020-03-27</td>\n      <td>4747.563644</td>\n      <td>48.444527</td>\n      <td>48441.0</td>\n      <td>1711.706620</td>\n      <td>8.074088</td>\n    </tr>\n    <tr>\n      <th>1</th>\n      <td>Akron</td>\n      <td>39153</td>\n      <td>OH</td>\n      <td>1233.0</td>\n      <td>12.40</td>\n      <td>28.95</td>\n      <td>15.45</td>\n      <td>36.40</td>\n      <td>71.70</td>\n      <td>6.05</td>\n      <td>...</td>\n      <td>15.15</td>\n      <td>43.15</td>\n      <td>4.15</td>\n      <td>21.55</td>\n      <td>2020-03-14</td>\n      <td>2094.339401</td>\n      <td>237.672224</td>\n      <td>39153.0</td>\n      <td>245.908390</td>\n      <td>21.178713</td>\n    </tr>\n    <tr>\n      <th>2</th>\n      <td>Alameda</td>\n      <td>6001</td>\n      <td>CA</td>\n      <td>2927.0</td>\n      <td>7.50</td>\n      <td>17.90</td>\n      <td>17.85</td>\n      <td>24.80</td>\n      <td>63.00</td>\n      <td>5.85</td>\n      <td>...</td>\n      <td>9.05</td>\n      <td>33.70</td>\n      <td>2.20</td>\n      <td>7.50</td>\n      <td>2020-03-01</td>\n      <td>2421.669041</td>\n      <td>66.496154</td>\n      <td>6001.0</td>\n      <td>603.905984</td>\n      <td>10.276678</td>\n    </tr>\n    <tr>\n      <th>3</th>\n      <td>Berkeley</td>\n      <td>6001</td>\n      <td>CA</td>\n      <td>4509.0</td>\n      <td>7.40</td>\n      <td>16.55</td>\n      <td>19.20</td>\n      <td>22.70</td>\n      <td>61.00</td>\n      <td>5.45</td>\n      <td>...</td>\n      <td>8.60</td>\n      <td>32.35</td>\n      <td>2.10</td>\n      <td>6.75</td>\n      <td>2020-03-01</td>\n      <td>2421.669041</td>\n      <td>66.496154</td>\n      <td>6001.0</td>\n      <td>603.905984</td>\n      <td>10.276678</td>\n    </tr>\n    <tr>\n      <th>4</th>\n      <td>Fremont</td>\n      <td>6001</td>\n      <td>CA</td>\n      <td>1171.0</td>\n      <td>7.65</td>\n      <td>15.15</td>\n      <td>16.75</td>\n      <td>22.85</td>\n      <td>61.85</td>\n      <td>5.00</td>\n      <td>...</td>\n      <td>7.75</td>\n      <td>34.30</td>\n      <td>1.75</td>\n      <td>6.75</td>\n      <td>2020-03-01</td>\n      <td>2421.669041</td>\n      <td>66.496154</td>\n      <td>6001.0</td>\n      <td>603.905984</td>\n      <td>10.276678</td>\n    </tr>\n  </tbody>\n</table>\n<p>5 rows × 38 columns</p>\n</div>"
     },
     "metadata": {},
     "execution_count": 7
    }
   ],
   "source": [
    "df.head()"
   ]
  },
  {
   "cell_type": "code",
   "execution_count": 8,
   "metadata": {},
   "outputs": [],
   "source": [
    "## Get correlation matrix for health measures\n",
    "cm = df.corr()[['death1m']][2:-5]"
   ]
  },
  {
   "cell_type": "code",
   "execution_count": 9,
   "metadata": {},
   "outputs": [
    {
     "output_type": "display_data",
     "data": {
      "application/vnd.plotly.v1+json": {
       "config": {
        "plotlyServerURL": "https://plot.ly"
       },
       "data": [
        {
         "alignmentgroup": "True",
         "hovertemplate": "x=%{x}<br>y=%{y}<extra></extra>",
         "legendgroup": "",
         "marker": {
          "color": "#636efa"
         },
         "name": "",
         "offsetgroup": "",
         "orientation": "v",
         "showlegend": false,
         "textposition": "auto",
         "type": "bar",
         "x": [
          "ACCESS2",
          "ARTHRITIS",
          "BINGE",
          "BPHIGH",
          "BPMED",
          "CANCER",
          "CASTHMA",
          "CHD",
          "CHECKUP",
          "CHOLSCREEN",
          "COLON_SCREEN",
          "COPD",
          "COREM",
          "COREW",
          "CSMOKING",
          "DENTAL",
          "DIABETES",
          "HIGHCHOL",
          "KIDNEY",
          "LPA",
          "MAMMOUSE",
          "MHLTH",
          "OBESITY",
          "PAPTEST",
          "PHLTH",
          "SLEEP",
          "STROKE",
          "TEETHLOST"
         ],
         "xaxis": "x",
         "y": [
          -0.00510027280140058,
          0.2268947259814013,
          -0.08357714697532487,
          0.18569184907967667,
          0.2225743224870541,
          0.012206140775602286,
          0.3186657691528306,
          0.1899537534909519,
          0.36966470264848467,
          0.08328546022884607,
          -0.15379765901953427,
          0.2061220604780059,
          -0.2212150443512331,
          -0.2857382028809692,
          0.2111583291306847,
          -0.03338352600175004,
          0.14725734909478544,
          0.13750187736699557,
          0.14844218906654272,
          0.28532570212067526,
          0.11911554751172893,
          0.190058242786919,
          0.12050646201353701,
          0.029759351352679552,
          0.19789365218352387,
          0.29667611329062354,
          0.1629792762724342,
          0.2255356896450641
         ],
         "yaxis": "y"
        }
       ],
       "layout": {
        "barmode": "relative",
        "legend": {
         "tracegroupgap": 0
        },
        "margin": {
         "t": 60
        },
        "template": {
         "data": {
          "bar": [
           {
            "error_x": {
             "color": "#2a3f5f"
            },
            "error_y": {
             "color": "#2a3f5f"
            },
            "marker": {
             "line": {
              "color": "#E5ECF6",
              "width": 0.5
             }
            },
            "type": "bar"
           }
          ],
          "barpolar": [
           {
            "marker": {
             "line": {
              "color": "#E5ECF6",
              "width": 0.5
             }
            },
            "type": "barpolar"
           }
          ],
          "carpet": [
           {
            "aaxis": {
             "endlinecolor": "#2a3f5f",
             "gridcolor": "white",
             "linecolor": "white",
             "minorgridcolor": "white",
             "startlinecolor": "#2a3f5f"
            },
            "baxis": {
             "endlinecolor": "#2a3f5f",
             "gridcolor": "white",
             "linecolor": "white",
             "minorgridcolor": "white",
             "startlinecolor": "#2a3f5f"
            },
            "type": "carpet"
           }
          ],
          "choropleth": [
           {
            "colorbar": {
             "outlinewidth": 0,
             "ticks": ""
            },
            "type": "choropleth"
           }
          ],
          "contour": [
           {
            "colorbar": {
             "outlinewidth": 0,
             "ticks": ""
            },
            "colorscale": [
             [
              0,
              "#0d0887"
             ],
             [
              0.1111111111111111,
              "#46039f"
             ],
             [
              0.2222222222222222,
              "#7201a8"
             ],
             [
              0.3333333333333333,
              "#9c179e"
             ],
             [
              0.4444444444444444,
              "#bd3786"
             ],
             [
              0.5555555555555556,
              "#d8576b"
             ],
             [
              0.6666666666666666,
              "#ed7953"
             ],
             [
              0.7777777777777778,
              "#fb9f3a"
             ],
             [
              0.8888888888888888,
              "#fdca26"
             ],
             [
              1,
              "#f0f921"
             ]
            ],
            "type": "contour"
           }
          ],
          "contourcarpet": [
           {
            "colorbar": {
             "outlinewidth": 0,
             "ticks": ""
            },
            "type": "contourcarpet"
           }
          ],
          "heatmap": [
           {
            "colorbar": {
             "outlinewidth": 0,
             "ticks": ""
            },
            "colorscale": [
             [
              0,
              "#0d0887"
             ],
             [
              0.1111111111111111,
              "#46039f"
             ],
             [
              0.2222222222222222,
              "#7201a8"
             ],
             [
              0.3333333333333333,
              "#9c179e"
             ],
             [
              0.4444444444444444,
              "#bd3786"
             ],
             [
              0.5555555555555556,
              "#d8576b"
             ],
             [
              0.6666666666666666,
              "#ed7953"
             ],
             [
              0.7777777777777778,
              "#fb9f3a"
             ],
             [
              0.8888888888888888,
              "#fdca26"
             ],
             [
              1,
              "#f0f921"
             ]
            ],
            "type": "heatmap"
           }
          ],
          "heatmapgl": [
           {
            "colorbar": {
             "outlinewidth": 0,
             "ticks": ""
            },
            "colorscale": [
             [
              0,
              "#0d0887"
             ],
             [
              0.1111111111111111,
              "#46039f"
             ],
             [
              0.2222222222222222,
              "#7201a8"
             ],
             [
              0.3333333333333333,
              "#9c179e"
             ],
             [
              0.4444444444444444,
              "#bd3786"
             ],
             [
              0.5555555555555556,
              "#d8576b"
             ],
             [
              0.6666666666666666,
              "#ed7953"
             ],
             [
              0.7777777777777778,
              "#fb9f3a"
             ],
             [
              0.8888888888888888,
              "#fdca26"
             ],
             [
              1,
              "#f0f921"
             ]
            ],
            "type": "heatmapgl"
           }
          ],
          "histogram": [
           {
            "marker": {
             "colorbar": {
              "outlinewidth": 0,
              "ticks": ""
             }
            },
            "type": "histogram"
           }
          ],
          "histogram2d": [
           {
            "colorbar": {
             "outlinewidth": 0,
             "ticks": ""
            },
            "colorscale": [
             [
              0,
              "#0d0887"
             ],
             [
              0.1111111111111111,
              "#46039f"
             ],
             [
              0.2222222222222222,
              "#7201a8"
             ],
             [
              0.3333333333333333,
              "#9c179e"
             ],
             [
              0.4444444444444444,
              "#bd3786"
             ],
             [
              0.5555555555555556,
              "#d8576b"
             ],
             [
              0.6666666666666666,
              "#ed7953"
             ],
             [
              0.7777777777777778,
              "#fb9f3a"
             ],
             [
              0.8888888888888888,
              "#fdca26"
             ],
             [
              1,
              "#f0f921"
             ]
            ],
            "type": "histogram2d"
           }
          ],
          "histogram2dcontour": [
           {
            "colorbar": {
             "outlinewidth": 0,
             "ticks": ""
            },
            "colorscale": [
             [
              0,
              "#0d0887"
             ],
             [
              0.1111111111111111,
              "#46039f"
             ],
             [
              0.2222222222222222,
              "#7201a8"
             ],
             [
              0.3333333333333333,
              "#9c179e"
             ],
             [
              0.4444444444444444,
              "#bd3786"
             ],
             [
              0.5555555555555556,
              "#d8576b"
             ],
             [
              0.6666666666666666,
              "#ed7953"
             ],
             [
              0.7777777777777778,
              "#fb9f3a"
             ],
             [
              0.8888888888888888,
              "#fdca26"
             ],
             [
              1,
              "#f0f921"
             ]
            ],
            "type": "histogram2dcontour"
           }
          ],
          "mesh3d": [
           {
            "colorbar": {
             "outlinewidth": 0,
             "ticks": ""
            },
            "type": "mesh3d"
           }
          ],
          "parcoords": [
           {
            "line": {
             "colorbar": {
              "outlinewidth": 0,
              "ticks": ""
             }
            },
            "type": "parcoords"
           }
          ],
          "pie": [
           {
            "automargin": true,
            "type": "pie"
           }
          ],
          "scatter": [
           {
            "marker": {
             "colorbar": {
              "outlinewidth": 0,
              "ticks": ""
             }
            },
            "type": "scatter"
           }
          ],
          "scatter3d": [
           {
            "line": {
             "colorbar": {
              "outlinewidth": 0,
              "ticks": ""
             }
            },
            "marker": {
             "colorbar": {
              "outlinewidth": 0,
              "ticks": ""
             }
            },
            "type": "scatter3d"
           }
          ],
          "scattercarpet": [
           {
            "marker": {
             "colorbar": {
              "outlinewidth": 0,
              "ticks": ""
             }
            },
            "type": "scattercarpet"
           }
          ],
          "scattergeo": [
           {
            "marker": {
             "colorbar": {
              "outlinewidth": 0,
              "ticks": ""
             }
            },
            "type": "scattergeo"
           }
          ],
          "scattergl": [
           {
            "marker": {
             "colorbar": {
              "outlinewidth": 0,
              "ticks": ""
             }
            },
            "type": "scattergl"
           }
          ],
          "scattermapbox": [
           {
            "marker": {
             "colorbar": {
              "outlinewidth": 0,
              "ticks": ""
             }
            },
            "type": "scattermapbox"
           }
          ],
          "scatterpolar": [
           {
            "marker": {
             "colorbar": {
              "outlinewidth": 0,
              "ticks": ""
             }
            },
            "type": "scatterpolar"
           }
          ],
          "scatterpolargl": [
           {
            "marker": {
             "colorbar": {
              "outlinewidth": 0,
              "ticks": ""
             }
            },
            "type": "scatterpolargl"
           }
          ],
          "scatterternary": [
           {
            "marker": {
             "colorbar": {
              "outlinewidth": 0,
              "ticks": ""
             }
            },
            "type": "scatterternary"
           }
          ],
          "surface": [
           {
            "colorbar": {
             "outlinewidth": 0,
             "ticks": ""
            },
            "colorscale": [
             [
              0,
              "#0d0887"
             ],
             [
              0.1111111111111111,
              "#46039f"
             ],
             [
              0.2222222222222222,
              "#7201a8"
             ],
             [
              0.3333333333333333,
              "#9c179e"
             ],
             [
              0.4444444444444444,
              "#bd3786"
             ],
             [
              0.5555555555555556,
              "#d8576b"
             ],
             [
              0.6666666666666666,
              "#ed7953"
             ],
             [
              0.7777777777777778,
              "#fb9f3a"
             ],
             [
              0.8888888888888888,
              "#fdca26"
             ],
             [
              1,
              "#f0f921"
             ]
            ],
            "type": "surface"
           }
          ],
          "table": [
           {
            "cells": {
             "fill": {
              "color": "#EBF0F8"
             },
             "line": {
              "color": "white"
             }
            },
            "header": {
             "fill": {
              "color": "#C8D4E3"
             },
             "line": {
              "color": "white"
             }
            },
            "type": "table"
           }
          ]
         },
         "layout": {
          "annotationdefaults": {
           "arrowcolor": "#2a3f5f",
           "arrowhead": 0,
           "arrowwidth": 1
          },
          "coloraxis": {
           "colorbar": {
            "outlinewidth": 0,
            "ticks": ""
           }
          },
          "colorscale": {
           "diverging": [
            [
             0,
             "#8e0152"
            ],
            [
             0.1,
             "#c51b7d"
            ],
            [
             0.2,
             "#de77ae"
            ],
            [
             0.3,
             "#f1b6da"
            ],
            [
             0.4,
             "#fde0ef"
            ],
            [
             0.5,
             "#f7f7f7"
            ],
            [
             0.6,
             "#e6f5d0"
            ],
            [
             0.7,
             "#b8e186"
            ],
            [
             0.8,
             "#7fbc41"
            ],
            [
             0.9,
             "#4d9221"
            ],
            [
             1,
             "#276419"
            ]
           ],
           "sequential": [
            [
             0,
             "#0d0887"
            ],
            [
             0.1111111111111111,
             "#46039f"
            ],
            [
             0.2222222222222222,
             "#7201a8"
            ],
            [
             0.3333333333333333,
             "#9c179e"
            ],
            [
             0.4444444444444444,
             "#bd3786"
            ],
            [
             0.5555555555555556,
             "#d8576b"
            ],
            [
             0.6666666666666666,
             "#ed7953"
            ],
            [
             0.7777777777777778,
             "#fb9f3a"
            ],
            [
             0.8888888888888888,
             "#fdca26"
            ],
            [
             1,
             "#f0f921"
            ]
           ],
           "sequentialminus": [
            [
             0,
             "#0d0887"
            ],
            [
             0.1111111111111111,
             "#46039f"
            ],
            [
             0.2222222222222222,
             "#7201a8"
            ],
            [
             0.3333333333333333,
             "#9c179e"
            ],
            [
             0.4444444444444444,
             "#bd3786"
            ],
            [
             0.5555555555555556,
             "#d8576b"
            ],
            [
             0.6666666666666666,
             "#ed7953"
            ],
            [
             0.7777777777777778,
             "#fb9f3a"
            ],
            [
             0.8888888888888888,
             "#fdca26"
            ],
            [
             1,
             "#f0f921"
            ]
           ]
          },
          "colorway": [
           "#636efa",
           "#EF553B",
           "#00cc96",
           "#ab63fa",
           "#FFA15A",
           "#19d3f3",
           "#FF6692",
           "#B6E880",
           "#FF97FF",
           "#FECB52"
          ],
          "font": {
           "color": "#2a3f5f"
          },
          "geo": {
           "bgcolor": "white",
           "lakecolor": "white",
           "landcolor": "#E5ECF6",
           "showlakes": true,
           "showland": true,
           "subunitcolor": "white"
          },
          "hoverlabel": {
           "align": "left"
          },
          "hovermode": "closest",
          "mapbox": {
           "style": "light"
          },
          "paper_bgcolor": "white",
          "plot_bgcolor": "#E5ECF6",
          "polar": {
           "angularaxis": {
            "gridcolor": "white",
            "linecolor": "white",
            "ticks": ""
           },
           "bgcolor": "#E5ECF6",
           "radialaxis": {
            "gridcolor": "white",
            "linecolor": "white",
            "ticks": ""
           }
          },
          "scene": {
           "xaxis": {
            "backgroundcolor": "#E5ECF6",
            "gridcolor": "white",
            "gridwidth": 2,
            "linecolor": "white",
            "showbackground": true,
            "ticks": "",
            "zerolinecolor": "white"
           },
           "yaxis": {
            "backgroundcolor": "#E5ECF6",
            "gridcolor": "white",
            "gridwidth": 2,
            "linecolor": "white",
            "showbackground": true,
            "ticks": "",
            "zerolinecolor": "white"
           },
           "zaxis": {
            "backgroundcolor": "#E5ECF6",
            "gridcolor": "white",
            "gridwidth": 2,
            "linecolor": "white",
            "showbackground": true,
            "ticks": "",
            "zerolinecolor": "white"
           }
          },
          "shapedefaults": {
           "line": {
            "color": "#2a3f5f"
           }
          },
          "ternary": {
           "aaxis": {
            "gridcolor": "white",
            "linecolor": "white",
            "ticks": ""
           },
           "baxis": {
            "gridcolor": "white",
            "linecolor": "white",
            "ticks": ""
           },
           "bgcolor": "#E5ECF6",
           "caxis": {
            "gridcolor": "white",
            "linecolor": "white",
            "ticks": ""
           }
          },
          "title": {
           "x": 0.05
          },
          "xaxis": {
           "automargin": true,
           "gridcolor": "white",
           "linecolor": "white",
           "ticks": "",
           "title": {
            "standoff": 15
           },
           "zerolinecolor": "white",
           "zerolinewidth": 2
          },
          "yaxis": {
           "automargin": true,
           "gridcolor": "white",
           "linecolor": "white",
           "ticks": "",
           "title": {
            "standoff": 15
           },
           "zerolinecolor": "white",
           "zerolinewidth": 2
          }
         }
        },
        "title": {
         "text": "Measure Correlations with death1m"
        },
        "xaxis": {
         "anchor": "y",
         "domain": [
          0,
          1
         ],
         "tickangle": -45,
         "title": {
          "text": "Measure"
         }
        },
        "yaxis": {
         "anchor": "x",
         "domain": [
          0,
          1
         ],
         "title": {
          "text": "Corr"
         }
        }
       }
      }
     },
     "metadata": {}
    }
   ],
   "source": [
    "## Show correlations with death per 1M\n",
    "fig = px.bar(x=cm.index, y=cm)\n",
    "fig.update_layout(xaxis_tickangle=-45,\\\n",
    "    title='Measure Correlations with death1m',\\\n",
    "        xaxis_title='Measure',\\\n",
    "            yaxis_title = 'Corr')\n",
    "fig.show()"
   ]
  },
  {
   "cell_type": "code",
   "execution_count": 10,
   "metadata": {},
   "outputs": [
    {
     "output_type": "display_data",
     "data": {
      "text/plain": "<Figure size 864x1080 with 36 Axes>",
      "image/svg+xml": "<?xml version=\"1.0\" encoding=\"utf-8\" standalone=\"no\"?>\n<!DOCTYPE svg PUBLIC \"-//W3C//DTD SVG 1.1//EN\"\n  \"http://www.w3.org/Graphics/SVG/1.1/DTD/svg11.dtd\">\n<!-- Created with matplotlib (https://matplotlib.org/) -->\n<svg height=\"861.59625pt\" version=\"1.1\" viewBox=\"0 0 715.054082 861.59625\" width=\"715.054082pt\" xmlns=\"http://www.w3.org/2000/svg\" xmlns:xlink=\"http://www.w3.org/1999/xlink\">\n <defs>\n  <style type=\"text/css\">\n*{stroke-linecap:butt;stroke-linejoin:round;}\n  </style>\n </defs>\n <g id=\"figure_1\">\n  <g id=\"patch_1\">\n   <path d=\"M 0 861.59625 \nL 715.054082 861.59625 \nL 715.054082 0 \nL 0 0 \nz\n\" style=\"fill:none;\"/>\n  </g>\n  <g id=\"axes_1\">\n   <g id=\"patch_2\">\n    <path d=\"M 33.2875 131.038125 \nL 122.5675 131.038125 \nL 122.5675 22.318125 \nL 33.2875 22.318125 \nz\n\" style=\"fill:#ffffff;\"/>\n   </g>\n   <g id=\"patch_3\">\n    <path clip-path=\"url(#pb9bc6fedbc)\" d=\"M 37.345682 131.038125 \nL 45.462045 131.038125 \nL 45.462045 100.412773 \nL 37.345682 100.412773 \nz\n\" style=\"fill:#1f77b4;\"/>\n   </g>\n   <g id=\"patch_4\">\n    <path clip-path=\"url(#pb9bc6fedbc)\" d=\"M 45.462045 131.038125 \nL 53.578409 131.038125 \nL 53.578409 44.995469 \nL 45.462045 44.995469 \nz\n\" style=\"fill:#1f77b4;\"/>\n   </g>\n   <g id=\"patch_5\">\n    <path clip-path=\"url(#pb9bc6fedbc)\" d=\"M 53.578409 131.038125 \nL 61.694773 131.038125 \nL 61.694773 27.495268 \nL 53.578409 27.495268 \nz\n\" style=\"fill:#1f77b4;\"/>\n   </g>\n   <g id=\"patch_6\">\n    <path clip-path=\"url(#pb9bc6fedbc)\" d=\"M 61.694773 131.038125 \nL 69.811136 131.038125 \nL 69.811136 63.224845 \nL 61.694773 63.224845 \nz\n\" style=\"fill:#1f77b4;\"/>\n   </g>\n   <g id=\"patch_7\">\n    <path clip-path=\"url(#pb9bc6fedbc)\" d=\"M 69.811136 131.038125 \nL 77.9275 131.038125 \nL 77.9275 90.933497 \nL 69.811136 90.933497 \nz\n\" style=\"fill:#1f77b4;\"/>\n   </g>\n   <g id=\"patch_8\">\n    <path clip-path=\"url(#pb9bc6fedbc)\" d=\"M 77.9275 131.038125 \nL 86.043864 131.038125 \nL 86.043864 111.350399 \nL 77.9275 111.350399 \nz\n\" style=\"fill:#1f77b4;\"/>\n   </g>\n   <g id=\"patch_9\">\n    <path clip-path=\"url(#pb9bc6fedbc)\" d=\"M 86.043864 131.038125 \nL 94.160227 131.038125 \nL 94.160227 123.746374 \nL 86.043864 123.746374 \nz\n\" style=\"fill:#1f77b4;\"/>\n   </g>\n   <g id=\"patch_10\">\n    <path clip-path=\"url(#pb9bc6fedbc)\" d=\"M 94.160227 131.038125 \nL 102.276591 131.038125 \nL 102.276591 128.8506 \nL 94.160227 128.8506 \nz\n\" style=\"fill:#1f77b4;\"/>\n   </g>\n   <g id=\"patch_11\">\n    <path clip-path=\"url(#pb9bc6fedbc)\" d=\"M 102.276591 131.038125 \nL 110.392955 131.038125 \nL 110.392955 128.8506 \nL 102.276591 128.8506 \nz\n\" style=\"fill:#1f77b4;\"/>\n   </g>\n   <g id=\"patch_12\">\n    <path clip-path=\"url(#pb9bc6fedbc)\" d=\"M 110.392955 131.038125 \nL 118.509318 131.038125 \nL 118.509318 128.121425 \nL 110.392955 128.121425 \nz\n\" style=\"fill:#1f77b4;\"/>\n   </g>\n   <g id=\"matplotlib.axis_1\">\n    <g id=\"xtick_1\">\n     <g id=\"line2d_1\">\n      <path clip-path=\"url(#pb9bc6fedbc)\" d=\"M 69.811136 131.038125 \nL 69.811136 22.318125 \n\" style=\"fill:none;stroke:#b0b0b0;stroke-linecap:square;stroke-width:0.8;\"/>\n     </g>\n     <g id=\"line2d_2\">\n      <defs>\n       <path d=\"M 0 0 \nL 0 3.5 \n\" id=\"mc504cf78b3\" style=\"stroke:#000000;stroke-width:0.8;\"/>\n      </defs>\n      <g>\n       <use style=\"stroke:#000000;stroke-width:0.8;\" x=\"69.811136\" xlink:href=\"#mc504cf78b3\" y=\"131.038125\"/>\n      </g>\n     </g>\n     <g id=\"text_1\">\n      <!-- 20 -->\n      <defs>\n       <path d=\"M 19.1875 8.296875 \nL 53.609375 8.296875 \nL 53.609375 0 \nL 7.328125 0 \nL 7.328125 8.296875 \nQ 12.9375 14.109375 22.625 23.890625 \nQ 32.328125 33.6875 34.8125 36.53125 \nQ 39.546875 41.84375 41.421875 45.53125 \nQ 43.3125 49.21875 43.3125 52.78125 \nQ 43.3125 58.59375 39.234375 62.25 \nQ 35.15625 65.921875 28.609375 65.921875 \nQ 23.96875 65.921875 18.8125 64.3125 \nQ 13.671875 62.703125 7.8125 59.421875 \nL 7.8125 69.390625 \nQ 13.765625 71.78125 18.9375 73 \nQ 24.125 74.21875 28.421875 74.21875 \nQ 39.75 74.21875 46.484375 68.546875 \nQ 53.21875 62.890625 53.21875 53.421875 \nQ 53.21875 48.921875 51.53125 44.890625 \nQ 49.859375 40.875 45.40625 35.40625 \nQ 44.1875 33.984375 37.640625 27.21875 \nQ 31.109375 20.453125 19.1875 8.296875 \nz\n\" id=\"DejaVuSans-50\"/>\n       <path d=\"M 31.78125 66.40625 \nQ 24.171875 66.40625 20.328125 58.90625 \nQ 16.5 51.421875 16.5 36.375 \nQ 16.5 21.390625 20.328125 13.890625 \nQ 24.171875 6.390625 31.78125 6.390625 \nQ 39.453125 6.390625 43.28125 13.890625 \nQ 47.125 21.390625 47.125 36.375 \nQ 47.125 51.421875 43.28125 58.90625 \nQ 39.453125 66.40625 31.78125 66.40625 \nz\nM 31.78125 74.21875 \nQ 44.046875 74.21875 50.515625 64.515625 \nQ 56.984375 54.828125 56.984375 36.375 \nQ 56.984375 17.96875 50.515625 8.265625 \nQ 44.046875 -1.421875 31.78125 -1.421875 \nQ 19.53125 -1.421875 13.0625 8.265625 \nQ 6.59375 17.96875 6.59375 36.375 \nQ 6.59375 54.828125 13.0625 64.515625 \nQ 19.53125 74.21875 31.78125 74.21875 \nz\n\" id=\"DejaVuSans-48\"/>\n      </defs>\n      <g transform=\"translate(63.448636 145.636562)scale(0.1 -0.1)\">\n       <use xlink:href=\"#DejaVuSans-50\"/>\n       <use x=\"63.623047\" xlink:href=\"#DejaVuSans-48\"/>\n      </g>\n     </g>\n    </g>\n    <g id=\"xtick_2\">\n     <g id=\"line2d_3\">\n      <path clip-path=\"url(#pb9bc6fedbc)\" d=\"M 111.168403 131.038125 \nL 111.168403 22.318125 \n\" style=\"fill:none;stroke:#b0b0b0;stroke-linecap:square;stroke-width:0.8;\"/>\n     </g>\n     <g id=\"line2d_4\">\n      <g>\n       <use style=\"stroke:#000000;stroke-width:0.8;\" x=\"111.168403\" xlink:href=\"#mc504cf78b3\" y=\"131.038125\"/>\n      </g>\n     </g>\n     <g id=\"text_2\">\n      <!-- 40 -->\n      <defs>\n       <path d=\"M 37.796875 64.3125 \nL 12.890625 25.390625 \nL 37.796875 25.390625 \nz\nM 35.203125 72.90625 \nL 47.609375 72.90625 \nL 47.609375 25.390625 \nL 58.015625 25.390625 \nL 58.015625 17.1875 \nL 47.609375 17.1875 \nL 47.609375 0 \nL 37.796875 0 \nL 37.796875 17.1875 \nL 4.890625 17.1875 \nL 4.890625 26.703125 \nz\n\" id=\"DejaVuSans-52\"/>\n      </defs>\n      <g transform=\"translate(104.805903 145.636562)scale(0.1 -0.1)\">\n       <use xlink:href=\"#DejaVuSans-52\"/>\n       <use x=\"63.623047\" xlink:href=\"#DejaVuSans-48\"/>\n      </g>\n     </g>\n    </g>\n   </g>\n   <g id=\"matplotlib.axis_2\">\n    <g id=\"ytick_1\">\n     <g id=\"line2d_5\">\n      <path clip-path=\"url(#pb9bc6fedbc)\" d=\"M 33.2875 131.038125 \nL 122.5675 131.038125 \n\" style=\"fill:none;stroke:#b0b0b0;stroke-linecap:square;stroke-width:0.8;\"/>\n     </g>\n     <g id=\"line2d_6\">\n      <defs>\n       <path d=\"M 0 0 \nL -3.5 0 \n\" id=\"md3fd3d0ccc\" style=\"stroke:#000000;stroke-width:0.8;\"/>\n      </defs>\n      <g>\n       <use style=\"stroke:#000000;stroke-width:0.8;\" x=\"33.2875\" xlink:href=\"#md3fd3d0ccc\" y=\"131.038125\"/>\n      </g>\n     </g>\n     <g id=\"text_3\">\n      <!-- 0 -->\n      <g transform=\"translate(19.925 134.837344)scale(0.1 -0.1)\">\n       <use xlink:href=\"#DejaVuSans-48\"/>\n      </g>\n     </g>\n    </g>\n    <g id=\"ytick_2\">\n     <g id=\"line2d_7\">\n      <path clip-path=\"url(#pb9bc6fedbc)\" d=\"M 33.2875 94.579372 \nL 122.5675 94.579372 \n\" style=\"fill:none;stroke:#b0b0b0;stroke-linecap:square;stroke-width:0.8;\"/>\n     </g>\n     <g id=\"line2d_8\">\n      <g>\n       <use style=\"stroke:#000000;stroke-width:0.8;\" x=\"33.2875\" xlink:href=\"#md3fd3d0ccc\" y=\"94.579372\"/>\n      </g>\n     </g>\n     <g id=\"text_4\">\n      <!-- 50 -->\n      <defs>\n       <path d=\"M 10.796875 72.90625 \nL 49.515625 72.90625 \nL 49.515625 64.59375 \nL 19.828125 64.59375 \nL 19.828125 46.734375 \nQ 21.96875 47.46875 24.109375 47.828125 \nQ 26.265625 48.1875 28.421875 48.1875 \nQ 40.625 48.1875 47.75 41.5 \nQ 54.890625 34.8125 54.890625 23.390625 \nQ 54.890625 11.625 47.5625 5.09375 \nQ 40.234375 -1.421875 26.90625 -1.421875 \nQ 22.3125 -1.421875 17.546875 -0.640625 \nQ 12.796875 0.140625 7.71875 1.703125 \nL 7.71875 11.625 \nQ 12.109375 9.234375 16.796875 8.0625 \nQ 21.484375 6.890625 26.703125 6.890625 \nQ 35.15625 6.890625 40.078125 11.328125 \nQ 45.015625 15.765625 45.015625 23.390625 \nQ 45.015625 31 40.078125 35.4375 \nQ 35.15625 39.890625 26.703125 39.890625 \nQ 22.75 39.890625 18.8125 39.015625 \nQ 14.890625 38.140625 10.796875 36.28125 \nz\n\" id=\"DejaVuSans-53\"/>\n      </defs>\n      <g transform=\"translate(13.5625 98.378591)scale(0.1 -0.1)\">\n       <use xlink:href=\"#DejaVuSans-53\"/>\n       <use x=\"63.623047\" xlink:href=\"#DejaVuSans-48\"/>\n      </g>\n     </g>\n    </g>\n    <g id=\"ytick_3\">\n     <g id=\"line2d_9\">\n      <path clip-path=\"url(#pb9bc6fedbc)\" d=\"M 33.2875 58.12062 \nL 122.5675 58.12062 \n\" style=\"fill:none;stroke:#b0b0b0;stroke-linecap:square;stroke-width:0.8;\"/>\n     </g>\n     <g id=\"line2d_10\">\n      <g>\n       <use style=\"stroke:#000000;stroke-width:0.8;\" x=\"33.2875\" xlink:href=\"#md3fd3d0ccc\" y=\"58.12062\"/>\n      </g>\n     </g>\n     <g id=\"text_5\">\n      <!-- 100 -->\n      <defs>\n       <path d=\"M 12.40625 8.296875 \nL 28.515625 8.296875 \nL 28.515625 63.921875 \nL 10.984375 60.40625 \nL 10.984375 69.390625 \nL 28.421875 72.90625 \nL 38.28125 72.90625 \nL 38.28125 8.296875 \nL 54.390625 8.296875 \nL 54.390625 0 \nL 12.40625 0 \nz\n\" id=\"DejaVuSans-49\"/>\n      </defs>\n      <g transform=\"translate(7.2 61.919839)scale(0.1 -0.1)\">\n       <use xlink:href=\"#DejaVuSans-49\"/>\n       <use x=\"63.623047\" xlink:href=\"#DejaVuSans-48\"/>\n       <use x=\"127.246094\" xlink:href=\"#DejaVuSans-48\"/>\n      </g>\n     </g>\n    </g>\n   </g>\n   <g id=\"patch_13\">\n    <path d=\"M 33.2875 131.038125 \nL 33.2875 22.318125 \n\" style=\"fill:none;stroke:#000000;stroke-linecap:square;stroke-linejoin:miter;stroke-width:0.8;\"/>\n   </g>\n   <g id=\"patch_14\">\n    <path d=\"M 122.5675 131.038125 \nL 122.5675 22.318125 \n\" style=\"fill:none;stroke:#000000;stroke-linecap:square;stroke-linejoin:miter;stroke-width:0.8;\"/>\n   </g>\n   <g id=\"patch_15\">\n    <path d=\"M 33.2875 131.038125 \nL 122.5675 131.038125 \n\" style=\"fill:none;stroke:#000000;stroke-linecap:square;stroke-linejoin:miter;stroke-width:0.8;\"/>\n   </g>\n   <g id=\"patch_16\">\n    <path d=\"M 33.2875 22.318125 \nL 122.5675 22.318125 \n\" style=\"fill:none;stroke:#000000;stroke-linecap:square;stroke-linejoin:miter;stroke-width:0.8;\"/>\n   </g>\n   <g id=\"text_6\">\n    <!-- ACCESS2 -->\n    <defs>\n     <path d=\"M 34.1875 63.1875 \nL 20.796875 26.90625 \nL 47.609375 26.90625 \nz\nM 28.609375 72.90625 \nL 39.796875 72.90625 \nL 67.578125 0 \nL 57.328125 0 \nL 50.6875 18.703125 \nL 17.828125 18.703125 \nL 11.1875 0 \nL 0.78125 0 \nz\n\" id=\"DejaVuSans-65\"/>\n     <path d=\"M 64.40625 67.28125 \nL 64.40625 56.890625 \nQ 59.421875 61.53125 53.78125 63.8125 \nQ 48.140625 66.109375 41.796875 66.109375 \nQ 29.296875 66.109375 22.65625 58.46875 \nQ 16.015625 50.828125 16.015625 36.375 \nQ 16.015625 21.96875 22.65625 14.328125 \nQ 29.296875 6.6875 41.796875 6.6875 \nQ 48.140625 6.6875 53.78125 8.984375 \nQ 59.421875 11.28125 64.40625 15.921875 \nL 64.40625 5.609375 \nQ 59.234375 2.09375 53.4375 0.328125 \nQ 47.65625 -1.421875 41.21875 -1.421875 \nQ 24.65625 -1.421875 15.125 8.703125 \nQ 5.609375 18.84375 5.609375 36.375 \nQ 5.609375 53.953125 15.125 64.078125 \nQ 24.65625 74.21875 41.21875 74.21875 \nQ 47.75 74.21875 53.53125 72.484375 \nQ 59.328125 70.75 64.40625 67.28125 \nz\n\" id=\"DejaVuSans-67\"/>\n     <path d=\"M 9.8125 72.90625 \nL 55.90625 72.90625 \nL 55.90625 64.59375 \nL 19.671875 64.59375 \nL 19.671875 43.015625 \nL 54.390625 43.015625 \nL 54.390625 34.71875 \nL 19.671875 34.71875 \nL 19.671875 8.296875 \nL 56.78125 8.296875 \nL 56.78125 0 \nL 9.8125 0 \nz\n\" id=\"DejaVuSans-69\"/>\n     <path d=\"M 53.515625 70.515625 \nL 53.515625 60.890625 \nQ 47.90625 63.578125 42.921875 64.890625 \nQ 37.9375 66.21875 33.296875 66.21875 \nQ 25.25 66.21875 20.875 63.09375 \nQ 16.5 59.96875 16.5 54.203125 \nQ 16.5 49.359375 19.40625 46.890625 \nQ 22.3125 44.4375 30.421875 42.921875 \nL 36.375 41.703125 \nQ 47.40625 39.59375 52.65625 34.296875 \nQ 57.90625 29 57.90625 20.125 \nQ 57.90625 9.515625 50.796875 4.046875 \nQ 43.703125 -1.421875 29.984375 -1.421875 \nQ 24.8125 -1.421875 18.96875 -0.25 \nQ 13.140625 0.921875 6.890625 3.21875 \nL 6.890625 13.375 \nQ 12.890625 10.015625 18.65625 8.296875 \nQ 24.421875 6.59375 29.984375 6.59375 \nQ 38.421875 6.59375 43.015625 9.90625 \nQ 47.609375 13.234375 47.609375 19.390625 \nQ 47.609375 24.75 44.3125 27.78125 \nQ 41.015625 30.8125 33.5 32.328125 \nL 27.484375 33.5 \nQ 16.453125 35.6875 11.515625 40.375 \nQ 6.59375 45.0625 6.59375 53.421875 \nQ 6.59375 63.09375 13.40625 68.65625 \nQ 20.21875 74.21875 32.171875 74.21875 \nQ 37.3125 74.21875 42.625 73.28125 \nQ 47.953125 72.359375 53.515625 70.515625 \nz\n\" id=\"DejaVuSans-83\"/>\n    </defs>\n    <g transform=\"translate(50.321875 16.318125)scale(0.12 -0.12)\">\n     <use xlink:href=\"#DejaVuSans-65\"/>\n     <use x=\"66.658203\" xlink:href=\"#DejaVuSans-67\"/>\n     <use x=\"136.482422\" xlink:href=\"#DejaVuSans-67\"/>\n     <use x=\"206.306641\" xlink:href=\"#DejaVuSans-69\"/>\n     <use x=\"269.490234\" xlink:href=\"#DejaVuSans-83\"/>\n     <use x=\"332.966797\" xlink:href=\"#DejaVuSans-83\"/>\n     <use x=\"396.443359\" xlink:href=\"#DejaVuSans-50\"/>\n    </g>\n   </g>\n  </g>\n  <g id=\"axes_2\">\n   <g id=\"patch_17\">\n    <path d=\"M 149.3515 131.038125 \nL 238.6315 131.038125 \nL 238.6315 22.318125 \nL 149.3515 22.318125 \nz\n\" style=\"fill:#ffffff;\"/>\n   </g>\n   <g id=\"patch_18\">\n    <path clip-path=\"url(#p8c69d43d4e)\" d=\"M 153.409682 131.038125 \nL 161.526045 131.038125 \nL 161.526045 121.431056 \nL 153.409682 121.431056 \nz\n\" style=\"fill:#1f77b4;\"/>\n   </g>\n   <g id=\"patch_19\">\n    <path clip-path=\"url(#p8c69d43d4e)\" d=\"M 161.526045 131.038125 \nL 169.642409 131.038125 \nL 169.642409 86.205135 \nL 161.526045 86.205135 \nz\n\" style=\"fill:#1f77b4;\"/>\n   </g>\n   <g id=\"patch_20\">\n    <path clip-path=\"url(#p8c69d43d4e)\" d=\"M 169.642409 131.038125 \nL 177.758773 131.038125 \nL 177.758773 27.495268 \nL 169.642409 27.495268 \nz\n\" style=\"fill:#1f77b4;\"/>\n   </g>\n   <g id=\"patch_21\">\n    <path clip-path=\"url(#p8c69d43d4e)\" d=\"M 177.758773 131.038125 \nL 185.875136 131.038125 \nL 185.875136 27.495268 \nL 177.758773 27.495268 \nz\n\" style=\"fill:#1f77b4;\"/>\n   </g>\n   <g id=\"patch_22\">\n    <path clip-path=\"url(#p8c69d43d4e)\" d=\"M 185.875136 131.038125 \nL 193.9915 131.038125 \nL 193.9915 45.641954 \nL 185.875136 45.641954 \nz\n\" style=\"fill:#1f77b4;\"/>\n   </g>\n   <g id=\"patch_23\">\n    <path clip-path=\"url(#p8c69d43d4e)\" d=\"M 193.9915 131.038125 \nL 202.107864 131.038125 \nL 202.107864 44.574502 \nL 193.9915 44.574502 \nz\n\" style=\"fill:#1f77b4;\"/>\n   </g>\n   <g id=\"patch_24\">\n    <path clip-path=\"url(#p8c69d43d4e)\" d=\"M 202.107864 131.038125 \nL 210.224227 131.038125 \nL 210.224227 77.665518 \nL 202.107864 77.665518 \nz\n\" style=\"fill:#1f77b4;\"/>\n   </g>\n   <g id=\"patch_25\">\n    <path clip-path=\"url(#p8c69d43d4e)\" d=\"M 210.224227 131.038125 \nL 218.340591 131.038125 \nL 218.340591 102.216917 \nL 210.224227 102.216917 \nz\n\" style=\"fill:#1f77b4;\"/>\n   </g>\n   <g id=\"patch_26\">\n    <path clip-path=\"url(#p8c69d43d4e)\" d=\"M 218.340591 131.038125 \nL 226.456955 131.038125 \nL 226.456955 120.363604 \nL 218.340591 120.363604 \nz\n\" style=\"fill:#1f77b4;\"/>\n   </g>\n   <g id=\"patch_27\">\n    <path clip-path=\"url(#p8c69d43d4e)\" d=\"M 226.456955 131.038125 \nL 234.573318 131.038125 \nL 234.573318 126.768316 \nL 226.456955 126.768316 \nz\n\" style=\"fill:#1f77b4;\"/>\n   </g>\n   <g id=\"matplotlib.axis_3\">\n    <g id=\"xtick_3\">\n     <g id=\"line2d_11\">\n      <path clip-path=\"url(#p8c69d43d4e)\" d=\"M 178.2793 131.038125 \nL 178.2793 22.318125 \n\" style=\"fill:none;stroke:#b0b0b0;stroke-linecap:square;stroke-width:0.8;\"/>\n     </g>\n     <g id=\"line2d_12\">\n      <g>\n       <use style=\"stroke:#000000;stroke-width:0.8;\" x=\"178.2793\" xlink:href=\"#mc504cf78b3\" y=\"131.038125\"/>\n      </g>\n     </g>\n     <g id=\"text_7\">\n      <!-- 20 -->\n      <g transform=\"translate(171.9168 145.636562)scale(0.1 -0.1)\">\n       <use xlink:href=\"#DejaVuSans-50\"/>\n       <use x=\"63.623047\" xlink:href=\"#DejaVuSans-48\"/>\n      </g>\n     </g>\n    </g>\n    <g id=\"xtick_4\">\n     <g id=\"line2d_13\">\n      <path clip-path=\"url(#p8c69d43d4e)\" d=\"M 216.836847 131.038125 \nL 216.836847 22.318125 \n\" style=\"fill:none;stroke:#b0b0b0;stroke-linecap:square;stroke-width:0.8;\"/>\n     </g>\n     <g id=\"line2d_14\">\n      <g>\n       <use style=\"stroke:#000000;stroke-width:0.8;\" x=\"216.836847\" xlink:href=\"#mc504cf78b3\" y=\"131.038125\"/>\n      </g>\n     </g>\n     <g id=\"text_8\">\n      <!-- 30 -->\n      <defs>\n       <path d=\"M 40.578125 39.3125 \nQ 47.65625 37.796875 51.625 33 \nQ 55.609375 28.21875 55.609375 21.1875 \nQ 55.609375 10.40625 48.1875 4.484375 \nQ 40.765625 -1.421875 27.09375 -1.421875 \nQ 22.515625 -1.421875 17.65625 -0.515625 \nQ 12.796875 0.390625 7.625 2.203125 \nL 7.625 11.71875 \nQ 11.71875 9.328125 16.59375 8.109375 \nQ 21.484375 6.890625 26.8125 6.890625 \nQ 36.078125 6.890625 40.9375 10.546875 \nQ 45.796875 14.203125 45.796875 21.1875 \nQ 45.796875 27.640625 41.28125 31.265625 \nQ 36.765625 34.90625 28.71875 34.90625 \nL 20.21875 34.90625 \nL 20.21875 43.015625 \nL 29.109375 43.015625 \nQ 36.375 43.015625 40.234375 45.921875 \nQ 44.09375 48.828125 44.09375 54.296875 \nQ 44.09375 59.90625 40.109375 62.90625 \nQ 36.140625 65.921875 28.71875 65.921875 \nQ 24.65625 65.921875 20.015625 65.03125 \nQ 15.375 64.15625 9.8125 62.3125 \nL 9.8125 71.09375 \nQ 15.4375 72.65625 20.34375 73.4375 \nQ 25.25 74.21875 29.59375 74.21875 \nQ 40.828125 74.21875 47.359375 69.109375 \nQ 53.90625 64.015625 53.90625 55.328125 \nQ 53.90625 49.265625 50.4375 45.09375 \nQ 46.96875 40.921875 40.578125 39.3125 \nz\n\" id=\"DejaVuSans-51\"/>\n      </defs>\n      <g transform=\"translate(210.474347 145.636562)scale(0.1 -0.1)\">\n       <use xlink:href=\"#DejaVuSans-51\"/>\n       <use x=\"63.623047\" xlink:href=\"#DejaVuSans-48\"/>\n      </g>\n     </g>\n    </g>\n   </g>\n   <g id=\"matplotlib.axis_4\">\n    <g id=\"ytick_4\">\n     <g id=\"line2d_15\">\n      <path clip-path=\"url(#p8c69d43d4e)\" d=\"M 149.3515 131.038125 \nL 238.6315 131.038125 \n\" style=\"fill:none;stroke:#b0b0b0;stroke-linecap:square;stroke-width:0.8;\"/>\n     </g>\n     <g id=\"line2d_16\">\n      <g>\n       <use style=\"stroke:#000000;stroke-width:0.8;\" x=\"149.3515\" xlink:href=\"#md3fd3d0ccc\" y=\"131.038125\"/>\n      </g>\n     </g>\n     <g id=\"text_9\">\n      <!-- 0 -->\n      <g transform=\"translate(135.989 134.837344)scale(0.1 -0.1)\">\n       <use xlink:href=\"#DejaVuSans-48\"/>\n      </g>\n     </g>\n    </g>\n    <g id=\"ytick_5\">\n     <g id=\"line2d_17\">\n      <path clip-path=\"url(#p8c69d43d4e)\" d=\"M 149.3515 104.351822 \nL 238.6315 104.351822 \n\" style=\"fill:none;stroke:#b0b0b0;stroke-linecap:square;stroke-width:0.8;\"/>\n     </g>\n     <g id=\"line2d_18\">\n      <g>\n       <use style=\"stroke:#000000;stroke-width:0.8;\" x=\"149.3515\" xlink:href=\"#md3fd3d0ccc\" y=\"104.351822\"/>\n      </g>\n     </g>\n     <g id=\"text_10\">\n      <!-- 25 -->\n      <g transform=\"translate(129.6265 108.15104)scale(0.1 -0.1)\">\n       <use xlink:href=\"#DejaVuSans-50\"/>\n       <use x=\"63.623047\" xlink:href=\"#DejaVuSans-53\"/>\n      </g>\n     </g>\n    </g>\n    <g id=\"ytick_6\">\n     <g id=\"line2d_19\">\n      <path clip-path=\"url(#p8c69d43d4e)\" d=\"M 149.3515 77.665518 \nL 238.6315 77.665518 \n\" style=\"fill:none;stroke:#b0b0b0;stroke-linecap:square;stroke-width:0.8;\"/>\n     </g>\n     <g id=\"line2d_20\">\n      <g>\n       <use style=\"stroke:#000000;stroke-width:0.8;\" x=\"149.3515\" xlink:href=\"#md3fd3d0ccc\" y=\"77.665518\"/>\n      </g>\n     </g>\n     <g id=\"text_11\">\n      <!-- 50 -->\n      <g transform=\"translate(129.6265 81.464737)scale(0.1 -0.1)\">\n       <use xlink:href=\"#DejaVuSans-53\"/>\n       <use x=\"63.623047\" xlink:href=\"#DejaVuSans-48\"/>\n      </g>\n     </g>\n    </g>\n    <g id=\"ytick_7\">\n     <g id=\"line2d_21\">\n      <path clip-path=\"url(#p8c69d43d4e)\" d=\"M 149.3515 50.979215 \nL 238.6315 50.979215 \n\" style=\"fill:none;stroke:#b0b0b0;stroke-linecap:square;stroke-width:0.8;\"/>\n     </g>\n     <g id=\"line2d_22\">\n      <g>\n       <use style=\"stroke:#000000;stroke-width:0.8;\" x=\"149.3515\" xlink:href=\"#md3fd3d0ccc\" y=\"50.979215\"/>\n      </g>\n     </g>\n     <g id=\"text_12\">\n      <!-- 75 -->\n      <defs>\n       <path d=\"M 8.203125 72.90625 \nL 55.078125 72.90625 \nL 55.078125 68.703125 \nL 28.609375 0 \nL 18.3125 0 \nL 43.21875 64.59375 \nL 8.203125 64.59375 \nz\n\" id=\"DejaVuSans-55\"/>\n      </defs>\n      <g transform=\"translate(129.6265 54.778434)scale(0.1 -0.1)\">\n       <use xlink:href=\"#DejaVuSans-55\"/>\n       <use x=\"63.623047\" xlink:href=\"#DejaVuSans-53\"/>\n      </g>\n     </g>\n    </g>\n    <g id=\"ytick_8\">\n     <g id=\"line2d_23\">\n      <path clip-path=\"url(#p8c69d43d4e)\" d=\"M 149.3515 24.292911 \nL 238.6315 24.292911 \n\" style=\"fill:none;stroke:#b0b0b0;stroke-linecap:square;stroke-width:0.8;\"/>\n     </g>\n     <g id=\"line2d_24\">\n      <g>\n       <use style=\"stroke:#000000;stroke-width:0.8;\" x=\"149.3515\" xlink:href=\"#md3fd3d0ccc\" y=\"24.292911\"/>\n      </g>\n     </g>\n     <g id=\"text_13\">\n      <!-- 100 -->\n      <g transform=\"translate(123.264 28.09213)scale(0.1 -0.1)\">\n       <use xlink:href=\"#DejaVuSans-49\"/>\n       <use x=\"63.623047\" xlink:href=\"#DejaVuSans-48\"/>\n       <use x=\"127.246094\" xlink:href=\"#DejaVuSans-48\"/>\n      </g>\n     </g>\n    </g>\n   </g>\n   <g id=\"patch_28\">\n    <path d=\"M 149.3515 131.038125 \nL 149.3515 22.318125 \n\" style=\"fill:none;stroke:#000000;stroke-linecap:square;stroke-linejoin:miter;stroke-width:0.8;\"/>\n   </g>\n   <g id=\"patch_29\">\n    <path d=\"M 238.6315 131.038125 \nL 238.6315 22.318125 \n\" style=\"fill:none;stroke:#000000;stroke-linecap:square;stroke-linejoin:miter;stroke-width:0.8;\"/>\n   </g>\n   <g id=\"patch_30\">\n    <path d=\"M 149.3515 131.038125 \nL 238.6315 131.038125 \n\" style=\"fill:none;stroke:#000000;stroke-linecap:square;stroke-linejoin:miter;stroke-width:0.8;\"/>\n   </g>\n   <g id=\"patch_31\">\n    <path d=\"M 149.3515 22.318125 \nL 238.6315 22.318125 \n\" style=\"fill:none;stroke:#000000;stroke-linecap:square;stroke-linejoin:miter;stroke-width:0.8;\"/>\n   </g>\n   <g id=\"text_14\">\n    <!-- ARTHRITIS -->\n    <defs>\n     <path d=\"M 44.390625 34.1875 \nQ 47.5625 33.109375 50.5625 29.59375 \nQ 53.5625 26.078125 56.59375 19.921875 \nL 66.609375 0 \nL 56 0 \nL 46.6875 18.703125 \nQ 43.0625 26.03125 39.671875 28.421875 \nQ 36.28125 30.8125 30.421875 30.8125 \nL 19.671875 30.8125 \nL 19.671875 0 \nL 9.8125 0 \nL 9.8125 72.90625 \nL 32.078125 72.90625 \nQ 44.578125 72.90625 50.734375 67.671875 \nQ 56.890625 62.453125 56.890625 51.90625 \nQ 56.890625 45.015625 53.6875 40.46875 \nQ 50.484375 35.9375 44.390625 34.1875 \nz\nM 19.671875 64.796875 \nL 19.671875 38.921875 \nL 32.078125 38.921875 \nQ 39.203125 38.921875 42.84375 42.21875 \nQ 46.484375 45.515625 46.484375 51.90625 \nQ 46.484375 58.296875 42.84375 61.546875 \nQ 39.203125 64.796875 32.078125 64.796875 \nz\n\" id=\"DejaVuSans-82\"/>\n     <path d=\"M -0.296875 72.90625 \nL 61.375 72.90625 \nL 61.375 64.59375 \nL 35.5 64.59375 \nL 35.5 0 \nL 25.59375 0 \nL 25.59375 64.59375 \nL -0.296875 64.59375 \nz\n\" id=\"DejaVuSans-84\"/>\n     <path d=\"M 9.8125 72.90625 \nL 19.671875 72.90625 \nL 19.671875 43.015625 \nL 55.515625 43.015625 \nL 55.515625 72.90625 \nL 65.375 72.90625 \nL 65.375 0 \nL 55.515625 0 \nL 55.515625 34.71875 \nL 19.671875 34.71875 \nL 19.671875 0 \nL 9.8125 0 \nz\n\" id=\"DejaVuSans-72\"/>\n     <path d=\"M 9.8125 72.90625 \nL 19.671875 72.90625 \nL 19.671875 0 \nL 9.8125 0 \nz\n\" id=\"DejaVuSans-73\"/>\n    </defs>\n    <g transform=\"translate(162.793375 16.318125)scale(0.12 -0.12)\">\n     <use xlink:href=\"#DejaVuSans-65\"/>\n     <use x=\"68.408203\" xlink:href=\"#DejaVuSans-82\"/>\n     <use x=\"130.640625\" xlink:href=\"#DejaVuSans-84\"/>\n     <use x=\"191.724609\" xlink:href=\"#DejaVuSans-72\"/>\n     <use x=\"266.919922\" xlink:href=\"#DejaVuSans-82\"/>\n     <use x=\"336.402344\" xlink:href=\"#DejaVuSans-73\"/>\n     <use x=\"365.894531\" xlink:href=\"#DejaVuSans-84\"/>\n     <use x=\"426.978516\" xlink:href=\"#DejaVuSans-73\"/>\n     <use x=\"456.470703\" xlink:href=\"#DejaVuSans-83\"/>\n    </g>\n   </g>\n  </g>\n  <g id=\"axes_3\">\n   <g id=\"patch_32\">\n    <path d=\"M 265.4155 131.038125 \nL 354.6955 131.038125 \nL 354.6955 22.318125 \nL 265.4155 22.318125 \nz\n\" style=\"fill:#ffffff;\"/>\n   </g>\n   <g id=\"patch_33\">\n    <path clip-path=\"url(#paba069483b)\" d=\"M 269.473682 131.038125 \nL 277.590045 131.038125 \nL 277.590045 128.754091 \nL 269.473682 128.754091 \nz\n\" style=\"fill:#1f77b4;\"/>\n   </g>\n   <g id=\"patch_34\">\n    <path clip-path=\"url(#paba069483b)\" d=\"M 277.590045 131.038125 \nL 285.706409 131.038125 \nL 285.706409 127.231402 \nL 277.590045 127.231402 \nz\n\" style=\"fill:#1f77b4;\"/>\n   </g>\n   <g id=\"patch_35\">\n    <path clip-path=\"url(#paba069483b)\" d=\"M 285.706409 131.038125 \nL 293.822773 131.038125 \nL 293.822773 116.572579 \nL 285.706409 116.572579 \nz\n\" style=\"fill:#1f77b4;\"/>\n   </g>\n   <g id=\"patch_36\">\n    <path clip-path=\"url(#paba069483b)\" d=\"M 293.822773 131.038125 \nL 301.939136 131.038125 \nL 301.939136 70.130562 \nL 293.822773 70.130562 \nz\n\" style=\"fill:#1f77b4;\"/>\n   </g>\n   <g id=\"patch_37\">\n    <path clip-path=\"url(#paba069483b)\" d=\"M 301.939136 131.038125 \nL 310.0555 131.038125 \nL 310.0555 27.495268 \nL 301.939136 27.495268 \nz\n\" style=\"fill:#1f77b4;\"/>\n   </g>\n   <g id=\"patch_38\">\n    <path clip-path=\"url(#paba069483b)\" d=\"M 310.0555 131.038125 \nL 318.171864 131.038125 \nL 318.171864 32.82468 \nL 310.0555 32.82468 \nz\n\" style=\"fill:#1f77b4;\"/>\n   </g>\n   <g id=\"patch_39\">\n    <path clip-path=\"url(#paba069483b)\" d=\"M 318.171864 131.038125 \nL 326.288227 131.038125 \nL 326.288227 68.607873 \nL 318.171864 68.607873 \nz\n\" style=\"fill:#1f77b4;\"/>\n   </g>\n   <g id=\"patch_40\">\n    <path clip-path=\"url(#paba069483b)\" d=\"M 326.288227 131.038125 \nL 334.404591 131.038125 \nL 334.404591 112.004512 \nL 326.288227 112.004512 \nz\n\" style=\"fill:#1f77b4;\"/>\n   </g>\n   <g id=\"patch_41\">\n    <path clip-path=\"url(#paba069483b)\" d=\"M 334.404591 131.038125 \nL 342.520955 131.038125 \nL 342.520955 119.617957 \nL 334.404591 119.617957 \nz\n\" style=\"fill:#1f77b4;\"/>\n   </g>\n   <g id=\"patch_42\">\n    <path clip-path=\"url(#paba069483b)\" d=\"M 342.520955 131.038125 \nL 350.637318 131.038125 \nL 350.637318 128.754091 \nL 342.520955 128.754091 \nz\n\" style=\"fill:#1f77b4;\"/>\n   </g>\n   <g id=\"matplotlib.axis_5\">\n    <g id=\"xtick_5\">\n     <g id=\"line2d_25\">\n      <path clip-path=\"url(#paba069483b)\" d=\"M 277.522968 131.038125 \nL 277.522968 22.318125 \n\" style=\"fill:none;stroke:#b0b0b0;stroke-linecap:square;stroke-width:0.8;\"/>\n     </g>\n     <g id=\"line2d_26\">\n      <g>\n       <use style=\"stroke:#000000;stroke-width:0.8;\" x=\"277.522968\" xlink:href=\"#mc504cf78b3\" y=\"131.038125\"/>\n      </g>\n     </g>\n     <g id=\"text_15\">\n      <!-- 10 -->\n      <g transform=\"translate(271.160468 145.636562)scale(0.1 -0.1)\">\n       <use xlink:href=\"#DejaVuSans-49\"/>\n       <use x=\"63.623047\" xlink:href=\"#DejaVuSans-48\"/>\n      </g>\n     </g>\n    </g>\n    <g id=\"xtick_6\">\n     <g id=\"line2d_27\">\n      <path clip-path=\"url(#paba069483b)\" d=\"M 322.241225 131.038125 \nL 322.241225 22.318125 \n\" style=\"fill:none;stroke:#b0b0b0;stroke-linecap:square;stroke-width:0.8;\"/>\n     </g>\n     <g id=\"line2d_28\">\n      <g>\n       <use style=\"stroke:#000000;stroke-width:0.8;\" x=\"322.241225\" xlink:href=\"#mc504cf78b3\" y=\"131.038125\"/>\n      </g>\n     </g>\n     <g id=\"text_16\">\n      <!-- 20 -->\n      <g transform=\"translate(315.878725 145.636562)scale(0.1 -0.1)\">\n       <use xlink:href=\"#DejaVuSans-50\"/>\n       <use x=\"63.623047\" xlink:href=\"#DejaVuSans-48\"/>\n      </g>\n     </g>\n    </g>\n   </g>\n   <g id=\"matplotlib.axis_6\">\n    <g id=\"ytick_9\">\n     <g id=\"line2d_29\">\n      <path clip-path=\"url(#paba069483b)\" d=\"M 265.4155 131.038125 \nL 354.6955 131.038125 \n\" style=\"fill:none;stroke:#b0b0b0;stroke-linecap:square;stroke-width:0.8;\"/>\n     </g>\n     <g id=\"line2d_30\">\n      <g>\n       <use style=\"stroke:#000000;stroke-width:0.8;\" x=\"265.4155\" xlink:href=\"#md3fd3d0ccc\" y=\"131.038125\"/>\n      </g>\n     </g>\n     <g id=\"text_17\">\n      <!-- 0 -->\n      <g transform=\"translate(252.053 134.837344)scale(0.1 -0.1)\">\n       <use xlink:href=\"#DejaVuSans-48\"/>\n      </g>\n     </g>\n    </g>\n    <g id=\"ytick_10\">\n     <g id=\"line2d_31\">\n      <path clip-path=\"url(#paba069483b)\" d=\"M 265.4155 92.970898 \nL 354.6955 92.970898 \n\" style=\"fill:none;stroke:#b0b0b0;stroke-linecap:square;stroke-width:0.8;\"/>\n     </g>\n     <g id=\"line2d_32\">\n      <g>\n       <use style=\"stroke:#000000;stroke-width:0.8;\" x=\"265.4155\" xlink:href=\"#md3fd3d0ccc\" y=\"92.970898\"/>\n      </g>\n     </g>\n     <g id=\"text_18\">\n      <!-- 50 -->\n      <g transform=\"translate(245.6905 96.770117)scale(0.1 -0.1)\">\n       <use xlink:href=\"#DejaVuSans-53\"/>\n       <use x=\"63.623047\" xlink:href=\"#DejaVuSans-48\"/>\n      </g>\n     </g>\n    </g>\n    <g id=\"ytick_11\">\n     <g id=\"line2d_33\">\n      <path clip-path=\"url(#paba069483b)\" d=\"M 265.4155 54.903671 \nL 354.6955 54.903671 \n\" style=\"fill:none;stroke:#b0b0b0;stroke-linecap:square;stroke-width:0.8;\"/>\n     </g>\n     <g id=\"line2d_34\">\n      <g>\n       <use style=\"stroke:#000000;stroke-width:0.8;\" x=\"265.4155\" xlink:href=\"#md3fd3d0ccc\" y=\"54.903671\"/>\n      </g>\n     </g>\n     <g id=\"text_19\">\n      <!-- 100 -->\n      <g transform=\"translate(239.328 58.70289)scale(0.1 -0.1)\">\n       <use xlink:href=\"#DejaVuSans-49\"/>\n       <use x=\"63.623047\" xlink:href=\"#DejaVuSans-48\"/>\n       <use x=\"127.246094\" xlink:href=\"#DejaVuSans-48\"/>\n      </g>\n     </g>\n    </g>\n   </g>\n   <g id=\"patch_43\">\n    <path d=\"M 265.4155 131.038125 \nL 265.4155 22.318125 \n\" style=\"fill:none;stroke:#000000;stroke-linecap:square;stroke-linejoin:miter;stroke-width:0.8;\"/>\n   </g>\n   <g id=\"patch_44\">\n    <path d=\"M 354.6955 131.038125 \nL 354.6955 22.318125 \n\" style=\"fill:none;stroke:#000000;stroke-linecap:square;stroke-linejoin:miter;stroke-width:0.8;\"/>\n   </g>\n   <g id=\"patch_45\">\n    <path d=\"M 265.4155 131.038125 \nL 354.6955 131.038125 \n\" style=\"fill:none;stroke:#000000;stroke-linecap:square;stroke-linejoin:miter;stroke-width:0.8;\"/>\n   </g>\n   <g id=\"patch_46\">\n    <path d=\"M 265.4155 22.318125 \nL 354.6955 22.318125 \n\" style=\"fill:none;stroke:#000000;stroke-linecap:square;stroke-linejoin:miter;stroke-width:0.8;\"/>\n   </g>\n   <g id=\"text_20\">\n    <!-- BINGE -->\n    <defs>\n     <path d=\"M 19.671875 34.8125 \nL 19.671875 8.109375 \nL 35.5 8.109375 \nQ 43.453125 8.109375 47.28125 11.40625 \nQ 51.125 14.703125 51.125 21.484375 \nQ 51.125 28.328125 47.28125 31.5625 \nQ 43.453125 34.8125 35.5 34.8125 \nz\nM 19.671875 64.796875 \nL 19.671875 42.828125 \nL 34.28125 42.828125 \nQ 41.5 42.828125 45.03125 45.53125 \nQ 48.578125 48.25 48.578125 53.8125 \nQ 48.578125 59.328125 45.03125 62.0625 \nQ 41.5 64.796875 34.28125 64.796875 \nz\nM 9.8125 72.90625 \nL 35.015625 72.90625 \nQ 46.296875 72.90625 52.390625 68.21875 \nQ 58.5 63.53125 58.5 54.890625 \nQ 58.5 48.1875 55.375 44.234375 \nQ 52.25 40.28125 46.1875 39.3125 \nQ 53.46875 37.75 57.5 32.78125 \nQ 61.53125 27.828125 61.53125 20.40625 \nQ 61.53125 10.640625 54.890625 5.3125 \nQ 48.25 0 35.984375 0 \nL 9.8125 0 \nz\n\" id=\"DejaVuSans-66\"/>\n     <path d=\"M 9.8125 72.90625 \nL 23.09375 72.90625 \nL 55.421875 11.921875 \nL 55.421875 72.90625 \nL 64.984375 72.90625 \nL 64.984375 0 \nL 51.703125 0 \nL 19.390625 60.984375 \nL 19.390625 0 \nL 9.8125 0 \nz\n\" id=\"DejaVuSans-78\"/>\n     <path d=\"M 59.515625 10.40625 \nL 59.515625 29.984375 \nL 43.40625 29.984375 \nL 43.40625 38.09375 \nL 69.28125 38.09375 \nL 69.28125 6.78125 \nQ 63.578125 2.734375 56.6875 0.65625 \nQ 49.8125 -1.421875 42 -1.421875 \nQ 24.90625 -1.421875 15.25 8.5625 \nQ 5.609375 18.5625 5.609375 36.375 \nQ 5.609375 54.25 15.25 64.234375 \nQ 24.90625 74.21875 42 74.21875 \nQ 49.125 74.21875 55.546875 72.453125 \nQ 61.96875 70.703125 67.390625 67.28125 \nL 67.390625 56.78125 \nQ 61.921875 61.421875 55.765625 63.765625 \nQ 49.609375 66.109375 42.828125 66.109375 \nQ 29.4375 66.109375 22.71875 58.640625 \nQ 16.015625 51.171875 16.015625 36.375 \nQ 16.015625 21.625 22.71875 14.15625 \nQ 29.4375 6.6875 42.828125 6.6875 \nQ 48.046875 6.6875 52.140625 7.59375 \nQ 56.25 8.5 59.515625 10.40625 \nz\n\" id=\"DejaVuSans-71\"/>\n    </defs>\n    <g transform=\"translate(291.239875 16.318125)scale(0.12 -0.12)\">\n     <use xlink:href=\"#DejaVuSans-66\"/>\n     <use x=\"68.603516\" xlink:href=\"#DejaVuSans-73\"/>\n     <use x=\"98.095703\" xlink:href=\"#DejaVuSans-78\"/>\n     <use x=\"172.900391\" xlink:href=\"#DejaVuSans-71\"/>\n     <use x=\"250.390625\" xlink:href=\"#DejaVuSans-69\"/>\n    </g>\n   </g>\n  </g>\n  <g id=\"axes_4\">\n   <g id=\"patch_47\">\n    <path d=\"M 381.4795 131.038125 \nL 470.7595 131.038125 \nL 470.7595 22.318125 \nL 381.4795 22.318125 \nz\n\" style=\"fill:#ffffff;\"/>\n   </g>\n   <g id=\"patch_48\">\n    <path clip-path=\"url(#pbdd65a7687)\" d=\"M 385.537682 131.038125 \nL 393.654045 131.038125 \nL 393.654045 117.116396 \nL 385.537682 117.116396 \nz\n\" style=\"fill:#1f77b4;\"/>\n   </g>\n   <g id=\"patch_49\">\n    <path clip-path=\"url(#pbdd65a7687)\" d=\"M 393.654045 131.038125 \nL 401.770409 131.038125 \nL 401.770409 72.740886 \nL 393.654045 72.740886 \nz\n\" style=\"fill:#1f77b4;\"/>\n   </g>\n   <g id=\"patch_50\">\n    <path clip-path=\"url(#pbdd65a7687)\" d=\"M 401.770409 131.038125 \nL 409.886773 131.038125 \nL 409.886773 27.495268 \nL 401.770409 27.495268 \nz\n\" style=\"fill:#1f77b4;\"/>\n   </g>\n   <g id=\"patch_51\">\n    <path clip-path=\"url(#pbdd65a7687)\" d=\"M 409.886773 131.038125 \nL 418.003136 131.038125 \nL 418.003136 37.066456 \nL 409.886773 37.066456 \nz\n\" style=\"fill:#1f77b4;\"/>\n   </g>\n   <g id=\"patch_52\">\n    <path clip-path=\"url(#pbdd65a7687)\" d=\"M 418.003136 131.038125 \nL 426.1195 131.038125 \nL 426.1195 47.507753 \nL 418.003136 47.507753 \nz\n\" style=\"fill:#1f77b4;\"/>\n   </g>\n   <g id=\"patch_53\">\n    <path clip-path=\"url(#pbdd65a7687)\" d=\"M 426.1195 131.038125 \nL 434.235864 131.038125 \nL 434.235864 92.753371 \nL 426.1195 92.753371 \nz\n\" style=\"fill:#1f77b4;\"/>\n   </g>\n   <g id=\"patch_54\">\n    <path clip-path=\"url(#pbdd65a7687)\" d=\"M 434.235864 131.038125 \nL 442.352227 131.038125 \nL 442.352227 110.155532 \nL 434.235864 110.155532 \nz\n\" style=\"fill:#1f77b4;\"/>\n   </g>\n   <g id=\"patch_55\">\n    <path clip-path=\"url(#pbdd65a7687)\" d=\"M 442.352227 131.038125 \nL 450.468591 131.038125 \nL 450.468591 118.856612 \nL 442.352227 118.856612 \nz\n\" style=\"fill:#1f77b4;\"/>\n   </g>\n   <g id=\"patch_56\">\n    <path clip-path=\"url(#pbdd65a7687)\" d=\"M 450.468591 131.038125 \nL 458.584955 131.038125 \nL 458.584955 126.687585 \nL 450.468591 126.687585 \nz\n\" style=\"fill:#1f77b4;\"/>\n   </g>\n   <g id=\"patch_57\">\n    <path clip-path=\"url(#pbdd65a7687)\" d=\"M 458.584955 131.038125 \nL 466.701318 131.038125 \nL 466.701318 127.557693 \nL 458.584955 127.557693 \nz\n\" style=\"fill:#1f77b4;\"/>\n   </g>\n   <g id=\"matplotlib.axis_7\">\n    <g id=\"xtick_7\">\n     <g id=\"line2d_35\">\n      <path clip-path=\"url(#pbdd65a7687)\" d=\"M 385.388484 131.038125 \nL 385.388484 22.318125 \n\" style=\"fill:none;stroke:#b0b0b0;stroke-linecap:square;stroke-width:0.8;\"/>\n     </g>\n     <g id=\"line2d_36\">\n      <g>\n       <use style=\"stroke:#000000;stroke-width:0.8;\" x=\"385.388484\" xlink:href=\"#mc504cf78b3\" y=\"131.038125\"/>\n      </g>\n     </g>\n     <g id=\"text_21\">\n      <!-- 20 -->\n      <g transform=\"translate(379.025984 145.636562)scale(0.1 -0.1)\">\n       <use xlink:href=\"#DejaVuSans-50\"/>\n       <use x=\"63.623047\" xlink:href=\"#DejaVuSans-48\"/>\n      </g>\n     </g>\n    </g>\n    <g id=\"xtick_8\">\n     <g id=\"line2d_37\">\n      <path clip-path=\"url(#pbdd65a7687)\" d=\"M 445.067628 131.038125 \nL 445.067628 22.318125 \n\" style=\"fill:none;stroke:#b0b0b0;stroke-linecap:square;stroke-width:0.8;\"/>\n     </g>\n     <g id=\"line2d_38\">\n      <g>\n       <use style=\"stroke:#000000;stroke-width:0.8;\" x=\"445.067628\" xlink:href=\"#mc504cf78b3\" y=\"131.038125\"/>\n      </g>\n     </g>\n     <g id=\"text_22\">\n      <!-- 40 -->\n      <g transform=\"translate(438.705128 145.636562)scale(0.1 -0.1)\">\n       <use xlink:href=\"#DejaVuSans-52\"/>\n       <use x=\"63.623047\" xlink:href=\"#DejaVuSans-48\"/>\n      </g>\n     </g>\n    </g>\n   </g>\n   <g id=\"matplotlib.axis_8\">\n    <g id=\"ytick_12\">\n     <g id=\"line2d_39\">\n      <path clip-path=\"url(#pbdd65a7687)\" d=\"M 381.4795 131.038125 \nL 470.7595 131.038125 \n\" style=\"fill:none;stroke:#b0b0b0;stroke-linecap:square;stroke-width:0.8;\"/>\n     </g>\n     <g id=\"line2d_40\">\n      <g>\n       <use style=\"stroke:#000000;stroke-width:0.8;\" x=\"381.4795\" xlink:href=\"#md3fd3d0ccc\" y=\"131.038125\"/>\n      </g>\n     </g>\n     <g id=\"text_23\">\n      <!-- 0 -->\n      <g transform=\"translate(368.117 134.837344)scale(0.1 -0.1)\">\n       <use xlink:href=\"#DejaVuSans-48\"/>\n      </g>\n     </g>\n    </g>\n    <g id=\"ytick_13\">\n     <g id=\"line2d_41\">\n      <path clip-path=\"url(#pbdd65a7687)\" d=\"M 381.4795 109.285424 \nL 470.7595 109.285424 \n\" style=\"fill:none;stroke:#b0b0b0;stroke-linecap:square;stroke-width:0.8;\"/>\n     </g>\n     <g id=\"line2d_42\">\n      <g>\n       <use style=\"stroke:#000000;stroke-width:0.8;\" x=\"381.4795\" xlink:href=\"#md3fd3d0ccc\" y=\"109.285424\"/>\n      </g>\n     </g>\n     <g id=\"text_24\">\n      <!-- 25 -->\n      <g transform=\"translate(361.7545 113.084643)scale(0.1 -0.1)\">\n       <use xlink:href=\"#DejaVuSans-50\"/>\n       <use x=\"63.623047\" xlink:href=\"#DejaVuSans-53\"/>\n      </g>\n     </g>\n    </g>\n    <g id=\"ytick_14\">\n     <g id=\"line2d_43\">\n      <path clip-path=\"url(#pbdd65a7687)\" d=\"M 381.4795 87.532723 \nL 470.7595 87.532723 \n\" style=\"fill:none;stroke:#b0b0b0;stroke-linecap:square;stroke-width:0.8;\"/>\n     </g>\n     <g id=\"line2d_44\">\n      <g>\n       <use style=\"stroke:#000000;stroke-width:0.8;\" x=\"381.4795\" xlink:href=\"#md3fd3d0ccc\" y=\"87.532723\"/>\n      </g>\n     </g>\n     <g id=\"text_25\">\n      <!-- 50 -->\n      <g transform=\"translate(361.7545 91.331942)scale(0.1 -0.1)\">\n       <use xlink:href=\"#DejaVuSans-53\"/>\n       <use x=\"63.623047\" xlink:href=\"#DejaVuSans-48\"/>\n      </g>\n     </g>\n    </g>\n    <g id=\"ytick_15\">\n     <g id=\"line2d_45\">\n      <path clip-path=\"url(#pbdd65a7687)\" d=\"M 381.4795 65.780022 \nL 470.7595 65.780022 \n\" style=\"fill:none;stroke:#b0b0b0;stroke-linecap:square;stroke-width:0.8;\"/>\n     </g>\n     <g id=\"line2d_46\">\n      <g>\n       <use style=\"stroke:#000000;stroke-width:0.8;\" x=\"381.4795\" xlink:href=\"#md3fd3d0ccc\" y=\"65.780022\"/>\n      </g>\n     </g>\n     <g id=\"text_26\">\n      <!-- 75 -->\n      <g transform=\"translate(361.7545 69.579241)scale(0.1 -0.1)\">\n       <use xlink:href=\"#DejaVuSans-55\"/>\n       <use x=\"63.623047\" xlink:href=\"#DejaVuSans-53\"/>\n      </g>\n     </g>\n    </g>\n    <g id=\"ytick_16\">\n     <g id=\"line2d_47\">\n      <path clip-path=\"url(#pbdd65a7687)\" d=\"M 381.4795 44.027321 \nL 470.7595 44.027321 \n\" style=\"fill:none;stroke:#b0b0b0;stroke-linecap:square;stroke-width:0.8;\"/>\n     </g>\n     <g id=\"line2d_48\">\n      <g>\n       <use style=\"stroke:#000000;stroke-width:0.8;\" x=\"381.4795\" xlink:href=\"#md3fd3d0ccc\" y=\"44.027321\"/>\n      </g>\n     </g>\n     <g id=\"text_27\">\n      <!-- 100 -->\n      <g transform=\"translate(355.392 47.826539)scale(0.1 -0.1)\">\n       <use xlink:href=\"#DejaVuSans-49\"/>\n       <use x=\"63.623047\" xlink:href=\"#DejaVuSans-48\"/>\n       <use x=\"127.246094\" xlink:href=\"#DejaVuSans-48\"/>\n      </g>\n     </g>\n    </g>\n   </g>\n   <g id=\"patch_58\">\n    <path d=\"M 381.4795 131.038125 \nL 381.4795 22.318125 \n\" style=\"fill:none;stroke:#000000;stroke-linecap:square;stroke-linejoin:miter;stroke-width:0.8;\"/>\n   </g>\n   <g id=\"patch_59\">\n    <path d=\"M 470.7595 131.038125 \nL 470.7595 22.318125 \n\" style=\"fill:none;stroke:#000000;stroke-linecap:square;stroke-linejoin:miter;stroke-width:0.8;\"/>\n   </g>\n   <g id=\"patch_60\">\n    <path d=\"M 381.4795 131.038125 \nL 470.7595 131.038125 \n\" style=\"fill:none;stroke:#000000;stroke-linecap:square;stroke-linejoin:miter;stroke-width:0.8;\"/>\n   </g>\n   <g id=\"patch_61\">\n    <path d=\"M 381.4795 22.318125 \nL 470.7595 22.318125 \n\" style=\"fill:none;stroke:#000000;stroke-linecap:square;stroke-linejoin:miter;stroke-width:0.8;\"/>\n   </g>\n   <g id=\"text_28\">\n    <!-- BPHIGH -->\n    <defs>\n     <path d=\"M 19.671875 64.796875 \nL 19.671875 37.40625 \nL 32.078125 37.40625 \nQ 38.96875 37.40625 42.71875 40.96875 \nQ 46.484375 44.53125 46.484375 51.125 \nQ 46.484375 57.671875 42.71875 61.234375 \nQ 38.96875 64.796875 32.078125 64.796875 \nz\nM 9.8125 72.90625 \nL 32.078125 72.90625 \nQ 44.34375 72.90625 50.609375 67.359375 \nQ 56.890625 61.8125 56.890625 51.125 \nQ 56.890625 40.328125 50.609375 34.8125 \nQ 44.34375 29.296875 32.078125 29.296875 \nL 19.671875 29.296875 \nL 19.671875 0 \nL 9.8125 0 \nz\n\" id=\"DejaVuSans-80\"/>\n    </defs>\n    <g transform=\"translate(402.941688 16.318125)scale(0.12 -0.12)\">\n     <use xlink:href=\"#DejaVuSans-66\"/>\n     <use x=\"68.603516\" xlink:href=\"#DejaVuSans-80\"/>\n     <use x=\"128.90625\" xlink:href=\"#DejaVuSans-72\"/>\n     <use x=\"204.101562\" xlink:href=\"#DejaVuSans-73\"/>\n     <use x=\"233.59375\" xlink:href=\"#DejaVuSans-71\"/>\n     <use x=\"311.083984\" xlink:href=\"#DejaVuSans-72\"/>\n    </g>\n   </g>\n  </g>\n  <g id=\"axes_5\">\n   <g id=\"patch_62\">\n    <path d=\"M 497.5435 131.038125 \nL 586.8235 131.038125 \nL 586.8235 22.318125 \nL 497.5435 22.318125 \nz\n\" style=\"fill:#ffffff;\"/>\n   </g>\n   <g id=\"patch_63\">\n    <path clip-path=\"url(#p8905c3cb48)\" d=\"M 501.601682 131.038125 \nL 509.718045 131.038125 \nL 509.718045 128.022314 \nL 501.601682 128.022314 \nz\n\" style=\"fill:#1f77b4;\"/>\n   </g>\n   <g id=\"patch_64\">\n    <path clip-path=\"url(#p8905c3cb48)\" d=\"M 509.718045 131.038125 \nL 517.834409 131.038125 \nL 517.834409 107.916904 \nL 509.718045 107.916904 \nz\n\" style=\"fill:#1f77b4;\"/>\n   </g>\n   <g id=\"patch_65\">\n    <path clip-path=\"url(#p8905c3cb48)\" d=\"M 517.834409 131.038125 \nL 525.950773 131.038125 \nL 525.950773 49.611218 \nL 517.834409 49.611218 \nz\n\" style=\"fill:#1f77b4;\"/>\n   </g>\n   <g id=\"patch_66\">\n    <path clip-path=\"url(#p8905c3cb48)\" d=\"M 525.950773 131.038125 \nL 534.067136 131.038125 \nL 534.067136 65.695545 \nL 525.950773 65.695545 \nz\n\" style=\"fill:#1f77b4;\"/>\n   </g>\n   <g id=\"patch_67\">\n    <path clip-path=\"url(#p8905c3cb48)\" d=\"M 534.067136 131.038125 \nL 542.1835 131.038125 \nL 542.1835 79.769332 \nL 534.067136 79.769332 \nz\n\" style=\"fill:#1f77b4;\"/>\n   </g>\n   <g id=\"patch_68\">\n    <path clip-path=\"url(#p8905c3cb48)\" d=\"M 542.1835 131.038125 \nL 550.299864 131.038125 \nL 550.299864 27.495268 \nL 542.1835 27.495268 \nz\n\" style=\"fill:#1f77b4;\"/>\n   </g>\n   <g id=\"patch_69\">\n    <path clip-path=\"url(#p8905c3cb48)\" d=\"M 550.299864 131.038125 \nL 558.416227 131.038125 \nL 558.416227 45.590136 \nL 550.299864 45.590136 \nz\n\" style=\"fill:#1f77b4;\"/>\n   </g>\n   <g id=\"patch_70\">\n    <path clip-path=\"url(#p8905c3cb48)\" d=\"M 558.416227 131.038125 \nL 566.532591 131.038125 \nL 566.532591 78.764061 \nL 558.416227 78.764061 \nz\n\" style=\"fill:#1f77b4;\"/>\n   </g>\n   <g id=\"patch_71\">\n    <path clip-path=\"url(#p8905c3cb48)\" d=\"M 566.532591 131.038125 \nL 574.648955 131.038125 \nL 574.648955 105.906364 \nL 566.532591 105.906364 \nz\n\" style=\"fill:#1f77b4;\"/>\n   </g>\n   <g id=\"patch_72\">\n    <path clip-path=\"url(#p8905c3cb48)\" d=\"M 574.648955 131.038125 \nL 582.765318 131.038125 \nL 582.765318 121.990691 \nL 574.648955 121.990691 \nz\n\" style=\"fill:#1f77b4;\"/>\n   </g>\n   <g id=\"matplotlib.axis_9\">\n    <g id=\"xtick_9\">\n     <g id=\"line2d_49\">\n      <path clip-path=\"url(#p8905c3cb48)\" d=\"M 522.902546 131.038125 \nL 522.902546 22.318125 \n\" style=\"fill:none;stroke:#b0b0b0;stroke-linecap:square;stroke-width:0.8;\"/>\n     </g>\n     <g id=\"line2d_50\">\n      <g>\n       <use style=\"stroke:#000000;stroke-width:0.8;\" x=\"522.902546\" xlink:href=\"#mc504cf78b3\" y=\"131.038125\"/>\n      </g>\n     </g>\n     <g id=\"text_29\">\n      <!-- 60 -->\n      <defs>\n       <path d=\"M 33.015625 40.375 \nQ 26.375 40.375 22.484375 35.828125 \nQ 18.609375 31.296875 18.609375 23.390625 \nQ 18.609375 15.53125 22.484375 10.953125 \nQ 26.375 6.390625 33.015625 6.390625 \nQ 39.65625 6.390625 43.53125 10.953125 \nQ 47.40625 15.53125 47.40625 23.390625 \nQ 47.40625 31.296875 43.53125 35.828125 \nQ 39.65625 40.375 33.015625 40.375 \nz\nM 52.59375 71.296875 \nL 52.59375 62.3125 \nQ 48.875 64.0625 45.09375 64.984375 \nQ 41.3125 65.921875 37.59375 65.921875 \nQ 27.828125 65.921875 22.671875 59.328125 \nQ 17.53125 52.734375 16.796875 39.40625 \nQ 19.671875 43.65625 24.015625 45.921875 \nQ 28.375 48.1875 33.59375 48.1875 \nQ 44.578125 48.1875 50.953125 41.515625 \nQ 57.328125 34.859375 57.328125 23.390625 \nQ 57.328125 12.15625 50.6875 5.359375 \nQ 44.046875 -1.421875 33.015625 -1.421875 \nQ 20.359375 -1.421875 13.671875 8.265625 \nQ 6.984375 17.96875 6.984375 36.375 \nQ 6.984375 53.65625 15.1875 63.9375 \nQ 23.390625 74.21875 37.203125 74.21875 \nQ 40.921875 74.21875 44.703125 73.484375 \nQ 48.484375 72.75 52.59375 71.296875 \nz\n\" id=\"DejaVuSans-54\"/>\n      </defs>\n      <g transform=\"translate(516.540046 145.636562)scale(0.1 -0.1)\">\n       <use xlink:href=\"#DejaVuSans-54\"/>\n       <use x=\"63.623047\" xlink:href=\"#DejaVuSans-48\"/>\n      </g>\n     </g>\n    </g>\n    <g id=\"xtick_10\">\n     <g id=\"line2d_51\">\n      <path clip-path=\"url(#p8905c3cb48)\" d=\"M 559.628173 131.038125 \nL 559.628173 22.318125 \n\" style=\"fill:none;stroke:#b0b0b0;stroke-linecap:square;stroke-width:0.8;\"/>\n     </g>\n     <g id=\"line2d_52\">\n      <g>\n       <use style=\"stroke:#000000;stroke-width:0.8;\" x=\"559.628173\" xlink:href=\"#mc504cf78b3\" y=\"131.038125\"/>\n      </g>\n     </g>\n     <g id=\"text_30\">\n      <!-- 70 -->\n      <g transform=\"translate(553.265673 145.636562)scale(0.1 -0.1)\">\n       <use xlink:href=\"#DejaVuSans-55\"/>\n       <use x=\"63.623047\" xlink:href=\"#DejaVuSans-48\"/>\n      </g>\n     </g>\n    </g>\n   </g>\n   <g id=\"matplotlib.axis_10\">\n    <g id=\"ytick_17\">\n     <g id=\"line2d_53\">\n      <path clip-path=\"url(#p8905c3cb48)\" d=\"M 497.5435 131.038125 \nL 586.8235 131.038125 \n\" style=\"fill:none;stroke:#b0b0b0;stroke-linecap:square;stroke-width:0.8;\"/>\n     </g>\n     <g id=\"line2d_54\">\n      <g>\n       <use style=\"stroke:#000000;stroke-width:0.8;\" x=\"497.5435\" xlink:href=\"#md3fd3d0ccc\" y=\"131.038125\"/>\n      </g>\n     </g>\n     <g id=\"text_31\">\n      <!-- 0 -->\n      <g transform=\"translate(484.181 134.837344)scale(0.1 -0.1)\">\n       <use xlink:href=\"#DejaVuSans-48\"/>\n      </g>\n     </g>\n    </g>\n    <g id=\"ytick_18\">\n     <g id=\"line2d_55\">\n      <path clip-path=\"url(#p8905c3cb48)\" d=\"M 497.5435 105.906364 \nL 586.8235 105.906364 \n\" style=\"fill:none;stroke:#b0b0b0;stroke-linecap:square;stroke-width:0.8;\"/>\n     </g>\n     <g id=\"line2d_56\">\n      <g>\n       <use style=\"stroke:#000000;stroke-width:0.8;\" x=\"497.5435\" xlink:href=\"#md3fd3d0ccc\" y=\"105.906364\"/>\n      </g>\n     </g>\n     <g id=\"text_32\">\n      <!-- 25 -->\n      <g transform=\"translate(477.8185 109.705582)scale(0.1 -0.1)\">\n       <use xlink:href=\"#DejaVuSans-50\"/>\n       <use x=\"63.623047\" xlink:href=\"#DejaVuSans-53\"/>\n      </g>\n     </g>\n    </g>\n    <g id=\"ytick_19\">\n     <g id=\"line2d_57\">\n      <path clip-path=\"url(#p8905c3cb48)\" d=\"M 497.5435 80.774602 \nL 586.8235 80.774602 \n\" style=\"fill:none;stroke:#b0b0b0;stroke-linecap:square;stroke-width:0.8;\"/>\n     </g>\n     <g id=\"line2d_58\">\n      <g>\n       <use style=\"stroke:#000000;stroke-width:0.8;\" x=\"497.5435\" xlink:href=\"#md3fd3d0ccc\" y=\"80.774602\"/>\n      </g>\n     </g>\n     <g id=\"text_33\">\n      <!-- 50 -->\n      <g transform=\"translate(477.8185 84.573821)scale(0.1 -0.1)\">\n       <use xlink:href=\"#DejaVuSans-53\"/>\n       <use x=\"63.623047\" xlink:href=\"#DejaVuSans-48\"/>\n      </g>\n     </g>\n    </g>\n    <g id=\"ytick_20\">\n     <g id=\"line2d_59\">\n      <path clip-path=\"url(#p8905c3cb48)\" d=\"M 497.5435 55.642841 \nL 586.8235 55.642841 \n\" style=\"fill:none;stroke:#b0b0b0;stroke-linecap:square;stroke-width:0.8;\"/>\n     </g>\n     <g id=\"line2d_60\">\n      <g>\n       <use style=\"stroke:#000000;stroke-width:0.8;\" x=\"497.5435\" xlink:href=\"#md3fd3d0ccc\" y=\"55.642841\"/>\n      </g>\n     </g>\n     <g id=\"text_34\">\n      <!-- 75 -->\n      <g transform=\"translate(477.8185 59.442059)scale(0.1 -0.1)\">\n       <use xlink:href=\"#DejaVuSans-55\"/>\n       <use x=\"63.623047\" xlink:href=\"#DejaVuSans-53\"/>\n      </g>\n     </g>\n    </g>\n    <g id=\"ytick_21\">\n     <g id=\"line2d_61\">\n      <path clip-path=\"url(#p8905c3cb48)\" d=\"M 497.5435 30.511079 \nL 586.8235 30.511079 \n\" style=\"fill:none;stroke:#b0b0b0;stroke-linecap:square;stroke-width:0.8;\"/>\n     </g>\n     <g id=\"line2d_62\">\n      <g>\n       <use style=\"stroke:#000000;stroke-width:0.8;\" x=\"497.5435\" xlink:href=\"#md3fd3d0ccc\" y=\"30.511079\"/>\n      </g>\n     </g>\n     <g id=\"text_35\">\n      <!-- 100 -->\n      <g transform=\"translate(471.456 34.310298)scale(0.1 -0.1)\">\n       <use xlink:href=\"#DejaVuSans-49\"/>\n       <use x=\"63.623047\" xlink:href=\"#DejaVuSans-48\"/>\n       <use x=\"127.246094\" xlink:href=\"#DejaVuSans-48\"/>\n      </g>\n     </g>\n    </g>\n   </g>\n   <g id=\"patch_73\">\n    <path d=\"M 497.5435 131.038125 \nL 497.5435 22.318125 \n\" style=\"fill:none;stroke:#000000;stroke-linecap:square;stroke-linejoin:miter;stroke-width:0.8;\"/>\n   </g>\n   <g id=\"patch_74\">\n    <path d=\"M 586.8235 131.038125 \nL 586.8235 22.318125 \n\" style=\"fill:none;stroke:#000000;stroke-linecap:square;stroke-linejoin:miter;stroke-width:0.8;\"/>\n   </g>\n   <g id=\"patch_75\">\n    <path d=\"M 497.5435 131.038125 \nL 586.8235 131.038125 \n\" style=\"fill:none;stroke:#000000;stroke-linecap:square;stroke-linejoin:miter;stroke-width:0.8;\"/>\n   </g>\n   <g id=\"patch_76\">\n    <path d=\"M 497.5435 22.318125 \nL 586.8235 22.318125 \n\" style=\"fill:none;stroke:#000000;stroke-linecap:square;stroke-linejoin:miter;stroke-width:0.8;\"/>\n   </g>\n   <g id=\"text_36\">\n    <!-- BPMED -->\n    <defs>\n     <path d=\"M 9.8125 72.90625 \nL 24.515625 72.90625 \nL 43.109375 23.296875 \nL 61.8125 72.90625 \nL 76.515625 72.90625 \nL 76.515625 0 \nL 66.890625 0 \nL 66.890625 64.015625 \nL 48.09375 14.015625 \nL 38.1875 14.015625 \nL 19.390625 64.015625 \nL 19.390625 0 \nL 9.8125 0 \nz\n\" id=\"DejaVuSans-77\"/>\n     <path d=\"M 19.671875 64.796875 \nL 19.671875 8.109375 \nL 31.59375 8.109375 \nQ 46.6875 8.109375 53.6875 14.9375 \nQ 60.6875 21.78125 60.6875 36.53125 \nQ 60.6875 51.171875 53.6875 57.984375 \nQ 46.6875 64.796875 31.59375 64.796875 \nz\nM 9.8125 72.90625 \nL 30.078125 72.90625 \nQ 51.265625 72.90625 61.171875 64.09375 \nQ 71.09375 55.28125 71.09375 36.53125 \nQ 71.09375 17.671875 61.125 8.828125 \nQ 51.171875 0 30.078125 0 \nL 9.8125 0 \nz\n\" id=\"DejaVuSans-68\"/>\n    </defs>\n    <g transform=\"translate(520.861 16.318125)scale(0.12 -0.12)\">\n     <use xlink:href=\"#DejaVuSans-66\"/>\n     <use x=\"68.603516\" xlink:href=\"#DejaVuSans-80\"/>\n     <use x=\"128.90625\" xlink:href=\"#DejaVuSans-77\"/>\n     <use x=\"215.185547\" xlink:href=\"#DejaVuSans-69\"/>\n     <use x=\"278.369141\" xlink:href=\"#DejaVuSans-68\"/>\n    </g>\n   </g>\n  </g>\n  <g id=\"axes_6\">\n   <g id=\"patch_77\">\n    <path d=\"M 613.6075 131.038125 \nL 702.8875 131.038125 \nL 702.8875 22.318125 \nL 613.6075 22.318125 \nz\n\" style=\"fill:#ffffff;\"/>\n   </g>\n   <g id=\"patch_78\">\n    <path clip-path=\"url(#p308bded540)\" d=\"M 617.665682 131.038125 \nL 625.782045 131.038125 \nL 625.782045 123.272411 \nL 617.665682 123.272411 \nz\n\" style=\"fill:#1f77b4;\"/>\n   </g>\n   <g id=\"patch_79\">\n    <path clip-path=\"url(#p308bded540)\" d=\"M 625.782045 131.038125 \nL 633.898409 131.038125 \nL 633.898409 107.740982 \nL 625.782045 107.740982 \nz\n\" style=\"fill:#1f77b4;\"/>\n   </g>\n   <g id=\"patch_80\">\n    <path clip-path=\"url(#p308bded540)\" d=\"M 633.898409 131.038125 \nL 642.014773 131.038125 \nL 642.014773 80.992411 \nL 633.898409 80.992411 \nz\n\" style=\"fill:#1f77b4;\"/>\n   </g>\n   <g id=\"patch_81\">\n    <path clip-path=\"url(#p308bded540)\" d=\"M 642.014773 131.038125 \nL 650.131136 131.038125 \nL 650.131136 61.146696 \nL 642.014773 61.146696 \nz\n\" style=\"fill:#1f77b4;\"/>\n   </g>\n   <g id=\"patch_82\">\n    <path clip-path=\"url(#p308bded540)\" d=\"M 650.131136 131.038125 \nL 658.2475 131.038125 \nL 658.2475 27.495268 \nL 650.131136 27.495268 \nz\n\" style=\"fill:#1f77b4;\"/>\n   </g>\n   <g id=\"patch_83\">\n    <path clip-path=\"url(#p308bded540)\" d=\"M 658.2475 131.038125 \nL 666.363864 131.038125 \nL 666.363864 45.615268 \nL 658.2475 45.615268 \nz\n\" style=\"fill:#1f77b4;\"/>\n   </g>\n   <g id=\"patch_84\">\n    <path clip-path=\"url(#p308bded540)\" d=\"M 666.363864 131.038125 \nL 674.480227 131.038125 \nL 674.480227 79.266696 \nL 666.363864 79.266696 \nz\n\" style=\"fill:#1f77b4;\"/>\n   </g>\n   <g id=\"patch_85\">\n    <path clip-path=\"url(#p308bded540)\" d=\"M 674.480227 131.038125 \nL 682.596591 131.038125 \nL 682.596591 106.878125 \nL 674.480227 106.878125 \nz\n\" style=\"fill:#1f77b4;\"/>\n   </g>\n   <g id=\"patch_86\">\n    <path clip-path=\"url(#p308bded540)\" d=\"M 682.596591 131.038125 \nL 690.712955 131.038125 \nL 690.712955 121.546696 \nL 682.596591 121.546696 \nz\n\" style=\"fill:#1f77b4;\"/>\n   </g>\n   <g id=\"patch_87\">\n    <path clip-path=\"url(#p308bded540)\" d=\"M 690.712955 131.038125 \nL 698.829318 131.038125 \nL 698.829318 127.586696 \nL 690.712955 127.586696 \nz\n\" style=\"fill:#1f77b4;\"/>\n   </g>\n   <g id=\"matplotlib.axis_11\">\n    <g id=\"xtick_11\">\n     <g id=\"line2d_63\">\n      <path clip-path=\"url(#p308bded540)\" d=\"M 638.227136 131.038125 \nL 638.227136 22.318125 \n\" style=\"fill:none;stroke:#b0b0b0;stroke-linecap:square;stroke-width:0.8;\"/>\n     </g>\n     <g id=\"line2d_64\">\n      <g>\n       <use style=\"stroke:#000000;stroke-width:0.8;\" x=\"638.227136\" xlink:href=\"#mc504cf78b3\" y=\"131.038125\"/>\n      </g>\n     </g>\n     <g id=\"text_37\">\n      <!-- 5.0 -->\n      <defs>\n       <path d=\"M 10.6875 12.40625 \nL 21 12.40625 \nL 21 0 \nL 10.6875 0 \nz\n\" id=\"DejaVuSans-46\"/>\n      </defs>\n      <g transform=\"translate(630.275574 145.636562)scale(0.1 -0.1)\">\n       <use xlink:href=\"#DejaVuSans-53\"/>\n       <use x=\"63.623047\" xlink:href=\"#DejaVuSans-46\"/>\n       <use x=\"95.410156\" xlink:href=\"#DejaVuSans-48\"/>\n      </g>\n     </g>\n    </g>\n    <g id=\"xtick_12\">\n     <g id=\"line2d_65\">\n      <path clip-path=\"url(#p308bded540)\" d=\"M 692.336227 131.038125 \nL 692.336227 22.318125 \n\" style=\"fill:none;stroke:#b0b0b0;stroke-linecap:square;stroke-width:0.8;\"/>\n     </g>\n     <g id=\"line2d_66\">\n      <g>\n       <use style=\"stroke:#000000;stroke-width:0.8;\" x=\"692.336227\" xlink:href=\"#mc504cf78b3\" y=\"131.038125\"/>\n      </g>\n     </g>\n     <g id=\"text_38\">\n      <!-- 7.5 -->\n      <g transform=\"translate(684.384665 145.636562)scale(0.1 -0.1)\">\n       <use xlink:href=\"#DejaVuSans-55\"/>\n       <use x=\"63.623047\" xlink:href=\"#DejaVuSans-46\"/>\n       <use x=\"95.410156\" xlink:href=\"#DejaVuSans-53\"/>\n      </g>\n     </g>\n    </g>\n   </g>\n   <g id=\"matplotlib.axis_12\">\n    <g id=\"ytick_22\">\n     <g id=\"line2d_67\">\n      <path clip-path=\"url(#p308bded540)\" d=\"M 613.6075 131.038125 \nL 702.8875 131.038125 \n\" style=\"fill:none;stroke:#b0b0b0;stroke-linecap:square;stroke-width:0.8;\"/>\n     </g>\n     <g id=\"line2d_68\">\n      <g>\n       <use style=\"stroke:#000000;stroke-width:0.8;\" x=\"613.6075\" xlink:href=\"#md3fd3d0ccc\" y=\"131.038125\"/>\n      </g>\n     </g>\n     <g id=\"text_39\">\n      <!-- 0 -->\n      <g transform=\"translate(600.245 134.837344)scale(0.1 -0.1)\">\n       <use xlink:href=\"#DejaVuSans-48\"/>\n      </g>\n     </g>\n    </g>\n    <g id=\"ytick_23\">\n     <g id=\"line2d_69\">\n      <path clip-path=\"url(#p308bded540)\" d=\"M 613.6075 87.895268 \nL 702.8875 87.895268 \n\" style=\"fill:none;stroke:#b0b0b0;stroke-linecap:square;stroke-width:0.8;\"/>\n     </g>\n     <g id=\"line2d_70\">\n      <g>\n       <use style=\"stroke:#000000;stroke-width:0.8;\" x=\"613.6075\" xlink:href=\"#md3fd3d0ccc\" y=\"87.895268\"/>\n      </g>\n     </g>\n     <g id=\"text_40\">\n      <!-- 50 -->\n      <g transform=\"translate(593.8825 91.694487)scale(0.1 -0.1)\">\n       <use xlink:href=\"#DejaVuSans-53\"/>\n       <use x=\"63.623047\" xlink:href=\"#DejaVuSans-48\"/>\n      </g>\n     </g>\n    </g>\n    <g id=\"ytick_24\">\n     <g id=\"line2d_71\">\n      <path clip-path=\"url(#p308bded540)\" d=\"M 613.6075 44.752411 \nL 702.8875 44.752411 \n\" style=\"fill:none;stroke:#b0b0b0;stroke-linecap:square;stroke-width:0.8;\"/>\n     </g>\n     <g id=\"line2d_72\">\n      <g>\n       <use style=\"stroke:#000000;stroke-width:0.8;\" x=\"613.6075\" xlink:href=\"#md3fd3d0ccc\" y=\"44.752411\"/>\n      </g>\n     </g>\n     <g id=\"text_41\">\n      <!-- 100 -->\n      <g transform=\"translate(587.52 48.551629)scale(0.1 -0.1)\">\n       <use xlink:href=\"#DejaVuSans-49\"/>\n       <use x=\"63.623047\" xlink:href=\"#DejaVuSans-48\"/>\n       <use x=\"127.246094\" xlink:href=\"#DejaVuSans-48\"/>\n      </g>\n     </g>\n    </g>\n   </g>\n   <g id=\"patch_88\">\n    <path d=\"M 613.6075 131.038125 \nL 613.6075 22.318125 \n\" style=\"fill:none;stroke:#000000;stroke-linecap:square;stroke-linejoin:miter;stroke-width:0.8;\"/>\n   </g>\n   <g id=\"patch_89\">\n    <path d=\"M 702.8875 131.038125 \nL 702.8875 22.318125 \n\" style=\"fill:none;stroke:#000000;stroke-linecap:square;stroke-linejoin:miter;stroke-width:0.8;\"/>\n   </g>\n   <g id=\"patch_90\">\n    <path d=\"M 613.6075 131.038125 \nL 702.8875 131.038125 \n\" style=\"fill:none;stroke:#000000;stroke-linecap:square;stroke-linejoin:miter;stroke-width:0.8;\"/>\n   </g>\n   <g id=\"patch_91\">\n    <path d=\"M 613.6075 22.318125 \nL 702.8875 22.318125 \n\" style=\"fill:none;stroke:#000000;stroke-linecap:square;stroke-linejoin:miter;stroke-width:0.8;\"/>\n   </g>\n   <g id=\"text_42\">\n    <!-- CANCER -->\n    <g transform=\"translate(633.314688 16.318125)scale(0.12 -0.12)\">\n     <use xlink:href=\"#DejaVuSans-67\"/>\n     <use x=\"69.824219\" xlink:href=\"#DejaVuSans-65\"/>\n     <use x=\"138.232422\" xlink:href=\"#DejaVuSans-78\"/>\n     <use x=\"213.037109\" xlink:href=\"#DejaVuSans-67\"/>\n     <use x=\"282.861328\" xlink:href=\"#DejaVuSans-69\"/>\n     <use x=\"346.044922\" xlink:href=\"#DejaVuSans-82\"/>\n    </g>\n   </g>\n  </g>\n  <g id=\"axes_7\">\n   <g id=\"patch_92\">\n    <path d=\"M 33.2875 272.374125 \nL 122.5675 272.374125 \nL 122.5675 163.654125 \nL 33.2875 163.654125 \nz\n\" style=\"fill:#ffffff;\"/>\n   </g>\n   <g id=\"patch_93\">\n    <path clip-path=\"url(#p5a5cb07a7a)\" d=\"M 37.345682 272.374125 \nL 45.462045 272.374125 \nL 45.462045 263.114195 \nL 37.345682 263.114195 \nz\n\" style=\"fill:#1f77b4;\"/>\n   </g>\n   <g id=\"patch_94\">\n    <path clip-path=\"url(#p5a5cb07a7a)\" d=\"M 45.462045 272.374125 \nL 53.578409 272.374125 \nL 53.578409 233.65078 \nL 45.462045 233.65078 \nz\n\" style=\"fill:#1f77b4;\"/>\n   </g>\n   <g id=\"patch_95\">\n    <path clip-path=\"url(#p5a5cb07a7a)\" d=\"M 53.578409 272.374125 \nL 61.694773 272.374125 \nL 61.694773 174.723951 \nL 53.578409 174.723951 \nz\n\" style=\"fill:#1f77b4;\"/>\n   </g>\n   <g id=\"patch_96\">\n    <path clip-path=\"url(#p5a5cb07a7a)\" d=\"M 61.694773 272.374125 \nL 69.811136 272.374125 \nL 69.811136 168.831268 \nL 61.694773 168.831268 \nz\n\" style=\"fill:#1f77b4;\"/>\n   </g>\n   <g id=\"patch_97\">\n    <path clip-path=\"url(#p5a5cb07a7a)\" d=\"M 69.811136 272.374125 \nL 77.9275 272.374125 \nL 77.9275 189.034752 \nL 69.811136 189.034752 \nz\n\" style=\"fill:#1f77b4;\"/>\n   </g>\n   <g id=\"patch_98\">\n    <path clip-path=\"url(#p5a5cb07a7a)\" d=\"M 77.9275 272.374125 \nL 86.043864 272.374125 \nL 86.043864 233.65078 \nL 77.9275 233.65078 \nz\n\" style=\"fill:#1f77b4;\"/>\n   </g>\n   <g id=\"patch_99\">\n    <path clip-path=\"url(#p5a5cb07a7a)\" d=\"M 86.043864 272.374125 \nL 94.160227 272.374125 \nL 94.160227 242.91071 \nL 86.043864 242.91071 \nz\n\" style=\"fill:#1f77b4;\"/>\n   </g>\n   <g id=\"patch_100\">\n    <path clip-path=\"url(#p5a5cb07a7a)\" d=\"M 94.160227 272.374125 \nL 102.276591 272.374125 \nL 102.276591 264.797818 \nL 94.160227 264.797818 \nz\n\" style=\"fill:#1f77b4;\"/>\n   </g>\n   <g id=\"patch_101\">\n    <path clip-path=\"url(#p5a5cb07a7a)\" d=\"M 102.276591 272.374125 \nL 110.392955 272.374125 \nL 110.392955 263.956007 \nL 102.276591 263.956007 \nz\n\" style=\"fill:#1f77b4;\"/>\n   </g>\n   <g id=\"patch_102\">\n    <path clip-path=\"url(#p5a5cb07a7a)\" d=\"M 110.392955 272.374125 \nL 118.509318 272.374125 \nL 118.509318 270.690501 \nL 110.392955 270.690501 \nz\n\" style=\"fill:#1f77b4;\"/>\n   </g>\n   <g id=\"matplotlib.axis_13\">\n    <g id=\"xtick_13\">\n     <g id=\"line2d_73\">\n      <path clip-path=\"url(#p5a5cb07a7a)\" d=\"M 48.708591 272.374125 \nL 48.708591 163.654125 \n\" style=\"fill:none;stroke:#b0b0b0;stroke-linecap:square;stroke-width:0.8;\"/>\n     </g>\n     <g id=\"line2d_74\">\n      <g>\n       <use style=\"stroke:#000000;stroke-width:0.8;\" x=\"48.708591\" xlink:href=\"#mc504cf78b3\" y=\"272.374125\"/>\n      </g>\n     </g>\n     <g id=\"text_43\">\n      <!-- 7.5 -->\n      <g transform=\"translate(40.757028 286.972562)scale(0.1 -0.1)\">\n       <use xlink:href=\"#DejaVuSans-55\"/>\n       <use x=\"63.623047\" xlink:href=\"#DejaVuSans-46\"/>\n       <use x=\"95.410156\" xlink:href=\"#DejaVuSans-53\"/>\n      </g>\n     </g>\n    </g>\n    <g id=\"xtick_14\">\n     <g id=\"line2d_75\">\n      <path clip-path=\"url(#p5a5cb07a7a)\" d=\"M 75.763136 272.374125 \nL 75.763136 163.654125 \n\" style=\"fill:none;stroke:#b0b0b0;stroke-linecap:square;stroke-width:0.8;\"/>\n     </g>\n     <g id=\"line2d_76\">\n      <g>\n       <use style=\"stroke:#000000;stroke-width:0.8;\" x=\"75.763136\" xlink:href=\"#mc504cf78b3\" y=\"272.374125\"/>\n      </g>\n     </g>\n     <g id=\"text_44\">\n      <!-- 10.0 -->\n      <g transform=\"translate(64.630324 286.972562)scale(0.1 -0.1)\">\n       <use xlink:href=\"#DejaVuSans-49\"/>\n       <use x=\"63.623047\" xlink:href=\"#DejaVuSans-48\"/>\n       <use x=\"127.246094\" xlink:href=\"#DejaVuSans-46\"/>\n       <use x=\"159.033203\" xlink:href=\"#DejaVuSans-48\"/>\n      </g>\n     </g>\n    </g>\n    <g id=\"xtick_15\">\n     <g id=\"line2d_77\">\n      <path clip-path=\"url(#p5a5cb07a7a)\" d=\"M 102.817682 272.374125 \nL 102.817682 163.654125 \n\" style=\"fill:none;stroke:#b0b0b0;stroke-linecap:square;stroke-width:0.8;\"/>\n     </g>\n     <g id=\"line2d_78\">\n      <g>\n       <use style=\"stroke:#000000;stroke-width:0.8;\" x=\"102.817682\" xlink:href=\"#mc504cf78b3\" y=\"272.374125\"/>\n      </g>\n     </g>\n     <g id=\"text_45\">\n      <!-- 12.5 -->\n      <g transform=\"translate(91.684869 286.972562)scale(0.1 -0.1)\">\n       <use xlink:href=\"#DejaVuSans-49\"/>\n       <use x=\"63.623047\" xlink:href=\"#DejaVuSans-50\"/>\n       <use x=\"127.246094\" xlink:href=\"#DejaVuSans-46\"/>\n       <use x=\"159.033203\" xlink:href=\"#DejaVuSans-53\"/>\n      </g>\n     </g>\n    </g>\n   </g>\n   <g id=\"matplotlib.axis_14\">\n    <g id=\"ytick_25\">\n     <g id=\"line2d_79\">\n      <path clip-path=\"url(#p5a5cb07a7a)\" d=\"M 33.2875 272.374125 \nL 122.5675 272.374125 \n\" style=\"fill:none;stroke:#b0b0b0;stroke-linecap:square;stroke-width:0.8;\"/>\n     </g>\n     <g id=\"line2d_80\">\n      <g>\n       <use style=\"stroke:#000000;stroke-width:0.8;\" x=\"33.2875\" xlink:href=\"#md3fd3d0ccc\" y=\"272.374125\"/>\n      </g>\n     </g>\n     <g id=\"text_46\">\n      <!-- 0 -->\n      <g transform=\"translate(19.925 276.173344)scale(0.1 -0.1)\">\n       <use xlink:href=\"#DejaVuSans-48\"/>\n      </g>\n     </g>\n    </g>\n    <g id=\"ytick_26\">\n     <g id=\"line2d_81\">\n      <path clip-path=\"url(#p5a5cb07a7a)\" d=\"M 33.2875 230.283533 \nL 122.5675 230.283533 \n\" style=\"fill:none;stroke:#b0b0b0;stroke-linecap:square;stroke-width:0.8;\"/>\n     </g>\n     <g id=\"line2d_82\">\n      <g>\n       <use style=\"stroke:#000000;stroke-width:0.8;\" x=\"33.2875\" xlink:href=\"#md3fd3d0ccc\" y=\"230.283533\"/>\n      </g>\n     </g>\n     <g id=\"text_47\">\n      <!-- 50 -->\n      <g transform=\"translate(13.5625 234.082751)scale(0.1 -0.1)\">\n       <use xlink:href=\"#DejaVuSans-53\"/>\n       <use x=\"63.623047\" xlink:href=\"#DejaVuSans-48\"/>\n      </g>\n     </g>\n    </g>\n    <g id=\"ytick_27\">\n     <g id=\"line2d_83\">\n      <path clip-path=\"url(#p5a5cb07a7a)\" d=\"M 33.2875 188.19294 \nL 122.5675 188.19294 \n\" style=\"fill:none;stroke:#b0b0b0;stroke-linecap:square;stroke-width:0.8;\"/>\n     </g>\n     <g id=\"line2d_84\">\n      <g>\n       <use style=\"stroke:#000000;stroke-width:0.8;\" x=\"33.2875\" xlink:href=\"#md3fd3d0ccc\" y=\"188.19294\"/>\n      </g>\n     </g>\n     <g id=\"text_48\">\n      <!-- 100 -->\n      <g transform=\"translate(7.2 191.992159)scale(0.1 -0.1)\">\n       <use xlink:href=\"#DejaVuSans-49\"/>\n       <use x=\"63.623047\" xlink:href=\"#DejaVuSans-48\"/>\n       <use x=\"127.246094\" xlink:href=\"#DejaVuSans-48\"/>\n      </g>\n     </g>\n    </g>\n   </g>\n   <g id=\"patch_103\">\n    <path d=\"M 33.2875 272.374125 \nL 33.2875 163.654125 \n\" style=\"fill:none;stroke:#000000;stroke-linecap:square;stroke-linejoin:miter;stroke-width:0.8;\"/>\n   </g>\n   <g id=\"patch_104\">\n    <path d=\"M 122.5675 272.374125 \nL 122.5675 163.654125 \n\" style=\"fill:none;stroke:#000000;stroke-linecap:square;stroke-linejoin:miter;stroke-width:0.8;\"/>\n   </g>\n   <g id=\"patch_105\">\n    <path d=\"M 33.2875 272.374125 \nL 122.5675 272.374125 \n\" style=\"fill:none;stroke:#000000;stroke-linecap:square;stroke-linejoin:miter;stroke-width:0.8;\"/>\n   </g>\n   <g id=\"patch_106\">\n    <path d=\"M 33.2875 163.654125 \nL 122.5675 163.654125 \n\" style=\"fill:none;stroke:#000000;stroke-linecap:square;stroke-linejoin:miter;stroke-width:0.8;\"/>\n   </g>\n   <g id=\"text_49\">\n    <!-- CASTHMA -->\n    <g transform=\"translate(48.36625 157.654125)scale(0.12 -0.12)\">\n     <use xlink:href=\"#DejaVuSans-67\"/>\n     <use x=\"69.824219\" xlink:href=\"#DejaVuSans-65\"/>\n     <use x=\"138.232422\" xlink:href=\"#DejaVuSans-83\"/>\n     <use x=\"201.708984\" xlink:href=\"#DejaVuSans-84\"/>\n     <use x=\"262.792969\" xlink:href=\"#DejaVuSans-72\"/>\n     <use x=\"337.988281\" xlink:href=\"#DejaVuSans-77\"/>\n     <use x=\"424.267578\" xlink:href=\"#DejaVuSans-65\"/>\n    </g>\n   </g>\n  </g>\n  <g id=\"axes_8\">\n   <g id=\"patch_107\">\n    <path d=\"M 149.3515 272.374125 \nL 238.6315 272.374125 \nL 238.6315 163.654125 \nL 149.3515 163.654125 \nz\n\" style=\"fill:#ffffff;\"/>\n   </g>\n   <g id=\"patch_108\">\n    <path clip-path=\"url(#p62ee3f7149)\" d=\"M 153.409682 272.374125 \nL 161.526045 272.374125 \nL 161.526045 253.736411 \nL 153.409682 253.736411 \nz\n\" style=\"fill:#1f77b4;\"/>\n   </g>\n   <g id=\"patch_109\">\n    <path clip-path=\"url(#p62ee3f7149)\" d=\"M 161.526045 272.374125 \nL 169.642409 272.374125 \nL 169.642409 210.248411 \nL 161.526045 210.248411 \nz\n\" style=\"fill:#1f77b4;\"/>\n   </g>\n   <g id=\"patch_110\">\n    <path clip-path=\"url(#p62ee3f7149)\" d=\"M 169.642409 272.374125 \nL 177.758773 272.374125 \nL 177.758773 180.220982 \nL 169.642409 180.220982 \nz\n\" style=\"fill:#1f77b4;\"/>\n   </g>\n   <g id=\"patch_111\">\n    <path clip-path=\"url(#p62ee3f7149)\" d=\"M 177.758773 272.374125 \nL 185.875136 272.374125 \nL 185.875136 184.362696 \nL 177.758773 184.362696 \nz\n\" style=\"fill:#1f77b4;\"/>\n   </g>\n   <g id=\"patch_112\">\n    <path clip-path=\"url(#p62ee3f7149)\" d=\"M 185.875136 272.374125 \nL 193.9915 272.374125 \nL 193.9915 168.831268 \nL 185.875136 168.831268 \nz\n\" style=\"fill:#1f77b4;\"/>\n   </g>\n   <g id=\"patch_113\">\n    <path clip-path=\"url(#p62ee3f7149)\" d=\"M 193.9915 272.374125 \nL 202.107864 272.374125 \nL 202.107864 188.504411 \nL 193.9915 188.504411 \nz\n\" style=\"fill:#1f77b4;\"/>\n   </g>\n   <g id=\"patch_114\">\n    <path clip-path=\"url(#p62ee3f7149)\" d=\"M 202.107864 272.374125 \nL 210.224227 272.374125 \nL 210.224227 229.921554 \nL 202.107864 229.921554 \nz\n\" style=\"fill:#1f77b4;\"/>\n   </g>\n   <g id=\"patch_115\">\n    <path clip-path=\"url(#p62ee3f7149)\" d=\"M 210.224227 272.374125 \nL 218.340591 272.374125 \nL 218.340591 258.913554 \nL 210.224227 258.913554 \nz\n\" style=\"fill:#1f77b4;\"/>\n   </g>\n   <g id=\"patch_116\">\n    <path clip-path=\"url(#p62ee3f7149)\" d=\"M 218.340591 272.374125 \nL 226.456955 272.374125 \nL 226.456955 264.090696 \nL 218.340591 264.090696 \nz\n\" style=\"fill:#1f77b4;\"/>\n   </g>\n   <g id=\"patch_117\">\n    <path clip-path=\"url(#p62ee3f7149)\" d=\"M 226.456955 272.374125 \nL 234.573318 272.374125 \nL 234.573318 270.303268 \nL 226.456955 270.303268 \nz\n\" style=\"fill:#1f77b4;\"/>\n   </g>\n   <g id=\"matplotlib.axis_15\">\n    <g id=\"xtick_16\">\n     <g id=\"line2d_85\">\n      <path clip-path=\"url(#p62ee3f7149)\" d=\"M 174.582804 272.374125 \nL 174.582804 163.654125 \n\" style=\"fill:none;stroke:#b0b0b0;stroke-linecap:square;stroke-width:0.8;\"/>\n     </g>\n     <g id=\"line2d_86\">\n      <g>\n       <use style=\"stroke:#000000;stroke-width:0.8;\" x=\"174.582804\" xlink:href=\"#mc504cf78b3\" y=\"272.374125\"/>\n      </g>\n     </g>\n     <g id=\"text_50\">\n      <!-- 5.0 -->\n      <g transform=\"translate(166.631242 286.972562)scale(0.1 -0.1)\">\n       <use xlink:href=\"#DejaVuSans-53\"/>\n       <use x=\"63.623047\" xlink:href=\"#DejaVuSans-46\"/>\n       <use x=\"95.410156\" xlink:href=\"#DejaVuSans-48\"/>\n      </g>\n     </g>\n    </g>\n    <g id=\"xtick_17\">\n     <g id=\"line2d_87\">\n      <path clip-path=\"url(#p62ee3f7149)\" d=\"M 209.871342 272.374125 \nL 209.871342 163.654125 \n\" style=\"fill:none;stroke:#b0b0b0;stroke-linecap:square;stroke-width:0.8;\"/>\n     </g>\n     <g id=\"line2d_88\">\n      <g>\n       <use style=\"stroke:#000000;stroke-width:0.8;\" x=\"209.871342\" xlink:href=\"#mc504cf78b3\" y=\"272.374125\"/>\n      </g>\n     </g>\n     <g id=\"text_51\">\n      <!-- 7.5 -->\n      <g transform=\"translate(201.919779 286.972562)scale(0.1 -0.1)\">\n       <use xlink:href=\"#DejaVuSans-55\"/>\n       <use x=\"63.623047\" xlink:href=\"#DejaVuSans-46\"/>\n       <use x=\"95.410156\" xlink:href=\"#DejaVuSans-53\"/>\n      </g>\n     </g>\n    </g>\n   </g>\n   <g id=\"matplotlib.axis_16\">\n    <g id=\"ytick_28\">\n     <g id=\"line2d_89\">\n      <path clip-path=\"url(#p62ee3f7149)\" d=\"M 149.3515 272.374125 \nL 238.6315 272.374125 \n\" style=\"fill:none;stroke:#b0b0b0;stroke-linecap:square;stroke-width:0.8;\"/>\n     </g>\n     <g id=\"line2d_90\">\n      <g>\n       <use style=\"stroke:#000000;stroke-width:0.8;\" x=\"149.3515\" xlink:href=\"#md3fd3d0ccc\" y=\"272.374125\"/>\n      </g>\n     </g>\n     <g id=\"text_52\">\n      <!-- 0 -->\n      <g transform=\"translate(135.989 276.173344)scale(0.1 -0.1)\">\n       <use xlink:href=\"#DejaVuSans-48\"/>\n      </g>\n     </g>\n    </g>\n    <g id=\"ytick_29\">\n     <g id=\"line2d_91\">\n      <path clip-path=\"url(#p62ee3f7149)\" d=\"M 149.3515 246.488411 \nL 238.6315 246.488411 \n\" style=\"fill:none;stroke:#b0b0b0;stroke-linecap:square;stroke-width:0.8;\"/>\n     </g>\n     <g id=\"line2d_92\">\n      <g>\n       <use style=\"stroke:#000000;stroke-width:0.8;\" x=\"149.3515\" xlink:href=\"#md3fd3d0ccc\" y=\"246.488411\"/>\n      </g>\n     </g>\n     <g id=\"text_53\">\n      <!-- 25 -->\n      <g transform=\"translate(129.6265 250.287629)scale(0.1 -0.1)\">\n       <use xlink:href=\"#DejaVuSans-50\"/>\n       <use x=\"63.623047\" xlink:href=\"#DejaVuSans-53\"/>\n      </g>\n     </g>\n    </g>\n    <g id=\"ytick_30\">\n     <g id=\"line2d_93\">\n      <path clip-path=\"url(#p62ee3f7149)\" d=\"M 149.3515 220.602696 \nL 238.6315 220.602696 \n\" style=\"fill:none;stroke:#b0b0b0;stroke-linecap:square;stroke-width:0.8;\"/>\n     </g>\n     <g id=\"line2d_94\">\n      <g>\n       <use style=\"stroke:#000000;stroke-width:0.8;\" x=\"149.3515\" xlink:href=\"#md3fd3d0ccc\" y=\"220.602696\"/>\n      </g>\n     </g>\n     <g id=\"text_54\">\n      <!-- 50 -->\n      <g transform=\"translate(129.6265 224.401915)scale(0.1 -0.1)\">\n       <use xlink:href=\"#DejaVuSans-53\"/>\n       <use x=\"63.623047\" xlink:href=\"#DejaVuSans-48\"/>\n      </g>\n     </g>\n    </g>\n    <g id=\"ytick_31\">\n     <g id=\"line2d_95\">\n      <path clip-path=\"url(#p62ee3f7149)\" d=\"M 149.3515 194.716982 \nL 238.6315 194.716982 \n\" style=\"fill:none;stroke:#b0b0b0;stroke-linecap:square;stroke-width:0.8;\"/>\n     </g>\n     <g id=\"line2d_96\">\n      <g>\n       <use style=\"stroke:#000000;stroke-width:0.8;\" x=\"149.3515\" xlink:href=\"#md3fd3d0ccc\" y=\"194.716982\"/>\n      </g>\n     </g>\n     <g id=\"text_55\">\n      <!-- 75 -->\n      <g transform=\"translate(129.6265 198.516201)scale(0.1 -0.1)\">\n       <use xlink:href=\"#DejaVuSans-55\"/>\n       <use x=\"63.623047\" xlink:href=\"#DejaVuSans-53\"/>\n      </g>\n     </g>\n    </g>\n    <g id=\"ytick_32\">\n     <g id=\"line2d_97\">\n      <path clip-path=\"url(#p62ee3f7149)\" d=\"M 149.3515 168.831268 \nL 238.6315 168.831268 \n\" style=\"fill:none;stroke:#b0b0b0;stroke-linecap:square;stroke-width:0.8;\"/>\n     </g>\n     <g id=\"line2d_98\">\n      <g>\n       <use style=\"stroke:#000000;stroke-width:0.8;\" x=\"149.3515\" xlink:href=\"#md3fd3d0ccc\" y=\"168.831268\"/>\n      </g>\n     </g>\n     <g id=\"text_56\">\n      <!-- 100 -->\n      <g transform=\"translate(123.264 172.630487)scale(0.1 -0.1)\">\n       <use xlink:href=\"#DejaVuSans-49\"/>\n       <use x=\"63.623047\" xlink:href=\"#DejaVuSans-48\"/>\n       <use x=\"127.246094\" xlink:href=\"#DejaVuSans-48\"/>\n      </g>\n     </g>\n    </g>\n   </g>\n   <g id=\"patch_118\">\n    <path d=\"M 149.3515 272.374125 \nL 149.3515 163.654125 \n\" style=\"fill:none;stroke:#000000;stroke-linecap:square;stroke-linejoin:miter;stroke-width:0.8;\"/>\n   </g>\n   <g id=\"patch_119\">\n    <path d=\"M 238.6315 272.374125 \nL 238.6315 163.654125 \n\" style=\"fill:none;stroke:#000000;stroke-linecap:square;stroke-linejoin:miter;stroke-width:0.8;\"/>\n   </g>\n   <g id=\"patch_120\">\n    <path d=\"M 149.3515 272.374125 \nL 238.6315 272.374125 \n\" style=\"fill:none;stroke:#000000;stroke-linecap:square;stroke-linejoin:miter;stroke-width:0.8;\"/>\n   </g>\n   <g id=\"patch_121\">\n    <path d=\"M 149.3515 163.654125 \nL 238.6315 163.654125 \n\" style=\"fill:none;stroke:#000000;stroke-linecap:square;stroke-linejoin:miter;stroke-width:0.8;\"/>\n   </g>\n   <g id=\"text_57\">\n    <!-- CHD -->\n    <g transform=\"translate(180.669625 157.654125)scale(0.12 -0.12)\">\n     <use xlink:href=\"#DejaVuSans-67\"/>\n     <use x=\"69.824219\" xlink:href=\"#DejaVuSans-72\"/>\n     <use x=\"145.019531\" xlink:href=\"#DejaVuSans-68\"/>\n    </g>\n   </g>\n  </g>\n  <g id=\"axes_9\">\n   <g id=\"patch_122\">\n    <path d=\"M 265.4155 272.374125 \nL 354.6955 272.374125 \nL 354.6955 163.654125 \nL 265.4155 163.654125 \nz\n\" style=\"fill:#ffffff;\"/>\n   </g>\n   <g id=\"patch_123\">\n    <path clip-path=\"url(#p814cbe2dd0)\" d=\"M 269.473682 272.374125 \nL 277.590045 272.374125 \nL 277.590045 265.693941 \nL 269.473682 265.693941 \nz\n\" style=\"fill:#1f77b4;\"/>\n   </g>\n   <g id=\"patch_124\">\n    <path clip-path=\"url(#p814cbe2dd0)\" d=\"M 277.590045 272.374125 \nL 285.706409 272.374125 \nL 285.706409 261.240484 \nL 277.590045 261.240484 \nz\n\" style=\"fill:#1f77b4;\"/>\n   </g>\n   <g id=\"patch_125\">\n    <path clip-path=\"url(#p814cbe2dd0)\" d=\"M 285.706409 272.374125 \nL 293.822773 272.374125 \nL 293.822773 227.839563 \nL 285.706409 227.839563 \nz\n\" style=\"fill:#1f77b4;\"/>\n   </g>\n   <g id=\"patch_126\">\n    <path clip-path=\"url(#p814cbe2dd0)\" d=\"M 293.822773 272.374125 \nL 301.939136 272.374125 \nL 301.939136 168.831268 \nL 293.822773 168.831268 \nz\n\" style=\"fill:#1f77b4;\"/>\n   </g>\n   <g id=\"patch_127\">\n    <path clip-path=\"url(#p814cbe2dd0)\" d=\"M 301.939136 272.374125 \nL 310.0555 272.374125 \nL 310.0555 169.944632 \nL 301.939136 169.944632 \nz\n\" style=\"fill:#1f77b4;\"/>\n   </g>\n   <g id=\"patch_128\">\n    <path clip-path=\"url(#p814cbe2dd0)\" d=\"M 310.0555 272.374125 \nL 318.171864 272.374125 \nL 318.171864 174.398088 \nL 310.0555 174.398088 \nz\n\" style=\"fill:#1f77b4;\"/>\n   </g>\n   <g id=\"patch_129\">\n    <path clip-path=\"url(#p814cbe2dd0)\" d=\"M 318.171864 272.374125 \nL 326.288227 272.374125 \nL 326.288227 217.819286 \nL 318.171864 217.819286 \nz\n\" style=\"fill:#1f77b4;\"/>\n   </g>\n   <g id=\"patch_130\">\n    <path clip-path=\"url(#p814cbe2dd0)\" d=\"M 326.288227 272.374125 \nL 334.404591 272.374125 \nL 334.404591 205.572282 \nL 326.288227 205.572282 \nz\n\" style=\"fill:#1f77b4;\"/>\n   </g>\n   <g id=\"patch_131\">\n    <path clip-path=\"url(#p814cbe2dd0)\" d=\"M 334.404591 272.374125 \nL 342.520955 272.374125 \nL 342.520955 218.93265 \nL 334.404591 218.93265 \nz\n\" style=\"fill:#1f77b4;\"/>\n   </g>\n   <g id=\"patch_132\">\n    <path clip-path=\"url(#p814cbe2dd0)\" d=\"M 342.520955 272.374125 \nL 350.637318 272.374125 \nL 350.637318 260.12712 \nL 342.520955 260.12712 \nz\n\" style=\"fill:#1f77b4;\"/>\n   </g>\n   <g id=\"matplotlib.axis_17\">\n    <g id=\"xtick_18\">\n     <g id=\"line2d_99\">\n      <path clip-path=\"url(#p814cbe2dd0)\" d=\"M 285.948237 272.374125 \nL 285.948237 163.654125 \n\" style=\"fill:none;stroke:#b0b0b0;stroke-linecap:square;stroke-width:0.8;\"/>\n     </g>\n     <g id=\"line2d_100\">\n      <g>\n       <use style=\"stroke:#000000;stroke-width:0.8;\" x=\"285.948237\" xlink:href=\"#mc504cf78b3\" y=\"272.374125\"/>\n      </g>\n     </g>\n     <g id=\"text_58\">\n      <!-- 60 -->\n      <g transform=\"translate(279.585737 286.972562)scale(0.1 -0.1)\">\n       <use xlink:href=\"#DejaVuSans-54\"/>\n       <use x=\"63.623047\" xlink:href=\"#DejaVuSans-48\"/>\n      </g>\n     </g>\n    </g>\n    <g id=\"xtick_19\">\n     <g id=\"line2d_101\">\n      <path clip-path=\"url(#p814cbe2dd0)\" d=\"M 346.405322 272.374125 \nL 346.405322 163.654125 \n\" style=\"fill:none;stroke:#b0b0b0;stroke-linecap:square;stroke-width:0.8;\"/>\n     </g>\n     <g id=\"line2d_102\">\n      <g>\n       <use style=\"stroke:#000000;stroke-width:0.8;\" x=\"346.405322\" xlink:href=\"#mc504cf78b3\" y=\"272.374125\"/>\n      </g>\n     </g>\n     <g id=\"text_59\">\n      <!-- 80 -->\n      <defs>\n       <path d=\"M 31.78125 34.625 \nQ 24.75 34.625 20.71875 30.859375 \nQ 16.703125 27.09375 16.703125 20.515625 \nQ 16.703125 13.921875 20.71875 10.15625 \nQ 24.75 6.390625 31.78125 6.390625 \nQ 38.8125 6.390625 42.859375 10.171875 \nQ 46.921875 13.96875 46.921875 20.515625 \nQ 46.921875 27.09375 42.890625 30.859375 \nQ 38.875 34.625 31.78125 34.625 \nz\nM 21.921875 38.8125 \nQ 15.578125 40.375 12.03125 44.71875 \nQ 8.5 49.078125 8.5 55.328125 \nQ 8.5 64.0625 14.71875 69.140625 \nQ 20.953125 74.21875 31.78125 74.21875 \nQ 42.671875 74.21875 48.875 69.140625 \nQ 55.078125 64.0625 55.078125 55.328125 \nQ 55.078125 49.078125 51.53125 44.71875 \nQ 48 40.375 41.703125 38.8125 \nQ 48.828125 37.15625 52.796875 32.3125 \nQ 56.78125 27.484375 56.78125 20.515625 \nQ 56.78125 9.90625 50.3125 4.234375 \nQ 43.84375 -1.421875 31.78125 -1.421875 \nQ 19.734375 -1.421875 13.25 4.234375 \nQ 6.78125 9.90625 6.78125 20.515625 \nQ 6.78125 27.484375 10.78125 32.3125 \nQ 14.796875 37.15625 21.921875 38.8125 \nz\nM 18.3125 54.390625 \nQ 18.3125 48.734375 21.84375 45.5625 \nQ 25.390625 42.390625 31.78125 42.390625 \nQ 38.140625 42.390625 41.71875 45.5625 \nQ 45.3125 48.734375 45.3125 54.390625 \nQ 45.3125 60.0625 41.71875 63.234375 \nQ 38.140625 66.40625 31.78125 66.40625 \nQ 25.390625 66.40625 21.84375 63.234375 \nQ 18.3125 60.0625 18.3125 54.390625 \nz\n\" id=\"DejaVuSans-56\"/>\n      </defs>\n      <g transform=\"translate(340.042822 286.972562)scale(0.1 -0.1)\">\n       <use xlink:href=\"#DejaVuSans-56\"/>\n       <use x=\"63.623047\" xlink:href=\"#DejaVuSans-48\"/>\n      </g>\n     </g>\n    </g>\n   </g>\n   <g id=\"matplotlib.axis_18\">\n    <g id=\"ytick_33\">\n     <g id=\"line2d_103\">\n      <path clip-path=\"url(#p814cbe2dd0)\" d=\"M 265.4155 272.374125 \nL 354.6955 272.374125 \n\" style=\"fill:none;stroke:#b0b0b0;stroke-linecap:square;stroke-width:0.8;\"/>\n     </g>\n     <g id=\"line2d_104\">\n      <g>\n       <use style=\"stroke:#000000;stroke-width:0.8;\" x=\"265.4155\" xlink:href=\"#md3fd3d0ccc\" y=\"272.374125\"/>\n      </g>\n     </g>\n     <g id=\"text_60\">\n      <!-- 0 -->\n      <g transform=\"translate(252.053 276.173344)scale(0.1 -0.1)\">\n       <use xlink:href=\"#DejaVuSans-48\"/>\n      </g>\n     </g>\n    </g>\n    <g id=\"ytick_34\">\n     <g id=\"line2d_105\">\n      <path clip-path=\"url(#p814cbe2dd0)\" d=\"M 265.4155 250.106844 \nL 354.6955 250.106844 \n\" style=\"fill:none;stroke:#b0b0b0;stroke-linecap:square;stroke-width:0.8;\"/>\n     </g>\n     <g id=\"line2d_106\">\n      <g>\n       <use style=\"stroke:#000000;stroke-width:0.8;\" x=\"265.4155\" xlink:href=\"#md3fd3d0ccc\" y=\"250.106844\"/>\n      </g>\n     </g>\n     <g id=\"text_61\">\n      <!-- 20 -->\n      <g transform=\"translate(245.6905 253.906063)scale(0.1 -0.1)\">\n       <use xlink:href=\"#DejaVuSans-50\"/>\n       <use x=\"63.623047\" xlink:href=\"#DejaVuSans-48\"/>\n      </g>\n     </g>\n    </g>\n    <g id=\"ytick_35\">\n     <g id=\"line2d_107\">\n      <path clip-path=\"url(#p814cbe2dd0)\" d=\"M 265.4155 227.839563 \nL 354.6955 227.839563 \n\" style=\"fill:none;stroke:#b0b0b0;stroke-linecap:square;stroke-width:0.8;\"/>\n     </g>\n     <g id=\"line2d_108\">\n      <g>\n       <use style=\"stroke:#000000;stroke-width:0.8;\" x=\"265.4155\" xlink:href=\"#md3fd3d0ccc\" y=\"227.839563\"/>\n      </g>\n     </g>\n     <g id=\"text_62\">\n      <!-- 40 -->\n      <g transform=\"translate(245.6905 231.638782)scale(0.1 -0.1)\">\n       <use xlink:href=\"#DejaVuSans-52\"/>\n       <use x=\"63.623047\" xlink:href=\"#DejaVuSans-48\"/>\n      </g>\n     </g>\n    </g>\n    <g id=\"ytick_36\">\n     <g id=\"line2d_109\">\n      <path clip-path=\"url(#p814cbe2dd0)\" d=\"M 265.4155 205.572282 \nL 354.6955 205.572282 \n\" style=\"fill:none;stroke:#b0b0b0;stroke-linecap:square;stroke-width:0.8;\"/>\n     </g>\n     <g id=\"line2d_110\">\n      <g>\n       <use style=\"stroke:#000000;stroke-width:0.8;\" x=\"265.4155\" xlink:href=\"#md3fd3d0ccc\" y=\"205.572282\"/>\n      </g>\n     </g>\n     <g id=\"text_63\">\n      <!-- 60 -->\n      <g transform=\"translate(245.6905 209.3715)scale(0.1 -0.1)\">\n       <use xlink:href=\"#DejaVuSans-54\"/>\n       <use x=\"63.623047\" xlink:href=\"#DejaVuSans-48\"/>\n      </g>\n     </g>\n    </g>\n    <g id=\"ytick_37\">\n     <g id=\"line2d_111\">\n      <path clip-path=\"url(#p814cbe2dd0)\" d=\"M 265.4155 183.305001 \nL 354.6955 183.305001 \n\" style=\"fill:none;stroke:#b0b0b0;stroke-linecap:square;stroke-width:0.8;\"/>\n     </g>\n     <g id=\"line2d_112\">\n      <g>\n       <use style=\"stroke:#000000;stroke-width:0.8;\" x=\"265.4155\" xlink:href=\"#md3fd3d0ccc\" y=\"183.305001\"/>\n      </g>\n     </g>\n     <g id=\"text_64\">\n      <!-- 80 -->\n      <g transform=\"translate(245.6905 187.104219)scale(0.1 -0.1)\">\n       <use xlink:href=\"#DejaVuSans-56\"/>\n       <use x=\"63.623047\" xlink:href=\"#DejaVuSans-48\"/>\n      </g>\n     </g>\n    </g>\n   </g>\n   <g id=\"patch_133\">\n    <path d=\"M 265.4155 272.374125 \nL 265.4155 163.654125 \n\" style=\"fill:none;stroke:#000000;stroke-linecap:square;stroke-linejoin:miter;stroke-width:0.8;\"/>\n   </g>\n   <g id=\"patch_134\">\n    <path d=\"M 354.6955 272.374125 \nL 354.6955 163.654125 \n\" style=\"fill:none;stroke:#000000;stroke-linecap:square;stroke-linejoin:miter;stroke-width:0.8;\"/>\n   </g>\n   <g id=\"patch_135\">\n    <path d=\"M 265.4155 272.374125 \nL 354.6955 272.374125 \n\" style=\"fill:none;stroke:#000000;stroke-linecap:square;stroke-linejoin:miter;stroke-width:0.8;\"/>\n   </g>\n   <g id=\"patch_136\">\n    <path d=\"M 265.4155 163.654125 \nL 354.6955 163.654125 \n\" style=\"fill:none;stroke:#000000;stroke-linecap:square;stroke-linejoin:miter;stroke-width:0.8;\"/>\n   </g>\n   <g id=\"text_65\">\n    <!-- CHECKUP -->\n    <defs>\n     <path d=\"M 9.8125 72.90625 \nL 19.671875 72.90625 \nL 19.671875 42.09375 \nL 52.390625 72.90625 \nL 65.09375 72.90625 \nL 28.90625 38.921875 \nL 67.671875 0 \nL 54.6875 0 \nL 19.671875 35.109375 \nL 19.671875 0 \nL 9.8125 0 \nz\n\" id=\"DejaVuSans-75\"/>\n     <path d=\"M 8.6875 72.90625 \nL 18.609375 72.90625 \nL 18.609375 28.609375 \nQ 18.609375 16.890625 22.84375 11.734375 \nQ 27.09375 6.59375 36.625 6.59375 \nQ 46.09375 6.59375 50.34375 11.734375 \nQ 54.59375 16.890625 54.59375 28.609375 \nL 54.59375 72.90625 \nL 64.5 72.90625 \nL 64.5 27.390625 \nQ 64.5 13.140625 57.4375 5.859375 \nQ 50.390625 -1.421875 36.625 -1.421875 \nQ 22.796875 -1.421875 15.734375 5.859375 \nQ 8.6875 13.140625 8.6875 27.390625 \nz\n\" id=\"DejaVuSans-85\"/>\n    </defs>\n    <g transform=\"translate(281.586438 157.654125)scale(0.12 -0.12)\">\n     <use xlink:href=\"#DejaVuSans-67\"/>\n     <use x=\"69.824219\" xlink:href=\"#DejaVuSans-72\"/>\n     <use x=\"145.019531\" xlink:href=\"#DejaVuSans-69\"/>\n     <use x=\"208.203125\" xlink:href=\"#DejaVuSans-67\"/>\n     <use x=\"278.027344\" xlink:href=\"#DejaVuSans-75\"/>\n     <use x=\"340.978516\" xlink:href=\"#DejaVuSans-85\"/>\n     <use x=\"414.171875\" xlink:href=\"#DejaVuSans-80\"/>\n    </g>\n   </g>\n  </g>\n  <g id=\"axes_10\">\n   <g id=\"patch_137\">\n    <path d=\"M 381.4795 272.374125 \nL 470.7595 272.374125 \nL 470.7595 163.654125 \nL 381.4795 163.654125 \nz\n\" style=\"fill:#ffffff;\"/>\n   </g>\n   <g id=\"patch_138\">\n    <path clip-path=\"url(#pd221ffaa7b)\" d=\"M 385.537682 272.374125 \nL 393.654045 272.374125 \nL 393.654045 271.539102 \nL 385.537682 271.539102 \nz\n\" style=\"fill:#1f77b4;\"/>\n   </g>\n   <g id=\"patch_139\">\n    <path clip-path=\"url(#pd221ffaa7b)\" d=\"M 393.654045 272.374125 \nL 401.770409 272.374125 \nL 401.770409 272.374125 \nL 393.654045 272.374125 \nz\n\" style=\"fill:#1f77b4;\"/>\n   </g>\n   <g id=\"patch_140\">\n    <path clip-path=\"url(#pd221ffaa7b)\" d=\"M 401.770409 272.374125 \nL 409.886773 272.374125 \nL 409.886773 269.034033 \nL 401.770409 269.034033 \nz\n\" style=\"fill:#1f77b4;\"/>\n   </g>\n   <g id=\"patch_141\">\n    <path clip-path=\"url(#pd221ffaa7b)\" d=\"M 409.886773 272.374125 \nL 418.003136 272.374125 \nL 418.003136 259.013756 \nL 409.886773 259.013756 \nz\n\" style=\"fill:#1f77b4;\"/>\n   </g>\n   <g id=\"patch_142\">\n    <path clip-path=\"url(#pd221ffaa7b)\" d=\"M 418.003136 272.374125 \nL 426.1195 272.374125 \nL 426.1195 231.457996 \nL 418.003136 231.457996 \nz\n\" style=\"fill:#1f77b4;\"/>\n   </g>\n   <g id=\"patch_143\">\n    <path clip-path=\"url(#pd221ffaa7b)\" d=\"M 426.1195 272.374125 \nL 434.235864 272.374125 \nL 434.235864 168.831268 \nL 426.1195 168.831268 \nz\n\" style=\"fill:#1f77b4;\"/>\n   </g>\n   <g id=\"patch_144\">\n    <path clip-path=\"url(#pd221ffaa7b)\" d=\"M 434.235864 272.374125 \nL 442.352227 272.374125 \nL 442.352227 173.841406 \nL 434.235864 173.841406 \nz\n\" style=\"fill:#1f77b4;\"/>\n   </g>\n   <g id=\"patch_145\">\n    <path clip-path=\"url(#pd221ffaa7b)\" d=\"M 442.352227 272.374125 \nL 450.468591 272.374125 \nL 450.468591 185.531729 \nL 442.352227 185.531729 \nz\n\" style=\"fill:#1f77b4;\"/>\n   </g>\n   <g id=\"patch_146\">\n    <path clip-path=\"url(#pd221ffaa7b)\" d=\"M 450.468591 272.374125 \nL 458.584955 272.374125 \nL 458.584955 223.107766 \nL 450.468591 223.107766 \nz\n\" style=\"fill:#1f77b4;\"/>\n   </g>\n   <g id=\"patch_147\">\n    <path clip-path=\"url(#pd221ffaa7b)\" d=\"M 458.584955 272.374125 \nL 466.701318 272.374125 \nL 466.701318 254.003618 \nL 458.584955 254.003618 \nz\n\" style=\"fill:#1f77b4;\"/>\n   </g>\n   <g id=\"matplotlib.axis_19\">\n    <g id=\"xtick_20\">\n     <g id=\"line2d_113\">\n      <path clip-path=\"url(#pd221ffaa7b)\" d=\"M 398.675681 272.374125 \nL 398.675681 163.654125 \n\" style=\"fill:none;stroke:#b0b0b0;stroke-linecap:square;stroke-width:0.8;\"/>\n     </g>\n     <g id=\"line2d_114\">\n      <g>\n       <use style=\"stroke:#000000;stroke-width:0.8;\" x=\"398.675681\" xlink:href=\"#mc504cf78b3\" y=\"272.374125\"/>\n      </g>\n     </g>\n     <g id=\"text_66\">\n      <!-- 60 -->\n      <g transform=\"translate(392.313181 286.972562)scale(0.1 -0.1)\">\n       <use xlink:href=\"#DejaVuSans-54\"/>\n       <use x=\"63.623047\" xlink:href=\"#DejaVuSans-48\"/>\n      </g>\n     </g>\n    </g>\n    <g id=\"xtick_21\">\n     <g id=\"line2d_115\">\n      <path clip-path=\"url(#pd221ffaa7b)\" d=\"M 457.066786 272.374125 \nL 457.066786 163.654125 \n\" style=\"fill:none;stroke:#b0b0b0;stroke-linecap:square;stroke-width:0.8;\"/>\n     </g>\n     <g id=\"line2d_116\">\n      <g>\n       <use style=\"stroke:#000000;stroke-width:0.8;\" x=\"457.066786\" xlink:href=\"#mc504cf78b3\" y=\"272.374125\"/>\n      </g>\n     </g>\n     <g id=\"text_67\">\n      <!-- 80 -->\n      <g transform=\"translate(450.704286 286.972562)scale(0.1 -0.1)\">\n       <use xlink:href=\"#DejaVuSans-56\"/>\n       <use x=\"63.623047\" xlink:href=\"#DejaVuSans-48\"/>\n      </g>\n     </g>\n    </g>\n   </g>\n   <g id=\"matplotlib.axis_20\">\n    <g id=\"ytick_38\">\n     <g id=\"line2d_117\">\n      <path clip-path=\"url(#pd221ffaa7b)\" d=\"M 381.4795 272.374125 \nL 470.7595 272.374125 \n\" style=\"fill:none;stroke:#b0b0b0;stroke-linecap:square;stroke-width:0.8;\"/>\n     </g>\n     <g id=\"line2d_118\">\n      <g>\n       <use style=\"stroke:#000000;stroke-width:0.8;\" x=\"381.4795\" xlink:href=\"#md3fd3d0ccc\" y=\"272.374125\"/>\n      </g>\n     </g>\n     <g id=\"text_68\">\n      <!-- 0 -->\n      <g transform=\"translate(368.117 276.173344)scale(0.1 -0.1)\">\n       <use xlink:href=\"#DejaVuSans-48\"/>\n      </g>\n     </g>\n    </g>\n    <g id=\"ytick_39\">\n     <g id=\"line2d_119\">\n      <path clip-path=\"url(#pd221ffaa7b)\" d=\"M 381.4795 230.622973 \nL 470.7595 230.622973 \n\" style=\"fill:none;stroke:#b0b0b0;stroke-linecap:square;stroke-width:0.8;\"/>\n     </g>\n     <g id=\"line2d_120\">\n      <g>\n       <use style=\"stroke:#000000;stroke-width:0.8;\" x=\"381.4795\" xlink:href=\"#md3fd3d0ccc\" y=\"230.622973\"/>\n      </g>\n     </g>\n     <g id=\"text_69\">\n      <!-- 50 -->\n      <g transform=\"translate(361.7545 234.422192)scale(0.1 -0.1)\">\n       <use xlink:href=\"#DejaVuSans-53\"/>\n       <use x=\"63.623047\" xlink:href=\"#DejaVuSans-48\"/>\n      </g>\n     </g>\n    </g>\n    <g id=\"ytick_40\">\n     <g id=\"line2d_121\">\n      <path clip-path=\"url(#pd221ffaa7b)\" d=\"M 381.4795 188.871821 \nL 470.7595 188.871821 \n\" style=\"fill:none;stroke:#b0b0b0;stroke-linecap:square;stroke-width:0.8;\"/>\n     </g>\n     <g id=\"line2d_122\">\n      <g>\n       <use style=\"stroke:#000000;stroke-width:0.8;\" x=\"381.4795\" xlink:href=\"#md3fd3d0ccc\" y=\"188.871821\"/>\n      </g>\n     </g>\n     <g id=\"text_70\">\n      <!-- 100 -->\n      <g transform=\"translate(355.392 192.67104)scale(0.1 -0.1)\">\n       <use xlink:href=\"#DejaVuSans-49\"/>\n       <use x=\"63.623047\" xlink:href=\"#DejaVuSans-48\"/>\n       <use x=\"127.246094\" xlink:href=\"#DejaVuSans-48\"/>\n      </g>\n     </g>\n    </g>\n   </g>\n   <g id=\"patch_148\">\n    <path d=\"M 381.4795 272.374125 \nL 381.4795 163.654125 \n\" style=\"fill:none;stroke:#000000;stroke-linecap:square;stroke-linejoin:miter;stroke-width:0.8;\"/>\n   </g>\n   <g id=\"patch_149\">\n    <path d=\"M 470.7595 272.374125 \nL 470.7595 163.654125 \n\" style=\"fill:none;stroke:#000000;stroke-linecap:square;stroke-linejoin:miter;stroke-width:0.8;\"/>\n   </g>\n   <g id=\"patch_150\">\n    <path d=\"M 381.4795 272.374125 \nL 470.7595 272.374125 \n\" style=\"fill:none;stroke:#000000;stroke-linecap:square;stroke-linejoin:miter;stroke-width:0.8;\"/>\n   </g>\n   <g id=\"patch_151\">\n    <path d=\"M 381.4795 163.654125 \nL 470.7595 163.654125 \n\" style=\"fill:none;stroke:#000000;stroke-linecap:square;stroke-linejoin:miter;stroke-width:0.8;\"/>\n   </g>\n   <g id=\"text_71\">\n    <!-- CHOLSCREEN -->\n    <defs>\n     <path d=\"M 39.40625 66.21875 \nQ 28.65625 66.21875 22.328125 58.203125 \nQ 16.015625 50.203125 16.015625 36.375 \nQ 16.015625 22.609375 22.328125 14.59375 \nQ 28.65625 6.59375 39.40625 6.59375 \nQ 50.140625 6.59375 56.421875 14.59375 \nQ 62.703125 22.609375 62.703125 36.375 \nQ 62.703125 50.203125 56.421875 58.203125 \nQ 50.140625 66.21875 39.40625 66.21875 \nz\nM 39.40625 74.21875 \nQ 54.734375 74.21875 63.90625 63.9375 \nQ 73.09375 53.65625 73.09375 36.375 \nQ 73.09375 19.140625 63.90625 8.859375 \nQ 54.734375 -1.421875 39.40625 -1.421875 \nQ 24.03125 -1.421875 14.8125 8.828125 \nQ 5.609375 19.09375 5.609375 36.375 \nQ 5.609375 53.65625 14.8125 63.9375 \nQ 24.03125 74.21875 39.40625 74.21875 \nz\n\" id=\"DejaVuSans-79\"/>\n     <path d=\"M 9.8125 72.90625 \nL 19.671875 72.90625 \nL 19.671875 8.296875 \nL 55.171875 8.296875 \nL 55.171875 0 \nL 9.8125 0 \nz\n\" id=\"DejaVuSans-76\"/>\n    </defs>\n    <g transform=\"translate(385.112313 157.654125)scale(0.12 -0.12)\">\n     <use xlink:href=\"#DejaVuSans-67\"/>\n     <use x=\"69.824219\" xlink:href=\"#DejaVuSans-72\"/>\n     <use x=\"145.019531\" xlink:href=\"#DejaVuSans-79\"/>\n     <use x=\"223.730469\" xlink:href=\"#DejaVuSans-76\"/>\n     <use x=\"279.443359\" xlink:href=\"#DejaVuSans-83\"/>\n     <use x=\"342.919922\" xlink:href=\"#DejaVuSans-67\"/>\n     <use x=\"412.744141\" xlink:href=\"#DejaVuSans-82\"/>\n     <use x=\"482.226562\" xlink:href=\"#DejaVuSans-69\"/>\n     <use x=\"545.410156\" xlink:href=\"#DejaVuSans-69\"/>\n     <use x=\"608.59375\" xlink:href=\"#DejaVuSans-78\"/>\n    </g>\n   </g>\n  </g>\n  <g id=\"axes_11\">\n   <g id=\"patch_152\">\n    <path d=\"M 497.5435 272.374125 \nL 586.8235 272.374125 \nL 586.8235 163.654125 \nL 497.5435 163.654125 \nz\n\" style=\"fill:#ffffff;\"/>\n   </g>\n   <g id=\"patch_153\">\n    <path clip-path=\"url(#pa6b344b1c5)\" d=\"M 501.601682 272.374125 \nL 509.718045 272.374125 \nL 509.718045 267.703019 \nL 501.601682 267.703019 \nz\n\" style=\"fill:#1f77b4;\"/>\n   </g>\n   <g id=\"patch_154\">\n    <path clip-path=\"url(#pa6b344b1c5)\" d=\"M 509.718045 272.374125 \nL 517.834409 272.374125 \nL 517.834409 269.260054 \nL 509.718045 269.260054 \nz\n\" style=\"fill:#1f77b4;\"/>\n   </g>\n   <g id=\"patch_155\">\n    <path clip-path=\"url(#pa6b344b1c5)\" d=\"M 517.834409 272.374125 \nL 525.950773 272.374125 \nL 525.950773 262.253395 \nL 517.834409 262.253395 \nz\n\" style=\"fill:#1f77b4;\"/>\n   </g>\n   <g id=\"patch_156\">\n    <path clip-path=\"url(#pa6b344b1c5)\" d=\"M 525.950773 272.374125 \nL 534.067136 272.374125 \nL 534.067136 253.6897 \nL 525.950773 253.6897 \nz\n\" style=\"fill:#1f77b4;\"/>\n   </g>\n   <g id=\"patch_157\">\n    <path clip-path=\"url(#pa6b344b1c5)\" d=\"M 534.067136 272.374125 \nL 542.1835 272.374125 \nL 542.1835 217.099367 \nL 534.067136 217.099367 \nz\n\" style=\"fill:#1f77b4;\"/>\n   </g>\n   <g id=\"patch_158\">\n    <path clip-path=\"url(#pa6b344b1c5)\" d=\"M 542.1835 272.374125 \nL 550.299864 272.374125 \nL 550.299864 200.750494 \nL 542.1835 200.750494 \nz\n\" style=\"fill:#1f77b4;\"/>\n   </g>\n   <g id=\"patch_159\">\n    <path clip-path=\"url(#pa6b344b1c5)\" d=\"M 550.299864 272.374125 \nL 558.416227 272.374125 \nL 558.416227 168.831268 \nL 550.299864 168.831268 \nz\n\" style=\"fill:#1f77b4;\"/>\n   </g>\n   <g id=\"patch_160\">\n    <path clip-path=\"url(#pa6b344b1c5)\" d=\"M 558.416227 272.374125 \nL 566.532591 272.374125 \nL 566.532591 201.529012 \nL 558.416227 201.529012 \nz\n\" style=\"fill:#1f77b4;\"/>\n   </g>\n   <g id=\"patch_161\">\n    <path clip-path=\"url(#pa6b344b1c5)\" d=\"M 566.532591 272.374125 \nL 574.648955 272.374125 \nL 574.648955 231.891203 \nL 566.532591 231.891203 \nz\n\" style=\"fill:#1f77b4;\"/>\n   </g>\n   <g id=\"patch_162\">\n    <path clip-path=\"url(#pa6b344b1c5)\" d=\"M 574.648955 272.374125 \nL 582.765318 272.374125 \nL 582.765318 263.81043 \nL 574.648955 263.81043 \nz\n\" style=\"fill:#1f77b4;\"/>\n   </g>\n   <g id=\"matplotlib.axis_21\">\n    <g id=\"xtick_22\">\n     <g id=\"line2d_123\">\n      <path clip-path=\"url(#pa6b344b1c5)\" d=\"M 518.800362 272.374125 \nL 518.800362 163.654125 \n\" style=\"fill:none;stroke:#b0b0b0;stroke-linecap:square;stroke-width:0.8;\"/>\n     </g>\n     <g id=\"line2d_124\">\n      <g>\n       <use style=\"stroke:#000000;stroke-width:0.8;\" x=\"518.800362\" xlink:href=\"#mc504cf78b3\" y=\"272.374125\"/>\n      </g>\n     </g>\n     <g id=\"text_72\">\n      <!-- 50 -->\n      <g transform=\"translate(512.437862 286.972562)scale(0.1 -0.1)\">\n       <use xlink:href=\"#DejaVuSans-53\"/>\n       <use x=\"63.623047\" xlink:href=\"#DejaVuSans-48\"/>\n      </g>\n     </g>\n    </g>\n    <g id=\"xtick_23\">\n     <g id=\"line2d_125\">\n      <path clip-path=\"url(#pa6b344b1c5)\" d=\"M 542.360199 272.374125 \nL 542.360199 163.654125 \n\" style=\"fill:none;stroke:#b0b0b0;stroke-linecap:square;stroke-width:0.8;\"/>\n     </g>\n     <g id=\"line2d_126\">\n      <g>\n       <use style=\"stroke:#000000;stroke-width:0.8;\" x=\"542.360199\" xlink:href=\"#mc504cf78b3\" y=\"272.374125\"/>\n      </g>\n     </g>\n     <g id=\"text_73\">\n      <!-- 60 -->\n      <g transform=\"translate(535.997699 286.972562)scale(0.1 -0.1)\">\n       <use xlink:href=\"#DejaVuSans-54\"/>\n       <use x=\"63.623047\" xlink:href=\"#DejaVuSans-48\"/>\n      </g>\n     </g>\n    </g>\n    <g id=\"xtick_24\">\n     <g id=\"line2d_127\">\n      <path clip-path=\"url(#pa6b344b1c5)\" d=\"M 565.920035 272.374125 \nL 565.920035 163.654125 \n\" style=\"fill:none;stroke:#b0b0b0;stroke-linecap:square;stroke-width:0.8;\"/>\n     </g>\n     <g id=\"line2d_128\">\n      <g>\n       <use style=\"stroke:#000000;stroke-width:0.8;\" x=\"565.920035\" xlink:href=\"#mc504cf78b3\" y=\"272.374125\"/>\n      </g>\n     </g>\n     <g id=\"text_74\">\n      <!-- 70 -->\n      <g transform=\"translate(559.557535 286.972562)scale(0.1 -0.1)\">\n       <use xlink:href=\"#DejaVuSans-55\"/>\n       <use x=\"63.623047\" xlink:href=\"#DejaVuSans-48\"/>\n      </g>\n     </g>\n    </g>\n   </g>\n   <g id=\"matplotlib.axis_22\">\n    <g id=\"ytick_41\">\n     <g id=\"line2d_129\">\n      <path clip-path=\"url(#pa6b344b1c5)\" d=\"M 497.5435 272.374125 \nL 586.8235 272.374125 \n\" style=\"fill:none;stroke:#b0b0b0;stroke-linecap:square;stroke-width:0.8;\"/>\n     </g>\n     <g id=\"line2d_130\">\n      <g>\n       <use style=\"stroke:#000000;stroke-width:0.8;\" x=\"497.5435\" xlink:href=\"#md3fd3d0ccc\" y=\"272.374125\"/>\n      </g>\n     </g>\n     <g id=\"text_75\">\n      <!-- 0 -->\n      <g transform=\"translate(484.181 276.173344)scale(0.1 -0.1)\">\n       <use xlink:href=\"#DejaVuSans-48\"/>\n      </g>\n     </g>\n    </g>\n    <g id=\"ytick_42\">\n     <g id=\"line2d_131\">\n      <path clip-path=\"url(#pa6b344b1c5)\" d=\"M 497.5435 233.448239 \nL 586.8235 233.448239 \n\" style=\"fill:none;stroke:#b0b0b0;stroke-linecap:square;stroke-width:0.8;\"/>\n     </g>\n     <g id=\"line2d_132\">\n      <g>\n       <use style=\"stroke:#000000;stroke-width:0.8;\" x=\"497.5435\" xlink:href=\"#md3fd3d0ccc\" y=\"233.448239\"/>\n      </g>\n     </g>\n     <g id=\"text_76\">\n      <!-- 50 -->\n      <g transform=\"translate(477.8185 237.247458)scale(0.1 -0.1)\">\n       <use xlink:href=\"#DejaVuSans-53\"/>\n       <use x=\"63.623047\" xlink:href=\"#DejaVuSans-48\"/>\n      </g>\n     </g>\n    </g>\n    <g id=\"ytick_43\">\n     <g id=\"line2d_133\">\n      <path clip-path=\"url(#pa6b344b1c5)\" d=\"M 497.5435 194.522353 \nL 586.8235 194.522353 \n\" style=\"fill:none;stroke:#b0b0b0;stroke-linecap:square;stroke-width:0.8;\"/>\n     </g>\n     <g id=\"line2d_134\">\n      <g>\n       <use style=\"stroke:#000000;stroke-width:0.8;\" x=\"497.5435\" xlink:href=\"#md3fd3d0ccc\" y=\"194.522353\"/>\n      </g>\n     </g>\n     <g id=\"text_77\">\n      <!-- 100 -->\n      <g transform=\"translate(471.456 198.321571)scale(0.1 -0.1)\">\n       <use xlink:href=\"#DejaVuSans-49\"/>\n       <use x=\"63.623047\" xlink:href=\"#DejaVuSans-48\"/>\n       <use x=\"127.246094\" xlink:href=\"#DejaVuSans-48\"/>\n      </g>\n     </g>\n    </g>\n   </g>\n   <g id=\"patch_163\">\n    <path d=\"M 497.5435 272.374125 \nL 497.5435 163.654125 \n\" style=\"fill:none;stroke:#000000;stroke-linecap:square;stroke-linejoin:miter;stroke-width:0.8;\"/>\n   </g>\n   <g id=\"patch_164\">\n    <path d=\"M 586.8235 272.374125 \nL 586.8235 163.654125 \n\" style=\"fill:none;stroke:#000000;stroke-linecap:square;stroke-linejoin:miter;stroke-width:0.8;\"/>\n   </g>\n   <g id=\"patch_165\">\n    <path d=\"M 497.5435 272.374125 \nL 586.8235 272.374125 \n\" style=\"fill:none;stroke:#000000;stroke-linecap:square;stroke-linejoin:miter;stroke-width:0.8;\"/>\n   </g>\n   <g id=\"patch_166\">\n    <path d=\"M 497.5435 163.654125 \nL 586.8235 163.654125 \n\" style=\"fill:none;stroke:#000000;stroke-linecap:square;stroke-linejoin:miter;stroke-width:0.8;\"/>\n   </g>\n   <g id=\"text_78\">\n    <!-- COLON_SCREEN -->\n    <defs>\n     <path d=\"M 50.984375 -16.609375 \nL 50.984375 -23.578125 \nL -0.984375 -23.578125 \nL -0.984375 -16.609375 \nz\n\" id=\"DejaVuSans-95\"/>\n    </defs>\n    <g transform=\"translate(493.694125 157.654125)scale(0.12 -0.12)\">\n     <use xlink:href=\"#DejaVuSans-67\"/>\n     <use x=\"69.824219\" xlink:href=\"#DejaVuSans-79\"/>\n     <use x=\"148.535156\" xlink:href=\"#DejaVuSans-76\"/>\n     <use x=\"200.623047\" xlink:href=\"#DejaVuSans-79\"/>\n     <use x=\"279.333984\" xlink:href=\"#DejaVuSans-78\"/>\n     <use x=\"354.138672\" xlink:href=\"#DejaVuSans-95\"/>\n     <use x=\"404.138672\" xlink:href=\"#DejaVuSans-83\"/>\n     <use x=\"467.615234\" xlink:href=\"#DejaVuSans-67\"/>\n     <use x=\"537.439453\" xlink:href=\"#DejaVuSans-82\"/>\n     <use x=\"606.921875\" xlink:href=\"#DejaVuSans-69\"/>\n     <use x=\"670.105469\" xlink:href=\"#DejaVuSans-69\"/>\n     <use x=\"733.289062\" xlink:href=\"#DejaVuSans-78\"/>\n    </g>\n   </g>\n  </g>\n  <g id=\"axes_12\">\n   <g id=\"patch_167\">\n    <path d=\"M 613.6075 272.374125 \nL 702.8875 272.374125 \nL 702.8875 163.654125 \nL 613.6075 163.654125 \nz\n\" style=\"fill:#ffffff;\"/>\n   </g>\n   <g id=\"patch_168\">\n    <path clip-path=\"url(#pa1604969ab)\" d=\"M 617.665682 272.374125 \nL 625.782045 272.374125 \nL 625.782045 246.237093 \nL 617.665682 246.237093 \nz\n\" style=\"fill:#1f77b4;\"/>\n   </g>\n   <g id=\"patch_169\">\n    <path clip-path=\"url(#pa1604969ab)\" d=\"M 625.782045 272.374125 \nL 633.898409 272.374125 \nL 633.898409 191.952488 \nL 625.782045 191.952488 \nz\n\" style=\"fill:#1f77b4;\"/>\n   </g>\n   <g id=\"patch_170\">\n    <path clip-path=\"url(#pa1604969ab)\" d=\"M 633.898409 272.374125 \nL 642.014773 272.374125 \nL 642.014773 168.831268 \nL 633.898409 168.831268 \nz\n\" style=\"fill:#1f77b4;\"/>\n   </g>\n   <g id=\"patch_171\">\n    <path clip-path=\"url(#pa1604969ab)\" d=\"M 642.014773 272.374125 \nL 650.131136 272.374125 \nL 650.131136 174.862891 \nL 642.014773 174.862891 \nz\n\" style=\"fill:#1f77b4;\"/>\n   </g>\n   <g id=\"patch_172\">\n    <path clip-path=\"url(#pa1604969ab)\" d=\"M 650.131136 272.374125 \nL 658.2475 272.374125 \nL 658.2475 186.926136 \nL 650.131136 186.926136 \nz\n\" style=\"fill:#1f77b4;\"/>\n   </g>\n   <g id=\"patch_173\">\n    <path clip-path=\"url(#pa1604969ab)\" d=\"M 658.2475 272.374125 \nL 666.363864 272.374125 \nL 666.363864 217.08425 \nL 658.2475 217.08425 \nz\n\" style=\"fill:#1f77b4;\"/>\n   </g>\n   <g id=\"patch_174\">\n    <path clip-path=\"url(#pa1604969ab)\" d=\"M 666.363864 272.374125 \nL 674.480227 272.374125 \nL 674.480227 239.2002 \nL 666.363864 239.2002 \nz\n\" style=\"fill:#1f77b4;\"/>\n   </g>\n   <g id=\"patch_175\">\n    <path clip-path=\"url(#pa1604969ab)\" d=\"M 674.480227 272.374125 \nL 682.596591 272.374125 \nL 682.596591 263.326691 \nL 674.480227 263.326691 \nz\n\" style=\"fill:#1f77b4;\"/>\n   </g>\n   <g id=\"patch_176\">\n    <path clip-path=\"url(#pa1604969ab)\" d=\"M 682.596591 272.374125 \nL 690.712955 272.374125 \nL 690.712955 266.342502 \nL 682.596591 266.342502 \nz\n\" style=\"fill:#1f77b4;\"/>\n   </g>\n   <g id=\"patch_177\">\n    <path clip-path=\"url(#pa1604969ab)\" d=\"M 690.712955 272.374125 \nL 698.829318 272.374125 \nL 698.829318 269.358314 \nL 690.712955 269.358314 \nz\n\" style=\"fill:#1f77b4;\"/>\n   </g>\n   <g id=\"matplotlib.axis_23\">\n    <g id=\"xtick_25\">\n     <g id=\"line2d_135\">\n      <path clip-path=\"url(#pa1604969ab)\" d=\"M 635.597183 272.374125 \nL 635.597183 163.654125 \n\" style=\"fill:none;stroke:#b0b0b0;stroke-linecap:square;stroke-width:0.8;\"/>\n     </g>\n     <g id=\"line2d_136\">\n      <g>\n       <use style=\"stroke:#000000;stroke-width:0.8;\" x=\"635.597183\" xlink:href=\"#mc504cf78b3\" y=\"272.374125\"/>\n      </g>\n     </g>\n     <g id=\"text_79\">\n      <!-- 5 -->\n      <g transform=\"translate(632.415933 286.972562)scale(0.1 -0.1)\">\n       <use xlink:href=\"#DejaVuSans-53\"/>\n      </g>\n     </g>\n    </g>\n    <g id=\"xtick_26\">\n     <g id=\"line2d_137\">\n      <path clip-path=\"url(#pa1604969ab)\" d=\"M 682.785344 272.374125 \nL 682.785344 163.654125 \n\" style=\"fill:none;stroke:#b0b0b0;stroke-linecap:square;stroke-width:0.8;\"/>\n     </g>\n     <g id=\"line2d_138\">\n      <g>\n       <use style=\"stroke:#000000;stroke-width:0.8;\" x=\"682.785344\" xlink:href=\"#mc504cf78b3\" y=\"272.374125\"/>\n      </g>\n     </g>\n     <g id=\"text_80\">\n      <!-- 10 -->\n      <g transform=\"translate(676.422844 286.972562)scale(0.1 -0.1)\">\n       <use xlink:href=\"#DejaVuSans-49\"/>\n       <use x=\"63.623047\" xlink:href=\"#DejaVuSans-48\"/>\n      </g>\n     </g>\n    </g>\n   </g>\n   <g id=\"matplotlib.axis_24\">\n    <g id=\"ytick_44\">\n     <g id=\"line2d_139\">\n      <path clip-path=\"url(#pa1604969ab)\" d=\"M 613.6075 272.374125 \nL 702.8875 272.374125 \n\" style=\"fill:none;stroke:#b0b0b0;stroke-linecap:square;stroke-width:0.8;\"/>\n     </g>\n     <g id=\"line2d_140\">\n      <g>\n       <use style=\"stroke:#000000;stroke-width:0.8;\" x=\"613.6075\" xlink:href=\"#md3fd3d0ccc\" y=\"272.374125\"/>\n      </g>\n     </g>\n     <g id=\"text_81\">\n      <!-- 0 -->\n      <g transform=\"translate(600.245 276.173344)scale(0.1 -0.1)\">\n       <use xlink:href=\"#DejaVuSans-48\"/>\n      </g>\n     </g>\n    </g>\n    <g id=\"ytick_45\">\n     <g id=\"line2d_141\">\n      <path clip-path=\"url(#pa1604969ab)\" d=\"M 613.6075 247.242364 \nL 702.8875 247.242364 \n\" style=\"fill:none;stroke:#b0b0b0;stroke-linecap:square;stroke-width:0.8;\"/>\n     </g>\n     <g id=\"line2d_142\">\n      <g>\n       <use style=\"stroke:#000000;stroke-width:0.8;\" x=\"613.6075\" xlink:href=\"#md3fd3d0ccc\" y=\"247.242364\"/>\n      </g>\n     </g>\n     <g id=\"text_82\">\n      <!-- 25 -->\n      <g transform=\"translate(593.8825 251.041582)scale(0.1 -0.1)\">\n       <use xlink:href=\"#DejaVuSans-50\"/>\n       <use x=\"63.623047\" xlink:href=\"#DejaVuSans-53\"/>\n      </g>\n     </g>\n    </g>\n    <g id=\"ytick_46\">\n     <g id=\"line2d_143\">\n      <path clip-path=\"url(#pa1604969ab)\" d=\"M 613.6075 222.110602 \nL 702.8875 222.110602 \n\" style=\"fill:none;stroke:#b0b0b0;stroke-linecap:square;stroke-width:0.8;\"/>\n     </g>\n     <g id=\"line2d_144\">\n      <g>\n       <use style=\"stroke:#000000;stroke-width:0.8;\" x=\"613.6075\" xlink:href=\"#md3fd3d0ccc\" y=\"222.110602\"/>\n      </g>\n     </g>\n     <g id=\"text_83\">\n      <!-- 50 -->\n      <g transform=\"translate(593.8825 225.909821)scale(0.1 -0.1)\">\n       <use xlink:href=\"#DejaVuSans-53\"/>\n       <use x=\"63.623047\" xlink:href=\"#DejaVuSans-48\"/>\n      </g>\n     </g>\n    </g>\n    <g id=\"ytick_47\">\n     <g id=\"line2d_145\">\n      <path clip-path=\"url(#pa1604969ab)\" d=\"M 613.6075 196.978841 \nL 702.8875 196.978841 \n\" style=\"fill:none;stroke:#b0b0b0;stroke-linecap:square;stroke-width:0.8;\"/>\n     </g>\n     <g id=\"line2d_146\">\n      <g>\n       <use style=\"stroke:#000000;stroke-width:0.8;\" x=\"613.6075\" xlink:href=\"#md3fd3d0ccc\" y=\"196.978841\"/>\n      </g>\n     </g>\n     <g id=\"text_84\">\n      <!-- 75 -->\n      <g transform=\"translate(593.8825 200.778059)scale(0.1 -0.1)\">\n       <use xlink:href=\"#DejaVuSans-55\"/>\n       <use x=\"63.623047\" xlink:href=\"#DejaVuSans-53\"/>\n      </g>\n     </g>\n    </g>\n    <g id=\"ytick_48\">\n     <g id=\"line2d_147\">\n      <path clip-path=\"url(#pa1604969ab)\" d=\"M 613.6075 171.847079 \nL 702.8875 171.847079 \n\" style=\"fill:none;stroke:#b0b0b0;stroke-linecap:square;stroke-width:0.8;\"/>\n     </g>\n     <g id=\"line2d_148\">\n      <g>\n       <use style=\"stroke:#000000;stroke-width:0.8;\" x=\"613.6075\" xlink:href=\"#md3fd3d0ccc\" y=\"171.847079\"/>\n      </g>\n     </g>\n     <g id=\"text_85\">\n      <!-- 100 -->\n      <g transform=\"translate(587.52 175.646298)scale(0.1 -0.1)\">\n       <use xlink:href=\"#DejaVuSans-49\"/>\n       <use x=\"63.623047\" xlink:href=\"#DejaVuSans-48\"/>\n       <use x=\"127.246094\" xlink:href=\"#DejaVuSans-48\"/>\n      </g>\n     </g>\n    </g>\n   </g>\n   <g id=\"patch_178\">\n    <path d=\"M 613.6075 272.374125 \nL 613.6075 163.654125 \n\" style=\"fill:none;stroke:#000000;stroke-linecap:square;stroke-linejoin:miter;stroke-width:0.8;\"/>\n   </g>\n   <g id=\"patch_179\">\n    <path d=\"M 702.8875 272.374125 \nL 702.8875 163.654125 \n\" style=\"fill:none;stroke:#000000;stroke-linecap:square;stroke-linejoin:miter;stroke-width:0.8;\"/>\n   </g>\n   <g id=\"patch_180\">\n    <path d=\"M 613.6075 272.374125 \nL 702.8875 272.374125 \n\" style=\"fill:none;stroke:#000000;stroke-linecap:square;stroke-linejoin:miter;stroke-width:0.8;\"/>\n   </g>\n   <g id=\"patch_181\">\n    <path d=\"M 613.6075 163.654125 \nL 702.8875 163.654125 \n\" style=\"fill:none;stroke:#000000;stroke-linecap:square;stroke-linejoin:miter;stroke-width:0.8;\"/>\n   </g>\n   <g id=\"text_86\">\n    <!-- COPD -->\n    <g transform=\"translate(641.096875 157.654125)scale(0.12 -0.12)\">\n     <use xlink:href=\"#DejaVuSans-67\"/>\n     <use x=\"69.824219\" xlink:href=\"#DejaVuSans-79\"/>\n     <use x=\"148.535156\" xlink:href=\"#DejaVuSans-80\"/>\n     <use x=\"208.837891\" xlink:href=\"#DejaVuSans-68\"/>\n    </g>\n   </g>\n  </g>\n  <g id=\"axes_13\">\n   <g id=\"patch_182\">\n    <path d=\"M 33.2875 413.710125 \nL 122.5675 413.710125 \nL 122.5675 304.990125 \nL 33.2875 304.990125 \nz\n\" style=\"fill:#ffffff;\"/>\n   </g>\n   <g id=\"patch_183\">\n    <path clip-path=\"url(#p7bd86d432d)\" d=\"M 37.345682 413.710125 \nL 45.462045 413.710125 \nL 45.462045 398.792934 \nL 37.345682 398.792934 \nz\n\" style=\"fill:#1f77b4;\"/>\n   </g>\n   <g id=\"patch_184\">\n    <path clip-path=\"url(#p7bd86d432d)\" d=\"M 45.462045 413.710125 \nL 53.578409 413.710125 \nL 53.578409 390.895597 \nL 45.462045 390.895597 \nz\n\" style=\"fill:#1f77b4;\"/>\n   </g>\n   <g id=\"patch_185\">\n    <path clip-path=\"url(#p7bd86d432d)\" d=\"M 53.578409 413.710125 \nL 61.694773 413.710125 \nL 61.694773 359.306251 \nL 53.578409 359.306251 \nz\n\" style=\"fill:#1f77b4;\"/>\n   </g>\n   <g id=\"patch_186\">\n    <path clip-path=\"url(#p7bd86d432d)\" d=\"M 61.694773 413.710125 \nL 69.811136 413.710125 \nL 69.811136 325.084459 \nL 61.694773 325.084459 \nz\n\" style=\"fill:#1f77b4;\"/>\n   </g>\n   <g id=\"patch_187\">\n    <path clip-path=\"url(#p7bd86d432d)\" d=\"M 69.811136 413.710125 \nL 77.9275 413.710125 \nL 77.9275 310.167268 \nL 69.811136 310.167268 \nz\n\" style=\"fill:#1f77b4;\"/>\n   </g>\n   <g id=\"patch_188\">\n    <path clip-path=\"url(#p7bd86d432d)\" d=\"M 77.9275 413.710125 \nL 86.043864 413.710125 \nL 86.043864 330.34935 \nL 77.9275 330.34935 \nz\n\" style=\"fill:#1f77b4;\"/>\n   </g>\n   <g id=\"patch_189\">\n    <path clip-path=\"url(#p7bd86d432d)\" d=\"M 86.043864 413.710125 \nL 94.160227 413.710125 \nL 94.160227 376.855888 \nL 86.043864 376.855888 \nz\n\" style=\"fill:#1f77b4;\"/>\n   </g>\n   <g id=\"patch_190\">\n    <path clip-path=\"url(#p7bd86d432d)\" d=\"M 94.160227 413.710125 \nL 102.276591 413.710125 \nL 102.276591 388.263152 \nL 94.160227 388.263152 \nz\n\" style=\"fill:#1f77b4;\"/>\n   </g>\n   <g id=\"patch_191\">\n    <path clip-path=\"url(#p7bd86d432d)\" d=\"M 102.276591 413.710125 \nL 110.392955 413.710125 \nL 110.392955 409.322716 \nL 102.276591 409.322716 \nz\n\" style=\"fill:#1f77b4;\"/>\n   </g>\n   <g id=\"patch_192\">\n    <path clip-path=\"url(#p7bd86d432d)\" d=\"M 110.392955 413.710125 \nL 118.509318 413.710125 \nL 118.509318 411.955161 \nL 110.392955 411.955161 \nz\n\" style=\"fill:#1f77b4;\"/>\n   </g>\n   <g id=\"matplotlib.axis_25\">\n    <g id=\"xtick_27\">\n     <g id=\"line2d_149\">\n      <path clip-path=\"url(#p7bd86d432d)\" d=\"M 39.141337 413.710125 \nL 39.141337 304.990125 \n\" style=\"fill:none;stroke:#b0b0b0;stroke-linecap:square;stroke-width:0.8;\"/>\n     </g>\n     <g id=\"line2d_150\">\n      <g>\n       <use style=\"stroke:#000000;stroke-width:0.8;\" x=\"39.141337\" xlink:href=\"#mc504cf78b3\" y=\"413.710125\"/>\n      </g>\n     </g>\n     <g id=\"text_87\">\n      <!-- 20 -->\n      <g transform=\"translate(32.778837 428.308562)scale(0.1 -0.1)\">\n       <use xlink:href=\"#DejaVuSans-50\"/>\n       <use x=\"63.623047\" xlink:href=\"#DejaVuSans-48\"/>\n      </g>\n     </g>\n    </g>\n    <g id=\"xtick_28\">\n     <g id=\"line2d_151\">\n      <path clip-path=\"url(#p7bd86d432d)\" d=\"M 87.025489 413.710125 \nL 87.025489 304.990125 \n\" style=\"fill:none;stroke:#b0b0b0;stroke-linecap:square;stroke-width:0.8;\"/>\n     </g>\n     <g id=\"line2d_152\">\n      <g>\n       <use style=\"stroke:#000000;stroke-width:0.8;\" x=\"87.025489\" xlink:href=\"#mc504cf78b3\" y=\"413.710125\"/>\n      </g>\n     </g>\n     <g id=\"text_88\">\n      <!-- 40 -->\n      <g transform=\"translate(80.662989 428.308562)scale(0.1 -0.1)\">\n       <use xlink:href=\"#DejaVuSans-52\"/>\n       <use x=\"63.623047\" xlink:href=\"#DejaVuSans-48\"/>\n      </g>\n     </g>\n    </g>\n   </g>\n   <g id=\"matplotlib.axis_26\">\n    <g id=\"ytick_49\">\n     <g id=\"line2d_153\">\n      <path clip-path=\"url(#p7bd86d432d)\" d=\"M 33.2875 413.710125 \nL 122.5675 413.710125 \n\" style=\"fill:none;stroke:#b0b0b0;stroke-linecap:square;stroke-width:0.8;\"/>\n     </g>\n     <g id=\"line2d_154\">\n      <g>\n       <use style=\"stroke:#000000;stroke-width:0.8;\" x=\"33.2875\" xlink:href=\"#md3fd3d0ccc\" y=\"413.710125\"/>\n      </g>\n     </g>\n     <g id=\"text_89\">\n      <!-- 0 -->\n      <g transform=\"translate(19.925 417.509344)scale(0.1 -0.1)\">\n       <use xlink:href=\"#DejaVuSans-48\"/>\n      </g>\n     </g>\n    </g>\n    <g id=\"ytick_50\">\n     <g id=\"line2d_155\">\n      <path clip-path=\"url(#p7bd86d432d)\" d=\"M 33.2875 391.773079 \nL 122.5675 391.773079 \n\" style=\"fill:none;stroke:#b0b0b0;stroke-linecap:square;stroke-width:0.8;\"/>\n     </g>\n     <g id=\"line2d_156\">\n      <g>\n       <use style=\"stroke:#000000;stroke-width:0.8;\" x=\"33.2875\" xlink:href=\"#md3fd3d0ccc\" y=\"391.773079\"/>\n      </g>\n     </g>\n     <g id=\"text_90\">\n      <!-- 25 -->\n      <g transform=\"translate(13.5625 395.572298)scale(0.1 -0.1)\">\n       <use xlink:href=\"#DejaVuSans-50\"/>\n       <use x=\"63.623047\" xlink:href=\"#DejaVuSans-53\"/>\n      </g>\n     </g>\n    </g>\n    <g id=\"ytick_51\">\n     <g id=\"line2d_157\">\n      <path clip-path=\"url(#p7bd86d432d)\" d=\"M 33.2875 369.836033 \nL 122.5675 369.836033 \n\" style=\"fill:none;stroke:#b0b0b0;stroke-linecap:square;stroke-width:0.8;\"/>\n     </g>\n     <g id=\"line2d_158\">\n      <g>\n       <use style=\"stroke:#000000;stroke-width:0.8;\" x=\"33.2875\" xlink:href=\"#md3fd3d0ccc\" y=\"369.836033\"/>\n      </g>\n     </g>\n     <g id=\"text_91\">\n      <!-- 50 -->\n      <g transform=\"translate(13.5625 373.635252)scale(0.1 -0.1)\">\n       <use xlink:href=\"#DejaVuSans-53\"/>\n       <use x=\"63.623047\" xlink:href=\"#DejaVuSans-48\"/>\n      </g>\n     </g>\n    </g>\n    <g id=\"ytick_52\">\n     <g id=\"line2d_159\">\n      <path clip-path=\"url(#p7bd86d432d)\" d=\"M 33.2875 347.898987 \nL 122.5675 347.898987 \n\" style=\"fill:none;stroke:#b0b0b0;stroke-linecap:square;stroke-width:0.8;\"/>\n     </g>\n     <g id=\"line2d_160\">\n      <g>\n       <use style=\"stroke:#000000;stroke-width:0.8;\" x=\"33.2875\" xlink:href=\"#md3fd3d0ccc\" y=\"347.898987\"/>\n      </g>\n     </g>\n     <g id=\"text_92\">\n      <!-- 75 -->\n      <g transform=\"translate(13.5625 351.698206)scale(0.1 -0.1)\">\n       <use xlink:href=\"#DejaVuSans-55\"/>\n       <use x=\"63.623047\" xlink:href=\"#DejaVuSans-53\"/>\n      </g>\n     </g>\n    </g>\n    <g id=\"ytick_53\">\n     <g id=\"line2d_161\">\n      <path clip-path=\"url(#p7bd86d432d)\" d=\"M 33.2875 325.961941 \nL 122.5675 325.961941 \n\" style=\"fill:none;stroke:#b0b0b0;stroke-linecap:square;stroke-width:0.8;\"/>\n     </g>\n     <g id=\"line2d_162\">\n      <g>\n       <use style=\"stroke:#000000;stroke-width:0.8;\" x=\"33.2875\" xlink:href=\"#md3fd3d0ccc\" y=\"325.961941\"/>\n      </g>\n     </g>\n     <g id=\"text_93\">\n      <!-- 100 -->\n      <g transform=\"translate(7.2 329.76116)scale(0.1 -0.1)\">\n       <use xlink:href=\"#DejaVuSans-49\"/>\n       <use x=\"63.623047\" xlink:href=\"#DejaVuSans-48\"/>\n       <use x=\"127.246094\" xlink:href=\"#DejaVuSans-48\"/>\n      </g>\n     </g>\n    </g>\n   </g>\n   <g id=\"patch_193\">\n    <path d=\"M 33.2875 413.710125 \nL 33.2875 304.990125 \n\" style=\"fill:none;stroke:#000000;stroke-linecap:square;stroke-linejoin:miter;stroke-width:0.8;\"/>\n   </g>\n   <g id=\"patch_194\">\n    <path d=\"M 122.5675 413.710125 \nL 122.5675 304.990125 \n\" style=\"fill:none;stroke:#000000;stroke-linecap:square;stroke-linejoin:miter;stroke-width:0.8;\"/>\n   </g>\n   <g id=\"patch_195\">\n    <path d=\"M 33.2875 413.710125 \nL 122.5675 413.710125 \n\" style=\"fill:none;stroke:#000000;stroke-linecap:square;stroke-linejoin:miter;stroke-width:0.8;\"/>\n   </g>\n   <g id=\"patch_196\">\n    <path d=\"M 33.2875 304.990125 \nL 122.5675 304.990125 \n\" style=\"fill:none;stroke:#000000;stroke-linecap:square;stroke-linejoin:miter;stroke-width:0.8;\"/>\n   </g>\n   <g id=\"text_94\">\n    <!-- COREM -->\n    <g transform=\"translate(55.8775 298.990125)scale(0.12 -0.12)\">\n     <use xlink:href=\"#DejaVuSans-67\"/>\n     <use x=\"69.824219\" xlink:href=\"#DejaVuSans-79\"/>\n     <use x=\"148.535156\" xlink:href=\"#DejaVuSans-82\"/>\n     <use x=\"218.017578\" xlink:href=\"#DejaVuSans-69\"/>\n     <use x=\"281.201172\" xlink:href=\"#DejaVuSans-77\"/>\n    </g>\n   </g>\n  </g>\n  <g id=\"axes_14\">\n   <g id=\"patch_197\">\n    <path d=\"M 149.3515 413.710125 \nL 238.6315 413.710125 \nL 238.6315 304.990125 \nL 149.3515 304.990125 \nz\n\" style=\"fill:#ffffff;\"/>\n   </g>\n   <g id=\"patch_198\">\n    <path clip-path=\"url(#p95d9a2c3b6)\" d=\"M 153.409682 413.710125 \nL 161.526045 413.710125 \nL 161.526045 403.355839 \nL 153.409682 403.355839 \nz\n\" style=\"fill:#1f77b4;\"/>\n   </g>\n   <g id=\"patch_199\">\n    <path clip-path=\"url(#p95d9a2c3b6)\" d=\"M 161.526045 413.710125 \nL 169.642409 413.710125 \nL 169.642409 405.944411 \nL 161.526045 405.944411 \nz\n\" style=\"fill:#1f77b4;\"/>\n   </g>\n   <g id=\"patch_200\">\n    <path clip-path=\"url(#p95d9a2c3b6)\" d=\"M 169.642409 413.710125 \nL 177.758773 413.710125 \nL 177.758773 386.098696 \nL 169.642409 386.098696 \nz\n\" style=\"fill:#1f77b4;\"/>\n   </g>\n   <g id=\"patch_201\">\n    <path clip-path=\"url(#p95d9a2c3b6)\" d=\"M 177.758773 413.710125 \nL 185.875136 413.710125 \nL 185.875136 336.052982 \nL 177.758773 336.052982 \nz\n\" style=\"fill:#1f77b4;\"/>\n   </g>\n   <g id=\"patch_202\">\n    <path clip-path=\"url(#p95d9a2c3b6)\" d=\"M 185.875136 413.710125 \nL 193.9915 413.710125 \nL 193.9915 313.618696 \nL 185.875136 313.618696 \nz\n\" style=\"fill:#1f77b4;\"/>\n   </g>\n   <g id=\"patch_203\">\n    <path clip-path=\"url(#p95d9a2c3b6)\" d=\"M 193.9915 413.710125 \nL 202.107864 413.710125 \nL 202.107864 310.167268 \nL 193.9915 310.167268 \nz\n\" style=\"fill:#1f77b4;\"/>\n   </g>\n   <g id=\"patch_204\">\n    <path clip-path=\"url(#p95d9a2c3b6)\" d=\"M 202.107864 413.710125 \nL 210.224227 413.710125 \nL 210.224227 354.172982 \nL 202.107864 354.172982 \nz\n\" style=\"fill:#1f77b4;\"/>\n   </g>\n   <g id=\"patch_205\">\n    <path clip-path=\"url(#p95d9a2c3b6)\" d=\"M 210.224227 413.710125 \nL 218.340591 413.710125 \nL 218.340591 388.687268 \nL 210.224227 388.687268 \nz\n\" style=\"fill:#1f77b4;\"/>\n   </g>\n   <g id=\"patch_206\">\n    <path clip-path=\"url(#p95d9a2c3b6)\" d=\"M 218.340591 413.710125 \nL 226.456955 413.710125 \nL 226.456955 399.041554 \nL 218.340591 399.041554 \nz\n\" style=\"fill:#1f77b4;\"/>\n   </g>\n   <g id=\"patch_207\">\n    <path clip-path=\"url(#p95d9a2c3b6)\" d=\"M 226.456955 413.710125 \nL 234.573318 413.710125 \nL 234.573318 411.121554 \nL 226.456955 411.121554 \nz\n\" style=\"fill:#1f77b4;\"/>\n   </g>\n   <g id=\"matplotlib.axis_27\">\n    <g id=\"xtick_29\">\n     <g id=\"line2d_163\">\n      <path clip-path=\"url(#p95d9a2c3b6)\" d=\"M 160.571179 413.710125 \nL 160.571179 304.990125 \n\" style=\"fill:none;stroke:#b0b0b0;stroke-linecap:square;stroke-width:0.8;\"/>\n     </g>\n     <g id=\"line2d_164\">\n      <g>\n       <use style=\"stroke:#000000;stroke-width:0.8;\" x=\"160.571179\" xlink:href=\"#mc504cf78b3\" y=\"413.710125\"/>\n      </g>\n     </g>\n     <g id=\"text_95\">\n      <!-- 20 -->\n      <g transform=\"translate(154.208679 428.308562)scale(0.1 -0.1)\">\n       <use xlink:href=\"#DejaVuSans-50\"/>\n       <use x=\"63.623047\" xlink:href=\"#DejaVuSans-48\"/>\n      </g>\n     </g>\n    </g>\n    <g id=\"xtick_30\">\n     <g id=\"line2d_165\">\n      <path clip-path=\"url(#p95d9a2c3b6)\" d=\"M 216.739786 413.710125 \nL 216.739786 304.990125 \n\" style=\"fill:none;stroke:#b0b0b0;stroke-linecap:square;stroke-width:0.8;\"/>\n     </g>\n     <g id=\"line2d_166\">\n      <g>\n       <use style=\"stroke:#000000;stroke-width:0.8;\" x=\"216.739786\" xlink:href=\"#mc504cf78b3\" y=\"413.710125\"/>\n      </g>\n     </g>\n     <g id=\"text_96\">\n      <!-- 40 -->\n      <g transform=\"translate(210.377286 428.308562)scale(0.1 -0.1)\">\n       <use xlink:href=\"#DejaVuSans-52\"/>\n       <use x=\"63.623047\" xlink:href=\"#DejaVuSans-48\"/>\n      </g>\n     </g>\n    </g>\n   </g>\n   <g id=\"matplotlib.axis_28\">\n    <g id=\"ytick_54\">\n     <g id=\"line2d_167\">\n      <path clip-path=\"url(#p95d9a2c3b6)\" d=\"M 149.3515 413.710125 \nL 238.6315 413.710125 \n\" style=\"fill:none;stroke:#b0b0b0;stroke-linecap:square;stroke-width:0.8;\"/>\n     </g>\n     <g id=\"line2d_168\">\n      <g>\n       <use style=\"stroke:#000000;stroke-width:0.8;\" x=\"149.3515\" xlink:href=\"#md3fd3d0ccc\" y=\"413.710125\"/>\n      </g>\n     </g>\n     <g id=\"text_97\">\n      <!-- 0 -->\n      <g transform=\"translate(135.989 417.509344)scale(0.1 -0.1)\">\n       <use xlink:href=\"#DejaVuSans-48\"/>\n      </g>\n     </g>\n    </g>\n    <g id=\"ytick_55\">\n     <g id=\"line2d_169\">\n      <path clip-path=\"url(#p95d9a2c3b6)\" d=\"M 149.3515 370.567268 \nL 238.6315 370.567268 \n\" style=\"fill:none;stroke:#b0b0b0;stroke-linecap:square;stroke-width:0.8;\"/>\n     </g>\n     <g id=\"line2d_170\">\n      <g>\n       <use style=\"stroke:#000000;stroke-width:0.8;\" x=\"149.3515\" xlink:href=\"#md3fd3d0ccc\" y=\"370.567268\"/>\n      </g>\n     </g>\n     <g id=\"text_98\">\n      <!-- 50 -->\n      <g transform=\"translate(129.6265 374.366487)scale(0.1 -0.1)\">\n       <use xlink:href=\"#DejaVuSans-53\"/>\n       <use x=\"63.623047\" xlink:href=\"#DejaVuSans-48\"/>\n      </g>\n     </g>\n    </g>\n    <g id=\"ytick_56\">\n     <g id=\"line2d_171\">\n      <path clip-path=\"url(#p95d9a2c3b6)\" d=\"M 149.3515 327.424411 \nL 238.6315 327.424411 \n\" style=\"fill:none;stroke:#b0b0b0;stroke-linecap:square;stroke-width:0.8;\"/>\n     </g>\n     <g id=\"line2d_172\">\n      <g>\n       <use style=\"stroke:#000000;stroke-width:0.8;\" x=\"149.3515\" xlink:href=\"#md3fd3d0ccc\" y=\"327.424411\"/>\n      </g>\n     </g>\n     <g id=\"text_99\">\n      <!-- 100 -->\n      <g transform=\"translate(123.264 331.223629)scale(0.1 -0.1)\">\n       <use xlink:href=\"#DejaVuSans-49\"/>\n       <use x=\"63.623047\" xlink:href=\"#DejaVuSans-48\"/>\n       <use x=\"127.246094\" xlink:href=\"#DejaVuSans-48\"/>\n      </g>\n     </g>\n    </g>\n   </g>\n   <g id=\"patch_208\">\n    <path d=\"M 149.3515 413.710125 \nL 149.3515 304.990125 \n\" style=\"fill:none;stroke:#000000;stroke-linecap:square;stroke-linejoin:miter;stroke-width:0.8;\"/>\n   </g>\n   <g id=\"patch_209\">\n    <path d=\"M 238.6315 413.710125 \nL 238.6315 304.990125 \n\" style=\"fill:none;stroke:#000000;stroke-linecap:square;stroke-linejoin:miter;stroke-width:0.8;\"/>\n   </g>\n   <g id=\"patch_210\">\n    <path d=\"M 149.3515 413.710125 \nL 238.6315 413.710125 \n\" style=\"fill:none;stroke:#000000;stroke-linecap:square;stroke-linejoin:miter;stroke-width:0.8;\"/>\n   </g>\n   <g id=\"patch_211\">\n    <path d=\"M 149.3515 304.990125 \nL 238.6315 304.990125 \n\" style=\"fill:none;stroke:#000000;stroke-linecap:square;stroke-linejoin:miter;stroke-width:0.8;\"/>\n   </g>\n   <g id=\"text_100\">\n    <!-- COREW -->\n    <defs>\n     <path d=\"M 3.328125 72.90625 \nL 13.28125 72.90625 \nL 28.609375 11.28125 \nL 43.890625 72.90625 \nL 54.984375 72.90625 \nL 70.3125 11.28125 \nL 85.59375 72.90625 \nL 95.609375 72.90625 \nL 77.296875 0 \nL 64.890625 0 \nL 49.515625 63.28125 \nL 33.984375 0 \nL 21.578125 0 \nz\n\" id=\"DejaVuSans-87\"/>\n    </defs>\n    <g transform=\"translate(171.185875 298.990125)scale(0.12 -0.12)\">\n     <use xlink:href=\"#DejaVuSans-67\"/>\n     <use x=\"69.824219\" xlink:href=\"#DejaVuSans-79\"/>\n     <use x=\"148.535156\" xlink:href=\"#DejaVuSans-82\"/>\n     <use x=\"218.017578\" xlink:href=\"#DejaVuSans-69\"/>\n     <use x=\"281.201172\" xlink:href=\"#DejaVuSans-87\"/>\n    </g>\n   </g>\n  </g>\n  <g id=\"axes_15\">\n   <g id=\"patch_212\">\n    <path d=\"M 265.4155 413.710125 \nL 354.6955 413.710125 \nL 354.6955 304.990125 \nL 265.4155 304.990125 \nz\n\" style=\"fill:#ffffff;\"/>\n   </g>\n   <g id=\"patch_213\">\n    <path clip-path=\"url(#pd006dc5af0)\" d=\"M 269.473682 413.710125 \nL 277.590045 413.710125 \nL 277.590045 392.420939 \nL 269.473682 392.420939 \nz\n\" style=\"fill:#1f77b4;\"/>\n   </g>\n   <g id=\"patch_214\">\n    <path clip-path=\"url(#pd006dc5af0)\" d=\"M 277.590045 413.710125 \nL 285.706409 413.710125 \nL 285.706409 367.260993 \nL 277.590045 367.260993 \nz\n\" style=\"fill:#1f77b4;\"/>\n   </g>\n   <g id=\"patch_215\">\n    <path clip-path=\"url(#pd006dc5af0)\" d=\"M 285.706409 413.710125 \nL 293.822773 413.710125 \nL 293.822773 337.262595 \nL 285.706409 337.262595 \nz\n\" style=\"fill:#1f77b4;\"/>\n   </g>\n   <g id=\"patch_216\">\n    <path clip-path=\"url(#pd006dc5af0)\" d=\"M 293.822773 413.710125 \nL 301.939136 413.710125 \nL 301.939136 310.167268 \nL 293.822773 310.167268 \nz\n\" style=\"fill:#1f77b4;\"/>\n   </g>\n   <g id=\"patch_217\">\n    <path clip-path=\"url(#pd006dc5af0)\" d=\"M 301.939136 413.710125 \nL 310.0555 413.710125 \nL 310.0555 336.294905 \nL 301.939136 336.294905 \nz\n\" style=\"fill:#1f77b4;\"/>\n   </g>\n   <g id=\"patch_218\">\n    <path clip-path=\"url(#pd006dc5af0)\" d=\"M 310.0555 413.710125 \nL 318.171864 413.710125 \nL 318.171864 341.133356 \nL 310.0555 341.133356 \nz\n\" style=\"fill:#1f77b4;\"/>\n   </g>\n   <g id=\"patch_219\">\n    <path clip-path=\"url(#pd006dc5af0)\" d=\"M 318.171864 413.710125 \nL 326.288227 413.710125 \nL 326.288227 366.293303 \nL 318.171864 366.293303 \nz\n\" style=\"fill:#1f77b4;\"/>\n   </g>\n   <g id=\"patch_220\">\n    <path clip-path=\"url(#pd006dc5af0)\" d=\"M 326.288227 413.710125 \nL 334.404591 413.710125 \nL 334.404591 391.453249 \nL 326.288227 391.453249 \nz\n\" style=\"fill:#1f77b4;\"/>\n   </g>\n   <g id=\"patch_221\">\n    <path clip-path=\"url(#pd006dc5af0)\" d=\"M 334.404591 413.710125 \nL 342.520955 413.710125 \nL 342.520955 405.968603 \nL 334.404591 405.968603 \nz\n\" style=\"fill:#1f77b4;\"/>\n   </g>\n   <g id=\"patch_222\">\n    <path clip-path=\"url(#pd006dc5af0)\" d=\"M 342.520955 413.710125 \nL 350.637318 413.710125 \nL 350.637318 407.903983 \nL 342.520955 407.903983 \nz\n\" style=\"fill:#1f77b4;\"/>\n   </g>\n   <g id=\"matplotlib.axis_29\">\n    <g id=\"xtick_31\">\n     <g id=\"line2d_173\">\n      <path clip-path=\"url(#pd006dc5af0)\" d=\"M 274.909584 413.710125 \nL 274.909584 304.990125 \n\" style=\"fill:none;stroke:#b0b0b0;stroke-linecap:square;stroke-width:0.8;\"/>\n     </g>\n     <g id=\"line2d_174\">\n      <g>\n       <use style=\"stroke:#000000;stroke-width:0.8;\" x=\"274.909584\" xlink:href=\"#mc504cf78b3\" y=\"413.710125\"/>\n      </g>\n     </g>\n     <g id=\"text_101\">\n      <!-- 10 -->\n      <g transform=\"translate(268.547084 428.308562)scale(0.1 -0.1)\">\n       <use xlink:href=\"#DejaVuSans-49\"/>\n       <use x=\"63.623047\" xlink:href=\"#DejaVuSans-48\"/>\n      </g>\n     </g>\n    </g>\n    <g id=\"xtick_32\">\n     <g id=\"line2d_175\">\n      <path clip-path=\"url(#pd006dc5af0)\" d=\"M 312.398561 413.710125 \nL 312.398561 304.990125 \n\" style=\"fill:none;stroke:#b0b0b0;stroke-linecap:square;stroke-width:0.8;\"/>\n     </g>\n     <g id=\"line2d_176\">\n      <g>\n       <use style=\"stroke:#000000;stroke-width:0.8;\" x=\"312.398561\" xlink:href=\"#mc504cf78b3\" y=\"413.710125\"/>\n      </g>\n     </g>\n     <g id=\"text_102\">\n      <!-- 20 -->\n      <g transform=\"translate(306.036061 428.308562)scale(0.1 -0.1)\">\n       <use xlink:href=\"#DejaVuSans-50\"/>\n       <use x=\"63.623047\" xlink:href=\"#DejaVuSans-48\"/>\n      </g>\n     </g>\n    </g>\n    <g id=\"xtick_33\">\n     <g id=\"line2d_177\">\n      <path clip-path=\"url(#pd006dc5af0)\" d=\"M 349.887539 413.710125 \nL 349.887539 304.990125 \n\" style=\"fill:none;stroke:#b0b0b0;stroke-linecap:square;stroke-width:0.8;\"/>\n     </g>\n     <g id=\"line2d_178\">\n      <g>\n       <use style=\"stroke:#000000;stroke-width:0.8;\" x=\"349.887539\" xlink:href=\"#mc504cf78b3\" y=\"413.710125\"/>\n      </g>\n     </g>\n     <g id=\"text_103\">\n      <!-- 30 -->\n      <g transform=\"translate(343.525039 428.308562)scale(0.1 -0.1)\">\n       <use xlink:href=\"#DejaVuSans-51\"/>\n       <use x=\"63.623047\" xlink:href=\"#DejaVuSans-48\"/>\n      </g>\n     </g>\n    </g>\n   </g>\n   <g id=\"matplotlib.axis_30\">\n    <g id=\"ytick_57\">\n     <g id=\"line2d_179\">\n      <path clip-path=\"url(#pd006dc5af0)\" d=\"M 265.4155 413.710125 \nL 354.6955 413.710125 \n\" style=\"fill:none;stroke:#b0b0b0;stroke-linecap:square;stroke-width:0.8;\"/>\n     </g>\n     <g id=\"line2d_180\">\n      <g>\n       <use style=\"stroke:#000000;stroke-width:0.8;\" x=\"265.4155\" xlink:href=\"#md3fd3d0ccc\" y=\"413.710125\"/>\n      </g>\n     </g>\n     <g id=\"text_104\">\n      <!-- 0 -->\n      <g transform=\"translate(252.053 417.509344)scale(0.1 -0.1)\">\n       <use xlink:href=\"#DejaVuSans-48\"/>\n      </g>\n     </g>\n    </g>\n    <g id=\"ytick_58\">\n     <g id=\"line2d_181\">\n      <path clip-path=\"url(#pd006dc5af0)\" d=\"M 265.4155 389.517869 \nL 354.6955 389.517869 \n\" style=\"fill:none;stroke:#b0b0b0;stroke-linecap:square;stroke-width:0.8;\"/>\n     </g>\n     <g id=\"line2d_182\">\n      <g>\n       <use style=\"stroke:#000000;stroke-width:0.8;\" x=\"265.4155\" xlink:href=\"#md3fd3d0ccc\" y=\"389.517869\"/>\n      </g>\n     </g>\n     <g id=\"text_105\">\n      <!-- 25 -->\n      <g transform=\"translate(245.6905 393.317087)scale(0.1 -0.1)\">\n       <use xlink:href=\"#DejaVuSans-50\"/>\n       <use x=\"63.623047\" xlink:href=\"#DejaVuSans-53\"/>\n      </g>\n     </g>\n    </g>\n    <g id=\"ytick_59\">\n     <g id=\"line2d_183\">\n      <path clip-path=\"url(#pd006dc5af0)\" d=\"M 265.4155 365.325612 \nL 354.6955 365.325612 \n\" style=\"fill:none;stroke:#b0b0b0;stroke-linecap:square;stroke-width:0.8;\"/>\n     </g>\n     <g id=\"line2d_184\">\n      <g>\n       <use style=\"stroke:#000000;stroke-width:0.8;\" x=\"265.4155\" xlink:href=\"#md3fd3d0ccc\" y=\"365.325612\"/>\n      </g>\n     </g>\n     <g id=\"text_106\">\n      <!-- 50 -->\n      <g transform=\"translate(245.6905 369.124831)scale(0.1 -0.1)\">\n       <use xlink:href=\"#DejaVuSans-53\"/>\n       <use x=\"63.623047\" xlink:href=\"#DejaVuSans-48\"/>\n      </g>\n     </g>\n    </g>\n    <g id=\"ytick_60\">\n     <g id=\"line2d_185\">\n      <path clip-path=\"url(#pd006dc5af0)\" d=\"M 265.4155 341.133356 \nL 354.6955 341.133356 \n\" style=\"fill:none;stroke:#b0b0b0;stroke-linecap:square;stroke-width:0.8;\"/>\n     </g>\n     <g id=\"line2d_186\">\n      <g>\n       <use style=\"stroke:#000000;stroke-width:0.8;\" x=\"265.4155\" xlink:href=\"#md3fd3d0ccc\" y=\"341.133356\"/>\n      </g>\n     </g>\n     <g id=\"text_107\">\n      <!-- 75 -->\n      <g transform=\"translate(245.6905 344.932575)scale(0.1 -0.1)\">\n       <use xlink:href=\"#DejaVuSans-55\"/>\n       <use x=\"63.623047\" xlink:href=\"#DejaVuSans-53\"/>\n      </g>\n     </g>\n    </g>\n    <g id=\"ytick_61\">\n     <g id=\"line2d_187\">\n      <path clip-path=\"url(#pd006dc5af0)\" d=\"M 265.4155 316.9411 \nL 354.6955 316.9411 \n\" style=\"fill:none;stroke:#b0b0b0;stroke-linecap:square;stroke-width:0.8;\"/>\n     </g>\n     <g id=\"line2d_188\">\n      <g>\n       <use style=\"stroke:#000000;stroke-width:0.8;\" x=\"265.4155\" xlink:href=\"#md3fd3d0ccc\" y=\"316.9411\"/>\n      </g>\n     </g>\n     <g id=\"text_108\">\n      <!-- 100 -->\n      <g transform=\"translate(239.328 320.740318)scale(0.1 -0.1)\">\n       <use xlink:href=\"#DejaVuSans-49\"/>\n       <use x=\"63.623047\" xlink:href=\"#DejaVuSans-48\"/>\n       <use x=\"127.246094\" xlink:href=\"#DejaVuSans-48\"/>\n      </g>\n     </g>\n    </g>\n   </g>\n   <g id=\"patch_223\">\n    <path d=\"M 265.4155 413.710125 \nL 265.4155 304.990125 \n\" style=\"fill:none;stroke:#000000;stroke-linecap:square;stroke-linejoin:miter;stroke-width:0.8;\"/>\n   </g>\n   <g id=\"patch_224\">\n    <path d=\"M 354.6955 413.710125 \nL 354.6955 304.990125 \n\" style=\"fill:none;stroke:#000000;stroke-linecap:square;stroke-linejoin:miter;stroke-width:0.8;\"/>\n   </g>\n   <g id=\"patch_225\">\n    <path d=\"M 265.4155 413.710125 \nL 354.6955 413.710125 \n\" style=\"fill:none;stroke:#000000;stroke-linecap:square;stroke-linejoin:miter;stroke-width:0.8;\"/>\n   </g>\n   <g id=\"patch_226\">\n    <path d=\"M 265.4155 304.990125 \nL 354.6955 304.990125 \n\" style=\"fill:none;stroke:#000000;stroke-linecap:square;stroke-linejoin:miter;stroke-width:0.8;\"/>\n   </g>\n   <g id=\"text_109\">\n    <!-- CSMOKING -->\n    <g transform=\"translate(277.31425 298.990125)scale(0.12 -0.12)\">\n     <use xlink:href=\"#DejaVuSans-67\"/>\n     <use x=\"69.824219\" xlink:href=\"#DejaVuSans-83\"/>\n     <use x=\"133.300781\" xlink:href=\"#DejaVuSans-77\"/>\n     <use x=\"219.580078\" xlink:href=\"#DejaVuSans-79\"/>\n     <use x=\"298.291016\" xlink:href=\"#DejaVuSans-75\"/>\n     <use x=\"363.867188\" xlink:href=\"#DejaVuSans-73\"/>\n     <use x=\"393.359375\" xlink:href=\"#DejaVuSans-78\"/>\n     <use x=\"468.164062\" xlink:href=\"#DejaVuSans-71\"/>\n    </g>\n   </g>\n  </g>\n  <g id=\"axes_16\">\n   <g id=\"patch_227\">\n    <path d=\"M 381.4795 413.710125 \nL 470.7595 413.710125 \nL 470.7595 304.990125 \nL 381.4795 304.990125 \nz\n\" style=\"fill:#ffffff;\"/>\n   </g>\n   <g id=\"patch_228\">\n    <path clip-path=\"url(#p09ee02b401)\" d=\"M 385.537682 413.710125 \nL 393.654045 413.710125 \nL 393.654045 409.304046 \nL 385.537682 409.304046 \nz\n\" style=\"fill:#1f77b4;\"/>\n   </g>\n   <g id=\"patch_229\">\n    <path clip-path=\"url(#p09ee02b401)\" d=\"M 393.654045 413.710125 \nL 401.770409 413.710125 \nL 401.770409 401.593408 \nL 393.654045 401.593408 \nz\n\" style=\"fill:#1f77b4;\"/>\n   </g>\n   <g id=\"patch_230\">\n    <path clip-path=\"url(#p09ee02b401)\" d=\"M 401.770409 413.710125 \nL 409.886773 413.710125 \nL 409.886773 370.750854 \nL 401.770409 370.750854 \nz\n\" style=\"fill:#1f77b4;\"/>\n   </g>\n   <g id=\"patch_231\">\n    <path clip-path=\"url(#p09ee02b401)\" d=\"M 409.886773 413.710125 \nL 418.003136 413.710125 \nL 418.003136 332.197663 \nL 409.886773 332.197663 \nz\n\" style=\"fill:#1f77b4;\"/>\n   </g>\n   <g id=\"patch_232\">\n    <path clip-path=\"url(#p09ee02b401)\" d=\"M 418.003136 413.710125 \nL 426.1195 413.710125 \nL 426.1195 314.573347 \nL 418.003136 314.573347 \nz\n\" style=\"fill:#1f77b4;\"/>\n   </g>\n   <g id=\"patch_233\">\n    <path clip-path=\"url(#p09ee02b401)\" d=\"M 426.1195 413.710125 \nL 434.235864 413.710125 \nL 434.235864 325.588544 \nL 426.1195 325.588544 \nz\n\" style=\"fill:#1f77b4;\"/>\n   </g>\n   <g id=\"patch_234\">\n    <path clip-path=\"url(#p09ee02b401)\" d=\"M 434.235864 413.710125 \nL 442.352227 413.710125 \nL 442.352227 310.167268 \nL 434.235864 310.167268 \nz\n\" style=\"fill:#1f77b4;\"/>\n   </g>\n   <g id=\"patch_235\">\n    <path clip-path=\"url(#p09ee02b401)\" d=\"M 442.352227 413.710125 \nL 450.468591 413.710125 \nL 450.468591 347.61894 \nL 442.352227 347.61894 \nz\n\" style=\"fill:#1f77b4;\"/>\n   </g>\n   <g id=\"patch_236\">\n    <path clip-path=\"url(#p09ee02b401)\" d=\"M 450.468591 413.710125 \nL 458.584955 413.710125 \nL 458.584955 377.359973 \nL 450.468591 377.359973 \nz\n\" style=\"fill:#1f77b4;\"/>\n   </g>\n   <g id=\"patch_237\">\n    <path clip-path=\"url(#p09ee02b401)\" d=\"M 458.584955 413.710125 \nL 466.701318 413.710125 \nL 466.701318 400.491888 \nL 458.584955 400.491888 \nz\n\" style=\"fill:#1f77b4;\"/>\n   </g>\n   <g id=\"matplotlib.axis_31\">\n    <g id=\"xtick_34\">\n     <g id=\"line2d_189\">\n      <path clip-path=\"url(#p09ee02b401)\" d=\"M 401.852496 413.710125 \nL 401.852496 304.990125 \n\" style=\"fill:none;stroke:#b0b0b0;stroke-linecap:square;stroke-width:0.8;\"/>\n     </g>\n     <g id=\"line2d_190\">\n      <g>\n       <use style=\"stroke:#000000;stroke-width:0.8;\" x=\"401.852496\" xlink:href=\"#mc504cf78b3\" y=\"413.710125\"/>\n      </g>\n     </g>\n     <g id=\"text_110\">\n      <!-- 50 -->\n      <g transform=\"translate(395.489996 428.308562)scale(0.1 -0.1)\">\n       <use xlink:href=\"#DejaVuSans-53\"/>\n       <use x=\"63.623047\" xlink:href=\"#DejaVuSans-48\"/>\n      </g>\n     </g>\n    </g>\n    <g id=\"xtick_35\">\n     <g id=\"line2d_191\">\n      <path clip-path=\"url(#p09ee02b401)\" d=\"M 453.156944 413.710125 \nL 453.156944 304.990125 \n\" style=\"fill:none;stroke:#b0b0b0;stroke-linecap:square;stroke-width:0.8;\"/>\n     </g>\n     <g id=\"line2d_192\">\n      <g>\n       <use style=\"stroke:#000000;stroke-width:0.8;\" x=\"453.156944\" xlink:href=\"#mc504cf78b3\" y=\"413.710125\"/>\n      </g>\n     </g>\n     <g id=\"text_111\">\n      <!-- 75 -->\n      <g transform=\"translate(446.794444 428.308562)scale(0.1 -0.1)\">\n       <use xlink:href=\"#DejaVuSans-55\"/>\n       <use x=\"63.623047\" xlink:href=\"#DejaVuSans-53\"/>\n      </g>\n     </g>\n    </g>\n   </g>\n   <g id=\"matplotlib.axis_32\">\n    <g id=\"ytick_62\">\n     <g id=\"line2d_193\">\n      <path clip-path=\"url(#p09ee02b401)\" d=\"M 381.4795 413.710125 \nL 470.7595 413.710125 \n\" style=\"fill:none;stroke:#b0b0b0;stroke-linecap:square;stroke-width:0.8;\"/>\n     </g>\n     <g id=\"line2d_194\">\n      <g>\n       <use style=\"stroke:#000000;stroke-width:0.8;\" x=\"381.4795\" xlink:href=\"#md3fd3d0ccc\" y=\"413.710125\"/>\n      </g>\n     </g>\n     <g id=\"text_112\">\n      <!-- 0 -->\n      <g transform=\"translate(368.117 417.509344)scale(0.1 -0.1)\">\n       <use xlink:href=\"#DejaVuSans-48\"/>\n      </g>\n     </g>\n    </g>\n    <g id=\"ytick_63\">\n     <g id=\"line2d_195\">\n      <path clip-path=\"url(#p09ee02b401)\" d=\"M 381.4795 391.67973 \nL 470.7595 391.67973 \n\" style=\"fill:none;stroke:#b0b0b0;stroke-linecap:square;stroke-width:0.8;\"/>\n     </g>\n     <g id=\"line2d_196\">\n      <g>\n       <use style=\"stroke:#000000;stroke-width:0.8;\" x=\"381.4795\" xlink:href=\"#md3fd3d0ccc\" y=\"391.67973\"/>\n      </g>\n     </g>\n     <g id=\"text_113\">\n      <!-- 20 -->\n      <g transform=\"translate(361.7545 395.478949)scale(0.1 -0.1)\">\n       <use xlink:href=\"#DejaVuSans-50\"/>\n       <use x=\"63.623047\" xlink:href=\"#DejaVuSans-48\"/>\n      </g>\n     </g>\n    </g>\n    <g id=\"ytick_64\">\n     <g id=\"line2d_197\">\n      <path clip-path=\"url(#p09ee02b401)\" d=\"M 381.4795 369.649335 \nL 470.7595 369.649335 \n\" style=\"fill:none;stroke:#b0b0b0;stroke-linecap:square;stroke-width:0.8;\"/>\n     </g>\n     <g id=\"line2d_198\">\n      <g>\n       <use style=\"stroke:#000000;stroke-width:0.8;\" x=\"381.4795\" xlink:href=\"#md3fd3d0ccc\" y=\"369.649335\"/>\n      </g>\n     </g>\n     <g id=\"text_114\">\n      <!-- 40 -->\n      <g transform=\"translate(361.7545 373.448553)scale(0.1 -0.1)\">\n       <use xlink:href=\"#DejaVuSans-52\"/>\n       <use x=\"63.623047\" xlink:href=\"#DejaVuSans-48\"/>\n      </g>\n     </g>\n    </g>\n    <g id=\"ytick_65\">\n     <g id=\"line2d_199\">\n      <path clip-path=\"url(#p09ee02b401)\" d=\"M 381.4795 347.61894 \nL 470.7595 347.61894 \n\" style=\"fill:none;stroke:#b0b0b0;stroke-linecap:square;stroke-width:0.8;\"/>\n     </g>\n     <g id=\"line2d_200\">\n      <g>\n       <use style=\"stroke:#000000;stroke-width:0.8;\" x=\"381.4795\" xlink:href=\"#md3fd3d0ccc\" y=\"347.61894\"/>\n      </g>\n     </g>\n     <g id=\"text_115\">\n      <!-- 60 -->\n      <g transform=\"translate(361.7545 351.418158)scale(0.1 -0.1)\">\n       <use xlink:href=\"#DejaVuSans-54\"/>\n       <use x=\"63.623047\" xlink:href=\"#DejaVuSans-48\"/>\n      </g>\n     </g>\n    </g>\n    <g id=\"ytick_66\">\n     <g id=\"line2d_201\">\n      <path clip-path=\"url(#p09ee02b401)\" d=\"M 381.4795 325.588544 \nL 470.7595 325.588544 \n\" style=\"fill:none;stroke:#b0b0b0;stroke-linecap:square;stroke-width:0.8;\"/>\n     </g>\n     <g id=\"line2d_202\">\n      <g>\n       <use style=\"stroke:#000000;stroke-width:0.8;\" x=\"381.4795\" xlink:href=\"#md3fd3d0ccc\" y=\"325.588544\"/>\n      </g>\n     </g>\n     <g id=\"text_116\">\n      <!-- 80 -->\n      <g transform=\"translate(361.7545 329.387763)scale(0.1 -0.1)\">\n       <use xlink:href=\"#DejaVuSans-56\"/>\n       <use x=\"63.623047\" xlink:href=\"#DejaVuSans-48\"/>\n      </g>\n     </g>\n    </g>\n   </g>\n   <g id=\"patch_238\">\n    <path d=\"M 381.4795 413.710125 \nL 381.4795 304.990125 \n\" style=\"fill:none;stroke:#000000;stroke-linecap:square;stroke-linejoin:miter;stroke-width:0.8;\"/>\n   </g>\n   <g id=\"patch_239\">\n    <path d=\"M 470.7595 413.710125 \nL 470.7595 304.990125 \n\" style=\"fill:none;stroke:#000000;stroke-linecap:square;stroke-linejoin:miter;stroke-width:0.8;\"/>\n   </g>\n   <g id=\"patch_240\">\n    <path d=\"M 381.4795 413.710125 \nL 470.7595 413.710125 \n\" style=\"fill:none;stroke:#000000;stroke-linecap:square;stroke-linejoin:miter;stroke-width:0.8;\"/>\n   </g>\n   <g id=\"patch_241\">\n    <path d=\"M 381.4795 304.990125 \nL 470.7595 304.990125 \n\" style=\"fill:none;stroke:#000000;stroke-linecap:square;stroke-linejoin:miter;stroke-width:0.8;\"/>\n   </g>\n   <g id=\"text_117\">\n    <!-- DENTAL -->\n    <g transform=\"translate(402.572313 298.990125)scale(0.12 -0.12)\">\n     <use xlink:href=\"#DejaVuSans-68\"/>\n     <use x=\"77.001953\" xlink:href=\"#DejaVuSans-69\"/>\n     <use x=\"140.185547\" xlink:href=\"#DejaVuSans-78\"/>\n     <use x=\"214.990234\" xlink:href=\"#DejaVuSans-84\"/>\n     <use x=\"268.324219\" xlink:href=\"#DejaVuSans-65\"/>\n     <use x=\"336.732422\" xlink:href=\"#DejaVuSans-76\"/>\n    </g>\n   </g>\n  </g>\n  <g id=\"axes_17\">\n   <g id=\"patch_242\">\n    <path d=\"M 497.5435 413.710125 \nL 586.8235 413.710125 \nL 586.8235 304.990125 \nL 497.5435 304.990125 \nz\n\" style=\"fill:#ffffff;\"/>\n   </g>\n   <g id=\"patch_243\">\n    <path clip-path=\"url(#p7fe990064a)\" d=\"M 501.601682 413.710125 \nL 509.718045 413.710125 \nL 509.718045 407.619369 \nL 501.601682 407.619369 \nz\n\" style=\"fill:#1f77b4;\"/>\n   </g>\n   <g id=\"patch_244\">\n    <path clip-path=\"url(#p7fe990064a)\" d=\"M 509.718045 413.710125 \nL 517.834409 413.710125 \nL 517.834409 335.400401 \nL 509.718045 335.400401 \nz\n\" style=\"fill:#1f77b4;\"/>\n   </g>\n   <g id=\"patch_245\">\n    <path clip-path=\"url(#p7fe990064a)\" d=\"M 517.834409 413.710125 \nL 525.950773 413.710125 \nL 525.950773 317.128132 \nL 517.834409 317.128132 \nz\n\" style=\"fill:#1f77b4;\"/>\n   </g>\n   <g id=\"patch_246\">\n    <path clip-path=\"url(#p7fe990064a)\" d=\"M 525.950773 413.710125 \nL 534.067136 413.710125 \nL 534.067136 310.167268 \nL 525.950773 310.167268 \nz\n\" style=\"fill:#1f77b4;\"/>\n   </g>\n   <g id=\"patch_247\">\n    <path clip-path=\"url(#p7fe990064a)\" d=\"M 534.067136 413.710125 \nL 542.1835 413.710125 \nL 542.1835 323.218889 \nL 534.067136 323.218889 \nz\n\" style=\"fill:#1f77b4;\"/>\n   </g>\n   <g id=\"patch_248\">\n    <path clip-path=\"url(#p7fe990064a)\" d=\"M 542.1835 413.710125 \nL 550.299864 413.710125 \nL 550.299864 381.516127 \nL 542.1835 381.516127 \nz\n\" style=\"fill:#1f77b4;\"/>\n   </g>\n   <g id=\"patch_249\">\n    <path clip-path=\"url(#p7fe990064a)\" d=\"M 550.299864 413.710125 \nL 558.416227 413.710125 \nL 558.416227 397.178072 \nL 550.299864 397.178072 \nz\n\" style=\"fill:#1f77b4;\"/>\n   </g>\n   <g id=\"patch_250\">\n    <path clip-path=\"url(#p7fe990064a)\" d=\"M 558.416227 413.710125 \nL 566.532591 413.710125 \nL 566.532591 408.489477 \nL 558.416227 408.489477 \nz\n\" style=\"fill:#1f77b4;\"/>\n   </g>\n   <g id=\"patch_251\">\n    <path clip-path=\"url(#p7fe990064a)\" d=\"M 566.532591 413.710125 \nL 574.648955 413.710125 \nL 574.648955 411.099801 \nL 566.532591 411.099801 \nz\n\" style=\"fill:#1f77b4;\"/>\n   </g>\n   <g id=\"patch_252\">\n    <path clip-path=\"url(#p7fe990064a)\" d=\"M 574.648955 413.710125 \nL 582.765318 413.710125 \nL 582.765318 412.840017 \nL 574.648955 412.840017 \nz\n\" style=\"fill:#1f77b4;\"/>\n   </g>\n   <g id=\"matplotlib.axis_33\">\n    <g id=\"xtick_36\">\n     <g id=\"line2d_203\">\n      <path clip-path=\"url(#p7fe990064a)\" d=\"M 528.390987 413.710125 \nL 528.390987 304.990125 \n\" style=\"fill:none;stroke:#b0b0b0;stroke-linecap:square;stroke-width:0.8;\"/>\n     </g>\n     <g id=\"line2d_204\">\n      <g>\n       <use style=\"stroke:#000000;stroke-width:0.8;\" x=\"528.390987\" xlink:href=\"#mc504cf78b3\" y=\"413.710125\"/>\n      </g>\n     </g>\n     <g id=\"text_118\">\n      <!-- 10 -->\n      <g transform=\"translate(522.028487 428.308562)scale(0.1 -0.1)\">\n       <use xlink:href=\"#DejaVuSans-49\"/>\n       <use x=\"63.623047\" xlink:href=\"#DejaVuSans-48\"/>\n      </g>\n     </g>\n    </g>\n    <g id=\"xtick_37\">\n     <g id=\"line2d_205\">\n      <path clip-path=\"url(#p7fe990064a)\" d=\"M 581.439115 413.710125 \nL 581.439115 304.990125 \n\" style=\"fill:none;stroke:#b0b0b0;stroke-linecap:square;stroke-width:0.8;\"/>\n     </g>\n     <g id=\"line2d_206\">\n      <g>\n       <use style=\"stroke:#000000;stroke-width:0.8;\" x=\"581.439115\" xlink:href=\"#mc504cf78b3\" y=\"413.710125\"/>\n      </g>\n     </g>\n     <g id=\"text_119\">\n      <!-- 20 -->\n      <g transform=\"translate(575.076615 428.308562)scale(0.1 -0.1)\">\n       <use xlink:href=\"#DejaVuSans-50\"/>\n       <use x=\"63.623047\" xlink:href=\"#DejaVuSans-48\"/>\n      </g>\n     </g>\n    </g>\n   </g>\n   <g id=\"matplotlib.axis_34\">\n    <g id=\"ytick_67\">\n     <g id=\"line2d_207\">\n      <path clip-path=\"url(#p7fe990064a)\" d=\"M 497.5435 413.710125 \nL 586.8235 413.710125 \n\" style=\"fill:none;stroke:#b0b0b0;stroke-linecap:square;stroke-width:0.8;\"/>\n     </g>\n     <g id=\"line2d_208\">\n      <g>\n       <use style=\"stroke:#000000;stroke-width:0.8;\" x=\"497.5435\" xlink:href=\"#md3fd3d0ccc\" y=\"413.710125\"/>\n      </g>\n     </g>\n     <g id=\"text_120\">\n      <!-- 0 -->\n      <g transform=\"translate(484.181 417.509344)scale(0.1 -0.1)\">\n       <use xlink:href=\"#DejaVuSans-48\"/>\n      </g>\n     </g>\n    </g>\n    <g id=\"ytick_68\">\n     <g id=\"line2d_209\">\n      <path clip-path=\"url(#p7fe990064a)\" d=\"M 497.5435 391.957424 \nL 586.8235 391.957424 \n\" style=\"fill:none;stroke:#b0b0b0;stroke-linecap:square;stroke-width:0.8;\"/>\n     </g>\n     <g id=\"line2d_210\">\n      <g>\n       <use style=\"stroke:#000000;stroke-width:0.8;\" x=\"497.5435\" xlink:href=\"#md3fd3d0ccc\" y=\"391.957424\"/>\n      </g>\n     </g>\n     <g id=\"text_121\">\n      <!-- 25 -->\n      <g transform=\"translate(477.8185 395.756643)scale(0.1 -0.1)\">\n       <use xlink:href=\"#DejaVuSans-50\"/>\n       <use x=\"63.623047\" xlink:href=\"#DejaVuSans-53\"/>\n      </g>\n     </g>\n    </g>\n    <g id=\"ytick_69\">\n     <g id=\"line2d_211\">\n      <path clip-path=\"url(#p7fe990064a)\" d=\"M 497.5435 370.204723 \nL 586.8235 370.204723 \n\" style=\"fill:none;stroke:#b0b0b0;stroke-linecap:square;stroke-width:0.8;\"/>\n     </g>\n     <g id=\"line2d_212\">\n      <g>\n       <use style=\"stroke:#000000;stroke-width:0.8;\" x=\"497.5435\" xlink:href=\"#md3fd3d0ccc\" y=\"370.204723\"/>\n      </g>\n     </g>\n     <g id=\"text_122\">\n      <!-- 50 -->\n      <g transform=\"translate(477.8185 374.003942)scale(0.1 -0.1)\">\n       <use xlink:href=\"#DejaVuSans-53\"/>\n       <use x=\"63.623047\" xlink:href=\"#DejaVuSans-48\"/>\n      </g>\n     </g>\n    </g>\n    <g id=\"ytick_70\">\n     <g id=\"line2d_213\">\n      <path clip-path=\"url(#p7fe990064a)\" d=\"M 497.5435 348.452022 \nL 586.8235 348.452022 \n\" style=\"fill:none;stroke:#b0b0b0;stroke-linecap:square;stroke-width:0.8;\"/>\n     </g>\n     <g id=\"line2d_214\">\n      <g>\n       <use style=\"stroke:#000000;stroke-width:0.8;\" x=\"497.5435\" xlink:href=\"#md3fd3d0ccc\" y=\"348.452022\"/>\n      </g>\n     </g>\n     <g id=\"text_123\">\n      <!-- 75 -->\n      <g transform=\"translate(477.8185 352.251241)scale(0.1 -0.1)\">\n       <use xlink:href=\"#DejaVuSans-55\"/>\n       <use x=\"63.623047\" xlink:href=\"#DejaVuSans-53\"/>\n      </g>\n     </g>\n    </g>\n    <g id=\"ytick_71\">\n     <g id=\"line2d_215\">\n      <path clip-path=\"url(#p7fe990064a)\" d=\"M 497.5435 326.699321 \nL 586.8235 326.699321 \n\" style=\"fill:none;stroke:#b0b0b0;stroke-linecap:square;stroke-width:0.8;\"/>\n     </g>\n     <g id=\"line2d_216\">\n      <g>\n       <use style=\"stroke:#000000;stroke-width:0.8;\" x=\"497.5435\" xlink:href=\"#md3fd3d0ccc\" y=\"326.699321\"/>\n      </g>\n     </g>\n     <g id=\"text_124\">\n      <!-- 100 -->\n      <g transform=\"translate(471.456 330.498539)scale(0.1 -0.1)\">\n       <use xlink:href=\"#DejaVuSans-49\"/>\n       <use x=\"63.623047\" xlink:href=\"#DejaVuSans-48\"/>\n       <use x=\"127.246094\" xlink:href=\"#DejaVuSans-48\"/>\n      </g>\n     </g>\n    </g>\n   </g>\n   <g id=\"patch_253\">\n    <path d=\"M 497.5435 413.710125 \nL 497.5435 304.990125 \n\" style=\"fill:none;stroke:#000000;stroke-linecap:square;stroke-linejoin:miter;stroke-width:0.8;\"/>\n   </g>\n   <g id=\"patch_254\">\n    <path d=\"M 586.8235 413.710125 \nL 586.8235 304.990125 \n\" style=\"fill:none;stroke:#000000;stroke-linecap:square;stroke-linejoin:miter;stroke-width:0.8;\"/>\n   </g>\n   <g id=\"patch_255\">\n    <path d=\"M 497.5435 413.710125 \nL 586.8235 413.710125 \n\" style=\"fill:none;stroke:#000000;stroke-linecap:square;stroke-linejoin:miter;stroke-width:0.8;\"/>\n   </g>\n   <g id=\"patch_256\">\n    <path d=\"M 497.5435 304.990125 \nL 586.8235 304.990125 \n\" style=\"fill:none;stroke:#000000;stroke-linecap:square;stroke-linejoin:miter;stroke-width:0.8;\"/>\n   </g>\n   <g id=\"text_125\">\n    <!-- DIABETES -->\n    <g transform=\"translate(512.516313 298.990125)scale(0.12 -0.12)\">\n     <use xlink:href=\"#DejaVuSans-68\"/>\n     <use x=\"77.001953\" xlink:href=\"#DejaVuSans-73\"/>\n     <use x=\"106.494141\" xlink:href=\"#DejaVuSans-65\"/>\n     <use x=\"174.902344\" xlink:href=\"#DejaVuSans-66\"/>\n     <use x=\"243.505859\" xlink:href=\"#DejaVuSans-69\"/>\n     <use x=\"306.689453\" xlink:href=\"#DejaVuSans-84\"/>\n     <use x=\"367.773438\" xlink:href=\"#DejaVuSans-69\"/>\n     <use x=\"430.957031\" xlink:href=\"#DejaVuSans-83\"/>\n    </g>\n   </g>\n  </g>\n  <g id=\"axes_18\">\n   <g id=\"patch_257\">\n    <path d=\"M 613.6075 413.710125 \nL 702.8875 413.710125 \nL 702.8875 304.990125 \nL 613.6075 304.990125 \nz\n\" style=\"fill:#ffffff;\"/>\n   </g>\n   <g id=\"patch_258\">\n    <path clip-path=\"url(#p4bd07fdfe1)\" d=\"M 617.665682 413.710125 \nL 625.782045 413.710125 \nL 625.782045 409.839364 \nL 617.665682 409.839364 \nz\n\" style=\"fill:#1f77b4;\"/>\n   </g>\n   <g id=\"patch_259\">\n    <path clip-path=\"url(#p4bd07fdfe1)\" d=\"M 625.782045 413.710125 \nL 633.898409 413.710125 \nL 633.898409 404.033222 \nL 625.782045 404.033222 \nz\n\" style=\"fill:#1f77b4;\"/>\n   </g>\n   <g id=\"patch_260\">\n    <path clip-path=\"url(#p4bd07fdfe1)\" d=\"M 633.898409 413.710125 \nL 642.014773 413.710125 \nL 642.014773 381.776347 \nL 633.898409 381.776347 \nz\n\" style=\"fill:#1f77b4;\"/>\n   </g>\n   <g id=\"patch_261\">\n    <path clip-path=\"url(#p4bd07fdfe1)\" d=\"M 642.014773 413.710125 \nL 650.131136 413.710125 \nL 650.131136 359.519471 \nL 642.014773 359.519471 \nz\n\" style=\"fill:#1f77b4;\"/>\n   </g>\n   <g id=\"patch_262\">\n    <path clip-path=\"url(#p4bd07fdfe1)\" d=\"M 650.131136 413.710125 \nL 658.2475 413.710125 \nL 658.2475 310.167268 \nL 650.131136 310.167268 \nz\n\" style=\"fill:#1f77b4;\"/>\n   </g>\n   <g id=\"patch_263\">\n    <path clip-path=\"url(#p4bd07fdfe1)\" d=\"M 658.2475 413.710125 \nL 666.363864 413.710125 \nL 666.363864 315.005719 \nL 658.2475 315.005719 \nz\n\" style=\"fill:#1f77b4;\"/>\n   </g>\n   <g id=\"patch_264\">\n    <path clip-path=\"url(#p4bd07fdfe1)\" d=\"M 666.363864 413.710125 \nL 674.480227 413.710125 \nL 674.480227 322.747241 \nL 666.363864 322.747241 \nz\n\" style=\"fill:#1f77b4;\"/>\n   </g>\n   <g id=\"patch_265\">\n    <path clip-path=\"url(#p4bd07fdfe1)\" d=\"M 674.480227 413.710125 \nL 682.596591 413.710125 \nL 682.596591 352.745639 \nL 674.480227 352.745639 \nz\n\" style=\"fill:#1f77b4;\"/>\n   </g>\n   <g id=\"patch_266\">\n    <path clip-path=\"url(#p4bd07fdfe1)\" d=\"M 682.596591 413.710125 \nL 690.712955 413.710125 \nL 690.712955 389.517869 \nL 682.596591 389.517869 \nz\n\" style=\"fill:#1f77b4;\"/>\n   </g>\n   <g id=\"patch_267\">\n    <path clip-path=\"url(#p4bd07fdfe1)\" d=\"M 690.712955 413.710125 \nL 698.829318 413.710125 \nL 698.829318 410.807054 \nL 690.712955 410.807054 \nz\n\" style=\"fill:#1f77b4;\"/>\n   </g>\n   <g id=\"matplotlib.axis_35\">\n    <g id=\"xtick_38\">\n     <g id=\"line2d_217\">\n      <path clip-path=\"url(#p4bd07fdfe1)\" d=\"M 614.714277 413.710125 \nL 614.714277 304.990125 \n\" style=\"fill:none;stroke:#b0b0b0;stroke-linecap:square;stroke-width:0.8;\"/>\n     </g>\n     <g id=\"line2d_218\">\n      <g>\n       <use style=\"stroke:#000000;stroke-width:0.8;\" x=\"614.714277\" xlink:href=\"#mc504cf78b3\" y=\"413.710125\"/>\n      </g>\n     </g>\n     <g id=\"text_126\">\n      <!-- 25 -->\n      <g transform=\"translate(608.351777 428.308562)scale(0.1 -0.1)\">\n       <use xlink:href=\"#DejaVuSans-50\"/>\n       <use x=\"63.623047\" xlink:href=\"#DejaVuSans-53\"/>\n      </g>\n     </g>\n    </g>\n    <g id=\"xtick_39\">\n     <g id=\"line2d_219\">\n      <path clip-path=\"url(#p4bd07fdfe1)\" d=\"M 644.228326 413.710125 \nL 644.228326 304.990125 \n\" style=\"fill:none;stroke:#b0b0b0;stroke-linecap:square;stroke-width:0.8;\"/>\n     </g>\n     <g id=\"line2d_220\">\n      <g>\n       <use style=\"stroke:#000000;stroke-width:0.8;\" x=\"644.228326\" xlink:href=\"#mc504cf78b3\" y=\"413.710125\"/>\n      </g>\n     </g>\n     <g id=\"text_127\">\n      <!-- 30 -->\n      <g transform=\"translate(637.865826 428.308562)scale(0.1 -0.1)\">\n       <use xlink:href=\"#DejaVuSans-51\"/>\n       <use x=\"63.623047\" xlink:href=\"#DejaVuSans-48\"/>\n      </g>\n     </g>\n    </g>\n    <g id=\"xtick_40\">\n     <g id=\"line2d_221\">\n      <path clip-path=\"url(#p4bd07fdfe1)\" d=\"M 673.742376 413.710125 \nL 673.742376 304.990125 \n\" style=\"fill:none;stroke:#b0b0b0;stroke-linecap:square;stroke-width:0.8;\"/>\n     </g>\n     <g id=\"line2d_222\">\n      <g>\n       <use style=\"stroke:#000000;stroke-width:0.8;\" x=\"673.742376\" xlink:href=\"#mc504cf78b3\" y=\"413.710125\"/>\n      </g>\n     </g>\n     <g id=\"text_128\">\n      <!-- 35 -->\n      <g transform=\"translate(667.379876 428.308562)scale(0.1 -0.1)\">\n       <use xlink:href=\"#DejaVuSans-51\"/>\n       <use x=\"63.623047\" xlink:href=\"#DejaVuSans-53\"/>\n      </g>\n     </g>\n    </g>\n   </g>\n   <g id=\"matplotlib.axis_36\">\n    <g id=\"ytick_72\">\n     <g id=\"line2d_223\">\n      <path clip-path=\"url(#p4bd07fdfe1)\" d=\"M 613.6075 413.710125 \nL 702.8875 413.710125 \n\" style=\"fill:none;stroke:#b0b0b0;stroke-linecap:square;stroke-width:0.8;\"/>\n     </g>\n     <g id=\"line2d_224\">\n      <g>\n       <use style=\"stroke:#000000;stroke-width:0.8;\" x=\"613.6075\" xlink:href=\"#md3fd3d0ccc\" y=\"413.710125\"/>\n      </g>\n     </g>\n     <g id=\"text_129\">\n      <!-- 0 -->\n      <g transform=\"translate(600.245 417.509344)scale(0.1 -0.1)\">\n       <use xlink:href=\"#DejaVuSans-48\"/>\n      </g>\n     </g>\n    </g>\n    <g id=\"ytick_73\">\n     <g id=\"line2d_225\">\n      <path clip-path=\"url(#p4bd07fdfe1)\" d=\"M 613.6075 389.517869 \nL 702.8875 389.517869 \n\" style=\"fill:none;stroke:#b0b0b0;stroke-linecap:square;stroke-width:0.8;\"/>\n     </g>\n     <g id=\"line2d_226\">\n      <g>\n       <use style=\"stroke:#000000;stroke-width:0.8;\" x=\"613.6075\" xlink:href=\"#md3fd3d0ccc\" y=\"389.517869\"/>\n      </g>\n     </g>\n     <g id=\"text_130\">\n      <!-- 25 -->\n      <g transform=\"translate(593.8825 393.317087)scale(0.1 -0.1)\">\n       <use xlink:href=\"#DejaVuSans-50\"/>\n       <use x=\"63.623047\" xlink:href=\"#DejaVuSans-53\"/>\n      </g>\n     </g>\n    </g>\n    <g id=\"ytick_74\">\n     <g id=\"line2d_227\">\n      <path clip-path=\"url(#p4bd07fdfe1)\" d=\"M 613.6075 365.325612 \nL 702.8875 365.325612 \n\" style=\"fill:none;stroke:#b0b0b0;stroke-linecap:square;stroke-width:0.8;\"/>\n     </g>\n     <g id=\"line2d_228\">\n      <g>\n       <use style=\"stroke:#000000;stroke-width:0.8;\" x=\"613.6075\" xlink:href=\"#md3fd3d0ccc\" y=\"365.325612\"/>\n      </g>\n     </g>\n     <g id=\"text_131\">\n      <!-- 50 -->\n      <g transform=\"translate(593.8825 369.124831)scale(0.1 -0.1)\">\n       <use xlink:href=\"#DejaVuSans-53\"/>\n       <use x=\"63.623047\" xlink:href=\"#DejaVuSans-48\"/>\n      </g>\n     </g>\n    </g>\n    <g id=\"ytick_75\">\n     <g id=\"line2d_229\">\n      <path clip-path=\"url(#p4bd07fdfe1)\" d=\"M 613.6075 341.133356 \nL 702.8875 341.133356 \n\" style=\"fill:none;stroke:#b0b0b0;stroke-linecap:square;stroke-width:0.8;\"/>\n     </g>\n     <g id=\"line2d_230\">\n      <g>\n       <use style=\"stroke:#000000;stroke-width:0.8;\" x=\"613.6075\" xlink:href=\"#md3fd3d0ccc\" y=\"341.133356\"/>\n      </g>\n     </g>\n     <g id=\"text_132\">\n      <!-- 75 -->\n      <g transform=\"translate(593.8825 344.932575)scale(0.1 -0.1)\">\n       <use xlink:href=\"#DejaVuSans-55\"/>\n       <use x=\"63.623047\" xlink:href=\"#DejaVuSans-53\"/>\n      </g>\n     </g>\n    </g>\n    <g id=\"ytick_76\">\n     <g id=\"line2d_231\">\n      <path clip-path=\"url(#p4bd07fdfe1)\" d=\"M 613.6075 316.9411 \nL 702.8875 316.9411 \n\" style=\"fill:none;stroke:#b0b0b0;stroke-linecap:square;stroke-width:0.8;\"/>\n     </g>\n     <g id=\"line2d_232\">\n      <g>\n       <use style=\"stroke:#000000;stroke-width:0.8;\" x=\"613.6075\" xlink:href=\"#md3fd3d0ccc\" y=\"316.9411\"/>\n      </g>\n     </g>\n     <g id=\"text_133\">\n      <!-- 100 -->\n      <g transform=\"translate(587.52 320.740318)scale(0.1 -0.1)\">\n       <use xlink:href=\"#DejaVuSans-49\"/>\n       <use x=\"63.623047\" xlink:href=\"#DejaVuSans-48\"/>\n       <use x=\"127.246094\" xlink:href=\"#DejaVuSans-48\"/>\n      </g>\n     </g>\n    </g>\n   </g>\n   <g id=\"patch_268\">\n    <path d=\"M 613.6075 413.710125 \nL 613.6075 304.990125 \n\" style=\"fill:none;stroke:#000000;stroke-linecap:square;stroke-linejoin:miter;stroke-width:0.8;\"/>\n   </g>\n   <g id=\"patch_269\">\n    <path d=\"M 702.8875 413.710125 \nL 702.8875 304.990125 \n\" style=\"fill:none;stroke:#000000;stroke-linecap:square;stroke-linejoin:miter;stroke-width:0.8;\"/>\n   </g>\n   <g id=\"patch_270\">\n    <path d=\"M 613.6075 413.710125 \nL 702.8875 413.710125 \n\" style=\"fill:none;stroke:#000000;stroke-linecap:square;stroke-linejoin:miter;stroke-width:0.8;\"/>\n   </g>\n   <g id=\"patch_271\">\n    <path d=\"M 613.6075 304.990125 \nL 702.8875 304.990125 \n\" style=\"fill:none;stroke:#000000;stroke-linecap:square;stroke-linejoin:miter;stroke-width:0.8;\"/>\n   </g>\n   <g id=\"text_134\">\n    <!-- HIGHCHOL -->\n    <g transform=\"translate(626.035938 298.990125)scale(0.12 -0.12)\">\n     <use xlink:href=\"#DejaVuSans-72\"/>\n     <use x=\"75.195312\" xlink:href=\"#DejaVuSans-73\"/>\n     <use x=\"104.6875\" xlink:href=\"#DejaVuSans-71\"/>\n     <use x=\"182.177734\" xlink:href=\"#DejaVuSans-72\"/>\n     <use x=\"257.373047\" xlink:href=\"#DejaVuSans-67\"/>\n     <use x=\"327.197266\" xlink:href=\"#DejaVuSans-72\"/>\n     <use x=\"402.392578\" xlink:href=\"#DejaVuSans-79\"/>\n     <use x=\"481.103516\" xlink:href=\"#DejaVuSans-76\"/>\n    </g>\n   </g>\n  </g>\n  <g id=\"axes_19\">\n   <g id=\"patch_272\">\n    <path d=\"M 33.2875 555.046125 \nL 122.5675 555.046125 \nL 122.5675 446.326125 \nL 33.2875 446.326125 \nz\n\" style=\"fill:#ffffff;\"/>\n   </g>\n   <g id=\"patch_273\">\n    <path clip-path=\"url(#pbb78fbd8b0)\" d=\"M 37.345682 555.046125 \nL 45.462045 555.046125 \nL 45.462045 536.99737 \nL 37.345682 536.99737 \nz\n\" style=\"fill:#1f77b4;\"/>\n   </g>\n   <g id=\"patch_274\">\n    <path clip-path=\"url(#pbb78fbd8b0)\" d=\"M 45.462045 555.046125 \nL 53.578409 555.046125 \nL 53.578409 489.500647 \nL 45.462045 489.500647 \nz\n\" style=\"fill:#1f77b4;\"/>\n   </g>\n   <g id=\"patch_275\">\n    <path clip-path=\"url(#pbb78fbd8b0)\" d=\"M 53.578409 555.046125 \nL 61.694773 555.046125 \nL 61.694773 456.25294 \nL 53.578409 456.25294 \nz\n\" style=\"fill:#1f77b4;\"/>\n   </g>\n   <g id=\"patch_276\">\n    <path clip-path=\"url(#pbb78fbd8b0)\" d=\"M 61.694773 555.046125 \nL 69.811136 555.046125 \nL 69.811136 463.852416 \nL 61.694773 463.852416 \nz\n\" style=\"fill:#1f77b4;\"/>\n   </g>\n   <g id=\"patch_277\">\n    <path clip-path=\"url(#pbb78fbd8b0)\" d=\"M 69.811136 555.046125 \nL 77.9275 555.046125 \nL 77.9275 451.503268 \nL 69.811136 451.503268 \nz\n\" style=\"fill:#1f77b4;\"/>\n   </g>\n   <g id=\"patch_278\">\n    <path clip-path=\"url(#pbb78fbd8b0)\" d=\"M 77.9275 555.046125 \nL 86.043864 555.046125 \nL 86.043864 491.400516 \nL 77.9275 491.400516 \nz\n\" style=\"fill:#1f77b4;\"/>\n   </g>\n   <g id=\"patch_279\">\n    <path clip-path=\"url(#pbb78fbd8b0)\" d=\"M 86.043864 555.046125 \nL 94.160227 555.046125 \nL 94.160227 539.847173 \nL 86.043864 539.847173 \nz\n\" style=\"fill:#1f77b4;\"/>\n   </g>\n   <g id=\"patch_280\">\n    <path clip-path=\"url(#pbb78fbd8b0)\" d=\"M 94.160227 555.046125 \nL 102.276591 555.046125 \nL 102.276591 546.496715 \nL 94.160227 546.496715 \nz\n\" style=\"fill:#1f77b4;\"/>\n   </g>\n   <g id=\"patch_281\">\n    <path clip-path=\"url(#pbb78fbd8b0)\" d=\"M 102.276591 555.046125 \nL 110.392955 555.046125 \nL 110.392955 550.296453 \nL 102.276591 550.296453 \nz\n\" style=\"fill:#1f77b4;\"/>\n   </g>\n   <g id=\"patch_282\">\n    <path clip-path=\"url(#pbb78fbd8b0)\" d=\"M 110.392955 555.046125 \nL 118.509318 555.046125 \nL 118.509318 552.196322 \nL 110.392955 552.196322 \nz\n\" style=\"fill:#1f77b4;\"/>\n   </g>\n   <g id=\"matplotlib.axis_37\">\n    <g id=\"xtick_41\">\n     <g id=\"line2d_233\">\n      <path clip-path=\"url(#pbb78fbd8b0)\" d=\"M 41.617452 555.046125 \nL 41.617452 446.326125 \n\" style=\"fill:none;stroke:#b0b0b0;stroke-linecap:square;stroke-width:0.8;\"/>\n     </g>\n     <g id=\"line2d_234\">\n      <g>\n       <use style=\"stroke:#000000;stroke-width:0.8;\" x=\"41.617452\" xlink:href=\"#mc504cf78b3\" y=\"555.046125\"/>\n      </g>\n     </g>\n     <g id=\"text_135\">\n      <!-- 2 -->\n      <g transform=\"translate(38.436202 569.644562)scale(0.1 -0.1)\">\n       <use xlink:href=\"#DejaVuSans-50\"/>\n      </g>\n     </g>\n    </g>\n    <g id=\"xtick_42\">\n     <g id=\"line2d_235\">\n      <path clip-path=\"url(#pbb78fbd8b0)\" d=\"M 98.57439 555.046125 \nL 98.57439 446.326125 \n\" style=\"fill:none;stroke:#b0b0b0;stroke-linecap:square;stroke-width:0.8;\"/>\n     </g>\n     <g id=\"line2d_236\">\n      <g>\n       <use style=\"stroke:#000000;stroke-width:0.8;\" x=\"98.57439\" xlink:href=\"#mc504cf78b3\" y=\"555.046125\"/>\n      </g>\n     </g>\n     <g id=\"text_136\">\n      <!-- 4 -->\n      <g transform=\"translate(95.39314 569.644562)scale(0.1 -0.1)\">\n       <use xlink:href=\"#DejaVuSans-52\"/>\n      </g>\n     </g>\n    </g>\n   </g>\n   <g id=\"matplotlib.axis_38\">\n    <g id=\"ytick_77\">\n     <g id=\"line2d_237\">\n      <path clip-path=\"url(#pbb78fbd8b0)\" d=\"M 33.2875 555.046125 \nL 122.5675 555.046125 \n\" style=\"fill:none;stroke:#b0b0b0;stroke-linecap:square;stroke-width:0.8;\"/>\n     </g>\n     <g id=\"line2d_238\">\n      <g>\n       <use style=\"stroke:#000000;stroke-width:0.8;\" x=\"33.2875\" xlink:href=\"#md3fd3d0ccc\" y=\"555.046125\"/>\n      </g>\n     </g>\n     <g id=\"text_137\">\n      <!-- 0 -->\n      <g transform=\"translate(19.925 558.845344)scale(0.1 -0.1)\">\n       <use xlink:href=\"#DejaVuSans-48\"/>\n      </g>\n     </g>\n    </g>\n    <g id=\"ytick_78\">\n     <g id=\"line2d_239\">\n      <path clip-path=\"url(#pbb78fbd8b0)\" d=\"M 33.2875 531.297763 \nL 122.5675 531.297763 \n\" style=\"fill:none;stroke:#b0b0b0;stroke-linecap:square;stroke-width:0.8;\"/>\n     </g>\n     <g id=\"line2d_240\">\n      <g>\n       <use style=\"stroke:#000000;stroke-width:0.8;\" x=\"33.2875\" xlink:href=\"#md3fd3d0ccc\" y=\"531.297763\"/>\n      </g>\n     </g>\n     <g id=\"text_138\">\n      <!-- 25 -->\n      <g transform=\"translate(13.5625 535.096982)scale(0.1 -0.1)\">\n       <use xlink:href=\"#DejaVuSans-50\"/>\n       <use x=\"63.623047\" xlink:href=\"#DejaVuSans-53\"/>\n      </g>\n     </g>\n    </g>\n    <g id=\"ytick_79\">\n     <g id=\"line2d_241\">\n      <path clip-path=\"url(#pbb78fbd8b0)\" d=\"M 33.2875 507.549402 \nL 122.5675 507.549402 \n\" style=\"fill:none;stroke:#b0b0b0;stroke-linecap:square;stroke-width:0.8;\"/>\n     </g>\n     <g id=\"line2d_242\">\n      <g>\n       <use style=\"stroke:#000000;stroke-width:0.8;\" x=\"33.2875\" xlink:href=\"#md3fd3d0ccc\" y=\"507.549402\"/>\n      </g>\n     </g>\n     <g id=\"text_139\">\n      <!-- 50 -->\n      <g transform=\"translate(13.5625 511.34862)scale(0.1 -0.1)\">\n       <use xlink:href=\"#DejaVuSans-53\"/>\n       <use x=\"63.623047\" xlink:href=\"#DejaVuSans-48\"/>\n      </g>\n     </g>\n    </g>\n    <g id=\"ytick_80\">\n     <g id=\"line2d_243\">\n      <path clip-path=\"url(#pbb78fbd8b0)\" d=\"M 33.2875 483.80104 \nL 122.5675 483.80104 \n\" style=\"fill:none;stroke:#b0b0b0;stroke-linecap:square;stroke-width:0.8;\"/>\n     </g>\n     <g id=\"line2d_244\">\n      <g>\n       <use style=\"stroke:#000000;stroke-width:0.8;\" x=\"33.2875\" xlink:href=\"#md3fd3d0ccc\" y=\"483.80104\"/>\n      </g>\n     </g>\n     <g id=\"text_140\">\n      <!-- 75 -->\n      <g transform=\"translate(13.5625 487.600259)scale(0.1 -0.1)\">\n       <use xlink:href=\"#DejaVuSans-55\"/>\n       <use x=\"63.623047\" xlink:href=\"#DejaVuSans-53\"/>\n      </g>\n     </g>\n    </g>\n    <g id=\"ytick_81\">\n     <g id=\"line2d_245\">\n      <path clip-path=\"url(#pbb78fbd8b0)\" d=\"M 33.2875 460.052678 \nL 122.5675 460.052678 \n\" style=\"fill:none;stroke:#b0b0b0;stroke-linecap:square;stroke-width:0.8;\"/>\n     </g>\n     <g id=\"line2d_246\">\n      <g>\n       <use style=\"stroke:#000000;stroke-width:0.8;\" x=\"33.2875\" xlink:href=\"#md3fd3d0ccc\" y=\"460.052678\"/>\n      </g>\n     </g>\n     <g id=\"text_141\">\n      <!-- 100 -->\n      <g transform=\"translate(7.2 463.851897)scale(0.1 -0.1)\">\n       <use xlink:href=\"#DejaVuSans-49\"/>\n       <use x=\"63.623047\" xlink:href=\"#DejaVuSans-48\"/>\n       <use x=\"127.246094\" xlink:href=\"#DejaVuSans-48\"/>\n      </g>\n     </g>\n    </g>\n   </g>\n   <g id=\"patch_283\">\n    <path d=\"M 33.2875 555.046125 \nL 33.2875 446.326125 \n\" style=\"fill:none;stroke:#000000;stroke-linecap:square;stroke-linejoin:miter;stroke-width:0.8;\"/>\n   </g>\n   <g id=\"patch_284\">\n    <path d=\"M 122.5675 555.046125 \nL 122.5675 446.326125 \n\" style=\"fill:none;stroke:#000000;stroke-linecap:square;stroke-linejoin:miter;stroke-width:0.8;\"/>\n   </g>\n   <g id=\"patch_285\">\n    <path d=\"M 33.2875 555.046125 \nL 122.5675 555.046125 \n\" style=\"fill:none;stroke:#000000;stroke-linecap:square;stroke-linejoin:miter;stroke-width:0.8;\"/>\n   </g>\n   <g id=\"patch_286\">\n    <path d=\"M 33.2875 446.326125 \nL 122.5675 446.326125 \n\" style=\"fill:none;stroke:#000000;stroke-linecap:square;stroke-linejoin:miter;stroke-width:0.8;\"/>\n   </g>\n   <g id=\"text_142\">\n    <!-- KIDNEY -->\n    <defs>\n     <path d=\"M -0.203125 72.90625 \nL 10.40625 72.90625 \nL 30.609375 42.921875 \nL 50.6875 72.90625 \nL 61.28125 72.90625 \nL 35.5 34.71875 \nL 35.5 0 \nL 25.59375 0 \nL 25.59375 34.71875 \nz\n\" id=\"DejaVuSans-89\"/>\n    </defs>\n    <g transform=\"translate(55.658125 440.326125)scale(0.12 -0.12)\">\n     <use xlink:href=\"#DejaVuSans-75\"/>\n     <use x=\"65.576172\" xlink:href=\"#DejaVuSans-73\"/>\n     <use x=\"95.068359\" xlink:href=\"#DejaVuSans-68\"/>\n     <use x=\"172.070312\" xlink:href=\"#DejaVuSans-78\"/>\n     <use x=\"246.875\" xlink:href=\"#DejaVuSans-69\"/>\n     <use x=\"310.058594\" xlink:href=\"#DejaVuSans-89\"/>\n    </g>\n   </g>\n  </g>\n  <g id=\"axes_20\">\n   <g id=\"patch_287\">\n    <path d=\"M 149.3515 555.046125 \nL 238.6315 555.046125 \nL 238.6315 446.326125 \nL 149.3515 446.326125 \nz\n\" style=\"fill:#ffffff;\"/>\n   </g>\n   <g id=\"patch_288\">\n    <path clip-path=\"url(#p9bdaaa3de6)\" d=\"M 153.409682 555.046125 \nL 161.526045 555.046125 \nL 161.526045 536.486556 \nL 153.409682 536.486556 \nz\n\" style=\"fill:#1f77b4;\"/>\n   </g>\n   <g id=\"patch_289\">\n    <path clip-path=\"url(#p9bdaaa3de6)\" d=\"M 161.526045 555.046125 \nL 169.642409 555.046125 \nL 169.642409 482.761489 \nL 161.526045 482.761489 \nz\n\" style=\"fill:#1f77b4;\"/>\n   </g>\n   <g id=\"patch_290\">\n    <path clip-path=\"url(#p9bdaaa3de6)\" d=\"M 169.642409 555.046125 \nL 177.758773 555.046125 \nL 177.758773 458.341004 \nL 169.642409 458.341004 \nz\n\" style=\"fill:#1f77b4;\"/>\n   </g>\n   <g id=\"patch_291\">\n    <path clip-path=\"url(#p9bdaaa3de6)\" d=\"M 177.758773 555.046125 \nL 185.875136 555.046125 \nL 185.875136 467.132378 \nL 177.758773 467.132378 \nz\n\" style=\"fill:#1f77b4;\"/>\n   </g>\n   <g id=\"patch_292\">\n    <path clip-path=\"url(#p9bdaaa3de6)\" d=\"M 185.875136 555.046125 \nL 193.9915 555.046125 \nL 193.9915 451.503268 \nL 185.875136 451.503268 \nz\n\" style=\"fill:#1f77b4;\"/>\n   </g>\n   <g id=\"patch_293\">\n    <path clip-path=\"url(#p9bdaaa3de6)\" d=\"M 193.9915 555.046125 \nL 202.107864 555.046125 \nL 202.107864 487.645586 \nL 193.9915 487.645586 \nz\n\" style=\"fill:#1f77b4;\"/>\n   </g>\n   <g id=\"patch_294\">\n    <path clip-path=\"url(#p9bdaaa3de6)\" d=\"M 202.107864 555.046125 \nL 210.224227 555.046125 \nL 210.224227 532.579279 \nL 202.107864 532.579279 \nz\n\" style=\"fill:#1f77b4;\"/>\n   </g>\n   <g id=\"patch_295\">\n    <path clip-path=\"url(#p9bdaaa3de6)\" d=\"M 210.224227 555.046125 \nL 218.340591 555.046125 \nL 218.340591 549.185209 \nL 210.224227 549.185209 \nz\n\" style=\"fill:#1f77b4;\"/>\n   </g>\n   <g id=\"patch_296\">\n    <path clip-path=\"url(#p9bdaaa3de6)\" d=\"M 218.340591 555.046125 \nL 226.456955 555.046125 \nL 226.456955 547.23157 \nL 218.340591 547.23157 \nz\n\" style=\"fill:#1f77b4;\"/>\n   </g>\n   <g id=\"patch_297\">\n    <path clip-path=\"url(#p9bdaaa3de6)\" d=\"M 226.456955 555.046125 \nL 234.573318 555.046125 \nL 234.573318 552.115667 \nL 226.456955 552.115667 \nz\n\" style=\"fill:#1f77b4;\"/>\n   </g>\n   <g id=\"matplotlib.axis_39\">\n    <g id=\"xtick_43\">\n     <g id=\"line2d_247\">\n      <path clip-path=\"url(#p9bdaaa3de6)\" d=\"M 174.164851 555.046125 \nL 174.164851 446.326125 \n\" style=\"fill:none;stroke:#b0b0b0;stroke-linecap:square;stroke-width:0.8;\"/>\n     </g>\n     <g id=\"line2d_248\">\n      <g>\n       <use style=\"stroke:#000000;stroke-width:0.8;\" x=\"174.164851\" xlink:href=\"#mc504cf78b3\" y=\"555.046125\"/>\n      </g>\n     </g>\n     <g id=\"text_143\">\n      <!-- 20 -->\n      <g transform=\"translate(167.802351 569.644562)scale(0.1 -0.1)\">\n       <use xlink:href=\"#DejaVuSans-50\"/>\n       <use x=\"63.623047\" xlink:href=\"#DejaVuSans-48\"/>\n      </g>\n     </g>\n    </g>\n    <g id=\"xtick_44\">\n     <g id=\"line2d_249\">\n      <path clip-path=\"url(#p9bdaaa3de6)\" d=\"M 217.859945 555.046125 \nL 217.859945 446.326125 \n\" style=\"fill:none;stroke:#b0b0b0;stroke-linecap:square;stroke-width:0.8;\"/>\n     </g>\n     <g id=\"line2d_250\">\n      <g>\n       <use style=\"stroke:#000000;stroke-width:0.8;\" x=\"217.859945\" xlink:href=\"#mc504cf78b3\" y=\"555.046125\"/>\n      </g>\n     </g>\n     <g id=\"text_144\">\n      <!-- 40 -->\n      <g transform=\"translate(211.497445 569.644562)scale(0.1 -0.1)\">\n       <use xlink:href=\"#DejaVuSans-52\"/>\n       <use x=\"63.623047\" xlink:href=\"#DejaVuSans-48\"/>\n      </g>\n     </g>\n    </g>\n   </g>\n   <g id=\"matplotlib.axis_40\">\n    <g id=\"ytick_82\">\n     <g id=\"line2d_251\">\n      <path clip-path=\"url(#p9bdaaa3de6)\" d=\"M 149.3515 555.046125 \nL 238.6315 555.046125 \n\" style=\"fill:none;stroke:#b0b0b0;stroke-linecap:square;stroke-width:0.8;\"/>\n     </g>\n     <g id=\"line2d_252\">\n      <g>\n       <use style=\"stroke:#000000;stroke-width:0.8;\" x=\"149.3515\" xlink:href=\"#md3fd3d0ccc\" y=\"555.046125\"/>\n      </g>\n     </g>\n     <g id=\"text_145\">\n      <!-- 0 -->\n      <g transform=\"translate(135.989 558.845344)scale(0.1 -0.1)\">\n       <use xlink:href=\"#DejaVuSans-48\"/>\n      </g>\n     </g>\n    </g>\n    <g id=\"ytick_83\">\n     <g id=\"line2d_253\">\n      <path clip-path=\"url(#p9bdaaa3de6)\" d=\"M 149.3515 530.62564 \nL 238.6315 530.62564 \n\" style=\"fill:none;stroke:#b0b0b0;stroke-linecap:square;stroke-width:0.8;\"/>\n     </g>\n     <g id=\"line2d_254\">\n      <g>\n       <use style=\"stroke:#000000;stroke-width:0.8;\" x=\"149.3515\" xlink:href=\"#md3fd3d0ccc\" y=\"530.62564\"/>\n      </g>\n     </g>\n     <g id=\"text_146\">\n      <!-- 25 -->\n      <g transform=\"translate(129.6265 534.424859)scale(0.1 -0.1)\">\n       <use xlink:href=\"#DejaVuSans-50\"/>\n       <use x=\"63.623047\" xlink:href=\"#DejaVuSans-53\"/>\n      </g>\n     </g>\n    </g>\n    <g id=\"ytick_84\">\n     <g id=\"line2d_255\">\n      <path clip-path=\"url(#p9bdaaa3de6)\" d=\"M 149.3515 506.205155 \nL 238.6315 506.205155 \n\" style=\"fill:none;stroke:#b0b0b0;stroke-linecap:square;stroke-width:0.8;\"/>\n     </g>\n     <g id=\"line2d_256\">\n      <g>\n       <use style=\"stroke:#000000;stroke-width:0.8;\" x=\"149.3515\" xlink:href=\"#md3fd3d0ccc\" y=\"506.205155\"/>\n      </g>\n     </g>\n     <g id=\"text_147\">\n      <!-- 50 -->\n      <g transform=\"translate(129.6265 510.004373)scale(0.1 -0.1)\">\n       <use xlink:href=\"#DejaVuSans-53\"/>\n       <use x=\"63.623047\" xlink:href=\"#DejaVuSans-48\"/>\n      </g>\n     </g>\n    </g>\n    <g id=\"ytick_85\">\n     <g id=\"line2d_257\">\n      <path clip-path=\"url(#p9bdaaa3de6)\" d=\"M 149.3515 481.784669 \nL 238.6315 481.784669 \n\" style=\"fill:none;stroke:#b0b0b0;stroke-linecap:square;stroke-width:0.8;\"/>\n     </g>\n     <g id=\"line2d_258\">\n      <g>\n       <use style=\"stroke:#000000;stroke-width:0.8;\" x=\"149.3515\" xlink:href=\"#md3fd3d0ccc\" y=\"481.784669\"/>\n      </g>\n     </g>\n     <g id=\"text_148\">\n      <!-- 75 -->\n      <g transform=\"translate(129.6265 485.583888)scale(0.1 -0.1)\">\n       <use xlink:href=\"#DejaVuSans-55\"/>\n       <use x=\"63.623047\" xlink:href=\"#DejaVuSans-53\"/>\n      </g>\n     </g>\n    </g>\n    <g id=\"ytick_86\">\n     <g id=\"line2d_259\">\n      <path clip-path=\"url(#p9bdaaa3de6)\" d=\"M 149.3515 457.364184 \nL 238.6315 457.364184 \n\" style=\"fill:none;stroke:#b0b0b0;stroke-linecap:square;stroke-width:0.8;\"/>\n     </g>\n     <g id=\"line2d_260\">\n      <g>\n       <use style=\"stroke:#000000;stroke-width:0.8;\" x=\"149.3515\" xlink:href=\"#md3fd3d0ccc\" y=\"457.364184\"/>\n      </g>\n     </g>\n     <g id=\"text_149\">\n      <!-- 100 -->\n      <g transform=\"translate(123.264 461.163403)scale(0.1 -0.1)\">\n       <use xlink:href=\"#DejaVuSans-49\"/>\n       <use x=\"63.623047\" xlink:href=\"#DejaVuSans-48\"/>\n       <use x=\"127.246094\" xlink:href=\"#DejaVuSans-48\"/>\n      </g>\n     </g>\n    </g>\n   </g>\n   <g id=\"patch_298\">\n    <path d=\"M 149.3515 555.046125 \nL 149.3515 446.326125 \n\" style=\"fill:none;stroke:#000000;stroke-linecap:square;stroke-linejoin:miter;stroke-width:0.8;\"/>\n   </g>\n   <g id=\"patch_299\">\n    <path d=\"M 238.6315 555.046125 \nL 238.6315 446.326125 \n\" style=\"fill:none;stroke:#000000;stroke-linecap:square;stroke-linejoin:miter;stroke-width:0.8;\"/>\n   </g>\n   <g id=\"patch_300\">\n    <path d=\"M 149.3515 555.046125 \nL 238.6315 555.046125 \n\" style=\"fill:none;stroke:#000000;stroke-linecap:square;stroke-linejoin:miter;stroke-width:0.8;\"/>\n   </g>\n   <g id=\"patch_301\">\n    <path d=\"M 149.3515 446.326125 \nL 238.6315 446.326125 \n\" style=\"fill:none;stroke:#000000;stroke-linecap:square;stroke-linejoin:miter;stroke-width:0.8;\"/>\n   </g>\n   <g id=\"text_150\">\n    <!-- LPA -->\n    <g transform=\"translate(183.308688 440.326125)scale(0.12 -0.12)\">\n     <use xlink:href=\"#DejaVuSans-76\"/>\n     <use x=\"55.712891\" xlink:href=\"#DejaVuSans-80\"/>\n     <use x=\"109.640625\" xlink:href=\"#DejaVuSans-65\"/>\n    </g>\n   </g>\n  </g>\n  <g id=\"axes_21\">\n   <g id=\"patch_302\">\n    <path d=\"M 265.4155 555.046125 \nL 354.6955 555.046125 \nL 354.6955 446.326125 \nL 265.4155 446.326125 \nz\n\" style=\"fill:#ffffff;\"/>\n   </g>\n   <g id=\"patch_303\">\n    <path clip-path=\"url(#p065d08f4fb)\" d=\"M 269.473682 555.046125 \nL 277.590045 555.046125 \nL 277.590045 554.28478 \nL 269.473682 554.28478 \nz\n\" style=\"fill:#1f77b4;\"/>\n   </g>\n   <g id=\"patch_304\">\n    <path clip-path=\"url(#p065d08f4fb)\" d=\"M 277.590045 555.046125 \nL 285.706409 555.046125 \nL 285.706409 554.28478 \nL 277.590045 554.28478 \nz\n\" style=\"fill:#1f77b4;\"/>\n   </g>\n   <g id=\"patch_305\">\n    <path clip-path=\"url(#p065d08f4fb)\" d=\"M 285.706409 555.046125 \nL 293.822773 555.046125 \nL 293.822773 543.625957 \nL 285.706409 543.625957 \nz\n\" style=\"fill:#1f77b4;\"/>\n   </g>\n   <g id=\"patch_306\">\n    <path clip-path=\"url(#p065d08f4fb)\" d=\"M 293.822773 555.046125 \nL 301.939136 555.046125 \nL 301.939136 532.967133 \nL 293.822773 532.967133 \nz\n\" style=\"fill:#1f77b4;\"/>\n   </g>\n   <g id=\"patch_307\">\n    <path clip-path=\"url(#p065d08f4fb)\" d=\"M 301.939136 555.046125 \nL 310.0555 555.046125 \nL 310.0555 514.694864 \nL 301.939136 514.694864 \nz\n\" style=\"fill:#1f77b4;\"/>\n   </g>\n   <g id=\"patch_308\">\n    <path clip-path=\"url(#p065d08f4fb)\" d=\"M 310.0555 555.046125 \nL 318.171864 555.046125 \nL 318.171864 492.615873 \nL 310.0555 492.615873 \nz\n\" style=\"fill:#1f77b4;\"/>\n   </g>\n   <g id=\"patch_309\">\n    <path clip-path=\"url(#p065d08f4fb)\" d=\"M 318.171864 555.046125 \nL 326.288227 555.046125 \nL 326.288227 451.503268 \nL 318.171864 451.503268 \nz\n\" style=\"fill:#1f77b4;\"/>\n   </g>\n   <g id=\"patch_310\">\n    <path clip-path=\"url(#p065d08f4fb)\" d=\"M 326.288227 555.046125 \nL 334.404591 555.046125 \nL 334.404591 469.775537 \nL 326.288227 469.775537 \nz\n\" style=\"fill:#1f77b4;\"/>\n   </g>\n   <g id=\"patch_311\">\n    <path clip-path=\"url(#p065d08f4fb)\" d=\"M 334.404591 555.046125 \nL 342.520955 555.046125 \nL 342.520955 510.888142 \nL 334.404591 510.888142 \nz\n\" style=\"fill:#1f77b4;\"/>\n   </g>\n   <g id=\"patch_312\">\n    <path clip-path=\"url(#p065d08f4fb)\" d=\"M 342.520955 555.046125 \nL 350.637318 555.046125 \nL 350.637318 547.43268 \nL 342.520955 547.43268 \nz\n\" style=\"fill:#1f77b4;\"/>\n   </g>\n   <g id=\"matplotlib.axis_41\">\n    <g id=\"xtick_45\">\n     <g id=\"line2d_261\">\n      <path clip-path=\"url(#p065d08f4fb)\" d=\"M 294.477638 555.046125 \nL 294.477638 446.326125 \n\" style=\"fill:none;stroke:#b0b0b0;stroke-linecap:square;stroke-width:0.8;\"/>\n     </g>\n     <g id=\"line2d_262\">\n      <g>\n       <use style=\"stroke:#000000;stroke-width:0.8;\" x=\"294.477638\" xlink:href=\"#mc504cf78b3\" y=\"555.046125\"/>\n      </g>\n     </g>\n     <g id=\"text_151\">\n      <!-- 70 -->\n      <g transform=\"translate(288.115138 569.644562)scale(0.1 -0.1)\">\n       <use xlink:href=\"#DejaVuSans-55\"/>\n       <use x=\"63.623047\" xlink:href=\"#DejaVuSans-48\"/>\n      </g>\n     </g>\n    </g>\n    <g id=\"xtick_46\">\n     <g id=\"line2d_263\">\n      <path clip-path=\"url(#p065d08f4fb)\" d=\"M 334.166458 555.046125 \nL 334.166458 446.326125 \n\" style=\"fill:none;stroke:#b0b0b0;stroke-linecap:square;stroke-width:0.8;\"/>\n     </g>\n     <g id=\"line2d_264\">\n      <g>\n       <use style=\"stroke:#000000;stroke-width:0.8;\" x=\"334.166458\" xlink:href=\"#mc504cf78b3\" y=\"555.046125\"/>\n      </g>\n     </g>\n     <g id=\"text_152\">\n      <!-- 80 -->\n      <g transform=\"translate(327.803958 569.644562)scale(0.1 -0.1)\">\n       <use xlink:href=\"#DejaVuSans-56\"/>\n       <use x=\"63.623047\" xlink:href=\"#DejaVuSans-48\"/>\n      </g>\n     </g>\n    </g>\n   </g>\n   <g id=\"matplotlib.axis_42\">\n    <g id=\"ytick_87\">\n     <g id=\"line2d_265\">\n      <path clip-path=\"url(#p065d08f4fb)\" d=\"M 265.4155 555.046125 \nL 354.6955 555.046125 \n\" style=\"fill:none;stroke:#b0b0b0;stroke-linecap:square;stroke-width:0.8;\"/>\n     </g>\n     <g id=\"line2d_266\">\n      <g>\n       <use style=\"stroke:#000000;stroke-width:0.8;\" x=\"265.4155\" xlink:href=\"#md3fd3d0ccc\" y=\"555.046125\"/>\n      </g>\n     </g>\n     <g id=\"text_153\">\n      <!-- 0 -->\n      <g transform=\"translate(252.053 558.845344)scale(0.1 -0.1)\">\n       <use xlink:href=\"#DejaVuSans-48\"/>\n      </g>\n     </g>\n    </g>\n    <g id=\"ytick_88\">\n     <g id=\"line2d_267\">\n      <path clip-path=\"url(#p065d08f4fb)\" d=\"M 265.4155 516.978898 \nL 354.6955 516.978898 \n\" style=\"fill:none;stroke:#b0b0b0;stroke-linecap:square;stroke-width:0.8;\"/>\n     </g>\n     <g id=\"line2d_268\">\n      <g>\n       <use style=\"stroke:#000000;stroke-width:0.8;\" x=\"265.4155\" xlink:href=\"#md3fd3d0ccc\" y=\"516.978898\"/>\n      </g>\n     </g>\n     <g id=\"text_154\">\n      <!-- 50 -->\n      <g transform=\"translate(245.6905 520.778117)scale(0.1 -0.1)\">\n       <use xlink:href=\"#DejaVuSans-53\"/>\n       <use x=\"63.623047\" xlink:href=\"#DejaVuSans-48\"/>\n      </g>\n     </g>\n    </g>\n    <g id=\"ytick_89\">\n     <g id=\"line2d_269\">\n      <path clip-path=\"url(#p065d08f4fb)\" d=\"M 265.4155 478.911671 \nL 354.6955 478.911671 \n\" style=\"fill:none;stroke:#b0b0b0;stroke-linecap:square;stroke-width:0.8;\"/>\n     </g>\n     <g id=\"line2d_270\">\n      <g>\n       <use style=\"stroke:#000000;stroke-width:0.8;\" x=\"265.4155\" xlink:href=\"#md3fd3d0ccc\" y=\"478.911671\"/>\n      </g>\n     </g>\n     <g id=\"text_155\">\n      <!-- 100 -->\n      <g transform=\"translate(239.328 482.71089)scale(0.1 -0.1)\">\n       <use xlink:href=\"#DejaVuSans-49\"/>\n       <use x=\"63.623047\" xlink:href=\"#DejaVuSans-48\"/>\n       <use x=\"127.246094\" xlink:href=\"#DejaVuSans-48\"/>\n      </g>\n     </g>\n    </g>\n   </g>\n   <g id=\"patch_313\">\n    <path d=\"M 265.4155 555.046125 \nL 265.4155 446.326125 \n\" style=\"fill:none;stroke:#000000;stroke-linecap:square;stroke-linejoin:miter;stroke-width:0.8;\"/>\n   </g>\n   <g id=\"patch_314\">\n    <path d=\"M 354.6955 555.046125 \nL 354.6955 446.326125 \n\" style=\"fill:none;stroke:#000000;stroke-linecap:square;stroke-linejoin:miter;stroke-width:0.8;\"/>\n   </g>\n   <g id=\"patch_315\">\n    <path d=\"M 265.4155 555.046125 \nL 354.6955 555.046125 \n\" style=\"fill:none;stroke:#000000;stroke-linecap:square;stroke-linejoin:miter;stroke-width:0.8;\"/>\n   </g>\n   <g id=\"patch_316\">\n    <path d=\"M 265.4155 446.326125 \nL 354.6955 446.326125 \n\" style=\"fill:none;stroke:#000000;stroke-linecap:square;stroke-linejoin:miter;stroke-width:0.8;\"/>\n   </g>\n   <g id=\"text_156\">\n    <!-- MAMMOUSE -->\n    <g transform=\"translate(273.705813 440.326125)scale(0.12 -0.12)\">\n     <use xlink:href=\"#DejaVuSans-77\"/>\n     <use x=\"86.279297\" xlink:href=\"#DejaVuSans-65\"/>\n     <use x=\"154.6875\" xlink:href=\"#DejaVuSans-77\"/>\n     <use x=\"240.966797\" xlink:href=\"#DejaVuSans-77\"/>\n     <use x=\"327.246094\" xlink:href=\"#DejaVuSans-79\"/>\n     <use x=\"405.957031\" xlink:href=\"#DejaVuSans-85\"/>\n     <use x=\"479.150391\" xlink:href=\"#DejaVuSans-83\"/>\n     <use x=\"542.626953\" xlink:href=\"#DejaVuSans-69\"/>\n    </g>\n   </g>\n  </g>\n  <g id=\"axes_22\">\n   <g id=\"patch_317\">\n    <path d=\"M 381.4795 555.046125 \nL 470.7595 555.046125 \nL 470.7595 446.326125 \nL 381.4795 446.326125 \nz\n\" style=\"fill:#ffffff;\"/>\n   </g>\n   <g id=\"patch_318\">\n    <path clip-path=\"url(#pf43c3d7f4d)\" d=\"M 385.537682 555.046125 \nL 393.654045 555.046125 \nL 393.654045 537.788982 \nL 385.537682 537.788982 \nz\n\" style=\"fill:#1f77b4;\"/>\n   </g>\n   <g id=\"patch_319\">\n    <path clip-path=\"url(#pf43c3d7f4d)\" d=\"M 393.654045 555.046125 \nL 401.770409 555.046125 \nL 401.770409 516.471335 \nL 393.654045 516.471335 \nz\n\" style=\"fill:#1f77b4;\"/>\n   </g>\n   <g id=\"patch_320\">\n    <path clip-path=\"url(#pf43c3d7f4d)\" d=\"M 401.770409 555.046125 \nL 409.886773 555.046125 \nL 409.886773 505.304949 \nL 401.770409 505.304949 \nz\n\" style=\"fill:#1f77b4;\"/>\n   </g>\n   <g id=\"patch_321\">\n    <path clip-path=\"url(#pf43c3d7f4d)\" d=\"M 409.886773 555.046125 \nL 418.003136 555.046125 \nL 418.003136 463.68478 \nL 409.886773 463.68478 \nz\n\" style=\"fill:#1f77b4;\"/>\n   </g>\n   <g id=\"patch_322\">\n    <path clip-path=\"url(#pf43c3d7f4d)\" d=\"M 418.003136 555.046125 \nL 426.1195 555.046125 \nL 426.1195 469.775537 \nL 418.003136 469.775537 \nz\n\" style=\"fill:#1f77b4;\"/>\n   </g>\n   <g id=\"patch_323\">\n    <path clip-path=\"url(#pf43c3d7f4d)\" d=\"M 426.1195 555.046125 \nL 434.235864 555.046125 \nL 434.235864 451.503268 \nL 426.1195 451.503268 \nz\n\" style=\"fill:#1f77b4;\"/>\n   </g>\n   <g id=\"patch_324\">\n    <path clip-path=\"url(#pf43c3d7f4d)\" d=\"M 434.235864 555.046125 \nL 442.352227 555.046125 \nL 442.352227 488.047806 \nL 434.235864 488.047806 \nz\n\" style=\"fill:#1f77b4;\"/>\n   </g>\n   <g id=\"patch_325\">\n    <path clip-path=\"url(#pf43c3d7f4d)\" d=\"M 442.352227 555.046125 \nL 450.468591 555.046125 \nL 450.468591 522.562091 \nL 442.352227 522.562091 \nz\n\" style=\"fill:#1f77b4;\"/>\n   </g>\n   <g id=\"patch_326\">\n    <path clip-path=\"url(#pf43c3d7f4d)\" d=\"M 450.468591 555.046125 \nL 458.584955 555.046125 \nL 458.584955 541.849486 \nL 450.468591 541.849486 \nz\n\" style=\"fill:#1f77b4;\"/>\n   </g>\n   <g id=\"patch_327\">\n    <path clip-path=\"url(#pf43c3d7f4d)\" d=\"M 458.584955 555.046125 \nL 466.701318 555.046125 \nL 466.701318 548.955369 \nL 458.584955 548.955369 \nz\n\" style=\"fill:#1f77b4;\"/>\n   </g>\n   <g id=\"matplotlib.axis_43\">\n    <g id=\"xtick_47\">\n     <g id=\"line2d_271\">\n      <path clip-path=\"url(#pf43c3d7f4d)\" d=\"M 401.770409 555.046125 \nL 401.770409 446.326125 \n\" style=\"fill:none;stroke:#b0b0b0;stroke-linecap:square;stroke-width:0.8;\"/>\n     </g>\n     <g id=\"line2d_272\">\n      <g>\n       <use style=\"stroke:#000000;stroke-width:0.8;\" x=\"401.770409\" xlink:href=\"#mc504cf78b3\" y=\"555.046125\"/>\n      </g>\n     </g>\n     <g id=\"text_157\">\n      <!-- 10 -->\n      <g transform=\"translate(395.407909 569.644562)scale(0.1 -0.1)\">\n       <use xlink:href=\"#DejaVuSans-49\"/>\n       <use x=\"63.623047\" xlink:href=\"#DejaVuSans-48\"/>\n      </g>\n     </g>\n    </g>\n    <g id=\"xtick_48\">\n     <g id=\"line2d_273\">\n      <path clip-path=\"url(#pf43c3d7f4d)\" d=\"M 440.41976 555.046125 \nL 440.41976 446.326125 \n\" style=\"fill:none;stroke:#b0b0b0;stroke-linecap:square;stroke-width:0.8;\"/>\n     </g>\n     <g id=\"line2d_274\">\n      <g>\n       <use style=\"stroke:#000000;stroke-width:0.8;\" x=\"440.41976\" xlink:href=\"#mc504cf78b3\" y=\"555.046125\"/>\n      </g>\n     </g>\n     <g id=\"text_158\">\n      <!-- 15 -->\n      <g transform=\"translate(434.05726 569.644562)scale(0.1 -0.1)\">\n       <use xlink:href=\"#DejaVuSans-49\"/>\n       <use x=\"63.623047\" xlink:href=\"#DejaVuSans-53\"/>\n      </g>\n     </g>\n    </g>\n   </g>\n   <g id=\"matplotlib.axis_44\">\n    <g id=\"ytick_90\">\n     <g id=\"line2d_275\">\n      <path clip-path=\"url(#pf43c3d7f4d)\" d=\"M 381.4795 555.046125 \nL 470.7595 555.046125 \n\" style=\"fill:none;stroke:#b0b0b0;stroke-linecap:square;stroke-width:0.8;\"/>\n     </g>\n     <g id=\"line2d_276\">\n      <g>\n       <use style=\"stroke:#000000;stroke-width:0.8;\" x=\"381.4795\" xlink:href=\"#md3fd3d0ccc\" y=\"555.046125\"/>\n      </g>\n     </g>\n     <g id=\"text_159\">\n      <!-- 0 -->\n      <g transform=\"translate(368.117 558.845344)scale(0.1 -0.1)\">\n       <use xlink:href=\"#DejaVuSans-48\"/>\n      </g>\n     </g>\n    </g>\n    <g id=\"ytick_91\">\n     <g id=\"line2d_277\">\n      <path clip-path=\"url(#pf43c3d7f4d)\" d=\"M 381.4795 529.667974 \nL 470.7595 529.667974 \n\" style=\"fill:none;stroke:#b0b0b0;stroke-linecap:square;stroke-width:0.8;\"/>\n     </g>\n     <g id=\"line2d_278\">\n      <g>\n       <use style=\"stroke:#000000;stroke-width:0.8;\" x=\"381.4795\" xlink:href=\"#md3fd3d0ccc\" y=\"529.667974\"/>\n      </g>\n     </g>\n     <g id=\"text_160\">\n      <!-- 25 -->\n      <g transform=\"translate(361.7545 533.467192)scale(0.1 -0.1)\">\n       <use xlink:href=\"#DejaVuSans-50\"/>\n       <use x=\"63.623047\" xlink:href=\"#DejaVuSans-53\"/>\n      </g>\n     </g>\n    </g>\n    <g id=\"ytick_92\">\n     <g id=\"line2d_279\">\n      <path clip-path=\"url(#pf43c3d7f4d)\" d=\"M 381.4795 504.289822 \nL 470.7595 504.289822 \n\" style=\"fill:none;stroke:#b0b0b0;stroke-linecap:square;stroke-width:0.8;\"/>\n     </g>\n     <g id=\"line2d_280\">\n      <g>\n       <use style=\"stroke:#000000;stroke-width:0.8;\" x=\"381.4795\" xlink:href=\"#md3fd3d0ccc\" y=\"504.289822\"/>\n      </g>\n     </g>\n     <g id=\"text_161\">\n      <!-- 50 -->\n      <g transform=\"translate(361.7545 508.089041)scale(0.1 -0.1)\">\n       <use xlink:href=\"#DejaVuSans-53\"/>\n       <use x=\"63.623047\" xlink:href=\"#DejaVuSans-48\"/>\n      </g>\n     </g>\n    </g>\n    <g id=\"ytick_93\">\n     <g id=\"line2d_281\">\n      <path clip-path=\"url(#pf43c3d7f4d)\" d=\"M 381.4795 478.911671 \nL 470.7595 478.911671 \n\" style=\"fill:none;stroke:#b0b0b0;stroke-linecap:square;stroke-width:0.8;\"/>\n     </g>\n     <g id=\"line2d_282\">\n      <g>\n       <use style=\"stroke:#000000;stroke-width:0.8;\" x=\"381.4795\" xlink:href=\"#md3fd3d0ccc\" y=\"478.911671\"/>\n      </g>\n     </g>\n     <g id=\"text_162\">\n      <!-- 75 -->\n      <g transform=\"translate(361.7545 482.71089)scale(0.1 -0.1)\">\n       <use xlink:href=\"#DejaVuSans-55\"/>\n       <use x=\"63.623047\" xlink:href=\"#DejaVuSans-53\"/>\n      </g>\n     </g>\n    </g>\n    <g id=\"ytick_94\">\n     <g id=\"line2d_283\">\n      <path clip-path=\"url(#pf43c3d7f4d)\" d=\"M 381.4795 453.53352 \nL 470.7595 453.53352 \n\" style=\"fill:none;stroke:#b0b0b0;stroke-linecap:square;stroke-width:0.8;\"/>\n     </g>\n     <g id=\"line2d_284\">\n      <g>\n       <use style=\"stroke:#000000;stroke-width:0.8;\" x=\"381.4795\" xlink:href=\"#md3fd3d0ccc\" y=\"453.53352\"/>\n      </g>\n     </g>\n     <g id=\"text_163\">\n      <!-- 100 -->\n      <g transform=\"translate(355.392 457.332739)scale(0.1 -0.1)\">\n       <use xlink:href=\"#DejaVuSans-49\"/>\n       <use x=\"63.623047\" xlink:href=\"#DejaVuSans-48\"/>\n       <use x=\"127.246094\" xlink:href=\"#DejaVuSans-48\"/>\n      </g>\n     </g>\n    </g>\n   </g>\n   <g id=\"patch_328\">\n    <path d=\"M 381.4795 555.046125 \nL 381.4795 446.326125 \n\" style=\"fill:none;stroke:#000000;stroke-linecap:square;stroke-linejoin:miter;stroke-width:0.8;\"/>\n   </g>\n   <g id=\"patch_329\">\n    <path d=\"M 470.7595 555.046125 \nL 470.7595 446.326125 \n\" style=\"fill:none;stroke:#000000;stroke-linecap:square;stroke-linejoin:miter;stroke-width:0.8;\"/>\n   </g>\n   <g id=\"patch_330\">\n    <path d=\"M 381.4795 555.046125 \nL 470.7595 555.046125 \n\" style=\"fill:none;stroke:#000000;stroke-linecap:square;stroke-linejoin:miter;stroke-width:0.8;\"/>\n   </g>\n   <g id=\"patch_331\">\n    <path d=\"M 381.4795 446.326125 \nL 470.7595 446.326125 \n\" style=\"fill:none;stroke:#000000;stroke-linecap:square;stroke-linejoin:miter;stroke-width:0.8;\"/>\n   </g>\n   <g id=\"text_164\">\n    <!-- MHLTH -->\n    <g transform=\"translate(405.735437 440.326125)scale(0.12 -0.12)\">\n     <use xlink:href=\"#DejaVuSans-77\"/>\n     <use x=\"86.279297\" xlink:href=\"#DejaVuSans-72\"/>\n     <use x=\"161.474609\" xlink:href=\"#DejaVuSans-76\"/>\n     <use x=\"203.4375\" xlink:href=\"#DejaVuSans-84\"/>\n     <use x=\"264.521484\" xlink:href=\"#DejaVuSans-72\"/>\n    </g>\n   </g>\n  </g>\n  <g id=\"axes_23\">\n   <g id=\"patch_332\">\n    <path d=\"M 497.5435 555.046125 \nL 586.8235 555.046125 \nL 586.8235 446.326125 \nL 497.5435 446.326125 \nz\n\" style=\"fill:#ffffff;\"/>\n   </g>\n   <g id=\"patch_333\">\n    <path clip-path=\"url(#pa1031fae8f)\" d=\"M 501.601682 555.046125 \nL 509.718045 555.046125 \nL 509.718045 536.028049 \nL 501.601682 536.028049 \nz\n\" style=\"fill:#1f77b4;\"/>\n   </g>\n   <g id=\"patch_334\">\n    <path clip-path=\"url(#pa1031fae8f)\" d=\"M 509.718045 555.046125 \nL 517.834409 555.046125 \nL 517.834409 518.066533 \nL 509.718045 518.066533 \nz\n\" style=\"fill:#1f77b4;\"/>\n   </g>\n   <g id=\"patch_335\">\n    <path clip-path=\"url(#pa1031fae8f)\" d=\"M 517.834409 555.046125 \nL 525.950773 555.046125 \nL 525.950773 470.521344 \nL 517.834409 470.521344 \nz\n\" style=\"fill:#1f77b4;\"/>\n   </g>\n   <g id=\"patch_336\">\n    <path clip-path=\"url(#pa1031fae8f)\" d=\"M 525.950773 555.046125 \nL 534.067136 555.046125 \nL 534.067136 451.503268 \nL 525.950773 451.503268 \nz\n\" style=\"fill:#1f77b4;\"/>\n   </g>\n   <g id=\"patch_337\">\n    <path clip-path=\"url(#pa1031fae8f)\" d=\"M 534.067136 555.046125 \nL 542.1835 555.046125 \nL 542.1835 454.672947 \nL 534.067136 454.672947 \nz\n\" style=\"fill:#1f77b4;\"/>\n   </g>\n   <g id=\"patch_338\">\n    <path clip-path=\"url(#pa1031fae8f)\" d=\"M 542.1835 555.046125 \nL 550.299864 555.046125 \nL 550.299864 455.729507 \nL 542.1835 455.729507 \nz\n\" style=\"fill:#1f77b4;\"/>\n   </g>\n   <g id=\"patch_339\">\n    <path clip-path=\"url(#pa1031fae8f)\" d=\"M 550.299864 555.046125 \nL 558.416227 555.046125 \nL 558.416227 504.331256 \nL 550.299864 504.331256 \nz\n\" style=\"fill:#1f77b4;\"/>\n   </g>\n   <g id=\"patch_340\">\n    <path clip-path=\"url(#pa1031fae8f)\" d=\"M 558.416227 555.046125 \nL 566.532591 555.046125 \nL 566.532591 534.971489 \nL 558.416227 534.971489 \nz\n\" style=\"fill:#1f77b4;\"/>\n   </g>\n   <g id=\"patch_341\">\n    <path clip-path=\"url(#pa1031fae8f)\" d=\"M 566.532591 555.046125 \nL 574.648955 555.046125 \nL 574.648955 546.593647 \nL 566.532591 546.593647 \nz\n\" style=\"fill:#1f77b4;\"/>\n   </g>\n   <g id=\"patch_342\">\n    <path clip-path=\"url(#pa1031fae8f)\" d=\"M 574.648955 555.046125 \nL 582.765318 555.046125 \nL 582.765318 552.933005 \nL 574.648955 552.933005 \nz\n\" style=\"fill:#1f77b4;\"/>\n   </g>\n   <g id=\"matplotlib.axis_45\">\n    <g id=\"xtick_49\">\n     <g id=\"line2d_285\">\n      <path clip-path=\"url(#pa1031fae8f)\" d=\"M 512.488012 555.046125 \nL 512.488012 446.326125 \n\" style=\"fill:none;stroke:#b0b0b0;stroke-linecap:square;stroke-width:0.8;\"/>\n     </g>\n     <g id=\"line2d_286\">\n      <g>\n       <use style=\"stroke:#000000;stroke-width:0.8;\" x=\"512.488012\" xlink:href=\"#mc504cf78b3\" y=\"555.046125\"/>\n      </g>\n     </g>\n     <g id=\"text_165\">\n      <!-- 20 -->\n      <g transform=\"translate(506.125512 569.644562)scale(0.1 -0.1)\">\n       <use xlink:href=\"#DejaVuSans-50\"/>\n       <use x=\"63.623047\" xlink:href=\"#DejaVuSans-48\"/>\n      </g>\n     </g>\n    </g>\n    <g id=\"xtick_50\">\n     <g id=\"line2d_287\">\n      <path clip-path=\"url(#pa1031fae8f)\" d=\"M 560.871699 555.046125 \nL 560.871699 446.326125 \n\" style=\"fill:none;stroke:#b0b0b0;stroke-linecap:square;stroke-width:0.8;\"/>\n     </g>\n     <g id=\"line2d_288\">\n      <g>\n       <use style=\"stroke:#000000;stroke-width:0.8;\" x=\"560.871699\" xlink:href=\"#mc504cf78b3\" y=\"555.046125\"/>\n      </g>\n     </g>\n     <g id=\"text_166\">\n      <!-- 40 -->\n      <g transform=\"translate(554.509199 569.644562)scale(0.1 -0.1)\">\n       <use xlink:href=\"#DejaVuSans-52\"/>\n       <use x=\"63.623047\" xlink:href=\"#DejaVuSans-48\"/>\n      </g>\n     </g>\n    </g>\n   </g>\n   <g id=\"matplotlib.axis_46\">\n    <g id=\"ytick_95\">\n     <g id=\"line2d_289\">\n      <path clip-path=\"url(#pa1031fae8f)\" d=\"M 497.5435 555.046125 \nL 586.8235 555.046125 \n\" style=\"fill:none;stroke:#b0b0b0;stroke-linecap:square;stroke-width:0.8;\"/>\n     </g>\n     <g id=\"line2d_290\">\n      <g>\n       <use style=\"stroke:#000000;stroke-width:0.8;\" x=\"497.5435\" xlink:href=\"#md3fd3d0ccc\" y=\"555.046125\"/>\n      </g>\n     </g>\n     <g id=\"text_167\">\n      <!-- 0 -->\n      <g transform=\"translate(484.181 558.845344)scale(0.1 -0.1)\">\n       <use xlink:href=\"#DejaVuSans-48\"/>\n      </g>\n     </g>\n    </g>\n    <g id=\"ytick_96\">\n     <g id=\"line2d_291\">\n      <path clip-path=\"url(#pa1031fae8f)\" d=\"M 497.5435 528.632131 \nL 586.8235 528.632131 \n\" style=\"fill:none;stroke:#b0b0b0;stroke-linecap:square;stroke-width:0.8;\"/>\n     </g>\n     <g id=\"line2d_292\">\n      <g>\n       <use style=\"stroke:#000000;stroke-width:0.8;\" x=\"497.5435\" xlink:href=\"#md3fd3d0ccc\" y=\"528.632131\"/>\n      </g>\n     </g>\n     <g id=\"text_168\">\n      <!-- 25 -->\n      <g transform=\"translate(477.8185 532.43135)scale(0.1 -0.1)\">\n       <use xlink:href=\"#DejaVuSans-50\"/>\n       <use x=\"63.623047\" xlink:href=\"#DejaVuSans-53\"/>\n      </g>\n     </g>\n    </g>\n    <g id=\"ytick_97\">\n     <g id=\"line2d_293\">\n      <path clip-path=\"url(#pa1031fae8f)\" d=\"M 497.5435 502.218137 \nL 586.8235 502.218137 \n\" style=\"fill:none;stroke:#b0b0b0;stroke-linecap:square;stroke-width:0.8;\"/>\n     </g>\n     <g id=\"line2d_294\">\n      <g>\n       <use style=\"stroke:#000000;stroke-width:0.8;\" x=\"497.5435\" xlink:href=\"#md3fd3d0ccc\" y=\"502.218137\"/>\n      </g>\n     </g>\n     <g id=\"text_169\">\n      <!-- 50 -->\n      <g transform=\"translate(477.8185 506.017355)scale(0.1 -0.1)\">\n       <use xlink:href=\"#DejaVuSans-53\"/>\n       <use x=\"63.623047\" xlink:href=\"#DejaVuSans-48\"/>\n      </g>\n     </g>\n    </g>\n    <g id=\"ytick_98\">\n     <g id=\"line2d_295\">\n      <path clip-path=\"url(#pa1031fae8f)\" d=\"M 497.5435 475.804142 \nL 586.8235 475.804142 \n\" style=\"fill:none;stroke:#b0b0b0;stroke-linecap:square;stroke-width:0.8;\"/>\n     </g>\n     <g id=\"line2d_296\">\n      <g>\n       <use style=\"stroke:#000000;stroke-width:0.8;\" x=\"497.5435\" xlink:href=\"#md3fd3d0ccc\" y=\"475.804142\"/>\n      </g>\n     </g>\n     <g id=\"text_170\">\n      <!-- 75 -->\n      <g transform=\"translate(477.8185 479.603361)scale(0.1 -0.1)\">\n       <use xlink:href=\"#DejaVuSans-55\"/>\n       <use x=\"63.623047\" xlink:href=\"#DejaVuSans-53\"/>\n      </g>\n     </g>\n    </g>\n    <g id=\"ytick_99\">\n     <g id=\"line2d_297\">\n      <path clip-path=\"url(#pa1031fae8f)\" d=\"M 497.5435 449.390148 \nL 586.8235 449.390148 \n\" style=\"fill:none;stroke:#b0b0b0;stroke-linecap:square;stroke-width:0.8;\"/>\n     </g>\n     <g id=\"line2d_298\">\n      <g>\n       <use style=\"stroke:#000000;stroke-width:0.8;\" x=\"497.5435\" xlink:href=\"#md3fd3d0ccc\" y=\"449.390148\"/>\n      </g>\n     </g>\n     <g id=\"text_171\">\n      <!-- 100 -->\n      <g transform=\"translate(471.456 453.189367)scale(0.1 -0.1)\">\n       <use xlink:href=\"#DejaVuSans-49\"/>\n       <use x=\"63.623047\" xlink:href=\"#DejaVuSans-48\"/>\n       <use x=\"127.246094\" xlink:href=\"#DejaVuSans-48\"/>\n      </g>\n     </g>\n    </g>\n   </g>\n   <g id=\"patch_343\">\n    <path d=\"M 497.5435 555.046125 \nL 497.5435 446.326125 \n\" style=\"fill:none;stroke:#000000;stroke-linecap:square;stroke-linejoin:miter;stroke-width:0.8;\"/>\n   </g>\n   <g id=\"patch_344\">\n    <path d=\"M 586.8235 555.046125 \nL 586.8235 446.326125 \n\" style=\"fill:none;stroke:#000000;stroke-linecap:square;stroke-linejoin:miter;stroke-width:0.8;\"/>\n   </g>\n   <g id=\"patch_345\">\n    <path d=\"M 497.5435 555.046125 \nL 586.8235 555.046125 \n\" style=\"fill:none;stroke:#000000;stroke-linecap:square;stroke-linejoin:miter;stroke-width:0.8;\"/>\n   </g>\n   <g id=\"patch_346\">\n    <path d=\"M 497.5435 446.326125 \nL 586.8235 446.326125 \n\" style=\"fill:none;stroke:#000000;stroke-linecap:square;stroke-linejoin:miter;stroke-width:0.8;\"/>\n   </g>\n   <g id=\"text_172\">\n    <!-- OBESITY -->\n    <g transform=\"translate(516.644125 440.326125)scale(0.12 -0.12)\">\n     <use xlink:href=\"#DejaVuSans-79\"/>\n     <use x=\"78.710938\" xlink:href=\"#DejaVuSans-66\"/>\n     <use x=\"147.314453\" xlink:href=\"#DejaVuSans-69\"/>\n     <use x=\"210.498047\" xlink:href=\"#DejaVuSans-83\"/>\n     <use x=\"273.974609\" xlink:href=\"#DejaVuSans-73\"/>\n     <use x=\"303.466797\" xlink:href=\"#DejaVuSans-84\"/>\n     <use x=\"364.550781\" xlink:href=\"#DejaVuSans-89\"/>\n    </g>\n   </g>\n  </g>\n  <g id=\"axes_24\">\n   <g id=\"patch_347\">\n    <path d=\"M 613.6075 555.046125 \nL 702.8875 555.046125 \nL 702.8875 446.326125 \nL 613.6075 446.326125 \nz\n\" style=\"fill:#ffffff;\"/>\n   </g>\n   <g id=\"patch_348\">\n    <path clip-path=\"url(#p247ab830ff)\" d=\"M 617.665682 555.046125 \nL 625.782045 555.046125 \nL 625.782045 553.128665 \nL 617.665682 553.128665 \nz\n\" style=\"fill:#1f77b4;\"/>\n   </g>\n   <g id=\"patch_349\">\n    <path clip-path=\"url(#p247ab830ff)\" d=\"M 625.782045 555.046125 \nL 633.898409 555.046125 \nL 633.898409 548.335014 \nL 625.782045 548.335014 \nz\n\" style=\"fill:#1f77b4;\"/>\n   </g>\n   <g id=\"patch_350\">\n    <path clip-path=\"url(#p247ab830ff)\" d=\"M 633.898409 555.046125 \nL 642.014773 555.046125 \nL 642.014773 543.541363 \nL 633.898409 543.541363 \nz\n\" style=\"fill:#1f77b4;\"/>\n   </g>\n   <g id=\"patch_351\">\n    <path clip-path=\"url(#p247ab830ff)\" d=\"M 642.014773 555.046125 \nL 650.131136 555.046125 \nL 650.131136 519.573109 \nL 642.014773 519.573109 \nz\n\" style=\"fill:#1f77b4;\"/>\n   </g>\n   <g id=\"patch_352\">\n    <path clip-path=\"url(#p247ab830ff)\" d=\"M 650.131136 555.046125 \nL 658.2475 555.046125 \nL 658.2475 494.646125 \nL 650.131136 494.646125 \nz\n\" style=\"fill:#1f77b4;\"/>\n   </g>\n   <g id=\"patch_353\">\n    <path clip-path=\"url(#p247ab830ff)\" d=\"M 658.2475 555.046125 \nL 666.363864 555.046125 \nL 666.363864 475.471522 \nL 658.2475 475.471522 \nz\n\" style=\"fill:#1f77b4;\"/>\n   </g>\n   <g id=\"patch_354\">\n    <path clip-path=\"url(#p247ab830ff)\" d=\"M 666.363864 555.046125 \nL 674.480227 555.046125 \nL 674.480227 451.503268 \nL 666.363864 451.503268 \nz\n\" style=\"fill:#1f77b4;\"/>\n   </g>\n   <g id=\"patch_355\">\n    <path clip-path=\"url(#p247ab830ff)\" d=\"M 674.480227 555.046125 \nL 682.596591 555.046125 \nL 682.596591 467.801681 \nL 674.480227 467.801681 \nz\n\" style=\"fill:#1f77b4;\"/>\n   </g>\n   <g id=\"patch_356\">\n    <path clip-path=\"url(#p247ab830ff)\" d=\"M 682.596591 555.046125 \nL 690.712955 555.046125 \nL 690.712955 519.573109 \nL 682.596591 519.573109 \nz\n\" style=\"fill:#1f77b4;\"/>\n   </g>\n   <g id=\"patch_357\">\n    <path clip-path=\"url(#p247ab830ff)\" d=\"M 690.712955 555.046125 \nL 698.829318 555.046125 \nL 698.829318 545.458823 \nL 690.712955 545.458823 \nz\n\" style=\"fill:#1f77b4;\"/>\n   </g>\n   <g id=\"matplotlib.axis_47\">\n    <g id=\"xtick_51\">\n     <g id=\"line2d_299\">\n      <path clip-path=\"url(#p247ab830ff)\" d=\"M 637.248019 555.046125 \nL 637.248019 446.326125 \n\" style=\"fill:none;stroke:#b0b0b0;stroke-linecap:square;stroke-width:0.8;\"/>\n     </g>\n     <g id=\"line2d_300\">\n      <g>\n       <use style=\"stroke:#000000;stroke-width:0.8;\" x=\"637.248019\" xlink:href=\"#mc504cf78b3\" y=\"555.046125\"/>\n      </g>\n     </g>\n     <g id=\"text_173\">\n      <!-- 75 -->\n      <g transform=\"translate(630.885519 569.644562)scale(0.1 -0.1)\">\n       <use xlink:href=\"#DejaVuSans-55\"/>\n       <use x=\"63.623047\" xlink:href=\"#DejaVuSans-53\"/>\n      </g>\n     </g>\n    </g>\n    <g id=\"xtick_52\">\n     <g id=\"line2d_301\">\n      <path clip-path=\"url(#p247ab830ff)\" d=\"M 663.014253 555.046125 \nL 663.014253 446.326125 \n\" style=\"fill:none;stroke:#b0b0b0;stroke-linecap:square;stroke-width:0.8;\"/>\n     </g>\n     <g id=\"line2d_302\">\n      <g>\n       <use style=\"stroke:#000000;stroke-width:0.8;\" x=\"663.014253\" xlink:href=\"#mc504cf78b3\" y=\"555.046125\"/>\n      </g>\n     </g>\n     <g id=\"text_174\">\n      <!-- 80 -->\n      <g transform=\"translate(656.651753 569.644562)scale(0.1 -0.1)\">\n       <use xlink:href=\"#DejaVuSans-56\"/>\n       <use x=\"63.623047\" xlink:href=\"#DejaVuSans-48\"/>\n      </g>\n     </g>\n    </g>\n    <g id=\"xtick_53\">\n     <g id=\"line2d_303\">\n      <path clip-path=\"url(#p247ab830ff)\" d=\"M 688.780487 555.046125 \nL 688.780487 446.326125 \n\" style=\"fill:none;stroke:#b0b0b0;stroke-linecap:square;stroke-width:0.8;\"/>\n     </g>\n     <g id=\"line2d_304\">\n      <g>\n       <use style=\"stroke:#000000;stroke-width:0.8;\" x=\"688.780487\" xlink:href=\"#mc504cf78b3\" y=\"555.046125\"/>\n      </g>\n     </g>\n     <g id=\"text_175\">\n      <!-- 85 -->\n      <g transform=\"translate(682.417987 569.644562)scale(0.1 -0.1)\">\n       <use xlink:href=\"#DejaVuSans-56\"/>\n       <use x=\"63.623047\" xlink:href=\"#DejaVuSans-53\"/>\n      </g>\n     </g>\n    </g>\n   </g>\n   <g id=\"matplotlib.axis_48\">\n    <g id=\"ytick_100\">\n     <g id=\"line2d_305\">\n      <path clip-path=\"url(#p247ab830ff)\" d=\"M 613.6075 555.046125 \nL 702.8875 555.046125 \n\" style=\"fill:none;stroke:#b0b0b0;stroke-linecap:square;stroke-width:0.8;\"/>\n     </g>\n     <g id=\"line2d_306\">\n      <g>\n       <use style=\"stroke:#000000;stroke-width:0.8;\" x=\"613.6075\" xlink:href=\"#md3fd3d0ccc\" y=\"555.046125\"/>\n      </g>\n     </g>\n     <g id=\"text_176\">\n      <!-- 0 -->\n      <g transform=\"translate(600.245 558.845344)scale(0.1 -0.1)\">\n       <use xlink:href=\"#DejaVuSans-48\"/>\n      </g>\n     </g>\n    </g>\n    <g id=\"ytick_101\">\n     <g id=\"line2d_307\">\n      <path clip-path=\"url(#p247ab830ff)\" d=\"M 613.6075 531.077871 \nL 702.8875 531.077871 \n\" style=\"fill:none;stroke:#b0b0b0;stroke-linecap:square;stroke-width:0.8;\"/>\n     </g>\n     <g id=\"line2d_308\">\n      <g>\n       <use style=\"stroke:#000000;stroke-width:0.8;\" x=\"613.6075\" xlink:href=\"#md3fd3d0ccc\" y=\"531.077871\"/>\n      </g>\n     </g>\n     <g id=\"text_177\">\n      <!-- 25 -->\n      <g transform=\"translate(593.8825 534.87709)scale(0.1 -0.1)\">\n       <use xlink:href=\"#DejaVuSans-50\"/>\n       <use x=\"63.623047\" xlink:href=\"#DejaVuSans-53\"/>\n      </g>\n     </g>\n    </g>\n    <g id=\"ytick_102\">\n     <g id=\"line2d_309\">\n      <path clip-path=\"url(#p247ab830ff)\" d=\"M 613.6075 507.109617 \nL 702.8875 507.109617 \n\" style=\"fill:none;stroke:#b0b0b0;stroke-linecap:square;stroke-width:0.8;\"/>\n     </g>\n     <g id=\"line2d_310\">\n      <g>\n       <use style=\"stroke:#000000;stroke-width:0.8;\" x=\"613.6075\" xlink:href=\"#md3fd3d0ccc\" y=\"507.109617\"/>\n      </g>\n     </g>\n     <g id=\"text_178\">\n      <!-- 50 -->\n      <g transform=\"translate(593.8825 510.908836)scale(0.1 -0.1)\">\n       <use xlink:href=\"#DejaVuSans-53\"/>\n       <use x=\"63.623047\" xlink:href=\"#DejaVuSans-48\"/>\n      </g>\n     </g>\n    </g>\n    <g id=\"ytick_103\">\n     <g id=\"line2d_311\">\n      <path clip-path=\"url(#p247ab830ff)\" d=\"M 613.6075 483.141363 \nL 702.8875 483.141363 \n\" style=\"fill:none;stroke:#b0b0b0;stroke-linecap:square;stroke-width:0.8;\"/>\n     </g>\n     <g id=\"line2d_312\">\n      <g>\n       <use style=\"stroke:#000000;stroke-width:0.8;\" x=\"613.6075\" xlink:href=\"#md3fd3d0ccc\" y=\"483.141363\"/>\n      </g>\n     </g>\n     <g id=\"text_179\">\n      <!-- 75 -->\n      <g transform=\"translate(593.8825 486.940582)scale(0.1 -0.1)\">\n       <use xlink:href=\"#DejaVuSans-55\"/>\n       <use x=\"63.623047\" xlink:href=\"#DejaVuSans-53\"/>\n      </g>\n     </g>\n    </g>\n    <g id=\"ytick_104\">\n     <g id=\"line2d_313\">\n      <path clip-path=\"url(#p247ab830ff)\" d=\"M 613.6075 459.173109 \nL 702.8875 459.173109 \n\" style=\"fill:none;stroke:#b0b0b0;stroke-linecap:square;stroke-width:0.8;\"/>\n     </g>\n     <g id=\"line2d_314\">\n      <g>\n       <use style=\"stroke:#000000;stroke-width:0.8;\" x=\"613.6075\" xlink:href=\"#md3fd3d0ccc\" y=\"459.173109\"/>\n      </g>\n     </g>\n     <g id=\"text_180\">\n      <!-- 100 -->\n      <g transform=\"translate(587.52 462.972328)scale(0.1 -0.1)\">\n       <use xlink:href=\"#DejaVuSans-49\"/>\n       <use x=\"63.623047\" xlink:href=\"#DejaVuSans-48\"/>\n       <use x=\"127.246094\" xlink:href=\"#DejaVuSans-48\"/>\n      </g>\n     </g>\n    </g>\n   </g>\n   <g id=\"patch_358\">\n    <path d=\"M 613.6075 555.046125 \nL 613.6075 446.326125 \n\" style=\"fill:none;stroke:#000000;stroke-linecap:square;stroke-linejoin:miter;stroke-width:0.8;\"/>\n   </g>\n   <g id=\"patch_359\">\n    <path d=\"M 702.8875 555.046125 \nL 702.8875 446.326125 \n\" style=\"fill:none;stroke:#000000;stroke-linecap:square;stroke-linejoin:miter;stroke-width:0.8;\"/>\n   </g>\n   <g id=\"patch_360\">\n    <path d=\"M 613.6075 555.046125 \nL 702.8875 555.046125 \n\" style=\"fill:none;stroke:#000000;stroke-linecap:square;stroke-linejoin:miter;stroke-width:0.8;\"/>\n   </g>\n   <g id=\"patch_361\">\n    <path d=\"M 613.6075 446.326125 \nL 702.8875 446.326125 \n\" style=\"fill:none;stroke:#000000;stroke-linecap:square;stroke-linejoin:miter;stroke-width:0.8;\"/>\n   </g>\n   <g id=\"text_181\">\n    <!-- PAPTEST -->\n    <g transform=\"translate(632.360313 440.326125)scale(0.12 -0.12)\">\n     <use xlink:href=\"#DejaVuSans-80\"/>\n     <use x=\"53.927734\" xlink:href=\"#DejaVuSans-65\"/>\n     <use x=\"122.335938\" xlink:href=\"#DejaVuSans-80\"/>\n     <use x=\"182.638672\" xlink:href=\"#DejaVuSans-84\"/>\n     <use x=\"243.722656\" xlink:href=\"#DejaVuSans-69\"/>\n     <use x=\"306.90625\" xlink:href=\"#DejaVuSans-83\"/>\n     <use x=\"370.382812\" xlink:href=\"#DejaVuSans-84\"/>\n    </g>\n   </g>\n  </g>\n  <g id=\"axes_25\">\n   <g id=\"patch_362\">\n    <path d=\"M 33.2875 696.382125 \nL 122.5675 696.382125 \nL 122.5675 587.662125 \nL 33.2875 587.662125 \nz\n\" style=\"fill:#ffffff;\"/>\n   </g>\n   <g id=\"patch_363\">\n    <path clip-path=\"url(#p8a3bdd97ed)\" d=\"M 37.345682 696.382125 \nL 45.462045 696.382125 \nL 45.462045 673.828235 \nL 37.345682 673.828235 \nz\n\" style=\"fill:#1f77b4;\"/>\n   </g>\n   <g id=\"patch_364\">\n    <path clip-path=\"url(#p8a3bdd97ed)\" d=\"M 45.462045 696.382125 \nL 53.578409 696.382125 \nL 53.578409 648.198815 \nL 45.462045 648.198815 \nz\n\" style=\"fill:#1f77b4;\"/>\n   </g>\n   <g id=\"patch_365\">\n    <path clip-path=\"url(#p8a3bdd97ed)\" d=\"M 53.578409 696.382125 \nL 61.694773 696.382125 \nL 61.694773 619.493865 \nL 53.578409 619.493865 \nz\n\" style=\"fill:#1f77b4;\"/>\n   </g>\n   <g id=\"patch_366\">\n    <path clip-path=\"url(#p8a3bdd97ed)\" d=\"M 61.694773 696.382125 \nL 69.811136 696.382125 \nL 69.811136 610.267274 \nL 61.694773 610.267274 \nz\n\" style=\"fill:#1f77b4;\"/>\n   </g>\n   <g id=\"patch_367\">\n    <path clip-path=\"url(#p8a3bdd97ed)\" d=\"M 69.811136 696.382125 \nL 77.9275 696.382125 \nL 77.9275 592.839268 \nL 69.811136 592.839268 \nz\n\" style=\"fill:#1f77b4;\"/>\n   </g>\n   <g id=\"patch_368\">\n    <path clip-path=\"url(#p8a3bdd97ed)\" d=\"M 77.9275 696.382125 \nL 86.043864 696.382125 \nL 86.043864 614.367981 \nL 77.9275 614.367981 \nz\n\" style=\"fill:#1f77b4;\"/>\n   </g>\n   <g id=\"patch_369\">\n    <path clip-path=\"url(#p8a3bdd97ed)\" d=\"M 86.043864 696.382125 \nL 94.160227 696.382125 \nL 94.160227 638.972224 \nL 86.043864 638.972224 \nz\n\" style=\"fill:#1f77b4;\"/>\n   </g>\n   <g id=\"patch_370\">\n    <path clip-path=\"url(#p8a3bdd97ed)\" d=\"M 94.160227 696.382125 \nL 102.276591 696.382125 \nL 102.276591 672.803059 \nL 94.160227 672.803059 \nz\n\" style=\"fill:#1f77b4;\"/>\n   </g>\n   <g id=\"patch_371\">\n    <path clip-path=\"url(#p8a3bdd97ed)\" d=\"M 102.276591 696.382125 \nL 110.392955 696.382125 \nL 110.392955 692.281418 \nL 102.276591 692.281418 \nz\n\" style=\"fill:#1f77b4;\"/>\n   </g>\n   <g id=\"patch_372\">\n    <path clip-path=\"url(#p8a3bdd97ed)\" d=\"M 110.392955 696.382125 \nL 118.509318 696.382125 \nL 118.509318 691.256241 \nL 110.392955 691.256241 \nz\n\" style=\"fill:#1f77b4;\"/>\n   </g>\n   <g id=\"matplotlib.axis_49\">\n    <g id=\"xtick_54\">\n     <g id=\"line2d_315\">\n      <path clip-path=\"url(#p8a3bdd97ed)\" d=\"M 56.461442 696.382125 \nL 56.461442 587.662125 \n\" style=\"fill:none;stroke:#b0b0b0;stroke-linecap:square;stroke-width:0.8;\"/>\n     </g>\n     <g id=\"line2d_316\">\n      <g>\n       <use style=\"stroke:#000000;stroke-width:0.8;\" x=\"56.461442\" xlink:href=\"#mc504cf78b3\" y=\"696.382125\"/>\n      </g>\n     </g>\n     <g id=\"text_182\">\n      <!-- 10 -->\n      <g transform=\"translate(50.098942 710.980562)scale(0.1 -0.1)\">\n       <use xlink:href=\"#DejaVuSans-49\"/>\n       <use x=\"63.623047\" xlink:href=\"#DejaVuSans-48\"/>\n      </g>\n     </g>\n    </g>\n    <g id=\"xtick_55\">\n     <g id=\"line2d_317\">\n      <path clip-path=\"url(#p8a3bdd97ed)\" d=\"M 119.136064 696.382125 \nL 119.136064 587.662125 \n\" style=\"fill:none;stroke:#b0b0b0;stroke-linecap:square;stroke-width:0.8;\"/>\n     </g>\n     <g id=\"line2d_318\">\n      <g>\n       <use style=\"stroke:#000000;stroke-width:0.8;\" x=\"119.136064\" xlink:href=\"#mc504cf78b3\" y=\"696.382125\"/>\n      </g>\n     </g>\n     <g id=\"text_183\">\n      <!-- 20 -->\n      <g transform=\"translate(112.773564 710.980562)scale(0.1 -0.1)\">\n       <use xlink:href=\"#DejaVuSans-50\"/>\n       <use x=\"63.623047\" xlink:href=\"#DejaVuSans-48\"/>\n      </g>\n     </g>\n    </g>\n   </g>\n   <g id=\"matplotlib.axis_50\">\n    <g id=\"ytick_105\">\n     <g id=\"line2d_319\">\n      <path clip-path=\"url(#p8a3bdd97ed)\" d=\"M 33.2875 696.382125 \nL 122.5675 696.382125 \n\" style=\"fill:none;stroke:#b0b0b0;stroke-linecap:square;stroke-width:0.8;\"/>\n     </g>\n     <g id=\"line2d_320\">\n      <g>\n       <use style=\"stroke:#000000;stroke-width:0.8;\" x=\"33.2875\" xlink:href=\"#md3fd3d0ccc\" y=\"696.382125\"/>\n      </g>\n     </g>\n     <g id=\"text_184\">\n      <!-- 0 -->\n      <g transform=\"translate(19.925 700.181344)scale(0.1 -0.1)\">\n       <use xlink:href=\"#DejaVuSans-48\"/>\n      </g>\n     </g>\n    </g>\n    <g id=\"ytick_106\">\n     <g id=\"line2d_321\">\n      <path clip-path=\"url(#p8a3bdd97ed)\" d=\"M 33.2875 670.752705 \nL 122.5675 670.752705 \n\" style=\"fill:none;stroke:#b0b0b0;stroke-linecap:square;stroke-width:0.8;\"/>\n     </g>\n     <g id=\"line2d_322\">\n      <g>\n       <use style=\"stroke:#000000;stroke-width:0.8;\" x=\"33.2875\" xlink:href=\"#md3fd3d0ccc\" y=\"670.752705\"/>\n      </g>\n     </g>\n     <g id=\"text_185\">\n      <!-- 25 -->\n      <g transform=\"translate(13.5625 674.551924)scale(0.1 -0.1)\">\n       <use xlink:href=\"#DejaVuSans-50\"/>\n       <use x=\"63.623047\" xlink:href=\"#DejaVuSans-53\"/>\n      </g>\n     </g>\n    </g>\n    <g id=\"ytick_107\">\n     <g id=\"line2d_323\">\n      <path clip-path=\"url(#p8a3bdd97ed)\" d=\"M 33.2875 645.123285 \nL 122.5675 645.123285 \n\" style=\"fill:none;stroke:#b0b0b0;stroke-linecap:square;stroke-width:0.8;\"/>\n     </g>\n     <g id=\"line2d_324\">\n      <g>\n       <use style=\"stroke:#000000;stroke-width:0.8;\" x=\"33.2875\" xlink:href=\"#md3fd3d0ccc\" y=\"645.123285\"/>\n      </g>\n     </g>\n     <g id=\"text_186\">\n      <!-- 50 -->\n      <g transform=\"translate(13.5625 648.922504)scale(0.1 -0.1)\">\n       <use xlink:href=\"#DejaVuSans-53\"/>\n       <use x=\"63.623047\" xlink:href=\"#DejaVuSans-48\"/>\n      </g>\n     </g>\n    </g>\n    <g id=\"ytick_108\">\n     <g id=\"line2d_325\">\n      <path clip-path=\"url(#p8a3bdd97ed)\" d=\"M 33.2875 619.493865 \nL 122.5675 619.493865 \n\" style=\"fill:none;stroke:#b0b0b0;stroke-linecap:square;stroke-width:0.8;\"/>\n     </g>\n     <g id=\"line2d_326\">\n      <g>\n       <use style=\"stroke:#000000;stroke-width:0.8;\" x=\"33.2875\" xlink:href=\"#md3fd3d0ccc\" y=\"619.493865\"/>\n      </g>\n     </g>\n     <g id=\"text_187\">\n      <!-- 75 -->\n      <g transform=\"translate(13.5625 623.293083)scale(0.1 -0.1)\">\n       <use xlink:href=\"#DejaVuSans-55\"/>\n       <use x=\"63.623047\" xlink:href=\"#DejaVuSans-53\"/>\n      </g>\n     </g>\n    </g>\n    <g id=\"ytick_109\">\n     <g id=\"line2d_327\">\n      <path clip-path=\"url(#p8a3bdd97ed)\" d=\"M 33.2875 593.864445 \nL 122.5675 593.864445 \n\" style=\"fill:none;stroke:#b0b0b0;stroke-linecap:square;stroke-width:0.8;\"/>\n     </g>\n     <g id=\"line2d_328\">\n      <g>\n       <use style=\"stroke:#000000;stroke-width:0.8;\" x=\"33.2875\" xlink:href=\"#md3fd3d0ccc\" y=\"593.864445\"/>\n      </g>\n     </g>\n     <g id=\"text_188\">\n      <!-- 100 -->\n      <g transform=\"translate(7.2 597.663663)scale(0.1 -0.1)\">\n       <use xlink:href=\"#DejaVuSans-49\"/>\n       <use x=\"63.623047\" xlink:href=\"#DejaVuSans-48\"/>\n       <use x=\"127.246094\" xlink:href=\"#DejaVuSans-48\"/>\n      </g>\n     </g>\n    </g>\n   </g>\n   <g id=\"patch_373\">\n    <path d=\"M 33.2875 696.382125 \nL 33.2875 587.662125 \n\" style=\"fill:none;stroke:#000000;stroke-linecap:square;stroke-linejoin:miter;stroke-width:0.8;\"/>\n   </g>\n   <g id=\"patch_374\">\n    <path d=\"M 122.5675 696.382125 \nL 122.5675 587.662125 \n\" style=\"fill:none;stroke:#000000;stroke-linecap:square;stroke-linejoin:miter;stroke-width:0.8;\"/>\n   </g>\n   <g id=\"patch_375\">\n    <path d=\"M 33.2875 696.382125 \nL 122.5675 696.382125 \n\" style=\"fill:none;stroke:#000000;stroke-linecap:square;stroke-linejoin:miter;stroke-width:0.8;\"/>\n   </g>\n   <g id=\"patch_376\">\n    <path d=\"M 33.2875 587.662125 \nL 122.5675 587.662125 \n\" style=\"fill:none;stroke:#000000;stroke-linecap:square;stroke-linejoin:miter;stroke-width:0.8;\"/>\n   </g>\n   <g id=\"text_189\">\n    <!-- PHLTH -->\n    <g transform=\"translate(59.1025 581.662125)scale(0.12 -0.12)\">\n     <use xlink:href=\"#DejaVuSans-80\"/>\n     <use x=\"60.302734\" xlink:href=\"#DejaVuSans-72\"/>\n     <use x=\"135.498047\" xlink:href=\"#DejaVuSans-76\"/>\n     <use x=\"177.460938\" xlink:href=\"#DejaVuSans-84\"/>\n     <use x=\"238.544922\" xlink:href=\"#DejaVuSans-72\"/>\n    </g>\n   </g>\n  </g>\n  <g id=\"axes_26\">\n   <g id=\"patch_377\">\n    <path d=\"M 149.3515 696.382125 \nL 238.6315 696.382125 \nL 238.6315 587.662125 \nL 149.3515 587.662125 \nz\n\" style=\"fill:#ffffff;\"/>\n   </g>\n   <g id=\"patch_378\">\n    <path clip-path=\"url(#pe4d2a67cec)\" d=\"M 153.409682 696.382125 \nL 161.526045 696.382125 \nL 161.526045 687.986758 \nL 153.409682 687.986758 \nz\n\" style=\"fill:#1f77b4;\"/>\n   </g>\n   <g id=\"patch_379\">\n    <path clip-path=\"url(#pe4d2a67cec)\" d=\"M 161.526045 696.382125 \nL 169.642409 696.382125 \nL 169.642409 672.128843 \nL 161.526045 672.128843 \nz\n\" style=\"fill:#1f77b4;\"/>\n   </g>\n   <g id=\"patch_380\">\n    <path clip-path=\"url(#pe4d2a67cec)\" d=\"M 169.642409 696.382125 \nL 177.758773 696.382125 \nL 177.758773 624.555098 \nL 169.642409 624.555098 \nz\n\" style=\"fill:#1f77b4;\"/>\n   </g>\n   <g id=\"patch_381\">\n    <path clip-path=\"url(#pe4d2a67cec)\" d=\"M 177.758773 696.382125 \nL 185.875136 696.382125 \nL 185.875136 592.839268 \nL 177.758773 592.839268 \nz\n\" style=\"fill:#1f77b4;\"/>\n   </g>\n   <g id=\"patch_382\">\n    <path clip-path=\"url(#pe4d2a67cec)\" d=\"M 185.875136 696.382125 \nL 193.9915 696.382125 \nL 193.9915 600.301816 \nL 185.875136 600.301816 \nz\n\" style=\"fill:#1f77b4;\"/>\n   </g>\n   <g id=\"patch_383\">\n    <path clip-path=\"url(#pe4d2a67cec)\" d=\"M 193.9915 696.382125 \nL 202.107864 696.382125 \nL 202.107864 609.630001 \nL 193.9915 609.630001 \nz\n\" style=\"fill:#1f77b4;\"/>\n   </g>\n   <g id=\"patch_384\">\n    <path clip-path=\"url(#pe4d2a67cec)\" d=\"M 202.107864 696.382125 \nL 210.224227 696.382125 \nL 210.224227 651.606835 \nL 202.107864 651.606835 \nz\n\" style=\"fill:#1f77b4;\"/>\n   </g>\n   <g id=\"patch_385\">\n    <path clip-path=\"url(#pe4d2a67cec)\" d=\"M 210.224227 696.382125 \nL 218.340591 696.382125 \nL 218.340591 679.591391 \nL 210.224227 679.591391 \nz\n\" style=\"fill:#1f77b4;\"/>\n   </g>\n   <g id=\"patch_386\">\n    <path clip-path=\"url(#pe4d2a67cec)\" d=\"M 218.340591 696.382125 \nL 226.456955 696.382125 \nL 226.456955 689.852395 \nL 218.340591 689.852395 \nz\n\" style=\"fill:#1f77b4;\"/>\n   </g>\n   <g id=\"patch_387\">\n    <path clip-path=\"url(#pe4d2a67cec)\" d=\"M 226.456955 696.382125 \nL 234.573318 696.382125 \nL 234.573318 691.718032 \nL 226.456955 691.718032 \nz\n\" style=\"fill:#1f77b4;\"/>\n   </g>\n   <g id=\"matplotlib.axis_51\">\n    <g id=\"xtick_56\">\n     <g id=\"line2d_329\">\n      <path clip-path=\"url(#pe4d2a67cec)\" d=\"M 171.32275 696.382125 \nL 171.32275 587.662125 \n\" style=\"fill:none;stroke:#b0b0b0;stroke-linecap:square;stroke-width:0.8;\"/>\n     </g>\n     <g id=\"line2d_330\">\n      <g>\n       <use style=\"stroke:#000000;stroke-width:0.8;\" x=\"171.32275\" xlink:href=\"#mc504cf78b3\" y=\"696.382125\"/>\n      </g>\n     </g>\n     <g id=\"text_190\">\n      <!-- 30 -->\n      <g transform=\"translate(164.96025 710.980562)scale(0.1 -0.1)\">\n       <use xlink:href=\"#DejaVuSans-51\"/>\n       <use x=\"63.623047\" xlink:href=\"#DejaVuSans-48\"/>\n      </g>\n     </g>\n    </g>\n    <g id=\"xtick_57\">\n     <g id=\"line2d_331\">\n      <path clip-path=\"url(#pe4d2a67cec)\" d=\"M 203.027295 696.382125 \nL 203.027295 587.662125 \n\" style=\"fill:none;stroke:#b0b0b0;stroke-linecap:square;stroke-width:0.8;\"/>\n     </g>\n     <g id=\"line2d_332\">\n      <g>\n       <use style=\"stroke:#000000;stroke-width:0.8;\" x=\"203.027295\" xlink:href=\"#mc504cf78b3\" y=\"696.382125\"/>\n      </g>\n     </g>\n     <g id=\"text_191\">\n      <!-- 40 -->\n      <g transform=\"translate(196.664795 710.980562)scale(0.1 -0.1)\">\n       <use xlink:href=\"#DejaVuSans-52\"/>\n       <use x=\"63.623047\" xlink:href=\"#DejaVuSans-48\"/>\n      </g>\n     </g>\n    </g>\n    <g id=\"xtick_58\">\n     <g id=\"line2d_333\">\n      <path clip-path=\"url(#pe4d2a67cec)\" d=\"M 234.731841 696.382125 \nL 234.731841 587.662125 \n\" style=\"fill:none;stroke:#b0b0b0;stroke-linecap:square;stroke-width:0.8;\"/>\n     </g>\n     <g id=\"line2d_334\">\n      <g>\n       <use style=\"stroke:#000000;stroke-width:0.8;\" x=\"234.731841\" xlink:href=\"#mc504cf78b3\" y=\"696.382125\"/>\n      </g>\n     </g>\n     <g id=\"text_192\">\n      <!-- 50 -->\n      <g transform=\"translate(228.369341 710.980562)scale(0.1 -0.1)\">\n       <use xlink:href=\"#DejaVuSans-53\"/>\n       <use x=\"63.623047\" xlink:href=\"#DejaVuSans-48\"/>\n      </g>\n     </g>\n    </g>\n   </g>\n   <g id=\"matplotlib.axis_52\">\n    <g id=\"ytick_110\">\n     <g id=\"line2d_335\">\n      <path clip-path=\"url(#pe4d2a67cec)\" d=\"M 149.3515 696.382125 \nL 238.6315 696.382125 \n\" style=\"fill:none;stroke:#b0b0b0;stroke-linecap:square;stroke-width:0.8;\"/>\n     </g>\n     <g id=\"line2d_336\">\n      <g>\n       <use style=\"stroke:#000000;stroke-width:0.8;\" x=\"149.3515\" xlink:href=\"#md3fd3d0ccc\" y=\"696.382125\"/>\n      </g>\n     </g>\n     <g id=\"text_193\">\n      <!-- 0 -->\n      <g transform=\"translate(135.989 700.181344)scale(0.1 -0.1)\">\n       <use xlink:href=\"#DejaVuSans-48\"/>\n      </g>\n     </g>\n    </g>\n    <g id=\"ytick_111\">\n     <g id=\"line2d_337\">\n      <path clip-path=\"url(#pe4d2a67cec)\" d=\"M 149.3515 673.061662 \nL 238.6315 673.061662 \n\" style=\"fill:none;stroke:#b0b0b0;stroke-linecap:square;stroke-width:0.8;\"/>\n     </g>\n     <g id=\"line2d_338\">\n      <g>\n       <use style=\"stroke:#000000;stroke-width:0.8;\" x=\"149.3515\" xlink:href=\"#md3fd3d0ccc\" y=\"673.061662\"/>\n      </g>\n     </g>\n     <g id=\"text_194\">\n      <!-- 25 -->\n      <g transform=\"translate(129.6265 676.86088)scale(0.1 -0.1)\">\n       <use xlink:href=\"#DejaVuSans-50\"/>\n       <use x=\"63.623047\" xlink:href=\"#DejaVuSans-53\"/>\n      </g>\n     </g>\n    </g>\n    <g id=\"ytick_112\">\n     <g id=\"line2d_339\">\n      <path clip-path=\"url(#pe4d2a67cec)\" d=\"M 149.3515 649.741198 \nL 238.6315 649.741198 \n\" style=\"fill:none;stroke:#b0b0b0;stroke-linecap:square;stroke-width:0.8;\"/>\n     </g>\n     <g id=\"line2d_340\">\n      <g>\n       <use style=\"stroke:#000000;stroke-width:0.8;\" x=\"149.3515\" xlink:href=\"#md3fd3d0ccc\" y=\"649.741198\"/>\n      </g>\n     </g>\n     <g id=\"text_195\">\n      <!-- 50 -->\n      <g transform=\"translate(129.6265 653.540417)scale(0.1 -0.1)\">\n       <use xlink:href=\"#DejaVuSans-53\"/>\n       <use x=\"63.623047\" xlink:href=\"#DejaVuSans-48\"/>\n      </g>\n     </g>\n    </g>\n    <g id=\"ytick_113\">\n     <g id=\"line2d_341\">\n      <path clip-path=\"url(#pe4d2a67cec)\" d=\"M 149.3515 626.420735 \nL 238.6315 626.420735 \n\" style=\"fill:none;stroke:#b0b0b0;stroke-linecap:square;stroke-width:0.8;\"/>\n     </g>\n     <g id=\"line2d_342\">\n      <g>\n       <use style=\"stroke:#000000;stroke-width:0.8;\" x=\"149.3515\" xlink:href=\"#md3fd3d0ccc\" y=\"626.420735\"/>\n      </g>\n     </g>\n     <g id=\"text_196\">\n      <!-- 75 -->\n      <g transform=\"translate(129.6265 630.219954)scale(0.1 -0.1)\">\n       <use xlink:href=\"#DejaVuSans-55\"/>\n       <use x=\"63.623047\" xlink:href=\"#DejaVuSans-53\"/>\n      </g>\n     </g>\n    </g>\n    <g id=\"ytick_114\">\n     <g id=\"line2d_343\">\n      <path clip-path=\"url(#pe4d2a67cec)\" d=\"M 149.3515 603.100272 \nL 238.6315 603.100272 \n\" style=\"fill:none;stroke:#b0b0b0;stroke-linecap:square;stroke-width:0.8;\"/>\n     </g>\n     <g id=\"line2d_344\">\n      <g>\n       <use style=\"stroke:#000000;stroke-width:0.8;\" x=\"149.3515\" xlink:href=\"#md3fd3d0ccc\" y=\"603.100272\"/>\n      </g>\n     </g>\n     <g id=\"text_197\">\n      <!-- 100 -->\n      <g transform=\"translate(123.264 606.89949)scale(0.1 -0.1)\">\n       <use xlink:href=\"#DejaVuSans-49\"/>\n       <use x=\"63.623047\" xlink:href=\"#DejaVuSans-48\"/>\n       <use x=\"127.246094\" xlink:href=\"#DejaVuSans-48\"/>\n      </g>\n     </g>\n    </g>\n   </g>\n   <g id=\"patch_388\">\n    <path d=\"M 149.3515 696.382125 \nL 149.3515 587.662125 \n\" style=\"fill:none;stroke:#000000;stroke-linecap:square;stroke-linejoin:miter;stroke-width:0.8;\"/>\n   </g>\n   <g id=\"patch_389\">\n    <path d=\"M 238.6315 696.382125 \nL 238.6315 587.662125 \n\" style=\"fill:none;stroke:#000000;stroke-linecap:square;stroke-linejoin:miter;stroke-width:0.8;\"/>\n   </g>\n   <g id=\"patch_390\">\n    <path d=\"M 149.3515 696.382125 \nL 238.6315 696.382125 \n\" style=\"fill:none;stroke:#000000;stroke-linecap:square;stroke-linejoin:miter;stroke-width:0.8;\"/>\n   </g>\n   <g id=\"patch_391\">\n    <path d=\"M 149.3515 587.662125 \nL 238.6315 587.662125 \n\" style=\"fill:none;stroke:#000000;stroke-linecap:square;stroke-linejoin:miter;stroke-width:0.8;\"/>\n   </g>\n   <g id=\"text_198\">\n    <!-- SLEEP -->\n    <g transform=\"translate(175.639 581.662125)scale(0.12 -0.12)\">\n     <use xlink:href=\"#DejaVuSans-83\"/>\n     <use x=\"63.476562\" xlink:href=\"#DejaVuSans-76\"/>\n     <use x=\"119.189453\" xlink:href=\"#DejaVuSans-69\"/>\n     <use x=\"182.373047\" xlink:href=\"#DejaVuSans-69\"/>\n     <use x=\"245.556641\" xlink:href=\"#DejaVuSans-80\"/>\n    </g>\n   </g>\n  </g>\n  <g id=\"axes_27\">\n   <g id=\"patch_392\">\n    <path d=\"M 265.4155 696.382125 \nL 354.6955 696.382125 \nL 354.6955 587.662125 \nL 265.4155 587.662125 \nz\n\" style=\"fill:#ffffff;\"/>\n   </g>\n   <g id=\"patch_393\">\n    <path clip-path=\"url(#p0a356281e0)\" d=\"M 269.473682 696.382125 \nL 277.590045 696.382125 \nL 277.590045 666.669827 \nL 269.473682 666.669827 \nz\n\" style=\"fill:#1f77b4;\"/>\n   </g>\n   <g id=\"patch_394\">\n    <path clip-path=\"url(#p0a356281e0)\" d=\"M 277.590045 696.382125 \nL 285.706409 696.382125 \nL 285.706409 603.64374 \nL 277.590045 603.64374 \nz\n\" style=\"fill:#1f77b4;\"/>\n   </g>\n   <g id=\"patch_395\">\n    <path clip-path=\"url(#p0a356281e0)\" d=\"M 285.706409 696.382125 \nL 293.822773 696.382125 \nL 293.822773 592.839268 \nL 285.706409 592.839268 \nz\n\" style=\"fill:#1f77b4;\"/>\n   </g>\n   <g id=\"patch_396\">\n    <path clip-path=\"url(#p0a356281e0)\" d=\"M 293.822773 696.382125 \nL 301.939136 696.382125 \nL 301.939136 594.640013 \nL 293.822773 594.640013 \nz\n\" style=\"fill:#1f77b4;\"/>\n   </g>\n   <g id=\"patch_397\">\n    <path clip-path=\"url(#p0a356281e0)\" d=\"M 301.939136 696.382125 \nL 310.0555 696.382125 \nL 310.0555 626.153057 \nL 301.939136 626.153057 \nz\n\" style=\"fill:#1f77b4;\"/>\n   </g>\n   <g id=\"patch_398\">\n    <path clip-path=\"url(#p0a356281e0)\" d=\"M 310.0555 696.382125 \nL 318.171864 696.382125 \nL 318.171864 664.869082 \nL 310.0555 664.869082 \nz\n\" style=\"fill:#1f77b4;\"/>\n   </g>\n   <g id=\"patch_399\">\n    <path clip-path=\"url(#p0a356281e0)\" d=\"M 318.171864 696.382125 \nL 326.288227 696.382125 \nL 326.288227 689.179144 \nL 318.171864 689.179144 \nz\n\" style=\"fill:#1f77b4;\"/>\n   </g>\n   <g id=\"patch_400\">\n    <path clip-path=\"url(#p0a356281e0)\" d=\"M 326.288227 696.382125 \nL 334.404591 696.382125 \nL 334.404591 690.979889 \nL 326.288227 690.979889 \nz\n\" style=\"fill:#1f77b4;\"/>\n   </g>\n   <g id=\"patch_401\">\n    <path clip-path=\"url(#p0a356281e0)\" d=\"M 334.404591 696.382125 \nL 342.520955 696.382125 \nL 342.520955 692.780634 \nL 334.404591 692.780634 \nz\n\" style=\"fill:#1f77b4;\"/>\n   </g>\n   <g id=\"patch_402\">\n    <path clip-path=\"url(#p0a356281e0)\" d=\"M 342.520955 696.382125 \nL 350.637318 696.382125 \nL 350.637318 694.58138 \nL 342.520955 694.58138 \nz\n\" style=\"fill:#1f77b4;\"/>\n   </g>\n   <g id=\"matplotlib.axis_53\">\n    <g id=\"xtick_59\">\n     <g id=\"line2d_345\">\n      <path clip-path=\"url(#p0a356281e0)\" d=\"M 284.852055 696.382125 \nL 284.852055 587.662125 \n\" style=\"fill:none;stroke:#b0b0b0;stroke-linecap:square;stroke-width:0.8;\"/>\n     </g>\n     <g id=\"line2d_346\">\n      <g>\n       <use style=\"stroke:#000000;stroke-width:0.8;\" x=\"284.852055\" xlink:href=\"#mc504cf78b3\" y=\"696.382125\"/>\n      </g>\n     </g>\n     <g id=\"text_199\">\n      <!-- 2.5 -->\n      <g transform=\"translate(276.900493 710.980562)scale(0.1 -0.1)\">\n       <use xlink:href=\"#DejaVuSans-50\"/>\n       <use x=\"63.623047\" xlink:href=\"#DejaVuSans-46\"/>\n       <use x=\"95.410156\" xlink:href=\"#DejaVuSans-53\"/>\n      </g>\n     </g>\n    </g>\n    <g id=\"xtick_60\">\n     <g id=\"line2d_347\">\n      <path clip-path=\"url(#p0a356281e0)\" d=\"M 327.569758 696.382125 \nL 327.569758 587.662125 \n\" style=\"fill:none;stroke:#b0b0b0;stroke-linecap:square;stroke-width:0.8;\"/>\n     </g>\n     <g id=\"line2d_348\">\n      <g>\n       <use style=\"stroke:#000000;stroke-width:0.8;\" x=\"327.569758\" xlink:href=\"#mc504cf78b3\" y=\"696.382125\"/>\n      </g>\n     </g>\n     <g id=\"text_200\">\n      <!-- 5.0 -->\n      <g transform=\"translate(319.618196 710.980562)scale(0.1 -0.1)\">\n       <use xlink:href=\"#DejaVuSans-53\"/>\n       <use x=\"63.623047\" xlink:href=\"#DejaVuSans-46\"/>\n       <use x=\"95.410156\" xlink:href=\"#DejaVuSans-48\"/>\n      </g>\n     </g>\n    </g>\n   </g>\n   <g id=\"matplotlib.axis_54\">\n    <g id=\"ytick_115\">\n     <g id=\"line2d_349\">\n      <path clip-path=\"url(#p0a356281e0)\" d=\"M 265.4155 696.382125 \nL 354.6955 696.382125 \n\" style=\"fill:none;stroke:#b0b0b0;stroke-linecap:square;stroke-width:0.8;\"/>\n     </g>\n     <g id=\"line2d_350\">\n      <g>\n       <use style=\"stroke:#000000;stroke-width:0.8;\" x=\"265.4155\" xlink:href=\"#md3fd3d0ccc\" y=\"696.382125\"/>\n      </g>\n     </g>\n     <g id=\"text_201\">\n      <!-- 0 -->\n      <g transform=\"translate(252.053 700.181344)scale(0.1 -0.1)\">\n       <use xlink:href=\"#DejaVuSans-48\"/>\n      </g>\n     </g>\n    </g>\n    <g id=\"ytick_116\">\n     <g id=\"line2d_351\">\n      <path clip-path=\"url(#p0a356281e0)\" d=\"M 265.4155 673.872808 \nL 354.6955 673.872808 \n\" style=\"fill:none;stroke:#b0b0b0;stroke-linecap:square;stroke-width:0.8;\"/>\n     </g>\n     <g id=\"line2d_352\">\n      <g>\n       <use style=\"stroke:#000000;stroke-width:0.8;\" x=\"265.4155\" xlink:href=\"#md3fd3d0ccc\" y=\"673.872808\"/>\n      </g>\n     </g>\n     <g id=\"text_202\">\n      <!-- 25 -->\n      <g transform=\"translate(245.6905 677.672027)scale(0.1 -0.1)\">\n       <use xlink:href=\"#DejaVuSans-50\"/>\n       <use x=\"63.623047\" xlink:href=\"#DejaVuSans-53\"/>\n      </g>\n     </g>\n    </g>\n    <g id=\"ytick_117\">\n     <g id=\"line2d_353\">\n      <path clip-path=\"url(#p0a356281e0)\" d=\"M 265.4155 651.363491 \nL 354.6955 651.363491 \n\" style=\"fill:none;stroke:#b0b0b0;stroke-linecap:square;stroke-width:0.8;\"/>\n     </g>\n     <g id=\"line2d_354\">\n      <g>\n       <use style=\"stroke:#000000;stroke-width:0.8;\" x=\"265.4155\" xlink:href=\"#md3fd3d0ccc\" y=\"651.363491\"/>\n      </g>\n     </g>\n     <g id=\"text_203\">\n      <!-- 50 -->\n      <g transform=\"translate(245.6905 655.16271)scale(0.1 -0.1)\">\n       <use xlink:href=\"#DejaVuSans-53\"/>\n       <use x=\"63.623047\" xlink:href=\"#DejaVuSans-48\"/>\n      </g>\n     </g>\n    </g>\n    <g id=\"ytick_118\">\n     <g id=\"line2d_355\">\n      <path clip-path=\"url(#p0a356281e0)\" d=\"M 265.4155 628.854175 \nL 354.6955 628.854175 \n\" style=\"fill:none;stroke:#b0b0b0;stroke-linecap:square;stroke-width:0.8;\"/>\n     </g>\n     <g id=\"line2d_356\">\n      <g>\n       <use style=\"stroke:#000000;stroke-width:0.8;\" x=\"265.4155\" xlink:href=\"#md3fd3d0ccc\" y=\"628.854175\"/>\n      </g>\n     </g>\n     <g id=\"text_204\">\n      <!-- 75 -->\n      <g transform=\"translate(245.6905 632.653393)scale(0.1 -0.1)\">\n       <use xlink:href=\"#DejaVuSans-55\"/>\n       <use x=\"63.623047\" xlink:href=\"#DejaVuSans-53\"/>\n      </g>\n     </g>\n    </g>\n    <g id=\"ytick_119\">\n     <g id=\"line2d_357\">\n      <path clip-path=\"url(#p0a356281e0)\" d=\"M 265.4155 606.344858 \nL 354.6955 606.344858 \n\" style=\"fill:none;stroke:#b0b0b0;stroke-linecap:square;stroke-width:0.8;\"/>\n     </g>\n     <g id=\"line2d_358\">\n      <g>\n       <use style=\"stroke:#000000;stroke-width:0.8;\" x=\"265.4155\" xlink:href=\"#md3fd3d0ccc\" y=\"606.344858\"/>\n      </g>\n     </g>\n     <g id=\"text_205\">\n      <!-- 100 -->\n      <g transform=\"translate(239.328 610.144077)scale(0.1 -0.1)\">\n       <use xlink:href=\"#DejaVuSans-49\"/>\n       <use x=\"63.623047\" xlink:href=\"#DejaVuSans-48\"/>\n       <use x=\"127.246094\" xlink:href=\"#DejaVuSans-48\"/>\n      </g>\n     </g>\n    </g>\n   </g>\n   <g id=\"patch_403\">\n    <path d=\"M 265.4155 696.382125 \nL 265.4155 587.662125 \n\" style=\"fill:none;stroke:#000000;stroke-linecap:square;stroke-linejoin:miter;stroke-width:0.8;\"/>\n   </g>\n   <g id=\"patch_404\">\n    <path d=\"M 354.6955 696.382125 \nL 354.6955 587.662125 \n\" style=\"fill:none;stroke:#000000;stroke-linecap:square;stroke-linejoin:miter;stroke-width:0.8;\"/>\n   </g>\n   <g id=\"patch_405\">\n    <path d=\"M 265.4155 696.382125 \nL 354.6955 696.382125 \n\" style=\"fill:none;stroke:#000000;stroke-linecap:square;stroke-linejoin:miter;stroke-width:0.8;\"/>\n   </g>\n   <g id=\"patch_406\">\n    <path d=\"M 265.4155 587.662125 \nL 354.6955 587.662125 \n\" style=\"fill:none;stroke:#000000;stroke-linecap:square;stroke-linejoin:miter;stroke-width:0.8;\"/>\n   </g>\n   <g id=\"text_206\">\n    <!-- STROKE -->\n    <g transform=\"translate(285.963625 581.662125)scale(0.12 -0.12)\">\n     <use xlink:href=\"#DejaVuSans-83\"/>\n     <use x=\"63.476562\" xlink:href=\"#DejaVuSans-84\"/>\n     <use x=\"124.560547\" xlink:href=\"#DejaVuSans-82\"/>\n     <use x=\"194.042969\" xlink:href=\"#DejaVuSans-79\"/>\n     <use x=\"272.753906\" xlink:href=\"#DejaVuSans-75\"/>\n     <use x=\"338.330078\" xlink:href=\"#DejaVuSans-69\"/>\n    </g>\n   </g>\n  </g>\n  <g id=\"axes_28\">\n   <g id=\"patch_407\">\n    <path d=\"M 381.4795 696.382125 \nL 470.7595 696.382125 \nL 470.7595 587.662125 \nL 381.4795 587.662125 \nz\n\" style=\"fill:#ffffff;\"/>\n   </g>\n   <g id=\"patch_408\">\n    <path clip-path=\"url(#p30efc6422a)\" d=\"M 385.537682 696.382125 \nL 393.654045 696.382125 \nL 393.654045 658.234757 \nL 385.537682 658.234757 \nz\n\" style=\"fill:#1f77b4;\"/>\n   </g>\n   <g id=\"patch_409\">\n    <path clip-path=\"url(#p30efc6422a)\" d=\"M 393.654045 696.382125 \nL 401.770409 696.382125 \nL 401.770409 614.637764 \nL 393.654045 614.637764 \nz\n\" style=\"fill:#1f77b4;\"/>\n   </g>\n   <g id=\"patch_410\">\n    <path clip-path=\"url(#p30efc6422a)\" d=\"M 401.770409 696.382125 \nL 409.886773 696.382125 \nL 409.886773 595.019117 \nL 401.770409 595.019117 \nz\n\" style=\"fill:#1f77b4;\"/>\n   </g>\n   <g id=\"patch_411\">\n    <path clip-path=\"url(#p30efc6422a)\" d=\"M 409.886773 696.382125 \nL 418.003136 696.382125 \nL 418.003136 592.839268 \nL 409.886773 592.839268 \nz\n\" style=\"fill:#1f77b4;\"/>\n   </g>\n   <g id=\"patch_412\">\n    <path clip-path=\"url(#p30efc6422a)\" d=\"M 418.003136 696.382125 \nL 426.1195 696.382125 \nL 426.1195 592.839268 \nL 418.003136 592.839268 \nz\n\" style=\"fill:#1f77b4;\"/>\n   </g>\n   <g id=\"patch_413\">\n    <path clip-path=\"url(#p30efc6422a)\" d=\"M 426.1195 696.382125 \nL 434.235864 696.382125 \nL 434.235864 633.166486 \nL 426.1195 633.166486 \nz\n\" style=\"fill:#1f77b4;\"/>\n   </g>\n   <g id=\"patch_414\">\n    <path clip-path=\"url(#p30efc6422a)\" d=\"M 434.235864 696.382125 \nL 442.352227 696.382125 \nL 442.352227 666.954155 \nL 434.235864 666.954155 \nz\n\" style=\"fill:#1f77b4;\"/>\n   </g>\n   <g id=\"patch_415\">\n    <path clip-path=\"url(#p30efc6422a)\" d=\"M 442.352227 696.382125 \nL 450.468591 696.382125 \nL 450.468591 685.482877 \nL 442.352227 685.482877 \nz\n\" style=\"fill:#1f77b4;\"/>\n   </g>\n   <g id=\"patch_416\">\n    <path clip-path=\"url(#p30efc6422a)\" d=\"M 450.468591 696.382125 \nL 458.584955 696.382125 \nL 458.584955 692.022426 \nL 450.468591 692.022426 \nz\n\" style=\"fill:#1f77b4;\"/>\n   </g>\n   <g id=\"patch_417\">\n    <path clip-path=\"url(#p30efc6422a)\" d=\"M 458.584955 696.382125 \nL 466.701318 696.382125 \nL 466.701318 690.932501 \nL 458.584955 690.932501 \nz\n\" style=\"fill:#1f77b4;\"/>\n   </g>\n   <g id=\"matplotlib.axis_55\">\n    <g id=\"xtick_61\">\n     <g id=\"line2d_359\">\n      <path clip-path=\"url(#p30efc6422a)\" d=\"M 400.708455 696.382125 \nL 400.708455 587.662125 \n\" style=\"fill:none;stroke:#b0b0b0;stroke-linecap:square;stroke-width:0.8;\"/>\n     </g>\n     <g id=\"line2d_360\">\n      <g>\n       <use style=\"stroke:#000000;stroke-width:0.8;\" x=\"400.708455\" xlink:href=\"#mc504cf78b3\" y=\"696.382125\"/>\n      </g>\n     </g>\n     <g id=\"text_207\">\n      <!-- 10 -->\n      <g transform=\"translate(394.345955 710.980562)scale(0.1 -0.1)\">\n       <use xlink:href=\"#DejaVuSans-49\"/>\n       <use x=\"63.623047\" xlink:href=\"#DejaVuSans-48\"/>\n      </g>\n     </g>\n    </g>\n    <g id=\"xtick_62\">\n     <g id=\"line2d_361\">\n      <path clip-path=\"url(#p30efc6422a)\" d=\"M 431.050001 696.382125 \nL 431.050001 587.662125 \n\" style=\"fill:none;stroke:#b0b0b0;stroke-linecap:square;stroke-width:0.8;\"/>\n     </g>\n     <g id=\"line2d_362\">\n      <g>\n       <use style=\"stroke:#000000;stroke-width:0.8;\" x=\"431.050001\" xlink:href=\"#mc504cf78b3\" y=\"696.382125\"/>\n      </g>\n     </g>\n     <g id=\"text_208\">\n      <!-- 20 -->\n      <g transform=\"translate(424.687501 710.980562)scale(0.1 -0.1)\">\n       <use xlink:href=\"#DejaVuSans-50\"/>\n       <use x=\"63.623047\" xlink:href=\"#DejaVuSans-48\"/>\n      </g>\n     </g>\n    </g>\n    <g id=\"xtick_63\">\n     <g id=\"line2d_363\">\n      <path clip-path=\"url(#p30efc6422a)\" d=\"M 461.391548 696.382125 \nL 461.391548 587.662125 \n\" style=\"fill:none;stroke:#b0b0b0;stroke-linecap:square;stroke-width:0.8;\"/>\n     </g>\n     <g id=\"line2d_364\">\n      <g>\n       <use style=\"stroke:#000000;stroke-width:0.8;\" x=\"461.391548\" xlink:href=\"#mc504cf78b3\" y=\"696.382125\"/>\n      </g>\n     </g>\n     <g id=\"text_209\">\n      <!-- 30 -->\n      <g transform=\"translate(455.029048 710.980562)scale(0.1 -0.1)\">\n       <use xlink:href=\"#DejaVuSans-51\"/>\n       <use x=\"63.623047\" xlink:href=\"#DejaVuSans-48\"/>\n      </g>\n     </g>\n    </g>\n   </g>\n   <g id=\"matplotlib.axis_56\">\n    <g id=\"ytick_120\">\n     <g id=\"line2d_365\">\n      <path clip-path=\"url(#p30efc6422a)\" d=\"M 381.4795 696.382125 \nL 470.7595 696.382125 \n\" style=\"fill:none;stroke:#b0b0b0;stroke-linecap:square;stroke-width:0.8;\"/>\n     </g>\n     <g id=\"line2d_366\">\n      <g>\n       <use style=\"stroke:#000000;stroke-width:0.8;\" x=\"381.4795\" xlink:href=\"#md3fd3d0ccc\" y=\"696.382125\"/>\n      </g>\n     </g>\n     <g id=\"text_210\">\n      <!-- 0 -->\n      <g transform=\"translate(368.117 700.181344)scale(0.1 -0.1)\">\n       <use xlink:href=\"#DejaVuSans-48\"/>\n      </g>\n     </g>\n    </g>\n    <g id=\"ytick_121\">\n     <g id=\"line2d_367\">\n      <path clip-path=\"url(#p30efc6422a)\" d=\"M 381.4795 674.583629 \nL 470.7595 674.583629 \n\" style=\"fill:none;stroke:#b0b0b0;stroke-linecap:square;stroke-width:0.8;\"/>\n     </g>\n     <g id=\"line2d_368\">\n      <g>\n       <use style=\"stroke:#000000;stroke-width:0.8;\" x=\"381.4795\" xlink:href=\"#md3fd3d0ccc\" y=\"674.583629\"/>\n      </g>\n     </g>\n     <g id=\"text_211\">\n      <!-- 20 -->\n      <g transform=\"translate(361.7545 678.382848)scale(0.1 -0.1)\">\n       <use xlink:href=\"#DejaVuSans-50\"/>\n       <use x=\"63.623047\" xlink:href=\"#DejaVuSans-48\"/>\n      </g>\n     </g>\n    </g>\n    <g id=\"ytick_122\">\n     <g id=\"line2d_369\">\n      <path clip-path=\"url(#p30efc6422a)\" d=\"M 381.4795 652.785133 \nL 470.7595 652.785133 \n\" style=\"fill:none;stroke:#b0b0b0;stroke-linecap:square;stroke-width:0.8;\"/>\n     </g>\n     <g id=\"line2d_370\">\n      <g>\n       <use style=\"stroke:#000000;stroke-width:0.8;\" x=\"381.4795\" xlink:href=\"#md3fd3d0ccc\" y=\"652.785133\"/>\n      </g>\n     </g>\n     <g id=\"text_212\">\n      <!-- 40 -->\n      <g transform=\"translate(361.7545 656.584351)scale(0.1 -0.1)\">\n       <use xlink:href=\"#DejaVuSans-52\"/>\n       <use x=\"63.623047\" xlink:href=\"#DejaVuSans-48\"/>\n      </g>\n     </g>\n    </g>\n    <g id=\"ytick_123\">\n     <g id=\"line2d_371\">\n      <path clip-path=\"url(#p30efc6422a)\" d=\"M 381.4795 630.986636 \nL 470.7595 630.986636 \n\" style=\"fill:none;stroke:#b0b0b0;stroke-linecap:square;stroke-width:0.8;\"/>\n     </g>\n     <g id=\"line2d_372\">\n      <g>\n       <use style=\"stroke:#000000;stroke-width:0.8;\" x=\"381.4795\" xlink:href=\"#md3fd3d0ccc\" y=\"630.986636\"/>\n      </g>\n     </g>\n     <g id=\"text_213\">\n      <!-- 60 -->\n      <g transform=\"translate(361.7545 634.785855)scale(0.1 -0.1)\">\n       <use xlink:href=\"#DejaVuSans-54\"/>\n       <use x=\"63.623047\" xlink:href=\"#DejaVuSans-48\"/>\n      </g>\n     </g>\n    </g>\n    <g id=\"ytick_124\">\n     <g id=\"line2d_373\">\n      <path clip-path=\"url(#p30efc6422a)\" d=\"M 381.4795 609.18814 \nL 470.7595 609.18814 \n\" style=\"fill:none;stroke:#b0b0b0;stroke-linecap:square;stroke-width:0.8;\"/>\n     </g>\n     <g id=\"line2d_374\">\n      <g>\n       <use style=\"stroke:#000000;stroke-width:0.8;\" x=\"381.4795\" xlink:href=\"#md3fd3d0ccc\" y=\"609.18814\"/>\n      </g>\n     </g>\n     <g id=\"text_214\">\n      <!-- 80 -->\n      <g transform=\"translate(361.7545 612.987359)scale(0.1 -0.1)\">\n       <use xlink:href=\"#DejaVuSans-56\"/>\n       <use x=\"63.623047\" xlink:href=\"#DejaVuSans-48\"/>\n      </g>\n     </g>\n    </g>\n   </g>\n   <g id=\"patch_418\">\n    <path d=\"M 381.4795 696.382125 \nL 381.4795 587.662125 \n\" style=\"fill:none;stroke:#000000;stroke-linecap:square;stroke-linejoin:miter;stroke-width:0.8;\"/>\n   </g>\n   <g id=\"patch_419\">\n    <path d=\"M 470.7595 696.382125 \nL 470.7595 587.662125 \n\" style=\"fill:none;stroke:#000000;stroke-linecap:square;stroke-linejoin:miter;stroke-width:0.8;\"/>\n   </g>\n   <g id=\"patch_420\">\n    <path d=\"M 381.4795 696.382125 \nL 470.7595 696.382125 \n\" style=\"fill:none;stroke:#000000;stroke-linecap:square;stroke-linejoin:miter;stroke-width:0.8;\"/>\n   </g>\n   <g id=\"patch_421\">\n    <path d=\"M 381.4795 587.662125 \nL 470.7595 587.662125 \n\" style=\"fill:none;stroke:#000000;stroke-linecap:square;stroke-linejoin:miter;stroke-width:0.8;\"/>\n   </g>\n   <g id=\"text_215\">\n    <!-- TEETHLOST -->\n    <g transform=\"translate(391.372938 581.662125)scale(0.12 -0.12)\">\n     <use xlink:href=\"#DejaVuSans-84\"/>\n     <use x=\"61.083984\" xlink:href=\"#DejaVuSans-69\"/>\n     <use x=\"124.267578\" xlink:href=\"#DejaVuSans-69\"/>\n     <use x=\"187.451172\" xlink:href=\"#DejaVuSans-84\"/>\n     <use x=\"248.535156\" xlink:href=\"#DejaVuSans-72\"/>\n     <use x=\"323.730469\" xlink:href=\"#DejaVuSans-76\"/>\n     <use x=\"375.818359\" xlink:href=\"#DejaVuSans-79\"/>\n     <use x=\"454.529297\" xlink:href=\"#DejaVuSans-83\"/>\n     <use x=\"518.005859\" xlink:href=\"#DejaVuSans-84\"/>\n    </g>\n   </g>\n  </g>\n  <g id=\"axes_29\">\n   <g id=\"patch_422\">\n    <path d=\"M 497.5435 696.382125 \nL 586.8235 696.382125 \nL 586.8235 587.662125 \nL 497.5435 587.662125 \nz\n\" style=\"fill:#ffffff;\"/>\n   </g>\n   <g id=\"patch_423\">\n    <path clip-path=\"url(#p27347f52fb)\" d=\"M 501.601682 696.382125 \nL 509.718045 696.382125 \nL 509.718045 592.839268 \nL 501.601682 592.839268 \nz\n\" style=\"fill:#1f77b4;\"/>\n   </g>\n   <g id=\"patch_424\">\n    <path clip-path=\"url(#p27347f52fb)\" d=\"M 509.718045 696.382125 \nL 517.834409 696.382125 \nL 517.834409 670.496411 \nL 509.718045 670.496411 \nz\n\" style=\"fill:#1f77b4;\"/>\n   </g>\n   <g id=\"patch_425\">\n    <path clip-path=\"url(#p27347f52fb)\" d=\"M 517.834409 696.382125 \nL 525.950773 696.382125 \nL 525.950773 692.20701 \nL 517.834409 692.20701 \nz\n\" style=\"fill:#1f77b4;\"/>\n   </g>\n   <g id=\"patch_426\">\n    <path clip-path=\"url(#p27347f52fb)\" d=\"M 525.950773 696.382125 \nL 534.067136 696.382125 \nL 534.067136 692.763692 \nL 525.950773 692.763692 \nz\n\" style=\"fill:#1f77b4;\"/>\n   </g>\n   <g id=\"patch_427\">\n    <path clip-path=\"url(#p27347f52fb)\" d=\"M 534.067136 696.382125 \nL 542.1835 696.382125 \nL 542.1835 696.103784 \nL 534.067136 696.103784 \nz\n\" style=\"fill:#1f77b4;\"/>\n   </g>\n   <g id=\"patch_428\">\n    <path clip-path=\"url(#p27347f52fb)\" d=\"M 542.1835 696.382125 \nL 550.299864 696.382125 \nL 550.299864 696.382125 \nL 542.1835 696.382125 \nz\n\" style=\"fill:#1f77b4;\"/>\n   </g>\n   <g id=\"patch_429\">\n    <path clip-path=\"url(#p27347f52fb)\" d=\"M 550.299864 696.382125 \nL 558.416227 696.382125 \nL 558.416227 695.825443 \nL 550.299864 695.825443 \nz\n\" style=\"fill:#1f77b4;\"/>\n   </g>\n   <g id=\"patch_430\">\n    <path clip-path=\"url(#p27347f52fb)\" d=\"M 558.416227 696.382125 \nL 566.532591 696.382125 \nL 566.532591 696.382125 \nL 558.416227 696.382125 \nz\n\" style=\"fill:#1f77b4;\"/>\n   </g>\n   <g id=\"patch_431\">\n    <path clip-path=\"url(#p27347f52fb)\" d=\"M 566.532591 696.382125 \nL 574.648955 696.382125 \nL 574.648955 696.382125 \nL 566.532591 696.382125 \nz\n\" style=\"fill:#1f77b4;\"/>\n   </g>\n   <g id=\"patch_432\">\n    <path clip-path=\"url(#p27347f52fb)\" d=\"M 574.648955 696.382125 \nL 582.765318 696.382125 \nL 582.765318 696.103784 \nL 574.648955 696.103784 \nz\n\" style=\"fill:#1f77b4;\"/>\n   </g>\n   <g id=\"matplotlib.axis_57\">\n    <g id=\"xtick_64\">\n     <g id=\"line2d_375\">\n      <path clip-path=\"url(#p27347f52fb)\" d=\"M 501.929083 696.382125 \nL 501.929083 587.662125 \n\" style=\"fill:none;stroke:#b0b0b0;stroke-linecap:square;stroke-width:0.8;\"/>\n     </g>\n     <g id=\"line2d_376\">\n      <g>\n       <use style=\"stroke:#000000;stroke-width:0.8;\" x=\"501.929083\" xlink:href=\"#mc504cf78b3\" y=\"696.382125\"/>\n      </g>\n     </g>\n     <g id=\"text_216\">\n      <!-- 0 -->\n      <g transform=\"translate(498.747833 710.980562)scale(0.1 -0.1)\">\n       <use xlink:href=\"#DejaVuSans-48\"/>\n      </g>\n     </g>\n    </g>\n    <g id=\"xtick_65\">\n     <g id=\"line2d_377\">\n      <path clip-path=\"url(#p27347f52fb)\" d=\"M 575.677839 696.382125 \nL 575.677839 587.662125 \n\" style=\"fill:none;stroke:#b0b0b0;stroke-linecap:square;stroke-width:0.8;\"/>\n     </g>\n     <g id=\"line2d_378\">\n      <g>\n       <use style=\"stroke:#000000;stroke-width:0.8;\" x=\"575.677839\" xlink:href=\"#mc504cf78b3\" y=\"696.382125\"/>\n      </g>\n     </g>\n     <g id=\"text_217\">\n      <!-- 10000 -->\n      <g transform=\"translate(559.771589 710.980562)scale(0.1 -0.1)\">\n       <use xlink:href=\"#DejaVuSans-49\"/>\n       <use x=\"63.623047\" xlink:href=\"#DejaVuSans-48\"/>\n       <use x=\"127.246094\" xlink:href=\"#DejaVuSans-48\"/>\n       <use x=\"190.869141\" xlink:href=\"#DejaVuSans-48\"/>\n       <use x=\"254.492188\" xlink:href=\"#DejaVuSans-48\"/>\n      </g>\n     </g>\n    </g>\n   </g>\n   <g id=\"matplotlib.axis_58\">\n    <g id=\"ytick_125\">\n     <g id=\"line2d_379\">\n      <path clip-path=\"url(#p27347f52fb)\" d=\"M 497.5435 696.382125 \nL 586.8235 696.382125 \n\" style=\"fill:none;stroke:#b0b0b0;stroke-linecap:square;stroke-width:0.8;\"/>\n     </g>\n     <g id=\"line2d_380\">\n      <g>\n       <use style=\"stroke:#000000;stroke-width:0.8;\" x=\"497.5435\" xlink:href=\"#md3fd3d0ccc\" y=\"696.382125\"/>\n      </g>\n     </g>\n     <g id=\"text_218\">\n      <!-- 0 -->\n      <g transform=\"translate(484.181 700.181344)scale(0.1 -0.1)\">\n       <use xlink:href=\"#DejaVuSans-48\"/>\n      </g>\n     </g>\n    </g>\n    <g id=\"ytick_126\">\n     <g id=\"line2d_381\">\n      <path clip-path=\"url(#p27347f52fb)\" d=\"M 497.5435 668.548024 \nL 586.8235 668.548024 \n\" style=\"fill:none;stroke:#b0b0b0;stroke-linecap:square;stroke-width:0.8;\"/>\n     </g>\n     <g id=\"line2d_382\">\n      <g>\n       <use style=\"stroke:#000000;stroke-width:0.8;\" x=\"497.5435\" xlink:href=\"#md3fd3d0ccc\" y=\"668.548024\"/>\n      </g>\n     </g>\n     <g id=\"text_219\">\n      <!-- 100 -->\n      <g transform=\"translate(471.456 672.347242)scale(0.1 -0.1)\">\n       <use xlink:href=\"#DejaVuSans-49\"/>\n       <use x=\"63.623047\" xlink:href=\"#DejaVuSans-48\"/>\n       <use x=\"127.246094\" xlink:href=\"#DejaVuSans-48\"/>\n      </g>\n     </g>\n    </g>\n    <g id=\"ytick_127\">\n     <g id=\"line2d_383\">\n      <path clip-path=\"url(#p27347f52fb)\" d=\"M 497.5435 640.713922 \nL 586.8235 640.713922 \n\" style=\"fill:none;stroke:#b0b0b0;stroke-linecap:square;stroke-width:0.8;\"/>\n     </g>\n     <g id=\"line2d_384\">\n      <g>\n       <use style=\"stroke:#000000;stroke-width:0.8;\" x=\"497.5435\" xlink:href=\"#md3fd3d0ccc\" y=\"640.713922\"/>\n      </g>\n     </g>\n     <g id=\"text_220\">\n      <!-- 200 -->\n      <g transform=\"translate(471.456 644.513141)scale(0.1 -0.1)\">\n       <use xlink:href=\"#DejaVuSans-50\"/>\n       <use x=\"63.623047\" xlink:href=\"#DejaVuSans-48\"/>\n       <use x=\"127.246094\" xlink:href=\"#DejaVuSans-48\"/>\n      </g>\n     </g>\n    </g>\n    <g id=\"ytick_128\">\n     <g id=\"line2d_385\">\n      <path clip-path=\"url(#p27347f52fb)\" d=\"M 497.5435 612.879821 \nL 586.8235 612.879821 \n\" style=\"fill:none;stroke:#b0b0b0;stroke-linecap:square;stroke-width:0.8;\"/>\n     </g>\n     <g id=\"line2d_386\">\n      <g>\n       <use style=\"stroke:#000000;stroke-width:0.8;\" x=\"497.5435\" xlink:href=\"#md3fd3d0ccc\" y=\"612.879821\"/>\n      </g>\n     </g>\n     <g id=\"text_221\">\n      <!-- 300 -->\n      <g transform=\"translate(471.456 616.67904)scale(0.1 -0.1)\">\n       <use xlink:href=\"#DejaVuSans-51\"/>\n       <use x=\"63.623047\" xlink:href=\"#DejaVuSans-48\"/>\n       <use x=\"127.246094\" xlink:href=\"#DejaVuSans-48\"/>\n      </g>\n     </g>\n    </g>\n   </g>\n   <g id=\"patch_433\">\n    <path d=\"M 497.5435 696.382125 \nL 497.5435 587.662125 \n\" style=\"fill:none;stroke:#000000;stroke-linecap:square;stroke-linejoin:miter;stroke-width:0.8;\"/>\n   </g>\n   <g id=\"patch_434\">\n    <path d=\"M 586.8235 696.382125 \nL 586.8235 587.662125 \n\" style=\"fill:none;stroke:#000000;stroke-linecap:square;stroke-linejoin:miter;stroke-width:0.8;\"/>\n   </g>\n   <g id=\"patch_435\">\n    <path d=\"M 497.5435 696.382125 \nL 586.8235 696.382125 \n\" style=\"fill:none;stroke:#000000;stroke-linecap:square;stroke-linejoin:miter;stroke-width:0.8;\"/>\n   </g>\n   <g id=\"patch_436\">\n    <path d=\"M 497.5435 587.662125 \nL 586.8235 587.662125 \n\" style=\"fill:none;stroke:#000000;stroke-linecap:square;stroke-linejoin:miter;stroke-width:0.8;\"/>\n   </g>\n   <g id=\"text_222\">\n    <!-- case14 -->\n    <defs>\n     <path d=\"M 48.78125 52.59375 \nL 48.78125 44.1875 \nQ 44.96875 46.296875 41.140625 47.34375 \nQ 37.3125 48.390625 33.40625 48.390625 \nQ 24.65625 48.390625 19.8125 42.84375 \nQ 14.984375 37.3125 14.984375 27.296875 \nQ 14.984375 17.28125 19.8125 11.734375 \nQ 24.65625 6.203125 33.40625 6.203125 \nQ 37.3125 6.203125 41.140625 7.25 \nQ 44.96875 8.296875 48.78125 10.40625 \nL 48.78125 2.09375 \nQ 45.015625 0.34375 40.984375 -0.53125 \nQ 36.96875 -1.421875 32.421875 -1.421875 \nQ 20.0625 -1.421875 12.78125 6.34375 \nQ 5.515625 14.109375 5.515625 27.296875 \nQ 5.515625 40.671875 12.859375 48.328125 \nQ 20.21875 56 33.015625 56 \nQ 37.15625 56 41.109375 55.140625 \nQ 45.0625 54.296875 48.78125 52.59375 \nz\n\" id=\"DejaVuSans-99\"/>\n     <path d=\"M 34.28125 27.484375 \nQ 23.390625 27.484375 19.1875 25 \nQ 14.984375 22.515625 14.984375 16.5 \nQ 14.984375 11.71875 18.140625 8.90625 \nQ 21.296875 6.109375 26.703125 6.109375 \nQ 34.1875 6.109375 38.703125 11.40625 \nQ 43.21875 16.703125 43.21875 25.484375 \nL 43.21875 27.484375 \nz\nM 52.203125 31.203125 \nL 52.203125 0 \nL 43.21875 0 \nL 43.21875 8.296875 \nQ 40.140625 3.328125 35.546875 0.953125 \nQ 30.953125 -1.421875 24.3125 -1.421875 \nQ 15.921875 -1.421875 10.953125 3.296875 \nQ 6 8.015625 6 15.921875 \nQ 6 25.140625 12.171875 29.828125 \nQ 18.359375 34.515625 30.609375 34.515625 \nL 43.21875 34.515625 \nL 43.21875 35.40625 \nQ 43.21875 41.609375 39.140625 45 \nQ 35.0625 48.390625 27.6875 48.390625 \nQ 23 48.390625 18.546875 47.265625 \nQ 14.109375 46.140625 10.015625 43.890625 \nL 10.015625 52.203125 \nQ 14.9375 54.109375 19.578125 55.046875 \nQ 24.21875 56 28.609375 56 \nQ 40.484375 56 46.34375 49.84375 \nQ 52.203125 43.703125 52.203125 31.203125 \nz\n\" id=\"DejaVuSans-97\"/>\n     <path d=\"M 44.28125 53.078125 \nL 44.28125 44.578125 \nQ 40.484375 46.53125 36.375 47.5 \nQ 32.28125 48.484375 27.875 48.484375 \nQ 21.1875 48.484375 17.84375 46.4375 \nQ 14.5 44.390625 14.5 40.28125 \nQ 14.5 37.15625 16.890625 35.375 \nQ 19.28125 33.59375 26.515625 31.984375 \nL 29.59375 31.296875 \nQ 39.15625 29.25 43.1875 25.515625 \nQ 47.21875 21.78125 47.21875 15.09375 \nQ 47.21875 7.46875 41.1875 3.015625 \nQ 35.15625 -1.421875 24.609375 -1.421875 \nQ 20.21875 -1.421875 15.453125 -0.5625 \nQ 10.6875 0.296875 5.421875 2 \nL 5.421875 11.28125 \nQ 10.40625 8.6875 15.234375 7.390625 \nQ 20.0625 6.109375 24.8125 6.109375 \nQ 31.15625 6.109375 34.5625 8.28125 \nQ 37.984375 10.453125 37.984375 14.40625 \nQ 37.984375 18.0625 35.515625 20.015625 \nQ 33.0625 21.96875 24.703125 23.78125 \nL 21.578125 24.515625 \nQ 13.234375 26.265625 9.515625 29.90625 \nQ 5.8125 33.546875 5.8125 39.890625 \nQ 5.8125 47.609375 11.28125 51.796875 \nQ 16.75 56 26.8125 56 \nQ 31.78125 56 36.171875 55.265625 \nQ 40.578125 54.546875 44.28125 53.078125 \nz\n\" id=\"DejaVuSans-115\"/>\n     <path d=\"M 56.203125 29.59375 \nL 56.203125 25.203125 \nL 14.890625 25.203125 \nQ 15.484375 15.921875 20.484375 11.0625 \nQ 25.484375 6.203125 34.421875 6.203125 \nQ 39.59375 6.203125 44.453125 7.46875 \nQ 49.3125 8.734375 54.109375 11.28125 \nL 54.109375 2.78125 \nQ 49.265625 0.734375 44.1875 -0.34375 \nQ 39.109375 -1.421875 33.890625 -1.421875 \nQ 20.796875 -1.421875 13.15625 6.1875 \nQ 5.515625 13.8125 5.515625 26.8125 \nQ 5.515625 40.234375 12.765625 48.109375 \nQ 20.015625 56 32.328125 56 \nQ 43.359375 56 49.78125 48.890625 \nQ 56.203125 41.796875 56.203125 29.59375 \nz\nM 47.21875 32.234375 \nQ 47.125 39.59375 43.09375 43.984375 \nQ 39.0625 48.390625 32.421875 48.390625 \nQ 24.90625 48.390625 20.390625 44.140625 \nQ 15.875 39.890625 15.1875 32.171875 \nz\n\" id=\"DejaVuSans-101\"/>\n    </defs>\n    <g transform=\"translate(520.755063 581.662125)scale(0.12 -0.12)\">\n     <use xlink:href=\"#DejaVuSans-99\"/>\n     <use x=\"54.980469\" xlink:href=\"#DejaVuSans-97\"/>\n     <use x=\"116.259766\" xlink:href=\"#DejaVuSans-115\"/>\n     <use x=\"168.359375\" xlink:href=\"#DejaVuSans-101\"/>\n     <use x=\"229.882812\" xlink:href=\"#DejaVuSans-49\"/>\n     <use x=\"293.505859\" xlink:href=\"#DejaVuSans-52\"/>\n    </g>\n   </g>\n  </g>\n  <g id=\"axes_30\">\n   <g id=\"patch_437\">\n    <path d=\"M 613.6075 696.382125 \nL 702.8875 696.382125 \nL 702.8875 587.662125 \nL 613.6075 587.662125 \nz\n\" style=\"fill:#ffffff;\"/>\n   </g>\n   <g id=\"patch_438\">\n    <path clip-path=\"url(#p8a3af7261f)\" d=\"M 617.665682 696.382125 \nL 625.782045 696.382125 \nL 625.782045 592.839268 \nL 617.665682 592.839268 \nz\n\" style=\"fill:#1f77b4;\"/>\n   </g>\n   <g id=\"patch_439\">\n    <path clip-path=\"url(#p8a3af7261f)\" d=\"M 625.782045 696.382125 \nL 633.898409 696.382125 \nL 633.898409 683.406166 \nL 625.782045 683.406166 \nz\n\" style=\"fill:#1f77b4;\"/>\n   </g>\n   <g id=\"patch_440\">\n    <path clip-path=\"url(#p8a3af7261f)\" d=\"M 633.898409 696.382125 \nL 642.014773 696.382125 \nL 642.014773 689.496922 \nL 633.898409 689.496922 \nz\n\" style=\"fill:#1f77b4;\"/>\n   </g>\n   <g id=\"patch_441\">\n    <path clip-path=\"url(#p8a3af7261f)\" d=\"M 642.014773 696.382125 \nL 650.131136 696.382125 \nL 650.131136 693.73397 \nL 642.014773 693.73397 \nz\n\" style=\"fill:#1f77b4;\"/>\n   </g>\n   <g id=\"patch_442\">\n    <path clip-path=\"url(#p8a3af7261f)\" d=\"M 650.131136 696.382125 \nL 658.2475 696.382125 \nL 658.2475 694.528417 \nL 650.131136 694.528417 \nz\n\" style=\"fill:#1f77b4;\"/>\n   </g>\n   <g id=\"patch_443\">\n    <path clip-path=\"url(#p8a3af7261f)\" d=\"M 658.2475 696.382125 \nL 666.363864 696.382125 \nL 666.363864 695.322863 \nL 658.2475 695.322863 \nz\n\" style=\"fill:#1f77b4;\"/>\n   </g>\n   <g id=\"patch_444\">\n    <path clip-path=\"url(#p8a3af7261f)\" d=\"M 666.363864 696.382125 \nL 674.480227 696.382125 \nL 674.480227 696.11731 \nL 666.363864 696.11731 \nz\n\" style=\"fill:#1f77b4;\"/>\n   </g>\n   <g id=\"patch_445\">\n    <path clip-path=\"url(#p8a3af7261f)\" d=\"M 674.480227 696.382125 \nL 682.596591 696.382125 \nL 682.596591 694.528417 \nL 674.480227 694.528417 \nz\n\" style=\"fill:#1f77b4;\"/>\n   </g>\n   <g id=\"patch_446\">\n    <path clip-path=\"url(#p8a3af7261f)\" d=\"M 682.596591 696.382125 \nL 690.712955 696.382125 \nL 690.712955 696.11731 \nL 682.596591 696.11731 \nz\n\" style=\"fill:#1f77b4;\"/>\n   </g>\n   <g id=\"patch_447\">\n    <path clip-path=\"url(#p8a3af7261f)\" d=\"M 690.712955 696.382125 \nL 698.829318 696.382125 \nL 698.829318 696.11731 \nL 690.712955 696.11731 \nz\n\" style=\"fill:#1f77b4;\"/>\n   </g>\n   <g id=\"matplotlib.axis_59\">\n    <g id=\"xtick_66\">\n     <g id=\"line2d_387\">\n      <path clip-path=\"url(#p8a3af7261f)\" d=\"M 617.224592 696.382125 \nL 617.224592 587.662125 \n\" style=\"fill:none;stroke:#b0b0b0;stroke-linecap:square;stroke-width:0.8;\"/>\n     </g>\n     <g id=\"line2d_388\">\n      <g>\n       <use style=\"stroke:#000000;stroke-width:0.8;\" x=\"617.224592\" xlink:href=\"#mc504cf78b3\" y=\"696.382125\"/>\n      </g>\n     </g>\n     <g id=\"text_223\">\n      <!-- 0 -->\n      <g transform=\"translate(614.043342 710.980562)scale(0.1 -0.1)\">\n       <use xlink:href=\"#DejaVuSans-48\"/>\n      </g>\n     </g>\n    </g>\n    <g id=\"xtick_67\">\n     <g id=\"line2d_389\">\n      <path clip-path=\"url(#p8a3af7261f)\" d=\"M 691.947832 696.382125 \nL 691.947832 587.662125 \n\" style=\"fill:none;stroke:#b0b0b0;stroke-linecap:square;stroke-width:0.8;\"/>\n     </g>\n     <g id=\"line2d_390\">\n      <g>\n       <use style=\"stroke:#000000;stroke-width:0.8;\" x=\"691.947832\" xlink:href=\"#mc504cf78b3\" y=\"696.382125\"/>\n      </g>\n     </g>\n     <g id=\"text_224\">\n      <!-- 50000 -->\n      <g transform=\"translate(676.041582 710.980562)scale(0.1 -0.1)\">\n       <use xlink:href=\"#DejaVuSans-53\"/>\n       <use x=\"63.623047\" xlink:href=\"#DejaVuSans-48\"/>\n       <use x=\"127.246094\" xlink:href=\"#DejaVuSans-48\"/>\n       <use x=\"190.869141\" xlink:href=\"#DejaVuSans-48\"/>\n       <use x=\"254.492188\" xlink:href=\"#DejaVuSans-48\"/>\n      </g>\n     </g>\n    </g>\n   </g>\n   <g id=\"matplotlib.axis_60\">\n    <g id=\"ytick_129\">\n     <g id=\"line2d_391\">\n      <path clip-path=\"url(#p8a3af7261f)\" d=\"M 613.6075 696.382125 \nL 702.8875 696.382125 \n\" style=\"fill:none;stroke:#b0b0b0;stroke-linecap:square;stroke-width:0.8;\"/>\n     </g>\n     <g id=\"line2d_392\">\n      <g>\n       <use style=\"stroke:#000000;stroke-width:0.8;\" x=\"613.6075\" xlink:href=\"#md3fd3d0ccc\" y=\"696.382125\"/>\n      </g>\n     </g>\n     <g id=\"text_225\">\n      <!-- 0 -->\n      <g transform=\"translate(600.245 700.181344)scale(0.1 -0.1)\">\n       <use xlink:href=\"#DejaVuSans-48\"/>\n      </g>\n     </g>\n    </g>\n    <g id=\"ytick_130\">\n     <g id=\"line2d_393\">\n      <path clip-path=\"url(#p8a3af7261f)\" d=\"M 613.6075 669.900576 \nL 702.8875 669.900576 \n\" style=\"fill:none;stroke:#b0b0b0;stroke-linecap:square;stroke-width:0.8;\"/>\n     </g>\n     <g id=\"line2d_394\">\n      <g>\n       <use style=\"stroke:#000000;stroke-width:0.8;\" x=\"613.6075\" xlink:href=\"#md3fd3d0ccc\" y=\"669.900576\"/>\n      </g>\n     </g>\n     <g id=\"text_226\">\n      <!-- 100 -->\n      <g transform=\"translate(587.52 673.699795)scale(0.1 -0.1)\">\n       <use xlink:href=\"#DejaVuSans-49\"/>\n       <use x=\"63.623047\" xlink:href=\"#DejaVuSans-48\"/>\n       <use x=\"127.246094\" xlink:href=\"#DejaVuSans-48\"/>\n      </g>\n     </g>\n    </g>\n    <g id=\"ytick_131\">\n     <g id=\"line2d_395\">\n      <path clip-path=\"url(#p8a3af7261f)\" d=\"M 613.6075 643.419027 \nL 702.8875 643.419027 \n\" style=\"fill:none;stroke:#b0b0b0;stroke-linecap:square;stroke-width:0.8;\"/>\n     </g>\n     <g id=\"line2d_396\">\n      <g>\n       <use style=\"stroke:#000000;stroke-width:0.8;\" x=\"613.6075\" xlink:href=\"#md3fd3d0ccc\" y=\"643.419027\"/>\n      </g>\n     </g>\n     <g id=\"text_227\">\n      <!-- 200 -->\n      <g transform=\"translate(587.52 647.218245)scale(0.1 -0.1)\">\n       <use xlink:href=\"#DejaVuSans-50\"/>\n       <use x=\"63.623047\" xlink:href=\"#DejaVuSans-48\"/>\n       <use x=\"127.246094\" xlink:href=\"#DejaVuSans-48\"/>\n      </g>\n     </g>\n    </g>\n    <g id=\"ytick_132\">\n     <g id=\"line2d_397\">\n      <path clip-path=\"url(#p8a3af7261f)\" d=\"M 613.6075 616.937478 \nL 702.8875 616.937478 \n\" style=\"fill:none;stroke:#b0b0b0;stroke-linecap:square;stroke-width:0.8;\"/>\n     </g>\n     <g id=\"line2d_398\">\n      <g>\n       <use style=\"stroke:#000000;stroke-width:0.8;\" x=\"613.6075\" xlink:href=\"#md3fd3d0ccc\" y=\"616.937478\"/>\n      </g>\n     </g>\n     <g id=\"text_228\">\n      <!-- 300 -->\n      <g transform=\"translate(587.52 620.736696)scale(0.1 -0.1)\">\n       <use xlink:href=\"#DejaVuSans-51\"/>\n       <use x=\"63.623047\" xlink:href=\"#DejaVuSans-48\"/>\n       <use x=\"127.246094\" xlink:href=\"#DejaVuSans-48\"/>\n      </g>\n     </g>\n    </g>\n    <g id=\"ytick_133\">\n     <g id=\"line2d_399\">\n      <path clip-path=\"url(#p8a3af7261f)\" d=\"M 613.6075 590.455928 \nL 702.8875 590.455928 \n\" style=\"fill:none;stroke:#b0b0b0;stroke-linecap:square;stroke-width:0.8;\"/>\n     </g>\n     <g id=\"line2d_400\">\n      <g>\n       <use style=\"stroke:#000000;stroke-width:0.8;\" x=\"613.6075\" xlink:href=\"#md3fd3d0ccc\" y=\"590.455928\"/>\n      </g>\n     </g>\n     <g id=\"text_229\">\n      <!-- 400 -->\n      <g transform=\"translate(587.52 594.255147)scale(0.1 -0.1)\">\n       <use xlink:href=\"#DejaVuSans-52\"/>\n       <use x=\"63.623047\" xlink:href=\"#DejaVuSans-48\"/>\n       <use x=\"127.246094\" xlink:href=\"#DejaVuSans-48\"/>\n      </g>\n     </g>\n    </g>\n   </g>\n   <g id=\"patch_448\">\n    <path d=\"M 613.6075 696.382125 \nL 613.6075 587.662125 \n\" style=\"fill:none;stroke:#000000;stroke-linecap:square;stroke-linejoin:miter;stroke-width:0.8;\"/>\n   </g>\n   <g id=\"patch_449\">\n    <path d=\"M 702.8875 696.382125 \nL 702.8875 587.662125 \n\" style=\"fill:none;stroke:#000000;stroke-linecap:square;stroke-linejoin:miter;stroke-width:0.8;\"/>\n   </g>\n   <g id=\"patch_450\">\n    <path d=\"M 613.6075 696.382125 \nL 702.8875 696.382125 \n\" style=\"fill:none;stroke:#000000;stroke-linecap:square;stroke-linejoin:miter;stroke-width:0.8;\"/>\n   </g>\n   <g id=\"patch_451\">\n    <path d=\"M 613.6075 587.662125 \nL 702.8875 587.662125 \n\" style=\"fill:none;stroke:#000000;stroke-linecap:square;stroke-linejoin:miter;stroke-width:0.8;\"/>\n   </g>\n   <g id=\"text_230\">\n    <!-- case1m -->\n    <defs>\n     <path d=\"M 52 44.1875 \nQ 55.375 50.25 60.0625 53.125 \nQ 64.75 56 71.09375 56 \nQ 79.640625 56 84.28125 50.015625 \nQ 88.921875 44.046875 88.921875 33.015625 \nL 88.921875 0 \nL 79.890625 0 \nL 79.890625 32.71875 \nQ 79.890625 40.578125 77.09375 44.375 \nQ 74.3125 48.1875 68.609375 48.1875 \nQ 61.625 48.1875 57.5625 43.546875 \nQ 53.515625 38.921875 53.515625 30.90625 \nL 53.515625 0 \nL 44.484375 0 \nL 44.484375 32.71875 \nQ 44.484375 40.625 41.703125 44.40625 \nQ 38.921875 48.1875 33.109375 48.1875 \nQ 26.21875 48.1875 22.15625 43.53125 \nQ 18.109375 38.875 18.109375 30.90625 \nL 18.109375 0 \nL 9.078125 0 \nL 9.078125 54.6875 \nL 18.109375 54.6875 \nL 18.109375 46.1875 \nQ 21.1875 51.21875 25.484375 53.609375 \nQ 29.78125 56 35.6875 56 \nQ 41.65625 56 45.828125 52.96875 \nQ 50 49.953125 52 44.1875 \nz\n\" id=\"DejaVuSans-109\"/>\n    </defs>\n    <g transform=\"translate(634.792188 581.662125)scale(0.12 -0.12)\">\n     <use xlink:href=\"#DejaVuSans-99\"/>\n     <use x=\"54.980469\" xlink:href=\"#DejaVuSans-97\"/>\n     <use x=\"116.259766\" xlink:href=\"#DejaVuSans-115\"/>\n     <use x=\"168.359375\" xlink:href=\"#DejaVuSans-101\"/>\n     <use x=\"229.882812\" xlink:href=\"#DejaVuSans-49\"/>\n     <use x=\"293.505859\" xlink:href=\"#DejaVuSans-109\"/>\n    </g>\n   </g>\n  </g>\n  <g id=\"axes_31\">\n   <g id=\"patch_452\">\n    <path d=\"M 33.2875 837.718125 \nL 122.5675 837.718125 \nL 122.5675 728.998125 \nL 33.2875 728.998125 \nz\n\" style=\"fill:#ffffff;\"/>\n   </g>\n   <g id=\"patch_453\">\n    <path clip-path=\"url(#p5008a82b8f)\" d=\"M 37.345682 837.718125 \nL 45.462045 837.718125 \nL 45.462045 734.175268 \nL 37.345682 734.175268 \nz\n\" style=\"fill:#1f77b4;\"/>\n   </g>\n   <g id=\"patch_454\">\n    <path clip-path=\"url(#p5008a82b8f)\" d=\"M 45.462045 837.718125 \nL 53.578409 837.718125 \nL 53.578409 808.237173 \nL 45.462045 808.237173 \nz\n\" style=\"fill:#1f77b4;\"/>\n   </g>\n   <g id=\"patch_455\">\n    <path clip-path=\"url(#p5008a82b8f)\" d=\"M 53.578409 837.718125 \nL 61.694773 837.718125 \nL 61.694773 803.203839 \nL 53.578409 803.203839 \nz\n\" style=\"fill:#1f77b4;\"/>\n   </g>\n   <g id=\"patch_456\">\n    <path clip-path=\"url(#p5008a82b8f)\" d=\"M 61.694773 837.718125 \nL 69.811136 837.718125 \nL 69.811136 814.708601 \nL 61.694773 814.708601 \nz\n\" style=\"fill:#1f77b4;\"/>\n   </g>\n   <g id=\"patch_457\">\n    <path clip-path=\"url(#p5008a82b8f)\" d=\"M 69.811136 837.718125 \nL 77.9275 837.718125 \nL 77.9275 809.675268 \nL 69.811136 809.675268 \nz\n\" style=\"fill:#1f77b4;\"/>\n   </g>\n   <g id=\"patch_458\">\n    <path clip-path=\"url(#p5008a82b8f)\" d=\"M 77.9275 837.718125 \nL 86.043864 837.718125 \nL 86.043864 817.584792 \nL 77.9275 817.584792 \nz\n\" style=\"fill:#1f77b4;\"/>\n   </g>\n   <g id=\"patch_459\">\n    <path clip-path=\"url(#p5008a82b8f)\" d=\"M 86.043864 837.718125 \nL 94.160227 837.718125 \nL 94.160227 811.832411 \nL 86.043864 811.832411 \nz\n\" style=\"fill:#1f77b4;\"/>\n   </g>\n   <g id=\"patch_460\">\n    <path clip-path=\"url(#p5008a82b8f)\" d=\"M 94.160227 837.718125 \nL 102.276591 837.718125 \nL 102.276591 817.584792 \nL 94.160227 817.584792 \nz\n\" style=\"fill:#1f77b4;\"/>\n   </g>\n   <g id=\"patch_461\">\n    <path clip-path=\"url(#p5008a82b8f)\" d=\"M 102.276591 837.718125 \nL 110.392955 837.718125 \nL 110.392955 789.541935 \nL 102.276591 789.541935 \nz\n\" style=\"fill:#1f77b4;\"/>\n   </g>\n   <g id=\"patch_462\">\n    <path clip-path=\"url(#p5008a82b8f)\" d=\"M 110.392955 837.718125 \nL 118.509318 837.718125 \nL 118.509318 813.270506 \nL 110.392955 813.270506 \nz\n\" style=\"fill:#1f77b4;\"/>\n   </g>\n   <g id=\"matplotlib.axis_61\">\n    <g id=\"xtick_68\">\n     <g id=\"line2d_401\">\n      <path clip-path=\"url(#p5008a82b8f)\" d=\"M 35.760755 837.718125 \nL 35.760755 728.998125 \n\" style=\"fill:none;stroke:#b0b0b0;stroke-linecap:square;stroke-width:0.8;\"/>\n     </g>\n     <g id=\"line2d_402\">\n      <g>\n       <use style=\"stroke:#000000;stroke-width:0.8;\" x=\"35.760755\" xlink:href=\"#mc504cf78b3\" y=\"837.718125\"/>\n      </g>\n     </g>\n     <g id=\"text_231\">\n      <!-- 0 -->\n      <g transform=\"translate(32.579505 852.316562)scale(0.1 -0.1)\">\n       <use xlink:href=\"#DejaVuSans-48\"/>\n      </g>\n     </g>\n    </g>\n    <g id=\"xtick_69\">\n     <g id=\"line2d_403\">\n      <path clip-path=\"url(#p5008a82b8f)\" d=\"M 109.615705 837.718125 \nL 109.615705 728.998125 \n\" style=\"fill:none;stroke:#b0b0b0;stroke-linecap:square;stroke-width:0.8;\"/>\n     </g>\n     <g id=\"line2d_404\">\n      <g>\n       <use style=\"stroke:#000000;stroke-width:0.8;\" x=\"109.615705\" xlink:href=\"#mc504cf78b3\" y=\"837.718125\"/>\n      </g>\n     </g>\n     <g id=\"text_232\">\n      <!-- 50000 -->\n      <g transform=\"translate(93.709455 852.316562)scale(0.1 -0.1)\">\n       <use xlink:href=\"#DejaVuSans-53\"/>\n       <use x=\"63.623047\" xlink:href=\"#DejaVuSans-48\"/>\n       <use x=\"127.246094\" xlink:href=\"#DejaVuSans-48\"/>\n       <use x=\"190.869141\" xlink:href=\"#DejaVuSans-48\"/>\n       <use x=\"254.492188\" xlink:href=\"#DejaVuSans-48\"/>\n      </g>\n     </g>\n    </g>\n   </g>\n   <g id=\"matplotlib.axis_62\">\n    <g id=\"ytick_134\">\n     <g id=\"line2d_405\">\n      <path clip-path=\"url(#p5008a82b8f)\" d=\"M 33.2875 837.718125 \nL 122.5675 837.718125 \n\" style=\"fill:none;stroke:#b0b0b0;stroke-linecap:square;stroke-width:0.8;\"/>\n     </g>\n     <g id=\"line2d_406\">\n      <g>\n       <use style=\"stroke:#000000;stroke-width:0.8;\" x=\"33.2875\" xlink:href=\"#md3fd3d0ccc\" y=\"837.718125\"/>\n      </g>\n     </g>\n     <g id=\"text_233\">\n      <!-- 0 -->\n      <g transform=\"translate(19.925 841.517344)scale(0.1 -0.1)\">\n       <use xlink:href=\"#DejaVuSans-48\"/>\n      </g>\n     </g>\n    </g>\n    <g id=\"ytick_135\">\n     <g id=\"line2d_407\">\n      <path clip-path=\"url(#p5008a82b8f)\" d=\"M 33.2875 801.765744 \nL 122.5675 801.765744 \n\" style=\"fill:none;stroke:#b0b0b0;stroke-linecap:square;stroke-width:0.8;\"/>\n     </g>\n     <g id=\"line2d_408\">\n      <g>\n       <use style=\"stroke:#000000;stroke-width:0.8;\" x=\"33.2875\" xlink:href=\"#md3fd3d0ccc\" y=\"801.765744\"/>\n      </g>\n     </g>\n     <g id=\"text_234\">\n      <!-- 50 -->\n      <g transform=\"translate(13.5625 805.564963)scale(0.1 -0.1)\">\n       <use xlink:href=\"#DejaVuSans-53\"/>\n       <use x=\"63.623047\" xlink:href=\"#DejaVuSans-48\"/>\n      </g>\n     </g>\n    </g>\n    <g id=\"ytick_136\">\n     <g id=\"line2d_409\">\n      <path clip-path=\"url(#p5008a82b8f)\" d=\"M 33.2875 765.813363 \nL 122.5675 765.813363 \n\" style=\"fill:none;stroke:#b0b0b0;stroke-linecap:square;stroke-width:0.8;\"/>\n     </g>\n     <g id=\"line2d_410\">\n      <g>\n       <use style=\"stroke:#000000;stroke-width:0.8;\" x=\"33.2875\" xlink:href=\"#md3fd3d0ccc\" y=\"765.813363\"/>\n      </g>\n     </g>\n     <g id=\"text_235\">\n      <!-- 100 -->\n      <g transform=\"translate(7.2 769.612582)scale(0.1 -0.1)\">\n       <use xlink:href=\"#DejaVuSans-49\"/>\n       <use x=\"63.623047\" xlink:href=\"#DejaVuSans-48\"/>\n       <use x=\"127.246094\" xlink:href=\"#DejaVuSans-48\"/>\n      </g>\n     </g>\n    </g>\n    <g id=\"ytick_137\">\n     <g id=\"line2d_411\">\n      <path clip-path=\"url(#p5008a82b8f)\" d=\"M 33.2875 729.860982 \nL 122.5675 729.860982 \n\" style=\"fill:none;stroke:#b0b0b0;stroke-linecap:square;stroke-width:0.8;\"/>\n     </g>\n     <g id=\"line2d_412\">\n      <g>\n       <use style=\"stroke:#000000;stroke-width:0.8;\" x=\"33.2875\" xlink:href=\"#md3fd3d0ccc\" y=\"729.860982\"/>\n      </g>\n     </g>\n     <g id=\"text_236\">\n      <!-- 150 -->\n      <g transform=\"translate(7.2 733.660201)scale(0.1 -0.1)\">\n       <use xlink:href=\"#DejaVuSans-49\"/>\n       <use x=\"63.623047\" xlink:href=\"#DejaVuSans-53\"/>\n       <use x=\"127.246094\" xlink:href=\"#DejaVuSans-48\"/>\n      </g>\n     </g>\n    </g>\n   </g>\n   <g id=\"patch_463\">\n    <path d=\"M 33.2875 837.718125 \nL 33.2875 728.998125 \n\" style=\"fill:none;stroke:#000000;stroke-linecap:square;stroke-linejoin:miter;stroke-width:0.8;\"/>\n   </g>\n   <g id=\"patch_464\">\n    <path d=\"M 122.5675 837.718125 \nL 122.5675 728.998125 \n\" style=\"fill:none;stroke:#000000;stroke-linecap:square;stroke-linejoin:miter;stroke-width:0.8;\"/>\n   </g>\n   <g id=\"patch_465\">\n    <path d=\"M 33.2875 837.718125 \nL 122.5675 837.718125 \n\" style=\"fill:none;stroke:#000000;stroke-linecap:square;stroke-linejoin:miter;stroke-width:0.8;\"/>\n   </g>\n   <g id=\"patch_466\">\n    <path d=\"M 33.2875 728.998125 \nL 122.5675 728.998125 \n\" style=\"fill:none;stroke:#000000;stroke-linecap:square;stroke-linejoin:miter;stroke-width:0.8;\"/>\n   </g>\n   <g id=\"text_237\">\n    <!-- county_fips_number -->\n    <defs>\n     <path d=\"M 30.609375 48.390625 \nQ 23.390625 48.390625 19.1875 42.75 \nQ 14.984375 37.109375 14.984375 27.296875 \nQ 14.984375 17.484375 19.15625 11.84375 \nQ 23.34375 6.203125 30.609375 6.203125 \nQ 37.796875 6.203125 41.984375 11.859375 \nQ 46.1875 17.53125 46.1875 27.296875 \nQ 46.1875 37.015625 41.984375 42.703125 \nQ 37.796875 48.390625 30.609375 48.390625 \nz\nM 30.609375 56 \nQ 42.328125 56 49.015625 48.375 \nQ 55.71875 40.765625 55.71875 27.296875 \nQ 55.71875 13.875 49.015625 6.21875 \nQ 42.328125 -1.421875 30.609375 -1.421875 \nQ 18.84375 -1.421875 12.171875 6.21875 \nQ 5.515625 13.875 5.515625 27.296875 \nQ 5.515625 40.765625 12.171875 48.375 \nQ 18.84375 56 30.609375 56 \nz\n\" id=\"DejaVuSans-111\"/>\n     <path d=\"M 8.5 21.578125 \nL 8.5 54.6875 \nL 17.484375 54.6875 \nL 17.484375 21.921875 \nQ 17.484375 14.15625 20.5 10.265625 \nQ 23.53125 6.390625 29.59375 6.390625 \nQ 36.859375 6.390625 41.078125 11.03125 \nQ 45.3125 15.671875 45.3125 23.6875 \nL 45.3125 54.6875 \nL 54.296875 54.6875 \nL 54.296875 0 \nL 45.3125 0 \nL 45.3125 8.40625 \nQ 42.046875 3.421875 37.71875 1 \nQ 33.40625 -1.421875 27.6875 -1.421875 \nQ 18.265625 -1.421875 13.375 4.4375 \nQ 8.5 10.296875 8.5 21.578125 \nz\nM 31.109375 56 \nz\n\" id=\"DejaVuSans-117\"/>\n     <path d=\"M 54.890625 33.015625 \nL 54.890625 0 \nL 45.90625 0 \nL 45.90625 32.71875 \nQ 45.90625 40.484375 42.875 44.328125 \nQ 39.84375 48.1875 33.796875 48.1875 \nQ 26.515625 48.1875 22.3125 43.546875 \nQ 18.109375 38.921875 18.109375 30.90625 \nL 18.109375 0 \nL 9.078125 0 \nL 9.078125 54.6875 \nL 18.109375 54.6875 \nL 18.109375 46.1875 \nQ 21.34375 51.125 25.703125 53.5625 \nQ 30.078125 56 35.796875 56 \nQ 45.21875 56 50.046875 50.171875 \nQ 54.890625 44.34375 54.890625 33.015625 \nz\n\" id=\"DejaVuSans-110\"/>\n     <path d=\"M 18.3125 70.21875 \nL 18.3125 54.6875 \nL 36.8125 54.6875 \nL 36.8125 47.703125 \nL 18.3125 47.703125 \nL 18.3125 18.015625 \nQ 18.3125 11.328125 20.140625 9.421875 \nQ 21.96875 7.515625 27.59375 7.515625 \nL 36.8125 7.515625 \nL 36.8125 0 \nL 27.59375 0 \nQ 17.1875 0 13.234375 3.875 \nQ 9.28125 7.765625 9.28125 18.015625 \nL 9.28125 47.703125 \nL 2.6875 47.703125 \nL 2.6875 54.6875 \nL 9.28125 54.6875 \nL 9.28125 70.21875 \nz\n\" id=\"DejaVuSans-116\"/>\n     <path d=\"M 32.171875 -5.078125 \nQ 28.375 -14.84375 24.75 -17.8125 \nQ 21.140625 -20.796875 15.09375 -20.796875 \nL 7.90625 -20.796875 \nL 7.90625 -13.28125 \nL 13.1875 -13.28125 \nQ 16.890625 -13.28125 18.9375 -11.515625 \nQ 21 -9.765625 23.484375 -3.21875 \nL 25.09375 0.875 \nL 2.984375 54.6875 \nL 12.5 54.6875 \nL 29.59375 11.921875 \nL 46.6875 54.6875 \nL 56.203125 54.6875 \nz\n\" id=\"DejaVuSans-121\"/>\n     <path d=\"M 37.109375 75.984375 \nL 37.109375 68.5 \nL 28.515625 68.5 \nQ 23.6875 68.5 21.796875 66.546875 \nQ 19.921875 64.59375 19.921875 59.515625 \nL 19.921875 54.6875 \nL 34.71875 54.6875 \nL 34.71875 47.703125 \nL 19.921875 47.703125 \nL 19.921875 0 \nL 10.890625 0 \nL 10.890625 47.703125 \nL 2.296875 47.703125 \nL 2.296875 54.6875 \nL 10.890625 54.6875 \nL 10.890625 58.5 \nQ 10.890625 67.625 15.140625 71.796875 \nQ 19.390625 75.984375 28.609375 75.984375 \nz\n\" id=\"DejaVuSans-102\"/>\n     <path d=\"M 9.421875 54.6875 \nL 18.40625 54.6875 \nL 18.40625 0 \nL 9.421875 0 \nz\nM 9.421875 75.984375 \nL 18.40625 75.984375 \nL 18.40625 64.59375 \nL 9.421875 64.59375 \nz\n\" id=\"DejaVuSans-105\"/>\n     <path d=\"M 18.109375 8.203125 \nL 18.109375 -20.796875 \nL 9.078125 -20.796875 \nL 9.078125 54.6875 \nL 18.109375 54.6875 \nL 18.109375 46.390625 \nQ 20.953125 51.265625 25.265625 53.625 \nQ 29.59375 56 35.59375 56 \nQ 45.5625 56 51.78125 48.09375 \nQ 58.015625 40.1875 58.015625 27.296875 \nQ 58.015625 14.40625 51.78125 6.484375 \nQ 45.5625 -1.421875 35.59375 -1.421875 \nQ 29.59375 -1.421875 25.265625 0.953125 \nQ 20.953125 3.328125 18.109375 8.203125 \nz\nM 48.6875 27.296875 \nQ 48.6875 37.203125 44.609375 42.84375 \nQ 40.53125 48.484375 33.40625 48.484375 \nQ 26.265625 48.484375 22.1875 42.84375 \nQ 18.109375 37.203125 18.109375 27.296875 \nQ 18.109375 17.390625 22.1875 11.75 \nQ 26.265625 6.109375 33.40625 6.109375 \nQ 40.53125 6.109375 44.609375 11.75 \nQ 48.6875 17.390625 48.6875 27.296875 \nz\n\" id=\"DejaVuSans-112\"/>\n     <path d=\"M 48.6875 27.296875 \nQ 48.6875 37.203125 44.609375 42.84375 \nQ 40.53125 48.484375 33.40625 48.484375 \nQ 26.265625 48.484375 22.1875 42.84375 \nQ 18.109375 37.203125 18.109375 27.296875 \nQ 18.109375 17.390625 22.1875 11.75 \nQ 26.265625 6.109375 33.40625 6.109375 \nQ 40.53125 6.109375 44.609375 11.75 \nQ 48.6875 17.390625 48.6875 27.296875 \nz\nM 18.109375 46.390625 \nQ 20.953125 51.265625 25.265625 53.625 \nQ 29.59375 56 35.59375 56 \nQ 45.5625 56 51.78125 48.09375 \nQ 58.015625 40.1875 58.015625 27.296875 \nQ 58.015625 14.40625 51.78125 6.484375 \nQ 45.5625 -1.421875 35.59375 -1.421875 \nQ 29.59375 -1.421875 25.265625 0.953125 \nQ 20.953125 3.328125 18.109375 8.203125 \nL 18.109375 0 \nL 9.078125 0 \nL 9.078125 75.984375 \nL 18.109375 75.984375 \nz\n\" id=\"DejaVuSans-98\"/>\n     <path d=\"M 41.109375 46.296875 \nQ 39.59375 47.171875 37.8125 47.578125 \nQ 36.03125 48 33.890625 48 \nQ 26.265625 48 22.1875 43.046875 \nQ 18.109375 38.09375 18.109375 28.8125 \nL 18.109375 0 \nL 9.078125 0 \nL 9.078125 54.6875 \nL 18.109375 54.6875 \nL 18.109375 46.1875 \nQ 20.953125 51.171875 25.484375 53.578125 \nQ 30.03125 56 36.53125 56 \nQ 37.453125 56 38.578125 55.875 \nQ 39.703125 55.765625 41.0625 55.515625 \nz\n\" id=\"DejaVuSans-114\"/>\n    </defs>\n    <g transform=\"translate(17.318125 722.998125)scale(0.12 -0.12)\">\n     <use xlink:href=\"#DejaVuSans-99\"/>\n     <use x=\"54.980469\" xlink:href=\"#DejaVuSans-111\"/>\n     <use x=\"116.162109\" xlink:href=\"#DejaVuSans-117\"/>\n     <use x=\"179.541016\" xlink:href=\"#DejaVuSans-110\"/>\n     <use x=\"242.919922\" xlink:href=\"#DejaVuSans-116\"/>\n     <use x=\"282.128906\" xlink:href=\"#DejaVuSans-121\"/>\n     <use x=\"341.308594\" xlink:href=\"#DejaVuSans-95\"/>\n     <use x=\"391.308594\" xlink:href=\"#DejaVuSans-102\"/>\n     <use x=\"426.513672\" xlink:href=\"#DejaVuSans-105\"/>\n     <use x=\"454.296875\" xlink:href=\"#DejaVuSans-112\"/>\n     <use x=\"517.773438\" xlink:href=\"#DejaVuSans-115\"/>\n     <use x=\"569.873047\" xlink:href=\"#DejaVuSans-95\"/>\n     <use x=\"619.873047\" xlink:href=\"#DejaVuSans-110\"/>\n     <use x=\"683.251953\" xlink:href=\"#DejaVuSans-117\"/>\n     <use x=\"746.630859\" xlink:href=\"#DejaVuSans-109\"/>\n     <use x=\"844.042969\" xlink:href=\"#DejaVuSans-98\"/>\n     <use x=\"907.519531\" xlink:href=\"#DejaVuSans-101\"/>\n     <use x=\"969.042969\" xlink:href=\"#DejaVuSans-114\"/>\n    </g>\n   </g>\n  </g>\n  <g id=\"axes_32\">\n   <g id=\"patch_467\">\n    <path d=\"M 149.3515 837.718125 \nL 238.6315 837.718125 \nL 238.6315 728.998125 \nL 149.3515 728.998125 \nz\n\" style=\"fill:#ffffff;\"/>\n   </g>\n   <g id=\"patch_468\">\n    <path clip-path=\"url(#p0433dc09a3)\" d=\"M 153.409682 837.718125 \nL 161.526045 837.718125 \nL 161.526045 734.175268 \nL 153.409682 734.175268 \nz\n\" style=\"fill:#1f77b4;\"/>\n   </g>\n   <g id=\"patch_469\">\n    <path clip-path=\"url(#p0433dc09a3)\" d=\"M 161.526045 837.718125 \nL 169.642409 837.718125 \nL 169.642409 812.938638 \nL 161.526045 812.938638 \nz\n\" style=\"fill:#1f77b4;\"/>\n   </g>\n   <g id=\"patch_470\">\n    <path clip-path=\"url(#p0433dc09a3)\" d=\"M 169.642409 837.718125 \nL 177.758773 837.718125 \nL 177.758773 828.27832 \nL 169.642409 828.27832 \nz\n\" style=\"fill:#1f77b4;\"/>\n   </g>\n   <g id=\"patch_471\">\n    <path clip-path=\"url(#p0433dc09a3)\" d=\"M 177.758773 837.718125 \nL 185.875136 837.718125 \nL 185.875136 835.358174 \nL 177.758773 835.358174 \nz\n\" style=\"fill:#1f77b4;\"/>\n   </g>\n   <g id=\"patch_472\">\n    <path clip-path=\"url(#p0433dc09a3)\" d=\"M 185.875136 837.718125 \nL 193.9915 837.718125 \nL 193.9915 835.653168 \nL 185.875136 835.653168 \nz\n\" style=\"fill:#1f77b4;\"/>\n   </g>\n   <g id=\"patch_473\">\n    <path clip-path=\"url(#p0433dc09a3)\" d=\"M 193.9915 837.718125 \nL 202.107864 837.718125 \nL 202.107864 834.768186 \nL 193.9915 834.768186 \nz\n\" style=\"fill:#1f77b4;\"/>\n   </g>\n   <g id=\"patch_474\">\n    <path clip-path=\"url(#p0433dc09a3)\" d=\"M 202.107864 837.718125 \nL 210.224227 837.718125 \nL 210.224227 836.833143 \nL 202.107864 836.833143 \nz\n\" style=\"fill:#1f77b4;\"/>\n   </g>\n   <g id=\"patch_475\">\n    <path clip-path=\"url(#p0433dc09a3)\" d=\"M 210.224227 837.718125 \nL 218.340591 837.718125 \nL 218.340591 837.718125 \nL 210.224227 837.718125 \nz\n\" style=\"fill:#1f77b4;\"/>\n   </g>\n   <g id=\"patch_476\">\n    <path clip-path=\"url(#p0433dc09a3)\" d=\"M 218.340591 837.718125 \nL 226.456955 837.718125 \nL 226.456955 837.718125 \nL 218.340591 837.718125 \nz\n\" style=\"fill:#1f77b4;\"/>\n   </g>\n   <g id=\"patch_477\">\n    <path clip-path=\"url(#p0433dc09a3)\" d=\"M 226.456955 837.718125 \nL 234.573318 837.718125 \nL 234.573318 837.128137 \nL 226.456955 837.128137 \nz\n\" style=\"fill:#1f77b4;\"/>\n   </g>\n   <g id=\"matplotlib.axis_63\">\n    <g id=\"xtick_70\">\n     <g id=\"line2d_413\">\n      <path clip-path=\"url(#p0433dc09a3)\" d=\"M 154.941095 837.718125 \nL 154.941095 728.998125 \n\" style=\"fill:none;stroke:#b0b0b0;stroke-linecap:square;stroke-width:0.8;\"/>\n     </g>\n     <g id=\"line2d_414\">\n      <g>\n       <use style=\"stroke:#000000;stroke-width:0.8;\" x=\"154.941095\" xlink:href=\"#mc504cf78b3\" y=\"837.718125\"/>\n      </g>\n     </g>\n     <g id=\"text_238\">\n      <!-- 0 -->\n      <g transform=\"translate(151.759845 852.316562)scale(0.1 -0.1)\">\n       <use xlink:href=\"#DejaVuSans-48\"/>\n      </g>\n     </g>\n    </g>\n    <g id=\"xtick_71\">\n     <g id=\"line2d_415\">\n      <path clip-path=\"url(#p0433dc09a3)\" d=\"M 207.164108 837.718125 \nL 207.164108 728.998125 \n\" style=\"fill:none;stroke:#b0b0b0;stroke-linecap:square;stroke-width:0.8;\"/>\n     </g>\n     <g id=\"line2d_416\">\n      <g>\n       <use style=\"stroke:#000000;stroke-width:0.8;\" x=\"207.164108\" xlink:href=\"#mc504cf78b3\" y=\"837.718125\"/>\n      </g>\n     </g>\n     <g id=\"text_239\">\n      <!-- 200 -->\n      <g transform=\"translate(197.620358 852.316562)scale(0.1 -0.1)\">\n       <use xlink:href=\"#DejaVuSans-50\"/>\n       <use x=\"63.623047\" xlink:href=\"#DejaVuSans-48\"/>\n       <use x=\"127.246094\" xlink:href=\"#DejaVuSans-48\"/>\n      </g>\n     </g>\n    </g>\n   </g>\n   <g id=\"matplotlib.axis_64\">\n    <g id=\"ytick_138\">\n     <g id=\"line2d_417\">\n      <path clip-path=\"url(#p0433dc09a3)\" d=\"M 149.3515 837.718125 \nL 238.6315 837.718125 \n\" style=\"fill:none;stroke:#b0b0b0;stroke-linecap:square;stroke-width:0.8;\"/>\n     </g>\n     <g id=\"line2d_418\">\n      <g>\n       <use style=\"stroke:#000000;stroke-width:0.8;\" x=\"149.3515\" xlink:href=\"#md3fd3d0ccc\" y=\"837.718125\"/>\n      </g>\n     </g>\n     <g id=\"text_240\">\n      <!-- 0 -->\n      <g transform=\"translate(135.989 841.517344)scale(0.1 -0.1)\">\n       <use xlink:href=\"#DejaVuSans-48\"/>\n      </g>\n     </g>\n    </g>\n    <g id=\"ytick_139\">\n     <g id=\"line2d_419\">\n      <path clip-path=\"url(#p0433dc09a3)\" d=\"M 149.3515 808.218736 \nL 238.6315 808.218736 \n\" style=\"fill:none;stroke:#b0b0b0;stroke-linecap:square;stroke-width:0.8;\"/>\n     </g>\n     <g id=\"line2d_420\">\n      <g>\n       <use style=\"stroke:#000000;stroke-width:0.8;\" x=\"149.3515\" xlink:href=\"#md3fd3d0ccc\" y=\"808.218736\"/>\n      </g>\n     </g>\n     <g id=\"text_241\">\n      <!-- 100 -->\n      <g transform=\"translate(123.264 812.017954)scale(0.1 -0.1)\">\n       <use xlink:href=\"#DejaVuSans-49\"/>\n       <use x=\"63.623047\" xlink:href=\"#DejaVuSans-48\"/>\n       <use x=\"127.246094\" xlink:href=\"#DejaVuSans-48\"/>\n      </g>\n     </g>\n    </g>\n    <g id=\"ytick_140\">\n     <g id=\"line2d_421\">\n      <path clip-path=\"url(#p0433dc09a3)\" d=\"M 149.3515 778.719346 \nL 238.6315 778.719346 \n\" style=\"fill:none;stroke:#b0b0b0;stroke-linecap:square;stroke-width:0.8;\"/>\n     </g>\n     <g id=\"line2d_422\">\n      <g>\n       <use style=\"stroke:#000000;stroke-width:0.8;\" x=\"149.3515\" xlink:href=\"#md3fd3d0ccc\" y=\"778.719346\"/>\n      </g>\n     </g>\n     <g id=\"text_242\">\n      <!-- 200 -->\n      <g transform=\"translate(123.264 782.518565)scale(0.1 -0.1)\">\n       <use xlink:href=\"#DejaVuSans-50\"/>\n       <use x=\"63.623047\" xlink:href=\"#DejaVuSans-48\"/>\n       <use x=\"127.246094\" xlink:href=\"#DejaVuSans-48\"/>\n      </g>\n     </g>\n    </g>\n    <g id=\"ytick_141\">\n     <g id=\"line2d_423\">\n      <path clip-path=\"url(#p0433dc09a3)\" d=\"M 149.3515 749.219957 \nL 238.6315 749.219957 \n\" style=\"fill:none;stroke:#b0b0b0;stroke-linecap:square;stroke-width:0.8;\"/>\n     </g>\n     <g id=\"line2d_424\">\n      <g>\n       <use style=\"stroke:#000000;stroke-width:0.8;\" x=\"149.3515\" xlink:href=\"#md3fd3d0ccc\" y=\"749.219957\"/>\n      </g>\n     </g>\n     <g id=\"text_243\">\n      <!-- 300 -->\n      <g transform=\"translate(123.264 753.019175)scale(0.1 -0.1)\">\n       <use xlink:href=\"#DejaVuSans-51\"/>\n       <use x=\"63.623047\" xlink:href=\"#DejaVuSans-48\"/>\n       <use x=\"127.246094\" xlink:href=\"#DejaVuSans-48\"/>\n      </g>\n     </g>\n    </g>\n   </g>\n   <g id=\"patch_478\">\n    <path d=\"M 149.3515 837.718125 \nL 149.3515 728.998125 \n\" style=\"fill:none;stroke:#000000;stroke-linecap:square;stroke-linejoin:miter;stroke-width:0.8;\"/>\n   </g>\n   <g id=\"patch_479\">\n    <path d=\"M 238.6315 837.718125 \nL 238.6315 728.998125 \n\" style=\"fill:none;stroke:#000000;stroke-linecap:square;stroke-linejoin:miter;stroke-width:0.8;\"/>\n   </g>\n   <g id=\"patch_480\">\n    <path d=\"M 149.3515 837.718125 \nL 238.6315 837.718125 \n\" style=\"fill:none;stroke:#000000;stroke-linecap:square;stroke-linejoin:miter;stroke-width:0.8;\"/>\n   </g>\n   <g id=\"patch_481\">\n    <path d=\"M 149.3515 728.998125 \nL 238.6315 728.998125 \n\" style=\"fill:none;stroke:#000000;stroke-linecap:square;stroke-linejoin:miter;stroke-width:0.8;\"/>\n   </g>\n   <g id=\"text_244\">\n    <!-- death14 -->\n    <defs>\n     <path d=\"M 45.40625 46.390625 \nL 45.40625 75.984375 \nL 54.390625 75.984375 \nL 54.390625 0 \nL 45.40625 0 \nL 45.40625 8.203125 \nQ 42.578125 3.328125 38.25 0.953125 \nQ 33.9375 -1.421875 27.875 -1.421875 \nQ 17.96875 -1.421875 11.734375 6.484375 \nQ 5.515625 14.40625 5.515625 27.296875 \nQ 5.515625 40.1875 11.734375 48.09375 \nQ 17.96875 56 27.875 56 \nQ 33.9375 56 38.25 53.625 \nQ 42.578125 51.265625 45.40625 46.390625 \nz\nM 14.796875 27.296875 \nQ 14.796875 17.390625 18.875 11.75 \nQ 22.953125 6.109375 30.078125 6.109375 \nQ 37.203125 6.109375 41.296875 11.75 \nQ 45.40625 17.390625 45.40625 27.296875 \nQ 45.40625 37.203125 41.296875 42.84375 \nQ 37.203125 48.484375 30.078125 48.484375 \nQ 22.953125 48.484375 18.875 42.84375 \nQ 14.796875 37.203125 14.796875 27.296875 \nz\n\" id=\"DejaVuSans-100\"/>\n     <path d=\"M 54.890625 33.015625 \nL 54.890625 0 \nL 45.90625 0 \nL 45.90625 32.71875 \nQ 45.90625 40.484375 42.875 44.328125 \nQ 39.84375 48.1875 33.796875 48.1875 \nQ 26.515625 48.1875 22.3125 43.546875 \nQ 18.109375 38.921875 18.109375 30.90625 \nL 18.109375 0 \nL 9.078125 0 \nL 9.078125 75.984375 \nL 18.109375 75.984375 \nL 18.109375 46.1875 \nQ 21.34375 51.125 25.703125 53.5625 \nQ 30.078125 56 35.796875 56 \nQ 45.21875 56 50.046875 50.171875 \nQ 54.890625 44.34375 54.890625 33.015625 \nz\n\" id=\"DejaVuSans-104\"/>\n    </defs>\n    <g transform=\"translate(169.024 722.998125)scale(0.12 -0.12)\">\n     <use xlink:href=\"#DejaVuSans-100\"/>\n     <use x=\"63.476562\" xlink:href=\"#DejaVuSans-101\"/>\n     <use x=\"125\" xlink:href=\"#DejaVuSans-97\"/>\n     <use x=\"186.279297\" xlink:href=\"#DejaVuSans-116\"/>\n     <use x=\"225.488281\" xlink:href=\"#DejaVuSans-104\"/>\n     <use x=\"288.867188\" xlink:href=\"#DejaVuSans-49\"/>\n     <use x=\"352.490234\" xlink:href=\"#DejaVuSans-52\"/>\n    </g>\n   </g>\n  </g>\n  <g id=\"axes_33\">\n   <g id=\"patch_482\">\n    <path d=\"M 265.4155 837.718125 \nL 354.6955 837.718125 \nL 354.6955 728.998125 \nL 265.4155 728.998125 \nz\n\" style=\"fill:#ffffff;\"/>\n   </g>\n   <g id=\"patch_483\">\n    <path clip-path=\"url(#p60d820e3fb)\" d=\"M 269.473682 837.718125 \nL 277.590045 837.718125 \nL 277.590045 734.175268 \nL 269.473682 734.175268 \nz\n\" style=\"fill:#1f77b4;\"/>\n   </g>\n   <g id=\"patch_484\">\n    <path clip-path=\"url(#p60d820e3fb)\" d=\"M 277.590045 837.718125 \nL 285.706409 837.718125 \nL 285.706409 829.089554 \nL 277.590045 829.089554 \nz\n\" style=\"fill:#1f77b4;\"/>\n   </g>\n   <g id=\"patch_485\">\n    <path clip-path=\"url(#p60d820e3fb)\" d=\"M 285.706409 837.718125 \nL 293.822773 837.718125 \nL 293.822773 833.773635 \nL 285.706409 833.773635 \nz\n\" style=\"fill:#1f77b4;\"/>\n   </g>\n   <g id=\"patch_486\">\n    <path clip-path=\"url(#p60d820e3fb)\" d=\"M 293.822773 837.718125 \nL 301.939136 837.718125 \nL 301.939136 836.238941 \nL 293.822773 836.238941 \nz\n\" style=\"fill:#1f77b4;\"/>\n   </g>\n   <g id=\"patch_487\">\n    <path clip-path=\"url(#p60d820e3fb)\" d=\"M 301.939136 837.718125 \nL 310.0555 837.718125 \nL 310.0555 835.006288 \nL 301.939136 835.006288 \nz\n\" style=\"fill:#1f77b4;\"/>\n   </g>\n   <g id=\"patch_488\">\n    <path clip-path=\"url(#p60d820e3fb)\" d=\"M 310.0555 837.718125 \nL 318.171864 837.718125 \nL 318.171864 836.485472 \nL 310.0555 836.485472 \nz\n\" style=\"fill:#1f77b4;\"/>\n   </g>\n   <g id=\"patch_489\">\n    <path clip-path=\"url(#p60d820e3fb)\" d=\"M 318.171864 837.718125 \nL 326.288227 837.718125 \nL 326.288227 837.718125 \nL 318.171864 837.718125 \nz\n\" style=\"fill:#1f77b4;\"/>\n   </g>\n   <g id=\"patch_490\">\n    <path clip-path=\"url(#p60d820e3fb)\" d=\"M 326.288227 837.718125 \nL 334.404591 837.718125 \nL 334.404591 837.471594 \nL 326.288227 837.471594 \nz\n\" style=\"fill:#1f77b4;\"/>\n   </g>\n   <g id=\"patch_491\">\n    <path clip-path=\"url(#p60d820e3fb)\" d=\"M 334.404591 837.718125 \nL 342.520955 837.718125 \nL 342.520955 837.471594 \nL 334.404591 837.471594 \nz\n\" style=\"fill:#1f77b4;\"/>\n   </g>\n   <g id=\"patch_492\">\n    <path clip-path=\"url(#p60d820e3fb)\" d=\"M 342.520955 837.718125 \nL 350.637318 837.718125 \nL 350.637318 837.225064 \nL 342.520955 837.225064 \nz\n\" style=\"fill:#1f77b4;\"/>\n   </g>\n   <g id=\"matplotlib.axis_65\">\n    <g id=\"xtick_72\">\n     <g id=\"line2d_425\">\n      <path clip-path=\"url(#p60d820e3fb)\" d=\"M 269.473682 837.718125 \nL 269.473682 728.998125 \n\" style=\"fill:none;stroke:#b0b0b0;stroke-linecap:square;stroke-width:0.8;\"/>\n     </g>\n     <g id=\"line2d_426\">\n      <g>\n       <use style=\"stroke:#000000;stroke-width:0.8;\" x=\"269.473682\" xlink:href=\"#mc504cf78b3\" y=\"837.718125\"/>\n      </g>\n     </g>\n     <g id=\"text_245\">\n      <!-- 0 -->\n      <g transform=\"translate(266.292432 852.316562)scale(0.1 -0.1)\">\n       <use xlink:href=\"#DejaVuSans-48\"/>\n      </g>\n     </g>\n    </g>\n    <g id=\"xtick_73\">\n     <g id=\"line2d_427\">\n      <path clip-path=\"url(#p60d820e3fb)\" d=\"M 317.853715 837.718125 \nL 317.853715 728.998125 \n\" style=\"fill:none;stroke:#b0b0b0;stroke-linecap:square;stroke-width:0.8;\"/>\n     </g>\n     <g id=\"line2d_428\">\n      <g>\n       <use style=\"stroke:#000000;stroke-width:0.8;\" x=\"317.853715\" xlink:href=\"#mc504cf78b3\" y=\"837.718125\"/>\n      </g>\n     </g>\n     <g id=\"text_246\">\n      <!-- 2500 -->\n      <g transform=\"translate(305.128715 852.316562)scale(0.1 -0.1)\">\n       <use xlink:href=\"#DejaVuSans-50\"/>\n       <use x=\"63.623047\" xlink:href=\"#DejaVuSans-53\"/>\n       <use x=\"127.246094\" xlink:href=\"#DejaVuSans-48\"/>\n       <use x=\"190.869141\" xlink:href=\"#DejaVuSans-48\"/>\n      </g>\n     </g>\n    </g>\n   </g>\n   <g id=\"matplotlib.axis_66\">\n    <g id=\"ytick_142\">\n     <g id=\"line2d_429\">\n      <path clip-path=\"url(#p60d820e3fb)\" d=\"M 265.4155 837.718125 \nL 354.6955 837.718125 \n\" style=\"fill:none;stroke:#b0b0b0;stroke-linecap:square;stroke-width:0.8;\"/>\n     </g>\n     <g id=\"line2d_430\">\n      <g>\n       <use style=\"stroke:#000000;stroke-width:0.8;\" x=\"265.4155\" xlink:href=\"#md3fd3d0ccc\" y=\"837.718125\"/>\n      </g>\n     </g>\n     <g id=\"text_247\">\n      <!-- 0 -->\n      <g transform=\"translate(252.053 841.517344)scale(0.1 -0.1)\">\n       <use xlink:href=\"#DejaVuSans-48\"/>\n      </g>\n     </g>\n    </g>\n    <g id=\"ytick_143\">\n     <g id=\"line2d_431\">\n      <path clip-path=\"url(#p60d820e3fb)\" d=\"M 265.4155 813.065064 \nL 354.6955 813.065064 \n\" style=\"fill:none;stroke:#b0b0b0;stroke-linecap:square;stroke-width:0.8;\"/>\n     </g>\n     <g id=\"line2d_432\">\n      <g>\n       <use style=\"stroke:#000000;stroke-width:0.8;\" x=\"265.4155\" xlink:href=\"#md3fd3d0ccc\" y=\"813.065064\"/>\n      </g>\n     </g>\n     <g id=\"text_248\">\n      <!-- 100 -->\n      <g transform=\"translate(239.328 816.864283)scale(0.1 -0.1)\">\n       <use xlink:href=\"#DejaVuSans-49\"/>\n       <use x=\"63.623047\" xlink:href=\"#DejaVuSans-48\"/>\n       <use x=\"127.246094\" xlink:href=\"#DejaVuSans-48\"/>\n      </g>\n     </g>\n    </g>\n    <g id=\"ytick_144\">\n     <g id=\"line2d_433\">\n      <path clip-path=\"url(#p60d820e3fb)\" d=\"M 265.4155 788.412003 \nL 354.6955 788.412003 \n\" style=\"fill:none;stroke:#b0b0b0;stroke-linecap:square;stroke-width:0.8;\"/>\n     </g>\n     <g id=\"line2d_434\">\n      <g>\n       <use style=\"stroke:#000000;stroke-width:0.8;\" x=\"265.4155\" xlink:href=\"#md3fd3d0ccc\" y=\"788.412003\"/>\n      </g>\n     </g>\n     <g id=\"text_249\">\n      <!-- 200 -->\n      <g transform=\"translate(239.328 792.211221)scale(0.1 -0.1)\">\n       <use xlink:href=\"#DejaVuSans-50\"/>\n       <use x=\"63.623047\" xlink:href=\"#DejaVuSans-48\"/>\n       <use x=\"127.246094\" xlink:href=\"#DejaVuSans-48\"/>\n      </g>\n     </g>\n    </g>\n    <g id=\"ytick_145\">\n     <g id=\"line2d_435\">\n      <path clip-path=\"url(#p60d820e3fb)\" d=\"M 265.4155 763.758941 \nL 354.6955 763.758941 \n\" style=\"fill:none;stroke:#b0b0b0;stroke-linecap:square;stroke-width:0.8;\"/>\n     </g>\n     <g id=\"line2d_436\">\n      <g>\n       <use style=\"stroke:#000000;stroke-width:0.8;\" x=\"265.4155\" xlink:href=\"#md3fd3d0ccc\" y=\"763.758941\"/>\n      </g>\n     </g>\n     <g id=\"text_250\">\n      <!-- 300 -->\n      <g transform=\"translate(239.328 767.55816)scale(0.1 -0.1)\">\n       <use xlink:href=\"#DejaVuSans-51\"/>\n       <use x=\"63.623047\" xlink:href=\"#DejaVuSans-48\"/>\n       <use x=\"127.246094\" xlink:href=\"#DejaVuSans-48\"/>\n      </g>\n     </g>\n    </g>\n    <g id=\"ytick_146\">\n     <g id=\"line2d_437\">\n      <path clip-path=\"url(#p60d820e3fb)\" d=\"M 265.4155 739.10588 \nL 354.6955 739.10588 \n\" style=\"fill:none;stroke:#b0b0b0;stroke-linecap:square;stroke-width:0.8;\"/>\n     </g>\n     <g id=\"line2d_438\">\n      <g>\n       <use style=\"stroke:#000000;stroke-width:0.8;\" x=\"265.4155\" xlink:href=\"#md3fd3d0ccc\" y=\"739.10588\"/>\n      </g>\n     </g>\n     <g id=\"text_251\">\n      <!-- 400 -->\n      <g transform=\"translate(239.328 742.905099)scale(0.1 -0.1)\">\n       <use xlink:href=\"#DejaVuSans-52\"/>\n       <use x=\"63.623047\" xlink:href=\"#DejaVuSans-48\"/>\n       <use x=\"127.246094\" xlink:href=\"#DejaVuSans-48\"/>\n      </g>\n     </g>\n    </g>\n   </g>\n   <g id=\"patch_493\">\n    <path d=\"M 265.4155 837.718125 \nL 265.4155 728.998125 \n\" style=\"fill:none;stroke:#000000;stroke-linecap:square;stroke-linejoin:miter;stroke-width:0.8;\"/>\n   </g>\n   <g id=\"patch_494\">\n    <path d=\"M 354.6955 837.718125 \nL 354.6955 728.998125 \n\" style=\"fill:none;stroke:#000000;stroke-linecap:square;stroke-linejoin:miter;stroke-width:0.8;\"/>\n   </g>\n   <g id=\"patch_495\">\n    <path d=\"M 265.4155 837.718125 \nL 354.6955 837.718125 \n\" style=\"fill:none;stroke:#000000;stroke-linecap:square;stroke-linejoin:miter;stroke-width:0.8;\"/>\n   </g>\n   <g id=\"patch_496\">\n    <path d=\"M 265.4155 728.998125 \nL 354.6955 728.998125 \n\" style=\"fill:none;stroke:#000000;stroke-linecap:square;stroke-linejoin:miter;stroke-width:0.8;\"/>\n   </g>\n   <g id=\"text_252\">\n    <!-- death1m -->\n    <g transform=\"translate(283.061125 722.998125)scale(0.12 -0.12)\">\n     <use xlink:href=\"#DejaVuSans-100\"/>\n     <use x=\"63.476562\" xlink:href=\"#DejaVuSans-101\"/>\n     <use x=\"125\" xlink:href=\"#DejaVuSans-97\"/>\n     <use x=\"186.279297\" xlink:href=\"#DejaVuSans-116\"/>\n     <use x=\"225.488281\" xlink:href=\"#DejaVuSans-104\"/>\n     <use x=\"288.867188\" xlink:href=\"#DejaVuSans-49\"/>\n     <use x=\"352.490234\" xlink:href=\"#DejaVuSans-109\"/>\n    </g>\n   </g>\n  </g>\n  <g id=\"axes_34\">\n   <g id=\"patch_497\">\n    <path d=\"M 381.4795 837.718125 \nL 470.7595 837.718125 \nL 470.7595 728.998125 \nL 381.4795 728.998125 \nz\n\" style=\"fill:#ffffff;\"/>\n   </g>\n   <g id=\"patch_498\">\n    <path clip-path=\"url(#p8b643be6cf)\" d=\"M 385.537682 837.718125 \nL 393.654045 837.718125 \nL 393.654045 734.175268 \nL 385.537682 734.175268 \nz\n\" style=\"fill:#1f77b4;\"/>\n   </g>\n   <g id=\"patch_499\">\n    <path clip-path=\"url(#p8b643be6cf)\" d=\"M 393.654045 837.718125 \nL 401.770409 837.718125 \nL 401.770409 820.027386 \nL 393.654045 820.027386 \nz\n\" style=\"fill:#1f77b4;\"/>\n   </g>\n   <g id=\"patch_500\">\n    <path clip-path=\"url(#p8b643be6cf)\" d=\"M 401.770409 837.718125 \nL 409.886773 837.718125 \nL 409.886773 831.474335 \nL 401.770409 831.474335 \nz\n\" style=\"fill:#1f77b4;\"/>\n   </g>\n   <g id=\"patch_501\">\n    <path clip-path=\"url(#p8b643be6cf)\" d=\"M 409.886773 837.718125 \nL 418.003136 837.718125 \nL 418.003136 836.417335 \nL 409.886773 836.417335 \nz\n\" style=\"fill:#1f77b4;\"/>\n   </g>\n   <g id=\"patch_502\">\n    <path clip-path=\"url(#p8b643be6cf)\" d=\"M 418.003136 837.718125 \nL 426.1195 837.718125 \nL 426.1195 837.457967 \nL 418.003136 837.457967 \nz\n\" style=\"fill:#1f77b4;\"/>\n   </g>\n   <g id=\"patch_503\">\n    <path clip-path=\"url(#p8b643be6cf)\" d=\"M 426.1195 837.718125 \nL 434.235864 837.718125 \nL 434.235864 837.718125 \nL 426.1195 837.718125 \nz\n\" style=\"fill:#1f77b4;\"/>\n   </g>\n   <g id=\"patch_504\">\n    <path clip-path=\"url(#p8b643be6cf)\" d=\"M 434.235864 837.718125 \nL 442.352227 837.718125 \nL 442.352227 837.718125 \nL 434.235864 837.718125 \nz\n\" style=\"fill:#1f77b4;\"/>\n   </g>\n   <g id=\"patch_505\">\n    <path clip-path=\"url(#p8b643be6cf)\" d=\"M 442.352227 837.718125 \nL 450.468591 837.718125 \nL 450.468591 837.718125 \nL 442.352227 837.718125 \nz\n\" style=\"fill:#1f77b4;\"/>\n   </g>\n   <g id=\"patch_506\">\n    <path clip-path=\"url(#p8b643be6cf)\" d=\"M 450.468591 837.718125 \nL 458.584955 837.718125 \nL 458.584955 837.718125 \nL 450.468591 837.718125 \nz\n\" style=\"fill:#1f77b4;\"/>\n   </g>\n   <g id=\"patch_507\">\n    <path clip-path=\"url(#p8b643be6cf)\" d=\"M 458.584955 837.718125 \nL 466.701318 837.718125 \nL 466.701318 837.457967 \nL 458.584955 837.457967 \nz\n\" style=\"fill:#1f77b4;\"/>\n   </g>\n   <g id=\"matplotlib.axis_67\">\n    <g id=\"xtick_74\">\n     <g id=\"line2d_439\">\n      <path clip-path=\"url(#p8b643be6cf)\" d=\"M 385.283202 837.718125 \nL 385.283202 728.998125 \n\" style=\"fill:none;stroke:#b0b0b0;stroke-linecap:square;stroke-width:0.8;\"/>\n     </g>\n     <g id=\"line2d_440\">\n      <g>\n       <use style=\"stroke:#000000;stroke-width:0.8;\" x=\"385.283202\" xlink:href=\"#mc504cf78b3\" y=\"837.718125\"/>\n      </g>\n     </g>\n     <g id=\"text_253\">\n      <!-- 0 -->\n      <g transform=\"translate(382.101952 852.316562)scale(0.1 -0.1)\">\n       <use xlink:href=\"#DejaVuSans-48\"/>\n      </g>\n     </g>\n    </g>\n    <g id=\"xtick_75\">\n     <g id=\"line2d_441\">\n      <path clip-path=\"url(#p8b643be6cf)\" d=\"M 462.398296 837.718125 \nL 462.398296 728.998125 \n\" style=\"fill:none;stroke:#b0b0b0;stroke-linecap:square;stroke-width:0.8;\"/>\n     </g>\n     <g id=\"line2d_442\">\n      <g>\n       <use style=\"stroke:#000000;stroke-width:0.8;\" x=\"462.398296\" xlink:href=\"#mc504cf78b3\" y=\"837.718125\"/>\n      </g>\n     </g>\n     <g id=\"text_254\">\n      <!-- 20000 -->\n      <g transform=\"translate(446.492046 852.316562)scale(0.1 -0.1)\">\n       <use xlink:href=\"#DejaVuSans-50\"/>\n       <use x=\"63.623047\" xlink:href=\"#DejaVuSans-48\"/>\n       <use x=\"127.246094\" xlink:href=\"#DejaVuSans-48\"/>\n       <use x=\"190.869141\" xlink:href=\"#DejaVuSans-48\"/>\n       <use x=\"254.492188\" xlink:href=\"#DejaVuSans-48\"/>\n      </g>\n     </g>\n    </g>\n   </g>\n   <g id=\"matplotlib.axis_68\">\n    <g id=\"ytick_147\">\n     <g id=\"line2d_443\">\n      <path clip-path=\"url(#p8b643be6cf)\" d=\"M 381.4795 837.718125 \nL 470.7595 837.718125 \n\" style=\"fill:none;stroke:#b0b0b0;stroke-linecap:square;stroke-width:0.8;\"/>\n     </g>\n     <g id=\"line2d_444\">\n      <g>\n       <use style=\"stroke:#000000;stroke-width:0.8;\" x=\"381.4795\" xlink:href=\"#md3fd3d0ccc\" y=\"837.718125\"/>\n      </g>\n     </g>\n     <g id=\"text_255\">\n      <!-- 0 -->\n      <g transform=\"translate(368.117 841.517344)scale(0.1 -0.1)\">\n       <use xlink:href=\"#DejaVuSans-48\"/>\n      </g>\n     </g>\n    </g>\n    <g id=\"ytick_148\">\n     <g id=\"line2d_445\">\n      <path clip-path=\"url(#p8b643be6cf)\" d=\"M 381.4795 811.702332 \nL 470.7595 811.702332 \n\" style=\"fill:none;stroke:#b0b0b0;stroke-linecap:square;stroke-width:0.8;\"/>\n     </g>\n     <g id=\"line2d_446\">\n      <g>\n       <use style=\"stroke:#000000;stroke-width:0.8;\" x=\"381.4795\" xlink:href=\"#md3fd3d0ccc\" y=\"811.702332\"/>\n      </g>\n     </g>\n     <g id=\"text_256\">\n      <!-- 100 -->\n      <g transform=\"translate(355.392 815.50155)scale(0.1 -0.1)\">\n       <use xlink:href=\"#DejaVuSans-49\"/>\n       <use x=\"63.623047\" xlink:href=\"#DejaVuSans-48\"/>\n       <use x=\"127.246094\" xlink:href=\"#DejaVuSans-48\"/>\n      </g>\n     </g>\n    </g>\n    <g id=\"ytick_149\">\n     <g id=\"line2d_447\">\n      <path clip-path=\"url(#p8b643be6cf)\" d=\"M 381.4795 785.686538 \nL 470.7595 785.686538 \n\" style=\"fill:none;stroke:#b0b0b0;stroke-linecap:square;stroke-width:0.8;\"/>\n     </g>\n     <g id=\"line2d_448\">\n      <g>\n       <use style=\"stroke:#000000;stroke-width:0.8;\" x=\"381.4795\" xlink:href=\"#md3fd3d0ccc\" y=\"785.686538\"/>\n      </g>\n     </g>\n     <g id=\"text_257\">\n      <!-- 200 -->\n      <g transform=\"translate(355.392 789.485757)scale(0.1 -0.1)\">\n       <use xlink:href=\"#DejaVuSans-50\"/>\n       <use x=\"63.623047\" xlink:href=\"#DejaVuSans-48\"/>\n       <use x=\"127.246094\" xlink:href=\"#DejaVuSans-48\"/>\n      </g>\n     </g>\n    </g>\n    <g id=\"ytick_150\">\n     <g id=\"line2d_449\">\n      <path clip-path=\"url(#p8b643be6cf)\" d=\"M 381.4795 759.670745 \nL 470.7595 759.670745 \n\" style=\"fill:none;stroke:#b0b0b0;stroke-linecap:square;stroke-width:0.8;\"/>\n     </g>\n     <g id=\"line2d_450\">\n      <g>\n       <use style=\"stroke:#000000;stroke-width:0.8;\" x=\"381.4795\" xlink:href=\"#md3fd3d0ccc\" y=\"759.670745\"/>\n      </g>\n     </g>\n     <g id=\"text_258\">\n      <!-- 300 -->\n      <g transform=\"translate(355.392 763.469964)scale(0.1 -0.1)\">\n       <use xlink:href=\"#DejaVuSans-51\"/>\n       <use x=\"63.623047\" xlink:href=\"#DejaVuSans-48\"/>\n       <use x=\"127.246094\" xlink:href=\"#DejaVuSans-48\"/>\n      </g>\n     </g>\n    </g>\n    <g id=\"ytick_151\">\n     <g id=\"line2d_451\">\n      <path clip-path=\"url(#p8b643be6cf)\" d=\"M 381.4795 733.654952 \nL 470.7595 733.654952 \n\" style=\"fill:none;stroke:#b0b0b0;stroke-linecap:square;stroke-width:0.8;\"/>\n     </g>\n     <g id=\"line2d_452\">\n      <g>\n       <use style=\"stroke:#000000;stroke-width:0.8;\" x=\"381.4795\" xlink:href=\"#md3fd3d0ccc\" y=\"733.654952\"/>\n      </g>\n     </g>\n     <g id=\"text_259\">\n      <!-- 400 -->\n      <g transform=\"translate(355.392 737.454171)scale(0.1 -0.1)\">\n       <use xlink:href=\"#DejaVuSans-52\"/>\n       <use x=\"63.623047\" xlink:href=\"#DejaVuSans-48\"/>\n       <use x=\"127.246094\" xlink:href=\"#DejaVuSans-48\"/>\n      </g>\n     </g>\n    </g>\n   </g>\n   <g id=\"patch_508\">\n    <path d=\"M 381.4795 837.718125 \nL 381.4795 728.998125 \n\" style=\"fill:none;stroke:#000000;stroke-linecap:square;stroke-linejoin:miter;stroke-width:0.8;\"/>\n   </g>\n   <g id=\"patch_509\">\n    <path d=\"M 470.7595 837.718125 \nL 470.7595 728.998125 \n\" style=\"fill:none;stroke:#000000;stroke-linecap:square;stroke-linejoin:miter;stroke-width:0.8;\"/>\n   </g>\n   <g id=\"patch_510\">\n    <path d=\"M 381.4795 837.718125 \nL 470.7595 837.718125 \n\" style=\"fill:none;stroke:#000000;stroke-linecap:square;stroke-linejoin:miter;stroke-width:0.8;\"/>\n   </g>\n   <g id=\"patch_511\">\n    <path d=\"M 381.4795 728.998125 \nL 470.7595 728.998125 \n\" style=\"fill:none;stroke:#000000;stroke-linecap:square;stroke-linejoin:miter;stroke-width:0.8;\"/>\n   </g>\n   <g id=\"text_260\">\n    <!-- density -->\n    <g transform=\"translate(404.120125 722.998125)scale(0.12 -0.12)\">\n     <use xlink:href=\"#DejaVuSans-100\"/>\n     <use x=\"63.476562\" xlink:href=\"#DejaVuSans-101\"/>\n     <use x=\"125\" xlink:href=\"#DejaVuSans-110\"/>\n     <use x=\"188.378906\" xlink:href=\"#DejaVuSans-115\"/>\n     <use x=\"240.478516\" xlink:href=\"#DejaVuSans-105\"/>\n     <use x=\"268.261719\" xlink:href=\"#DejaVuSans-116\"/>\n     <use x=\"307.470703\" xlink:href=\"#DejaVuSans-121\"/>\n    </g>\n   </g>\n  </g>\n </g>\n <defs>\n  <clipPath id=\"pb9bc6fedbc\">\n   <rect height=\"108.72\" width=\"89.28\" x=\"33.2875\" y=\"22.318125\"/>\n  </clipPath>\n  <clipPath id=\"p8c69d43d4e\">\n   <rect height=\"108.72\" width=\"89.28\" x=\"149.3515\" y=\"22.318125\"/>\n  </clipPath>\n  <clipPath id=\"paba069483b\">\n   <rect height=\"108.72\" width=\"89.28\" x=\"265.4155\" y=\"22.318125\"/>\n  </clipPath>\n  <clipPath id=\"pbdd65a7687\">\n   <rect height=\"108.72\" width=\"89.28\" x=\"381.4795\" y=\"22.318125\"/>\n  </clipPath>\n  <clipPath id=\"p8905c3cb48\">\n   <rect height=\"108.72\" width=\"89.28\" x=\"497.5435\" y=\"22.318125\"/>\n  </clipPath>\n  <clipPath id=\"p308bded540\">\n   <rect height=\"108.72\" width=\"89.28\" x=\"613.6075\" y=\"22.318125\"/>\n  </clipPath>\n  <clipPath id=\"p5a5cb07a7a\">\n   <rect height=\"108.72\" width=\"89.28\" x=\"33.2875\" y=\"163.654125\"/>\n  </clipPath>\n  <clipPath id=\"p62ee3f7149\">\n   <rect height=\"108.72\" width=\"89.28\" x=\"149.3515\" y=\"163.654125\"/>\n  </clipPath>\n  <clipPath id=\"p814cbe2dd0\">\n   <rect height=\"108.72\" width=\"89.28\" x=\"265.4155\" y=\"163.654125\"/>\n  </clipPath>\n  <clipPath id=\"pd221ffaa7b\">\n   <rect height=\"108.72\" width=\"89.28\" x=\"381.4795\" y=\"163.654125\"/>\n  </clipPath>\n  <clipPath id=\"pa6b344b1c5\">\n   <rect height=\"108.72\" width=\"89.28\" x=\"497.5435\" y=\"163.654125\"/>\n  </clipPath>\n  <clipPath id=\"pa1604969ab\">\n   <rect height=\"108.72\" width=\"89.28\" x=\"613.6075\" y=\"163.654125\"/>\n  </clipPath>\n  <clipPath id=\"p7bd86d432d\">\n   <rect height=\"108.72\" width=\"89.28\" x=\"33.2875\" y=\"304.990125\"/>\n  </clipPath>\n  <clipPath id=\"p95d9a2c3b6\">\n   <rect height=\"108.72\" width=\"89.28\" x=\"149.3515\" y=\"304.990125\"/>\n  </clipPath>\n  <clipPath id=\"pd006dc5af0\">\n   <rect height=\"108.72\" width=\"89.28\" x=\"265.4155\" y=\"304.990125\"/>\n  </clipPath>\n  <clipPath id=\"p09ee02b401\">\n   <rect height=\"108.72\" width=\"89.28\" x=\"381.4795\" y=\"304.990125\"/>\n  </clipPath>\n  <clipPath id=\"p7fe990064a\">\n   <rect height=\"108.72\" width=\"89.28\" x=\"497.5435\" y=\"304.990125\"/>\n  </clipPath>\n  <clipPath id=\"p4bd07fdfe1\">\n   <rect height=\"108.72\" width=\"89.28\" x=\"613.6075\" y=\"304.990125\"/>\n  </clipPath>\n  <clipPath id=\"pbb78fbd8b0\">\n   <rect height=\"108.72\" width=\"89.28\" x=\"33.2875\" y=\"446.326125\"/>\n  </clipPath>\n  <clipPath id=\"p9bdaaa3de6\">\n   <rect height=\"108.72\" width=\"89.28\" x=\"149.3515\" y=\"446.326125\"/>\n  </clipPath>\n  <clipPath id=\"p065d08f4fb\">\n   <rect height=\"108.72\" width=\"89.28\" x=\"265.4155\" y=\"446.326125\"/>\n  </clipPath>\n  <clipPath id=\"pf43c3d7f4d\">\n   <rect height=\"108.72\" width=\"89.28\" x=\"381.4795\" y=\"446.326125\"/>\n  </clipPath>\n  <clipPath id=\"pa1031fae8f\">\n   <rect height=\"108.72\" width=\"89.28\" x=\"497.5435\" y=\"446.326125\"/>\n  </clipPath>\n  <clipPath id=\"p247ab830ff\">\n   <rect height=\"108.72\" width=\"89.28\" x=\"613.6075\" y=\"446.326125\"/>\n  </clipPath>\n  <clipPath id=\"p8a3bdd97ed\">\n   <rect height=\"108.72\" width=\"89.28\" x=\"33.2875\" y=\"587.662125\"/>\n  </clipPath>\n  <clipPath id=\"pe4d2a67cec\">\n   <rect height=\"108.72\" width=\"89.28\" x=\"149.3515\" y=\"587.662125\"/>\n  </clipPath>\n  <clipPath id=\"p0a356281e0\">\n   <rect height=\"108.72\" width=\"89.28\" x=\"265.4155\" y=\"587.662125\"/>\n  </clipPath>\n  <clipPath id=\"p30efc6422a\">\n   <rect height=\"108.72\" width=\"89.28\" x=\"381.4795\" y=\"587.662125\"/>\n  </clipPath>\n  <clipPath id=\"p27347f52fb\">\n   <rect height=\"108.72\" width=\"89.28\" x=\"497.5435\" y=\"587.662125\"/>\n  </clipPath>\n  <clipPath id=\"p8a3af7261f\">\n   <rect height=\"108.72\" width=\"89.28\" x=\"613.6075\" y=\"587.662125\"/>\n  </clipPath>\n  <clipPath id=\"p5008a82b8f\">\n   <rect height=\"108.72\" width=\"89.28\" x=\"33.2875\" y=\"728.998125\"/>\n  </clipPath>\n  <clipPath id=\"p0433dc09a3\">\n   <rect height=\"108.72\" width=\"89.28\" x=\"149.3515\" y=\"728.998125\"/>\n  </clipPath>\n  <clipPath id=\"p60d820e3fb\">\n   <rect height=\"108.72\" width=\"89.28\" x=\"265.4155\" y=\"728.998125\"/>\n  </clipPath>\n  <clipPath id=\"p8b643be6cf\">\n   <rect height=\"108.72\" width=\"89.28\" x=\"381.4795\" y=\"728.998125\"/>\n  </clipPath>\n </defs>\n</svg>\n",
      "image/png": "[encoded data removed]"
     },
     "metadata": {
      "needs_background": "light"
     }
    }
   ],
   "source": [
    "## View variable distributions\n",
    "df.iloc[:,3:].hist(figsize = (12,15));"
   ]
  },
  {
   "cell_type": "code",
   "execution_count": 11,
   "metadata": {},
   "outputs": [],
   "source": [
    "## Set X, y and split into train and test data set\n",
    "X = df.drop(columns = ['county_fips','CityName','state_id','case1m', 'death1m','PAPTEST','first_date','county_fips_number','case14','death14'])\n",
    "y = df['death1m']\n",
    "\n",
    "X_train, X_test, y_train, y_test = train_test_split(X, y, test_size = .30, random_state = 42)"
   ]
  },
  {
   "cell_type": "code",
   "execution_count": 12,
   "metadata": {
    "tags": []
   },
   "outputs": [
    {
     "output_type": "stream",
     "name": "stdout",
     "text": "OLS Regression Results                            \n==============================================================================\nDep. Variable:                death1m   R-squared:                       0.548\nModel:                            OLS   Adj. R-squared:                  0.508\nMethod:                 Least Squares   F-statistic:                     13.78\nDate:                Sun, 19 Jul 2020   Prob (F-statistic):           7.04e-40\nTime:                        16:35:53   Log-Likelihood:                -2542.1\nNo. Observations:                 347   AIC:                             5142.\nDf Residuals:                     318   BIC:                             5254.\nDf Model:                          28                                         \nCovariance Type:            nonrobust                                         \n==============================================================================\n"
    }
   ],
   "source": [
    "##Train the model using OLS\n",
    "X2 = sm.add_constant(X_train)\n",
    "est = sm.OLS(y_train, X2)\n",
    "est = est.fit()\n",
    "print(est.summary().tables[0])"
   ]
  },
  {
   "cell_type": "code",
   "execution_count": 13,
   "metadata": {
    "tags": []
   },
   "outputs": [
    {
     "output_type": "execute_result",
     "data": {
      "text/plain": "                coef   std err      t  P>|t|    [0.025   0.975]\nconst     -3669.9698  1476.558 -2.485  0.013 -6575.027 -764.913\ndensity       0.0700     0.017  4.016  0.000     0.036    0.104\nARTHRITIS    54.2767    22.847  2.376  0.018     9.325   99.228\nCANCER     -301.1822   128.983 -2.335  0.020  -554.950  -47.414\nCASTHMA     101.4600    39.344  2.579  0.010    24.053  178.867\nCHECKUP      34.2346    12.075  2.835  0.005    10.478   57.991\nCOPD       -214.9018    81.553 -2.635  0.009  -375.353  -54.451\nCOREM       -20.6168     6.596 -3.126  0.002   -33.593   -7.640\nDENTAL       28.2716     9.632  2.935  0.004     9.322   47.221\nDIABETES   -220.0813    49.898 -4.411  0.000  -318.253 -121.910\nHIGHCHOL     52.4393    20.434  2.566  0.011    12.237   92.642\nLPA          42.8368    14.199  3.017  0.003    14.901   70.773",
      "text/html": "<div>\n<style scoped>\n    .dataframe tbody tr th:only-of-type {\n        vertical-align: middle;\n    }\n\n    .dataframe tbody tr th {\n        vertical-align: top;\n    }\n\n    .dataframe thead th {\n        text-align: right;\n    }\n</style>\n<table border=\"1\" class=\"dataframe\">\n  <thead>\n    <tr style=\"text-align: right;\">\n      <th></th>\n      <th>coef</th>\n      <th>std err</th>\n      <th>t</th>\n      <th>P&gt;|t|</th>\n      <th>[0.025</th>\n      <th>0.975]</th>\n    </tr>\n  </thead>\n  <tbody>\n    <tr>\n      <th>const</th>\n      <td>-3669.9698</td>\n      <td>1476.558</td>\n      <td>-2.485</td>\n      <td>0.013</td>\n      <td>-6575.027</td>\n      <td>-764.913</td>\n    </tr>\n    <tr>\n      <th>density</th>\n      <td>0.0700</td>\n      <td>0.017</td>\n      <td>4.016</td>\n      <td>0.000</td>\n      <td>0.036</td>\n      <td>0.104</td>\n    </tr>\n    <tr>\n      <th>ARTHRITIS</th>\n      <td>54.2767</td>\n      <td>22.847</td>\n      <td>2.376</td>\n      <td>0.018</td>\n      <td>9.325</td>\n      <td>99.228</td>\n    </tr>\n    <tr>\n      <th>CANCER</th>\n      <td>-301.1822</td>\n      <td>128.983</td>\n      <td>-2.335</td>\n      <td>0.020</td>\n      <td>-554.950</td>\n      <td>-47.414</td>\n    </tr>\n    <tr>\n      <th>CASTHMA</th>\n      <td>101.4600</td>\n      <td>39.344</td>\n      <td>2.579</td>\n      <td>0.010</td>\n      <td>24.053</td>\n      <td>178.867</td>\n    </tr>\n    <tr>\n      <th>CHECKUP</th>\n      <td>34.2346</td>\n      <td>12.075</td>\n      <td>2.835</td>\n      <td>0.005</td>\n      <td>10.478</td>\n      <td>57.991</td>\n    </tr>\n    <tr>\n      <th>COPD</th>\n      <td>-214.9018</td>\n      <td>81.553</td>\n      <td>-2.635</td>\n      <td>0.009</td>\n      <td>-375.353</td>\n      <td>-54.451</td>\n    </tr>\n    <tr>\n      <th>COREM</th>\n      <td>-20.6168</td>\n      <td>6.596</td>\n      <td>-3.126</td>\n      <td>0.002</td>\n      <td>-33.593</td>\n      <td>-7.640</td>\n    </tr>\n    <tr>\n      <th>DENTAL</th>\n      <td>28.2716</td>\n      <td>9.632</td>\n      <td>2.935</td>\n      <td>0.004</td>\n      <td>9.322</td>\n      <td>47.221</td>\n    </tr>\n    <tr>\n      <th>DIABETES</th>\n      <td>-220.0813</td>\n      <td>49.898</td>\n      <td>-4.411</td>\n      <td>0.000</td>\n      <td>-318.253</td>\n      <td>-121.910</td>\n    </tr>\n    <tr>\n      <th>HIGHCHOL</th>\n      <td>52.4393</td>\n      <td>20.434</td>\n      <td>2.566</td>\n      <td>0.011</td>\n      <td>12.237</td>\n      <td>92.642</td>\n    </tr>\n    <tr>\n      <th>LPA</th>\n      <td>42.8368</td>\n      <td>14.199</td>\n      <td>3.017</td>\n      <td>0.003</td>\n      <td>14.901</td>\n      <td>70.773</td>\n    </tr>\n  </tbody>\n</table>\n</div>"
     },
     "metadata": {},
     "execution_count": 13
    }
   ],
   "source": [
    "## Get significant variables\n",
    "p = est.pvalues\n",
    "significant_vars = p.loc[p < 0.05].index.tolist()\n",
    "significant_vars.remove('const')\n",
    "\n",
    "ols_coef = pd.read_html(est.summary().tables[1].as_html(),header=0,index_col=0)[0]\n",
    "ols_coef.loc[ols_coef['P>|t|'] < 0.05]"
   ]
  },
  {
   "cell_type": "code",
   "execution_count": 14,
   "metadata": {
    "tags": []
   },
   "outputs": [
    {
     "output_type": "stream",
     "name": "stdout",
     "text": "r2-score on test data:  0.2356\n"
    }
   ],
   "source": [
    "## Predict on test data\n",
    "r2 = r2_score(y_test, est.predict(sm.add_constant(X_test)))\n",
    "print('r2-score on test data: ', round(r2,4))"
   ]
  },
  {
   "cell_type": "code",
   "execution_count": 15,
   "metadata": {},
   "outputs": [
    {
     "output_type": "execute_result",
     "data": {
      "text/plain": "    MeasureId  \\\n2   HIGHCHOL    \n7   ARTHRITIS   \n8   CASTHMA     \n9   DIABETES    \n17  CANCER      \n18  COPD        \n21  DENTAL      \n23  CHECKUP     \n27  COREM       \n15  LPA         \n\n                                                                                                                                                             Measure  \\\n2   High cholesterol among adults aged >=18 Years who have been screened in the past 5 Years                                                                           \n7   Arthritis among adults aged >=18 Years                                                                                                                             \n8   Current asthma among adults aged >=18 Years                                                                                                                        \n9   Diagnosed diabetes among adults aged >=18 Years                                                                                                                    \n17  Cancer (excluding skin cancer) among adults aged >=18 Years                                                                                                        \n18  Chronic obstructive pulmonary disease among adults aged >=18 Years                                                                                                 \n21  Visits to dentist or dental clinic among adults aged >=18 Years                                                                                                    \n23  Visits to doctor for routine checkup within the past Year among adults aged >=18 Years                                                                             \n27  Older adult men aged >=65 Years who are up to date on a core set of clinical preventive services: Flu shot past Year, PPV shot ever, Colorectal cancer screening   \n15  No leisure-time physical activity among adults aged >=18 Years                                                                                                     \n\n               Category  \n2   Health Outcomes      \n7   Health Outcomes      \n8   Health Outcomes      \n9   Health Outcomes      \n17  Health Outcomes      \n18  Health Outcomes      \n21  Prevention           \n23  Prevention           \n27  Prevention           \n15  Unhealthy Behaviors  ",
      "text/html": "<div>\n<style scoped>\n    .dataframe tbody tr th:only-of-type {\n        vertical-align: middle;\n    }\n\n    .dataframe tbody tr th {\n        vertical-align: top;\n    }\n\n    .dataframe thead th {\n        text-align: right;\n    }\n</style>\n<table border=\"1\" class=\"dataframe\">\n  <thead>\n    <tr style=\"text-align: right;\">\n      <th></th>\n      <th>MeasureId</th>\n      <th>Measure</th>\n      <th>Category</th>\n    </tr>\n  </thead>\n  <tbody>\n    <tr>\n      <th>2</th>\n      <td>HIGHCHOL</td>\n      <td>High cholesterol among adults aged &gt;=18 Years who have been screened in the past 5 Years</td>\n      <td>Health Outcomes</td>\n    </tr>\n    <tr>\n      <th>7</th>\n      <td>ARTHRITIS</td>\n      <td>Arthritis among adults aged &gt;=18 Years</td>\n      <td>Health Outcomes</td>\n    </tr>\n    <tr>\n      <th>8</th>\n      <td>CASTHMA</td>\n      <td>Current asthma among adults aged &gt;=18 Years</td>\n      <td>Health Outcomes</td>\n    </tr>\n    <tr>\n      <th>9</th>\n      <td>DIABETES</td>\n      <td>Diagnosed diabetes among adults aged &gt;=18 Years</td>\n      <td>Health Outcomes</td>\n    </tr>\n    <tr>\n      <th>17</th>\n      <td>CANCER</td>\n      <td>Cancer (excluding skin cancer) among adults aged &gt;=18 Years</td>\n      <td>Health Outcomes</td>\n    </tr>\n    <tr>\n      <th>18</th>\n      <td>COPD</td>\n      <td>Chronic obstructive pulmonary disease among adults aged &gt;=18 Years</td>\n      <td>Health Outcomes</td>\n    </tr>\n    <tr>\n      <th>21</th>\n      <td>DENTAL</td>\n      <td>Visits to dentist or dental clinic among adults aged &gt;=18 Years</td>\n      <td>Prevention</td>\n    </tr>\n    <tr>\n      <th>23</th>\n      <td>CHECKUP</td>\n      <td>Visits to doctor for routine checkup within the past Year among adults aged &gt;=18 Years</td>\n      <td>Prevention</td>\n    </tr>\n    <tr>\n      <th>27</th>\n      <td>COREM</td>\n      <td>Older adult men aged &gt;=65 Years who are up to date on a core set of clinical preventive services: Flu shot past Year, PPV shot ever, Colorectal cancer screening</td>\n      <td>Prevention</td>\n    </tr>\n    <tr>\n      <th>15</th>\n      <td>LPA</td>\n      <td>No leisure-time physical activity among adults aged &gt;=18 Years</td>\n      <td>Unhealthy Behaviors</td>\n    </tr>\n  </tbody>\n</table>\n</div>"
     },
     "metadata": {},
     "execution_count": 15
    }
   ],
   "source": [
    "## List significant variables\n",
    "pd.set_option('display.max_colwidth', -1)\n",
    "lookup.loc[lookup['MeasureId'].isin(significant_vars)][['MeasureId','Measure', 'Category']].sort_values(by = 'Category')"
   ]
  },
  {
   "cell_type": "code",
   "execution_count": 16,
   "metadata": {},
   "outputs": [
    {
     "output_type": "display_data",
     "data": {
      "text/plain": "<Figure size 720x720 with 12 Axes>",
      "image/svg+xml": "<?xml version=\"1.0\" encoding=\"utf-8\" standalone=\"no\"?>\n<!DOCTYPE svg PUBLIC \"-//W3C//DTD SVG 1.1//EN\"\n  \"http://www.w3.org/Graphics/SVG/1.1/DTD/svg11.dtd\">\n<!-- Created with matplotlib (https://matplotlib.org/) -->\n<svg height=\"589.79625pt\" version=\"1.1\" viewBox=\"0 0 598.743939 589.79625\" width=\"598.743939pt\" xmlns=\"http://www.w3.org/2000/svg\" xmlns:xlink=\"http://www.w3.org/1999/xlink\">\n <defs>\n  <style type=\"text/css\">\n*{stroke-linecap:butt;stroke-linejoin:round;}\n  </style>\n </defs>\n <g id=\"figure_1\">\n  <g id=\"patch_1\">\n   <path d=\"M 0 589.79625 \nL 598.743939 589.79625 \nL 598.743939 0 \nL 0 0 \nz\n\" style=\"fill:none;\"/>\n  </g>\n  <g id=\"axes_1\">\n   <g id=\"patch_2\">\n    <path d=\"M 33.2875 133.256901 \nL 188.2875 133.256901 \nL 188.2875 22.318125 \nL 33.2875 22.318125 \nz\n\" style=\"fill:#ffffff;\"/>\n   </g>\n   <g id=\"patch_3\">\n    <path clip-path=\"url(#pc9a213dfb9)\" d=\"M 40.332955 133.256901 \nL 54.423864 133.256901 \nL 54.423864 123.453769 \nL 40.332955 123.453769 \nz\n\" style=\"fill:#1f77b4;\"/>\n   </g>\n   <g id=\"patch_4\">\n    <path clip-path=\"url(#pc9a213dfb9)\" d=\"M 54.423864 133.256901 \nL 68.514773 133.256901 \nL 68.514773 87.508952 \nL 54.423864 87.508952 \nz\n\" style=\"fill:#1f77b4;\"/>\n   </g>\n   <g id=\"patch_5\">\n    <path clip-path=\"url(#pc9a213dfb9)\" d=\"M 68.514773 133.256901 \nL 82.605682 133.256901 \nL 82.605682 27.600924 \nL 68.514773 27.600924 \nz\n\" style=\"fill:#1f77b4;\"/>\n   </g>\n   <g id=\"patch_6\">\n    <path clip-path=\"url(#pc9a213dfb9)\" d=\"M 82.605682 133.256901 \nL 96.696591 133.256901 \nL 96.696591 27.600924 \nL 82.605682 27.600924 \nz\n\" style=\"fill:#1f77b4;\"/>\n   </g>\n   <g id=\"patch_7\">\n    <path clip-path=\"url(#pc9a213dfb9)\" d=\"M 96.696591 133.256901 \nL 110.7875 133.256901 \nL 110.7875 46.117951 \nL 96.696591 46.117951 \nz\n\" style=\"fill:#1f77b4;\"/>\n   </g>\n   <g id=\"patch_8\">\n    <path clip-path=\"url(#pc9a213dfb9)\" d=\"M 110.7875 133.256901 \nL 124.878409 133.256901 \nL 124.878409 45.028714 \nL 110.7875 45.028714 \nz\n\" style=\"fill:#1f77b4;\"/>\n   </g>\n   <g id=\"patch_9\">\n    <path clip-path=\"url(#pc9a213dfb9)\" d=\"M 124.878409 133.256901 \nL 138.969318 133.256901 \nL 138.969318 78.795057 \nL 124.878409 78.795057 \nz\n\" style=\"fill:#1f77b4;\"/>\n   </g>\n   <g id=\"patch_10\">\n    <path clip-path=\"url(#pc9a213dfb9)\" d=\"M 138.969318 133.256901 \nL 153.060227 133.256901 \nL 153.060227 103.847505 \nL 138.969318 103.847505 \nz\n\" style=\"fill:#1f77b4;\"/>\n   </g>\n   <g id=\"patch_11\">\n    <path clip-path=\"url(#pc9a213dfb9)\" d=\"M 153.060227 133.256901 \nL 167.151136 133.256901 \nL 167.151136 122.364532 \nL 153.060227 122.364532 \nz\n\" style=\"fill:#1f77b4;\"/>\n   </g>\n   <g id=\"patch_12\">\n    <path clip-path=\"url(#pc9a213dfb9)\" d=\"M 167.151136 133.256901 \nL 181.242045 133.256901 \nL 181.242045 128.899953 \nL 167.151136 128.899953 \nz\n\" style=\"fill:#1f77b4;\"/>\n   </g>\n   <g id=\"matplotlib.axis_1\">\n    <g id=\"xtick_1\">\n     <g id=\"line2d_1\">\n      <path clip-path=\"url(#pc9a213dfb9)\" d=\"M 50.039281 133.256901 \nL 50.039281 22.318125 \n\" style=\"fill:none;stroke:#b0b0b0;stroke-linecap:square;stroke-width:0.8;\"/>\n     </g>\n     <g id=\"line2d_2\">\n      <defs>\n       <path d=\"M 0 0 \nL 0 3.5 \n\" id=\"m4cdbf06d37\" style=\"stroke:#000000;stroke-width:0.8;\"/>\n      </defs>\n      <g>\n       <use style=\"stroke:#000000;stroke-width:0.8;\" x=\"50.039281\" xlink:href=\"#m4cdbf06d37\" y=\"133.256901\"/>\n      </g>\n     </g>\n     <g id=\"text_1\">\n      <!-- 15 -->\n      <defs>\n       <path d=\"M 12.40625 8.296875 \nL 28.515625 8.296875 \nL 28.515625 63.921875 \nL 10.984375 60.40625 \nL 10.984375 69.390625 \nL 28.421875 72.90625 \nL 38.28125 72.90625 \nL 38.28125 8.296875 \nL 54.390625 8.296875 \nL 54.390625 0 \nL 12.40625 0 \nz\n\" id=\"DejaVuSans-49\"/>\n       <path d=\"M 10.796875 72.90625 \nL 49.515625 72.90625 \nL 49.515625 64.59375 \nL 19.828125 64.59375 \nL 19.828125 46.734375 \nQ 21.96875 47.46875 24.109375 47.828125 \nQ 26.265625 48.1875 28.421875 48.1875 \nQ 40.625 48.1875 47.75 41.5 \nQ 54.890625 34.8125 54.890625 23.390625 \nQ 54.890625 11.625 47.5625 5.09375 \nQ 40.234375 -1.421875 26.90625 -1.421875 \nQ 22.3125 -1.421875 17.546875 -0.640625 \nQ 12.796875 0.140625 7.71875 1.703125 \nL 7.71875 11.625 \nQ 12.109375 9.234375 16.796875 8.0625 \nQ 21.484375 6.890625 26.703125 6.890625 \nQ 35.15625 6.890625 40.078125 11.328125 \nQ 45.015625 15.765625 45.015625 23.390625 \nQ 45.015625 31 40.078125 35.4375 \nQ 35.15625 39.890625 26.703125 39.890625 \nQ 22.75 39.890625 18.8125 39.015625 \nQ 14.890625 38.140625 10.796875 36.28125 \nz\n\" id=\"DejaVuSans-53\"/>\n      </defs>\n      <g transform=\"translate(43.676781 147.855338)scale(0.1 -0.1)\">\n       <use xlink:href=\"#DejaVuSans-49\"/>\n       <use x=\"63.623047\" xlink:href=\"#DejaVuSans-53\"/>\n      </g>\n     </g>\n    </g>\n    <g id=\"xtick_2\">\n     <g id=\"line2d_3\">\n      <path clip-path=\"url(#pc9a213dfb9)\" d=\"M 83.509374 133.256901 \nL 83.509374 22.318125 \n\" style=\"fill:none;stroke:#b0b0b0;stroke-linecap:square;stroke-width:0.8;\"/>\n     </g>\n     <g id=\"line2d_4\">\n      <g>\n       <use style=\"stroke:#000000;stroke-width:0.8;\" x=\"83.509374\" xlink:href=\"#m4cdbf06d37\" y=\"133.256901\"/>\n      </g>\n     </g>\n     <g id=\"text_2\">\n      <!-- 20 -->\n      <defs>\n       <path d=\"M 19.1875 8.296875 \nL 53.609375 8.296875 \nL 53.609375 0 \nL 7.328125 0 \nL 7.328125 8.296875 \nQ 12.9375 14.109375 22.625 23.890625 \nQ 32.328125 33.6875 34.8125 36.53125 \nQ 39.546875 41.84375 41.421875 45.53125 \nQ 43.3125 49.21875 43.3125 52.78125 \nQ 43.3125 58.59375 39.234375 62.25 \nQ 35.15625 65.921875 28.609375 65.921875 \nQ 23.96875 65.921875 18.8125 64.3125 \nQ 13.671875 62.703125 7.8125 59.421875 \nL 7.8125 69.390625 \nQ 13.765625 71.78125 18.9375 73 \nQ 24.125 74.21875 28.421875 74.21875 \nQ 39.75 74.21875 46.484375 68.546875 \nQ 53.21875 62.890625 53.21875 53.421875 \nQ 53.21875 48.921875 51.53125 44.890625 \nQ 49.859375 40.875 45.40625 35.40625 \nQ 44.1875 33.984375 37.640625 27.21875 \nQ 31.109375 20.453125 19.1875 8.296875 \nz\n\" id=\"DejaVuSans-50\"/>\n       <path d=\"M 31.78125 66.40625 \nQ 24.171875 66.40625 20.328125 58.90625 \nQ 16.5 51.421875 16.5 36.375 \nQ 16.5 21.390625 20.328125 13.890625 \nQ 24.171875 6.390625 31.78125 6.390625 \nQ 39.453125 6.390625 43.28125 13.890625 \nQ 47.125 21.390625 47.125 36.375 \nQ 47.125 51.421875 43.28125 58.90625 \nQ 39.453125 66.40625 31.78125 66.40625 \nz\nM 31.78125 74.21875 \nQ 44.046875 74.21875 50.515625 64.515625 \nQ 56.984375 54.828125 56.984375 36.375 \nQ 56.984375 17.96875 50.515625 8.265625 \nQ 44.046875 -1.421875 31.78125 -1.421875 \nQ 19.53125 -1.421875 13.0625 8.265625 \nQ 6.59375 17.96875 6.59375 36.375 \nQ 6.59375 54.828125 13.0625 64.515625 \nQ 19.53125 74.21875 31.78125 74.21875 \nz\n\" id=\"DejaVuSans-48\"/>\n      </defs>\n      <g transform=\"translate(77.146874 147.855338)scale(0.1 -0.1)\">\n       <use xlink:href=\"#DejaVuSans-50\"/>\n       <use x=\"63.623047\" xlink:href=\"#DejaVuSans-48\"/>\n      </g>\n     </g>\n    </g>\n    <g id=\"xtick_3\">\n     <g id=\"line2d_5\">\n      <path clip-path=\"url(#pc9a213dfb9)\" d=\"M 116.979467 133.256901 \nL 116.979467 22.318125 \n\" style=\"fill:none;stroke:#b0b0b0;stroke-linecap:square;stroke-width:0.8;\"/>\n     </g>\n     <g id=\"line2d_6\">\n      <g>\n       <use style=\"stroke:#000000;stroke-width:0.8;\" x=\"116.979467\" xlink:href=\"#m4cdbf06d37\" y=\"133.256901\"/>\n      </g>\n     </g>\n     <g id=\"text_3\">\n      <!-- 25 -->\n      <g transform=\"translate(110.616967 147.855338)scale(0.1 -0.1)\">\n       <use xlink:href=\"#DejaVuSans-50\"/>\n       <use x=\"63.623047\" xlink:href=\"#DejaVuSans-53\"/>\n      </g>\n     </g>\n    </g>\n    <g id=\"xtick_4\">\n     <g id=\"line2d_7\">\n      <path clip-path=\"url(#pc9a213dfb9)\" d=\"M 150.44956 133.256901 \nL 150.44956 22.318125 \n\" style=\"fill:none;stroke:#b0b0b0;stroke-linecap:square;stroke-width:0.8;\"/>\n     </g>\n     <g id=\"line2d_8\">\n      <g>\n       <use style=\"stroke:#000000;stroke-width:0.8;\" x=\"150.44956\" xlink:href=\"#m4cdbf06d37\" y=\"133.256901\"/>\n      </g>\n     </g>\n     <g id=\"text_4\">\n      <!-- 30 -->\n      <defs>\n       <path d=\"M 40.578125 39.3125 \nQ 47.65625 37.796875 51.625 33 \nQ 55.609375 28.21875 55.609375 21.1875 \nQ 55.609375 10.40625 48.1875 4.484375 \nQ 40.765625 -1.421875 27.09375 -1.421875 \nQ 22.515625 -1.421875 17.65625 -0.515625 \nQ 12.796875 0.390625 7.625 2.203125 \nL 7.625 11.71875 \nQ 11.71875 9.328125 16.59375 8.109375 \nQ 21.484375 6.890625 26.8125 6.890625 \nQ 36.078125 6.890625 40.9375 10.546875 \nQ 45.796875 14.203125 45.796875 21.1875 \nQ 45.796875 27.640625 41.28125 31.265625 \nQ 36.765625 34.90625 28.71875 34.90625 \nL 20.21875 34.90625 \nL 20.21875 43.015625 \nL 29.109375 43.015625 \nQ 36.375 43.015625 40.234375 45.921875 \nQ 44.09375 48.828125 44.09375 54.296875 \nQ 44.09375 59.90625 40.109375 62.90625 \nQ 36.140625 65.921875 28.71875 65.921875 \nQ 24.65625 65.921875 20.015625 65.03125 \nQ 15.375 64.15625 9.8125 62.3125 \nL 9.8125 71.09375 \nQ 15.4375 72.65625 20.34375 73.4375 \nQ 25.25 74.21875 29.59375 74.21875 \nQ 40.828125 74.21875 47.359375 69.109375 \nQ 53.90625 64.015625 53.90625 55.328125 \nQ 53.90625 49.265625 50.4375 45.09375 \nQ 46.96875 40.921875 40.578125 39.3125 \nz\n\" id=\"DejaVuSans-51\"/>\n      </defs>\n      <g transform=\"translate(144.08706 147.855338)scale(0.1 -0.1)\">\n       <use xlink:href=\"#DejaVuSans-51\"/>\n       <use x=\"63.623047\" xlink:href=\"#DejaVuSans-48\"/>\n      </g>\n     </g>\n    </g>\n    <g id=\"xtick_5\">\n     <g id=\"line2d_9\">\n      <path clip-path=\"url(#pc9a213dfb9)\" d=\"M 183.919653 133.256901 \nL 183.919653 22.318125 \n\" style=\"fill:none;stroke:#b0b0b0;stroke-linecap:square;stroke-width:0.8;\"/>\n     </g>\n     <g id=\"line2d_10\">\n      <g>\n       <use style=\"stroke:#000000;stroke-width:0.8;\" x=\"183.919653\" xlink:href=\"#m4cdbf06d37\" y=\"133.256901\"/>\n      </g>\n     </g>\n     <g id=\"text_5\">\n      <!-- 35 -->\n      <g transform=\"translate(177.557153 147.855338)scale(0.1 -0.1)\">\n       <use xlink:href=\"#DejaVuSans-51\"/>\n       <use x=\"63.623047\" xlink:href=\"#DejaVuSans-53\"/>\n      </g>\n     </g>\n    </g>\n   </g>\n   <g id=\"matplotlib.axis_2\">\n    <g id=\"ytick_1\">\n     <g id=\"line2d_11\">\n      <path clip-path=\"url(#pc9a213dfb9)\" d=\"M 33.2875 133.256901 \nL 188.2875 133.256901 \n\" style=\"fill:none;stroke:#b0b0b0;stroke-linecap:square;stroke-width:0.8;\"/>\n     </g>\n     <g id=\"line2d_12\">\n      <defs>\n       <path d=\"M 0 0 \nL -3.5 0 \n\" id=\"mdee30e5c97\" style=\"stroke:#000000;stroke-width:0.8;\"/>\n      </defs>\n      <g>\n       <use style=\"stroke:#000000;stroke-width:0.8;\" x=\"33.2875\" xlink:href=\"#mdee30e5c97\" y=\"133.256901\"/>\n      </g>\n     </g>\n     <g id=\"text_6\">\n      <!-- 0 -->\n      <g transform=\"translate(19.925 137.056119)scale(0.1 -0.1)\">\n       <use xlink:href=\"#DejaVuSans-48\"/>\n      </g>\n     </g>\n    </g>\n    <g id=\"ytick_2\">\n     <g id=\"line2d_13\">\n      <path clip-path=\"url(#pc9a213dfb9)\" d=\"M 33.2875 106.025979 \nL 188.2875 106.025979 \n\" style=\"fill:none;stroke:#b0b0b0;stroke-linecap:square;stroke-width:0.8;\"/>\n     </g>\n     <g id=\"line2d_14\">\n      <g>\n       <use style=\"stroke:#000000;stroke-width:0.8;\" x=\"33.2875\" xlink:href=\"#mdee30e5c97\" y=\"106.025979\"/>\n      </g>\n     </g>\n     <g id=\"text_7\">\n      <!-- 25 -->\n      <g transform=\"translate(13.5625 109.825197)scale(0.1 -0.1)\">\n       <use xlink:href=\"#DejaVuSans-50\"/>\n       <use x=\"63.623047\" xlink:href=\"#DejaVuSans-53\"/>\n      </g>\n     </g>\n    </g>\n    <g id=\"ytick_3\">\n     <g id=\"line2d_15\">\n      <path clip-path=\"url(#pc9a213dfb9)\" d=\"M 33.2875 78.795057 \nL 188.2875 78.795057 \n\" style=\"fill:none;stroke:#b0b0b0;stroke-linecap:square;stroke-width:0.8;\"/>\n     </g>\n     <g id=\"line2d_16\">\n      <g>\n       <use style=\"stroke:#000000;stroke-width:0.8;\" x=\"33.2875\" xlink:href=\"#mdee30e5c97\" y=\"78.795057\"/>\n      </g>\n     </g>\n     <g id=\"text_8\">\n      <!-- 50 -->\n      <g transform=\"translate(13.5625 82.594276)scale(0.1 -0.1)\">\n       <use xlink:href=\"#DejaVuSans-53\"/>\n       <use x=\"63.623047\" xlink:href=\"#DejaVuSans-48\"/>\n      </g>\n     </g>\n    </g>\n    <g id=\"ytick_4\">\n     <g id=\"line2d_17\">\n      <path clip-path=\"url(#pc9a213dfb9)\" d=\"M 33.2875 51.564135 \nL 188.2875 51.564135 \n\" style=\"fill:none;stroke:#b0b0b0;stroke-linecap:square;stroke-width:0.8;\"/>\n     </g>\n     <g id=\"line2d_18\">\n      <g>\n       <use style=\"stroke:#000000;stroke-width:0.8;\" x=\"33.2875\" xlink:href=\"#mdee30e5c97\" y=\"51.564135\"/>\n      </g>\n     </g>\n     <g id=\"text_9\">\n      <!-- 75 -->\n      <defs>\n       <path d=\"M 8.203125 72.90625 \nL 55.078125 72.90625 \nL 55.078125 68.703125 \nL 28.609375 0 \nL 18.3125 0 \nL 43.21875 64.59375 \nL 8.203125 64.59375 \nz\n\" id=\"DejaVuSans-55\"/>\n      </defs>\n      <g transform=\"translate(13.5625 55.363354)scale(0.1 -0.1)\">\n       <use xlink:href=\"#DejaVuSans-55\"/>\n       <use x=\"63.623047\" xlink:href=\"#DejaVuSans-53\"/>\n      </g>\n     </g>\n    </g>\n    <g id=\"ytick_5\">\n     <g id=\"line2d_19\">\n      <path clip-path=\"url(#pc9a213dfb9)\" d=\"M 33.2875 24.333213 \nL 188.2875 24.333213 \n\" style=\"fill:none;stroke:#b0b0b0;stroke-linecap:square;stroke-width:0.8;\"/>\n     </g>\n     <g id=\"line2d_20\">\n      <g>\n       <use style=\"stroke:#000000;stroke-width:0.8;\" x=\"33.2875\" xlink:href=\"#mdee30e5c97\" y=\"24.333213\"/>\n      </g>\n     </g>\n     <g id=\"text_10\">\n      <!-- 100 -->\n      <g transform=\"translate(7.2 28.132432)scale(0.1 -0.1)\">\n       <use xlink:href=\"#DejaVuSans-49\"/>\n       <use x=\"63.623047\" xlink:href=\"#DejaVuSans-48\"/>\n       <use x=\"127.246094\" xlink:href=\"#DejaVuSans-48\"/>\n      </g>\n     </g>\n    </g>\n   </g>\n   <g id=\"patch_13\">\n    <path d=\"M 33.2875 133.256901 \nL 33.2875 22.318125 \n\" style=\"fill:none;stroke:#000000;stroke-linecap:square;stroke-linejoin:miter;stroke-width:0.8;\"/>\n   </g>\n   <g id=\"patch_14\">\n    <path d=\"M 188.2875 133.256901 \nL 188.2875 22.318125 \n\" style=\"fill:none;stroke:#000000;stroke-linecap:square;stroke-linejoin:miter;stroke-width:0.8;\"/>\n   </g>\n   <g id=\"patch_15\">\n    <path d=\"M 33.2875 133.256901 \nL 188.2875 133.256901 \n\" style=\"fill:none;stroke:#000000;stroke-linecap:square;stroke-linejoin:miter;stroke-width:0.8;\"/>\n   </g>\n   <g id=\"patch_16\">\n    <path d=\"M 33.2875 22.318125 \nL 188.2875 22.318125 \n\" style=\"fill:none;stroke:#000000;stroke-linecap:square;stroke-linejoin:miter;stroke-width:0.8;\"/>\n   </g>\n   <g id=\"text_11\">\n    <!-- ARTHRITIS -->\n    <defs>\n     <path d=\"M 34.1875 63.1875 \nL 20.796875 26.90625 \nL 47.609375 26.90625 \nz\nM 28.609375 72.90625 \nL 39.796875 72.90625 \nL 67.578125 0 \nL 57.328125 0 \nL 50.6875 18.703125 \nL 17.828125 18.703125 \nL 11.1875 0 \nL 0.78125 0 \nz\n\" id=\"DejaVuSans-65\"/>\n     <path d=\"M 44.390625 34.1875 \nQ 47.5625 33.109375 50.5625 29.59375 \nQ 53.5625 26.078125 56.59375 19.921875 \nL 66.609375 0 \nL 56 0 \nL 46.6875 18.703125 \nQ 43.0625 26.03125 39.671875 28.421875 \nQ 36.28125 30.8125 30.421875 30.8125 \nL 19.671875 30.8125 \nL 19.671875 0 \nL 9.8125 0 \nL 9.8125 72.90625 \nL 32.078125 72.90625 \nQ 44.578125 72.90625 50.734375 67.671875 \nQ 56.890625 62.453125 56.890625 51.90625 \nQ 56.890625 45.015625 53.6875 40.46875 \nQ 50.484375 35.9375 44.390625 34.1875 \nz\nM 19.671875 64.796875 \nL 19.671875 38.921875 \nL 32.078125 38.921875 \nQ 39.203125 38.921875 42.84375 42.21875 \nQ 46.484375 45.515625 46.484375 51.90625 \nQ 46.484375 58.296875 42.84375 61.546875 \nQ 39.203125 64.796875 32.078125 64.796875 \nz\n\" id=\"DejaVuSans-82\"/>\n     <path d=\"M -0.296875 72.90625 \nL 61.375 72.90625 \nL 61.375 64.59375 \nL 35.5 64.59375 \nL 35.5 0 \nL 25.59375 0 \nL 25.59375 64.59375 \nL -0.296875 64.59375 \nz\n\" id=\"DejaVuSans-84\"/>\n     <path d=\"M 9.8125 72.90625 \nL 19.671875 72.90625 \nL 19.671875 43.015625 \nL 55.515625 43.015625 \nL 55.515625 72.90625 \nL 65.375 72.90625 \nL 65.375 0 \nL 55.515625 0 \nL 55.515625 34.71875 \nL 19.671875 34.71875 \nL 19.671875 0 \nL 9.8125 0 \nz\n\" id=\"DejaVuSans-72\"/>\n     <path d=\"M 9.8125 72.90625 \nL 19.671875 72.90625 \nL 19.671875 0 \nL 9.8125 0 \nz\n\" id=\"DejaVuSans-73\"/>\n     <path d=\"M 53.515625 70.515625 \nL 53.515625 60.890625 \nQ 47.90625 63.578125 42.921875 64.890625 \nQ 37.9375 66.21875 33.296875 66.21875 \nQ 25.25 66.21875 20.875 63.09375 \nQ 16.5 59.96875 16.5 54.203125 \nQ 16.5 49.359375 19.40625 46.890625 \nQ 22.3125 44.4375 30.421875 42.921875 \nL 36.375 41.703125 \nQ 47.40625 39.59375 52.65625 34.296875 \nQ 57.90625 29 57.90625 20.125 \nQ 57.90625 9.515625 50.796875 4.046875 \nQ 43.703125 -1.421875 29.984375 -1.421875 \nQ 24.8125 -1.421875 18.96875 -0.25 \nQ 13.140625 0.921875 6.890625 3.21875 \nL 6.890625 13.375 \nQ 12.890625 10.015625 18.65625 8.296875 \nQ 24.421875 6.59375 29.984375 6.59375 \nQ 38.421875 6.59375 43.015625 9.90625 \nQ 47.609375 13.234375 47.609375 19.390625 \nQ 47.609375 24.75 44.3125 27.78125 \nQ 41.015625 30.8125 33.5 32.328125 \nL 27.484375 33.5 \nQ 16.453125 35.6875 11.515625 40.375 \nQ 6.59375 45.0625 6.59375 53.421875 \nQ 6.59375 63.09375 13.40625 68.65625 \nQ 20.21875 74.21875 32.171875 74.21875 \nQ 37.3125 74.21875 42.625 73.28125 \nQ 47.953125 72.359375 53.515625 70.515625 \nz\n\" id=\"DejaVuSans-83\"/>\n    </defs>\n    <g transform=\"translate(79.589375 16.318125)scale(0.12 -0.12)\">\n     <use xlink:href=\"#DejaVuSans-65\"/>\n     <use x=\"68.408203\" xlink:href=\"#DejaVuSans-82\"/>\n     <use x=\"130.640625\" xlink:href=\"#DejaVuSans-84\"/>\n     <use x=\"191.724609\" xlink:href=\"#DejaVuSans-72\"/>\n     <use x=\"266.919922\" xlink:href=\"#DejaVuSans-82\"/>\n     <use x=\"336.402344\" xlink:href=\"#DejaVuSans-73\"/>\n     <use x=\"365.894531\" xlink:href=\"#DejaVuSans-84\"/>\n     <use x=\"426.978516\" xlink:href=\"#DejaVuSans-73\"/>\n     <use x=\"456.470703\" xlink:href=\"#DejaVuSans-83\"/>\n    </g>\n   </g>\n  </g>\n  <g id=\"axes_2\">\n   <g id=\"patch_17\">\n    <path d=\"M 234.7875 133.256901 \nL 389.7875 133.256901 \nL 389.7875 22.318125 \nL 234.7875 22.318125 \nz\n\" style=\"fill:#ffffff;\"/>\n   </g>\n   <g id=\"patch_18\">\n    <path clip-path=\"url(#ped8d232d7f)\" d=\"M 241.832955 133.256901 \nL 255.923864 133.256901 \nL 255.923864 125.332702 \nL 241.832955 125.332702 \nz\n\" style=\"fill:#1f77b4;\"/>\n   </g>\n   <g id=\"patch_19\">\n    <path clip-path=\"url(#ped8d232d7f)\" d=\"M 255.923864 133.256901 \nL 270.014773 133.256901 \nL 270.014773 109.484306 \nL 255.923864 109.484306 \nz\n\" style=\"fill:#1f77b4;\"/>\n   </g>\n   <g id=\"patch_20\">\n    <path clip-path=\"url(#ped8d232d7f)\" d=\"M 270.014773 133.256901 \nL 284.105682 133.256901 \nL 284.105682 82.189845 \nL 270.014773 82.189845 \nz\n\" style=\"fill:#1f77b4;\"/>\n   </g>\n   <g id=\"patch_21\">\n    <path clip-path=\"url(#ped8d232d7f)\" d=\"M 284.105682 133.256901 \nL 298.196591 133.256901 \nL 298.196591 61.939116 \nL 284.105682 61.939116 \nz\n\" style=\"fill:#1f77b4;\"/>\n   </g>\n   <g id=\"patch_22\">\n    <path clip-path=\"url(#ped8d232d7f)\" d=\"M 298.196591 133.256901 \nL 312.2875 133.256901 \nL 312.2875 27.600924 \nL 298.196591 27.600924 \nz\n\" style=\"fill:#1f77b4;\"/>\n   </g>\n   <g id=\"patch_23\">\n    <path clip-path=\"url(#ped8d232d7f)\" d=\"M 312.2875 133.256901 \nL 326.378409 133.256901 \nL 326.378409 46.09072 \nL 312.2875 46.09072 \nz\n\" style=\"fill:#1f77b4;\"/>\n   </g>\n   <g id=\"patch_24\">\n    <path clip-path=\"url(#ped8d232d7f)\" d=\"M 326.378409 133.256901 \nL 340.469318 133.256901 \nL 340.469318 80.428912 \nL 326.378409 80.428912 \nz\n\" style=\"fill:#1f77b4;\"/>\n   </g>\n   <g id=\"patch_25\">\n    <path clip-path=\"url(#ped8d232d7f)\" d=\"M 340.469318 133.256901 \nL 354.560227 133.256901 \nL 354.560227 108.603839 \nL 340.469318 108.603839 \nz\n\" style=\"fill:#1f77b4;\"/>\n   </g>\n   <g id=\"patch_26\">\n    <path clip-path=\"url(#ped8d232d7f)\" d=\"M 354.560227 133.256901 \nL 368.651136 133.256901 \nL 368.651136 123.571769 \nL 354.560227 123.571769 \nz\n\" style=\"fill:#1f77b4;\"/>\n   </g>\n   <g id=\"patch_27\">\n    <path clip-path=\"url(#ped8d232d7f)\" d=\"M 368.651136 133.256901 \nL 382.742045 133.256901 \nL 382.742045 129.735035 \nL 368.651136 129.735035 \nz\n\" style=\"fill:#1f77b4;\"/>\n   </g>\n   <g id=\"matplotlib.axis_3\">\n    <g id=\"xtick_6\">\n     <g id=\"line2d_21\">\n      <path clip-path=\"url(#ped8d232d7f)\" d=\"M 239.954167 133.256901 \nL 239.954167 22.318125 \n\" style=\"fill:none;stroke:#b0b0b0;stroke-linecap:square;stroke-width:0.8;\"/>\n     </g>\n     <g id=\"line2d_22\">\n      <g>\n       <use style=\"stroke:#000000;stroke-width:0.8;\" x=\"239.954167\" xlink:href=\"#m4cdbf06d37\" y=\"133.256901\"/>\n      </g>\n     </g>\n     <g id=\"text_12\">\n      <!-- 4 -->\n      <defs>\n       <path d=\"M 37.796875 64.3125 \nL 12.890625 25.390625 \nL 37.796875 25.390625 \nz\nM 35.203125 72.90625 \nL 47.609375 72.90625 \nL 47.609375 25.390625 \nL 58.015625 25.390625 \nL 58.015625 17.1875 \nL 47.609375 17.1875 \nL 47.609375 0 \nL 37.796875 0 \nL 37.796875 17.1875 \nL 4.890625 17.1875 \nL 4.890625 26.703125 \nz\n\" id=\"DejaVuSans-52\"/>\n      </defs>\n      <g transform=\"translate(236.772917 147.855338)scale(0.1 -0.1)\">\n       <use xlink:href=\"#DejaVuSans-52\"/>\n      </g>\n     </g>\n    </g>\n    <g id=\"xtick_7\">\n     <g id=\"line2d_23\">\n      <path clip-path=\"url(#ped8d232d7f)\" d=\"M 277.529924 133.256901 \nL 277.529924 22.318125 \n\" style=\"fill:none;stroke:#b0b0b0;stroke-linecap:square;stroke-width:0.8;\"/>\n     </g>\n     <g id=\"line2d_24\">\n      <g>\n       <use style=\"stroke:#000000;stroke-width:0.8;\" x=\"277.529924\" xlink:href=\"#m4cdbf06d37\" y=\"133.256901\"/>\n      </g>\n     </g>\n     <g id=\"text_13\">\n      <!-- 5 -->\n      <g transform=\"translate(274.348674 147.855338)scale(0.1 -0.1)\">\n       <use xlink:href=\"#DejaVuSans-53\"/>\n      </g>\n     </g>\n    </g>\n    <g id=\"xtick_8\">\n     <g id=\"line2d_25\">\n      <path clip-path=\"url(#ped8d232d7f)\" d=\"M 315.105682 133.256901 \nL 315.105682 22.318125 \n\" style=\"fill:none;stroke:#b0b0b0;stroke-linecap:square;stroke-width:0.8;\"/>\n     </g>\n     <g id=\"line2d_26\">\n      <g>\n       <use style=\"stroke:#000000;stroke-width:0.8;\" x=\"315.105682\" xlink:href=\"#m4cdbf06d37\" y=\"133.256901\"/>\n      </g>\n     </g>\n     <g id=\"text_14\">\n      <!-- 6 -->\n      <defs>\n       <path d=\"M 33.015625 40.375 \nQ 26.375 40.375 22.484375 35.828125 \nQ 18.609375 31.296875 18.609375 23.390625 \nQ 18.609375 15.53125 22.484375 10.953125 \nQ 26.375 6.390625 33.015625 6.390625 \nQ 39.65625 6.390625 43.53125 10.953125 \nQ 47.40625 15.53125 47.40625 23.390625 \nQ 47.40625 31.296875 43.53125 35.828125 \nQ 39.65625 40.375 33.015625 40.375 \nz\nM 52.59375 71.296875 \nL 52.59375 62.3125 \nQ 48.875 64.0625 45.09375 64.984375 \nQ 41.3125 65.921875 37.59375 65.921875 \nQ 27.828125 65.921875 22.671875 59.328125 \nQ 17.53125 52.734375 16.796875 39.40625 \nQ 19.671875 43.65625 24.015625 45.921875 \nQ 28.375 48.1875 33.59375 48.1875 \nQ 44.578125 48.1875 50.953125 41.515625 \nQ 57.328125 34.859375 57.328125 23.390625 \nQ 57.328125 12.15625 50.6875 5.359375 \nQ 44.046875 -1.421875 33.015625 -1.421875 \nQ 20.359375 -1.421875 13.671875 8.265625 \nQ 6.984375 17.96875 6.984375 36.375 \nQ 6.984375 53.65625 15.1875 63.9375 \nQ 23.390625 74.21875 37.203125 74.21875 \nQ 40.921875 74.21875 44.703125 73.484375 \nQ 48.484375 72.75 52.59375 71.296875 \nz\n\" id=\"DejaVuSans-54\"/>\n      </defs>\n      <g transform=\"translate(311.924432 147.855338)scale(0.1 -0.1)\">\n       <use xlink:href=\"#DejaVuSans-54\"/>\n      </g>\n     </g>\n    </g>\n    <g id=\"xtick_9\">\n     <g id=\"line2d_27\">\n      <path clip-path=\"url(#ped8d232d7f)\" d=\"M 352.681439 133.256901 \nL 352.681439 22.318125 \n\" style=\"fill:none;stroke:#b0b0b0;stroke-linecap:square;stroke-width:0.8;\"/>\n     </g>\n     <g id=\"line2d_28\">\n      <g>\n       <use style=\"stroke:#000000;stroke-width:0.8;\" x=\"352.681439\" xlink:href=\"#m4cdbf06d37\" y=\"133.256901\"/>\n      </g>\n     </g>\n     <g id=\"text_15\">\n      <!-- 7 -->\n      <g transform=\"translate(349.500189 147.855338)scale(0.1 -0.1)\">\n       <use xlink:href=\"#DejaVuSans-55\"/>\n      </g>\n     </g>\n    </g>\n   </g>\n   <g id=\"matplotlib.axis_4\">\n    <g id=\"ytick_6\">\n     <g id=\"line2d_29\">\n      <path clip-path=\"url(#ped8d232d7f)\" d=\"M 234.7875 133.256901 \nL 389.7875 133.256901 \n\" style=\"fill:none;stroke:#b0b0b0;stroke-linecap:square;stroke-width:0.8;\"/>\n     </g>\n     <g id=\"line2d_30\">\n      <g>\n       <use style=\"stroke:#000000;stroke-width:0.8;\" x=\"234.7875\" xlink:href=\"#mdee30e5c97\" y=\"133.256901\"/>\n      </g>\n     </g>\n     <g id=\"text_16\">\n      <!-- 0 -->\n      <g transform=\"translate(221.425 137.056119)scale(0.1 -0.1)\">\n       <use xlink:href=\"#DejaVuSans-48\"/>\n      </g>\n     </g>\n    </g>\n    <g id=\"ytick_7\">\n     <g id=\"line2d_31\">\n      <path clip-path=\"url(#ped8d232d7f)\" d=\"M 234.7875 89.233577 \nL 389.7875 89.233577 \n\" style=\"fill:none;stroke:#b0b0b0;stroke-linecap:square;stroke-width:0.8;\"/>\n     </g>\n     <g id=\"line2d_32\">\n      <g>\n       <use style=\"stroke:#000000;stroke-width:0.8;\" x=\"234.7875\" xlink:href=\"#mdee30e5c97\" y=\"89.233577\"/>\n      </g>\n     </g>\n     <g id=\"text_17\">\n      <!-- 50 -->\n      <g transform=\"translate(215.0625 93.032796)scale(0.1 -0.1)\">\n       <use xlink:href=\"#DejaVuSans-53\"/>\n       <use x=\"63.623047\" xlink:href=\"#DejaVuSans-48\"/>\n      </g>\n     </g>\n    </g>\n    <g id=\"ytick_8\">\n     <g id=\"line2d_33\">\n      <path clip-path=\"url(#ped8d232d7f)\" d=\"M 234.7875 45.210253 \nL 389.7875 45.210253 \n\" style=\"fill:none;stroke:#b0b0b0;stroke-linecap:square;stroke-width:0.8;\"/>\n     </g>\n     <g id=\"line2d_34\">\n      <g>\n       <use style=\"stroke:#000000;stroke-width:0.8;\" x=\"234.7875\" xlink:href=\"#mdee30e5c97\" y=\"45.210253\"/>\n      </g>\n     </g>\n     <g id=\"text_18\">\n      <!-- 100 -->\n      <g transform=\"translate(208.7 49.009472)scale(0.1 -0.1)\">\n       <use xlink:href=\"#DejaVuSans-49\"/>\n       <use x=\"63.623047\" xlink:href=\"#DejaVuSans-48\"/>\n       <use x=\"127.246094\" xlink:href=\"#DejaVuSans-48\"/>\n      </g>\n     </g>\n    </g>\n   </g>\n   <g id=\"patch_28\">\n    <path d=\"M 234.7875 133.256901 \nL 234.7875 22.318125 \n\" style=\"fill:none;stroke:#000000;stroke-linecap:square;stroke-linejoin:miter;stroke-width:0.8;\"/>\n   </g>\n   <g id=\"patch_29\">\n    <path d=\"M 389.7875 133.256901 \nL 389.7875 22.318125 \n\" style=\"fill:none;stroke:#000000;stroke-linecap:square;stroke-linejoin:miter;stroke-width:0.8;\"/>\n   </g>\n   <g id=\"patch_30\">\n    <path d=\"M 234.7875 133.256901 \nL 389.7875 133.256901 \n\" style=\"fill:none;stroke:#000000;stroke-linecap:square;stroke-linejoin:miter;stroke-width:0.8;\"/>\n   </g>\n   <g id=\"patch_31\">\n    <path d=\"M 234.7875 22.318125 \nL 389.7875 22.318125 \n\" style=\"fill:none;stroke:#000000;stroke-linecap:square;stroke-linejoin:miter;stroke-width:0.8;\"/>\n   </g>\n   <g id=\"text_19\">\n    <!-- CANCER -->\n    <defs>\n     <path d=\"M 64.40625 67.28125 \nL 64.40625 56.890625 \nQ 59.421875 61.53125 53.78125 63.8125 \nQ 48.140625 66.109375 41.796875 66.109375 \nQ 29.296875 66.109375 22.65625 58.46875 \nQ 16.015625 50.828125 16.015625 36.375 \nQ 16.015625 21.96875 22.65625 14.328125 \nQ 29.296875 6.6875 41.796875 6.6875 \nQ 48.140625 6.6875 53.78125 8.984375 \nQ 59.421875 11.28125 64.40625 15.921875 \nL 64.40625 5.609375 \nQ 59.234375 2.09375 53.4375 0.328125 \nQ 47.65625 -1.421875 41.21875 -1.421875 \nQ 24.65625 -1.421875 15.125 8.703125 \nQ 5.609375 18.84375 5.609375 36.375 \nQ 5.609375 53.953125 15.125 64.078125 \nQ 24.65625 74.21875 41.21875 74.21875 \nQ 47.75 74.21875 53.53125 72.484375 \nQ 59.328125 70.75 64.40625 67.28125 \nz\n\" id=\"DejaVuSans-67\"/>\n     <path d=\"M 9.8125 72.90625 \nL 23.09375 72.90625 \nL 55.421875 11.921875 \nL 55.421875 72.90625 \nL 64.984375 72.90625 \nL 64.984375 0 \nL 51.703125 0 \nL 19.390625 60.984375 \nL 19.390625 0 \nL 9.8125 0 \nz\n\" id=\"DejaVuSans-78\"/>\n     <path d=\"M 9.8125 72.90625 \nL 55.90625 72.90625 \nL 55.90625 64.59375 \nL 19.671875 64.59375 \nL 19.671875 43.015625 \nL 54.390625 43.015625 \nL 54.390625 34.71875 \nL 19.671875 34.71875 \nL 19.671875 8.296875 \nL 56.78125 8.296875 \nL 56.78125 0 \nL 9.8125 0 \nz\n\" id=\"DejaVuSans-69\"/>\n    </defs>\n    <g transform=\"translate(287.354688 16.318125)scale(0.12 -0.12)\">\n     <use xlink:href=\"#DejaVuSans-67\"/>\n     <use x=\"69.824219\" xlink:href=\"#DejaVuSans-65\"/>\n     <use x=\"138.232422\" xlink:href=\"#DejaVuSans-78\"/>\n     <use x=\"213.037109\" xlink:href=\"#DejaVuSans-67\"/>\n     <use x=\"282.861328\" xlink:href=\"#DejaVuSans-69\"/>\n     <use x=\"346.044922\" xlink:href=\"#DejaVuSans-82\"/>\n    </g>\n   </g>\n  </g>\n  <g id=\"axes_3\">\n   <g id=\"patch_32\">\n    <path d=\"M 436.2875 133.256901 \nL 591.2875 133.256901 \nL 591.2875 22.318125 \nL 436.2875 22.318125 \nz\n\" style=\"fill:#ffffff;\"/>\n   </g>\n   <g id=\"patch_33\">\n    <path clip-path=\"url(#p5c10ebe247)\" d=\"M 443.332955 133.256901 \nL 457.423864 133.256901 \nL 457.423864 123.807992 \nL 443.332955 123.807992 \nz\n\" style=\"fill:#1f77b4;\"/>\n   </g>\n   <g id=\"patch_34\">\n    <path clip-path=\"url(#p5c10ebe247)\" d=\"M 457.423864 133.256901 \nL 471.514773 133.256901 \nL 471.514773 93.743283 \nL 457.423864 93.743283 \nz\n\" style=\"fill:#1f77b4;\"/>\n   </g>\n   <g id=\"patch_35\">\n    <path clip-path=\"url(#p5c10ebe247)\" d=\"M 471.514773 133.256901 \nL 485.605682 133.256901 \nL 485.605682 33.613866 \nL 471.514773 33.613866 \nz\n\" style=\"fill:#1f77b4;\"/>\n   </g>\n   <g id=\"patch_36\">\n    <path clip-path=\"url(#p5c10ebe247)\" d=\"M 485.605682 133.256901 \nL 499.696591 133.256901 \nL 499.696591 27.600924 \nL 485.605682 27.600924 \nz\n\" style=\"fill:#1f77b4;\"/>\n   </g>\n   <g id=\"patch_37\">\n    <path clip-path=\"url(#p5c10ebe247)\" d=\"M 499.696591 133.256901 \nL 513.7875 133.256901 \nL 513.7875 48.216724 \nL 499.696591 48.216724 \nz\n\" style=\"fill:#1f77b4;\"/>\n   </g>\n   <g id=\"patch_38\">\n    <path clip-path=\"url(#p5c10ebe247)\" d=\"M 513.7875 133.256901 \nL 527.878409 133.256901 \nL 527.878409 93.743283 \nL 513.7875 93.743283 \nz\n\" style=\"fill:#1f77b4;\"/>\n   </g>\n   <g id=\"patch_39\">\n    <path clip-path=\"url(#p5c10ebe247)\" d=\"M 527.878409 133.256901 \nL 541.969318 133.256901 \nL 541.969318 103.192192 \nL 527.878409 103.192192 \nz\n\" style=\"fill:#1f77b4;\"/>\n   </g>\n   <g id=\"patch_40\">\n    <path clip-path=\"url(#p5c10ebe247)\" d=\"M 541.969318 133.256901 \nL 556.060227 133.256901 \nL 556.060227 125.525975 \nL 541.969318 125.525975 \nz\n\" style=\"fill:#1f77b4;\"/>\n   </g>\n   <g id=\"patch_41\">\n    <path clip-path=\"url(#p5c10ebe247)\" d=\"M 556.060227 133.256901 \nL 570.151136 133.256901 \nL 570.151136 124.666984 \nL 556.060227 124.666984 \nz\n\" style=\"fill:#1f77b4;\"/>\n   </g>\n   <g id=\"patch_42\">\n    <path clip-path=\"url(#p5c10ebe247)\" d=\"M 570.151136 133.256901 \nL 584.242045 133.256901 \nL 584.242045 131.538917 \nL 570.151136 131.538917 \nz\n\" style=\"fill:#1f77b4;\"/>\n   </g>\n   <g id=\"matplotlib.axis_5\">\n    <g id=\"xtick_10\">\n     <g id=\"line2d_35\">\n      <path clip-path=\"url(#p5c10ebe247)\" d=\"M 472.454167 133.256901 \nL 472.454167 22.318125 \n\" style=\"fill:none;stroke:#b0b0b0;stroke-linecap:square;stroke-width:0.8;\"/>\n     </g>\n     <g id=\"line2d_36\">\n      <g>\n       <use style=\"stroke:#000000;stroke-width:0.8;\" x=\"472.454167\" xlink:href=\"#m4cdbf06d37\" y=\"133.256901\"/>\n      </g>\n     </g>\n     <g id=\"text_20\">\n      <!-- 8 -->\n      <defs>\n       <path d=\"M 31.78125 34.625 \nQ 24.75 34.625 20.71875 30.859375 \nQ 16.703125 27.09375 16.703125 20.515625 \nQ 16.703125 13.921875 20.71875 10.15625 \nQ 24.75 6.390625 31.78125 6.390625 \nQ 38.8125 6.390625 42.859375 10.171875 \nQ 46.921875 13.96875 46.921875 20.515625 \nQ 46.921875 27.09375 42.890625 30.859375 \nQ 38.875 34.625 31.78125 34.625 \nz\nM 21.921875 38.8125 \nQ 15.578125 40.375 12.03125 44.71875 \nQ 8.5 49.078125 8.5 55.328125 \nQ 8.5 64.0625 14.71875 69.140625 \nQ 20.953125 74.21875 31.78125 74.21875 \nQ 42.671875 74.21875 48.875 69.140625 \nQ 55.078125 64.0625 55.078125 55.328125 \nQ 55.078125 49.078125 51.53125 44.71875 \nQ 48 40.375 41.703125 38.8125 \nQ 48.828125 37.15625 52.796875 32.3125 \nQ 56.78125 27.484375 56.78125 20.515625 \nQ 56.78125 9.90625 50.3125 4.234375 \nQ 43.84375 -1.421875 31.78125 -1.421875 \nQ 19.734375 -1.421875 13.25 4.234375 \nQ 6.78125 9.90625 6.78125 20.515625 \nQ 6.78125 27.484375 10.78125 32.3125 \nQ 14.796875 37.15625 21.921875 38.8125 \nz\nM 18.3125 54.390625 \nQ 18.3125 48.734375 21.84375 45.5625 \nQ 25.390625 42.390625 31.78125 42.390625 \nQ 38.140625 42.390625 41.71875 45.5625 \nQ 45.3125 48.734375 45.3125 54.390625 \nQ 45.3125 60.0625 41.71875 63.234375 \nQ 38.140625 66.40625 31.78125 66.40625 \nQ 25.390625 66.40625 21.84375 63.234375 \nQ 18.3125 60.0625 18.3125 54.390625 \nz\n\" id=\"DejaVuSans-56\"/>\n      </defs>\n      <g transform=\"translate(469.272917 147.855338)scale(0.1 -0.1)\">\n       <use xlink:href=\"#DejaVuSans-56\"/>\n      </g>\n     </g>\n    </g>\n    <g id=\"xtick_11\">\n     <g id=\"line2d_37\">\n      <path clip-path=\"url(#p5c10ebe247)\" d=\"M 510.029924 133.256901 \nL 510.029924 22.318125 \n\" style=\"fill:none;stroke:#b0b0b0;stroke-linecap:square;stroke-width:0.8;\"/>\n     </g>\n     <g id=\"line2d_38\">\n      <g>\n       <use style=\"stroke:#000000;stroke-width:0.8;\" x=\"510.029924\" xlink:href=\"#m4cdbf06d37\" y=\"133.256901\"/>\n      </g>\n     </g>\n     <g id=\"text_21\">\n      <!-- 10 -->\n      <g transform=\"translate(503.667424 147.855338)scale(0.1 -0.1)\">\n       <use xlink:href=\"#DejaVuSans-49\"/>\n       <use x=\"63.623047\" xlink:href=\"#DejaVuSans-48\"/>\n      </g>\n     </g>\n    </g>\n    <g id=\"xtick_12\">\n     <g id=\"line2d_39\">\n      <path clip-path=\"url(#p5c10ebe247)\" d=\"M 547.605682 133.256901 \nL 547.605682 22.318125 \n\" style=\"fill:none;stroke:#b0b0b0;stroke-linecap:square;stroke-width:0.8;\"/>\n     </g>\n     <g id=\"line2d_40\">\n      <g>\n       <use style=\"stroke:#000000;stroke-width:0.8;\" x=\"547.605682\" xlink:href=\"#m4cdbf06d37\" y=\"133.256901\"/>\n      </g>\n     </g>\n     <g id=\"text_22\">\n      <!-- 12 -->\n      <g transform=\"translate(541.243182 147.855338)scale(0.1 -0.1)\">\n       <use xlink:href=\"#DejaVuSans-49\"/>\n       <use x=\"63.623047\" xlink:href=\"#DejaVuSans-50\"/>\n      </g>\n     </g>\n    </g>\n    <g id=\"xtick_13\">\n     <g id=\"line2d_41\">\n      <path clip-path=\"url(#p5c10ebe247)\" d=\"M 585.181439 133.256901 \nL 585.181439 22.318125 \n\" style=\"fill:none;stroke:#b0b0b0;stroke-linecap:square;stroke-width:0.8;\"/>\n     </g>\n     <g id=\"line2d_42\">\n      <g>\n       <use style=\"stroke:#000000;stroke-width:0.8;\" x=\"585.181439\" xlink:href=\"#m4cdbf06d37\" y=\"133.256901\"/>\n      </g>\n     </g>\n     <g id=\"text_23\">\n      <!-- 14 -->\n      <g transform=\"translate(578.818939 147.855338)scale(0.1 -0.1)\">\n       <use xlink:href=\"#DejaVuSans-49\"/>\n       <use x=\"63.623047\" xlink:href=\"#DejaVuSans-52\"/>\n      </g>\n     </g>\n    </g>\n   </g>\n   <g id=\"matplotlib.axis_6\">\n    <g id=\"ytick_9\">\n     <g id=\"line2d_43\">\n      <path clip-path=\"url(#p5c10ebe247)\" d=\"M 436.2875 133.256901 \nL 591.2875 133.256901 \n\" style=\"fill:none;stroke:#b0b0b0;stroke-linecap:square;stroke-width:0.8;\"/>\n     </g>\n     <g id=\"line2d_44\">\n      <g>\n       <use style=\"stroke:#000000;stroke-width:0.8;\" x=\"436.2875\" xlink:href=\"#mdee30e5c97\" y=\"133.256901\"/>\n      </g>\n     </g>\n     <g id=\"text_24\">\n      <!-- 0 -->\n      <g transform=\"translate(422.925 137.056119)scale(0.1 -0.1)\">\n       <use xlink:href=\"#DejaVuSans-48\"/>\n      </g>\n     </g>\n    </g>\n    <g id=\"ytick_10\">\n     <g id=\"line2d_45\">\n      <path clip-path=\"url(#p5c10ebe247)\" d=\"M 436.2875 90.307316 \nL 591.2875 90.307316 \n\" style=\"fill:none;stroke:#b0b0b0;stroke-linecap:square;stroke-width:0.8;\"/>\n     </g>\n     <g id=\"line2d_46\">\n      <g>\n       <use style=\"stroke:#000000;stroke-width:0.8;\" x=\"436.2875\" xlink:href=\"#mdee30e5c97\" y=\"90.307316\"/>\n      </g>\n     </g>\n     <g id=\"text_25\">\n      <!-- 50 -->\n      <g transform=\"translate(416.5625 94.106535)scale(0.1 -0.1)\">\n       <use xlink:href=\"#DejaVuSans-53\"/>\n       <use x=\"63.623047\" xlink:href=\"#DejaVuSans-48\"/>\n      </g>\n     </g>\n    </g>\n    <g id=\"ytick_11\">\n     <g id=\"line2d_47\">\n      <path clip-path=\"url(#p5c10ebe247)\" d=\"M 436.2875 47.357732 \nL 591.2875 47.357732 \n\" style=\"fill:none;stroke:#b0b0b0;stroke-linecap:square;stroke-width:0.8;\"/>\n     </g>\n     <g id=\"line2d_48\">\n      <g>\n       <use style=\"stroke:#000000;stroke-width:0.8;\" x=\"436.2875\" xlink:href=\"#mdee30e5c97\" y=\"47.357732\"/>\n      </g>\n     </g>\n     <g id=\"text_26\">\n      <!-- 100 -->\n      <g transform=\"translate(410.2 51.156951)scale(0.1 -0.1)\">\n       <use xlink:href=\"#DejaVuSans-49\"/>\n       <use x=\"63.623047\" xlink:href=\"#DejaVuSans-48\"/>\n       <use x=\"127.246094\" xlink:href=\"#DejaVuSans-48\"/>\n      </g>\n     </g>\n    </g>\n   </g>\n   <g id=\"patch_43\">\n    <path d=\"M 436.2875 133.256901 \nL 436.2875 22.318125 \n\" style=\"fill:none;stroke:#000000;stroke-linecap:square;stroke-linejoin:miter;stroke-width:0.8;\"/>\n   </g>\n   <g id=\"patch_44\">\n    <path d=\"M 591.2875 133.256901 \nL 591.2875 22.318125 \n\" style=\"fill:none;stroke:#000000;stroke-linecap:square;stroke-linejoin:miter;stroke-width:0.8;\"/>\n   </g>\n   <g id=\"patch_45\">\n    <path d=\"M 436.2875 133.256901 \nL 591.2875 133.256901 \n\" style=\"fill:none;stroke:#000000;stroke-linecap:square;stroke-linejoin:miter;stroke-width:0.8;\"/>\n   </g>\n   <g id=\"patch_46\">\n    <path d=\"M 436.2875 22.318125 \nL 591.2875 22.318125 \n\" style=\"fill:none;stroke:#000000;stroke-linecap:square;stroke-linejoin:miter;stroke-width:0.8;\"/>\n   </g>\n   <g id=\"text_27\">\n    <!-- CASTHMA -->\n    <defs>\n     <path d=\"M 9.8125 72.90625 \nL 24.515625 72.90625 \nL 43.109375 23.296875 \nL 61.8125 72.90625 \nL 76.515625 72.90625 \nL 76.515625 0 \nL 66.890625 0 \nL 66.890625 64.015625 \nL 48.09375 14.015625 \nL 38.1875 14.015625 \nL 19.390625 64.015625 \nL 19.390625 0 \nL 9.8125 0 \nz\n\" id=\"DejaVuSans-77\"/>\n    </defs>\n    <g transform=\"translate(484.22625 16.318125)scale(0.12 -0.12)\">\n     <use xlink:href=\"#DejaVuSans-67\"/>\n     <use x=\"69.824219\" xlink:href=\"#DejaVuSans-65\"/>\n     <use x=\"138.232422\" xlink:href=\"#DejaVuSans-83\"/>\n     <use x=\"201.708984\" xlink:href=\"#DejaVuSans-84\"/>\n     <use x=\"262.792969\" xlink:href=\"#DejaVuSans-72\"/>\n     <use x=\"337.988281\" xlink:href=\"#DejaVuSans-77\"/>\n     <use x=\"424.267578\" xlink:href=\"#DejaVuSans-65\"/>\n    </g>\n   </g>\n  </g>\n  <g id=\"axes_4\">\n   <g id=\"patch_47\">\n    <path d=\"M 33.2875 277.477309 \nL 188.2875 277.477309 \nL 188.2875 166.538533 \nL 33.2875 166.538533 \nz\n\" style=\"fill:#ffffff;\"/>\n   </g>\n   <g id=\"patch_48\">\n    <path clip-path=\"url(#pe4003ae06b)\" d=\"M 40.332955 277.477309 \nL 54.423864 277.477309 \nL 54.423864 270.660794 \nL 40.332955 270.660794 \nz\n\" style=\"fill:#1f77b4;\"/>\n   </g>\n   <g id=\"patch_49\">\n    <path clip-path=\"url(#pe4003ae06b)\" d=\"M 54.423864 277.477309 \nL 68.514773 277.477309 \nL 68.514773 266.116451 \nL 54.423864 266.116451 \nz\n\" style=\"fill:#1f77b4;\"/>\n   </g>\n   <g id=\"patch_50\">\n    <path clip-path=\"url(#pe4003ae06b)\" d=\"M 68.514773 277.477309 \nL 82.605682 277.477309 \nL 82.605682 232.033878 \nL 68.514773 232.033878 \nz\n\" style=\"fill:#1f77b4;\"/>\n   </g>\n   <g id=\"patch_51\">\n    <path clip-path=\"url(#pe4003ae06b)\" d=\"M 82.605682 277.477309 \nL 96.696591 277.477309 \nL 96.696591 171.821332 \nL 82.605682 171.821332 \nz\n\" style=\"fill:#1f77b4;\"/>\n   </g>\n   <g id=\"patch_52\">\n    <path clip-path=\"url(#pe4003ae06b)\" d=\"M 96.696591 277.477309 \nL 110.7875 277.477309 \nL 110.7875 172.957418 \nL 96.696591 172.957418 \nz\n\" style=\"fill:#1f77b4;\"/>\n   </g>\n   <g id=\"patch_53\">\n    <path clip-path=\"url(#pe4003ae06b)\" d=\"M 110.7875 277.477309 \nL 124.878409 277.477309 \nL 124.878409 177.501761 \nL 110.7875 177.501761 \nz\n\" style=\"fill:#1f77b4;\"/>\n   </g>\n   <g id=\"patch_54\">\n    <path clip-path=\"url(#pe4003ae06b)\" d=\"M 124.878409 277.477309 \nL 138.969318 277.477309 \nL 138.969318 221.809106 \nL 124.878409 221.809106 \nz\n\" style=\"fill:#1f77b4;\"/>\n   </g>\n   <g id=\"patch_55\">\n    <path clip-path=\"url(#pe4003ae06b)\" d=\"M 138.969318 277.477309 \nL 153.060227 277.477309 \nL 153.060227 209.312162 \nL 138.969318 209.312162 \nz\n\" style=\"fill:#1f77b4;\"/>\n   </g>\n   <g id=\"patch_56\">\n    <path clip-path=\"url(#pe4003ae06b)\" d=\"M 153.060227 277.477309 \nL 167.151136 277.477309 \nL 167.151136 222.945192 \nL 153.060227 222.945192 \nz\n\" style=\"fill:#1f77b4;\"/>\n   </g>\n   <g id=\"patch_57\">\n    <path clip-path=\"url(#pe4003ae06b)\" d=\"M 167.151136 277.477309 \nL 181.242045 277.477309 \nL 181.242045 264.980365 \nL 167.151136 264.980365 \nz\n\" style=\"fill:#1f77b4;\"/>\n   </g>\n   <g id=\"matplotlib.axis_7\">\n    <g id=\"xtick_14\">\n     <g id=\"line2d_49\">\n      <path clip-path=\"url(#pe4003ae06b)\" d=\"M 68.934614 277.477309 \nL 68.934614 166.538533 \n\" style=\"fill:none;stroke:#b0b0b0;stroke-linecap:square;stroke-width:0.8;\"/>\n     </g>\n     <g id=\"line2d_50\">\n      <g>\n       <use style=\"stroke:#000000;stroke-width:0.8;\" x=\"68.934614\" xlink:href=\"#m4cdbf06d37\" y=\"277.477309\"/>\n      </g>\n     </g>\n     <g id=\"text_28\">\n      <!-- 60 -->\n      <g transform=\"translate(62.572114 292.075746)scale(0.1 -0.1)\">\n       <use xlink:href=\"#DejaVuSans-54\"/>\n       <use x=\"63.623047\" xlink:href=\"#DejaVuSans-48\"/>\n      </g>\n     </g>\n    </g>\n    <g id=\"xtick_15\">\n     <g id=\"line2d_51\">\n      <path clip-path=\"url(#pe4003ae06b)\" d=\"M 121.414722 277.477309 \nL 121.414722 166.538533 \n\" style=\"fill:none;stroke:#b0b0b0;stroke-linecap:square;stroke-width:0.8;\"/>\n     </g>\n     <g id=\"line2d_52\">\n      <g>\n       <use style=\"stroke:#000000;stroke-width:0.8;\" x=\"121.414722\" xlink:href=\"#m4cdbf06d37\" y=\"277.477309\"/>\n      </g>\n     </g>\n     <g id=\"text_29\">\n      <!-- 70 -->\n      <g transform=\"translate(115.052222 292.075746)scale(0.1 -0.1)\">\n       <use xlink:href=\"#DejaVuSans-55\"/>\n       <use x=\"63.623047\" xlink:href=\"#DejaVuSans-48\"/>\n      </g>\n     </g>\n    </g>\n    <g id=\"xtick_16\">\n     <g id=\"line2d_53\">\n      <path clip-path=\"url(#pe4003ae06b)\" d=\"M 173.89483 277.477309 \nL 173.89483 166.538533 \n\" style=\"fill:none;stroke:#b0b0b0;stroke-linecap:square;stroke-width:0.8;\"/>\n     </g>\n     <g id=\"line2d_54\">\n      <g>\n       <use style=\"stroke:#000000;stroke-width:0.8;\" x=\"173.89483\" xlink:href=\"#m4cdbf06d37\" y=\"277.477309\"/>\n      </g>\n     </g>\n     <g id=\"text_30\">\n      <!-- 80 -->\n      <g transform=\"translate(167.53233 292.075746)scale(0.1 -0.1)\">\n       <use xlink:href=\"#DejaVuSans-56\"/>\n       <use x=\"63.623047\" xlink:href=\"#DejaVuSans-48\"/>\n      </g>\n     </g>\n    </g>\n   </g>\n   <g id=\"matplotlib.axis_8\">\n    <g id=\"ytick_12\">\n     <g id=\"line2d_55\">\n      <path clip-path=\"url(#pe4003ae06b)\" d=\"M 33.2875 277.477309 \nL 188.2875 277.477309 \n\" style=\"fill:none;stroke:#b0b0b0;stroke-linecap:square;stroke-width:0.8;\"/>\n     </g>\n     <g id=\"line2d_56\">\n      <g>\n       <use style=\"stroke:#000000;stroke-width:0.8;\" x=\"33.2875\" xlink:href=\"#mdee30e5c97\" y=\"277.477309\"/>\n      </g>\n     </g>\n     <g id=\"text_31\">\n      <!-- 0 -->\n      <g transform=\"translate(19.925 281.276527)scale(0.1 -0.1)\">\n       <use xlink:href=\"#DejaVuSans-48\"/>\n      </g>\n     </g>\n    </g>\n    <g id=\"ytick_13\">\n     <g id=\"line2d_57\">\n      <path clip-path=\"url(#pe4003ae06b)\" d=\"M 33.2875 254.755593 \nL 188.2875 254.755593 \n\" style=\"fill:none;stroke:#b0b0b0;stroke-linecap:square;stroke-width:0.8;\"/>\n     </g>\n     <g id=\"line2d_58\">\n      <g>\n       <use style=\"stroke:#000000;stroke-width:0.8;\" x=\"33.2875\" xlink:href=\"#mdee30e5c97\" y=\"254.755593\"/>\n      </g>\n     </g>\n     <g id=\"text_32\">\n      <!-- 20 -->\n      <g transform=\"translate(13.5625 258.554812)scale(0.1 -0.1)\">\n       <use xlink:href=\"#DejaVuSans-50\"/>\n       <use x=\"63.623047\" xlink:href=\"#DejaVuSans-48\"/>\n      </g>\n     </g>\n    </g>\n    <g id=\"ytick_14\">\n     <g id=\"line2d_59\">\n      <path clip-path=\"url(#pe4003ae06b)\" d=\"M 33.2875 232.033878 \nL 188.2875 232.033878 \n\" style=\"fill:none;stroke:#b0b0b0;stroke-linecap:square;stroke-width:0.8;\"/>\n     </g>\n     <g id=\"line2d_60\">\n      <g>\n       <use style=\"stroke:#000000;stroke-width:0.8;\" x=\"33.2875\" xlink:href=\"#mdee30e5c97\" y=\"232.033878\"/>\n      </g>\n     </g>\n     <g id=\"text_33\">\n      <!-- 40 -->\n      <g transform=\"translate(13.5625 235.833097)scale(0.1 -0.1)\">\n       <use xlink:href=\"#DejaVuSans-52\"/>\n       <use x=\"63.623047\" xlink:href=\"#DejaVuSans-48\"/>\n      </g>\n     </g>\n    </g>\n    <g id=\"ytick_15\">\n     <g id=\"line2d_61\">\n      <path clip-path=\"url(#pe4003ae06b)\" d=\"M 33.2875 209.312162 \nL 188.2875 209.312162 \n\" style=\"fill:none;stroke:#b0b0b0;stroke-linecap:square;stroke-width:0.8;\"/>\n     </g>\n     <g id=\"line2d_62\">\n      <g>\n       <use style=\"stroke:#000000;stroke-width:0.8;\" x=\"33.2875\" xlink:href=\"#mdee30e5c97\" y=\"209.312162\"/>\n      </g>\n     </g>\n     <g id=\"text_34\">\n      <!-- 60 -->\n      <g transform=\"translate(13.5625 213.111381)scale(0.1 -0.1)\">\n       <use xlink:href=\"#DejaVuSans-54\"/>\n       <use x=\"63.623047\" xlink:href=\"#DejaVuSans-48\"/>\n      </g>\n     </g>\n    </g>\n    <g id=\"ytick_16\">\n     <g id=\"line2d_63\">\n      <path clip-path=\"url(#pe4003ae06b)\" d=\"M 33.2875 186.590447 \nL 188.2875 186.590447 \n\" style=\"fill:none;stroke:#b0b0b0;stroke-linecap:square;stroke-width:0.8;\"/>\n     </g>\n     <g id=\"line2d_64\">\n      <g>\n       <use style=\"stroke:#000000;stroke-width:0.8;\" x=\"33.2875\" xlink:href=\"#mdee30e5c97\" y=\"186.590447\"/>\n      </g>\n     </g>\n     <g id=\"text_35\">\n      <!-- 80 -->\n      <g transform=\"translate(13.5625 190.389666)scale(0.1 -0.1)\">\n       <use xlink:href=\"#DejaVuSans-56\"/>\n       <use x=\"63.623047\" xlink:href=\"#DejaVuSans-48\"/>\n      </g>\n     </g>\n    </g>\n   </g>\n   <g id=\"patch_58\">\n    <path d=\"M 33.2875 277.477309 \nL 33.2875 166.538533 \n\" style=\"fill:none;stroke:#000000;stroke-linecap:square;stroke-linejoin:miter;stroke-width:0.8;\"/>\n   </g>\n   <g id=\"patch_59\">\n    <path d=\"M 188.2875 277.477309 \nL 188.2875 166.538533 \n\" style=\"fill:none;stroke:#000000;stroke-linecap:square;stroke-linejoin:miter;stroke-width:0.8;\"/>\n   </g>\n   <g id=\"patch_60\">\n    <path d=\"M 33.2875 277.477309 \nL 188.2875 277.477309 \n\" style=\"fill:none;stroke:#000000;stroke-linecap:square;stroke-linejoin:miter;stroke-width:0.8;\"/>\n   </g>\n   <g id=\"patch_61\">\n    <path d=\"M 33.2875 166.538533 \nL 188.2875 166.538533 \n\" style=\"fill:none;stroke:#000000;stroke-linecap:square;stroke-linejoin:miter;stroke-width:0.8;\"/>\n   </g>\n   <g id=\"text_36\">\n    <!-- CHECKUP -->\n    <defs>\n     <path d=\"M 9.8125 72.90625 \nL 19.671875 72.90625 \nL 19.671875 42.09375 \nL 52.390625 72.90625 \nL 65.09375 72.90625 \nL 28.90625 38.921875 \nL 67.671875 0 \nL 54.6875 0 \nL 19.671875 35.109375 \nL 19.671875 0 \nL 9.8125 0 \nz\n\" id=\"DejaVuSans-75\"/>\n     <path d=\"M 8.6875 72.90625 \nL 18.609375 72.90625 \nL 18.609375 28.609375 \nQ 18.609375 16.890625 22.84375 11.734375 \nQ 27.09375 6.59375 36.625 6.59375 \nQ 46.09375 6.59375 50.34375 11.734375 \nQ 54.59375 16.890625 54.59375 28.609375 \nL 54.59375 72.90625 \nL 64.5 72.90625 \nL 64.5 27.390625 \nQ 64.5 13.140625 57.4375 5.859375 \nQ 50.390625 -1.421875 36.625 -1.421875 \nQ 22.796875 -1.421875 15.734375 5.859375 \nQ 8.6875 13.140625 8.6875 27.390625 \nz\n\" id=\"DejaVuSans-85\"/>\n     <path d=\"M 19.671875 64.796875 \nL 19.671875 37.40625 \nL 32.078125 37.40625 \nQ 38.96875 37.40625 42.71875 40.96875 \nQ 46.484375 44.53125 46.484375 51.125 \nQ 46.484375 57.671875 42.71875 61.234375 \nQ 38.96875 64.796875 32.078125 64.796875 \nz\nM 9.8125 72.90625 \nL 32.078125 72.90625 \nQ 44.34375 72.90625 50.609375 67.359375 \nQ 56.890625 61.8125 56.890625 51.125 \nQ 56.890625 40.328125 50.609375 34.8125 \nQ 44.34375 29.296875 32.078125 29.296875 \nL 19.671875 29.296875 \nL 19.671875 0 \nL 9.8125 0 \nz\n\" id=\"DejaVuSans-80\"/>\n    </defs>\n    <g transform=\"translate(82.318438 160.538533)scale(0.12 -0.12)\">\n     <use xlink:href=\"#DejaVuSans-67\"/>\n     <use x=\"69.824219\" xlink:href=\"#DejaVuSans-72\"/>\n     <use x=\"145.019531\" xlink:href=\"#DejaVuSans-69\"/>\n     <use x=\"208.203125\" xlink:href=\"#DejaVuSans-67\"/>\n     <use x=\"278.027344\" xlink:href=\"#DejaVuSans-75\"/>\n     <use x=\"340.978516\" xlink:href=\"#DejaVuSans-85\"/>\n     <use x=\"414.171875\" xlink:href=\"#DejaVuSans-80\"/>\n    </g>\n   </g>\n  </g>\n  <g id=\"axes_5\">\n   <g id=\"patch_62\">\n    <path d=\"M 234.7875 277.477309 \nL 389.7875 277.477309 \nL 389.7875 166.538533 \nL 234.7875 166.538533 \nz\n\" style=\"fill:#ffffff;\"/>\n   </g>\n   <g id=\"patch_63\">\n    <path clip-path=\"url(#p6ab656502e)\" d=\"M 241.832955 277.477309 \nL 255.923864 277.477309 \nL 255.923864 250.806868 \nL 241.832955 250.806868 \nz\n\" style=\"fill:#1f77b4;\"/>\n   </g>\n   <g id=\"patch_64\">\n    <path clip-path=\"url(#p6ab656502e)\" d=\"M 255.923864 277.477309 \nL 270.014773 277.477309 \nL 270.014773 195.414414 \nL 255.923864 195.414414 \nz\n\" style=\"fill:#1f77b4;\"/>\n   </g>\n   <g id=\"patch_65\">\n    <path clip-path=\"url(#p6ab656502e)\" d=\"M 270.014773 277.477309 \nL 284.105682 277.477309 \nL 284.105682 171.821332 \nL 270.014773 171.821332 \nz\n\" style=\"fill:#1f77b4;\"/>\n   </g>\n   <g id=\"patch_66\">\n    <path clip-path=\"url(#p6ab656502e)\" d=\"M 284.105682 277.477309 \nL 298.196591 277.477309 \nL 298.196591 177.976049 \nL 284.105682 177.976049 \nz\n\" style=\"fill:#1f77b4;\"/>\n   </g>\n   <g id=\"patch_67\">\n    <path clip-path=\"url(#p6ab656502e)\" d=\"M 298.196591 277.477309 \nL 312.2875 277.477309 \nL 312.2875 190.285483 \nL 298.196591 190.285483 \nz\n\" style=\"fill:#1f77b4;\"/>\n   </g>\n   <g id=\"patch_68\">\n    <path clip-path=\"url(#p6ab656502e)\" d=\"M 312.2875 277.477309 \nL 326.378409 277.477309 \nL 326.378409 221.059069 \nL 312.2875 221.059069 \nz\n\" style=\"fill:#1f77b4;\"/>\n   </g>\n   <g id=\"patch_69\">\n    <path clip-path=\"url(#p6ab656502e)\" d=\"M 326.378409 277.477309 \nL 340.469318 277.477309 \nL 340.469318 243.626365 \nL 326.378409 243.626365 \nz\n\" style=\"fill:#1f77b4;\"/>\n   </g>\n   <g id=\"patch_70\">\n    <path clip-path=\"url(#p6ab656502e)\" d=\"M 340.469318 277.477309 \nL 354.560227 277.477309 \nL 354.560227 268.245233 \nL 340.469318 268.245233 \nz\n\" style=\"fill:#1f77b4;\"/>\n   </g>\n   <g id=\"patch_71\">\n    <path clip-path=\"url(#p6ab656502e)\" d=\"M 354.560227 277.477309 \nL 368.651136 277.477309 \nL 368.651136 271.322592 \nL 354.560227 271.322592 \nz\n\" style=\"fill:#1f77b4;\"/>\n   </g>\n   <g id=\"patch_72\">\n    <path clip-path=\"url(#p6ab656502e)\" d=\"M 368.651136 277.477309 \nL 382.742045 277.477309 \nL 382.742045 274.39995 \nL 368.651136 274.39995 \nz\n\" style=\"fill:#1f77b4;\"/>\n   </g>\n   <g id=\"matplotlib.axis_9\">\n    <g id=\"xtick_17\">\n     <g id=\"line2d_65\">\n      <path clip-path=\"url(#p6ab656502e)\" d=\"M 256.579255 277.477309 \nL 256.579255 166.538533 \n\" style=\"fill:none;stroke:#b0b0b0;stroke-linecap:square;stroke-width:0.8;\"/>\n     </g>\n     <g id=\"line2d_66\">\n      <g>\n       <use style=\"stroke:#000000;stroke-width:0.8;\" x=\"256.579255\" xlink:href=\"#m4cdbf06d37\" y=\"277.477309\"/>\n      </g>\n     </g>\n     <g id=\"text_37\">\n      <!-- 4 -->\n      <g transform=\"translate(253.398005 292.075746)scale(0.1 -0.1)\">\n       <use xlink:href=\"#DejaVuSans-52\"/>\n      </g>\n     </g>\n    </g>\n    <g id=\"xtick_18\">\n     <g id=\"line2d_67\">\n      <path clip-path=\"url(#p6ab656502e)\" d=\"M 289.348811 277.477309 \nL 289.348811 166.538533 \n\" style=\"fill:none;stroke:#b0b0b0;stroke-linecap:square;stroke-width:0.8;\"/>\n     </g>\n     <g id=\"line2d_68\">\n      <g>\n       <use style=\"stroke:#000000;stroke-width:0.8;\" x=\"289.348811\" xlink:href=\"#m4cdbf06d37\" y=\"277.477309\"/>\n      </g>\n     </g>\n     <g id=\"text_38\">\n      <!-- 6 -->\n      <g transform=\"translate(286.167561 292.075746)scale(0.1 -0.1)\">\n       <use xlink:href=\"#DejaVuSans-54\"/>\n      </g>\n     </g>\n    </g>\n    <g id=\"xtick_19\">\n     <g id=\"line2d_69\">\n      <path clip-path=\"url(#p6ab656502e)\" d=\"M 322.118367 277.477309 \nL 322.118367 166.538533 \n\" style=\"fill:none;stroke:#b0b0b0;stroke-linecap:square;stroke-width:0.8;\"/>\n     </g>\n     <g id=\"line2d_70\">\n      <g>\n       <use style=\"stroke:#000000;stroke-width:0.8;\" x=\"322.118367\" xlink:href=\"#m4cdbf06d37\" y=\"277.477309\"/>\n      </g>\n     </g>\n     <g id=\"text_39\">\n      <!-- 8 -->\n      <g transform=\"translate(318.937117 292.075746)scale(0.1 -0.1)\">\n       <use xlink:href=\"#DejaVuSans-56\"/>\n      </g>\n     </g>\n    </g>\n    <g id=\"xtick_20\">\n     <g id=\"line2d_71\">\n      <path clip-path=\"url(#p6ab656502e)\" d=\"M 354.887923 277.477309 \nL 354.887923 166.538533 \n\" style=\"fill:none;stroke:#b0b0b0;stroke-linecap:square;stroke-width:0.8;\"/>\n     </g>\n     <g id=\"line2d_72\">\n      <g>\n       <use style=\"stroke:#000000;stroke-width:0.8;\" x=\"354.887923\" xlink:href=\"#m4cdbf06d37\" y=\"277.477309\"/>\n      </g>\n     </g>\n     <g id=\"text_40\">\n      <!-- 10 -->\n      <g transform=\"translate(348.525423 292.075746)scale(0.1 -0.1)\">\n       <use xlink:href=\"#DejaVuSans-49\"/>\n       <use x=\"63.623047\" xlink:href=\"#DejaVuSans-48\"/>\n      </g>\n     </g>\n    </g>\n    <g id=\"xtick_21\">\n     <g id=\"line2d_73\">\n      <path clip-path=\"url(#p6ab656502e)\" d=\"M 387.657479 277.477309 \nL 387.657479 166.538533 \n\" style=\"fill:none;stroke:#b0b0b0;stroke-linecap:square;stroke-width:0.8;\"/>\n     </g>\n     <g id=\"line2d_74\">\n      <g>\n       <use style=\"stroke:#000000;stroke-width:0.8;\" x=\"387.657479\" xlink:href=\"#m4cdbf06d37\" y=\"277.477309\"/>\n      </g>\n     </g>\n     <g id=\"text_41\">\n      <!-- 12 -->\n      <g transform=\"translate(381.294979 292.075746)scale(0.1 -0.1)\">\n       <use xlink:href=\"#DejaVuSans-49\"/>\n       <use x=\"63.623047\" xlink:href=\"#DejaVuSans-50\"/>\n      </g>\n     </g>\n    </g>\n   </g>\n   <g id=\"matplotlib.axis_10\">\n    <g id=\"ytick_17\">\n     <g id=\"line2d_75\">\n      <path clip-path=\"url(#p6ab656502e)\" d=\"M 234.7875 277.477309 \nL 389.7875 277.477309 \n\" style=\"fill:none;stroke:#b0b0b0;stroke-linecap:square;stroke-width:0.8;\"/>\n     </g>\n     <g id=\"line2d_76\">\n      <g>\n       <use style=\"stroke:#000000;stroke-width:0.8;\" x=\"234.7875\" xlink:href=\"#mdee30e5c97\" y=\"277.477309\"/>\n      </g>\n     </g>\n     <g id=\"text_42\">\n      <!-- 0 -->\n      <g transform=\"translate(221.425 281.276527)scale(0.1 -0.1)\">\n       <use xlink:href=\"#DejaVuSans-48\"/>\n      </g>\n     </g>\n    </g>\n    <g id=\"ytick_18\">\n     <g id=\"line2d_77\">\n      <path clip-path=\"url(#p6ab656502e)\" d=\"M 234.7875 251.832654 \nL 389.7875 251.832654 \n\" style=\"fill:none;stroke:#b0b0b0;stroke-linecap:square;stroke-width:0.8;\"/>\n     </g>\n     <g id=\"line2d_78\">\n      <g>\n       <use style=\"stroke:#000000;stroke-width:0.8;\" x=\"234.7875\" xlink:href=\"#mdee30e5c97\" y=\"251.832654\"/>\n      </g>\n     </g>\n     <g id=\"text_43\">\n      <!-- 25 -->\n      <g transform=\"translate(215.0625 255.631873)scale(0.1 -0.1)\">\n       <use xlink:href=\"#DejaVuSans-50\"/>\n       <use x=\"63.623047\" xlink:href=\"#DejaVuSans-53\"/>\n      </g>\n     </g>\n    </g>\n    <g id=\"ytick_19\">\n     <g id=\"line2d_79\">\n      <path clip-path=\"url(#p6ab656502e)\" d=\"M 234.7875 226.188 \nL 389.7875 226.188 \n\" style=\"fill:none;stroke:#b0b0b0;stroke-linecap:square;stroke-width:0.8;\"/>\n     </g>\n     <g id=\"line2d_80\">\n      <g>\n       <use style=\"stroke:#000000;stroke-width:0.8;\" x=\"234.7875\" xlink:href=\"#mdee30e5c97\" y=\"226.188\"/>\n      </g>\n     </g>\n     <g id=\"text_44\">\n      <!-- 50 -->\n      <g transform=\"translate(215.0625 229.987218)scale(0.1 -0.1)\">\n       <use xlink:href=\"#DejaVuSans-53\"/>\n       <use x=\"63.623047\" xlink:href=\"#DejaVuSans-48\"/>\n      </g>\n     </g>\n    </g>\n    <g id=\"ytick_20\">\n     <g id=\"line2d_81\">\n      <path clip-path=\"url(#p6ab656502e)\" d=\"M 234.7875 200.543345 \nL 389.7875 200.543345 \n\" style=\"fill:none;stroke:#b0b0b0;stroke-linecap:square;stroke-width:0.8;\"/>\n     </g>\n     <g id=\"line2d_82\">\n      <g>\n       <use style=\"stroke:#000000;stroke-width:0.8;\" x=\"234.7875\" xlink:href=\"#mdee30e5c97\" y=\"200.543345\"/>\n      </g>\n     </g>\n     <g id=\"text_45\">\n      <!-- 75 -->\n      <g transform=\"translate(215.0625 204.342564)scale(0.1 -0.1)\">\n       <use xlink:href=\"#DejaVuSans-55\"/>\n       <use x=\"63.623047\" xlink:href=\"#DejaVuSans-53\"/>\n      </g>\n     </g>\n    </g>\n    <g id=\"ytick_21\">\n     <g id=\"line2d_83\">\n      <path clip-path=\"url(#p6ab656502e)\" d=\"M 234.7875 174.898691 \nL 389.7875 174.898691 \n\" style=\"fill:none;stroke:#b0b0b0;stroke-linecap:square;stroke-width:0.8;\"/>\n     </g>\n     <g id=\"line2d_84\">\n      <g>\n       <use style=\"stroke:#000000;stroke-width:0.8;\" x=\"234.7875\" xlink:href=\"#mdee30e5c97\" y=\"174.898691\"/>\n      </g>\n     </g>\n     <g id=\"text_46\">\n      <!-- 100 -->\n      <g transform=\"translate(208.7 178.697909)scale(0.1 -0.1)\">\n       <use xlink:href=\"#DejaVuSans-49\"/>\n       <use x=\"63.623047\" xlink:href=\"#DejaVuSans-48\"/>\n       <use x=\"127.246094\" xlink:href=\"#DejaVuSans-48\"/>\n      </g>\n     </g>\n    </g>\n   </g>\n   <g id=\"patch_73\">\n    <path d=\"M 234.7875 277.477309 \nL 234.7875 166.538533 \n\" style=\"fill:none;stroke:#000000;stroke-linecap:square;stroke-linejoin:miter;stroke-width:0.8;\"/>\n   </g>\n   <g id=\"patch_74\">\n    <path d=\"M 389.7875 277.477309 \nL 389.7875 166.538533 \n\" style=\"fill:none;stroke:#000000;stroke-linecap:square;stroke-linejoin:miter;stroke-width:0.8;\"/>\n   </g>\n   <g id=\"patch_75\">\n    <path d=\"M 234.7875 277.477309 \nL 389.7875 277.477309 \n\" style=\"fill:none;stroke:#000000;stroke-linecap:square;stroke-linejoin:miter;stroke-width:0.8;\"/>\n   </g>\n   <g id=\"patch_76\">\n    <path d=\"M 234.7875 166.538533 \nL 389.7875 166.538533 \n\" style=\"fill:none;stroke:#000000;stroke-linecap:square;stroke-linejoin:miter;stroke-width:0.8;\"/>\n   </g>\n   <g id=\"text_47\">\n    <!-- COPD -->\n    <defs>\n     <path d=\"M 39.40625 66.21875 \nQ 28.65625 66.21875 22.328125 58.203125 \nQ 16.015625 50.203125 16.015625 36.375 \nQ 16.015625 22.609375 22.328125 14.59375 \nQ 28.65625 6.59375 39.40625 6.59375 \nQ 50.140625 6.59375 56.421875 14.59375 \nQ 62.703125 22.609375 62.703125 36.375 \nQ 62.703125 50.203125 56.421875 58.203125 \nQ 50.140625 66.21875 39.40625 66.21875 \nz\nM 39.40625 74.21875 \nQ 54.734375 74.21875 63.90625 63.9375 \nQ 73.09375 53.65625 73.09375 36.375 \nQ 73.09375 19.140625 63.90625 8.859375 \nQ 54.734375 -1.421875 39.40625 -1.421875 \nQ 24.03125 -1.421875 14.8125 8.828125 \nQ 5.609375 19.09375 5.609375 36.375 \nQ 5.609375 53.65625 14.8125 63.9375 \nQ 24.03125 74.21875 39.40625 74.21875 \nz\n\" id=\"DejaVuSans-79\"/>\n     <path d=\"M 19.671875 64.796875 \nL 19.671875 8.109375 \nL 31.59375 8.109375 \nQ 46.6875 8.109375 53.6875 14.9375 \nQ 60.6875 21.78125 60.6875 36.53125 \nQ 60.6875 51.171875 53.6875 57.984375 \nQ 46.6875 64.796875 31.59375 64.796875 \nz\nM 9.8125 72.90625 \nL 30.078125 72.90625 \nQ 51.265625 72.90625 61.171875 64.09375 \nQ 71.09375 55.28125 71.09375 36.53125 \nQ 71.09375 17.671875 61.125 8.828125 \nQ 51.171875 0 30.078125 0 \nL 9.8125 0 \nz\n\" id=\"DejaVuSans-68\"/>\n    </defs>\n    <g transform=\"translate(295.136875 160.538533)scale(0.12 -0.12)\">\n     <use xlink:href=\"#DejaVuSans-67\"/>\n     <use x=\"69.824219\" xlink:href=\"#DejaVuSans-79\"/>\n     <use x=\"148.535156\" xlink:href=\"#DejaVuSans-80\"/>\n     <use x=\"208.837891\" xlink:href=\"#DejaVuSans-68\"/>\n    </g>\n   </g>\n  </g>\n  <g id=\"axes_6\">\n   <g id=\"patch_77\">\n    <path d=\"M 436.2875 277.477309 \nL 591.2875 277.477309 \nL 591.2875 166.538533 \nL 436.2875 166.538533 \nz\n\" style=\"fill:#ffffff;\"/>\n   </g>\n   <g id=\"patch_78\">\n    <path clip-path=\"url(#pf98e500284)\" d=\"M 443.332955 277.477309 \nL 457.423864 277.477309 \nL 457.423864 262.255685 \nL 443.332955 262.255685 \nz\n\" style=\"fill:#1f77b4;\"/>\n   </g>\n   <g id=\"patch_79\">\n    <path clip-path=\"url(#pf98e500284)\" d=\"M 457.423864 277.477309 \nL 471.514773 277.477309 \nL 471.514773 254.197178 \nL 457.423864 254.197178 \nz\n\" style=\"fill:#1f77b4;\"/>\n   </g>\n   <g id=\"patch_80\">\n    <path clip-path=\"url(#pf98e500284)\" d=\"M 471.514773 277.477309 \nL 485.605682 277.477309 \nL 485.605682 221.963151 \nL 471.514773 221.963151 \nz\n\" style=\"fill:#1f77b4;\"/>\n   </g>\n   <g id=\"patch_81\">\n    <path clip-path=\"url(#pf98e500284)\" d=\"M 485.605682 277.477309 \nL 499.696591 277.477309 \nL 499.696591 187.042956 \nL 485.605682 187.042956 \nz\n\" style=\"fill:#1f77b4;\"/>\n   </g>\n   <g id=\"patch_82\">\n    <path clip-path=\"url(#pf98e500284)\" d=\"M 499.696591 277.477309 \nL 513.7875 277.477309 \nL 513.7875 171.821332 \nL 499.696591 171.821332 \nz\n\" style=\"fill:#1f77b4;\"/>\n   </g>\n   <g id=\"patch_83\">\n    <path clip-path=\"url(#pf98e500284)\" d=\"M 513.7875 277.477309 \nL 527.878409 277.477309 \nL 527.878409 192.415294 \nL 513.7875 192.415294 \nz\n\" style=\"fill:#1f77b4;\"/>\n   </g>\n   <g id=\"patch_84\">\n    <path clip-path=\"url(#pf98e500284)\" d=\"M 527.878409 277.477309 \nL 541.969318 277.477309 \nL 541.969318 239.870944 \nL 527.878409 239.870944 \nz\n\" style=\"fill:#1f77b4;\"/>\n   </g>\n   <g id=\"patch_85\">\n    <path clip-path=\"url(#pf98e500284)\" d=\"M 541.969318 277.477309 \nL 556.060227 277.477309 \nL 556.060227 251.511009 \nL 541.969318 251.511009 \nz\n\" style=\"fill:#1f77b4;\"/>\n   </g>\n   <g id=\"patch_86\">\n    <path clip-path=\"url(#pf98e500284)\" d=\"M 556.060227 277.477309 \nL 570.151136 277.477309 \nL 570.151136 273.000361 \nL 556.060227 273.000361 \nz\n\" style=\"fill:#1f77b4;\"/>\n   </g>\n   <g id=\"patch_87\">\n    <path clip-path=\"url(#pf98e500284)\" d=\"M 570.151136 277.477309 \nL 584.242045 277.477309 \nL 584.242045 275.686529 \nL 570.151136 275.686529 \nz\n\" style=\"fill:#1f77b4;\"/>\n   </g>\n   <g id=\"matplotlib.axis_11\">\n    <g id=\"xtick_22\">\n     <g id=\"line2d_85\">\n      <path clip-path=\"url(#pf98e500284)\" d=\"M 446.450412 277.477309 \nL 446.450412 166.538533 \n\" style=\"fill:none;stroke:#b0b0b0;stroke-linecap:square;stroke-width:0.8;\"/>\n     </g>\n     <g id=\"line2d_86\">\n      <g>\n       <use style=\"stroke:#000000;stroke-width:0.8;\" x=\"446.450412\" xlink:href=\"#m4cdbf06d37\" y=\"277.477309\"/>\n      </g>\n     </g>\n     <g id=\"text_48\">\n      <!-- 20 -->\n      <g transform=\"translate(440.087912 292.075746)scale(0.1 -0.1)\">\n       <use xlink:href=\"#DejaVuSans-50\"/>\n       <use x=\"63.623047\" xlink:href=\"#DejaVuSans-48\"/>\n      </g>\n     </g>\n    </g>\n    <g id=\"xtick_23\">\n     <g id=\"line2d_87\">\n      <path clip-path=\"url(#pf98e500284)\" d=\"M 488.016516 277.477309 \nL 488.016516 166.538533 \n\" style=\"fill:none;stroke:#b0b0b0;stroke-linecap:square;stroke-width:0.8;\"/>\n     </g>\n     <g id=\"line2d_88\">\n      <g>\n       <use style=\"stroke:#000000;stroke-width:0.8;\" x=\"488.016516\" xlink:href=\"#m4cdbf06d37\" y=\"277.477309\"/>\n      </g>\n     </g>\n     <g id=\"text_49\">\n      <!-- 30 -->\n      <g transform=\"translate(481.654016 292.075746)scale(0.1 -0.1)\">\n       <use xlink:href=\"#DejaVuSans-51\"/>\n       <use x=\"63.623047\" xlink:href=\"#DejaVuSans-48\"/>\n      </g>\n     </g>\n    </g>\n    <g id=\"xtick_24\">\n     <g id=\"line2d_89\">\n      <path clip-path=\"url(#pf98e500284)\" d=\"M 529.582619 277.477309 \nL 529.582619 166.538533 \n\" style=\"fill:none;stroke:#b0b0b0;stroke-linecap:square;stroke-width:0.8;\"/>\n     </g>\n     <g id=\"line2d_90\">\n      <g>\n       <use style=\"stroke:#000000;stroke-width:0.8;\" x=\"529.582619\" xlink:href=\"#m4cdbf06d37\" y=\"277.477309\"/>\n      </g>\n     </g>\n     <g id=\"text_50\">\n      <!-- 40 -->\n      <g transform=\"translate(523.220119 292.075746)scale(0.1 -0.1)\">\n       <use xlink:href=\"#DejaVuSans-52\"/>\n       <use x=\"63.623047\" xlink:href=\"#DejaVuSans-48\"/>\n      </g>\n     </g>\n    </g>\n    <g id=\"xtick_25\">\n     <g id=\"line2d_91\">\n      <path clip-path=\"url(#pf98e500284)\" d=\"M 571.148723 277.477309 \nL 571.148723 166.538533 \n\" style=\"fill:none;stroke:#b0b0b0;stroke-linecap:square;stroke-width:0.8;\"/>\n     </g>\n     <g id=\"line2d_92\">\n      <g>\n       <use style=\"stroke:#000000;stroke-width:0.8;\" x=\"571.148723\" xlink:href=\"#m4cdbf06d37\" y=\"277.477309\"/>\n      </g>\n     </g>\n     <g id=\"text_51\">\n      <!-- 50 -->\n      <g transform=\"translate(564.786223 292.075746)scale(0.1 -0.1)\">\n       <use xlink:href=\"#DejaVuSans-53\"/>\n       <use x=\"63.623047\" xlink:href=\"#DejaVuSans-48\"/>\n      </g>\n     </g>\n    </g>\n   </g>\n   <g id=\"matplotlib.axis_12\">\n    <g id=\"ytick_22\">\n     <g id=\"line2d_93\">\n      <path clip-path=\"url(#pf98e500284)\" d=\"M 436.2875 277.477309 \nL 591.2875 277.477309 \n\" style=\"fill:none;stroke:#b0b0b0;stroke-linecap:square;stroke-width:0.8;\"/>\n     </g>\n     <g id=\"line2d_94\">\n      <g>\n       <use style=\"stroke:#000000;stroke-width:0.8;\" x=\"436.2875\" xlink:href=\"#mdee30e5c97\" y=\"277.477309\"/>\n      </g>\n     </g>\n     <g id=\"text_52\">\n      <!-- 0 -->\n      <g transform=\"translate(422.925 281.276527)scale(0.1 -0.1)\">\n       <use xlink:href=\"#DejaVuSans-48\"/>\n      </g>\n     </g>\n    </g>\n    <g id=\"ytick_23\">\n     <g id=\"line2d_95\">\n      <path clip-path=\"url(#pf98e500284)\" d=\"M 436.2875 255.092568 \nL 591.2875 255.092568 \n\" style=\"fill:none;stroke:#b0b0b0;stroke-linecap:square;stroke-width:0.8;\"/>\n     </g>\n     <g id=\"line2d_96\">\n      <g>\n       <use style=\"stroke:#000000;stroke-width:0.8;\" x=\"436.2875\" xlink:href=\"#mdee30e5c97\" y=\"255.092568\"/>\n      </g>\n     </g>\n     <g id=\"text_53\">\n      <!-- 25 -->\n      <g transform=\"translate(416.5625 258.891787)scale(0.1 -0.1)\">\n       <use xlink:href=\"#DejaVuSans-50\"/>\n       <use x=\"63.623047\" xlink:href=\"#DejaVuSans-53\"/>\n      </g>\n     </g>\n    </g>\n    <g id=\"ytick_24\">\n     <g id=\"line2d_97\">\n      <path clip-path=\"url(#pf98e500284)\" d=\"M 436.2875 232.707827 \nL 591.2875 232.707827 \n\" style=\"fill:none;stroke:#b0b0b0;stroke-linecap:square;stroke-width:0.8;\"/>\n     </g>\n     <g id=\"line2d_98\">\n      <g>\n       <use style=\"stroke:#000000;stroke-width:0.8;\" x=\"436.2875\" xlink:href=\"#mdee30e5c97\" y=\"232.707827\"/>\n      </g>\n     </g>\n     <g id=\"text_54\">\n      <!-- 50 -->\n      <g transform=\"translate(416.5625 236.507046)scale(0.1 -0.1)\">\n       <use xlink:href=\"#DejaVuSans-53\"/>\n       <use x=\"63.623047\" xlink:href=\"#DejaVuSans-48\"/>\n      </g>\n     </g>\n    </g>\n    <g id=\"ytick_25\">\n     <g id=\"line2d_99\">\n      <path clip-path=\"url(#pf98e500284)\" d=\"M 436.2875 210.323086 \nL 591.2875 210.323086 \n\" style=\"fill:none;stroke:#b0b0b0;stroke-linecap:square;stroke-width:0.8;\"/>\n     </g>\n     <g id=\"line2d_100\">\n      <g>\n       <use style=\"stroke:#000000;stroke-width:0.8;\" x=\"436.2875\" xlink:href=\"#mdee30e5c97\" y=\"210.323086\"/>\n      </g>\n     </g>\n     <g id=\"text_55\">\n      <!-- 75 -->\n      <g transform=\"translate(416.5625 214.122305)scale(0.1 -0.1)\">\n       <use xlink:href=\"#DejaVuSans-55\"/>\n       <use x=\"63.623047\" xlink:href=\"#DejaVuSans-53\"/>\n      </g>\n     </g>\n    </g>\n    <g id=\"ytick_26\">\n     <g id=\"line2d_101\">\n      <path clip-path=\"url(#pf98e500284)\" d=\"M 436.2875 187.938345 \nL 591.2875 187.938345 \n\" style=\"fill:none;stroke:#b0b0b0;stroke-linecap:square;stroke-width:0.8;\"/>\n     </g>\n     <g id=\"line2d_102\">\n      <g>\n       <use style=\"stroke:#000000;stroke-width:0.8;\" x=\"436.2875\" xlink:href=\"#mdee30e5c97\" y=\"187.938345\"/>\n      </g>\n     </g>\n     <g id=\"text_56\">\n      <!-- 100 -->\n      <g transform=\"translate(410.2 191.737564)scale(0.1 -0.1)\">\n       <use xlink:href=\"#DejaVuSans-49\"/>\n       <use x=\"63.623047\" xlink:href=\"#DejaVuSans-48\"/>\n       <use x=\"127.246094\" xlink:href=\"#DejaVuSans-48\"/>\n      </g>\n     </g>\n    </g>\n   </g>\n   <g id=\"patch_88\">\n    <path d=\"M 436.2875 277.477309 \nL 436.2875 166.538533 \n\" style=\"fill:none;stroke:#000000;stroke-linecap:square;stroke-linejoin:miter;stroke-width:0.8;\"/>\n   </g>\n   <g id=\"patch_89\">\n    <path d=\"M 591.2875 277.477309 \nL 591.2875 166.538533 \n\" style=\"fill:none;stroke:#000000;stroke-linecap:square;stroke-linejoin:miter;stroke-width:0.8;\"/>\n   </g>\n   <g id=\"patch_90\">\n    <path d=\"M 436.2875 277.477309 \nL 591.2875 277.477309 \n\" style=\"fill:none;stroke:#000000;stroke-linecap:square;stroke-linejoin:miter;stroke-width:0.8;\"/>\n   </g>\n   <g id=\"patch_91\">\n    <path d=\"M 436.2875 166.538533 \nL 591.2875 166.538533 \n\" style=\"fill:none;stroke:#000000;stroke-linecap:square;stroke-linejoin:miter;stroke-width:0.8;\"/>\n   </g>\n   <g id=\"text_57\">\n    <!-- COREM -->\n    <g transform=\"translate(491.7375 160.538533)scale(0.12 -0.12)\">\n     <use xlink:href=\"#DejaVuSans-67\"/>\n     <use x=\"69.824219\" xlink:href=\"#DejaVuSans-79\"/>\n     <use x=\"148.535156\" xlink:href=\"#DejaVuSans-82\"/>\n     <use x=\"218.017578\" xlink:href=\"#DejaVuSans-69\"/>\n     <use x=\"281.201172\" xlink:href=\"#DejaVuSans-77\"/>\n    </g>\n   </g>\n  </g>\n  <g id=\"axes_7\">\n   <g id=\"patch_92\">\n    <path d=\"M 33.2875 421.697717 \nL 188.2875 421.697717 \nL 188.2875 310.758941 \nL 33.2875 310.758941 \nz\n\" style=\"fill:#ffffff;\"/>\n   </g>\n   <g id=\"patch_93\">\n    <path clip-path=\"url(#p0b45dfddcd)\" d=\"M 40.332955 421.697717 \nL 54.423864 421.697717 \nL 54.423864 417.201718 \nL 40.332955 417.201718 \nz\n\" style=\"fill:#1f77b4;\"/>\n   </g>\n   <g id=\"patch_94\">\n    <path clip-path=\"url(#p0b45dfddcd)\" d=\"M 54.423864 421.697717 \nL 68.514773 421.697717 \nL 68.514773 409.33372 \nL 54.423864 409.33372 \nz\n\" style=\"fill:#1f77b4;\"/>\n   </g>\n   <g id=\"patch_95\">\n    <path clip-path=\"url(#p0b45dfddcd)\" d=\"M 68.514773 421.697717 \nL 82.605682 421.697717 \nL 82.605682 377.861727 \nL 68.514773 377.861727 \nz\n\" style=\"fill:#1f77b4;\"/>\n   </g>\n   <g id=\"patch_96\">\n    <path clip-path=\"url(#p0b45dfddcd)\" d=\"M 82.605682 421.697717 \nL 96.696591 421.697717 \nL 96.696591 338.521735 \nL 82.605682 338.521735 \nz\n\" style=\"fill:#1f77b4;\"/>\n   </g>\n   <g id=\"patch_97\">\n    <path clip-path=\"url(#p0b45dfddcd)\" d=\"M 96.696591 421.697717 \nL 110.7875 421.697717 \nL 110.7875 320.537739 \nL 96.696591 320.537739 \nz\n\" style=\"fill:#1f77b4;\"/>\n   </g>\n   <g id=\"patch_98\">\n    <path clip-path=\"url(#p0b45dfddcd)\" d=\"M 110.7875 421.697717 \nL 124.878409 421.697717 \nL 124.878409 331.777737 \nL 110.7875 331.777737 \nz\n\" style=\"fill:#1f77b4;\"/>\n   </g>\n   <g id=\"patch_99\">\n    <path clip-path=\"url(#p0b45dfddcd)\" d=\"M 124.878409 421.697717 \nL 138.969318 421.697717 \nL 138.969318 316.04174 \nL 124.878409 316.04174 \nz\n\" style=\"fill:#1f77b4;\"/>\n   </g>\n   <g id=\"patch_100\">\n    <path clip-path=\"url(#p0b45dfddcd)\" d=\"M 138.969318 421.697717 \nL 153.060227 421.697717 \nL 153.060227 354.257732 \nL 138.969318 354.257732 \nz\n\" style=\"fill:#1f77b4;\"/>\n   </g>\n   <g id=\"patch_101\">\n    <path clip-path=\"url(#p0b45dfddcd)\" d=\"M 153.060227 421.697717 \nL 167.151136 421.697717 \nL 167.151136 384.605725 \nL 153.060227 384.605725 \nz\n\" style=\"fill:#1f77b4;\"/>\n   </g>\n   <g id=\"patch_102\">\n    <path clip-path=\"url(#p0b45dfddcd)\" d=\"M 167.151136 421.697717 \nL 181.242045 421.697717 \nL 181.242045 408.20972 \nL 167.151136 408.20972 \nz\n\" style=\"fill:#1f77b4;\"/>\n   </g>\n   <g id=\"matplotlib.axis_13\">\n    <g id=\"xtick_26\">\n     <g id=\"line2d_103\">\n      <path clip-path=\"url(#p0b45dfddcd)\" d=\"M 68.657285 421.697717 \nL 68.657285 310.758941 \n\" style=\"fill:none;stroke:#b0b0b0;stroke-linecap:square;stroke-width:0.8;\"/>\n     </g>\n     <g id=\"line2d_104\">\n      <g>\n       <use style=\"stroke:#000000;stroke-width:0.8;\" x=\"68.657285\" xlink:href=\"#m4cdbf06d37\" y=\"421.697717\"/>\n      </g>\n     </g>\n     <g id=\"text_58\">\n      <!-- 50 -->\n      <g transform=\"translate(62.294785 436.296154)scale(0.1 -0.1)\">\n       <use xlink:href=\"#DejaVuSans-53\"/>\n       <use x=\"63.623047\" xlink:href=\"#DejaVuSans-48\"/>\n      </g>\n     </g>\n    </g>\n    <g id=\"xtick_27\">\n     <g id=\"line2d_105\">\n      <path clip-path=\"url(#p0b45dfddcd)\" d=\"M 104.285374 421.697717 \nL 104.285374 310.758941 \n\" style=\"fill:none;stroke:#b0b0b0;stroke-linecap:square;stroke-width:0.8;\"/>\n     </g>\n     <g id=\"line2d_106\">\n      <g>\n       <use style=\"stroke:#000000;stroke-width:0.8;\" x=\"104.285374\" xlink:href=\"#m4cdbf06d37\" y=\"421.697717\"/>\n      </g>\n     </g>\n     <g id=\"text_59\">\n      <!-- 60 -->\n      <g transform=\"translate(97.922874 436.296154)scale(0.1 -0.1)\">\n       <use xlink:href=\"#DejaVuSans-54\"/>\n       <use x=\"63.623047\" xlink:href=\"#DejaVuSans-48\"/>\n      </g>\n     </g>\n    </g>\n    <g id=\"xtick_28\">\n     <g id=\"line2d_107\">\n      <path clip-path=\"url(#p0b45dfddcd)\" d=\"M 139.913463 421.697717 \nL 139.913463 310.758941 \n\" style=\"fill:none;stroke:#b0b0b0;stroke-linecap:square;stroke-width:0.8;\"/>\n     </g>\n     <g id=\"line2d_108\">\n      <g>\n       <use style=\"stroke:#000000;stroke-width:0.8;\" x=\"139.913463\" xlink:href=\"#m4cdbf06d37\" y=\"421.697717\"/>\n      </g>\n     </g>\n     <g id=\"text_60\">\n      <!-- 70 -->\n      <g transform=\"translate(133.550963 436.296154)scale(0.1 -0.1)\">\n       <use xlink:href=\"#DejaVuSans-55\"/>\n       <use x=\"63.623047\" xlink:href=\"#DejaVuSans-48\"/>\n      </g>\n     </g>\n    </g>\n    <g id=\"xtick_29\">\n     <g id=\"line2d_109\">\n      <path clip-path=\"url(#p0b45dfddcd)\" d=\"M 175.541551 421.697717 \nL 175.541551 310.758941 \n\" style=\"fill:none;stroke:#b0b0b0;stroke-linecap:square;stroke-width:0.8;\"/>\n     </g>\n     <g id=\"line2d_110\">\n      <g>\n       <use style=\"stroke:#000000;stroke-width:0.8;\" x=\"175.541551\" xlink:href=\"#m4cdbf06d37\" y=\"421.697717\"/>\n      </g>\n     </g>\n     <g id=\"text_61\">\n      <!-- 80 -->\n      <g transform=\"translate(169.179051 436.296154)scale(0.1 -0.1)\">\n       <use xlink:href=\"#DejaVuSans-56\"/>\n       <use x=\"63.623047\" xlink:href=\"#DejaVuSans-48\"/>\n      </g>\n     </g>\n    </g>\n   </g>\n   <g id=\"matplotlib.axis_14\">\n    <g id=\"ytick_27\">\n     <g id=\"line2d_111\">\n      <path clip-path=\"url(#p0b45dfddcd)\" d=\"M 33.2875 421.697717 \nL 188.2875 421.697717 \n\" style=\"fill:none;stroke:#b0b0b0;stroke-linecap:square;stroke-width:0.8;\"/>\n     </g>\n     <g id=\"line2d_112\">\n      <g>\n       <use style=\"stroke:#000000;stroke-width:0.8;\" x=\"33.2875\" xlink:href=\"#mdee30e5c97\" y=\"421.697717\"/>\n      </g>\n     </g>\n     <g id=\"text_62\">\n      <!-- 0 -->\n      <g transform=\"translate(19.925 425.496936)scale(0.1 -0.1)\">\n       <use xlink:href=\"#DejaVuSans-48\"/>\n      </g>\n     </g>\n    </g>\n    <g id=\"ytick_28\">\n     <g id=\"line2d_113\">\n      <path clip-path=\"url(#p0b45dfddcd)\" d=\"M 33.2875 399.217722 \nL 188.2875 399.217722 \n\" style=\"fill:none;stroke:#b0b0b0;stroke-linecap:square;stroke-width:0.8;\"/>\n     </g>\n     <g id=\"line2d_114\">\n      <g>\n       <use style=\"stroke:#000000;stroke-width:0.8;\" x=\"33.2875\" xlink:href=\"#mdee30e5c97\" y=\"399.217722\"/>\n      </g>\n     </g>\n     <g id=\"text_63\">\n      <!-- 20 -->\n      <g transform=\"translate(13.5625 403.016941)scale(0.1 -0.1)\">\n       <use xlink:href=\"#DejaVuSans-50\"/>\n       <use x=\"63.623047\" xlink:href=\"#DejaVuSans-48\"/>\n      </g>\n     </g>\n    </g>\n    <g id=\"ytick_29\">\n     <g id=\"line2d_115\">\n      <path clip-path=\"url(#p0b45dfddcd)\" d=\"M 33.2875 376.737727 \nL 188.2875 376.737727 \n\" style=\"fill:none;stroke:#b0b0b0;stroke-linecap:square;stroke-width:0.8;\"/>\n     </g>\n     <g id=\"line2d_116\">\n      <g>\n       <use style=\"stroke:#000000;stroke-width:0.8;\" x=\"33.2875\" xlink:href=\"#mdee30e5c97\" y=\"376.737727\"/>\n      </g>\n     </g>\n     <g id=\"text_64\">\n      <!-- 40 -->\n      <g transform=\"translate(13.5625 380.536946)scale(0.1 -0.1)\">\n       <use xlink:href=\"#DejaVuSans-52\"/>\n       <use x=\"63.623047\" xlink:href=\"#DejaVuSans-48\"/>\n      </g>\n     </g>\n    </g>\n    <g id=\"ytick_30\">\n     <g id=\"line2d_117\">\n      <path clip-path=\"url(#p0b45dfddcd)\" d=\"M 33.2875 354.257732 \nL 188.2875 354.257732 \n\" style=\"fill:none;stroke:#b0b0b0;stroke-linecap:square;stroke-width:0.8;\"/>\n     </g>\n     <g id=\"line2d_118\">\n      <g>\n       <use style=\"stroke:#000000;stroke-width:0.8;\" x=\"33.2875\" xlink:href=\"#mdee30e5c97\" y=\"354.257732\"/>\n      </g>\n     </g>\n     <g id=\"text_65\">\n      <!-- 60 -->\n      <g transform=\"translate(13.5625 358.05695)scale(0.1 -0.1)\">\n       <use xlink:href=\"#DejaVuSans-54\"/>\n       <use x=\"63.623047\" xlink:href=\"#DejaVuSans-48\"/>\n      </g>\n     </g>\n    </g>\n    <g id=\"ytick_31\">\n     <g id=\"line2d_119\">\n      <path clip-path=\"url(#p0b45dfddcd)\" d=\"M 33.2875 331.777737 \nL 188.2875 331.777737 \n\" style=\"fill:none;stroke:#b0b0b0;stroke-linecap:square;stroke-width:0.8;\"/>\n     </g>\n     <g id=\"line2d_120\">\n      <g>\n       <use style=\"stroke:#000000;stroke-width:0.8;\" x=\"33.2875\" xlink:href=\"#mdee30e5c97\" y=\"331.777737\"/>\n      </g>\n     </g>\n     <g id=\"text_66\">\n      <!-- 80 -->\n      <g transform=\"translate(13.5625 335.576955)scale(0.1 -0.1)\">\n       <use xlink:href=\"#DejaVuSans-56\"/>\n       <use x=\"63.623047\" xlink:href=\"#DejaVuSans-48\"/>\n      </g>\n     </g>\n    </g>\n   </g>\n   <g id=\"patch_103\">\n    <path d=\"M 33.2875 421.697717 \nL 33.2875 310.758941 \n\" style=\"fill:none;stroke:#000000;stroke-linecap:square;stroke-linejoin:miter;stroke-width:0.8;\"/>\n   </g>\n   <g id=\"patch_104\">\n    <path d=\"M 188.2875 421.697717 \nL 188.2875 310.758941 \n\" style=\"fill:none;stroke:#000000;stroke-linecap:square;stroke-linejoin:miter;stroke-width:0.8;\"/>\n   </g>\n   <g id=\"patch_105\">\n    <path d=\"M 33.2875 421.697717 \nL 188.2875 421.697717 \n\" style=\"fill:none;stroke:#000000;stroke-linecap:square;stroke-linejoin:miter;stroke-width:0.8;\"/>\n   </g>\n   <g id=\"patch_106\">\n    <path d=\"M 33.2875 310.758941 \nL 188.2875 310.758941 \n\" style=\"fill:none;stroke:#000000;stroke-linecap:square;stroke-linejoin:miter;stroke-width:0.8;\"/>\n   </g>\n   <g id=\"text_67\">\n    <!-- DENTAL -->\n    <defs>\n     <path d=\"M 9.8125 72.90625 \nL 19.671875 72.90625 \nL 19.671875 8.296875 \nL 55.171875 8.296875 \nL 55.171875 0 \nL 9.8125 0 \nz\n\" id=\"DejaVuSans-76\"/>\n    </defs>\n    <g transform=\"translate(87.240313 304.758941)scale(0.12 -0.12)\">\n     <use xlink:href=\"#DejaVuSans-68\"/>\n     <use x=\"77.001953\" xlink:href=\"#DejaVuSans-69\"/>\n     <use x=\"140.185547\" xlink:href=\"#DejaVuSans-78\"/>\n     <use x=\"214.990234\" xlink:href=\"#DejaVuSans-84\"/>\n     <use x=\"268.324219\" xlink:href=\"#DejaVuSans-65\"/>\n     <use x=\"336.732422\" xlink:href=\"#DejaVuSans-76\"/>\n    </g>\n   </g>\n  </g>\n  <g id=\"axes_8\">\n   <g id=\"patch_107\">\n    <path d=\"M 234.7875 421.697717 \nL 389.7875 421.697717 \nL 389.7875 310.758941 \nL 234.7875 310.758941 \nz\n\" style=\"fill:#ffffff;\"/>\n   </g>\n   <g id=\"patch_108\">\n    <path clip-path=\"url(#p3fe0ec7408)\" d=\"M 241.832955 421.697717 \nL 255.923864 421.697717 \nL 255.923864 415.482659 \nL 241.832955 415.482659 \nz\n\" style=\"fill:#1f77b4;\"/>\n   </g>\n   <g id=\"patch_109\">\n    <path clip-path=\"url(#p3fe0ec7408)\" d=\"M 255.923864 421.697717 \nL 270.014773 421.697717 \nL 270.014773 341.789835 \nL 255.923864 341.789835 \nz\n\" style=\"fill:#1f77b4;\"/>\n   </g>\n   <g id=\"patch_110\">\n    <path clip-path=\"url(#p3fe0ec7408)\" d=\"M 270.014773 421.697717 \nL 284.105682 421.697717 \nL 284.105682 323.144663 \nL 270.014773 323.144663 \nz\n\" style=\"fill:#1f77b4;\"/>\n   </g>\n   <g id=\"patch_111\">\n    <path clip-path=\"url(#p3fe0ec7408)\" d=\"M 284.105682 421.697717 \nL 298.196591 421.697717 \nL 298.196591 316.04174 \nL 284.105682 316.04174 \nz\n\" style=\"fill:#1f77b4;\"/>\n   </g>\n   <g id=\"patch_112\">\n    <path clip-path=\"url(#p3fe0ec7408)\" d=\"M 298.196591 421.697717 \nL 312.2875 421.697717 \nL 312.2875 329.35972 \nL 298.196591 329.35972 \nz\n\" style=\"fill:#1f77b4;\"/>\n   </g>\n   <g id=\"patch_113\">\n    <path clip-path=\"url(#p3fe0ec7408)\" d=\"M 312.2875 421.697717 \nL 326.378409 421.697717 \nL 326.378409 388.846699 \nL 312.2875 388.846699 \nz\n\" style=\"fill:#1f77b4;\"/>\n   </g>\n   <g id=\"patch_114\">\n    <path clip-path=\"url(#p3fe0ec7408)\" d=\"M 326.378409 421.697717 \nL 340.469318 421.697717 \nL 340.469318 404.828275 \nL 326.378409 404.828275 \nz\n\" style=\"fill:#1f77b4;\"/>\n   </g>\n   <g id=\"patch_115\">\n    <path clip-path=\"url(#p3fe0ec7408)\" d=\"M 340.469318 421.697717 \nL 354.560227 421.697717 \nL 354.560227 416.370525 \nL 340.469318 416.370525 \nz\n\" style=\"fill:#1f77b4;\"/>\n   </g>\n   <g id=\"patch_116\">\n    <path clip-path=\"url(#p3fe0ec7408)\" d=\"M 354.560227 421.697717 \nL 368.651136 421.697717 \nL 368.651136 419.034121 \nL 354.560227 419.034121 \nz\n\" style=\"fill:#1f77b4;\"/>\n   </g>\n   <g id=\"patch_117\">\n    <path clip-path=\"url(#p3fe0ec7408)\" d=\"M 368.651136 421.697717 \nL 382.742045 421.697717 \nL 382.742045 420.809851 \nL 368.651136 420.809851 \nz\n\" style=\"fill:#1f77b4;\"/>\n   </g>\n   <g id=\"matplotlib.axis_15\">\n    <g id=\"xtick_30\">\n     <g id=\"line2d_121\">\n      <path clip-path=\"url(#p3fe0ec7408)\" d=\"M 242.293442 421.697717 \nL 242.293442 310.758941 \n\" style=\"fill:none;stroke:#b0b0b0;stroke-linecap:square;stroke-width:0.8;\"/>\n     </g>\n     <g id=\"line2d_122\">\n      <g>\n       <use style=\"stroke:#000000;stroke-width:0.8;\" x=\"242.293442\" xlink:href=\"#m4cdbf06d37\" y=\"421.697717\"/>\n      </g>\n     </g>\n     <g id=\"text_68\">\n      <!-- 5 -->\n      <g transform=\"translate(239.112192 436.296154)scale(0.1 -0.1)\">\n       <use xlink:href=\"#DejaVuSans-53\"/>\n      </g>\n     </g>\n    </g>\n    <g id=\"xtick_31\">\n     <g id=\"line2d_123\">\n      <path clip-path=\"url(#p3fe0ec7408)\" d=\"M 288.342164 421.697717 \nL 288.342164 310.758941 \n\" style=\"fill:none;stroke:#b0b0b0;stroke-linecap:square;stroke-width:0.8;\"/>\n     </g>\n     <g id=\"line2d_124\">\n      <g>\n       <use style=\"stroke:#000000;stroke-width:0.8;\" x=\"288.342164\" xlink:href=\"#m4cdbf06d37\" y=\"421.697717\"/>\n      </g>\n     </g>\n     <g id=\"text_69\">\n      <!-- 10 -->\n      <g transform=\"translate(281.979664 436.296154)scale(0.1 -0.1)\">\n       <use xlink:href=\"#DejaVuSans-49\"/>\n       <use x=\"63.623047\" xlink:href=\"#DejaVuSans-48\"/>\n      </g>\n     </g>\n    </g>\n    <g id=\"xtick_32\">\n     <g id=\"line2d_125\">\n      <path clip-path=\"url(#p3fe0ec7408)\" d=\"M 334.390887 421.697717 \nL 334.390887 310.758941 \n\" style=\"fill:none;stroke:#b0b0b0;stroke-linecap:square;stroke-width:0.8;\"/>\n     </g>\n     <g id=\"line2d_126\">\n      <g>\n       <use style=\"stroke:#000000;stroke-width:0.8;\" x=\"334.390887\" xlink:href=\"#m4cdbf06d37\" y=\"421.697717\"/>\n      </g>\n     </g>\n     <g id=\"text_70\">\n      <!-- 15 -->\n      <g transform=\"translate(328.028387 436.296154)scale(0.1 -0.1)\">\n       <use xlink:href=\"#DejaVuSans-49\"/>\n       <use x=\"63.623047\" xlink:href=\"#DejaVuSans-53\"/>\n      </g>\n     </g>\n    </g>\n    <g id=\"xtick_33\">\n     <g id=\"line2d_127\">\n      <path clip-path=\"url(#p3fe0ec7408)\" d=\"M 380.439609 421.697717 \nL 380.439609 310.758941 \n\" style=\"fill:none;stroke:#b0b0b0;stroke-linecap:square;stroke-width:0.8;\"/>\n     </g>\n     <g id=\"line2d_128\">\n      <g>\n       <use style=\"stroke:#000000;stroke-width:0.8;\" x=\"380.439609\" xlink:href=\"#m4cdbf06d37\" y=\"421.697717\"/>\n      </g>\n     </g>\n     <g id=\"text_71\">\n      <!-- 20 -->\n      <g transform=\"translate(374.077109 436.296154)scale(0.1 -0.1)\">\n       <use xlink:href=\"#DejaVuSans-50\"/>\n       <use x=\"63.623047\" xlink:href=\"#DejaVuSans-48\"/>\n      </g>\n     </g>\n    </g>\n   </g>\n   <g id=\"matplotlib.axis_16\">\n    <g id=\"ytick_32\">\n     <g id=\"line2d_129\">\n      <path clip-path=\"url(#p3fe0ec7408)\" d=\"M 234.7875 421.697717 \nL 389.7875 421.697717 \n\" style=\"fill:none;stroke:#b0b0b0;stroke-linecap:square;stroke-width:0.8;\"/>\n     </g>\n     <g id=\"line2d_130\">\n      <g>\n       <use style=\"stroke:#000000;stroke-width:0.8;\" x=\"234.7875\" xlink:href=\"#mdee30e5c97\" y=\"421.697717\"/>\n      </g>\n     </g>\n     <g id=\"text_72\">\n      <!-- 0 -->\n      <g transform=\"translate(221.425 425.496936)scale(0.1 -0.1)\">\n       <use xlink:href=\"#DejaVuSans-48\"/>\n      </g>\n     </g>\n    </g>\n    <g id=\"ytick_33\">\n     <g id=\"line2d_131\">\n      <path clip-path=\"url(#p3fe0ec7408)\" d=\"M 234.7875 399.501083 \nL 389.7875 399.501083 \n\" style=\"fill:none;stroke:#b0b0b0;stroke-linecap:square;stroke-width:0.8;\"/>\n     </g>\n     <g id=\"line2d_132\">\n      <g>\n       <use style=\"stroke:#000000;stroke-width:0.8;\" x=\"234.7875\" xlink:href=\"#mdee30e5c97\" y=\"399.501083\"/>\n      </g>\n     </g>\n     <g id=\"text_73\">\n      <!-- 25 -->\n      <g transform=\"translate(215.0625 403.300302)scale(0.1 -0.1)\">\n       <use xlink:href=\"#DejaVuSans-50\"/>\n       <use x=\"63.623047\" xlink:href=\"#DejaVuSans-53\"/>\n      </g>\n     </g>\n    </g>\n    <g id=\"ytick_34\">\n     <g id=\"line2d_133\">\n      <path clip-path=\"url(#p3fe0ec7408)\" d=\"M 234.7875 377.304449 \nL 389.7875 377.304449 \n\" style=\"fill:none;stroke:#b0b0b0;stroke-linecap:square;stroke-width:0.8;\"/>\n     </g>\n     <g id=\"line2d_134\">\n      <g>\n       <use style=\"stroke:#000000;stroke-width:0.8;\" x=\"234.7875\" xlink:href=\"#mdee30e5c97\" y=\"377.304449\"/>\n      </g>\n     </g>\n     <g id=\"text_74\">\n      <!-- 50 -->\n      <g transform=\"translate(215.0625 381.103668)scale(0.1 -0.1)\">\n       <use xlink:href=\"#DejaVuSans-53\"/>\n       <use x=\"63.623047\" xlink:href=\"#DejaVuSans-48\"/>\n      </g>\n     </g>\n    </g>\n    <g id=\"ytick_35\">\n     <g id=\"line2d_135\">\n      <path clip-path=\"url(#p3fe0ec7408)\" d=\"M 234.7875 355.107816 \nL 389.7875 355.107816 \n\" style=\"fill:none;stroke:#b0b0b0;stroke-linecap:square;stroke-width:0.8;\"/>\n     </g>\n     <g id=\"line2d_136\">\n      <g>\n       <use style=\"stroke:#000000;stroke-width:0.8;\" x=\"234.7875\" xlink:href=\"#mdee30e5c97\" y=\"355.107816\"/>\n      </g>\n     </g>\n     <g id=\"text_75\">\n      <!-- 75 -->\n      <g transform=\"translate(215.0625 358.907034)scale(0.1 -0.1)\">\n       <use xlink:href=\"#DejaVuSans-55\"/>\n       <use x=\"63.623047\" xlink:href=\"#DejaVuSans-53\"/>\n      </g>\n     </g>\n    </g>\n    <g id=\"ytick_36\">\n     <g id=\"line2d_137\">\n      <path clip-path=\"url(#p3fe0ec7408)\" d=\"M 234.7875 332.911182 \nL 389.7875 332.911182 \n\" style=\"fill:none;stroke:#b0b0b0;stroke-linecap:square;stroke-width:0.8;\"/>\n     </g>\n     <g id=\"line2d_138\">\n      <g>\n       <use style=\"stroke:#000000;stroke-width:0.8;\" x=\"234.7875\" xlink:href=\"#mdee30e5c97\" y=\"332.911182\"/>\n      </g>\n     </g>\n     <g id=\"text_76\">\n      <!-- 100 -->\n      <g transform=\"translate(208.7 336.710401)scale(0.1 -0.1)\">\n       <use xlink:href=\"#DejaVuSans-49\"/>\n       <use x=\"63.623047\" xlink:href=\"#DejaVuSans-48\"/>\n       <use x=\"127.246094\" xlink:href=\"#DejaVuSans-48\"/>\n      </g>\n     </g>\n    </g>\n   </g>\n   <g id=\"patch_118\">\n    <path d=\"M 234.7875 421.697717 \nL 234.7875 310.758941 \n\" style=\"fill:none;stroke:#000000;stroke-linecap:square;stroke-linejoin:miter;stroke-width:0.8;\"/>\n   </g>\n   <g id=\"patch_119\">\n    <path d=\"M 389.7875 421.697717 \nL 389.7875 310.758941 \n\" style=\"fill:none;stroke:#000000;stroke-linecap:square;stroke-linejoin:miter;stroke-width:0.8;\"/>\n   </g>\n   <g id=\"patch_120\">\n    <path d=\"M 234.7875 421.697717 \nL 389.7875 421.697717 \n\" style=\"fill:none;stroke:#000000;stroke-linecap:square;stroke-linejoin:miter;stroke-width:0.8;\"/>\n   </g>\n   <g id=\"patch_121\">\n    <path d=\"M 234.7875 310.758941 \nL 389.7875 310.758941 \n\" style=\"fill:none;stroke:#000000;stroke-linecap:square;stroke-linejoin:miter;stroke-width:0.8;\"/>\n   </g>\n   <g id=\"text_77\">\n    <!-- DIABETES -->\n    <defs>\n     <path d=\"M 19.671875 34.8125 \nL 19.671875 8.109375 \nL 35.5 8.109375 \nQ 43.453125 8.109375 47.28125 11.40625 \nQ 51.125 14.703125 51.125 21.484375 \nQ 51.125 28.328125 47.28125 31.5625 \nQ 43.453125 34.8125 35.5 34.8125 \nz\nM 19.671875 64.796875 \nL 19.671875 42.828125 \nL 34.28125 42.828125 \nQ 41.5 42.828125 45.03125 45.53125 \nQ 48.578125 48.25 48.578125 53.8125 \nQ 48.578125 59.328125 45.03125 62.0625 \nQ 41.5 64.796875 34.28125 64.796875 \nz\nM 9.8125 72.90625 \nL 35.015625 72.90625 \nQ 46.296875 72.90625 52.390625 68.21875 \nQ 58.5 63.53125 58.5 54.890625 \nQ 58.5 48.1875 55.375 44.234375 \nQ 52.25 40.28125 46.1875 39.3125 \nQ 53.46875 37.75 57.5 32.78125 \nQ 61.53125 27.828125 61.53125 20.40625 \nQ 61.53125 10.640625 54.890625 5.3125 \nQ 48.25 0 35.984375 0 \nL 9.8125 0 \nz\n\" id=\"DejaVuSans-66\"/>\n    </defs>\n    <g transform=\"translate(282.620313 304.758941)scale(0.12 -0.12)\">\n     <use xlink:href=\"#DejaVuSans-68\"/>\n     <use x=\"77.001953\" xlink:href=\"#DejaVuSans-73\"/>\n     <use x=\"106.494141\" xlink:href=\"#DejaVuSans-65\"/>\n     <use x=\"174.902344\" xlink:href=\"#DejaVuSans-66\"/>\n     <use x=\"243.505859\" xlink:href=\"#DejaVuSans-69\"/>\n     <use x=\"306.689453\" xlink:href=\"#DejaVuSans-84\"/>\n     <use x=\"367.773438\" xlink:href=\"#DejaVuSans-69\"/>\n     <use x=\"430.957031\" xlink:href=\"#DejaVuSans-83\"/>\n    </g>\n   </g>\n  </g>\n  <g id=\"axes_9\">\n   <g id=\"patch_122\">\n    <path d=\"M 436.2875 421.697717 \nL 591.2875 421.697717 \nL 591.2875 310.758941 \nL 436.2875 310.758941 \nz\n\" style=\"fill:#ffffff;\"/>\n   </g>\n   <g id=\"patch_123\">\n    <path clip-path=\"url(#p0cbbf12e28)\" d=\"M 443.332955 421.697717 \nL 457.423864 421.697717 \nL 457.423864 417.747961 \nL 443.332955 417.747961 \nz\n\" style=\"fill:#1f77b4;\"/>\n   </g>\n   <g id=\"patch_124\">\n    <path clip-path=\"url(#p0cbbf12e28)\" d=\"M 457.423864 421.697717 \nL 471.514773 421.697717 \nL 471.514773 411.823326 \nL 457.423864 411.823326 \nz\n\" style=\"fill:#1f77b4;\"/>\n   </g>\n   <g id=\"patch_125\">\n    <path clip-path=\"url(#p0cbbf12e28)\" d=\"M 471.514773 421.697717 \nL 485.605682 421.697717 \nL 485.605682 389.112229 \nL 471.514773 389.112229 \nz\n\" style=\"fill:#1f77b4;\"/>\n   </g>\n   <g id=\"patch_126\">\n    <path clip-path=\"url(#p0cbbf12e28)\" d=\"M 485.605682 421.697717 \nL 499.696591 421.697717 \nL 499.696591 366.401131 \nL 485.605682 366.401131 \nz\n\" style=\"fill:#1f77b4;\"/>\n   </g>\n   <g id=\"patch_127\">\n    <path clip-path=\"url(#p0cbbf12e28)\" d=\"M 499.696591 421.697717 \nL 513.7875 421.697717 \nL 513.7875 316.04174 \nL 499.696591 316.04174 \nz\n\" style=\"fill:#1f77b4;\"/>\n   </g>\n   <g id=\"patch_128\">\n    <path clip-path=\"url(#p0cbbf12e28)\" d=\"M 513.7875 421.697717 \nL 527.878409 421.697717 \nL 527.878409 320.978935 \nL 513.7875 320.978935 \nz\n\" style=\"fill:#1f77b4;\"/>\n   </g>\n   <g id=\"patch_129\">\n    <path clip-path=\"url(#p0cbbf12e28)\" d=\"M 527.878409 421.697717 \nL 541.969318 421.697717 \nL 541.969318 328.878448 \nL 527.878409 328.878448 \nz\n\" style=\"fill:#1f77b4;\"/>\n   </g>\n   <g id=\"patch_130\">\n    <path clip-path=\"url(#p0cbbf12e28)\" d=\"M 541.969318 421.697717 \nL 556.060227 421.697717 \nL 556.060227 359.489058 \nL 541.969318 359.489058 \nz\n\" style=\"fill:#1f77b4;\"/>\n   </g>\n   <g id=\"patch_131\">\n    <path clip-path=\"url(#p0cbbf12e28)\" d=\"M 556.060227 421.697717 \nL 570.151136 421.697717 \nL 570.151136 397.011741 \nL 556.060227 397.011741 \nz\n\" style=\"fill:#1f77b4;\"/>\n   </g>\n   <g id=\"patch_132\">\n    <path clip-path=\"url(#p0cbbf12e28)\" d=\"M 570.151136 421.697717 \nL 584.242045 421.697717 \nL 584.242045 418.7354 \nL 570.151136 418.7354 \nz\n\" style=\"fill:#1f77b4;\"/>\n   </g>\n   <g id=\"matplotlib.axis_17\">\n    <g id=\"xtick_34\">\n     <g id=\"line2d_139\">\n      <path clip-path=\"url(#p0cbbf12e28)\" d=\"M 438.208988 421.697717 \nL 438.208988 310.758941 \n\" style=\"fill:none;stroke:#b0b0b0;stroke-linecap:square;stroke-width:0.8;\"/>\n     </g>\n     <g id=\"line2d_140\">\n      <g>\n       <use style=\"stroke:#000000;stroke-width:0.8;\" x=\"438.208988\" xlink:href=\"#m4cdbf06d37\" y=\"421.697717\"/>\n      </g>\n     </g>\n     <g id=\"text_78\">\n      <!-- 25 -->\n      <g transform=\"translate(431.846488 436.296154)scale(0.1 -0.1)\">\n       <use xlink:href=\"#DejaVuSans-50\"/>\n       <use x=\"63.623047\" xlink:href=\"#DejaVuSans-53\"/>\n      </g>\n     </g>\n    </g>\n    <g id=\"xtick_35\">\n     <g id=\"line2d_141\">\n      <path clip-path=\"url(#p0cbbf12e28)\" d=\"M 489.448657 421.697717 \nL 489.448657 310.758941 \n\" style=\"fill:none;stroke:#b0b0b0;stroke-linecap:square;stroke-width:0.8;\"/>\n     </g>\n     <g id=\"line2d_142\">\n      <g>\n       <use style=\"stroke:#000000;stroke-width:0.8;\" x=\"489.448657\" xlink:href=\"#m4cdbf06d37\" y=\"421.697717\"/>\n      </g>\n     </g>\n     <g id=\"text_79\">\n      <!-- 30 -->\n      <g transform=\"translate(483.086157 436.296154)scale(0.1 -0.1)\">\n       <use xlink:href=\"#DejaVuSans-51\"/>\n       <use x=\"63.623047\" xlink:href=\"#DejaVuSans-48\"/>\n      </g>\n     </g>\n    </g>\n    <g id=\"xtick_36\">\n     <g id=\"line2d_143\">\n      <path clip-path=\"url(#p0cbbf12e28)\" d=\"M 540.688326 421.697717 \nL 540.688326 310.758941 \n\" style=\"fill:none;stroke:#b0b0b0;stroke-linecap:square;stroke-width:0.8;\"/>\n     </g>\n     <g id=\"line2d_144\">\n      <g>\n       <use style=\"stroke:#000000;stroke-width:0.8;\" x=\"540.688326\" xlink:href=\"#m4cdbf06d37\" y=\"421.697717\"/>\n      </g>\n     </g>\n     <g id=\"text_80\">\n      <!-- 35 -->\n      <g transform=\"translate(534.325826 436.296154)scale(0.1 -0.1)\">\n       <use xlink:href=\"#DejaVuSans-51\"/>\n       <use x=\"63.623047\" xlink:href=\"#DejaVuSans-53\"/>\n      </g>\n     </g>\n    </g>\n   </g>\n   <g id=\"matplotlib.axis_18\">\n    <g id=\"ytick_37\">\n     <g id=\"line2d_145\">\n      <path clip-path=\"url(#p0cbbf12e28)\" d=\"M 436.2875 421.697717 \nL 591.2875 421.697717 \n\" style=\"fill:none;stroke:#b0b0b0;stroke-linecap:square;stroke-width:0.8;\"/>\n     </g>\n     <g id=\"line2d_146\">\n      <g>\n       <use style=\"stroke:#000000;stroke-width:0.8;\" x=\"436.2875\" xlink:href=\"#mdee30e5c97\" y=\"421.697717\"/>\n      </g>\n     </g>\n     <g id=\"text_81\">\n      <!-- 0 -->\n      <g transform=\"translate(422.925 425.496936)scale(0.1 -0.1)\">\n       <use xlink:href=\"#DejaVuSans-48\"/>\n      </g>\n     </g>\n    </g>\n    <g id=\"ytick_38\">\n     <g id=\"line2d_147\">\n      <path clip-path=\"url(#p0cbbf12e28)\" d=\"M 436.2875 397.011741 \nL 591.2875 397.011741 \n\" style=\"fill:none;stroke:#b0b0b0;stroke-linecap:square;stroke-width:0.8;\"/>\n     </g>\n     <g id=\"line2d_148\">\n      <g>\n       <use style=\"stroke:#000000;stroke-width:0.8;\" x=\"436.2875\" xlink:href=\"#mdee30e5c97\" y=\"397.011741\"/>\n      </g>\n     </g>\n     <g id=\"text_82\">\n      <!-- 25 -->\n      <g transform=\"translate(416.5625 400.81096)scale(0.1 -0.1)\">\n       <use xlink:href=\"#DejaVuSans-50\"/>\n       <use x=\"63.623047\" xlink:href=\"#DejaVuSans-53\"/>\n      </g>\n     </g>\n    </g>\n    <g id=\"ytick_39\">\n     <g id=\"line2d_149\">\n      <path clip-path=\"url(#p0cbbf12e28)\" d=\"M 436.2875 372.325765 \nL 591.2875 372.325765 \n\" style=\"fill:none;stroke:#b0b0b0;stroke-linecap:square;stroke-width:0.8;\"/>\n     </g>\n     <g id=\"line2d_150\">\n      <g>\n       <use style=\"stroke:#000000;stroke-width:0.8;\" x=\"436.2875\" xlink:href=\"#mdee30e5c97\" y=\"372.325765\"/>\n      </g>\n     </g>\n     <g id=\"text_83\">\n      <!-- 50 -->\n      <g transform=\"translate(416.5625 376.124984)scale(0.1 -0.1)\">\n       <use xlink:href=\"#DejaVuSans-53\"/>\n       <use x=\"63.623047\" xlink:href=\"#DejaVuSans-48\"/>\n      </g>\n     </g>\n    </g>\n    <g id=\"ytick_40\">\n     <g id=\"line2d_151\">\n      <path clip-path=\"url(#p0cbbf12e28)\" d=\"M 436.2875 347.639789 \nL 591.2875 347.639789 \n\" style=\"fill:none;stroke:#b0b0b0;stroke-linecap:square;stroke-width:0.8;\"/>\n     </g>\n     <g id=\"line2d_152\">\n      <g>\n       <use style=\"stroke:#000000;stroke-width:0.8;\" x=\"436.2875\" xlink:href=\"#mdee30e5c97\" y=\"347.639789\"/>\n      </g>\n     </g>\n     <g id=\"text_84\">\n      <!-- 75 -->\n      <g transform=\"translate(416.5625 351.439008)scale(0.1 -0.1)\">\n       <use xlink:href=\"#DejaVuSans-55\"/>\n       <use x=\"63.623047\" xlink:href=\"#DejaVuSans-53\"/>\n      </g>\n     </g>\n    </g>\n    <g id=\"ytick_41\">\n     <g id=\"line2d_153\">\n      <path clip-path=\"url(#p0cbbf12e28)\" d=\"M 436.2875 322.953813 \nL 591.2875 322.953813 \n\" style=\"fill:none;stroke:#b0b0b0;stroke-linecap:square;stroke-width:0.8;\"/>\n     </g>\n     <g id=\"line2d_154\">\n      <g>\n       <use style=\"stroke:#000000;stroke-width:0.8;\" x=\"436.2875\" xlink:href=\"#mdee30e5c97\" y=\"322.953813\"/>\n      </g>\n     </g>\n     <g id=\"text_85\">\n      <!-- 100 -->\n      <g transform=\"translate(410.2 326.753032)scale(0.1 -0.1)\">\n       <use xlink:href=\"#DejaVuSans-49\"/>\n       <use x=\"63.623047\" xlink:href=\"#DejaVuSans-48\"/>\n       <use x=\"127.246094\" xlink:href=\"#DejaVuSans-48\"/>\n      </g>\n     </g>\n    </g>\n   </g>\n   <g id=\"patch_133\">\n    <path d=\"M 436.2875 421.697717 \nL 436.2875 310.758941 \n\" style=\"fill:none;stroke:#000000;stroke-linecap:square;stroke-linejoin:miter;stroke-width:0.8;\"/>\n   </g>\n   <g id=\"patch_134\">\n    <path d=\"M 591.2875 421.697717 \nL 591.2875 310.758941 \n\" style=\"fill:none;stroke:#000000;stroke-linecap:square;stroke-linejoin:miter;stroke-width:0.8;\"/>\n   </g>\n   <g id=\"patch_135\">\n    <path d=\"M 436.2875 421.697717 \nL 591.2875 421.697717 \n\" style=\"fill:none;stroke:#000000;stroke-linecap:square;stroke-linejoin:miter;stroke-width:0.8;\"/>\n   </g>\n   <g id=\"patch_136\">\n    <path d=\"M 436.2875 310.758941 \nL 591.2875 310.758941 \n\" style=\"fill:none;stroke:#000000;stroke-linecap:square;stroke-linejoin:miter;stroke-width:0.8;\"/>\n   </g>\n   <g id=\"text_86\">\n    <!-- HIGHCHOL -->\n    <defs>\n     <path d=\"M 59.515625 10.40625 \nL 59.515625 29.984375 \nL 43.40625 29.984375 \nL 43.40625 38.09375 \nL 69.28125 38.09375 \nL 69.28125 6.78125 \nQ 63.578125 2.734375 56.6875 0.65625 \nQ 49.8125 -1.421875 42 -1.421875 \nQ 24.90625 -1.421875 15.25 8.5625 \nQ 5.609375 18.5625 5.609375 36.375 \nQ 5.609375 54.25 15.25 64.234375 \nQ 24.90625 74.21875 42 74.21875 \nQ 49.125 74.21875 55.546875 72.453125 \nQ 61.96875 70.703125 67.390625 67.28125 \nL 67.390625 56.78125 \nQ 61.921875 61.421875 55.765625 63.765625 \nQ 49.609375 66.109375 42.828125 66.109375 \nQ 29.4375 66.109375 22.71875 58.640625 \nQ 16.015625 51.171875 16.015625 36.375 \nQ 16.015625 21.625 22.71875 14.15625 \nQ 29.4375 6.6875 42.828125 6.6875 \nQ 48.046875 6.6875 52.140625 7.59375 \nQ 56.25 8.5 59.515625 10.40625 \nz\n\" id=\"DejaVuSans-71\"/>\n    </defs>\n    <g transform=\"translate(481.575938 304.758941)scale(0.12 -0.12)\">\n     <use xlink:href=\"#DejaVuSans-72\"/>\n     <use x=\"75.195312\" xlink:href=\"#DejaVuSans-73\"/>\n     <use x=\"104.6875\" xlink:href=\"#DejaVuSans-71\"/>\n     <use x=\"182.177734\" xlink:href=\"#DejaVuSans-72\"/>\n     <use x=\"257.373047\" xlink:href=\"#DejaVuSans-67\"/>\n     <use x=\"327.197266\" xlink:href=\"#DejaVuSans-72\"/>\n     <use x=\"402.392578\" xlink:href=\"#DejaVuSans-79\"/>\n     <use x=\"481.103516\" xlink:href=\"#DejaVuSans-76\"/>\n    </g>\n   </g>\n  </g>\n  <g id=\"axes_10\">\n   <g id=\"patch_137\">\n    <path d=\"M 33.2875 565.918125 \nL 188.2875 565.918125 \nL 188.2875 454.979349 \nL 33.2875 454.979349 \nz\n\" style=\"fill:#ffffff;\"/>\n   </g>\n   <g id=\"patch_138\">\n    <path clip-path=\"url(#pc378367c7b)\" d=\"M 40.332955 565.918125 \nL 54.423864 565.918125 \nL 54.423864 546.97979 \nL 40.332955 546.97979 \nz\n\" style=\"fill:#1f77b4;\"/>\n   </g>\n   <g id=\"patch_139\">\n    <path clip-path=\"url(#pc378367c7b)\" d=\"M 54.423864 565.918125 \nL 68.514773 565.918125 \nL 68.514773 492.158292 \nL 54.423864 492.158292 \nz\n\" style=\"fill:#1f77b4;\"/>\n   </g>\n   <g id=\"patch_140\">\n    <path clip-path=\"url(#pc378367c7b)\" d=\"M 68.514773 565.918125 \nL 82.605682 565.918125 \nL 82.605682 467.23943 \nL 68.514773 467.23943 \nz\n\" style=\"fill:#1f77b4;\"/>\n   </g>\n   <g id=\"patch_141\">\n    <path clip-path=\"url(#pc378367c7b)\" d=\"M 82.605682 565.918125 \nL 96.696591 565.918125 \nL 96.696591 476.21022 \nL 82.605682 476.21022 \nz\n\" style=\"fill:#1f77b4;\"/>\n   </g>\n   <g id=\"patch_142\">\n    <path clip-path=\"url(#pc378367c7b)\" d=\"M 96.696591 565.918125 \nL 110.7875 565.918125 \nL 110.7875 460.262148 \nL 96.696591 460.262148 \nz\n\" style=\"fill:#1f77b4;\"/>\n   </g>\n   <g id=\"patch_143\">\n    <path clip-path=\"url(#pc378367c7b)\" d=\"M 110.7875 565.918125 \nL 124.878409 565.918125 \nL 124.878409 497.142065 \nL 110.7875 497.142065 \nz\n\" style=\"fill:#1f77b4;\"/>\n   </g>\n   <g id=\"patch_144\">\n    <path clip-path=\"url(#pc378367c7b)\" d=\"M 124.878409 565.918125 \nL 138.969318 565.918125 \nL 138.969318 542.992772 \nL 124.878409 542.992772 \nz\n\" style=\"fill:#1f77b4;\"/>\n   </g>\n   <g id=\"patch_145\">\n    <path clip-path=\"url(#pc378367c7b)\" d=\"M 138.969318 565.918125 \nL 153.060227 565.918125 \nL 153.060227 559.937598 \nL 138.969318 559.937598 \nz\n\" style=\"fill:#1f77b4;\"/>\n   </g>\n   <g id=\"patch_146\">\n    <path clip-path=\"url(#pc378367c7b)\" d=\"M 153.060227 565.918125 \nL 167.151136 565.918125 \nL 167.151136 557.944089 \nL 153.060227 557.944089 \nz\n\" style=\"fill:#1f77b4;\"/>\n   </g>\n   <g id=\"patch_147\">\n    <path clip-path=\"url(#pc378367c7b)\" d=\"M 167.151136 565.918125 \nL 181.242045 565.918125 \nL 181.242045 562.927862 \nL 167.151136 562.927862 \nz\n\" style=\"fill:#1f77b4;\"/>\n   </g>\n   <g id=\"matplotlib.axis_19\">\n    <g id=\"xtick_37\">\n     <g id=\"line2d_155\">\n      <path clip-path=\"url(#pc378367c7b)\" d=\"M 38.436466 565.918125 \nL 38.436466 454.979349 \n\" style=\"fill:none;stroke:#b0b0b0;stroke-linecap:square;stroke-width:0.8;\"/>\n     </g>\n     <g id=\"line2d_156\">\n      <g>\n       <use style=\"stroke:#000000;stroke-width:0.8;\" x=\"38.436466\" xlink:href=\"#m4cdbf06d37\" y=\"565.918125\"/>\n      </g>\n     </g>\n     <g id=\"text_87\">\n      <!-- 10 -->\n      <g transform=\"translate(32.073966 580.516562)scale(0.1 -0.1)\">\n       <use xlink:href=\"#DejaVuSans-49\"/>\n       <use x=\"63.623047\" xlink:href=\"#DejaVuSans-48\"/>\n      </g>\n     </g>\n    </g>\n    <g id=\"xtick_38\">\n     <g id=\"line2d_157\">\n      <path clip-path=\"url(#pc378367c7b)\" d=\"M 76.366235 565.918125 \nL 76.366235 454.979349 \n\" style=\"fill:none;stroke:#b0b0b0;stroke-linecap:square;stroke-width:0.8;\"/>\n     </g>\n     <g id=\"line2d_158\">\n      <g>\n       <use style=\"stroke:#000000;stroke-width:0.8;\" x=\"76.366235\" xlink:href=\"#m4cdbf06d37\" y=\"565.918125\"/>\n      </g>\n     </g>\n     <g id=\"text_88\">\n      <!-- 20 -->\n      <g transform=\"translate(70.003735 580.516562)scale(0.1 -0.1)\">\n       <use xlink:href=\"#DejaVuSans-50\"/>\n       <use x=\"63.623047\" xlink:href=\"#DejaVuSans-48\"/>\n      </g>\n     </g>\n    </g>\n    <g id=\"xtick_39\">\n     <g id=\"line2d_159\">\n      <path clip-path=\"url(#pc378367c7b)\" d=\"M 114.296004 565.918125 \nL 114.296004 454.979349 \n\" style=\"fill:none;stroke:#b0b0b0;stroke-linecap:square;stroke-width:0.8;\"/>\n     </g>\n     <g id=\"line2d_160\">\n      <g>\n       <use style=\"stroke:#000000;stroke-width:0.8;\" x=\"114.296004\" xlink:href=\"#m4cdbf06d37\" y=\"565.918125\"/>\n      </g>\n     </g>\n     <g id=\"text_89\">\n      <!-- 30 -->\n      <g transform=\"translate(107.933504 580.516562)scale(0.1 -0.1)\">\n       <use xlink:href=\"#DejaVuSans-51\"/>\n       <use x=\"63.623047\" xlink:href=\"#DejaVuSans-48\"/>\n      </g>\n     </g>\n    </g>\n    <g id=\"xtick_40\">\n     <g id=\"line2d_161\">\n      <path clip-path=\"url(#pc378367c7b)\" d=\"M 152.225772 565.918125 \nL 152.225772 454.979349 \n\" style=\"fill:none;stroke:#b0b0b0;stroke-linecap:square;stroke-width:0.8;\"/>\n     </g>\n     <g id=\"line2d_162\">\n      <g>\n       <use style=\"stroke:#000000;stroke-width:0.8;\" x=\"152.225772\" xlink:href=\"#m4cdbf06d37\" y=\"565.918125\"/>\n      </g>\n     </g>\n     <g id=\"text_90\">\n      <!-- 40 -->\n      <g transform=\"translate(145.863272 580.516562)scale(0.1 -0.1)\">\n       <use xlink:href=\"#DejaVuSans-52\"/>\n       <use x=\"63.623047\" xlink:href=\"#DejaVuSans-48\"/>\n      </g>\n     </g>\n    </g>\n   </g>\n   <g id=\"matplotlib.axis_20\">\n    <g id=\"ytick_42\">\n     <g id=\"line2d_163\">\n      <path clip-path=\"url(#pc378367c7b)\" d=\"M 33.2875 565.918125 \nL 188.2875 565.918125 \n\" style=\"fill:none;stroke:#b0b0b0;stroke-linecap:square;stroke-width:0.8;\"/>\n     </g>\n     <g id=\"line2d_164\">\n      <g>\n       <use style=\"stroke:#000000;stroke-width:0.8;\" x=\"33.2875\" xlink:href=\"#mdee30e5c97\" y=\"565.918125\"/>\n      </g>\n     </g>\n     <g id=\"text_91\">\n      <!-- 0 -->\n      <g transform=\"translate(19.925 569.717344)scale(0.1 -0.1)\">\n       <use xlink:href=\"#DejaVuSans-48\"/>\n      </g>\n     </g>\n    </g>\n    <g id=\"ytick_43\">\n     <g id=\"line2d_165\">\n      <path clip-path=\"url(#pc378367c7b)\" d=\"M 33.2875 540.999263 \nL 188.2875 540.999263 \n\" style=\"fill:none;stroke:#b0b0b0;stroke-linecap:square;stroke-width:0.8;\"/>\n     </g>\n     <g id=\"line2d_166\">\n      <g>\n       <use style=\"stroke:#000000;stroke-width:0.8;\" x=\"33.2875\" xlink:href=\"#mdee30e5c97\" y=\"540.999263\"/>\n      </g>\n     </g>\n     <g id=\"text_92\">\n      <!-- 25 -->\n      <g transform=\"translate(13.5625 544.798481)scale(0.1 -0.1)\">\n       <use xlink:href=\"#DejaVuSans-50\"/>\n       <use x=\"63.623047\" xlink:href=\"#DejaVuSans-53\"/>\n      </g>\n     </g>\n    </g>\n    <g id=\"ytick_44\">\n     <g id=\"line2d_167\">\n      <path clip-path=\"url(#pc378367c7b)\" d=\"M 33.2875 516.0804 \nL 188.2875 516.0804 \n\" style=\"fill:none;stroke:#b0b0b0;stroke-linecap:square;stroke-width:0.8;\"/>\n     </g>\n     <g id=\"line2d_168\">\n      <g>\n       <use style=\"stroke:#000000;stroke-width:0.8;\" x=\"33.2875\" xlink:href=\"#mdee30e5c97\" y=\"516.0804\"/>\n      </g>\n     </g>\n     <g id=\"text_93\">\n      <!-- 50 -->\n      <g transform=\"translate(13.5625 519.879619)scale(0.1 -0.1)\">\n       <use xlink:href=\"#DejaVuSans-53\"/>\n       <use x=\"63.623047\" xlink:href=\"#DejaVuSans-48\"/>\n      </g>\n     </g>\n    </g>\n    <g id=\"ytick_45\">\n     <g id=\"line2d_169\">\n      <path clip-path=\"url(#pc378367c7b)\" d=\"M 33.2875 491.161538 \nL 188.2875 491.161538 \n\" style=\"fill:none;stroke:#b0b0b0;stroke-linecap:square;stroke-width:0.8;\"/>\n     </g>\n     <g id=\"line2d_170\">\n      <g>\n       <use style=\"stroke:#000000;stroke-width:0.8;\" x=\"33.2875\" xlink:href=\"#mdee30e5c97\" y=\"491.161538\"/>\n      </g>\n     </g>\n     <g id=\"text_94\">\n      <!-- 75 -->\n      <g transform=\"translate(13.5625 494.960756)scale(0.1 -0.1)\">\n       <use xlink:href=\"#DejaVuSans-55\"/>\n       <use x=\"63.623047\" xlink:href=\"#DejaVuSans-53\"/>\n      </g>\n     </g>\n    </g>\n    <g id=\"ytick_46\">\n     <g id=\"line2d_171\">\n      <path clip-path=\"url(#pc378367c7b)\" d=\"M 33.2875 466.242675 \nL 188.2875 466.242675 \n\" style=\"fill:none;stroke:#b0b0b0;stroke-linecap:square;stroke-width:0.8;\"/>\n     </g>\n     <g id=\"line2d_172\">\n      <g>\n       <use style=\"stroke:#000000;stroke-width:0.8;\" x=\"33.2875\" xlink:href=\"#mdee30e5c97\" y=\"466.242675\"/>\n      </g>\n     </g>\n     <g id=\"text_95\">\n      <!-- 100 -->\n      <g transform=\"translate(7.2 470.041894)scale(0.1 -0.1)\">\n       <use xlink:href=\"#DejaVuSans-49\"/>\n       <use x=\"63.623047\" xlink:href=\"#DejaVuSans-48\"/>\n       <use x=\"127.246094\" xlink:href=\"#DejaVuSans-48\"/>\n      </g>\n     </g>\n    </g>\n   </g>\n   <g id=\"patch_148\">\n    <path d=\"M 33.2875 565.918125 \nL 33.2875 454.979349 \n\" style=\"fill:none;stroke:#000000;stroke-linecap:square;stroke-linejoin:miter;stroke-width:0.8;\"/>\n   </g>\n   <g id=\"patch_149\">\n    <path d=\"M 188.2875 565.918125 \nL 188.2875 454.979349 \n\" style=\"fill:none;stroke:#000000;stroke-linecap:square;stroke-linejoin:miter;stroke-width:0.8;\"/>\n   </g>\n   <g id=\"patch_150\">\n    <path d=\"M 33.2875 565.918125 \nL 188.2875 565.918125 \n\" style=\"fill:none;stroke:#000000;stroke-linecap:square;stroke-linejoin:miter;stroke-width:0.8;\"/>\n   </g>\n   <g id=\"patch_151\">\n    <path d=\"M 33.2875 454.979349 \nL 188.2875 454.979349 \n\" style=\"fill:none;stroke:#000000;stroke-linecap:square;stroke-linejoin:miter;stroke-width:0.8;\"/>\n   </g>\n   <g id=\"text_96\">\n    <!-- LPA -->\n    <g transform=\"translate(100.104688 448.979349)scale(0.12 -0.12)\">\n     <use xlink:href=\"#DejaVuSans-76\"/>\n     <use x=\"55.712891\" xlink:href=\"#DejaVuSans-80\"/>\n     <use x=\"109.640625\" xlink:href=\"#DejaVuSans-65\"/>\n    </g>\n   </g>\n  </g>\n  <g id=\"axes_11\">\n   <g id=\"patch_152\">\n    <path d=\"M 234.7875 565.918125 \nL 389.7875 565.918125 \nL 389.7875 454.979349 \nL 234.7875 454.979349 \nz\n\" style=\"fill:#ffffff;\"/>\n   </g>\n   <g id=\"patch_153\">\n    <path clip-path=\"url(#p22adc174b6)\" d=\"M 241.832955 565.918125 \nL 255.923864 565.918125 \nL 255.923864 460.262148 \nL 241.832955 460.262148 \nz\n\" style=\"fill:#1f77b4;\"/>\n   </g>\n   <g id=\"patch_154\">\n    <path clip-path=\"url(#p22adc174b6)\" d=\"M 255.923864 565.918125 \nL 270.014773 565.918125 \nL 270.014773 547.86635 \nL 255.923864 547.86635 \nz\n\" style=\"fill:#1f77b4;\"/>\n   </g>\n   <g id=\"patch_155\">\n    <path clip-path=\"url(#p22adc174b6)\" d=\"M 270.014773 565.918125 \nL 284.105682 565.918125 \nL 284.105682 559.54691 \nL 270.014773 559.54691 \nz\n\" style=\"fill:#1f77b4;\"/>\n   </g>\n   <g id=\"patch_156\">\n    <path clip-path=\"url(#p22adc174b6)\" d=\"M 284.105682 565.918125 \nL 298.196591 565.918125 \nL 298.196591 564.590789 \nL 284.105682 564.590789 \nz\n\" style=\"fill:#1f77b4;\"/>\n   </g>\n   <g id=\"patch_157\">\n    <path clip-path=\"url(#p22adc174b6)\" d=\"M 298.196591 565.918125 \nL 312.2875 565.918125 \nL 312.2875 565.652658 \nL 298.196591 565.652658 \nz\n\" style=\"fill:#1f77b4;\"/>\n   </g>\n   <g id=\"patch_158\">\n    <path clip-path=\"url(#p22adc174b6)\" d=\"M 312.2875 565.918125 \nL 326.378409 565.918125 \nL 326.378409 565.918125 \nL 312.2875 565.918125 \nz\n\" style=\"fill:#1f77b4;\"/>\n   </g>\n   <g id=\"patch_159\">\n    <path clip-path=\"url(#p22adc174b6)\" d=\"M 326.378409 565.918125 \nL 340.469318 565.918125 \nL 340.469318 565.918125 \nL 326.378409 565.918125 \nz\n\" style=\"fill:#1f77b4;\"/>\n   </g>\n   <g id=\"patch_160\">\n    <path clip-path=\"url(#p22adc174b6)\" d=\"M 340.469318 565.918125 \nL 354.560227 565.918125 \nL 354.560227 565.918125 \nL 340.469318 565.918125 \nz\n\" style=\"fill:#1f77b4;\"/>\n   </g>\n   <g id=\"patch_161\">\n    <path clip-path=\"url(#p22adc174b6)\" d=\"M 354.560227 565.918125 \nL 368.651136 565.918125 \nL 368.651136 565.918125 \nL 354.560227 565.918125 \nz\n\" style=\"fill:#1f77b4;\"/>\n   </g>\n   <g id=\"patch_162\">\n    <path clip-path=\"url(#p22adc174b6)\" d=\"M 368.651136 565.918125 \nL 382.742045 565.918125 \nL 382.742045 565.652658 \nL 368.651136 565.652658 \nz\n\" style=\"fill:#1f77b4;\"/>\n   </g>\n   <g id=\"matplotlib.axis_21\">\n    <g id=\"xtick_41\">\n     <g id=\"line2d_173\">\n      <path clip-path=\"url(#p22adc174b6)\" d=\"M 241.391149 565.918125 \nL 241.391149 454.979349 \n\" style=\"fill:none;stroke:#b0b0b0;stroke-linecap:square;stroke-width:0.8;\"/>\n     </g>\n     <g id=\"line2d_174\">\n      <g>\n       <use style=\"stroke:#000000;stroke-width:0.8;\" x=\"241.391149\" xlink:href=\"#m4cdbf06d37\" y=\"565.918125\"/>\n      </g>\n     </g>\n     <g id=\"text_97\">\n      <!-- 0 -->\n      <g transform=\"translate(238.209899 580.516562)scale(0.1 -0.1)\">\n       <use xlink:href=\"#DejaVuSans-48\"/>\n      </g>\n     </g>\n    </g>\n    <g id=\"xtick_42\">\n     <g id=\"line2d_175\">\n      <path clip-path=\"url(#p22adc174b6)\" d=\"M 274.861242 565.918125 \nL 274.861242 454.979349 \n\" style=\"fill:none;stroke:#b0b0b0;stroke-linecap:square;stroke-width:0.8;\"/>\n     </g>\n     <g id=\"line2d_176\">\n      <g>\n       <use style=\"stroke:#000000;stroke-width:0.8;\" x=\"274.861242\" xlink:href=\"#m4cdbf06d37\" y=\"565.918125\"/>\n      </g>\n     </g>\n     <g id=\"text_98\">\n      <!-- 5000 -->\n      <g transform=\"translate(262.136242 580.516562)scale(0.1 -0.1)\">\n       <use xlink:href=\"#DejaVuSans-53\"/>\n       <use x=\"63.623047\" xlink:href=\"#DejaVuSans-48\"/>\n       <use x=\"127.246094\" xlink:href=\"#DejaVuSans-48\"/>\n       <use x=\"190.869141\" xlink:href=\"#DejaVuSans-48\"/>\n      </g>\n     </g>\n    </g>\n    <g id=\"xtick_43\">\n     <g id=\"line2d_177\">\n      <path clip-path=\"url(#p22adc174b6)\" d=\"M 308.331335 565.918125 \nL 308.331335 454.979349 \n\" style=\"fill:none;stroke:#b0b0b0;stroke-linecap:square;stroke-width:0.8;\"/>\n     </g>\n     <g id=\"line2d_178\">\n      <g>\n       <use style=\"stroke:#000000;stroke-width:0.8;\" x=\"308.331335\" xlink:href=\"#m4cdbf06d37\" y=\"565.918125\"/>\n      </g>\n     </g>\n     <g id=\"text_99\">\n      <!-- 10000 -->\n      <g transform=\"translate(292.425085 580.516562)scale(0.1 -0.1)\">\n       <use xlink:href=\"#DejaVuSans-49\"/>\n       <use x=\"63.623047\" xlink:href=\"#DejaVuSans-48\"/>\n       <use x=\"127.246094\" xlink:href=\"#DejaVuSans-48\"/>\n       <use x=\"190.869141\" xlink:href=\"#DejaVuSans-48\"/>\n       <use x=\"254.492188\" xlink:href=\"#DejaVuSans-48\"/>\n      </g>\n     </g>\n    </g>\n    <g id=\"xtick_44\">\n     <g id=\"line2d_179\">\n      <path clip-path=\"url(#p22adc174b6)\" d=\"M 341.801428 565.918125 \nL 341.801428 454.979349 \n\" style=\"fill:none;stroke:#b0b0b0;stroke-linecap:square;stroke-width:0.8;\"/>\n     </g>\n     <g id=\"line2d_180\">\n      <g>\n       <use style=\"stroke:#000000;stroke-width:0.8;\" x=\"341.801428\" xlink:href=\"#m4cdbf06d37\" y=\"565.918125\"/>\n      </g>\n     </g>\n     <g id=\"text_100\">\n      <!-- 15000 -->\n      <g transform=\"translate(325.895178 580.516562)scale(0.1 -0.1)\">\n       <use xlink:href=\"#DejaVuSans-49\"/>\n       <use x=\"63.623047\" xlink:href=\"#DejaVuSans-53\"/>\n       <use x=\"127.246094\" xlink:href=\"#DejaVuSans-48\"/>\n       <use x=\"190.869141\" xlink:href=\"#DejaVuSans-48\"/>\n       <use x=\"254.492188\" xlink:href=\"#DejaVuSans-48\"/>\n      </g>\n     </g>\n    </g>\n    <g id=\"xtick_45\">\n     <g id=\"line2d_181\">\n      <path clip-path=\"url(#p22adc174b6)\" d=\"M 375.271521 565.918125 \nL 375.271521 454.979349 \n\" style=\"fill:none;stroke:#b0b0b0;stroke-linecap:square;stroke-width:0.8;\"/>\n     </g>\n     <g id=\"line2d_182\">\n      <g>\n       <use style=\"stroke:#000000;stroke-width:0.8;\" x=\"375.271521\" xlink:href=\"#m4cdbf06d37\" y=\"565.918125\"/>\n      </g>\n     </g>\n     <g id=\"text_101\">\n      <!-- 20000 -->\n      <g transform=\"translate(359.365271 580.516562)scale(0.1 -0.1)\">\n       <use xlink:href=\"#DejaVuSans-50\"/>\n       <use x=\"63.623047\" xlink:href=\"#DejaVuSans-48\"/>\n       <use x=\"127.246094\" xlink:href=\"#DejaVuSans-48\"/>\n       <use x=\"190.869141\" xlink:href=\"#DejaVuSans-48\"/>\n       <use x=\"254.492188\" xlink:href=\"#DejaVuSans-48\"/>\n      </g>\n     </g>\n    </g>\n   </g>\n   <g id=\"matplotlib.axis_22\">\n    <g id=\"ytick_47\">\n     <g id=\"line2d_183\">\n      <path clip-path=\"url(#p22adc174b6)\" d=\"M 234.7875 565.918125 \nL 389.7875 565.918125 \n\" style=\"fill:none;stroke:#b0b0b0;stroke-linecap:square;stroke-width:0.8;\"/>\n     </g>\n     <g id=\"line2d_184\">\n      <g>\n       <use style=\"stroke:#000000;stroke-width:0.8;\" x=\"234.7875\" xlink:href=\"#mdee30e5c97\" y=\"565.918125\"/>\n      </g>\n     </g>\n     <g id=\"text_102\">\n      <!-- 0 -->\n      <g transform=\"translate(221.425 569.717344)scale(0.1 -0.1)\">\n       <use xlink:href=\"#DejaVuSans-48\"/>\n      </g>\n     </g>\n    </g>\n    <g id=\"ytick_48\">\n     <g id=\"line2d_185\">\n      <path clip-path=\"url(#p22adc174b6)\" d=\"M 234.7875 539.371397 \nL 389.7875 539.371397 \n\" style=\"fill:none;stroke:#b0b0b0;stroke-linecap:square;stroke-width:0.8;\"/>\n     </g>\n     <g id=\"line2d_186\">\n      <g>\n       <use style=\"stroke:#000000;stroke-width:0.8;\" x=\"234.7875\" xlink:href=\"#mdee30e5c97\" y=\"539.371397\"/>\n      </g>\n     </g>\n     <g id=\"text_103\">\n      <!-- 100 -->\n      <g transform=\"translate(208.7 543.170616)scale(0.1 -0.1)\">\n       <use xlink:href=\"#DejaVuSans-49\"/>\n       <use x=\"63.623047\" xlink:href=\"#DejaVuSans-48\"/>\n       <use x=\"127.246094\" xlink:href=\"#DejaVuSans-48\"/>\n      </g>\n     </g>\n    </g>\n    <g id=\"ytick_49\">\n     <g id=\"line2d_187\">\n      <path clip-path=\"url(#p22adc174b6)\" d=\"M 234.7875 512.824669 \nL 389.7875 512.824669 \n\" style=\"fill:none;stroke:#b0b0b0;stroke-linecap:square;stroke-width:0.8;\"/>\n     </g>\n     <g id=\"line2d_188\">\n      <g>\n       <use style=\"stroke:#000000;stroke-width:0.8;\" x=\"234.7875\" xlink:href=\"#mdee30e5c97\" y=\"512.824669\"/>\n      </g>\n     </g>\n     <g id=\"text_104\">\n      <!-- 200 -->\n      <g transform=\"translate(208.7 516.623888)scale(0.1 -0.1)\">\n       <use xlink:href=\"#DejaVuSans-50\"/>\n       <use x=\"63.623047\" xlink:href=\"#DejaVuSans-48\"/>\n       <use x=\"127.246094\" xlink:href=\"#DejaVuSans-48\"/>\n      </g>\n     </g>\n    </g>\n    <g id=\"ytick_50\">\n     <g id=\"line2d_189\">\n      <path clip-path=\"url(#p22adc174b6)\" d=\"M 234.7875 486.277942 \nL 389.7875 486.277942 \n\" style=\"fill:none;stroke:#b0b0b0;stroke-linecap:square;stroke-width:0.8;\"/>\n     </g>\n     <g id=\"line2d_190\">\n      <g>\n       <use style=\"stroke:#000000;stroke-width:0.8;\" x=\"234.7875\" xlink:href=\"#mdee30e5c97\" y=\"486.277942\"/>\n      </g>\n     </g>\n     <g id=\"text_105\">\n      <!-- 300 -->\n      <g transform=\"translate(208.7 490.07716)scale(0.1 -0.1)\">\n       <use xlink:href=\"#DejaVuSans-51\"/>\n       <use x=\"63.623047\" xlink:href=\"#DejaVuSans-48\"/>\n       <use x=\"127.246094\" xlink:href=\"#DejaVuSans-48\"/>\n      </g>\n     </g>\n    </g>\n    <g id=\"ytick_51\">\n     <g id=\"line2d_191\">\n      <path clip-path=\"url(#p22adc174b6)\" d=\"M 234.7875 459.731214 \nL 389.7875 459.731214 \n\" style=\"fill:none;stroke:#b0b0b0;stroke-linecap:square;stroke-width:0.8;\"/>\n     </g>\n     <g id=\"line2d_192\">\n      <g>\n       <use style=\"stroke:#000000;stroke-width:0.8;\" x=\"234.7875\" xlink:href=\"#mdee30e5c97\" y=\"459.731214\"/>\n      </g>\n     </g>\n     <g id=\"text_106\">\n      <!-- 400 -->\n      <g transform=\"translate(208.7 463.530433)scale(0.1 -0.1)\">\n       <use xlink:href=\"#DejaVuSans-52\"/>\n       <use x=\"63.623047\" xlink:href=\"#DejaVuSans-48\"/>\n       <use x=\"127.246094\" xlink:href=\"#DejaVuSans-48\"/>\n      </g>\n     </g>\n    </g>\n   </g>\n   <g id=\"patch_163\">\n    <path d=\"M 234.7875 565.918125 \nL 234.7875 454.979349 \n\" style=\"fill:none;stroke:#000000;stroke-linecap:square;stroke-linejoin:miter;stroke-width:0.8;\"/>\n   </g>\n   <g id=\"patch_164\">\n    <path d=\"M 389.7875 565.918125 \nL 389.7875 454.979349 \n\" style=\"fill:none;stroke:#000000;stroke-linecap:square;stroke-linejoin:miter;stroke-width:0.8;\"/>\n   </g>\n   <g id=\"patch_165\">\n    <path d=\"M 234.7875 565.918125 \nL 389.7875 565.918125 \n\" style=\"fill:none;stroke:#000000;stroke-linecap:square;stroke-linejoin:miter;stroke-width:0.8;\"/>\n   </g>\n   <g id=\"patch_166\">\n    <path d=\"M 234.7875 454.979349 \nL 389.7875 454.979349 \n\" style=\"fill:none;stroke:#000000;stroke-linecap:square;stroke-linejoin:miter;stroke-width:0.8;\"/>\n   </g>\n   <g id=\"text_107\">\n    <!-- density -->\n    <defs>\n     <path d=\"M 45.40625 46.390625 \nL 45.40625 75.984375 \nL 54.390625 75.984375 \nL 54.390625 0 \nL 45.40625 0 \nL 45.40625 8.203125 \nQ 42.578125 3.328125 38.25 0.953125 \nQ 33.9375 -1.421875 27.875 -1.421875 \nQ 17.96875 -1.421875 11.734375 6.484375 \nQ 5.515625 14.40625 5.515625 27.296875 \nQ 5.515625 40.1875 11.734375 48.09375 \nQ 17.96875 56 27.875 56 \nQ 33.9375 56 38.25 53.625 \nQ 42.578125 51.265625 45.40625 46.390625 \nz\nM 14.796875 27.296875 \nQ 14.796875 17.390625 18.875 11.75 \nQ 22.953125 6.109375 30.078125 6.109375 \nQ 37.203125 6.109375 41.296875 11.75 \nQ 45.40625 17.390625 45.40625 27.296875 \nQ 45.40625 37.203125 41.296875 42.84375 \nQ 37.203125 48.484375 30.078125 48.484375 \nQ 22.953125 48.484375 18.875 42.84375 \nQ 14.796875 37.203125 14.796875 27.296875 \nz\n\" id=\"DejaVuSans-100\"/>\n     <path d=\"M 56.203125 29.59375 \nL 56.203125 25.203125 \nL 14.890625 25.203125 \nQ 15.484375 15.921875 20.484375 11.0625 \nQ 25.484375 6.203125 34.421875 6.203125 \nQ 39.59375 6.203125 44.453125 7.46875 \nQ 49.3125 8.734375 54.109375 11.28125 \nL 54.109375 2.78125 \nQ 49.265625 0.734375 44.1875 -0.34375 \nQ 39.109375 -1.421875 33.890625 -1.421875 \nQ 20.796875 -1.421875 13.15625 6.1875 \nQ 5.515625 13.8125 5.515625 26.8125 \nQ 5.515625 40.234375 12.765625 48.109375 \nQ 20.015625 56 32.328125 56 \nQ 43.359375 56 49.78125 48.890625 \nQ 56.203125 41.796875 56.203125 29.59375 \nz\nM 47.21875 32.234375 \nQ 47.125 39.59375 43.09375 43.984375 \nQ 39.0625 48.390625 32.421875 48.390625 \nQ 24.90625 48.390625 20.390625 44.140625 \nQ 15.875 39.890625 15.1875 32.171875 \nz\n\" id=\"DejaVuSans-101\"/>\n     <path d=\"M 54.890625 33.015625 \nL 54.890625 0 \nL 45.90625 0 \nL 45.90625 32.71875 \nQ 45.90625 40.484375 42.875 44.328125 \nQ 39.84375 48.1875 33.796875 48.1875 \nQ 26.515625 48.1875 22.3125 43.546875 \nQ 18.109375 38.921875 18.109375 30.90625 \nL 18.109375 0 \nL 9.078125 0 \nL 9.078125 54.6875 \nL 18.109375 54.6875 \nL 18.109375 46.1875 \nQ 21.34375 51.125 25.703125 53.5625 \nQ 30.078125 56 35.796875 56 \nQ 45.21875 56 50.046875 50.171875 \nQ 54.890625 44.34375 54.890625 33.015625 \nz\n\" id=\"DejaVuSans-110\"/>\n     <path d=\"M 44.28125 53.078125 \nL 44.28125 44.578125 \nQ 40.484375 46.53125 36.375 47.5 \nQ 32.28125 48.484375 27.875 48.484375 \nQ 21.1875 48.484375 17.84375 46.4375 \nQ 14.5 44.390625 14.5 40.28125 \nQ 14.5 37.15625 16.890625 35.375 \nQ 19.28125 33.59375 26.515625 31.984375 \nL 29.59375 31.296875 \nQ 39.15625 29.25 43.1875 25.515625 \nQ 47.21875 21.78125 47.21875 15.09375 \nQ 47.21875 7.46875 41.1875 3.015625 \nQ 35.15625 -1.421875 24.609375 -1.421875 \nQ 20.21875 -1.421875 15.453125 -0.5625 \nQ 10.6875 0.296875 5.421875 2 \nL 5.421875 11.28125 \nQ 10.40625 8.6875 15.234375 7.390625 \nQ 20.0625 6.109375 24.8125 6.109375 \nQ 31.15625 6.109375 34.5625 8.28125 \nQ 37.984375 10.453125 37.984375 14.40625 \nQ 37.984375 18.0625 35.515625 20.015625 \nQ 33.0625 21.96875 24.703125 23.78125 \nL 21.578125 24.515625 \nQ 13.234375 26.265625 9.515625 29.90625 \nQ 5.8125 33.546875 5.8125 39.890625 \nQ 5.8125 47.609375 11.28125 51.796875 \nQ 16.75 56 26.8125 56 \nQ 31.78125 56 36.171875 55.265625 \nQ 40.578125 54.546875 44.28125 53.078125 \nz\n\" id=\"DejaVuSans-115\"/>\n     <path d=\"M 9.421875 54.6875 \nL 18.40625 54.6875 \nL 18.40625 0 \nL 9.421875 0 \nz\nM 9.421875 75.984375 \nL 18.40625 75.984375 \nL 18.40625 64.59375 \nL 9.421875 64.59375 \nz\n\" id=\"DejaVuSans-105\"/>\n     <path d=\"M 18.3125 70.21875 \nL 18.3125 54.6875 \nL 36.8125 54.6875 \nL 36.8125 47.703125 \nL 18.3125 47.703125 \nL 18.3125 18.015625 \nQ 18.3125 11.328125 20.140625 9.421875 \nQ 21.96875 7.515625 27.59375 7.515625 \nL 36.8125 7.515625 \nL 36.8125 0 \nL 27.59375 0 \nQ 17.1875 0 13.234375 3.875 \nQ 9.28125 7.765625 9.28125 18.015625 \nL 9.28125 47.703125 \nL 2.6875 47.703125 \nL 2.6875 54.6875 \nL 9.28125 54.6875 \nL 9.28125 70.21875 \nz\n\" id=\"DejaVuSans-116\"/>\n     <path d=\"M 32.171875 -5.078125 \nQ 28.375 -14.84375 24.75 -17.8125 \nQ 21.140625 -20.796875 15.09375 -20.796875 \nL 7.90625 -20.796875 \nL 7.90625 -13.28125 \nL 13.1875 -13.28125 \nQ 16.890625 -13.28125 18.9375 -11.515625 \nQ 21 -9.765625 23.484375 -3.21875 \nL 25.09375 0.875 \nL 2.984375 54.6875 \nL 12.5 54.6875 \nL 29.59375 11.921875 \nL 46.6875 54.6875 \nL 56.203125 54.6875 \nz\n\" id=\"DejaVuSans-121\"/>\n    </defs>\n    <g transform=\"translate(290.288125 448.979349)scale(0.12 -0.12)\">\n     <use xlink:href=\"#DejaVuSans-100\"/>\n     <use x=\"63.476562\" xlink:href=\"#DejaVuSans-101\"/>\n     <use x=\"125\" xlink:href=\"#DejaVuSans-110\"/>\n     <use x=\"188.378906\" xlink:href=\"#DejaVuSans-115\"/>\n     <use x=\"240.478516\" xlink:href=\"#DejaVuSans-105\"/>\n     <use x=\"268.261719\" xlink:href=\"#DejaVuSans-116\"/>\n     <use x=\"307.470703\" xlink:href=\"#DejaVuSans-121\"/>\n    </g>\n   </g>\n  </g>\n </g>\n <defs>\n  <clipPath id=\"pc9a213dfb9\">\n   <rect height=\"110.938776\" width=\"155\" x=\"33.2875\" y=\"22.318125\"/>\n  </clipPath>\n  <clipPath id=\"ped8d232d7f\">\n   <rect height=\"110.938776\" width=\"155\" x=\"234.7875\" y=\"22.318125\"/>\n  </clipPath>\n  <clipPath id=\"p5c10ebe247\">\n   <rect height=\"110.938776\" width=\"155\" x=\"436.2875\" y=\"22.318125\"/>\n  </clipPath>\n  <clipPath id=\"pe4003ae06b\">\n   <rect height=\"110.938776\" width=\"155\" x=\"33.2875\" y=\"166.538533\"/>\n  </clipPath>\n  <clipPath id=\"p6ab656502e\">\n   <rect height=\"110.938776\" width=\"155\" x=\"234.7875\" y=\"166.538533\"/>\n  </clipPath>\n  <clipPath id=\"pf98e500284\">\n   <rect height=\"110.938776\" width=\"155\" x=\"436.2875\" y=\"166.538533\"/>\n  </clipPath>\n  <clipPath id=\"p0b45dfddcd\">\n   <rect height=\"110.938776\" width=\"155\" x=\"33.2875\" y=\"310.758941\"/>\n  </clipPath>\n  <clipPath id=\"p3fe0ec7408\">\n   <rect height=\"110.938776\" width=\"155\" x=\"234.7875\" y=\"310.758941\"/>\n  </clipPath>\n  <clipPath id=\"p0cbbf12e28\">\n   <rect height=\"110.938776\" width=\"155\" x=\"436.2875\" y=\"310.758941\"/>\n  </clipPath>\n  <clipPath id=\"pc378367c7b\">\n   <rect height=\"110.938776\" width=\"155\" x=\"33.2875\" y=\"454.979349\"/>\n  </clipPath>\n  <clipPath id=\"p22adc174b6\">\n   <rect height=\"110.938776\" width=\"155\" x=\"234.7875\" y=\"454.979349\"/>\n  </clipPath>\n </defs>\n</svg>\n",
      "image/png": "[encoded data removed]"
     },
     "metadata": {
      "needs_background": "light"
     }
    }
   ],
   "source": [
    "## plot significant variables\n",
    "df[significant_vars].hist(figsize = (10,10));"
   ]
  },
  {
   "cell_type": "code",
   "execution_count": 17,
   "metadata": {},
   "outputs": [
    {
     "output_type": "display_data",
     "data": {
      "application/vnd.plotly.v1+json": {
       "config": {
        "plotlyServerURL": "https://plot.ly"
       },
       "data": [
        {
         "customdata": [
          [
           "TX",
           "Abilene"
          ],
          [
           "OH",
           "Akron"
          ],
          [
           "CA",
           "Alameda"
          ],
          [
           "CA",
           "Berkeley"
          ],
          [
           "CA",
           "Fremont"
          ],
          [
           "CA",
           "Hayward"
          ],
          [
           "CA",
           "Livermore"
          ],
          [
           "CA",
           "Oakland"
          ],
          [
           "CA",
           "Pleasanton"
          ],
          [
           "CA",
           "San Leandro"
          ],
          [
           "CA",
           "Union City"
          ],
          [
           "GA",
           "Albany"
          ],
          [
           "NY",
           "Albany"
          ],
          [
           "NM",
           "Albuquerque"
          ],
          [
           "VA",
           "Alexandria"
          ],
          [
           "CA",
           "Alhambra"
          ],
          [
           "CA",
           "Baldwin Park"
          ],
          [
           "CA",
           "Bellflower"
          ],
          [
           "CA",
           "Burbank"
          ],
          [
           "CA",
           "Carson"
          ],
          [
           "CA",
           "Compton"
          ],
          [
           "CA",
           "Downey"
          ],
          [
           "CA",
           "El Monte"
          ],
          [
           "CA",
           "Glendale"
          ],
          [
           "CA",
           "Hawthorne"
          ],
          [
           "CA",
           "Inglewood"
          ],
          [
           "CA",
           "Lakewood"
          ],
          [
           "CA",
           "Lancaster"
          ],
          [
           "CA",
           "Long Beach"
          ],
          [
           "CA",
           "Los Angeles"
          ],
          [
           "CA",
           "Lynwood"
          ],
          [
           "CA",
           "Norwalk"
          ],
          [
           "CA",
           "Palmdale"
          ],
          [
           "CA",
           "Pasadena"
          ],
          [
           "CA",
           "Pomona"
          ],
          [
           "CA",
           "Redondo Beach"
          ],
          [
           "CA",
           "Santa Clarita"
          ],
          [
           "CA",
           "Santa Monica"
          ],
          [
           "CA",
           "South Gate"
          ],
          [
           "CA",
           "Torrance"
          ],
          [
           "CA",
           "West Covina"
          ],
          [
           "CA",
           "Whittier"
          ],
          [
           "TX",
           "Allen"
          ],
          [
           "TX",
           "Frisco"
          ],
          [
           "TX",
           "McKinney"
          ],
          [
           "TX",
           "Plano"
          ],
          [
           "PA",
           "Allentown"
          ],
          [
           "TX",
           "Amarillo"
          ],
          [
           "CA",
           "Anaheim"
          ],
          [
           "CA",
           "Buena Park"
          ],
          [
           "CA",
           "Costa Mesa"
          ],
          [
           "CA",
           "Fullerton"
          ],
          [
           "CA",
           "Garden Grove"
          ],
          [
           "CA",
           "Huntington Beach"
          ],
          [
           "CA",
           "Irvine"
          ],
          [
           "CA",
           "Lake Forest"
          ],
          [
           "CA",
           "Mission Viejo"
          ],
          [
           "CA",
           "Newport Beach"
          ],
          [
           "CA",
           "Orange"
          ],
          [
           "CA",
           "Santa Ana"
          ],
          [
           "CA",
           "Tustin"
          ],
          [
           "CA",
           "Westminster"
          ],
          [
           "AK",
           "Anchorage"
          ],
          [
           "MI",
           "Ann Arbor"
          ],
          [
           "CA",
           "Antioch"
          ],
          [
           "CA",
           "Concord"
          ],
          [
           "CA",
           "Richmond"
          ],
          [
           "CA",
           "San Ramon"
          ],
          [
           "CA",
           "Apple Valley"
          ],
          [
           "CA",
           "Chino"
          ],
          [
           "CA",
           "Chino Hills"
          ],
          [
           "CA",
           "Fontana"
          ],
          [
           "CA",
           "Hesperia"
          ],
          [
           "CA",
           "Ontario"
          ],
          [
           "CA",
           "Rancho Cucamonga"
          ],
          [
           "CA",
           "Redlands"
          ],
          [
           "CA",
           "Rialto"
          ],
          [
           "CA",
           "San Bernardino"
          ],
          [
           "CA",
           "Upland"
          ],
          [
           "CA",
           "Victorville"
          ],
          [
           "WI",
           "Appleton"
          ],
          [
           "TX",
           "Arlington"
          ],
          [
           "TX",
           "Fort Worth"
          ],
          [
           "IL",
           "Arlington Heights"
          ],
          [
           "IL",
           "Chicago"
          ],
          [
           "IL",
           "Cicero"
          ],
          [
           "IL",
           "Evanston"
          ],
          [
           "IL",
           "Palatine"
          ],
          [
           "IL",
           "Schaumburg"
          ],
          [
           "CO",
           "Arvada"
          ],
          [
           "CO",
           "Lakewood"
          ],
          [
           "NC",
           "Asheville"
          ],
          [
           "GA",
           "Athens"
          ],
          [
           "GA",
           "Atlanta"
          ],
          [
           "GA",
           "Johns Creek"
          ],
          [
           "GA",
           "Roswell"
          ],
          [
           "GA",
           "Sandy Springs"
          ],
          [
           "WA",
           "Auburn"
          ],
          [
           "WA",
           "Bellevue"
          ],
          [
           "WA",
           "Federal Way"
          ],
          [
           "WA",
           "Kent"
          ],
          [
           "WA",
           "Renton"
          ],
          [
           "WA",
           "Seattle"
          ],
          [
           "GA",
           "Augusta"
          ],
          [
           "CO",
           "Aurora"
          ],
          [
           "CO",
           "Thornton"
          ],
          [
           "CO",
           "Westminster"
          ],
          [
           "IL",
           "Aurora"
          ],
          [
           "IL",
           "Elgin"
          ],
          [
           "TX",
           "Austin"
          ],
          [
           "AZ",
           "Avondale"
          ],
          [
           "AZ",
           "Chandler"
          ],
          [
           "AZ",
           "Gilbert"
          ],
          [
           "AZ",
           "Glendale"
          ],
          [
           "AZ",
           "Mesa"
          ],
          [
           "AZ",
           "Peoria"
          ],
          [
           "AZ",
           "Phoenix"
          ],
          [
           "AZ",
           "Scottsdale"
          ],
          [
           "AZ",
           "Surprise"
          ],
          [
           "AZ",
           "Tempe"
          ],
          [
           "CA",
           "Bakersfield"
          ],
          [
           "MD",
           "Baltimore"
          ],
          [
           "LA",
           "Baton Rouge"
          ],
          [
           "TX",
           "Baytown"
          ],
          [
           "TX",
           "Houston"
          ],
          [
           "TX",
           "Pasadena"
          ],
          [
           "TX",
           "Beaumont"
          ],
          [
           "OR",
           "Beaverton"
          ],
          [
           "OR",
           "Hillsboro"
          ],
          [
           "WA",
           "Bellingham"
          ],
          [
           "OR",
           "Bend"
          ],
          [
           "PA",
           "Bethlehem"
          ],
          [
           "MT",
           "Billings"
          ],
          [
           "AL",
           "Birmingham"
          ],
          [
           "AL",
           "Hoover"
          ],
          [
           "IL",
           "Bloomington"
          ],
          [
           "IN",
           "Bloomington"
          ],
          [
           "MN",
           "Bloomington"
          ],
          [
           "MN",
           "Brooklyn Park"
          ],
          [
           "MN",
           "Minneapolis"
          ],
          [
           "MN",
           "Plymouth"
          ],
          [
           "FL",
           "Boca Raton"
          ],
          [
           "FL",
           "Boynton Beach"
          ],
          [
           "FL",
           "West Palm Beach"
          ],
          [
           "IL",
           "Bolingbrook"
          ],
          [
           "IL",
           "Joliet"
          ],
          [
           "MA",
           "Boston"
          ],
          [
           "CO",
           "Boulder"
          ],
          [
           "CO",
           "Longmont"
          ],
          [
           "CT",
           "Bridgeport"
          ],
          [
           "CT",
           "Danbury"
          ],
          [
           "CT",
           "Norwalk"
          ],
          [
           "CT",
           "Stamford"
          ],
          [
           "MA",
           "Brockton"
          ],
          [
           "OK",
           "Broken Arrow"
          ],
          [
           "OK",
           "Tulsa"
          ],
          [
           "TX",
           "Brownsville"
          ],
          [
           "TX",
           "Bryan"
          ],
          [
           "TX",
           "College Station"
          ],
          [
           "NY",
           "Buffalo"
          ],
          [
           "VT",
           "Burlington"
          ],
          [
           "MA",
           "Cambridge"
          ],
          [
           "MA",
           "Lowell"
          ],
          [
           "MA",
           "Newton"
          ],
          [
           "MA",
           "Somerville"
          ],
          [
           "NJ",
           "Camden"
          ],
          [
           "OH",
           "Canton"
          ],
          [
           "FL",
           "Cape Coral"
          ],
          [
           "CA",
           "Carlsbad"
          ],
          [
           "CA",
           "Chula Vista"
          ],
          [
           "CA",
           "El Cajon"
          ],
          [
           "CA",
           "Escondido"
          ],
          [
           "CA",
           "Oceanside"
          ],
          [
           "CA",
           "San Diego"
          ],
          [
           "CA",
           "San Marcos"
          ],
          [
           "CA",
           "Vista"
          ],
          [
           "IN",
           "Carmel"
          ],
          [
           "IN",
           "Fishers"
          ],
          [
           "TX",
           "Carrollton"
          ],
          [
           "TX",
           "Dallas"
          ],
          [
           "TX",
           "Garland"
          ],
          [
           "TX",
           "Grand Prairie"
          ],
          [
           "TX",
           "Irving"
          ],
          [
           "TX",
           "Mesquite"
          ],
          [
           "TX",
           "Richardson"
          ],
          [
           "NC",
           "Cary"
          ],
          [
           "NC",
           "Raleigh"
          ],
          [
           "IA",
           "Cedar Rapids"
          ],
          [
           "CO",
           "Centennial"
          ],
          [
           "IL",
           "Champaign"
          ],
          [
           "SC",
           "Charleston"
          ],
          [
           "SC",
           "Mount Pleasant"
          ],
          [
           "SC",
           "North Charleston"
          ],
          [
           "WV",
           "Charleston"
          ],
          [
           "NC",
           "Charlotte"
          ],
          [
           "TN",
           "Chattanooga"
          ],
          [
           "VA",
           "Chesapeake"
          ],
          [
           "WY",
           "Cheyenne"
          ],
          [
           "CA",
           "Chico"
          ],
          [
           "OH",
           "Cincinnati"
          ],
          [
           "CA",
           "Citrus Heights"
          ],
          [
           "CA",
           "Elk Grove"
          ],
          [
           "CA",
           "Folsom"
          ],
          [
           "CA",
           "Sacramento"
          ],
          [
           "TN",
           "Clarksville"
          ],
          [
           "FL",
           "Clearwater"
          ],
          [
           "FL",
           "Largo"
          ],
          [
           "FL",
           "St. Petersburg"
          ],
          [
           "OH",
           "Cleveland"
          ],
          [
           "OH",
           "Parma"
          ],
          [
           "NJ",
           "Clifton"
          ],
          [
           "NJ",
           "Passaic"
          ],
          [
           "NJ",
           "Paterson"
          ],
          [
           "CA",
           "Clovis"
          ],
          [
           "CA",
           "Fresno"
          ],
          [
           "CO",
           "Colorado Springs"
          ],
          [
           "MO",
           "Columbia"
          ],
          [
           "SC",
           "Columbia"
          ],
          [
           "GA",
           "Columbus"
          ],
          [
           "OH",
           "Columbus"
          ],
          [
           "NC",
           "Concord"
          ],
          [
           "FL",
           "Coral Springs"
          ],
          [
           "FL",
           "Davie"
          ],
          [
           "FL",
           "Deerfield Beach"
          ],
          [
           "FL",
           "Fort Lauderdale"
          ],
          [
           "FL",
           "Hollywood"
          ],
          [
           "FL",
           "Lauderhill"
          ],
          [
           "FL",
           "Miramar"
          ],
          [
           "FL",
           "Pembroke Pines"
          ],
          [
           "FL",
           "Plantation"
          ],
          [
           "FL",
           "Pompano Beach"
          ],
          [
           "FL",
           "Sunrise"
          ],
          [
           "CA",
           "Corona"
          ],
          [
           "CA",
           "Hemet"
          ],
          [
           "CA",
           "Indio"
          ],
          [
           "CA",
           "Menifee"
          ],
          [
           "CA",
           "Moreno Valley"
          ],
          [
           "CA",
           "Murrieta"
          ],
          [
           "CA",
           "Perris"
          ],
          [
           "CA",
           "Riverside"
          ],
          [
           "CA",
           "Temecula"
          ],
          [
           "TX",
           "Corpus Christi"
          ],
          [
           "RI",
           "Cranston"
          ],
          [
           "RI",
           "Pawtucket"
          ],
          [
           "RI",
           "Providence"
          ],
          [
           "CA",
           "Daly City"
          ],
          [
           "CA",
           "Redwood City"
          ],
          [
           "CA",
           "San Mateo"
          ],
          [
           "IA",
           "Davenport"
          ],
          [
           "OH",
           "Dayton"
          ],
          [
           "MI",
           "Dearborn"
          ],
          [
           "MI",
           "Detroit"
          ],
          [
           "MI",
           "Livonia"
          ],
          [
           "MI",
           "Westland"
          ],
          [
           "IL",
           "Decatur"
          ],
          [
           "FL",
           "Deltona"
          ],
          [
           "TX",
           "Denton"
          ],
          [
           "TX",
           "Lewisville"
          ],
          [
           "CO",
           "Denver"
          ],
          [
           "IA",
           "Des Moines"
          ],
          [
           "MN",
           "Duluth"
          ],
          [
           "NC",
           "Durham"
          ],
          [
           "TX",
           "Edinburg"
          ],
          [
           "TX",
           "McAllen"
          ],
          [
           "TX",
           "Mission"
          ],
          [
           "TX",
           "Pharr"
          ],
          [
           "OK",
           "Edmond"
          ],
          [
           "OK",
           "Oklahoma City"
          ],
          [
           "TX",
           "El Paso"
          ],
          [
           "NJ",
           "Elizabeth"
          ],
          [
           "PA",
           "Erie"
          ],
          [
           "OR",
           "Eugene"
          ],
          [
           "IN",
           "Evansville"
          ],
          [
           "WA",
           "Everett"
          ],
          [
           "CA",
           "Fairfield"
          ],
          [
           "CA",
           "Vacaville"
          ],
          [
           "CA",
           "Vallejo"
          ],
          [
           "MA",
           "Fall River"
          ],
          [
           "MA",
           "New Bedford"
          ],
          [
           "ND",
           "Fargo"
          ],
          [
           "MI",
           "Farmington Hills"
          ],
          [
           "MI",
           "Rochester Hills"
          ],
          [
           "MI",
           "Southfield"
          ],
          [
           "MI",
           "Troy"
          ],
          [
           "AR",
           "Fayetteville"
          ],
          [
           "AR",
           "Springdale"
          ],
          [
           "NC",
           "Fayetteville"
          ],
          [
           "MI",
           "Flint"
          ],
          [
           "CO",
           "Fort Collins"
          ],
          [
           "CO",
           "Loveland"
          ],
          [
           "AR",
           "Fort Smith"
          ],
          [
           "IN",
           "Fort Wayne"
          ],
          [
           "FL",
           "Gainesville"
          ],
          [
           "IN",
           "Gary"
          ],
          [
           "IN",
           "Hammond"
          ],
          [
           "NC",
           "Gastonia"
          ],
          [
           "MI",
           "Grand Rapids"
          ],
          [
           "MI",
           "Wyoming"
          ],
          [
           "CO",
           "Greeley"
          ],
          [
           "WI",
           "Green Bay"
          ],
          [
           "NC",
           "Greensboro"
          ],
          [
           "NC",
           "High Point"
          ],
          [
           "NC",
           "Greenville"
          ],
          [
           "OR",
           "Gresham"
          ],
          [
           "OR",
           "Portland"
          ],
          [
           "MS",
           "Gulfport"
          ],
          [
           "VA",
           "Hampton"
          ],
          [
           "CT",
           "Hartford"
          ],
          [
           "CT",
           "New Britain"
          ],
          [
           "NV",
           "Henderson"
          ],
          [
           "NV",
           "Las Vegas"
          ],
          [
           "NV",
           "North Las Vegas"
          ],
          [
           "FL",
           "Hialeah"
          ],
          [
           "FL",
           "Miami"
          ],
          [
           "FL",
           "Miami Beach"
          ],
          [
           "FL",
           "Miami Gardens"
          ],
          [
           "HI",
           "Honolulu"
          ],
          [
           "AL",
           "Huntsville"
          ],
          [
           "MO",
           "Independence"
          ],
          [
           "MO",
           "Kansas City"
          ],
          [
           "MO",
           "Lee's Summit"
          ],
          [
           "IN",
           "Indianapolis"
          ],
          [
           "IA",
           "Iowa City"
          ],
          [
           "MS",
           "Jackson"
          ],
          [
           "FL",
           "Jacksonville"
          ],
          [
           "NC",
           "Jacksonville"
          ],
          [
           "NJ",
           "Jersey City"
          ],
          [
           "NJ",
           "Union City"
          ],
          [
           "AR",
           "Jonesboro"
          ],
          [
           "MI",
           "Kalamazoo"
          ],
          [
           "KS",
           "Kansas City"
          ],
          [
           "LA",
           "Kenner"
          ],
          [
           "WA",
           "Kennewick"
          ],
          [
           "WI",
           "Kenosha"
          ],
          [
           "TX",
           "Killeen"
          ],
          [
           "TN",
           "Knoxville"
          ],
          [
           "IN",
           "Lafayette"
          ],
          [
           "LA",
           "Lafayette"
          ],
          [
           "LA",
           "Lake Charles"
          ],
          [
           "FL",
           "Lakeland"
          ],
          [
           "MI",
           "Lansing"
          ],
          [
           "TX",
           "Laredo"
          ],
          [
           "NM",
           "Las Cruces"
          ],
          [
           "KS",
           "Lawrence"
          ],
          [
           "MA",
           "Lawrence"
          ],
          [
           "MA",
           "Lynn"
          ],
          [
           "OK",
           "Lawton"
          ],
          [
           "UT",
           "Layton"
          ],
          [
           "TX",
           "League City"
          ],
          [
           "KY",
           "Lexington"
          ],
          [
           "NE",
           "Lincoln"
          ],
          [
           "AR",
           "Little Rock"
          ],
          [
           "TX",
           "Longview"
          ],
          [
           "KY",
           "Louisville"
          ],
          [
           "TX",
           "Lubbock"
          ],
          [
           "VA",
           "Lynchburg"
          ],
          [
           "GA",
           "Macon"
          ],
          [
           "WI",
           "Madison"
          ],
          [
           "NH",
           "Manchester"
          ],
          [
           "NH",
           "Nashua"
          ],
          [
           "CA",
           "Manteca"
          ],
          [
           "CA",
           "Stockton"
          ],
          [
           "CA",
           "Tracy"
          ],
          [
           "OR",
           "Medford"
          ],
          [
           "FL",
           "Melbourne"
          ],
          [
           "FL",
           "Palm Bay"
          ],
          [
           "TN",
           "Memphis"
          ],
          [
           "CA",
           "Merced"
          ],
          [
           "ID",
           "Meridian"
          ],
          [
           "TX",
           "Midland"
          ],
          [
           "CA",
           "Milpitas"
          ],
          [
           "CA",
           "Mountain View"
          ],
          [
           "CA",
           "San Jose"
          ],
          [
           "CA",
           "Santa Clara"
          ],
          [
           "CA",
           "Sunnyvale"
          ],
          [
           "WI",
           "Milwaukee"
          ],
          [
           "MT",
           "Missoula"
          ],
          [
           "TX",
           "Missouri City"
          ],
          [
           "TX",
           "Sugar Land"
          ],
          [
           "AL",
           "Mobile"
          ],
          [
           "CA",
           "Modesto"
          ],
          [
           "CA",
           "Turlock"
          ],
          [
           "AL",
           "Montgomery"
          ],
          [
           "NY",
           "Mount Vernon"
          ],
          [
           "NY",
           "New Rochelle"
          ],
          [
           "NY",
           "Yonkers"
          ],
          [
           "IN",
           "Muncie"
          ],
          [
           "TN",
           "Murfreesboro"
          ],
          [
           "ID",
           "Nampa"
          ],
          [
           "CA",
           "Napa"
          ],
          [
           "IL",
           "Naperville"
          ],
          [
           "TN",
           "Nashville"
          ],
          [
           "CT",
           "New Haven"
          ],
          [
           "CT",
           "Waterbury"
          ],
          [
           "LA",
           "New Orleans"
          ],
          [
           "NJ",
           "Newark"
          ],
          [
           "VA",
           "Newport News"
          ],
          [
           "VA",
           "Norfolk"
          ],
          [
           "OK",
           "Norman"
          ],
          [
           "MO",
           "O'Fallon"
          ],
          [
           "TX",
           "Odessa"
          ],
          [
           "UT",
           "Ogden"
          ],
          [
           "KS",
           "Olathe"
          ],
          [
           "KS",
           "Overland Park"
          ],
          [
           "NE",
           "Omaha"
          ],
          [
           "UT",
           "Orem"
          ],
          [
           "UT",
           "Provo"
          ],
          [
           "FL",
           "Orlando"
          ],
          [
           "CA",
           "Oxnard"
          ],
          [
           "CA",
           "Simi Valley"
          ],
          [
           "CA",
           "Thousand Oaks"
          ],
          [
           "FL",
           "Palm Coast"
          ],
          [
           "TX",
           "Pearland"
          ],
          [
           "IL",
           "Peoria"
          ],
          [
           "PA",
           "Philadelphia"
          ],
          [
           "PA",
           "Pittsburgh"
          ],
          [
           "FL",
           "Port St. Lucie"
          ],
          [
           "ME",
           "Portland"
          ],
          [
           "VA",
           "Portsmouth"
          ],
          [
           "CO",
           "Pueblo"
          ],
          [
           "MA",
           "Quincy"
          ],
          [
           "WI",
           "Racine"
          ],
          [
           "SD",
           "Rapid City"
          ],
          [
           "PA",
           "Reading"
          ],
          [
           "CA",
           "Redding"
          ],
          [
           "NV",
           "Reno"
          ],
          [
           "NV",
           "Sparks"
          ],
          [
           "VA",
           "Richmond"
          ],
          [
           "NM",
           "Rio Rancho"
          ],
          [
           "VA",
           "Roanoke"
          ],
          [
           "MN",
           "Rochester"
          ],
          [
           "NY",
           "Rochester"
          ],
          [
           "SC",
           "Rock Hill"
          ],
          [
           "IL",
           "Rockford"
          ],
          [
           "CA",
           "Roseville"
          ],
          [
           "TX",
           "Round Rock"
          ],
          [
           "OR",
           "Salem"
          ],
          [
           "CA",
           "Salinas"
          ],
          [
           "UT",
           "Salt Lake City"
          ],
          [
           "UT",
           "Sandy"
          ],
          [
           "UT",
           "West Jordan"
          ],
          [
           "UT",
           "West Valley City"
          ],
          [
           "TX",
           "San Angelo"
          ],
          [
           "TX",
           "San Antonio"
          ],
          [
           "CA",
           "San Francisco"
          ],
          [
           "CA",
           "Santa Barbara"
          ],
          [
           "CA",
           "Santa Maria"
          ],
          [
           "NM",
           "Santa Fe"
          ],
          [
           "CA",
           "Santa Rosa"
          ],
          [
           "GA",
           "Savannah"
          ],
          [
           "NY",
           "Schenectady"
          ],
          [
           "PA",
           "Scranton"
          ],
          [
           "LA",
           "Shreveport"
          ],
          [
           "IA",
           "Sioux City"
          ],
          [
           "SD",
           "Sioux Falls"
          ],
          [
           "IN",
           "South Bend"
          ],
          [
           "WA",
           "Spokane"
          ],
          [
           "WA",
           "Spokane Valley"
          ],
          [
           "IL",
           "Springfield"
          ],
          [
           "MA",
           "Springfield"
          ],
          [
           "MO",
           "Springfield"
          ],
          [
           "UT",
           "St. George"
          ],
          [
           "MO",
           "St. Joseph"
          ],
          [
           "MO",
           "St. Louis"
          ],
          [
           "MN",
           "St. Paul"
          ],
          [
           "MI",
           "Sterling Heights"
          ],
          [
           "MI",
           "Warren"
          ],
          [
           "VA",
           "Suffolk"
          ],
          [
           "NY",
           "Syracuse"
          ],
          [
           "WA",
           "Tacoma"
          ],
          [
           "FL",
           "Tallahassee"
          ],
          [
           "FL",
           "Tampa"
          ],
          [
           "OH",
           "Toledo"
          ],
          [
           "KS",
           "Topeka"
          ],
          [
           "NJ",
           "Trenton"
          ],
          [
           "AZ",
           "Tucson"
          ],
          [
           "AL",
           "Tuscaloosa"
          ],
          [
           "TX",
           "Tyler"
          ],
          [
           "WA",
           "Vancouver"
          ],
          [
           "VA",
           "Virginia Beach"
          ],
          [
           "CA",
           "Visalia"
          ],
          [
           "TX",
           "Waco"
          ],
          [
           "GA",
           "Warner Robins"
          ],
          [
           "RI",
           "Warwick"
          ],
          [
           "DC",
           "Washington"
          ],
          [
           "IA",
           "Waterloo"
          ],
          [
           "IL",
           "Waukegan"
          ],
          [
           "WI",
           "Waukesha"
          ],
          [
           "KS",
           "Wichita"
          ],
          [
           "TX",
           "Wichita Falls"
          ],
          [
           "DE",
           "Wilmington"
          ],
          [
           "NC",
           "Wilmington"
          ],
          [
           "NC",
           "Winston-Salem"
          ],
          [
           "MA",
           "Worcester"
          ],
          [
           "WA",
           "Yakima"
          ],
          [
           "OH",
           "Youngstown"
          ],
          [
           "AZ",
           "Yuma"
          ]
         ],
         "hovertemplate": "<b>%{hovertext}</b><br><br>CHECKUP=%{x}<br>death1m=%{y}<br>state_id=%{customdata[0]}<br>CityName=%{customdata[1]}<extra></extra>",
         "hovertext": [
          "TX",
          "OH",
          "CA",
          "CA",
          "CA",
          "CA",
          "CA",
          "CA",
          "CA",
          "CA",
          "CA",
          "GA",
          "NY",
          "NM",
          "VA",
          "CA",
          "CA",
          "CA",
          "CA",
          "CA",
          "CA",
          "CA",
          "CA",
          "CA",
          "CA",
          "CA",
          "CA",
          "CA",
          "CA",
          "CA",
          "CA",
          "CA",
          "CA",
          "CA",
          "CA",
          "CA",
          "CA",
          "CA",
          "CA",
          "CA",
          "CA",
          "CA",
          "TX",
          "TX",
          "TX",
          "TX",
          "PA",
          "TX",
          "CA",
          "CA",
          "CA",
          "CA",
          "CA",
          "CA",
          "CA",
          "CA",
          "CA",
          "CA",
          "CA",
          "CA",
          "CA",
          "CA",
          "AK",
          "MI",
          "CA",
          "CA",
          "CA",
          "CA",
          "CA",
          "CA",
          "CA",
          "CA",
          "CA",
          "CA",
          "CA",
          "CA",
          "CA",
          "CA",
          "CA",
          "CA",
          "WI",
          "TX",
          "TX",
          "IL",
          "IL",
          "IL",
          "IL",
          "IL",
          "IL",
          "CO",
          "CO",
          "NC",
          "GA",
          "GA",
          "GA",
          "GA",
          "GA",
          "WA",
          "WA",
          "WA",
          "WA",
          "WA",
          "WA",
          "GA",
          "CO",
          "CO",
          "CO",
          "IL",
          "IL",
          "TX",
          "AZ",
          "AZ",
          "AZ",
          "AZ",
          "AZ",
          "AZ",
          "AZ",
          "AZ",
          "AZ",
          "AZ",
          "CA",
          "MD",
          "LA",
          "TX",
          "TX",
          "TX",
          "TX",
          "OR",
          "OR",
          "WA",
          "OR",
          "PA",
          "MT",
          "AL",
          "AL",
          "IL",
          "IN",
          "MN",
          "MN",
          "MN",
          "MN",
          "FL",
          "FL",
          "FL",
          "IL",
          "IL",
          "MA",
          "CO",
          "CO",
          "CT",
          "CT",
          "CT",
          "CT",
          "MA",
          "OK",
          "OK",
          "TX",
          "TX",
          "TX",
          "NY",
          "VT",
          "MA",
          "MA",
          "MA",
          "MA",
          "NJ",
          "OH",
          "FL",
          "CA",
          "CA",
          "CA",
          "CA",
          "CA",
          "CA",
          "CA",
          "CA",
          "IN",
          "IN",
          "TX",
          "TX",
          "TX",
          "TX",
          "TX",
          "TX",
          "TX",
          "NC",
          "NC",
          "IA",
          "CO",
          "IL",
          "SC",
          "SC",
          "SC",
          "WV",
          "NC",
          "TN",
          "VA",
          "WY",
          "CA",
          "OH",
          "CA",
          "CA",
          "CA",
          "CA",
          "TN",
          "FL",
          "FL",
          "FL",
          "OH",
          "OH",
          "NJ",
          "NJ",
          "NJ",
          "CA",
          "CA",
          "CO",
          "MO",
          "SC",
          "GA",
          "OH",
          "NC",
          "FL",
          "FL",
          "FL",
          "FL",
          "FL",
          "FL",
          "FL",
          "FL",
          "FL",
          "FL",
          "FL",
          "CA",
          "CA",
          "CA",
          "CA",
          "CA",
          "CA",
          "CA",
          "CA",
          "CA",
          "TX",
          "RI",
          "RI",
          "RI",
          "CA",
          "CA",
          "CA",
          "IA",
          "OH",
          "MI",
          "MI",
          "MI",
          "MI",
          "IL",
          "FL",
          "TX",
          "TX",
          "CO",
          "IA",
          "MN",
          "NC",
          "TX",
          "TX",
          "TX",
          "TX",
          "OK",
          "OK",
          "TX",
          "NJ",
          "PA",
          "OR",
          "IN",
          "WA",
          "CA",
          "CA",
          "CA",
          "MA",
          "MA",
          "ND",
          "MI",
          "MI",
          "MI",
          "MI",
          "AR",
          "AR",
          "NC",
          "MI",
          "CO",
          "CO",
          "AR",
          "IN",
          "FL",
          "IN",
          "IN",
          "NC",
          "MI",
          "MI",
          "CO",
          "WI",
          "NC",
          "NC",
          "NC",
          "OR",
          "OR",
          "MS",
          "VA",
          "CT",
          "CT",
          "NV",
          "NV",
          "NV",
          "FL",
          "FL",
          "FL",
          "FL",
          "HI",
          "AL",
          "MO",
          "MO",
          "MO",
          "IN",
          "IA",
          "MS",
          "FL",
          "NC",
          "NJ",
          "NJ",
          "AR",
          "MI",
          "KS",
          "LA",
          "WA",
          "WI",
          "TX",
          "TN",
          "IN",
          "LA",
          "LA",
          "FL",
          "MI",
          "TX",
          "NM",
          "KS",
          "MA",
          "MA",
          "OK",
          "UT",
          "TX",
          "KY",
          "NE",
          "AR",
          "TX",
          "KY",
          "TX",
          "VA",
          "GA",
          "WI",
          "NH",
          "NH",
          "CA",
          "CA",
          "CA",
          "OR",
          "FL",
          "FL",
          "TN",
          "CA",
          "ID",
          "TX",
          "CA",
          "CA",
          "CA",
          "CA",
          "CA",
          "WI",
          "MT",
          "TX",
          "TX",
          "AL",
          "CA",
          "CA",
          "AL",
          "NY",
          "NY",
          "NY",
          "IN",
          "TN",
          "ID",
          "CA",
          "IL",
          "TN",
          "CT",
          "CT",
          "LA",
          "NJ",
          "VA",
          "VA",
          "OK",
          "MO",
          "TX",
          "UT",
          "KS",
          "KS",
          "NE",
          "UT",
          "UT",
          "FL",
          "CA",
          "CA",
          "CA",
          "FL",
          "TX",
          "IL",
          "PA",
          "PA",
          "FL",
          "ME",
          "VA",
          "CO",
          "MA",
          "WI",
          "SD",
          "PA",
          "CA",
          "NV",
          "NV",
          "VA",
          "NM",
          "VA",
          "MN",
          "NY",
          "SC",
          "IL",
          "CA",
          "TX",
          "OR",
          "CA",
          "UT",
          "UT",
          "UT",
          "UT",
          "TX",
          "TX",
          "CA",
          "CA",
          "CA",
          "NM",
          "CA",
          "GA",
          "NY",
          "PA",
          "LA",
          "IA",
          "SD",
          "IN",
          "WA",
          "WA",
          "IL",
          "MA",
          "MO",
          "UT",
          "MO",
          "MO",
          "MN",
          "MI",
          "MI",
          "VA",
          "NY",
          "WA",
          "FL",
          "FL",
          "OH",
          "KS",
          "NJ",
          "AZ",
          "AL",
          "TX",
          "WA",
          "VA",
          "CA",
          "TX",
          "GA",
          "RI",
          "DC",
          "IA",
          "IL",
          "WI",
          "KS",
          "TX",
          "DE",
          "NC",
          "NC",
          "MA",
          "WA",
          "OH",
          "AZ"
         ],
         "legendgroup": "",
         "marker": {
          "color": "#636efa",
          "symbol": "circle"
         },
         "mode": "markers",
         "name": "",
         "orientation": "v",
         "showlegend": false,
         "type": "scatter",
         "x": [
          66.85000000000001,
          74.1,
          67.19999999999999,
          65.75,
          66.55000000000001,
          65.44999999999999,
          65.39999999999999,
          67.4,
          66.9,
          66.95,
          66.45,
          78.25,
          75.1,
          60.25,
          72.1,
          67.05,
          63.9,
          66.2,
          66.45,
          69.1,
          67,
          65.39999999999999,
          63.55,
          66.64999999999999,
          67.15,
          69.5,
          67.25,
          66.15,
          66.2,
          65.60000000000001,
          63.3,
          65.1,
          65.45,
          67.25,
          64.35000000000001,
          67,
          66.25,
          67.35,
          62.64999999999999,
          68.20000000000002,
          66.8,
          65.9,
          70.25,
          69.69999999999999,
          69.80000000000001,
          70.75,
          68.75,
          67.15,
          64.5,
          65.65,
          64.3,
          65.80000000000001,
          65.05,
          66.5,
          66.4,
          66.14999999999999,
          67.45,
          67.95,
          65.14999999999999,
          62.2,
          65.25,
          66,
          57.85000000000001,
          67.8,
          64.14999999999999,
          63.25,
          65.2,
          64.80000000000001,
          66.35,
          64.55000000000001,
          66.55,
          64.10000000000001,
          63.949999999999996,
          63.650000000000006,
          66.05000000000001,
          66.3,
          64.8,
          64.19999999999999,
          66.25,
          64.89999999999999,
          69.5,
          69,
          68.55000000000001,
          70.05000000000001,
          70.15,
          64.75,
          70.25,
          68.44999999999999,
          69.2,
          62.64999999999999,
          62.25,
          73.5,
          73.2,
          75.69999999999999,
          73.8,
          73.30000000000001,
          73.9,
          60.5,
          62.5,
          61.30000000000001,
          60.55,
          61.55,
          61.35,
          76.55000000000001,
          59.35,
          59.75,
          61.1,
          66.35,
          66.85000000000001,
          65.45,
          64.7,
          66.15,
          65.85000000000001,
          65.35,
          66.14999999999999,
          67.1,
          65.05,
          68.5,
          67.7,
          64.8,
          62.400000000000006,
          76.75,
          73.05,
          68,
          68.5,
          65.79999999999998,
          72.44999999999999,
          62.85,
          61.75,
          56.8,
          60.5,
          70.75,
          65.55,
          76.9,
          72.85000000000001,
          67.3,
          62.3,
          69.9,
          69.65,
          67.85000000000001,
          69.6,
          77.5,
          78.64999999999999,
          77.85000000000001,
          68.7,
          67.29999999999998,
          75.60000000000001,
          56,
          57.3,
          70.19999999999999,
          68.25,
          69.94999999999999,
          70,
          77.75,
          69.45,
          70.05,
          65,
          69.15,
          67.35,
          76.1,
          63.9,
          74,
          73.1,
          76.15,
          73.05,
          77.25,
          75.10000000000001,
          74.7,
          66.35000000000001,
          64.7,
          63.85,
          63.300000000000004,
          64.80000000000001,
          64.7,
          64.1,
          63.15,
          68.75,
          67.25,
          68.95,
          69.69999999999999,
          69.2,
          69.3,
          68.4,
          69.9,
          70.60000000000001,
          73.3,
          73.75,
          69.85000000000001,
          60.45,
          64.9,
          64.39999999999999,
          63.699999999999996,
          65.25,
          79.9,
          74.8,
          72.35000000000001,
          76.35,
          63.8,
          63.650000000000006,
          75.7,
          64.15,
          65.65,
          65,
          64.95,
          71.60000000000001,
          75.4,
          75.55000000000001,
          76.2,
          75.4,
          72.3,
          76.55000000000001,
          74,
          76.6,
          63.2,
          61.95,
          62.14999999999999,
          68.9,
          65.7,
          76.8,
          73.3,
          74.05000000000001,
          75.6,
          74.7,
          76.69999999999999,
          76.6,
          75.60000000000001,
          80.60000000000001,
          77.80000000000001,
          76.85,
          76.55,
          76.5,
          77.25,
          65,
          66.64999999999999,
          64.3,
          66.8,
          65.25,
          65.9,
          63.45,
          64.5,
          65.6,
          69.7,
          81.4,
          81.05000000000001,
          80.25,
          65.15,
          63.65,
          64.69999999999999,
          70.6,
          75.5,
          68.85000000000001,
          77.05,
          71.5,
          71.10000000000001,
          69.64999999999999,
          74,
          67.55,
          67.8,
          60.400000000000006,
          68.8,
          68.3,
          74.45,
          63.45,
          64.7,
          64.55000000000001,
          63.3,
          68.05,
          67.9,
          67.80000000000001,
          75.85000000000001,
          70.1,
          62.3,
          69.14999999999999,
          58.75,
          64.15,
          63.39999999999999,
          65.64999999999999,
          77.64999999999999,
          77.8,
          62.050000000000004,
          72.35,
          70.75,
          77.60000000000001,
          70.95,
          66.55,
          66.10000000000001,
          77.7,
          75.14999999999999,
          58.20000000000001,
          60.25,
          70.3,
          65.10000000000001,
          74.35000000000001,
          73.89999999999999,
          65.3,
          73.35,
          72.2,
          70.8,
          57.25,
          69.5,
          74.39999999999999,
          73.6,
          73.55,
          60.25,
          61.05,
          72.5,
          78.15,
          74.95,
          73.4,
          69.35,
          68.55,
          68.2,
          74.1,
          75,
          74.60000000000001,
          80.45,
          71.30000000000001,
          69.35,
          69.95,
          71.3,
          71.10000000000001,
          67.4,
          68.75,
          79.39999999999999,
          75.3,
          71.7,
          77.30000000000001,
          74.45,
          70.05000000000001,
          70.25,
          65.95,
          72.15,
          59.85,
          69.8,
          71.19999999999999,
          68.75,
          64.6,
          70.65,
          75.30000000000001,
          76.35000000000001,
          71.69999999999999,
          65.25,
          61.1,
          63.60000000000001,
          74.94999999999999,
          76.7,
          68.85000000000001,
          62,
          68.85,
          75.3,
          63.7,
          73.60000000000001,
          69.6,
          75.60000000000001,
          67.39999999999999,
          73.94999999999999,
          79.35,
          67.8,
          71.65,
          72.45,
          62.45,
          63.050000000000004,
          62.900000000000006,
          62.34999999999999,
          76.30000000000001,
          76.4,
          72.6,
          62.949999999999996,
          58.34999999999999,
          67.14999999999999,
          65,
          64.5,
          64.19999999999999,
          64.45,
          65.05000000000001,
          72.45,
          60.550000000000004,
          73.1,
          70.19999999999999,
          74.35,
          64.45,
          64.04999999999998,
          76.60000000000001,
          75.94999999999999,
          71.89999999999999,
          71.15,
          67.2,
          68.7,
          57.05,
          63.3,
          68.5,
          69.25,
          72.85000000000001,
          72.05000000000001,
          72.4,
          79.55,
          75.19999999999999,
          75.64999999999999,
          68,
          70.35000000000001,
          67.75,
          62,
          70.05,
          71.6,
          65.39999999999999,
          56.449999999999996,
          54.550000000000004,
          72.55,
          61.95,
          64.60000000000001,
          65.85000000000001,
          78.4,
          69.44999999999999,
          69.39999999999999,
          74,
          72.25,
          76.10000000000001,
          70,
          77.35,
          61.5,
          77.05000000000001,
          70.75,
          68.5,
          67.55000000000001,
          64.15,
          63.6,
          63.85,
          74.10000000000001,
          57.099999999999994,
          74.89999999999999,
          64.95,
          69.55,
          68.25,
          67.89999999999999,
          64.5,
          68.5,
          60.7,
          61.699999999999996,
          62.15,
          63.75,
          61.599999999999994,
          61.05,
          66.9,
          69.14999999999999,
          64.75,
          64.7,
          61.65,
          62.65000000000001,
          63.35,
          77.25,
          73.3,
          72.3,
          75.4,
          68.55,
          69.14999999999999,
          67.7,
          62.5,
          63.05,
          68.95,
          78.65,
          68.64999999999999,
          61.45,
          69.5,
          74.15,
          67.8,
          71.25,
          71.45,
          77.35,
          73.4,
          63.55,
          76.5,
          73.9,
          74.64999999999999,
          67.8,
          77.45,
          66.05,
          73.15,
          69,
          61.699999999999996,
          73.9,
          64.55,
          68.5,
          76.15,
          81.14999999999999,
          79.3,
          70.1,
          67,
          67.64999999999999,
          64.9,
          70.5,
          77.3,
          73.35,
          73.94999999999999,
          77.7,
          58.400000000000006,
          76.94999999999999,
          64.8
         ],
         "xaxis": "x",
         "y": [
          48.444526979564486,
          237.67222411784778,
          66.49615440648859,
          66.49615440648859,
          66.49615440648859,
          66.49615440648859,
          66.49615440648859,
          66.49615440648859,
          66.49615440648859,
          66.49615440648859,
          66.49615440648859,
          1649.2578339747115,
          239.41357398718148,
          98.12063093958879,
          306.18302246383604,
          68.53275495098265,
          68.53275495098265,
          68.53275495098265,
          68.53275495098265,
          68.53275495098265,
          68.53275495098265,
          68.53275495098265,
          68.53275495098265,
          68.53275495098265,
          68.53275495098265,
          68.53275495098265,
          68.53275495098265,
          68.53275495098265,
          68.53275495098265,
          68.53275495098265,
          68.53275495098265,
          68.53275495098265,
          68.53275495098265,
          68.53275495098265,
          68.53275495098265,
          68.53275495098265,
          68.53275495098265,
          68.53275495098265,
          68.53275495098265,
          68.53275495098265,
          68.53275495098265,
          68.53275495098265,
          39.11066465486897,
          39.11066465486897,
          39.11066465486897,
          39.11066465486897,
          360.55178537288884,
          189.08815871769139,
          15.594601641372861,
          15.594601641372861,
          15.594601641372861,
          15.594601641372861,
          15.594601641372861,
          15.594601641372861,
          15.594601641372861,
          15.594601641372861,
          15.594601641372861,
          15.594601641372861,
          15.594601641372861,
          15.594601641372861,
          15.594601641372861,
          15.594601641372861,
          23.676017378196757,
          294.37815870369406,
          24.012709272125665,
          24.012709272125665,
          24.012709272125665,
          24.012709272125665,
          103.77128808106933,
          103.77128808106933,
          103.77128808106933,
          103.77128808106933,
          103.77128808106933,
          103.77128808106933,
          103.77128808106933,
          103.77128808106933,
          103.77128808106933,
          103.77128808106933,
          103.77128808106933,
          103.77128808106933,
          29.643902619779894,
          104.14396455244258,
          104.14396455244258,
          161.00061975322552,
          161.00061975322552,
          161.00061975322552,
          161.00061975322552,
          161.00061975322552,
          161.00061975322552,
          427.7522163861669,
          427.7522163861669,
          104.93301775699845,
          106.08653832553009,
          47.71676169235448,
          47.71676169235448,
          47.71676169235448,
          47.71676169235448,
          113.86686372178164,
          113.86686372178164,
          113.86686372178164,
          113.86686372178164,
          113.86686372178164,
          113.86686372178164,
          121.81411673345295,
          180.99698378052688,
          180.99698378052688,
          180.99698378052688,
          430.34616191685427,
          430.34616191685427,
          61.54400480267034,
          26.08847062527654,
          26.08847062527654,
          26.08847062527654,
          26.08847062527654,
          26.08847062527654,
          26.08847062527654,
          26.08847062527654,
          26.08847062527654,
          26.08847062527654,
          26.08847062527654,
          73.57067935165313,
          146.97047321728041,
          365.3379444658855,
          44.63698766882926,
          44.63698766882926,
          44.63698766882926,
          93.86742055089132,
          34.735221128277175,
          34.735221128277175,
          194.952236702008,
          0,
          1427.1636820822996,
          21.528834285386225,
          110.50867317673845,
          110.50867317673845,
          60.9333108348801,
          238.08579024641878,
          197.9516790373163,
          197.9516790373163,
          197.9516790373163,
          197.9516790373163,
          503.9893774546598,
          503.9893774546598,
          503.9893774546598,
          563.9875170762888,
          563.9875170762888,
          153.88236146061516,
          177.39843939344723,
          177.39843939344723,
          953.169712926464,
          953.169712926464,
          953.169712926464,
          953.169712926464,
          4106.137628594457,
          68.02206109039365,
          68.02206109039365,
          114.48506698417192,
          91.6733441077807,
          91.6733441077807,
          539.1521763836801,
          265.72911982339235,
          2016.2406570083972,
          2016.2406570083972,
          2016.2406570083972,
          2016.2406570083972,
          1247.146424795845,
          258.8629751984616,
          91.35814260590796,
          48.78770614317861,
          48.78770614317861,
          48.78770614317861,
          48.78770614317861,
          48.78770614317861,
          48.78770614317861,
          48.78770614317861,
          48.78770614317861,
          344.82525473120535,
          344.82525473120535,
          42.191042690463696,
          42.191042690463696,
          42.191042690463696,
          42.191042690463696,
          42.191042690463696,
          42.191042690463696,
          42.191042690463696,
          29.15453918821268,
          29.15453918821268,
          317.16930265300516,
          1309.067318497237,
          46.62185788103656,
          17.604600668974825,
          17.604600668974825,
          17.604600668974825,
          91.57383369276063,
          85.11628476602208,
          50.790376395758614,
          87.35549944466861,
          20.35146988491244,
          8.024619532726405,
          91.38747235648577,
          20.0119299189236,
          20.0119299189236,
          20.0119299189236,
          20.0119299189236,
          38.28295478783039,
          130.49871482069244,
          130.49871482069244,
          130.49871482069244,
          123.8228580101162,
          123.8228580101162,
          2391.502795633487,
          2391.502795633487,
          2391.502795633487,
          50.82061431958589,
          50.82061431958589,
          129.98117821566427,
          13.251702843815432,
          125.25148149017951,
          165.9206667695632,
          187.27581175956087,
          78.06669393796508,
          184.57262389889763,
          184.57262389889763,
          184.57262389889763,
          184.57262389889763,
          184.57262389889763,
          184.57262389889763,
          184.57262389889763,
          184.57262389889763,
          184.57262389889763,
          184.57262389889763,
          184.57262389889763,
          78.72222350920302,
          78.72222350920302,
          78.72222350920302,
          78.72222350920302,
          78.72222350920302,
          78.72222350920302,
          78.72222350920302,
          78.72222350920302,
          78.72222350920302,
          24.570225800375106,
          495.6894263539554,
          495.6894263539554,
          495.6894263539554,
          121.42212728955784,
          121.42212728955784,
          121.42212728955784,
          29.018478967406445,
          21.997360316761988,
          621.432901002634,
          621.432901002634,
          621.432901002634,
          621.432901002634,
          202.3621178115457,
          87.82458502883574,
          41.481536107372655,
          41.481536107372655,
          129.15882445378375,
          223.52457249272223,
          74.6181151464114,
          151.50441439878406,
          36.03240563370339,
          36.03240563370339,
          36.03240563370339,
          36.03240563370339,
          54.114941801461434,
          54.114941801461434,
          124.97930030338725,
          2944.545691226243,
          53.30927581399163,
          7.90578413519945,
          25.28072134324899,
          136.482369131732,
          42.72093520010874,
          42.72093520010874,
          42.72093520010874,
          1441.9496426817093,
          1441.9496426817093,
          257.37273907947673,
          1195.4112281594685,
          1195.4112281594685,
          1195.4112281594685,
          1195.4112281594685,
          52.866347265818604,
          52.866347265818604,
          113.71105742963088,
          659.3180179252087,
          70.41432761601367,
          70.41432761601367,
          27.28792168366477,
          315.5884062785483,
          50.3764494678415,
          560.1882585423195,
          560.1882585423195,
          45.42826464029074,
          139.15774492045946,
          139.15774492045946,
          453.1701920641902,
          123.49174412510617,
          200.39972588180353,
          200.39972588180353,
          38.34944009817457,
          30.98538537845231,
          30.98538537845231,
          22.91183199735532,
          37.12806956315113,
          1200.9767944594937,
          1200.9767944594937,
          106.20681650560981,
          106.20681650560981,
          106.20681650560981,
          102.55923270499977,
          102.55923270499977,
          102.55923270499977,
          102.55923270499977,
          7.5889336789287745,
          15.373577944040177,
          18.259207712689335,
          18.259207712689335,
          18.259207712689335,
          419.40402325698045,
          46.919169999882705,
          86.3160317642997,
          49.91003715802267,
          18.866026060270663,
          2051.769222482298,
          2051.769222482298,
          68.71671534100669,
          229.31835120105487,
          472.09780898196345,
          1123.1757317894426,
          233.9188582264584,
          242.48302618816683,
          22.373066407735713,
          8.191927019760566,
          42.02543939931639,
          130.23976823674414,
          248.8181139586962,
          100.83646246482728,
          63.11784755080986,
          83.13423286982986,
          44.56769337426958,
          0,
          2160.4373717049775,
          2160.4373717049775,
          68.84681583476765,
          11.625507526062934,
          102.74482808221642,
          53.807855313842225,
          40.687896706992895,
          85.88298443370907,
          96.18728404104978,
          164.43233824506788,
          179.61541170669858,
          7.999744008191738,
          248.91427523368466,
          38.72738707868476,
          558.451692682039,
          558.451692682039,
          59.68352493437987,
          59.68352493437987,
          59.68352493437987,
          0,
          19.810887597685156,
          19.810887597685156,
          123.72937910202806,
          37.55496681506569,
          39.72001003832981,
          97.0557446602009,
          47.66024575223512,
          47.66024575223512,
          47.66024575223512,
          47.66024575223512,
          47.66024575223512,
          213.8784639952036,
          9.078282025909417,
          120.52641836514888,
          120.52641836514888,
          325.41411959812564,
          51.72473246818929,
          51.72473246818929,
          305.39531727180184,
          1949.9425701845767,
          1949.9425701845767,
          1949.9425701845767,
          457.27724065847923,
          124.31046538730479,
          24.811843519973532,
          23.3486656237596,
          535.8110317405385,
          81.33990318743967,
          1030.7768838344512,
          1030.7768838344512,
          508.1997001330259,
          4194.06679033481,
          55.74508885767164,
          36.77927937131952,
          210.66934918971302,
          243.11453025610282,
          62.556869881710654,
          12.38765088846985,
          124.5773885118885,
          124.5773885118885,
          39.25482447740528,
          22.296928192742758,
          22.296928192742758,
          19.307453950695336,
          38.5747900888506,
          38.5747900888506,
          38.5747900888506,
          12.190691675464283,
          61.14652961262065,
          86.55385813822652,
          273.15212586849964,
          78.86786284393988,
          85.7642740340084,
          218.8084746785779,
          169.18326777481707,
          128.17154925966997,
          3370.1098663537186,
          232.4099711891777,
          130.27957997863416,
          808.0357764805863,
          24.890172115540178,
          115.94414142535102,
          115.94414142535102,
          28.3043701003956,
          209.68599522215484,
          46.258390115507204,
          105.71702572699334,
          320.1016130560485,
          64.49289771963862,
          230.0941491118366,
          26.07864159253571,
          88.45531742822483,
          73.36757153338225,
          23.797200259389484,
          38.4975682369397,
          38.4975682369397,
          38.4975682369397,
          38.4975682369397,
          9.648318780452506,
          29.906813089215195,
          9.71207580080921,
          47.696185895001264,
          47.696185895001264,
          20.7691508878812,
          6.831896073196934,
          96.0836810956656,
          396.1719881643619,
          416.3583485001824,
          727.4442458827984,
          372.2189324084257,
          265.2962966602144,
          152.39056124392735,
          59.50120489939921,
          59.50120489939921,
          159.08827953256971,
          775.0317954107131,
          24.88870084092698,
          0,
          36.42943012228145,
          74.58079578190267,
          356.42799122811954,
          1877.8094438859023,
          1877.8094438859023,
          376.7855757616055,
          347.61553721583925,
          109.88332613124267,
          31.27443315089914,
          25.1205516365094,
          533.6246183599101,
          84.92790927086124,
          1322.9116173856842,
          175.4286510992252,
          157.24706049446593,
          22.906358805204327,
          70.79449117723654,
          18.91402427615016,
          211.57687674407964,
          22.889755308515753,
          131.1879352730135,
          1139.37077330197,
          97.36417225329053,
          340.63405742970684,
          450.03782596410633,
          115.5018708263551,
          49.389597492419576,
          16.725204883759826,
          715.3023612276924,
          15.036734742977094,
          57.4373112774058,
          1220.4829605548814,
          563.3989527407701,
          477.20354518087487,
          374.9596700354904
         ],
         "yaxis": "y"
        }
       ],
       "layout": {
        "legend": {
         "tracegroupgap": 0
        },
        "margin": {
         "t": 60
        },
        "template": {
         "data": {
          "bar": [
           {
            "error_x": {
             "color": "#2a3f5f"
            },
            "error_y": {
             "color": "#2a3f5f"
            },
            "marker": {
             "line": {
              "color": "#E5ECF6",
              "width": 0.5
             }
            },
            "type": "bar"
           }
          ],
          "barpolar": [
           {
            "marker": {
             "line": {
              "color": "#E5ECF6",
              "width": 0.5
             }
            },
            "type": "barpolar"
           }
          ],
          "carpet": [
           {
            "aaxis": {
             "endlinecolor": "#2a3f5f",
             "gridcolor": "white",
             "linecolor": "white",
             "minorgridcolor": "white",
             "startlinecolor": "#2a3f5f"
            },
            "baxis": {
             "endlinecolor": "#2a3f5f",
             "gridcolor": "white",
             "linecolor": "white",
             "minorgridcolor": "white",
             "startlinecolor": "#2a3f5f"
            },
            "type": "carpet"
           }
          ],
          "choropleth": [
           {
            "colorbar": {
             "outlinewidth": 0,
             "ticks": ""
            },
            "type": "choropleth"
           }
          ],
          "contour": [
           {
            "colorbar": {
             "outlinewidth": 0,
             "ticks": ""
            },
            "colorscale": [
             [
              0,
              "#0d0887"
             ],
             [
              0.1111111111111111,
              "#46039f"
             ],
             [
              0.2222222222222222,
              "#7201a8"
             ],
             [
              0.3333333333333333,
              "#9c179e"
             ],
             [
              0.4444444444444444,
              "#bd3786"
             ],
             [
              0.5555555555555556,
              "#d8576b"
             ],
             [
              0.6666666666666666,
              "#ed7953"
             ],
             [
              0.7777777777777778,
              "#fb9f3a"
             ],
             [
              0.8888888888888888,
              "#fdca26"
             ],
             [
              1,
              "#f0f921"
             ]
            ],
            "type": "contour"
           }
          ],
          "contourcarpet": [
           {
            "colorbar": {
             "outlinewidth": 0,
             "ticks": ""
            },
            "type": "contourcarpet"
           }
          ],
          "heatmap": [
           {
            "colorbar": {
             "outlinewidth": 0,
             "ticks": ""
            },
            "colorscale": [
             [
              0,
              "#0d0887"
             ],
             [
              0.1111111111111111,
              "#46039f"
             ],
             [
              0.2222222222222222,
              "#7201a8"
             ],
             [
              0.3333333333333333,
              "#9c179e"
             ],
             [
              0.4444444444444444,
              "#bd3786"
             ],
             [
              0.5555555555555556,
              "#d8576b"
             ],
             [
              0.6666666666666666,
              "#ed7953"
             ],
             [
              0.7777777777777778,
              "#fb9f3a"
             ],
             [
              0.8888888888888888,
              "#fdca26"
             ],
             [
              1,
              "#f0f921"
             ]
            ],
            "type": "heatmap"
           }
          ],
          "heatmapgl": [
           {
            "colorbar": {
             "outlinewidth": 0,
             "ticks": ""
            },
            "colorscale": [
             [
              0,
              "#0d0887"
             ],
             [
              0.1111111111111111,
              "#46039f"
             ],
             [
              0.2222222222222222,
              "#7201a8"
             ],
             [
              0.3333333333333333,
              "#9c179e"
             ],
             [
              0.4444444444444444,
              "#bd3786"
             ],
             [
              0.5555555555555556,
              "#d8576b"
             ],
             [
              0.6666666666666666,
              "#ed7953"
             ],
             [
              0.7777777777777778,
              "#fb9f3a"
             ],
             [
              0.8888888888888888,
              "#fdca26"
             ],
             [
              1,
              "#f0f921"
             ]
            ],
            "type": "heatmapgl"
           }
          ],
          "histogram": [
           {
            "marker": {
             "colorbar": {
              "outlinewidth": 0,
              "ticks": ""
             }
            },
            "type": "histogram"
           }
          ],
          "histogram2d": [
           {
            "colorbar": {
             "outlinewidth": 0,
             "ticks": ""
            },
            "colorscale": [
             [
              0,
              "#0d0887"
             ],
             [
              0.1111111111111111,
              "#46039f"
             ],
             [
              0.2222222222222222,
              "#7201a8"
             ],
             [
              0.3333333333333333,
              "#9c179e"
             ],
             [
              0.4444444444444444,
              "#bd3786"
             ],
             [
              0.5555555555555556,
              "#d8576b"
             ],
             [
              0.6666666666666666,
              "#ed7953"
             ],
             [
              0.7777777777777778,
              "#fb9f3a"
             ],
             [
              0.8888888888888888,
              "#fdca26"
             ],
             [
              1,
              "#f0f921"
             ]
            ],
            "type": "histogram2d"
           }
          ],
          "histogram2dcontour": [
           {
            "colorbar": {
             "outlinewidth": 0,
             "ticks": ""
            },
            "colorscale": [
             [
              0,
              "#0d0887"
             ],
             [
              0.1111111111111111,
              "#46039f"
             ],
             [
              0.2222222222222222,
              "#7201a8"
             ],
             [
              0.3333333333333333,
              "#9c179e"
             ],
             [
              0.4444444444444444,
              "#bd3786"
             ],
             [
              0.5555555555555556,
              "#d8576b"
             ],
             [
              0.6666666666666666,
              "#ed7953"
             ],
             [
              0.7777777777777778,
              "#fb9f3a"
             ],
             [
              0.8888888888888888,
              "#fdca26"
             ],
             [
              1,
              "#f0f921"
             ]
            ],
            "type": "histogram2dcontour"
           }
          ],
          "mesh3d": [
           {
            "colorbar": {
             "outlinewidth": 0,
             "ticks": ""
            },
            "type": "mesh3d"
           }
          ],
          "parcoords": [
           {
            "line": {
             "colorbar": {
              "outlinewidth": 0,
              "ticks": ""
             }
            },
            "type": "parcoords"
           }
          ],
          "pie": [
           {
            "automargin": true,
            "type": "pie"
           }
          ],
          "scatter": [
           {
            "marker": {
             "colorbar": {
              "outlinewidth": 0,
              "ticks": ""
             }
            },
            "type": "scatter"
           }
          ],
          "scatter3d": [
           {
            "line": {
             "colorbar": {
              "outlinewidth": 0,
              "ticks": ""
             }
            },
            "marker": {
             "colorbar": {
              "outlinewidth": 0,
              "ticks": ""
             }
            },
            "type": "scatter3d"
           }
          ],
          "scattercarpet": [
           {
            "marker": {
             "colorbar": {
              "outlinewidth": 0,
              "ticks": ""
             }
            },
            "type": "scattercarpet"
           }
          ],
          "scattergeo": [
           {
            "marker": {
             "colorbar": {
              "outlinewidth": 0,
              "ticks": ""
             }
            },
            "type": "scattergeo"
           }
          ],
          "scattergl": [
           {
            "marker": {
             "colorbar": {
              "outlinewidth": 0,
              "ticks": ""
             }
            },
            "type": "scattergl"
           }
          ],
          "scattermapbox": [
           {
            "marker": {
             "colorbar": {
              "outlinewidth": 0,
              "ticks": ""
             }
            },
            "type": "scattermapbox"
           }
          ],
          "scatterpolar": [
           {
            "marker": {
             "colorbar": {
              "outlinewidth": 0,
              "ticks": ""
             }
            },
            "type": "scatterpolar"
           }
          ],
          "scatterpolargl": [
           {
            "marker": {
             "colorbar": {
              "outlinewidth": 0,
              "ticks": ""
             }
            },
            "type": "scatterpolargl"
           }
          ],
          "scatterternary": [
           {
            "marker": {
             "colorbar": {
              "outlinewidth": 0,
              "ticks": ""
             }
            },
            "type": "scatterternary"
           }
          ],
          "surface": [
           {
            "colorbar": {
             "outlinewidth": 0,
             "ticks": ""
            },
            "colorscale": [
             [
              0,
              "#0d0887"
             ],
             [
              0.1111111111111111,
              "#46039f"
             ],
             [
              0.2222222222222222,
              "#7201a8"
             ],
             [
              0.3333333333333333,
              "#9c179e"
             ],
             [
              0.4444444444444444,
              "#bd3786"
             ],
             [
              0.5555555555555556,
              "#d8576b"
             ],
             [
              0.6666666666666666,
              "#ed7953"
             ],
             [
              0.7777777777777778,
              "#fb9f3a"
             ],
             [
              0.8888888888888888,
              "#fdca26"
             ],
             [
              1,
              "#f0f921"
             ]
            ],
            "type": "surface"
           }
          ],
          "table": [
           {
            "cells": {
             "fill": {
              "color": "#EBF0F8"
             },
             "line": {
              "color": "white"
             }
            },
            "header": {
             "fill": {
              "color": "#C8D4E3"
             },
             "line": {
              "color": "white"
             }
            },
            "type": "table"
           }
          ]
         },
         "layout": {
          "annotationdefaults": {
           "arrowcolor": "#2a3f5f",
           "arrowhead": 0,
           "arrowwidth": 1
          },
          "coloraxis": {
           "colorbar": {
            "outlinewidth": 0,
            "ticks": ""
           }
          },
          "colorscale": {
           "diverging": [
            [
             0,
             "#8e0152"
            ],
            [
             0.1,
             "#c51b7d"
            ],
            [
             0.2,
             "#de77ae"
            ],
            [
             0.3,
             "#f1b6da"
            ],
            [
             0.4,
             "#fde0ef"
            ],
            [
             0.5,
             "#f7f7f7"
            ],
            [
             0.6,
             "#e6f5d0"
            ],
            [
             0.7,
             "#b8e186"
            ],
            [
             0.8,
             "#7fbc41"
            ],
            [
             0.9,
             "#4d9221"
            ],
            [
             1,
             "#276419"
            ]
           ],
           "sequential": [
            [
             0,
             "#0d0887"
            ],
            [
             0.1111111111111111,
             "#46039f"
            ],
            [
             0.2222222222222222,
             "#7201a8"
            ],
            [
             0.3333333333333333,
             "#9c179e"
            ],
            [
             0.4444444444444444,
             "#bd3786"
            ],
            [
             0.5555555555555556,
             "#d8576b"
            ],
            [
             0.6666666666666666,
             "#ed7953"
            ],
            [
             0.7777777777777778,
             "#fb9f3a"
            ],
            [
             0.8888888888888888,
             "#fdca26"
            ],
            [
             1,
             "#f0f921"
            ]
           ],
           "sequentialminus": [
            [
             0,
             "#0d0887"
            ],
            [
             0.1111111111111111,
             "#46039f"
            ],
            [
             0.2222222222222222,
             "#7201a8"
            ],
            [
             0.3333333333333333,
             "#9c179e"
            ],
            [
             0.4444444444444444,
             "#bd3786"
            ],
            [
             0.5555555555555556,
             "#d8576b"
            ],
            [
             0.6666666666666666,
             "#ed7953"
            ],
            [
             0.7777777777777778,
             "#fb9f3a"
            ],
            [
             0.8888888888888888,
             "#fdca26"
            ],
            [
             1,
             "#f0f921"
            ]
           ]
          },
          "colorway": [
           "#636efa",
           "#EF553B",
           "#00cc96",
           "#ab63fa",
           "#FFA15A",
           "#19d3f3",
           "#FF6692",
           "#B6E880",
           "#FF97FF",
           "#FECB52"
          ],
          "font": {
           "color": "#2a3f5f"
          },
          "geo": {
           "bgcolor": "white",
           "lakecolor": "white",
           "landcolor": "#E5ECF6",
           "showlakes": true,
           "showland": true,
           "subunitcolor": "white"
          },
          "hoverlabel": {
           "align": "left"
          },
          "hovermode": "closest",
          "mapbox": {
           "style": "light"
          },
          "paper_bgcolor": "white",
          "plot_bgcolor": "#E5ECF6",
          "polar": {
           "angularaxis": {
            "gridcolor": "white",
            "linecolor": "white",
            "ticks": ""
           },
           "bgcolor": "#E5ECF6",
           "radialaxis": {
            "gridcolor": "white",
            "linecolor": "white",
            "ticks": ""
           }
          },
          "scene": {
           "xaxis": {
            "backgroundcolor": "#E5ECF6",
            "gridcolor": "white",
            "gridwidth": 2,
            "linecolor": "white",
            "showbackground": true,
            "ticks": "",
            "zerolinecolor": "white"
           },
           "yaxis": {
            "backgroundcolor": "#E5ECF6",
            "gridcolor": "white",
            "gridwidth": 2,
            "linecolor": "white",
            "showbackground": true,
            "ticks": "",
            "zerolinecolor": "white"
           },
           "zaxis": {
            "backgroundcolor": "#E5ECF6",
            "gridcolor": "white",
            "gridwidth": 2,
            "linecolor": "white",
            "showbackground": true,
            "ticks": "",
            "zerolinecolor": "white"
           }
          },
          "shapedefaults": {
           "line": {
            "color": "#2a3f5f"
           }
          },
          "ternary": {
           "aaxis": {
            "gridcolor": "white",
            "linecolor": "white",
            "ticks": ""
           },
           "baxis": {
            "gridcolor": "white",
            "linecolor": "white",
            "ticks": ""
           },
           "bgcolor": "#E5ECF6",
           "caxis": {
            "gridcolor": "white",
            "linecolor": "white",
            "ticks": ""
           }
          },
          "title": {
           "x": 0.05
          },
          "xaxis": {
           "automargin": true,
           "gridcolor": "white",
           "linecolor": "white",
           "ticks": "",
           "title": {
            "standoff": 15
           },
           "zerolinecolor": "white",
           "zerolinewidth": 2
          },
          "yaxis": {
           "automargin": true,
           "gridcolor": "white",
           "linecolor": "white",
           "ticks": "",
           "title": {
            "standoff": 15
           },
           "zerolinecolor": "white",
           "zerolinewidth": 2
          }
         }
        },
        "xaxis": {
         "anchor": "y",
         "domain": [
          0,
          1
         ],
         "title": {
          "text": "CHECKUP"
         }
        },
        "yaxis": {
         "anchor": "x",
         "domain": [
          0,
          1
         ],
         "title": {
          "text": "death1m"
         }
        }
       }
      }
     },
     "metadata": {}
    }
   ],
   "source": [
    "## Plot checkup/death 1M\n",
    "fig = px.scatter(df, x = 'CHECKUP', y = 'death1m', hover_name=\"state_id\", hover_data=[\"state_id\", \"CityName\"])\n",
    "fig.show()"
   ]
  }
 ],
 "metadata": {
  "language_info": {
   "codemirror_mode": {
    "name": "ipython",
    "version": 3
   },
   "file_extension": ".py",
   "mimetype": "text/x-python",
   "name": "python",
   "nbconvert_exporter": "python",
   "pygments_lexer": "ipython3",
   "version": "3.7.4-final"
  },
  "orig_nbformat": 2,
  "kernelspec": {
   "name": "python37464bit57b6f9ccbb32478090b08801bfad4612",
   "display_name": "Python 3.7.4 64-bit"
  }
 },
 "nbformat": 4,
 "nbformat_minor": 2
}